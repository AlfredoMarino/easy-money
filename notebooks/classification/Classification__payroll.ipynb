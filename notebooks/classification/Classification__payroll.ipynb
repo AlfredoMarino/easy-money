{
 "cells": [
  {
   "cell_type": "markdown",
   "source": [
    "# Easy Money - Classification"
   ],
   "metadata": {
    "collapsed": false,
    "pycharm": {
     "name": "#%% md\n"
    },
    "id": "raAhUG7KoA4g"
   }
  },
  {
   "cell_type": "code",
   "execution_count": 1,
   "metadata": {
    "collapsed": true,
    "id": "VyoKMqDVoA4m"
   },
   "outputs": [],
   "source": [
    "import pandas as pd\n",
    "import numpy as np\n",
    "import matplotlib.pyplot as plt\n",
    "import seaborn as sns\n",
    "import graphviz\n",
    "\n",
    "from sklearn.metrics import accuracy_score, precision_score, recall_score, f1_score, roc_auc_score, roc_curve,\\\n",
    "    plot_confusion_matrix\n",
    "from sklearn.base import BaseEstimator, TransformerMixin\n",
    "from sklearn.model_selection import train_test_split\n",
    "\n",
    "from datetime import datetime\n",
    "from xgboost import XGBClassifier, plot_importance\n",
    "from xgboost import plot_tree"
   ]
  },
  {
   "cell_type": "markdown",
   "source": [
    "## Configurations"
   ],
   "metadata": {
    "collapsed": false,
    "pycharm": {
     "name": "#%% md\n"
    },
    "id": "uvokKYqgoA4q"
   }
  },
  {
   "cell_type": "markdown",
   "source": [
    "Para la validación solo dejamos el último mes, porque es el mes que nos interesa para la recomendación de productos. Para desarrollo (train+test) - 16 meses Train: 80% de esos 16 meses Test: 20% random Validación: último mes"
   ],
   "metadata": {
    "id": "-0iS9xGwRO0-"
   }
  },
  {
   "cell_type": "code",
   "execution_count": 2,
   "outputs": [],
   "source": [
    "TARGET = \"payroll\"\n",
    "\n",
    "__DATA_PATH__ = \"../../data\"\n",
    "__DATASET__ = f\"{__DATA_PATH__}/processed/easy_money_classification_prep.csv\"\n",
    "__MODEL_METRICS_REPORT__ = f\"{__DATA_PATH__}/result/model_metrics.csv\"\n",
    "__POTENTIAL_CLIENTS_PATH__ = f\"{__DATA_PATH__}/result/potential_clients\"\n",
    "\n",
    "DEV_PARTITION_PERIOD = (\"2018-01-28\", \"2019-04-28\")\n",
    "VAL_PARTITION_PERIOD = (\"2019-05-28\", \"2019-05-28\")\n",
    "\n",
    "EXCLUDE_COLUMNS = [\"pk_cid\", \"pk_partition\"]\n",
    "RANDOM_STATE = 123\n",
    "DO_UNDER_SAMPLING = True"
   ],
   "metadata": {
    "pycharm": {
     "name": "#%%\n"
    },
    "id": "EZUjoXQ1oA4r"
   }
  },
  {
   "cell_type": "markdown",
   "source": [
    "## Import data"
   ],
   "metadata": {
    "collapsed": false,
    "pycharm": {
     "name": "#%% md\n"
    },
    "id": "7Lec5UZ4oA4s"
   }
  },
  {
   "cell_type": "code",
   "execution_count": 3,
   "outputs": [],
   "source": [
    "dtypes = {'pk_cid': 'int64', 'active_customer': 'int8',\n",
    "          'region_code': 'int8', 'gender': 'int8', 'age': 'int8', 'deceased': 'int8',\n",
    "          'short_term_deposit': 'int8', 'loans': 'int8', 'mortgage': 'int8',\n",
    "          'funds': 'int8', 'securities': 'int8', 'long_term_deposit': 'int8',\n",
    "          'em_account_pp': 'int8', 'credit_card': 'int8', 'payroll': 'int8',\n",
    "          'pension_plan': 'int8', 'payroll_account': 'int8', 'emc_account': 'int8',\n",
    "          'debit_card': 'int8', 'em_account_p': 'int8', 'em_acount': 'int8',\n",
    "          'entry_date_month': 'int8', 'entry_date_year': 'int8', 'entry_date_day': 'int8',\n",
    "          'entry_date_week': 'int8', 'entry_date_weekday': 'int8', 'entry_date_trim': 'int8',\n",
    "          'salary': 'float64', 'entry_channel_004': 'int8', 'entry_channel_007': 'int8',\n",
    "          'entry_channel_013': 'int8', 'entry_channel_KAA': 'int8', 'entry_channel_KAB': 'int8',\n",
    "          'entry_channel_KAD': 'int8', 'entry_channel_KAE': 'int8', 'entry_channel_KAF': 'int8',\n",
    "          'entry_channel_KAG': 'int8', 'entry_channel_KAH': 'int8', 'entry_channel_KAI': 'int8',\n",
    "          'entry_channel_KAJ': 'int8', 'entry_channel_KAK': 'int8', 'entry_channel_KAM': 'int8',\n",
    "          'entry_channel_KAQ': 'int8', 'entry_channel_KAR': 'int8', 'entry_channel_KAS': 'int8',\n",
    "          'entry_channel_KAT': 'int8', 'entry_channel_KAW': 'int8', 'entry_channel_KAY': 'int8',\n",
    "          'entry_channel_KAZ': 'int8', 'entry_channel_KBE': 'int8', 'entry_channel_KBG': 'int8',\n",
    "          'entry_channel_KBH': 'int8', 'entry_channel_KBO': 'int8', 'entry_channel_KBU': 'int8',\n",
    "          'entry_channel_KBW': 'int8', 'entry_channel_KBY': 'int8', 'entry_channel_KBZ': 'int8',\n",
    "          'entry_channel_KCB': 'int8', 'entry_channel_KCC': 'int8', 'entry_channel_KCH': 'int8',\n",
    "          'entry_channel_KCI': 'int8', 'entry_channel_KCK': 'int8', 'entry_channel_KCL': 'int8',\n",
    "          'entry_channel_KDA': 'int8', 'entry_channel_KDH': 'int8', 'entry_channel_KDR': 'int8',\n",
    "          'entry_channel_KDS': 'int8', 'entry_channel_KDT': 'int8', 'entry_channel_KEH': 'int8',\n",
    "          'entry_channel_KEJ': 'int8', 'entry_channel_KES': 'int8', 'entry_channel_KEY': 'int8',\n",
    "          'entry_channel_KFA': 'int8', 'entry_channel_KFC': 'int8', 'entry_channel_KFD': 'int8',\n",
    "          'entry_channel_KFF': 'int8', 'entry_channel_KFK': 'int8', 'entry_channel_KFL': 'int8',\n",
    "          'entry_channel_KFP': 'int8', 'entry_channel_KFS': 'int8', 'entry_channel_KGC': 'int8',\n",
    "          'entry_channel_KGN': 'int8', 'entry_channel_KGX': 'int8', 'entry_channel_KHC': 'int8',\n",
    "          'entry_channel_KHD': 'int8', 'entry_channel_KHE': 'int8', 'entry_channel_KHF': 'int8',\n",
    "          'entry_channel_KHK': 'int8', 'entry_channel_KHL': 'int8', 'entry_channel_KHM': 'int8',\n",
    "          'entry_channel_KHN': 'int8', 'entry_channel_KHO': 'int8', 'entry_channel_KHP': 'int8',\n",
    "          'entry_channel_KHQ': 'int8', 'entry_channel_KHS': 'int8', 'entry_channel_RED': 'int8',\n",
    "          'entry_channel_UNKNOWN': 'int8', 'segment_00 - OTROS': 'int8',\n",
    "          'segment_01 - TOP': 'int8', 'segment_02 - PARTICULARES': 'int8',\n",
    "          'segment_03 - UNIVERSITARIO': 'int8', 'country_id_AR': 'int8', 'country_id_AT': 'int8',\n",
    "          'country_id_BE': 'int8', 'country_id_BR': 'int8', 'country_id_CA': 'int8',\n",
    "          'country_id_CH': 'int8', 'country_id_CI': 'int8', 'country_id_CL': 'int8',\n",
    "          'country_id_CM': 'int8', 'country_id_CN': 'int8', 'country_id_CO': 'int8',\n",
    "          'country_id_DE': 'int8', 'country_id_DJ': 'int8', 'country_id_DO': 'int8',\n",
    "          'country_id_DZ': 'int8', 'country_id_ES': 'int8', 'country_id_ET': 'int8',\n",
    "          'country_id_FR': 'int8', 'country_id_GA': 'int8', 'country_id_GB': 'int8',\n",
    "          'country_id_GT': 'int8', 'country_id_HU': 'int8', 'country_id_IE': 'int8',\n",
    "          'country_id_IT': 'int8', 'country_id_JM': 'int8', 'country_id_LU': 'int8',\n",
    "          'country_id_MA': 'int8', 'country_id_MR': 'int8', 'country_id_MX': 'int8',\n",
    "          'country_id_NO': 'int8', 'country_id_PE': 'int8', 'country_id_PL': 'int8',\n",
    "          'country_id_PT': 'int8', 'country_id_QA': 'int8', 'country_id_RO': 'int8',\n",
    "          'country_id_RU': 'int8', 'country_id_SA': 'int8', 'country_id_SE': 'int8',\n",
    "          'country_id_SN': 'int8', 'country_id_US': 'int8', 'country_id_VE': 'int8'}\n",
    "\n",
    "parse_dates = ['pk_partition']"
   ],
   "metadata": {
    "pycharm": {
     "name": "#%%\n"
    },
    "id": "D7pC2TbNoA4s"
   }
  },
  {
   "cell_type": "code",
   "execution_count": 4,
   "outputs": [
    {
     "name": "stdout",
     "output_type": "stream",
     "text": [
      "<class 'pandas.core.frame.DataFrame'>\n",
      "RangeIndex: 5962838 entries, 0 to 5962837\n",
      "Columns: 143 entries, pk_cid to country_id_VE\n",
      "dtypes: datetime64[ns](1), float64(1), int64(1), int8(140)\n",
      "memory usage: 932.6 MB\n",
      "Wall time: 56.8 s\n"
     ]
    }
   ],
   "source": [
    "%%time\n",
    "df = pd.read_csv(__DATASET__, dtype=dtypes, parse_dates=parse_dates)\n",
    "df.drop(\"Unnamed: 0\", axis=1, inplace=True)\n",
    "df.drop(\"entry_date\", axis=1, inplace=True)\n",
    "df[\"pk_partition\"] = pd.to_datetime(df[\"pk_partition\"])\n",
    "df.info(memory_usage=\"deep\")"
   ],
   "metadata": {
    "pycharm": {
     "name": "#%%\n"
    },
    "id": "4EGxt0LsoA4v",
    "colab": {
     "base_uri": "https://localhost:8080/"
    },
    "executionInfo": {
     "status": "ok",
     "timestamp": 1650651707086,
     "user_tz": -120,
     "elapsed": 63350,
     "user": {
      "displayName": "nerea dominguez cabezas",
      "userId": "01946356256277218181"
     }
    },
    "outputId": "d49d2a07-d14b-4cb6-da2b-8df9d70d55ac"
   }
  },
  {
   "cell_type": "code",
   "execution_count": 5,
   "outputs": [
    {
     "data": {
      "text/plain": "    pk_cid pk_partition  active_customer  region_code  gender  age  deceased  \\\n0    15891   2018-07-28                1           28       1   59         0   \n1    15891   2018-08-28                0           28       1   59         0   \n2    16063   2018-11-28                1           28       1   62         0   \n3    16063   2018-12-28                1           28       1   62         0   \n4    16063   2019-01-28                1           28       1   62         0   \n5    16063   2019-02-28                1           28       1   62         0   \n6    16063   2019-03-28                0           28       1   62         0   \n7    16063   2019-04-28                1           28       1   62         0   \n8    16063   2019-05-28                0           28       1   62         0   \n9    16203   2018-12-28                0            8       0   70         0   \n10   16203   2019-01-28                1            8       0   70         0   \n11   16203   2019-02-28                1            8       0   70         0   \n12   16203   2019-03-28                1            8       0   70         0   \n13   16203   2019-04-28                1            8       0   70         0   \n14   16203   2019-05-28                1            8       0   70         0   \n15   16502   2018-09-28                0           28       1   57         0   \n16   16502   2018-10-28                1           28       1   58         0   \n17   16502   2018-11-28                1           28       1   58         0   \n18   16502   2018-12-28                1           28       1   58         0   \n19   16502   2019-01-28                1           28       1   58         0   \n\n    short_term_deposit  loans  mortgage  ...  country_id_PL  country_id_PT  \\\n0                    0      0         0  ...              0              0   \n1                    0      0         0  ...              0              0   \n2                    0      0         0  ...              0              0   \n3                    0      0         0  ...              0              0   \n4                    0      0         0  ...              0              0   \n5                    0      0         0  ...              0              0   \n6                    0      0         0  ...              0              0   \n7                    0      0         0  ...              0              0   \n8                    0      0         0  ...              0              0   \n9                    0      0         0  ...              0              0   \n10                   0      0         0  ...              0              0   \n11                   0      0         0  ...              0              0   \n12                   0      0         0  ...              0              0   \n13                   0      0         0  ...              0              0   \n14                   0      0         0  ...              0              0   \n15                   0      0         0  ...              0              0   \n16                   0      0         0  ...              0              0   \n17                   0      0         0  ...              0              0   \n18                   0      0         0  ...              0              0   \n19                   0      0         0  ...              0              0   \n\n    country_id_QA  country_id_RO  country_id_RU  country_id_SA  country_id_SE  \\\n0               0              0              0              0              0   \n1               0              0              0              0              0   \n2               0              0              0              0              0   \n3               0              0              0              0              0   \n4               0              0              0              0              0   \n5               0              0              0              0              0   \n6               0              0              0              0              0   \n7               0              0              0              0              0   \n8               0              0              0              0              0   \n9               0              0              0              0              0   \n10              0              0              0              0              0   \n11              0              0              0              0              0   \n12              0              0              0              0              0   \n13              0              0              0              0              0   \n14              0              0              0              0              0   \n15              0              0              0              0              0   \n16              0              0              0              0              0   \n17              0              0              0              0              0   \n18              0              0              0              0              0   \n19              0              0              0              0              0   \n\n    country_id_SN  country_id_US  country_id_VE  \n0               0              0              0  \n1               0              0              0  \n2               0              0              0  \n3               0              0              0  \n4               0              0              0  \n5               0              0              0  \n6               0              0              0  \n7               0              0              0  \n8               0              0              0  \n9               0              0              0  \n10              0              0              0  \n11              0              0              0  \n12              0              0              0  \n13              0              0              0  \n14              0              0              0  \n15              0              0              0  \n16              0              0              0  \n17              0              0              0  \n18              0              0              0  \n19              0              0              0  \n\n[20 rows x 143 columns]",
      "text/html": "<div>\n<style scoped>\n    .dataframe tbody tr th:only-of-type {\n        vertical-align: middle;\n    }\n\n    .dataframe tbody tr th {\n        vertical-align: top;\n    }\n\n    .dataframe thead th {\n        text-align: right;\n    }\n</style>\n<table border=\"1\" class=\"dataframe\">\n  <thead>\n    <tr style=\"text-align: right;\">\n      <th></th>\n      <th>pk_cid</th>\n      <th>pk_partition</th>\n      <th>active_customer</th>\n      <th>region_code</th>\n      <th>gender</th>\n      <th>age</th>\n      <th>deceased</th>\n      <th>short_term_deposit</th>\n      <th>loans</th>\n      <th>mortgage</th>\n      <th>...</th>\n      <th>country_id_PL</th>\n      <th>country_id_PT</th>\n      <th>country_id_QA</th>\n      <th>country_id_RO</th>\n      <th>country_id_RU</th>\n      <th>country_id_SA</th>\n      <th>country_id_SE</th>\n      <th>country_id_SN</th>\n      <th>country_id_US</th>\n      <th>country_id_VE</th>\n    </tr>\n  </thead>\n  <tbody>\n    <tr>\n      <th>0</th>\n      <td>15891</td>\n      <td>2018-07-28</td>\n      <td>1</td>\n      <td>28</td>\n      <td>1</td>\n      <td>59</td>\n      <td>0</td>\n      <td>0</td>\n      <td>0</td>\n      <td>0</td>\n      <td>...</td>\n      <td>0</td>\n      <td>0</td>\n      <td>0</td>\n      <td>0</td>\n      <td>0</td>\n      <td>0</td>\n      <td>0</td>\n      <td>0</td>\n      <td>0</td>\n      <td>0</td>\n    </tr>\n    <tr>\n      <th>1</th>\n      <td>15891</td>\n      <td>2018-08-28</td>\n      <td>0</td>\n      <td>28</td>\n      <td>1</td>\n      <td>59</td>\n      <td>0</td>\n      <td>0</td>\n      <td>0</td>\n      <td>0</td>\n      <td>...</td>\n      <td>0</td>\n      <td>0</td>\n      <td>0</td>\n      <td>0</td>\n      <td>0</td>\n      <td>0</td>\n      <td>0</td>\n      <td>0</td>\n      <td>0</td>\n      <td>0</td>\n    </tr>\n    <tr>\n      <th>2</th>\n      <td>16063</td>\n      <td>2018-11-28</td>\n      <td>1</td>\n      <td>28</td>\n      <td>1</td>\n      <td>62</td>\n      <td>0</td>\n      <td>0</td>\n      <td>0</td>\n      <td>0</td>\n      <td>...</td>\n      <td>0</td>\n      <td>0</td>\n      <td>0</td>\n      <td>0</td>\n      <td>0</td>\n      <td>0</td>\n      <td>0</td>\n      <td>0</td>\n      <td>0</td>\n      <td>0</td>\n    </tr>\n    <tr>\n      <th>3</th>\n      <td>16063</td>\n      <td>2018-12-28</td>\n      <td>1</td>\n      <td>28</td>\n      <td>1</td>\n      <td>62</td>\n      <td>0</td>\n      <td>0</td>\n      <td>0</td>\n      <td>0</td>\n      <td>...</td>\n      <td>0</td>\n      <td>0</td>\n      <td>0</td>\n      <td>0</td>\n      <td>0</td>\n      <td>0</td>\n      <td>0</td>\n      <td>0</td>\n      <td>0</td>\n      <td>0</td>\n    </tr>\n    <tr>\n      <th>4</th>\n      <td>16063</td>\n      <td>2019-01-28</td>\n      <td>1</td>\n      <td>28</td>\n      <td>1</td>\n      <td>62</td>\n      <td>0</td>\n      <td>0</td>\n      <td>0</td>\n      <td>0</td>\n      <td>...</td>\n      <td>0</td>\n      <td>0</td>\n      <td>0</td>\n      <td>0</td>\n      <td>0</td>\n      <td>0</td>\n      <td>0</td>\n      <td>0</td>\n      <td>0</td>\n      <td>0</td>\n    </tr>\n    <tr>\n      <th>5</th>\n      <td>16063</td>\n      <td>2019-02-28</td>\n      <td>1</td>\n      <td>28</td>\n      <td>1</td>\n      <td>62</td>\n      <td>0</td>\n      <td>0</td>\n      <td>0</td>\n      <td>0</td>\n      <td>...</td>\n      <td>0</td>\n      <td>0</td>\n      <td>0</td>\n      <td>0</td>\n      <td>0</td>\n      <td>0</td>\n      <td>0</td>\n      <td>0</td>\n      <td>0</td>\n      <td>0</td>\n    </tr>\n    <tr>\n      <th>6</th>\n      <td>16063</td>\n      <td>2019-03-28</td>\n      <td>0</td>\n      <td>28</td>\n      <td>1</td>\n      <td>62</td>\n      <td>0</td>\n      <td>0</td>\n      <td>0</td>\n      <td>0</td>\n      <td>...</td>\n      <td>0</td>\n      <td>0</td>\n      <td>0</td>\n      <td>0</td>\n      <td>0</td>\n      <td>0</td>\n      <td>0</td>\n      <td>0</td>\n      <td>0</td>\n      <td>0</td>\n    </tr>\n    <tr>\n      <th>7</th>\n      <td>16063</td>\n      <td>2019-04-28</td>\n      <td>1</td>\n      <td>28</td>\n      <td>1</td>\n      <td>62</td>\n      <td>0</td>\n      <td>0</td>\n      <td>0</td>\n      <td>0</td>\n      <td>...</td>\n      <td>0</td>\n      <td>0</td>\n      <td>0</td>\n      <td>0</td>\n      <td>0</td>\n      <td>0</td>\n      <td>0</td>\n      <td>0</td>\n      <td>0</td>\n      <td>0</td>\n    </tr>\n    <tr>\n      <th>8</th>\n      <td>16063</td>\n      <td>2019-05-28</td>\n      <td>0</td>\n      <td>28</td>\n      <td>1</td>\n      <td>62</td>\n      <td>0</td>\n      <td>0</td>\n      <td>0</td>\n      <td>0</td>\n      <td>...</td>\n      <td>0</td>\n      <td>0</td>\n      <td>0</td>\n      <td>0</td>\n      <td>0</td>\n      <td>0</td>\n      <td>0</td>\n      <td>0</td>\n      <td>0</td>\n      <td>0</td>\n    </tr>\n    <tr>\n      <th>9</th>\n      <td>16203</td>\n      <td>2018-12-28</td>\n      <td>0</td>\n      <td>8</td>\n      <td>0</td>\n      <td>70</td>\n      <td>0</td>\n      <td>0</td>\n      <td>0</td>\n      <td>0</td>\n      <td>...</td>\n      <td>0</td>\n      <td>0</td>\n      <td>0</td>\n      <td>0</td>\n      <td>0</td>\n      <td>0</td>\n      <td>0</td>\n      <td>0</td>\n      <td>0</td>\n      <td>0</td>\n    </tr>\n    <tr>\n      <th>10</th>\n      <td>16203</td>\n      <td>2019-01-28</td>\n      <td>1</td>\n      <td>8</td>\n      <td>0</td>\n      <td>70</td>\n      <td>0</td>\n      <td>0</td>\n      <td>0</td>\n      <td>0</td>\n      <td>...</td>\n      <td>0</td>\n      <td>0</td>\n      <td>0</td>\n      <td>0</td>\n      <td>0</td>\n      <td>0</td>\n      <td>0</td>\n      <td>0</td>\n      <td>0</td>\n      <td>0</td>\n    </tr>\n    <tr>\n      <th>11</th>\n      <td>16203</td>\n      <td>2019-02-28</td>\n      <td>1</td>\n      <td>8</td>\n      <td>0</td>\n      <td>70</td>\n      <td>0</td>\n      <td>0</td>\n      <td>0</td>\n      <td>0</td>\n      <td>...</td>\n      <td>0</td>\n      <td>0</td>\n      <td>0</td>\n      <td>0</td>\n      <td>0</td>\n      <td>0</td>\n      <td>0</td>\n      <td>0</td>\n      <td>0</td>\n      <td>0</td>\n    </tr>\n    <tr>\n      <th>12</th>\n      <td>16203</td>\n      <td>2019-03-28</td>\n      <td>1</td>\n      <td>8</td>\n      <td>0</td>\n      <td>70</td>\n      <td>0</td>\n      <td>0</td>\n      <td>0</td>\n      <td>0</td>\n      <td>...</td>\n      <td>0</td>\n      <td>0</td>\n      <td>0</td>\n      <td>0</td>\n      <td>0</td>\n      <td>0</td>\n      <td>0</td>\n      <td>0</td>\n      <td>0</td>\n      <td>0</td>\n    </tr>\n    <tr>\n      <th>13</th>\n      <td>16203</td>\n      <td>2019-04-28</td>\n      <td>1</td>\n      <td>8</td>\n      <td>0</td>\n      <td>70</td>\n      <td>0</td>\n      <td>0</td>\n      <td>0</td>\n      <td>0</td>\n      <td>...</td>\n      <td>0</td>\n      <td>0</td>\n      <td>0</td>\n      <td>0</td>\n      <td>0</td>\n      <td>0</td>\n      <td>0</td>\n      <td>0</td>\n      <td>0</td>\n      <td>0</td>\n    </tr>\n    <tr>\n      <th>14</th>\n      <td>16203</td>\n      <td>2019-05-28</td>\n      <td>1</td>\n      <td>8</td>\n      <td>0</td>\n      <td>70</td>\n      <td>0</td>\n      <td>0</td>\n      <td>0</td>\n      <td>0</td>\n      <td>...</td>\n      <td>0</td>\n      <td>0</td>\n      <td>0</td>\n      <td>0</td>\n      <td>0</td>\n      <td>0</td>\n      <td>0</td>\n      <td>0</td>\n      <td>0</td>\n      <td>0</td>\n    </tr>\n    <tr>\n      <th>15</th>\n      <td>16502</td>\n      <td>2018-09-28</td>\n      <td>0</td>\n      <td>28</td>\n      <td>1</td>\n      <td>57</td>\n      <td>0</td>\n      <td>0</td>\n      <td>0</td>\n      <td>0</td>\n      <td>...</td>\n      <td>0</td>\n      <td>0</td>\n      <td>0</td>\n      <td>0</td>\n      <td>0</td>\n      <td>0</td>\n      <td>0</td>\n      <td>0</td>\n      <td>0</td>\n      <td>0</td>\n    </tr>\n    <tr>\n      <th>16</th>\n      <td>16502</td>\n      <td>2018-10-28</td>\n      <td>1</td>\n      <td>28</td>\n      <td>1</td>\n      <td>58</td>\n      <td>0</td>\n      <td>0</td>\n      <td>0</td>\n      <td>0</td>\n      <td>...</td>\n      <td>0</td>\n      <td>0</td>\n      <td>0</td>\n      <td>0</td>\n      <td>0</td>\n      <td>0</td>\n      <td>0</td>\n      <td>0</td>\n      <td>0</td>\n      <td>0</td>\n    </tr>\n    <tr>\n      <th>17</th>\n      <td>16502</td>\n      <td>2018-11-28</td>\n      <td>1</td>\n      <td>28</td>\n      <td>1</td>\n      <td>58</td>\n      <td>0</td>\n      <td>0</td>\n      <td>0</td>\n      <td>0</td>\n      <td>...</td>\n      <td>0</td>\n      <td>0</td>\n      <td>0</td>\n      <td>0</td>\n      <td>0</td>\n      <td>0</td>\n      <td>0</td>\n      <td>0</td>\n      <td>0</td>\n      <td>0</td>\n    </tr>\n    <tr>\n      <th>18</th>\n      <td>16502</td>\n      <td>2018-12-28</td>\n      <td>1</td>\n      <td>28</td>\n      <td>1</td>\n      <td>58</td>\n      <td>0</td>\n      <td>0</td>\n      <td>0</td>\n      <td>0</td>\n      <td>...</td>\n      <td>0</td>\n      <td>0</td>\n      <td>0</td>\n      <td>0</td>\n      <td>0</td>\n      <td>0</td>\n      <td>0</td>\n      <td>0</td>\n      <td>0</td>\n      <td>0</td>\n    </tr>\n    <tr>\n      <th>19</th>\n      <td>16502</td>\n      <td>2019-01-28</td>\n      <td>1</td>\n      <td>28</td>\n      <td>1</td>\n      <td>58</td>\n      <td>0</td>\n      <td>0</td>\n      <td>0</td>\n      <td>0</td>\n      <td>...</td>\n      <td>0</td>\n      <td>0</td>\n      <td>0</td>\n      <td>0</td>\n      <td>0</td>\n      <td>0</td>\n      <td>0</td>\n      <td>0</td>\n      <td>0</td>\n      <td>0</td>\n    </tr>\n  </tbody>\n</table>\n<p>20 rows × 143 columns</p>\n</div>"
     },
     "execution_count": 5,
     "metadata": {},
     "output_type": "execute_result"
    }
   ],
   "source": [
    "df.head(20)"
   ],
   "metadata": {
    "pycharm": {
     "name": "#%%\n"
    },
    "id": "VEhw5Z0toA4x",
    "colab": {
     "base_uri": "https://localhost:8080/",
     "height": 769
    },
    "executionInfo": {
     "status": "ok",
     "timestamp": 1650651707087,
     "user_tz": -120,
     "elapsed": 29,
     "user": {
      "displayName": "nerea dominguez cabezas",
      "userId": "01946356256277218181"
     }
    },
    "outputId": "7695ca71-ed83-44fc-9fdc-43d14461f82f"
   }
  },
  {
   "cell_type": "code",
   "execution_count": 6,
   "outputs": [
    {
     "data": {
      "text/plain": "                     count          mean            std      min        25%  \\\npk_cid           5962838.0  1.234933e+06  162293.085772  15891.0  1112533.0   \nactive_customer  5962838.0  4.033799e-01       0.490576      0.0        0.0   \nregion_code      5962838.0  2.580417e+01      13.603136     -1.0       13.0   \ngender           5962838.0  5.177870e-01       0.499684      0.0        0.0   \nage              5962838.0  2.976015e+01      11.980074      2.0       22.0   \n...                    ...           ...            ...      ...        ...   \ncountry_id_SA    5962838.0  2.850991e-06       0.001688      0.0        0.0   \ncountry_id_SE    5962838.0  2.683286e-06       0.001638      0.0        0.0   \ncountry_id_SN    5962838.0  2.850991e-06       0.001688      0.0        0.0   \ncountry_id_US    5962838.0  3.270255e-05       0.005719      0.0        0.0   \ncountry_id_VE    5962838.0  1.324872e-05       0.003640      0.0        0.0   \n\n                       50%         75%        max  \npk_cid           1231097.0  1352339.75  1553689.0  \nactive_customer        0.0        1.00        1.0  \nregion_code           28.0       36.00       52.0  \ngender                 1.0        1.00        1.0  \nage                   25.0       34.00      105.0  \n...                    ...         ...        ...  \ncountry_id_SA          0.0        0.00        1.0  \ncountry_id_SE          0.0        0.00        1.0  \ncountry_id_SN          0.0        0.00        1.0  \ncountry_id_US          0.0        0.00        1.0  \ncountry_id_VE          0.0        0.00        1.0  \n\n[142 rows x 8 columns]",
      "text/html": "<div>\n<style scoped>\n    .dataframe tbody tr th:only-of-type {\n        vertical-align: middle;\n    }\n\n    .dataframe tbody tr th {\n        vertical-align: top;\n    }\n\n    .dataframe thead th {\n        text-align: right;\n    }\n</style>\n<table border=\"1\" class=\"dataframe\">\n  <thead>\n    <tr style=\"text-align: right;\">\n      <th></th>\n      <th>count</th>\n      <th>mean</th>\n      <th>std</th>\n      <th>min</th>\n      <th>25%</th>\n      <th>50%</th>\n      <th>75%</th>\n      <th>max</th>\n    </tr>\n  </thead>\n  <tbody>\n    <tr>\n      <th>pk_cid</th>\n      <td>5962838.0</td>\n      <td>1.234933e+06</td>\n      <td>162293.085772</td>\n      <td>15891.0</td>\n      <td>1112533.0</td>\n      <td>1231097.0</td>\n      <td>1352339.75</td>\n      <td>1553689.0</td>\n    </tr>\n    <tr>\n      <th>active_customer</th>\n      <td>5962838.0</td>\n      <td>4.033799e-01</td>\n      <td>0.490576</td>\n      <td>0.0</td>\n      <td>0.0</td>\n      <td>0.0</td>\n      <td>1.00</td>\n      <td>1.0</td>\n    </tr>\n    <tr>\n      <th>region_code</th>\n      <td>5962838.0</td>\n      <td>2.580417e+01</td>\n      <td>13.603136</td>\n      <td>-1.0</td>\n      <td>13.0</td>\n      <td>28.0</td>\n      <td>36.00</td>\n      <td>52.0</td>\n    </tr>\n    <tr>\n      <th>gender</th>\n      <td>5962838.0</td>\n      <td>5.177870e-01</td>\n      <td>0.499684</td>\n      <td>0.0</td>\n      <td>0.0</td>\n      <td>1.0</td>\n      <td>1.00</td>\n      <td>1.0</td>\n    </tr>\n    <tr>\n      <th>age</th>\n      <td>5962838.0</td>\n      <td>2.976015e+01</td>\n      <td>11.980074</td>\n      <td>2.0</td>\n      <td>22.0</td>\n      <td>25.0</td>\n      <td>34.00</td>\n      <td>105.0</td>\n    </tr>\n    <tr>\n      <th>...</th>\n      <td>...</td>\n      <td>...</td>\n      <td>...</td>\n      <td>...</td>\n      <td>...</td>\n      <td>...</td>\n      <td>...</td>\n      <td>...</td>\n    </tr>\n    <tr>\n      <th>country_id_SA</th>\n      <td>5962838.0</td>\n      <td>2.850991e-06</td>\n      <td>0.001688</td>\n      <td>0.0</td>\n      <td>0.0</td>\n      <td>0.0</td>\n      <td>0.00</td>\n      <td>1.0</td>\n    </tr>\n    <tr>\n      <th>country_id_SE</th>\n      <td>5962838.0</td>\n      <td>2.683286e-06</td>\n      <td>0.001638</td>\n      <td>0.0</td>\n      <td>0.0</td>\n      <td>0.0</td>\n      <td>0.00</td>\n      <td>1.0</td>\n    </tr>\n    <tr>\n      <th>country_id_SN</th>\n      <td>5962838.0</td>\n      <td>2.850991e-06</td>\n      <td>0.001688</td>\n      <td>0.0</td>\n      <td>0.0</td>\n      <td>0.0</td>\n      <td>0.00</td>\n      <td>1.0</td>\n    </tr>\n    <tr>\n      <th>country_id_US</th>\n      <td>5962838.0</td>\n      <td>3.270255e-05</td>\n      <td>0.005719</td>\n      <td>0.0</td>\n      <td>0.0</td>\n      <td>0.0</td>\n      <td>0.00</td>\n      <td>1.0</td>\n    </tr>\n    <tr>\n      <th>country_id_VE</th>\n      <td>5962838.0</td>\n      <td>1.324872e-05</td>\n      <td>0.003640</td>\n      <td>0.0</td>\n      <td>0.0</td>\n      <td>0.0</td>\n      <td>0.00</td>\n      <td>1.0</td>\n    </tr>\n  </tbody>\n</table>\n<p>142 rows × 8 columns</p>\n</div>"
     },
     "execution_count": 6,
     "metadata": {},
     "output_type": "execute_result"
    }
   ],
   "source": [
    "df.describe().T"
   ],
   "metadata": {
    "pycharm": {
     "name": "#%%\n"
    },
    "id": "wuHGdfaWoA4x",
    "colab": {
     "base_uri": "https://localhost:8080/",
     "height": 424
    },
    "executionInfo": {
     "status": "ok",
     "timestamp": 1650651718465,
     "user_tz": -120,
     "elapsed": 11387,
     "user": {
      "displayName": "nerea dominguez cabezas",
      "userId": "01946356256277218181"
     }
    },
    "outputId": "f3189cd0-a843-43c6-c4b9-3612a8f3032d"
   }
  },
  {
   "cell_type": "markdown",
   "source": [
    "## Classes"
   ],
   "metadata": {
    "collapsed": false,
    "pycharm": {
     "name": "#%% md\n"
    },
    "id": "Xxm5QubdoA4y"
   }
  },
  {
   "cell_type": "code",
   "execution_count": 8,
   "outputs": [
    {
     "name": "stdout",
     "output_type": "stream",
     "text": [
      "../../data/result/model_metrics.csv\n"
     ]
    }
   ],
   "source": [
    "class EasyMoneyFilter(BaseEstimator, TransformerMixin):\n",
    "    \"\"\"\n",
    "    Filtro que toma el registro de la primera compra del target\n",
    "    y un 0 al azar, en caso de que nunca hubo compra\n",
    "    se regresa un solo registro (aleatoriamente) y en caso\n",
    "    de que todos fueran compras, devuelve solo la primera\n",
    "    \"\"\"\n",
    "\n",
    "    def __init__(self, target: str, group_by=\"pk_cid\", sort_value=None):\n",
    "        if sort_value is None:\n",
    "            sort_value = [\"pk_cid\", \"pk_partition\"]\n",
    "        self.target = target\n",
    "        self.group_by = group_by\n",
    "        self.sort_values = sort_value\n",
    "\n",
    "    def fit(self, X, y=None):\n",
    "        return self\n",
    "\n",
    "    def transform(self, X, y=None):\n",
    "        return pd.concat([\n",
    "            self.get_fist_sales(X),\n",
    "            self.get_random_no_sales(X)\n",
    "        ]).sort_values(self.sort_values, ignore_index=True)\n",
    "\n",
    "    def get_fist_sales(self, X) -> pd.DataFrame:\n",
    "        first_sale = X.groupby([self.group_by, self.target]).first().reset_index()\n",
    "        return first_sale[first_sale[self.target] == 1]\n",
    "\n",
    "    def get_random_no_sales(self, X) -> pd.DataFrame:\n",
    "        return X[X[self.target] == 0].groupby(self.group_by).sample(n=1, random_state=RANDOM_STATE)\n",
    "\n",
    "    def get_last_no_sales(self, X) -> pd.DataFrame:\n",
    "        last_no_sale = X.groupby([self.group_by, self.target]).last().reset_index()\n",
    "        return last_no_sale[last_no_sale[self.target] == 0]\n",
    "\n",
    "\n",
    "class EasyMoneySplitter:\n",
    "    \"\"\"\n",
    "    Divide el dataset en la particion de desarrollo y la de validacion segun los rangos\n",
    "    de fechas indicadas en los parametros dev_partition_period y val_partition_period.\n",
    "    exclude_columns Si se indican campos a ser excluidos\n",
    "    \"\"\"\n",
    "\n",
    "    def __init__(self, dev_partition_period: tuple, val_partition_period: tuple):\n",
    "        self.dev_partition_period = dev_partition_period\n",
    "        self.val_partition_period = val_partition_period\n",
    "\n",
    "    def get_train_partition(self, dataframe: pd.DataFrame) -> pd.DataFrame:\n",
    "        \"\"\"\n",
    "        Obtiene la particion de train\n",
    "        :param dataframe: dataframe que quiera particionar\n",
    "        :return: dataframe particion para train (ya excluidos los campos indicados)\n",
    "        \"\"\"\n",
    "        # partition = self._split(dataframe, self.dev_partition_period[0], self.dev_partition_period[1])\n",
    "        return self._split(dataframe, self.dev_partition_period[0], self.dev_partition_period[1])\n",
    "\n",
    "    def get_validation_partition(self, dataframe: pd.DataFrame) -> pd.DataFrame:\n",
    "        \"\"\"\n",
    "        Obtiene particion de validacion\n",
    "        :param dataframe: dataframe que quiera particionar\n",
    "        :return: dataframe particion para validacion (ya excluidos los campos indicados)\n",
    "        \"\"\"\n",
    "        return self._split(dataframe, self.val_partition_period[0], self.val_partition_period[1])\n",
    "\n",
    "    def _split(self, dataframe: pd.DataFrame, from_date, to_date) -> pd.DataFrame:\n",
    "        return dataframe[dataframe[\"pk_partition\"].between(from_date, to_date)].reset_index(drop=True)\n",
    "\n",
    "    @staticmethod\n",
    "    def under_sample(dataframe: pd.DataFrame, target: str, is_mostly_zero: bool) -> pd.DataFrame:\n",
    "        \"\"\"\n",
    "        Realiza undersampling\n",
    "        :param dataframe: dataframe a procesar\n",
    "        :param target: target\n",
    "        :param is_mostly_zero: cual clase es la mayoritaria\n",
    "        :return: dataframe sampleado\n",
    "        \"\"\"\n",
    "        non_zeros = dataframe[dataframe[target] == 1]\n",
    "        zeros = dataframe[dataframe[target] == 0]\n",
    "        if is_mostly_zero:\n",
    "            n_zeros = len(non_zeros) * 4\n",
    "            zeros = zeros.sample(n=n_zeros, random_state=RANDOM_STATE)\n",
    "        else:\n",
    "            n_non_zeros = len(zeros) * 4\n",
    "            non_zeros = non_zeros.sample(n=n_non_zeros, random_state=RANDOM_STATE)\n",
    "\n",
    "        return pd.concat([zeros, non_zeros])\n",
    "\n",
    "\n",
    "class Reporter:\n",
    "    \"\"\"\n",
    "    Clase para registrar resultados de la modelizacion\n",
    "    \"\"\"\n",
    "\n",
    "    def __init__(self, output_file):\n",
    "        self.output_file = output_file\n",
    "        try:\n",
    "            print(self.output_file)\n",
    "            self.output_df = pd.read_csv(self.output_file, index_col=0)\n",
    "            self.output_df[\"date\"] = pd.to_datetime(self.output_df[\"date\"])\n",
    "        except FileNotFoundError:\n",
    "            self.output_df = pd.DataFrame(columns=[\n",
    "                \"target\",\n",
    "                \"target_mean\",\n",
    "                \"date\",\n",
    "                \"is_overfitted\",\n",
    "                \"roc_auc_train\",\n",
    "                \"roc_auc_test\",\n",
    "                \"roc_auc_val\",\n",
    "                \"accuracy_train\",\n",
    "                \"accuracy_test\",\n",
    "                \"accuracy_val\",\n",
    "                \"recall_train\",\n",
    "                \"recall_test\",\n",
    "                \"recall_val\",\n",
    "                \"precision_train\",\n",
    "                \"precision_test\",\n",
    "                \"precision_val\",\n",
    "                \"f1_score_train\",\n",
    "                \"f1_score_test\",\n",
    "                \"f1_score_val\",\n",
    "                \"model\"\n",
    "            ])\n",
    "\n",
    "    def append_new_evaluation(self, data: dict):\n",
    "        \"\"\"\n",
    "        Agrega un nuevo registro en memoria\n",
    "        :param data: metricas\n",
    "        \"\"\"\n",
    "        data[\"is_overfitted\"] = round(abs((data[\"roc_auc_train\"] - data[\"roc_auc_test\"])), 2) > 0\n",
    "        data[\"date\"] = datetime.now()\n",
    "        self.output_df = self.output_df.append(data, ignore_index=True)\n",
    "\n",
    "    def record_evaluation(self, target: str, model, X_train, y_train, X_test, y_test, X_val, y_val, target_mean):\n",
    "        \"\"\"\n",
    "        Registra las metricas de los resultados de una modelizacion\n",
    "        :param target: target\n",
    "        :param model: Modelo\n",
    "        :param X_train: dataset de train X\n",
    "        :param y_train: labels de train Y\n",
    "        :param X_test: dataset de test X\n",
    "        :param y_test: labels de test y\n",
    "        :param X_val: dataset de validacion X\n",
    "        :param y_val: labels de validacion y\n",
    "        :param target_mean: media global del target\n",
    "        :return: Todas las metricas guardadas\n",
    "        \"\"\"\n",
    "        train_metrics = get_metrics(model, X_train, y_train)\n",
    "        test_metrics = get_metrics(model, X_test, y_test)\n",
    "        val_metrics = get_metrics(model, X_val, y_val)\n",
    "        report_dict = {\n",
    "            \"target\": target,\n",
    "            \"roc_auc_train\": train_metrics[\"roc_auc\"],\n",
    "            \"roc_auc_test\": test_metrics[\"roc_auc\"],\n",
    "            \"roc_auc_val\": val_metrics[\"roc_auc\"],\n",
    "            \"accuracy_train\": train_metrics[\"accuracy\"],\n",
    "            \"accuracy_test\": test_metrics[\"accuracy\"],\n",
    "            \"accuracy_val\": val_metrics[\"accuracy\"],\n",
    "            \"recall_train\": train_metrics[\"recall\"],\n",
    "            \"recall_test\": test_metrics[\"recall\"],\n",
    "            \"recall_val\": val_metrics[\"recall\"],\n",
    "            \"precision_train\": train_metrics[\"precision\"],\n",
    "            \"precision_test\": test_metrics[\"precision\"],\n",
    "            \"precision_val\": val_metrics[\"precision\"],\n",
    "            \"f1_score_train\": train_metrics[\"f1_score\"],\n",
    "            \"f1_score_test\": test_metrics[\"f1_score\"],\n",
    "            \"f1_score_val\": val_metrics[\"f1_score\"],\n",
    "            \"target_mean\": target_mean,\n",
    "            \"model\": model\n",
    "        }\n",
    "        self.append_new_evaluation(report_dict)\n",
    "        return self.save_csv()\n",
    "\n",
    "    def save_csv(self):\n",
    "        \"\"\"\n",
    "        Guarda en csv los resultados de las evaluaciones\n",
    "        :return: Todas las metricas guardadas\n",
    "        \"\"\"\n",
    "        self.output_df.drop_duplicates(keep=\"last\", inplace=True)\n",
    "        self.output_df.to_csv(self.output_file)\n",
    "        return self.output_df\n",
    "\n",
    "\n",
    "reporter = Reporter(__MODEL_METRICS_REPORT__)"
   ],
   "metadata": {
    "pycharm": {
     "name": "#%%\n"
    },
    "id": "YnT8_nSyoA4z",
    "colab": {
     "base_uri": "https://localhost:8080/"
    },
    "executionInfo": {
     "status": "ok",
     "timestamp": 1650651718825,
     "user_tz": -120,
     "elapsed": 368,
     "user": {
      "displayName": "nerea dominguez cabezas",
      "userId": "01946356256277218181"
     }
    },
    "outputId": "4893dba8-7a45-4deb-dad0-c56233e1e7d0"
   }
  },
  {
   "cell_type": "markdown",
   "source": [
    "## Functions"
   ],
   "metadata": {
    "collapsed": false,
    "pycharm": {
     "name": "#%% md\n"
    },
    "id": "ur1q39XHoA40"
   }
  },
  {
   "cell_type": "code",
   "execution_count": 9,
   "outputs": [],
   "source": [
    "def hist_plot(dataframe: pd.DataFrame, target: str):\n",
    "    \"\"\"\n",
    "    Plotea un Histograma\n",
    "    :param dataframe: dataframe a mostrar\n",
    "    :param target: target\n",
    "    :return: value_counts del dataframe de entrada\n",
    "    \"\"\"\n",
    "    dataframe[target].hist()\n",
    "    plt.show()\n",
    "    print(target)\n",
    "    return dataframe[target].value_counts()\n",
    "\n",
    "\n",
    "def relation_with_target(dataframe: pd.DataFrame, field: str, target: str):\n",
    "    \"\"\"\n",
    "    Describe la relacion de una variable contra el target\n",
    "    usando un countplot y una pivot_table\n",
    "    :param dataframe: dataframe a evaluar\n",
    "    :param field: campo a contrastar con el target\n",
    "    :param target: target\n",
    "    :return: pivot table resumen\n",
    "    \"\"\"\n",
    "    plt.figure(figsize=(15, 5))\n",
    "    plt.xticks(rotation=90)\n",
    "    sns.countplot(data=dataframe, x=field, hue=target)\n",
    "    plt.show()\n",
    "    return dataframe.pivot_table(index=field, values=target, aggfunc=[len, sum, np.mean])\n",
    "\n",
    "\n",
    "def get_y_score(model, X, y) -> pd.DataFrame:\n",
    "    \"\"\"\n",
    "    Obtiene el predictproba\n",
    "    :param model: modelo\n",
    "    :param X: datos a evaluar\n",
    "    :param y: y para obtener los indices\n",
    "    :return: predict_proba dataframe\n",
    "    \"\"\"\n",
    "    return pd.DataFrame(model.predict_proba(X)[:, 1], index=y.index, columns=['score'])\n",
    "\n",
    "\n",
    "def get_metrics(model, X, y):\n",
    "    \"\"\"\n",
    "    Obtiene un diccionario con las metricas del modelo\n",
    "    :param model: modelo\n",
    "    :param X: datos a evaluar\n",
    "    :param y: y\n",
    "    :return: diccionario con metricas\n",
    "    \"\"\"\n",
    "    prediction = model.predict(X)\n",
    "    y_score = get_y_score(model, X, y)\n",
    "    return dict({\n",
    "        \"roc_auc\": roc_auc_score(y, y_score),\n",
    "        \"accuracy\": accuracy_score(y, prediction),\n",
    "        \"precision\": precision_score(y, prediction),\n",
    "        \"recall\": recall_score(y, prediction),\n",
    "        \"f1_score\": f1_score(y, prediction),\n",
    "    })"
   ],
   "metadata": {
    "pycharm": {
     "name": "#%%\n"
    },
    "id": "kzcLXBgboA41"
   }
  },
  {
   "cell_type": "markdown",
   "source": [
    "## Filter data\n",
    "\n",
    "Filtramos los datos para no tener los 17 meses de un cliente sino capturar sus caracteristicas cuando obtuvo el producto por primera vez y tener una muestra de cuando no lo tuvo, aquí se hace un resumen de las características de cada usuario."
   ],
   "metadata": {
    "collapsed": false,
    "pycharm": {
     "name": "#%% md\n"
    },
    "id": "51R_Q3LroA41"
   }
  },
  {
   "cell_type": "code",
   "execution_count": 10,
   "outputs": [
    {
     "data": {
      "text/plain": "         pk_cid  payroll pk_partition  active_customer  region_code  gender  \\\n0         15891        0   2018-08-28                0           28       1   \n1         16063        0   2018-11-28                1           28       1   \n2         16203        0   2019-04-28                1            8       0   \n3         16502        0   2018-12-28                1           28       1   \n4         17457        0   2018-06-28                1           28       1   \n...         ...      ...          ...              ...          ...     ...   \n480290  1553685        0   2019-05-28                0           13       0   \n480291  1553686        0   2019-05-28                0           41       1   \n480292  1553687        0   2019-05-28                0           28       0   \n480293  1553688        0   2019-05-28                0           39       1   \n480294  1553689        0   2019-05-28                0           21       0   \n\n        age  deceased  short_term_deposit  loans  ...  country_id_PL  \\\n0        59         0                   0      0  ...              0   \n1        62         0                   0      0  ...              0   \n2        70         0                   0      0  ...              0   \n3        58         0                   0      0  ...              0   \n4        53         0                   0      0  ...              0   \n...     ...       ...                 ...    ...  ...            ...   \n480290   52         0                   0      0  ...              0   \n480291   30         0                   0      0  ...              0   \n480292   21         0                   0      0  ...              0   \n480293   43         0                   0      0  ...              0   \n480294   40         0                   0      0  ...              0   \n\n        country_id_PT  country_id_QA  country_id_RO  country_id_RU  \\\n0                   0              0              0              0   \n1                   0              0              0              0   \n2                   0              0              0              0   \n3                   0              0              0              0   \n4                   0              0              0              0   \n...               ...            ...            ...            ...   \n480290              0              0              0              0   \n480291              0              0              0              0   \n480292              0              0              0              0   \n480293              0              0              0              0   \n480294              0              0              0              0   \n\n        country_id_SA  country_id_SE  country_id_SN  country_id_US  \\\n0                   0              0              0              0   \n1                   0              0              0              0   \n2                   0              0              0              0   \n3                   0              0              0              0   \n4                   0              0              0              0   \n...               ...            ...            ...            ...   \n480290              0              0              0              0   \n480291              0              0              0              0   \n480292              0              0              0              0   \n480293              0              0              0              0   \n480294              0              0              0              0   \n\n        country_id_VE  \n0                   0  \n1                   0  \n2                   0  \n3                   0  \n4                   0  \n...               ...  \n480290              0  \n480291              0  \n480292              0  \n480293              0  \n480294              0  \n\n[480295 rows x 143 columns]",
      "text/html": "<div>\n<style scoped>\n    .dataframe tbody tr th:only-of-type {\n        vertical-align: middle;\n    }\n\n    .dataframe tbody tr th {\n        vertical-align: top;\n    }\n\n    .dataframe thead th {\n        text-align: right;\n    }\n</style>\n<table border=\"1\" class=\"dataframe\">\n  <thead>\n    <tr style=\"text-align: right;\">\n      <th></th>\n      <th>pk_cid</th>\n      <th>payroll</th>\n      <th>pk_partition</th>\n      <th>active_customer</th>\n      <th>region_code</th>\n      <th>gender</th>\n      <th>age</th>\n      <th>deceased</th>\n      <th>short_term_deposit</th>\n      <th>loans</th>\n      <th>...</th>\n      <th>country_id_PL</th>\n      <th>country_id_PT</th>\n      <th>country_id_QA</th>\n      <th>country_id_RO</th>\n      <th>country_id_RU</th>\n      <th>country_id_SA</th>\n      <th>country_id_SE</th>\n      <th>country_id_SN</th>\n      <th>country_id_US</th>\n      <th>country_id_VE</th>\n    </tr>\n  </thead>\n  <tbody>\n    <tr>\n      <th>0</th>\n      <td>15891</td>\n      <td>0</td>\n      <td>2018-08-28</td>\n      <td>0</td>\n      <td>28</td>\n      <td>1</td>\n      <td>59</td>\n      <td>0</td>\n      <td>0</td>\n      <td>0</td>\n      <td>...</td>\n      <td>0</td>\n      <td>0</td>\n      <td>0</td>\n      <td>0</td>\n      <td>0</td>\n      <td>0</td>\n      <td>0</td>\n      <td>0</td>\n      <td>0</td>\n      <td>0</td>\n    </tr>\n    <tr>\n      <th>1</th>\n      <td>16063</td>\n      <td>0</td>\n      <td>2018-11-28</td>\n      <td>1</td>\n      <td>28</td>\n      <td>1</td>\n      <td>62</td>\n      <td>0</td>\n      <td>0</td>\n      <td>0</td>\n      <td>...</td>\n      <td>0</td>\n      <td>0</td>\n      <td>0</td>\n      <td>0</td>\n      <td>0</td>\n      <td>0</td>\n      <td>0</td>\n      <td>0</td>\n      <td>0</td>\n      <td>0</td>\n    </tr>\n    <tr>\n      <th>2</th>\n      <td>16203</td>\n      <td>0</td>\n      <td>2019-04-28</td>\n      <td>1</td>\n      <td>8</td>\n      <td>0</td>\n      <td>70</td>\n      <td>0</td>\n      <td>0</td>\n      <td>0</td>\n      <td>...</td>\n      <td>0</td>\n      <td>0</td>\n      <td>0</td>\n      <td>0</td>\n      <td>0</td>\n      <td>0</td>\n      <td>0</td>\n      <td>0</td>\n      <td>0</td>\n      <td>0</td>\n    </tr>\n    <tr>\n      <th>3</th>\n      <td>16502</td>\n      <td>0</td>\n      <td>2018-12-28</td>\n      <td>1</td>\n      <td>28</td>\n      <td>1</td>\n      <td>58</td>\n      <td>0</td>\n      <td>0</td>\n      <td>0</td>\n      <td>...</td>\n      <td>0</td>\n      <td>0</td>\n      <td>0</td>\n      <td>0</td>\n      <td>0</td>\n      <td>0</td>\n      <td>0</td>\n      <td>0</td>\n      <td>0</td>\n      <td>0</td>\n    </tr>\n    <tr>\n      <th>4</th>\n      <td>17457</td>\n      <td>0</td>\n      <td>2018-06-28</td>\n      <td>1</td>\n      <td>28</td>\n      <td>1</td>\n      <td>53</td>\n      <td>0</td>\n      <td>0</td>\n      <td>0</td>\n      <td>...</td>\n      <td>0</td>\n      <td>0</td>\n      <td>0</td>\n      <td>0</td>\n      <td>0</td>\n      <td>0</td>\n      <td>0</td>\n      <td>0</td>\n      <td>0</td>\n      <td>0</td>\n    </tr>\n    <tr>\n      <th>...</th>\n      <td>...</td>\n      <td>...</td>\n      <td>...</td>\n      <td>...</td>\n      <td>...</td>\n      <td>...</td>\n      <td>...</td>\n      <td>...</td>\n      <td>...</td>\n      <td>...</td>\n      <td>...</td>\n      <td>...</td>\n      <td>...</td>\n      <td>...</td>\n      <td>...</td>\n      <td>...</td>\n      <td>...</td>\n      <td>...</td>\n      <td>...</td>\n      <td>...</td>\n      <td>...</td>\n    </tr>\n    <tr>\n      <th>480290</th>\n      <td>1553685</td>\n      <td>0</td>\n      <td>2019-05-28</td>\n      <td>0</td>\n      <td>13</td>\n      <td>0</td>\n      <td>52</td>\n      <td>0</td>\n      <td>0</td>\n      <td>0</td>\n      <td>...</td>\n      <td>0</td>\n      <td>0</td>\n      <td>0</td>\n      <td>0</td>\n      <td>0</td>\n      <td>0</td>\n      <td>0</td>\n      <td>0</td>\n      <td>0</td>\n      <td>0</td>\n    </tr>\n    <tr>\n      <th>480291</th>\n      <td>1553686</td>\n      <td>0</td>\n      <td>2019-05-28</td>\n      <td>0</td>\n      <td>41</td>\n      <td>1</td>\n      <td>30</td>\n      <td>0</td>\n      <td>0</td>\n      <td>0</td>\n      <td>...</td>\n      <td>0</td>\n      <td>0</td>\n      <td>0</td>\n      <td>0</td>\n      <td>0</td>\n      <td>0</td>\n      <td>0</td>\n      <td>0</td>\n      <td>0</td>\n      <td>0</td>\n    </tr>\n    <tr>\n      <th>480292</th>\n      <td>1553687</td>\n      <td>0</td>\n      <td>2019-05-28</td>\n      <td>0</td>\n      <td>28</td>\n      <td>0</td>\n      <td>21</td>\n      <td>0</td>\n      <td>0</td>\n      <td>0</td>\n      <td>...</td>\n      <td>0</td>\n      <td>0</td>\n      <td>0</td>\n      <td>0</td>\n      <td>0</td>\n      <td>0</td>\n      <td>0</td>\n      <td>0</td>\n      <td>0</td>\n      <td>0</td>\n    </tr>\n    <tr>\n      <th>480293</th>\n      <td>1553688</td>\n      <td>0</td>\n      <td>2019-05-28</td>\n      <td>0</td>\n      <td>39</td>\n      <td>1</td>\n      <td>43</td>\n      <td>0</td>\n      <td>0</td>\n      <td>0</td>\n      <td>...</td>\n      <td>0</td>\n      <td>0</td>\n      <td>0</td>\n      <td>0</td>\n      <td>0</td>\n      <td>0</td>\n      <td>0</td>\n      <td>0</td>\n      <td>0</td>\n      <td>0</td>\n    </tr>\n    <tr>\n      <th>480294</th>\n      <td>1553689</td>\n      <td>0</td>\n      <td>2019-05-28</td>\n      <td>0</td>\n      <td>21</td>\n      <td>0</td>\n      <td>40</td>\n      <td>0</td>\n      <td>0</td>\n      <td>0</td>\n      <td>...</td>\n      <td>0</td>\n      <td>0</td>\n      <td>0</td>\n      <td>0</td>\n      <td>0</td>\n      <td>0</td>\n      <td>0</td>\n      <td>0</td>\n      <td>0</td>\n      <td>0</td>\n    </tr>\n  </tbody>\n</table>\n<p>480295 rows × 143 columns</p>\n</div>"
     },
     "execution_count": 10,
     "metadata": {},
     "output_type": "execute_result"
    }
   ],
   "source": [
    "filter = EasyMoneyFilter(TARGET)\n",
    "df_prep = filter.fit_transform(df)\n",
    "df_prep"
   ],
   "metadata": {
    "pycharm": {
     "name": "#%%\n"
    },
    "id": "38pa611PoA42",
    "colab": {
     "base_uri": "https://localhost:8080/",
     "height": 487
    },
    "executionInfo": {
     "status": "ok",
     "timestamp": 1650652131854,
     "user_tz": -120,
     "elapsed": 413032,
     "user": {
      "displayName": "nerea dominguez cabezas",
      "userId": "01946356256277218181"
     }
    },
    "outputId": "18f3be93-0efb-41c1-e3f4-81bf408fb09f"
   }
  },
  {
   "cell_type": "markdown",
   "source": [
    "## Target distribution"
   ],
   "metadata": {
    "collapsed": false,
    "pycharm": {
     "name": "#%% md\n"
    },
    "id": "n8tIdxVnoA43"
   }
  },
  {
   "cell_type": "code",
   "execution_count": 11,
   "outputs": [
    {
     "data": {
      "text/plain": "                    count          mean            std      min        25%  \\\npk_cid           480295.0  1.274117e+06  178778.993325  15891.0  1142944.5   \npayroll          480295.0  5.599684e-02       0.229916      0.0        0.0   \nactive_customer  480295.0  4.111432e-01       0.492042      0.0        0.0   \nregion_code      480295.0  2.588932e+01      13.509432     -1.0       13.0   \ngender           480295.0  5.099991e-01       0.499901      0.0        0.0   \n...                   ...           ...            ...      ...        ...   \ncountry_id_SA    480295.0  2.082054e-06       0.001443      0.0        0.0   \ncountry_id_SE    480295.0  4.164107e-06       0.002041      0.0        0.0   \ncountry_id_SN    480295.0  2.082054e-06       0.001443      0.0        0.0   \ncountry_id_US    480295.0  3.123081e-05       0.005588      0.0        0.0   \ncountry_id_VE    480295.0  1.041027e-05       0.003226      0.0        0.0   \n\n                       50%        75%        max  \npk_cid           1283185.0  1421036.5  1553689.0  \npayroll                0.0        0.0        1.0  \nactive_customer        0.0        1.0        1.0  \nregion_code           28.0       36.0       52.0  \ngender                 1.0        1.0        1.0  \n...                    ...        ...        ...  \ncountry_id_SA          0.0        0.0        1.0  \ncountry_id_SE          0.0        0.0        1.0  \ncountry_id_SN          0.0        0.0        1.0  \ncountry_id_US          0.0        0.0        1.0  \ncountry_id_VE          0.0        0.0        1.0  \n\n[142 rows x 8 columns]",
      "text/html": "<div>\n<style scoped>\n    .dataframe tbody tr th:only-of-type {\n        vertical-align: middle;\n    }\n\n    .dataframe tbody tr th {\n        vertical-align: top;\n    }\n\n    .dataframe thead th {\n        text-align: right;\n    }\n</style>\n<table border=\"1\" class=\"dataframe\">\n  <thead>\n    <tr style=\"text-align: right;\">\n      <th></th>\n      <th>count</th>\n      <th>mean</th>\n      <th>std</th>\n      <th>min</th>\n      <th>25%</th>\n      <th>50%</th>\n      <th>75%</th>\n      <th>max</th>\n    </tr>\n  </thead>\n  <tbody>\n    <tr>\n      <th>pk_cid</th>\n      <td>480295.0</td>\n      <td>1.274117e+06</td>\n      <td>178778.993325</td>\n      <td>15891.0</td>\n      <td>1142944.5</td>\n      <td>1283185.0</td>\n      <td>1421036.5</td>\n      <td>1553689.0</td>\n    </tr>\n    <tr>\n      <th>payroll</th>\n      <td>480295.0</td>\n      <td>5.599684e-02</td>\n      <td>0.229916</td>\n      <td>0.0</td>\n      <td>0.0</td>\n      <td>0.0</td>\n      <td>0.0</td>\n      <td>1.0</td>\n    </tr>\n    <tr>\n      <th>active_customer</th>\n      <td>480295.0</td>\n      <td>4.111432e-01</td>\n      <td>0.492042</td>\n      <td>0.0</td>\n      <td>0.0</td>\n      <td>0.0</td>\n      <td>1.0</td>\n      <td>1.0</td>\n    </tr>\n    <tr>\n      <th>region_code</th>\n      <td>480295.0</td>\n      <td>2.588932e+01</td>\n      <td>13.509432</td>\n      <td>-1.0</td>\n      <td>13.0</td>\n      <td>28.0</td>\n      <td>36.0</td>\n      <td>52.0</td>\n    </tr>\n    <tr>\n      <th>gender</th>\n      <td>480295.0</td>\n      <td>5.099991e-01</td>\n      <td>0.499901</td>\n      <td>0.0</td>\n      <td>0.0</td>\n      <td>1.0</td>\n      <td>1.0</td>\n      <td>1.0</td>\n    </tr>\n    <tr>\n      <th>...</th>\n      <td>...</td>\n      <td>...</td>\n      <td>...</td>\n      <td>...</td>\n      <td>...</td>\n      <td>...</td>\n      <td>...</td>\n      <td>...</td>\n    </tr>\n    <tr>\n      <th>country_id_SA</th>\n      <td>480295.0</td>\n      <td>2.082054e-06</td>\n      <td>0.001443</td>\n      <td>0.0</td>\n      <td>0.0</td>\n      <td>0.0</td>\n      <td>0.0</td>\n      <td>1.0</td>\n    </tr>\n    <tr>\n      <th>country_id_SE</th>\n      <td>480295.0</td>\n      <td>4.164107e-06</td>\n      <td>0.002041</td>\n      <td>0.0</td>\n      <td>0.0</td>\n      <td>0.0</td>\n      <td>0.0</td>\n      <td>1.0</td>\n    </tr>\n    <tr>\n      <th>country_id_SN</th>\n      <td>480295.0</td>\n      <td>2.082054e-06</td>\n      <td>0.001443</td>\n      <td>0.0</td>\n      <td>0.0</td>\n      <td>0.0</td>\n      <td>0.0</td>\n      <td>1.0</td>\n    </tr>\n    <tr>\n      <th>country_id_US</th>\n      <td>480295.0</td>\n      <td>3.123081e-05</td>\n      <td>0.005588</td>\n      <td>0.0</td>\n      <td>0.0</td>\n      <td>0.0</td>\n      <td>0.0</td>\n      <td>1.0</td>\n    </tr>\n    <tr>\n      <th>country_id_VE</th>\n      <td>480295.0</td>\n      <td>1.041027e-05</td>\n      <td>0.003226</td>\n      <td>0.0</td>\n      <td>0.0</td>\n      <td>0.0</td>\n      <td>0.0</td>\n      <td>1.0</td>\n    </tr>\n  </tbody>\n</table>\n<p>142 rows × 8 columns</p>\n</div>"
     },
     "execution_count": 11,
     "metadata": {},
     "output_type": "execute_result"
    }
   ],
   "source": [
    "df_prep.describe().T"
   ],
   "metadata": {
    "pycharm": {
     "name": "#%%\n"
    },
    "id": "vnLwJKLtoA43",
    "colab": {
     "base_uri": "https://localhost:8080/",
     "height": 424
    },
    "executionInfo": {
     "status": "ok",
     "timestamp": 1650652133313,
     "user_tz": -120,
     "elapsed": 1467,
     "user": {
      "displayName": "nerea dominguez cabezas",
      "userId": "01946356256277218181"
     }
    },
    "outputId": "b1ec6cc1-12a3-40cd-d1c9-1fe3c5e151c0"
   }
  },
  {
   "cell_type": "code",
   "execution_count": 12,
   "outputs": [
    {
     "data": {
      "text/plain": "<Figure size 432x288 with 1 Axes>",
      "image/png": "[encoded data removed]"
     },
     "metadata": {
      "needs_background": "light"
     },
     "output_type": "display_data"
    },
    {
     "name": "stdout",
     "output_type": "stream",
     "text": [
      "payroll\n"
     ]
    },
    {
     "data": {
      "text/plain": "0    453400\n1     26895\nName: payroll, dtype: int64"
     },
     "execution_count": 12,
     "metadata": {},
     "output_type": "execute_result"
    }
   ],
   "source": [
    "hist_plot(df_prep, TARGET)"
   ],
   "metadata": {
    "pycharm": {
     "name": "#%%\n"
    },
    "id": "plc8A-GloA44",
    "colab": {
     "base_uri": "https://localhost:8080/",
     "height": 337
    },
    "executionInfo": {
     "status": "ok",
     "timestamp": 1650652133661,
     "user_tz": -120,
     "elapsed": 363,
     "user": {
      "displayName": "nerea dominguez cabezas",
      "userId": "01946356256277218181"
     }
    },
    "outputId": "60472fc2-0c64-4f91-9d3f-50d2bb1ee170"
   }
  },
  {
   "cell_type": "markdown",
   "source": [
    "Coolwarm: gráfico de correlación entre las variables, se puede apreciar que los campos payroll y pension_plan están muy correlacionadas entre ellos"
   ],
   "metadata": {
    "collapsed": false,
    "pycharm": {
     "name": "#%% md\n"
    },
    "id": "nZSDqQGuoA46"
   }
  },
  {
   "cell_type": "code",
   "execution_count": 13,
   "outputs": [
    {
     "data": {
      "text/plain": "<pandas.io.formats.style.Styler at 0x1ef7f904040>",
      "text/html": "<style type=\"text/css\">\n#T_e87d7_row0_col0, #T_e87d7_row1_col1, #T_e87d7_row2_col2, #T_e87d7_row3_col3, #T_e87d7_row4_col4, #T_e87d7_row5_col5, #T_e87d7_row6_col6, #T_e87d7_row7_col7, #T_e87d7_row8_col8, #T_e87d7_row9_col9, #T_e87d7_row10_col10, #T_e87d7_row11_col11, #T_e87d7_row12_col12, #T_e87d7_row13_col13, #T_e87d7_row14_col14, #T_e87d7_row15_col15, #T_e87d7_row16_col16, #T_e87d7_row17_col17, #T_e87d7_row18_col18, #T_e87d7_row19_col19 {\n  background-color: #b40426;\n  color: #f1f1f1;\n}\n#T_e87d7_row0_col1, #T_e87d7_row6_col3 {\n  background-color: #ccd9ed;\n  color: #000000;\n}\n#T_e87d7_row0_col2, #T_e87d7_row6_col2, #T_e87d7_row8_col5, #T_e87d7_row9_col2, #T_e87d7_row16_col2, #T_e87d7_row17_col2, #T_e87d7_row18_col4 {\n  background-color: #5470de;\n  color: #f1f1f1;\n}\n#T_e87d7_row0_col3, #T_e87d7_row13_col18 {\n  background-color: #d1dae9;\n  color: #000000;\n}\n#T_e87d7_row0_col4, #T_e87d7_row1_col2, #T_e87d7_row5_col4, #T_e87d7_row6_col4, #T_e87d7_row8_col4, #T_e87d7_row9_col4, #T_e87d7_row13_col4, #T_e87d7_row14_col6, #T_e87d7_row15_col4, #T_e87d7_row15_col5, #T_e87d7_row15_col6, #T_e87d7_row18_col17 {\n  background-color: #4b64d5;\n  color: #f1f1f1;\n}\n#T_e87d7_row0_col5, #T_e87d7_row2_col8, #T_e87d7_row9_col5, #T_e87d7_row11_col2, #T_e87d7_row12_col2, #T_e87d7_row13_col6, #T_e87d7_row16_col8 {\n  background-color: #4e68d8;\n  color: #f1f1f1;\n}\n#T_e87d7_row0_col6, #T_e87d7_row7_col6, #T_e87d7_row19_col9 {\n  background-color: #516ddb;\n  color: #f1f1f1;\n}\n#T_e87d7_row0_col7, #T_e87d7_row11_col6, #T_e87d7_row16_col11 {\n  background-color: #6384eb;\n  color: #f1f1f1;\n}\n#T_e87d7_row0_col8, #T_e87d7_row7_col16, #T_e87d7_row8_col14, #T_e87d7_row8_col16, #T_e87d7_row15_col1, #T_e87d7_row19_col2 {\n  background-color: #81a4fb;\n  color: #f1f1f1;\n}\n#T_e87d7_row0_col9, #T_e87d7_row9_col0 {\n  background-color: #b8122a;\n  color: #f1f1f1;\n}\n#T_e87d7_row0_col10 {\n  background-color: #f59d7e;\n  color: #000000;\n}\n#T_e87d7_row0_col11, #T_e87d7_row4_col14, #T_e87d7_row7_col14, #T_e87d7_row11_col0 {\n  background-color: #92b4fe;\n  color: #000000;\n}\n#T_e87d7_row0_col12, #T_e87d7_row5_col19, #T_e87d7_row6_col19 {\n  background-color: #c9d7f0;\n  color: #000000;\n}\n#T_e87d7_row0_col13, #T_e87d7_row1_col13, #T_e87d7_row3_col13, #T_e87d7_row9_col13, #T_e87d7_row10_col13 {\n  background-color: #3c4ec2;\n  color: #f1f1f1;\n}\n#T_e87d7_row0_col14, #T_e87d7_row1_col5, #T_e87d7_row3_col6, #T_e87d7_row14_col7, #T_e87d7_row14_col17, #T_e87d7_row16_col12 {\n  background-color: #5d7ce6;\n  color: #f1f1f1;\n}\n#T_e87d7_row0_col15, #T_e87d7_row1_col15, #T_e87d7_row2_col15, #T_e87d7_row6_col13, #T_e87d7_row9_col15, #T_e87d7_row10_col15 {\n  background-color: #3f53c6;\n  color: #f1f1f1;\n}\n#T_e87d7_row0_col16, #T_e87d7_row1_col8, #T_e87d7_row6_col9 {\n  background-color: #7da0f9;\n  color: #f1f1f1;\n}\n#T_e87d7_row0_col17, #T_e87d7_row2_col11, #T_e87d7_row5_col6, #T_e87d7_row6_col5, #T_e87d7_row6_col7, #T_e87d7_row9_col17, #T_e87d7_row16_col0 {\n  background-color: #6788ee;\n  color: #f1f1f1;\n}\n#T_e87d7_row0_col18 {\n  background-color: #e7d7ce;\n  color: #000000;\n}\n#T_e87d7_row0_col19, #T_e87d7_row11_col1 {\n  background-color: #bcd2f7;\n  color: #000000;\n}\n#T_e87d7_row1_col0, #T_e87d7_row17_col18 {\n  background-color: #c3d5f4;\n  color: #000000;\n}\n#T_e87d7_row1_col3, #T_e87d7_row9_col18, #T_e87d7_row17_col3 {\n  background-color: #e8d6cc;\n  color: #000000;\n}\n#T_e87d7_row1_col4, #T_e87d7_row2_col7, #T_e87d7_row13_col2, #T_e87d7_row15_col2 {\n  background-color: #5a78e4;\n  color: #f1f1f1;\n}\n#T_e87d7_row1_col6, #T_e87d7_row2_col17, #T_e87d7_row17_col8 {\n  background-color: #5e7de7;\n  color: #f1f1f1;\n}\n#T_e87d7_row1_col7, #T_e87d7_row3_col0, #T_e87d7_row4_col17, #T_e87d7_row6_col11 {\n  background-color: #8caffe;\n  color: #000000;\n}\n#T_e87d7_row1_col9 {\n  background-color: #c5d6f2;\n  color: #000000;\n}\n#T_e87d7_row1_col10 {\n  background-color: #dedcdb;\n  color: #000000;\n}\n#T_e87d7_row1_col11 {\n  background-color: #b1cbfc;\n  color: #000000;\n}\n#T_e87d7_row1_col12 {\n  background-color: #dbdcde;\n  color: #000000;\n}\n#T_e87d7_row1_col14, #T_e87d7_row18_col10 {\n  background-color: #c4d5f3;\n  color: #000000;\n}\n#T_e87d7_row1_col16, #T_e87d7_row5_col9 {\n  background-color: #7a9df8;\n  color: #f1f1f1;\n}\n#T_e87d7_row1_col17, #T_e87d7_row2_col10, #T_e87d7_row17_col14 {\n  background-color: #8db0fe;\n  color: #000000;\n}\n#T_e87d7_row1_col18 {\n  background-color: #f3c8b2;\n  color: #000000;\n}\n#T_e87d7_row1_col19, #T_e87d7_row12_col11 {\n  background-color: #a1c0ff;\n  color: #000000;\n}\n#T_e87d7_row2_col0, #T_e87d7_row3_col14, #T_e87d7_row8_col7, #T_e87d7_row8_col17, #T_e87d7_row17_col5, #T_e87d7_row19_col10 {\n  background-color: #6c8ff1;\n  color: #f1f1f1;\n}\n#T_e87d7_row2_col1, #T_e87d7_row12_col16, #T_e87d7_row13_col11, #T_e87d7_row15_col0, #T_e87d7_row17_col12 {\n  background-color: #7396f5;\n  color: #f1f1f1;\n}\n#T_e87d7_row2_col3, #T_e87d7_row14_col18 {\n  background-color: #afcafc;\n  color: #000000;\n}\n#T_e87d7_row2_col4, #T_e87d7_row4_col5, #T_e87d7_row4_col6, #T_e87d7_row11_col4, #T_e87d7_row12_col4, #T_e87d7_row13_col5 {\n  background-color: #4961d2;\n  color: #f1f1f1;\n}\n#T_e87d7_row2_col5, #T_e87d7_row17_col15 {\n  background-color: #445acc;\n  color: #f1f1f1;\n}\n#T_e87d7_row2_col6, #T_e87d7_row7_col15, #T_e87d7_row11_col15 {\n  background-color: #4358cb;\n  color: #f1f1f1;\n}\n#T_e87d7_row2_col9, #T_e87d7_row4_col12, #T_e87d7_row18_col7 {\n  background-color: #6f92f3;\n  color: #f1f1f1;\n}\n#T_e87d7_row2_col12, #T_e87d7_row9_col7, #T_e87d7_row12_col7, #T_e87d7_row14_col2 {\n  background-color: #6485ec;\n  color: #f1f1f1;\n}\n#T_e87d7_row2_col13, #T_e87d7_row4_col13, #T_e87d7_row5_col13, #T_e87d7_row7_col13, #T_e87d7_row8_col13, #T_e87d7_row10_col14, #T_e87d7_row11_col13, #T_e87d7_row12_col13, #T_e87d7_row14_col0, #T_e87d7_row14_col9, #T_e87d7_row14_col10, #T_e87d7_row14_col13, #T_e87d7_row14_col15, #T_e87d7_row15_col13, #T_e87d7_row16_col13, #T_e87d7_row18_col2, #T_e87d7_row18_col13, #T_e87d7_row18_col15, #T_e87d7_row18_col19, #T_e87d7_row19_col1, #T_e87d7_row19_col3, #T_e87d7_row19_col4, #T_e87d7_row19_col5, #T_e87d7_row19_col6, #T_e87d7_row19_col7, #T_e87d7_row19_col8, #T_e87d7_row19_col11, #T_e87d7_row19_col12, #T_e87d7_row19_col13, #T_e87d7_row19_col16, #T_e87d7_row19_col17, #T_e87d7_row19_col18 {\n  background-color: #3b4cc0;\n  color: #f1f1f1;\n}\n#T_e87d7_row2_col14, #T_e87d7_row8_col0 {\n  background-color: #9dbdff;\n  color: #000000;\n}\n#T_e87d7_row2_col16, #T_e87d7_row9_col8, #T_e87d7_row16_col10 {\n  background-color: #84a7fc;\n  color: #f1f1f1;\n}\n#T_e87d7_row2_col18 {\n  background-color: #bfd3f6;\n  color: #000000;\n}\n#T_e87d7_row2_col19 {\n  background-color: #e3d9d3;\n  color: #000000;\n}\n#T_e87d7_row3_col1, #T_e87d7_row8_col19, #T_e87d7_row13_col3 {\n  background-color: #c1d4f4;\n  color: #000000;\n}\n#T_e87d7_row3_col2, #T_e87d7_row5_col15, #T_e87d7_row6_col15, #T_e87d7_row8_col15 {\n  background-color: #4257c9;\n  color: #f1f1f1;\n}\n#T_e87d7_row3_col4, #T_e87d7_row13_col7, #T_e87d7_row14_col11 {\n  background-color: #5f7fe8;\n  color: #f1f1f1;\n}\n#T_e87d7_row3_col5, #T_e87d7_row4_col7, #T_e87d7_row5_col8, #T_e87d7_row17_col6, #T_e87d7_row18_col14 {\n  background-color: #6180e9;\n  color: #f1f1f1;\n}\n#T_e87d7_row3_col7, #T_e87d7_row8_col11, #T_e87d7_row14_col3 {\n  background-color: #a2c1ff;\n  color: #000000;\n}\n#T_e87d7_row3_col8, #T_e87d7_row4_col0, #T_e87d7_row13_col0, #T_e87d7_row15_col9, #T_e87d7_row17_col4 {\n  background-color: #7597f6;\n  color: #f1f1f1;\n}\n#T_e87d7_row3_col9, #T_e87d7_row4_col10, #T_e87d7_row5_col1, #T_e87d7_row15_col10 {\n  background-color: #93b5fe;\n  color: #000000;\n}\n#T_e87d7_row3_col10 {\n  background-color: #b5cdfa;\n  color: #000000;\n}\n#T_e87d7_row3_col11 {\n  background-color: #b9d0f9;\n  color: #000000;\n}\n#T_e87d7_row3_col12, #T_e87d7_row8_col1 {\n  background-color: #a5c3fe;\n  color: #000000;\n}\n#T_e87d7_row3_col15, #T_e87d7_row12_col15, #T_e87d7_row16_col15 {\n  background-color: #3e51c5;\n  color: #f1f1f1;\n}\n#T_e87d7_row3_col16 {\n  background-color: #9bbcff;\n  color: #000000;\n}\n#T_e87d7_row3_col17, #T_e87d7_row18_col11 {\n  background-color: #abc8fd;\n  color: #000000;\n}\n#T_e87d7_row3_col18 {\n  background-color: #f08a6c;\n  color: #f1f1f1;\n}\n#T_e87d7_row3_col19, #T_e87d7_row18_col6 {\n  background-color: #5673e0;\n  color: #f1f1f1;\n}\n#T_e87d7_row4_col1 {\n  background-color: #90b2fe;\n  color: #000000;\n}\n#T_e87d7_row4_col2, #T_e87d7_row12_col6, #T_e87d7_row15_col8, #T_e87d7_row16_col7 {\n  background-color: #5875e1;\n  color: #f1f1f1;\n}\n#T_e87d7_row4_col3, #T_e87d7_row9_col1, #T_e87d7_row12_col9, #T_e87d7_row16_col3, #T_e87d7_row18_col1 {\n  background-color: #cdd9ec;\n  color: #000000;\n}\n#T_e87d7_row4_col8, #T_e87d7_row5_col2, #T_e87d7_row7_col2, #T_e87d7_row10_col6, #T_e87d7_row13_col8 {\n  background-color: #5572df;\n  color: #f1f1f1;\n}\n#T_e87d7_row4_col9, #T_e87d7_row7_col5, #T_e87d7_row7_col12, #T_e87d7_row13_col9, #T_e87d7_row15_col11, #T_e87d7_row17_col0 {\n  background-color: #7699f6;\n  color: #f1f1f1;\n}\n#T_e87d7_row4_col11, #T_e87d7_row13_col12, #T_e87d7_row16_col1 {\n  background-color: #7295f4;\n  color: #f1f1f1;\n}\n#T_e87d7_row4_col15, #T_e87d7_row13_col15, #T_e87d7_row14_col8 {\n  background-color: #4055c8;\n  color: #f1f1f1;\n}\n#T_e87d7_row4_col16, #T_e87d7_row11_col8, #T_e87d7_row13_col16 {\n  background-color: #88abfd;\n  color: #000000;\n}\n#T_e87d7_row4_col18, #T_e87d7_row5_col18 {\n  background-color: #d6dce4;\n  color: #000000;\n}\n#T_e87d7_row4_col19 {\n  background-color: #c7d7f0;\n  color: #000000;\n}\n#T_e87d7_row5_col0, #T_e87d7_row5_col12, #T_e87d7_row7_col0, #T_e87d7_row10_col16, #T_e87d7_row16_col14, #T_e87d7_row17_col9, #T_e87d7_row18_col8 {\n  background-color: #779af7;\n  color: #f1f1f1;\n}\n#T_e87d7_row5_col3, #T_e87d7_row15_col18 {\n  background-color: #cedaeb;\n  color: #000000;\n}\n#T_e87d7_row5_col7 {\n  background-color: #8badfd;\n  color: #000000;\n}\n#T_e87d7_row5_col10, #T_e87d7_row7_col10, #T_e87d7_row16_col19 {\n  background-color: #9abbff;\n  color: #000000;\n}\n#T_e87d7_row5_col11, #T_e87d7_row15_col14 {\n  background-color: #8fb1fe;\n  color: #000000;\n}\n#T_e87d7_row5_col14, #T_e87d7_row6_col14, #T_e87d7_row11_col9, #T_e87d7_row12_col8, #T_e87d7_row13_col10 {\n  background-color: #96b7ff;\n  color: #000000;\n}\n#T_e87d7_row5_col16, #T_e87d7_row6_col16 {\n  background-color: #85a8fc;\n  color: #f1f1f1;\n}\n#T_e87d7_row5_col17, #T_e87d7_row15_col16 {\n  background-color: #86a9fc;\n  color: #f1f1f1;\n}\n#T_e87d7_row6_col0, #T_e87d7_row6_col17, #T_e87d7_row9_col16 {\n  background-color: #7b9ff9;\n  color: #f1f1f1;\n}\n#T_e87d7_row6_col1, #T_e87d7_row9_col11, #T_e87d7_row13_col14 {\n  background-color: #94b6ff;\n  color: #000000;\n}\n#T_e87d7_row6_col8, #T_e87d7_row10_col7, #T_e87d7_row11_col5, #T_e87d7_row12_col17, #T_e87d7_row13_col17, #T_e87d7_row14_col12 {\n  background-color: #6687ed;\n  color: #f1f1f1;\n}\n#T_e87d7_row6_col10 {\n  background-color: #9ebeff;\n  color: #000000;\n}\n#T_e87d7_row6_col12, #T_e87d7_row17_col16 {\n  background-color: #80a3fa;\n  color: #f1f1f1;\n}\n#T_e87d7_row6_col18 {\n  background-color: #d8dce2;\n  color: #000000;\n}\n#T_e87d7_row7_col1 {\n  background-color: #a9c6fd;\n  color: #000000;\n}\n#T_e87d7_row7_col3 {\n  background-color: #e5d8d1;\n  color: #000000;\n}\n#T_e87d7_row7_col4 {\n  background-color: #4c66d6;\n  color: #f1f1f1;\n}\n#T_e87d7_row7_col8, #T_e87d7_row15_col7 {\n  background-color: #6282ea;\n  color: #f1f1f1;\n}\n#T_e87d7_row7_col9, #T_e87d7_row11_col16 {\n  background-color: #799cf8;\n  color: #f1f1f1;\n}\n#T_e87d7_row7_col11, #T_e87d7_row17_col1 {\n  background-color: #a7c5fe;\n  color: #000000;\n}\n#T_e87d7_row7_col17, #T_e87d7_row10_col3 {\n  background-color: #d7dce3;\n  color: #000000;\n}\n#T_e87d7_row7_col18 {\n  background-color: #d9dce1;\n  color: #000000;\n}\n#T_e87d7_row7_col19, #T_e87d7_row9_col19, #T_e87d7_row18_col12 {\n  background-color: #bbd1f8;\n  color: #000000;\n}\n#T_e87d7_row8_col2, #T_e87d7_row9_col6, #T_e87d7_row10_col2, #T_e87d7_row18_col5 {\n  background-color: #536edd;\n  color: #f1f1f1;\n}\n#T_e87d7_row8_col3, #T_e87d7_row9_col3 {\n  background-color: #d3dbe7;\n  color: #000000;\n}\n#T_e87d7_row8_col6, #T_e87d7_row18_col16 {\n  background-color: #5977e3;\n  color: #f1f1f1;\n}\n#T_e87d7_row8_col9, #T_e87d7_row10_col11, #T_e87d7_row11_col12, #T_e87d7_row18_col0 {\n  background-color: #9fbfff;\n  color: #000000;\n}\n#T_e87d7_row8_col10 {\n  background-color: #c6d6f1;\n  color: #000000;\n}\n#T_e87d7_row8_col12, #T_e87d7_row11_col19 {\n  background-color: #adc9fd;\n  color: #000000;\n}\n#T_e87d7_row8_col18 {\n  background-color: #e1dad6;\n  color: #000000;\n}\n#T_e87d7_row9_col10 {\n  background-color: #f4987a;\n  color: #000000;\n}\n#T_e87d7_row9_col12 {\n  background-color: #cbd8ee;\n  color: #000000;\n}\n#T_e87d7_row9_col14, #T_e87d7_row16_col17 {\n  background-color: #5b7ae5;\n  color: #f1f1f1;\n}\n#T_e87d7_row10_col0 {\n  background-color: #f7a98b;\n  color: #000000;\n}\n#T_e87d7_row10_col1, #T_e87d7_row17_col7 {\n  background-color: #d5dbe5;\n  color: #000000;\n}\n#T_e87d7_row10_col4, #T_e87d7_row14_col5, #T_e87d7_row16_col4 {\n  background-color: #4a63d3;\n  color: #f1f1f1;\n}\n#T_e87d7_row10_col5, #T_e87d7_row19_col0 {\n  background-color: #506bda;\n  color: #f1f1f1;\n}\n#T_e87d7_row10_col8, #T_e87d7_row11_col7, #T_e87d7_row17_col10 {\n  background-color: #97b8ff;\n  color: #000000;\n}\n#T_e87d7_row10_col9 {\n  background-color: #f6a385;\n  color: #000000;\n}\n#T_e87d7_row10_col12 {\n  background-color: #dddcdc;\n  color: #000000;\n}\n#T_e87d7_row10_col17, #T_e87d7_row15_col17, #T_e87d7_row16_col9 {\n  background-color: #688aef;\n  color: #f1f1f1;\n}\n#T_e87d7_row10_col18, #T_e87d7_row12_col10 {\n  background-color: #ebd3c6;\n  color: #000000;\n}\n#T_e87d7_row10_col19, #T_e87d7_row17_col19 {\n  background-color: #b7cff9;\n  color: #000000;\n}\n#T_e87d7_row11_col3 {\n  background-color: #e9d5cb;\n  color: #000000;\n}\n#T_e87d7_row11_col10 {\n  background-color: #bad0f8;\n  color: #000000;\n}\n#T_e87d7_row11_col14, #T_e87d7_row13_col1 {\n  background-color: #82a6fb;\n  color: #f1f1f1;\n}\n#T_e87d7_row11_col17 {\n  background-color: #a6c4fe;\n  color: #000000;\n}\n#T_e87d7_row11_col18 {\n  background-color: #ecd3c5;\n  color: #000000;\n}\n#T_e87d7_row12_col0 {\n  background-color: #cad8ef;\n  color: #000000;\n}\n#T_e87d7_row12_col1 {\n  background-color: #e2dad5;\n  color: #000000;\n}\n#T_e87d7_row12_col3 {\n  background-color: #dfdbd9;\n  color: #000000;\n}\n#T_e87d7_row12_col5 {\n  background-color: #4f69d9;\n  color: #f1f1f1;\n}\n#T_e87d7_row12_col14 {\n  background-color: #89acfd;\n  color: #000000;\n}\n#T_e87d7_row12_col18, #T_e87d7_row14_col19 {\n  background-color: #f1ccb8;\n  color: #000000;\n}\n#T_e87d7_row12_col19 {\n  background-color: #aec9fc;\n  color: #000000;\n}\n#T_e87d7_row13_col19, #T_e87d7_row19_col14 {\n  background-color: #d2dbe8;\n  color: #000000;\n}\n#T_e87d7_row14_col1 {\n  background-color: #b6cefa;\n  color: #000000;\n}\n#T_e87d7_row14_col4 {\n  background-color: #485fd1;\n  color: #f1f1f1;\n}\n#T_e87d7_row14_col16 {\n  background-color: #6a8bef;\n  color: #f1f1f1;\n}\n#T_e87d7_row15_col3 {\n  background-color: #c0d4f5;\n  color: #000000;\n}\n#T_e87d7_row15_col12 {\n  background-color: #7093f3;\n  color: #f1f1f1;\n}\n#T_e87d7_row15_col19 {\n  background-color: #d4dbe6;\n  color: #000000;\n}\n#T_e87d7_row16_col5, #T_e87d7_row16_col6, #T_e87d7_row19_col15 {\n  background-color: #455cce;\n  color: #f1f1f1;\n}\n#T_e87d7_row16_col18 {\n  background-color: #b3cdfb;\n  color: #000000;\n}\n#T_e87d7_row17_col11 {\n  background-color: #b2ccfb;\n  color: #000000;\n}\n#T_e87d7_row17_col13 {\n  background-color: #3d50c3;\n  color: #f1f1f1;\n}\n#T_e87d7_row18_col3 {\n  background-color: #f39475;\n  color: #000000;\n}\n#T_e87d7_row18_col9 {\n  background-color: #a3c2fe;\n  color: #000000;\n}\n</style>\n<table id=\"T_e87d7_\">\n  <thead>\n    <tr>\n      <th class=\"blank level0\" >&nbsp;</th>\n      <th class=\"col_heading level0 col0\" >payroll</th>\n      <th class=\"col_heading level0 col1\" >active_customer</th>\n      <th class=\"col_heading level0 col2\" >gender</th>\n      <th class=\"col_heading level0 col3\" >age</th>\n      <th class=\"col_heading level0 col4\" >short_term_deposit</th>\n      <th class=\"col_heading level0 col5\" >funds</th>\n      <th class=\"col_heading level0 col6\" >securities</th>\n      <th class=\"col_heading level0 col7\" >long_term_deposit</th>\n      <th class=\"col_heading level0 col8\" >credit_card</th>\n      <th class=\"col_heading level0 col9\" >pension_plan</th>\n      <th class=\"col_heading level0 col10\" >payroll_account</th>\n      <th class=\"col_heading level0 col11\" >emc_account</th>\n      <th class=\"col_heading level0 col12\" >debit_card</th>\n      <th class=\"col_heading level0 col13\" >em_account_p</th>\n      <th class=\"col_heading level0 col14\" >em_acount</th>\n      <th class=\"col_heading level0 col15\" >salary</th>\n      <th class=\"col_heading level0 col16\" >segment_00 - OTROS</th>\n      <th class=\"col_heading level0 col17\" >segment_01 - TOP</th>\n      <th class=\"col_heading level0 col18\" >segment_02 - PARTICULARES</th>\n      <th class=\"col_heading level0 col19\" >segment_03 - UNIVERSITARIO</th>\n    </tr>\n  </thead>\n  <tbody>\n    <tr>\n      <th id=\"T_e87d7_level0_row0\" class=\"row_heading level0 row0\" >payroll</th>\n      <td id=\"T_e87d7_row0_col0\" class=\"data row0 col0\" >1.000000</td>\n      <td id=\"T_e87d7_row0_col1\" class=\"data row0 col1\" >0.282090</td>\n      <td id=\"T_e87d7_row0_col2\" class=\"data row0 col2\" >-0.022434</td>\n      <td id=\"T_e87d7_row0_col3\" class=\"data row0 col3\" >0.087342</td>\n      <td id=\"T_e87d7_row0_col4\" class=\"data row0 col4\" >0.002232</td>\n      <td id=\"T_e87d7_row0_col5\" class=\"data row0 col5\" >0.014169</td>\n      <td id=\"T_e87d7_row0_col6\" class=\"data row0 col6\" >0.028021</td>\n      <td id=\"T_e87d7_row0_col7\" class=\"data row0 col7\" >0.013329</td>\n      <td id=\"T_e87d7_row0_col8\" class=\"data row0 col8\" >0.140883</td>\n      <td id=\"T_e87d7_row0_col9\" class=\"data row0 col9\" >0.982475</td>\n      <td id=\"T_e87d7_row0_col10\" class=\"data row0 col10\" >0.645800</td>\n      <td id=\"T_e87d7_row0_col11\" class=\"data row0 col11\" >0.106403</td>\n      <td id=\"T_e87d7_row0_col12\" class=\"data row0 col12\" >0.308092</td>\n      <td id=\"T_e87d7_row0_col13\" class=\"data row0 col13\" >0.003015</td>\n      <td id=\"T_e87d7_row0_col14\" class=\"data row0 col14\" >-0.216385</td>\n      <td id=\"T_e87d7_row0_col15\" class=\"data row0 col15\" >-0.002171</td>\n      <td id=\"T_e87d7_row0_col16\" class=\"data row0 col16\" >-0.044586</td>\n      <td id=\"T_e87d7_row0_col17\" class=\"data row0 col17\" >0.007819</td>\n      <td id=\"T_e87d7_row0_col18\" class=\"data row0 col18\" >0.153394</td>\n      <td id=\"T_e87d7_row0_col19\" class=\"data row0 col19\" >-0.126584</td>\n    </tr>\n    <tr>\n      <th id=\"T_e87d7_level0_row1\" class=\"row_heading level0 row1\" >active_customer</th>\n      <td id=\"T_e87d7_row1_col0\" class=\"data row1 col0\" >0.282090</td>\n      <td id=\"T_e87d7_row1_col1\" class=\"data row1 col1\" >1.000000</td>\n      <td id=\"T_e87d7_row1_col2\" class=\"data row1 col2\" >-0.053712</td>\n      <td id=\"T_e87d7_row1_col3\" class=\"data row1 col3\" >0.235262</td>\n      <td id=\"T_e87d7_row1_col4\" class=\"data row1 col4\" >0.051595</td>\n      <td id=\"T_e87d7_row1_col5\" class=\"data row1 col5\" >0.063180</td>\n      <td id=\"T_e87d7_row1_col6\" class=\"data row1 col6\" >0.068500</td>\n      <td id=\"T_e87d7_row1_col7\" class=\"data row1 col7\" >0.144096</td>\n      <td id=\"T_e87d7_row1_col8\" class=\"data row1 col8\" >0.125910</td>\n      <td id=\"T_e87d7_row1_col9\" class=\"data row1 col9\" >0.287218</td>\n      <td id=\"T_e87d7_row1_col10\" class=\"data row1 col10\" >0.320976</td>\n      <td id=\"T_e87d7_row1_col11\" class=\"data row1 col11\" >0.215710</td>\n      <td id=\"T_e87d7_row1_col12\" class=\"data row1 col12\" >0.386843</td>\n      <td id=\"T_e87d7_row1_col13\" class=\"data row1 col13\" >0.002991</td>\n      <td id=\"T_e87d7_row1_col14\" class=\"data row1 col14\" >0.191572</td>\n      <td id=\"T_e87d7_row1_col15\" class=\"data row1 col15\" >-0.003135</td>\n      <td id=\"T_e87d7_row1_col16\" class=\"data row1 col16\" >-0.055854</td>\n      <td id=\"T_e87d7_row1_col17\" class=\"data row1 col17\" >0.135554</td>\n      <td id=\"T_e87d7_row1_col18\" class=\"data row1 col18\" >0.286001</td>\n      <td id=\"T_e87d7_row1_col19\" class=\"data row1 col19\" >-0.280446</td>\n    </tr>\n    <tr>\n      <th id=\"T_e87d7_level0_row2\" class=\"row_heading level0 row2\" >gender</th>\n      <td id=\"T_e87d7_row2_col0\" class=\"data row2 col0\" >-0.022434</td>\n      <td id=\"T_e87d7_row2_col1\" class=\"data row2 col1\" >-0.053712</td>\n      <td id=\"T_e87d7_row2_col2\" class=\"data row2 col2\" >1.000000</td>\n      <td id=\"T_e87d7_row2_col3\" class=\"data row2 col3\" >-0.088396</td>\n      <td id=\"T_e87d7_row2_col4\" class=\"data row2 col4\" >-0.007846</td>\n      <td id=\"T_e87d7_row2_col5\" class=\"data row2 col5\" >-0.017257</td>\n      <td id=\"T_e87d7_row2_col6\" class=\"data row2 col6\" >-0.021226</td>\n      <td id=\"T_e87d7_row2_col7\" class=\"data row2 col7\" >-0.017417</td>\n      <td id=\"T_e87d7_row2_col8\" class=\"data row2 col8\" >-0.027257</td>\n      <td id=\"T_e87d7_row2_col9\" class=\"data row2 col9\" >-0.021891</td>\n      <td id=\"T_e87d7_row2_col10\" class=\"data row2 col10\" >-0.026837</td>\n      <td id=\"T_e87d7_row2_col11\" class=\"data row2 col11\" >-0.042239</td>\n      <td id=\"T_e87d7_row2_col12\" class=\"data row2 col12\" >-0.045703</td>\n      <td id=\"T_e87d7_row2_col13\" class=\"data row2 col13\" >-0.000883</td>\n      <td id=\"T_e87d7_row2_col14\" class=\"data row2 col14\" >0.033708</td>\n      <td id=\"T_e87d7_row2_col15\" class=\"data row2 col15\" >-0.001241</td>\n      <td id=\"T_e87d7_row2_col16\" class=\"data row2 col16\" >-0.019944</td>\n      <td id=\"T_e87d7_row2_col17\" class=\"data row2 col17\" >-0.023386</td>\n      <td id=\"T_e87d7_row2_col18\" class=\"data row2 col18\" >-0.115551</td>\n      <td id=\"T_e87d7_row2_col19\" class=\"data row2 col19\" >0.126209</td>\n    </tr>\n    <tr>\n      <th id=\"T_e87d7_level0_row3\" class=\"row_heading level0 row3\" >age</th>\n      <td id=\"T_e87d7_row3_col0\" class=\"data row3 col0\" >0.087342</td>\n      <td id=\"T_e87d7_row3_col1\" class=\"data row3 col1\" >0.235262</td>\n      <td id=\"T_e87d7_row3_col2\" class=\"data row3 col2\" >-0.088396</td>\n      <td id=\"T_e87d7_row3_col3\" class=\"data row3 col3\" >1.000000</td>\n      <td id=\"T_e87d7_row3_col4\" class=\"data row3 col4\" >0.067669</td>\n      <td id=\"T_e87d7_row3_col5\" class=\"data row3 col5\" >0.077732</td>\n      <td id=\"T_e87d7_row3_col6\" class=\"data row3 col6\" >0.064052</td>\n      <td id=\"T_e87d7_row3_col7\" class=\"data row3 col7\" >0.216196</td>\n      <td id=\"T_e87d7_row3_col8\" class=\"data row3 col8\" >0.099693</td>\n      <td id=\"T_e87d7_row3_col9\" class=\"data row3 col9\" >0.102233</td>\n      <td id=\"T_e87d7_row3_col10\" class=\"data row3 col10\" >0.128726</td>\n      <td id=\"T_e87d7_row3_col11\" class=\"data row3 col11\" >0.244562</td>\n      <td id=\"T_e87d7_row3_col12\" class=\"data row3 col12\" >0.176537</td>\n      <td id=\"T_e87d7_row3_col13\" class=\"data row3 col13\" >0.002446</td>\n      <td id=\"T_e87d7_row3_col14\" class=\"data row3 col14\" >-0.153871</td>\n      <td id=\"T_e87d7_row3_col15\" class=\"data row3 col15\" >-0.005859</td>\n      <td id=\"T_e87d7_row3_col16\" class=\"data row3 col16\" >0.070707</td>\n      <td id=\"T_e87d7_row3_col17\" class=\"data row3 col17\" >0.236951</td>\n      <td id=\"T_e87d7_row3_col18\" class=\"data row3 col18\" >0.604848</td>\n      <td id=\"T_e87d7_row3_col19\" class=\"data row3 col19\" >-0.673385</td>\n    </tr>\n    <tr>\n      <th id=\"T_e87d7_level0_row4\" class=\"row_heading level0 row4\" >short_term_deposit</th>\n      <td id=\"T_e87d7_row4_col0\" class=\"data row4 col0\" >0.002232</td>\n      <td id=\"T_e87d7_row4_col1\" class=\"data row4 col1\" >0.051595</td>\n      <td id=\"T_e87d7_row4_col2\" class=\"data row4 col2\" >-0.007846</td>\n      <td id=\"T_e87d7_row4_col3\" class=\"data row4 col3\" >0.067669</td>\n      <td id=\"T_e87d7_row4_col4\" class=\"data row4 col4\" >1.000000</td>\n      <td id=\"T_e87d7_row4_col5\" class=\"data row4 col5\" >0.000222</td>\n      <td id=\"T_e87d7_row4_col6\" class=\"data row4 col6\" >0.000425</td>\n      <td id=\"T_e87d7_row4_col7\" class=\"data row4 col7\" >0.004152</td>\n      <td id=\"T_e87d7_row4_col8\" class=\"data row4 col8\" >-0.001171</td>\n      <td id=\"T_e87d7_row4_col9\" class=\"data row4 col9\" >0.001770</td>\n      <td id=\"T_e87d7_row4_col10\" class=\"data row4 col10\" >-0.004966</td>\n      <td id=\"T_e87d7_row4_col11\" class=\"data row4 col11\" >-0.006181</td>\n      <td id=\"T_e87d7_row4_col12\" class=\"data row4 col12\" >-0.007340</td>\n      <td id=\"T_e87d7_row4_col13\" class=\"data row4 col13\" >-0.000131</td>\n      <td id=\"T_e87d7_row4_col14\" class=\"data row4 col14\" >-0.010557</td>\n      <td id=\"T_e87d7_row4_col15\" class=\"data row4 col15\" >-0.000394</td>\n      <td id=\"T_e87d7_row4_col16\" class=\"data row4 col16\" >-0.003536</td>\n      <td id=\"T_e87d7_row4_col17\" class=\"data row4 col17\" >0.131938</td>\n      <td id=\"T_e87d7_row4_col18\" class=\"data row4 col18\" >0.029033</td>\n      <td id=\"T_e87d7_row4_col19\" class=\"data row4 col19\" >-0.059797</td>\n    </tr>\n    <tr>\n      <th id=\"T_e87d7_level0_row5\" class=\"row_heading level0 row5\" >funds</th>\n      <td id=\"T_e87d7_row5_col0\" class=\"data row5 col0\" >0.014169</td>\n      <td id=\"T_e87d7_row5_col1\" class=\"data row5 col1\" >0.063180</td>\n      <td id=\"T_e87d7_row5_col2\" class=\"data row5 col2\" >-0.017257</td>\n      <td id=\"T_e87d7_row5_col3\" class=\"data row5 col3\" >0.077732</td>\n      <td id=\"T_e87d7_row5_col4\" class=\"data row5 col4\" >0.000222</td>\n      <td id=\"T_e87d7_row5_col5\" class=\"data row5 col5\" >1.000000</td>\n      <td id=\"T_e87d7_row5_col6\" class=\"data row5 col6\" >0.097710</td>\n      <td id=\"T_e87d7_row5_col7\" class=\"data row5 col7\" >0.141254</td>\n      <td id=\"T_e87d7_row5_col8\" class=\"data row5 col8\" >0.037649</td>\n      <td id=\"T_e87d7_row5_col9\" class=\"data row5 col9\" >0.016217</td>\n      <td id=\"T_e87d7_row5_col10\" class=\"data row5 col10\" >0.022247</td>\n      <td id=\"T_e87d7_row5_col11\" class=\"data row5 col11\" >0.093559</td>\n      <td id=\"T_e87d7_row5_col12\" class=\"data row5 col12\" >0.020494</td>\n      <td id=\"T_e87d7_row5_col13\" class=\"data row5 col13\" >-0.000132</td>\n      <td id=\"T_e87d7_row5_col14\" class=\"data row5 col14\" >0.003827</td>\n      <td id=\"T_e87d7_row5_col15\" class=\"data row5 col15\" >0.006581</td>\n      <td id=\"T_e87d7_row5_col16\" class=\"data row5 col16\" >-0.013343</td>\n      <td id=\"T_e87d7_row5_col17\" class=\"data row5 col17\" >0.112891</td>\n      <td id=\"T_e87d7_row5_col18\" class=\"data row5 col18\" >0.031132</td>\n      <td id=\"T_e87d7_row5_col19\" class=\"data row5 col19\" >-0.052092</td>\n    </tr>\n    <tr>\n      <th id=\"T_e87d7_level0_row6\" class=\"row_heading level0 row6\" >securities</th>\n      <td id=\"T_e87d7_row6_col0\" class=\"data row6 col0\" >0.028021</td>\n      <td id=\"T_e87d7_row6_col1\" class=\"data row6 col1\" >0.068500</td>\n      <td id=\"T_e87d7_row6_col2\" class=\"data row6 col2\" >-0.021226</td>\n      <td id=\"T_e87d7_row6_col3\" class=\"data row6 col3\" >0.064052</td>\n      <td id=\"T_e87d7_row6_col4\" class=\"data row6 col4\" >0.000425</td>\n      <td id=\"T_e87d7_row6_col5\" class=\"data row6 col5\" >0.097710</td>\n      <td id=\"T_e87d7_row6_col6\" class=\"data row6 col6\" >1.000000</td>\n      <td id=\"T_e87d7_row6_col7\" class=\"data row6 col7\" >0.025785</td>\n      <td id=\"T_e87d7_row6_col8\" class=\"data row6 col8\" >0.052728</td>\n      <td id=\"T_e87d7_row6_col9\" class=\"data row6 col9\" >0.029599</td>\n      <td id=\"T_e87d7_row6_col10\" class=\"data row6 col10\" >0.040778</td>\n      <td id=\"T_e87d7_row6_col11\" class=\"data row6 col11\" >0.084160</td>\n      <td id=\"T_e87d7_row6_col12\" class=\"data row6 col12\" >0.049232</td>\n      <td id=\"T_e87d7_row6_col13\" class=\"data row6 col13\" >0.014350</td>\n      <td id=\"T_e87d7_row6_col14\" class=\"data row6 col14\" >0.005760</td>\n      <td id=\"T_e87d7_row6_col15\" class=\"data row6 col15\" >0.005633</td>\n      <td id=\"T_e87d7_row6_col16\" class=\"data row6 col16\" >-0.013527</td>\n      <td id=\"T_e87d7_row6_col17\" class=\"data row6 col17\" >0.075863</td>\n      <td id=\"T_e87d7_row6_col18\" class=\"data row6 col18\" >0.042008</td>\n      <td id=\"T_e87d7_row6_col19\" class=\"data row6 col19\" >-0.052905</td>\n    </tr>\n    <tr>\n      <th id=\"T_e87d7_level0_row7\" class=\"row_heading level0 row7\" >long_term_deposit</th>\n      <td id=\"T_e87d7_row7_col0\" class=\"data row7 col0\" >0.013329</td>\n      <td id=\"T_e87d7_row7_col1\" class=\"data row7 col1\" >0.144096</td>\n      <td id=\"T_e87d7_row7_col2\" class=\"data row7 col2\" >-0.017417</td>\n      <td id=\"T_e87d7_row7_col3\" class=\"data row7 col3\" >0.216196</td>\n      <td id=\"T_e87d7_row7_col4\" class=\"data row7 col4\" >0.004152</td>\n      <td id=\"T_e87d7_row7_col5\" class=\"data row7 col5\" >0.141254</td>\n      <td id=\"T_e87d7_row7_col6\" class=\"data row7 col6\" >0.025785</td>\n      <td id=\"T_e87d7_row7_col7\" class=\"data row7 col7\" >1.000000</td>\n      <td id=\"T_e87d7_row7_col8\" class=\"data row7 col8\" >0.042048</td>\n      <td id=\"T_e87d7_row7_col9\" class=\"data row7 col9\" >0.015539</td>\n      <td id=\"T_e87d7_row7_col10\" class=\"data row7 col10\" >0.021056</td>\n      <td id=\"T_e87d7_row7_col11\" class=\"data row7 col11\" >0.178425</td>\n      <td id=\"T_e87d7_row7_col12\" class=\"data row7 col12\" >0.016628</td>\n      <td id=\"T_e87d7_row7_col13\" class=\"data row7 col13\" >-0.000305</td>\n      <td id=\"T_e87d7_row7_col14\" class=\"data row7 col14\" >-0.010609</td>\n      <td id=\"T_e87d7_row7_col15\" class=\"data row7 col15\" >0.008034</td>\n      <td id=\"T_e87d7_row7_col16\" class=\"data row7 col16\" >-0.027338</td>\n      <td id=\"T_e87d7_row7_col17\" class=\"data row7 col17\" >0.396703</td>\n      <td id=\"T_e87d7_row7_col18\" class=\"data row7 col18\" >0.051107</td>\n      <td id=\"T_e87d7_row7_col19\" class=\"data row7 col19\" >-0.136993</td>\n    </tr>\n    <tr>\n      <th id=\"T_e87d7_level0_row8\" class=\"row_heading level0 row8\" >credit_card</th>\n      <td id=\"T_e87d7_row8_col0\" class=\"data row8 col0\" >0.140883</td>\n      <td id=\"T_e87d7_row8_col1\" class=\"data row8 col1\" >0.125910</td>\n      <td id=\"T_e87d7_row8_col2\" class=\"data row8 col2\" >-0.027257</td>\n      <td id=\"T_e87d7_row8_col3\" class=\"data row8 col3\" >0.099693</td>\n      <td id=\"T_e87d7_row8_col4\" class=\"data row8 col4\" >-0.001171</td>\n      <td id=\"T_e87d7_row8_col5\" class=\"data row8 col5\" >0.037649</td>\n      <td id=\"T_e87d7_row8_col6\" class=\"data row8 col6\" >0.052728</td>\n      <td id=\"T_e87d7_row8_col7\" class=\"data row8 col7\" >0.042048</td>\n      <td id=\"T_e87d7_row8_col8\" class=\"data row8 col8\" >1.000000</td>\n      <td id=\"T_e87d7_row8_col9\" class=\"data row8 col9\" >0.147460</td>\n      <td id=\"T_e87d7_row8_col10\" class=\"data row8 col10\" >0.206945</td>\n      <td id=\"T_e87d7_row8_col11\" class=\"data row8 col11\" >0.163467</td>\n      <td id=\"T_e87d7_row8_col12\" class=\"data row8 col12\" >0.205427</td>\n      <td id=\"T_e87d7_row8_col13\" class=\"data row8 col13\" >-0.000269</td>\n      <td id=\"T_e87d7_row8_col14\" class=\"data row8 col14\" >-0.072602</td>\n      <td id=\"T_e87d7_row8_col15\" class=\"data row8 col15\" >0.006121</td>\n      <td id=\"T_e87d7_row8_col16\" class=\"data row8 col16\" >-0.026774</td>\n      <td id=\"T_e87d7_row8_col17\" class=\"data row8 col17\" >0.029215</td>\n      <td id=\"T_e87d7_row8_col18\" class=\"data row8 col18\" >0.108588</td>\n      <td id=\"T_e87d7_row8_col19\" class=\"data row8 col19\" >-0.098035</td>\n    </tr>\n    <tr>\n      <th id=\"T_e87d7_level0_row9\" class=\"row_heading level0 row9\" >pension_plan</th>\n      <td id=\"T_e87d7_row9_col0\" class=\"data row9 col0\" >0.982475</td>\n      <td id=\"T_e87d7_row9_col1\" class=\"data row9 col1\" >0.287218</td>\n      <td id=\"T_e87d7_row9_col2\" class=\"data row9 col2\" >-0.021891</td>\n      <td id=\"T_e87d7_row9_col3\" class=\"data row9 col3\" >0.102233</td>\n      <td id=\"T_e87d7_row9_col4\" class=\"data row9 col4\" >0.001770</td>\n      <td id=\"T_e87d7_row9_col5\" class=\"data row9 col5\" >0.016217</td>\n      <td id=\"T_e87d7_row9_col6\" class=\"data row9 col6\" >0.029599</td>\n      <td id=\"T_e87d7_row9_col7\" class=\"data row9 col7\" >0.015539</td>\n      <td id=\"T_e87d7_row9_col8\" class=\"data row9 col8\" >0.147460</td>\n      <td id=\"T_e87d7_row9_col9\" class=\"data row9 col9\" >1.000000</td>\n      <td id=\"T_e87d7_row9_col10\" class=\"data row9 col10\" >0.662098</td>\n      <td id=\"T_e87d7_row9_col11\" class=\"data row9 col11\" >0.112139</td>\n      <td id=\"T_e87d7_row9_col12\" class=\"data row9 col12\" >0.317690</td>\n      <td id=\"T_e87d7_row9_col13\" class=\"data row9 col13\" >0.002948</td>\n      <td id=\"T_e87d7_row9_col14\" class=\"data row9 col14\" >-0.223340</td>\n      <td id=\"T_e87d7_row9_col15\" class=\"data row9 col15\" >-0.002192</td>\n      <td id=\"T_e87d7_row9_col16\" class=\"data row9 col16\" >-0.045953</td>\n      <td id=\"T_e87d7_row9_col17\" class=\"data row9 col17\" >0.010698</td>\n      <td id=\"T_e87d7_row9_col18\" class=\"data row9 col18\" >0.159412</td>\n      <td id=\"T_e87d7_row9_col19\" class=\"data row9 col19\" >-0.132398</td>\n    </tr>\n    <tr>\n      <th id=\"T_e87d7_level0_row10\" class=\"row_heading level0 row10\" >payroll_account</th>\n      <td id=\"T_e87d7_row10_col0\" class=\"data row10 col0\" >0.645800</td>\n      <td id=\"T_e87d7_row10_col1\" class=\"data row10 col1\" >0.320976</td>\n      <td id=\"T_e87d7_row10_col2\" class=\"data row10 col2\" >-0.026837</td>\n      <td id=\"T_e87d7_row10_col3\" class=\"data row10 col3\" >0.128726</td>\n      <td id=\"T_e87d7_row10_col4\" class=\"data row10 col4\" >-0.004966</td>\n      <td id=\"T_e87d7_row10_col5\" class=\"data row10 col5\" >0.022247</td>\n      <td id=\"T_e87d7_row10_col6\" class=\"data row10 col6\" >0.040778</td>\n      <td id=\"T_e87d7_row10_col7\" class=\"data row10 col7\" >0.021056</td>\n      <td id=\"T_e87d7_row10_col8\" class=\"data row10 col8\" >0.206945</td>\n      <td id=\"T_e87d7_row10_col9\" class=\"data row10 col9\" >0.662098</td>\n      <td id=\"T_e87d7_row10_col10\" class=\"data row10 col10\" >1.000000</td>\n      <td id=\"T_e87d7_row10_col11\" class=\"data row10 col11\" >0.153217</td>\n      <td id=\"T_e87d7_row10_col12\" class=\"data row10 col12\" >0.396558</td>\n      <td id=\"T_e87d7_row10_col13\" class=\"data row10 col13\" >0.005626</td>\n      <td id=\"T_e87d7_row10_col14\" class=\"data row10 col14\" >-0.371581</td>\n      <td id=\"T_e87d7_row10_col15\" class=\"data row10 col15\" >-0.004162</td>\n      <td id=\"T_e87d7_row10_col16\" class=\"data row10 col16\" >-0.062764</td>\n      <td id=\"T_e87d7_row10_col17\" class=\"data row10 col17\" >0.014031</td>\n      <td id=\"T_e87d7_row10_col18\" class=\"data row10 col18\" >0.192623</td>\n      <td id=\"T_e87d7_row10_col19\" class=\"data row10 col19\" >-0.156699</td>\n    </tr>\n    <tr>\n      <th id=\"T_e87d7_level0_row11\" class=\"row_heading level0 row11\" >emc_account</th>\n      <td id=\"T_e87d7_row11_col0\" class=\"data row11 col0\" >0.106403</td>\n      <td id=\"T_e87d7_row11_col1\" class=\"data row11 col1\" >0.215710</td>\n      <td id=\"T_e87d7_row11_col2\" class=\"data row11 col2\" >-0.042239</td>\n      <td id=\"T_e87d7_row11_col3\" class=\"data row11 col3\" >0.244562</td>\n      <td id=\"T_e87d7_row11_col4\" class=\"data row11 col4\" >-0.006181</td>\n      <td id=\"T_e87d7_row11_col5\" class=\"data row11 col5\" >0.093559</td>\n      <td id=\"T_e87d7_row11_col6\" class=\"data row11 col6\" >0.084160</td>\n      <td id=\"T_e87d7_row11_col7\" class=\"data row11 col7\" >0.178425</td>\n      <td id=\"T_e87d7_row11_col8\" class=\"data row11 col8\" >0.163467</td>\n      <td id=\"T_e87d7_row11_col9\" class=\"data row11 col9\" >0.112139</td>\n      <td id=\"T_e87d7_row11_col10\" class=\"data row11 col10\" >0.153217</td>\n      <td id=\"T_e87d7_row11_col11\" class=\"data row11 col11\" >1.000000</td>\n      <td id=\"T_e87d7_row11_col12\" class=\"data row11 col12\" >0.154645</td>\n      <td id=\"T_e87d7_row11_col13\" class=\"data row11 col13\" >-0.000566</td>\n      <td id=\"T_e87d7_row11_col14\" class=\"data row11 col14\" >-0.069785</td>\n      <td id=\"T_e87d7_row11_col15\" class=\"data row11 col15\" >0.008672</td>\n      <td id=\"T_e87d7_row11_col16\" class=\"data row11 col16\" >-0.056280</td>\n      <td id=\"T_e87d7_row11_col17\" class=\"data row11 col17\" >0.217173</td>\n      <td id=\"T_e87d7_row11_col18\" class=\"data row11 col18\" >0.196822</td>\n      <td id=\"T_e87d7_row11_col19\" class=\"data row11 col19\" >-0.215949</td>\n    </tr>\n    <tr>\n      <th id=\"T_e87d7_level0_row12\" class=\"row_heading level0 row12\" >debit_card</th>\n      <td id=\"T_e87d7_row12_col0\" class=\"data row12 col0\" >0.308092</td>\n      <td id=\"T_e87d7_row12_col1\" class=\"data row12 col1\" >0.386843</td>\n      <td id=\"T_e87d7_row12_col2\" class=\"data row12 col2\" >-0.045703</td>\n      <td id=\"T_e87d7_row12_col3\" class=\"data row12 col3\" >0.176537</td>\n      <td id=\"T_e87d7_row12_col4\" class=\"data row12 col4\" >-0.007340</td>\n      <td id=\"T_e87d7_row12_col5\" class=\"data row12 col5\" >0.020494</td>\n      <td id=\"T_e87d7_row12_col6\" class=\"data row12 col6\" >0.049232</td>\n      <td id=\"T_e87d7_row12_col7\" class=\"data row12 col7\" >0.016628</td>\n      <td id=\"T_e87d7_row12_col8\" class=\"data row12 col8\" >0.205427</td>\n      <td id=\"T_e87d7_row12_col9\" class=\"data row12 col9\" >0.317690</td>\n      <td id=\"T_e87d7_row12_col10\" class=\"data row12 col10\" >0.396558</td>\n      <td id=\"T_e87d7_row12_col11\" class=\"data row12 col11\" >0.154645</td>\n      <td id=\"T_e87d7_row12_col12\" class=\"data row12 col12\" >1.000000</td>\n      <td id=\"T_e87d7_row12_col13\" class=\"data row12 col13\" >0.001974</td>\n      <td id=\"T_e87d7_row12_col14\" class=\"data row12 col14\" >-0.042282</td>\n      <td id=\"T_e87d7_row12_col15\" class=\"data row12 col15\" >-0.006597</td>\n      <td id=\"T_e87d7_row12_col16\" class=\"data row12 col16\" >-0.076932</td>\n      <td id=\"T_e87d7_row12_col17\" class=\"data row12 col17\" >0.006241</td>\n      <td id=\"T_e87d7_row12_col18\" class=\"data row12 col18\" >0.257726</td>\n      <td id=\"T_e87d7_row12_col19\" class=\"data row12 col19\" >-0.209920</td>\n    </tr>\n    <tr>\n      <th id=\"T_e87d7_level0_row13\" class=\"row_heading level0 row13\" >em_account_p</th>\n      <td id=\"T_e87d7_row13_col0\" class=\"data row13 col0\" >0.003015</td>\n      <td id=\"T_e87d7_row13_col1\" class=\"data row13 col1\" >0.002991</td>\n      <td id=\"T_e87d7_row13_col2\" class=\"data row13 col2\" >-0.000883</td>\n      <td id=\"T_e87d7_row13_col3\" class=\"data row13 col3\" >0.002446</td>\n      <td id=\"T_e87d7_row13_col4\" class=\"data row13 col4\" >-0.000131</td>\n      <td id=\"T_e87d7_row13_col5\" class=\"data row13 col5\" >-0.000132</td>\n      <td id=\"T_e87d7_row13_col6\" class=\"data row13 col6\" >0.014350</td>\n      <td id=\"T_e87d7_row13_col7\" class=\"data row13 col7\" >-0.000305</td>\n      <td id=\"T_e87d7_row13_col8\" class=\"data row13 col8\" >-0.000269</td>\n      <td id=\"T_e87d7_row13_col9\" class=\"data row13 col9\" >0.002948</td>\n      <td id=\"T_e87d7_row13_col10\" class=\"data row13 col10\" >0.005626</td>\n      <td id=\"T_e87d7_row13_col11\" class=\"data row13 col11\" >-0.000566</td>\n      <td id=\"T_e87d7_row13_col12\" class=\"data row13 col12\" >0.001974</td>\n      <td id=\"T_e87d7_row13_col13\" class=\"data row13 col13\" >1.000000</td>\n      <td id=\"T_e87d7_row13_col14\" class=\"data row13 col14\" >-0.001686</td>\n      <td id=\"T_e87d7_row13_col15\" class=\"data row13 col15\" >0.000297</td>\n      <td id=\"T_e87d7_row13_col16\" class=\"data row13 col16\" >-0.000645</td>\n      <td id=\"T_e87d7_row13_col17\" class=\"data row13 col17\" >0.006304</td>\n      <td id=\"T_e87d7_row13_col18\" class=\"data row13 col18\" >-0.001741</td>\n      <td id=\"T_e87d7_row13_col19\" class=\"data row13 col19\" >0.000366</td>\n    </tr>\n    <tr>\n      <th id=\"T_e87d7_level0_row14\" class=\"row_heading level0 row14\" >em_acount</th>\n      <td id=\"T_e87d7_row14_col0\" class=\"data row14 col0\" >-0.216385</td>\n      <td id=\"T_e87d7_row14_col1\" class=\"data row14 col1\" >0.191572</td>\n      <td id=\"T_e87d7_row14_col2\" class=\"data row14 col2\" >0.033708</td>\n      <td id=\"T_e87d7_row14_col3\" class=\"data row14 col3\" >-0.153871</td>\n      <td id=\"T_e87d7_row14_col4\" class=\"data row14 col4\" >-0.010557</td>\n      <td id=\"T_e87d7_row14_col5\" class=\"data row14 col5\" >0.003827</td>\n      <td id=\"T_e87d7_row14_col6\" class=\"data row14 col6\" >0.005760</td>\n      <td id=\"T_e87d7_row14_col7\" class=\"data row14 col7\" >-0.010609</td>\n      <td id=\"T_e87d7_row14_col8\" class=\"data row14 col8\" >-0.072602</td>\n      <td id=\"T_e87d7_row14_col9\" class=\"data row14 col9\" >-0.223340</td>\n      <td id=\"T_e87d7_row14_col10\" class=\"data row14 col10\" >-0.371581</td>\n      <td id=\"T_e87d7_row14_col11\" class=\"data row14 col11\" >-0.069785</td>\n      <td id=\"T_e87d7_row14_col12\" class=\"data row14 col12\" >-0.042282</td>\n      <td id=\"T_e87d7_row14_col13\" class=\"data row14 col13\" >-0.001686</td>\n      <td id=\"T_e87d7_row14_col14\" class=\"data row14 col14\" >1.000000</td>\n      <td id=\"T_e87d7_row14_col15\" class=\"data row14 col15\" >-0.020511</td>\n      <td id=\"T_e87d7_row14_col16\" class=\"data row14 col16\" >-0.114120</td>\n      <td id=\"T_e87d7_row14_col17\" class=\"data row14 col17\" >-0.025097</td>\n      <td id=\"T_e87d7_row14_col18\" class=\"data row14 col18\" >-0.202114</td>\n      <td id=\"T_e87d7_row14_col19\" class=\"data row14 col19\" >0.255740</td>\n    </tr>\n    <tr>\n      <th id=\"T_e87d7_level0_row15\" class=\"row_heading level0 row15\" >salary</th>\n      <td id=\"T_e87d7_row15_col0\" class=\"data row15 col0\" >-0.002171</td>\n      <td id=\"T_e87d7_row15_col1\" class=\"data row15 col1\" >-0.003135</td>\n      <td id=\"T_e87d7_row15_col2\" class=\"data row15 col2\" >-0.001241</td>\n      <td id=\"T_e87d7_row15_col3\" class=\"data row15 col3\" >-0.005859</td>\n      <td id=\"T_e87d7_row15_col4\" class=\"data row15 col4\" >-0.000394</td>\n      <td id=\"T_e87d7_row15_col5\" class=\"data row15 col5\" >0.006581</td>\n      <td id=\"T_e87d7_row15_col6\" class=\"data row15 col6\" >0.005633</td>\n      <td id=\"T_e87d7_row15_col7\" class=\"data row15 col7\" >0.008034</td>\n      <td id=\"T_e87d7_row15_col8\" class=\"data row15 col8\" >0.006121</td>\n      <td id=\"T_e87d7_row15_col9\" class=\"data row15 col9\" >-0.002192</td>\n      <td id=\"T_e87d7_row15_col10\" class=\"data row15 col10\" >-0.004162</td>\n      <td id=\"T_e87d7_row15_col11\" class=\"data row15 col11\" >0.008672</td>\n      <td id=\"T_e87d7_row15_col12\" class=\"data row15 col12\" >-0.006597</td>\n      <td id=\"T_e87d7_row15_col13\" class=\"data row15 col13\" >0.000297</td>\n      <td id=\"T_e87d7_row15_col14\" class=\"data row15 col14\" >-0.020511</td>\n      <td id=\"T_e87d7_row15_col15\" class=\"data row15 col15\" >1.000000</td>\n      <td id=\"T_e87d7_row15_col16\" class=\"data row15 col16\" >-0.008383</td>\n      <td id=\"T_e87d7_row15_col17\" class=\"data row15 col17\" >0.013745</td>\n      <td id=\"T_e87d7_row15_col18\" class=\"data row15 col18\" >-0.018229</td>\n      <td id=\"T_e87d7_row15_col19\" class=\"data row15 col19\" >0.018024</td>\n    </tr>\n    <tr>\n      <th id=\"T_e87d7_level0_row16\" class=\"row_heading level0 row16\" >segment_00 - OTROS</th>\n      <td id=\"T_e87d7_row16_col0\" class=\"data row16 col0\" >-0.044586</td>\n      <td id=\"T_e87d7_row16_col1\" class=\"data row16 col1\" >-0.055854</td>\n      <td id=\"T_e87d7_row16_col2\" class=\"data row16 col2\" >-0.019944</td>\n      <td id=\"T_e87d7_row16_col3\" class=\"data row16 col3\" >0.070707</td>\n      <td id=\"T_e87d7_row16_col4\" class=\"data row16 col4\" >-0.003536</td>\n      <td id=\"T_e87d7_row16_col5\" class=\"data row16 col5\" >-0.013343</td>\n      <td id=\"T_e87d7_row16_col6\" class=\"data row16 col6\" >-0.013527</td>\n      <td id=\"T_e87d7_row16_col7\" class=\"data row16 col7\" >-0.027338</td>\n      <td id=\"T_e87d7_row16_col8\" class=\"data row16 col8\" >-0.026774</td>\n      <td id=\"T_e87d7_row16_col9\" class=\"data row16 col9\" >-0.045953</td>\n      <td id=\"T_e87d7_row16_col10\" class=\"data row16 col10\" >-0.062764</td>\n      <td id=\"T_e87d7_row16_col11\" class=\"data row16 col11\" >-0.056280</td>\n      <td id=\"T_e87d7_row16_col12\" class=\"data row16 col12\" >-0.076932</td>\n      <td id=\"T_e87d7_row16_col13\" class=\"data row16 col13\" >-0.000645</td>\n      <td id=\"T_e87d7_row16_col14\" class=\"data row16 col14\" >-0.114120</td>\n      <td id=\"T_e87d7_row16_col15\" class=\"data row16 col15\" >-0.008383</td>\n      <td id=\"T_e87d7_row16_col16\" class=\"data row16 col16\" >1.000000</td>\n      <td id=\"T_e87d7_row16_col17\" class=\"data row16 col17\" >-0.032972</td>\n      <td id=\"T_e87d7_row16_col18\" class=\"data row16 col18\" >-0.179672</td>\n      <td id=\"T_e87d7_row16_col19\" class=\"data row16 col19\" >-0.312536</td>\n    </tr>\n    <tr>\n      <th id=\"T_e87d7_level0_row17\" class=\"row_heading level0 row17\" >segment_01 - TOP</th>\n      <td id=\"T_e87d7_row17_col0\" class=\"data row17 col0\" >0.007819</td>\n      <td id=\"T_e87d7_row17_col1\" class=\"data row17 col1\" >0.135554</td>\n      <td id=\"T_e87d7_row17_col2\" class=\"data row17 col2\" >-0.023386</td>\n      <td id=\"T_e87d7_row17_col3\" class=\"data row17 col3\" >0.236951</td>\n      <td id=\"T_e87d7_row17_col4\" class=\"data row17 col4\" >0.131938</td>\n      <td id=\"T_e87d7_row17_col5\" class=\"data row17 col5\" >0.112891</td>\n      <td id=\"T_e87d7_row17_col6\" class=\"data row17 col6\" >0.075863</td>\n      <td id=\"T_e87d7_row17_col7\" class=\"data row17 col7\" >0.396703</td>\n      <td id=\"T_e87d7_row17_col8\" class=\"data row17 col8\" >0.029215</td>\n      <td id=\"T_e87d7_row17_col9\" class=\"data row17 col9\" >0.010698</td>\n      <td id=\"T_e87d7_row17_col10\" class=\"data row17 col10\" >0.014031</td>\n      <td id=\"T_e87d7_row17_col11\" class=\"data row17 col11\" >0.217173</td>\n      <td id=\"T_e87d7_row17_col12\" class=\"data row17 col12\" >0.006241</td>\n      <td id=\"T_e87d7_row17_col13\" class=\"data row17 col13\" >0.006304</td>\n      <td id=\"T_e87d7_row17_col14\" class=\"data row17 col14\" >-0.025097</td>\n      <td id=\"T_e87d7_row17_col15\" class=\"data row17 col15\" >0.013745</td>\n      <td id=\"T_e87d7_row17_col16\" class=\"data row17 col16\" >-0.032972</td>\n      <td id=\"T_e87d7_row17_col17\" class=\"data row17 col17\" >1.000000</td>\n      <td id=\"T_e87d7_row17_col18\" class=\"data row17 col18\" >-0.089043</td>\n      <td id=\"T_e87d7_row17_col19\" class=\"data row17 col19\" >-0.154889</td>\n    </tr>\n    <tr>\n      <th id=\"T_e87d7_level0_row18\" class=\"row_heading level0 row18\" >segment_02 - PARTICULARES</th>\n      <td id=\"T_e87d7_row18_col0\" class=\"data row18 col0\" >0.153394</td>\n      <td id=\"T_e87d7_row18_col1\" class=\"data row18 col1\" >0.286001</td>\n      <td id=\"T_e87d7_row18_col2\" class=\"data row18 col2\" >-0.115551</td>\n      <td id=\"T_e87d7_row18_col3\" class=\"data row18 col3\" >0.604848</td>\n      <td id=\"T_e87d7_row18_col4\" class=\"data row18 col4\" >0.029033</td>\n      <td id=\"T_e87d7_row18_col5\" class=\"data row18 col5\" >0.031132</td>\n      <td id=\"T_e87d7_row18_col6\" class=\"data row18 col6\" >0.042008</td>\n      <td id=\"T_e87d7_row18_col7\" class=\"data row18 col7\" >0.051107</td>\n      <td id=\"T_e87d7_row18_col8\" class=\"data row18 col8\" >0.108588</td>\n      <td id=\"T_e87d7_row18_col9\" class=\"data row18 col9\" >0.159412</td>\n      <td id=\"T_e87d7_row18_col10\" class=\"data row18 col10\" >0.192623</td>\n      <td id=\"T_e87d7_row18_col11\" class=\"data row18 col11\" >0.196822</td>\n      <td id=\"T_e87d7_row18_col12\" class=\"data row18 col12\" >0.257726</td>\n      <td id=\"T_e87d7_row18_col13\" class=\"data row18 col13\" >-0.001741</td>\n      <td id=\"T_e87d7_row18_col14\" class=\"data row18 col14\" >-0.202114</td>\n      <td id=\"T_e87d7_row18_col15\" class=\"data row18 col15\" >-0.018229</td>\n      <td id=\"T_e87d7_row18_col16\" class=\"data row18 col16\" >-0.179672</td>\n      <td id=\"T_e87d7_row18_col17\" class=\"data row18 col17\" >-0.089043</td>\n      <td id=\"T_e87d7_row18_col18\" class=\"data row18 col18\" >1.000000</td>\n      <td id=\"T_e87d7_row18_col19\" class=\"data row18 col19\" >-0.844032</td>\n    </tr>\n    <tr>\n      <th id=\"T_e87d7_level0_row19\" class=\"row_heading level0 row19\" >segment_03 - UNIVERSITARIO</th>\n      <td id=\"T_e87d7_row19_col0\" class=\"data row19 col0\" >-0.126584</td>\n      <td id=\"T_e87d7_row19_col1\" class=\"data row19 col1\" >-0.280446</td>\n      <td id=\"T_e87d7_row19_col2\" class=\"data row19 col2\" >0.126209</td>\n      <td id=\"T_e87d7_row19_col3\" class=\"data row19 col3\" >-0.673385</td>\n      <td id=\"T_e87d7_row19_col4\" class=\"data row19 col4\" >-0.059797</td>\n      <td id=\"T_e87d7_row19_col5\" class=\"data row19 col5\" >-0.052092</td>\n      <td id=\"T_e87d7_row19_col6\" class=\"data row19 col6\" >-0.052905</td>\n      <td id=\"T_e87d7_row19_col7\" class=\"data row19 col7\" >-0.136993</td>\n      <td id=\"T_e87d7_row19_col8\" class=\"data row19 col8\" >-0.098035</td>\n      <td id=\"T_e87d7_row19_col9\" class=\"data row19 col9\" >-0.132398</td>\n      <td id=\"T_e87d7_row19_col10\" class=\"data row19 col10\" >-0.156699</td>\n      <td id=\"T_e87d7_row19_col11\" class=\"data row19 col11\" >-0.215949</td>\n      <td id=\"T_e87d7_row19_col12\" class=\"data row19 col12\" >-0.209920</td>\n      <td id=\"T_e87d7_row19_col13\" class=\"data row19 col13\" >0.000366</td>\n      <td id=\"T_e87d7_row19_col14\" class=\"data row19 col14\" >0.255740</td>\n      <td id=\"T_e87d7_row19_col15\" class=\"data row19 col15\" >0.018024</td>\n      <td id=\"T_e87d7_row19_col16\" class=\"data row19 col16\" >-0.312536</td>\n      <td id=\"T_e87d7_row19_col17\" class=\"data row19 col17\" >-0.154889</td>\n      <td id=\"T_e87d7_row19_col18\" class=\"data row19 col18\" >-0.844032</td>\n      <td id=\"T_e87d7_row19_col19\" class=\"data row19 col19\" >1.000000</td>\n    </tr>\n  </tbody>\n</table>\n"
     },
     "execution_count": 13,
     "metadata": {},
     "output_type": "execute_result"
    }
   ],
   "source": [
    "fields_for_corr = [\n",
    "    'active_customer', 'gender', 'age', 'short_term_deposit',\n",
    "    'funds', 'securities', 'long_term_deposit', 'credit_card', 'payroll', 'pension_plan',\n",
    "    'payroll_account', 'emc_account', 'debit_card', 'em_account_p', 'em_acount',\n",
    "    'salary', 'segment_00 - OTROS', 'segment_01 - TOP', 'segment_02 - PARTICULARES', 'segment_03 - UNIVERSITARIO'\n",
    "]\n",
    "fields_for_corr.remove(TARGET)\n",
    "fields_for_corr.insert(0, TARGET)\n",
    "\n",
    "corr = df_prep[fields_for_corr].corr()\n",
    "corr.style.background_gradient(cmap=\"coolwarm\")"
   ],
   "metadata": {
    "pycharm": {
     "name": "#%%\n"
    },
    "id": "bdU2tpqIoA46",
    "colab": {
     "base_uri": "https://localhost:8080/",
     "height": 765
    },
    "executionInfo": {
     "status": "ok",
     "timestamp": 1650652134336,
     "user_tz": -120,
     "elapsed": 689,
     "user": {
      "displayName": "nerea dominguez cabezas",
      "userId": "01946356256277218181"
     }
    },
    "outputId": "4e583e28-9c3b-46c1-b5c3-105239ba58ff"
   }
  },
  {
   "cell_type": "markdown",
   "source": [
    "Los puntos superiores nos indican los outliers. En este caso se observa que  no hay relación entre la variable de \"age\" y el producto \"payroll\""
   ],
   "metadata": {
    "id": "7O07_VvJRuiK"
   }
  },
  {
   "cell_type": "code",
   "execution_count": 14,
   "outputs": [
    {
     "data": {
      "text/plain": "<AxesSubplot:xlabel='payroll', ylabel='age'>"
     },
     "execution_count": 14,
     "metadata": {},
     "output_type": "execute_result"
    },
    {
     "data": {
      "text/plain": "<Figure size 432x288 with 1 Axes>",
      "image/png": "[encoded data removed]"
     },
     "metadata": {
      "needs_background": "light"
     },
     "output_type": "display_data"
    }
   ],
   "source": [
    "sns.boxplot(data=df_prep, x=TARGET, y=\"age\")"
   ],
   "metadata": {
    "pycharm": {
     "name": "#%%\n"
    },
    "id": "0O-00q4UoA47",
    "colab": {
     "base_uri": "https://localhost:8080/",
     "height": 297
    },
    "executionInfo": {
     "status": "ok",
     "timestamp": 1650652134790,
     "user_tz": -120,
     "elapsed": 475,
     "user": {
      "displayName": "nerea dominguez cabezas",
      "userId": "01946356256277218181"
     }
    },
    "outputId": "964e7313-60e3-4d56-b27a-7e9a597d4c39"
   }
  },
  {
   "cell_type": "markdown",
   "source": [
    "En este gráfico vemos los clientes que tienen \"payroll según la \"region_code\" , vemos que la mayoría están en la región número 28 o sea Madrid."
   ],
   "metadata": {
    "id": "yvaBzmLuR7-w"
   }
  },
  {
   "cell_type": "code",
   "execution_count": 15,
   "outputs": [
    {
     "data": {
      "text/plain": "<Figure size 1080x360 with 1 Axes>",
      "image/png": "[encoded data removed]"
     },
     "metadata": {
      "needs_background": "light"
     },
     "output_type": "display_data"
    },
    {
     "data": {
      "text/plain": "                len     sum      mean\n            payroll payroll   payroll\nregion_code                          \n-1              159       4  0.025157\n 1             1108      53  0.047834\n 2             5413     195  0.036024\n 3            14426    1026  0.071122\n 4             2851     232  0.081375\n 5             1642      79  0.048112\n 6             8957     228  0.025455\n 7             5586     357  0.063910\n 8            48256    2398  0.049693\n 9             3751     201  0.053586\n 10            5975     163  0.027280\n 11           12287     602  0.048995\n 12            5295     326  0.061568\n 13            5240     171  0.032634\n 14            5916     255  0.043103\n 15           18687     597  0.031947\n 16            2581      68  0.026346\n 17            3988     155  0.038867\n 18            8110     428  0.052774\n 19            2474     156  0.063056\n 20            1627     103  0.063307\n 21            5276     247  0.046816\n 22            1678      60  0.035757\n 23            2658     212  0.079759\n 24            2951     206  0.069807\n 25            3512     110  0.031321\n 26            2688      99  0.036830\n 27            3819      95  0.024876\n 28          105702    8820  0.083442\n 29           14407     862  0.059832\n 30           22532     818  0.036304\n 31            2438      93  0.038146\n 32            3966     112  0.028240\n 33           10528     437  0.041508\n 34            2071      87  0.042009\n 35           10094     670  0.066376\n 36           13071     446  0.034121\n 37            6876     252  0.036649\n 38            2804     239  0.085235\n 39            5863     424  0.072318\n 40            1687      88  0.052164\n 41           22487    1297  0.057678\n 42             722      26  0.036011\n 43            4823     181  0.037529\n 44             958      17  0.017745\n 45            8206     442  0.053863\n 46           29166    1616  0.055407\n 47            8805     447  0.050767\n 48            3091     182  0.058881\n 49            2283      81  0.035480\n 50           10321     400  0.038756\n 51             259      20  0.077220\n 52             224      12  0.053571",
      "text/html": "<div>\n<style scoped>\n    .dataframe tbody tr th:only-of-type {\n        vertical-align: middle;\n    }\n\n    .dataframe tbody tr th {\n        vertical-align: top;\n    }\n\n    .dataframe thead tr th {\n        text-align: left;\n    }\n\n    .dataframe thead tr:last-of-type th {\n        text-align: right;\n    }\n</style>\n<table border=\"1\" class=\"dataframe\">\n  <thead>\n    <tr>\n      <th></th>\n      <th>len</th>\n      <th>sum</th>\n      <th>mean</th>\n    </tr>\n    <tr>\n      <th></th>\n      <th>payroll</th>\n      <th>payroll</th>\n      <th>payroll</th>\n    </tr>\n    <tr>\n      <th>region_code</th>\n      <th></th>\n      <th></th>\n      <th></th>\n    </tr>\n  </thead>\n  <tbody>\n    <tr>\n      <th>-1</th>\n      <td>159</td>\n      <td>4</td>\n      <td>0.025157</td>\n    </tr>\n    <tr>\n      <th>1</th>\n      <td>1108</td>\n      <td>53</td>\n      <td>0.047834</td>\n    </tr>\n    <tr>\n      <th>2</th>\n      <td>5413</td>\n      <td>195</td>\n      <td>0.036024</td>\n    </tr>\n    <tr>\n      <th>3</th>\n      <td>14426</td>\n      <td>1026</td>\n      <td>0.071122</td>\n    </tr>\n    <tr>\n      <th>4</th>\n      <td>2851</td>\n      <td>232</td>\n      <td>0.081375</td>\n    </tr>\n    <tr>\n      <th>5</th>\n      <td>1642</td>\n      <td>79</td>\n      <td>0.048112</td>\n    </tr>\n    <tr>\n      <th>6</th>\n      <td>8957</td>\n      <td>228</td>\n      <td>0.025455</td>\n    </tr>\n    <tr>\n      <th>7</th>\n      <td>5586</td>\n      <td>357</td>\n      <td>0.063910</td>\n    </tr>\n    <tr>\n      <th>8</th>\n      <td>48256</td>\n      <td>2398</td>\n      <td>0.049693</td>\n    </tr>\n    <tr>\n      <th>9</th>\n      <td>3751</td>\n      <td>201</td>\n      <td>0.053586</td>\n    </tr>\n    <tr>\n      <th>10</th>\n      <td>5975</td>\n      <td>163</td>\n      <td>0.027280</td>\n    </tr>\n    <tr>\n      <th>11</th>\n      <td>12287</td>\n      <td>602</td>\n      <td>0.048995</td>\n    </tr>\n    <tr>\n      <th>12</th>\n      <td>5295</td>\n      <td>326</td>\n      <td>0.061568</td>\n    </tr>\n    <tr>\n      <th>13</th>\n      <td>5240</td>\n      <td>171</td>\n      <td>0.032634</td>\n    </tr>\n    <tr>\n      <th>14</th>\n      <td>5916</td>\n      <td>255</td>\n      <td>0.043103</td>\n    </tr>\n    <tr>\n      <th>15</th>\n      <td>18687</td>\n      <td>597</td>\n      <td>0.031947</td>\n    </tr>\n    <tr>\n      <th>16</th>\n      <td>2581</td>\n      <td>68</td>\n      <td>0.026346</td>\n    </tr>\n    <tr>\n      <th>17</th>\n      <td>3988</td>\n      <td>155</td>\n      <td>0.038867</td>\n    </tr>\n    <tr>\n      <th>18</th>\n      <td>8110</td>\n      <td>428</td>\n      <td>0.052774</td>\n    </tr>\n    <tr>\n      <th>19</th>\n      <td>2474</td>\n      <td>156</td>\n      <td>0.063056</td>\n    </tr>\n    <tr>\n      <th>20</th>\n      <td>1627</td>\n      <td>103</td>\n      <td>0.063307</td>\n    </tr>\n    <tr>\n      <th>21</th>\n      <td>5276</td>\n      <td>247</td>\n      <td>0.046816</td>\n    </tr>\n    <tr>\n      <th>22</th>\n      <td>1678</td>\n      <td>60</td>\n      <td>0.035757</td>\n    </tr>\n    <tr>\n      <th>23</th>\n      <td>2658</td>\n      <td>212</td>\n      <td>0.079759</td>\n    </tr>\n    <tr>\n      <th>24</th>\n      <td>2951</td>\n      <td>206</td>\n      <td>0.069807</td>\n    </tr>\n    <tr>\n      <th>25</th>\n      <td>3512</td>\n      <td>110</td>\n      <td>0.031321</td>\n    </tr>\n    <tr>\n      <th>26</th>\n      <td>2688</td>\n      <td>99</td>\n      <td>0.036830</td>\n    </tr>\n    <tr>\n      <th>27</th>\n      <td>3819</td>\n      <td>95</td>\n      <td>0.024876</td>\n    </tr>\n    <tr>\n      <th>28</th>\n      <td>105702</td>\n      <td>8820</td>\n      <td>0.083442</td>\n    </tr>\n    <tr>\n      <th>29</th>\n      <td>14407</td>\n      <td>862</td>\n      <td>0.059832</td>\n    </tr>\n    <tr>\n      <th>30</th>\n      <td>22532</td>\n      <td>818</td>\n      <td>0.036304</td>\n    </tr>\n    <tr>\n      <th>31</th>\n      <td>2438</td>\n      <td>93</td>\n      <td>0.038146</td>\n    </tr>\n    <tr>\n      <th>32</th>\n      <td>3966</td>\n      <td>112</td>\n      <td>0.028240</td>\n    </tr>\n    <tr>\n      <th>33</th>\n      <td>10528</td>\n      <td>437</td>\n      <td>0.041508</td>\n    </tr>\n    <tr>\n      <th>34</th>\n      <td>2071</td>\n      <td>87</td>\n      <td>0.042009</td>\n    </tr>\n    <tr>\n      <th>35</th>\n      <td>10094</td>\n      <td>670</td>\n      <td>0.066376</td>\n    </tr>\n    <tr>\n      <th>36</th>\n      <td>13071</td>\n      <td>446</td>\n      <td>0.034121</td>\n    </tr>\n    <tr>\n      <th>37</th>\n      <td>6876</td>\n      <td>252</td>\n      <td>0.036649</td>\n    </tr>\n    <tr>\n      <th>38</th>\n      <td>2804</td>\n      <td>239</td>\n      <td>0.085235</td>\n    </tr>\n    <tr>\n      <th>39</th>\n      <td>5863</td>\n      <td>424</td>\n      <td>0.072318</td>\n    </tr>\n    <tr>\n      <th>40</th>\n      <td>1687</td>\n      <td>88</td>\n      <td>0.052164</td>\n    </tr>\n    <tr>\n      <th>41</th>\n      <td>22487</td>\n      <td>1297</td>\n      <td>0.057678</td>\n    </tr>\n    <tr>\n      <th>42</th>\n      <td>722</td>\n      <td>26</td>\n      <td>0.036011</td>\n    </tr>\n    <tr>\n      <th>43</th>\n      <td>4823</td>\n      <td>181</td>\n      <td>0.037529</td>\n    </tr>\n    <tr>\n      <th>44</th>\n      <td>958</td>\n      <td>17</td>\n      <td>0.017745</td>\n    </tr>\n    <tr>\n      <th>45</th>\n      <td>8206</td>\n      <td>442</td>\n      <td>0.053863</td>\n    </tr>\n    <tr>\n      <th>46</th>\n      <td>29166</td>\n      <td>1616</td>\n      <td>0.055407</td>\n    </tr>\n    <tr>\n      <th>47</th>\n      <td>8805</td>\n      <td>447</td>\n      <td>0.050767</td>\n    </tr>\n    <tr>\n      <th>48</th>\n      <td>3091</td>\n      <td>182</td>\n      <td>0.058881</td>\n    </tr>\n    <tr>\n      <th>49</th>\n      <td>2283</td>\n      <td>81</td>\n      <td>0.035480</td>\n    </tr>\n    <tr>\n      <th>50</th>\n      <td>10321</td>\n      <td>400</td>\n      <td>0.038756</td>\n    </tr>\n    <tr>\n      <th>51</th>\n      <td>259</td>\n      <td>20</td>\n      <td>0.077220</td>\n    </tr>\n    <tr>\n      <th>52</th>\n      <td>224</td>\n      <td>12</td>\n      <td>0.053571</td>\n    </tr>\n  </tbody>\n</table>\n</div>"
     },
     "execution_count": 15,
     "metadata": {},
     "output_type": "execute_result"
    }
   ],
   "source": [
    "relation_with_target(df_prep, \"region_code\", TARGET)"
   ],
   "metadata": {
    "pycharm": {
     "name": "#%%\n"
    },
    "id": "6EvdaelCoA48",
    "colab": {
     "base_uri": "https://localhost:8080/",
     "height": 1000
    },
    "executionInfo": {
     "status": "ok",
     "timestamp": 1650652135738,
     "user_tz": -120,
     "elapsed": 966,
     "user": {
      "displayName": "nerea dominguez cabezas",
      "userId": "01946356256277218181"
     }
    },
    "outputId": "21ac0ba9-0acd-4a65-ae8a-7a108c39822b"
   }
  },
  {
   "cell_type": "markdown",
   "source": [
    "## Split dataframes\n",
    "\n",
    "Dividimos los datos en dos particiones, partición de desarrollo (train + test) y partición de validación"
   ],
   "metadata": {
    "collapsed": false,
    "pycharm": {
     "name": "#%% md\n"
    },
    "id": "jtQAKwN6oA48"
   }
  },
  {
   "cell_type": "code",
   "execution_count": 16,
   "outputs": [],
   "source": [
    "splitter = EasyMoneySplitter(DEV_PARTITION_PERIOD, VAL_PARTITION_PERIOD)"
   ],
   "metadata": {
    "pycharm": {
     "name": "#%%\n"
    },
    "id": "PG_FU9JHoA49"
   }
  },
  {
   "cell_type": "markdown",
   "source": [
    "### Train partition\n",
    "\n",
    "Distribución del target en el set de desarrollo, si más del 70% o menos del 30% de los clientes tiene el target en true se hace undersampling automáticamente de la clase mayoritaria. El desarrollo está al 99,41 - 0,059%, no está equilibrado, añadimos una función de undersampling que si es mayor de 0,70, hará el undersampling, en este si lo hace."
   ],
   "metadata": {
    "collapsed": false,
    "pycharm": {
     "name": "#%% md\n"
    },
    "id": "lsmNP5UpoA4-"
   }
  },
  {
   "cell_type": "code",
   "execution_count": 17,
   "outputs": [
    {
     "name": "stdout",
     "output_type": "stream",
     "text": [
      "Distribucion en la particion de desarrollo:  0.059020688326168046\n"
     ]
    },
    {
     "data": {
      "text/plain": "<Figure size 432x288 with 1 Axes>",
      "image/png": "[encoded data removed]"
     },
     "metadata": {
      "needs_background": "light"
     },
     "output_type": "display_data"
    },
    {
     "name": "stdout",
     "output_type": "stream",
     "text": [
      "payroll\n",
      "0    410171\n",
      "1     25727\n",
      "Name: payroll, dtype: int64\n",
      "\n",
      "\n",
      "    ******* UNDERSAMPLING: MAJORITY CLASS 0 *******\n"
     ]
    },
    {
     "data": {
      "text/plain": "<Figure size 432x288 with 1 Axes>",
      "image/png": "[encoded data removed]"
     },
     "metadata": {
      "needs_background": "light"
     },
     "output_type": "display_data"
    },
    {
     "name": "stdout",
     "output_type": "stream",
     "text": [
      "payroll\n",
      "0    102908\n",
      "1     25727\n",
      "Name: payroll, dtype: int64\n"
     ]
    }
   ],
   "source": [
    "train_df = splitter.get_train_partition(df_prep)\n",
    "train_target_mean = train_df[TARGET].mean()\n",
    "\n",
    "print(\"Distribucion en la particion de desarrollo: \", train_target_mean)\n",
    "print(hist_plot(train_df, TARGET))\n",
    "\n",
    "if DO_UNDER_SAMPLING and train_target_mean >= 0.70:\n",
    "    print(\"\"\"\n",
    "\n",
    "    ******* UNDERSAMPLING: MAJORITY CLASS 1 *******\"\"\")\n",
    "    train_df = EasyMoneySplitter.under_sample(train_df, TARGET, False)\n",
    "    print(hist_plot(train_df, TARGET))\n",
    "\n",
    "elif DO_UNDER_SAMPLING and train_target_mean <= 0.30:\n",
    "    print(\"\"\"\n",
    "\n",
    "    ******* UNDERSAMPLING: MAJORITY CLASS 0 *******\"\"\")\n",
    "    train_df = EasyMoneySplitter.under_sample(train_df, TARGET, True)\n",
    "    print(hist_plot(train_df, TARGET))"
   ],
   "metadata": {
    "pycharm": {
     "name": "#%%\n"
    },
    "id": "r2Z6O3oIoA4-",
    "colab": {
     "base_uri": "https://localhost:8080/",
     "height": 729
    },
    "executionInfo": {
     "status": "ok",
     "timestamp": 1650652136720,
     "user_tz": -120,
     "elapsed": 991,
     "user": {
      "displayName": "nerea dominguez cabezas",
      "userId": "01946356256277218181"
     }
    },
    "outputId": "ec5f6e8e-f948-4196-d3fb-b98312a5069b"
   }
  },
  {
   "cell_type": "markdown",
   "source": [
    "### Validation partition\n",
    "\n",
    "\n",
    "Distribución del target en el set de validación. En validación no hacemos undersampling, solo en train. Aquí se ve que en el último mes la mayoría no compró."
   ],
   "metadata": {
    "collapsed": false,
    "pycharm": {
     "name": "#%% md\n"
    },
    "id": "3qkTtkQioA4-"
   }
  },
  {
   "cell_type": "code",
   "execution_count": 18,
   "outputs": [
    {
     "data": {
      "text/plain": "<Figure size 432x288 with 1 Axes>",
      "image/png": "[encoded data removed]"
     },
     "metadata": {
      "needs_background": "light"
     },
     "output_type": "display_data"
    },
    {
     "name": "stdout",
     "output_type": "stream",
     "text": [
      "payroll\n"
     ]
    },
    {
     "data": {
      "text/plain": "0    43229\n1     1168\nName: payroll, dtype: int64"
     },
     "execution_count": 18,
     "metadata": {},
     "output_type": "execute_result"
    }
   ],
   "source": [
    "validation_df = splitter.get_validation_partition(df_prep)\n",
    "hist_plot(validation_df, TARGET)"
   ],
   "metadata": {
    "pycharm": {
     "name": "#%%\n"
    },
    "id": "3-rlX7AmoA4_",
    "colab": {
     "base_uri": "https://localhost:8080/",
     "height": 337
    },
    "executionInfo": {
     "status": "ok",
     "timestamp": 1650652136721,
     "user_tz": -120,
     "elapsed": 14,
     "user": {
      "displayName": "nerea dominguez cabezas",
      "userId": "01946356256277218181"
     }
    },
    "outputId": "530ce8f5-ee9a-435d-b25c-ab3498ee8dc5"
   }
  },
  {
   "cell_type": "markdown",
   "source": [
    "#### Partitions\n",
    "\n",
    "\n",
    "Separación de las particiones. Preparando los datos para el modelo, aquí hacemos la separación del 20% para test."
   ],
   "metadata": {
    "collapsed": false,
    "pycharm": {
     "name": "#%% md\n"
    },
    "id": "YXGokYvPoA4_"
   }
  },
  {
   "cell_type": "code",
   "execution_count": 19,
   "outputs": [
    {
     "name": "stdout",
     "output_type": "stream",
     "text": [
      "\n",
      "TRAIN:\n",
      "    X_train.shape: (102908, 140)\n",
      "    y_train.shape: (102908, 1)\n",
      "TEST:\n",
      "    X_test.shape: (25727, 140)\n",
      "    y_test.shape: (25727, 1)\n",
      "VALIDATION:\n",
      "    X_val.shape: (44397, 140)\n",
      "    y_val.shape: (44397, 1)\n",
      "\n"
     ]
    }
   ],
   "source": [
    "to_exclude = EXCLUDE_COLUMNS\n",
    "to_exclude.append(TARGET)\n",
    "\n",
    "dev_X = train_df.drop(to_exclude, axis=1)\n",
    "dev_y = train_df[[TARGET]]\n",
    "\n",
    "X_val = validation_df.drop(to_exclude, axis=1)\n",
    "y_val = validation_df[[TARGET]]\n",
    "\n",
    "X_train, X_test, y_train, y_test = train_test_split(dev_X, dev_y, test_size=0.2, random_state=RANDOM_STATE,\n",
    "                                                    stratify=dev_y)\n",
    "\n",
    "print(f\"\"\"\n",
    "TRAIN:\n",
    "    X_train.shape: {X_train.shape}\n",
    "    y_train.shape: {y_train.shape}\n",
    "TEST:\n",
    "    X_test.shape: {X_test.shape}\n",
    "    y_test.shape: {y_test.shape}\n",
    "VALIDATION:\n",
    "    X_val.shape: {X_val.shape}\n",
    "    y_val.shape: {y_val.shape}\n",
    "\"\"\")"
   ],
   "metadata": {
    "pycharm": {
     "name": "#%%\n"
    },
    "id": "vEs3xyY0oA4_",
    "colab": {
     "base_uri": "https://localhost:8080/"
    },
    "executionInfo": {
     "status": "ok",
     "timestamp": 1650652137585,
     "user_tz": -120,
     "elapsed": 872,
     "user": {
      "displayName": "nerea dominguez cabezas",
      "userId": "01946356256277218181"
     }
    },
    "outputId": "09c27719-9410-4ced-9112-15e4e48706bc"
   }
  },
  {
   "cell_type": "markdown",
   "source": [
    "## Modelling"
   ],
   "metadata": {
    "collapsed": false,
    "pycharm": {
     "name": "#%% md\n"
    },
    "id": "gqBhu2bBoA5A"
   }
  },
  {
   "cell_type": "markdown",
   "source": [
    "Decidimos utilizar el **XGBClassifier** para estimar con una mayor precisión la probabilidad que hay de que un cliente nos compre o no un producto y combina estimaciones de un conjunto de modelos más simples y débiles. Utilizamos AUC . El que va a determinar si el algoritmo es correcto o no es el **AUC Validation.**"
   ],
   "metadata": {
    "id": "UrQ8MlNGbcxc"
   }
  },
  {
   "cell_type": "code",
   "execution_count": 20,
   "outputs": [
    {
     "name": "stdout",
     "output_type": "stream",
     "text": [
      "[0]\tvalidation_0-auc:0.99928\n",
      "[1]\tvalidation_0-auc:0.99928\n",
      "[2]\tvalidation_0-auc:0.99927\n",
      "[3]\tvalidation_0-auc:0.99927\n",
      "[4]\tvalidation_0-auc:0.99932\n",
      "[5]\tvalidation_0-auc:0.99932\n",
      "[6]\tvalidation_0-auc:0.99948\n",
      "[7]\tvalidation_0-auc:0.99948\n",
      "[8]\tvalidation_0-auc:0.99948\n",
      "[9]\tvalidation_0-auc:0.99948\n",
      "[10]\tvalidation_0-auc:0.99948\n",
      "[11]\tvalidation_0-auc:0.99951\n",
      "[12]\tvalidation_0-auc:0.99951\n",
      "[13]\tvalidation_0-auc:0.99950\n",
      "[14]\tvalidation_0-auc:0.99950\n",
      "[15]\tvalidation_0-auc:0.99950\n",
      "[16]\tvalidation_0-auc:0.99946\n",
      "[17]\tvalidation_0-auc:0.99947\n",
      "[18]\tvalidation_0-auc:0.99947\n",
      "[19]\tvalidation_0-auc:0.99947\n",
      "[20]\tvalidation_0-auc:0.99945\n",
      "[21]\tvalidation_0-auc:0.99943\n",
      "[22]\tvalidation_0-auc:0.99940\n",
      "Wall time: 2.29 s\n"
     ]
    },
    {
     "data": {
      "text/plain": "XGBClassifier(base_score=0.5, booster='gbtree', colsample_bylevel=1,\n              colsample_bynode=1, colsample_bytree=1, enable_categorical=False,\n              gamma=0, gpu_id=-1, importance_type=None,\n              interaction_constraints='', learning_rate=0.300000012,\n              max_delta_step=0, max_depth=5, min_child_weight=100, missing=nan,\n              monotone_constraints='()', n_estimators=100, n_jobs=12,\n              num_parallel_tree=1, predictor='auto', random_state=123,\n              reg_alpha=0, reg_lambda=1, scale_pos_weight=1, subsample=1,\n              tree_method='exact', use_label_encoder=False,\n              validate_parameters=1, verbosity=None)"
     },
     "execution_count": 20,
     "metadata": {},
     "output_type": "execute_result"
    }
   ],
   "source": [
    "%%time\n",
    "model: XGBClassifier = XGBClassifier(\n",
    "    max_depth=5,\n",
    "    min_child_weight=100,\n",
    "    random_state=RANDOM_STATE,\n",
    "    use_label_encoder=False\n",
    ")\n",
    "\n",
    "eval_set = [(X_test, y_test.values.ravel())]\n",
    "model.fit(\n",
    "    X_train,\n",
    "    y_train.values.ravel(),\n",
    "    eval_set=eval_set,\n",
    "    verbose=True,\n",
    "    eval_metric=\"auc\",\n",
    "    early_stopping_rounds=10\n",
    ")"
   ],
   "metadata": {
    "pycharm": {
     "name": "#%%\n"
    },
    "id": "KGMOynjEoA5A",
    "colab": {
     "base_uri": "https://localhost:8080/"
    },
    "executionInfo": {
     "status": "ok",
     "timestamp": 1650652141934,
     "user_tz": -120,
     "elapsed": 4354,
     "user": {
      "displayName": "nerea dominguez cabezas",
      "userId": "01946356256277218181"
     }
    },
    "outputId": "62dff8e6-1d5d-446d-8fe1-61a30bb63a1a"
   }
  },
  {
   "cell_type": "markdown",
   "source": [
    "En esta línea se registran las métricas de lo que nos ha salido para que nos seas más sencillo comparar."
   ],
   "metadata": {
    "id": "CqFgaQV5bj_E"
   }
  },
  {
   "cell_type": "code",
   "execution_count": 21,
   "outputs": [
    {
     "data": {
      "text/plain": "               target  target_mean                       date  is_overfitted  \\\n11            payroll     0.200000 2022-04-27 17:01:10.526978          False   \n10  long_term_deposit     0.200000 2022-04-27 16:53:33.884034          False   \n9               funds     0.200000 2022-04-27 16:45:55.677171           True   \n8         emc_account     0.200000 2022-04-27 16:32:33.940107           True   \n7           em_acount     0.665269 2022-04-27 15:25:32.811830          False   \n6          debit_card     0.200000 2022-04-27 15:09:38.793866          False   \n5          debit_card     0.200000 2022-04-27 14:49:31.540326           True   \n4         credit_card     0.200000 2022-04-27 14:37:27.899493           True   \n3         credit_card     0.200000 2022-04-27 14:37:10.272705           True   \n2         credit_card     0.200000 2022-04-27 14:36:54.120837           True   \n1         credit_card     0.200000 2022-04-27 14:36:32.722509           True   \n0           em_acount     0.665269 2022-04-27 14:07:37.791925          False   \n\n    roc_auc_train  roc_auc_test  roc_auc_val  accuracy_train  accuracy_test  \\\n11       0.999681      0.999514     0.999722        0.998329       0.998212   \n10       0.960904      0.957402     0.923122        0.909677       0.907015   \n9        0.950618      0.943459     0.923459        0.894785       0.882353   \n8        0.940352      0.932107     0.889741        0.884196       0.878555   \n7        0.922183      0.920140     0.885116        0.869104       0.869748   \n6        0.890304      0.887208     0.880807        0.840018       0.836871   \n5        0.892786      0.887516     0.880482        0.842148       0.835814   \n4        0.945268      0.936656     0.919524        0.889187       0.878652   \n3        0.941331      0.934843     0.918168        0.884780       0.876841   \n2        0.948153      0.939861     0.921898        0.892297       0.881671   \n1        0.945268      0.936656     0.919524        0.889187       0.878652   \n0        0.922183      0.920140     0.885116        0.869104       0.869748   \n\n    accuracy_val  recall_train  recall_test  recall_val  precision_train  \\\n11      0.997680      1.000000     1.000000    1.000000         0.991712   \n10      0.953671      0.774667     0.777717    0.500000         0.773924   \n9       0.938433      0.710387     0.754545    0.529412         0.750200   \n8       0.944541      0.623222     0.616339    0.279503         0.754986   \n7       0.821487      0.929093     0.929927    0.824353         0.880705   \n6       0.911299      0.514251     0.505896    0.303563         0.620767   \n5       0.909007      0.529865     0.512320    0.310883         0.624114   \n4       0.948871      0.700724     0.681763    0.441767         0.733375   \n3       0.948712      0.678690     0.669082    0.461847         0.727082   \n2       0.948462      0.712496     0.694444    0.453815         0.739505   \n1       0.948871      0.700724     0.681763    0.441767         0.733375   \n0       0.821487      0.929093     0.929927    0.824353         0.880705   \n\n    precision_test  precision_val  f1_score_train  f1_score_test  \\\n11        0.991139       0.918961        0.995839       0.995550   \n10        0.762238       0.000489        0.774295       0.769899   \n9         0.687845       0.003335        0.729751       0.719653   \n8         0.733864       0.226257        0.682806       0.669987   \n7         0.880910       0.371492        0.904252       0.904755   \n6         0.611400       0.205620        0.562511       0.553667   \n5         0.605886       0.201966        0.573141       0.555188   \n4         0.702551       0.049460        0.716678       0.692001   \n3         0.701266       0.051316        0.702053       0.684796   \n2         0.708128       0.050267        0.725749       0.701220   \n1         0.702551       0.049460        0.716678       0.692001   \n0         0.880910       0.371492        0.904252       0.904755   \n\n    f1_score_val                                              model  \n11      0.957770  XGBClassifier(base_score=0.5, booster='gbtree'...  \n10      0.000978  XGBClassifier(base_score=0.5, booster='gbtree'...  \n9       0.006627  XGBClassifier(base_score=0.5, booster='gbtree'...  \n8       0.250077  XGBClassifier(base_score=0.5, booster='gbtree'...  \n7       0.512174  XGBClassifier(base_score=0.5, booster='gbtree'...  \n6       0.245171  XGBClassifier(base_score=0.5, booster='gbtree'...  \n5       0.244859  XGBClassifier(base_score=0.5, booster='gbtree'...  \n4       0.088961  XGBClassifier(base_score=0.5, booster='gbtree'...  \n3       0.092369  XGBClassifier(base_score=0.5, booster='gbtree'...  \n2       0.090509  XGBClassifier(base_score=0.5, booster='gbtree'...  \n1       0.088961  XGBClassifier(base_score=0.5, booster='gbtree'...  \n0       0.512174  XGBClassifier(base_score=0.5, booster='gbtree'...  ",
      "text/html": "<div>\n<style scoped>\n    .dataframe tbody tr th:only-of-type {\n        vertical-align: middle;\n    }\n\n    .dataframe tbody tr th {\n        vertical-align: top;\n    }\n\n    .dataframe thead th {\n        text-align: right;\n    }\n</style>\n<table border=\"1\" class=\"dataframe\">\n  <thead>\n    <tr style=\"text-align: right;\">\n      <th></th>\n      <th>target</th>\n      <th>target_mean</th>\n      <th>date</th>\n      <th>is_overfitted</th>\n      <th>roc_auc_train</th>\n      <th>roc_auc_test</th>\n      <th>roc_auc_val</th>\n      <th>accuracy_train</th>\n      <th>accuracy_test</th>\n      <th>accuracy_val</th>\n      <th>recall_train</th>\n      <th>recall_test</th>\n      <th>recall_val</th>\n      <th>precision_train</th>\n      <th>precision_test</th>\n      <th>precision_val</th>\n      <th>f1_score_train</th>\n      <th>f1_score_test</th>\n      <th>f1_score_val</th>\n      <th>model</th>\n    </tr>\n  </thead>\n  <tbody>\n    <tr>\n      <th>11</th>\n      <td>payroll</td>\n      <td>0.200000</td>\n      <td>2022-04-27 17:01:10.526978</td>\n      <td>False</td>\n      <td>0.999681</td>\n      <td>0.999514</td>\n      <td>0.999722</td>\n      <td>0.998329</td>\n      <td>0.998212</td>\n      <td>0.997680</td>\n      <td>1.000000</td>\n      <td>1.000000</td>\n      <td>1.000000</td>\n      <td>0.991712</td>\n      <td>0.991139</td>\n      <td>0.918961</td>\n      <td>0.995839</td>\n      <td>0.995550</td>\n      <td>0.957770</td>\n      <td>XGBClassifier(base_score=0.5, booster='gbtree'...</td>\n    </tr>\n    <tr>\n      <th>10</th>\n      <td>long_term_deposit</td>\n      <td>0.200000</td>\n      <td>2022-04-27 16:53:33.884034</td>\n      <td>False</td>\n      <td>0.960904</td>\n      <td>0.957402</td>\n      <td>0.923122</td>\n      <td>0.909677</td>\n      <td>0.907015</td>\n      <td>0.953671</td>\n      <td>0.774667</td>\n      <td>0.777717</td>\n      <td>0.500000</td>\n      <td>0.773924</td>\n      <td>0.762238</td>\n      <td>0.000489</td>\n      <td>0.774295</td>\n      <td>0.769899</td>\n      <td>0.000978</td>\n      <td>XGBClassifier(base_score=0.5, booster='gbtree'...</td>\n    </tr>\n    <tr>\n      <th>9</th>\n      <td>funds</td>\n      <td>0.200000</td>\n      <td>2022-04-27 16:45:55.677171</td>\n      <td>True</td>\n      <td>0.950618</td>\n      <td>0.943459</td>\n      <td>0.923459</td>\n      <td>0.894785</td>\n      <td>0.882353</td>\n      <td>0.938433</td>\n      <td>0.710387</td>\n      <td>0.754545</td>\n      <td>0.529412</td>\n      <td>0.750200</td>\n      <td>0.687845</td>\n      <td>0.003335</td>\n      <td>0.729751</td>\n      <td>0.719653</td>\n      <td>0.006627</td>\n      <td>XGBClassifier(base_score=0.5, booster='gbtree'...</td>\n    </tr>\n    <tr>\n      <th>8</th>\n      <td>emc_account</td>\n      <td>0.200000</td>\n      <td>2022-04-27 16:32:33.940107</td>\n      <td>True</td>\n      <td>0.940352</td>\n      <td>0.932107</td>\n      <td>0.889741</td>\n      <td>0.884196</td>\n      <td>0.878555</td>\n      <td>0.944541</td>\n      <td>0.623222</td>\n      <td>0.616339</td>\n      <td>0.279503</td>\n      <td>0.754986</td>\n      <td>0.733864</td>\n      <td>0.226257</td>\n      <td>0.682806</td>\n      <td>0.669987</td>\n      <td>0.250077</td>\n      <td>XGBClassifier(base_score=0.5, booster='gbtree'...</td>\n    </tr>\n    <tr>\n      <th>7</th>\n      <td>em_acount</td>\n      <td>0.665269</td>\n      <td>2022-04-27 15:25:32.811830</td>\n      <td>False</td>\n      <td>0.922183</td>\n      <td>0.920140</td>\n      <td>0.885116</td>\n      <td>0.869104</td>\n      <td>0.869748</td>\n      <td>0.821487</td>\n      <td>0.929093</td>\n      <td>0.929927</td>\n      <td>0.824353</td>\n      <td>0.880705</td>\n      <td>0.880910</td>\n      <td>0.371492</td>\n      <td>0.904252</td>\n      <td>0.904755</td>\n      <td>0.512174</td>\n      <td>XGBClassifier(base_score=0.5, booster='gbtree'...</td>\n    </tr>\n    <tr>\n      <th>6</th>\n      <td>debit_card</td>\n      <td>0.200000</td>\n      <td>2022-04-27 15:09:38.793866</td>\n      <td>False</td>\n      <td>0.890304</td>\n      <td>0.887208</td>\n      <td>0.880807</td>\n      <td>0.840018</td>\n      <td>0.836871</td>\n      <td>0.911299</td>\n      <td>0.514251</td>\n      <td>0.505896</td>\n      <td>0.303563</td>\n      <td>0.620767</td>\n      <td>0.611400</td>\n      <td>0.205620</td>\n      <td>0.562511</td>\n      <td>0.553667</td>\n      <td>0.245171</td>\n      <td>XGBClassifier(base_score=0.5, booster='gbtree'...</td>\n    </tr>\n    <tr>\n      <th>5</th>\n      <td>debit_card</td>\n      <td>0.200000</td>\n      <td>2022-04-27 14:49:31.540326</td>\n      <td>True</td>\n      <td>0.892786</td>\n      <td>0.887516</td>\n      <td>0.880482</td>\n      <td>0.842148</td>\n      <td>0.835814</td>\n      <td>0.909007</td>\n      <td>0.529865</td>\n      <td>0.512320</td>\n      <td>0.310883</td>\n      <td>0.624114</td>\n      <td>0.605886</td>\n      <td>0.201966</td>\n      <td>0.573141</td>\n      <td>0.555188</td>\n      <td>0.244859</td>\n      <td>XGBClassifier(base_score=0.5, booster='gbtree'...</td>\n    </tr>\n    <tr>\n      <th>4</th>\n      <td>credit_card</td>\n      <td>0.200000</td>\n      <td>2022-04-27 14:37:27.899493</td>\n      <td>True</td>\n      <td>0.945268</td>\n      <td>0.936656</td>\n      <td>0.919524</td>\n      <td>0.889187</td>\n      <td>0.878652</td>\n      <td>0.948871</td>\n      <td>0.700724</td>\n      <td>0.681763</td>\n      <td>0.441767</td>\n      <td>0.733375</td>\n      <td>0.702551</td>\n      <td>0.049460</td>\n      <td>0.716678</td>\n      <td>0.692001</td>\n      <td>0.088961</td>\n      <td>XGBClassifier(base_score=0.5, booster='gbtree'...</td>\n    </tr>\n    <tr>\n      <th>3</th>\n      <td>credit_card</td>\n      <td>0.200000</td>\n      <td>2022-04-27 14:37:10.272705</td>\n      <td>True</td>\n      <td>0.941331</td>\n      <td>0.934843</td>\n      <td>0.918168</td>\n      <td>0.884780</td>\n      <td>0.876841</td>\n      <td>0.948712</td>\n      <td>0.678690</td>\n      <td>0.669082</td>\n      <td>0.461847</td>\n      <td>0.727082</td>\n      <td>0.701266</td>\n      <td>0.051316</td>\n      <td>0.702053</td>\n      <td>0.684796</td>\n      <td>0.092369</td>\n      <td>XGBClassifier(base_score=0.5, booster='gbtree'...</td>\n    </tr>\n    <tr>\n      <th>2</th>\n      <td>credit_card</td>\n      <td>0.200000</td>\n      <td>2022-04-27 14:36:54.120837</td>\n      <td>True</td>\n      <td>0.948153</td>\n      <td>0.939861</td>\n      <td>0.921898</td>\n      <td>0.892297</td>\n      <td>0.881671</td>\n      <td>0.948462</td>\n      <td>0.712496</td>\n      <td>0.694444</td>\n      <td>0.453815</td>\n      <td>0.739505</td>\n      <td>0.708128</td>\n      <td>0.050267</td>\n      <td>0.725749</td>\n      <td>0.701220</td>\n      <td>0.090509</td>\n      <td>XGBClassifier(base_score=0.5, booster='gbtree'...</td>\n    </tr>\n    <tr>\n      <th>1</th>\n      <td>credit_card</td>\n      <td>0.200000</td>\n      <td>2022-04-27 14:36:32.722509</td>\n      <td>True</td>\n      <td>0.945268</td>\n      <td>0.936656</td>\n      <td>0.919524</td>\n      <td>0.889187</td>\n      <td>0.878652</td>\n      <td>0.948871</td>\n      <td>0.700724</td>\n      <td>0.681763</td>\n      <td>0.441767</td>\n      <td>0.733375</td>\n      <td>0.702551</td>\n      <td>0.049460</td>\n      <td>0.716678</td>\n      <td>0.692001</td>\n      <td>0.088961</td>\n      <td>XGBClassifier(base_score=0.5, booster='gbtree'...</td>\n    </tr>\n    <tr>\n      <th>0</th>\n      <td>em_acount</td>\n      <td>0.665269</td>\n      <td>2022-04-27 14:07:37.791925</td>\n      <td>False</td>\n      <td>0.922183</td>\n      <td>0.920140</td>\n      <td>0.885116</td>\n      <td>0.869104</td>\n      <td>0.869748</td>\n      <td>0.821487</td>\n      <td>0.929093</td>\n      <td>0.929927</td>\n      <td>0.824353</td>\n      <td>0.880705</td>\n      <td>0.880910</td>\n      <td>0.371492</td>\n      <td>0.904252</td>\n      <td>0.904755</td>\n      <td>0.512174</td>\n      <td>XGBClassifier(base_score=0.5, booster='gbtree'...</td>\n    </tr>\n  </tbody>\n</table>\n</div>"
     },
     "execution_count": 21,
     "metadata": {},
     "output_type": "execute_result"
    }
   ],
   "source": [
    "report_df = reporter.record_evaluation(TARGET, model, X_train, y_train, X_test, y_test, X_val, y_val,\n",
    "                                       train_df[TARGET].mean())\n",
    "report_df.sort_values(by=\"date\", ascending=False)"
   ],
   "metadata": {
    "pycharm": {
     "name": "#%%\n"
    },
    "id": "19to6EwjoA5A",
    "colab": {
     "base_uri": "https://localhost:8080/",
     "height": 747
    },
    "executionInfo": {
     "status": "ok",
     "timestamp": 1650652143306,
     "user_tz": -120,
     "elapsed": 1377,
     "user": {
      "displayName": "nerea dominguez cabezas",
      "userId": "01946356256277218181"
     }
    },
    "outputId": "688626b5-8bfc-4547-e45a-a77f4bac3891"
   }
  },
  {
   "cell_type": "markdown",
   "source": [
    "En estas gráficas aparecen las variables que más peso tienen y que más se repiten. **Weight:** cantidad de veces que esta variable aparece en el DT (age/pension plan)\n",
    "**Gain:** variables más influyentes (pension plan)"
   ],
   "metadata": {
    "id": "FmP4jdzkbpdb"
   }
  },
  {
   "cell_type": "code",
   "execution_count": 22,
   "outputs": [
    {
     "data": {
      "text/plain": "<AxesSubplot:title={'center':'Feature Importance (Gain)'}, xlabel='F score', ylabel='Features'>"
     },
     "execution_count": 22,
     "metadata": {},
     "output_type": "execute_result"
    },
    {
     "data": {
      "text/plain": "<Figure size 1800x504 with 2 Axes>",
      "image/png": "[encoded data removed]"
     },
     "metadata": {
      "needs_background": "light"
     },
     "output_type": "display_data"
    }
   ],
   "source": [
    "fig, (ax1, ax2) = plt.subplots(1, 2, figsize=(25, 7))\n",
    "# \"weight\" is the number of times a feature appears in a tree\n",
    "plot_importance(model, height=0.7, max_num_features=10, ax=ax1, importance_type=\"weight\",\n",
    "                title=\"Feature Importance (Weight)\")\n",
    "\n",
    "# \"gain\" is the average gain of splits which use the feature\n",
    "plot_importance(model, height=0.7, max_num_features=10, ax=ax2, importance_type=\"gain\",\n",
    "                title=\"Feature Importance (Gain)\")"
   ],
   "metadata": {
    "pycharm": {
     "name": "#%%\n"
    },
    "id": "Wj0Ys0G6oA5A",
    "colab": {
     "base_uri": "https://localhost:8080/",
     "height": 476
    },
    "executionInfo": {
     "status": "ok",
     "timestamp": 1650652143572,
     "user_tz": -120,
     "elapsed": 275,
     "user": {
      "displayName": "nerea dominguez cabezas",
      "userId": "01946356256277218181"
     }
    },
    "outputId": "cefcaa57-fd56-4cf4-8e65-cd25196baf0a"
   }
  },
  {
   "cell_type": "code",
   "execution_count": 23,
   "outputs": [
    {
     "data": {
      "text/plain": "<sklearn.metrics._plot.confusion_matrix.ConfusionMatrixDisplay at 0x1f0d9ce8f40>"
     },
     "execution_count": 23,
     "metadata": {},
     "output_type": "execute_result"
    },
    {
     "data": {
      "text/plain": "<Figure size 1080x360 with 3 Axes>",
      "image/png": "[encoded data removed]"
     },
     "metadata": {
      "needs_background": "light"
     },
     "output_type": "display_data"
    }
   ],
   "source": [
    "fig, (ax1, ax2) = plt.subplots(1, 2, figsize=(15, 5))\n",
    "\n",
    "fpr, tpr, th = roc_curve(y_test, get_y_score(model, X_test, y_test))\n",
    "ax1.set_title(\"ROC Curve\")\n",
    "ax1.plot(fpr, tpr)\n",
    "ax1.plot([0, 1], [0, 1], linestyle=\"--\")\n",
    "ax1.set_xlabel('False Positive Rate')\n",
    "ax1.set_ylabel('True Positive Rate')\n",
    "\n",
    "plot_confusion_matrix(model, X_test, y_test, cmap=\"RdYlGn\", display_labels=[\"No compra\", \"Compra\"], ax=ax2)"
   ],
   "metadata": {
    "collapsed": false,
    "pycharm": {
     "name": "#%%\n"
    }
   }
  },
  {
   "cell_type": "markdown",
   "source": [
    "En esta matriz podemos ver los TP, FP, TN, FN. Es decir, podemos ver cuál ha sido la predicción del modelo y si realmente esa predicción se ha cumplido o no. Vemos que el modelo se equivoca más a la hora de predecir los clientes que realmente no han comprado, pero el modelo piensa que si. Estos corresponden al cuadrante superior derecho de la confussion matrix. En cambio, existen 103 clientes que el modelo ha predicho que no iban a comprar pero que realmente han comprado.\n",
    "\n",
    "A nivel de negocio nos interesa minimizar el número de Falsos Positivos, es decir aquellos clientes que el modelo ha predicho que iban a comprar pero no han comprado. Nuestro principal objetivo es ofrecer productos que se ajusten a las necesidades de los clientes y no enviar campañas que no sean de su interés porque esto puede causar la baja del cliente.\n",
    "\n",
    "Si la curva AUC es cercana al 1 nos dice que el modelo está prediciendo bien. Siempre se elige la mayor área bajo la curva."
   ],
   "metadata": {
    "id": "D11s1wtVb1qL"
   }
  },
  {
   "cell_type": "code",
   "execution_count": 24,
   "outputs": [
    {
     "data": {
      "text/plain": "<sklearn.metrics._plot.confusion_matrix.ConfusionMatrixDisplay at 0x1effecacb50>"
     },
     "execution_count": 24,
     "metadata": {},
     "output_type": "execute_result"
    },
    {
     "data": {
      "text/plain": "<Figure size 1080x360 with 3 Axes>",
      "image/png": "[encoded data removed]"
     },
     "metadata": {
      "needs_background": "light"
     },
     "output_type": "display_data"
    }
   ],
   "source": [
    "fig, (ax1, ax2) = plt.subplots(1, 2, figsize=(15, 5))\n",
    "\n",
    "fpr, tpr, th = roc_curve(y_val, get_y_score(model, X_val, y_val))\n",
    "ax1.set_title(\"ROC Curve\")\n",
    "ax1.plot(fpr, tpr)\n",
    "ax1.plot([0, 1], [0, 1], linestyle=\"--\")\n",
    "ax1.set_xlabel('False Positive Rate')\n",
    "ax1.set_ylabel('True Positive Rate')\n",
    "\n",
    "plot_confusion_matrix(model, X_val, y_val, cmap=\"RdYlGn\", display_labels=[\"No compra\", \"Compra\"], ax=ax2)"
   ],
   "metadata": {
    "pycharm": {
     "name": "#%%\n"
    },
    "id": "NOBzH1LtoA5B",
    "colab": {
     "base_uri": "https://localhost:8080/",
     "height": 424
    },
    "executionInfo": {
     "status": "ok",
     "timestamp": 1650652144438,
     "user_tz": -120,
     "elapsed": 888,
     "user": {
      "displayName": "nerea dominguez cabezas",
      "userId": "01946356256277218181"
     }
    },
    "outputId": "b3eda902-6e10-4f6e-c3e8-25ab4fb8e0f4"
   }
  },
  {
   "cell_type": "code",
   "execution_count": 25,
   "outputs": [
    {
     "data": {
      "text/plain": "<Figure size 2160x2160 with 1 Axes>",
      "image/png": "[encoded data removed]"
     },
     "metadata": {
      "needs_background": "light"
     },
     "output_type": "display_data"
    }
   ],
   "source": [
    "try:\n",
    "    fig,ax=plt.subplots(figsize=(30,30))\n",
    "    plot_tree(model,num_trees=1,rankdir=\"LR\",ax=ax)\n",
    "    plt.show()\n",
    "except ImportError:\n",
    "    pass"
   ],
   "metadata": {
    "pycharm": {
     "name": "#%%\n"
    },
    "id": "E0HupkSaoA5B"
   }
  },
  {
   "cell_type": "markdown",
   "source": [
    "### Recomendations\n",
    "\n",
    "Exportamos en un csv los clientes que nuestro algoritmo ha predicho que comprarían y no lo han hecho, por lo tanto podemos recomendarle este producto. También hemos añadido un filtro para que nos descarte a las personas que tristemente han fallecido."
   ],
   "metadata": {
    "collapsed": false,
    "pycharm": {
     "name": "#%% md\n"
    },
    "id": "tnv3We4HoA5B"
   }
  },
  {
   "cell_type": "code",
   "execution_count": 26,
   "outputs": [
    {
     "data": {
      "text/plain": "        pk_cid  payroll pk_partition  active_customer  region_code  gender  \\\n20       74214        0   2019-05-28                1           28       1   \n64      144930        0   2019-05-28                1           28       1   \n184     411962        0   2019-05-28                1           28       1   \n185     414062        0   2019-05-28                1           37       1   \n242     534666        0   2019-05-28                1           28       1   \n...        ...      ...          ...              ...          ...     ...   \n37002  1537838        0   2019-05-28                1           48       0   \n37325  1539304        0   2019-05-28                1           34       1   \n38208  1542832        0   2019-05-28                1           33       0   \n38489  1543586        0   2019-05-28                1           28       1   \n39846  1547306        0   2019-05-28                1           46       1   \n\n       age  deceased  short_term_deposit  loans  ...  country_id_RO  \\\n20      78         0                   0      0  ...              0   \n64      48         0                   0      0  ...              0   \n184     76         0                   0      0  ...              0   \n185     62         0                   0      0  ...              0   \n242     69         0                   0      0  ...              0   \n...    ...       ...                 ...    ...  ...            ...   \n37002   85         0                   0      0  ...              0   \n37325   58         0                   0      0  ...              0   \n38208   59         0                   0      0  ...              0   \n38489   59         0                   0      0  ...              0   \n39846   55         0                   0      0  ...              0   \n\n       country_id_RU  country_id_SA  country_id_SE  country_id_SN  \\\n20                 0              0              0              0   \n64                 0              0              0              0   \n184                0              0              0              0   \n185                0              0              0              0   \n242                0              0              0              0   \n...              ...            ...            ...            ...   \n37002              0              0              0              0   \n37325              0              0              0              0   \n38208              0              0              0              0   \n38489              0              0              0              0   \n39846              0              0              0              0   \n\n       country_id_US  country_id_VE  prediction     score  product_to_sale  \n20                 0              0           1  0.879224          payroll  \n64                 0              0           1  0.979025          payroll  \n184                0              0           1  0.879224          payroll  \n185                0              0           1  0.879224          payroll  \n242                0              0           1  0.879224          payroll  \n...              ...            ...         ...       ...              ...  \n37002              0              0           1  0.879224          payroll  \n37325              0              0           1  0.948531          payroll  \n38208              0              0           1  0.939046          payroll  \n38489              0              0           1  0.939046          payroll  \n39846              0              0           1  0.967244          payroll  \n\n[103 rows x 146 columns]",
      "text/html": "<div>\n<style scoped>\n    .dataframe tbody tr th:only-of-type {\n        vertical-align: middle;\n    }\n\n    .dataframe tbody tr th {\n        vertical-align: top;\n    }\n\n    .dataframe thead th {\n        text-align: right;\n    }\n</style>\n<table border=\"1\" class=\"dataframe\">\n  <thead>\n    <tr style=\"text-align: right;\">\n      <th></th>\n      <th>pk_cid</th>\n      <th>payroll</th>\n      <th>pk_partition</th>\n      <th>active_customer</th>\n      <th>region_code</th>\n      <th>gender</th>\n      <th>age</th>\n      <th>deceased</th>\n      <th>short_term_deposit</th>\n      <th>loans</th>\n      <th>...</th>\n      <th>country_id_RO</th>\n      <th>country_id_RU</th>\n      <th>country_id_SA</th>\n      <th>country_id_SE</th>\n      <th>country_id_SN</th>\n      <th>country_id_US</th>\n      <th>country_id_VE</th>\n      <th>prediction</th>\n      <th>score</th>\n      <th>product_to_sale</th>\n    </tr>\n  </thead>\n  <tbody>\n    <tr>\n      <th>20</th>\n      <td>74214</td>\n      <td>0</td>\n      <td>2019-05-28</td>\n      <td>1</td>\n      <td>28</td>\n      <td>1</td>\n      <td>78</td>\n      <td>0</td>\n      <td>0</td>\n      <td>0</td>\n      <td>...</td>\n      <td>0</td>\n      <td>0</td>\n      <td>0</td>\n      <td>0</td>\n      <td>0</td>\n      <td>0</td>\n      <td>0</td>\n      <td>1</td>\n      <td>0.879224</td>\n      <td>payroll</td>\n    </tr>\n    <tr>\n      <th>64</th>\n      <td>144930</td>\n      <td>0</td>\n      <td>2019-05-28</td>\n      <td>1</td>\n      <td>28</td>\n      <td>1</td>\n      <td>48</td>\n      <td>0</td>\n      <td>0</td>\n      <td>0</td>\n      <td>...</td>\n      <td>0</td>\n      <td>0</td>\n      <td>0</td>\n      <td>0</td>\n      <td>0</td>\n      <td>0</td>\n      <td>0</td>\n      <td>1</td>\n      <td>0.979025</td>\n      <td>payroll</td>\n    </tr>\n    <tr>\n      <th>184</th>\n      <td>411962</td>\n      <td>0</td>\n      <td>2019-05-28</td>\n      <td>1</td>\n      <td>28</td>\n      <td>1</td>\n      <td>76</td>\n      <td>0</td>\n      <td>0</td>\n      <td>0</td>\n      <td>...</td>\n      <td>0</td>\n      <td>0</td>\n      <td>0</td>\n      <td>0</td>\n      <td>0</td>\n      <td>0</td>\n      <td>0</td>\n      <td>1</td>\n      <td>0.879224</td>\n      <td>payroll</td>\n    </tr>\n    <tr>\n      <th>185</th>\n      <td>414062</td>\n      <td>0</td>\n      <td>2019-05-28</td>\n      <td>1</td>\n      <td>37</td>\n      <td>1</td>\n      <td>62</td>\n      <td>0</td>\n      <td>0</td>\n      <td>0</td>\n      <td>...</td>\n      <td>0</td>\n      <td>0</td>\n      <td>0</td>\n      <td>0</td>\n      <td>0</td>\n      <td>0</td>\n      <td>0</td>\n      <td>1</td>\n      <td>0.879224</td>\n      <td>payroll</td>\n    </tr>\n    <tr>\n      <th>242</th>\n      <td>534666</td>\n      <td>0</td>\n      <td>2019-05-28</td>\n      <td>1</td>\n      <td>28</td>\n      <td>1</td>\n      <td>69</td>\n      <td>0</td>\n      <td>0</td>\n      <td>0</td>\n      <td>...</td>\n      <td>0</td>\n      <td>0</td>\n      <td>0</td>\n      <td>0</td>\n      <td>0</td>\n      <td>0</td>\n      <td>0</td>\n      <td>1</td>\n      <td>0.879224</td>\n      <td>payroll</td>\n    </tr>\n    <tr>\n      <th>...</th>\n      <td>...</td>\n      <td>...</td>\n      <td>...</td>\n      <td>...</td>\n      <td>...</td>\n      <td>...</td>\n      <td>...</td>\n      <td>...</td>\n      <td>...</td>\n      <td>...</td>\n      <td>...</td>\n      <td>...</td>\n      <td>...</td>\n      <td>...</td>\n      <td>...</td>\n      <td>...</td>\n      <td>...</td>\n      <td>...</td>\n      <td>...</td>\n      <td>...</td>\n      <td>...</td>\n    </tr>\n    <tr>\n      <th>37002</th>\n      <td>1537838</td>\n      <td>0</td>\n      <td>2019-05-28</td>\n      <td>1</td>\n      <td>48</td>\n      <td>0</td>\n      <td>85</td>\n      <td>0</td>\n      <td>0</td>\n      <td>0</td>\n      <td>...</td>\n      <td>0</td>\n      <td>0</td>\n      <td>0</td>\n      <td>0</td>\n      <td>0</td>\n      <td>0</td>\n      <td>0</td>\n      <td>1</td>\n      <td>0.879224</td>\n      <td>payroll</td>\n    </tr>\n    <tr>\n      <th>37325</th>\n      <td>1539304</td>\n      <td>0</td>\n      <td>2019-05-28</td>\n      <td>1</td>\n      <td>34</td>\n      <td>1</td>\n      <td>58</td>\n      <td>0</td>\n      <td>0</td>\n      <td>0</td>\n      <td>...</td>\n      <td>0</td>\n      <td>0</td>\n      <td>0</td>\n      <td>0</td>\n      <td>0</td>\n      <td>0</td>\n      <td>0</td>\n      <td>1</td>\n      <td>0.948531</td>\n      <td>payroll</td>\n    </tr>\n    <tr>\n      <th>38208</th>\n      <td>1542832</td>\n      <td>0</td>\n      <td>2019-05-28</td>\n      <td>1</td>\n      <td>33</td>\n      <td>0</td>\n      <td>59</td>\n      <td>0</td>\n      <td>0</td>\n      <td>0</td>\n      <td>...</td>\n      <td>0</td>\n      <td>0</td>\n      <td>0</td>\n      <td>0</td>\n      <td>0</td>\n      <td>0</td>\n      <td>0</td>\n      <td>1</td>\n      <td>0.939046</td>\n      <td>payroll</td>\n    </tr>\n    <tr>\n      <th>38489</th>\n      <td>1543586</td>\n      <td>0</td>\n      <td>2019-05-28</td>\n      <td>1</td>\n      <td>28</td>\n      <td>1</td>\n      <td>59</td>\n      <td>0</td>\n      <td>0</td>\n      <td>0</td>\n      <td>...</td>\n      <td>0</td>\n      <td>0</td>\n      <td>0</td>\n      <td>0</td>\n      <td>0</td>\n      <td>0</td>\n      <td>0</td>\n      <td>1</td>\n      <td>0.939046</td>\n      <td>payroll</td>\n    </tr>\n    <tr>\n      <th>39846</th>\n      <td>1547306</td>\n      <td>0</td>\n      <td>2019-05-28</td>\n      <td>1</td>\n      <td>46</td>\n      <td>1</td>\n      <td>55</td>\n      <td>0</td>\n      <td>0</td>\n      <td>0</td>\n      <td>...</td>\n      <td>0</td>\n      <td>0</td>\n      <td>0</td>\n      <td>0</td>\n      <td>0</td>\n      <td>0</td>\n      <td>0</td>\n      <td>1</td>\n      <td>0.967244</td>\n      <td>payroll</td>\n    </tr>\n  </tbody>\n</table>\n<p>103 rows × 146 columns</p>\n</div>"
     },
     "execution_count": 26,
     "metadata": {},
     "output_type": "execute_result"
    }
   ],
   "source": [
    "potential_clients_df = validation_df.copy(deep=True)\n",
    "\n",
    "prediction = model.predict(X_val)\n",
    "potential_clients_df[\"prediction\"] = prediction\n",
    "\n",
    "y_score = get_y_score(model, X_val, y_val)\n",
    "potential_clients_df[\"score\"] = y_score\n",
    "\n",
    "potential_clients_df[\"product_to_sale\"] = TARGET\n",
    "\n",
    "potential_client_filter = (potential_clients_df[TARGET] == 0)\\\n",
    "                          & (potential_clients_df[\"prediction\"] == 1)\\\n",
    "                          & (potential_clients_df[\"deceased\"] == 0)\n",
    "\n",
    "potential_clients_df = potential_clients_df[potential_client_filter]\n",
    "potential_clients_df.to_csv(f\"{__POTENTIAL_CLIENTS_PATH__}/potential_clients__{TARGET}.csv\")\n",
    "potential_clients_df"
   ],
   "metadata": {
    "pycharm": {
     "name": "#%%\n"
    },
    "id": "dmhjsb0zoA5C",
    "colab": {
     "base_uri": "https://localhost:8080/",
     "height": 487
    },
    "executionInfo": {
     "status": "ok",
     "timestamp": 1650652145006,
     "user_tz": -120,
     "elapsed": 574,
     "user": {
      "displayName": "nerea dominguez cabezas",
      "userId": "01946356256277218181"
     }
    },
    "outputId": "0b49c8d8-8f2d-4955-919c-2024585e87ee"
   }
  },
  {
   "cell_type": "markdown",
   "source": [
    "### Conclusions"
   ],
   "metadata": {
    "collapsed": false,
    "pycharm": {
     "name": "#%% md\n"
    },
    "id": "FKXPZSX3oA5C"
   }
  },
  {
   "cell_type": "markdown",
   "source": [
    "Últimas métricas, aquí vemos los resultados generales."
   ],
   "metadata": {
    "id": "1e1pRHgOcBC4"
   }
  },
  {
   "cell_type": "code",
   "execution_count": 27,
   "outputs": [
    {
     "data": {
      "text/plain": "                      11\ntarget           payroll\ntarget_mean          0.2\nroc_auc_test    0.999514\nroc_auc_val     0.999722\naccuracy_test   0.998212\naccuracy_val     0.99768\nrecall_test          1.0\nrecall_val           1.0\nprecision_test  0.991139\nprecision_val   0.918961\nf1_score_test    0.99555\nf1_score_val     0.95777",
      "text/html": "<div>\n<style scoped>\n    .dataframe tbody tr th:only-of-type {\n        vertical-align: middle;\n    }\n\n    .dataframe tbody tr th {\n        vertical-align: top;\n    }\n\n    .dataframe thead th {\n        text-align: right;\n    }\n</style>\n<table border=\"1\" class=\"dataframe\">\n  <thead>\n    <tr style=\"text-align: right;\">\n      <th></th>\n      <th>11</th>\n    </tr>\n  </thead>\n  <tbody>\n    <tr>\n      <th>target</th>\n      <td>payroll</td>\n    </tr>\n    <tr>\n      <th>target_mean</th>\n      <td>0.2</td>\n    </tr>\n    <tr>\n      <th>roc_auc_test</th>\n      <td>0.999514</td>\n    </tr>\n    <tr>\n      <th>roc_auc_val</th>\n      <td>0.999722</td>\n    </tr>\n    <tr>\n      <th>accuracy_test</th>\n      <td>0.998212</td>\n    </tr>\n    <tr>\n      <th>accuracy_val</th>\n      <td>0.99768</td>\n    </tr>\n    <tr>\n      <th>recall_test</th>\n      <td>1.0</td>\n    </tr>\n    <tr>\n      <th>recall_val</th>\n      <td>1.0</td>\n    </tr>\n    <tr>\n      <th>precision_test</th>\n      <td>0.991139</td>\n    </tr>\n    <tr>\n      <th>precision_val</th>\n      <td>0.918961</td>\n    </tr>\n    <tr>\n      <th>f1_score_test</th>\n      <td>0.99555</td>\n    </tr>\n    <tr>\n      <th>f1_score_val</th>\n      <td>0.95777</td>\n    </tr>\n  </tbody>\n</table>\n</div>"
     },
     "execution_count": 27,
     "metadata": {},
     "output_type": "execute_result"
    }
   ],
   "source": [
    "columns = [\n",
    "    \"target\",\n",
    "    \"target_mean\",\n",
    "    \"roc_auc_test\",\n",
    "    \"roc_auc_val\",\n",
    "    \"accuracy_test\",\n",
    "    \"accuracy_val\",\n",
    "    \"recall_test\",\n",
    "    \"recall_val\",\n",
    "    \"precision_test\",\n",
    "    \"precision_val\",\n",
    "    \"f1_score_test\",\n",
    "    \"f1_score_val\",\n",
    "]\n",
    "report_df.tail(1)[columns].T"
   ],
   "metadata": {
    "pycharm": {
     "name": "#%%\n"
    },
    "id": "K2bh8MmioA5C",
    "colab": {
     "base_uri": "https://localhost:8080/",
     "height": 425
    },
    "executionInfo": {
     "status": "ok",
     "timestamp": 1650652145007,
     "user_tz": -120,
     "elapsed": 25,
     "user": {
      "displayName": "nerea dominguez cabezas",
      "userId": "01946356256277218181"
     }
    },
    "outputId": "cdfe4dd6-064f-4be9-ab5f-9587f9e8b2dd"
   }
  },
  {
   "cell_type": "code",
   "execution_count": null,
   "outputs": [],
   "source": [
    ""
   ],
   "metadata": {
    "pycharm": {
     "name": "#%%\n"
    },
    "id": "BnhYqovaoA5D"
   }
  }
 ],
 "metadata": {
  "kernelspec": {
   "display_name": "Python 3",
   "language": "python",
   "name": "python3"
  },
  "language_info": {
   "codemirror_mode": {
    "name": "ipython",
    "version": 2
   },
   "file_extension": ".py",
   "mimetype": "text/x-python",
   "name": "python",
   "nbconvert_exporter": "python",
   "pygments_lexer": "ipython2",
   "version": "2.7.6"
  },
  "colab": {
   "name": "Classification/samplin-payroll.ipynb",
   "provenance": [
    {
     "file_id": "1oUj0j-a3mXre2OclEdJw_IYlyhrF1myb",
     "timestamp": 1650649052553
    },
    {
     "file_id": "10Ikv6FUvP0HraFE18j1VK5M9aZc7FS1J",
     "timestamp": 1650648168912
    },
    {
     "file_id": "11s0JGaYdfLfHQZV0-hHMMaNou3yVtjd-",
     "timestamp": 1650647448772
    },
    {
     "file_id": "13-cwbZN6D75U3DDrUjRbICp3j3ZTouCn",
     "timestamp": 1650646897194
    },
    {
     "file_id": "1ALENthKA6Fai12PD9PKIp41mMWB0jLV5",
     "timestamp": 1650646191315
    },
    {
     "file_id": "1M2b1XWyMItY60l42pE0LXdVnsYXbx1f9",
     "timestamp": 1650645519402
    },
    {
     "file_id": "1jQTzj4cRoap9VH_wwwgMoSIP3dwEzCQu",
     "timestamp": 1650642230678
    },
    {
     "file_id": "1JlRwJhAAnmHlh5yTitsLIWAtY7LjUGql",
     "timestamp": 1650642114492
    },
    {
     "file_id": "1jWI5eMf8dkXMpEmuugFByKP3C87IPlYl",
     "timestamp": 1650640709322
    },
    {
     "file_id": "https://github.com/AlfredoMarino/easy-money/blob/main/notebooks/classification/1.0-classification-em-acount.ipynb",
     "timestamp": 1650622551172
    }
   ],
   "collapsed_sections": []
  }
 },
 "nbformat": 4,
 "nbformat_minor": 0
}