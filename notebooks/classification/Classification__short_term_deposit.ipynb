{
 "cells": [
  {
   "cell_type": "markdown",
   "source": [
    "# Easy Money - Classification"
   ],
   "metadata": {
    "collapsed": false,
    "pycharm": {
     "name": "#%% md\n"
    },
    "id": "raAhUG7KoA4g"
   }
  },
  {
   "cell_type": "code",
   "execution_count": 1,
   "metadata": {
    "collapsed": true,
    "id": "VyoKMqDVoA4m"
   },
   "outputs": [],
   "source": [
    "import pandas as pd\n",
    "import numpy as np\n",
    "import matplotlib.pyplot as plt\n",
    "import seaborn as sns\n",
    "\n",
    "from sklearn.metrics import accuracy_score, precision_score, recall_score, f1_score, roc_auc_score, roc_curve,\\\n",
    "    plot_confusion_matrix\n",
    "from sklearn.base import BaseEstimator, TransformerMixin\n",
    "from sklearn.model_selection import train_test_split\n",
    "\n",
    "from datetime import datetime\n",
    "from xgboost import XGBClassifier, plot_importance\n",
    "from xgboost import plot_tree"
   ]
  },
  {
   "cell_type": "code",
   "source": [
    "# from google.colab import drive\n",
    "# drive.mount('/content/drive')"
   ],
   "metadata": {
    "id": "8E3jyu_oq8Yu",
    "executionInfo": {
     "status": "ok",
     "timestamp": 1650640791725,
     "user_tz": -120,
     "elapsed": 23395,
     "user": {
      "displayName": "nerea dominguez cabezas",
      "userId": "01946356256277218181"
     }
    },
    "outputId": "f9a66d64-6a76-4b10-ce1b-3ace83547e0e",
    "colab": {
     "base_uri": "https://localhost:8080/"
    }
   },
   "execution_count": 2,
   "outputs": []
  },
  {
   "cell_type": "markdown",
   "source": [
    "## Configurations"
   ],
   "metadata": {
    "collapsed": false,
    "pycharm": {
     "name": "#%% md\n"
    },
    "id": "uvokKYqgoA4q"
   }
  },
  {
   "cell_type": "markdown",
   "source": [
    "Para la validación solo dejamos el último mes, porque es el mes que nos interesa para la recomendación de productos. Para desarrollo (train+test) - 16 meses Train: 80% de esos 16 meses Test: 20% random Validación: último mes."
   ],
   "metadata": {
    "id": "XOQrlPnngECz"
   }
  },
  {
   "cell_type": "code",
   "execution_count": 3,
   "outputs": [],
   "source": [
    "TARGET = \"short_term_deposit\"\n",
    "\n",
    "__DATA_PATH__ = \"../../data\"\n",
    "__DATASET__ = f\"{__DATA_PATH__}/processed/easy_money_classification.csv\"\n",
    "__MODEL_METRICS_REPORT_PATH__ = \"../../reports/model_evaluation_output.csv\"\n",
    "__POTENTIAL_CLIENTS_PATH__ = \"../../reports/potential_clients\"\n",
    "\n",
    "DEV_PARTITION_PERIOD = (\"2018-01-28\", \"2019-04-28\")\n",
    "VAL_PARTITION_PERIOD = (\"2019-05-28\", \"2019-05-28\")\n",
    "\n",
    "EXCLUDE_COLUMNS = [\"pk_cid\", \"pk_partition\"]\n",
    "RANDOM_STATE = 123\n",
    "DO_UNDER_SAMPLING = True\n",
    "IS_RUNNING_LOCAL = True"
   ],
   "metadata": {
    "pycharm": {
     "name": "#%%\n"
    },
    "id": "EZUjoXQ1oA4r"
   }
  },
  {
   "cell_type": "markdown",
   "source": [
    "## Import data"
   ],
   "metadata": {
    "collapsed": false,
    "pycharm": {
     "name": "#%% md\n"
    },
    "id": "7Lec5UZ4oA4s"
   }
  },
  {
   "cell_type": "code",
   "execution_count": 4,
   "outputs": [],
   "source": [
    "dtypes = {'pk_cid': 'int64', 'active_customer': 'int8',\n",
    "          'region_code': 'int8', 'gender': 'int8', 'age': 'int8', 'deceased': 'int8',\n",
    "          'short_term_deposit': 'int8', 'loans': 'int8', 'mortgage': 'int8',\n",
    "          'funds': 'int8', 'securities': 'int8', 'long_term_deposit': 'int8',\n",
    "          'em_account_pp': 'int8', 'credit_card': 'int8', 'payroll': 'int8',\n",
    "          'pension_plan': 'int8', 'payroll_account': 'int8', 'emc_account': 'int8',\n",
    "          'debit_card': 'int8', 'em_account_p': 'int8', 'em_acount': 'int8',\n",
    "          'entry_date_month': 'int8', 'entry_date_year': 'int8', 'entry_date_day': 'int8',\n",
    "          'entry_date_week': 'int8', 'entry_date_weekday': 'int8', 'entry_date_trim': 'int8',\n",
    "          'salary': 'float64', 'entry_channel_004': 'int8', 'entry_channel_007': 'int8',\n",
    "          'entry_channel_013': 'int8', 'entry_channel_KAA': 'int8', 'entry_channel_KAB': 'int8',\n",
    "          'entry_channel_KAD': 'int8', 'entry_channel_KAE': 'int8', 'entry_channel_KAF': 'int8',\n",
    "          'entry_channel_KAG': 'int8', 'entry_channel_KAH': 'int8', 'entry_channel_KAI': 'int8',\n",
    "          'entry_channel_KAJ': 'int8', 'entry_channel_KAK': 'int8', 'entry_channel_KAM': 'int8',\n",
    "          'entry_channel_KAQ': 'int8', 'entry_channel_KAR': 'int8', 'entry_channel_KAS': 'int8',\n",
    "          'entry_channel_KAT': 'int8', 'entry_channel_KAW': 'int8', 'entry_channel_KAY': 'int8',\n",
    "          'entry_channel_KAZ': 'int8', 'entry_channel_KBE': 'int8', 'entry_channel_KBG': 'int8',\n",
    "          'entry_channel_KBH': 'int8', 'entry_channel_KBO': 'int8', 'entry_channel_KBU': 'int8',\n",
    "          'entry_channel_KBW': 'int8', 'entry_channel_KBY': 'int8', 'entry_channel_KBZ': 'int8',\n",
    "          'entry_channel_KCB': 'int8', 'entry_channel_KCC': 'int8', 'entry_channel_KCH': 'int8',\n",
    "          'entry_channel_KCI': 'int8', 'entry_channel_KCK': 'int8', 'entry_channel_KCL': 'int8',\n",
    "          'entry_channel_KDA': 'int8', 'entry_channel_KDH': 'int8', 'entry_channel_KDR': 'int8',\n",
    "          'entry_channel_KDS': 'int8', 'entry_channel_KDT': 'int8', 'entry_channel_KEH': 'int8',\n",
    "          'entry_channel_KEJ': 'int8', 'entry_channel_KES': 'int8', 'entry_channel_KEY': 'int8',\n",
    "          'entry_channel_KFA': 'int8', 'entry_channel_KFC': 'int8', 'entry_channel_KFD': 'int8',\n",
    "          'entry_channel_KFF': 'int8', 'entry_channel_KFK': 'int8', 'entry_channel_KFL': 'int8',\n",
    "          'entry_channel_KFP': 'int8', 'entry_channel_KFS': 'int8', 'entry_channel_KGC': 'int8',\n",
    "          'entry_channel_KGN': 'int8', 'entry_channel_KGX': 'int8', 'entry_channel_KHC': 'int8',\n",
    "          'entry_channel_KHD': 'int8', 'entry_channel_KHE': 'int8', 'entry_channel_KHF': 'int8',\n",
    "          'entry_channel_KHK': 'int8', 'entry_channel_KHL': 'int8', 'entry_channel_KHM': 'int8',\n",
    "          'entry_channel_KHN': 'int8', 'entry_channel_KHO': 'int8', 'entry_channel_KHP': 'int8',\n",
    "          'entry_channel_KHQ': 'int8', 'entry_channel_KHS': 'int8', 'entry_channel_RED': 'int8',\n",
    "          'entry_channel_UNKNOWN': 'int8', 'segment_00 - OTROS': 'int8',\n",
    "          'segment_01 - TOP': 'int8', 'segment_02 - PARTICULARES': 'int8',\n",
    "          'segment_03 - UNIVERSITARIO': 'int8', 'country_id_AR': 'int8', 'country_id_AT': 'int8',\n",
    "          'country_id_BE': 'int8', 'country_id_BR': 'int8', 'country_id_CA': 'int8',\n",
    "          'country_id_CH': 'int8', 'country_id_CI': 'int8', 'country_id_CL': 'int8',\n",
    "          'country_id_CM': 'int8', 'country_id_CN': 'int8', 'country_id_CO': 'int8',\n",
    "          'country_id_DE': 'int8', 'country_id_DJ': 'int8', 'country_id_DO': 'int8',\n",
    "          'country_id_DZ': 'int8', 'country_id_ES': 'int8', 'country_id_ET': 'int8',\n",
    "          'country_id_FR': 'int8', 'country_id_GA': 'int8', 'country_id_GB': 'int8',\n",
    "          'country_id_GT': 'int8', 'country_id_HU': 'int8', 'country_id_IE': 'int8',\n",
    "          'country_id_IT': 'int8', 'country_id_JM': 'int8', 'country_id_LU': 'int8',\n",
    "          'country_id_MA': 'int8', 'country_id_MR': 'int8', 'country_id_MX': 'int8',\n",
    "          'country_id_NO': 'int8', 'country_id_PE': 'int8', 'country_id_PL': 'int8',\n",
    "          'country_id_PT': 'int8', 'country_id_QA': 'int8', 'country_id_RO': 'int8',\n",
    "          'country_id_RU': 'int8', 'country_id_SA': 'int8', 'country_id_SE': 'int8',\n",
    "          'country_id_SN': 'int8', 'country_id_US': 'int8', 'country_id_VE': 'int8'}\n",
    "\n",
    "parse_dates = ['pk_partition']"
   ],
   "metadata": {
    "pycharm": {
     "name": "#%%\n"
    },
    "id": "D7pC2TbNoA4s"
   }
  },
  {
   "cell_type": "code",
   "execution_count": 5,
   "outputs": [
    {
     "name": "stdout",
     "output_type": "stream",
     "text": [
      "<class 'pandas.core.frame.DataFrame'>\n",
      "RangeIndex: 5962838 entries, 0 to 5962837\n",
      "Columns: 143 entries, pk_cid to country_id_VE\n",
      "dtypes: datetime64[ns](1), float64(1), int64(1), int8(140)\n",
      "memory usage: 932.6 MB\n",
      "Wall time: 38.3 s\n"
     ]
    }
   ],
   "source": [
    "%%time\n",
    "df = pd.read_csv(__DATASET__, dtype=dtypes, parse_dates=parse_dates)\n",
    "df.drop(\"Unnamed: 0\", axis=1, inplace=True)\n",
    "df.drop(\"entry_date\", axis=1, inplace=True)\n",
    "df[\"pk_partition\"] = pd.to_datetime(df[\"pk_partition\"])\n",
    "df.info(memory_usage=\"deep\")"
   ],
   "metadata": {
    "pycharm": {
     "name": "#%%\n"
    },
    "id": "4EGxt0LsoA4v",
    "executionInfo": {
     "status": "ok",
     "timestamp": 1650640866778,
     "user_tz": -120,
     "elapsed": 75060,
     "user": {
      "displayName": "nerea dominguez cabezas",
      "userId": "01946356256277218181"
     }
    },
    "outputId": "d4942cb0-acef-4092-81ca-a44d23614bdf",
    "colab": {
     "base_uri": "https://localhost:8080/"
    }
   }
  },
  {
   "cell_type": "code",
   "execution_count": 6,
   "outputs": [
    {
     "data": {
      "text/plain": "    pk_cid pk_partition  active_customer  region_code  gender  age  deceased  \\\n0    15891   2018-07-28                1           28       1   59         0   \n1    15891   2018-08-28                0           28       1   59         0   \n2    16063   2018-11-28                1           28       1   62         0   \n3    16063   2018-12-28                1           28       1   62         0   \n4    16063   2019-01-28                1           28       1   62         0   \n5    16063   2019-02-28                1           28       1   62         0   \n6    16063   2019-03-28                0           28       1   62         0   \n7    16063   2019-04-28                1           28       1   62         0   \n8    16063   2019-05-28                0           28       1   62         0   \n9    16203   2018-12-28                0            8       0   70         0   \n10   16203   2019-01-28                1            8       0   70         0   \n11   16203   2019-02-28                1            8       0   70         0   \n12   16203   2019-03-28                1            8       0   70         0   \n13   16203   2019-04-28                1            8       0   70         0   \n14   16203   2019-05-28                1            8       0   70         0   \n15   16502   2018-09-28                0           28       1   57         0   \n16   16502   2018-10-28                1           28       1   58         0   \n17   16502   2018-11-28                1           28       1   58         0   \n18   16502   2018-12-28                1           28       1   58         0   \n19   16502   2019-01-28                1           28       1   58         0   \n\n    short_term_deposit  loans  mortgage  ...  country_id_PL  country_id_PT  \\\n0                    0      0         0  ...              0              0   \n1                    0      0         0  ...              0              0   \n2                    0      0         0  ...              0              0   \n3                    0      0         0  ...              0              0   \n4                    0      0         0  ...              0              0   \n5                    0      0         0  ...              0              0   \n6                    0      0         0  ...              0              0   \n7                    0      0         0  ...              0              0   \n8                    0      0         0  ...              0              0   \n9                    0      0         0  ...              0              0   \n10                   0      0         0  ...              0              0   \n11                   0      0         0  ...              0              0   \n12                   0      0         0  ...              0              0   \n13                   0      0         0  ...              0              0   \n14                   0      0         0  ...              0              0   \n15                   0      0         0  ...              0              0   \n16                   0      0         0  ...              0              0   \n17                   0      0         0  ...              0              0   \n18                   0      0         0  ...              0              0   \n19                   0      0         0  ...              0              0   \n\n    country_id_QA  country_id_RO  country_id_RU  country_id_SA  country_id_SE  \\\n0               0              0              0              0              0   \n1               0              0              0              0              0   \n2               0              0              0              0              0   \n3               0              0              0              0              0   \n4               0              0              0              0              0   \n5               0              0              0              0              0   \n6               0              0              0              0              0   \n7               0              0              0              0              0   \n8               0              0              0              0              0   \n9               0              0              0              0              0   \n10              0              0              0              0              0   \n11              0              0              0              0              0   \n12              0              0              0              0              0   \n13              0              0              0              0              0   \n14              0              0              0              0              0   \n15              0              0              0              0              0   \n16              0              0              0              0              0   \n17              0              0              0              0              0   \n18              0              0              0              0              0   \n19              0              0              0              0              0   \n\n    country_id_SN  country_id_US  country_id_VE  \n0               0              0              0  \n1               0              0              0  \n2               0              0              0  \n3               0              0              0  \n4               0              0              0  \n5               0              0              0  \n6               0              0              0  \n7               0              0              0  \n8               0              0              0  \n9               0              0              0  \n10              0              0              0  \n11              0              0              0  \n12              0              0              0  \n13              0              0              0  \n14              0              0              0  \n15              0              0              0  \n16              0              0              0  \n17              0              0              0  \n18              0              0              0  \n19              0              0              0  \n\n[20 rows x 143 columns]",
      "text/html": "<div>\n<style scoped>\n    .dataframe tbody tr th:only-of-type {\n        vertical-align: middle;\n    }\n\n    .dataframe tbody tr th {\n        vertical-align: top;\n    }\n\n    .dataframe thead th {\n        text-align: right;\n    }\n</style>\n<table border=\"1\" class=\"dataframe\">\n  <thead>\n    <tr style=\"text-align: right;\">\n      <th></th>\n      <th>pk_cid</th>\n      <th>pk_partition</th>\n      <th>active_customer</th>\n      <th>region_code</th>\n      <th>gender</th>\n      <th>age</th>\n      <th>deceased</th>\n      <th>short_term_deposit</th>\n      <th>loans</th>\n      <th>mortgage</th>\n      <th>...</th>\n      <th>country_id_PL</th>\n      <th>country_id_PT</th>\n      <th>country_id_QA</th>\n      <th>country_id_RO</th>\n      <th>country_id_RU</th>\n      <th>country_id_SA</th>\n      <th>country_id_SE</th>\n      <th>country_id_SN</th>\n      <th>country_id_US</th>\n      <th>country_id_VE</th>\n    </tr>\n  </thead>\n  <tbody>\n    <tr>\n      <th>0</th>\n      <td>15891</td>\n      <td>2018-07-28</td>\n      <td>1</td>\n      <td>28</td>\n      <td>1</td>\n      <td>59</td>\n      <td>0</td>\n      <td>0</td>\n      <td>0</td>\n      <td>0</td>\n      <td>...</td>\n      <td>0</td>\n      <td>0</td>\n      <td>0</td>\n      <td>0</td>\n      <td>0</td>\n      <td>0</td>\n      <td>0</td>\n      <td>0</td>\n      <td>0</td>\n      <td>0</td>\n    </tr>\n    <tr>\n      <th>1</th>\n      <td>15891</td>\n      <td>2018-08-28</td>\n      <td>0</td>\n      <td>28</td>\n      <td>1</td>\n      <td>59</td>\n      <td>0</td>\n      <td>0</td>\n      <td>0</td>\n      <td>0</td>\n      <td>...</td>\n      <td>0</td>\n      <td>0</td>\n      <td>0</td>\n      <td>0</td>\n      <td>0</td>\n      <td>0</td>\n      <td>0</td>\n      <td>0</td>\n      <td>0</td>\n      <td>0</td>\n    </tr>\n    <tr>\n      <th>2</th>\n      <td>16063</td>\n      <td>2018-11-28</td>\n      <td>1</td>\n      <td>28</td>\n      <td>1</td>\n      <td>62</td>\n      <td>0</td>\n      <td>0</td>\n      <td>0</td>\n      <td>0</td>\n      <td>...</td>\n      <td>0</td>\n      <td>0</td>\n      <td>0</td>\n      <td>0</td>\n      <td>0</td>\n      <td>0</td>\n      <td>0</td>\n      <td>0</td>\n      <td>0</td>\n      <td>0</td>\n    </tr>\n    <tr>\n      <th>3</th>\n      <td>16063</td>\n      <td>2018-12-28</td>\n      <td>1</td>\n      <td>28</td>\n      <td>1</td>\n      <td>62</td>\n      <td>0</td>\n      <td>0</td>\n      <td>0</td>\n      <td>0</td>\n      <td>...</td>\n      <td>0</td>\n      <td>0</td>\n      <td>0</td>\n      <td>0</td>\n      <td>0</td>\n      <td>0</td>\n      <td>0</td>\n      <td>0</td>\n      <td>0</td>\n      <td>0</td>\n    </tr>\n    <tr>\n      <th>4</th>\n      <td>16063</td>\n      <td>2019-01-28</td>\n      <td>1</td>\n      <td>28</td>\n      <td>1</td>\n      <td>62</td>\n      <td>0</td>\n      <td>0</td>\n      <td>0</td>\n      <td>0</td>\n      <td>...</td>\n      <td>0</td>\n      <td>0</td>\n      <td>0</td>\n      <td>0</td>\n      <td>0</td>\n      <td>0</td>\n      <td>0</td>\n      <td>0</td>\n      <td>0</td>\n      <td>0</td>\n    </tr>\n    <tr>\n      <th>5</th>\n      <td>16063</td>\n      <td>2019-02-28</td>\n      <td>1</td>\n      <td>28</td>\n      <td>1</td>\n      <td>62</td>\n      <td>0</td>\n      <td>0</td>\n      <td>0</td>\n      <td>0</td>\n      <td>...</td>\n      <td>0</td>\n      <td>0</td>\n      <td>0</td>\n      <td>0</td>\n      <td>0</td>\n      <td>0</td>\n      <td>0</td>\n      <td>0</td>\n      <td>0</td>\n      <td>0</td>\n    </tr>\n    <tr>\n      <th>6</th>\n      <td>16063</td>\n      <td>2019-03-28</td>\n      <td>0</td>\n      <td>28</td>\n      <td>1</td>\n      <td>62</td>\n      <td>0</td>\n      <td>0</td>\n      <td>0</td>\n      <td>0</td>\n      <td>...</td>\n      <td>0</td>\n      <td>0</td>\n      <td>0</td>\n      <td>0</td>\n      <td>0</td>\n      <td>0</td>\n      <td>0</td>\n      <td>0</td>\n      <td>0</td>\n      <td>0</td>\n    </tr>\n    <tr>\n      <th>7</th>\n      <td>16063</td>\n      <td>2019-04-28</td>\n      <td>1</td>\n      <td>28</td>\n      <td>1</td>\n      <td>62</td>\n      <td>0</td>\n      <td>0</td>\n      <td>0</td>\n      <td>0</td>\n      <td>...</td>\n      <td>0</td>\n      <td>0</td>\n      <td>0</td>\n      <td>0</td>\n      <td>0</td>\n      <td>0</td>\n      <td>0</td>\n      <td>0</td>\n      <td>0</td>\n      <td>0</td>\n    </tr>\n    <tr>\n      <th>8</th>\n      <td>16063</td>\n      <td>2019-05-28</td>\n      <td>0</td>\n      <td>28</td>\n      <td>1</td>\n      <td>62</td>\n      <td>0</td>\n      <td>0</td>\n      <td>0</td>\n      <td>0</td>\n      <td>...</td>\n      <td>0</td>\n      <td>0</td>\n      <td>0</td>\n      <td>0</td>\n      <td>0</td>\n      <td>0</td>\n      <td>0</td>\n      <td>0</td>\n      <td>0</td>\n      <td>0</td>\n    </tr>\n    <tr>\n      <th>9</th>\n      <td>16203</td>\n      <td>2018-12-28</td>\n      <td>0</td>\n      <td>8</td>\n      <td>0</td>\n      <td>70</td>\n      <td>0</td>\n      <td>0</td>\n      <td>0</td>\n      <td>0</td>\n      <td>...</td>\n      <td>0</td>\n      <td>0</td>\n      <td>0</td>\n      <td>0</td>\n      <td>0</td>\n      <td>0</td>\n      <td>0</td>\n      <td>0</td>\n      <td>0</td>\n      <td>0</td>\n    </tr>\n    <tr>\n      <th>10</th>\n      <td>16203</td>\n      <td>2019-01-28</td>\n      <td>1</td>\n      <td>8</td>\n      <td>0</td>\n      <td>70</td>\n      <td>0</td>\n      <td>0</td>\n      <td>0</td>\n      <td>0</td>\n      <td>...</td>\n      <td>0</td>\n      <td>0</td>\n      <td>0</td>\n      <td>0</td>\n      <td>0</td>\n      <td>0</td>\n      <td>0</td>\n      <td>0</td>\n      <td>0</td>\n      <td>0</td>\n    </tr>\n    <tr>\n      <th>11</th>\n      <td>16203</td>\n      <td>2019-02-28</td>\n      <td>1</td>\n      <td>8</td>\n      <td>0</td>\n      <td>70</td>\n      <td>0</td>\n      <td>0</td>\n      <td>0</td>\n      <td>0</td>\n      <td>...</td>\n      <td>0</td>\n      <td>0</td>\n      <td>0</td>\n      <td>0</td>\n      <td>0</td>\n      <td>0</td>\n      <td>0</td>\n      <td>0</td>\n      <td>0</td>\n      <td>0</td>\n    </tr>\n    <tr>\n      <th>12</th>\n      <td>16203</td>\n      <td>2019-03-28</td>\n      <td>1</td>\n      <td>8</td>\n      <td>0</td>\n      <td>70</td>\n      <td>0</td>\n      <td>0</td>\n      <td>0</td>\n      <td>0</td>\n      <td>...</td>\n      <td>0</td>\n      <td>0</td>\n      <td>0</td>\n      <td>0</td>\n      <td>0</td>\n      <td>0</td>\n      <td>0</td>\n      <td>0</td>\n      <td>0</td>\n      <td>0</td>\n    </tr>\n    <tr>\n      <th>13</th>\n      <td>16203</td>\n      <td>2019-04-28</td>\n      <td>1</td>\n      <td>8</td>\n      <td>0</td>\n      <td>70</td>\n      <td>0</td>\n      <td>0</td>\n      <td>0</td>\n      <td>0</td>\n      <td>...</td>\n      <td>0</td>\n      <td>0</td>\n      <td>0</td>\n      <td>0</td>\n      <td>0</td>\n      <td>0</td>\n      <td>0</td>\n      <td>0</td>\n      <td>0</td>\n      <td>0</td>\n    </tr>\n    <tr>\n      <th>14</th>\n      <td>16203</td>\n      <td>2019-05-28</td>\n      <td>1</td>\n      <td>8</td>\n      <td>0</td>\n      <td>70</td>\n      <td>0</td>\n      <td>0</td>\n      <td>0</td>\n      <td>0</td>\n      <td>...</td>\n      <td>0</td>\n      <td>0</td>\n      <td>0</td>\n      <td>0</td>\n      <td>0</td>\n      <td>0</td>\n      <td>0</td>\n      <td>0</td>\n      <td>0</td>\n      <td>0</td>\n    </tr>\n    <tr>\n      <th>15</th>\n      <td>16502</td>\n      <td>2018-09-28</td>\n      <td>0</td>\n      <td>28</td>\n      <td>1</td>\n      <td>57</td>\n      <td>0</td>\n      <td>0</td>\n      <td>0</td>\n      <td>0</td>\n      <td>...</td>\n      <td>0</td>\n      <td>0</td>\n      <td>0</td>\n      <td>0</td>\n      <td>0</td>\n      <td>0</td>\n      <td>0</td>\n      <td>0</td>\n      <td>0</td>\n      <td>0</td>\n    </tr>\n    <tr>\n      <th>16</th>\n      <td>16502</td>\n      <td>2018-10-28</td>\n      <td>1</td>\n      <td>28</td>\n      <td>1</td>\n      <td>58</td>\n      <td>0</td>\n      <td>0</td>\n      <td>0</td>\n      <td>0</td>\n      <td>...</td>\n      <td>0</td>\n      <td>0</td>\n      <td>0</td>\n      <td>0</td>\n      <td>0</td>\n      <td>0</td>\n      <td>0</td>\n      <td>0</td>\n      <td>0</td>\n      <td>0</td>\n    </tr>\n    <tr>\n      <th>17</th>\n      <td>16502</td>\n      <td>2018-11-28</td>\n      <td>1</td>\n      <td>28</td>\n      <td>1</td>\n      <td>58</td>\n      <td>0</td>\n      <td>0</td>\n      <td>0</td>\n      <td>0</td>\n      <td>...</td>\n      <td>0</td>\n      <td>0</td>\n      <td>0</td>\n      <td>0</td>\n      <td>0</td>\n      <td>0</td>\n      <td>0</td>\n      <td>0</td>\n      <td>0</td>\n      <td>0</td>\n    </tr>\n    <tr>\n      <th>18</th>\n      <td>16502</td>\n      <td>2018-12-28</td>\n      <td>1</td>\n      <td>28</td>\n      <td>1</td>\n      <td>58</td>\n      <td>0</td>\n      <td>0</td>\n      <td>0</td>\n      <td>0</td>\n      <td>...</td>\n      <td>0</td>\n      <td>0</td>\n      <td>0</td>\n      <td>0</td>\n      <td>0</td>\n      <td>0</td>\n      <td>0</td>\n      <td>0</td>\n      <td>0</td>\n      <td>0</td>\n    </tr>\n    <tr>\n      <th>19</th>\n      <td>16502</td>\n      <td>2019-01-28</td>\n      <td>1</td>\n      <td>28</td>\n      <td>1</td>\n      <td>58</td>\n      <td>0</td>\n      <td>0</td>\n      <td>0</td>\n      <td>0</td>\n      <td>...</td>\n      <td>0</td>\n      <td>0</td>\n      <td>0</td>\n      <td>0</td>\n      <td>0</td>\n      <td>0</td>\n      <td>0</td>\n      <td>0</td>\n      <td>0</td>\n      <td>0</td>\n    </tr>\n  </tbody>\n</table>\n<p>20 rows × 143 columns</p>\n</div>"
     },
     "execution_count": 6,
     "metadata": {},
     "output_type": "execute_result"
    }
   ],
   "source": [
    "df.head(20)"
   ],
   "metadata": {
    "pycharm": {
     "name": "#%%\n"
    },
    "id": "VEhw5Z0toA4x",
    "executionInfo": {
     "status": "ok",
     "timestamp": 1650640867373,
     "user_tz": -120,
     "elapsed": 615,
     "user": {
      "displayName": "nerea dominguez cabezas",
      "userId": "01946356256277218181"
     }
    },
    "outputId": "ec626424-17fe-40a2-bd98-05e9f8b6a48a",
    "colab": {
     "base_uri": "https://localhost:8080/",
     "height": 769
    }
   }
  },
  {
   "cell_type": "code",
   "execution_count": 7,
   "outputs": [
    {
     "data": {
      "text/plain": "                     count          mean            std      min        25%  \\\npk_cid           5962838.0  1.234933e+06  162293.085772  15891.0  1112533.0   \nactive_customer  5962838.0  4.033799e-01       0.490576      0.0        0.0   \nregion_code      5962838.0  2.580417e+01      13.603136     -1.0       13.0   \ngender           5962838.0  5.177870e-01       0.499684      0.0        0.0   \nage              5962838.0  2.976015e+01      11.980074      2.0       22.0   \n...                    ...           ...            ...      ...        ...   \ncountry_id_SA    5962838.0  2.850991e-06       0.001688      0.0        0.0   \ncountry_id_SE    5962838.0  2.683286e-06       0.001638      0.0        0.0   \ncountry_id_SN    5962838.0  2.850991e-06       0.001688      0.0        0.0   \ncountry_id_US    5962838.0  3.270255e-05       0.005719      0.0        0.0   \ncountry_id_VE    5962838.0  1.324872e-05       0.003640      0.0        0.0   \n\n                       50%         75%        max  \npk_cid           1231097.0  1352339.75  1553689.0  \nactive_customer        0.0        1.00        1.0  \nregion_code           28.0       36.00       52.0  \ngender                 1.0        1.00        1.0  \nage                   25.0       34.00      105.0  \n...                    ...         ...        ...  \ncountry_id_SA          0.0        0.00        1.0  \ncountry_id_SE          0.0        0.00        1.0  \ncountry_id_SN          0.0        0.00        1.0  \ncountry_id_US          0.0        0.00        1.0  \ncountry_id_VE          0.0        0.00        1.0  \n\n[142 rows x 8 columns]",
      "text/html": "<div>\n<style scoped>\n    .dataframe tbody tr th:only-of-type {\n        vertical-align: middle;\n    }\n\n    .dataframe tbody tr th {\n        vertical-align: top;\n    }\n\n    .dataframe thead th {\n        text-align: right;\n    }\n</style>\n<table border=\"1\" class=\"dataframe\">\n  <thead>\n    <tr style=\"text-align: right;\">\n      <th></th>\n      <th>count</th>\n      <th>mean</th>\n      <th>std</th>\n      <th>min</th>\n      <th>25%</th>\n      <th>50%</th>\n      <th>75%</th>\n      <th>max</th>\n    </tr>\n  </thead>\n  <tbody>\n    <tr>\n      <th>pk_cid</th>\n      <td>5962838.0</td>\n      <td>1.234933e+06</td>\n      <td>162293.085772</td>\n      <td>15891.0</td>\n      <td>1112533.0</td>\n      <td>1231097.0</td>\n      <td>1352339.75</td>\n      <td>1553689.0</td>\n    </tr>\n    <tr>\n      <th>active_customer</th>\n      <td>5962838.0</td>\n      <td>4.033799e-01</td>\n      <td>0.490576</td>\n      <td>0.0</td>\n      <td>0.0</td>\n      <td>0.0</td>\n      <td>1.00</td>\n      <td>1.0</td>\n    </tr>\n    <tr>\n      <th>region_code</th>\n      <td>5962838.0</td>\n      <td>2.580417e+01</td>\n      <td>13.603136</td>\n      <td>-1.0</td>\n      <td>13.0</td>\n      <td>28.0</td>\n      <td>36.00</td>\n      <td>52.0</td>\n    </tr>\n    <tr>\n      <th>gender</th>\n      <td>5962838.0</td>\n      <td>5.177870e-01</td>\n      <td>0.499684</td>\n      <td>0.0</td>\n      <td>0.0</td>\n      <td>1.0</td>\n      <td>1.00</td>\n      <td>1.0</td>\n    </tr>\n    <tr>\n      <th>age</th>\n      <td>5962838.0</td>\n      <td>2.976015e+01</td>\n      <td>11.980074</td>\n      <td>2.0</td>\n      <td>22.0</td>\n      <td>25.0</td>\n      <td>34.00</td>\n      <td>105.0</td>\n    </tr>\n    <tr>\n      <th>...</th>\n      <td>...</td>\n      <td>...</td>\n      <td>...</td>\n      <td>...</td>\n      <td>...</td>\n      <td>...</td>\n      <td>...</td>\n      <td>...</td>\n    </tr>\n    <tr>\n      <th>country_id_SA</th>\n      <td>5962838.0</td>\n      <td>2.850991e-06</td>\n      <td>0.001688</td>\n      <td>0.0</td>\n      <td>0.0</td>\n      <td>0.0</td>\n      <td>0.00</td>\n      <td>1.0</td>\n    </tr>\n    <tr>\n      <th>country_id_SE</th>\n      <td>5962838.0</td>\n      <td>2.683286e-06</td>\n      <td>0.001638</td>\n      <td>0.0</td>\n      <td>0.0</td>\n      <td>0.0</td>\n      <td>0.00</td>\n      <td>1.0</td>\n    </tr>\n    <tr>\n      <th>country_id_SN</th>\n      <td>5962838.0</td>\n      <td>2.850991e-06</td>\n      <td>0.001688</td>\n      <td>0.0</td>\n      <td>0.0</td>\n      <td>0.0</td>\n      <td>0.00</td>\n      <td>1.0</td>\n    </tr>\n    <tr>\n      <th>country_id_US</th>\n      <td>5962838.0</td>\n      <td>3.270255e-05</td>\n      <td>0.005719</td>\n      <td>0.0</td>\n      <td>0.0</td>\n      <td>0.0</td>\n      <td>0.00</td>\n      <td>1.0</td>\n    </tr>\n    <tr>\n      <th>country_id_VE</th>\n      <td>5962838.0</td>\n      <td>1.324872e-05</td>\n      <td>0.003640</td>\n      <td>0.0</td>\n      <td>0.0</td>\n      <td>0.0</td>\n      <td>0.00</td>\n      <td>1.0</td>\n    </tr>\n  </tbody>\n</table>\n<p>142 rows × 8 columns</p>\n</div>"
     },
     "execution_count": 7,
     "metadata": {},
     "output_type": "execute_result"
    }
   ],
   "source": [
    "df.describe().T"
   ],
   "metadata": {
    "pycharm": {
     "name": "#%%\n"
    },
    "id": "wuHGdfaWoA4x",
    "executionInfo": {
     "status": "ok",
     "timestamp": 1650640880452,
     "user_tz": -120,
     "elapsed": 12816,
     "user": {
      "displayName": "nerea dominguez cabezas",
      "userId": "01946356256277218181"
     }
    },
    "outputId": "bbe224bd-5f86-42d8-ff2b-6b4d4891c2a6",
    "colab": {
     "base_uri": "https://localhost:8080/",
     "height": 424
    }
   }
  },
  {
   "cell_type": "markdown",
   "source": [
    "## Classes"
   ],
   "metadata": {
    "collapsed": false,
    "pycharm": {
     "name": "#%% md\n"
    },
    "id": "Xxm5QubdoA4y"
   }
  },
  {
   "cell_type": "code",
   "execution_count": 8,
   "outputs": [
    {
     "name": "stdout",
     "output_type": "stream",
     "text": [
      "../../reports/model_evaluation_output.csv\n"
     ]
    }
   ],
   "source": [
    "class EasyMoneyFilter(BaseEstimator, TransformerMixin):\n",
    "    \"\"\"\n",
    "    Filtro que toma el registro de la primera compra del target\n",
    "    y un 0 al azar, en caso de que nunca hubo compra\n",
    "    se regresa un solo registro (aleatoriamente) y en caso\n",
    "    de que todos fueran compras, devuelve solo la primera\n",
    "    \"\"\"\n",
    "\n",
    "    def __init__(self, target: str, group_by=\"pk_cid\", sort_value=None):\n",
    "        if sort_value is None:\n",
    "            sort_value = [\"pk_cid\", \"pk_partition\"]\n",
    "        self.target = target\n",
    "        self.group_by = group_by\n",
    "        self.sort_values = sort_value\n",
    "\n",
    "    def fit(self, X, y=None):\n",
    "        return self\n",
    "\n",
    "    def transform(self, X, y=None):\n",
    "        return pd.concat([\n",
    "            self.get_fist_sales(X),\n",
    "            self.get_random_no_sales(X)\n",
    "        ]).sort_values(self.sort_values, ignore_index=True)\n",
    "\n",
    "    def get_fist_sales(self, X) -> pd.DataFrame:\n",
    "        first_sale = X.groupby([self.group_by, self.target]).first().reset_index()\n",
    "        return first_sale[first_sale[self.target] == 1]\n",
    "\n",
    "    def get_random_no_sales(self, X) -> pd.DataFrame:\n",
    "        return X[X[self.target] == 0].groupby(self.group_by).sample(n=1, random_state=RANDOM_STATE)\n",
    "\n",
    "    def get_last_no_sales(self, X) -> pd.DataFrame:\n",
    "        last_no_sale = X.groupby([self.group_by, self.target]).last().reset_index()\n",
    "        return last_no_sale[last_no_sale[self.target] == 0]\n",
    "\n",
    "\n",
    "class EasyMoneySplitter:\n",
    "    \"\"\"\n",
    "    Divide el dataset en la particion de desarrollo y la de validacion segun los rangos\n",
    "    de fechas indicadas en los parametros dev_partition_period y val_partition_period.\n",
    "    exclude_columns Si se indican campos a ser excluidos\n",
    "    \"\"\"\n",
    "\n",
    "    def __init__(self, dev_partition_period: tuple, val_partition_period: tuple):\n",
    "        self.dev_partition_period = dev_partition_period\n",
    "        self.val_partition_period = val_partition_period\n",
    "\n",
    "    def get_train_partition(self, dataframe: pd.DataFrame) -> pd.DataFrame:\n",
    "        \"\"\"\n",
    "        Obtiene la particion de train\n",
    "        :param dataframe: dataframe que quiera particionar\n",
    "        :return: dataframe particion para train (ya excluidos los campos indicados)\n",
    "        \"\"\"\n",
    "        # partition = self._split(dataframe, self.dev_partition_period[0], self.dev_partition_period[1])\n",
    "        return self._split(dataframe, self.dev_partition_period[0], self.dev_partition_period[1])\n",
    "\n",
    "    def get_validation_partition(self, dataframe: pd.DataFrame) -> pd.DataFrame:\n",
    "        \"\"\"\n",
    "        Obtiene particion de validacion\n",
    "        :param dataframe: dataframe que quiera particionar\n",
    "        :return: dataframe particion para validacion (ya excluidos los campos indicados)\n",
    "        \"\"\"\n",
    "        return self._split(dataframe, self.val_partition_period[0], self.val_partition_period[1])\n",
    "\n",
    "    def _split(self, dataframe: pd.DataFrame, from_date, to_date) -> pd.DataFrame:\n",
    "        return dataframe[dataframe[\"pk_partition\"].between(from_date, to_date)].reset_index(drop=True)\n",
    "\n",
    "    @staticmethod\n",
    "    def under_sample(dataframe: pd.DataFrame, target: str, is_mostly_zero: bool) -> pd.DataFrame:\n",
    "        \"\"\"\n",
    "        Realiza undersampling\n",
    "        :param dataframe: dataframe a procesar\n",
    "        :param target: target\n",
    "        :param is_mostly_zero: cual clase es la mayoritaria\n",
    "        :return: dataframe sampleado\n",
    "        \"\"\"\n",
    "        non_zeros = dataframe[dataframe[target] == 1]\n",
    "        zeros = dataframe[dataframe[target] == 0]\n",
    "        if is_mostly_zero:\n",
    "            n_zeros = len(non_zeros) * 4\n",
    "            zeros = zeros.sample(n=n_zeros, random_state=RANDOM_STATE)\n",
    "        else:\n",
    "            n_non_zeros = len(zeros) * 4\n",
    "            non_zeros = non_zeros.sample(n=n_non_zeros, random_state=RANDOM_STATE)\n",
    "\n",
    "        return pd.concat([zeros, non_zeros])\n",
    "\n",
    "\n",
    "class Reporter:\n",
    "    \"\"\"\n",
    "    Clase para registrar resultados de la modelizacion\n",
    "    \"\"\"\n",
    "\n",
    "    def __init__(self, output_file):\n",
    "        self.output_file = output_file\n",
    "        try:\n",
    "            print(self.output_file)\n",
    "            self.output_df = pd.read_csv(self.output_file, index_col=0)\n",
    "            self.output_df[\"date\"] = pd.to_datetime(self.output_df[\"date\"])\n",
    "        except FileNotFoundError:\n",
    "            self.output_df = pd.DataFrame(columns=[\n",
    "                \"target\",\n",
    "                \"target_mean\",\n",
    "                \"date\",\n",
    "                \"is_overfitted\",\n",
    "                \"roc_auc_train\",\n",
    "                \"roc_auc_test\",\n",
    "                \"roc_auc_val\",\n",
    "                \"accuracy_train\",\n",
    "                \"accuracy_test\",\n",
    "                \"accuracy_val\",\n",
    "                \"recall_train\",\n",
    "                \"recall_test\",\n",
    "                \"recall_val\",\n",
    "                \"precision_train\",\n",
    "                \"precision_test\",\n",
    "                \"precision_val\",\n",
    "                \"f1_score_train\",\n",
    "                \"f1_score_test\",\n",
    "                \"f1_score_val\",\n",
    "                \"model\"\n",
    "            ])\n",
    "\n",
    "    def append_new_evaluation(self, data: dict):\n",
    "        \"\"\"\n",
    "        Agrega un nuevo registro en memoria\n",
    "        :param data: metricas\n",
    "        \"\"\"\n",
    "        data[\"is_overfitted\"] = round(abs((data[\"roc_auc_train\"] - data[\"roc_auc_test\"])), 2) > 0\n",
    "        data[\"date\"] = datetime.now()\n",
    "        self.output_df = self.output_df.append(data, ignore_index=True)\n",
    "\n",
    "    def record_evaluation(self, target: str, model, X_train, y_train, X_test, y_test, X_val, y_val, target_mean):\n",
    "        \"\"\"\n",
    "        Registra las metricas de los resultados de una modelizacion\n",
    "        :param target: target\n",
    "        :param model: Modelo\n",
    "        :param X_train: dataset de train X\n",
    "        :param y_train: labels de train Y\n",
    "        :param X_test: dataset de test X\n",
    "        :param y_test: labels de test y\n",
    "        :param X_val: dataset de validacion X\n",
    "        :param y_val: labels de validacion y\n",
    "        :param target_mean: media global del target\n",
    "        :return: Todas las metricas guardadas\n",
    "        \"\"\"\n",
    "        train_metrics = get_metrics(model, X_train, y_train)\n",
    "        test_metrics = get_metrics(model, X_test, y_test)\n",
    "        val_metrics = get_metrics(model, X_val, y_val)\n",
    "        report_dict = {\n",
    "            \"target\": target,\n",
    "            \"roc_auc_train\": train_metrics[\"roc_auc\"],\n",
    "            \"roc_auc_test\": test_metrics[\"roc_auc\"],\n",
    "            \"roc_auc_val\": val_metrics[\"roc_auc\"],\n",
    "            \"accuracy_train\": train_metrics[\"accuracy\"],\n",
    "            \"accuracy_test\": test_metrics[\"accuracy\"],\n",
    "            \"accuracy_val\": val_metrics[\"accuracy\"],\n",
    "            \"recall_train\": train_metrics[\"recall\"],\n",
    "            \"recall_test\": test_metrics[\"recall\"],\n",
    "            \"recall_val\": val_metrics[\"recall\"],\n",
    "            \"precision_train\": train_metrics[\"precision\"],\n",
    "            \"precision_test\": test_metrics[\"precision\"],\n",
    "            \"precision_val\": val_metrics[\"precision\"],\n",
    "            \"f1_score_train\": train_metrics[\"f1_score\"],\n",
    "            \"f1_score_test\": test_metrics[\"f1_score\"],\n",
    "            \"f1_score_val\": val_metrics[\"f1_score\"],\n",
    "            \"target_mean\": target_mean,\n",
    "            \"model\": model\n",
    "        }\n",
    "        self.append_new_evaluation(report_dict)\n",
    "        return self.save_csv()\n",
    "\n",
    "    def save_csv(self):\n",
    "        \"\"\"\n",
    "        Guarda en csv los resultados de las evaluaciones\n",
    "        :return: Todas las metricas guardadas\n",
    "        \"\"\"\n",
    "        self.output_df.drop_duplicates(keep=\"last\", inplace=True)\n",
    "        self.output_df.to_csv(self.output_file)\n",
    "        return self.output_df\n",
    "\n",
    "\n",
    "reporter = Reporter(__MODEL_METRICS_REPORT_PATH__)"
   ],
   "metadata": {
    "pycharm": {
     "name": "#%%\n"
    },
    "id": "YnT8_nSyoA4z",
    "executionInfo": {
     "status": "ok",
     "timestamp": 1650640880838,
     "user_tz": -120,
     "elapsed": 392,
     "user": {
      "displayName": "nerea dominguez cabezas",
      "userId": "01946356256277218181"
     }
    },
    "colab": {
     "base_uri": "https://localhost:8080/"
    },
    "outputId": "6e17fa28-1d95-454a-e0e6-a1e7bf0a0657"
   }
  },
  {
   "cell_type": "markdown",
   "source": [
    "## Functions"
   ],
   "metadata": {
    "collapsed": false,
    "pycharm": {
     "name": "#%% md\n"
    },
    "id": "ur1q39XHoA40"
   }
  },
  {
   "cell_type": "code",
   "execution_count": 9,
   "outputs": [],
   "source": [
    "def hist_plot(dataframe: pd.DataFrame, target: str):\n",
    "    \"\"\"\n",
    "    Plotea un Histograma\n",
    "    :param dataframe: dataframe a mostrar\n",
    "    :param target: target\n",
    "    :return: value_counts del dataframe de entrada\n",
    "    \"\"\"\n",
    "    dataframe[target].hist()\n",
    "    plt.show()\n",
    "    print(target)\n",
    "    return dataframe[target].value_counts()\n",
    "\n",
    "\n",
    "def relation_with_target(dataframe: pd.DataFrame, field: str, target: str):\n",
    "    \"\"\"\n",
    "    Describe la relacion de una variable contra el target\n",
    "    usando un countplot y una pivot_table\n",
    "    :param dataframe: dataframe a evaluar\n",
    "    :param field: campo a contrastar con el target\n",
    "    :param target: target\n",
    "    :return: pivot table resumen\n",
    "    \"\"\"\n",
    "    plt.figure(figsize=(15, 5))\n",
    "    plt.xticks(rotation=90)\n",
    "    sns.countplot(data=dataframe, x=field, hue=target)\n",
    "    plt.show()\n",
    "    return dataframe.pivot_table(index=field, values=target, aggfunc=[len, sum, np.mean])\n",
    "\n",
    "\n",
    "def get_y_score(model, X, y) -> pd.DataFrame:\n",
    "    \"\"\"\n",
    "    Obtiene el predictproba\n",
    "    :param model: modelo\n",
    "    :param X: datos a evaluar\n",
    "    :param y: y para obtener los indices\n",
    "    :return: predict_proba dataframe\n",
    "    \"\"\"\n",
    "    return pd.DataFrame(model.predict_proba(X)[:, 1], index=y.index, columns=['score'])\n",
    "\n",
    "\n",
    "def get_metrics(model, X, y):\n",
    "    \"\"\"\n",
    "    Obtiene un diccionario con las metricas del modelo\n",
    "    :param model: modelo\n",
    "    :param X: datos a evaluar\n",
    "    :param y: y\n",
    "    :return: diccionario con metricas\n",
    "    \"\"\"\n",
    "    prediction = model.predict(X)\n",
    "    y_score = get_y_score(model, X, y)\n",
    "    try:\n",
    "        auc = roc_auc_score(y, y_score)\n",
    "    except ValueError:\n",
    "        auc = 0\n",
    "    return dict({\n",
    "        \"roc_auc\": auc,\n",
    "        \"accuracy\": accuracy_score(y, prediction),\n",
    "        \"precision\": precision_score(y, prediction),\n",
    "        \"recall\": recall_score(y, prediction),\n",
    "        \"f1_score\": f1_score(y, prediction),\n",
    "    })"
   ],
   "metadata": {
    "pycharm": {
     "name": "#%%\n"
    },
    "id": "kzcLXBgboA41"
   }
  },
  {
   "cell_type": "markdown",
   "source": [
    "## Filter data\n",
    "\n",
    "Filtramos los datos para no tener los 17 meses de un cliente sino capturar sus caracteristicas cuando obtuvo el producto por primera vez y tener una muestra de cuando no lo tuvo, aquí se hace un resumen de las características de cada usuario."
   ],
   "metadata": {
    "collapsed": false,
    "pycharm": {
     "name": "#%% md\n"
    },
    "id": "51R_Q3LroA41"
   }
  },
  {
   "cell_type": "code",
   "execution_count": 10,
   "outputs": [
    {
     "data": {
      "text/plain": "         pk_cid  short_term_deposit pk_partition  active_customer  \\\n0         15891                   0   2018-08-28                0   \n1         16063                   0   2018-11-28                1   \n2         16203                   0   2019-04-28                1   \n3         16502                   0   2018-12-28                1   \n4         17457                   0   2018-06-28                1   \n...         ...                 ...          ...              ...   \n461688  1553685                   0   2019-05-28                0   \n461689  1553686                   0   2019-05-28                0   \n461690  1553687                   0   2019-05-28                0   \n461691  1553688                   0   2019-05-28                0   \n461692  1553689                   0   2019-05-28                0   \n\n        region_code  gender  age  deceased  loans  mortgage  ...  \\\n0                28       1   59         0      0         0  ...   \n1                28       1   62         0      0         0  ...   \n2                 8       0   70         0      0         0  ...   \n3                28       1   58         0      0         0  ...   \n4                28       1   53         0      0         0  ...   \n...             ...     ...  ...       ...    ...       ...  ...   \n461688           13       0   52         0      0         0  ...   \n461689           41       1   30         0      0         0  ...   \n461690           28       0   21         0      0         0  ...   \n461691           39       1   43         0      0         0  ...   \n461692           21       0   40         0      0         0  ...   \n\n        country_id_PL  country_id_PT  country_id_QA  country_id_RO  \\\n0                   0              0              0              0   \n1                   0              0              0              0   \n2                   0              0              0              0   \n3                   0              0              0              0   \n4                   0              0              0              0   \n...               ...            ...            ...            ...   \n461688              0              0              0              0   \n461689              0              0              0              0   \n461690              0              0              0              0   \n461691              0              0              0              0   \n461692              0              0              0              0   \n\n        country_id_RU  country_id_SA  country_id_SE  country_id_SN  \\\n0                   0              0              0              0   \n1                   0              0              0              0   \n2                   0              0              0              0   \n3                   0              0              0              0   \n4                   0              0              0              0   \n...               ...            ...            ...            ...   \n461688              0              0              0              0   \n461689              0              0              0              0   \n461690              0              0              0              0   \n461691              0              0              0              0   \n461692              0              0              0              0   \n\n        country_id_US  country_id_VE  \n0                   0              0  \n1                   0              0  \n2                   0              0  \n3                   0              0  \n4                   0              0  \n...               ...            ...  \n461688              0              0  \n461689              0              0  \n461690              0              0  \n461691              0              0  \n461692              0              0  \n\n[461693 rows x 143 columns]",
      "text/html": "<div>\n<style scoped>\n    .dataframe tbody tr th:only-of-type {\n        vertical-align: middle;\n    }\n\n    .dataframe tbody tr th {\n        vertical-align: top;\n    }\n\n    .dataframe thead th {\n        text-align: right;\n    }\n</style>\n<table border=\"1\" class=\"dataframe\">\n  <thead>\n    <tr style=\"text-align: right;\">\n      <th></th>\n      <th>pk_cid</th>\n      <th>short_term_deposit</th>\n      <th>pk_partition</th>\n      <th>active_customer</th>\n      <th>region_code</th>\n      <th>gender</th>\n      <th>age</th>\n      <th>deceased</th>\n      <th>loans</th>\n      <th>mortgage</th>\n      <th>...</th>\n      <th>country_id_PL</th>\n      <th>country_id_PT</th>\n      <th>country_id_QA</th>\n      <th>country_id_RO</th>\n      <th>country_id_RU</th>\n      <th>country_id_SA</th>\n      <th>country_id_SE</th>\n      <th>country_id_SN</th>\n      <th>country_id_US</th>\n      <th>country_id_VE</th>\n    </tr>\n  </thead>\n  <tbody>\n    <tr>\n      <th>0</th>\n      <td>15891</td>\n      <td>0</td>\n      <td>2018-08-28</td>\n      <td>0</td>\n      <td>28</td>\n      <td>1</td>\n      <td>59</td>\n      <td>0</td>\n      <td>0</td>\n      <td>0</td>\n      <td>...</td>\n      <td>0</td>\n      <td>0</td>\n      <td>0</td>\n      <td>0</td>\n      <td>0</td>\n      <td>0</td>\n      <td>0</td>\n      <td>0</td>\n      <td>0</td>\n      <td>0</td>\n    </tr>\n    <tr>\n      <th>1</th>\n      <td>16063</td>\n      <td>0</td>\n      <td>2018-11-28</td>\n      <td>1</td>\n      <td>28</td>\n      <td>1</td>\n      <td>62</td>\n      <td>0</td>\n      <td>0</td>\n      <td>0</td>\n      <td>...</td>\n      <td>0</td>\n      <td>0</td>\n      <td>0</td>\n      <td>0</td>\n      <td>0</td>\n      <td>0</td>\n      <td>0</td>\n      <td>0</td>\n      <td>0</td>\n      <td>0</td>\n    </tr>\n    <tr>\n      <th>2</th>\n      <td>16203</td>\n      <td>0</td>\n      <td>2019-04-28</td>\n      <td>1</td>\n      <td>8</td>\n      <td>0</td>\n      <td>70</td>\n      <td>0</td>\n      <td>0</td>\n      <td>0</td>\n      <td>...</td>\n      <td>0</td>\n      <td>0</td>\n      <td>0</td>\n      <td>0</td>\n      <td>0</td>\n      <td>0</td>\n      <td>0</td>\n      <td>0</td>\n      <td>0</td>\n      <td>0</td>\n    </tr>\n    <tr>\n      <th>3</th>\n      <td>16502</td>\n      <td>0</td>\n      <td>2018-12-28</td>\n      <td>1</td>\n      <td>28</td>\n      <td>1</td>\n      <td>58</td>\n      <td>0</td>\n      <td>0</td>\n      <td>0</td>\n      <td>...</td>\n      <td>0</td>\n      <td>0</td>\n      <td>0</td>\n      <td>0</td>\n      <td>0</td>\n      <td>0</td>\n      <td>0</td>\n      <td>0</td>\n      <td>0</td>\n      <td>0</td>\n    </tr>\n    <tr>\n      <th>4</th>\n      <td>17457</td>\n      <td>0</td>\n      <td>2018-06-28</td>\n      <td>1</td>\n      <td>28</td>\n      <td>1</td>\n      <td>53</td>\n      <td>0</td>\n      <td>0</td>\n      <td>0</td>\n      <td>...</td>\n      <td>0</td>\n      <td>0</td>\n      <td>0</td>\n      <td>0</td>\n      <td>0</td>\n      <td>0</td>\n      <td>0</td>\n      <td>0</td>\n      <td>0</td>\n      <td>0</td>\n    </tr>\n    <tr>\n      <th>...</th>\n      <td>...</td>\n      <td>...</td>\n      <td>...</td>\n      <td>...</td>\n      <td>...</td>\n      <td>...</td>\n      <td>...</td>\n      <td>...</td>\n      <td>...</td>\n      <td>...</td>\n      <td>...</td>\n      <td>...</td>\n      <td>...</td>\n      <td>...</td>\n      <td>...</td>\n      <td>...</td>\n      <td>...</td>\n      <td>...</td>\n      <td>...</td>\n      <td>...</td>\n      <td>...</td>\n    </tr>\n    <tr>\n      <th>461688</th>\n      <td>1553685</td>\n      <td>0</td>\n      <td>2019-05-28</td>\n      <td>0</td>\n      <td>13</td>\n      <td>0</td>\n      <td>52</td>\n      <td>0</td>\n      <td>0</td>\n      <td>0</td>\n      <td>...</td>\n      <td>0</td>\n      <td>0</td>\n      <td>0</td>\n      <td>0</td>\n      <td>0</td>\n      <td>0</td>\n      <td>0</td>\n      <td>0</td>\n      <td>0</td>\n      <td>0</td>\n    </tr>\n    <tr>\n      <th>461689</th>\n      <td>1553686</td>\n      <td>0</td>\n      <td>2019-05-28</td>\n      <td>0</td>\n      <td>41</td>\n      <td>1</td>\n      <td>30</td>\n      <td>0</td>\n      <td>0</td>\n      <td>0</td>\n      <td>...</td>\n      <td>0</td>\n      <td>0</td>\n      <td>0</td>\n      <td>0</td>\n      <td>0</td>\n      <td>0</td>\n      <td>0</td>\n      <td>0</td>\n      <td>0</td>\n      <td>0</td>\n    </tr>\n    <tr>\n      <th>461690</th>\n      <td>1553687</td>\n      <td>0</td>\n      <td>2019-05-28</td>\n      <td>0</td>\n      <td>28</td>\n      <td>0</td>\n      <td>21</td>\n      <td>0</td>\n      <td>0</td>\n      <td>0</td>\n      <td>...</td>\n      <td>0</td>\n      <td>0</td>\n      <td>0</td>\n      <td>0</td>\n      <td>0</td>\n      <td>0</td>\n      <td>0</td>\n      <td>0</td>\n      <td>0</td>\n      <td>0</td>\n    </tr>\n    <tr>\n      <th>461691</th>\n      <td>1553688</td>\n      <td>0</td>\n      <td>2019-05-28</td>\n      <td>0</td>\n      <td>39</td>\n      <td>1</td>\n      <td>43</td>\n      <td>0</td>\n      <td>0</td>\n      <td>0</td>\n      <td>...</td>\n      <td>0</td>\n      <td>0</td>\n      <td>0</td>\n      <td>0</td>\n      <td>0</td>\n      <td>0</td>\n      <td>0</td>\n      <td>0</td>\n      <td>0</td>\n      <td>0</td>\n    </tr>\n    <tr>\n      <th>461692</th>\n      <td>1553689</td>\n      <td>0</td>\n      <td>2019-05-28</td>\n      <td>0</td>\n      <td>21</td>\n      <td>0</td>\n      <td>40</td>\n      <td>0</td>\n      <td>0</td>\n      <td>0</td>\n      <td>...</td>\n      <td>0</td>\n      <td>0</td>\n      <td>0</td>\n      <td>0</td>\n      <td>0</td>\n      <td>0</td>\n      <td>0</td>\n      <td>0</td>\n      <td>0</td>\n      <td>0</td>\n    </tr>\n  </tbody>\n</table>\n<p>461693 rows × 143 columns</p>\n</div>"
     },
     "execution_count": 10,
     "metadata": {},
     "output_type": "execute_result"
    }
   ],
   "source": [
    "filter = EasyMoneyFilter(TARGET)\n",
    "df_prep = filter.fit_transform(df)\n",
    "df_prep"
   ],
   "metadata": {
    "pycharm": {
     "name": "#%%\n"
    },
    "id": "38pa611PoA42",
    "colab": {
     "base_uri": "https://localhost:8080/",
     "height": 487
    },
    "executionInfo": {
     "status": "ok",
     "timestamp": 1650641264671,
     "user_tz": -120,
     "elapsed": 383838,
     "user": {
      "displayName": "nerea dominguez cabezas",
      "userId": "01946356256277218181"
     }
    },
    "outputId": "019768b7-bdc9-4695-a6ca-a126c52852a9"
   }
  },
  {
   "cell_type": "markdown",
   "source": [
    "## Target distribution"
   ],
   "metadata": {
    "collapsed": false,
    "pycharm": {
     "name": "#%% md\n"
    },
    "id": "n8tIdxVnoA43"
   }
  },
  {
   "cell_type": "code",
   "execution_count": 11,
   "outputs": [
    {
     "data": {
      "text/plain": "                       count          mean            std      min        25%  \\\npk_cid              461693.0  1.275965e+06  178983.035400  15891.0  1145003.0   \nshort_term_deposit  461693.0  1.153147e-02       0.106764      0.0        0.0   \nactive_customer     461693.0  3.890009e-01       0.487524      0.0        0.0   \nregion_code         461693.0  2.587934e+01      13.533878     -1.0       13.0   \ngender              461693.0  5.113614e-01       0.499871      0.0        0.0   \n...                      ...           ...            ...      ...        ...   \ncountry_id_SA       461693.0  2.165941e-06       0.001472      0.0        0.0   \ncountry_id_SE       461693.0  4.331883e-06       0.002081      0.0        0.0   \ncountry_id_SN       461693.0  2.165941e-06       0.001472      0.0        0.0   \ncountry_id_US       461693.0  3.248912e-05       0.005700      0.0        0.0   \ncountry_id_VE       461693.0  1.082971e-05       0.003291      0.0        0.0   \n\n                          50%        75%        max  \npk_cid              1287586.0  1423094.0  1553689.0  \nshort_term_deposit        0.0        0.0        1.0  \nactive_customer           0.0        1.0        1.0  \nregion_code              28.0       36.0       52.0  \ngender                    1.0        1.0        1.0  \n...                       ...        ...        ...  \ncountry_id_SA             0.0        0.0        1.0  \ncountry_id_SE             0.0        0.0        1.0  \ncountry_id_SN             0.0        0.0        1.0  \ncountry_id_US             0.0        0.0        1.0  \ncountry_id_VE             0.0        0.0        1.0  \n\n[142 rows x 8 columns]",
      "text/html": "<div>\n<style scoped>\n    .dataframe tbody tr th:only-of-type {\n        vertical-align: middle;\n    }\n\n    .dataframe tbody tr th {\n        vertical-align: top;\n    }\n\n    .dataframe thead th {\n        text-align: right;\n    }\n</style>\n<table border=\"1\" class=\"dataframe\">\n  <thead>\n    <tr style=\"text-align: right;\">\n      <th></th>\n      <th>count</th>\n      <th>mean</th>\n      <th>std</th>\n      <th>min</th>\n      <th>25%</th>\n      <th>50%</th>\n      <th>75%</th>\n      <th>max</th>\n    </tr>\n  </thead>\n  <tbody>\n    <tr>\n      <th>pk_cid</th>\n      <td>461693.0</td>\n      <td>1.275965e+06</td>\n      <td>178983.035400</td>\n      <td>15891.0</td>\n      <td>1145003.0</td>\n      <td>1287586.0</td>\n      <td>1423094.0</td>\n      <td>1553689.0</td>\n    </tr>\n    <tr>\n      <th>short_term_deposit</th>\n      <td>461693.0</td>\n      <td>1.153147e-02</td>\n      <td>0.106764</td>\n      <td>0.0</td>\n      <td>0.0</td>\n      <td>0.0</td>\n      <td>0.0</td>\n      <td>1.0</td>\n    </tr>\n    <tr>\n      <th>active_customer</th>\n      <td>461693.0</td>\n      <td>3.890009e-01</td>\n      <td>0.487524</td>\n      <td>0.0</td>\n      <td>0.0</td>\n      <td>0.0</td>\n      <td>1.0</td>\n      <td>1.0</td>\n    </tr>\n    <tr>\n      <th>region_code</th>\n      <td>461693.0</td>\n      <td>2.587934e+01</td>\n      <td>13.533878</td>\n      <td>-1.0</td>\n      <td>13.0</td>\n      <td>28.0</td>\n      <td>36.0</td>\n      <td>52.0</td>\n    </tr>\n    <tr>\n      <th>gender</th>\n      <td>461693.0</td>\n      <td>5.113614e-01</td>\n      <td>0.499871</td>\n      <td>0.0</td>\n      <td>0.0</td>\n      <td>1.0</td>\n      <td>1.0</td>\n      <td>1.0</td>\n    </tr>\n    <tr>\n      <th>...</th>\n      <td>...</td>\n      <td>...</td>\n      <td>...</td>\n      <td>...</td>\n      <td>...</td>\n      <td>...</td>\n      <td>...</td>\n      <td>...</td>\n    </tr>\n    <tr>\n      <th>country_id_SA</th>\n      <td>461693.0</td>\n      <td>2.165941e-06</td>\n      <td>0.001472</td>\n      <td>0.0</td>\n      <td>0.0</td>\n      <td>0.0</td>\n      <td>0.0</td>\n      <td>1.0</td>\n    </tr>\n    <tr>\n      <th>country_id_SE</th>\n      <td>461693.0</td>\n      <td>4.331883e-06</td>\n      <td>0.002081</td>\n      <td>0.0</td>\n      <td>0.0</td>\n      <td>0.0</td>\n      <td>0.0</td>\n      <td>1.0</td>\n    </tr>\n    <tr>\n      <th>country_id_SN</th>\n      <td>461693.0</td>\n      <td>2.165941e-06</td>\n      <td>0.001472</td>\n      <td>0.0</td>\n      <td>0.0</td>\n      <td>0.0</td>\n      <td>0.0</td>\n      <td>1.0</td>\n    </tr>\n    <tr>\n      <th>country_id_US</th>\n      <td>461693.0</td>\n      <td>3.248912e-05</td>\n      <td>0.005700</td>\n      <td>0.0</td>\n      <td>0.0</td>\n      <td>0.0</td>\n      <td>0.0</td>\n      <td>1.0</td>\n    </tr>\n    <tr>\n      <th>country_id_VE</th>\n      <td>461693.0</td>\n      <td>1.082971e-05</td>\n      <td>0.003291</td>\n      <td>0.0</td>\n      <td>0.0</td>\n      <td>0.0</td>\n      <td>0.0</td>\n      <td>1.0</td>\n    </tr>\n  </tbody>\n</table>\n<p>142 rows × 8 columns</p>\n</div>"
     },
     "execution_count": 11,
     "metadata": {},
     "output_type": "execute_result"
    }
   ],
   "source": [
    "df_prep.describe().T"
   ],
   "metadata": {
    "pycharm": {
     "name": "#%%\n"
    },
    "id": "vnLwJKLtoA43",
    "colab": {
     "base_uri": "https://localhost:8080/",
     "height": 424
    },
    "executionInfo": {
     "status": "ok",
     "timestamp": 1650641266021,
     "user_tz": -120,
     "elapsed": 1358,
     "user": {
      "displayName": "nerea dominguez cabezas",
      "userId": "01946356256277218181"
     }
    },
    "outputId": "7b1c4c1e-e4f9-41ee-9b1c-88751f0e83c1"
   }
  },
  {
   "cell_type": "markdown",
   "source": [
    "Gráfico general de los clientes en los 17 meses que tienen o no short_term_deposit"
   ],
   "metadata": {
    "id": "5JAeqM3Ega2J"
   }
  },
  {
   "cell_type": "code",
   "execution_count": 12,
   "outputs": [
    {
     "data": {
      "text/plain": "<Figure size 432x288 with 1 Axes>",
      "image/png": "[encoded data removed]"
     },
     "metadata": {
      "needs_background": "light"
     },
     "output_type": "display_data"
    },
    {
     "name": "stdout",
     "output_type": "stream",
     "text": [
      "short_term_deposit\n"
     ]
    },
    {
     "data": {
      "text/plain": "0    456369\n1      5324\nName: short_term_deposit, dtype: int64"
     },
     "execution_count": 12,
     "metadata": {},
     "output_type": "execute_result"
    }
   ],
   "source": [
    "hist_plot(df_prep, TARGET)"
   ],
   "metadata": {
    "pycharm": {
     "name": "#%%\n"
    },
    "id": "plc8A-GloA44",
    "colab": {
     "base_uri": "https://localhost:8080/",
     "height": 337
    },
    "executionInfo": {
     "status": "ok",
     "timestamp": 1650641266421,
     "user_tz": -120,
     "elapsed": 407,
     "user": {
      "displayName": "nerea dominguez cabezas",
      "userId": "01946356256277218181"
     }
    },
    "outputId": "2bf140c7-bf63-465c-8480-6931083e4452"
   }
  },
  {
   "cell_type": "markdown",
   "source": [
    "Coolwarm: gráfico de correlación entre las variables, se puede apreciar que los campos short_term_deposit y em_account están muy correlacionados entre ellos"
   ],
   "metadata": {
    "collapsed": false,
    "pycharm": {
     "name": "#%% md\n"
    },
    "id": "nZSDqQGuoA46"
   }
  },
  {
   "cell_type": "code",
   "execution_count": 13,
   "outputs": [
    {
     "data": {
      "text/plain": "<pandas.io.formats.style.Styler at 0x229ff5286d0>",
      "text/html": "<style type=\"text/css\">\n#T_0de05_row0_col0, #T_0de05_row1_col1, #T_0de05_row2_col2, #T_0de05_row3_col3, #T_0de05_row4_col4, #T_0de05_row5_col5, #T_0de05_row6_col6, #T_0de05_row7_col7, #T_0de05_row8_col8, #T_0de05_row9_col9, #T_0de05_row10_col10, #T_0de05_row11_col11, #T_0de05_row12_col12, #T_0de05_row13_col13, #T_0de05_row14_col14, #T_0de05_row15_col15, #T_0de05_row16_col16, #T_0de05_row17_col17, #T_0de05_row18_col18, #T_0de05_row19_col19 {\n  background-color: #b40426;\n  color: #f1f1f1;\n}\n#T_0de05_row0_col1, #T_0de05_row3_col12, #T_0de05_row9_col11, #T_0de05_row12_col11 {\n  background-color: #9ebeff;\n  color: #000000;\n}\n#T_0de05_row0_col2, #T_0de05_row3_col19, #T_0de05_row4_col2, #T_0de05_row6_col2, #T_0de05_row8_col2, #T_0de05_row8_col5, #T_0de05_row9_col2, #T_0de05_row10_col5, #T_0de05_row16_col2 {\n  background-color: #5572df;\n  color: #f1f1f1;\n}\n#T_0de05_row0_col3 {\n  background-color: #dadce0;\n  color: #000000;\n}\n#T_0de05_row0_col4, #T_0de05_row13_col4 {\n  background-color: #4a63d3;\n  color: #f1f1f1;\n}\n#T_0de05_row0_col5 {\n  background-color: #4961d2;\n  color: #f1f1f1;\n}\n#T_0de05_row0_col6, #T_0de05_row2_col17, #T_0de05_row6_col7, #T_0de05_row11_col5, #T_0de05_row13_col6 {\n  background-color: #6180e9;\n  color: #f1f1f1;\n}\n#T_0de05_row0_col7, #T_0de05_row10_col4 {\n  background-color: #516ddb;\n  color: #f1f1f1;\n}\n#T_0de05_row0_col8, #T_0de05_row2_col8, #T_0de05_row7_col17, #T_0de05_row13_col12, #T_0de05_row17_col12 {\n  background-color: #6f92f3;\n  color: #f1f1f1;\n}\n#T_0de05_row0_col9, #T_0de05_row2_col1, #T_0de05_row18_col0 {\n  background-color: #7295f4;\n  color: #f1f1f1;\n}\n#T_0de05_row0_col10, #T_0de05_row5_col9, #T_0de05_row15_col1, #T_0de05_row19_col2 {\n  background-color: #81a4fb;\n  color: #f1f1f1;\n}\n#T_0de05_row0_col11, #T_0de05_row2_col9, #T_0de05_row3_col7, #T_0de05_row18_col6 {\n  background-color: #7093f3;\n  color: #f1f1f1;\n}\n#T_0de05_row0_col12, #T_0de05_row4_col5, #T_0de05_row9_col6, #T_0de05_row10_col6, #T_0de05_row11_col4 {\n  background-color: #6788ee;\n  color: #f1f1f1;\n}\n#T_0de05_row0_col13, #T_0de05_row2_col13, #T_0de05_row4_col13, #T_0de05_row6_col13, #T_0de05_row7_col13, #T_0de05_row8_col13, #T_0de05_row9_col13, #T_0de05_row10_col14, #T_0de05_row11_col13, #T_0de05_row14_col8, #T_0de05_row14_col9, #T_0de05_row14_col10, #T_0de05_row14_col13, #T_0de05_row14_col15, #T_0de05_row15_col13, #T_0de05_row16_col13, #T_0de05_row18_col2, #T_0de05_row18_col13, #T_0de05_row18_col19, #T_0de05_row19_col0, #T_0de05_row19_col1, #T_0de05_row19_col3, #T_0de05_row19_col4, #T_0de05_row19_col5, #T_0de05_row19_col6, #T_0de05_row19_col7, #T_0de05_row19_col11, #T_0de05_row19_col12, #T_0de05_row19_col13, #T_0de05_row19_col16, #T_0de05_row19_col17, #T_0de05_row19_col18 {\n  background-color: #3b4cc0;\n  color: #f1f1f1;\n}\n#T_0de05_row0_col14, #T_0de05_row2_col10, #T_0de05_row5_col8, #T_0de05_row8_col16, #T_0de05_row15_col14, #T_0de05_row17_col16 {\n  background-color: #80a3fa;\n  color: #f1f1f1;\n}\n#T_0de05_row0_col15, #T_0de05_row3_col2 {\n  background-color: #4257c9;\n  color: #f1f1f1;\n}\n#T_0de05_row0_col16, #T_0de05_row1_col6, #T_0de05_row4_col11 {\n  background-color: #90b2fe;\n  color: #000000;\n}\n#T_0de05_row0_col17, #T_0de05_row8_col11, #T_0de05_row11_col8, #T_0de05_row18_col8 {\n  background-color: #9bbcff;\n  color: #000000;\n}\n#T_0de05_row0_col18 {\n  background-color: #dbdcde;\n  color: #000000;\n}\n#T_0de05_row0_col19, #T_0de05_row8_col1, #T_0de05_row9_col19 {\n  background-color: #bcd2f7;\n  color: #000000;\n}\n#T_0de05_row1_col0, #T_0de05_row4_col9, #T_0de05_row5_col17, #T_0de05_row6_col9, #T_0de05_row10_col16 {\n  background-color: #7b9ff9;\n  color: #f1f1f1;\n}\n#T_0de05_row1_col2, #T_0de05_row9_col14, #T_0de05_row14_col4, #T_0de05_row15_col4, #T_0de05_row15_col5 {\n  background-color: #4b64d5;\n  color: #f1f1f1;\n}\n#T_0de05_row1_col3, #T_0de05_row10_col18 {\n  background-color: #e8d6cc;\n  color: #000000;\n}\n#T_0de05_row1_col4, #T_0de05_row3_col5, #T_0de05_row4_col7, #T_0de05_row15_col0, #T_0de05_row16_col17, #T_0de05_row17_col5 {\n  background-color: #5e7de7;\n  color: #f1f1f1;\n}\n#T_0de05_row1_col5, #T_0de05_row3_col14, #T_0de05_row14_col6, #T_0de05_row14_col17 {\n  background-color: #5f7fe8;\n  color: #f1f1f1;\n}\n#T_0de05_row1_col7, #T_0de05_row6_col8 {\n  background-color: #799cf8;\n  color: #f1f1f1;\n}\n#T_0de05_row1_col8, #T_0de05_row7_col9, #T_0de05_row16_col18 {\n  background-color: #b3cdfb;\n  color: #000000;\n}\n#T_0de05_row1_col9 {\n  background-color: #b6cefa;\n  color: #000000;\n}\n#T_0de05_row1_col10 {\n  background-color: #cbd8ee;\n  color: #000000;\n}\n#T_0de05_row1_col11, #T_0de05_row3_col17, #T_0de05_row17_col11, #T_0de05_row18_col10 {\n  background-color: #b2ccfb;\n  color: #000000;\n}\n#T_0de05_row1_col12, #T_0de05_row10_col3, #T_0de05_row12_col9 {\n  background-color: #d5dbe5;\n  color: #000000;\n}\n#T_0de05_row1_col13, #T_0de05_row3_col13, #T_0de05_row10_col13, #T_0de05_row12_col13 {\n  background-color: #3c4ec2;\n  color: #f1f1f1;\n}\n#T_0de05_row1_col14 {\n  background-color: #c4d5f3;\n  color: #000000;\n}\n#T_0de05_row1_col15, #T_0de05_row2_col15, #T_0de05_row3_col15, #T_0de05_row5_col13, #T_0de05_row8_col15, #T_0de05_row9_col15, #T_0de05_row10_col15, #T_0de05_row13_col15 {\n  background-color: #4055c8;\n  color: #f1f1f1;\n}\n#T_0de05_row1_col16 {\n  background-color: #7da0f9;\n  color: #f1f1f1;\n}\n#T_0de05_row1_col17, #T_0de05_row5_col1 {\n  background-color: #94b6ff;\n  color: #000000;\n}\n#T_0de05_row1_col18 {\n  background-color: #f2cab5;\n  color: #000000;\n}\n#T_0de05_row1_col19, #T_0de05_row10_col11 {\n  background-color: #a1c0ff;\n  color: #000000;\n}\n#T_0de05_row2_col0, #T_0de05_row10_col0, #T_0de05_row11_col0 {\n  background-color: #5875e1;\n  color: #f1f1f1;\n}\n#T_0de05_row2_col3, #T_0de05_row11_col10, #T_0de05_row12_col19, #T_0de05_row14_col18 {\n  background-color: #afcafc;\n  color: #000000;\n}\n#T_0de05_row2_col4, #T_0de05_row17_col15, #T_0de05_row19_col15 {\n  background-color: #455cce;\n  color: #f1f1f1;\n}\n#T_0de05_row2_col5 {\n  background-color: #445acc;\n  color: #f1f1f1;\n}\n#T_0de05_row2_col6, #T_0de05_row5_col0, #T_0de05_row17_col7, #T_0de05_row18_col16 {\n  background-color: #5b7ae5;\n  color: #f1f1f1;\n}\n#T_0de05_row2_col7, #T_0de05_row14_col5 {\n  background-color: #4c66d6;\n  color: #f1f1f1;\n}\n#T_0de05_row2_col11, #T_0de05_row5_col4, #T_0de05_row12_col17, #T_0de05_row14_col16, #T_0de05_row16_col8 {\n  background-color: #688aef;\n  color: #f1f1f1;\n}\n#T_0de05_row2_col12, #T_0de05_row3_col4, #T_0de05_row14_col11, #T_0de05_row19_col10 {\n  background-color: #6282ea;\n  color: #f1f1f1;\n}\n#T_0de05_row2_col14 {\n  background-color: #8fb1fe;\n  color: #000000;\n}\n#T_0de05_row2_col16, #T_0de05_row6_col14 {\n  background-color: #84a7fc;\n  color: #f1f1f1;\n}\n#T_0de05_row2_col18, #T_0de05_row8_col19, #T_0de05_row9_col1 {\n  background-color: #bed2f6;\n  color: #000000;\n}\n#T_0de05_row2_col19, #T_0de05_row12_col10 {\n  background-color: #e3d9d3;\n  color: #000000;\n}\n#T_0de05_row3_col0, #T_0de05_row4_col14, #T_0de05_row13_col10 {\n  background-color: #88abfd;\n  color: #000000;\n}\n#T_0de05_row3_col1, #T_0de05_row7_col19, #T_0de05_row13_col3, #T_0de05_row15_col3, #T_0de05_row17_col18 {\n  background-color: #c1d4f4;\n  color: #000000;\n}\n#T_0de05_row3_col6, #T_0de05_row3_col10 {\n  background-color: #a5c3fe;\n  color: #000000;\n}\n#T_0de05_row3_col8, #T_0de05_row4_col10 {\n  background-color: #8db0fe;\n  color: #000000;\n}\n#T_0de05_row3_col9, #T_0de05_row4_col1, #T_0de05_row12_col7 {\n  background-color: #93b5fe;\n  color: #000000;\n}\n#T_0de05_row3_col11, #T_0de05_row11_col1 {\n  background-color: #bbd1f8;\n  color: #000000;\n}\n#T_0de05_row3_col16 {\n  background-color: #9dbdff;\n  color: #000000;\n}\n#T_0de05_row3_col18 {\n  background-color: #f08b6e;\n  color: #f1f1f1;\n}\n#T_0de05_row4_col0, #T_0de05_row6_col0, #T_0de05_row13_col0 {\n  background-color: #5d7ce6;\n  color: #f1f1f1;\n}\n#T_0de05_row4_col3 {\n  background-color: #cfdaea;\n  color: #000000;\n}\n#T_0de05_row4_col6, #T_0de05_row6_col10 {\n  background-color: #8caffe;\n  color: #000000;\n}\n#T_0de05_row4_col8, #T_0de05_row11_col16, #T_0de05_row17_col9 {\n  background-color: #7a9df8;\n  color: #f1f1f1;\n}\n#T_0de05_row4_col12, #T_0de05_row11_col14, #T_0de05_row13_col11, #T_0de05_row15_col9, #T_0de05_row16_col1 {\n  background-color: #7597f6;\n  color: #f1f1f1;\n}\n#T_0de05_row4_col15, #T_0de05_row5_col15, #T_0de05_row6_col15, #T_0de05_row7_col15, #T_0de05_row11_col15, #T_0de05_row14_col7 {\n  background-color: #4358cb;\n  color: #f1f1f1;\n}\n#T_0de05_row4_col16, #T_0de05_row5_col16, #T_0de05_row13_col14, #T_0de05_row15_col16 {\n  background-color: #86a9fc;\n  color: #f1f1f1;\n}\n#T_0de05_row4_col17, #T_0de05_row5_col14, #T_0de05_row13_col16 {\n  background-color: #89acfd;\n  color: #000000;\n}\n#T_0de05_row4_col18, #T_0de05_row6_col17 {\n  background-color: #d6dce4;\n  color: #000000;\n}\n#T_0de05_row4_col19, #T_0de05_row5_col19, #T_0de05_row10_col1, #T_0de05_row19_col14 {\n  background-color: #c9d7f0;\n  color: #000000;\n}\n#T_0de05_row5_col2, #T_0de05_row7_col4, #T_0de05_row10_col2, #T_0de05_row13_col7, #T_0de05_row18_col4, #T_0de05_row18_col14, #T_0de05_row19_col8, #T_0de05_row19_col9 {\n  background-color: #5470de;\n  color: #f1f1f1;\n}\n#T_0de05_row5_col3 {\n  background-color: #cdd9ec;\n  color: #000000;\n}\n#T_0de05_row5_col6, #T_0de05_row15_col17 {\n  background-color: #6b8df0;\n  color: #f1f1f1;\n}\n#T_0de05_row5_col7, #T_0de05_row14_col2, #T_0de05_row16_col0, #T_0de05_row16_col11, #T_0de05_row16_col14 {\n  background-color: #6485ec;\n  color: #f1f1f1;\n}\n#T_0de05_row5_col10, #T_0de05_row17_col0 {\n  background-color: #92b4fe;\n  color: #000000;\n}\n#T_0de05_row5_col11, #T_0de05_row17_col10 {\n  background-color: #8badfd;\n  color: #000000;\n}\n#T_0de05_row5_col12, #T_0de05_row9_col16, #T_0de05_row17_col14 {\n  background-color: #7ea1fa;\n  color: #f1f1f1;\n}\n#T_0de05_row5_col18 {\n  background-color: #d7dce3;\n  color: #000000;\n}\n#T_0de05_row6_col1 {\n  background-color: #abc8fd;\n  color: #000000;\n}\n#T_0de05_row6_col3, #T_0de05_row9_col18 {\n  background-color: #e5d8d1;\n  color: #000000;\n}\n#T_0de05_row6_col4, #T_0de05_row7_col14, #T_0de05_row12_col16, #T_0de05_row13_col9, #T_0de05_row15_col11 {\n  background-color: #7699f6;\n  color: #f1f1f1;\n}\n#T_0de05_row6_col5, #T_0de05_row7_col2, #T_0de05_row17_col2 {\n  background-color: #536edd;\n  color: #f1f1f1;\n}\n#T_0de05_row6_col11, #T_0de05_row11_col17 {\n  background-color: #a7c5fe;\n  color: #000000;\n}\n#T_0de05_row6_col12, #T_0de05_row13_col8, #T_0de05_row15_col8, #T_0de05_row18_col7 {\n  background-color: #7396f5;\n  color: #f1f1f1;\n}\n#T_0de05_row6_col16, #T_0de05_row7_col16, #T_0de05_row11_col7, #T_0de05_row13_col1 {\n  background-color: #82a6fb;\n  color: #f1f1f1;\n}\n#T_0de05_row6_col18, #T_0de05_row10_col12 {\n  background-color: #d8dce2;\n  color: #000000;\n}\n#T_0de05_row6_col19 {\n  background-color: #b9d0f9;\n  color: #000000;\n}\n#T_0de05_row7_col0, #T_0de05_row7_col5, #T_0de05_row12_col5, #T_0de05_row13_col2, #T_0de05_row15_col2, #T_0de05_row16_col12 {\n  background-color: #5a78e4;\n  color: #f1f1f1;\n}\n#T_0de05_row7_col1 {\n  background-color: #a2c1ff;\n  color: #000000;\n}\n#T_0de05_row7_col3, #T_0de05_row12_col8 {\n  background-color: #d2dbe8;\n  color: #000000;\n}\n#T_0de05_row7_col6 {\n  background-color: #6e90f2;\n  color: #f1f1f1;\n}\n#T_0de05_row7_col8 {\n  background-color: #b1cbfc;\n  color: #000000;\n}\n#T_0de05_row7_col10, #T_0de05_row14_col1 {\n  background-color: #c0d4f5;\n  color: #000000;\n}\n#T_0de05_row7_col11, #T_0de05_row11_col9, #T_0de05_row18_col9 {\n  background-color: #9fbfff;\n  color: #000000;\n}\n#T_0de05_row7_col12 {\n  background-color: #a9c6fd;\n  color: #000000;\n}\n#T_0de05_row7_col18 {\n  background-color: #dfdbd9;\n  color: #000000;\n}\n#T_0de05_row8_col0, #T_0de05_row9_col0, #T_0de05_row16_col6 {\n  background-color: #5977e3;\n  color: #f1f1f1;\n}\n#T_0de05_row8_col3, #T_0de05_row9_col12, #T_0de05_row13_col18, #T_0de05_row13_col19 {\n  background-color: #d1dae9;\n  color: #000000;\n}\n#T_0de05_row8_col4, #T_0de05_row9_col4, #T_0de05_row12_col4 {\n  background-color: #506bda;\n  color: #f1f1f1;\n}\n#T_0de05_row8_col6, #T_0de05_row12_col6 {\n  background-color: #6687ed;\n  color: #f1f1f1;\n}\n#T_0de05_row8_col7, #T_0de05_row11_col6 {\n  background-color: #97b8ff;\n  color: #000000;\n}\n#T_0de05_row8_col9, #T_0de05_row9_col8 {\n  background-color: #bd1f2d;\n  color: #f1f1f1;\n}\n#T_0de05_row8_col10 {\n  background-color: #ef886b;\n  color: #f1f1f1;\n}\n#T_0de05_row8_col12, #T_0de05_row15_col18, #T_0de05_row16_col3 {\n  background-color: #cedaeb;\n  color: #000000;\n}\n#T_0de05_row8_col14, #T_0de05_row11_col2, #T_0de05_row12_col2, #T_0de05_row16_col7, #T_0de05_row18_col17 {\n  background-color: #4e68d8;\n  color: #f1f1f1;\n}\n#T_0de05_row8_col17, #T_0de05_row9_col17, #T_0de05_row10_col17, #T_0de05_row14_col12, #T_0de05_row15_col12, #T_0de05_row17_col4 {\n  background-color: #6c8ff1;\n  color: #f1f1f1;\n}\n#T_0de05_row8_col18 {\n  background-color: #e4d9d2;\n  color: #000000;\n}\n#T_0de05_row9_col3 {\n  background-color: #d4dbe6;\n  color: #000000;\n}\n#T_0de05_row9_col5, #T_0de05_row12_col0, #T_0de05_row14_col0, #T_0de05_row15_col7, #T_0de05_row18_col5 {\n  background-color: #5673e0;\n  color: #f1f1f1;\n}\n#T_0de05_row9_col7, #T_0de05_row11_col12, #T_0de05_row16_col19 {\n  background-color: #98b9ff;\n  color: #000000;\n}\n#T_0de05_row9_col10 {\n  background-color: #ec8165;\n  color: #f1f1f1;\n}\n#T_0de05_row10_col7 {\n  background-color: #9abbff;\n  color: #000000;\n}\n#T_0de05_row10_col8 {\n  background-color: #f18f71;\n  color: #f1f1f1;\n}\n#T_0de05_row10_col9 {\n  background-color: #ee8669;\n  color: #f1f1f1;\n}\n#T_0de05_row10_col19 {\n  background-color: #bad0f8;\n  color: #000000;\n}\n#T_0de05_row11_col3, #T_0de05_row17_col3 {\n  background-color: #ead5c9;\n  color: #000000;\n}\n#T_0de05_row11_col18 {\n  background-color: #ecd3c5;\n  color: #000000;\n}\n#T_0de05_row11_col19, #T_0de05_row17_col1 {\n  background-color: #aac7fd;\n  color: #000000;\n}\n#T_0de05_row12_col1 {\n  background-color: #dedcdb;\n  color: #000000;\n}\n#T_0de05_row12_col3 {\n  background-color: #dddcdc;\n  color: #000000;\n}\n#T_0de05_row12_col14, #T_0de05_row15_col10 {\n  background-color: #85a8fc;\n  color: #f1f1f1;\n}\n#T_0de05_row12_col15, #T_0de05_row16_col15 {\n  background-color: #3e51c5;\n  color: #f1f1f1;\n}\n#T_0de05_row12_col18 {\n  background-color: #f0cdbb;\n  color: #000000;\n}\n#T_0de05_row13_col5 {\n  background-color: #4f69d9;\n  color: #f1f1f1;\n}\n#T_0de05_row13_col17, #T_0de05_row16_col9 {\n  background-color: #6a8bef;\n  color: #f1f1f1;\n}\n#T_0de05_row14_col3 {\n  background-color: #a3c2fe;\n  color: #000000;\n}\n#T_0de05_row14_col19 {\n  background-color: #f1ccb8;\n  color: #000000;\n}\n#T_0de05_row15_col6 {\n  background-color: #6384eb;\n  color: #f1f1f1;\n}\n#T_0de05_row15_col19, #T_0de05_row17_col6 {\n  background-color: #d3dbe7;\n  color: #000000;\n}\n#T_0de05_row16_col4, #T_0de05_row16_col5 {\n  background-color: #465ecf;\n  color: #f1f1f1;\n}\n#T_0de05_row16_col10, #T_0de05_row17_col8 {\n  background-color: #779af7;\n  color: #f1f1f1;\n}\n#T_0de05_row17_col13, #T_0de05_row18_col15 {\n  background-color: #3d50c3;\n  color: #f1f1f1;\n}\n#T_0de05_row17_col19, #T_0de05_row18_col12 {\n  background-color: #b5cdfa;\n  color: #000000;\n}\n#T_0de05_row18_col1 {\n  background-color: #cad8ef;\n  color: #000000;\n}\n#T_0de05_row18_col3 {\n  background-color: #f39475;\n  color: #000000;\n}\n#T_0de05_row18_col11 {\n  background-color: #aec9fc;\n  color: #000000;\n}\n</style>\n<table id=\"T_0de05_\">\n  <thead>\n    <tr>\n      <th class=\"blank level0\" >&nbsp;</th>\n      <th class=\"col_heading level0 col0\" >short_term_deposit</th>\n      <th class=\"col_heading level0 col1\" >active_customer</th>\n      <th class=\"col_heading level0 col2\" >gender</th>\n      <th class=\"col_heading level0 col3\" >age</th>\n      <th class=\"col_heading level0 col4\" >funds</th>\n      <th class=\"col_heading level0 col5\" >securities</th>\n      <th class=\"col_heading level0 col6\" >long_term_deposit</th>\n      <th class=\"col_heading level0 col7\" >credit_card</th>\n      <th class=\"col_heading level0 col8\" >payroll</th>\n      <th class=\"col_heading level0 col9\" >pension_plan</th>\n      <th class=\"col_heading level0 col10\" >payroll_account</th>\n      <th class=\"col_heading level0 col11\" >emc_account</th>\n      <th class=\"col_heading level0 col12\" >debit_card</th>\n      <th class=\"col_heading level0 col13\" >em_account_p</th>\n      <th class=\"col_heading level0 col14\" >em_acount</th>\n      <th class=\"col_heading level0 col15\" >salary</th>\n      <th class=\"col_heading level0 col16\" >segment_00 - OTROS</th>\n      <th class=\"col_heading level0 col17\" >segment_01 - TOP</th>\n      <th class=\"col_heading level0 col18\" >segment_02 - PARTICULARES</th>\n      <th class=\"col_heading level0 col19\" >segment_03 - UNIVERSITARIO</th>\n    </tr>\n  </thead>\n  <tbody>\n    <tr>\n      <th id=\"T_0de05_level0_row0\" class=\"row_heading level0 row0\" >short_term_deposit</th>\n      <td id=\"T_0de05_row0_col0\" class=\"data row0 col0\" >1.000000</td>\n      <td id=\"T_0de05_row0_col1\" class=\"data row0 col1\" >0.102449</td>\n      <td id=\"T_0de05_row0_col2\" class=\"data row0 col2\" >-0.019014</td>\n      <td id=\"T_0de05_row0_col3\" class=\"data row0 col3\" >0.141594</td>\n      <td id=\"T_0de05_row0_col4\" class=\"data row0 col4\" >0.000021</td>\n      <td id=\"T_0de05_row0_col5\" class=\"data row0 col5\" >-0.003223</td>\n      <td id=\"T_0de05_row0_col6\" class=\"data row0 col6\" >-0.001823</td>\n      <td id=\"T_0de05_row0_col7\" class=\"data row0 col7\" >-0.007312</td>\n      <td id=\"T_0de05_row0_col8\" class=\"data row0 col8\" >-0.014489</td>\n      <td id=\"T_0de05_row0_col9\" class=\"data row0 col9\" >-0.014835</td>\n      <td id=\"T_0de05_row0_col10\" class=\"data row0 col10\" >-0.017071</td>\n      <td id=\"T_0de05_row0_col11\" class=\"data row0 col11\" >-0.016072</td>\n      <td id=\"T_0de05_row0_col12\" class=\"data row0 col12\" >-0.024628</td>\n      <td id=\"T_0de05_row0_col13\" class=\"data row0 col13\" >-0.000225</td>\n      <td id=\"T_0de05_row0_col14\" class=\"data row0 col14\" >-0.023778</td>\n      <td id=\"T_0de05_row0_col15\" class=\"data row0 col15\" >0.003046</td>\n      <td id=\"T_0de05_row0_col16\" class=\"data row0 col16\" >0.024773</td>\n      <td id=\"T_0de05_row0_col17\" class=\"data row0 col17\" >0.172243</td>\n      <td id=\"T_0de05_row0_col18\" class=\"data row0 col18\" >0.069613</td>\n      <td id=\"T_0de05_row0_col19\" class=\"data row0 col19\" >-0.125891</td>\n    </tr>\n    <tr>\n      <th id=\"T_0de05_level0_row1\" class=\"row_heading level0 row1\" >active_customer</th>\n      <td id=\"T_0de05_row1_col0\" class=\"data row1 col0\" >0.102449</td>\n      <td id=\"T_0de05_row1_col1\" class=\"data row1 col1\" >1.000000</td>\n      <td id=\"T_0de05_row1_col2\" class=\"data row1 col2\" >-0.053087</td>\n      <td id=\"T_0de05_row1_col3\" class=\"data row1 col3\" >0.238346</td>\n      <td id=\"T_0de05_row1_col4\" class=\"data row1 col4\" >0.065990</td>\n      <td id=\"T_0de05_row1_col5\" class=\"data row1 col5\" >0.070121</td>\n      <td id=\"T_0de05_row1_col6\" class=\"data row1 col6\" >0.152749</td>\n      <td id=\"T_0de05_row1_col7\" class=\"data row1 col7\" >0.120359</td>\n      <td id=\"T_0de05_row1_col8\" class=\"data row1 col8\" >0.219456</td>\n      <td id=\"T_0de05_row1_col9\" class=\"data row1 col9\" >0.225981</td>\n      <td id=\"T_0de05_row1_col10\" class=\"data row1 col10\" >0.267615</td>\n      <td id=\"T_0de05_row1_col11\" class=\"data row1 col11\" >0.216280</td>\n      <td id=\"T_0de05_row1_col12\" class=\"data row1 col12\" >0.368033</td>\n      <td id=\"T_0de05_row1_col13\" class=\"data row1 col13\" >0.002608</td>\n      <td id=\"T_0de05_row1_col14\" class=\"data row1 col14\" >0.235021</td>\n      <td id=\"T_0de05_row1_col15\" class=\"data row1 col15\" >-0.001916</td>\n      <td id=\"T_0de05_row1_col16\" class=\"data row1 col16\" >-0.047494</td>\n      <td id=\"T_0de05_row1_col17\" class=\"data row1 col17\" >0.148969</td>\n      <td id=\"T_0de05_row1_col18\" class=\"data row1 col18\" >0.273261</td>\n      <td id=\"T_0de05_row1_col19\" class=\"data row1 col19\" >-0.277394</td>\n    </tr>\n    <tr>\n      <th id=\"T_0de05_level0_row2\" class=\"row_heading level0 row2\" >gender</th>\n      <td id=\"T_0de05_row2_col0\" class=\"data row2 col0\" >-0.019014</td>\n      <td id=\"T_0de05_row2_col1\" class=\"data row2 col1\" >-0.053087</td>\n      <td id=\"T_0de05_row2_col2\" class=\"data row2 col2\" >1.000000</td>\n      <td id=\"T_0de05_row2_col3\" class=\"data row2 col3\" >-0.088119</td>\n      <td id=\"T_0de05_row2_col4\" class=\"data row2 col4\" >-0.016930</td>\n      <td id=\"T_0de05_row2_col5\" class=\"data row2 col5\" >-0.021051</td>\n      <td id=\"T_0de05_row2_col6\" class=\"data row2 col6\" >-0.018538</td>\n      <td id=\"T_0de05_row2_col7\" class=\"data row2 col7\" >-0.025312</td>\n      <td id=\"T_0de05_row2_col8\" class=\"data row2 col8\" >-0.017032</td>\n      <td id=\"T_0de05_row2_col9\" class=\"data row2 col9\" >-0.016787</td>\n      <td id=\"T_0de05_row2_col10\" class=\"data row2 col10\" >-0.023730</td>\n      <td id=\"T_0de05_row2_col11\" class=\"data row2 col11\" >-0.042941</td>\n      <td id=\"T_0de05_row2_col12\" class=\"data row2 col12\" >-0.043610</td>\n      <td id=\"T_0de05_row2_col13\" class=\"data row2 col13\" >-0.000047</td>\n      <td id=\"T_0de05_row2_col14\" class=\"data row2 col14\" >0.033017</td>\n      <td id=\"T_0de05_row2_col15\" class=\"data row2 col15\" >-0.001599</td>\n      <td id=\"T_0de05_row2_col16\" class=\"data row2 col16\" >-0.018929</td>\n      <td id=\"T_0de05_row2_col17\" class=\"data row2 col17\" >-0.026508</td>\n      <td id=\"T_0de05_row2_col18\" class=\"data row2 col18\" >-0.116675</td>\n      <td id=\"T_0de05_row2_col19\" class=\"data row2 col19\" >0.127597</td>\n    </tr>\n    <tr>\n      <th id=\"T_0de05_level0_row3\" class=\"row_heading level0 row3\" >age</th>\n      <td id=\"T_0de05_row3_col0\" class=\"data row3 col0\" >0.141594</td>\n      <td id=\"T_0de05_row3_col1\" class=\"data row3 col1\" >0.238346</td>\n      <td id=\"T_0de05_row3_col2\" class=\"data row3 col2\" >-0.088119</td>\n      <td id=\"T_0de05_row3_col3\" class=\"data row3 col3\" >1.000000</td>\n      <td id=\"T_0de05_row3_col4\" class=\"data row3 col4\" >0.080344</td>\n      <td id=\"T_0de05_row3_col5\" class=\"data row3 col5\" >0.066030</td>\n      <td id=\"T_0de05_row3_col6\" class=\"data row3 col6\" >0.220090</td>\n      <td id=\"T_0de05_row3_col7\" class=\"data row3 col7\" >0.092656</td>\n      <td id=\"T_0de05_row3_col8\" class=\"data row3 col8\" >0.086063</td>\n      <td id=\"T_0de05_row3_col9\" class=\"data row3 col9\" >0.103496</td>\n      <td id=\"T_0de05_row3_col10\" class=\"data row3 col10\" >0.113607</td>\n      <td id=\"T_0de05_row3_col11\" class=\"data row3 col11\" >0.246871</td>\n      <td id=\"T_0de05_row3_col12\" class=\"data row3 col12\" >0.162956</td>\n      <td id=\"T_0de05_row3_col13\" class=\"data row3 col13\" >0.003029</td>\n      <td id=\"T_0de05_row3_col14\" class=\"data row3 col14\" >-0.147710</td>\n      <td id=\"T_0de05_row3_col15\" class=\"data row3 col15\" >-0.002584</td>\n      <td id=\"T_0de05_row3_col16\" class=\"data row3 col16\" >0.072807</td>\n      <td id=\"T_0de05_row3_col17\" class=\"data row3 col17\" >0.250553</td>\n      <td id=\"T_0de05_row3_col18\" class=\"data row3 col18\" >0.602137</td>\n      <td id=\"T_0de05_row3_col19\" class=\"data row3 col19\" >-0.677544</td>\n    </tr>\n    <tr>\n      <th id=\"T_0de05_level0_row4\" class=\"row_heading level0 row4\" >funds</th>\n      <td id=\"T_0de05_row4_col0\" class=\"data row4 col0\" >0.000021</td>\n      <td id=\"T_0de05_row4_col1\" class=\"data row4 col1\" >0.065990</td>\n      <td id=\"T_0de05_row4_col2\" class=\"data row4 col2\" >-0.016930</td>\n      <td id=\"T_0de05_row4_col3\" class=\"data row4 col3\" >0.080344</td>\n      <td id=\"T_0de05_row4_col4\" class=\"data row4 col4\" >1.000000</td>\n      <td id=\"T_0de05_row4_col5\" class=\"data row4 col5\" >0.098010</td>\n      <td id=\"T_0de05_row4_col6\" class=\"data row4 col6\" >0.139225</td>\n      <td id=\"T_0de05_row4_col7\" class=\"data row4 col7\" >0.032540</td>\n      <td id=\"T_0de05_row4_col8\" class=\"data row4 col8\" >0.020455</td>\n      <td id=\"T_0de05_row4_col9\" class=\"data row4 col9\" >0.022159</td>\n      <td id=\"T_0de05_row4_col10\" class=\"data row4 col10\" >0.024238</td>\n      <td id=\"T_0de05_row4_col11\" class=\"data row4 col11\" >0.094106</td>\n      <td id=\"T_0de05_row4_col12\" class=\"data row4 col12\" >0.021371</td>\n      <td id=\"T_0de05_row4_col13\" class=\"data row4 col13\" >-0.000110</td>\n      <td id=\"T_0de05_row4_col14\" class=\"data row4 col14\" >0.005932</td>\n      <td id=\"T_0de05_row4_col15\" class=\"data row4 col15\" >0.005767</td>\n      <td id=\"T_0de05_row4_col16\" class=\"data row4 col16\" >-0.013186</td>\n      <td id=\"T_0de05_row4_col17\" class=\"data row4 col17\" >0.110156</td>\n      <td id=\"T_0de05_row4_col18\" class=\"data row4 col18\" >0.032667</td>\n      <td id=\"T_0de05_row4_col19\" class=\"data row4 col19\" >-0.054893</td>\n    </tr>\n    <tr>\n      <th id=\"T_0de05_level0_row5\" class=\"row_heading level0 row5\" >securities</th>\n      <td id=\"T_0de05_row5_col0\" class=\"data row5 col0\" >-0.003223</td>\n      <td id=\"T_0de05_row5_col1\" class=\"data row5 col1\" >0.070121</td>\n      <td id=\"T_0de05_row5_col2\" class=\"data row5 col2\" >-0.021051</td>\n      <td id=\"T_0de05_row5_col3\" class=\"data row5 col3\" >0.066030</td>\n      <td id=\"T_0de05_row5_col4\" class=\"data row5 col4\" >0.098010</td>\n      <td id=\"T_0de05_row5_col5\" class=\"data row5 col5\" >1.000000</td>\n      <td id=\"T_0de05_row5_col6\" class=\"data row5 col6\" >0.031912</td>\n      <td id=\"T_0de05_row5_col7\" class=\"data row5 col7\" >0.055909</td>\n      <td id=\"T_0de05_row5_col8\" class=\"data row5 col8\" >0.039996</td>\n      <td id=\"T_0de05_row5_col9\" class=\"data row5 col9\" >0.041186</td>\n      <td id=\"T_0de05_row5_col10\" class=\"data row5 col10\" >0.039947</td>\n      <td id=\"T_0de05_row5_col11\" class=\"data row5 col11\" >0.077390</td>\n      <td id=\"T_0de05_row5_col12\" class=\"data row5 col12\" >0.053373</td>\n      <td id=\"T_0de05_row5_col13\" class=\"data row5 col13\" >0.018355</td>\n      <td id=\"T_0de05_row5_col14\" class=\"data row5 col14\" >0.010377</td>\n      <td id=\"T_0de05_row5_col15\" class=\"data row5 col15\" >0.005795</td>\n      <td id=\"T_0de05_row5_col16\" class=\"data row5 col16\" >-0.012998</td>\n      <td id=\"T_0de05_row5_col17\" class=\"data row5 col17\" >0.068045</td>\n      <td id=\"T_0de05_row5_col18\" class=\"data row5 col18\" >0.044119</td>\n      <td id=\"T_0de05_row5_col19\" class=\"data row5 col19\" >-0.054273</td>\n    </tr>\n    <tr>\n      <th id=\"T_0de05_level0_row6\" class=\"row_heading level0 row6\" >long_term_deposit</th>\n      <td id=\"T_0de05_row6_col0\" class=\"data row6 col0\" >-0.001823</td>\n      <td id=\"T_0de05_row6_col1\" class=\"data row6 col1\" >0.152749</td>\n      <td id=\"T_0de05_row6_col2\" class=\"data row6 col2\" >-0.018538</td>\n      <td id=\"T_0de05_row6_col3\" class=\"data row6 col3\" >0.220090</td>\n      <td id=\"T_0de05_row6_col4\" class=\"data row6 col4\" >0.139225</td>\n      <td id=\"T_0de05_row6_col5\" class=\"data row6 col5\" >0.031912</td>\n      <td id=\"T_0de05_row6_col6\" class=\"data row6 col6\" >1.000000</td>\n      <td id=\"T_0de05_row6_col7\" class=\"data row6 col7\" >0.042429</td>\n      <td id=\"T_0de05_row6_col8\" class=\"data row6 col8\" >0.017944</td>\n      <td id=\"T_0de05_row6_col9\" class=\"data row6 col9\" >0.021175</td>\n      <td id=\"T_0de05_row6_col10\" class=\"data row6 col10\" >0.020537</td>\n      <td id=\"T_0de05_row6_col11\" class=\"data row6 col11\" >0.175742</td>\n      <td id=\"T_0de05_row6_col12\" class=\"data row6 col12\" >0.014205</td>\n      <td id=\"T_0de05_row6_col13\" class=\"data row6 col13\" >-0.000257</td>\n      <td id=\"T_0de05_row6_col14\" class=\"data row6 col14\" >-0.008373</td>\n      <td id=\"T_0de05_row6_col15\" class=\"data row6 col15\" >0.008021</td>\n      <td id=\"T_0de05_row6_col16\" class=\"data row6 col16\" >-0.026932</td>\n      <td id=\"T_0de05_row6_col17\" class=\"data row6 col17\" >0.384969</td>\n      <td id=\"T_0de05_row6_col18\" class=\"data row6 col18\" >0.052193</td>\n      <td id=\"T_0de05_row6_col19\" class=\"data row6 col19\" >-0.142383</td>\n    </tr>\n    <tr>\n      <th id=\"T_0de05_level0_row7\" class=\"row_heading level0 row7\" >credit_card</th>\n      <td id=\"T_0de05_row7_col0\" class=\"data row7 col0\" >-0.007312</td>\n      <td id=\"T_0de05_row7_col1\" class=\"data row7 col1\" >0.120359</td>\n      <td id=\"T_0de05_row7_col2\" class=\"data row7 col2\" >-0.025312</td>\n      <td id=\"T_0de05_row7_col3\" class=\"data row7 col3\" >0.092656</td>\n      <td id=\"T_0de05_row7_col4\" class=\"data row7 col4\" >0.032540</td>\n      <td id=\"T_0de05_row7_col5\" class=\"data row7 col5\" >0.055909</td>\n      <td id=\"T_0de05_row7_col6\" class=\"data row7 col6\" >0.042429</td>\n      <td id=\"T_0de05_row7_col7\" class=\"data row7 col7\" >1.000000</td>\n      <td id=\"T_0de05_row7_col8\" class=\"data row7 col8\" >0.211193</td>\n      <td id=\"T_0de05_row7_col9\" class=\"data row7 col9\" >0.217352</td>\n      <td id=\"T_0de05_row7_col10\" class=\"data row7 col10\" >0.222017</td>\n      <td id=\"T_0de05_row7_col11\" class=\"data row7 col11\" >0.147459</td>\n      <td id=\"T_0de05_row7_col12\" class=\"data row7 col12\" >0.198267</td>\n      <td id=\"T_0de05_row7_col13\" class=\"data row7 col13\" >-0.000205</td>\n      <td id=\"T_0de05_row7_col14\" class=\"data row7 col14\" >-0.060847</td>\n      <td id=\"T_0de05_row7_col15\" class=\"data row7 col15\" >0.006403</td>\n      <td id=\"T_0de05_row7_col16\" class=\"data row7 col16\" >-0.023957</td>\n      <td id=\"T_0de05_row7_col17\" class=\"data row7 col17\" >0.025960</td>\n      <td id=\"T_0de05_row7_col18\" class=\"data row7 col18\" >0.102013</td>\n      <td id=\"T_0de05_row7_col19\" class=\"data row7 col19\" >-0.092309</td>\n    </tr>\n    <tr>\n      <th id=\"T_0de05_level0_row8\" class=\"row_heading level0 row8\" >payroll</th>\n      <td id=\"T_0de05_row8_col0\" class=\"data row8 col0\" >-0.014489</td>\n      <td id=\"T_0de05_row8_col1\" class=\"data row8 col1\" >0.219456</td>\n      <td id=\"T_0de05_row8_col2\" class=\"data row8 col2\" >-0.017032</td>\n      <td id=\"T_0de05_row8_col3\" class=\"data row8 col3\" >0.086063</td>\n      <td id=\"T_0de05_row8_col4\" class=\"data row8 col4\" >0.020455</td>\n      <td id=\"T_0de05_row8_col5\" class=\"data row8 col5\" >0.039996</td>\n      <td id=\"T_0de05_row8_col6\" class=\"data row8 col6\" >0.017944</td>\n      <td id=\"T_0de05_row8_col7\" class=\"data row8 col7\" >0.211193</td>\n      <td id=\"T_0de05_row8_col8\" class=\"data row8 col8\" >1.000000</td>\n      <td id=\"T_0de05_row8_col9\" class=\"data row8 col9\" >0.971227</td>\n      <td id=\"T_0de05_row8_col10\" class=\"data row8 col10\" >0.728084</td>\n      <td id=\"T_0de05_row8_col11\" class=\"data row8 col11\" >0.136485</td>\n      <td id=\"T_0de05_row8_col12\" class=\"data row8 col12\" >0.339861</td>\n      <td id=\"T_0de05_row8_col13\" class=\"data row8 col13\" >-0.000368</td>\n      <td id=\"T_0de05_row8_col14\" class=\"data row8 col14\" >-0.218781</td>\n      <td id=\"T_0de05_row8_col15\" class=\"data row8 col15\" >-0.002357</td>\n      <td id=\"T_0de05_row8_col16\" class=\"data row8 col16\" >-0.038811</td>\n      <td id=\"T_0de05_row8_col17\" class=\"data row8 col17\" >0.014265</td>\n      <td id=\"T_0de05_row8_col18\" class=\"data row8 col18\" >0.136872</td>\n      <td id=\"T_0de05_row8_col19\" class=\"data row8 col19\" >-0.114889</td>\n    </tr>\n    <tr>\n      <th id=\"T_0de05_level0_row9\" class=\"row_heading level0 row9\" >pension_plan</th>\n      <td id=\"T_0de05_row9_col0\" class=\"data row9 col0\" >-0.014835</td>\n      <td id=\"T_0de05_row9_col1\" class=\"data row9 col1\" >0.225981</td>\n      <td id=\"T_0de05_row9_col2\" class=\"data row9 col2\" >-0.016787</td>\n      <td id=\"T_0de05_row9_col3\" class=\"data row9 col3\" >0.103496</td>\n      <td id=\"T_0de05_row9_col4\" class=\"data row9 col4\" >0.022159</td>\n      <td id=\"T_0de05_row9_col5\" class=\"data row9 col5\" >0.041186</td>\n      <td id=\"T_0de05_row9_col6\" class=\"data row9 col6\" >0.021175</td>\n      <td id=\"T_0de05_row9_col7\" class=\"data row9 col7\" >0.217352</td>\n      <td id=\"T_0de05_row9_col8\" class=\"data row9 col8\" >0.971227</td>\n      <td id=\"T_0de05_row9_col9\" class=\"data row9 col9\" >1.000000</td>\n      <td id=\"T_0de05_row9_col10\" class=\"data row9 col10\" >0.748963</td>\n      <td id=\"T_0de05_row9_col11\" class=\"data row9 col11\" >0.143109</td>\n      <td id=\"T_0de05_row9_col12\" class=\"data row9 col12\" >0.349358</td>\n      <td id=\"T_0de05_row9_col13\" class=\"data row9 col13\" >-0.000379</td>\n      <td id=\"T_0de05_row9_col14\" class=\"data row9 col14\" >-0.226012</td>\n      <td id=\"T_0de05_row9_col15\" class=\"data row9 col15\" >-0.002319</td>\n      <td id=\"T_0de05_row9_col16\" class=\"data row9 col16\" >-0.040247</td>\n      <td id=\"T_0de05_row9_col17\" class=\"data row9 col17\" >0.017878</td>\n      <td id=\"T_0de05_row9_col18\" class=\"data row9 col18\" >0.143344</td>\n      <td id=\"T_0de05_row9_col19\" class=\"data row9 col19\" >-0.121329</td>\n    </tr>\n    <tr>\n      <th id=\"T_0de05_level0_row10\" class=\"row_heading level0 row10\" >payroll_account</th>\n      <td id=\"T_0de05_row10_col0\" class=\"data row10 col0\" >-0.017071</td>\n      <td id=\"T_0de05_row10_col1\" class=\"data row10 col1\" >0.267615</td>\n      <td id=\"T_0de05_row10_col2\" class=\"data row10 col2\" >-0.023730</td>\n      <td id=\"T_0de05_row10_col3\" class=\"data row10 col3\" >0.113607</td>\n      <td id=\"T_0de05_row10_col4\" class=\"data row10 col4\" >0.024238</td>\n      <td id=\"T_0de05_row10_col5\" class=\"data row10 col5\" >0.039947</td>\n      <td id=\"T_0de05_row10_col6\" class=\"data row10 col6\" >0.020537</td>\n      <td id=\"T_0de05_row10_col7\" class=\"data row10 col7\" >0.222017</td>\n      <td id=\"T_0de05_row10_col8\" class=\"data row10 col8\" >0.728084</td>\n      <td id=\"T_0de05_row10_col9\" class=\"data row10 col9\" >0.748963</td>\n      <td id=\"T_0de05_row10_col10\" class=\"data row10 col10\" >1.000000</td>\n      <td id=\"T_0de05_row10_col11\" class=\"data row10 col11\" >0.154999</td>\n      <td id=\"T_0de05_row10_col12\" class=\"data row10 col12\" >0.383139</td>\n      <td id=\"T_0de05_row10_col13\" class=\"data row10 col13\" >0.004396</td>\n      <td id=\"T_0de05_row10_col14\" class=\"data row10 col14\" >-0.301593</td>\n      <td id=\"T_0de05_row10_col15\" class=\"data row10 col15\" >-0.002783</td>\n      <td id=\"T_0de05_row10_col16\" class=\"data row10 col16\" >-0.052574</td>\n      <td id=\"T_0de05_row10_col17\" class=\"data row10 col17\" >0.016311</td>\n      <td id=\"T_0de05_row10_col18\" class=\"data row10 col18\" >0.164107</td>\n      <td id=\"T_0de05_row10_col19\" class=\"data row10 col19\" >-0.134547</td>\n    </tr>\n    <tr>\n      <th id=\"T_0de05_level0_row11\" class=\"row_heading level0 row11\" >emc_account</th>\n      <td id=\"T_0de05_row11_col0\" class=\"data row11 col0\" >-0.016072</td>\n      <td id=\"T_0de05_row11_col1\" class=\"data row11 col1\" >0.216280</td>\n      <td id=\"T_0de05_row11_col2\" class=\"data row11 col2\" >-0.042941</td>\n      <td id=\"T_0de05_row11_col3\" class=\"data row11 col3\" >0.246871</td>\n      <td id=\"T_0de05_row11_col4\" class=\"data row11 col4\" >0.094106</td>\n      <td id=\"T_0de05_row11_col5\" class=\"data row11 col5\" >0.077390</td>\n      <td id=\"T_0de05_row11_col6\" class=\"data row11 col6\" >0.175742</td>\n      <td id=\"T_0de05_row11_col7\" class=\"data row11 col7\" >0.147459</td>\n      <td id=\"T_0de05_row11_col8\" class=\"data row11 col8\" >0.136485</td>\n      <td id=\"T_0de05_row11_col9\" class=\"data row11 col9\" >0.143109</td>\n      <td id=\"T_0de05_row11_col10\" class=\"data row11 col10\" >0.154999</td>\n      <td id=\"T_0de05_row11_col11\" class=\"data row11 col11\" >1.000000</td>\n      <td id=\"T_0de05_row11_col12\" class=\"data row11 col12\" >0.142991</td>\n      <td id=\"T_0de05_row11_col13\" class=\"data row11 col13\" >-0.000459</td>\n      <td id=\"T_0de05_row11_col14\" class=\"data row11 col14\" >-0.064349</td>\n      <td id=\"T_0de05_row11_col15\" class=\"data row11 col15\" >0.006908</td>\n      <td id=\"T_0de05_row11_col16\" class=\"data row11 col16\" >-0.055330</td>\n      <td id=\"T_0de05_row11_col17\" class=\"data row11 col17\" >0.213258</td>\n      <td id=\"T_0de05_row11_col18\" class=\"data row11 col18\" >0.199735</td>\n      <td id=\"T_0de05_row11_col19\" class=\"data row11 col19\" >-0.221323</td>\n    </tr>\n    <tr>\n      <th id=\"T_0de05_level0_row12\" class=\"row_heading level0 row12\" >debit_card</th>\n      <td id=\"T_0de05_row12_col0\" class=\"data row12 col0\" >-0.024628</td>\n      <td id=\"T_0de05_row12_col1\" class=\"data row12 col1\" >0.368033</td>\n      <td id=\"T_0de05_row12_col2\" class=\"data row12 col2\" >-0.043610</td>\n      <td id=\"T_0de05_row12_col3\" class=\"data row12 col3\" >0.162956</td>\n      <td id=\"T_0de05_row12_col4\" class=\"data row12 col4\" >0.021371</td>\n      <td id=\"T_0de05_row12_col5\" class=\"data row12 col5\" >0.053373</td>\n      <td id=\"T_0de05_row12_col6\" class=\"data row12 col6\" >0.014205</td>\n      <td id=\"T_0de05_row12_col7\" class=\"data row12 col7\" >0.198267</td>\n      <td id=\"T_0de05_row12_col8\" class=\"data row12 col8\" >0.339861</td>\n      <td id=\"T_0de05_row12_col9\" class=\"data row12 col9\" >0.349358</td>\n      <td id=\"T_0de05_row12_col10\" class=\"data row12 col10\" >0.383139</td>\n      <td id=\"T_0de05_row12_col11\" class=\"data row12 col11\" >0.142991</td>\n      <td id=\"T_0de05_row12_col12\" class=\"data row12 col12\" >1.000000</td>\n      <td id=\"T_0de05_row12_col13\" class=\"data row12 col13\" >0.003153</td>\n      <td id=\"T_0de05_row12_col14\" class=\"data row12 col14\" >-0.004819</td>\n      <td id=\"T_0de05_row12_col15\" class=\"data row12 col15\" >-0.007405</td>\n      <td id=\"T_0de05_row12_col16\" class=\"data row12 col16\" >-0.071235</td>\n      <td id=\"T_0de05_row12_col17\" class=\"data row12 col17\" >0.003843</td>\n      <td id=\"T_0de05_row12_col18\" class=\"data row12 col18\" >0.242309</td>\n      <td id=\"T_0de05_row12_col19\" class=\"data row12 col19\" >-0.196245</td>\n    </tr>\n    <tr>\n      <th id=\"T_0de05_level0_row13\" class=\"row_heading level0 row13\" >em_account_p</th>\n      <td id=\"T_0de05_row13_col0\" class=\"data row13 col0\" >-0.000225</td>\n      <td id=\"T_0de05_row13_col1\" class=\"data row13 col1\" >0.002608</td>\n      <td id=\"T_0de05_row13_col2\" class=\"data row13 col2\" >-0.000047</td>\n      <td id=\"T_0de05_row13_col3\" class=\"data row13 col3\" >0.003029</td>\n      <td id=\"T_0de05_row13_col4\" class=\"data row13 col4\" >-0.000110</td>\n      <td id=\"T_0de05_row13_col5\" class=\"data row13 col5\" >0.018355</td>\n      <td id=\"T_0de05_row13_col6\" class=\"data row13 col6\" >-0.000257</td>\n      <td id=\"T_0de05_row13_col7\" class=\"data row13 col7\" >-0.000205</td>\n      <td id=\"T_0de05_row13_col8\" class=\"data row13 col8\" >-0.000368</td>\n      <td id=\"T_0de05_row13_col9\" class=\"data row13 col9\" >-0.000379</td>\n      <td id=\"T_0de05_row13_col10\" class=\"data row13 col10\" >0.004396</td>\n      <td id=\"T_0de05_row13_col11\" class=\"data row13 col11\" >-0.000459</td>\n      <td id=\"T_0de05_row13_col12\" class=\"data row13 col12\" >0.003153</td>\n      <td id=\"T_0de05_row13_col13\" class=\"data row13 col13\" >1.000000</td>\n      <td id=\"T_0de05_row13_col14\" class=\"data row13 col14\" >-0.000739</td>\n      <td id=\"T_0de05_row13_col15\" class=\"data row13 col15\" >0.000629</td>\n      <td id=\"T_0de05_row13_col16\" class=\"data row13 col16\" >-0.000537</td>\n      <td id=\"T_0de05_row13_col17\" class=\"data row13 col17\" >0.007429</td>\n      <td id=\"T_0de05_row13_col18\" class=\"data row13 col18\" >-0.001420</td>\n      <td id=\"T_0de05_row13_col19\" class=\"data row13 col19\" >-0.000431</td>\n    </tr>\n    <tr>\n      <th id=\"T_0de05_level0_row14\" class=\"row_heading level0 row14\" >em_acount</th>\n      <td id=\"T_0de05_row14_col0\" class=\"data row14 col0\" >-0.023778</td>\n      <td id=\"T_0de05_row14_col1\" class=\"data row14 col1\" >0.235021</td>\n      <td id=\"T_0de05_row14_col2\" class=\"data row14 col2\" >0.033017</td>\n      <td id=\"T_0de05_row14_col3\" class=\"data row14 col3\" >-0.147710</td>\n      <td id=\"T_0de05_row14_col4\" class=\"data row14 col4\" >0.005932</td>\n      <td id=\"T_0de05_row14_col5\" class=\"data row14 col5\" >0.010377</td>\n      <td id=\"T_0de05_row14_col6\" class=\"data row14 col6\" >-0.008373</td>\n      <td id=\"T_0de05_row14_col7\" class=\"data row14 col7\" >-0.060847</td>\n      <td id=\"T_0de05_row14_col8\" class=\"data row14 col8\" >-0.218781</td>\n      <td id=\"T_0de05_row14_col9\" class=\"data row14 col9\" >-0.226012</td>\n      <td id=\"T_0de05_row14_col10\" class=\"data row14 col10\" >-0.301593</td>\n      <td id=\"T_0de05_row14_col11\" class=\"data row14 col11\" >-0.064349</td>\n      <td id=\"T_0de05_row14_col12\" class=\"data row14 col12\" >-0.004819</td>\n      <td id=\"T_0de05_row14_col13\" class=\"data row14 col13\" >-0.000739</td>\n      <td id=\"T_0de05_row14_col14\" class=\"data row14 col14\" >1.000000</td>\n      <td id=\"T_0de05_row14_col15\" class=\"data row14 col15\" >-0.022966</td>\n      <td id=\"T_0de05_row14_col16\" class=\"data row14 col16\" >-0.126175</td>\n      <td id=\"T_0de05_row14_col17\" class=\"data row14 col17\" >-0.027751</td>\n      <td id=\"T_0de05_row14_col18\" class=\"data row14 col18\" >-0.193743</td>\n      <td id=\"T_0de05_row14_col19\" class=\"data row14 col19\" >0.254223</td>\n    </tr>\n    <tr>\n      <th id=\"T_0de05_level0_row15\" class=\"row_heading level0 row15\" >salary</th>\n      <td id=\"T_0de05_row15_col0\" class=\"data row15 col0\" >0.003046</td>\n      <td id=\"T_0de05_row15_col1\" class=\"data row15 col1\" >-0.001916</td>\n      <td id=\"T_0de05_row15_col2\" class=\"data row15 col2\" >-0.001599</td>\n      <td id=\"T_0de05_row15_col3\" class=\"data row15 col3\" >-0.002584</td>\n      <td id=\"T_0de05_row15_col4\" class=\"data row15 col4\" >0.005767</td>\n      <td id=\"T_0de05_row15_col5\" class=\"data row15 col5\" >0.005795</td>\n      <td id=\"T_0de05_row15_col6\" class=\"data row15 col6\" >0.008021</td>\n      <td id=\"T_0de05_row15_col7\" class=\"data row15 col7\" >0.006403</td>\n      <td id=\"T_0de05_row15_col8\" class=\"data row15 col8\" >-0.002357</td>\n      <td id=\"T_0de05_row15_col9\" class=\"data row15 col9\" >-0.002319</td>\n      <td id=\"T_0de05_row15_col10\" class=\"data row15 col10\" >-0.002783</td>\n      <td id=\"T_0de05_row15_col11\" class=\"data row15 col11\" >0.006908</td>\n      <td id=\"T_0de05_row15_col12\" class=\"data row15 col12\" >-0.007405</td>\n      <td id=\"T_0de05_row15_col13\" class=\"data row15 col13\" >0.000629</td>\n      <td id=\"T_0de05_row15_col14\" class=\"data row15 col14\" >-0.022966</td>\n      <td id=\"T_0de05_row15_col15\" class=\"data row15 col15\" >1.000000</td>\n      <td id=\"T_0de05_row15_col16\" class=\"data row15 col16\" >-0.009536</td>\n      <td id=\"T_0de05_row15_col17\" class=\"data row15 col17\" >0.013678</td>\n      <td id=\"T_0de05_row15_col18\" class=\"data row15 col18\" >-0.013979</td>\n      <td id=\"T_0de05_row15_col19\" class=\"data row15 col19\" >0.014236</td>\n    </tr>\n    <tr>\n      <th id=\"T_0de05_level0_row16\" class=\"row_heading level0 row16\" >segment_00 - OTROS</th>\n      <td id=\"T_0de05_row16_col0\" class=\"data row16 col0\" >0.024773</td>\n      <td id=\"T_0de05_row16_col1\" class=\"data row16 col1\" >-0.047494</td>\n      <td id=\"T_0de05_row16_col2\" class=\"data row16 col2\" >-0.018929</td>\n      <td id=\"T_0de05_row16_col3\" class=\"data row16 col3\" >0.072807</td>\n      <td id=\"T_0de05_row16_col4\" class=\"data row16 col4\" >-0.013186</td>\n      <td id=\"T_0de05_row16_col5\" class=\"data row16 col5\" >-0.012998</td>\n      <td id=\"T_0de05_row16_col6\" class=\"data row16 col6\" >-0.026932</td>\n      <td id=\"T_0de05_row16_col7\" class=\"data row16 col7\" >-0.023957</td>\n      <td id=\"T_0de05_row16_col8\" class=\"data row16 col8\" >-0.038811</td>\n      <td id=\"T_0de05_row16_col9\" class=\"data row16 col9\" >-0.040247</td>\n      <td id=\"T_0de05_row16_col10\" class=\"data row16 col10\" >-0.052574</td>\n      <td id=\"T_0de05_row16_col11\" class=\"data row16 col11\" >-0.055330</td>\n      <td id=\"T_0de05_row16_col12\" class=\"data row16 col12\" >-0.071235</td>\n      <td id=\"T_0de05_row16_col13\" class=\"data row16 col13\" >-0.000537</td>\n      <td id=\"T_0de05_row16_col14\" class=\"data row16 col14\" >-0.126175</td>\n      <td id=\"T_0de05_row16_col15\" class=\"data row16 col15\" >-0.009536</td>\n      <td id=\"T_0de05_row16_col16\" class=\"data row16 col16\" >1.000000</td>\n      <td id=\"T_0de05_row16_col17\" class=\"data row16 col17\" >-0.035474</td>\n      <td id=\"T_0de05_row16_col18\" class=\"data row16 col18\" >-0.176057</td>\n      <td id=\"T_0de05_row16_col19\" class=\"data row16 col19\" >-0.317068</td>\n    </tr>\n    <tr>\n      <th id=\"T_0de05_level0_row17\" class=\"row_heading level0 row17\" >segment_01 - TOP</th>\n      <td id=\"T_0de05_row17_col0\" class=\"data row17 col0\" >0.172243</td>\n      <td id=\"T_0de05_row17_col1\" class=\"data row17 col1\" >0.148969</td>\n      <td id=\"T_0de05_row17_col2\" class=\"data row17 col2\" >-0.026508</td>\n      <td id=\"T_0de05_row17_col3\" class=\"data row17 col3\" >0.250553</td>\n      <td id=\"T_0de05_row17_col4\" class=\"data row17 col4\" >0.110156</td>\n      <td id=\"T_0de05_row17_col5\" class=\"data row17 col5\" >0.068045</td>\n      <td id=\"T_0de05_row17_col6\" class=\"data row17 col6\" >0.384969</td>\n      <td id=\"T_0de05_row17_col7\" class=\"data row17 col7\" >0.025960</td>\n      <td id=\"T_0de05_row17_col8\" class=\"data row17 col8\" >0.014265</td>\n      <td id=\"T_0de05_row17_col9\" class=\"data row17 col9\" >0.017878</td>\n      <td id=\"T_0de05_row17_col10\" class=\"data row17 col10\" >0.016311</td>\n      <td id=\"T_0de05_row17_col11\" class=\"data row17 col11\" >0.213258</td>\n      <td id=\"T_0de05_row17_col12\" class=\"data row17 col12\" >0.003843</td>\n      <td id=\"T_0de05_row17_col13\" class=\"data row17 col13\" >0.007429</td>\n      <td id=\"T_0de05_row17_col14\" class=\"data row17 col14\" >-0.027751</td>\n      <td id=\"T_0de05_row17_col15\" class=\"data row17 col15\" >0.013678</td>\n      <td id=\"T_0de05_row17_col16\" class=\"data row17 col16\" >-0.035474</td>\n      <td id=\"T_0de05_row17_col17\" class=\"data row17 col17\" >1.000000</td>\n      <td id=\"T_0de05_row17_col18\" class=\"data row17 col18\" >-0.093754</td>\n      <td id=\"T_0de05_row17_col19\" class=\"data row17 col19\" >-0.168846</td>\n    </tr>\n    <tr>\n      <th id=\"T_0de05_level0_row18\" class=\"row_heading level0 row18\" >segment_02 - PARTICULARES</th>\n      <td id=\"T_0de05_row18_col0\" class=\"data row18 col0\" >0.069613</td>\n      <td id=\"T_0de05_row18_col1\" class=\"data row18 col1\" >0.273261</td>\n      <td id=\"T_0de05_row18_col2\" class=\"data row18 col2\" >-0.116675</td>\n      <td id=\"T_0de05_row18_col3\" class=\"data row18 col3\" >0.602137</td>\n      <td id=\"T_0de05_row18_col4\" class=\"data row18 col4\" >0.032667</td>\n      <td id=\"T_0de05_row18_col5\" class=\"data row18 col5\" >0.044119</td>\n      <td id=\"T_0de05_row18_col6\" class=\"data row18 col6\" >0.052193</td>\n      <td id=\"T_0de05_row18_col7\" class=\"data row18 col7\" >0.102013</td>\n      <td id=\"T_0de05_row18_col8\" class=\"data row18 col8\" >0.136872</td>\n      <td id=\"T_0de05_row18_col9\" class=\"data row18 col9\" >0.143344</td>\n      <td id=\"T_0de05_row18_col10\" class=\"data row18 col10\" >0.164107</td>\n      <td id=\"T_0de05_row18_col11\" class=\"data row18 col11\" >0.199735</td>\n      <td id=\"T_0de05_row18_col12\" class=\"data row18 col12\" >0.242309</td>\n      <td id=\"T_0de05_row18_col13\" class=\"data row18 col13\" >-0.001420</td>\n      <td id=\"T_0de05_row18_col14\" class=\"data row18 col14\" >-0.193743</td>\n      <td id=\"T_0de05_row18_col15\" class=\"data row18 col15\" >-0.013979</td>\n      <td id=\"T_0de05_row18_col16\" class=\"data row18 col16\" >-0.176057</td>\n      <td id=\"T_0de05_row18_col17\" class=\"data row18 col17\" >-0.093754</td>\n      <td id=\"T_0de05_row18_col18\" class=\"data row18 col18\" >1.000000</td>\n      <td id=\"T_0de05_row18_col19\" class=\"data row18 col19\" >-0.837978</td>\n    </tr>\n    <tr>\n      <th id=\"T_0de05_level0_row19\" class=\"row_heading level0 row19\" >segment_03 - UNIVERSITARIO</th>\n      <td id=\"T_0de05_row19_col0\" class=\"data row19 col0\" >-0.125891</td>\n      <td id=\"T_0de05_row19_col1\" class=\"data row19 col1\" >-0.277394</td>\n      <td id=\"T_0de05_row19_col2\" class=\"data row19 col2\" >0.127597</td>\n      <td id=\"T_0de05_row19_col3\" class=\"data row19 col3\" >-0.677544</td>\n      <td id=\"T_0de05_row19_col4\" class=\"data row19 col4\" >-0.054893</td>\n      <td id=\"T_0de05_row19_col5\" class=\"data row19 col5\" >-0.054273</td>\n      <td id=\"T_0de05_row19_col6\" class=\"data row19 col6\" >-0.142383</td>\n      <td id=\"T_0de05_row19_col7\" class=\"data row19 col7\" >-0.092309</td>\n      <td id=\"T_0de05_row19_col8\" class=\"data row19 col8\" >-0.114889</td>\n      <td id=\"T_0de05_row19_col9\" class=\"data row19 col9\" >-0.121329</td>\n      <td id=\"T_0de05_row19_col10\" class=\"data row19 col10\" >-0.134547</td>\n      <td id=\"T_0de05_row19_col11\" class=\"data row19 col11\" >-0.221323</td>\n      <td id=\"T_0de05_row19_col12\" class=\"data row19 col12\" >-0.196245</td>\n      <td id=\"T_0de05_row19_col13\" class=\"data row19 col13\" >-0.000431</td>\n      <td id=\"T_0de05_row19_col14\" class=\"data row19 col14\" >0.254223</td>\n      <td id=\"T_0de05_row19_col15\" class=\"data row19 col15\" >0.014236</td>\n      <td id=\"T_0de05_row19_col16\" class=\"data row19 col16\" >-0.317068</td>\n      <td id=\"T_0de05_row19_col17\" class=\"data row19 col17\" >-0.168846</td>\n      <td id=\"T_0de05_row19_col18\" class=\"data row19 col18\" >-0.837978</td>\n      <td id=\"T_0de05_row19_col19\" class=\"data row19 col19\" >1.000000</td>\n    </tr>\n  </tbody>\n</table>\n"
     },
     "execution_count": 13,
     "metadata": {},
     "output_type": "execute_result"
    }
   ],
   "source": [
    "fields_for_corr = [\n",
    "    'active_customer', 'gender', 'age', 'short_term_deposit',\n",
    "    'funds', 'securities', 'long_term_deposit', 'credit_card', 'payroll', 'pension_plan',\n",
    "    'payroll_account', 'emc_account', 'debit_card', 'em_account_p', 'em_acount',\n",
    "    'salary', 'segment_00 - OTROS', 'segment_01 - TOP', 'segment_02 - PARTICULARES', 'segment_03 - UNIVERSITARIO'\n",
    "]\n",
    "fields_for_corr.remove(TARGET)\n",
    "fields_for_corr.insert(0, TARGET)\n",
    "\n",
    "corr = df_prep[fields_for_corr].corr()\n",
    "corr.style.background_gradient(cmap=\"coolwarm\")"
   ],
   "metadata": {
    "pycharm": {
     "name": "#%%\n"
    },
    "id": "bdU2tpqIoA46",
    "colab": {
     "base_uri": "https://localhost:8080/",
     "height": 765
    },
    "executionInfo": {
     "status": "ok",
     "timestamp": 1650641267239,
     "user_tz": -120,
     "elapsed": 827,
     "user": {
      "displayName": "nerea dominguez cabezas",
      "userId": "01946356256277218181"
     }
    },
    "outputId": "2b651b3f-63df-4a0d-f42b-53ffc3e2c029"
   }
  },
  {
   "cell_type": "markdown",
   "source": [
    "Los puntos superiores nos indican los outliers. En este caso se observa que  hay relación entre la variable de \"age\" y el producto \"shor_term_deposit\""
   ],
   "metadata": {
    "id": "wm2nIvPhg034"
   }
  },
  {
   "cell_type": "code",
   "execution_count": 14,
   "outputs": [
    {
     "data": {
      "text/plain": "<AxesSubplot:xlabel='short_term_deposit', ylabel='age'>"
     },
     "execution_count": 14,
     "metadata": {},
     "output_type": "execute_result"
    },
    {
     "data": {
      "text/plain": "<Figure size 432x288 with 1 Axes>",
      "image/png": "[encoded data removed]"
     },
     "metadata": {
      "needs_background": "light"
     },
     "output_type": "display_data"
    }
   ],
   "source": [
    "sns.boxplot(data=df_prep, x=TARGET, y=\"age\")"
   ],
   "metadata": {
    "pycharm": {
     "name": "#%%\n"
    },
    "id": "0O-00q4UoA47",
    "colab": {
     "base_uri": "https://localhost:8080/",
     "height": 298
    },
    "executionInfo": {
     "status": "ok",
     "timestamp": 1650641267628,
     "user_tz": -120,
     "elapsed": 412,
     "user": {
      "displayName": "nerea dominguez cabezas",
      "userId": "01946356256277218181"
     }
    },
    "outputId": "f9513691-014f-4f28-9967-70fb28f91d64"
   }
  },
  {
   "cell_type": "markdown",
   "source": [
    "En este gráfico vemos los clientes que tienen \"short_term_deposit\" según la \"region_code\" , vemos que la mayoría están en la región número 28 o sea Madrid."
   ],
   "metadata": {
    "id": "gJEwkWmAg7oH"
   }
  },
  {
   "cell_type": "code",
   "execution_count": 15,
   "outputs": [
    {
     "data": {
      "text/plain": "<Figure size 1080x360 with 1 Axes>",
      "image/png": "[encoded data removed]"
     },
     "metadata": {
      "needs_background": "light"
     },
     "output_type": "display_data"
    },
    {
     "data": {
      "text/plain": "                           len                sum               mean\n            short_term_deposit short_term_deposit short_term_deposit\nregion_code                                                         \n-1                         159                  2           0.012579\n 1                        1112                 57           0.051259\n 2                        5262                 26           0.004941\n 3                       13614                139           0.010210\n 4                        2680                 32           0.011940\n 5                        1574                 13           0.008259\n 6                        8789                 40           0.004551\n 7                        5351                 78           0.014577\n 8                       46582                465           0.009982\n 9                        3636                 61           0.016777\n 10                       5855                 38           0.006490\n 11                      11831                 84           0.007100\n 12                       5038                 45           0.008932\n 13                       5142                 52           0.010113\n 14                       5740                 72           0.012544\n 15                      18257                113           0.006189\n 16                       2539                 15           0.005908\n 17                       3871                 30           0.007750\n 18                       7798                 87           0.011157\n 19                       2376                 41           0.017256\n 20                       1603                 64           0.039925\n 21                       5077                 32           0.006303\n 22                       1638                 12           0.007326\n 23                       2513                 50           0.019897\n 24                       2809                 42           0.014952\n 25                       3432                 26           0.007576\n 26                       2638                 34           0.012889\n 27                       3755                 22           0.005859\n 28                      99960               1736           0.017367\n 29                      13737                138           0.010046\n 30                      21869                116           0.005304\n 31                       2408                 55           0.022841\n 32                       3889                 20           0.005143\n 33                      10248                115           0.011222\n 34                       2027                 32           0.015787\n 35                       9548                 62           0.006494\n 36                      12738                 71           0.005574\n 37                       6684                 45           0.006732\n 38                       2622                 37           0.014111\n 39                       5563                 90           0.016178\n 40                       1634                 26           0.015912\n 41                      21498                189           0.008792\n 42                        707                 10           0.014144\n 43                       4697                 36           0.007664\n 44                        948                  3           0.003165\n 45                       7858                 54           0.006872\n 46                      28010                294           0.010496\n 47                       8511                108           0.012689\n 48                       3090                157           0.050809\n 49                       2228                 13           0.005835\n 50                      10085                138           0.013684\n 51                        248                  3           0.012097\n 52                        215                  4           0.018605",
      "text/html": "<div>\n<style scoped>\n    .dataframe tbody tr th:only-of-type {\n        vertical-align: middle;\n    }\n\n    .dataframe tbody tr th {\n        vertical-align: top;\n    }\n\n    .dataframe thead tr th {\n        text-align: left;\n    }\n\n    .dataframe thead tr:last-of-type th {\n        text-align: right;\n    }\n</style>\n<table border=\"1\" class=\"dataframe\">\n  <thead>\n    <tr>\n      <th></th>\n      <th>len</th>\n      <th>sum</th>\n      <th>mean</th>\n    </tr>\n    <tr>\n      <th></th>\n      <th>short_term_deposit</th>\n      <th>short_term_deposit</th>\n      <th>short_term_deposit</th>\n    </tr>\n    <tr>\n      <th>region_code</th>\n      <th></th>\n      <th></th>\n      <th></th>\n    </tr>\n  </thead>\n  <tbody>\n    <tr>\n      <th>-1</th>\n      <td>159</td>\n      <td>2</td>\n      <td>0.012579</td>\n    </tr>\n    <tr>\n      <th>1</th>\n      <td>1112</td>\n      <td>57</td>\n      <td>0.051259</td>\n    </tr>\n    <tr>\n      <th>2</th>\n      <td>5262</td>\n      <td>26</td>\n      <td>0.004941</td>\n    </tr>\n    <tr>\n      <th>3</th>\n      <td>13614</td>\n      <td>139</td>\n      <td>0.010210</td>\n    </tr>\n    <tr>\n      <th>4</th>\n      <td>2680</td>\n      <td>32</td>\n      <td>0.011940</td>\n    </tr>\n    <tr>\n      <th>5</th>\n      <td>1574</td>\n      <td>13</td>\n      <td>0.008259</td>\n    </tr>\n    <tr>\n      <th>6</th>\n      <td>8789</td>\n      <td>40</td>\n      <td>0.004551</td>\n    </tr>\n    <tr>\n      <th>7</th>\n      <td>5351</td>\n      <td>78</td>\n      <td>0.014577</td>\n    </tr>\n    <tr>\n      <th>8</th>\n      <td>46582</td>\n      <td>465</td>\n      <td>0.009982</td>\n    </tr>\n    <tr>\n      <th>9</th>\n      <td>3636</td>\n      <td>61</td>\n      <td>0.016777</td>\n    </tr>\n    <tr>\n      <th>10</th>\n      <td>5855</td>\n      <td>38</td>\n      <td>0.006490</td>\n    </tr>\n    <tr>\n      <th>11</th>\n      <td>11831</td>\n      <td>84</td>\n      <td>0.007100</td>\n    </tr>\n    <tr>\n      <th>12</th>\n      <td>5038</td>\n      <td>45</td>\n      <td>0.008932</td>\n    </tr>\n    <tr>\n      <th>13</th>\n      <td>5142</td>\n      <td>52</td>\n      <td>0.010113</td>\n    </tr>\n    <tr>\n      <th>14</th>\n      <td>5740</td>\n      <td>72</td>\n      <td>0.012544</td>\n    </tr>\n    <tr>\n      <th>15</th>\n      <td>18257</td>\n      <td>113</td>\n      <td>0.006189</td>\n    </tr>\n    <tr>\n      <th>16</th>\n      <td>2539</td>\n      <td>15</td>\n      <td>0.005908</td>\n    </tr>\n    <tr>\n      <th>17</th>\n      <td>3871</td>\n      <td>30</td>\n      <td>0.007750</td>\n    </tr>\n    <tr>\n      <th>18</th>\n      <td>7798</td>\n      <td>87</td>\n      <td>0.011157</td>\n    </tr>\n    <tr>\n      <th>19</th>\n      <td>2376</td>\n      <td>41</td>\n      <td>0.017256</td>\n    </tr>\n    <tr>\n      <th>20</th>\n      <td>1603</td>\n      <td>64</td>\n      <td>0.039925</td>\n    </tr>\n    <tr>\n      <th>21</th>\n      <td>5077</td>\n      <td>32</td>\n      <td>0.006303</td>\n    </tr>\n    <tr>\n      <th>22</th>\n      <td>1638</td>\n      <td>12</td>\n      <td>0.007326</td>\n    </tr>\n    <tr>\n      <th>23</th>\n      <td>2513</td>\n      <td>50</td>\n      <td>0.019897</td>\n    </tr>\n    <tr>\n      <th>24</th>\n      <td>2809</td>\n      <td>42</td>\n      <td>0.014952</td>\n    </tr>\n    <tr>\n      <th>25</th>\n      <td>3432</td>\n      <td>26</td>\n      <td>0.007576</td>\n    </tr>\n    <tr>\n      <th>26</th>\n      <td>2638</td>\n      <td>34</td>\n      <td>0.012889</td>\n    </tr>\n    <tr>\n      <th>27</th>\n      <td>3755</td>\n      <td>22</td>\n      <td>0.005859</td>\n    </tr>\n    <tr>\n      <th>28</th>\n      <td>99960</td>\n      <td>1736</td>\n      <td>0.017367</td>\n    </tr>\n    <tr>\n      <th>29</th>\n      <td>13737</td>\n      <td>138</td>\n      <td>0.010046</td>\n    </tr>\n    <tr>\n      <th>30</th>\n      <td>21869</td>\n      <td>116</td>\n      <td>0.005304</td>\n    </tr>\n    <tr>\n      <th>31</th>\n      <td>2408</td>\n      <td>55</td>\n      <td>0.022841</td>\n    </tr>\n    <tr>\n      <th>32</th>\n      <td>3889</td>\n      <td>20</td>\n      <td>0.005143</td>\n    </tr>\n    <tr>\n      <th>33</th>\n      <td>10248</td>\n      <td>115</td>\n      <td>0.011222</td>\n    </tr>\n    <tr>\n      <th>34</th>\n      <td>2027</td>\n      <td>32</td>\n      <td>0.015787</td>\n    </tr>\n    <tr>\n      <th>35</th>\n      <td>9548</td>\n      <td>62</td>\n      <td>0.006494</td>\n    </tr>\n    <tr>\n      <th>36</th>\n      <td>12738</td>\n      <td>71</td>\n      <td>0.005574</td>\n    </tr>\n    <tr>\n      <th>37</th>\n      <td>6684</td>\n      <td>45</td>\n      <td>0.006732</td>\n    </tr>\n    <tr>\n      <th>38</th>\n      <td>2622</td>\n      <td>37</td>\n      <td>0.014111</td>\n    </tr>\n    <tr>\n      <th>39</th>\n      <td>5563</td>\n      <td>90</td>\n      <td>0.016178</td>\n    </tr>\n    <tr>\n      <th>40</th>\n      <td>1634</td>\n      <td>26</td>\n      <td>0.015912</td>\n    </tr>\n    <tr>\n      <th>41</th>\n      <td>21498</td>\n      <td>189</td>\n      <td>0.008792</td>\n    </tr>\n    <tr>\n      <th>42</th>\n      <td>707</td>\n      <td>10</td>\n      <td>0.014144</td>\n    </tr>\n    <tr>\n      <th>43</th>\n      <td>4697</td>\n      <td>36</td>\n      <td>0.007664</td>\n    </tr>\n    <tr>\n      <th>44</th>\n      <td>948</td>\n      <td>3</td>\n      <td>0.003165</td>\n    </tr>\n    <tr>\n      <th>45</th>\n      <td>7858</td>\n      <td>54</td>\n      <td>0.006872</td>\n    </tr>\n    <tr>\n      <th>46</th>\n      <td>28010</td>\n      <td>294</td>\n      <td>0.010496</td>\n    </tr>\n    <tr>\n      <th>47</th>\n      <td>8511</td>\n      <td>108</td>\n      <td>0.012689</td>\n    </tr>\n    <tr>\n      <th>48</th>\n      <td>3090</td>\n      <td>157</td>\n      <td>0.050809</td>\n    </tr>\n    <tr>\n      <th>49</th>\n      <td>2228</td>\n      <td>13</td>\n      <td>0.005835</td>\n    </tr>\n    <tr>\n      <th>50</th>\n      <td>10085</td>\n      <td>138</td>\n      <td>0.013684</td>\n    </tr>\n    <tr>\n      <th>51</th>\n      <td>248</td>\n      <td>3</td>\n      <td>0.012097</td>\n    </tr>\n    <tr>\n      <th>52</th>\n      <td>215</td>\n      <td>4</td>\n      <td>0.018605</td>\n    </tr>\n  </tbody>\n</table>\n</div>"
     },
     "execution_count": 15,
     "metadata": {},
     "output_type": "execute_result"
    }
   ],
   "source": [
    "relation_with_target(df_prep, \"region_code\", TARGET)"
   ],
   "metadata": {
    "pycharm": {
     "name": "#%%\n"
    },
    "id": "6EvdaelCoA48",
    "colab": {
     "base_uri": "https://localhost:8080/",
     "height": 1000
    },
    "executionInfo": {
     "status": "ok",
     "timestamp": 1650641268535,
     "user_tz": -120,
     "elapsed": 914,
     "user": {
      "displayName": "nerea dominguez cabezas",
      "userId": "01946356256277218181"
     }
    },
    "outputId": "ead473af-af8f-4275-9bde-b0b7259c0ee0"
   }
  },
  {
   "cell_type": "markdown",
   "source": [
    "## Split dataframes\n",
    "\n",
    "Dividimos los datos en dos particiones, partición de desarrollo (train + test) y partición de validación"
   ],
   "metadata": {
    "collapsed": false,
    "pycharm": {
     "name": "#%% md\n"
    },
    "id": "jtQAKwN6oA48"
   }
  },
  {
   "cell_type": "code",
   "execution_count": 16,
   "outputs": [],
   "source": [
    "splitter = EasyMoneySplitter(DEV_PARTITION_PERIOD, VAL_PARTITION_PERIOD)"
   ],
   "metadata": {
    "pycharm": {
     "name": "#%%\n"
    },
    "id": "PG_FU9JHoA49"
   }
  },
  {
   "cell_type": "markdown",
   "source": [
    "### Train partition\n",
    "\n",
    "Distribución del target en el set de desarrollo, si más del 70% o menos del 30% de los clientes tiene el target en true se hace undersampling automáticamente de la clase mayoritaria. El desarrollo está al 99,98 - 0,012%, no está equilibrado, añadimos una función de undersampling que si es mayor de 0,70, hará el undersampling, en este si lo hace."
   ],
   "metadata": {
    "collapsed": false,
    "pycharm": {
     "name": "#%% md\n"
    },
    "id": "lsmNP5UpoA4-"
   }
  },
  {
   "cell_type": "code",
   "execution_count": 17,
   "outputs": [
    {
     "name": "stdout",
     "output_type": "stream",
     "text": [
      "Distribucion en la particion de desarrollo:  0.012752217985322015\n"
     ]
    },
    {
     "data": {
      "text/plain": "<Figure size 432x288 with 1 Axes>",
      "image/png": "[encoded data removed]"
     },
     "metadata": {
      "needs_background": "light"
     },
     "output_type": "display_data"
    },
    {
     "name": "stdout",
     "output_type": "stream",
     "text": [
      "short_term_deposit\n",
      "0    412172\n",
      "1      5324\n",
      "Name: short_term_deposit, dtype: int64\n",
      "\n",
      "\n",
      "    ******* UNDERSAMPLING: MAJORITY CLASS 0 *******\n"
     ]
    },
    {
     "data": {
      "text/plain": "<Figure size 432x288 with 1 Axes>",
      "image/png": "[encoded data removed]"
     },
     "metadata": {
      "needs_background": "light"
     },
     "output_type": "display_data"
    },
    {
     "name": "stdout",
     "output_type": "stream",
     "text": [
      "short_term_deposit\n",
      "0    21296\n",
      "1     5324\n",
      "Name: short_term_deposit, dtype: int64\n"
     ]
    }
   ],
   "source": [
    "train_df = splitter.get_train_partition(df_prep)\n",
    "train_target_mean = train_df[TARGET].mean()\n",
    "\n",
    "print(\"Distribucion en la particion de desarrollo: \", train_target_mean)\n",
    "print(hist_plot(train_df, TARGET))\n",
    "\n",
    "if DO_UNDER_SAMPLING and train_target_mean >= 0.70:\n",
    "    print(\"\"\"\n",
    "\n",
    "    ******* UNDERSAMPLING: MAJORITY CLASS 1 *******\"\"\")\n",
    "    train_df = EasyMoneySplitter.under_sample(train_df, TARGET, False)\n",
    "    print(hist_plot(train_df, TARGET))\n",
    "\n",
    "elif DO_UNDER_SAMPLING and train_target_mean <= 0.30:\n",
    "    print(\"\"\"\n",
    "\n",
    "    ******* UNDERSAMPLING: MAJORITY CLASS 0 *******\"\"\")\n",
    "    train_df = EasyMoneySplitter.under_sample(train_df, TARGET, True)\n",
    "    print(hist_plot(train_df, TARGET))"
   ],
   "metadata": {
    "pycharm": {
     "name": "#%%\n"
    },
    "id": "r2Z6O3oIoA4-",
    "colab": {
     "base_uri": "https://localhost:8080/",
     "height": 729
    },
    "executionInfo": {
     "status": "ok",
     "timestamp": 1650641269408,
     "user_tz": -120,
     "elapsed": 879,
     "user": {
      "displayName": "nerea dominguez cabezas",
      "userId": "01946356256277218181"
     }
    },
    "outputId": "839637ae-f39e-4e5c-dfd0-ca8595a9ea62"
   }
  },
  {
   "cell_type": "markdown",
   "source": [
    "### Validation partition\n",
    "\n",
    "Distribución del target en el set de validación. En validación no hacemos undersampling, solo en train. Aquí se ve que en el último mes la mayoría no compró."
   ],
   "metadata": {
    "collapsed": false,
    "pycharm": {
     "name": "#%% md\n"
    },
    "id": "3qkTtkQioA4-"
   }
  },
  {
   "cell_type": "code",
   "execution_count": 18,
   "outputs": [
    {
     "data": {
      "text/plain": "<Figure size 432x288 with 1 Axes>",
      "image/png": "[encoded data removed]"
     },
     "metadata": {
      "needs_background": "light"
     },
     "output_type": "display_data"
    },
    {
     "name": "stdout",
     "output_type": "stream",
     "text": [
      "short_term_deposit\n"
     ]
    },
    {
     "data": {
      "text/plain": "0    44197\nName: short_term_deposit, dtype: int64"
     },
     "execution_count": 18,
     "metadata": {},
     "output_type": "execute_result"
    }
   ],
   "source": [
    "validation_df = splitter.get_validation_partition(df_prep)\n",
    "hist_plot(validation_df, TARGET)"
   ],
   "metadata": {
    "pycharm": {
     "name": "#%%\n"
    },
    "id": "3-rlX7AmoA4_",
    "colab": {
     "base_uri": "https://localhost:8080/",
     "height": 319
    },
    "executionInfo": {
     "status": "ok",
     "timestamp": 1650641269409,
     "user_tz": -120,
     "elapsed": 16,
     "user": {
      "displayName": "nerea dominguez cabezas",
      "userId": "01946356256277218181"
     }
    },
    "outputId": "61f95bbb-fa8c-43ca-b3c9-5a4d954268f0"
   }
  },
  {
   "cell_type": "markdown",
   "source": [
    "#### Partitions\n",
    "\n",
    "Separación de las particiones. Preparando los datos para el modelo, aquí hacemos la separación del 20% para test."
   ],
   "metadata": {
    "collapsed": false,
    "pycharm": {
     "name": "#%% md\n"
    },
    "id": "YXGokYvPoA4_"
   }
  },
  {
   "cell_type": "code",
   "execution_count": 19,
   "outputs": [
    {
     "name": "stdout",
     "output_type": "stream",
     "text": [
      "\n",
      "TRAIN:\n",
      "    X_train.shape: (21296, 140)\n",
      "    y_train.shape: (21296, 1)\n",
      "TEST:\n",
      "    X_test.shape: (5324, 140)\n",
      "    y_test.shape: (5324, 1)\n",
      "VALIDATION:\n",
      "    X_val.shape: (44197, 140)\n",
      "    y_val.shape: (44197, 1)\n",
      "\n"
     ]
    }
   ],
   "source": [
    "to_exclude = EXCLUDE_COLUMNS\n",
    "to_exclude.append(TARGET)\n",
    "\n",
    "dev_X = train_df.drop(to_exclude, axis=1)\n",
    "dev_y = train_df[[TARGET]]\n",
    "\n",
    "X_val = validation_df.drop(to_exclude, axis=1)\n",
    "y_val = validation_df[[TARGET]]\n",
    "\n",
    "X_train, X_test, y_train, y_test = train_test_split(dev_X, dev_y, test_size=0.2, random_state=RANDOM_STATE,\n",
    "                                                    stratify=dev_y)\n",
    "\n",
    "print(f\"\"\"\n",
    "TRAIN:\n",
    "    X_train.shape: {X_train.shape}\n",
    "    y_train.shape: {y_train.shape}\n",
    "TEST:\n",
    "    X_test.shape: {X_test.shape}\n",
    "    y_test.shape: {y_test.shape}\n",
    "VALIDATION:\n",
    "    X_val.shape: {X_val.shape}\n",
    "    y_val.shape: {y_val.shape}\n",
    "\"\"\")"
   ],
   "metadata": {
    "pycharm": {
     "name": "#%%\n"
    },
    "id": "vEs3xyY0oA4_",
    "colab": {
     "base_uri": "https://localhost:8080/"
    },
    "executionInfo": {
     "status": "ok",
     "timestamp": 1650641269781,
     "user_tz": -120,
     "elapsed": 381,
     "user": {
      "displayName": "nerea dominguez cabezas",
      "userId": "01946356256277218181"
     }
    },
    "outputId": "0a184898-8804-4b8d-c0da-1057af1f61bf"
   }
  },
  {
   "cell_type": "markdown",
   "source": [
    "## Modelling"
   ],
   "metadata": {
    "collapsed": false,
    "pycharm": {
     "name": "#%% md\n"
    },
    "id": "gqBhu2bBoA5A"
   }
  },
  {
   "cell_type": "markdown",
   "source": [
    "Decidimos utilizar el **XGBClassifier** para estimar con una mayor precisión la probabilidad que hay de que un cliente nos compre o no un producto y combina estimaciones de un conjunto de modelos más simples y débiles. Utilizamos AUC . El que va a determinar si el algoritmo es correcto o no es el **AUC Validation.**"
   ],
   "metadata": {
    "id": "MK4RJ1UShZCr"
   }
  },
  {
   "cell_type": "code",
   "execution_count": 20,
   "outputs": [
    {
     "name": "stdout",
     "output_type": "stream",
     "text": [
      "[0]\tvalidation_0-auc:0.94768\n",
      "[1]\tvalidation_0-auc:0.95426\n",
      "[2]\tvalidation_0-auc:0.96174\n",
      "[3]\tvalidation_0-auc:0.96308\n",
      "[4]\tvalidation_0-auc:0.96408\n",
      "[5]\tvalidation_0-auc:0.96416\n",
      "[6]\tvalidation_0-auc:0.96610\n",
      "[7]\tvalidation_0-auc:0.96694\n",
      "[8]\tvalidation_0-auc:0.96748\n",
      "[9]\tvalidation_0-auc:0.96721\n",
      "[10]\tvalidation_0-auc:0.96836\n",
      "[11]\tvalidation_0-auc:0.96837\n",
      "[12]\tvalidation_0-auc:0.96960\n",
      "[13]\tvalidation_0-auc:0.97030\n",
      "[14]\tvalidation_0-auc:0.97028\n",
      "[15]\tvalidation_0-auc:0.97034\n",
      "[16]\tvalidation_0-auc:0.97036\n",
      "[17]\tvalidation_0-auc:0.97041\n",
      "[18]\tvalidation_0-auc:0.97045\n",
      "[19]\tvalidation_0-auc:0.97051\n",
      "[20]\tvalidation_0-auc:0.97094\n",
      "[21]\tvalidation_0-auc:0.97103\n",
      "[22]\tvalidation_0-auc:0.97087\n",
      "[23]\tvalidation_0-auc:0.97109\n",
      "[24]\tvalidation_0-auc:0.97141\n",
      "[25]\tvalidation_0-auc:0.97144\n",
      "[26]\tvalidation_0-auc:0.97127\n",
      "[27]\tvalidation_0-auc:0.97166\n",
      "[28]\tvalidation_0-auc:0.97185\n",
      "[29]\tvalidation_0-auc:0.97179\n",
      "[30]\tvalidation_0-auc:0.97189\n",
      "[31]\tvalidation_0-auc:0.97183\n",
      "[32]\tvalidation_0-auc:0.97187\n",
      "[33]\tvalidation_0-auc:0.97188\n",
      "[34]\tvalidation_0-auc:0.97192\n",
      "[35]\tvalidation_0-auc:0.97192\n",
      "[36]\tvalidation_0-auc:0.97193\n",
      "[37]\tvalidation_0-auc:0.97195\n",
      "[38]\tvalidation_0-auc:0.97186\n",
      "[39]\tvalidation_0-auc:0.97206\n",
      "[40]\tvalidation_0-auc:0.97214\n",
      "[41]\tvalidation_0-auc:0.97226\n",
      "[42]\tvalidation_0-auc:0.97227\n",
      "[43]\tvalidation_0-auc:0.97227\n",
      "[44]\tvalidation_0-auc:0.97228\n",
      "[45]\tvalidation_0-auc:0.97252\n",
      "[46]\tvalidation_0-auc:0.97253\n",
      "[47]\tvalidation_0-auc:0.97262\n",
      "[48]\tvalidation_0-auc:0.97265\n",
      "[49]\tvalidation_0-auc:0.97276\n",
      "[50]\tvalidation_0-auc:0.97277\n",
      "[51]\tvalidation_0-auc:0.97278\n",
      "[52]\tvalidation_0-auc:0.97287\n",
      "[53]\tvalidation_0-auc:0.97282\n",
      "[54]\tvalidation_0-auc:0.97286\n",
      "[55]\tvalidation_0-auc:0.97295\n",
      "[56]\tvalidation_0-auc:0.97294\n",
      "[57]\tvalidation_0-auc:0.97298\n",
      "[58]\tvalidation_0-auc:0.97299\n",
      "[59]\tvalidation_0-auc:0.97298\n",
      "[60]\tvalidation_0-auc:0.97301\n",
      "[61]\tvalidation_0-auc:0.97294\n",
      "[62]\tvalidation_0-auc:0.97296\n",
      "[63]\tvalidation_0-auc:0.97299\n",
      "[64]\tvalidation_0-auc:0.97300\n",
      "[65]\tvalidation_0-auc:0.97303\n",
      "[66]\tvalidation_0-auc:0.97304\n",
      "[67]\tvalidation_0-auc:0.97311\n",
      "[68]\tvalidation_0-auc:0.97310\n",
      "[69]\tvalidation_0-auc:0.97309\n",
      "[70]\tvalidation_0-auc:0.97309\n",
      "[71]\tvalidation_0-auc:0.97310\n",
      "[72]\tvalidation_0-auc:0.97310\n",
      "[73]\tvalidation_0-auc:0.97311\n",
      "[74]\tvalidation_0-auc:0.97310\n",
      "[75]\tvalidation_0-auc:0.97307\n",
      "[76]\tvalidation_0-auc:0.97309\n",
      "[77]\tvalidation_0-auc:0.97315\n",
      "[78]\tvalidation_0-auc:0.97314\n",
      "[79]\tvalidation_0-auc:0.97320\n",
      "[80]\tvalidation_0-auc:0.97314\n",
      "[81]\tvalidation_0-auc:0.97318\n",
      "[82]\tvalidation_0-auc:0.97310\n",
      "[83]\tvalidation_0-auc:0.97315\n",
      "[84]\tvalidation_0-auc:0.97316\n",
      "[85]\tvalidation_0-auc:0.97322\n",
      "[86]\tvalidation_0-auc:0.97320\n",
      "[87]\tvalidation_0-auc:0.97318\n",
      "[88]\tvalidation_0-auc:0.97320\n",
      "[89]\tvalidation_0-auc:0.97319\n",
      "[90]\tvalidation_0-auc:0.97315\n",
      "[91]\tvalidation_0-auc:0.97312\n",
      "[92]\tvalidation_0-auc:0.97315\n",
      "[93]\tvalidation_0-auc:0.97310\n",
      "[94]\tvalidation_0-auc:0.97310\n",
      "Wall time: 2.74 s\n"
     ]
    },
    {
     "data": {
      "text/plain": "XGBClassifier(base_score=0.5, booster='gbtree', colsample_bylevel=1,\n              colsample_bynode=1, colsample_bytree=1, enable_categorical=False,\n              gamma=0, gpu_id=-1, importance_type=None,\n              interaction_constraints='', learning_rate=0.300000012,\n              max_delta_step=0, max_depth=5, min_child_weight=100, missing=nan,\n              monotone_constraints='()', n_estimators=100, n_jobs=12,\n              num_parallel_tree=1, predictor='auto', random_state=123,\n              reg_alpha=0, reg_lambda=1, scale_pos_weight=1, subsample=1,\n              tree_method='exact', use_label_encoder=False,\n              validate_parameters=1, verbosity=None)"
     },
     "execution_count": 20,
     "metadata": {},
     "output_type": "execute_result"
    }
   ],
   "source": [
    "%%time\n",
    "model: XGBClassifier = XGBClassifier(\n",
    "    max_depth=5,\n",
    "    min_child_weight=100,\n",
    "    random_state=RANDOM_STATE,\n",
    "    use_label_encoder=False\n",
    ")\n",
    "\n",
    "eval_set = [(X_test, y_test.values.ravel())]\n",
    "model.fit(\n",
    "    X_train,\n",
    "    y_train.values.ravel(),\n",
    "    eval_set=eval_set,\n",
    "    verbose=True,\n",
    "    eval_metric=\"auc\",\n",
    "    early_stopping_rounds=10\n",
    ")"
   ],
   "metadata": {
    "pycharm": {
     "name": "#%%\n"
    },
    "id": "KGMOynjEoA5A",
    "colab": {
     "base_uri": "https://localhost:8080/"
    },
    "executionInfo": {
     "status": "ok",
     "timestamp": 1650641282503,
     "user_tz": -120,
     "elapsed": 12727,
     "user": {
      "displayName": "nerea dominguez cabezas",
      "userId": "01946356256277218181"
     }
    },
    "outputId": "20d2852c-0158-4e13-b212-3971b380e4ea"
   }
  },
  {
   "cell_type": "code",
   "execution_count": 27,
   "outputs": [
    {
     "name": "stderr",
     "output_type": "stream",
     "text": [
      "C:\\Users\\alfre\\anaconda3\\lib\\site-packages\\sklearn\\metrics\\_classification.py:1248: UndefinedMetricWarning: Recall is ill-defined and being set to 0.0 due to no true samples. Use `zero_division` parameter to control this behavior.\n",
      "  _warn_prf(average, modifier, msg_start, len(result))\n"
     ]
    },
    {
     "data": {
      "text/plain": "                target  target_mean                       date  is_overfitted  \\\n50  short_term_deposit     0.200000 2022-04-24 20:18:33.170494          False   \n49  short_term_deposit     0.200000 2022-04-24 20:17:47.071882          False   \n48           em_acount     0.665269 2022-04-24 16:51:30.404775          False   \n47           em_acount     0.665269 2022-04-21 23:44:08.957054          False   \n46     payroll_account     0.069884 2022-04-21 23:37:13.420288          False   \n45     payroll_account     0.200000 2022-04-21 23:22:20.919549          False   \n44          debit_card     0.133124 2022-04-21 20:27:58.650938          False   \n43           em_acount     0.665269 2022-04-21 20:21:06.229094          False   \n42           em_acount     0.665269 2022-04-21 18:48:47.042689          False   \n41           em_acount     0.665269 2022-04-21 18:43:08.823390          False   \n40           em_acount     0.665269 2022-04-21 18:25:32.773330          False   \n39           em_acount     0.665269 2022-04-21 17:36:59.933970          False   \n38           em_acount     0.713166 2022-04-21 17:13:54.007158          False   \n37           em_acount     0.713166 2022-04-21 16:04:42.873906          False   \n36           em_acount     0.713166 2022-04-21 02:48:32.746299          False   \n35           em_acount     0.713166 2022-04-21 01:50:02.372919          False   \n34        pension_plan     0.068753 2022-04-20 23:50:31.624870          False   \n33           em_acount     0.713166 2022-04-20 02:12:32.469531          False   \n32           em_acount     0.713166 2022-04-20 02:07:01.756063          False   \n31           em_acount     0.713166 2022-04-20 01:57:10.998195           True   \n30           em_acount     0.713166 2022-04-20 01:56:01.901725          False   \n29           em_acount     0.713166 2022-04-20 01:53:14.166940           True   \n28           em_acount     0.713166 2022-04-20 01:52:18.054503          False   \n27           em_acount     0.713166 2022-04-20 01:51:21.201376          False   \n26           em_acount     0.713166 2022-04-20 01:50:28.247576          False   \n25               loans     0.000117 2022-04-20 00:42:58.087485           True   \n24               loans     0.000117 2022-04-20 00:42:22.450407           True   \n23               loans     0.003535 2022-04-19 14:30:22.818615          False   \n22     payroll_account     0.527260 2022-04-19 14:23:21.434827          False   \n21     payroll_account     0.527260 2022-04-19 14:22:25.153429           True   \n20     payroll_account     0.527260 2022-04-19 14:18:41.533913          False   \n19           em_acount     0.902959 2022-04-19 13:53:38.620842          False   \n18         credit_card     0.372030 2022-04-18 22:47:26.637864          False   \n17         credit_card     0.372030 2022-04-18 22:45:31.752794          False   \n16         credit_card     0.372030 2022-04-18 22:43:48.283557          False   \n15         credit_card     0.372030 2022-04-18 22:39:07.069281           True   \n14         credit_card     0.372030 2022-04-18 22:38:38.014625           True   \n13         credit_card     0.372030 2022-04-18 22:38:15.482890           True   \n12         credit_card     0.372030 2022-04-18 22:36:28.349269           True   \n11         credit_card     0.372030 2022-04-18 22:30:52.693904           True   \n10         credit_card     0.372030 2022-04-18 22:28:49.000739           True   \n9          credit_card     0.372030 2022-04-18 22:25:16.441363           True   \n8            em_acount     0.902959 2022-04-18 21:37:34.200245           True   \n7            em_acount     0.902959 2022-04-18 21:36:57.529114           True   \n6            em_acount     0.902959 2022-04-18 21:05:19.893296           True   \n5            em_acount     0.902959 2022-04-18 20:38:26.636688           True   \n4            em_acount     0.902959 2022-04-18 20:23:43.724056           True   \n3            em_acount     0.902959 2022-04-18 19:48:39.551950           True   \n2            em_acount     0.902959 2022-04-18 19:42:19.484523           True   \n1            em_acount     0.902959 2022-04-18 19:28:11.646760           True   \n0            em_acount     0.902959 2022-04-18 19:21:05.434710           True   \n\n    roc_auc_train  roc_auc_test  roc_auc_val  accuracy_train  accuracy_test  \\\n50       0.977754      0.973215     0.000000        0.938674       0.935575   \n49       0.977754      0.973215     0.000000        0.938674       0.935575   \n48       0.922183      0.920140     0.885116        0.869104       0.869748   \n47       0.922183      0.920140     0.885116        0.869104       0.869748   \n46       0.993179      0.992358     0.993697        0.984287       0.983515   \n45       0.993132      0.992240     0.993545        0.977216       0.976657   \n44       0.891347      0.889704     0.880581        0.878779       0.877681   \n43       0.922183      0.920140     0.885116        0.869104       0.869748   \n42       0.922183      0.920140     0.885116        0.869104       0.869748   \n41       0.922183      0.920140     0.885116        0.869104       0.869748   \n40       0.922183      0.920140     0.885116        0.869104       0.869748   \n39       0.922183      0.920140     0.885116        0.869104       0.869748   \n38       0.917798      0.913066     0.890219        0.873628       0.869721   \n37       0.917798      0.913066     0.890219        0.873628       0.869721   \n36       0.917798      0.913066     0.890219        0.873628       0.869721   \n35       0.917798      0.913066     0.890219        0.873628       0.869721   \n34       0.998891      0.998951     0.998368        0.996409       0.996500   \n33       0.917798      0.913066     0.890219        0.873628       0.869721   \n32       0.917798      0.913066     0.890219        0.873628       0.869721   \n31       0.922127      0.915973     0.889479        0.876002       0.872020   \n30       0.917798      0.913066     0.890219        0.873628       0.869721   \n29       0.920217      0.914594     0.884882        0.876203       0.872053   \n28       0.914872      0.910887     0.887902        0.872031       0.869390   \n27       0.906244      0.903469     0.886973        0.865033       0.863599   \n26       0.893350      0.890877     0.873656        0.856023       0.855177   \n25       0.972083      0.952703     0.909384        0.999884       0.999880   \n24       0.990420      0.940317     0.898547        0.999884       0.999880   \n23       0.996429      0.999062     0.786278        0.998073       0.997281   \n22       0.969723      0.967727     0.986638        0.938858       0.934025   \n21       0.975096      0.968884     0.988755        0.940961       0.933745   \n20       0.969723      0.967727     0.986638        0.938858       0.934025   \n19       0.911341      0.911024     0.786666        0.940705       0.940278   \n18       0.925318      0.928474     0.849117        0.868007       0.875239   \n17       0.925318      0.928474     0.849117        0.868007       0.875239   \n16       0.928810      0.929619     0.846679        0.876536       0.882634   \n15       0.928810      0.929619     0.846679        0.876536       0.882634   \n14       0.928810      0.929619     0.846679        0.876536       0.882634   \n13       0.928810      0.929619     0.846679        0.876536       0.882634   \n12       0.928810      0.929619     0.846679        0.876536       0.882634   \n11       0.928810      0.929619     0.846679        0.876536       0.882634   \n10       0.919372      0.922418     0.861859        0.863593       0.869990   \n9        0.929953      0.928669     0.838041        0.876595       0.883349   \n8        0.950644      0.917028     0.842160        0.951014       0.941496   \n7        0.950644      0.917028     0.842160        0.951014       0.941496   \n6        0.943407      0.917594     0.840527        0.948747       0.941930   \n5        0.957649      0.916784     0.839633        0.953442       0.941146   \n4        0.957649      0.916784     0.839633        0.953442       0.941146   \n3        0.934908      0.918900     0.821716        0.945861       0.942223   \n2        0.934908      0.918900     0.821716        0.945861       0.942223   \n1        0.937089      0.919856     0.826957        0.946239       0.942811   \n0        0.937089      0.919856     0.826957        0.946239       0.942811   \n\n    accuracy_val  recall_train  recall_test  recall_val  precision_train  \\\n50      0.954861      0.864757     0.864789    0.000000         0.834580   \n49      0.954861      0.864757     0.864789    0.000000         0.834580   \n48      0.821487      0.929093     0.929927    0.824353         0.880705   \n47      0.821487      0.929093     0.929927    0.824353         0.880705   \n46      0.989983      0.894053     0.889364    0.923208         0.882627   \n45      0.982182      0.949739     0.942956    0.960751         0.937183   \n44      0.942078      0.228552     0.223388    0.104441         0.621586   \n43      0.821487      0.929093     0.929927    0.824353         0.880705   \n42      0.821487      0.929093     0.929927    0.824353         0.880705   \n41      0.821487      0.929093     0.929927    0.824353         0.880705   \n40      0.821487      0.929093     0.929927    0.824353         0.880705   \n39      0.821487      0.929093     0.929927    0.824353         0.880705   \n38      0.804678      0.936804     0.934836    0.849802         0.891510   \n37      0.804678      0.936804     0.934836    0.849802         0.891510   \n36      0.804678      0.936804     0.934836    0.849802         0.891510   \n35      0.804678      0.936804     0.934836    0.849802         0.891510   \n34      0.998398      0.956394     0.959035    0.961419         0.991068   \n33      0.804678      0.936804     0.934836    0.849802         0.891510   \n32      0.804678      0.936804     0.934836    0.849802         0.891510   \n31      0.809841      0.935952     0.933751    0.849405         0.894985   \n30      0.804678      0.936804     0.934836    0.849802         0.891510   \n29      0.807026      0.939683     0.937702    0.847222         0.892426   \n28      0.798262      0.940268     0.938787    0.851587         0.887068   \n27      0.775525      0.944204     0.943390    0.854563         0.876163   \n26      0.757777      0.946703     0.945637    0.856548         0.864340   \n25      0.999959      0.000000     0.000000    0.000000         0.000000   \n24      0.999959      0.000000     0.000000    0.000000         0.000000   \n23      0.957613      0.548387     0.500000    0.200000         0.850000   \n22      0.969673      0.950993     0.947182    0.965364         0.934227   \n21      0.973025      0.955335     0.949309    0.966252         0.934183   \n20      0.969673      0.950993     0.947182    0.965364         0.934227   \n19      0.391374      0.987060     0.986936    0.869544         0.949290   \n18      0.664174      0.974507     0.966667    0.985014         0.747418   \n17      0.664174      0.974507     0.966667    0.985014         0.747418   \n16      0.699799      0.965689     0.953846    0.929155         0.764437   \n15      0.699799      0.965689     0.953846    0.929155         0.764437   \n14      0.699799      0.965689     0.953846    0.929155         0.764437   \n13      0.699799      0.965689     0.953846    0.929155         0.764437   \n12      0.699799      0.965689     0.953846    0.929155         0.764437   \n11      0.699799      0.965689     0.953846    0.929155         0.764437   \n10      0.622773      0.973385     0.967949    0.990463         0.741089   \n9       0.673768      0.968735     0.958333    0.950954         0.763264   \n8       0.396085      0.989435     0.984534    0.877083         0.957715   \n7       0.396085      0.989435     0.984534    0.877083         0.957715   \n6       0.392663      0.988265     0.984581    0.877976         0.956425   \n5       0.395119      0.990388     0.984038    0.875298         0.959364   \n4       0.395119      0.990388     0.984038    0.875298         0.959364   \n3       0.403832      0.987192     0.985495    0.868750         0.954416   \n2       0.403832      0.987192     0.985495    0.868750         0.954416   \n1       0.396586      0.987455     0.986084    0.869147         0.954571   \n0       0.396586      0.987455     0.986084    0.869147         0.954571   \n\n    precision_test  precision_val  f1_score_train  f1_score_test  \\\n50        0.822321       0.000000        0.849400       0.843021   \n49        0.822321       0.000000        0.849400       0.843021   \n48        0.880910       0.371492        0.904252       0.904755   \n47        0.880910       0.371492        0.904252       0.904755   \n46        0.876539       0.758766        0.888304       0.882905   \n45        0.940482       0.607991        0.943419       0.941717   \n44        0.610988       0.243182        0.334215       0.327160   \n43        0.880910       0.371492        0.904252       0.904755   \n42        0.880910       0.371492        0.904252       0.904755   \n41        0.880910       0.371492        0.904252       0.904755   \n40        0.880910       0.371492        0.904252       0.904755   \n39        0.880910       0.371492        0.904252       0.904755   \n38        0.888333       0.418978        0.913596       0.910991   \n37        0.888333       0.418978        0.913596       0.910991   \n36        0.888333       0.418978        0.913596       0.910991   \n35        0.888333       0.418978        0.913596       0.910991   \n34        0.989745       0.982729        0.973422       0.974148   \n33        0.888333       0.418978        0.913596       0.910991   \n32        0.888333       0.418978        0.913596       0.910991   \n31        0.891872       0.426331        0.915010       0.912331   \n30        0.888333       0.418978        0.913596       0.910991   \n29        0.888975       0.422104        0.915445       0.912689   \n28        0.885050       0.410305        0.912893       0.911127   \n27        0.875095       0.382165        0.908912       0.907960   \n26        0.864112       0.362819        0.903648       0.903038   \n25        0.000000       0.000000        0.000000       0.000000   \n24        0.000000       0.000000        0.000000       0.000000   \n23        0.666667       0.000053        0.666667       0.571429   \n22        0.929068       0.203368        0.942535       0.938038   \n21        0.926804       0.223317        0.944640       0.937921   \n20        0.929068       0.203368        0.942535       0.938038   \n19        0.948966       0.081871        0.967807       0.967579   \n18        0.762001       0.004842        0.845988       0.852218   \n17        0.762001       0.004842        0.845988       0.852218   \n16        0.779874       0.005109        0.853358       0.858131   \n15        0.779874       0.005109        0.853358       0.858131   \n14        0.779874       0.005109        0.853358       0.858131   \n13        0.779874       0.005109        0.853358       0.858131   \n12        0.779874       0.005109        0.853358       0.858131   \n11        0.779874       0.005109        0.853358       0.858131   \n10        0.753117       0.004336        0.841500       0.847125   \n9         0.779052       0.004813        0.853812       0.859442   \n8         0.952290       0.083061        0.973317       0.968144   \n7         0.952290       0.083061        0.973317       0.968144   \n6         0.952692       0.082696        0.972084       0.968374   \n5         0.952367       0.082797        0.974629       0.967944   \n4         0.952367       0.082797        0.974629       0.967944   \n3         0.952191       0.083397        0.970527       0.968557   \n2         0.952191       0.083397        0.970527       0.968557   \n1         0.952275       0.082497        0.970735       0.968885   \n0         0.952275       0.082497        0.970735       0.968885   \n\n    f1_score_val                                              model  \n50      0.000000  XGBClassifier(base_score=0.5, booster='gbtree'...  \n49      0.000000  XGBClassifier(base_score=0.5, booster='gbtree'...  \n48      0.512174  XGBClassifier(base_score=0.5, booster='gbtree'...  \n47      0.512174  XGBClassifier(base_score=0.5, booster='gbtree'...  \n46      0.832948  XGBClassifier(base_score=0.5, booster='gbtree'...  \n45      0.744709  XGBClassifier(base_score=0.5, booster='gbtree'...  \n44      0.146125  XGBClassifier(base_score=0.5, booster='gbtree'...  \n43      0.512174  XGBClassifier(base_score=0.5, booster='gbtree'...  \n42      0.512174  XGBClassifier(base_score=0.5, booster='gbtree'...  \n41      0.512174  XGBClassifier(base_score=0.5, booster='gbtree'...  \n40      0.512174  XGBClassifier(base_score=0.5, booster='gbtree'...  \n39      0.512174  XGBClassifier(base_score=0.5, booster='gbtree'...  \n38      0.561245  XGBClassifier(base_score=0.5, booster='gbtree'...  \n37      0.561245  XGBClassifier(base_score=0.5, booster='gbtree'...  \n36      0.561245  XGBClassifier(base_score=0.5, booster='gbtree'...  \n35      0.561245  XGBClassifier(base_score=0.5, booster='gbtree'...  \n34      0.971957  XGBClassifier(base_score=0.5, booster='gbtree'...  \n33      0.561245  XGBClassifier(base_score=0.5, booster='gbtree'...  \n32      0.561245  XGBClassifier(base_score=0.5, booster='gbtree'...  \n31      0.567715  XGBClassifier(base_score=0.5, booster='gbtree'...  \n30      0.561245  XGBClassifier(base_score=0.5, booster='gbtree'...  \n29      0.563473  XGBClassifier(base_score=0.5, booster='gbtree'...  \n28      0.553789  XGBClassifier(base_score=0.5, booster='gbtree'...  \n27      0.528142  XGBClassifier(base_score=0.5, booster='gbtree'...  \n26      0.509726  XGBClassifier(base_score=0.5, booster='gbtree'...  \n25      0.000000  XGBClassifier(base_score=0.5, booster='gbtree'...  \n24      0.000000  XGBClassifier(base_score=0.5, booster='gbtree'...  \n23      0.000106  XGBClassifier(base_score=0.5, booster='gbtree'...  \n22      0.335960  XGBClassifier(base_score=0.5, booster='gbtree'...  \n21      0.362788  XGBClassifier(base_score=0.5, booster='gbtree'...  \n20      0.335960  XGBClassifier(base_score=0.5, booster='gbtree'...  \n19      0.149651  XGBClassifier(base_score=0.5, booster='gbtree'...  \n18      0.009636  XGBClassifier(base_score=0.5, booster='gbtree'...  \n17      0.009636  XGBClassifier(base_score=0.5, booster='gbtree'...  \n16      0.010163  XGBClassifier(base_score=0.5, booster='gbtree'...  \n15      0.010163  XGBClassifier(base_score=0.5, booster='gbtree'...  \n14      0.010163  XGBClassifier(base_score=0.5, booster='gbtree'...  \n13      0.010163  XGBClassifier(base_score=0.5, booster='gbtree'...  \n12      0.010163  XGBClassifier(base_score=0.5, booster='gbtree'...  \n11      0.010163  XGBClassifier(base_score=0.5, booster='gbtree'...  \n10      0.008634  XGBClassifier(base_score=0.5, booster='gbtree'...  \n9       0.009577  XGBClassifier(base_score=0.5, booster='gbtree'...  \n8       0.151751  Pipeline(steps=[('model',\\n                 XG...  \n7       0.151751  Pipeline(steps=[('model',\\n                 XG...  \n6       0.151155  Pipeline(steps=[('transform', StandardScaler()...  \n5       0.151283  Pipeline(steps=[('transform', StandardScaler()...  \n4       0.151283  Pipeline(steps=[('transform', StandardScaler()...  \n3       0.152184  Pipeline(steps=[('model',\\n                 XG...  \n2       0.152184  Pipeline(steps=[('model',\\n                 XG...  \n1       0.150691  Pipeline(steps=[('transform', StandardScaler()...  \n0       0.150691  Pipeline(steps=[('transform', StandardScaler()...  ",
      "text/html": "<div>\n<style scoped>\n    .dataframe tbody tr th:only-of-type {\n        vertical-align: middle;\n    }\n\n    .dataframe tbody tr th {\n        vertical-align: top;\n    }\n\n    .dataframe thead th {\n        text-align: right;\n    }\n</style>\n<table border=\"1\" class=\"dataframe\">\n  <thead>\n    <tr style=\"text-align: right;\">\n      <th></th>\n      <th>target</th>\n      <th>target_mean</th>\n      <th>date</th>\n      <th>is_overfitted</th>\n      <th>roc_auc_train</th>\n      <th>roc_auc_test</th>\n      <th>roc_auc_val</th>\n      <th>accuracy_train</th>\n      <th>accuracy_test</th>\n      <th>accuracy_val</th>\n      <th>recall_train</th>\n      <th>recall_test</th>\n      <th>recall_val</th>\n      <th>precision_train</th>\n      <th>precision_test</th>\n      <th>precision_val</th>\n      <th>f1_score_train</th>\n      <th>f1_score_test</th>\n      <th>f1_score_val</th>\n      <th>model</th>\n    </tr>\n  </thead>\n  <tbody>\n    <tr>\n      <th>50</th>\n      <td>short_term_deposit</td>\n      <td>0.200000</td>\n      <td>2022-04-24 20:18:33.170494</td>\n      <td>False</td>\n      <td>0.977754</td>\n      <td>0.973215</td>\n      <td>0.000000</td>\n      <td>0.938674</td>\n      <td>0.935575</td>\n      <td>0.954861</td>\n      <td>0.864757</td>\n      <td>0.864789</td>\n      <td>0.000000</td>\n      <td>0.834580</td>\n      <td>0.822321</td>\n      <td>0.000000</td>\n      <td>0.849400</td>\n      <td>0.843021</td>\n      <td>0.000000</td>\n      <td>XGBClassifier(base_score=0.5, booster='gbtree'...</td>\n    </tr>\n    <tr>\n      <th>49</th>\n      <td>short_term_deposit</td>\n      <td>0.200000</td>\n      <td>2022-04-24 20:17:47.071882</td>\n      <td>False</td>\n      <td>0.977754</td>\n      <td>0.973215</td>\n      <td>0.000000</td>\n      <td>0.938674</td>\n      <td>0.935575</td>\n      <td>0.954861</td>\n      <td>0.864757</td>\n      <td>0.864789</td>\n      <td>0.000000</td>\n      <td>0.834580</td>\n      <td>0.822321</td>\n      <td>0.000000</td>\n      <td>0.849400</td>\n      <td>0.843021</td>\n      <td>0.000000</td>\n      <td>XGBClassifier(base_score=0.5, booster='gbtree'...</td>\n    </tr>\n    <tr>\n      <th>48</th>\n      <td>em_acount</td>\n      <td>0.665269</td>\n      <td>2022-04-24 16:51:30.404775</td>\n      <td>False</td>\n      <td>0.922183</td>\n      <td>0.920140</td>\n      <td>0.885116</td>\n      <td>0.869104</td>\n      <td>0.869748</td>\n      <td>0.821487</td>\n      <td>0.929093</td>\n      <td>0.929927</td>\n      <td>0.824353</td>\n      <td>0.880705</td>\n      <td>0.880910</td>\n      <td>0.371492</td>\n      <td>0.904252</td>\n      <td>0.904755</td>\n      <td>0.512174</td>\n      <td>XGBClassifier(base_score=0.5, booster='gbtree'...</td>\n    </tr>\n    <tr>\n      <th>47</th>\n      <td>em_acount</td>\n      <td>0.665269</td>\n      <td>2022-04-21 23:44:08.957054</td>\n      <td>False</td>\n      <td>0.922183</td>\n      <td>0.920140</td>\n      <td>0.885116</td>\n      <td>0.869104</td>\n      <td>0.869748</td>\n      <td>0.821487</td>\n      <td>0.929093</td>\n      <td>0.929927</td>\n      <td>0.824353</td>\n      <td>0.880705</td>\n      <td>0.880910</td>\n      <td>0.371492</td>\n      <td>0.904252</td>\n      <td>0.904755</td>\n      <td>0.512174</td>\n      <td>XGBClassifier(base_score=0.5, booster='gbtree'...</td>\n    </tr>\n    <tr>\n      <th>46</th>\n      <td>payroll_account</td>\n      <td>0.069884</td>\n      <td>2022-04-21 23:37:13.420288</td>\n      <td>False</td>\n      <td>0.993179</td>\n      <td>0.992358</td>\n      <td>0.993697</td>\n      <td>0.984287</td>\n      <td>0.983515</td>\n      <td>0.989983</td>\n      <td>0.894053</td>\n      <td>0.889364</td>\n      <td>0.923208</td>\n      <td>0.882627</td>\n      <td>0.876539</td>\n      <td>0.758766</td>\n      <td>0.888304</td>\n      <td>0.882905</td>\n      <td>0.832948</td>\n      <td>XGBClassifier(base_score=0.5, booster='gbtree'...</td>\n    </tr>\n    <tr>\n      <th>45</th>\n      <td>payroll_account</td>\n      <td>0.200000</td>\n      <td>2022-04-21 23:22:20.919549</td>\n      <td>False</td>\n      <td>0.993132</td>\n      <td>0.992240</td>\n      <td>0.993545</td>\n      <td>0.977216</td>\n      <td>0.976657</td>\n      <td>0.982182</td>\n      <td>0.949739</td>\n      <td>0.942956</td>\n      <td>0.960751</td>\n      <td>0.937183</td>\n      <td>0.940482</td>\n      <td>0.607991</td>\n      <td>0.943419</td>\n      <td>0.941717</td>\n      <td>0.744709</td>\n      <td>XGBClassifier(base_score=0.5, booster='gbtree'...</td>\n    </tr>\n    <tr>\n      <th>44</th>\n      <td>debit_card</td>\n      <td>0.133124</td>\n      <td>2022-04-21 20:27:58.650938</td>\n      <td>False</td>\n      <td>0.891347</td>\n      <td>0.889704</td>\n      <td>0.880581</td>\n      <td>0.878779</td>\n      <td>0.877681</td>\n      <td>0.942078</td>\n      <td>0.228552</td>\n      <td>0.223388</td>\n      <td>0.104441</td>\n      <td>0.621586</td>\n      <td>0.610988</td>\n      <td>0.243182</td>\n      <td>0.334215</td>\n      <td>0.327160</td>\n      <td>0.146125</td>\n      <td>XGBClassifier(base_score=0.5, booster='gbtree'...</td>\n    </tr>\n    <tr>\n      <th>43</th>\n      <td>em_acount</td>\n      <td>0.665269</td>\n      <td>2022-04-21 20:21:06.229094</td>\n      <td>False</td>\n      <td>0.922183</td>\n      <td>0.920140</td>\n      <td>0.885116</td>\n      <td>0.869104</td>\n      <td>0.869748</td>\n      <td>0.821487</td>\n      <td>0.929093</td>\n      <td>0.929927</td>\n      <td>0.824353</td>\n      <td>0.880705</td>\n      <td>0.880910</td>\n      <td>0.371492</td>\n      <td>0.904252</td>\n      <td>0.904755</td>\n      <td>0.512174</td>\n      <td>XGBClassifier(base_score=0.5, booster='gbtree'...</td>\n    </tr>\n    <tr>\n      <th>42</th>\n      <td>em_acount</td>\n      <td>0.665269</td>\n      <td>2022-04-21 18:48:47.042689</td>\n      <td>False</td>\n      <td>0.922183</td>\n      <td>0.920140</td>\n      <td>0.885116</td>\n      <td>0.869104</td>\n      <td>0.869748</td>\n      <td>0.821487</td>\n      <td>0.929093</td>\n      <td>0.929927</td>\n      <td>0.824353</td>\n      <td>0.880705</td>\n      <td>0.880910</td>\n      <td>0.371492</td>\n      <td>0.904252</td>\n      <td>0.904755</td>\n      <td>0.512174</td>\n      <td>XGBClassifier(base_score=0.5, booster='gbtree'...</td>\n    </tr>\n    <tr>\n      <th>41</th>\n      <td>em_acount</td>\n      <td>0.665269</td>\n      <td>2022-04-21 18:43:08.823390</td>\n      <td>False</td>\n      <td>0.922183</td>\n      <td>0.920140</td>\n      <td>0.885116</td>\n      <td>0.869104</td>\n      <td>0.869748</td>\n      <td>0.821487</td>\n      <td>0.929093</td>\n      <td>0.929927</td>\n      <td>0.824353</td>\n      <td>0.880705</td>\n      <td>0.880910</td>\n      <td>0.371492</td>\n      <td>0.904252</td>\n      <td>0.904755</td>\n      <td>0.512174</td>\n      <td>XGBClassifier(base_score=0.5, booster='gbtree'...</td>\n    </tr>\n    <tr>\n      <th>40</th>\n      <td>em_acount</td>\n      <td>0.665269</td>\n      <td>2022-04-21 18:25:32.773330</td>\n      <td>False</td>\n      <td>0.922183</td>\n      <td>0.920140</td>\n      <td>0.885116</td>\n      <td>0.869104</td>\n      <td>0.869748</td>\n      <td>0.821487</td>\n      <td>0.929093</td>\n      <td>0.929927</td>\n      <td>0.824353</td>\n      <td>0.880705</td>\n      <td>0.880910</td>\n      <td>0.371492</td>\n      <td>0.904252</td>\n      <td>0.904755</td>\n      <td>0.512174</td>\n      <td>XGBClassifier(base_score=0.5, booster='gbtree'...</td>\n    </tr>\n    <tr>\n      <th>39</th>\n      <td>em_acount</td>\n      <td>0.665269</td>\n      <td>2022-04-21 17:36:59.933970</td>\n      <td>False</td>\n      <td>0.922183</td>\n      <td>0.920140</td>\n      <td>0.885116</td>\n      <td>0.869104</td>\n      <td>0.869748</td>\n      <td>0.821487</td>\n      <td>0.929093</td>\n      <td>0.929927</td>\n      <td>0.824353</td>\n      <td>0.880705</td>\n      <td>0.880910</td>\n      <td>0.371492</td>\n      <td>0.904252</td>\n      <td>0.904755</td>\n      <td>0.512174</td>\n      <td>XGBClassifier(base_score=0.5, booster='gbtree'...</td>\n    </tr>\n    <tr>\n      <th>38</th>\n      <td>em_acount</td>\n      <td>0.713166</td>\n      <td>2022-04-21 17:13:54.007158</td>\n      <td>False</td>\n      <td>0.917798</td>\n      <td>0.913066</td>\n      <td>0.890219</td>\n      <td>0.873628</td>\n      <td>0.869721</td>\n      <td>0.804678</td>\n      <td>0.936804</td>\n      <td>0.934836</td>\n      <td>0.849802</td>\n      <td>0.891510</td>\n      <td>0.888333</td>\n      <td>0.418978</td>\n      <td>0.913596</td>\n      <td>0.910991</td>\n      <td>0.561245</td>\n      <td>XGBClassifier(base_score=0.5, booster='gbtree'...</td>\n    </tr>\n    <tr>\n      <th>37</th>\n      <td>em_acount</td>\n      <td>0.713166</td>\n      <td>2022-04-21 16:04:42.873906</td>\n      <td>False</td>\n      <td>0.917798</td>\n      <td>0.913066</td>\n      <td>0.890219</td>\n      <td>0.873628</td>\n      <td>0.869721</td>\n      <td>0.804678</td>\n      <td>0.936804</td>\n      <td>0.934836</td>\n      <td>0.849802</td>\n      <td>0.891510</td>\n      <td>0.888333</td>\n      <td>0.418978</td>\n      <td>0.913596</td>\n      <td>0.910991</td>\n      <td>0.561245</td>\n      <td>XGBClassifier(base_score=0.5, booster='gbtree'...</td>\n    </tr>\n    <tr>\n      <th>36</th>\n      <td>em_acount</td>\n      <td>0.713166</td>\n      <td>2022-04-21 02:48:32.746299</td>\n      <td>False</td>\n      <td>0.917798</td>\n      <td>0.913066</td>\n      <td>0.890219</td>\n      <td>0.873628</td>\n      <td>0.869721</td>\n      <td>0.804678</td>\n      <td>0.936804</td>\n      <td>0.934836</td>\n      <td>0.849802</td>\n      <td>0.891510</td>\n      <td>0.888333</td>\n      <td>0.418978</td>\n      <td>0.913596</td>\n      <td>0.910991</td>\n      <td>0.561245</td>\n      <td>XGBClassifier(base_score=0.5, booster='gbtree'...</td>\n    </tr>\n    <tr>\n      <th>35</th>\n      <td>em_acount</td>\n      <td>0.713166</td>\n      <td>2022-04-21 01:50:02.372919</td>\n      <td>False</td>\n      <td>0.917798</td>\n      <td>0.913066</td>\n      <td>0.890219</td>\n      <td>0.873628</td>\n      <td>0.869721</td>\n      <td>0.804678</td>\n      <td>0.936804</td>\n      <td>0.934836</td>\n      <td>0.849802</td>\n      <td>0.891510</td>\n      <td>0.888333</td>\n      <td>0.418978</td>\n      <td>0.913596</td>\n      <td>0.910991</td>\n      <td>0.561245</td>\n      <td>XGBClassifier(base_score=0.5, booster='gbtree'...</td>\n    </tr>\n    <tr>\n      <th>34</th>\n      <td>pension_plan</td>\n      <td>0.068753</td>\n      <td>2022-04-20 23:50:31.624870</td>\n      <td>False</td>\n      <td>0.998891</td>\n      <td>0.998951</td>\n      <td>0.998368</td>\n      <td>0.996409</td>\n      <td>0.996500</td>\n      <td>0.998398</td>\n      <td>0.956394</td>\n      <td>0.959035</td>\n      <td>0.961419</td>\n      <td>0.991068</td>\n      <td>0.989745</td>\n      <td>0.982729</td>\n      <td>0.973422</td>\n      <td>0.974148</td>\n      <td>0.971957</td>\n      <td>XGBClassifier(base_score=0.5, booster='gbtree'...</td>\n    </tr>\n    <tr>\n      <th>33</th>\n      <td>em_acount</td>\n      <td>0.713166</td>\n      <td>2022-04-20 02:12:32.469531</td>\n      <td>False</td>\n      <td>0.917798</td>\n      <td>0.913066</td>\n      <td>0.890219</td>\n      <td>0.873628</td>\n      <td>0.869721</td>\n      <td>0.804678</td>\n      <td>0.936804</td>\n      <td>0.934836</td>\n      <td>0.849802</td>\n      <td>0.891510</td>\n      <td>0.888333</td>\n      <td>0.418978</td>\n      <td>0.913596</td>\n      <td>0.910991</td>\n      <td>0.561245</td>\n      <td>XGBClassifier(base_score=0.5, booster='gbtree'...</td>\n    </tr>\n    <tr>\n      <th>32</th>\n      <td>em_acount</td>\n      <td>0.713166</td>\n      <td>2022-04-20 02:07:01.756063</td>\n      <td>False</td>\n      <td>0.917798</td>\n      <td>0.913066</td>\n      <td>0.890219</td>\n      <td>0.873628</td>\n      <td>0.869721</td>\n      <td>0.804678</td>\n      <td>0.936804</td>\n      <td>0.934836</td>\n      <td>0.849802</td>\n      <td>0.891510</td>\n      <td>0.888333</td>\n      <td>0.418978</td>\n      <td>0.913596</td>\n      <td>0.910991</td>\n      <td>0.561245</td>\n      <td>XGBClassifier(base_score=0.5, booster='gbtree'...</td>\n    </tr>\n    <tr>\n      <th>31</th>\n      <td>em_acount</td>\n      <td>0.713166</td>\n      <td>2022-04-20 01:57:10.998195</td>\n      <td>True</td>\n      <td>0.922127</td>\n      <td>0.915973</td>\n      <td>0.889479</td>\n      <td>0.876002</td>\n      <td>0.872020</td>\n      <td>0.809841</td>\n      <td>0.935952</td>\n      <td>0.933751</td>\n      <td>0.849405</td>\n      <td>0.894985</td>\n      <td>0.891872</td>\n      <td>0.426331</td>\n      <td>0.915010</td>\n      <td>0.912331</td>\n      <td>0.567715</td>\n      <td>XGBClassifier(base_score=0.5, booster='gbtree'...</td>\n    </tr>\n    <tr>\n      <th>30</th>\n      <td>em_acount</td>\n      <td>0.713166</td>\n      <td>2022-04-20 01:56:01.901725</td>\n      <td>False</td>\n      <td>0.917798</td>\n      <td>0.913066</td>\n      <td>0.890219</td>\n      <td>0.873628</td>\n      <td>0.869721</td>\n      <td>0.804678</td>\n      <td>0.936804</td>\n      <td>0.934836</td>\n      <td>0.849802</td>\n      <td>0.891510</td>\n      <td>0.888333</td>\n      <td>0.418978</td>\n      <td>0.913596</td>\n      <td>0.910991</td>\n      <td>0.561245</td>\n      <td>XGBClassifier(base_score=0.5, booster='gbtree'...</td>\n    </tr>\n    <tr>\n      <th>29</th>\n      <td>em_acount</td>\n      <td>0.713166</td>\n      <td>2022-04-20 01:53:14.166940</td>\n      <td>True</td>\n      <td>0.920217</td>\n      <td>0.914594</td>\n      <td>0.884882</td>\n      <td>0.876203</td>\n      <td>0.872053</td>\n      <td>0.807026</td>\n      <td>0.939683</td>\n      <td>0.937702</td>\n      <td>0.847222</td>\n      <td>0.892426</td>\n      <td>0.888975</td>\n      <td>0.422104</td>\n      <td>0.915445</td>\n      <td>0.912689</td>\n      <td>0.563473</td>\n      <td>XGBClassifier(base_score=0.5, booster='gbtree'...</td>\n    </tr>\n    <tr>\n      <th>28</th>\n      <td>em_acount</td>\n      <td>0.713166</td>\n      <td>2022-04-20 01:52:18.054503</td>\n      <td>False</td>\n      <td>0.914872</td>\n      <td>0.910887</td>\n      <td>0.887902</td>\n      <td>0.872031</td>\n      <td>0.869390</td>\n      <td>0.798262</td>\n      <td>0.940268</td>\n      <td>0.938787</td>\n      <td>0.851587</td>\n      <td>0.887068</td>\n      <td>0.885050</td>\n      <td>0.410305</td>\n      <td>0.912893</td>\n      <td>0.911127</td>\n      <td>0.553789</td>\n      <td>XGBClassifier(base_score=0.5, booster='gbtree'...</td>\n    </tr>\n    <tr>\n      <th>27</th>\n      <td>em_acount</td>\n      <td>0.713166</td>\n      <td>2022-04-20 01:51:21.201376</td>\n      <td>False</td>\n      <td>0.906244</td>\n      <td>0.903469</td>\n      <td>0.886973</td>\n      <td>0.865033</td>\n      <td>0.863599</td>\n      <td>0.775525</td>\n      <td>0.944204</td>\n      <td>0.943390</td>\n      <td>0.854563</td>\n      <td>0.876163</td>\n      <td>0.875095</td>\n      <td>0.382165</td>\n      <td>0.908912</td>\n      <td>0.907960</td>\n      <td>0.528142</td>\n      <td>XGBClassifier(base_score=0.5, booster='gbtree'...</td>\n    </tr>\n    <tr>\n      <th>26</th>\n      <td>em_acount</td>\n      <td>0.713166</td>\n      <td>2022-04-20 01:50:28.247576</td>\n      <td>False</td>\n      <td>0.893350</td>\n      <td>0.890877</td>\n      <td>0.873656</td>\n      <td>0.856023</td>\n      <td>0.855177</td>\n      <td>0.757777</td>\n      <td>0.946703</td>\n      <td>0.945637</td>\n      <td>0.856548</td>\n      <td>0.864340</td>\n      <td>0.864112</td>\n      <td>0.362819</td>\n      <td>0.903648</td>\n      <td>0.903038</td>\n      <td>0.509726</td>\n      <td>XGBClassifier(base_score=0.5, booster='gbtree'...</td>\n    </tr>\n    <tr>\n      <th>25</th>\n      <td>loans</td>\n      <td>0.000117</td>\n      <td>2022-04-20 00:42:58.087485</td>\n      <td>True</td>\n      <td>0.972083</td>\n      <td>0.952703</td>\n      <td>0.909384</td>\n      <td>0.999884</td>\n      <td>0.999880</td>\n      <td>0.999959</td>\n      <td>0.000000</td>\n      <td>0.000000</td>\n      <td>0.000000</td>\n      <td>0.000000</td>\n      <td>0.000000</td>\n      <td>0.000000</td>\n      <td>0.000000</td>\n      <td>0.000000</td>\n      <td>0.000000</td>\n      <td>XGBClassifier(base_score=0.5, booster='gbtree'...</td>\n    </tr>\n    <tr>\n      <th>24</th>\n      <td>loans</td>\n      <td>0.000117</td>\n      <td>2022-04-20 00:42:22.450407</td>\n      <td>True</td>\n      <td>0.990420</td>\n      <td>0.940317</td>\n      <td>0.898547</td>\n      <td>0.999884</td>\n      <td>0.999880</td>\n      <td>0.999959</td>\n      <td>0.000000</td>\n      <td>0.000000</td>\n      <td>0.000000</td>\n      <td>0.000000</td>\n      <td>0.000000</td>\n      <td>0.000000</td>\n      <td>0.000000</td>\n      <td>0.000000</td>\n      <td>0.000000</td>\n      <td>XGBClassifier(base_score=0.5, booster='gbtree'...</td>\n    </tr>\n    <tr>\n      <th>23</th>\n      <td>loans</td>\n      <td>0.003535</td>\n      <td>2022-04-19 14:30:22.818615</td>\n      <td>False</td>\n      <td>0.996429</td>\n      <td>0.999062</td>\n      <td>0.786278</td>\n      <td>0.998073</td>\n      <td>0.997281</td>\n      <td>0.957613</td>\n      <td>0.548387</td>\n      <td>0.500000</td>\n      <td>0.200000</td>\n      <td>0.850000</td>\n      <td>0.666667</td>\n      <td>0.000053</td>\n      <td>0.666667</td>\n      <td>0.571429</td>\n      <td>0.000106</td>\n      <td>XGBClassifier(base_score=0.5, booster='gbtree'...</td>\n    </tr>\n    <tr>\n      <th>22</th>\n      <td>payroll_account</td>\n      <td>0.527260</td>\n      <td>2022-04-19 14:23:21.434827</td>\n      <td>False</td>\n      <td>0.969723</td>\n      <td>0.967727</td>\n      <td>0.986638</td>\n      <td>0.938858</td>\n      <td>0.934025</td>\n      <td>0.969673</td>\n      <td>0.950993</td>\n      <td>0.947182</td>\n      <td>0.965364</td>\n      <td>0.934227</td>\n      <td>0.929068</td>\n      <td>0.203368</td>\n      <td>0.942535</td>\n      <td>0.938038</td>\n      <td>0.335960</td>\n      <td>XGBClassifier(base_score=0.5, booster='gbtree'...</td>\n    </tr>\n    <tr>\n      <th>21</th>\n      <td>payroll_account</td>\n      <td>0.527260</td>\n      <td>2022-04-19 14:22:25.153429</td>\n      <td>True</td>\n      <td>0.975096</td>\n      <td>0.968884</td>\n      <td>0.988755</td>\n      <td>0.940961</td>\n      <td>0.933745</td>\n      <td>0.973025</td>\n      <td>0.955335</td>\n      <td>0.949309</td>\n      <td>0.966252</td>\n      <td>0.934183</td>\n      <td>0.926804</td>\n      <td>0.223317</td>\n      <td>0.944640</td>\n      <td>0.937921</td>\n      <td>0.362788</td>\n      <td>XGBClassifier(base_score=0.5, booster='gbtree'...</td>\n    </tr>\n    <tr>\n      <th>20</th>\n      <td>payroll_account</td>\n      <td>0.527260</td>\n      <td>2022-04-19 14:18:41.533913</td>\n      <td>False</td>\n      <td>0.969723</td>\n      <td>0.967727</td>\n      <td>0.986638</td>\n      <td>0.938858</td>\n      <td>0.934025</td>\n      <td>0.969673</td>\n      <td>0.950993</td>\n      <td>0.947182</td>\n      <td>0.965364</td>\n      <td>0.934227</td>\n      <td>0.929068</td>\n      <td>0.203368</td>\n      <td>0.942535</td>\n      <td>0.938038</td>\n      <td>0.335960</td>\n      <td>XGBClassifier(base_score=0.5, booster='gbtree'...</td>\n    </tr>\n    <tr>\n      <th>19</th>\n      <td>em_acount</td>\n      <td>0.902959</td>\n      <td>2022-04-19 13:53:38.620842</td>\n      <td>False</td>\n      <td>0.911341</td>\n      <td>0.911024</td>\n      <td>0.786666</td>\n      <td>0.940705</td>\n      <td>0.940278</td>\n      <td>0.391374</td>\n      <td>0.987060</td>\n      <td>0.986936</td>\n      <td>0.869544</td>\n      <td>0.949290</td>\n      <td>0.948966</td>\n      <td>0.081871</td>\n      <td>0.967807</td>\n      <td>0.967579</td>\n      <td>0.149651</td>\n      <td>XGBClassifier(base_score=0.5, booster='gbtree'...</td>\n    </tr>\n    <tr>\n      <th>18</th>\n      <td>credit_card</td>\n      <td>0.372030</td>\n      <td>2022-04-18 22:47:26.637864</td>\n      <td>False</td>\n      <td>0.925318</td>\n      <td>0.928474</td>\n      <td>0.849117</td>\n      <td>0.868007</td>\n      <td>0.875239</td>\n      <td>0.664174</td>\n      <td>0.974507</td>\n      <td>0.966667</td>\n      <td>0.985014</td>\n      <td>0.747418</td>\n      <td>0.762001</td>\n      <td>0.004842</td>\n      <td>0.845988</td>\n      <td>0.852218</td>\n      <td>0.009636</td>\n      <td>XGBClassifier(base_score=0.5, booster='gbtree'...</td>\n    </tr>\n    <tr>\n      <th>17</th>\n      <td>credit_card</td>\n      <td>0.372030</td>\n      <td>2022-04-18 22:45:31.752794</td>\n      <td>False</td>\n      <td>0.925318</td>\n      <td>0.928474</td>\n      <td>0.849117</td>\n      <td>0.868007</td>\n      <td>0.875239</td>\n      <td>0.664174</td>\n      <td>0.974507</td>\n      <td>0.966667</td>\n      <td>0.985014</td>\n      <td>0.747418</td>\n      <td>0.762001</td>\n      <td>0.004842</td>\n      <td>0.845988</td>\n      <td>0.852218</td>\n      <td>0.009636</td>\n      <td>XGBClassifier(base_score=0.5, booster='gbtree'...</td>\n    </tr>\n    <tr>\n      <th>16</th>\n      <td>credit_card</td>\n      <td>0.372030</td>\n      <td>2022-04-18 22:43:48.283557</td>\n      <td>False</td>\n      <td>0.928810</td>\n      <td>0.929619</td>\n      <td>0.846679</td>\n      <td>0.876536</td>\n      <td>0.882634</td>\n      <td>0.699799</td>\n      <td>0.965689</td>\n      <td>0.953846</td>\n      <td>0.929155</td>\n      <td>0.764437</td>\n      <td>0.779874</td>\n      <td>0.005109</td>\n      <td>0.853358</td>\n      <td>0.858131</td>\n      <td>0.010163</td>\n      <td>XGBClassifier(base_score=0.5, booster='gbtree'...</td>\n    </tr>\n    <tr>\n      <th>15</th>\n      <td>credit_card</td>\n      <td>0.372030</td>\n      <td>2022-04-18 22:39:07.069281</td>\n      <td>True</td>\n      <td>0.928810</td>\n      <td>0.929619</td>\n      <td>0.846679</td>\n      <td>0.876536</td>\n      <td>0.882634</td>\n      <td>0.699799</td>\n      <td>0.965689</td>\n      <td>0.953846</td>\n      <td>0.929155</td>\n      <td>0.764437</td>\n      <td>0.779874</td>\n      <td>0.005109</td>\n      <td>0.853358</td>\n      <td>0.858131</td>\n      <td>0.010163</td>\n      <td>XGBClassifier(base_score=0.5, booster='gbtree'...</td>\n    </tr>\n    <tr>\n      <th>14</th>\n      <td>credit_card</td>\n      <td>0.372030</td>\n      <td>2022-04-18 22:38:38.014625</td>\n      <td>True</td>\n      <td>0.928810</td>\n      <td>0.929619</td>\n      <td>0.846679</td>\n      <td>0.876536</td>\n      <td>0.882634</td>\n      <td>0.699799</td>\n      <td>0.965689</td>\n      <td>0.953846</td>\n      <td>0.929155</td>\n      <td>0.764437</td>\n      <td>0.779874</td>\n      <td>0.005109</td>\n      <td>0.853358</td>\n      <td>0.858131</td>\n      <td>0.010163</td>\n      <td>XGBClassifier(base_score=0.5, booster='gbtree'...</td>\n    </tr>\n    <tr>\n      <th>13</th>\n      <td>credit_card</td>\n      <td>0.372030</td>\n      <td>2022-04-18 22:38:15.482890</td>\n      <td>True</td>\n      <td>0.928810</td>\n      <td>0.929619</td>\n      <td>0.846679</td>\n      <td>0.876536</td>\n      <td>0.882634</td>\n      <td>0.699799</td>\n      <td>0.965689</td>\n      <td>0.953846</td>\n      <td>0.929155</td>\n      <td>0.764437</td>\n      <td>0.779874</td>\n      <td>0.005109</td>\n      <td>0.853358</td>\n      <td>0.858131</td>\n      <td>0.010163</td>\n      <td>XGBClassifier(base_score=0.5, booster='gbtree'...</td>\n    </tr>\n    <tr>\n      <th>12</th>\n      <td>credit_card</td>\n      <td>0.372030</td>\n      <td>2022-04-18 22:36:28.349269</td>\n      <td>True</td>\n      <td>0.928810</td>\n      <td>0.929619</td>\n      <td>0.846679</td>\n      <td>0.876536</td>\n      <td>0.882634</td>\n      <td>0.699799</td>\n      <td>0.965689</td>\n      <td>0.953846</td>\n      <td>0.929155</td>\n      <td>0.764437</td>\n      <td>0.779874</td>\n      <td>0.005109</td>\n      <td>0.853358</td>\n      <td>0.858131</td>\n      <td>0.010163</td>\n      <td>XGBClassifier(base_score=0.5, booster='gbtree'...</td>\n    </tr>\n    <tr>\n      <th>11</th>\n      <td>credit_card</td>\n      <td>0.372030</td>\n      <td>2022-04-18 22:30:52.693904</td>\n      <td>True</td>\n      <td>0.928810</td>\n      <td>0.929619</td>\n      <td>0.846679</td>\n      <td>0.876536</td>\n      <td>0.882634</td>\n      <td>0.699799</td>\n      <td>0.965689</td>\n      <td>0.953846</td>\n      <td>0.929155</td>\n      <td>0.764437</td>\n      <td>0.779874</td>\n      <td>0.005109</td>\n      <td>0.853358</td>\n      <td>0.858131</td>\n      <td>0.010163</td>\n      <td>XGBClassifier(base_score=0.5, booster='gbtree'...</td>\n    </tr>\n    <tr>\n      <th>10</th>\n      <td>credit_card</td>\n      <td>0.372030</td>\n      <td>2022-04-18 22:28:49.000739</td>\n      <td>True</td>\n      <td>0.919372</td>\n      <td>0.922418</td>\n      <td>0.861859</td>\n      <td>0.863593</td>\n      <td>0.869990</td>\n      <td>0.622773</td>\n      <td>0.973385</td>\n      <td>0.967949</td>\n      <td>0.990463</td>\n      <td>0.741089</td>\n      <td>0.753117</td>\n      <td>0.004336</td>\n      <td>0.841500</td>\n      <td>0.847125</td>\n      <td>0.008634</td>\n      <td>XGBClassifier(base_score=0.5, booster='gbtree'...</td>\n    </tr>\n    <tr>\n      <th>9</th>\n      <td>credit_card</td>\n      <td>0.372030</td>\n      <td>2022-04-18 22:25:16.441363</td>\n      <td>True</td>\n      <td>0.929953</td>\n      <td>0.928669</td>\n      <td>0.838041</td>\n      <td>0.876595</td>\n      <td>0.883349</td>\n      <td>0.673768</td>\n      <td>0.968735</td>\n      <td>0.958333</td>\n      <td>0.950954</td>\n      <td>0.763264</td>\n      <td>0.779052</td>\n      <td>0.004813</td>\n      <td>0.853812</td>\n      <td>0.859442</td>\n      <td>0.009577</td>\n      <td>XGBClassifier(base_score=0.5, booster='gbtree'...</td>\n    </tr>\n    <tr>\n      <th>8</th>\n      <td>em_acount</td>\n      <td>0.902959</td>\n      <td>2022-04-18 21:37:34.200245</td>\n      <td>True</td>\n      <td>0.950644</td>\n      <td>0.917028</td>\n      <td>0.842160</td>\n      <td>0.951014</td>\n      <td>0.941496</td>\n      <td>0.396085</td>\n      <td>0.989435</td>\n      <td>0.984534</td>\n      <td>0.877083</td>\n      <td>0.957715</td>\n      <td>0.952290</td>\n      <td>0.083061</td>\n      <td>0.973317</td>\n      <td>0.968144</td>\n      <td>0.151751</td>\n      <td>Pipeline(steps=[('model',\\n                 XG...</td>\n    </tr>\n    <tr>\n      <th>7</th>\n      <td>em_acount</td>\n      <td>0.902959</td>\n      <td>2022-04-18 21:36:57.529114</td>\n      <td>True</td>\n      <td>0.950644</td>\n      <td>0.917028</td>\n      <td>0.842160</td>\n      <td>0.951014</td>\n      <td>0.941496</td>\n      <td>0.396085</td>\n      <td>0.989435</td>\n      <td>0.984534</td>\n      <td>0.877083</td>\n      <td>0.957715</td>\n      <td>0.952290</td>\n      <td>0.083061</td>\n      <td>0.973317</td>\n      <td>0.968144</td>\n      <td>0.151751</td>\n      <td>Pipeline(steps=[('model',\\n                 XG...</td>\n    </tr>\n    <tr>\n      <th>6</th>\n      <td>em_acount</td>\n      <td>0.902959</td>\n      <td>2022-04-18 21:05:19.893296</td>\n      <td>True</td>\n      <td>0.943407</td>\n      <td>0.917594</td>\n      <td>0.840527</td>\n      <td>0.948747</td>\n      <td>0.941930</td>\n      <td>0.392663</td>\n      <td>0.988265</td>\n      <td>0.984581</td>\n      <td>0.877976</td>\n      <td>0.956425</td>\n      <td>0.952692</td>\n      <td>0.082696</td>\n      <td>0.972084</td>\n      <td>0.968374</td>\n      <td>0.151155</td>\n      <td>Pipeline(steps=[('transform', StandardScaler()...</td>\n    </tr>\n    <tr>\n      <th>5</th>\n      <td>em_acount</td>\n      <td>0.902959</td>\n      <td>2022-04-18 20:38:26.636688</td>\n      <td>True</td>\n      <td>0.957649</td>\n      <td>0.916784</td>\n      <td>0.839633</td>\n      <td>0.953442</td>\n      <td>0.941146</td>\n      <td>0.395119</td>\n      <td>0.990388</td>\n      <td>0.984038</td>\n      <td>0.875298</td>\n      <td>0.959364</td>\n      <td>0.952367</td>\n      <td>0.082797</td>\n      <td>0.974629</td>\n      <td>0.967944</td>\n      <td>0.151283</td>\n      <td>Pipeline(steps=[('transform', StandardScaler()...</td>\n    </tr>\n    <tr>\n      <th>4</th>\n      <td>em_acount</td>\n      <td>0.902959</td>\n      <td>2022-04-18 20:23:43.724056</td>\n      <td>True</td>\n      <td>0.957649</td>\n      <td>0.916784</td>\n      <td>0.839633</td>\n      <td>0.953442</td>\n      <td>0.941146</td>\n      <td>0.395119</td>\n      <td>0.990388</td>\n      <td>0.984038</td>\n      <td>0.875298</td>\n      <td>0.959364</td>\n      <td>0.952367</td>\n      <td>0.082797</td>\n      <td>0.974629</td>\n      <td>0.967944</td>\n      <td>0.151283</td>\n      <td>Pipeline(steps=[('transform', StandardScaler()...</td>\n    </tr>\n    <tr>\n      <th>3</th>\n      <td>em_acount</td>\n      <td>0.902959</td>\n      <td>2022-04-18 19:48:39.551950</td>\n      <td>True</td>\n      <td>0.934908</td>\n      <td>0.918900</td>\n      <td>0.821716</td>\n      <td>0.945861</td>\n      <td>0.942223</td>\n      <td>0.403832</td>\n      <td>0.987192</td>\n      <td>0.985495</td>\n      <td>0.868750</td>\n      <td>0.954416</td>\n      <td>0.952191</td>\n      <td>0.083397</td>\n      <td>0.970527</td>\n      <td>0.968557</td>\n      <td>0.152184</td>\n      <td>Pipeline(steps=[('model',\\n                 XG...</td>\n    </tr>\n    <tr>\n      <th>2</th>\n      <td>em_acount</td>\n      <td>0.902959</td>\n      <td>2022-04-18 19:42:19.484523</td>\n      <td>True</td>\n      <td>0.934908</td>\n      <td>0.918900</td>\n      <td>0.821716</td>\n      <td>0.945861</td>\n      <td>0.942223</td>\n      <td>0.403832</td>\n      <td>0.987192</td>\n      <td>0.985495</td>\n      <td>0.868750</td>\n      <td>0.954416</td>\n      <td>0.952191</td>\n      <td>0.083397</td>\n      <td>0.970527</td>\n      <td>0.968557</td>\n      <td>0.152184</td>\n      <td>Pipeline(steps=[('model',\\n                 XG...</td>\n    </tr>\n    <tr>\n      <th>1</th>\n      <td>em_acount</td>\n      <td>0.902959</td>\n      <td>2022-04-18 19:28:11.646760</td>\n      <td>True</td>\n      <td>0.937089</td>\n      <td>0.919856</td>\n      <td>0.826957</td>\n      <td>0.946239</td>\n      <td>0.942811</td>\n      <td>0.396586</td>\n      <td>0.987455</td>\n      <td>0.986084</td>\n      <td>0.869147</td>\n      <td>0.954571</td>\n      <td>0.952275</td>\n      <td>0.082497</td>\n      <td>0.970735</td>\n      <td>0.968885</td>\n      <td>0.150691</td>\n      <td>Pipeline(steps=[('transform', StandardScaler()...</td>\n    </tr>\n    <tr>\n      <th>0</th>\n      <td>em_acount</td>\n      <td>0.902959</td>\n      <td>2022-04-18 19:21:05.434710</td>\n      <td>True</td>\n      <td>0.937089</td>\n      <td>0.919856</td>\n      <td>0.826957</td>\n      <td>0.946239</td>\n      <td>0.942811</td>\n      <td>0.396586</td>\n      <td>0.987455</td>\n      <td>0.986084</td>\n      <td>0.869147</td>\n      <td>0.954571</td>\n      <td>0.952275</td>\n      <td>0.082497</td>\n      <td>0.970735</td>\n      <td>0.968885</td>\n      <td>0.150691</td>\n      <td>Pipeline(steps=[('transform', StandardScaler()...</td>\n    </tr>\n  </tbody>\n</table>\n</div>"
     },
     "execution_count": 27,
     "metadata": {},
     "output_type": "execute_result"
    }
   ],
   "source": [
    "report_df = reporter.record_evaluation(TARGET, model, X_train, y_train, X_test, y_test, X_val, y_val,\n",
    "                                       train_df[TARGET].mean())\n",
    "report_df.sort_values(by=\"date\", ascending=False)"
   ],
   "metadata": {
    "pycharm": {
     "name": "#%%\n"
    },
    "id": "19to6EwjoA5A",
    "colab": {
     "base_uri": "https://localhost:8080/",
     "height": 355
    },
    "executionInfo": {
     "status": "error",
     "timestamp": 1650642031529,
     "user_tz": -120,
     "elapsed": 1537,
     "user": {
      "displayName": "nerea dominguez cabezas",
      "userId": "01946356256277218181"
     }
    },
    "outputId": "8256b23a-f550-492f-b7e0-81e6cc52af9a"
   }
  },
  {
   "cell_type": "markdown",
   "source": [
    "En estas gráficas aparecen las variables que más peso tienen y que más se repiten. **Weight:** cantidad de veces que esta variable aparece en el DT (entry_date_week)\n",
    "**Gain:** variables más influyentes (age)"
   ],
   "metadata": {
    "id": "yx8teNJkhjgt"
   }
  },
  {
   "cell_type": "code",
   "execution_count": 22,
   "outputs": [
    {
     "data": {
      "text/plain": "<AxesSubplot:title={'center':'Feature Importance (Gain)'}, xlabel='F score', ylabel='Features'>"
     },
     "execution_count": 22,
     "metadata": {},
     "output_type": "execute_result"
    },
    {
     "data": {
      "text/plain": "<Figure size 1800x504 with 2 Axes>",
      "image/png": "[encoded data removed]"
     },
     "metadata": {
      "needs_background": "light"
     },
     "output_type": "display_data"
    }
   ],
   "source": [
    "fig, (ax1, ax2) = plt.subplots(1, 2, figsize=(25, 7))\n",
    "# \"weight\" is the number of times a feature appears in a tree\n",
    "plot_importance(model, height=0.7, max_num_features=10, ax=ax1, importance_type=\"weight\",\n",
    "                title=\"Feature Importance (Weight)\")\n",
    "\n",
    "# \"gain\" is the average gain of splits which use the feature\n",
    "plot_importance(model, height=0.7, max_num_features=10, ax=ax2, importance_type=\"gain\",\n",
    "                title=\"Feature Importance (Gain)\")"
   ],
   "metadata": {
    "pycharm": {
     "name": "#%%\n"
    },
    "id": "Wj0Ys0G6oA5A",
    "colab": {
     "base_uri": "https://localhost:8080/",
     "height": 476
    },
    "executionInfo": {
     "status": "ok",
     "timestamp": 1650641455450,
     "user_tz": -120,
     "elapsed": 1124,
     "user": {
      "displayName": "nerea dominguez cabezas",
      "userId": "01946356256277218181"
     }
    },
    "outputId": "6f1b7e43-c263-4a42-cd5a-02cc4d6990a3"
   }
  },
  {
   "cell_type": "markdown",
   "source": [
    "En esta matriz podemos ver los TP, FP, TN, FN. Es decir, podemos ver cuál ha sido la predicción del modelo y si realmente esa predicción se ha cumplido o no. Vemos que el modelo se equivoca más a la hora de predecir los clientes que realmente no han comprado, pero el modelo piensa que si. Estos corresponden al cuadrante superior derecho de la confussion matrix. En cambio, existen 1865 clientes que el modelo ha predicho que no iban a comprar pero que realmente han comprado.\n",
    "\n",
    "A nivel de negocio nos interesa minimizar el número de Falsos Positivos, es decir aquellos clientes que el modelo ha predicho que iban a comprar pero no han comprado. Nuestro principal objetivo es ofrecer productos que se ajusten a las necesidades de los clientes y no enviar campañas que no sean de su interés porque esto puede causar la baja del cliente.\n",
    "\n",
    "Si la curva AUC es cercana al 1 nos dice que el modelo está prediciendo bien. Siempre se elige la mayor área bajo la curva."
   ],
   "metadata": {
    "id": "F7EFUohShqrC"
   }
  },
  {
   "cell_type": "code",
   "execution_count": 23,
   "outputs": [
    {
     "name": "stderr",
     "output_type": "stream",
     "text": [
      "C:\\Users\\alfre\\anaconda3\\lib\\site-packages\\sklearn\\metrics\\_ranking.py:949: UndefinedMetricWarning: No positive samples in y_true, true positive value should be meaningless\n",
      "  warnings.warn(\"No positive samples in y_true, \"\n"
     ]
    },
    {
     "data": {
      "text/plain": "<sklearn.metrics._plot.confusion_matrix.ConfusionMatrixDisplay at 0x22b5c945d60>"
     },
     "execution_count": 23,
     "metadata": {},
     "output_type": "execute_result"
    },
    {
     "data": {
      "text/plain": "<Figure size 1080x360 with 3 Axes>",
      "image/png": "[encoded data removed]"
     },
     "metadata": {
      "needs_background": "light"
     },
     "output_type": "display_data"
    }
   ],
   "source": [
    "fig, (ax1, ax2) = plt.subplots(1, 2, figsize=(15, 5))\n",
    "\n",
    "fpr, tpr, th = roc_curve(y_val, get_y_score(model, X_val, y_val))\n",
    "ax1.set_title(\"ROC Curve\")\n",
    "ax1.plot(fpr, tpr)\n",
    "ax1.plot([0, 1], [0, 1], linestyle=\"--\")\n",
    "ax1.set_xlabel('False Positive Rate')\n",
    "ax1.set_ylabel('True Positive Rate')\n",
    "\n",
    "plot_confusion_matrix(model, X_val, y_val, cmap=\"RdYlGn\", display_labels=[\"No compra\", \"Compra\"], ax=ax2)"
   ],
   "metadata": {
    "pycharm": {
     "name": "#%%\n"
    },
    "id": "NOBzH1LtoA5B",
    "colab": {
     "base_uri": "https://localhost:8080/",
     "height": 460
    },
    "executionInfo": {
     "status": "ok",
     "timestamp": 1650641461704,
     "user_tz": -120,
     "elapsed": 1323,
     "user": {
      "displayName": "nerea dominguez cabezas",
      "userId": "01946356256277218181"
     }
    },
    "outputId": "796ff8d7-9a05-4105-fe88-a15c6dbd4e51"
   }
  },
  {
   "cell_type": "code",
   "execution_count": 24,
   "outputs": [],
   "source": [
    "if not IS_RUNNING_LOCAL:\n",
    "    fig,ax=plt.subplots(figsize=(30,30))\n",
    "    plot_tree(model,num_trees=1,rankdir=\"LR\",ax=ax)\n",
    "    plt.show()"
   ],
   "metadata": {
    "pycharm": {
     "name": "#%%\n"
    },
    "id": "E0HupkSaoA5B",
    "colab": {
     "base_uri": "https://localhost:8080/",
     "height": 1000
    },
    "executionInfo": {
     "status": "error",
     "timestamp": 1650641627004,
     "user_tz": -120,
     "elapsed": 1831,
     "user": {
      "displayName": "nerea dominguez cabezas",
      "userId": "01946356256277218181"
     }
    },
    "outputId": "084171ab-764f-425d-f660-52f2fcc1f3de"
   }
  },
  {
   "cell_type": "markdown",
   "source": [
    "### Recomendations\n",
    "\n",
    "Exportamos en un csv los clientes que nuestro algoritmo ha predicho que comprarían y no lo han hecho, por lo tanto podemos recomendarle este producto. También hemos añadido un filtro para que nos descarte a las personas que tristemente han fallecido."
   ],
   "metadata": {
    "collapsed": false,
    "pycharm": {
     "name": "#%% md\n"
    },
    "id": "tnv3We4HoA5B"
   }
  },
  {
   "cell_type": "code",
   "execution_count": 25,
   "outputs": [
    {
     "data": {
      "text/plain": "        pk_cid  short_term_deposit pk_partition  active_customer  region_code  \\\n5        31365                   0   2019-05-28                1           28   \n7        33620                   0   2019-05-28                1           28   \n31       91532                   0   2019-05-28                1            8   \n34       97947                   0   2019-05-28                1           28   \n41      110831                   0   2019-05-28                1           28   \n...        ...                 ...          ...              ...          ...   \n43730  1553090                   0   2019-05-28                1           28   \n43963  1553389                   0   2019-05-28                1           28   \n43964  1553390                   0   2019-05-28                1           28   \n44082  1553541                   0   2019-05-28                1           49   \n44091  1553552                   0   2019-05-28                1           28   \n\n       gender  age  deceased  loans  mortgage  ...  country_id_RO  \\\n5           1   85         0      0         0  ...              0   \n7           1   51         0      0         0  ...              0   \n31          0   64         0      0         0  ...              0   \n34          0   69         0      0         0  ...              0   \n41          1   48         0      0         0  ...              0   \n...       ...  ...       ...    ...       ...  ...            ...   \n43730       0   75         0      0         0  ...              0   \n43963       0   60         0      0         0  ...              0   \n43964       1   63         0      0         0  ...              0   \n44082       0   54         0      0         0  ...              0   \n44091       1   35         0      0         0  ...              0   \n\n       country_id_RU  country_id_SA  country_id_SE  country_id_SN  \\\n5                  0              0              0              0   \n7                  0              0              0              0   \n31                 0              0              0              0   \n34                 0              0              0              0   \n41                 0              0              0              0   \n...              ...            ...            ...            ...   \n43730              0              0              0              0   \n43963              0              0              0              0   \n43964              0              0              0              0   \n44082              0              0              0              0   \n44091              0              0              0              0   \n\n       country_id_US  country_id_VE  prediction     score     product_to_sale  \n5                  0              0           1  0.717601  short_term_deposit  \n7                  0              0           1  0.769348  short_term_deposit  \n31                 0              0           1  0.565443  short_term_deposit  \n34                 0              0           1  0.880247  short_term_deposit  \n41                 0              0           1  0.577011  short_term_deposit  \n...              ...            ...         ...       ...                 ...  \n43730              0              0           1  0.542781  short_term_deposit  \n43963              0              0           1  0.557420  short_term_deposit  \n43964              0              0           1  0.551937  short_term_deposit  \n44082              0              0           1  0.532079  short_term_deposit  \n44091              0              0           1  0.634659  short_term_deposit  \n\n[1993 rows x 146 columns]",
      "text/html": "<div>\n<style scoped>\n    .dataframe tbody tr th:only-of-type {\n        vertical-align: middle;\n    }\n\n    .dataframe tbody tr th {\n        vertical-align: top;\n    }\n\n    .dataframe thead th {\n        text-align: right;\n    }\n</style>\n<table border=\"1\" class=\"dataframe\">\n  <thead>\n    <tr style=\"text-align: right;\">\n      <th></th>\n      <th>pk_cid</th>\n      <th>short_term_deposit</th>\n      <th>pk_partition</th>\n      <th>active_customer</th>\n      <th>region_code</th>\n      <th>gender</th>\n      <th>age</th>\n      <th>deceased</th>\n      <th>loans</th>\n      <th>mortgage</th>\n      <th>...</th>\n      <th>country_id_RO</th>\n      <th>country_id_RU</th>\n      <th>country_id_SA</th>\n      <th>country_id_SE</th>\n      <th>country_id_SN</th>\n      <th>country_id_US</th>\n      <th>country_id_VE</th>\n      <th>prediction</th>\n      <th>score</th>\n      <th>product_to_sale</th>\n    </tr>\n  </thead>\n  <tbody>\n    <tr>\n      <th>5</th>\n      <td>31365</td>\n      <td>0</td>\n      <td>2019-05-28</td>\n      <td>1</td>\n      <td>28</td>\n      <td>1</td>\n      <td>85</td>\n      <td>0</td>\n      <td>0</td>\n      <td>0</td>\n      <td>...</td>\n      <td>0</td>\n      <td>0</td>\n      <td>0</td>\n      <td>0</td>\n      <td>0</td>\n      <td>0</td>\n      <td>0</td>\n      <td>1</td>\n      <td>0.717601</td>\n      <td>short_term_deposit</td>\n    </tr>\n    <tr>\n      <th>7</th>\n      <td>33620</td>\n      <td>0</td>\n      <td>2019-05-28</td>\n      <td>1</td>\n      <td>28</td>\n      <td>1</td>\n      <td>51</td>\n      <td>0</td>\n      <td>0</td>\n      <td>0</td>\n      <td>...</td>\n      <td>0</td>\n      <td>0</td>\n      <td>0</td>\n      <td>0</td>\n      <td>0</td>\n      <td>0</td>\n      <td>0</td>\n      <td>1</td>\n      <td>0.769348</td>\n      <td>short_term_deposit</td>\n    </tr>\n    <tr>\n      <th>31</th>\n      <td>91532</td>\n      <td>0</td>\n      <td>2019-05-28</td>\n      <td>1</td>\n      <td>8</td>\n      <td>0</td>\n      <td>64</td>\n      <td>0</td>\n      <td>0</td>\n      <td>0</td>\n      <td>...</td>\n      <td>0</td>\n      <td>0</td>\n      <td>0</td>\n      <td>0</td>\n      <td>0</td>\n      <td>0</td>\n      <td>0</td>\n      <td>1</td>\n      <td>0.565443</td>\n      <td>short_term_deposit</td>\n    </tr>\n    <tr>\n      <th>34</th>\n      <td>97947</td>\n      <td>0</td>\n      <td>2019-05-28</td>\n      <td>1</td>\n      <td>28</td>\n      <td>0</td>\n      <td>69</td>\n      <td>0</td>\n      <td>0</td>\n      <td>0</td>\n      <td>...</td>\n      <td>0</td>\n      <td>0</td>\n      <td>0</td>\n      <td>0</td>\n      <td>0</td>\n      <td>0</td>\n      <td>0</td>\n      <td>1</td>\n      <td>0.880247</td>\n      <td>short_term_deposit</td>\n    </tr>\n    <tr>\n      <th>41</th>\n      <td>110831</td>\n      <td>0</td>\n      <td>2019-05-28</td>\n      <td>1</td>\n      <td>28</td>\n      <td>1</td>\n      <td>48</td>\n      <td>0</td>\n      <td>0</td>\n      <td>0</td>\n      <td>...</td>\n      <td>0</td>\n      <td>0</td>\n      <td>0</td>\n      <td>0</td>\n      <td>0</td>\n      <td>0</td>\n      <td>0</td>\n      <td>1</td>\n      <td>0.577011</td>\n      <td>short_term_deposit</td>\n    </tr>\n    <tr>\n      <th>...</th>\n      <td>...</td>\n      <td>...</td>\n      <td>...</td>\n      <td>...</td>\n      <td>...</td>\n      <td>...</td>\n      <td>...</td>\n      <td>...</td>\n      <td>...</td>\n      <td>...</td>\n      <td>...</td>\n      <td>...</td>\n      <td>...</td>\n      <td>...</td>\n      <td>...</td>\n      <td>...</td>\n      <td>...</td>\n      <td>...</td>\n      <td>...</td>\n      <td>...</td>\n      <td>...</td>\n    </tr>\n    <tr>\n      <th>43730</th>\n      <td>1553090</td>\n      <td>0</td>\n      <td>2019-05-28</td>\n      <td>1</td>\n      <td>28</td>\n      <td>0</td>\n      <td>75</td>\n      <td>0</td>\n      <td>0</td>\n      <td>0</td>\n      <td>...</td>\n      <td>0</td>\n      <td>0</td>\n      <td>0</td>\n      <td>0</td>\n      <td>0</td>\n      <td>0</td>\n      <td>0</td>\n      <td>1</td>\n      <td>0.542781</td>\n      <td>short_term_deposit</td>\n    </tr>\n    <tr>\n      <th>43963</th>\n      <td>1553389</td>\n      <td>0</td>\n      <td>2019-05-28</td>\n      <td>1</td>\n      <td>28</td>\n      <td>0</td>\n      <td>60</td>\n      <td>0</td>\n      <td>0</td>\n      <td>0</td>\n      <td>...</td>\n      <td>0</td>\n      <td>0</td>\n      <td>0</td>\n      <td>0</td>\n      <td>0</td>\n      <td>0</td>\n      <td>0</td>\n      <td>1</td>\n      <td>0.557420</td>\n      <td>short_term_deposit</td>\n    </tr>\n    <tr>\n      <th>43964</th>\n      <td>1553390</td>\n      <td>0</td>\n      <td>2019-05-28</td>\n      <td>1</td>\n      <td>28</td>\n      <td>1</td>\n      <td>63</td>\n      <td>0</td>\n      <td>0</td>\n      <td>0</td>\n      <td>...</td>\n      <td>0</td>\n      <td>0</td>\n      <td>0</td>\n      <td>0</td>\n      <td>0</td>\n      <td>0</td>\n      <td>0</td>\n      <td>1</td>\n      <td>0.551937</td>\n      <td>short_term_deposit</td>\n    </tr>\n    <tr>\n      <th>44082</th>\n      <td>1553541</td>\n      <td>0</td>\n      <td>2019-05-28</td>\n      <td>1</td>\n      <td>49</td>\n      <td>0</td>\n      <td>54</td>\n      <td>0</td>\n      <td>0</td>\n      <td>0</td>\n      <td>...</td>\n      <td>0</td>\n      <td>0</td>\n      <td>0</td>\n      <td>0</td>\n      <td>0</td>\n      <td>0</td>\n      <td>0</td>\n      <td>1</td>\n      <td>0.532079</td>\n      <td>short_term_deposit</td>\n    </tr>\n    <tr>\n      <th>44091</th>\n      <td>1553552</td>\n      <td>0</td>\n      <td>2019-05-28</td>\n      <td>1</td>\n      <td>28</td>\n      <td>1</td>\n      <td>35</td>\n      <td>0</td>\n      <td>0</td>\n      <td>0</td>\n      <td>...</td>\n      <td>0</td>\n      <td>0</td>\n      <td>0</td>\n      <td>0</td>\n      <td>0</td>\n      <td>0</td>\n      <td>0</td>\n      <td>1</td>\n      <td>0.634659</td>\n      <td>short_term_deposit</td>\n    </tr>\n  </tbody>\n</table>\n<p>1993 rows × 146 columns</p>\n</div>"
     },
     "execution_count": 25,
     "metadata": {},
     "output_type": "execute_result"
    }
   ],
   "source": [
    "potential_clients_df = validation_df.copy(deep=True)\n",
    "\n",
    "prediction = model.predict(X_val)\n",
    "potential_clients_df[\"prediction\"] = prediction\n",
    "\n",
    "y_score = get_y_score(model, X_val, y_val)\n",
    "potential_clients_df[\"score\"] = y_score\n",
    "\n",
    "potential_clients_df[\"product_to_sale\"] = TARGET\n",
    "\n",
    "potential_client_filter = (potential_clients_df[TARGET] == 0)\\\n",
    "                          & (potential_clients_df[\"prediction\"] == 1)\\\n",
    "                          & (potential_clients_df[\"deceased\"] == 0)\n",
    "\n",
    "potential_clients_df = potential_clients_df[potential_client_filter]\n",
    "potential_clients_df.to_csv(f\"{__POTENTIAL_CLIENTS_PATH__}/potential_clients__{TARGET}.csv\")\n",
    "potential_clients_df"
   ],
   "metadata": {
    "pycharm": {
     "name": "#%%\n"
    },
    "id": "dmhjsb0zoA5C",
    "colab": {
     "base_uri": "https://localhost:8080/",
     "height": 487
    },
    "executionInfo": {
     "status": "ok",
     "timestamp": 1650641919869,
     "user_tz": -120,
     "elapsed": 1590,
     "user": {
      "displayName": "nerea dominguez cabezas",
      "userId": "01946356256277218181"
     }
    },
    "outputId": "743056b7-d9df-48ae-9a0d-b5d3c11c0a15"
   }
  },
  {
   "cell_type": "markdown",
   "source": [
    "### Conclusions\n",
    "\n",
    "Últimas métricas, aquí vemos los resultados generales."
   ],
   "metadata": {
    "collapsed": false,
    "pycharm": {
     "name": "#%% md\n"
    },
    "id": "FKXPZSX3oA5C"
   }
  },
  {
   "cell_type": "code",
   "execution_count": 26,
   "outputs": [
    {
     "data": {
      "text/plain": "                                49\ntarget          short_term_deposit\ntarget_mean                    0.2\nroc_auc_test              0.973215\nroc_auc_val                    0.0\naccuracy_test             0.935575\naccuracy_val              0.954861\nrecall_test               0.864789\nrecall_val                     0.0\nprecision_test            0.822321\nprecision_val                  0.0\nf1_score_test             0.843021\nf1_score_val                   0.0",
      "text/html": "<div>\n<style scoped>\n    .dataframe tbody tr th:only-of-type {\n        vertical-align: middle;\n    }\n\n    .dataframe tbody tr th {\n        vertical-align: top;\n    }\n\n    .dataframe thead th {\n        text-align: right;\n    }\n</style>\n<table border=\"1\" class=\"dataframe\">\n  <thead>\n    <tr style=\"text-align: right;\">\n      <th></th>\n      <th>49</th>\n    </tr>\n  </thead>\n  <tbody>\n    <tr>\n      <th>target</th>\n      <td>short_term_deposit</td>\n    </tr>\n    <tr>\n      <th>target_mean</th>\n      <td>0.2</td>\n    </tr>\n    <tr>\n      <th>roc_auc_test</th>\n      <td>0.973215</td>\n    </tr>\n    <tr>\n      <th>roc_auc_val</th>\n      <td>0.0</td>\n    </tr>\n    <tr>\n      <th>accuracy_test</th>\n      <td>0.935575</td>\n    </tr>\n    <tr>\n      <th>accuracy_val</th>\n      <td>0.954861</td>\n    </tr>\n    <tr>\n      <th>recall_test</th>\n      <td>0.864789</td>\n    </tr>\n    <tr>\n      <th>recall_val</th>\n      <td>0.0</td>\n    </tr>\n    <tr>\n      <th>precision_test</th>\n      <td>0.822321</td>\n    </tr>\n    <tr>\n      <th>precision_val</th>\n      <td>0.0</td>\n    </tr>\n    <tr>\n      <th>f1_score_test</th>\n      <td>0.843021</td>\n    </tr>\n    <tr>\n      <th>f1_score_val</th>\n      <td>0.0</td>\n    </tr>\n  </tbody>\n</table>\n</div>"
     },
     "execution_count": 26,
     "metadata": {},
     "output_type": "execute_result"
    }
   ],
   "source": [
    "columns = [\n",
    "    \"target\",\n",
    "    \"target_mean\",\n",
    "    \"roc_auc_test\",\n",
    "    \"roc_auc_val\",\n",
    "    \"accuracy_test\",\n",
    "    \"accuracy_val\",\n",
    "    \"recall_test\",\n",
    "    \"recall_val\",\n",
    "    \"precision_test\",\n",
    "    \"precision_val\",\n",
    "    \"f1_score_test\",\n",
    "    \"f1_score_val\",\n",
    "]\n",
    "report_df.tail(1)[columns].T"
   ],
   "metadata": {
    "pycharm": {
     "name": "#%%\n"
    },
    "id": "K2bh8MmioA5C",
    "colab": {
     "base_uri": "https://localhost:8080/",
     "height": 206
    },
    "executionInfo": {
     "status": "error",
     "timestamp": 1650642012635,
     "user_tz": -120,
     "elapsed": 296,
     "user": {
      "displayName": "nerea dominguez cabezas",
      "userId": "01946356256277218181"
     }
    },
    "outputId": "d9921912-9cd0-4a5c-a61b-ed455f7a84dc"
   }
  },
  {
   "cell_type": "code",
   "execution_count": 26,
   "outputs": [],
   "source": [
    ""
   ],
   "metadata": {
    "pycharm": {
     "name": "#%%\n"
    },
    "id": "BnhYqovaoA5D"
   }
  }
 ],
 "metadata": {
  "kernelspec": {
   "display_name": "Python 3",
   "language": "python",
   "name": "python3"
  },
  "language_info": {
   "codemirror_mode": {
    "name": "ipython",
    "version": 2
   },
   "file_extension": ".py",
   "mimetype": "text/x-python",
   "name": "python",
   "nbconvert_exporter": "python",
   "pygments_lexer": "ipython2",
   "version": "2.7.6"
  },
  "colab": {
   "name": "Classification/samplin-short_term_deposit.ipynb",
   "provenance": [
    {
     "file_id": "1jWI5eMf8dkXMpEmuugFByKP3C87IPlYl",
     "timestamp": 1650640709322
    },
    {
     "file_id": "https://github.com/AlfredoMarino/easy-money/blob/main/notebooks/classification/1.0-classification-em-acount.ipynb",
     "timestamp": 1650622551172
    }
   ],
   "collapsed_sections": []
  }
 },
 "nbformat": 4,
 "nbformat_minor": 0
}