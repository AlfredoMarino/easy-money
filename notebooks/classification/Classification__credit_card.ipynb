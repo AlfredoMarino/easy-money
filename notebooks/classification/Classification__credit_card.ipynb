{
 "cells": [
  {
   "cell_type": "markdown",
   "source": [
    "# Easy Money - Classification"
   ],
   "metadata": {
    "collapsed": false,
    "pycharm": {
     "name": "#%% md\n"
    },
    "id": "raAhUG7KoA4g"
   }
  },
  {
   "cell_type": "code",
   "execution_count": 2,
   "metadata": {
    "collapsed": true,
    "id": "VyoKMqDVoA4m"
   },
   "outputs": [],
   "source": [
    "import pandas as pd\n",
    "import numpy as np\n",
    "import matplotlib.pyplot as plt\n",
    "import seaborn as sns\n",
    "\n",
    "from sklearn.metrics import accuracy_score, precision_score, recall_score, f1_score, roc_auc_score, roc_curve,\\\n",
    "    plot_confusion_matrix\n",
    "from sklearn.base import BaseEstimator, TransformerMixin\n",
    "from sklearn.model_selection import train_test_split\n",
    "\n",
    "from datetime import datetime\n",
    "from xgboost import XGBClassifier, plot_importance\n",
    "from xgboost import plot_tree"
   ]
  },
  {
   "cell_type": "markdown",
   "source": [
    "## Configurations"
   ],
   "metadata": {
    "collapsed": false,
    "pycharm": {
     "name": "#%% md\n"
    },
    "id": "uvokKYqgoA4q"
   }
  },
  {
   "cell_type": "markdown",
   "source": [
    "\n",
    "Para la validación solo dejamos el último mes, porque es el mes que nos interesa para la recomendación de productos. Para desarrollo (train+test) - 16 meses Train: 80% de esos 16 meses Test: 20% random Validación: último mes"
   ],
   "metadata": {
    "id": "kDM7AbN9-ULy"
   }
  },
  {
   "cell_type": "code",
   "execution_count": 3,
   "outputs": [],
   "source": [
    "TARGET = \"credit_card\"\n",
    "\n",
    "__DATA_PATH__ = \"../../data\"\n",
    "__DATASET__ = f\"{__DATA_PATH__}/processed/easy_money_classification_prep.csv\"\n",
    "__MODEL_METRICS_REPORT__ = f\"{__DATA_PATH__}/result/model_metrics.csv\"\n",
    "__POTENTIAL_CLIENTS_PATH__ = f\"{__DATA_PATH__}/result/potential_clients\"\n",
    "\n",
    "DEV_PARTITION_PERIOD = (\"2018-01-28\", \"2019-04-28\")\n",
    "VAL_PARTITION_PERIOD = (\"2019-05-28\", \"2019-05-28\")\n",
    "\n",
    "EXCLUDE_COLUMNS = [\"pk_cid\", \"pk_partition\"]\n",
    "RANDOM_STATE = 123\n",
    "DO_UNDER_SAMPLING = True"
   ],
   "metadata": {
    "pycharm": {
     "name": "#%%\n"
    },
    "id": "EZUjoXQ1oA4r"
   }
  },
  {
   "cell_type": "markdown",
   "source": [
    "## Import data"
   ],
   "metadata": {
    "collapsed": false,
    "pycharm": {
     "name": "#%% md\n"
    },
    "id": "7Lec5UZ4oA4s"
   }
  },
  {
   "cell_type": "code",
   "execution_count": 4,
   "outputs": [],
   "source": [
    "dtypes = {'pk_cid': 'int64', 'active_customer': 'int8',\n",
    "          'region_code': 'int8', 'gender': 'int8', 'age': 'int8', 'deceased': 'int8',\n",
    "          'short_term_deposit': 'int8', 'loans': 'int8', 'mortgage': 'int8',\n",
    "          'funds': 'int8', 'securities': 'int8', 'long_term_deposit': 'int8',\n",
    "          'em_account_pp': 'int8', 'credit_card': 'int8', 'payroll': 'int8',\n",
    "          'pension_plan': 'int8', 'payroll_account': 'int8', 'emc_account': 'int8',\n",
    "          'debit_card': 'int8', 'em_account_p': 'int8', 'em_acount': 'int8',\n",
    "          'entry_date_month': 'int8', 'entry_date_year': 'int8', 'entry_date_day': 'int8',\n",
    "          'entry_date_week': 'int8', 'entry_date_weekday': 'int8', 'entry_date_trim': 'int8',\n",
    "          'salary': 'float64', 'entry_channel_004': 'int8', 'entry_channel_007': 'int8',\n",
    "          'entry_channel_013': 'int8', 'entry_channel_KAA': 'int8', 'entry_channel_KAB': 'int8',\n",
    "          'entry_channel_KAD': 'int8', 'entry_channel_KAE': 'int8', 'entry_channel_KAF': 'int8',\n",
    "          'entry_channel_KAG': 'int8', 'entry_channel_KAH': 'int8', 'entry_channel_KAI': 'int8',\n",
    "          'entry_channel_KAJ': 'int8', 'entry_channel_KAK': 'int8', 'entry_channel_KAM': 'int8',\n",
    "          'entry_channel_KAQ': 'int8', 'entry_channel_KAR': 'int8', 'entry_channel_KAS': 'int8',\n",
    "          'entry_channel_KAT': 'int8', 'entry_channel_KAW': 'int8', 'entry_channel_KAY': 'int8',\n",
    "          'entry_channel_KAZ': 'int8', 'entry_channel_KBE': 'int8', 'entry_channel_KBG': 'int8',\n",
    "          'entry_channel_KBH': 'int8', 'entry_channel_KBO': 'int8', 'entry_channel_KBU': 'int8',\n",
    "          'entry_channel_KBW': 'int8', 'entry_channel_KBY': 'int8', 'entry_channel_KBZ': 'int8',\n",
    "          'entry_channel_KCB': 'int8', 'entry_channel_KCC': 'int8', 'entry_channel_KCH': 'int8',\n",
    "          'entry_channel_KCI': 'int8', 'entry_channel_KCK': 'int8', 'entry_channel_KCL': 'int8',\n",
    "          'entry_channel_KDA': 'int8', 'entry_channel_KDH': 'int8', 'entry_channel_KDR': 'int8',\n",
    "          'entry_channel_KDS': 'int8', 'entry_channel_KDT': 'int8', 'entry_channel_KEH': 'int8',\n",
    "          'entry_channel_KEJ': 'int8', 'entry_channel_KES': 'int8', 'entry_channel_KEY': 'int8',\n",
    "          'entry_channel_KFA': 'int8', 'entry_channel_KFC': 'int8', 'entry_channel_KFD': 'int8',\n",
    "          'entry_channel_KFF': 'int8', 'entry_channel_KFK': 'int8', 'entry_channel_KFL': 'int8',\n",
    "          'entry_channel_KFP': 'int8', 'entry_channel_KFS': 'int8', 'entry_channel_KGC': 'int8',\n",
    "          'entry_channel_KGN': 'int8', 'entry_channel_KGX': 'int8', 'entry_channel_KHC': 'int8',\n",
    "          'entry_channel_KHD': 'int8', 'entry_channel_KHE': 'int8', 'entry_channel_KHF': 'int8',\n",
    "          'entry_channel_KHK': 'int8', 'entry_channel_KHL': 'int8', 'entry_channel_KHM': 'int8',\n",
    "          'entry_channel_KHN': 'int8', 'entry_channel_KHO': 'int8', 'entry_channel_KHP': 'int8',\n",
    "          'entry_channel_KHQ': 'int8', 'entry_channel_KHS': 'int8', 'entry_channel_RED': 'int8',\n",
    "          'entry_channel_UNKNOWN': 'int8', 'segment_00 - OTROS': 'int8',\n",
    "          'segment_01 - TOP': 'int8', 'segment_02 - PARTICULARES': 'int8',\n",
    "          'segment_03 - UNIVERSITARIO': 'int8', 'country_id_AR': 'int8', 'country_id_AT': 'int8',\n",
    "          'country_id_BE': 'int8', 'country_id_BR': 'int8', 'country_id_CA': 'int8',\n",
    "          'country_id_CH': 'int8', 'country_id_CI': 'int8', 'country_id_CL': 'int8',\n",
    "          'country_id_CM': 'int8', 'country_id_CN': 'int8', 'country_id_CO': 'int8',\n",
    "          'country_id_DE': 'int8', 'country_id_DJ': 'int8', 'country_id_DO': 'int8',\n",
    "          'country_id_DZ': 'int8', 'country_id_ES': 'int8', 'country_id_ET': 'int8',\n",
    "          'country_id_FR': 'int8', 'country_id_GA': 'int8', 'country_id_GB': 'int8',\n",
    "          'country_id_GT': 'int8', 'country_id_HU': 'int8', 'country_id_IE': 'int8',\n",
    "          'country_id_IT': 'int8', 'country_id_JM': 'int8', 'country_id_LU': 'int8',\n",
    "          'country_id_MA': 'int8', 'country_id_MR': 'int8', 'country_id_MX': 'int8',\n",
    "          'country_id_NO': 'int8', 'country_id_PE': 'int8', 'country_id_PL': 'int8',\n",
    "          'country_id_PT': 'int8', 'country_id_QA': 'int8', 'country_id_RO': 'int8',\n",
    "          'country_id_RU': 'int8', 'country_id_SA': 'int8', 'country_id_SE': 'int8',\n",
    "          'country_id_SN': 'int8', 'country_id_US': 'int8', 'country_id_VE': 'int8'}\n",
    "\n",
    "parse_dates = ['pk_partition']"
   ],
   "metadata": {
    "pycharm": {
     "name": "#%%\n"
    },
    "id": "D7pC2TbNoA4s"
   }
  },
  {
   "cell_type": "code",
   "execution_count": 5,
   "outputs": [
    {
     "name": "stdout",
     "output_type": "stream",
     "text": [
      "<class 'pandas.core.frame.DataFrame'>\n",
      "RangeIndex: 5962838 entries, 0 to 5962837\n",
      "Columns: 143 entries, pk_cid to country_id_VE\n",
      "dtypes: datetime64[ns](1), float64(1), int64(1), int8(140)\n",
      "memory usage: 932.6 MB\n",
      "Wall time: 50.8 s\n"
     ]
    }
   ],
   "source": [
    "%%time\n",
    "df = pd.read_csv(__DATASET__, dtype=dtypes, parse_dates=parse_dates)\n",
    "df.drop(\"Unnamed: 0\", axis=1, inplace=True)\n",
    "df.drop(\"entry_date\", axis=1, inplace=True)\n",
    "df[\"pk_partition\"] = pd.to_datetime(df[\"pk_partition\"])\n",
    "df.info(memory_usage=\"deep\")"
   ],
   "metadata": {
    "pycharm": {
     "name": "#%%\n"
    },
    "id": "4EGxt0LsoA4v",
    "executionInfo": {
     "status": "ok",
     "timestamp": 1650721005195,
     "user_tz": -120,
     "elapsed": 69884,
     "user": {
      "displayName": "nerea dominguez cabezas",
      "userId": "01946356256277218181"
     }
    },
    "colab": {
     "base_uri": "https://localhost:8080/"
    },
    "outputId": "ff36a811-af3f-41fb-af76-b21684ade8c0"
   }
  },
  {
   "cell_type": "code",
   "execution_count": 6,
   "outputs": [
    {
     "data": {
      "text/plain": "    pk_cid pk_partition  active_customer  region_code  gender  age  deceased  \\\n0    15891   2018-07-28                1           28       1   59         0   \n1    15891   2018-08-28                0           28       1   59         0   \n2    16063   2018-11-28                1           28       1   62         0   \n3    16063   2018-12-28                1           28       1   62         0   \n4    16063   2019-01-28                1           28       1   62         0   \n5    16063   2019-02-28                1           28       1   62         0   \n6    16063   2019-03-28                0           28       1   62         0   \n7    16063   2019-04-28                1           28       1   62         0   \n8    16063   2019-05-28                0           28       1   62         0   \n9    16203   2018-12-28                0            8       0   70         0   \n10   16203   2019-01-28                1            8       0   70         0   \n11   16203   2019-02-28                1            8       0   70         0   \n12   16203   2019-03-28                1            8       0   70         0   \n13   16203   2019-04-28                1            8       0   70         0   \n14   16203   2019-05-28                1            8       0   70         0   \n15   16502   2018-09-28                0           28       1   57         0   \n16   16502   2018-10-28                1           28       1   58         0   \n17   16502   2018-11-28                1           28       1   58         0   \n18   16502   2018-12-28                1           28       1   58         0   \n19   16502   2019-01-28                1           28       1   58         0   \n\n    short_term_deposit  loans  mortgage  ...  country_id_PL  country_id_PT  \\\n0                    0      0         0  ...              0              0   \n1                    0      0         0  ...              0              0   \n2                    0      0         0  ...              0              0   \n3                    0      0         0  ...              0              0   \n4                    0      0         0  ...              0              0   \n5                    0      0         0  ...              0              0   \n6                    0      0         0  ...              0              0   \n7                    0      0         0  ...              0              0   \n8                    0      0         0  ...              0              0   \n9                    0      0         0  ...              0              0   \n10                   0      0         0  ...              0              0   \n11                   0      0         0  ...              0              0   \n12                   0      0         0  ...              0              0   \n13                   0      0         0  ...              0              0   \n14                   0      0         0  ...              0              0   \n15                   0      0         0  ...              0              0   \n16                   0      0         0  ...              0              0   \n17                   0      0         0  ...              0              0   \n18                   0      0         0  ...              0              0   \n19                   0      0         0  ...              0              0   \n\n    country_id_QA  country_id_RO  country_id_RU  country_id_SA  country_id_SE  \\\n0               0              0              0              0              0   \n1               0              0              0              0              0   \n2               0              0              0              0              0   \n3               0              0              0              0              0   \n4               0              0              0              0              0   \n5               0              0              0              0              0   \n6               0              0              0              0              0   \n7               0              0              0              0              0   \n8               0              0              0              0              0   \n9               0              0              0              0              0   \n10              0              0              0              0              0   \n11              0              0              0              0              0   \n12              0              0              0              0              0   \n13              0              0              0              0              0   \n14              0              0              0              0              0   \n15              0              0              0              0              0   \n16              0              0              0              0              0   \n17              0              0              0              0              0   \n18              0              0              0              0              0   \n19              0              0              0              0              0   \n\n    country_id_SN  country_id_US  country_id_VE  \n0               0              0              0  \n1               0              0              0  \n2               0              0              0  \n3               0              0              0  \n4               0              0              0  \n5               0              0              0  \n6               0              0              0  \n7               0              0              0  \n8               0              0              0  \n9               0              0              0  \n10              0              0              0  \n11              0              0              0  \n12              0              0              0  \n13              0              0              0  \n14              0              0              0  \n15              0              0              0  \n16              0              0              0  \n17              0              0              0  \n18              0              0              0  \n19              0              0              0  \n\n[20 rows x 143 columns]",
      "text/html": "<div>\n<style scoped>\n    .dataframe tbody tr th:only-of-type {\n        vertical-align: middle;\n    }\n\n    .dataframe tbody tr th {\n        vertical-align: top;\n    }\n\n    .dataframe thead th {\n        text-align: right;\n    }\n</style>\n<table border=\"1\" class=\"dataframe\">\n  <thead>\n    <tr style=\"text-align: right;\">\n      <th></th>\n      <th>pk_cid</th>\n      <th>pk_partition</th>\n      <th>active_customer</th>\n      <th>region_code</th>\n      <th>gender</th>\n      <th>age</th>\n      <th>deceased</th>\n      <th>short_term_deposit</th>\n      <th>loans</th>\n      <th>mortgage</th>\n      <th>...</th>\n      <th>country_id_PL</th>\n      <th>country_id_PT</th>\n      <th>country_id_QA</th>\n      <th>country_id_RO</th>\n      <th>country_id_RU</th>\n      <th>country_id_SA</th>\n      <th>country_id_SE</th>\n      <th>country_id_SN</th>\n      <th>country_id_US</th>\n      <th>country_id_VE</th>\n    </tr>\n  </thead>\n  <tbody>\n    <tr>\n      <th>0</th>\n      <td>15891</td>\n      <td>2018-07-28</td>\n      <td>1</td>\n      <td>28</td>\n      <td>1</td>\n      <td>59</td>\n      <td>0</td>\n      <td>0</td>\n      <td>0</td>\n      <td>0</td>\n      <td>...</td>\n      <td>0</td>\n      <td>0</td>\n      <td>0</td>\n      <td>0</td>\n      <td>0</td>\n      <td>0</td>\n      <td>0</td>\n      <td>0</td>\n      <td>0</td>\n      <td>0</td>\n    </tr>\n    <tr>\n      <th>1</th>\n      <td>15891</td>\n      <td>2018-08-28</td>\n      <td>0</td>\n      <td>28</td>\n      <td>1</td>\n      <td>59</td>\n      <td>0</td>\n      <td>0</td>\n      <td>0</td>\n      <td>0</td>\n      <td>...</td>\n      <td>0</td>\n      <td>0</td>\n      <td>0</td>\n      <td>0</td>\n      <td>0</td>\n      <td>0</td>\n      <td>0</td>\n      <td>0</td>\n      <td>0</td>\n      <td>0</td>\n    </tr>\n    <tr>\n      <th>2</th>\n      <td>16063</td>\n      <td>2018-11-28</td>\n      <td>1</td>\n      <td>28</td>\n      <td>1</td>\n      <td>62</td>\n      <td>0</td>\n      <td>0</td>\n      <td>0</td>\n      <td>0</td>\n      <td>...</td>\n      <td>0</td>\n      <td>0</td>\n      <td>0</td>\n      <td>0</td>\n      <td>0</td>\n      <td>0</td>\n      <td>0</td>\n      <td>0</td>\n      <td>0</td>\n      <td>0</td>\n    </tr>\n    <tr>\n      <th>3</th>\n      <td>16063</td>\n      <td>2018-12-28</td>\n      <td>1</td>\n      <td>28</td>\n      <td>1</td>\n      <td>62</td>\n      <td>0</td>\n      <td>0</td>\n      <td>0</td>\n      <td>0</td>\n      <td>...</td>\n      <td>0</td>\n      <td>0</td>\n      <td>0</td>\n      <td>0</td>\n      <td>0</td>\n      <td>0</td>\n      <td>0</td>\n      <td>0</td>\n      <td>0</td>\n      <td>0</td>\n    </tr>\n    <tr>\n      <th>4</th>\n      <td>16063</td>\n      <td>2019-01-28</td>\n      <td>1</td>\n      <td>28</td>\n      <td>1</td>\n      <td>62</td>\n      <td>0</td>\n      <td>0</td>\n      <td>0</td>\n      <td>0</td>\n      <td>...</td>\n      <td>0</td>\n      <td>0</td>\n      <td>0</td>\n      <td>0</td>\n      <td>0</td>\n      <td>0</td>\n      <td>0</td>\n      <td>0</td>\n      <td>0</td>\n      <td>0</td>\n    </tr>\n    <tr>\n      <th>5</th>\n      <td>16063</td>\n      <td>2019-02-28</td>\n      <td>1</td>\n      <td>28</td>\n      <td>1</td>\n      <td>62</td>\n      <td>0</td>\n      <td>0</td>\n      <td>0</td>\n      <td>0</td>\n      <td>...</td>\n      <td>0</td>\n      <td>0</td>\n      <td>0</td>\n      <td>0</td>\n      <td>0</td>\n      <td>0</td>\n      <td>0</td>\n      <td>0</td>\n      <td>0</td>\n      <td>0</td>\n    </tr>\n    <tr>\n      <th>6</th>\n      <td>16063</td>\n      <td>2019-03-28</td>\n      <td>0</td>\n      <td>28</td>\n      <td>1</td>\n      <td>62</td>\n      <td>0</td>\n      <td>0</td>\n      <td>0</td>\n      <td>0</td>\n      <td>...</td>\n      <td>0</td>\n      <td>0</td>\n      <td>0</td>\n      <td>0</td>\n      <td>0</td>\n      <td>0</td>\n      <td>0</td>\n      <td>0</td>\n      <td>0</td>\n      <td>0</td>\n    </tr>\n    <tr>\n      <th>7</th>\n      <td>16063</td>\n      <td>2019-04-28</td>\n      <td>1</td>\n      <td>28</td>\n      <td>1</td>\n      <td>62</td>\n      <td>0</td>\n      <td>0</td>\n      <td>0</td>\n      <td>0</td>\n      <td>...</td>\n      <td>0</td>\n      <td>0</td>\n      <td>0</td>\n      <td>0</td>\n      <td>0</td>\n      <td>0</td>\n      <td>0</td>\n      <td>0</td>\n      <td>0</td>\n      <td>0</td>\n    </tr>\n    <tr>\n      <th>8</th>\n      <td>16063</td>\n      <td>2019-05-28</td>\n      <td>0</td>\n      <td>28</td>\n      <td>1</td>\n      <td>62</td>\n      <td>0</td>\n      <td>0</td>\n      <td>0</td>\n      <td>0</td>\n      <td>...</td>\n      <td>0</td>\n      <td>0</td>\n      <td>0</td>\n      <td>0</td>\n      <td>0</td>\n      <td>0</td>\n      <td>0</td>\n      <td>0</td>\n      <td>0</td>\n      <td>0</td>\n    </tr>\n    <tr>\n      <th>9</th>\n      <td>16203</td>\n      <td>2018-12-28</td>\n      <td>0</td>\n      <td>8</td>\n      <td>0</td>\n      <td>70</td>\n      <td>0</td>\n      <td>0</td>\n      <td>0</td>\n      <td>0</td>\n      <td>...</td>\n      <td>0</td>\n      <td>0</td>\n      <td>0</td>\n      <td>0</td>\n      <td>0</td>\n      <td>0</td>\n      <td>0</td>\n      <td>0</td>\n      <td>0</td>\n      <td>0</td>\n    </tr>\n    <tr>\n      <th>10</th>\n      <td>16203</td>\n      <td>2019-01-28</td>\n      <td>1</td>\n      <td>8</td>\n      <td>0</td>\n      <td>70</td>\n      <td>0</td>\n      <td>0</td>\n      <td>0</td>\n      <td>0</td>\n      <td>...</td>\n      <td>0</td>\n      <td>0</td>\n      <td>0</td>\n      <td>0</td>\n      <td>0</td>\n      <td>0</td>\n      <td>0</td>\n      <td>0</td>\n      <td>0</td>\n      <td>0</td>\n    </tr>\n    <tr>\n      <th>11</th>\n      <td>16203</td>\n      <td>2019-02-28</td>\n      <td>1</td>\n      <td>8</td>\n      <td>0</td>\n      <td>70</td>\n      <td>0</td>\n      <td>0</td>\n      <td>0</td>\n      <td>0</td>\n      <td>...</td>\n      <td>0</td>\n      <td>0</td>\n      <td>0</td>\n      <td>0</td>\n      <td>0</td>\n      <td>0</td>\n      <td>0</td>\n      <td>0</td>\n      <td>0</td>\n      <td>0</td>\n    </tr>\n    <tr>\n      <th>12</th>\n      <td>16203</td>\n      <td>2019-03-28</td>\n      <td>1</td>\n      <td>8</td>\n      <td>0</td>\n      <td>70</td>\n      <td>0</td>\n      <td>0</td>\n      <td>0</td>\n      <td>0</td>\n      <td>...</td>\n      <td>0</td>\n      <td>0</td>\n      <td>0</td>\n      <td>0</td>\n      <td>0</td>\n      <td>0</td>\n      <td>0</td>\n      <td>0</td>\n      <td>0</td>\n      <td>0</td>\n    </tr>\n    <tr>\n      <th>13</th>\n      <td>16203</td>\n      <td>2019-04-28</td>\n      <td>1</td>\n      <td>8</td>\n      <td>0</td>\n      <td>70</td>\n      <td>0</td>\n      <td>0</td>\n      <td>0</td>\n      <td>0</td>\n      <td>...</td>\n      <td>0</td>\n      <td>0</td>\n      <td>0</td>\n      <td>0</td>\n      <td>0</td>\n      <td>0</td>\n      <td>0</td>\n      <td>0</td>\n      <td>0</td>\n      <td>0</td>\n    </tr>\n    <tr>\n      <th>14</th>\n      <td>16203</td>\n      <td>2019-05-28</td>\n      <td>1</td>\n      <td>8</td>\n      <td>0</td>\n      <td>70</td>\n      <td>0</td>\n      <td>0</td>\n      <td>0</td>\n      <td>0</td>\n      <td>...</td>\n      <td>0</td>\n      <td>0</td>\n      <td>0</td>\n      <td>0</td>\n      <td>0</td>\n      <td>0</td>\n      <td>0</td>\n      <td>0</td>\n      <td>0</td>\n      <td>0</td>\n    </tr>\n    <tr>\n      <th>15</th>\n      <td>16502</td>\n      <td>2018-09-28</td>\n      <td>0</td>\n      <td>28</td>\n      <td>1</td>\n      <td>57</td>\n      <td>0</td>\n      <td>0</td>\n      <td>0</td>\n      <td>0</td>\n      <td>...</td>\n      <td>0</td>\n      <td>0</td>\n      <td>0</td>\n      <td>0</td>\n      <td>0</td>\n      <td>0</td>\n      <td>0</td>\n      <td>0</td>\n      <td>0</td>\n      <td>0</td>\n    </tr>\n    <tr>\n      <th>16</th>\n      <td>16502</td>\n      <td>2018-10-28</td>\n      <td>1</td>\n      <td>28</td>\n      <td>1</td>\n      <td>58</td>\n      <td>0</td>\n      <td>0</td>\n      <td>0</td>\n      <td>0</td>\n      <td>...</td>\n      <td>0</td>\n      <td>0</td>\n      <td>0</td>\n      <td>0</td>\n      <td>0</td>\n      <td>0</td>\n      <td>0</td>\n      <td>0</td>\n      <td>0</td>\n      <td>0</td>\n    </tr>\n    <tr>\n      <th>17</th>\n      <td>16502</td>\n      <td>2018-11-28</td>\n      <td>1</td>\n      <td>28</td>\n      <td>1</td>\n      <td>58</td>\n      <td>0</td>\n      <td>0</td>\n      <td>0</td>\n      <td>0</td>\n      <td>...</td>\n      <td>0</td>\n      <td>0</td>\n      <td>0</td>\n      <td>0</td>\n      <td>0</td>\n      <td>0</td>\n      <td>0</td>\n      <td>0</td>\n      <td>0</td>\n      <td>0</td>\n    </tr>\n    <tr>\n      <th>18</th>\n      <td>16502</td>\n      <td>2018-12-28</td>\n      <td>1</td>\n      <td>28</td>\n      <td>1</td>\n      <td>58</td>\n      <td>0</td>\n      <td>0</td>\n      <td>0</td>\n      <td>0</td>\n      <td>...</td>\n      <td>0</td>\n      <td>0</td>\n      <td>0</td>\n      <td>0</td>\n      <td>0</td>\n      <td>0</td>\n      <td>0</td>\n      <td>0</td>\n      <td>0</td>\n      <td>0</td>\n    </tr>\n    <tr>\n      <th>19</th>\n      <td>16502</td>\n      <td>2019-01-28</td>\n      <td>1</td>\n      <td>28</td>\n      <td>1</td>\n      <td>58</td>\n      <td>0</td>\n      <td>0</td>\n      <td>0</td>\n      <td>0</td>\n      <td>...</td>\n      <td>0</td>\n      <td>0</td>\n      <td>0</td>\n      <td>0</td>\n      <td>0</td>\n      <td>0</td>\n      <td>0</td>\n      <td>0</td>\n      <td>0</td>\n      <td>0</td>\n    </tr>\n  </tbody>\n</table>\n<p>20 rows × 143 columns</p>\n</div>"
     },
     "execution_count": 6,
     "metadata": {},
     "output_type": "execute_result"
    }
   ],
   "source": [
    "df.head(20)"
   ],
   "metadata": {
    "pycharm": {
     "name": "#%%\n"
    },
    "id": "VEhw5Z0toA4x",
    "executionInfo": {
     "status": "ok",
     "timestamp": 1650721005196,
     "user_tz": -120,
     "elapsed": 86,
     "user": {
      "displayName": "nerea dominguez cabezas",
      "userId": "01946356256277218181"
     }
    },
    "colab": {
     "base_uri": "https://localhost:8080/",
     "height": 769
    },
    "outputId": "8abad117-c259-4b5f-c44d-c1d670888e5d"
   }
  },
  {
   "cell_type": "code",
   "execution_count": 7,
   "outputs": [
    {
     "data": {
      "text/plain": "                     count          mean            std      min        25%  \\\npk_cid           5962838.0  1.234933e+06  162293.085772  15891.0  1112533.0   \nactive_customer  5962838.0  4.033799e-01       0.490576      0.0        0.0   \nregion_code      5962838.0  2.580417e+01      13.603136     -1.0       13.0   \ngender           5962838.0  5.177870e-01       0.499684      0.0        0.0   \nage              5962838.0  2.976015e+01      11.980074      2.0       22.0   \n...                    ...           ...            ...      ...        ...   \ncountry_id_SA    5962838.0  2.850991e-06       0.001688      0.0        0.0   \ncountry_id_SE    5962838.0  2.683286e-06       0.001638      0.0        0.0   \ncountry_id_SN    5962838.0  2.850991e-06       0.001688      0.0        0.0   \ncountry_id_US    5962838.0  3.270255e-05       0.005719      0.0        0.0   \ncountry_id_VE    5962838.0  1.324872e-05       0.003640      0.0        0.0   \n\n                       50%         75%        max  \npk_cid           1231097.0  1352339.75  1553689.0  \nactive_customer        0.0        1.00        1.0  \nregion_code           28.0       36.00       52.0  \ngender                 1.0        1.00        1.0  \nage                   25.0       34.00      105.0  \n...                    ...         ...        ...  \ncountry_id_SA          0.0        0.00        1.0  \ncountry_id_SE          0.0        0.00        1.0  \ncountry_id_SN          0.0        0.00        1.0  \ncountry_id_US          0.0        0.00        1.0  \ncountry_id_VE          0.0        0.00        1.0  \n\n[142 rows x 8 columns]",
      "text/html": "<div>\n<style scoped>\n    .dataframe tbody tr th:only-of-type {\n        vertical-align: middle;\n    }\n\n    .dataframe tbody tr th {\n        vertical-align: top;\n    }\n\n    .dataframe thead th {\n        text-align: right;\n    }\n</style>\n<table border=\"1\" class=\"dataframe\">\n  <thead>\n    <tr style=\"text-align: right;\">\n      <th></th>\n      <th>count</th>\n      <th>mean</th>\n      <th>std</th>\n      <th>min</th>\n      <th>25%</th>\n      <th>50%</th>\n      <th>75%</th>\n      <th>max</th>\n    </tr>\n  </thead>\n  <tbody>\n    <tr>\n      <th>pk_cid</th>\n      <td>5962838.0</td>\n      <td>1.234933e+06</td>\n      <td>162293.085772</td>\n      <td>15891.0</td>\n      <td>1112533.0</td>\n      <td>1231097.0</td>\n      <td>1352339.75</td>\n      <td>1553689.0</td>\n    </tr>\n    <tr>\n      <th>active_customer</th>\n      <td>5962838.0</td>\n      <td>4.033799e-01</td>\n      <td>0.490576</td>\n      <td>0.0</td>\n      <td>0.0</td>\n      <td>0.0</td>\n      <td>1.00</td>\n      <td>1.0</td>\n    </tr>\n    <tr>\n      <th>region_code</th>\n      <td>5962838.0</td>\n      <td>2.580417e+01</td>\n      <td>13.603136</td>\n      <td>-1.0</td>\n      <td>13.0</td>\n      <td>28.0</td>\n      <td>36.00</td>\n      <td>52.0</td>\n    </tr>\n    <tr>\n      <th>gender</th>\n      <td>5962838.0</td>\n      <td>5.177870e-01</td>\n      <td>0.499684</td>\n      <td>0.0</td>\n      <td>0.0</td>\n      <td>1.0</td>\n      <td>1.00</td>\n      <td>1.0</td>\n    </tr>\n    <tr>\n      <th>age</th>\n      <td>5962838.0</td>\n      <td>2.976015e+01</td>\n      <td>11.980074</td>\n      <td>2.0</td>\n      <td>22.0</td>\n      <td>25.0</td>\n      <td>34.00</td>\n      <td>105.0</td>\n    </tr>\n    <tr>\n      <th>...</th>\n      <td>...</td>\n      <td>...</td>\n      <td>...</td>\n      <td>...</td>\n      <td>...</td>\n      <td>...</td>\n      <td>...</td>\n      <td>...</td>\n    </tr>\n    <tr>\n      <th>country_id_SA</th>\n      <td>5962838.0</td>\n      <td>2.850991e-06</td>\n      <td>0.001688</td>\n      <td>0.0</td>\n      <td>0.0</td>\n      <td>0.0</td>\n      <td>0.00</td>\n      <td>1.0</td>\n    </tr>\n    <tr>\n      <th>country_id_SE</th>\n      <td>5962838.0</td>\n      <td>2.683286e-06</td>\n      <td>0.001638</td>\n      <td>0.0</td>\n      <td>0.0</td>\n      <td>0.0</td>\n      <td>0.00</td>\n      <td>1.0</td>\n    </tr>\n    <tr>\n      <th>country_id_SN</th>\n      <td>5962838.0</td>\n      <td>2.850991e-06</td>\n      <td>0.001688</td>\n      <td>0.0</td>\n      <td>0.0</td>\n      <td>0.0</td>\n      <td>0.00</td>\n      <td>1.0</td>\n    </tr>\n    <tr>\n      <th>country_id_US</th>\n      <td>5962838.0</td>\n      <td>3.270255e-05</td>\n      <td>0.005719</td>\n      <td>0.0</td>\n      <td>0.0</td>\n      <td>0.0</td>\n      <td>0.00</td>\n      <td>1.0</td>\n    </tr>\n    <tr>\n      <th>country_id_VE</th>\n      <td>5962838.0</td>\n      <td>1.324872e-05</td>\n      <td>0.003640</td>\n      <td>0.0</td>\n      <td>0.0</td>\n      <td>0.0</td>\n      <td>0.00</td>\n      <td>1.0</td>\n    </tr>\n  </tbody>\n</table>\n<p>142 rows × 8 columns</p>\n</div>"
     },
     "execution_count": 7,
     "metadata": {},
     "output_type": "execute_result"
    }
   ],
   "source": [
    "df.describe().T"
   ],
   "metadata": {
    "pycharm": {
     "name": "#%%\n"
    },
    "id": "wuHGdfaWoA4x",
    "executionInfo": {
     "status": "ok",
     "timestamp": 1650721017535,
     "user_tz": -120,
     "elapsed": 11984,
     "user": {
      "displayName": "nerea dominguez cabezas",
      "userId": "01946356256277218181"
     }
    },
    "colab": {
     "base_uri": "https://localhost:8080/",
     "height": 424
    },
    "outputId": "3d2bc83a-35f6-482d-de38-c75a0d48c032"
   }
  },
  {
   "cell_type": "markdown",
   "source": [
    "## Classes"
   ],
   "metadata": {
    "collapsed": false,
    "pycharm": {
     "name": "#%% md\n"
    },
    "id": "Xxm5QubdoA4y"
   }
  },
  {
   "cell_type": "code",
   "execution_count": 9,
   "outputs": [
    {
     "name": "stdout",
     "output_type": "stream",
     "text": [
      "../../data/result/model_metrics.csv\n"
     ]
    }
   ],
   "source": [
    "class EasyMoneyFilter(BaseEstimator, TransformerMixin):\n",
    "    \"\"\"\n",
    "    Filtro que toma el registro de la primera compra del target\n",
    "    y un 0 al azar, en caso de que nunca hubo compra\n",
    "    se regresa un solo registro (aleatoriamente) y en caso\n",
    "    de que todos fueran compras, devuelve solo la primera\n",
    "    \"\"\"\n",
    "\n",
    "    def __init__(self, target: str, group_by=\"pk_cid\", sort_value=None):\n",
    "        if sort_value is None:\n",
    "            sort_value = [\"pk_cid\", \"pk_partition\"]\n",
    "        self.target = target\n",
    "        self.group_by = group_by\n",
    "        self.sort_values = sort_value\n",
    "\n",
    "    def fit(self, X, y=None):\n",
    "        return self\n",
    "\n",
    "    def transform(self, X, y=None):\n",
    "        return pd.concat([\n",
    "            self.get_fist_sales(X),\n",
    "            self.get_random_no_sales(X)\n",
    "        ]).sort_values(self.sort_values, ignore_index=True)\n",
    "\n",
    "    def get_fist_sales(self, X) -> pd.DataFrame:\n",
    "        first_sale = X.groupby([self.group_by, self.target]).first().reset_index()\n",
    "        return first_sale[first_sale[self.target] == 1]\n",
    "\n",
    "    def get_random_no_sales(self, X) -> pd.DataFrame:\n",
    "        return X[X[self.target] == 0].groupby(self.group_by).sample(n=1, random_state=RANDOM_STATE)\n",
    "\n",
    "    def get_last_no_sales(self, X) -> pd.DataFrame:\n",
    "        last_no_sale = X.groupby([self.group_by, self.target]).last().reset_index()\n",
    "        return last_no_sale[last_no_sale[self.target] == 0]\n",
    "\n",
    "\n",
    "class EasyMoneySplitter:\n",
    "    \"\"\"\n",
    "    Divide el dataset en la particion de desarrollo y la de validacion segun los rangos\n",
    "    de fechas indicadas en los parametros dev_partition_period y val_partition_period.\n",
    "    exclude_columns Si se indican campos a ser excluidos\n",
    "    \"\"\"\n",
    "\n",
    "    def __init__(self, dev_partition_period: tuple, val_partition_period: tuple):\n",
    "        self.dev_partition_period = dev_partition_period\n",
    "        self.val_partition_period = val_partition_period\n",
    "\n",
    "    def get_train_partition(self, dataframe: pd.DataFrame) -> pd.DataFrame:\n",
    "        \"\"\"\n",
    "        Obtiene la particion de train\n",
    "        :param dataframe: dataframe que quiera particionar\n",
    "        :return: dataframe particion para train (ya excluidos los campos indicados)\n",
    "        \"\"\"\n",
    "        # partition = self._split(dataframe, self.dev_partition_period[0], self.dev_partition_period[1])\n",
    "        return self._split(dataframe, self.dev_partition_period[0], self.dev_partition_period[1])\n",
    "\n",
    "    def get_validation_partition(self, dataframe: pd.DataFrame) -> pd.DataFrame:\n",
    "        \"\"\"\n",
    "        Obtiene particion de validacion\n",
    "        :param dataframe: dataframe que quiera particionar\n",
    "        :return: dataframe particion para validacion (ya excluidos los campos indicados)\n",
    "        \"\"\"\n",
    "        return self._split(dataframe, self.val_partition_period[0], self.val_partition_period[1])\n",
    "\n",
    "    def _split(self, dataframe: pd.DataFrame, from_date, to_date) -> pd.DataFrame:\n",
    "        return dataframe[dataframe[\"pk_partition\"].between(from_date, to_date)].reset_index(drop=True)\n",
    "\n",
    "    @staticmethod\n",
    "    def under_sample(dataframe: pd.DataFrame, target: str, is_mostly_zero: bool) -> pd.DataFrame:\n",
    "        \"\"\"\n",
    "        Realiza undersampling\n",
    "        :param dataframe: dataframe a procesar\n",
    "        :param target: target\n",
    "        :param is_mostly_zero: cual clase es la mayoritaria\n",
    "        :return: dataframe sampleado\n",
    "        \"\"\"\n",
    "        non_zeros = dataframe[dataframe[target] == 1]\n",
    "        zeros = dataframe[dataframe[target] == 0]\n",
    "        if is_mostly_zero:\n",
    "            n_zeros = len(non_zeros) * 4\n",
    "            zeros = zeros.sample(n=n_zeros, random_state=RANDOM_STATE)\n",
    "        else:\n",
    "            n_non_zeros = len(zeros) * 4\n",
    "            non_zeros = non_zeros.sample(n=n_non_zeros, random_state=RANDOM_STATE)\n",
    "\n",
    "        return pd.concat([zeros, non_zeros])\n",
    "\n",
    "\n",
    "class Reporter:\n",
    "    \"\"\"\n",
    "    Clase para registrar resultados de la modelizacion\n",
    "    \"\"\"\n",
    "\n",
    "    def __init__(self, output_file):\n",
    "        self.output_file = output_file\n",
    "        try:\n",
    "            print(self.output_file)\n",
    "            self.output_df = pd.read_csv(self.output_file, index_col=0)\n",
    "            self.output_df[\"date\"] = pd.to_datetime(self.output_df[\"date\"])\n",
    "        except FileNotFoundError:\n",
    "            self.output_df = pd.DataFrame(columns=[\n",
    "                \"target\",\n",
    "                \"target_mean\",\n",
    "                \"date\",\n",
    "                \"is_overfitted\",\n",
    "                \"roc_auc_train\",\n",
    "                \"roc_auc_test\",\n",
    "                \"roc_auc_val\",\n",
    "                \"accuracy_train\",\n",
    "                \"accuracy_test\",\n",
    "                \"accuracy_val\",\n",
    "                \"recall_train\",\n",
    "                \"recall_test\",\n",
    "                \"recall_val\",\n",
    "                \"precision_train\",\n",
    "                \"precision_test\",\n",
    "                \"precision_val\",\n",
    "                \"f1_score_train\",\n",
    "                \"f1_score_test\",\n",
    "                \"f1_score_val\",\n",
    "                \"model\"\n",
    "            ])\n",
    "\n",
    "    def append_new_evaluation(self, data: dict):\n",
    "        \"\"\"\n",
    "        Agrega un nuevo registro en memoria\n",
    "        :param data: metricas\n",
    "        \"\"\"\n",
    "        data[\"is_overfitted\"] = round(abs((data[\"roc_auc_train\"] - data[\"roc_auc_test\"])), 2) > 0\n",
    "        data[\"date\"] = datetime.now()\n",
    "        self.output_df = self.output_df.append(data, ignore_index=True)\n",
    "\n",
    "    def record_evaluation(self, target: str, model, X_train, y_train, X_test, y_test, X_val, y_val, target_mean):\n",
    "        \"\"\"\n",
    "        Registra las metricas de los resultados de una modelizacion\n",
    "        :param target: target\n",
    "        :param model: Modelo\n",
    "        :param X_train: dataset de train X\n",
    "        :param y_train: labels de train Y\n",
    "        :param X_test: dataset de test X\n",
    "        :param y_test: labels de test y\n",
    "        :param X_val: dataset de validacion X\n",
    "        :param y_val: labels de validacion y\n",
    "        :param target_mean: media global del target\n",
    "        :return: Todas las metricas guardadas\n",
    "        \"\"\"\n",
    "        train_metrics = get_metrics(model, X_train, y_train)\n",
    "        test_metrics = get_metrics(model, X_test, y_test)\n",
    "        val_metrics = get_metrics(model, X_val, y_val)\n",
    "        report_dict = {\n",
    "            \"target\": target,\n",
    "            \"roc_auc_train\": train_metrics[\"roc_auc\"],\n",
    "            \"roc_auc_test\": test_metrics[\"roc_auc\"],\n",
    "            \"roc_auc_val\": val_metrics[\"roc_auc\"],\n",
    "            \"accuracy_train\": train_metrics[\"accuracy\"],\n",
    "            \"accuracy_test\": test_metrics[\"accuracy\"],\n",
    "            \"accuracy_val\": val_metrics[\"accuracy\"],\n",
    "            \"recall_train\": train_metrics[\"recall\"],\n",
    "            \"recall_test\": test_metrics[\"recall\"],\n",
    "            \"recall_val\": val_metrics[\"recall\"],\n",
    "            \"precision_train\": train_metrics[\"precision\"],\n",
    "            \"precision_test\": test_metrics[\"precision\"],\n",
    "            \"precision_val\": val_metrics[\"precision\"],\n",
    "            \"f1_score_train\": train_metrics[\"f1_score\"],\n",
    "            \"f1_score_test\": test_metrics[\"f1_score\"],\n",
    "            \"f1_score_val\": val_metrics[\"f1_score\"],\n",
    "            \"target_mean\": target_mean,\n",
    "            \"model\": model\n",
    "        }\n",
    "        self.append_new_evaluation(report_dict)\n",
    "        return self.save_csv()\n",
    "\n",
    "    def save_csv(self):\n",
    "        \"\"\"\n",
    "        Guarda en csv los resultados de las evaluaciones\n",
    "        :return: Todas las metricas guardadas\n",
    "        \"\"\"\n",
    "        self.output_df.drop_duplicates(keep=\"last\", inplace=True)\n",
    "        self.output_df.to_csv(self.output_file)\n",
    "        return self.output_df\n",
    "\n",
    "\n",
    "reporter = Reporter(__MODEL_METRICS_REPORT__)"
   ],
   "metadata": {
    "pycharm": {
     "name": "#%%\n"
    },
    "id": "YnT8_nSyoA4z",
    "executionInfo": {
     "status": "ok",
     "timestamp": 1650721017536,
     "user_tz": -120,
     "elapsed": 11,
     "user": {
      "displayName": "nerea dominguez cabezas",
      "userId": "01946356256277218181"
     }
    },
    "colab": {
     "base_uri": "https://localhost:8080/"
    },
    "outputId": "04bfe3bb-5126-43ec-f0b6-5ca4ea2e0832"
   }
  },
  {
   "cell_type": "markdown",
   "source": [
    "## Functions"
   ],
   "metadata": {
    "collapsed": false,
    "pycharm": {
     "name": "#%% md\n"
    },
    "id": "ur1q39XHoA40"
   }
  },
  {
   "cell_type": "code",
   "execution_count": 10,
   "outputs": [],
   "source": [
    "def hist_plot(dataframe: pd.DataFrame, target: str):\n",
    "    \"\"\"\n",
    "    Plotea un Histograma\n",
    "    :param dataframe: dataframe a mostrar\n",
    "    :param target: target\n",
    "    :return: value_counts del dataframe de entrada\n",
    "    \"\"\"\n",
    "    dataframe[target].hist()\n",
    "    plt.show()\n",
    "    print(target)\n",
    "    return dataframe[target].value_counts()\n",
    "\n",
    "\n",
    "def relation_with_target(dataframe: pd.DataFrame, field: str, target: str):\n",
    "    \"\"\"\n",
    "    Describe la relacion de una variable contra el target\n",
    "    usando un countplot y una pivot_table\n",
    "    :param dataframe: dataframe a evaluar\n",
    "    :param field: campo a contrastar con el target\n",
    "    :param target: target\n",
    "    :return: pivot table resumen\n",
    "    \"\"\"\n",
    "    plt.figure(figsize=(15, 5))\n",
    "    plt.xticks(rotation=90)\n",
    "    sns.countplot(data=dataframe, x=field, hue=target)\n",
    "    plt.show()\n",
    "    return dataframe.pivot_table(index=field, values=target, aggfunc=[len, sum, np.mean])\n",
    "\n",
    "\n",
    "def get_y_score(model, X, y) -> pd.DataFrame:\n",
    "    \"\"\"\n",
    "    Obtiene el predictproba\n",
    "    :param model: modelo\n",
    "    :param X: datos a evaluar\n",
    "    :param y: y para obtener los indices\n",
    "    :return: predict_proba dataframe\n",
    "    \"\"\"\n",
    "    return pd.DataFrame(model.predict_proba(X)[:, 1], index=y.index, columns=['score'])\n",
    "\n",
    "\n",
    "def get_metrics(model, X, y):\n",
    "    \"\"\"\n",
    "    Obtiene un diccionario con las metricas del modelo\n",
    "    :param model: modelo\n",
    "    :param X: datos a evaluar\n",
    "    :param y: y\n",
    "    :return: diccionario con metricas\n",
    "    \"\"\"\n",
    "    prediction = model.predict(X)\n",
    "    y_score = get_y_score(model, X, y)\n",
    "    return dict({\n",
    "        \"roc_auc\": roc_auc_score(y, y_score),\n",
    "        \"accuracy\": accuracy_score(y, prediction),\n",
    "        \"precision\": precision_score(y, prediction),\n",
    "        \"recall\": recall_score(y, prediction),\n",
    "        \"f1_score\": f1_score(y, prediction),\n",
    "    })"
   ],
   "metadata": {
    "pycharm": {
     "name": "#%%\n"
    },
    "id": "kzcLXBgboA41"
   }
  },
  {
   "cell_type": "markdown",
   "source": [
    "## Filter data\n",
    "\n",
    "Filtramos los datos para no tener los 17 meses de un cliente sino capturar sus caracteristicas cuando obtuvo el producto por primera vez y tener una muestra de cuando no lo tuvo, aquí se hace un resumen de las características de cada usuario."
   ],
   "metadata": {
    "collapsed": false,
    "pycharm": {
     "name": "#%% md\n"
    },
    "id": "51R_Q3LroA41"
   }
  },
  {
   "cell_type": "code",
   "execution_count": 11,
   "outputs": [
    {
     "data": {
      "text/plain": "         pk_cid  credit_card pk_partition  active_customer  region_code  \\\n0         15891            0   2018-08-28                0           28   \n1         16063            0   2018-11-28                1           28   \n2         16203            0   2019-04-28                1            8   \n3         16502            0   2018-12-28                1           28   \n4         17457            0   2018-06-28                1           28   \n...         ...          ...          ...              ...          ...   \n463503  1553685            0   2019-05-28                0           13   \n463504  1553686            0   2019-05-28                0           41   \n463505  1553687            0   2019-05-28                0           28   \n463506  1553688            0   2019-05-28                0           39   \n463507  1553689            0   2019-05-28                0           21   \n\n        gender  age  deceased  short_term_deposit  loans  ...  country_id_PL  \\\n0            1   59         0                   0      0  ...              0   \n1            1   62         0                   0      0  ...              0   \n2            0   70         0                   0      0  ...              0   \n3            1   58         0                   0      0  ...              0   \n4            1   53         0                   0      0  ...              0   \n...        ...  ...       ...                 ...    ...  ...            ...   \n463503       0   52         0                   0      0  ...              0   \n463504       1   30         0                   0      0  ...              0   \n463505       0   21         0                   0      0  ...              0   \n463506       1   43         0                   0      0  ...              0   \n463507       0   40         0                   0      0  ...              0   \n\n        country_id_PT  country_id_QA  country_id_RO  country_id_RU  \\\n0                   0              0              0              0   \n1                   0              0              0              0   \n2                   0              0              0              0   \n3                   0              0              0              0   \n4                   0              0              0              0   \n...               ...            ...            ...            ...   \n463503              0              0              0              0   \n463504              0              0              0              0   \n463505              0              0              0              0   \n463506              0              0              0              0   \n463507              0              0              0              0   \n\n        country_id_SA  country_id_SE  country_id_SN  country_id_US  \\\n0                   0              0              0              0   \n1                   0              0              0              0   \n2                   0              0              0              0   \n3                   0              0              0              0   \n4                   0              0              0              0   \n...               ...            ...            ...            ...   \n463503              0              0              0              0   \n463504              0              0              0              0   \n463505              0              0              0              0   \n463506              0              0              0              0   \n463507              0              0              0              0   \n\n        country_id_VE  \n0                   0  \n1                   0  \n2                   0  \n3                   0  \n4                   0  \n...               ...  \n463503              0  \n463504              0  \n463505              0  \n463506              0  \n463507              0  \n\n[463508 rows x 143 columns]",
      "text/html": "<div>\n<style scoped>\n    .dataframe tbody tr th:only-of-type {\n        vertical-align: middle;\n    }\n\n    .dataframe tbody tr th {\n        vertical-align: top;\n    }\n\n    .dataframe thead th {\n        text-align: right;\n    }\n</style>\n<table border=\"1\" class=\"dataframe\">\n  <thead>\n    <tr style=\"text-align: right;\">\n      <th></th>\n      <th>pk_cid</th>\n      <th>credit_card</th>\n      <th>pk_partition</th>\n      <th>active_customer</th>\n      <th>region_code</th>\n      <th>gender</th>\n      <th>age</th>\n      <th>deceased</th>\n      <th>short_term_deposit</th>\n      <th>loans</th>\n      <th>...</th>\n      <th>country_id_PL</th>\n      <th>country_id_PT</th>\n      <th>country_id_QA</th>\n      <th>country_id_RO</th>\n      <th>country_id_RU</th>\n      <th>country_id_SA</th>\n      <th>country_id_SE</th>\n      <th>country_id_SN</th>\n      <th>country_id_US</th>\n      <th>country_id_VE</th>\n    </tr>\n  </thead>\n  <tbody>\n    <tr>\n      <th>0</th>\n      <td>15891</td>\n      <td>0</td>\n      <td>2018-08-28</td>\n      <td>0</td>\n      <td>28</td>\n      <td>1</td>\n      <td>59</td>\n      <td>0</td>\n      <td>0</td>\n      <td>0</td>\n      <td>...</td>\n      <td>0</td>\n      <td>0</td>\n      <td>0</td>\n      <td>0</td>\n      <td>0</td>\n      <td>0</td>\n      <td>0</td>\n      <td>0</td>\n      <td>0</td>\n      <td>0</td>\n    </tr>\n    <tr>\n      <th>1</th>\n      <td>16063</td>\n      <td>0</td>\n      <td>2018-11-28</td>\n      <td>1</td>\n      <td>28</td>\n      <td>1</td>\n      <td>62</td>\n      <td>0</td>\n      <td>0</td>\n      <td>0</td>\n      <td>...</td>\n      <td>0</td>\n      <td>0</td>\n      <td>0</td>\n      <td>0</td>\n      <td>0</td>\n      <td>0</td>\n      <td>0</td>\n      <td>0</td>\n      <td>0</td>\n      <td>0</td>\n    </tr>\n    <tr>\n      <th>2</th>\n      <td>16203</td>\n      <td>0</td>\n      <td>2019-04-28</td>\n      <td>1</td>\n      <td>8</td>\n      <td>0</td>\n      <td>70</td>\n      <td>0</td>\n      <td>0</td>\n      <td>0</td>\n      <td>...</td>\n      <td>0</td>\n      <td>0</td>\n      <td>0</td>\n      <td>0</td>\n      <td>0</td>\n      <td>0</td>\n      <td>0</td>\n      <td>0</td>\n      <td>0</td>\n      <td>0</td>\n    </tr>\n    <tr>\n      <th>3</th>\n      <td>16502</td>\n      <td>0</td>\n      <td>2018-12-28</td>\n      <td>1</td>\n      <td>28</td>\n      <td>1</td>\n      <td>58</td>\n      <td>0</td>\n      <td>0</td>\n      <td>0</td>\n      <td>...</td>\n      <td>0</td>\n      <td>0</td>\n      <td>0</td>\n      <td>0</td>\n      <td>0</td>\n      <td>0</td>\n      <td>0</td>\n      <td>0</td>\n      <td>0</td>\n      <td>0</td>\n    </tr>\n    <tr>\n      <th>4</th>\n      <td>17457</td>\n      <td>0</td>\n      <td>2018-06-28</td>\n      <td>1</td>\n      <td>28</td>\n      <td>1</td>\n      <td>53</td>\n      <td>0</td>\n      <td>0</td>\n      <td>0</td>\n      <td>...</td>\n      <td>0</td>\n      <td>0</td>\n      <td>0</td>\n      <td>0</td>\n      <td>0</td>\n      <td>0</td>\n      <td>0</td>\n      <td>0</td>\n      <td>0</td>\n      <td>0</td>\n    </tr>\n    <tr>\n      <th>...</th>\n      <td>...</td>\n      <td>...</td>\n      <td>...</td>\n      <td>...</td>\n      <td>...</td>\n      <td>...</td>\n      <td>...</td>\n      <td>...</td>\n      <td>...</td>\n      <td>...</td>\n      <td>...</td>\n      <td>...</td>\n      <td>...</td>\n      <td>...</td>\n      <td>...</td>\n      <td>...</td>\n      <td>...</td>\n      <td>...</td>\n      <td>...</td>\n      <td>...</td>\n      <td>...</td>\n    </tr>\n    <tr>\n      <th>463503</th>\n      <td>1553685</td>\n      <td>0</td>\n      <td>2019-05-28</td>\n      <td>0</td>\n      <td>13</td>\n      <td>0</td>\n      <td>52</td>\n      <td>0</td>\n      <td>0</td>\n      <td>0</td>\n      <td>...</td>\n      <td>0</td>\n      <td>0</td>\n      <td>0</td>\n      <td>0</td>\n      <td>0</td>\n      <td>0</td>\n      <td>0</td>\n      <td>0</td>\n      <td>0</td>\n      <td>0</td>\n    </tr>\n    <tr>\n      <th>463504</th>\n      <td>1553686</td>\n      <td>0</td>\n      <td>2019-05-28</td>\n      <td>0</td>\n      <td>41</td>\n      <td>1</td>\n      <td>30</td>\n      <td>0</td>\n      <td>0</td>\n      <td>0</td>\n      <td>...</td>\n      <td>0</td>\n      <td>0</td>\n      <td>0</td>\n      <td>0</td>\n      <td>0</td>\n      <td>0</td>\n      <td>0</td>\n      <td>0</td>\n      <td>0</td>\n      <td>0</td>\n    </tr>\n    <tr>\n      <th>463505</th>\n      <td>1553687</td>\n      <td>0</td>\n      <td>2019-05-28</td>\n      <td>0</td>\n      <td>28</td>\n      <td>0</td>\n      <td>21</td>\n      <td>0</td>\n      <td>0</td>\n      <td>0</td>\n      <td>...</td>\n      <td>0</td>\n      <td>0</td>\n      <td>0</td>\n      <td>0</td>\n      <td>0</td>\n      <td>0</td>\n      <td>0</td>\n      <td>0</td>\n      <td>0</td>\n      <td>0</td>\n    </tr>\n    <tr>\n      <th>463506</th>\n      <td>1553688</td>\n      <td>0</td>\n      <td>2019-05-28</td>\n      <td>0</td>\n      <td>39</td>\n      <td>1</td>\n      <td>43</td>\n      <td>0</td>\n      <td>0</td>\n      <td>0</td>\n      <td>...</td>\n      <td>0</td>\n      <td>0</td>\n      <td>0</td>\n      <td>0</td>\n      <td>0</td>\n      <td>0</td>\n      <td>0</td>\n      <td>0</td>\n      <td>0</td>\n      <td>0</td>\n    </tr>\n    <tr>\n      <th>463507</th>\n      <td>1553689</td>\n      <td>0</td>\n      <td>2019-05-28</td>\n      <td>0</td>\n      <td>21</td>\n      <td>0</td>\n      <td>40</td>\n      <td>0</td>\n      <td>0</td>\n      <td>0</td>\n      <td>...</td>\n      <td>0</td>\n      <td>0</td>\n      <td>0</td>\n      <td>0</td>\n      <td>0</td>\n      <td>0</td>\n      <td>0</td>\n      <td>0</td>\n      <td>0</td>\n      <td>0</td>\n    </tr>\n  </tbody>\n</table>\n<p>463508 rows × 143 columns</p>\n</div>"
     },
     "execution_count": 11,
     "metadata": {},
     "output_type": "execute_result"
    }
   ],
   "source": [
    "filter = EasyMoneyFilter(TARGET)\n",
    "df_prep = filter.fit_transform(df)\n",
    "df_prep"
   ],
   "metadata": {
    "pycharm": {
     "name": "#%%\n"
    },
    "id": "38pa611PoA42",
    "executionInfo": {
     "status": "ok",
     "timestamp": 1650721366966,
     "user_tz": -120,
     "elapsed": 349438,
     "user": {
      "displayName": "nerea dominguez cabezas",
      "userId": "01946356256277218181"
     }
    },
    "colab": {
     "base_uri": "https://localhost:8080/",
     "height": 487
    },
    "outputId": "4afc105d-17e0-41b6-dd18-a9f81088cd54"
   }
  },
  {
   "cell_type": "markdown",
   "source": [
    "## Target distribution"
   ],
   "metadata": {
    "collapsed": false,
    "pycharm": {
     "name": "#%% md\n"
    },
    "id": "n8tIdxVnoA43"
   }
  },
  {
   "cell_type": "code",
   "execution_count": 12,
   "outputs": [
    {
     "data": {
      "text/plain": "                    count          mean            std      min         25%  \\\npk_cid           463508.0  1.273129e+06  180362.924979  15891.0  1141746.75   \ncredit_card      463508.0  1.840529e-02       0.134412      0.0        0.00   \nactive_customer  463508.0  3.923945e-01       0.488284      0.0        0.00   \nregion_code      463508.0  2.587657e+01      13.521349     -1.0       13.00   \ngender           463508.0  5.102954e-01       0.499895      0.0        0.00   \n...                   ...           ...            ...      ...         ...   \ncountry_id_SA    463508.0  2.157460e-06       0.001469      0.0        0.00   \ncountry_id_SE    463508.0  4.314920e-06       0.002077      0.0        0.00   \ncountry_id_SN    463508.0  2.157460e-06       0.001469      0.0        0.00   \ncountry_id_US    463508.0  3.451936e-05       0.005875      0.0        0.00   \ncountry_id_VE    463508.0  1.078730e-05       0.003284      0.0        0.00   \n\n                       50%         75%        max  \npk_cid           1282439.5  1421938.25  1553689.0  \ncredit_card            0.0        0.00        1.0  \nactive_customer        0.0        1.00        1.0  \nregion_code           28.0       36.00       52.0  \ngender                 1.0        1.00        1.0  \n...                    ...         ...        ...  \ncountry_id_SA          0.0        0.00        1.0  \ncountry_id_SE          0.0        0.00        1.0  \ncountry_id_SN          0.0        0.00        1.0  \ncountry_id_US          0.0        0.00        1.0  \ncountry_id_VE          0.0        0.00        1.0  \n\n[142 rows x 8 columns]",
      "text/html": "<div>\n<style scoped>\n    .dataframe tbody tr th:only-of-type {\n        vertical-align: middle;\n    }\n\n    .dataframe tbody tr th {\n        vertical-align: top;\n    }\n\n    .dataframe thead th {\n        text-align: right;\n    }\n</style>\n<table border=\"1\" class=\"dataframe\">\n  <thead>\n    <tr style=\"text-align: right;\">\n      <th></th>\n      <th>count</th>\n      <th>mean</th>\n      <th>std</th>\n      <th>min</th>\n      <th>25%</th>\n      <th>50%</th>\n      <th>75%</th>\n      <th>max</th>\n    </tr>\n  </thead>\n  <tbody>\n    <tr>\n      <th>pk_cid</th>\n      <td>463508.0</td>\n      <td>1.273129e+06</td>\n      <td>180362.924979</td>\n      <td>15891.0</td>\n      <td>1141746.75</td>\n      <td>1282439.5</td>\n      <td>1421938.25</td>\n      <td>1553689.0</td>\n    </tr>\n    <tr>\n      <th>credit_card</th>\n      <td>463508.0</td>\n      <td>1.840529e-02</td>\n      <td>0.134412</td>\n      <td>0.0</td>\n      <td>0.00</td>\n      <td>0.0</td>\n      <td>0.00</td>\n      <td>1.0</td>\n    </tr>\n    <tr>\n      <th>active_customer</th>\n      <td>463508.0</td>\n      <td>3.923945e-01</td>\n      <td>0.488284</td>\n      <td>0.0</td>\n      <td>0.00</td>\n      <td>0.0</td>\n      <td>1.00</td>\n      <td>1.0</td>\n    </tr>\n    <tr>\n      <th>region_code</th>\n      <td>463508.0</td>\n      <td>2.587657e+01</td>\n      <td>13.521349</td>\n      <td>-1.0</td>\n      <td>13.00</td>\n      <td>28.0</td>\n      <td>36.00</td>\n      <td>52.0</td>\n    </tr>\n    <tr>\n      <th>gender</th>\n      <td>463508.0</td>\n      <td>5.102954e-01</td>\n      <td>0.499895</td>\n      <td>0.0</td>\n      <td>0.00</td>\n      <td>1.0</td>\n      <td>1.00</td>\n      <td>1.0</td>\n    </tr>\n    <tr>\n      <th>...</th>\n      <td>...</td>\n      <td>...</td>\n      <td>...</td>\n      <td>...</td>\n      <td>...</td>\n      <td>...</td>\n      <td>...</td>\n      <td>...</td>\n    </tr>\n    <tr>\n      <th>country_id_SA</th>\n      <td>463508.0</td>\n      <td>2.157460e-06</td>\n      <td>0.001469</td>\n      <td>0.0</td>\n      <td>0.00</td>\n      <td>0.0</td>\n      <td>0.00</td>\n      <td>1.0</td>\n    </tr>\n    <tr>\n      <th>country_id_SE</th>\n      <td>463508.0</td>\n      <td>4.314920e-06</td>\n      <td>0.002077</td>\n      <td>0.0</td>\n      <td>0.00</td>\n      <td>0.0</td>\n      <td>0.00</td>\n      <td>1.0</td>\n    </tr>\n    <tr>\n      <th>country_id_SN</th>\n      <td>463508.0</td>\n      <td>2.157460e-06</td>\n      <td>0.001469</td>\n      <td>0.0</td>\n      <td>0.00</td>\n      <td>0.0</td>\n      <td>0.00</td>\n      <td>1.0</td>\n    </tr>\n    <tr>\n      <th>country_id_US</th>\n      <td>463508.0</td>\n      <td>3.451936e-05</td>\n      <td>0.005875</td>\n      <td>0.0</td>\n      <td>0.00</td>\n      <td>0.0</td>\n      <td>0.00</td>\n      <td>1.0</td>\n    </tr>\n    <tr>\n      <th>country_id_VE</th>\n      <td>463508.0</td>\n      <td>1.078730e-05</td>\n      <td>0.003284</td>\n      <td>0.0</td>\n      <td>0.00</td>\n      <td>0.0</td>\n      <td>0.00</td>\n      <td>1.0</td>\n    </tr>\n  </tbody>\n</table>\n<p>142 rows × 8 columns</p>\n</div>"
     },
     "execution_count": 12,
     "metadata": {},
     "output_type": "execute_result"
    }
   ],
   "source": [
    "df_prep.describe().T"
   ],
   "metadata": {
    "pycharm": {
     "name": "#%%\n"
    },
    "id": "vnLwJKLtoA43",
    "executionInfo": {
     "status": "ok",
     "timestamp": 1650721368201,
     "user_tz": -120,
     "elapsed": 1271,
     "user": {
      "displayName": "nerea dominguez cabezas",
      "userId": "01946356256277218181"
     }
    },
    "colab": {
     "base_uri": "https://localhost:8080/",
     "height": 424
    },
    "outputId": "9541c736-7a6f-48ff-cfd4-301564653bfd"
   }
  },
  {
   "cell_type": "markdown",
   "source": [
    "Gráfico general de los clientes en los 17 meses que tienen o no credit_card"
   ],
   "metadata": {
    "id": "MfFweoox-sk2"
   }
  },
  {
   "cell_type": "code",
   "execution_count": 13,
   "outputs": [
    {
     "data": {
      "text/plain": "<Figure size 432x288 with 1 Axes>",
      "image/png": "[encoded data removed]"
     },
     "metadata": {
      "needs_background": "light"
     },
     "output_type": "display_data"
    },
    {
     "name": "stdout",
     "output_type": "stream",
     "text": [
      "credit_card\n"
     ]
    },
    {
     "data": {
      "text/plain": "0    454977\n1      8531\nName: credit_card, dtype: int64"
     },
     "execution_count": 13,
     "metadata": {},
     "output_type": "execute_result"
    }
   ],
   "source": [
    "hist_plot(df_prep, TARGET)"
   ],
   "metadata": {
    "pycharm": {
     "name": "#%%\n"
    },
    "id": "plc8A-GloA44",
    "executionInfo": {
     "status": "ok",
     "timestamp": 1650721368202,
     "user_tz": -120,
     "elapsed": 10,
     "user": {
      "displayName": "nerea dominguez cabezas",
      "userId": "01946356256277218181"
     }
    },
    "colab": {
     "base_uri": "https://localhost:8080/",
     "height": 337
    },
    "outputId": "7b60d904-3056-49ef-db7f-dfd782d638b5"
   }
  },
  {
   "cell_type": "markdown",
   "source": [
    "Coolwarm: gráfico de correlación entre las variables, se puede apreciar que los campos payroll_account y credit_card están muy correlacionados entre ellos"
   ],
   "metadata": {
    "collapsed": false,
    "pycharm": {
     "name": "#%% md\n"
    },
    "id": "nZSDqQGuoA46"
   }
  },
  {
   "cell_type": "code",
   "execution_count": 14,
   "outputs": [
    {
     "data": {
      "text/plain": "<pandas.io.formats.style.Styler at 0x22e558ac640>",
      "text/html": "<style type=\"text/css\">\n#T_ede01_row0_col0, #T_ede01_row1_col1, #T_ede01_row2_col2, #T_ede01_row3_col3, #T_ede01_row4_col4, #T_ede01_row5_col5, #T_ede01_row6_col6, #T_ede01_row7_col7, #T_ede01_row8_col8, #T_ede01_row9_col9, #T_ede01_row10_col10, #T_ede01_row11_col11, #T_ede01_row12_col12, #T_ede01_row13_col13, #T_ede01_row14_col14, #T_ede01_row15_col15, #T_ede01_row16_col16, #T_ede01_row17_col17, #T_ede01_row18_col18, #T_ede01_row19_col19 {\n  background-color: #b40426;\n  color: #f1f1f1;\n}\n#T_ede01_row0_col1, #T_ede01_row10_col0 {\n  background-color: #aec9fc;\n  color: #000000;\n}\n#T_ede01_row0_col2 {\n  background-color: #506bda;\n  color: #f1f1f1;\n}\n#T_ede01_row0_col3, #T_ede01_row8_col12 {\n  background-color: #d7dce3;\n  color: #000000;\n}\n#T_ede01_row0_col4, #T_ede01_row8_col14, #T_ede01_row11_col2, #T_ede01_row12_col2, #T_ede01_row14_col6 {\n  background-color: #4e68d8;\n  color: #f1f1f1;\n}\n#T_ede01_row0_col5, #T_ede01_row16_col7 {\n  background-color: #5977e3;\n  color: #f1f1f1;\n}\n#T_ede01_row0_col6, #T_ede01_row1_col4, #T_ede01_row2_col7 {\n  background-color: #5b7ae5;\n  color: #f1f1f1;\n}\n#T_ede01_row0_col7, #T_ede01_row4_col9, #T_ede01_row7_col5, #T_ede01_row7_col12, #T_ede01_row13_col8, #T_ede01_row15_col9 {\n  background-color: #799cf8;\n  color: #f1f1f1;\n}\n#T_ede01_row0_col8, #T_ede01_row0_col19, #T_ede01_row1_col9, #T_ede01_row8_col19 {\n  background-color: #bcd2f7;\n  color: #000000;\n}\n#T_ede01_row0_col9, #T_ede01_row11_col1, #T_ede01_row14_col1 {\n  background-color: #bfd3f6;\n  color: #000000;\n}\n#T_ede01_row0_col10, #T_ede01_row6_col3, #T_ede01_row16_col3 {\n  background-color: #cdd9ec;\n  color: #000000;\n}\n#T_ede01_row0_col11, #T_ede01_row9_col0, #T_ede01_row11_col17, #T_ede01_row11_col19, #T_ede01_row17_col1 {\n  background-color: #aac7fd;\n  color: #000000;\n}\n#T_ede01_row0_col12, #T_ede01_row1_col11, #T_ede01_row17_col11, #T_ede01_row17_col19 {\n  background-color: #b6cefa;\n  color: #000000;\n}\n#T_ede01_row0_col13, #T_ede01_row1_col13, #T_ede01_row3_col13, #T_ede01_row8_col13, #T_ede01_row9_col13, #T_ede01_row10_col13 {\n  background-color: #3c4ec2;\n  color: #f1f1f1;\n}\n#T_ede01_row0_col14, #T_ede01_row4_col8, #T_ede01_row11_col14, #T_ede01_row15_col8, #T_ede01_row15_col11, #T_ede01_row17_col4 {\n  background-color: #779af7;\n  color: #f1f1f1;\n}\n#T_ede01_row0_col15, #T_ede01_row5_col15, #T_ede01_row6_col15, #T_ede01_row7_col15, #T_ede01_row11_col15 {\n  background-color: #4358cb;\n  color: #f1f1f1;\n}\n#T_ede01_row0_col16, #T_ede01_row17_col8, #T_ede01_row17_col16 {\n  background-color: #80a3fa;\n  color: #f1f1f1;\n}\n#T_ede01_row0_col17, #T_ede01_row4_col11, #T_ede01_row12_col16 {\n  background-color: #7597f6;\n  color: #f1f1f1;\n}\n#T_ede01_row0_col18 {\n  background-color: #e4d9d2;\n  color: #000000;\n}\n#T_ede01_row1_col0, #T_ede01_row5_col7, #T_ede01_row6_col11 {\n  background-color: #8fb1fe;\n  color: #000000;\n}\n#T_ede01_row1_col2, #T_ede01_row8_col4, #T_ede01_row9_col4, #T_ede01_row9_col14, #T_ede01_row14_col5, #T_ede01_row16_col4 {\n  background-color: #4b64d5;\n  color: #f1f1f1;\n}\n#T_ede01_row1_col3, #T_ede01_row17_col3 {\n  background-color: #e9d5cb;\n  color: #000000;\n}\n#T_ede01_row1_col5, #T_ede01_row3_col6, #T_ede01_row14_col7 {\n  background-color: #5f7fe8;\n  color: #f1f1f1;\n}\n#T_ede01_row1_col6, #T_ede01_row3_col4 {\n  background-color: #6180e9;\n  color: #f1f1f1;\n}\n#T_ede01_row1_col7, #T_ede01_row1_col17, #T_ede01_row5_col10, #T_ede01_row5_col11, #T_ede01_row7_col10, #T_ede01_row17_col10 {\n  background-color: #92b4fe;\n  color: #000000;\n}\n#T_ede01_row1_col8 {\n  background-color: #bad0f8;\n  color: #000000;\n}\n#T_ede01_row1_col10, #T_ede01_row13_col19 {\n  background-color: #d2dbe8;\n  color: #000000;\n}\n#T_ede01_row1_col12, #T_ede01_row7_col17 {\n  background-color: #dadce0;\n  color: #000000;\n}\n#T_ede01_row1_col14 {\n  background-color: #c5d6f2;\n  color: #000000;\n}\n#T_ede01_row1_col15, #T_ede01_row2_col15, #T_ede01_row4_col15, #T_ede01_row8_col15, #T_ede01_row9_col15, #T_ede01_row10_col15, #T_ede01_row12_col15, #T_ede01_row13_col15 {\n  background-color: #4055c8;\n  color: #f1f1f1;\n}\n#T_ede01_row1_col16, #T_ede01_row5_col12, #T_ede01_row10_col16, #T_ede01_row11_col16, #T_ede01_row13_col9 {\n  background-color: #7a9df8;\n  color: #f1f1f1;\n}\n#T_ede01_row1_col18 {\n  background-color: #f3c8b2;\n  color: #000000;\n}\n#T_ede01_row1_col19 {\n  background-color: #a1c0ff;\n  color: #000000;\n}\n#T_ede01_row2_col0, #T_ede01_row8_col5, #T_ede01_row9_col5, #T_ede01_row12_col5 {\n  background-color: #516ddb;\n  color: #f1f1f1;\n}\n#T_ede01_row2_col1, #T_ede01_row2_col8, #T_ede01_row13_col12, #T_ede01_row15_col12, #T_ede01_row18_col7 {\n  background-color: #7295f4;\n  color: #f1f1f1;\n}\n#T_ede01_row2_col3, #T_ede01_row3_col17 {\n  background-color: #afcafc;\n  color: #000000;\n}\n#T_ede01_row2_col4, #T_ede01_row14_col0 {\n  background-color: #4961d2;\n  color: #f1f1f1;\n}\n#T_ede01_row2_col5, #T_ede01_row19_col15 {\n  background-color: #455cce;\n  color: #f1f1f1;\n}\n#T_ede01_row2_col6, #T_ede01_row17_col15 {\n  background-color: #445acc;\n  color: #f1f1f1;\n}\n#T_ede01_row2_col9, #T_ede01_row7_col0, #T_ede01_row16_col1 {\n  background-color: #7396f5;\n  color: #f1f1f1;\n}\n#T_ede01_row2_col10, #T_ede01_row3_col0, #T_ede01_row6_col12, #T_ede01_row13_col1, #T_ede01_row17_col9, #T_ede01_row17_col14, #T_ede01_row19_col2 {\n  background-color: #82a6fb;\n  color: #f1f1f1;\n}\n#T_ede01_row2_col11, #T_ede01_row8_col7, #T_ede01_row11_col5, #T_ede01_row12_col7, #T_ede01_row13_col17, #T_ede01_row16_col14 {\n  background-color: #688aef;\n  color: #f1f1f1;\n}\n#T_ede01_row2_col12, #T_ede01_row11_col6, #T_ede01_row14_col2, #T_ede01_row15_col7 {\n  background-color: #6485ec;\n  color: #f1f1f1;\n}\n#T_ede01_row2_col13, #T_ede01_row4_col13, #T_ede01_row5_col13, #T_ede01_row7_col13, #T_ede01_row10_col14, #T_ede01_row11_col13, #T_ede01_row12_col13, #T_ede01_row14_col8, #T_ede01_row14_col9, #T_ede01_row14_col10, #T_ede01_row14_col13, #T_ede01_row14_col15, #T_ede01_row15_col13, #T_ede01_row16_col13, #T_ede01_row18_col2, #T_ede01_row18_col13, #T_ede01_row18_col19, #T_ede01_row19_col0, #T_ede01_row19_col1, #T_ede01_row19_col3, #T_ede01_row19_col4, #T_ede01_row19_col5, #T_ede01_row19_col6, #T_ede01_row19_col7, #T_ede01_row19_col11, #T_ede01_row19_col12, #T_ede01_row19_col13, #T_ede01_row19_col16, #T_ede01_row19_col17, #T_ede01_row19_col18 {\n  background-color: #3b4cc0;\n  color: #f1f1f1;\n}\n#T_ede01_row2_col14 {\n  background-color: #93b5fe;\n  color: #000000;\n}\n#T_ede01_row2_col16, #T_ede01_row6_col8, #T_ede01_row15_col14 {\n  background-color: #84a7fc;\n  color: #f1f1f1;\n}\n#T_ede01_row2_col17, #T_ede01_row4_col0, #T_ede01_row13_col0, #T_ede01_row14_col17, #T_ede01_row15_col0 {\n  background-color: #5e7de7;\n  color: #f1f1f1;\n}\n#T_ede01_row2_col18, #T_ede01_row3_col11 {\n  background-color: #bed2f6;\n  color: #000000;\n}\n#T_ede01_row2_col19 {\n  background-color: #e3d9d3;\n  color: #000000;\n}\n#T_ede01_row3_col1, #T_ede01_row9_col1, #T_ede01_row17_col18 {\n  background-color: #c3d5f4;\n  color: #000000;\n}\n#T_ede01_row3_col2 {\n  background-color: #4257c9;\n  color: #f1f1f1;\n}\n#T_ede01_row3_col5, #T_ede01_row4_col7, #T_ede01_row17_col6, #T_ede01_row19_col10 {\n  background-color: #6384eb;\n  color: #f1f1f1;\n}\n#T_ede01_row3_col7, #T_ede01_row3_col12, #T_ede01_row12_col0 {\n  background-color: #a6c4fe;\n  color: #000000;\n}\n#T_ede01_row3_col8, #T_ede01_row5_col1, #T_ede01_row11_col0 {\n  background-color: #94b6ff;\n  color: #000000;\n}\n#T_ede01_row3_col9, #T_ede01_row3_col16, #T_ede01_row11_col7 {\n  background-color: #9bbcff;\n  color: #000000;\n}\n#T_ede01_row3_col10, #T_ede01_row7_col1, #T_ede01_row12_col19 {\n  background-color: #adc9fd;\n  color: #000000;\n}\n#T_ede01_row3_col14, #T_ede01_row13_col7, #T_ede01_row14_col11 {\n  background-color: #6282ea;\n  color: #f1f1f1;\n}\n#T_ede01_row3_col15, #T_ede01_row6_col13 {\n  background-color: #3f53c6;\n  color: #f1f1f1;\n}\n#T_ede01_row3_col18 {\n  background-color: #f08a6c;\n  color: #f1f1f1;\n}\n#T_ede01_row3_col19, #T_ede01_row5_col2, #T_ede01_row7_col2, #T_ede01_row8_col2, #T_ede01_row9_col2, #T_ede01_row16_col2, #T_ede01_row19_col8, #T_ede01_row19_col9 {\n  background-color: #5572df;\n  color: #f1f1f1;\n}\n#T_ede01_row4_col1, #T_ede01_row4_col17 {\n  background-color: #90b2fe;\n  color: #000000;\n}\n#T_ede01_row4_col2, #T_ede01_row9_col6, #T_ede01_row10_col6, #T_ede01_row18_col6, #T_ede01_row18_col14 {\n  background-color: #5875e1;\n  color: #f1f1f1;\n}\n#T_ede01_row4_col3 {\n  background-color: #cedaeb;\n  color: #000000;\n}\n#T_ede01_row4_col5, #T_ede01_row4_col6, #T_ede01_row10_col4, #T_ede01_row11_col4, #T_ede01_row12_col4, #T_ede01_row13_col5 {\n  background-color: #4a63d3;\n  color: #f1f1f1;\n}\n#T_ede01_row4_col10, #T_ede01_row7_col14 {\n  background-color: #88abfd;\n  color: #000000;\n}\n#T_ede01_row4_col12, #T_ede01_row9_col17 {\n  background-color: #6f92f3;\n  color: #f1f1f1;\n}\n#T_ede01_row4_col14, #T_ede01_row15_col16 {\n  background-color: #86a9fc;\n  color: #f1f1f1;\n}\n#T_ede01_row4_col16, #T_ede01_row5_col17, #T_ede01_row13_col14, #T_ede01_row13_col16, #T_ede01_row15_col10 {\n  background-color: #89acfd;\n  color: #000000;\n}\n#T_ede01_row4_col18 {\n  background-color: #d5dbe5;\n  color: #000000;\n}\n#T_ede01_row4_col19 {\n  background-color: #c7d7f0;\n  color: #000000;\n}\n#T_ede01_row5_col0, #T_ede01_row6_col7, #T_ede01_row16_col8 {\n  background-color: #6b8df0;\n  color: #f1f1f1;\n}\n#T_ede01_row5_col3, #T_ede01_row15_col18 {\n  background-color: #cfdaea;\n  color: #000000;\n}\n#T_ede01_row5_col4, #T_ede01_row6_col4, #T_ede01_row7_col4, #T_ede01_row13_col4, #T_ede01_row15_col4, #T_ede01_row15_col5, #T_ede01_row15_col6, #T_ede01_row18_col17 {\n  background-color: #4c66d6;\n  color: #f1f1f1;\n}\n#T_ede01_row5_col6, #T_ede01_row6_col5, #T_ede01_row14_col16 {\n  background-color: #6788ee;\n  color: #f1f1f1;\n}\n#T_ede01_row5_col8, #T_ede01_row6_col17, #T_ede01_row7_col8 {\n  background-color: #7ea1fa;\n  color: #f1f1f1;\n}\n#T_ede01_row5_col9, #T_ede01_row7_col9, #T_ede01_row7_col16, #T_ede01_row15_col1 {\n  background-color: #81a4fb;\n  color: #f1f1f1;\n}\n#T_ede01_row5_col14, #T_ede01_row13_col10 {\n  background-color: #8badfd;\n  color: #000000;\n}\n#T_ede01_row5_col16, #T_ede01_row6_col9, #T_ede01_row6_col16, #T_ede01_row12_col14, #T_ede01_row18_col0 {\n  background-color: #85a8fc;\n  color: #f1f1f1;\n}\n#T_ede01_row5_col18, #T_ede01_row9_col3 {\n  background-color: #d6dce4;\n  color: #000000;\n}\n#T_ede01_row5_col19, #T_ede01_row6_col19 {\n  background-color: #c9d7f0;\n  color: #000000;\n}\n#T_ede01_row6_col0, #T_ede01_row14_col12, #T_ede01_row16_col9 {\n  background-color: #6c8ff1;\n  color: #f1f1f1;\n}\n#T_ede01_row6_col1, #T_ede01_row6_col10 {\n  background-color: #96b7ff;\n  color: #000000;\n}\n#T_ede01_row6_col2, #T_ede01_row7_col6, #T_ede01_row17_col2, #T_ede01_row18_col4, #T_ede01_row18_col5 {\n  background-color: #5470de;\n  color: #f1f1f1;\n}\n#T_ede01_row6_col14 {\n  background-color: #8caffe;\n  color: #000000;\n}\n#T_ede01_row6_col18, #T_ede01_row10_col3 {\n  background-color: #d8dce2;\n  color: #000000;\n}\n#T_ede01_row7_col3, #T_ede01_row8_col18 {\n  background-color: #e6d7cf;\n  color: #000000;\n}\n#T_ede01_row7_col11 {\n  background-color: #abc8fd;\n  color: #000000;\n}\n#T_ede01_row7_col18, #T_ede01_row9_col12, #T_ede01_row12_col8, #T_ede01_row17_col7 {\n  background-color: #d9dce1;\n  color: #000000;\n}\n#T_ede01_row7_col19, #T_ede01_row10_col19, #T_ede01_row11_col10, #T_ede01_row18_col10 {\n  background-color: #b9d0f9;\n  color: #000000;\n}\n#T_ede01_row8_col0, #T_ede01_row11_col9 {\n  background-color: #a7c5fe;\n  color: #000000;\n}\n#T_ede01_row8_col1, #T_ede01_row13_col3 {\n  background-color: #c1d4f4;\n  color: #000000;\n}\n#T_ede01_row8_col3 {\n  background-color: #d3dbe7;\n  color: #000000;\n}\n#T_ede01_row8_col6 {\n  background-color: #5673e0;\n  color: #f1f1f1;\n}\n#T_ede01_row8_col9, #T_ede01_row9_col8 {\n  background-color: #bb1b2c;\n  color: #f1f1f1;\n}\n#T_ede01_row8_col10 {\n  background-color: #ed8366;\n  color: #f1f1f1;\n}\n#T_ede01_row8_col11, #T_ede01_row14_col3 {\n  background-color: #a3c2fe;\n  color: #000000;\n}\n#T_ede01_row8_col16, #T_ede01_row9_col16 {\n  background-color: #7da0f9;\n  color: #f1f1f1;\n}\n#T_ede01_row8_col17, #T_ede01_row10_col17, #T_ede01_row17_col5 {\n  background-color: #6e90f2;\n  color: #f1f1f1;\n}\n#T_ede01_row9_col7, #T_ede01_row10_col7, #T_ede01_row12_col17, #T_ede01_row15_col17, #T_ede01_row17_col0 {\n  background-color: #6a8bef;\n  color: #f1f1f1;\n}\n#T_ede01_row9_col10 {\n  background-color: #ea7b60;\n  color: #f1f1f1;\n}\n#T_ede01_row9_col11, #T_ede01_row11_col8, #T_ede01_row12_col11, #T_ede01_row18_col9 {\n  background-color: #a5c3fe;\n  color: #000000;\n}\n#T_ede01_row9_col18 {\n  background-color: #e7d7ce;\n  color: #000000;\n}\n#T_ede01_row9_col19, #T_ede01_row18_col12 {\n  background-color: #bbd1f8;\n  color: #000000;\n}\n#T_ede01_row10_col1, #T_ede01_row18_col1 {\n  background-color: #ccd9ed;\n  color: #000000;\n}\n#T_ede01_row10_col2, #T_ede01_row10_col5, #T_ede01_row16_col0 {\n  background-color: #536edd;\n  color: #f1f1f1;\n}\n#T_ede01_row10_col8 {\n  background-color: #ef886b;\n  color: #f1f1f1;\n}\n#T_ede01_row10_col9 {\n  background-color: #ec8165;\n  color: #f1f1f1;\n}\n#T_ede01_row10_col11 {\n  background-color: #a9c6fd;\n  color: #000000;\n}\n#T_ede01_row10_col12 {\n  background-color: #e0dbd8;\n  color: #000000;\n}\n#T_ede01_row10_col18, #T_ede01_row12_col10 {\n  background-color: #ead5c9;\n  color: #000000;\n}\n#T_ede01_row11_col3 {\n  background-color: #ead4c8;\n  color: #000000;\n}\n#T_ede01_row11_col12, #T_ede01_row18_col8 {\n  background-color: #a2c1ff;\n  color: #000000;\n}\n#T_ede01_row11_col18 {\n  background-color: #edd2c3;\n  color: #000000;\n}\n#T_ede01_row12_col1 {\n  background-color: #e1dad6;\n  color: #000000;\n}\n#T_ede01_row12_col3 {\n  background-color: #dfdbd9;\n  color: #000000;\n}\n#T_ede01_row12_col6, #T_ede01_row13_col2, #T_ede01_row15_col2, #T_ede01_row18_col16 {\n  background-color: #5a78e4;\n  color: #f1f1f1;\n}\n#T_ede01_row12_col9 {\n  background-color: #dcdddd;\n  color: #000000;\n}\n#T_ede01_row12_col18, #T_ede01_row14_col19 {\n  background-color: #f1ccb8;\n  color: #000000;\n}\n#T_ede01_row13_col6 {\n  background-color: #4f69d9;\n  color: #f1f1f1;\n}\n#T_ede01_row13_col11, #T_ede01_row17_col12 {\n  background-color: #7699f6;\n  color: #f1f1f1;\n}\n#T_ede01_row13_col18 {\n  background-color: #d1dae9;\n  color: #000000;\n}\n#T_ede01_row14_col4 {\n  background-color: #485fd1;\n  color: #f1f1f1;\n}\n#T_ede01_row14_col18, #T_ede01_row18_col11 {\n  background-color: #b1cbfc;\n  color: #000000;\n}\n#T_ede01_row15_col3 {\n  background-color: #c0d4f5;\n  color: #000000;\n}\n#T_ede01_row15_col19 {\n  background-color: #d4dbe6;\n  color: #000000;\n}\n#T_ede01_row16_col5, #T_ede01_row16_col6 {\n  background-color: #465ecf;\n  color: #f1f1f1;\n}\n#T_ede01_row16_col10 {\n  background-color: #7b9ff9;\n  color: #f1f1f1;\n}\n#T_ede01_row16_col11 {\n  background-color: #6687ed;\n  color: #f1f1f1;\n}\n#T_ede01_row16_col12, #T_ede01_row16_col17 {\n  background-color: #5d7ce6;\n  color: #f1f1f1;\n}\n#T_ede01_row16_col15 {\n  background-color: #3e51c5;\n  color: #f1f1f1;\n}\n#T_ede01_row16_col18 {\n  background-color: #b3cdfb;\n  color: #000000;\n}\n#T_ede01_row16_col19 {\n  background-color: #9abbff;\n  color: #000000;\n}\n#T_ede01_row17_col13, #T_ede01_row18_col15 {\n  background-color: #3d50c3;\n  color: #f1f1f1;\n}\n#T_ede01_row18_col3 {\n  background-color: #f29274;\n  color: #f1f1f1;\n}\n#T_ede01_row19_col14 {\n  background-color: #cbd8ee;\n  color: #000000;\n}\n</style>\n<table id=\"T_ede01_\">\n  <thead>\n    <tr>\n      <th class=\"blank level0\" >&nbsp;</th>\n      <th class=\"col_heading level0 col0\" >credit_card</th>\n      <th class=\"col_heading level0 col1\" >active_customer</th>\n      <th class=\"col_heading level0 col2\" >gender</th>\n      <th class=\"col_heading level0 col3\" >age</th>\n      <th class=\"col_heading level0 col4\" >short_term_deposit</th>\n      <th class=\"col_heading level0 col5\" >funds</th>\n      <th class=\"col_heading level0 col6\" >securities</th>\n      <th class=\"col_heading level0 col7\" >long_term_deposit</th>\n      <th class=\"col_heading level0 col8\" >payroll</th>\n      <th class=\"col_heading level0 col9\" >pension_plan</th>\n      <th class=\"col_heading level0 col10\" >payroll_account</th>\n      <th class=\"col_heading level0 col11\" >emc_account</th>\n      <th class=\"col_heading level0 col12\" >debit_card</th>\n      <th class=\"col_heading level0 col13\" >em_account_p</th>\n      <th class=\"col_heading level0 col14\" >em_acount</th>\n      <th class=\"col_heading level0 col15\" >salary</th>\n      <th class=\"col_heading level0 col16\" >segment_00 - OTROS</th>\n      <th class=\"col_heading level0 col17\" >segment_01 - TOP</th>\n      <th class=\"col_heading level0 col18\" >segment_02 - PARTICULARES</th>\n      <th class=\"col_heading level0 col19\" >segment_03 - UNIVERSITARIO</th>\n    </tr>\n  </thead>\n  <tbody>\n    <tr>\n      <th id=\"T_ede01_level0_row0\" class=\"row_heading level0 row0\" >credit_card</th>\n      <td id=\"T_ede01_row0_col0\" class=\"data row0 col0\" >1.000000</td>\n      <td id=\"T_ede01_row0_col1\" class=\"data row0 col1\" >0.162702</td>\n      <td id=\"T_ede01_row0_col2\" class=\"data row0 col2\" >-0.035876</td>\n      <td id=\"T_ede01_row0_col3\" class=\"data row0 col3\" >0.124714</td>\n      <td id=\"T_ede01_row0_col4\" class=\"data row0 col4\" >0.006678</td>\n      <td id=\"T_ede01_row0_col5\" class=\"data row0 col5\" >0.047790</td>\n      <td id=\"T_ede01_row0_col6\" class=\"data row0 col6\" >0.055593</td>\n      <td id=\"T_ede01_row0_col7\" class=\"data row0 col7\" >0.075032</td>\n      <td id=\"T_ede01_row0_col8\" class=\"data row0 col8\" >0.244756</td>\n      <td id=\"T_ede01_row0_col9\" class=\"data row0 col9\" >0.251867</td>\n      <td id=\"T_ede01_row0_col10\" class=\"data row0 col10\" >0.264919</td>\n      <td id=\"T_ede01_row0_col11\" class=\"data row0 col11\" >0.182446</td>\n      <td id=\"T_ede01_row0_col12\" class=\"data row0 col12\" >0.236930</td>\n      <td id=\"T_ede01_row0_col13\" class=\"data row0 col13\" >0.005961</td>\n      <td id=\"T_ede01_row0_col14\" class=\"data row0 col14\" >-0.067219</td>\n      <td id=\"T_ede01_row0_col15\" class=\"data row0 col15\" >0.005913</td>\n      <td id=\"T_ede01_row0_col16\" class=\"data row0 col16\" >-0.032742</td>\n      <td id=\"T_ede01_row0_col17\" class=\"data row0 col17\" >0.047011</td>\n      <td id=\"T_ede01_row0_col18\" class=\"data row0 col18\" >0.133529</td>\n      <td id=\"T_ede01_row0_col19\" class=\"data row0 col19\" >-0.123593</td>\n    </tr>\n    <tr>\n      <th id=\"T_ede01_level0_row1\" class=\"row_heading level0 row1\" >active_customer</th>\n      <td id=\"T_ede01_row1_col0\" class=\"data row1 col0\" >0.162702</td>\n      <td id=\"T_ede01_row1_col1\" class=\"data row1 col1\" >1.000000</td>\n      <td id=\"T_ede01_row1_col2\" class=\"data row1 col2\" >-0.056599</td>\n      <td id=\"T_ede01_row1_col3\" class=\"data row1 col3\" >0.240717</td>\n      <td id=\"T_ede01_row1_col4\" class=\"data row1 col4\" >0.053425</td>\n      <td id=\"T_ede01_row1_col5\" class=\"data row1 col5\" >0.068040</td>\n      <td id=\"T_ede01_row1_col6\" class=\"data row1 col6\" >0.073229</td>\n      <td id=\"T_ede01_row1_col7\" class=\"data row1 col7\" >0.155508</td>\n      <td id=\"T_ede01_row1_col8\" class=\"data row1 col8\" >0.235041</td>\n      <td id=\"T_ede01_row1_col9\" class=\"data row1 col9\" >0.241549</td>\n      <td id=\"T_ede01_row1_col10\" class=\"data row1 col10\" >0.284842</td>\n      <td id=\"T_ede01_row1_col11\" class=\"data row1 col11\" >0.228128</td>\n      <td id=\"T_ede01_row1_col12\" class=\"data row1 col12\" >0.383638</td>\n      <td id=\"T_ede01_row1_col13\" class=\"data row1 col13\" >0.003166</td>\n      <td id=\"T_ede01_row1_col14\" class=\"data row1 col14\" >0.227606</td>\n      <td id=\"T_ede01_row1_col15\" class=\"data row1 col15\" >-0.002406</td>\n      <td id=\"T_ede01_row1_col16\" class=\"data row1 col16\" >-0.054714</td>\n      <td id=\"T_ede01_row1_col17\" class=\"data row1 col17\" >0.146485</td>\n      <td id=\"T_ede01_row1_col18\" class=\"data row1 col18\" >0.281619</td>\n      <td id=\"T_ede01_row1_col19\" class=\"data row1 col19\" >-0.280227</td>\n    </tr>\n    <tr>\n      <th id=\"T_ede01_level0_row2\" class=\"row_heading level0 row2\" >gender</th>\n      <td id=\"T_ede01_row2_col0\" class=\"data row2 col0\" >-0.035876</td>\n      <td id=\"T_ede01_row2_col1\" class=\"data row2 col1\" >-0.056599</td>\n      <td id=\"T_ede01_row2_col2\" class=\"data row2 col2\" >1.000000</td>\n      <td id=\"T_ede01_row2_col3\" class=\"data row2 col3\" >-0.090261</td>\n      <td id=\"T_ede01_row2_col4\" class=\"data row2 col4\" >-0.011157</td>\n      <td id=\"T_ede01_row2_col5\" class=\"data row2 col5\" >-0.019077</td>\n      <td id=\"T_ede01_row2_col6\" class=\"data row2 col6\" >-0.023093</td>\n      <td id=\"T_ede01_row2_col7\" class=\"data row2 col7\" >-0.020082</td>\n      <td id=\"T_ede01_row2_col8\" class=\"data row2 col8\" >-0.020988</td>\n      <td id=\"T_ede01_row2_col9\" class=\"data row2 col9\" >-0.020652</td>\n      <td id=\"T_ede01_row2_col10\" class=\"data row2 col10\" >-0.027455</td>\n      <td id=\"T_ede01_row2_col11\" class=\"data row2 col11\" >-0.046442</td>\n      <td id=\"T_ede01_row2_col12\" class=\"data row2 col12\" >-0.047361</td>\n      <td id=\"T_ede01_row2_col13\" class=\"data row2 col13\" >-0.000901</td>\n      <td id=\"T_ede01_row2_col14\" class=\"data row2 col14\" >0.032653</td>\n      <td id=\"T_ede01_row2_col15\" class=\"data row2 col15\" >-0.001720</td>\n      <td id=\"T_ede01_row2_col16\" class=\"data row2 col16\" >-0.019037</td>\n      <td id=\"T_ede01_row2_col17\" class=\"data row2 col17\" >-0.025937</td>\n      <td id=\"T_ede01_row2_col18\" class=\"data row2 col18\" >-0.118465</td>\n      <td id=\"T_ede01_row2_col19\" class=\"data row2 col19\" >0.129086</td>\n    </tr>\n    <tr>\n      <th id=\"T_ede01_level0_row3\" class=\"row_heading level0 row3\" >age</th>\n      <td id=\"T_ede01_row3_col0\" class=\"data row3 col0\" >0.124714</td>\n      <td id=\"T_ede01_row3_col1\" class=\"data row3 col1\" >0.240717</td>\n      <td id=\"T_ede01_row3_col2\" class=\"data row3 col2\" >-0.090261</td>\n      <td id=\"T_ede01_row3_col3\" class=\"data row3 col3\" >1.000000</td>\n      <td id=\"T_ede01_row3_col4\" class=\"data row3 col4\" >0.070042</td>\n      <td id=\"T_ede01_row3_col5\" class=\"data row3 col5\" >0.082225</td>\n      <td id=\"T_ede01_row3_col6\" class=\"data row3 col6\" >0.068285</td>\n      <td id=\"T_ede01_row3_col7\" class=\"data row3 col7\" >0.225549</td>\n      <td id=\"T_ede01_row3_col8\" class=\"data row3 col8\" >0.100656</td>\n      <td id=\"T_ede01_row3_col9\" class=\"data row3 col9\" >0.119557</td>\n      <td id=\"T_ede01_row3_col10\" class=\"data row3 col10\" >0.129942</td>\n      <td id=\"T_ede01_row3_col11\" class=\"data row3 col11\" >0.253322</td>\n      <td id=\"T_ede01_row3_col12\" class=\"data row3 col12\" >0.180335</td>\n      <td id=\"T_ede01_row3_col13\" class=\"data row3 col13\" >0.002397</td>\n      <td id=\"T_ede01_row3_col14\" class=\"data row3 col14\" >-0.149628</td>\n      <td id=\"T_ede01_row3_col15\" class=\"data row3 col15\" >-0.002938</td>\n      <td id=\"T_ede01_row3_col16\" class=\"data row3 col16\" >0.068443</td>\n      <td id=\"T_ede01_row3_col17\" class=\"data row3 col17\" >0.243549</td>\n      <td id=\"T_ede01_row3_col18\" class=\"data row3 col18\" >0.608247</td>\n      <td id=\"T_ede01_row3_col19\" class=\"data row3 col19\" >-0.677588</td>\n    </tr>\n    <tr>\n      <th id=\"T_ede01_level0_row4\" class=\"row_heading level0 row4\" >short_term_deposit</th>\n      <td id=\"T_ede01_row4_col0\" class=\"data row4 col0\" >0.006678</td>\n      <td id=\"T_ede01_row4_col1\" class=\"data row4 col1\" >0.053425</td>\n      <td id=\"T_ede01_row4_col2\" class=\"data row4 col2\" >-0.011157</td>\n      <td id=\"T_ede01_row4_col3\" class=\"data row4 col3\" >0.070042</td>\n      <td id=\"T_ede01_row4_col4\" class=\"data row4 col4\" >1.000000</td>\n      <td id=\"T_ede01_row4_col5\" class=\"data row4 col5\" >0.000702</td>\n      <td id=\"T_ede01_row4_col6\" class=\"data row4 col6\" >0.000847</td>\n      <td id=\"T_ede01_row4_col7\" class=\"data row4 col7\" >0.003181</td>\n      <td id=\"T_ede01_row4_col8\" class=\"data row4 col8\" >-0.003518</td>\n      <td id=\"T_ede01_row4_col9\" class=\"data row4 col9\" >-0.003557</td>\n      <td id=\"T_ede01_row4_col10\" class=\"data row4 col10\" >-0.004734</td>\n      <td id=\"T_ede01_row4_col11\" class=\"data row4 col11\" >-0.004572</td>\n      <td id=\"T_ede01_row4_col12\" class=\"data row4 col12\" >-0.007947</td>\n      <td id=\"T_ede01_row4_col13\" class=\"data row4 col13\" >-0.000137</td>\n      <td id=\"T_ede01_row4_col14\" class=\"data row4 col14\" >-0.012786</td>\n      <td id=\"T_ede01_row4_col15\" class=\"data row4 col15\" >-0.000121</td>\n      <td id=\"T_ede01_row4_col16\" class=\"data row4 col16\" >-0.000255</td>\n      <td id=\"T_ede01_row4_col17\" class=\"data row4 col17\" >0.139018</td>\n      <td id=\"T_ede01_row4_col18\" class=\"data row4 col18\" >0.027111</td>\n      <td id=\"T_ede01_row4_col19\" class=\"data row4 col19\" >-0.062481</td>\n    </tr>\n    <tr>\n      <th id=\"T_ede01_level0_row5\" class=\"row_heading level0 row5\" >funds</th>\n      <td id=\"T_ede01_row5_col0\" class=\"data row5 col0\" >0.047790</td>\n      <td id=\"T_ede01_row5_col1\" class=\"data row5 col1\" >0.068040</td>\n      <td id=\"T_ede01_row5_col2\" class=\"data row5 col2\" >-0.019077</td>\n      <td id=\"T_ede01_row5_col3\" class=\"data row5 col3\" >0.082225</td>\n      <td id=\"T_ede01_row5_col4\" class=\"data row5 col4\" >0.000702</td>\n      <td id=\"T_ede01_row5_col5\" class=\"data row5 col5\" >1.000000</td>\n      <td id=\"T_ede01_row5_col6\" class=\"data row5 col6\" >0.094063</td>\n      <td id=\"T_ede01_row5_col7\" class=\"data row5 col7\" >0.149657</td>\n      <td id=\"T_ede01_row5_col8\" class=\"data row5 col8\" >0.022817</td>\n      <td id=\"T_ede01_row5_col9\" class=\"data row5 col9\" >0.024790</td>\n      <td id=\"T_ede01_row5_col10\" class=\"data row5 col10\" >0.028864</td>\n      <td id=\"T_ede01_row5_col11\" class=\"data row5 col11\" >0.098256</td>\n      <td id=\"T_ede01_row5_col12\" class=\"data row5 col12\" >0.025597</td>\n      <td id=\"T_ede01_row5_col13\" class=\"data row5 col13\" >-0.000140</td>\n      <td id=\"T_ede01_row5_col14\" class=\"data row5 col14\" >0.004527</td>\n      <td id=\"T_ede01_row5_col15\" class=\"data row5 col15\" >0.006227</td>\n      <td id=\"T_ede01_row5_col16\" class=\"data row5 col16\" >-0.013763</td>\n      <td id=\"T_ede01_row5_col17\" class=\"data row5 col17\" >0.116676</td>\n      <td id=\"T_ede01_row5_col18\" class=\"data row5 col18\" >0.034001</td>\n      <td id=\"T_ede01_row5_col19\" class=\"data row5 col19\" >-0.056504</td>\n    </tr>\n    <tr>\n      <th id=\"T_ede01_level0_row6\" class=\"row_heading level0 row6\" >securities</th>\n      <td id=\"T_ede01_row6_col0\" class=\"data row6 col0\" >0.055593</td>\n      <td id=\"T_ede01_row6_col1\" class=\"data row6 col1\" >0.073229</td>\n      <td id=\"T_ede01_row6_col2\" class=\"data row6 col2\" >-0.023093</td>\n      <td id=\"T_ede01_row6_col3\" class=\"data row6 col3\" >0.068285</td>\n      <td id=\"T_ede01_row6_col4\" class=\"data row6 col4\" >0.000847</td>\n      <td id=\"T_ede01_row6_col5\" class=\"data row6 col5\" >0.094063</td>\n      <td id=\"T_ede01_row6_col6\" class=\"data row6 col6\" >1.000000</td>\n      <td id=\"T_ede01_row6_col7\" class=\"data row6 col7\" >0.031505</td>\n      <td id=\"T_ede01_row6_col8\" class=\"data row6 col8\" >0.042036</td>\n      <td id=\"T_ede01_row6_col9\" class=\"data row6 col9\" >0.042846</td>\n      <td id=\"T_ede01_row6_col10\" class=\"data row6 col10\" >0.043757</td>\n      <td id=\"T_ede01_row6_col11\" class=\"data row6 col11\" >0.086655</td>\n      <td id=\"T_ede01_row6_col12\" class=\"data row6 col12\" >0.054464</td>\n      <td id=\"T_ede01_row6_col13\" class=\"data row6 col13\" >0.014122</td>\n      <td id=\"T_ede01_row6_col14\" class=\"data row6 col14\" >0.009995</td>\n      <td id=\"T_ede01_row6_col15\" class=\"data row6 col15\" >0.005696</td>\n      <td id=\"T_ede01_row6_col16\" class=\"data row6 col16\" >-0.014217</td>\n      <td id=\"T_ede01_row6_col17\" class=\"data row6 col17\" >0.081290</td>\n      <td id=\"T_ede01_row6_col18\" class=\"data row6 col18\" >0.044444</td>\n      <td id=\"T_ede01_row6_col19\" class=\"data row6 col19\" >-0.056871</td>\n    </tr>\n    <tr>\n      <th id=\"T_ede01_level0_row7\" class=\"row_heading level0 row7\" >long_term_deposit</th>\n      <td id=\"T_ede01_row7_col0\" class=\"data row7 col0\" >0.075032</td>\n      <td id=\"T_ede01_row7_col1\" class=\"data row7 col1\" >0.155508</td>\n      <td id=\"T_ede01_row7_col2\" class=\"data row7 col2\" >-0.020082</td>\n      <td id=\"T_ede01_row7_col3\" class=\"data row7 col3\" >0.225549</td>\n      <td id=\"T_ede01_row7_col4\" class=\"data row7 col4\" >0.003181</td>\n      <td id=\"T_ede01_row7_col5\" class=\"data row7 col5\" >0.149657</td>\n      <td id=\"T_ede01_row7_col6\" class=\"data row7 col6\" >0.031505</td>\n      <td id=\"T_ede01_row7_col7\" class=\"data row7 col7\" >1.000000</td>\n      <td id=\"T_ede01_row7_col8\" class=\"data row7 col8\" >0.023487</td>\n      <td id=\"T_ede01_row7_col9\" class=\"data row7 col9\" >0.026165</td>\n      <td id=\"T_ede01_row7_col10\" class=\"data row7 col10\" >0.028090</td>\n      <td id=\"T_ede01_row7_col11\" class=\"data row7 col11\" >0.186454</td>\n      <td id=\"T_ede01_row7_col12\" class=\"data row7 col12\" >0.020816</td>\n      <td id=\"T_ede01_row7_col13\" class=\"data row7 col13\" >-0.000322</td>\n      <td id=\"T_ede01_row7_col14\" class=\"data row7 col14\" >-0.008527</td>\n      <td id=\"T_ede01_row7_col15\" class=\"data row7 col15\" >0.008075</td>\n      <td id=\"T_ede01_row7_col16\" class=\"data row7 col16\" >-0.028901</td>\n      <td id=\"T_ede01_row7_col17\" class=\"data row7 col17\" >0.409750</td>\n      <td id=\"T_ede01_row7_col18\" class=\"data row7 col18\" >0.053265</td>\n      <td id=\"T_ede01_row7_col19\" class=\"data row7 col19\" >-0.144953</td>\n    </tr>\n    <tr>\n      <th id=\"T_ede01_level0_row8\" class=\"row_heading level0 row8\" >payroll</th>\n      <td id=\"T_ede01_row8_col0\" class=\"data row8 col0\" >0.244756</td>\n      <td id=\"T_ede01_row8_col1\" class=\"data row8 col1\" >0.235041</td>\n      <td id=\"T_ede01_row8_col2\" class=\"data row8 col2\" >-0.020988</td>\n      <td id=\"T_ede01_row8_col3\" class=\"data row8 col3\" >0.100656</td>\n      <td id=\"T_ede01_row8_col4\" class=\"data row8 col4\" >-0.003518</td>\n      <td id=\"T_ede01_row8_col5\" class=\"data row8 col5\" >0.022817</td>\n      <td id=\"T_ede01_row8_col6\" class=\"data row8 col6\" >0.042036</td>\n      <td id=\"T_ede01_row8_col7\" class=\"data row8 col7\" >0.023487</td>\n      <td id=\"T_ede01_row8_col8\" class=\"data row8 col8\" >1.000000</td>\n      <td id=\"T_ede01_row8_col9\" class=\"data row8 col9\" >0.972479</td>\n      <td id=\"T_ede01_row8_col10\" class=\"data row8 col10\" >0.741180</td>\n      <td id=\"T_ede01_row8_col11\" class=\"data row8 col11\" >0.157932</td>\n      <td id=\"T_ede01_row8_col12\" class=\"data row8 col12\" >0.366645</td>\n      <td id=\"T_ede01_row8_col13\" class=\"data row8 col13\" >0.004118</td>\n      <td id=\"T_ede01_row8_col14\" class=\"data row8 col14\" >-0.235242</td>\n      <td id=\"T_ede01_row8_col15\" class=\"data row8 col15\" >-0.001407</td>\n      <td id=\"T_ede01_row8_col16\" class=\"data row8 col16\" >-0.042480</td>\n      <td id=\"T_ede01_row8_col17\" class=\"data row8 col17\" >0.027010</td>\n      <td id=\"T_ede01_row8_col18\" class=\"data row8 col18\" >0.147808</td>\n      <td id=\"T_ede01_row8_col19\" class=\"data row8 col19\" >-0.127127</td>\n    </tr>\n    <tr>\n      <th id=\"T_ede01_level0_row9\" class=\"row_heading level0 row9\" >pension_plan</th>\n      <td id=\"T_ede01_row9_col0\" class=\"data row9 col0\" >0.251867</td>\n      <td id=\"T_ede01_row9_col1\" class=\"data row9 col1\" >0.241549</td>\n      <td id=\"T_ede01_row9_col2\" class=\"data row9 col2\" >-0.020652</td>\n      <td id=\"T_ede01_row9_col3\" class=\"data row9 col3\" >0.119557</td>\n      <td id=\"T_ede01_row9_col4\" class=\"data row9 col4\" >-0.003557</td>\n      <td id=\"T_ede01_row9_col5\" class=\"data row9 col5\" >0.024790</td>\n      <td id=\"T_ede01_row9_col6\" class=\"data row9 col6\" >0.042846</td>\n      <td id=\"T_ede01_row9_col7\" class=\"data row9 col7\" >0.026165</td>\n      <td id=\"T_ede01_row9_col8\" class=\"data row9 col8\" >0.972479</td>\n      <td id=\"T_ede01_row9_col9\" class=\"data row9 col9\" >1.000000</td>\n      <td id=\"T_ede01_row9_col10\" class=\"data row9 col10\" >0.761244</td>\n      <td id=\"T_ede01_row9_col11\" class=\"data row9 col11\" >0.163448</td>\n      <td id=\"T_ede01_row9_col12\" class=\"data row9 col12\" >0.375576</td>\n      <td id=\"T_ede01_row9_col13\" class=\"data row9 col13\" >0.003986</td>\n      <td id=\"T_ede01_row9_col14\" class=\"data row9 col14\" >-0.242629</td>\n      <td id=\"T_ede01_row9_col15\" class=\"data row9 col15\" >-0.001357</td>\n      <td id=\"T_ede01_row9_col16\" class=\"data row9 col16\" >-0.043886</td>\n      <td id=\"T_ede01_row9_col17\" class=\"data row9 col17\" >0.030339</td>\n      <td id=\"T_ede01_row9_col18\" class=\"data row9 col18\" >0.154827</td>\n      <td id=\"T_ede01_row9_col19\" class=\"data row9 col19\" >-0.134006</td>\n    </tr>\n    <tr>\n      <th id=\"T_ede01_level0_row10\" class=\"row_heading level0 row10\" >payroll_account</th>\n      <td id=\"T_ede01_row10_col0\" class=\"data row10 col0\" >0.264919</td>\n      <td id=\"T_ede01_row10_col1\" class=\"data row10 col1\" >0.284842</td>\n      <td id=\"T_ede01_row10_col2\" class=\"data row10 col2\" >-0.027455</td>\n      <td id=\"T_ede01_row10_col3\" class=\"data row10 col3\" >0.129942</td>\n      <td id=\"T_ede01_row10_col4\" class=\"data row10 col4\" >-0.004734</td>\n      <td id=\"T_ede01_row10_col5\" class=\"data row10 col5\" >0.028864</td>\n      <td id=\"T_ede01_row10_col6\" class=\"data row10 col6\" >0.043757</td>\n      <td id=\"T_ede01_row10_col7\" class=\"data row10 col7\" >0.028090</td>\n      <td id=\"T_ede01_row10_col8\" class=\"data row10 col8\" >0.741180</td>\n      <td id=\"T_ede01_row10_col9\" class=\"data row10 col9\" >0.761244</td>\n      <td id=\"T_ede01_row10_col10\" class=\"data row10 col10\" >1.000000</td>\n      <td id=\"T_ede01_row10_col11\" class=\"data row10 col11\" >0.180355</td>\n      <td id=\"T_ede01_row10_col12\" class=\"data row10 col12\" >0.410314</td>\n      <td id=\"T_ede01_row10_col13\" class=\"data row10 col13\" >0.003135</td>\n      <td id=\"T_ede01_row10_col14\" class=\"data row10 col14\" >-0.318885</td>\n      <td id=\"T_ede01_row10_col15\" class=\"data row10 col15\" >-0.001590</td>\n      <td id=\"T_ede01_row10_col16\" class=\"data row10 col16\" >-0.055843</td>\n      <td id=\"T_ede01_row10_col17\" class=\"data row10 col17\" >0.026902</td>\n      <td id=\"T_ede01_row10_col18\" class=\"data row10 col18\" >0.177448</td>\n      <td id=\"T_ede01_row10_col19\" class=\"data row10 col19\" >-0.148781</td>\n    </tr>\n    <tr>\n      <th id=\"T_ede01_level0_row11\" class=\"row_heading level0 row11\" >emc_account</th>\n      <td id=\"T_ede01_row11_col0\" class=\"data row11 col0\" >0.182446</td>\n      <td id=\"T_ede01_row11_col1\" class=\"data row11 col1\" >0.228128</td>\n      <td id=\"T_ede01_row11_col2\" class=\"data row11 col2\" >-0.046442</td>\n      <td id=\"T_ede01_row11_col3\" class=\"data row11 col3\" >0.253322</td>\n      <td id=\"T_ede01_row11_col4\" class=\"data row11 col4\" >-0.004572</td>\n      <td id=\"T_ede01_row11_col5\" class=\"data row11 col5\" >0.098256</td>\n      <td id=\"T_ede01_row11_col6\" class=\"data row11 col6\" >0.086655</td>\n      <td id=\"T_ede01_row11_col7\" class=\"data row11 col7\" >0.186454</td>\n      <td id=\"T_ede01_row11_col8\" class=\"data row11 col8\" >0.157932</td>\n      <td id=\"T_ede01_row11_col9\" class=\"data row11 col9\" >0.163448</td>\n      <td id=\"T_ede01_row11_col10\" class=\"data row11 col10\" >0.180355</td>\n      <td id=\"T_ede01_row11_col11\" class=\"data row11 col11\" >1.000000</td>\n      <td id=\"T_ede01_row11_col12\" class=\"data row11 col12\" >0.163444</td>\n      <td id=\"T_ede01_row11_col13\" class=\"data row11 col13\" >-0.000583</td>\n      <td id=\"T_ede01_row11_col14\" class=\"data row11 col14\" >-0.068714</td>\n      <td id=\"T_ede01_row11_col15\" class=\"data row11 col15\" >0.007179</td>\n      <td id=\"T_ede01_row11_col16\" class=\"data row11 col16\" >-0.057214</td>\n      <td id=\"T_ede01_row11_col17\" class=\"data row11 col17\" >0.225747</td>\n      <td id=\"T_ede01_row11_col18\" class=\"data row11 col18\" >0.204684</td>\n      <td id=\"T_ede01_row11_col19\" class=\"data row11 col19\" >-0.226658</td>\n    </tr>\n    <tr>\n      <th id=\"T_ede01_level0_row12\" class=\"row_heading level0 row12\" >debit_card</th>\n      <td id=\"T_ede01_row12_col0\" class=\"data row12 col0\" >0.236930</td>\n      <td id=\"T_ede01_row12_col1\" class=\"data row12 col1\" >0.383638</td>\n      <td id=\"T_ede01_row12_col2\" class=\"data row12 col2\" >-0.047361</td>\n      <td id=\"T_ede01_row12_col3\" class=\"data row12 col3\" >0.180335</td>\n      <td id=\"T_ede01_row12_col4\" class=\"data row12 col4\" >-0.007947</td>\n      <td id=\"T_ede01_row12_col5\" class=\"data row12 col5\" >0.025597</td>\n      <td id=\"T_ede01_row12_col6\" class=\"data row12 col6\" >0.054464</td>\n      <td id=\"T_ede01_row12_col7\" class=\"data row12 col7\" >0.020816</td>\n      <td id=\"T_ede01_row12_col8\" class=\"data row12 col8\" >0.366645</td>\n      <td id=\"T_ede01_row12_col9\" class=\"data row12 col9\" >0.375576</td>\n      <td id=\"T_ede01_row12_col10\" class=\"data row12 col10\" >0.410314</td>\n      <td id=\"T_ede01_row12_col11\" class=\"data row12 col11\" >0.163444</td>\n      <td id=\"T_ede01_row12_col12\" class=\"data row12 col12\" >1.000000</td>\n      <td id=\"T_ede01_row12_col13\" class=\"data row12 col13\" >-0.000800</td>\n      <td id=\"T_ede01_row12_col14\" class=\"data row12 col14\" >-0.019738</td>\n      <td id=\"T_ede01_row12_col15\" class=\"data row12 col15\" >-0.002424</td>\n      <td id=\"T_ede01_row12_col16\" class=\"data row12 col16\" >-0.074164</td>\n      <td id=\"T_ede01_row12_col17\" class=\"data row12 col17\" >0.014315</td>\n      <td id=\"T_ede01_row12_col18\" class=\"data row12 col18\" >0.255791</td>\n      <td id=\"T_ede01_row12_col19\" class=\"data row12 col19\" >-0.211106</td>\n    </tr>\n    <tr>\n      <th id=\"T_ede01_level0_row13\" class=\"row_heading level0 row13\" >em_account_p</th>\n      <td id=\"T_ede01_row13_col0\" class=\"data row13 col0\" >0.005961</td>\n      <td id=\"T_ede01_row13_col1\" class=\"data row13 col1\" >0.003166</td>\n      <td id=\"T_ede01_row13_col2\" class=\"data row13 col2\" >-0.000901</td>\n      <td id=\"T_ede01_row13_col3\" class=\"data row13 col3\" >0.002397</td>\n      <td id=\"T_ede01_row13_col4\" class=\"data row13 col4\" >-0.000137</td>\n      <td id=\"T_ede01_row13_col5\" class=\"data row13 col5\" >-0.000140</td>\n      <td id=\"T_ede01_row13_col6\" class=\"data row13 col6\" >0.014122</td>\n      <td id=\"T_ede01_row13_col7\" class=\"data row13 col7\" >-0.000322</td>\n      <td id=\"T_ede01_row13_col8\" class=\"data row13 col8\" >0.004118</td>\n      <td id=\"T_ede01_row13_col9\" class=\"data row13 col9\" >0.003986</td>\n      <td id=\"T_ede01_row13_col10\" class=\"data row13 col10\" >0.003135</td>\n      <td id=\"T_ede01_row13_col11\" class=\"data row13 col11\" >-0.000583</td>\n      <td id=\"T_ede01_row13_col12\" class=\"data row13 col12\" >-0.000800</td>\n      <td id=\"T_ede01_row13_col13\" class=\"data row13 col13\" >1.000000</td>\n      <td id=\"T_ede01_row13_col14\" class=\"data row13 col14\" >0.000005</td>\n      <td id=\"T_ede01_row13_col15\" class=\"data row13 col15\" >0.000296</td>\n      <td id=\"T_ede01_row13_col16\" class=\"data row13 col16\" >-0.000652</td>\n      <td id=\"T_ede01_row13_col17\" class=\"data row13 col17\" >0.006212</td>\n      <td id=\"T_ede01_row13_col18\" class=\"data row13 col18\" >-0.001746</td>\n      <td id=\"T_ede01_row13_col19\" class=\"data row13 col19\" >0.000341</td>\n    </tr>\n    <tr>\n      <th id=\"T_ede01_level0_row14\" class=\"row_heading level0 row14\" >em_acount</th>\n      <td id=\"T_ede01_row14_col0\" class=\"data row14 col0\" >-0.067219</td>\n      <td id=\"T_ede01_row14_col1\" class=\"data row14 col1\" >0.227606</td>\n      <td id=\"T_ede01_row14_col2\" class=\"data row14 col2\" >0.032653</td>\n      <td id=\"T_ede01_row14_col3\" class=\"data row14 col3\" >-0.149628</td>\n      <td id=\"T_ede01_row14_col4\" class=\"data row14 col4\" >-0.012786</td>\n      <td id=\"T_ede01_row14_col5\" class=\"data row14 col5\" >0.004527</td>\n      <td id=\"T_ede01_row14_col6\" class=\"data row14 col6\" >0.009995</td>\n      <td id=\"T_ede01_row14_col7\" class=\"data row14 col7\" >-0.008527</td>\n      <td id=\"T_ede01_row14_col8\" class=\"data row14 col8\" >-0.235242</td>\n      <td id=\"T_ede01_row14_col9\" class=\"data row14 col9\" >-0.242629</td>\n      <td id=\"T_ede01_row14_col10\" class=\"data row14 col10\" >-0.318885</td>\n      <td id=\"T_ede01_row14_col11\" class=\"data row14 col11\" >-0.068714</td>\n      <td id=\"T_ede01_row14_col12\" class=\"data row14 col12\" >-0.019738</td>\n      <td id=\"T_ede01_row14_col13\" class=\"data row14 col13\" >0.000005</td>\n      <td id=\"T_ede01_row14_col14\" class=\"data row14 col14\" >1.000000</td>\n      <td id=\"T_ede01_row14_col15\" class=\"data row14 col15\" >-0.022725</td>\n      <td id=\"T_ede01_row14_col16\" class=\"data row14 col16\" >-0.126796</td>\n      <td id=\"T_ede01_row14_col17\" class=\"data row14 col17\" >-0.028084</td>\n      <td id=\"T_ede01_row14_col18\" class=\"data row14 col18\" >-0.194336</td>\n      <td id=\"T_ede01_row14_col19\" class=\"data row14 col19\" >0.254848</td>\n    </tr>\n    <tr>\n      <th id=\"T_ede01_level0_row15\" class=\"row_heading level0 row15\" >salary</th>\n      <td id=\"T_ede01_row15_col0\" class=\"data row15 col0\" >0.005913</td>\n      <td id=\"T_ede01_row15_col1\" class=\"data row15 col1\" >-0.002406</td>\n      <td id=\"T_ede01_row15_col2\" class=\"data row15 col2\" >-0.001720</td>\n      <td id=\"T_ede01_row15_col3\" class=\"data row15 col3\" >-0.002938</td>\n      <td id=\"T_ede01_row15_col4\" class=\"data row15 col4\" >-0.000121</td>\n      <td id=\"T_ede01_row15_col5\" class=\"data row15 col5\" >0.006227</td>\n      <td id=\"T_ede01_row15_col6\" class=\"data row15 col6\" >0.005696</td>\n      <td id=\"T_ede01_row15_col7\" class=\"data row15 col7\" >0.008075</td>\n      <td id=\"T_ede01_row15_col8\" class=\"data row15 col8\" >-0.001407</td>\n      <td id=\"T_ede01_row15_col9\" class=\"data row15 col9\" >-0.001357</td>\n      <td id=\"T_ede01_row15_col10\" class=\"data row15 col10\" >-0.001590</td>\n      <td id=\"T_ede01_row15_col11\" class=\"data row15 col11\" >0.007179</td>\n      <td id=\"T_ede01_row15_col12\" class=\"data row15 col12\" >-0.002424</td>\n      <td id=\"T_ede01_row15_col13\" class=\"data row15 col13\" >0.000296</td>\n      <td id=\"T_ede01_row15_col14\" class=\"data row15 col14\" >-0.022725</td>\n      <td id=\"T_ede01_row15_col15\" class=\"data row15 col15\" >1.000000</td>\n      <td id=\"T_ede01_row15_col16\" class=\"data row15 col16\" >-0.008793</td>\n      <td id=\"T_ede01_row15_col17\" class=\"data row15 col17\" >0.012617</td>\n      <td id=\"T_ede01_row15_col18\" class=\"data row15 col18\" >-0.013942</td>\n      <td id=\"T_ede01_row15_col19\" class=\"data row15 col19\" >0.014264</td>\n    </tr>\n    <tr>\n      <th id=\"T_ede01_level0_row16\" class=\"row_heading level0 row16\" >segment_00 - OTROS</th>\n      <td id=\"T_ede01_row16_col0\" class=\"data row16 col0\" >-0.032742</td>\n      <td id=\"T_ede01_row16_col1\" class=\"data row16 col1\" >-0.054714</td>\n      <td id=\"T_ede01_row16_col2\" class=\"data row16 col2\" >-0.019037</td>\n      <td id=\"T_ede01_row16_col3\" class=\"data row16 col3\" >0.068443</td>\n      <td id=\"T_ede01_row16_col4\" class=\"data row16 col4\" >-0.000255</td>\n      <td id=\"T_ede01_row16_col5\" class=\"data row16 col5\" >-0.013763</td>\n      <td id=\"T_ede01_row16_col6\" class=\"data row16 col6\" >-0.014217</td>\n      <td id=\"T_ede01_row16_col7\" class=\"data row16 col7\" >-0.028901</td>\n      <td id=\"T_ede01_row16_col8\" class=\"data row16 col8\" >-0.042480</td>\n      <td id=\"T_ede01_row16_col9\" class=\"data row16 col9\" >-0.043886</td>\n      <td id=\"T_ede01_row16_col10\" class=\"data row16 col10\" >-0.055843</td>\n      <td id=\"T_ede01_row16_col11\" class=\"data row16 col11\" >-0.057214</td>\n      <td id=\"T_ede01_row16_col12\" class=\"data row16 col12\" >-0.074164</td>\n      <td id=\"T_ede01_row16_col13\" class=\"data row16 col13\" >-0.000652</td>\n      <td id=\"T_ede01_row16_col14\" class=\"data row16 col14\" >-0.126796</td>\n      <td id=\"T_ede01_row16_col15\" class=\"data row16 col15\" >-0.008793</td>\n      <td id=\"T_ede01_row16_col16\" class=\"data row16 col16\" >1.000000</td>\n      <td id=\"T_ede01_row16_col17\" class=\"data row16 col17\" >-0.033759</td>\n      <td id=\"T_ede01_row16_col18\" class=\"data row16 col18\" >-0.175855</td>\n      <td id=\"T_ede01_row16_col19\" class=\"data row16 col19\" >-0.314437</td>\n    </tr>\n    <tr>\n      <th id=\"T_ede01_level0_row17\" class=\"row_heading level0 row17\" >segment_01 - TOP</th>\n      <td id=\"T_ede01_row17_col0\" class=\"data row17 col0\" >0.047011</td>\n      <td id=\"T_ede01_row17_col1\" class=\"data row17 col1\" >0.146485</td>\n      <td id=\"T_ede01_row17_col2\" class=\"data row17 col2\" >-0.025937</td>\n      <td id=\"T_ede01_row17_col3\" class=\"data row17 col3\" >0.243549</td>\n      <td id=\"T_ede01_row17_col4\" class=\"data row17 col4\" >0.139018</td>\n      <td id=\"T_ede01_row17_col5\" class=\"data row17 col5\" >0.116676</td>\n      <td id=\"T_ede01_row17_col6\" class=\"data row17 col6\" >0.081290</td>\n      <td id=\"T_ede01_row17_col7\" class=\"data row17 col7\" >0.409750</td>\n      <td id=\"T_ede01_row17_col8\" class=\"data row17 col8\" >0.027010</td>\n      <td id=\"T_ede01_row17_col9\" class=\"data row17 col9\" >0.030339</td>\n      <td id=\"T_ede01_row17_col10\" class=\"data row17 col10\" >0.026902</td>\n      <td id=\"T_ede01_row17_col11\" class=\"data row17 col11\" >0.225747</td>\n      <td id=\"T_ede01_row17_col12\" class=\"data row17 col12\" >0.014315</td>\n      <td id=\"T_ede01_row17_col13\" class=\"data row17 col13\" >0.006212</td>\n      <td id=\"T_ede01_row17_col14\" class=\"data row17 col14\" >-0.028084</td>\n      <td id=\"T_ede01_row17_col15\" class=\"data row17 col15\" >0.012617</td>\n      <td id=\"T_ede01_row17_col16\" class=\"data row17 col16\" >-0.033759</td>\n      <td id=\"T_ede01_row17_col17\" class=\"data row17 col17\" >1.000000</td>\n      <td id=\"T_ede01_row17_col18\" class=\"data row17 col18\" >-0.090463</td>\n      <td id=\"T_ede01_row17_col19\" class=\"data row17 col19\" >-0.161751</td>\n    </tr>\n    <tr>\n      <th id=\"T_ede01_level0_row18\" class=\"row_heading level0 row18\" >segment_02 - PARTICULARES</th>\n      <td id=\"T_ede01_row18_col0\" class=\"data row18 col0\" >0.133529</td>\n      <td id=\"T_ede01_row18_col1\" class=\"data row18 col1\" >0.281619</td>\n      <td id=\"T_ede01_row18_col2\" class=\"data row18 col2\" >-0.118465</td>\n      <td id=\"T_ede01_row18_col3\" class=\"data row18 col3\" >0.608247</td>\n      <td id=\"T_ede01_row18_col4\" class=\"data row18 col4\" >0.027111</td>\n      <td id=\"T_ede01_row18_col5\" class=\"data row18 col5\" >0.034001</td>\n      <td id=\"T_ede01_row18_col6\" class=\"data row18 col6\" >0.044444</td>\n      <td id=\"T_ede01_row18_col7\" class=\"data row18 col7\" >0.053265</td>\n      <td id=\"T_ede01_row18_col8\" class=\"data row18 col8\" >0.147808</td>\n      <td id=\"T_ede01_row18_col9\" class=\"data row18 col9\" >0.154827</td>\n      <td id=\"T_ede01_row18_col10\" class=\"data row18 col10\" >0.177448</td>\n      <td id=\"T_ede01_row18_col11\" class=\"data row18 col11\" >0.204684</td>\n      <td id=\"T_ede01_row18_col12\" class=\"data row18 col12\" >0.255791</td>\n      <td id=\"T_ede01_row18_col13\" class=\"data row18 col13\" >-0.001746</td>\n      <td id=\"T_ede01_row18_col14\" class=\"data row18 col14\" >-0.194336</td>\n      <td id=\"T_ede01_row18_col15\" class=\"data row18 col15\" >-0.013942</td>\n      <td id=\"T_ede01_row18_col16\" class=\"data row18 col16\" >-0.175855</td>\n      <td id=\"T_ede01_row18_col17\" class=\"data row18 col17\" >-0.090463</td>\n      <td id=\"T_ede01_row18_col18\" class=\"data row18 col18\" >1.000000</td>\n      <td id=\"T_ede01_row18_col19\" class=\"data row18 col19\" >-0.842581</td>\n    </tr>\n    <tr>\n      <th id=\"T_ede01_level0_row19\" class=\"row_heading level0 row19\" >segment_03 - UNIVERSITARIO</th>\n      <td id=\"T_ede01_row19_col0\" class=\"data row19 col0\" >-0.123593</td>\n      <td id=\"T_ede01_row19_col1\" class=\"data row19 col1\" >-0.280227</td>\n      <td id=\"T_ede01_row19_col2\" class=\"data row19 col2\" >0.129086</td>\n      <td id=\"T_ede01_row19_col3\" class=\"data row19 col3\" >-0.677588</td>\n      <td id=\"T_ede01_row19_col4\" class=\"data row19 col4\" >-0.062481</td>\n      <td id=\"T_ede01_row19_col5\" class=\"data row19 col5\" >-0.056504</td>\n      <td id=\"T_ede01_row19_col6\" class=\"data row19 col6\" >-0.056871</td>\n      <td id=\"T_ede01_row19_col7\" class=\"data row19 col7\" >-0.144953</td>\n      <td id=\"T_ede01_row19_col8\" class=\"data row19 col8\" >-0.127127</td>\n      <td id=\"T_ede01_row19_col9\" class=\"data row19 col9\" >-0.134006</td>\n      <td id=\"T_ede01_row19_col10\" class=\"data row19 col10\" >-0.148781</td>\n      <td id=\"T_ede01_row19_col11\" class=\"data row19 col11\" >-0.226658</td>\n      <td id=\"T_ede01_row19_col12\" class=\"data row19 col12\" >-0.211106</td>\n      <td id=\"T_ede01_row19_col13\" class=\"data row19 col13\" >0.000341</td>\n      <td id=\"T_ede01_row19_col14\" class=\"data row19 col14\" >0.254848</td>\n      <td id=\"T_ede01_row19_col15\" class=\"data row19 col15\" >0.014264</td>\n      <td id=\"T_ede01_row19_col16\" class=\"data row19 col16\" >-0.314437</td>\n      <td id=\"T_ede01_row19_col17\" class=\"data row19 col17\" >-0.161751</td>\n      <td id=\"T_ede01_row19_col18\" class=\"data row19 col18\" >-0.842581</td>\n      <td id=\"T_ede01_row19_col19\" class=\"data row19 col19\" >1.000000</td>\n    </tr>\n  </tbody>\n</table>\n"
     },
     "execution_count": 14,
     "metadata": {},
     "output_type": "execute_result"
    }
   ],
   "source": [
    "fields_for_corr = [\n",
    "    'active_customer', 'gender', 'age', 'short_term_deposit',\n",
    "    'funds', 'securities', 'long_term_deposit', 'credit_card', 'payroll', 'pension_plan',\n",
    "    'payroll_account', 'emc_account', 'debit_card', 'em_account_p', 'em_acount',\n",
    "    'salary', 'segment_00 - OTROS', 'segment_01 - TOP', 'segment_02 - PARTICULARES', 'segment_03 - UNIVERSITARIO'\n",
    "]\n",
    "fields_for_corr.remove(TARGET)\n",
    "fields_for_corr.insert(0, TARGET)\n",
    "\n",
    "corr = df_prep[fields_for_corr].corr()\n",
    "corr.style.background_gradient(cmap=\"coolwarm\")"
   ],
   "metadata": {
    "pycharm": {
     "name": "#%%\n"
    },
    "id": "bdU2tpqIoA46",
    "executionInfo": {
     "status": "ok",
     "timestamp": 1650721369197,
     "user_tz": -120,
     "elapsed": 1001,
     "user": {
      "displayName": "nerea dominguez cabezas",
      "userId": "01946356256277218181"
     }
    },
    "colab": {
     "base_uri": "https://localhost:8080/",
     "height": 765
    },
    "outputId": "25607a7e-d1b3-4c33-8f32-4f08d8d65a02"
   }
  },
  {
   "cell_type": "markdown",
   "source": [
    "Los puntos superiores nos indican los outliers. En este caso se observa que  hay relación entre la variable de \"age\" y el producto \"credit_card\""
   ],
   "metadata": {
    "id": "bIQ65Reo_QTV"
   }
  },
  {
   "cell_type": "code",
   "execution_count": 15,
   "outputs": [
    {
     "data": {
      "text/plain": "<AxesSubplot:xlabel='credit_card', ylabel='age'>"
     },
     "execution_count": 15,
     "metadata": {},
     "output_type": "execute_result"
    },
    {
     "data": {
      "text/plain": "<Figure size 432x288 with 1 Axes>",
      "image/png": "[encoded data removed]"
     },
     "metadata": {
      "needs_background": "light"
     },
     "output_type": "display_data"
    }
   ],
   "source": [
    "sns.boxplot(data=df_prep, x=TARGET, y=\"age\")"
   ],
   "metadata": {
    "pycharm": {
     "name": "#%%\n"
    },
    "id": "0O-00q4UoA47",
    "executionInfo": {
     "status": "ok",
     "timestamp": 1650721369693,
     "user_tz": -120,
     "elapsed": 503,
     "user": {
      "displayName": "nerea dominguez cabezas",
      "userId": "01946356256277218181"
     }
    },
    "colab": {
     "base_uri": "https://localhost:8080/",
     "height": 298
    },
    "outputId": "c0c4aa84-4d32-4c0e-e448-f86c7dd179ff"
   }
  },
  {
   "cell_type": "markdown",
   "source": [
    "En este gráfico vemos los clientes que tienen \"credit_card\" según la \"region_code\" , vemos que la mayoría están en la región número 28 o sea Madrid."
   ],
   "metadata": {
    "id": "2R1pFtI9_35w"
   }
  },
  {
   "cell_type": "code",
   "execution_count": 16,
   "outputs": [
    {
     "data": {
      "text/plain": "<Figure size 1080x360 with 1 Axes>",
      "image/png": "[encoded data removed]"
     },
     "metadata": {
      "needs_background": "light"
     },
     "output_type": "display_data"
    },
    {
     "data": {
      "text/plain": "                    len         sum        mean\n            credit_card credit_card credit_card\nregion_code                                    \n-1                  166          15    0.090361\n 1                 1082          32    0.029575\n 2                 5282          51    0.009655\n 3                13683         255    0.018636\n 4                 2700          60    0.022222\n 5                 1575          16    0.010159\n 6                 8792          53    0.006028\n 7                 5388         146    0.027097\n 8                46781         788    0.016844\n 9                 3618          64    0.017689\n 10                5852          47    0.008031\n 11               11854         129    0.010882\n 12                5072          95    0.018730\n 13                5124          50    0.009758\n 14                5735          69    0.012031\n 15               18293         170    0.009293\n 16                2533          17    0.006711\n 17                3890          60    0.015424\n 18                7807         115    0.014730\n 19                2385          60    0.025157\n 20                1591          68    0.042740\n 21                5079          47    0.009254\n 22                1646          18    0.010936\n 23                2513          62    0.024672\n 24                2811          54    0.019210\n 25                3433          29    0.008447\n 26                2637          40    0.015169\n 27                3760          36    0.009574\n 28              101044        3361    0.033263\n 29               13774         222    0.016117\n 30               21881         151    0.006901\n 31                2393          46    0.019223\n 32                3897          32    0.008211\n 33               10250         132    0.012878\n 34                2018          28    0.013875\n 35                9628         173    0.017968\n 36               12781         130    0.010171\n 37                6696          62    0.009259\n 38                2662          91    0.034185\n 39                5569         111    0.019932\n 40                1630          27    0.016564\n 41               21576         302    0.013997\n 42                 703           9    0.012802\n 43                4707          65    0.013809\n 44                 948           9    0.009494\n 45                7907         122    0.015429\n 46               28076         427    0.015209\n 47                8497         107    0.012593\n 48                3005          87    0.028952\n 49                2227          18    0.008083\n 50               10087         156    0.015465\n 51                 250           8    0.032000\n 52                 220           9    0.040909",
      "text/html": "<div>\n<style scoped>\n    .dataframe tbody tr th:only-of-type {\n        vertical-align: middle;\n    }\n\n    .dataframe tbody tr th {\n        vertical-align: top;\n    }\n\n    .dataframe thead tr th {\n        text-align: left;\n    }\n\n    .dataframe thead tr:last-of-type th {\n        text-align: right;\n    }\n</style>\n<table border=\"1\" class=\"dataframe\">\n  <thead>\n    <tr>\n      <th></th>\n      <th>len</th>\n      <th>sum</th>\n      <th>mean</th>\n    </tr>\n    <tr>\n      <th></th>\n      <th>credit_card</th>\n      <th>credit_card</th>\n      <th>credit_card</th>\n    </tr>\n    <tr>\n      <th>region_code</th>\n      <th></th>\n      <th></th>\n      <th></th>\n    </tr>\n  </thead>\n  <tbody>\n    <tr>\n      <th>-1</th>\n      <td>166</td>\n      <td>15</td>\n      <td>0.090361</td>\n    </tr>\n    <tr>\n      <th>1</th>\n      <td>1082</td>\n      <td>32</td>\n      <td>0.029575</td>\n    </tr>\n    <tr>\n      <th>2</th>\n      <td>5282</td>\n      <td>51</td>\n      <td>0.009655</td>\n    </tr>\n    <tr>\n      <th>3</th>\n      <td>13683</td>\n      <td>255</td>\n      <td>0.018636</td>\n    </tr>\n    <tr>\n      <th>4</th>\n      <td>2700</td>\n      <td>60</td>\n      <td>0.022222</td>\n    </tr>\n    <tr>\n      <th>5</th>\n      <td>1575</td>\n      <td>16</td>\n      <td>0.010159</td>\n    </tr>\n    <tr>\n      <th>6</th>\n      <td>8792</td>\n      <td>53</td>\n      <td>0.006028</td>\n    </tr>\n    <tr>\n      <th>7</th>\n      <td>5388</td>\n      <td>146</td>\n      <td>0.027097</td>\n    </tr>\n    <tr>\n      <th>8</th>\n      <td>46781</td>\n      <td>788</td>\n      <td>0.016844</td>\n    </tr>\n    <tr>\n      <th>9</th>\n      <td>3618</td>\n      <td>64</td>\n      <td>0.017689</td>\n    </tr>\n    <tr>\n      <th>10</th>\n      <td>5852</td>\n      <td>47</td>\n      <td>0.008031</td>\n    </tr>\n    <tr>\n      <th>11</th>\n      <td>11854</td>\n      <td>129</td>\n      <td>0.010882</td>\n    </tr>\n    <tr>\n      <th>12</th>\n      <td>5072</td>\n      <td>95</td>\n      <td>0.018730</td>\n    </tr>\n    <tr>\n      <th>13</th>\n      <td>5124</td>\n      <td>50</td>\n      <td>0.009758</td>\n    </tr>\n    <tr>\n      <th>14</th>\n      <td>5735</td>\n      <td>69</td>\n      <td>0.012031</td>\n    </tr>\n    <tr>\n      <th>15</th>\n      <td>18293</td>\n      <td>170</td>\n      <td>0.009293</td>\n    </tr>\n    <tr>\n      <th>16</th>\n      <td>2533</td>\n      <td>17</td>\n      <td>0.006711</td>\n    </tr>\n    <tr>\n      <th>17</th>\n      <td>3890</td>\n      <td>60</td>\n      <td>0.015424</td>\n    </tr>\n    <tr>\n      <th>18</th>\n      <td>7807</td>\n      <td>115</td>\n      <td>0.014730</td>\n    </tr>\n    <tr>\n      <th>19</th>\n      <td>2385</td>\n      <td>60</td>\n      <td>0.025157</td>\n    </tr>\n    <tr>\n      <th>20</th>\n      <td>1591</td>\n      <td>68</td>\n      <td>0.042740</td>\n    </tr>\n    <tr>\n      <th>21</th>\n      <td>5079</td>\n      <td>47</td>\n      <td>0.009254</td>\n    </tr>\n    <tr>\n      <th>22</th>\n      <td>1646</td>\n      <td>18</td>\n      <td>0.010936</td>\n    </tr>\n    <tr>\n      <th>23</th>\n      <td>2513</td>\n      <td>62</td>\n      <td>0.024672</td>\n    </tr>\n    <tr>\n      <th>24</th>\n      <td>2811</td>\n      <td>54</td>\n      <td>0.019210</td>\n    </tr>\n    <tr>\n      <th>25</th>\n      <td>3433</td>\n      <td>29</td>\n      <td>0.008447</td>\n    </tr>\n    <tr>\n      <th>26</th>\n      <td>2637</td>\n      <td>40</td>\n      <td>0.015169</td>\n    </tr>\n    <tr>\n      <th>27</th>\n      <td>3760</td>\n      <td>36</td>\n      <td>0.009574</td>\n    </tr>\n    <tr>\n      <th>28</th>\n      <td>101044</td>\n      <td>3361</td>\n      <td>0.033263</td>\n    </tr>\n    <tr>\n      <th>29</th>\n      <td>13774</td>\n      <td>222</td>\n      <td>0.016117</td>\n    </tr>\n    <tr>\n      <th>30</th>\n      <td>21881</td>\n      <td>151</td>\n      <td>0.006901</td>\n    </tr>\n    <tr>\n      <th>31</th>\n      <td>2393</td>\n      <td>46</td>\n      <td>0.019223</td>\n    </tr>\n    <tr>\n      <th>32</th>\n      <td>3897</td>\n      <td>32</td>\n      <td>0.008211</td>\n    </tr>\n    <tr>\n      <th>33</th>\n      <td>10250</td>\n      <td>132</td>\n      <td>0.012878</td>\n    </tr>\n    <tr>\n      <th>34</th>\n      <td>2018</td>\n      <td>28</td>\n      <td>0.013875</td>\n    </tr>\n    <tr>\n      <th>35</th>\n      <td>9628</td>\n      <td>173</td>\n      <td>0.017968</td>\n    </tr>\n    <tr>\n      <th>36</th>\n      <td>12781</td>\n      <td>130</td>\n      <td>0.010171</td>\n    </tr>\n    <tr>\n      <th>37</th>\n      <td>6696</td>\n      <td>62</td>\n      <td>0.009259</td>\n    </tr>\n    <tr>\n      <th>38</th>\n      <td>2662</td>\n      <td>91</td>\n      <td>0.034185</td>\n    </tr>\n    <tr>\n      <th>39</th>\n      <td>5569</td>\n      <td>111</td>\n      <td>0.019932</td>\n    </tr>\n    <tr>\n      <th>40</th>\n      <td>1630</td>\n      <td>27</td>\n      <td>0.016564</td>\n    </tr>\n    <tr>\n      <th>41</th>\n      <td>21576</td>\n      <td>302</td>\n      <td>0.013997</td>\n    </tr>\n    <tr>\n      <th>42</th>\n      <td>703</td>\n      <td>9</td>\n      <td>0.012802</td>\n    </tr>\n    <tr>\n      <th>43</th>\n      <td>4707</td>\n      <td>65</td>\n      <td>0.013809</td>\n    </tr>\n    <tr>\n      <th>44</th>\n      <td>948</td>\n      <td>9</td>\n      <td>0.009494</td>\n    </tr>\n    <tr>\n      <th>45</th>\n      <td>7907</td>\n      <td>122</td>\n      <td>0.015429</td>\n    </tr>\n    <tr>\n      <th>46</th>\n      <td>28076</td>\n      <td>427</td>\n      <td>0.015209</td>\n    </tr>\n    <tr>\n      <th>47</th>\n      <td>8497</td>\n      <td>107</td>\n      <td>0.012593</td>\n    </tr>\n    <tr>\n      <th>48</th>\n      <td>3005</td>\n      <td>87</td>\n      <td>0.028952</td>\n    </tr>\n    <tr>\n      <th>49</th>\n      <td>2227</td>\n      <td>18</td>\n      <td>0.008083</td>\n    </tr>\n    <tr>\n      <th>50</th>\n      <td>10087</td>\n      <td>156</td>\n      <td>0.015465</td>\n    </tr>\n    <tr>\n      <th>51</th>\n      <td>250</td>\n      <td>8</td>\n      <td>0.032000</td>\n    </tr>\n    <tr>\n      <th>52</th>\n      <td>220</td>\n      <td>9</td>\n      <td>0.040909</td>\n    </tr>\n  </tbody>\n</table>\n</div>"
     },
     "execution_count": 16,
     "metadata": {},
     "output_type": "execute_result"
    }
   ],
   "source": [
    "relation_with_target(df_prep,\"region_code\", TARGET)"
   ],
   "metadata": {
    "pycharm": {
     "name": "#%%\n"
    },
    "id": "6EvdaelCoA48",
    "executionInfo": {
     "status": "ok",
     "timestamp": 1650721370485,
     "user_tz": -120,
     "elapsed": 798,
     "user": {
      "displayName": "nerea dominguez cabezas",
      "userId": "01946356256277218181"
     }
    },
    "colab": {
     "base_uri": "https://localhost:8080/",
     "height": 1000
    },
    "outputId": "a759b4d8-be37-44d5-d68a-62f297f933af"
   }
  },
  {
   "cell_type": "markdown",
   "source": [
    "## Split dataframes\n",
    "\n",
    "Dividimos los datos en dos particiones, partición de desarrollo (train + test) y partición de validación"
   ],
   "metadata": {
    "collapsed": false,
    "pycharm": {
     "name": "#%% md\n"
    },
    "id": "jtQAKwN6oA48"
   }
  },
  {
   "cell_type": "code",
   "execution_count": 17,
   "outputs": [],
   "source": [
    "splitter = EasyMoneySplitter(DEV_PARTITION_PERIOD, VAL_PARTITION_PERIOD)"
   ],
   "metadata": {
    "pycharm": {
     "name": "#%%\n"
    },
    "id": "PG_FU9JHoA49"
   }
  },
  {
   "cell_type": "markdown",
   "source": [
    "### Train partition\n",
    "\n",
    "Distribución del target en el set de desarrollo, si más del 70% o menos del 30% de los clientes tiene el target en true se hace undersampling automáticamente de la clase mayoritaria. El desarrollo está al 99 - 0,001%, no está equilibrado, añadimos una función de undersampling que si es mayor de 0,70, hará el undersampling, en este si lo hace."
   ],
   "metadata": {
    "collapsed": false,
    "pycharm": {
     "name": "#%% md\n"
    },
    "id": "lsmNP5UpoA4-"
   }
  },
  {
   "cell_type": "code",
   "execution_count": 18,
   "outputs": [
    {
     "name": "stdout",
     "output_type": "stream",
     "text": [
      "Distribucion en la particion de desarrollo:  0.01974523355974471\n"
     ]
    },
    {
     "data": {
      "text/plain": "<Figure size 432x288 with 1 Axes>",
      "image/png": "[encoded data removed]"
     },
     "metadata": {
      "needs_background": "light"
     },
     "output_type": "display_data"
    },
    {
     "name": "stdout",
     "output_type": "stream",
     "text": [
      "credit_card\n",
      "0    411161\n",
      "1      8282\n",
      "Name: credit_card, dtype: int64\n",
      "\n",
      "\n",
      "    ******* UNDERSAMPLING: MAJORITY CLASS 0 *******\n"
     ]
    },
    {
     "data": {
      "text/plain": "<Figure size 432x288 with 1 Axes>",
      "image/png": "[encoded data removed]"
     },
     "metadata": {
      "needs_background": "light"
     },
     "output_type": "display_data"
    },
    {
     "name": "stdout",
     "output_type": "stream",
     "text": [
      "credit_card\n",
      "0    33128\n",
      "1     8282\n",
      "Name: credit_card, dtype: int64\n"
     ]
    }
   ],
   "source": [
    "train_df = splitter.get_train_partition(df_prep)\n",
    "train_target_mean = train_df[TARGET].mean()\n",
    "\n",
    "print(\"Distribucion en la particion de desarrollo: \", train_target_mean)\n",
    "print(hist_plot(train_df, TARGET))\n",
    "\n",
    "if DO_UNDER_SAMPLING and train_target_mean >= 0.70:\n",
    "    print(\"\"\"\n",
    "\n",
    "    ******* UNDERSAMPLING: MAJORITY CLASS 1 *******\"\"\")\n",
    "    train_df = EasyMoneySplitter.under_sample(train_df, TARGET, False)\n",
    "    print(hist_plot(train_df, TARGET))\n",
    "\n",
    "elif DO_UNDER_SAMPLING and train_target_mean <= 0.30:\n",
    "    print(\"\"\"\n",
    "\n",
    "    ******* UNDERSAMPLING: MAJORITY CLASS 0 *******\"\"\")\n",
    "    train_df = EasyMoneySplitter.under_sample(train_df, TARGET, True)\n",
    "    print(hist_plot(train_df, TARGET))"
   ],
   "metadata": {
    "pycharm": {
     "name": "#%%\n"
    },
    "id": "r2Z6O3oIoA4-",
    "executionInfo": {
     "status": "ok",
     "timestamp": 1650721371382,
     "user_tz": -120,
     "elapsed": 900,
     "user": {
      "displayName": "nerea dominguez cabezas",
      "userId": "01946356256277218181"
     }
    },
    "colab": {
     "base_uri": "https://localhost:8080/",
     "height": 729
    },
    "outputId": "15df4924-3d23-41e2-fab9-ad1b9cfee7b4"
   }
  },
  {
   "cell_type": "markdown",
   "source": [
    "### Validation partition\n",
    "\n",
    "Distribución del target en el set de validación. En validación no hacemos undersampling, solo en train. Aquí se ve que en el último mes la mayoría no compró."
   ],
   "metadata": {
    "collapsed": false,
    "pycharm": {
     "name": "#%% md\n"
    },
    "id": "3qkTtkQioA4-"
   }
  },
  {
   "cell_type": "code",
   "execution_count": 19,
   "outputs": [
    {
     "data": {
      "text/plain": "<Figure size 432x288 with 1 Axes>",
      "image/png": "[encoded data removed]"
     },
     "metadata": {
      "needs_background": "light"
     },
     "output_type": "display_data"
    },
    {
     "name": "stdout",
     "output_type": "stream",
     "text": [
      "credit_card\n"
     ]
    },
    {
     "data": {
      "text/plain": "0    43816\n1      249\nName: credit_card, dtype: int64"
     },
     "execution_count": 19,
     "metadata": {},
     "output_type": "execute_result"
    }
   ],
   "source": [
    "validation_df = splitter.get_validation_partition(df_prep)\n",
    "hist_plot(validation_df, TARGET)"
   ],
   "metadata": {
    "pycharm": {
     "name": "#%%\n"
    },
    "id": "3-rlX7AmoA4_",
    "executionInfo": {
     "status": "ok",
     "timestamp": 1650721371383,
     "user_tz": -120,
     "elapsed": 17,
     "user": {
      "displayName": "nerea dominguez cabezas",
      "userId": "01946356256277218181"
     }
    },
    "colab": {
     "base_uri": "https://localhost:8080/",
     "height": 337
    },
    "outputId": "d98c3e5f-6f51-40f1-afb4-2baf41f578da"
   }
  },
  {
   "cell_type": "markdown",
   "source": [
    "#### Partitions\n",
    "\n",
    "Separación de las particiones. Preparando los datos para el modelo, aquí hacemos la separación del 20% para test."
   ],
   "metadata": {
    "collapsed": false,
    "pycharm": {
     "name": "#%% md\n"
    },
    "id": "YXGokYvPoA4_"
   }
  },
  {
   "cell_type": "code",
   "execution_count": 20,
   "outputs": [
    {
     "name": "stdout",
     "output_type": "stream",
     "text": [
      "\n",
      "TRAIN:\n",
      "    X_train.shape: (33128, 140)\n",
      "    y_train.shape: (33128, 1)\n",
      "TEST:\n",
      "    X_test.shape: (8282, 140)\n",
      "    y_test.shape: (8282, 1)\n",
      "VALIDATION:\n",
      "    X_val.shape: (44065, 140)\n",
      "    y_val.shape: (44065, 1)\n",
      "\n"
     ]
    }
   ],
   "source": [
    "to_exclude = EXCLUDE_COLUMNS\n",
    "to_exclude.append(TARGET)\n",
    "\n",
    "dev_X = train_df.drop(to_exclude, axis=1)\n",
    "dev_y = train_df[[TARGET]]\n",
    "\n",
    "X_val = validation_df.drop(to_exclude, axis=1)\n",
    "y_val = validation_df[[TARGET]]\n",
    "\n",
    "X_train, X_test, y_train, y_test = train_test_split(dev_X, dev_y, test_size=0.2, random_state=RANDOM_STATE,\n",
    "                                                    stratify=dev_y)\n",
    "\n",
    "print(f\"\"\"\n",
    "TRAIN:\n",
    "    X_train.shape: {X_train.shape}\n",
    "    y_train.shape: {y_train.shape}\n",
    "TEST:\n",
    "    X_test.shape: {X_test.shape}\n",
    "    y_test.shape: {y_test.shape}\n",
    "VALIDATION:\n",
    "    X_val.shape: {X_val.shape}\n",
    "    y_val.shape: {y_val.shape}\n",
    "\"\"\")"
   ],
   "metadata": {
    "pycharm": {
     "name": "#%%\n"
    },
    "id": "vEs3xyY0oA4_",
    "executionInfo": {
     "status": "ok",
     "timestamp": 1650721371723,
     "user_tz": -120,
     "elapsed": 352,
     "user": {
      "displayName": "nerea dominguez cabezas",
      "userId": "01946356256277218181"
     }
    },
    "colab": {
     "base_uri": "https://localhost:8080/"
    },
    "outputId": "7317895a-7435-4007-f967-79d3df247ca1"
   }
  },
  {
   "cell_type": "markdown",
   "source": [
    "## Modelling"
   ],
   "metadata": {
    "collapsed": false,
    "pycharm": {
     "name": "#%% md\n"
    },
    "id": "gqBhu2bBoA5A"
   }
  },
  {
   "cell_type": "markdown",
   "source": [
    "Decidimos utilizar el **XGBClassifier** para estimar con una mayor precisión la probabilidad que hay de que un cliente nos compre o no un producto y combina estimaciones de un conjunto de modelos más simples y débiles. Utilizamos AUC . El que va a determinar si el algoritmo es correcto o no es el **AUC Validation.**"
   ],
   "metadata": {
    "id": "bVnAPTh1BlBG"
   }
  },
  {
   "cell_type": "code",
   "execution_count": 28,
   "outputs": [
    {
     "name": "stdout",
     "output_type": "stream",
     "text": [
      "[0]\tvalidation_0-auc:0.86719\n",
      "[1]\tvalidation_0-auc:0.91470\n",
      "[2]\tvalidation_0-auc:0.91968\n",
      "[3]\tvalidation_0-auc:0.91957\n",
      "[4]\tvalidation_0-auc:0.92653\n",
      "[5]\tvalidation_0-auc:0.92658\n",
      "[6]\tvalidation_0-auc:0.92753\n",
      "[7]\tvalidation_0-auc:0.92882\n",
      "[8]\tvalidation_0-auc:0.92900\n",
      "[9]\tvalidation_0-auc:0.93041\n",
      "[10]\tvalidation_0-auc:0.93082\n",
      "[11]\tvalidation_0-auc:0.93212\n",
      "[12]\tvalidation_0-auc:0.93227\n",
      "[13]\tvalidation_0-auc:0.93290\n",
      "[14]\tvalidation_0-auc:0.93325\n",
      "[15]\tvalidation_0-auc:0.93352\n",
      "[16]\tvalidation_0-auc:0.93331\n",
      "[17]\tvalidation_0-auc:0.93374\n",
      "[18]\tvalidation_0-auc:0.93398\n",
      "[19]\tvalidation_0-auc:0.93402\n",
      "[20]\tvalidation_0-auc:0.93407\n",
      "[21]\tvalidation_0-auc:0.93454\n",
      "[22]\tvalidation_0-auc:0.93475\n",
      "[23]\tvalidation_0-auc:0.93485\n",
      "[24]\tvalidation_0-auc:0.93517\n",
      "[25]\tvalidation_0-auc:0.93515\n",
      "[26]\tvalidation_0-auc:0.93510\n",
      "[27]\tvalidation_0-auc:0.93526\n",
      "[28]\tvalidation_0-auc:0.93527\n",
      "[29]\tvalidation_0-auc:0.93531\n",
      "[30]\tvalidation_0-auc:0.93539\n",
      "[31]\tvalidation_0-auc:0.93541\n",
      "[32]\tvalidation_0-auc:0.93535\n",
      "[33]\tvalidation_0-auc:0.93543\n",
      "[34]\tvalidation_0-auc:0.93558\n",
      "[35]\tvalidation_0-auc:0.93564\n",
      "[36]\tvalidation_0-auc:0.93573\n",
      "[37]\tvalidation_0-auc:0.93581\n",
      "[38]\tvalidation_0-auc:0.93587\n",
      "[39]\tvalidation_0-auc:0.93590\n",
      "[40]\tvalidation_0-auc:0.93595\n",
      "[41]\tvalidation_0-auc:0.93602\n",
      "[42]\tvalidation_0-auc:0.93602\n",
      "[43]\tvalidation_0-auc:0.93605\n",
      "[44]\tvalidation_0-auc:0.93609\n",
      "[45]\tvalidation_0-auc:0.93603\n",
      "[46]\tvalidation_0-auc:0.93605\n",
      "[47]\tvalidation_0-auc:0.93606\n",
      "[48]\tvalidation_0-auc:0.93611\n",
      "[49]\tvalidation_0-auc:0.93609\n",
      "[50]\tvalidation_0-auc:0.93609\n",
      "[51]\tvalidation_0-auc:0.93610\n",
      "[52]\tvalidation_0-auc:0.93603\n",
      "[53]\tvalidation_0-auc:0.93605\n",
      "[54]\tvalidation_0-auc:0.93605\n",
      "[55]\tvalidation_0-auc:0.93607\n",
      "[56]\tvalidation_0-auc:0.93610\n",
      "[57]\tvalidation_0-auc:0.93612\n",
      "[58]\tvalidation_0-auc:0.93615\n",
      "[59]\tvalidation_0-auc:0.93623\n",
      "[60]\tvalidation_0-auc:0.93622\n",
      "[61]\tvalidation_0-auc:0.93624\n",
      "[62]\tvalidation_0-auc:0.93625\n",
      "[63]\tvalidation_0-auc:0.93627\n",
      "[64]\tvalidation_0-auc:0.93625\n",
      "[65]\tvalidation_0-auc:0.93620\n",
      "[66]\tvalidation_0-auc:0.93623\n",
      "[67]\tvalidation_0-auc:0.93629\n",
      "[68]\tvalidation_0-auc:0.93634\n",
      "[69]\tvalidation_0-auc:0.93628\n",
      "[70]\tvalidation_0-auc:0.93627\n",
      "[71]\tvalidation_0-auc:0.93627\n",
      "[72]\tvalidation_0-auc:0.93627\n",
      "[73]\tvalidation_0-auc:0.93629\n",
      "[74]\tvalidation_0-auc:0.93632\n",
      "[75]\tvalidation_0-auc:0.93637\n",
      "[76]\tvalidation_0-auc:0.93642\n",
      "[77]\tvalidation_0-auc:0.93642\n",
      "[78]\tvalidation_0-auc:0.93644\n",
      "[79]\tvalidation_0-auc:0.93644\n",
      "[80]\tvalidation_0-auc:0.93655\n",
      "[81]\tvalidation_0-auc:0.93655\n",
      "[82]\tvalidation_0-auc:0.93652\n",
      "[83]\tvalidation_0-auc:0.93651\n",
      "[84]\tvalidation_0-auc:0.93652\n",
      "[85]\tvalidation_0-auc:0.93653\n",
      "[86]\tvalidation_0-auc:0.93655\n",
      "[87]\tvalidation_0-auc:0.93662\n",
      "[88]\tvalidation_0-auc:0.93664\n",
      "[89]\tvalidation_0-auc:0.93661\n",
      "[90]\tvalidation_0-auc:0.93660\n",
      "[91]\tvalidation_0-auc:0.93661\n",
      "[92]\tvalidation_0-auc:0.93665\n",
      "[93]\tvalidation_0-auc:0.93664\n",
      "[94]\tvalidation_0-auc:0.93666\n",
      "[95]\tvalidation_0-auc:0.93661\n",
      "[96]\tvalidation_0-auc:0.93661\n",
      "[97]\tvalidation_0-auc:0.93658\n",
      "[98]\tvalidation_0-auc:0.93656\n",
      "[99]\tvalidation_0-auc:0.93657\n",
      "Wall time: 2.44 s\n"
     ]
    },
    {
     "data": {
      "text/plain": "XGBClassifier(base_score=0.5, booster='gbtree', colsample_bylevel=1,\n              colsample_bynode=1, colsample_bytree=1, enable_categorical=False,\n              gamma=0, gpu_id=-1, importance_type=None,\n              interaction_constraints='', learning_rate=0.300000012,\n              max_delta_step=0, max_depth=2, min_child_weight=95, missing=nan,\n              monotone_constraints='()', n_estimators=100, n_jobs=12,\n              num_parallel_tree=1, predictor='auto', random_state=123,\n              reg_alpha=0, reg_lambda=1, scale_pos_weight=1, subsample=1,\n              tree_method='exact', use_label_encoder=False,\n              validate_parameters=1, verbosity=None)"
     },
     "execution_count": 28,
     "metadata": {},
     "output_type": "execute_result"
    }
   ],
   "source": [
    "%%time\n",
    "model: XGBClassifier = XGBClassifier(\n",
    "    max_depth=2,\n",
    "    min_child_weight=95,\n",
    "    random_state=RANDOM_STATE,\n",
    "    use_label_encoder=False\n",
    ")\n",
    "\n",
    "eval_set = [(X_test, y_test.values.ravel())]\n",
    "model.fit(\n",
    "    X_train,\n",
    "    y_train.values.ravel(),\n",
    "    eval_set=eval_set,\n",
    "    verbose=True,\n",
    "    eval_metric=\"auc\",\n",
    "    early_stopping_rounds=10\n",
    ")"
   ],
   "metadata": {
    "pycharm": {
     "name": "#%%\n"
    },
    "id": "KGMOynjEoA5A",
    "executionInfo": {
     "status": "ok",
     "timestamp": 1650721378207,
     "user_tz": -120,
     "elapsed": 6487,
     "user": {
      "displayName": "nerea dominguez cabezas",
      "userId": "01946356256277218181"
     }
    },
    "colab": {
     "base_uri": "https://localhost:8080/"
    },
    "outputId": "9a9fbaa2-82ce-4e26-c37a-4d25b284302d"
   }
  },
  {
   "cell_type": "markdown",
   "source": [
    "En esta línea se registran las métricas de lo que nos ha salido para que nos seas más sencillo comparar.\n"
   ],
   "metadata": {
    "id": "0E7hJ5YJBqIG"
   }
  },
  {
   "cell_type": "code",
   "execution_count": 29,
   "outputs": [
    {
     "data": {
      "text/plain": "        target  target_mean                       date  is_overfitted  \\\n4  credit_card     0.200000 2022-04-27 14:37:27.899493           True   \n3  credit_card     0.200000 2022-04-27 14:37:10.272705           True   \n2  credit_card     0.200000 2022-04-27 14:36:54.120837           True   \n1  credit_card     0.200000 2022-04-27 14:36:32.722509           True   \n0    em_acount     0.665269 2022-04-27 14:07:37.791925          False   \n\n   roc_auc_train  roc_auc_test  roc_auc_val  accuracy_train  accuracy_test  \\\n4       0.945268      0.936656     0.919524        0.889187       0.878652   \n3       0.941331      0.934843     0.918168        0.884780       0.876841   \n2       0.948153      0.939861     0.921898        0.892297       0.881671   \n1       0.945268      0.936656     0.919524        0.889187       0.878652   \n0       0.922183      0.920140     0.885116        0.869104       0.869748   \n\n   accuracy_val  recall_train  recall_test  recall_val  precision_train  \\\n4      0.948871      0.700724     0.681763    0.441767         0.733375   \n3      0.948712      0.678690     0.669082    0.461847         0.727082   \n2      0.948462      0.712496     0.694444    0.453815         0.739505   \n1      0.948871      0.700724     0.681763    0.441767         0.733375   \n0      0.821487      0.929093     0.929927    0.824353         0.880705   \n\n   precision_test  precision_val  f1_score_train  f1_score_test  f1_score_val  \\\n4        0.702551       0.049460        0.716678       0.692001      0.088961   \n3        0.701266       0.051316        0.702053       0.684796      0.092369   \n2        0.708128       0.050267        0.725749       0.701220      0.090509   \n1        0.702551       0.049460        0.716678       0.692001      0.088961   \n0        0.880910       0.371492        0.904252       0.904755      0.512174   \n\n                                               model  \n4  XGBClassifier(base_score=0.5, booster='gbtree'...  \n3  XGBClassifier(base_score=0.5, booster='gbtree'...  \n2  XGBClassifier(base_score=0.5, booster='gbtree'...  \n1  XGBClassifier(base_score=0.5, booster='gbtree'...  \n0  XGBClassifier(base_score=0.5, booster='gbtree'...  ",
      "text/html": "<div>\n<style scoped>\n    .dataframe tbody tr th:only-of-type {\n        vertical-align: middle;\n    }\n\n    .dataframe tbody tr th {\n        vertical-align: top;\n    }\n\n    .dataframe thead th {\n        text-align: right;\n    }\n</style>\n<table border=\"1\" class=\"dataframe\">\n  <thead>\n    <tr style=\"text-align: right;\">\n      <th></th>\n      <th>target</th>\n      <th>target_mean</th>\n      <th>date</th>\n      <th>is_overfitted</th>\n      <th>roc_auc_train</th>\n      <th>roc_auc_test</th>\n      <th>roc_auc_val</th>\n      <th>accuracy_train</th>\n      <th>accuracy_test</th>\n      <th>accuracy_val</th>\n      <th>recall_train</th>\n      <th>recall_test</th>\n      <th>recall_val</th>\n      <th>precision_train</th>\n      <th>precision_test</th>\n      <th>precision_val</th>\n      <th>f1_score_train</th>\n      <th>f1_score_test</th>\n      <th>f1_score_val</th>\n      <th>model</th>\n    </tr>\n  </thead>\n  <tbody>\n    <tr>\n      <th>4</th>\n      <td>credit_card</td>\n      <td>0.200000</td>\n      <td>2022-04-27 14:37:27.899493</td>\n      <td>True</td>\n      <td>0.945268</td>\n      <td>0.936656</td>\n      <td>0.919524</td>\n      <td>0.889187</td>\n      <td>0.878652</td>\n      <td>0.948871</td>\n      <td>0.700724</td>\n      <td>0.681763</td>\n      <td>0.441767</td>\n      <td>0.733375</td>\n      <td>0.702551</td>\n      <td>0.049460</td>\n      <td>0.716678</td>\n      <td>0.692001</td>\n      <td>0.088961</td>\n      <td>XGBClassifier(base_score=0.5, booster='gbtree'...</td>\n    </tr>\n    <tr>\n      <th>3</th>\n      <td>credit_card</td>\n      <td>0.200000</td>\n      <td>2022-04-27 14:37:10.272705</td>\n      <td>True</td>\n      <td>0.941331</td>\n      <td>0.934843</td>\n      <td>0.918168</td>\n      <td>0.884780</td>\n      <td>0.876841</td>\n      <td>0.948712</td>\n      <td>0.678690</td>\n      <td>0.669082</td>\n      <td>0.461847</td>\n      <td>0.727082</td>\n      <td>0.701266</td>\n      <td>0.051316</td>\n      <td>0.702053</td>\n      <td>0.684796</td>\n      <td>0.092369</td>\n      <td>XGBClassifier(base_score=0.5, booster='gbtree'...</td>\n    </tr>\n    <tr>\n      <th>2</th>\n      <td>credit_card</td>\n      <td>0.200000</td>\n      <td>2022-04-27 14:36:54.120837</td>\n      <td>True</td>\n      <td>0.948153</td>\n      <td>0.939861</td>\n      <td>0.921898</td>\n      <td>0.892297</td>\n      <td>0.881671</td>\n      <td>0.948462</td>\n      <td>0.712496</td>\n      <td>0.694444</td>\n      <td>0.453815</td>\n      <td>0.739505</td>\n      <td>0.708128</td>\n      <td>0.050267</td>\n      <td>0.725749</td>\n      <td>0.701220</td>\n      <td>0.090509</td>\n      <td>XGBClassifier(base_score=0.5, booster='gbtree'...</td>\n    </tr>\n    <tr>\n      <th>1</th>\n      <td>credit_card</td>\n      <td>0.200000</td>\n      <td>2022-04-27 14:36:32.722509</td>\n      <td>True</td>\n      <td>0.945268</td>\n      <td>0.936656</td>\n      <td>0.919524</td>\n      <td>0.889187</td>\n      <td>0.878652</td>\n      <td>0.948871</td>\n      <td>0.700724</td>\n      <td>0.681763</td>\n      <td>0.441767</td>\n      <td>0.733375</td>\n      <td>0.702551</td>\n      <td>0.049460</td>\n      <td>0.716678</td>\n      <td>0.692001</td>\n      <td>0.088961</td>\n      <td>XGBClassifier(base_score=0.5, booster='gbtree'...</td>\n    </tr>\n    <tr>\n      <th>0</th>\n      <td>em_acount</td>\n      <td>0.665269</td>\n      <td>2022-04-27 14:07:37.791925</td>\n      <td>False</td>\n      <td>0.922183</td>\n      <td>0.920140</td>\n      <td>0.885116</td>\n      <td>0.869104</td>\n      <td>0.869748</td>\n      <td>0.821487</td>\n      <td>0.929093</td>\n      <td>0.929927</td>\n      <td>0.824353</td>\n      <td>0.880705</td>\n      <td>0.880910</td>\n      <td>0.371492</td>\n      <td>0.904252</td>\n      <td>0.904755</td>\n      <td>0.512174</td>\n      <td>XGBClassifier(base_score=0.5, booster='gbtree'...</td>\n    </tr>\n  </tbody>\n</table>\n</div>"
     },
     "execution_count": 29,
     "metadata": {},
     "output_type": "execute_result"
    }
   ],
   "source": [
    "report_df = reporter.record_evaluation(TARGET, model, X_train, y_train, X_test, y_test, X_val, y_val,\n",
    "                                       train_df[TARGET].mean())\n",
    "report_df.sort_values(by=\"date\", ascending=False)"
   ],
   "metadata": {
    "pycharm": {
     "name": "#%%\n"
    },
    "id": "19to6EwjoA5A",
    "executionInfo": {
     "status": "ok",
     "timestamp": 1650721379314,
     "user_tz": -120,
     "elapsed": 1135,
     "user": {
      "displayName": "nerea dominguez cabezas",
      "userId": "01946356256277218181"
     }
    },
    "colab": {
     "base_uri": "https://localhost:8080/",
     "height": 1000
    },
    "outputId": "3e7b6d9f-d72c-4926-dd6e-35ce0b52066d"
   }
  },
  {
   "cell_type": "markdown",
   "source": [
    "En estas gráficas aparecen las variables que más peso tienen y que más se repiten. **Weight:** cantidad de veces que esta variable aparece en el DT (active_customer)\n",
    "**Gain:** variables más influyentes (payroll account)"
   ],
   "metadata": {
    "id": "-Vt4g9T9BvT9"
   }
  },
  {
   "cell_type": "code",
   "execution_count": 30,
   "outputs": [
    {
     "data": {
      "text/plain": "<AxesSubplot:title={'center':'Feature Importance (Gain)'}, xlabel='F score', ylabel='Features'>"
     },
     "execution_count": 30,
     "metadata": {},
     "output_type": "execute_result"
    },
    {
     "data": {
      "text/plain": "<Figure size 1800x504 with 2 Axes>",
      "image/png": "[encoded data removed]"
     },
     "metadata": {
      "needs_background": "light"
     },
     "output_type": "display_data"
    }
   ],
   "source": [
    "fig, (ax1, ax2) = plt.subplots(1, 2, figsize=(25, 7))\n",
    "# \"weight\" is the number of times a feature appears in a tree\n",
    "plot_importance(model, height=0.7, max_num_features=10, ax=ax1, importance_type=\"weight\",\n",
    "                title=\"Feature Importance (Weight)\")\n",
    "\n",
    "# \"gain\" is the average gain of splits which use the feature\n",
    "plot_importance(model, height=0.7, max_num_features=10, ax=ax2, importance_type=\"gain\",\n",
    "                title=\"Feature Importance (Gain)\")"
   ],
   "metadata": {
    "pycharm": {
     "name": "#%%\n"
    },
    "id": "Wj0Ys0G6oA5A",
    "executionInfo": {
     "status": "ok",
     "timestamp": 1650721380237,
     "user_tz": -120,
     "elapsed": 931,
     "user": {
      "displayName": "nerea dominguez cabezas",
      "userId": "01946356256277218181"
     }
    },
    "colab": {
     "base_uri": "https://localhost:8080/",
     "height": 428
    },
    "outputId": "646084ae-3cf9-4c16-915a-cf369c1c5108"
   }
  },
  {
   "cell_type": "code",
   "execution_count": 35,
   "outputs": [
    {
     "data": {
      "text/plain": "<sklearn.metrics._plot.confusion_matrix.ConfusionMatrixDisplay at 0x22e5c23b340>"
     },
     "execution_count": 35,
     "metadata": {},
     "output_type": "execute_result"
    },
    {
     "data": {
      "text/plain": "<Figure size 1080x360 with 3 Axes>",
      "image/png": "[encoded data removed]"
     },
     "metadata": {
      "needs_background": "light"
     },
     "output_type": "display_data"
    }
   ],
   "source": [
    "fig, (ax1, ax2) = plt.subplots(1, 2, figsize=(15, 5))\n",
    "\n",
    "fpr, tpr, th = roc_curve(y_test, get_y_score(model, X_test, y_test))\n",
    "ax1.set_title(\"ROC Curve\")\n",
    "ax1.plot(fpr, tpr)\n",
    "ax1.plot([0, 1], [0, 1], linestyle=\"--\")\n",
    "ax1.set_xlabel('False Positive Rate')\n",
    "ax1.set_ylabel('True Positive Rate')\n",
    "\n",
    "plot_confusion_matrix(model, X_test, y_test, cmap=\"RdYlGn\", display_labels=[\"No compra\", \"Compra\"], ax=ax2)"
   ],
   "metadata": {
    "collapsed": false,
    "pycharm": {
     "name": "#%%\n"
    }
   }
  },
  {
   "cell_type": "markdown",
   "source": [
    "En esta matriz podemos ver los TP, FP, TN, FN. Es decir, podemos ver cuál ha sido la predicción del modelo y si realmente esa predicción se ha cumplido o no. Vemos que el modelo se equivoca más a la hora de predecir los clientes que realmente no han comprado, pero el modelo piensa que si. Estos corresponden al cuadrante superior derecho de la confussion matrix. En cambio, existen 2001 clientes que el modelo ha predicho que no iban a comprar pero que realmente han comprado.\n",
    "\n",
    "A nivel de negocio nos interesa minimizar el número de Falsos Positivos, es decir aquellos clientes que el modelo ha predicho que iban a comprar pero no han comprado. Nuestro principal objetivo es ofrecer productos que se ajusten a las necesidades de los clientes y no enviar campañas que no sean de su interés porque esto puede causar la baja del cliente.\n",
    "\n",
    "Si la curva AUC es cercana al 1 nos dice que el modelo está prediciendo bien. Siempre se elige la mayor área bajo la curva."
   ],
   "metadata": {
    "id": "RxmKbL3KCE-j"
   }
  },
  {
   "cell_type": "code",
   "execution_count": 31,
   "outputs": [
    {
     "data": {
      "text/plain": "<sklearn.metrics._plot.confusion_matrix.ConfusionMatrixDisplay at 0x22e5c252ac0>"
     },
     "execution_count": 31,
     "metadata": {},
     "output_type": "execute_result"
    },
    {
     "data": {
      "text/plain": "<Figure size 1080x360 with 3 Axes>",
      "image/png": "[encoded data removed]"
     },
     "metadata": {
      "needs_background": "light"
     },
     "output_type": "display_data"
    }
   ],
   "source": [
    "fig, (ax1, ax2) = plt.subplots(1, 2, figsize=(15, 5))\n",
    "\n",
    "fpr, tpr, th = roc_curve(y_val, get_y_score(model, X_val, y_val))\n",
    "ax1.set_title(\"ROC Curve\")\n",
    "ax1.plot(fpr, tpr)\n",
    "ax1.plot([0, 1], [0, 1], linestyle=\"--\")\n",
    "ax1.set_xlabel('False Positive Rate')\n",
    "ax1.set_ylabel('True Positive Rate')\n",
    "\n",
    "plot_confusion_matrix(model, X_val, y_val, cmap=\"RdYlGn\", display_labels=[\"No compra\", \"Compra\"], ax=ax2)"
   ],
   "metadata": {
    "pycharm": {
     "name": "#%%\n"
    },
    "id": "NOBzH1LtoA5B",
    "executionInfo": {
     "status": "ok",
     "timestamp": 1650721380849,
     "user_tz": -120,
     "elapsed": 617,
     "user": {
      "displayName": "nerea dominguez cabezas",
      "userId": "01946356256277218181"
     }
    },
    "colab": {
     "base_uri": "https://localhost:8080/",
     "height": 424
    },
    "outputId": "70f11a8c-3bbe-40e6-adbf-553c2d052505"
   }
  },
  {
   "cell_type": "code",
   "execution_count": 32,
   "outputs": [
    {
     "data": {
      "text/plain": "<Figure size 2160x2160 with 1 Axes>",
      "image/png": "[encoded data removed]"
     },
     "metadata": {
      "needs_background": "light"
     },
     "output_type": "display_data"
    }
   ],
   "source": [
    "try:\n",
    "    fig,ax=plt.subplots(figsize=(30,30))\n",
    "    plot_tree(model,num_trees=1,rankdir=\"LR\",ax=ax)\n",
    "    plt.show()\n",
    "except ImportError:\n",
    "    pass"
   ],
   "metadata": {
    "pycharm": {
     "name": "#%%\n"
    },
    "id": "E0HupkSaoA5B"
   }
  },
  {
   "cell_type": "markdown",
   "source": [
    "### Recomendations\n",
    "\n",
    "Exportamos en un csv los clientes que nuestro algoritmo ha predicho que comprarían y no lo han hecho, por lo tanto podemos recomendarle este producto. También hemos añadido un filtro para que nos descarte a las personas que tristemente han fallecido."
   ],
   "metadata": {
    "collapsed": false,
    "pycharm": {
     "name": "#%% md\n"
    },
    "id": "tnv3We4HoA5B"
   }
  },
  {
   "cell_type": "code",
   "execution_count": 33,
   "outputs": [
    {
     "data": {
      "text/plain": "        pk_cid  credit_card pk_partition  active_customer  region_code  \\\n2        30078            0   2019-05-28                1           28   \n3        31972            0   2019-05-28                1           28   \n10       51229            0   2019-05-28                1           36   \n23       88263            0   2019-05-28                1           37   \n29       96629            0   2019-05-28                1           45   \n...        ...          ...          ...              ...          ...   \n38464  1544349            0   2019-05-28                1           28   \n38510  1544483            0   2019-05-28                1           50   \n38580  1544660            0   2019-05-28                1           28   \n38900  1545574            0   2019-05-28                1            3   \n39818  1548129            0   2019-05-28                1            8   \n\n       gender  age  deceased  short_term_deposit  loans  ...  country_id_RO  \\\n2           1   53         0                   0      0  ...              0   \n3           1   92         0                   0      0  ...              0   \n10          1   52         0                   0      0  ...              0   \n23          1   65         0                   0      0  ...              0   \n29          1   50         0                   0      0  ...              0   \n...       ...  ...       ...                 ...    ...  ...            ...   \n38464       1   53         0                   0      0  ...              0   \n38510       0   47         0                   0      0  ...              0   \n38580       1   48         0                   0      0  ...              0   \n38900       0   48         0                   0      0  ...              0   \n39818       1   33         0                   0      0  ...              0   \n\n       country_id_RU  country_id_SA  country_id_SE  country_id_SN  \\\n2                  0              0              0              0   \n3                  0              0              0              0   \n10                 0              0              0              0   \n23                 0              0              0              0   \n29                 0              0              0              0   \n...              ...            ...            ...            ...   \n38464              0              0              0              0   \n38510              0              0              0              0   \n38580              0              0              0              0   \n38900              0              0              0              0   \n39818              0              0              0              0   \n\n       country_id_US  country_id_VE  prediction     score  product_to_sale  \n2                  0              0           1  0.568918      credit_card  \n3                  0              0           1  0.530137      credit_card  \n10                 0              0           1  0.663904      credit_card  \n23                 0              0           1  0.547832      credit_card  \n29                 0              0           1  0.552051      credit_card  \n...              ...            ...         ...       ...              ...  \n38464              0              0           1  0.541686      credit_card  \n38510              0              0           1  0.533163      credit_card  \n38580              0              0           1  0.629613      credit_card  \n38900              0              0           1  0.560591      credit_card  \n39818              0              0           1  0.596252      credit_card  \n\n[2113 rows x 146 columns]",
      "text/html": "<div>\n<style scoped>\n    .dataframe tbody tr th:only-of-type {\n        vertical-align: middle;\n    }\n\n    .dataframe tbody tr th {\n        vertical-align: top;\n    }\n\n    .dataframe thead th {\n        text-align: right;\n    }\n</style>\n<table border=\"1\" class=\"dataframe\">\n  <thead>\n    <tr style=\"text-align: right;\">\n      <th></th>\n      <th>pk_cid</th>\n      <th>credit_card</th>\n      <th>pk_partition</th>\n      <th>active_customer</th>\n      <th>region_code</th>\n      <th>gender</th>\n      <th>age</th>\n      <th>deceased</th>\n      <th>short_term_deposit</th>\n      <th>loans</th>\n      <th>...</th>\n      <th>country_id_RO</th>\n      <th>country_id_RU</th>\n      <th>country_id_SA</th>\n      <th>country_id_SE</th>\n      <th>country_id_SN</th>\n      <th>country_id_US</th>\n      <th>country_id_VE</th>\n      <th>prediction</th>\n      <th>score</th>\n      <th>product_to_sale</th>\n    </tr>\n  </thead>\n  <tbody>\n    <tr>\n      <th>2</th>\n      <td>30078</td>\n      <td>0</td>\n      <td>2019-05-28</td>\n      <td>1</td>\n      <td>28</td>\n      <td>1</td>\n      <td>53</td>\n      <td>0</td>\n      <td>0</td>\n      <td>0</td>\n      <td>...</td>\n      <td>0</td>\n      <td>0</td>\n      <td>0</td>\n      <td>0</td>\n      <td>0</td>\n      <td>0</td>\n      <td>0</td>\n      <td>1</td>\n      <td>0.568918</td>\n      <td>credit_card</td>\n    </tr>\n    <tr>\n      <th>3</th>\n      <td>31972</td>\n      <td>0</td>\n      <td>2019-05-28</td>\n      <td>1</td>\n      <td>28</td>\n      <td>1</td>\n      <td>92</td>\n      <td>0</td>\n      <td>0</td>\n      <td>0</td>\n      <td>...</td>\n      <td>0</td>\n      <td>0</td>\n      <td>0</td>\n      <td>0</td>\n      <td>0</td>\n      <td>0</td>\n      <td>0</td>\n      <td>1</td>\n      <td>0.530137</td>\n      <td>credit_card</td>\n    </tr>\n    <tr>\n      <th>10</th>\n      <td>51229</td>\n      <td>0</td>\n      <td>2019-05-28</td>\n      <td>1</td>\n      <td>36</td>\n      <td>1</td>\n      <td>52</td>\n      <td>0</td>\n      <td>0</td>\n      <td>0</td>\n      <td>...</td>\n      <td>0</td>\n      <td>0</td>\n      <td>0</td>\n      <td>0</td>\n      <td>0</td>\n      <td>0</td>\n      <td>0</td>\n      <td>1</td>\n      <td>0.663904</td>\n      <td>credit_card</td>\n    </tr>\n    <tr>\n      <th>23</th>\n      <td>88263</td>\n      <td>0</td>\n      <td>2019-05-28</td>\n      <td>1</td>\n      <td>37</td>\n      <td>1</td>\n      <td>65</td>\n      <td>0</td>\n      <td>0</td>\n      <td>0</td>\n      <td>...</td>\n      <td>0</td>\n      <td>0</td>\n      <td>0</td>\n      <td>0</td>\n      <td>0</td>\n      <td>0</td>\n      <td>0</td>\n      <td>1</td>\n      <td>0.547832</td>\n      <td>credit_card</td>\n    </tr>\n    <tr>\n      <th>29</th>\n      <td>96629</td>\n      <td>0</td>\n      <td>2019-05-28</td>\n      <td>1</td>\n      <td>45</td>\n      <td>1</td>\n      <td>50</td>\n      <td>0</td>\n      <td>0</td>\n      <td>0</td>\n      <td>...</td>\n      <td>0</td>\n      <td>0</td>\n      <td>0</td>\n      <td>0</td>\n      <td>0</td>\n      <td>0</td>\n      <td>0</td>\n      <td>1</td>\n      <td>0.552051</td>\n      <td>credit_card</td>\n    </tr>\n    <tr>\n      <th>...</th>\n      <td>...</td>\n      <td>...</td>\n      <td>...</td>\n      <td>...</td>\n      <td>...</td>\n      <td>...</td>\n      <td>...</td>\n      <td>...</td>\n      <td>...</td>\n      <td>...</td>\n      <td>...</td>\n      <td>...</td>\n      <td>...</td>\n      <td>...</td>\n      <td>...</td>\n      <td>...</td>\n      <td>...</td>\n      <td>...</td>\n      <td>...</td>\n      <td>...</td>\n      <td>...</td>\n    </tr>\n    <tr>\n      <th>38464</th>\n      <td>1544349</td>\n      <td>0</td>\n      <td>2019-05-28</td>\n      <td>1</td>\n      <td>28</td>\n      <td>1</td>\n      <td>53</td>\n      <td>0</td>\n      <td>0</td>\n      <td>0</td>\n      <td>...</td>\n      <td>0</td>\n      <td>0</td>\n      <td>0</td>\n      <td>0</td>\n      <td>0</td>\n      <td>0</td>\n      <td>0</td>\n      <td>1</td>\n      <td>0.541686</td>\n      <td>credit_card</td>\n    </tr>\n    <tr>\n      <th>38510</th>\n      <td>1544483</td>\n      <td>0</td>\n      <td>2019-05-28</td>\n      <td>1</td>\n      <td>50</td>\n      <td>0</td>\n      <td>47</td>\n      <td>0</td>\n      <td>0</td>\n      <td>0</td>\n      <td>...</td>\n      <td>0</td>\n      <td>0</td>\n      <td>0</td>\n      <td>0</td>\n      <td>0</td>\n      <td>0</td>\n      <td>0</td>\n      <td>1</td>\n      <td>0.533163</td>\n      <td>credit_card</td>\n    </tr>\n    <tr>\n      <th>38580</th>\n      <td>1544660</td>\n      <td>0</td>\n      <td>2019-05-28</td>\n      <td>1</td>\n      <td>28</td>\n      <td>1</td>\n      <td>48</td>\n      <td>0</td>\n      <td>0</td>\n      <td>0</td>\n      <td>...</td>\n      <td>0</td>\n      <td>0</td>\n      <td>0</td>\n      <td>0</td>\n      <td>0</td>\n      <td>0</td>\n      <td>0</td>\n      <td>1</td>\n      <td>0.629613</td>\n      <td>credit_card</td>\n    </tr>\n    <tr>\n      <th>38900</th>\n      <td>1545574</td>\n      <td>0</td>\n      <td>2019-05-28</td>\n      <td>1</td>\n      <td>3</td>\n      <td>0</td>\n      <td>48</td>\n      <td>0</td>\n      <td>0</td>\n      <td>0</td>\n      <td>...</td>\n      <td>0</td>\n      <td>0</td>\n      <td>0</td>\n      <td>0</td>\n      <td>0</td>\n      <td>0</td>\n      <td>0</td>\n      <td>1</td>\n      <td>0.560591</td>\n      <td>credit_card</td>\n    </tr>\n    <tr>\n      <th>39818</th>\n      <td>1548129</td>\n      <td>0</td>\n      <td>2019-05-28</td>\n      <td>1</td>\n      <td>8</td>\n      <td>1</td>\n      <td>33</td>\n      <td>0</td>\n      <td>0</td>\n      <td>0</td>\n      <td>...</td>\n      <td>0</td>\n      <td>0</td>\n      <td>0</td>\n      <td>0</td>\n      <td>0</td>\n      <td>0</td>\n      <td>0</td>\n      <td>1</td>\n      <td>0.596252</td>\n      <td>credit_card</td>\n    </tr>\n  </tbody>\n</table>\n<p>2113 rows × 146 columns</p>\n</div>"
     },
     "execution_count": 33,
     "metadata": {},
     "output_type": "execute_result"
    }
   ],
   "source": [
    "potential_clients_df = validation_df.copy(deep=True)\n",
    "\n",
    "prediction = model.predict(X_val)\n",
    "potential_clients_df[\"prediction\"] = prediction\n",
    "\n",
    "y_score = get_y_score(model, X_val, y_val)\n",
    "potential_clients_df[\"score\"] = y_score\n",
    "\n",
    "potential_clients_df[\"product_to_sale\"] = TARGET\n",
    "\n",
    "potential_client_filter = (potential_clients_df[TARGET] == 0)\\\n",
    "                          & (potential_clients_df[\"prediction\"] == 1)\\\n",
    "                          & (potential_clients_df[\"deceased\"] == 0)\n",
    "\n",
    "potential_clients_df = potential_clients_df[potential_client_filter]\n",
    "potential_clients_df.to_csv(f\"{__POTENTIAL_CLIENTS_PATH__}/potential_clients__{TARGET}.csv\")\n",
    "potential_clients_df"
   ],
   "metadata": {
    "pycharm": {
     "name": "#%%\n"
    },
    "id": "dmhjsb0zoA5C",
    "executionInfo": {
     "status": "ok",
     "timestamp": 1650721381325,
     "user_tz": -120,
     "elapsed": 481,
     "user": {
      "displayName": "nerea dominguez cabezas",
      "userId": "01946356256277218181"
     }
    },
    "colab": {
     "base_uri": "https://localhost:8080/",
     "height": 487
    },
    "outputId": "80552732-e7cb-450f-f07d-7bf647b59f95"
   }
  },
  {
   "cell_type": "markdown",
   "source": [
    "### Conclusions"
   ],
   "metadata": {
    "collapsed": false,
    "pycharm": {
     "name": "#%% md\n"
    },
    "id": "FKXPZSX3oA5C"
   }
  },
  {
   "cell_type": "markdown",
   "source": [
    "\n",
    "Últimas métricas, aquí vemos los resultados generales."
   ],
   "metadata": {
    "id": "KMYkqvVgCSrN"
   }
  },
  {
   "cell_type": "code",
   "execution_count": 34,
   "outputs": [
    {
     "data": {
      "text/plain": "                          4\ntarget          credit_card\ntarget_mean             0.2\nroc_auc_test       0.936656\nroc_auc_val        0.919524\naccuracy_test      0.878652\naccuracy_val       0.948871\nrecall_test        0.681763\nrecall_val         0.441767\nprecision_test     0.702551\nprecision_val       0.04946\nf1_score_test      0.692001\nf1_score_val       0.088961",
      "text/html": "<div>\n<style scoped>\n    .dataframe tbody tr th:only-of-type {\n        vertical-align: middle;\n    }\n\n    .dataframe tbody tr th {\n        vertical-align: top;\n    }\n\n    .dataframe thead th {\n        text-align: right;\n    }\n</style>\n<table border=\"1\" class=\"dataframe\">\n  <thead>\n    <tr style=\"text-align: right;\">\n      <th></th>\n      <th>4</th>\n    </tr>\n  </thead>\n  <tbody>\n    <tr>\n      <th>target</th>\n      <td>credit_card</td>\n    </tr>\n    <tr>\n      <th>target_mean</th>\n      <td>0.2</td>\n    </tr>\n    <tr>\n      <th>roc_auc_test</th>\n      <td>0.936656</td>\n    </tr>\n    <tr>\n      <th>roc_auc_val</th>\n      <td>0.919524</td>\n    </tr>\n    <tr>\n      <th>accuracy_test</th>\n      <td>0.878652</td>\n    </tr>\n    <tr>\n      <th>accuracy_val</th>\n      <td>0.948871</td>\n    </tr>\n    <tr>\n      <th>recall_test</th>\n      <td>0.681763</td>\n    </tr>\n    <tr>\n      <th>recall_val</th>\n      <td>0.441767</td>\n    </tr>\n    <tr>\n      <th>precision_test</th>\n      <td>0.702551</td>\n    </tr>\n    <tr>\n      <th>precision_val</th>\n      <td>0.04946</td>\n    </tr>\n    <tr>\n      <th>f1_score_test</th>\n      <td>0.692001</td>\n    </tr>\n    <tr>\n      <th>f1_score_val</th>\n      <td>0.088961</td>\n    </tr>\n  </tbody>\n</table>\n</div>"
     },
     "execution_count": 34,
     "metadata": {},
     "output_type": "execute_result"
    }
   ],
   "source": [
    "columns = [\n",
    "    \"target\",\n",
    "    \"target_mean\",\n",
    "    \"roc_auc_test\",\n",
    "    \"roc_auc_val\",\n",
    "    \"accuracy_test\",\n",
    "    \"accuracy_val\",\n",
    "    \"recall_test\",\n",
    "    \"recall_val\",\n",
    "    \"precision_test\",\n",
    "    \"precision_val\",\n",
    "    \"f1_score_test\",\n",
    "    \"f1_score_val\",\n",
    "]\n",
    "report_df.tail(1)[columns].T"
   ],
   "metadata": {
    "pycharm": {
     "name": "#%%\n"
    },
    "id": "K2bh8MmioA5C",
    "executionInfo": {
     "status": "ok",
     "timestamp": 1650721381326,
     "user_tz": -120,
     "elapsed": 9,
     "user": {
      "displayName": "nerea dominguez cabezas",
      "userId": "01946356256277218181"
     }
    },
    "colab": {
     "base_uri": "https://localhost:8080/",
     "height": 425
    },
    "outputId": "31c43884-c0da-4e7d-bd80-50d20c11fd82"
   }
  },
  {
   "cell_type": "code",
   "execution_count": null,
   "outputs": [],
   "source": [],
   "metadata": {
    "collapsed": false,
    "pycharm": {
     "name": "#%%\n"
    }
   }
  }
 ],
 "metadata": {
  "kernelspec": {
   "display_name": "Python 3",
   "language": "python",
   "name": "python3"
  },
  "language_info": {
   "codemirror_mode": {
    "name": "ipython",
    "version": 2
   },
   "file_extension": ".py",
   "mimetype": "text/x-python",
   "name": "python",
   "nbconvert_exporter": "python",
   "pygments_lexer": "ipython2",
   "version": "2.7.6"
  },
  "colab": {
   "name": "Classification/samplin-credit_card.ipynb",
   "provenance": [
    {
     "file_id": "10Ikv6FUvP0HraFE18j1VK5M9aZc7FS1J",
     "timestamp": 1650647983584
    },
    {
     "file_id": "11s0JGaYdfLfHQZV0-hHMMaNou3yVtjd-",
     "timestamp": 1650647448772
    },
    {
     "file_id": "13-cwbZN6D75U3DDrUjRbICp3j3ZTouCn",
     "timestamp": 1650646897194
    },
    {
     "file_id": "1ALENthKA6Fai12PD9PKIp41mMWB0jLV5",
     "timestamp": 1650646191315
    },
    {
     "file_id": "1M2b1XWyMItY60l42pE0LXdVnsYXbx1f9",
     "timestamp": 1650645519402
    },
    {
     "file_id": "1jQTzj4cRoap9VH_wwwgMoSIP3dwEzCQu",
     "timestamp": 1650642230678
    },
    {
     "file_id": "1JlRwJhAAnmHlh5yTitsLIWAtY7LjUGql",
     "timestamp": 1650642114492
    },
    {
     "file_id": "1jWI5eMf8dkXMpEmuugFByKP3C87IPlYl",
     "timestamp": 1650640709322
    },
    {
     "file_id": "https://github.com/AlfredoMarino/easy-money/blob/main/notebooks/classification/1.0-classification-em-acount.ipynb",
     "timestamp": 1650622551172
    }
   ],
   "collapsed_sections": []
  }
 },
 "nbformat": 4,
 "nbformat_minor": 0
}