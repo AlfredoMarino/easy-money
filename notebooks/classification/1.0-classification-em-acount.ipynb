{
 "cells": [
  {
   "cell_type": "markdown",
   "source": [
    "# Easy Money - Classification"
   ],
   "metadata": {
    "collapsed": false,
    "pycharm": {
     "name": "#%% md\n"
    }
   }
  },
  {
   "cell_type": "code",
   "execution_count": 131,
   "metadata": {
    "collapsed": true
   },
   "outputs": [],
   "source": [
    "import pandas as pd\n",
    "import numpy as np\n",
    "import matplotlib.pyplot as plt\n",
    "import seaborn as sns\n",
    "\n",
    "from sklearn.metrics import accuracy_score, precision_score, recall_score, f1_score, confusion_matrix, roc_auc_score, \\\n",
    "    roc_curve, plot_confusion_matrix\n",
    "from sklearn.base import BaseEstimator, TransformerMixin\n",
    "from sklearn.model_selection import train_test_split\n",
    "\n",
    "from datetime import datetime\n",
    "from xgboost import XGBClassifier"
   ]
  },
  {
   "cell_type": "code",
   "execution_count": 132,
   "outputs": [],
   "source": [
    "TARGET = \"em_acount\"\n",
    "\n",
    "__DATA_PATH__ = \"../../data/processed\"\n",
    "__DATASET__ = f\"{__DATA_PATH__}/easy_money_classification.csv\"\n",
    "__MODEL_METRICS_REPORT_PATH__ = \"../../reports/model_evaluation_output_.csv\"\n",
    "\n",
    "DEV_PARTITION_PERIOD = (\"2018-01-28\", \"2019-02-28\")\n",
    "VAL_PARTITION_PERIOD = (\"2019-03-28\", \"2019-05-28\")\n",
    "\n",
    "EXCLUDE_COLUMNS = [\"pk_cid\", \"pk_partition\"]"
   ],
   "metadata": {
    "collapsed": false,
    "pycharm": {
     "name": "#%%\n"
    }
   }
  },
  {
   "cell_type": "markdown",
   "source": [
    "## Import data"
   ],
   "metadata": {
    "collapsed": false,
    "pycharm": {
     "name": "#%% md\n"
    }
   }
  },
  {
   "cell_type": "code",
   "execution_count": 133,
   "outputs": [],
   "source": [
    "dtypes = {'pk_cid': 'int64', 'active_customer': 'int8',\n",
    "          'region_code': 'int8', 'gender': 'int8', 'age': 'int8', 'deceased': 'int8',\n",
    "          'short_term_deposit': 'int8', 'loans': 'int8', 'mortgage': 'int8',\n",
    "          'funds': 'int8', 'securities': 'int8', 'long_term_deposit': 'int8',\n",
    "          'em_account_pp': 'int8', 'credit_card': 'int8', 'payroll': 'int8',\n",
    "          'pension_plan': 'int8', 'payroll_account': 'int8', 'emc_account': 'int8',\n",
    "          'debit_card': 'int8', 'em_account_p': 'int8', 'em_acount': 'int8',\n",
    "          'entry_date_month': 'int8', 'entry_date_year': 'int8', 'entry_date_day': 'int8',\n",
    "          'entry_date_week': 'int8', 'entry_date_weekday': 'int8', 'entry_date_trim': 'int8',\n",
    "          'salary': 'float64', 'entry_channel_004': 'int8', 'entry_channel_007': 'int8',\n",
    "          'entry_channel_013': 'int8', 'entry_channel_KAA': 'int8', 'entry_channel_KAB': 'int8',\n",
    "          'entry_channel_KAD': 'int8', 'entry_channel_KAE': 'int8', 'entry_channel_KAF': 'int8',\n",
    "          'entry_channel_KAG': 'int8', 'entry_channel_KAH': 'int8', 'entry_channel_KAI': 'int8',\n",
    "          'entry_channel_KAJ': 'int8', 'entry_channel_KAK': 'int8', 'entry_channel_KAM': 'int8',\n",
    "          'entry_channel_KAQ': 'int8', 'entry_channel_KAR': 'int8', 'entry_channel_KAS': 'int8',\n",
    "          'entry_channel_KAT': 'int8', 'entry_channel_KAW': 'int8', 'entry_channel_KAY': 'int8',\n",
    "          'entry_channel_KAZ': 'int8', 'entry_channel_KBE': 'int8', 'entry_channel_KBG': 'int8',\n",
    "          'entry_channel_KBH': 'int8', 'entry_channel_KBO': 'int8', 'entry_channel_KBU': 'int8',\n",
    "          'entry_channel_KBW': 'int8', 'entry_channel_KBY': 'int8', 'entry_channel_KBZ': 'int8',\n",
    "          'entry_channel_KCB': 'int8', 'entry_channel_KCC': 'int8', 'entry_channel_KCH': 'int8',\n",
    "          'entry_channel_KCI': 'int8', 'entry_channel_KCK': 'int8', 'entry_channel_KCL': 'int8',\n",
    "          'entry_channel_KDA': 'int8', 'entry_channel_KDH': 'int8', 'entry_channel_KDR': 'int8',\n",
    "          'entry_channel_KDS': 'int8', 'entry_channel_KDT': 'int8', 'entry_channel_KEH': 'int8',\n",
    "          'entry_channel_KEJ': 'int8', 'entry_channel_KES': 'int8', 'entry_channel_KEY': 'int8',\n",
    "          'entry_channel_KFA': 'int8', 'entry_channel_KFC': 'int8', 'entry_channel_KFD': 'int8',\n",
    "          'entry_channel_KFF': 'int8', 'entry_channel_KFK': 'int8', 'entry_channel_KFL': 'int8',\n",
    "          'entry_channel_KFP': 'int8', 'entry_channel_KFS': 'int8', 'entry_channel_KGC': 'int8',\n",
    "          'entry_channel_KGN': 'int8', 'entry_channel_KGX': 'int8', 'entry_channel_KHC': 'int8',\n",
    "          'entry_channel_KHD': 'int8', 'entry_channel_KHE': 'int8', 'entry_channel_KHF': 'int8',\n",
    "          'entry_channel_KHK': 'int8', 'entry_channel_KHL': 'int8', 'entry_channel_KHM': 'int8',\n",
    "          'entry_channel_KHN': 'int8', 'entry_channel_KHO': 'int8', 'entry_channel_KHP': 'int8',\n",
    "          'entry_channel_KHQ': 'int8', 'entry_channel_KHS': 'int8', 'entry_channel_RED': 'int8',\n",
    "          'entry_channel_UNKNOWN': 'int8', 'segment_00 - OTROS': 'int8',\n",
    "          'segment_01 - TOP': 'int8', 'segment_02 - PARTICULARES': 'int8',\n",
    "          'segment_03 - UNIVERSITARIO': 'int8', 'country_id_AR': 'int8', 'country_id_AT': 'int8',\n",
    "          'country_id_BE': 'int8', 'country_id_BR': 'int8', 'country_id_CA': 'int8',\n",
    "          'country_id_CH': 'int8', 'country_id_CI': 'int8', 'country_id_CL': 'int8',\n",
    "          'country_id_CM': 'int8', 'country_id_CN': 'int8', 'country_id_CO': 'int8',\n",
    "          'country_id_DE': 'int8', 'country_id_DJ': 'int8', 'country_id_DO': 'int8',\n",
    "          'country_id_DZ': 'int8', 'country_id_ES': 'int8', 'country_id_ET': 'int8',\n",
    "          'country_id_FR': 'int8', 'country_id_GA': 'int8', 'country_id_GB': 'int8',\n",
    "          'country_id_GT': 'int8', 'country_id_HU': 'int8', 'country_id_IE': 'int8',\n",
    "          'country_id_IT': 'int8', 'country_id_JM': 'int8', 'country_id_LU': 'int8',\n",
    "          'country_id_MA': 'int8', 'country_id_MR': 'int8', 'country_id_MX': 'int8',\n",
    "          'country_id_NO': 'int8', 'country_id_PE': 'int8', 'country_id_PL': 'int8',\n",
    "          'country_id_PT': 'int8', 'country_id_QA': 'int8', 'country_id_RO': 'int8',\n",
    "          'country_id_RU': 'int8', 'country_id_SA': 'int8', 'country_id_SE': 'int8',\n",
    "          'country_id_SN': 'int8', 'country_id_US': 'int8', 'country_id_VE': 'int8'}\n",
    "\n",
    "parse_dates = ['pk_partition']"
   ],
   "metadata": {
    "collapsed": false,
    "pycharm": {
     "name": "#%%\n"
    }
   }
  },
  {
   "cell_type": "code",
   "execution_count": 134,
   "outputs": [
    {
     "name": "stdout",
     "output_type": "stream",
     "text": [
      "<class 'pandas.core.frame.DataFrame'>\n",
      "RangeIndex: 5962838 entries, 0 to 5962837\n",
      "Columns: 143 entries, pk_cid to country_id_VE\n",
      "dtypes: datetime64[ns](1), float64(1), int64(1), int8(140)\n",
      "memory usage: 932.6 MB\n",
      "Wall time: 42.2 s\n"
     ]
    }
   ],
   "source": [
    "%%time\n",
    "df = pd.read_csv(__DATASET__, dtype=dtypes, parse_dates=parse_dates)\n",
    "df.drop(\"Unnamed: 0\", axis=1, inplace=True)\n",
    "df.drop(\"entry_date\", axis=1, inplace=True)\n",
    "df[\"pk_partition\"] = pd.to_datetime(df[\"pk_partition\"])\n",
    "df.info(memory_usage=\"deep\")"
   ],
   "metadata": {
    "collapsed": false,
    "pycharm": {
     "name": "#%%\n"
    }
   }
  },
  {
   "cell_type": "code",
   "execution_count": 135,
   "outputs": [
    {
     "data": {
      "text/plain": "    pk_cid pk_partition  active_customer  region_code  gender  age  deceased  \\\n0    15891   2018-07-28                1           28       1   59         0   \n1    15891   2018-08-28                0           28       1   59         0   \n2    16063   2018-11-28                1           28       1   62         0   \n3    16063   2018-12-28                1           28       1   62         0   \n4    16063   2019-01-28                1           28       1   62         0   \n5    16063   2019-02-28                1           28       1   62         0   \n6    16063   2019-03-28                0           28       1   62         0   \n7    16063   2019-04-28                1           28       1   62         0   \n8    16063   2019-05-28                0           28       1   62         0   \n9    16203   2018-12-28                0            8       0   70         0   \n10   16203   2019-01-28                1            8       0   70         0   \n11   16203   2019-02-28                1            8       0   70         0   \n12   16203   2019-03-28                1            8       0   70         0   \n13   16203   2019-04-28                1            8       0   70         0   \n14   16203   2019-05-28                1            8       0   70         0   \n15   16502   2018-09-28                0           28       1   57         0   \n16   16502   2018-10-28                1           28       1   58         0   \n17   16502   2018-11-28                1           28       1   58         0   \n18   16502   2018-12-28                1           28       1   58         0   \n19   16502   2019-01-28                1           28       1   58         0   \n\n    short_term_deposit  loans  mortgage  ...  country_id_PL  country_id_PT  \\\n0                    0      0         0  ...              0              0   \n1                    0      0         0  ...              0              0   \n2                    0      0         0  ...              0              0   \n3                    0      0         0  ...              0              0   \n4                    0      0         0  ...              0              0   \n5                    0      0         0  ...              0              0   \n6                    0      0         0  ...              0              0   \n7                    0      0         0  ...              0              0   \n8                    0      0         0  ...              0              0   \n9                    0      0         0  ...              0              0   \n10                   0      0         0  ...              0              0   \n11                   0      0         0  ...              0              0   \n12                   0      0         0  ...              0              0   \n13                   0      0         0  ...              0              0   \n14                   0      0         0  ...              0              0   \n15                   0      0         0  ...              0              0   \n16                   0      0         0  ...              0              0   \n17                   0      0         0  ...              0              0   \n18                   0      0         0  ...              0              0   \n19                   0      0         0  ...              0              0   \n\n    country_id_QA  country_id_RO  country_id_RU  country_id_SA  country_id_SE  \\\n0               0              0              0              0              0   \n1               0              0              0              0              0   \n2               0              0              0              0              0   \n3               0              0              0              0              0   \n4               0              0              0              0              0   \n5               0              0              0              0              0   \n6               0              0              0              0              0   \n7               0              0              0              0              0   \n8               0              0              0              0              0   \n9               0              0              0              0              0   \n10              0              0              0              0              0   \n11              0              0              0              0              0   \n12              0              0              0              0              0   \n13              0              0              0              0              0   \n14              0              0              0              0              0   \n15              0              0              0              0              0   \n16              0              0              0              0              0   \n17              0              0              0              0              0   \n18              0              0              0              0              0   \n19              0              0              0              0              0   \n\n    country_id_SN  country_id_US  country_id_VE  \n0               0              0              0  \n1               0              0              0  \n2               0              0              0  \n3               0              0              0  \n4               0              0              0  \n5               0              0              0  \n6               0              0              0  \n7               0              0              0  \n8               0              0              0  \n9               0              0              0  \n10              0              0              0  \n11              0              0              0  \n12              0              0              0  \n13              0              0              0  \n14              0              0              0  \n15              0              0              0  \n16              0              0              0  \n17              0              0              0  \n18              0              0              0  \n19              0              0              0  \n\n[20 rows x 143 columns]",
      "text/html": "<div>\n<style scoped>\n    .dataframe tbody tr th:only-of-type {\n        vertical-align: middle;\n    }\n\n    .dataframe tbody tr th {\n        vertical-align: top;\n    }\n\n    .dataframe thead th {\n        text-align: right;\n    }\n</style>\n<table border=\"1\" class=\"dataframe\">\n  <thead>\n    <tr style=\"text-align: right;\">\n      <th></th>\n      <th>pk_cid</th>\n      <th>pk_partition</th>\n      <th>active_customer</th>\n      <th>region_code</th>\n      <th>gender</th>\n      <th>age</th>\n      <th>deceased</th>\n      <th>short_term_deposit</th>\n      <th>loans</th>\n      <th>mortgage</th>\n      <th>...</th>\n      <th>country_id_PL</th>\n      <th>country_id_PT</th>\n      <th>country_id_QA</th>\n      <th>country_id_RO</th>\n      <th>country_id_RU</th>\n      <th>country_id_SA</th>\n      <th>country_id_SE</th>\n      <th>country_id_SN</th>\n      <th>country_id_US</th>\n      <th>country_id_VE</th>\n    </tr>\n  </thead>\n  <tbody>\n    <tr>\n      <th>0</th>\n      <td>15891</td>\n      <td>2018-07-28</td>\n      <td>1</td>\n      <td>28</td>\n      <td>1</td>\n      <td>59</td>\n      <td>0</td>\n      <td>0</td>\n      <td>0</td>\n      <td>0</td>\n      <td>...</td>\n      <td>0</td>\n      <td>0</td>\n      <td>0</td>\n      <td>0</td>\n      <td>0</td>\n      <td>0</td>\n      <td>0</td>\n      <td>0</td>\n      <td>0</td>\n      <td>0</td>\n    </tr>\n    <tr>\n      <th>1</th>\n      <td>15891</td>\n      <td>2018-08-28</td>\n      <td>0</td>\n      <td>28</td>\n      <td>1</td>\n      <td>59</td>\n      <td>0</td>\n      <td>0</td>\n      <td>0</td>\n      <td>0</td>\n      <td>...</td>\n      <td>0</td>\n      <td>0</td>\n      <td>0</td>\n      <td>0</td>\n      <td>0</td>\n      <td>0</td>\n      <td>0</td>\n      <td>0</td>\n      <td>0</td>\n      <td>0</td>\n    </tr>\n    <tr>\n      <th>2</th>\n      <td>16063</td>\n      <td>2018-11-28</td>\n      <td>1</td>\n      <td>28</td>\n      <td>1</td>\n      <td>62</td>\n      <td>0</td>\n      <td>0</td>\n      <td>0</td>\n      <td>0</td>\n      <td>...</td>\n      <td>0</td>\n      <td>0</td>\n      <td>0</td>\n      <td>0</td>\n      <td>0</td>\n      <td>0</td>\n      <td>0</td>\n      <td>0</td>\n      <td>0</td>\n      <td>0</td>\n    </tr>\n    <tr>\n      <th>3</th>\n      <td>16063</td>\n      <td>2018-12-28</td>\n      <td>1</td>\n      <td>28</td>\n      <td>1</td>\n      <td>62</td>\n      <td>0</td>\n      <td>0</td>\n      <td>0</td>\n      <td>0</td>\n      <td>...</td>\n      <td>0</td>\n      <td>0</td>\n      <td>0</td>\n      <td>0</td>\n      <td>0</td>\n      <td>0</td>\n      <td>0</td>\n      <td>0</td>\n      <td>0</td>\n      <td>0</td>\n    </tr>\n    <tr>\n      <th>4</th>\n      <td>16063</td>\n      <td>2019-01-28</td>\n      <td>1</td>\n      <td>28</td>\n      <td>1</td>\n      <td>62</td>\n      <td>0</td>\n      <td>0</td>\n      <td>0</td>\n      <td>0</td>\n      <td>...</td>\n      <td>0</td>\n      <td>0</td>\n      <td>0</td>\n      <td>0</td>\n      <td>0</td>\n      <td>0</td>\n      <td>0</td>\n      <td>0</td>\n      <td>0</td>\n      <td>0</td>\n    </tr>\n    <tr>\n      <th>5</th>\n      <td>16063</td>\n      <td>2019-02-28</td>\n      <td>1</td>\n      <td>28</td>\n      <td>1</td>\n      <td>62</td>\n      <td>0</td>\n      <td>0</td>\n      <td>0</td>\n      <td>0</td>\n      <td>...</td>\n      <td>0</td>\n      <td>0</td>\n      <td>0</td>\n      <td>0</td>\n      <td>0</td>\n      <td>0</td>\n      <td>0</td>\n      <td>0</td>\n      <td>0</td>\n      <td>0</td>\n    </tr>\n    <tr>\n      <th>6</th>\n      <td>16063</td>\n      <td>2019-03-28</td>\n      <td>0</td>\n      <td>28</td>\n      <td>1</td>\n      <td>62</td>\n      <td>0</td>\n      <td>0</td>\n      <td>0</td>\n      <td>0</td>\n      <td>...</td>\n      <td>0</td>\n      <td>0</td>\n      <td>0</td>\n      <td>0</td>\n      <td>0</td>\n      <td>0</td>\n      <td>0</td>\n      <td>0</td>\n      <td>0</td>\n      <td>0</td>\n    </tr>\n    <tr>\n      <th>7</th>\n      <td>16063</td>\n      <td>2019-04-28</td>\n      <td>1</td>\n      <td>28</td>\n      <td>1</td>\n      <td>62</td>\n      <td>0</td>\n      <td>0</td>\n      <td>0</td>\n      <td>0</td>\n      <td>...</td>\n      <td>0</td>\n      <td>0</td>\n      <td>0</td>\n      <td>0</td>\n      <td>0</td>\n      <td>0</td>\n      <td>0</td>\n      <td>0</td>\n      <td>0</td>\n      <td>0</td>\n    </tr>\n    <tr>\n      <th>8</th>\n      <td>16063</td>\n      <td>2019-05-28</td>\n      <td>0</td>\n      <td>28</td>\n      <td>1</td>\n      <td>62</td>\n      <td>0</td>\n      <td>0</td>\n      <td>0</td>\n      <td>0</td>\n      <td>...</td>\n      <td>0</td>\n      <td>0</td>\n      <td>0</td>\n      <td>0</td>\n      <td>0</td>\n      <td>0</td>\n      <td>0</td>\n      <td>0</td>\n      <td>0</td>\n      <td>0</td>\n    </tr>\n    <tr>\n      <th>9</th>\n      <td>16203</td>\n      <td>2018-12-28</td>\n      <td>0</td>\n      <td>8</td>\n      <td>0</td>\n      <td>70</td>\n      <td>0</td>\n      <td>0</td>\n      <td>0</td>\n      <td>0</td>\n      <td>...</td>\n      <td>0</td>\n      <td>0</td>\n      <td>0</td>\n      <td>0</td>\n      <td>0</td>\n      <td>0</td>\n      <td>0</td>\n      <td>0</td>\n      <td>0</td>\n      <td>0</td>\n    </tr>\n    <tr>\n      <th>10</th>\n      <td>16203</td>\n      <td>2019-01-28</td>\n      <td>1</td>\n      <td>8</td>\n      <td>0</td>\n      <td>70</td>\n      <td>0</td>\n      <td>0</td>\n      <td>0</td>\n      <td>0</td>\n      <td>...</td>\n      <td>0</td>\n      <td>0</td>\n      <td>0</td>\n      <td>0</td>\n      <td>0</td>\n      <td>0</td>\n      <td>0</td>\n      <td>0</td>\n      <td>0</td>\n      <td>0</td>\n    </tr>\n    <tr>\n      <th>11</th>\n      <td>16203</td>\n      <td>2019-02-28</td>\n      <td>1</td>\n      <td>8</td>\n      <td>0</td>\n      <td>70</td>\n      <td>0</td>\n      <td>0</td>\n      <td>0</td>\n      <td>0</td>\n      <td>...</td>\n      <td>0</td>\n      <td>0</td>\n      <td>0</td>\n      <td>0</td>\n      <td>0</td>\n      <td>0</td>\n      <td>0</td>\n      <td>0</td>\n      <td>0</td>\n      <td>0</td>\n    </tr>\n    <tr>\n      <th>12</th>\n      <td>16203</td>\n      <td>2019-03-28</td>\n      <td>1</td>\n      <td>8</td>\n      <td>0</td>\n      <td>70</td>\n      <td>0</td>\n      <td>0</td>\n      <td>0</td>\n      <td>0</td>\n      <td>...</td>\n      <td>0</td>\n      <td>0</td>\n      <td>0</td>\n      <td>0</td>\n      <td>0</td>\n      <td>0</td>\n      <td>0</td>\n      <td>0</td>\n      <td>0</td>\n      <td>0</td>\n    </tr>\n    <tr>\n      <th>13</th>\n      <td>16203</td>\n      <td>2019-04-28</td>\n      <td>1</td>\n      <td>8</td>\n      <td>0</td>\n      <td>70</td>\n      <td>0</td>\n      <td>0</td>\n      <td>0</td>\n      <td>0</td>\n      <td>...</td>\n      <td>0</td>\n      <td>0</td>\n      <td>0</td>\n      <td>0</td>\n      <td>0</td>\n      <td>0</td>\n      <td>0</td>\n      <td>0</td>\n      <td>0</td>\n      <td>0</td>\n    </tr>\n    <tr>\n      <th>14</th>\n      <td>16203</td>\n      <td>2019-05-28</td>\n      <td>1</td>\n      <td>8</td>\n      <td>0</td>\n      <td>70</td>\n      <td>0</td>\n      <td>0</td>\n      <td>0</td>\n      <td>0</td>\n      <td>...</td>\n      <td>0</td>\n      <td>0</td>\n      <td>0</td>\n      <td>0</td>\n      <td>0</td>\n      <td>0</td>\n      <td>0</td>\n      <td>0</td>\n      <td>0</td>\n      <td>0</td>\n    </tr>\n    <tr>\n      <th>15</th>\n      <td>16502</td>\n      <td>2018-09-28</td>\n      <td>0</td>\n      <td>28</td>\n      <td>1</td>\n      <td>57</td>\n      <td>0</td>\n      <td>0</td>\n      <td>0</td>\n      <td>0</td>\n      <td>...</td>\n      <td>0</td>\n      <td>0</td>\n      <td>0</td>\n      <td>0</td>\n      <td>0</td>\n      <td>0</td>\n      <td>0</td>\n      <td>0</td>\n      <td>0</td>\n      <td>0</td>\n    </tr>\n    <tr>\n      <th>16</th>\n      <td>16502</td>\n      <td>2018-10-28</td>\n      <td>1</td>\n      <td>28</td>\n      <td>1</td>\n      <td>58</td>\n      <td>0</td>\n      <td>0</td>\n      <td>0</td>\n      <td>0</td>\n      <td>...</td>\n      <td>0</td>\n      <td>0</td>\n      <td>0</td>\n      <td>0</td>\n      <td>0</td>\n      <td>0</td>\n      <td>0</td>\n      <td>0</td>\n      <td>0</td>\n      <td>0</td>\n    </tr>\n    <tr>\n      <th>17</th>\n      <td>16502</td>\n      <td>2018-11-28</td>\n      <td>1</td>\n      <td>28</td>\n      <td>1</td>\n      <td>58</td>\n      <td>0</td>\n      <td>0</td>\n      <td>0</td>\n      <td>0</td>\n      <td>...</td>\n      <td>0</td>\n      <td>0</td>\n      <td>0</td>\n      <td>0</td>\n      <td>0</td>\n      <td>0</td>\n      <td>0</td>\n      <td>0</td>\n      <td>0</td>\n      <td>0</td>\n    </tr>\n    <tr>\n      <th>18</th>\n      <td>16502</td>\n      <td>2018-12-28</td>\n      <td>1</td>\n      <td>28</td>\n      <td>1</td>\n      <td>58</td>\n      <td>0</td>\n      <td>0</td>\n      <td>0</td>\n      <td>0</td>\n      <td>...</td>\n      <td>0</td>\n      <td>0</td>\n      <td>0</td>\n      <td>0</td>\n      <td>0</td>\n      <td>0</td>\n      <td>0</td>\n      <td>0</td>\n      <td>0</td>\n      <td>0</td>\n    </tr>\n    <tr>\n      <th>19</th>\n      <td>16502</td>\n      <td>2019-01-28</td>\n      <td>1</td>\n      <td>28</td>\n      <td>1</td>\n      <td>58</td>\n      <td>0</td>\n      <td>0</td>\n      <td>0</td>\n      <td>0</td>\n      <td>...</td>\n      <td>0</td>\n      <td>0</td>\n      <td>0</td>\n      <td>0</td>\n      <td>0</td>\n      <td>0</td>\n      <td>0</td>\n      <td>0</td>\n      <td>0</td>\n      <td>0</td>\n    </tr>\n  </tbody>\n</table>\n<p>20 rows × 143 columns</p>\n</div>"
     },
     "execution_count": 135,
     "metadata": {},
     "output_type": "execute_result"
    }
   ],
   "source": [
    "df.head(20)"
   ],
   "metadata": {
    "collapsed": false,
    "pycharm": {
     "name": "#%%\n"
    }
   }
  },
  {
   "cell_type": "code",
   "execution_count": 136,
   "outputs": [
    {
     "data": {
      "text/plain": "                     count          mean            std      min        25%  \\\npk_cid           5962838.0  1.234933e+06  162293.085772  15891.0  1112533.0   \nactive_customer  5962838.0  4.033799e-01       0.490576      0.0        0.0   \nregion_code      5962838.0  2.580417e+01      13.603136     -1.0       13.0   \ngender           5962838.0  5.177870e-01       0.499684      0.0        0.0   \nage              5962838.0  2.976015e+01      11.980074      2.0       22.0   \n...                    ...           ...            ...      ...        ...   \ncountry_id_SA    5962838.0  2.850991e-06       0.001688      0.0        0.0   \ncountry_id_SE    5962838.0  2.683286e-06       0.001638      0.0        0.0   \ncountry_id_SN    5962838.0  2.850991e-06       0.001688      0.0        0.0   \ncountry_id_US    5962838.0  3.270255e-05       0.005719      0.0        0.0   \ncountry_id_VE    5962838.0  1.324872e-05       0.003640      0.0        0.0   \n\n                       50%         75%        max  \npk_cid           1231097.0  1352339.75  1553689.0  \nactive_customer        0.0        1.00        1.0  \nregion_code           28.0       36.00       52.0  \ngender                 1.0        1.00        1.0  \nage                   25.0       34.00      105.0  \n...                    ...         ...        ...  \ncountry_id_SA          0.0        0.00        1.0  \ncountry_id_SE          0.0        0.00        1.0  \ncountry_id_SN          0.0        0.00        1.0  \ncountry_id_US          0.0        0.00        1.0  \ncountry_id_VE          0.0        0.00        1.0  \n\n[142 rows x 8 columns]",
      "text/html": "<div>\n<style scoped>\n    .dataframe tbody tr th:only-of-type {\n        vertical-align: middle;\n    }\n\n    .dataframe tbody tr th {\n        vertical-align: top;\n    }\n\n    .dataframe thead th {\n        text-align: right;\n    }\n</style>\n<table border=\"1\" class=\"dataframe\">\n  <thead>\n    <tr style=\"text-align: right;\">\n      <th></th>\n      <th>count</th>\n      <th>mean</th>\n      <th>std</th>\n      <th>min</th>\n      <th>25%</th>\n      <th>50%</th>\n      <th>75%</th>\n      <th>max</th>\n    </tr>\n  </thead>\n  <tbody>\n    <tr>\n      <th>pk_cid</th>\n      <td>5962838.0</td>\n      <td>1.234933e+06</td>\n      <td>162293.085772</td>\n      <td>15891.0</td>\n      <td>1112533.0</td>\n      <td>1231097.0</td>\n      <td>1352339.75</td>\n      <td>1553689.0</td>\n    </tr>\n    <tr>\n      <th>active_customer</th>\n      <td>5962838.0</td>\n      <td>4.033799e-01</td>\n      <td>0.490576</td>\n      <td>0.0</td>\n      <td>0.0</td>\n      <td>0.0</td>\n      <td>1.00</td>\n      <td>1.0</td>\n    </tr>\n    <tr>\n      <th>region_code</th>\n      <td>5962838.0</td>\n      <td>2.580417e+01</td>\n      <td>13.603136</td>\n      <td>-1.0</td>\n      <td>13.0</td>\n      <td>28.0</td>\n      <td>36.00</td>\n      <td>52.0</td>\n    </tr>\n    <tr>\n      <th>gender</th>\n      <td>5962838.0</td>\n      <td>5.177870e-01</td>\n      <td>0.499684</td>\n      <td>0.0</td>\n      <td>0.0</td>\n      <td>1.0</td>\n      <td>1.00</td>\n      <td>1.0</td>\n    </tr>\n    <tr>\n      <th>age</th>\n      <td>5962838.0</td>\n      <td>2.976015e+01</td>\n      <td>11.980074</td>\n      <td>2.0</td>\n      <td>22.0</td>\n      <td>25.0</td>\n      <td>34.00</td>\n      <td>105.0</td>\n    </tr>\n    <tr>\n      <th>...</th>\n      <td>...</td>\n      <td>...</td>\n      <td>...</td>\n      <td>...</td>\n      <td>...</td>\n      <td>...</td>\n      <td>...</td>\n      <td>...</td>\n    </tr>\n    <tr>\n      <th>country_id_SA</th>\n      <td>5962838.0</td>\n      <td>2.850991e-06</td>\n      <td>0.001688</td>\n      <td>0.0</td>\n      <td>0.0</td>\n      <td>0.0</td>\n      <td>0.00</td>\n      <td>1.0</td>\n    </tr>\n    <tr>\n      <th>country_id_SE</th>\n      <td>5962838.0</td>\n      <td>2.683286e-06</td>\n      <td>0.001638</td>\n      <td>0.0</td>\n      <td>0.0</td>\n      <td>0.0</td>\n      <td>0.00</td>\n      <td>1.0</td>\n    </tr>\n    <tr>\n      <th>country_id_SN</th>\n      <td>5962838.0</td>\n      <td>2.850991e-06</td>\n      <td>0.001688</td>\n      <td>0.0</td>\n      <td>0.0</td>\n      <td>0.0</td>\n      <td>0.00</td>\n      <td>1.0</td>\n    </tr>\n    <tr>\n      <th>country_id_US</th>\n      <td>5962838.0</td>\n      <td>3.270255e-05</td>\n      <td>0.005719</td>\n      <td>0.0</td>\n      <td>0.0</td>\n      <td>0.0</td>\n      <td>0.00</td>\n      <td>1.0</td>\n    </tr>\n    <tr>\n      <th>country_id_VE</th>\n      <td>5962838.0</td>\n      <td>1.324872e-05</td>\n      <td>0.003640</td>\n      <td>0.0</td>\n      <td>0.0</td>\n      <td>0.0</td>\n      <td>0.00</td>\n      <td>1.0</td>\n    </tr>\n  </tbody>\n</table>\n<p>142 rows × 8 columns</p>\n</div>"
     },
     "execution_count": 136,
     "metadata": {},
     "output_type": "execute_result"
    }
   ],
   "source": [
    "df.describe().T"
   ],
   "metadata": {
    "collapsed": false,
    "pycharm": {
     "name": "#%%\n"
    }
   }
  },
  {
   "cell_type": "markdown",
   "source": [
    "## Classes"
   ],
   "metadata": {
    "collapsed": false,
    "pycharm": {
     "name": "#%% md\n"
    }
   }
  },
  {
   "cell_type": "code",
   "execution_count": 137,
   "outputs": [],
   "source": [
    "class EasyMoneyFilter(BaseEstimator, TransformerMixin):\n",
    "\n",
    "    def __init__(self, target: str, group_by=\"pk_cid\", sort_value=None):\n",
    "        if sort_value is None:\n",
    "            sort_value = [\"pk_cid\", \"pk_partition\"]\n",
    "        self.target = target\n",
    "        self.group_by = group_by\n",
    "        self.sort_values = sort_value\n",
    "\n",
    "    def fit(self, X, y=None):\n",
    "        return self\n",
    "\n",
    "    def transform(self, X, y=None):\n",
    "        return pd.concat([\n",
    "            self.get_fist_sales(X),\n",
    "            self.get_last_no_sales(X)\n",
    "        ]).sort_values(self.sort_values, ignore_index=True)\n",
    "\n",
    "    def get_fist_sales(self, X) -> pd.DataFrame:\n",
    "        first_sale = X.groupby([self.group_by, self.target]).first().reset_index()\n",
    "        return first_sale[first_sale[self.target] == 1]\n",
    "\n",
    "    def get_last_no_sales(self, X) -> pd.DataFrame:\n",
    "        last_no_sale = X.groupby([self.group_by, self.target]).last().reset_index()\n",
    "        return last_no_sale[last_no_sale[self.target] == 0]\n",
    "\n",
    "\n",
    "class EasyMoneySplitter:\n",
    "\n",
    "    def __init__(self, dev_partition_period: tuple, val_partition_period: tuple, exclude_columns):\n",
    "        self.dev_partition_period = dev_partition_period\n",
    "        self.val_partition_period = val_partition_period\n",
    "        self.exclude_columns = exclude_columns\n",
    "\n",
    "    def get_train_partition(self, dataframe: pd.DataFrame) -> pd.DataFrame:\n",
    "        return self._get_partition(dataframe, self.dev_partition_period[0], self.dev_partition_period[1])\n",
    "\n",
    "    def get_validation_partition(self, dataframe: pd.DataFrame) -> pd.DataFrame:\n",
    "        return self._get_partition(dataframe, self.val_partition_period[0], self.val_partition_period[1])\n",
    "\n",
    "    def _get_partition(self, dataframe: pd.DataFrame, from_date, to_date) -> pd.DataFrame:\n",
    "        partition = self._split(dataframe, from_date, to_date)\n",
    "        return partition.drop(self.exclude_columns, axis=1)\n",
    "\n",
    "    def _split(self, dataframe: pd.DataFrame, from_date, to_date) -> pd.DataFrame:\n",
    "        return dataframe[dataframe[\"pk_partition\"].between(from_date, to_date)].reset_index(drop=True)\n",
    "\n",
    "\n",
    "class Reporter:\n",
    "\n",
    "    def __init__(self, output_file):\n",
    "        self.output_file = output_file\n",
    "        try:\n",
    "            self.output_df = pd.read_csv(self.output_file, index_col=0)\n",
    "            self.output_df[\"date\"] = pd.to_datetime(self.output_df[\"date\"])\n",
    "        except FileNotFoundError:\n",
    "            self.output_df = pd.DataFrame(columns=[\n",
    "                \"target\",\n",
    "                \"target_mean\",\n",
    "                \"date\",\n",
    "                \"is_overfitted\",\n",
    "                \"roc_auc_train\",\n",
    "                \"roc_auc_test\",\n",
    "                \"roc_auc_val\",\n",
    "                \"accuracy_train\",\n",
    "                \"accuracy_test\",\n",
    "                \"accuracy_val\",\n",
    "                \"recall_train\",\n",
    "                \"recall_test\",\n",
    "                \"recall_val\",\n",
    "                \"precision_train\",\n",
    "                \"precision_test\",\n",
    "                \"precision_val\",\n",
    "                \"f1_score_train\",\n",
    "                \"f1_score_test\",\n",
    "                \"f1_score_val\",\n",
    "                \"model\"\n",
    "            ])\n",
    "\n",
    "    def append_new_evaluation(self, data):\n",
    "        data[\"is_overfitted\"] = round(abs((data[\"roc_auc_train\"] - data[\"roc_auc_test\"])), 2) > 0\n",
    "        data[\"date\"] = datetime.now()\n",
    "        self.output_df = self.output_df.append(data, ignore_index=True)\n",
    "\n",
    "    def record_evaluation(self, target, model, X_train, y_train, X_test, y_test, X_val, y_val, target_mean):\n",
    "        train_metrics = get_metrics(model, X_train, y_train)\n",
    "        test_metrics = get_metrics(model, X_test, y_test)\n",
    "        val_metrics = get_metrics(model, X_val, y_val)\n",
    "        report_dict = {\n",
    "            \"target\": target,\n",
    "            \"roc_auc_train\": train_metrics[\"roc_auc\"],\n",
    "            \"roc_auc_test\": test_metrics[\"roc_auc\"],\n",
    "            \"roc_auc_val\": val_metrics[\"roc_auc\"],\n",
    "            \"accuracy_train\": train_metrics[\"accuracy\"],\n",
    "            \"accuracy_test\": test_metrics[\"accuracy\"],\n",
    "            \"accuracy_val\": val_metrics[\"accuracy\"],\n",
    "            \"recall_train\": train_metrics[\"recall\"],\n",
    "            \"recall_test\": test_metrics[\"recall\"],\n",
    "            \"recall_val\": val_metrics[\"recall\"],\n",
    "            \"precision_train\": train_metrics[\"precision\"],\n",
    "            \"precision_test\": test_metrics[\"precision\"],\n",
    "            \"precision_val\": val_metrics[\"precision\"],\n",
    "            \"f1_score_train\": train_metrics[\"f1_score\"],\n",
    "            \"f1_score_test\": test_metrics[\"f1_score\"],\n",
    "            \"f1_score_val\": val_metrics[\"f1_score\"],\n",
    "            \"target_mean\": target_mean,\n",
    "            \"model\": model\n",
    "        }\n",
    "        self.append_new_evaluation(report_dict)\n",
    "        return self.save_csv()\n",
    "\n",
    "    def save_csv(self):\n",
    "        self.output_df.drop_duplicates(keep=\"last\", inplace=True)\n",
    "        self.output_df.to_csv(self.output_file)\n",
    "        return self.output_df\n",
    "\n",
    "reporter = Reporter(__MODEL_METRICS_REPORT_PATH__)"
   ],
   "metadata": {
    "collapsed": false,
    "pycharm": {
     "name": "#%%\n"
    }
   }
  },
  {
   "cell_type": "markdown",
   "source": [
    "## Functions"
   ],
   "metadata": {
    "collapsed": false,
    "pycharm": {
     "name": "#%% md\n"
    }
   }
  },
  {
   "cell_type": "code",
   "execution_count": 138,
   "outputs": [],
   "source": [
    "def hist_plot(dataframe: pd.DataFrame, target: str):\n",
    "    dataframe[target].hist()\n",
    "    plt.show()\n",
    "    print(target)\n",
    "    return dataframe[target].value_counts()\n",
    "\n",
    "\n",
    "def relation_with_target(dataframe: pd.DataFrame, field: str, target: str):\n",
    "    plt.figure(figsize=(15, 5))\n",
    "    plt.xticks(rotation=90)\n",
    "    sns.countplot(data=dataframe, x=field, hue=target)\n",
    "    plt.show()\n",
    "    return dataframe.pivot_table(index=field, values=target, aggfunc=[len, sum, np.mean])\n",
    "\n",
    "\n",
    "def print_metrics(model, X, y):\n",
    "    prediction = model.predict(X)\n",
    "    y_score = get_y_score(model, X, y)\n",
    "    print('AUC Score : ' + str(roc_auc_score(y, y_score)))\n",
    "    print('Accuracy Score : ' + str(accuracy_score(y, prediction)))\n",
    "    print('Precision Score : ' + str(precision_score(y, prediction)))\n",
    "    print('Recall Score : ' + str(recall_score(y, prediction)))\n",
    "    print('F1 Score : ' + str(f1_score(y, prediction)))\n",
    "    return confusion_matrix(y, prediction)\n",
    "\n",
    "\n",
    "def get_y_score(model, X, y) -> pd.DataFrame:\n",
    "    return pd.DataFrame(model.predict_proba(X)[:, 1], index=y.index, columns=['score'])\n",
    "\n",
    "\n",
    "def get_metrics(model, X, y):\n",
    "    prediction = model.predict(X)\n",
    "    y_score = get_y_score(model, X, y)\n",
    "    return dict({\n",
    "        \"roc_auc\": roc_auc_score(y, y_score),\n",
    "        \"accuracy\": accuracy_score(y, prediction),\n",
    "        \"precision\": precision_score(y, prediction),\n",
    "        \"recall\": recall_score(y, prediction),\n",
    "        \"f1_score\": f1_score(y, prediction),\n",
    "    })"
   ],
   "metadata": {
    "collapsed": false,
    "pycharm": {
     "name": "#%%\n"
    }
   }
  },
  {
   "cell_type": "markdown",
   "source": [
    "## Filter data"
   ],
   "metadata": {
    "collapsed": false,
    "pycharm": {
     "name": "#%% md\n"
    }
   }
  },
  {
   "cell_type": "code",
   "execution_count": 139,
   "outputs": [
    {
     "data": {
      "text/plain": "         pk_cid  em_acount pk_partition  active_customer  region_code  gender  \\\n0         15891          1   2018-07-28                1           28       1   \n1         15891          0   2018-08-28                0           28       1   \n2         16063          0   2019-05-28                0           28       1   \n3         16203          0   2018-12-28                0            8       0   \n4         16203          1   2019-01-28                1            8       0   \n...         ...        ...          ...              ...          ...     ...   \n520979  1553685          0   2019-05-28                0           13       0   \n520980  1553686          0   2019-05-28                0           41       1   \n520981  1553687          0   2019-05-28                0           28       0   \n520982  1553688          0   2019-05-28                0           39       1   \n520983  1553689          0   2019-05-28                0           21       0   \n\n        age  deceased  short_term_deposit  loans  ...  country_id_PL  \\\n0        59         0                   0      0  ...              0   \n1        59         0                   0      0  ...              0   \n2        62         0                   0      0  ...              0   \n3        70         0                   0      0  ...              0   \n4        70         0                   0      0  ...              0   \n...     ...       ...                 ...    ...  ...            ...   \n520979   52         0                   0      0  ...              0   \n520980   30         0                   0      0  ...              0   \n520981   21         0                   0      0  ...              0   \n520982   43         0                   0      0  ...              0   \n520983   40         0                   0      0  ...              0   \n\n        country_id_PT  country_id_QA  country_id_RO  country_id_RU  \\\n0                   0              0              0              0   \n1                   0              0              0              0   \n2                   0              0              0              0   \n3                   0              0              0              0   \n4                   0              0              0              0   \n...               ...            ...            ...            ...   \n520979              0              0              0              0   \n520980              0              0              0              0   \n520981              0              0              0              0   \n520982              0              0              0              0   \n520983              0              0              0              0   \n\n        country_id_SA  country_id_SE  country_id_SN  country_id_US  \\\n0                   0              0              0              0   \n1                   0              0              0              0   \n2                   0              0              0              0   \n3                   0              0              0              0   \n4                   0              0              0              0   \n...               ...            ...            ...            ...   \n520979              0              0              0              0   \n520980              0              0              0              0   \n520981              0              0              0              0   \n520982              0              0              0              0   \n520983              0              0              0              0   \n\n        country_id_VE  \n0                   0  \n1                   0  \n2                   0  \n3                   0  \n4                   0  \n...               ...  \n520979              0  \n520980              0  \n520981              0  \n520982              0  \n520983              0  \n\n[520984 rows x 143 columns]",
      "text/html": "<div>\n<style scoped>\n    .dataframe tbody tr th:only-of-type {\n        vertical-align: middle;\n    }\n\n    .dataframe tbody tr th {\n        vertical-align: top;\n    }\n\n    .dataframe thead th {\n        text-align: right;\n    }\n</style>\n<table border=\"1\" class=\"dataframe\">\n  <thead>\n    <tr style=\"text-align: right;\">\n      <th></th>\n      <th>pk_cid</th>\n      <th>em_acount</th>\n      <th>pk_partition</th>\n      <th>active_customer</th>\n      <th>region_code</th>\n      <th>gender</th>\n      <th>age</th>\n      <th>deceased</th>\n      <th>short_term_deposit</th>\n      <th>loans</th>\n      <th>...</th>\n      <th>country_id_PL</th>\n      <th>country_id_PT</th>\n      <th>country_id_QA</th>\n      <th>country_id_RO</th>\n      <th>country_id_RU</th>\n      <th>country_id_SA</th>\n      <th>country_id_SE</th>\n      <th>country_id_SN</th>\n      <th>country_id_US</th>\n      <th>country_id_VE</th>\n    </tr>\n  </thead>\n  <tbody>\n    <tr>\n      <th>0</th>\n      <td>15891</td>\n      <td>1</td>\n      <td>2018-07-28</td>\n      <td>1</td>\n      <td>28</td>\n      <td>1</td>\n      <td>59</td>\n      <td>0</td>\n      <td>0</td>\n      <td>0</td>\n      <td>...</td>\n      <td>0</td>\n      <td>0</td>\n      <td>0</td>\n      <td>0</td>\n      <td>0</td>\n      <td>0</td>\n      <td>0</td>\n      <td>0</td>\n      <td>0</td>\n      <td>0</td>\n    </tr>\n    <tr>\n      <th>1</th>\n      <td>15891</td>\n      <td>0</td>\n      <td>2018-08-28</td>\n      <td>0</td>\n      <td>28</td>\n      <td>1</td>\n      <td>59</td>\n      <td>0</td>\n      <td>0</td>\n      <td>0</td>\n      <td>...</td>\n      <td>0</td>\n      <td>0</td>\n      <td>0</td>\n      <td>0</td>\n      <td>0</td>\n      <td>0</td>\n      <td>0</td>\n      <td>0</td>\n      <td>0</td>\n      <td>0</td>\n    </tr>\n    <tr>\n      <th>2</th>\n      <td>16063</td>\n      <td>0</td>\n      <td>2019-05-28</td>\n      <td>0</td>\n      <td>28</td>\n      <td>1</td>\n      <td>62</td>\n      <td>0</td>\n      <td>0</td>\n      <td>0</td>\n      <td>...</td>\n      <td>0</td>\n      <td>0</td>\n      <td>0</td>\n      <td>0</td>\n      <td>0</td>\n      <td>0</td>\n      <td>0</td>\n      <td>0</td>\n      <td>0</td>\n      <td>0</td>\n    </tr>\n    <tr>\n      <th>3</th>\n      <td>16203</td>\n      <td>0</td>\n      <td>2018-12-28</td>\n      <td>0</td>\n      <td>8</td>\n      <td>0</td>\n      <td>70</td>\n      <td>0</td>\n      <td>0</td>\n      <td>0</td>\n      <td>...</td>\n      <td>0</td>\n      <td>0</td>\n      <td>0</td>\n      <td>0</td>\n      <td>0</td>\n      <td>0</td>\n      <td>0</td>\n      <td>0</td>\n      <td>0</td>\n      <td>0</td>\n    </tr>\n    <tr>\n      <th>4</th>\n      <td>16203</td>\n      <td>1</td>\n      <td>2019-01-28</td>\n      <td>1</td>\n      <td>8</td>\n      <td>0</td>\n      <td>70</td>\n      <td>0</td>\n      <td>0</td>\n      <td>0</td>\n      <td>...</td>\n      <td>0</td>\n      <td>0</td>\n      <td>0</td>\n      <td>0</td>\n      <td>0</td>\n      <td>0</td>\n      <td>0</td>\n      <td>0</td>\n      <td>0</td>\n      <td>0</td>\n    </tr>\n    <tr>\n      <th>...</th>\n      <td>...</td>\n      <td>...</td>\n      <td>...</td>\n      <td>...</td>\n      <td>...</td>\n      <td>...</td>\n      <td>...</td>\n      <td>...</td>\n      <td>...</td>\n      <td>...</td>\n      <td>...</td>\n      <td>...</td>\n      <td>...</td>\n      <td>...</td>\n      <td>...</td>\n      <td>...</td>\n      <td>...</td>\n      <td>...</td>\n      <td>...</td>\n      <td>...</td>\n      <td>...</td>\n    </tr>\n    <tr>\n      <th>520979</th>\n      <td>1553685</td>\n      <td>0</td>\n      <td>2019-05-28</td>\n      <td>0</td>\n      <td>13</td>\n      <td>0</td>\n      <td>52</td>\n      <td>0</td>\n      <td>0</td>\n      <td>0</td>\n      <td>...</td>\n      <td>0</td>\n      <td>0</td>\n      <td>0</td>\n      <td>0</td>\n      <td>0</td>\n      <td>0</td>\n      <td>0</td>\n      <td>0</td>\n      <td>0</td>\n      <td>0</td>\n    </tr>\n    <tr>\n      <th>520980</th>\n      <td>1553686</td>\n      <td>0</td>\n      <td>2019-05-28</td>\n      <td>0</td>\n      <td>41</td>\n      <td>1</td>\n      <td>30</td>\n      <td>0</td>\n      <td>0</td>\n      <td>0</td>\n      <td>...</td>\n      <td>0</td>\n      <td>0</td>\n      <td>0</td>\n      <td>0</td>\n      <td>0</td>\n      <td>0</td>\n      <td>0</td>\n      <td>0</td>\n      <td>0</td>\n      <td>0</td>\n    </tr>\n    <tr>\n      <th>520981</th>\n      <td>1553687</td>\n      <td>0</td>\n      <td>2019-05-28</td>\n      <td>0</td>\n      <td>28</td>\n      <td>0</td>\n      <td>21</td>\n      <td>0</td>\n      <td>0</td>\n      <td>0</td>\n      <td>...</td>\n      <td>0</td>\n      <td>0</td>\n      <td>0</td>\n      <td>0</td>\n      <td>0</td>\n      <td>0</td>\n      <td>0</td>\n      <td>0</td>\n      <td>0</td>\n      <td>0</td>\n    </tr>\n    <tr>\n      <th>520982</th>\n      <td>1553688</td>\n      <td>0</td>\n      <td>2019-05-28</td>\n      <td>0</td>\n      <td>39</td>\n      <td>1</td>\n      <td>43</td>\n      <td>0</td>\n      <td>0</td>\n      <td>0</td>\n      <td>...</td>\n      <td>0</td>\n      <td>0</td>\n      <td>0</td>\n      <td>0</td>\n      <td>0</td>\n      <td>0</td>\n      <td>0</td>\n      <td>0</td>\n      <td>0</td>\n      <td>0</td>\n    </tr>\n    <tr>\n      <th>520983</th>\n      <td>1553689</td>\n      <td>0</td>\n      <td>2019-05-28</td>\n      <td>0</td>\n      <td>21</td>\n      <td>0</td>\n      <td>40</td>\n      <td>0</td>\n      <td>0</td>\n      <td>0</td>\n      <td>...</td>\n      <td>0</td>\n      <td>0</td>\n      <td>0</td>\n      <td>0</td>\n      <td>0</td>\n      <td>0</td>\n      <td>0</td>\n      <td>0</td>\n      <td>0</td>\n      <td>0</td>\n    </tr>\n  </tbody>\n</table>\n<p>520984 rows × 143 columns</p>\n</div>"
     },
     "execution_count": 139,
     "metadata": {},
     "output_type": "execute_result"
    }
   ],
   "source": [
    "filter = EasyMoneyFilter(TARGET)\n",
    "df_prep = filter.fit_transform(df)\n",
    "df_prep"
   ],
   "metadata": {
    "collapsed": false,
    "pycharm": {
     "name": "#%%\n"
    }
   }
  },
  {
   "cell_type": "markdown",
   "source": [
    "## Target distribution"
   ],
   "metadata": {
    "collapsed": false,
    "pycharm": {
     "name": "#%% md\n"
    }
   }
  },
  {
   "cell_type": "code",
   "execution_count": 140,
   "outputs": [
    {
     "data": {
      "text/plain": "                    count          mean            std      min         25%  \\\npk_cid           520984.0  1.281442e+06  179949.661207  15891.0  1149646.75   \nem_acount        520984.0  6.386511e-01       0.480392      0.0        0.00   \nactive_customer  520984.0  4.031774e-01       0.490536      0.0        0.00   \nregion_code      520984.0  2.593268e+01      13.529693     -1.0       13.00   \ngender           520984.0  5.051134e-01       0.499974      0.0        0.00   \n...                   ...           ...            ...      ...         ...   \ncountry_id_SA    520984.0  3.838889e-06       0.001959      0.0        0.00   \ncountry_id_SE    520984.0  5.758334e-06       0.002400      0.0        0.00   \ncountry_id_SN    520984.0  1.919445e-06       0.001385      0.0        0.00   \ncountry_id_US    520984.0  2.687223e-05       0.005184      0.0        0.00   \ncountry_id_VE    520984.0  9.597224e-06       0.003098      0.0        0.00   \n\n                       50%         75%        max  \npk_cid           1295741.0  1428945.25  1553689.0  \nem_acount              1.0        1.00        1.0  \nactive_customer        0.0        1.00        1.0  \nregion_code           28.0       36.00       52.0  \ngender                 1.0        1.00        1.0  \n...                    ...         ...        ...  \ncountry_id_SA          0.0        0.00        1.0  \ncountry_id_SE          0.0        0.00        1.0  \ncountry_id_SN          0.0        0.00        1.0  \ncountry_id_US          0.0        0.00        1.0  \ncountry_id_VE          0.0        0.00        1.0  \n\n[142 rows x 8 columns]",
      "text/html": "<div>\n<style scoped>\n    .dataframe tbody tr th:only-of-type {\n        vertical-align: middle;\n    }\n\n    .dataframe tbody tr th {\n        vertical-align: top;\n    }\n\n    .dataframe thead th {\n        text-align: right;\n    }\n</style>\n<table border=\"1\" class=\"dataframe\">\n  <thead>\n    <tr style=\"text-align: right;\">\n      <th></th>\n      <th>count</th>\n      <th>mean</th>\n      <th>std</th>\n      <th>min</th>\n      <th>25%</th>\n      <th>50%</th>\n      <th>75%</th>\n      <th>max</th>\n    </tr>\n  </thead>\n  <tbody>\n    <tr>\n      <th>pk_cid</th>\n      <td>520984.0</td>\n      <td>1.281442e+06</td>\n      <td>179949.661207</td>\n      <td>15891.0</td>\n      <td>1149646.75</td>\n      <td>1295741.0</td>\n      <td>1428945.25</td>\n      <td>1553689.0</td>\n    </tr>\n    <tr>\n      <th>em_acount</th>\n      <td>520984.0</td>\n      <td>6.386511e-01</td>\n      <td>0.480392</td>\n      <td>0.0</td>\n      <td>0.00</td>\n      <td>1.0</td>\n      <td>1.00</td>\n      <td>1.0</td>\n    </tr>\n    <tr>\n      <th>active_customer</th>\n      <td>520984.0</td>\n      <td>4.031774e-01</td>\n      <td>0.490536</td>\n      <td>0.0</td>\n      <td>0.00</td>\n      <td>0.0</td>\n      <td>1.00</td>\n      <td>1.0</td>\n    </tr>\n    <tr>\n      <th>region_code</th>\n      <td>520984.0</td>\n      <td>2.593268e+01</td>\n      <td>13.529693</td>\n      <td>-1.0</td>\n      <td>13.00</td>\n      <td>28.0</td>\n      <td>36.00</td>\n      <td>52.0</td>\n    </tr>\n    <tr>\n      <th>gender</th>\n      <td>520984.0</td>\n      <td>5.051134e-01</td>\n      <td>0.499974</td>\n      <td>0.0</td>\n      <td>0.00</td>\n      <td>1.0</td>\n      <td>1.00</td>\n      <td>1.0</td>\n    </tr>\n    <tr>\n      <th>...</th>\n      <td>...</td>\n      <td>...</td>\n      <td>...</td>\n      <td>...</td>\n      <td>...</td>\n      <td>...</td>\n      <td>...</td>\n      <td>...</td>\n    </tr>\n    <tr>\n      <th>country_id_SA</th>\n      <td>520984.0</td>\n      <td>3.838889e-06</td>\n      <td>0.001959</td>\n      <td>0.0</td>\n      <td>0.00</td>\n      <td>0.0</td>\n      <td>0.00</td>\n      <td>1.0</td>\n    </tr>\n    <tr>\n      <th>country_id_SE</th>\n      <td>520984.0</td>\n      <td>5.758334e-06</td>\n      <td>0.002400</td>\n      <td>0.0</td>\n      <td>0.00</td>\n      <td>0.0</td>\n      <td>0.00</td>\n      <td>1.0</td>\n    </tr>\n    <tr>\n      <th>country_id_SN</th>\n      <td>520984.0</td>\n      <td>1.919445e-06</td>\n      <td>0.001385</td>\n      <td>0.0</td>\n      <td>0.00</td>\n      <td>0.0</td>\n      <td>0.00</td>\n      <td>1.0</td>\n    </tr>\n    <tr>\n      <th>country_id_US</th>\n      <td>520984.0</td>\n      <td>2.687223e-05</td>\n      <td>0.005184</td>\n      <td>0.0</td>\n      <td>0.00</td>\n      <td>0.0</td>\n      <td>0.00</td>\n      <td>1.0</td>\n    </tr>\n    <tr>\n      <th>country_id_VE</th>\n      <td>520984.0</td>\n      <td>9.597224e-06</td>\n      <td>0.003098</td>\n      <td>0.0</td>\n      <td>0.00</td>\n      <td>0.0</td>\n      <td>0.00</td>\n      <td>1.0</td>\n    </tr>\n  </tbody>\n</table>\n<p>142 rows × 8 columns</p>\n</div>"
     },
     "execution_count": 140,
     "metadata": {},
     "output_type": "execute_result"
    }
   ],
   "source": [
    "df_prep.describe().T"
   ],
   "metadata": {
    "collapsed": false,
    "pycharm": {
     "name": "#%%\n"
    }
   }
  },
  {
   "cell_type": "code",
   "execution_count": 141,
   "outputs": [
    {
     "data": {
      "text/plain": "<Figure size 432x288 with 1 Axes>",
      "image/png": "[encoded data removed]"
     },
     "metadata": {
      "needs_background": "light"
     },
     "output_type": "display_data"
    },
    {
     "name": "stdout",
     "output_type": "stream",
     "text": [
      "em_acount\n"
     ]
    },
    {
     "data": {
      "text/plain": "1    332727\n0    188257\nName: em_acount, dtype: int64"
     },
     "execution_count": 141,
     "metadata": {},
     "output_type": "execute_result"
    }
   ],
   "source": [
    "hist_plot(df_prep, TARGET)"
   ],
   "metadata": {
    "collapsed": false,
    "pycharm": {
     "name": "#%%\n"
    }
   }
  },
  {
   "cell_type": "code",
   "execution_count": 142,
   "outputs": [
    {
     "data": {
      "text/plain": "<AxesSubplot:xlabel='em_acount', ylabel='age'>"
     },
     "execution_count": 142,
     "metadata": {},
     "output_type": "execute_result"
    },
    {
     "data": {
      "text/plain": "<Figure size 432x288 with 1 Axes>",
      "image/png": "[encoded data removed]"
     },
     "metadata": {
      "needs_background": "light"
     },
     "output_type": "display_data"
    }
   ],
   "source": [
    "sns.boxplot(data=df_prep, x=TARGET, y=\"age\")"
   ],
   "metadata": {
    "collapsed": false,
    "pycharm": {
     "name": "#%%\n"
    }
   }
  },
  {
   "cell_type": "code",
   "execution_count": 143,
   "outputs": [
    {
     "data": {
      "text/plain": "<AxesSubplot:xlabel='em_acount', ylabel='active_customer'>"
     },
     "execution_count": 143,
     "metadata": {},
     "output_type": "execute_result"
    },
    {
     "data": {
      "text/plain": "<Figure size 432x288 with 1 Axes>",
      "image/png": "[encoded data removed]"
     },
     "metadata": {
      "needs_background": "light"
     },
     "output_type": "display_data"
    }
   ],
   "source": [
    "sns.boxplot(data=df_prep, x=TARGET, y=\"active_customer\")"
   ],
   "metadata": {
    "collapsed": false,
    "pycharm": {
     "name": "#%%\n"
    }
   }
  },
  {
   "cell_type": "code",
   "execution_count": 144,
   "outputs": [
    {
     "data": {
      "text/plain": "<Figure size 1080x360 with 1 Axes>",
      "image/png": "[encoded data removed]"
     },
     "metadata": {
      "needs_background": "light"
     },
     "output_type": "display_data"
    },
    {
     "data": {
      "text/plain": "                   len       sum      mean\n             em_acount em_acount em_acount\npk_partition                              \n2018-01-28      215638    215293  0.998400\n2018-02-28        4596      4156  0.904265\n2018-03-28        3904      3520  0.901639\n2018-04-28        3430      3003  0.875510\n2018-05-28        4668      3066  0.656812\n2018-06-28        5186      4711  0.908407\n2018-07-28       16574     12439  0.750513\n2018-08-28       16811     14129  0.840462\n2018-09-28       21760     17513  0.804825\n2018-10-28       22626     18988  0.839212\n2018-11-28       15587     10517  0.674729\n2018-12-28       10574      6223  0.588519\n2019-01-28        8379      5137  0.613080\n2019-02-28        7589      3952  0.520754\n2019-03-28        7523      4210  0.559617\n2019-04-28        6667      3012  0.451777\n2019-05-28      149472      2858  0.019121",
      "text/html": "<div>\n<style scoped>\n    .dataframe tbody tr th:only-of-type {\n        vertical-align: middle;\n    }\n\n    .dataframe tbody tr th {\n        vertical-align: top;\n    }\n\n    .dataframe thead tr th {\n        text-align: left;\n    }\n\n    .dataframe thead tr:last-of-type th {\n        text-align: right;\n    }\n</style>\n<table border=\"1\" class=\"dataframe\">\n  <thead>\n    <tr>\n      <th></th>\n      <th>len</th>\n      <th>sum</th>\n      <th>mean</th>\n    </tr>\n    <tr>\n      <th></th>\n      <th>em_acount</th>\n      <th>em_acount</th>\n      <th>em_acount</th>\n    </tr>\n    <tr>\n      <th>pk_partition</th>\n      <th></th>\n      <th></th>\n      <th></th>\n    </tr>\n  </thead>\n  <tbody>\n    <tr>\n      <th>2018-01-28</th>\n      <td>215638</td>\n      <td>215293</td>\n      <td>0.998400</td>\n    </tr>\n    <tr>\n      <th>2018-02-28</th>\n      <td>4596</td>\n      <td>4156</td>\n      <td>0.904265</td>\n    </tr>\n    <tr>\n      <th>2018-03-28</th>\n      <td>3904</td>\n      <td>3520</td>\n      <td>0.901639</td>\n    </tr>\n    <tr>\n      <th>2018-04-28</th>\n      <td>3430</td>\n      <td>3003</td>\n      <td>0.875510</td>\n    </tr>\n    <tr>\n      <th>2018-05-28</th>\n      <td>4668</td>\n      <td>3066</td>\n      <td>0.656812</td>\n    </tr>\n    <tr>\n      <th>2018-06-28</th>\n      <td>5186</td>\n      <td>4711</td>\n      <td>0.908407</td>\n    </tr>\n    <tr>\n      <th>2018-07-28</th>\n      <td>16574</td>\n      <td>12439</td>\n      <td>0.750513</td>\n    </tr>\n    <tr>\n      <th>2018-08-28</th>\n      <td>16811</td>\n      <td>14129</td>\n      <td>0.840462</td>\n    </tr>\n    <tr>\n      <th>2018-09-28</th>\n      <td>21760</td>\n      <td>17513</td>\n      <td>0.804825</td>\n    </tr>\n    <tr>\n      <th>2018-10-28</th>\n      <td>22626</td>\n      <td>18988</td>\n      <td>0.839212</td>\n    </tr>\n    <tr>\n      <th>2018-11-28</th>\n      <td>15587</td>\n      <td>10517</td>\n      <td>0.674729</td>\n    </tr>\n    <tr>\n      <th>2018-12-28</th>\n      <td>10574</td>\n      <td>6223</td>\n      <td>0.588519</td>\n    </tr>\n    <tr>\n      <th>2019-01-28</th>\n      <td>8379</td>\n      <td>5137</td>\n      <td>0.613080</td>\n    </tr>\n    <tr>\n      <th>2019-02-28</th>\n      <td>7589</td>\n      <td>3952</td>\n      <td>0.520754</td>\n    </tr>\n    <tr>\n      <th>2019-03-28</th>\n      <td>7523</td>\n      <td>4210</td>\n      <td>0.559617</td>\n    </tr>\n    <tr>\n      <th>2019-04-28</th>\n      <td>6667</td>\n      <td>3012</td>\n      <td>0.451777</td>\n    </tr>\n    <tr>\n      <th>2019-05-28</th>\n      <td>149472</td>\n      <td>2858</td>\n      <td>0.019121</td>\n    </tr>\n  </tbody>\n</table>\n</div>"
     },
     "execution_count": 144,
     "metadata": {},
     "output_type": "execute_result"
    }
   ],
   "source": [
    "relation_with_target(df_prep, \"pk_partition\", TARGET)"
   ],
   "metadata": {
    "collapsed": false,
    "pycharm": {
     "name": "#%%\n"
    }
   }
  },
  {
   "cell_type": "code",
   "execution_count": 145,
   "outputs": [
    {
     "data": {
      "text/plain": "<Figure size 1080x360 with 1 Axes>",
      "image/png": "[encoded data removed]"
     },
     "metadata": {
      "needs_background": "light"
     },
     "output_type": "display_data"
    },
    {
     "data": {
      "text/plain": "                  len       sum      mean\n            em_acount em_acount em_acount\nregion_code                              \n-1                173       105  0.606936\n 1               1282       733  0.571763\n 2               5967      4462  0.747779\n 3              15855     10285  0.648691\n 4               3122      1770  0.566944\n 5               1782      1244  0.698092\n 6               9555      7205  0.754055\n 7               6068      3703  0.610250\n 8              51771     29934  0.578200\n 9               4119      2907  0.705754\n 10              6376      5030  0.788896\n 11             13163      9364  0.711388\n 12              5694      4013  0.704777\n 13              5784      4195  0.725277\n 14              6519      4615  0.707931\n 15             20205     15764  0.780203\n 16              2784      2200  0.790230\n 17              4236      2616  0.617564\n 18              8722      5508  0.631507\n 19              2666      1048  0.393098\n 20              1842      1037  0.562975\n 21              5648      4148  0.734419\n 22              1825      1311  0.718356\n 23              2914      1760  0.603981\n 24              3280      2120  0.646341\n 25              3752      2681  0.714552\n 26              3026      2158  0.713153\n 27              4142      3251  0.784887\n 28            114803     53830  0.468890\n 29             15517     10598  0.682993\n 30             24076     18261  0.758473\n 31              2704      1763  0.651997\n 32              4275      3359  0.785731\n 33             11286      8472  0.750665\n 34              2312      1669  0.721886\n 35             10908      7583  0.695178\n 36             14075     10972  0.779538\n 37              7509      5817  0.774670\n 38              3123      1538  0.492475\n 39              6410      4329  0.675351\n 40              1874      1182  0.630736\n 41             24432     16649  0.681442\n 42               813       580  0.713407\n 43              5362      3337  0.622342\n 44              1043       800  0.767018\n 45              8887      5858  0.659165\n 46             31630     21537  0.680904\n 47              9702      7001  0.721604\n 48              3582      1958  0.546622\n 49              2533      1921  0.758389\n 50             11327      8258  0.729054\n 51               289       150  0.519031\n 52               240       138  0.575000",
      "text/html": "<div>\n<style scoped>\n    .dataframe tbody tr th:only-of-type {\n        vertical-align: middle;\n    }\n\n    .dataframe tbody tr th {\n        vertical-align: top;\n    }\n\n    .dataframe thead tr th {\n        text-align: left;\n    }\n\n    .dataframe thead tr:last-of-type th {\n        text-align: right;\n    }\n</style>\n<table border=\"1\" class=\"dataframe\">\n  <thead>\n    <tr>\n      <th></th>\n      <th>len</th>\n      <th>sum</th>\n      <th>mean</th>\n    </tr>\n    <tr>\n      <th></th>\n      <th>em_acount</th>\n      <th>em_acount</th>\n      <th>em_acount</th>\n    </tr>\n    <tr>\n      <th>region_code</th>\n      <th></th>\n      <th></th>\n      <th></th>\n    </tr>\n  </thead>\n  <tbody>\n    <tr>\n      <th>-1</th>\n      <td>173</td>\n      <td>105</td>\n      <td>0.606936</td>\n    </tr>\n    <tr>\n      <th>1</th>\n      <td>1282</td>\n      <td>733</td>\n      <td>0.571763</td>\n    </tr>\n    <tr>\n      <th>2</th>\n      <td>5967</td>\n      <td>4462</td>\n      <td>0.747779</td>\n    </tr>\n    <tr>\n      <th>3</th>\n      <td>15855</td>\n      <td>10285</td>\n      <td>0.648691</td>\n    </tr>\n    <tr>\n      <th>4</th>\n      <td>3122</td>\n      <td>1770</td>\n      <td>0.566944</td>\n    </tr>\n    <tr>\n      <th>5</th>\n      <td>1782</td>\n      <td>1244</td>\n      <td>0.698092</td>\n    </tr>\n    <tr>\n      <th>6</th>\n      <td>9555</td>\n      <td>7205</td>\n      <td>0.754055</td>\n    </tr>\n    <tr>\n      <th>7</th>\n      <td>6068</td>\n      <td>3703</td>\n      <td>0.610250</td>\n    </tr>\n    <tr>\n      <th>8</th>\n      <td>51771</td>\n      <td>29934</td>\n      <td>0.578200</td>\n    </tr>\n    <tr>\n      <th>9</th>\n      <td>4119</td>\n      <td>2907</td>\n      <td>0.705754</td>\n    </tr>\n    <tr>\n      <th>10</th>\n      <td>6376</td>\n      <td>5030</td>\n      <td>0.788896</td>\n    </tr>\n    <tr>\n      <th>11</th>\n      <td>13163</td>\n      <td>9364</td>\n      <td>0.711388</td>\n    </tr>\n    <tr>\n      <th>12</th>\n      <td>5694</td>\n      <td>4013</td>\n      <td>0.704777</td>\n    </tr>\n    <tr>\n      <th>13</th>\n      <td>5784</td>\n      <td>4195</td>\n      <td>0.725277</td>\n    </tr>\n    <tr>\n      <th>14</th>\n      <td>6519</td>\n      <td>4615</td>\n      <td>0.707931</td>\n    </tr>\n    <tr>\n      <th>15</th>\n      <td>20205</td>\n      <td>15764</td>\n      <td>0.780203</td>\n    </tr>\n    <tr>\n      <th>16</th>\n      <td>2784</td>\n      <td>2200</td>\n      <td>0.790230</td>\n    </tr>\n    <tr>\n      <th>17</th>\n      <td>4236</td>\n      <td>2616</td>\n      <td>0.617564</td>\n    </tr>\n    <tr>\n      <th>18</th>\n      <td>8722</td>\n      <td>5508</td>\n      <td>0.631507</td>\n    </tr>\n    <tr>\n      <th>19</th>\n      <td>2666</td>\n      <td>1048</td>\n      <td>0.393098</td>\n    </tr>\n    <tr>\n      <th>20</th>\n      <td>1842</td>\n      <td>1037</td>\n      <td>0.562975</td>\n    </tr>\n    <tr>\n      <th>21</th>\n      <td>5648</td>\n      <td>4148</td>\n      <td>0.734419</td>\n    </tr>\n    <tr>\n      <th>22</th>\n      <td>1825</td>\n      <td>1311</td>\n      <td>0.718356</td>\n    </tr>\n    <tr>\n      <th>23</th>\n      <td>2914</td>\n      <td>1760</td>\n      <td>0.603981</td>\n    </tr>\n    <tr>\n      <th>24</th>\n      <td>3280</td>\n      <td>2120</td>\n      <td>0.646341</td>\n    </tr>\n    <tr>\n      <th>25</th>\n      <td>3752</td>\n      <td>2681</td>\n      <td>0.714552</td>\n    </tr>\n    <tr>\n      <th>26</th>\n      <td>3026</td>\n      <td>2158</td>\n      <td>0.713153</td>\n    </tr>\n    <tr>\n      <th>27</th>\n      <td>4142</td>\n      <td>3251</td>\n      <td>0.784887</td>\n    </tr>\n    <tr>\n      <th>28</th>\n      <td>114803</td>\n      <td>53830</td>\n      <td>0.468890</td>\n    </tr>\n    <tr>\n      <th>29</th>\n      <td>15517</td>\n      <td>10598</td>\n      <td>0.682993</td>\n    </tr>\n    <tr>\n      <th>30</th>\n      <td>24076</td>\n      <td>18261</td>\n      <td>0.758473</td>\n    </tr>\n    <tr>\n      <th>31</th>\n      <td>2704</td>\n      <td>1763</td>\n      <td>0.651997</td>\n    </tr>\n    <tr>\n      <th>32</th>\n      <td>4275</td>\n      <td>3359</td>\n      <td>0.785731</td>\n    </tr>\n    <tr>\n      <th>33</th>\n      <td>11286</td>\n      <td>8472</td>\n      <td>0.750665</td>\n    </tr>\n    <tr>\n      <th>34</th>\n      <td>2312</td>\n      <td>1669</td>\n      <td>0.721886</td>\n    </tr>\n    <tr>\n      <th>35</th>\n      <td>10908</td>\n      <td>7583</td>\n      <td>0.695178</td>\n    </tr>\n    <tr>\n      <th>36</th>\n      <td>14075</td>\n      <td>10972</td>\n      <td>0.779538</td>\n    </tr>\n    <tr>\n      <th>37</th>\n      <td>7509</td>\n      <td>5817</td>\n      <td>0.774670</td>\n    </tr>\n    <tr>\n      <th>38</th>\n      <td>3123</td>\n      <td>1538</td>\n      <td>0.492475</td>\n    </tr>\n    <tr>\n      <th>39</th>\n      <td>6410</td>\n      <td>4329</td>\n      <td>0.675351</td>\n    </tr>\n    <tr>\n      <th>40</th>\n      <td>1874</td>\n      <td>1182</td>\n      <td>0.630736</td>\n    </tr>\n    <tr>\n      <th>41</th>\n      <td>24432</td>\n      <td>16649</td>\n      <td>0.681442</td>\n    </tr>\n    <tr>\n      <th>42</th>\n      <td>813</td>\n      <td>580</td>\n      <td>0.713407</td>\n    </tr>\n    <tr>\n      <th>43</th>\n      <td>5362</td>\n      <td>3337</td>\n      <td>0.622342</td>\n    </tr>\n    <tr>\n      <th>44</th>\n      <td>1043</td>\n      <td>800</td>\n      <td>0.767018</td>\n    </tr>\n    <tr>\n      <th>45</th>\n      <td>8887</td>\n      <td>5858</td>\n      <td>0.659165</td>\n    </tr>\n    <tr>\n      <th>46</th>\n      <td>31630</td>\n      <td>21537</td>\n      <td>0.680904</td>\n    </tr>\n    <tr>\n      <th>47</th>\n      <td>9702</td>\n      <td>7001</td>\n      <td>0.721604</td>\n    </tr>\n    <tr>\n      <th>48</th>\n      <td>3582</td>\n      <td>1958</td>\n      <td>0.546622</td>\n    </tr>\n    <tr>\n      <th>49</th>\n      <td>2533</td>\n      <td>1921</td>\n      <td>0.758389</td>\n    </tr>\n    <tr>\n      <th>50</th>\n      <td>11327</td>\n      <td>8258</td>\n      <td>0.729054</td>\n    </tr>\n    <tr>\n      <th>51</th>\n      <td>289</td>\n      <td>150</td>\n      <td>0.519031</td>\n    </tr>\n    <tr>\n      <th>52</th>\n      <td>240</td>\n      <td>138</td>\n      <td>0.575000</td>\n    </tr>\n  </tbody>\n</table>\n</div>"
     },
     "execution_count": 145,
     "metadata": {},
     "output_type": "execute_result"
    }
   ],
   "source": [
    "relation_with_target(df_prep, \"region_code\", TARGET)"
   ],
   "metadata": {
    "collapsed": false,
    "pycharm": {
     "name": "#%%\n"
    }
   }
  },
  {
   "cell_type": "markdown",
   "source": [
    "## Split dataframes"
   ],
   "metadata": {
    "collapsed": false,
    "pycharm": {
     "name": "#%% md\n"
    }
   }
  },
  {
   "cell_type": "code",
   "execution_count": 146,
   "outputs": [],
   "source": [
    "splitter = EasyMoneySplitter(DEV_PARTITION_PERIOD, VAL_PARTITION_PERIOD, EXCLUDE_COLUMNS)"
   ],
   "metadata": {
    "collapsed": false,
    "pycharm": {
     "name": "#%%\n"
    }
   }
  },
  {
   "cell_type": "markdown",
   "source": [
    "### Train partition"
   ],
   "metadata": {
    "collapsed": false,
    "pycharm": {
     "name": "#%% md\n"
    }
   }
  },
  {
   "cell_type": "code",
   "execution_count": 147,
   "outputs": [
    {
     "data": {
      "text/plain": "<Figure size 432x288 with 1 Axes>",
      "image/png": "[encoded data removed]"
     },
     "metadata": {
      "needs_background": "light"
     },
     "output_type": "display_data"
    },
    {
     "name": "stdout",
     "output_type": "stream",
     "text": [
      "em_acount\n"
     ]
    },
    {
     "data": {
      "text/plain": "1    322647\n0     34675\nName: em_acount, dtype: int64"
     },
     "execution_count": 147,
     "metadata": {},
     "output_type": "execute_result"
    }
   ],
   "source": [
    "train_df = splitter.get_train_partition(df_prep)\n",
    "train_size_df = hist_plot(train_df, TARGET)\n",
    "train_size_df"
   ],
   "metadata": {
    "collapsed": false,
    "pycharm": {
     "name": "#%%\n"
    }
   }
  },
  {
   "cell_type": "markdown",
   "source": [
    "### Validation partition"
   ],
   "metadata": {
    "collapsed": false,
    "pycharm": {
     "name": "#%% md\n"
    }
   }
  },
  {
   "cell_type": "code",
   "execution_count": 148,
   "outputs": [
    {
     "data": {
      "text/plain": "<Figure size 432x288 with 1 Axes>",
      "image/png": "[encoded data removed]"
     },
     "metadata": {
      "needs_background": "light"
     },
     "output_type": "display_data"
    },
    {
     "name": "stdout",
     "output_type": "stream",
     "text": [
      "em_acount\n"
     ]
    },
    {
     "data": {
      "text/plain": "0    153582\n1     10080\nName: em_acount, dtype: int64"
     },
     "execution_count": 148,
     "metadata": {},
     "output_type": "execute_result"
    }
   ],
   "source": [
    "validation_df = splitter.get_validation_partition(df_prep)\n",
    "hist_plot(validation_df, TARGET)"
   ],
   "metadata": {
    "collapsed": false,
    "pycharm": {
     "name": "#%%\n"
    }
   }
  },
  {
   "cell_type": "markdown",
   "source": [
    "#### Partitions"
   ],
   "metadata": {
    "collapsed": false,
    "pycharm": {
     "name": "#%% md\n"
    }
   }
  },
  {
   "cell_type": "code",
   "execution_count": 149,
   "outputs": [
    {
     "name": "stdout",
     "output_type": "stream",
     "text": [
      "\n",
      "TRAIN:\n",
      "    X_train.shape: (285857, 140)\n",
      "    y_train.shape: (285857, 1)\n",
      "TEST:\n",
      "    X_test.shape: (71465, 140)\n",
      "    y_test.shape: (71465, 1)\n",
      "VALIDATION:\n",
      "    X_val.shape: (163662, 140)\n",
      "    y_val.shape: (163662, 1)\n",
      "\n"
     ]
    }
   ],
   "source": [
    "dev_X = train_df.drop(TARGET, axis=1)\n",
    "dev_y = train_df[[TARGET]]\n",
    "\n",
    "X_val = validation_df.drop(TARGET, axis=1)\n",
    "y_val = validation_df[[TARGET]]\n",
    "\n",
    "X_train, X_test, y_train, y_test = train_test_split(dev_X, dev_y, test_size=0.2, random_state=13, stratify=dev_y)\n",
    "\n",
    "print(f\"\"\"\n",
    "TRAIN:\n",
    "    X_train.shape: {X_train.shape}\n",
    "    y_train.shape: {y_train.shape}\n",
    "TEST:\n",
    "    X_test.shape: {X_test.shape}\n",
    "    y_test.shape: {y_test.shape}\n",
    "VALIDATION:\n",
    "    X_val.shape: {X_val.shape}\n",
    "    y_val.shape: {y_val.shape}\n",
    "\"\"\")"
   ],
   "metadata": {
    "collapsed": false,
    "pycharm": {
     "name": "#%%\n"
    }
   }
  },
  {
   "cell_type": "markdown",
   "source": [
    "## Modelling"
   ],
   "metadata": {
    "collapsed": false,
    "pycharm": {
     "name": "#%% md\n"
    }
   }
  },
  {
   "cell_type": "code",
   "execution_count": 150,
   "outputs": [
    {
     "name": "stdout",
     "output_type": "stream",
     "text": [
      "[0]\tvalidation_0-auc:0.81789\n",
      "[1]\tvalidation_0-auc:0.81789\n",
      "[2]\tvalidation_0-auc:0.84479\n",
      "[3]\tvalidation_0-auc:0.85113\n",
      "[4]\tvalidation_0-auc:0.85805\n",
      "[5]\tvalidation_0-auc:0.85744\n",
      "[6]\tvalidation_0-auc:0.85946\n",
      "[7]\tvalidation_0-auc:0.86637\n",
      "[8]\tvalidation_0-auc:0.86890\n",
      "[9]\tvalidation_0-auc:0.86961\n",
      "[10]\tvalidation_0-auc:0.87120\n",
      "[11]\tvalidation_0-auc:0.87731\n",
      "[12]\tvalidation_0-auc:0.88178\n",
      "[13]\tvalidation_0-auc:0.88340\n",
      "[14]\tvalidation_0-auc:0.88674\n",
      "[15]\tvalidation_0-auc:0.88816\n",
      "[16]\tvalidation_0-auc:0.88876\n",
      "[17]\tvalidation_0-auc:0.88887\n",
      "[18]\tvalidation_0-auc:0.88933\n",
      "[19]\tvalidation_0-auc:0.88982\n",
      "[20]\tvalidation_0-auc:0.89016\n",
      "[21]\tvalidation_0-auc:0.89223\n",
      "[22]\tvalidation_0-auc:0.89529\n",
      "[23]\tvalidation_0-auc:0.89567\n",
      "[24]\tvalidation_0-auc:0.89696\n",
      "[25]\tvalidation_0-auc:0.89794\n",
      "[26]\tvalidation_0-auc:0.89858\n",
      "[27]\tvalidation_0-auc:0.89911\n",
      "[28]\tvalidation_0-auc:0.89985\n",
      "[29]\tvalidation_0-auc:0.90044\n",
      "[30]\tvalidation_0-auc:0.90143\n",
      "[31]\tvalidation_0-auc:0.90172\n",
      "[32]\tvalidation_0-auc:0.90184\n",
      "[33]\tvalidation_0-auc:0.90186\n",
      "[34]\tvalidation_0-auc:0.90200\n",
      "[35]\tvalidation_0-auc:0.90217\n",
      "[36]\tvalidation_0-auc:0.90233\n",
      "[37]\tvalidation_0-auc:0.90248\n",
      "[38]\tvalidation_0-auc:0.90282\n",
      "[39]\tvalidation_0-auc:0.90304\n",
      "[40]\tvalidation_0-auc:0.90362\n",
      "[41]\tvalidation_0-auc:0.90386\n",
      "[42]\tvalidation_0-auc:0.90446\n",
      "[43]\tvalidation_0-auc:0.90452\n",
      "[44]\tvalidation_0-auc:0.90474\n",
      "[45]\tvalidation_0-auc:0.90575\n",
      "[46]\tvalidation_0-auc:0.90594\n",
      "[47]\tvalidation_0-auc:0.90643\n",
      "[48]\tvalidation_0-auc:0.90655\n",
      "[49]\tvalidation_0-auc:0.90659\n",
      "[50]\tvalidation_0-auc:0.90670\n",
      "[51]\tvalidation_0-auc:0.90674\n",
      "[52]\tvalidation_0-auc:0.90678\n",
      "[53]\tvalidation_0-auc:0.90680\n",
      "[54]\tvalidation_0-auc:0.90667\n",
      "[55]\tvalidation_0-auc:0.90692\n",
      "[56]\tvalidation_0-auc:0.90706\n",
      "[57]\tvalidation_0-auc:0.90723\n",
      "[58]\tvalidation_0-auc:0.90724\n",
      "[59]\tvalidation_0-auc:0.90735\n",
      "[60]\tvalidation_0-auc:0.90734\n",
      "[61]\tvalidation_0-auc:0.90736\n",
      "[62]\tvalidation_0-auc:0.90745\n",
      "[63]\tvalidation_0-auc:0.90775\n",
      "[64]\tvalidation_0-auc:0.90777\n",
      "[65]\tvalidation_0-auc:0.90789\n",
      "[66]\tvalidation_0-auc:0.90815\n",
      "[67]\tvalidation_0-auc:0.90812\n",
      "[68]\tvalidation_0-auc:0.90829\n",
      "[69]\tvalidation_0-auc:0.90828\n",
      "[70]\tvalidation_0-auc:0.90841\n",
      "[71]\tvalidation_0-auc:0.90851\n",
      "[72]\tvalidation_0-auc:0.90854\n",
      "[73]\tvalidation_0-auc:0.90857\n",
      "[74]\tvalidation_0-auc:0.90873\n",
      "[75]\tvalidation_0-auc:0.90878\n",
      "[76]\tvalidation_0-auc:0.90900\n",
      "[77]\tvalidation_0-auc:0.90899\n",
      "[78]\tvalidation_0-auc:0.90948\n",
      "[79]\tvalidation_0-auc:0.90968\n",
      "[80]\tvalidation_0-auc:0.90978\n",
      "[81]\tvalidation_0-auc:0.90977\n",
      "[82]\tvalidation_0-auc:0.90979\n",
      "[83]\tvalidation_0-auc:0.90982\n",
      "[84]\tvalidation_0-auc:0.90987\n",
      "[85]\tvalidation_0-auc:0.90997\n",
      "[86]\tvalidation_0-auc:0.90998\n",
      "[87]\tvalidation_0-auc:0.91009\n",
      "[88]\tvalidation_0-auc:0.91008\n",
      "[89]\tvalidation_0-auc:0.91014\n",
      "[90]\tvalidation_0-auc:0.91039\n",
      "[91]\tvalidation_0-auc:0.91055\n",
      "[92]\tvalidation_0-auc:0.91061\n",
      "[93]\tvalidation_0-auc:0.91065\n",
      "[94]\tvalidation_0-auc:0.91066\n",
      "[95]\tvalidation_0-auc:0.91067\n",
      "[96]\tvalidation_0-auc:0.91087\n",
      "[97]\tvalidation_0-auc:0.91093\n",
      "[98]\tvalidation_0-auc:0.91094\n",
      "[99]\tvalidation_0-auc:0.91102\n"
     ]
    },
    {
     "data": {
      "text/plain": "XGBClassifier(base_score=0.5, booster='gbtree', colsample_bylevel=1,\n              colsample_bynode=1, colsample_bytree=1, enable_categorical=False,\n              gamma=0, gpu_id=-1, importance_type=None,\n              interaction_constraints='', learning_rate=0.300000012,\n              max_delta_step=0, max_depth=3, min_child_weight=1, missing=nan,\n              monotone_constraints='()', n_estimators=100, n_jobs=12,\n              num_parallel_tree=1, predictor='auto', random_state=42,\n              reg_alpha=0, reg_lambda=1, scale_pos_weight=1, subsample=1,\n              tree_method='exact', use_label_encoder=False,\n              validate_parameters=1, verbosity=None)"
     },
     "execution_count": 150,
     "metadata": {},
     "output_type": "execute_result"
    }
   ],
   "source": [
    "model: XGBClassifier = XGBClassifier(\n",
    "    max_depth=3,\n",
    "    random_state=42,\n",
    "    use_label_encoder=False\n",
    ")\n",
    "\n",
    "eval_set = [(X_test, y_test.values.ravel())]\n",
    "model.fit(\n",
    "    X_train,\n",
    "    y_train.values.ravel(),\n",
    "    eval_set=eval_set,\n",
    "    verbose=True,\n",
    "    eval_metric=\"auc\",\n",
    "    early_stopping_rounds=10\n",
    ")"
   ],
   "metadata": {
    "collapsed": false,
    "pycharm": {
     "name": "#%%\n"
    }
   }
  },
  {
   "cell_type": "code",
   "execution_count": 151,
   "outputs": [
    {
     "data": {
      "text/plain": "      target  target_mean                       date  is_overfitted  \\\n4  em_acount     0.902959 2022-04-19 00:17:38.079380          False   \n3  em_acount     0.902959 2022-04-18 23:58:02.303149          False   \n2  em_acount     0.902959 2022-04-18 23:53:05.782910          False   \n1  em_acount     0.902959 2022-04-18 23:14:19.981752          False   \n0  em_acount     0.902959 2022-04-18 23:13:01.398115           True   \n\n   roc_auc_train  roc_auc_test  roc_auc_val  accuracy_train  accuracy_test  \\\n4       0.911341      0.911024     0.786666        0.940705       0.940278   \n3       0.911341      0.911024     0.786666        0.940705       0.940278   \n2       0.911341      0.911024     0.786666        0.940705       0.940278   \n1       0.911341      0.911024     0.786666        0.940705       0.940278   \n0       0.927557      0.918854     0.799408        0.943958       0.941804   \n\n   accuracy_val  recall_train  recall_test  recall_val  precision_train  \\\n4      0.391374      0.987060     0.986936    0.869544         0.949290   \n3      0.391374      0.987060     0.986936    0.869544         0.949290   \n2      0.391374      0.987060     0.986936    0.869544         0.949290   \n1      0.391374      0.987060     0.986936    0.869544         0.949290   \n0      0.402696      0.986897     0.986192    0.869246         0.952733   \n\n   precision_test  precision_val  f1_score_train  f1_score_test  f1_score_val  \\\n4        0.948966       0.081871        0.967807       0.967579      0.149651   \n3        0.948966       0.081871        0.967807       0.967579      0.149651   \n2        0.948966       0.081871        0.967807       0.967579      0.149651   \n1        0.948966       0.081871        0.967807       0.967579      0.149651   \n0        0.951156       0.083289        0.969514       0.968357      0.152012   \n\n                                               model  \n4  XGBClassifier(base_score=0.5, booster='gbtree'...  \n3  XGBClassifier(base_score=0.5, booster='gbtree'...  \n2  XGBClassifier(base_score=0.5, booster='gbtree'...  \n1  XGBClassifier(base_score=0.5, booster='gbtree'...  \n0  XGBClassifier(base_score=0.5, booster='gbtree'...  ",
      "text/html": "<div>\n<style scoped>\n    .dataframe tbody tr th:only-of-type {\n        vertical-align: middle;\n    }\n\n    .dataframe tbody tr th {\n        vertical-align: top;\n    }\n\n    .dataframe thead th {\n        text-align: right;\n    }\n</style>\n<table border=\"1\" class=\"dataframe\">\n  <thead>\n    <tr style=\"text-align: right;\">\n      <th></th>\n      <th>target</th>\n      <th>target_mean</th>\n      <th>date</th>\n      <th>is_overfitted</th>\n      <th>roc_auc_train</th>\n      <th>roc_auc_test</th>\n      <th>roc_auc_val</th>\n      <th>accuracy_train</th>\n      <th>accuracy_test</th>\n      <th>accuracy_val</th>\n      <th>recall_train</th>\n      <th>recall_test</th>\n      <th>recall_val</th>\n      <th>precision_train</th>\n      <th>precision_test</th>\n      <th>precision_val</th>\n      <th>f1_score_train</th>\n      <th>f1_score_test</th>\n      <th>f1_score_val</th>\n      <th>model</th>\n    </tr>\n  </thead>\n  <tbody>\n    <tr>\n      <th>4</th>\n      <td>em_acount</td>\n      <td>0.902959</td>\n      <td>2022-04-19 00:17:38.079380</td>\n      <td>False</td>\n      <td>0.911341</td>\n      <td>0.911024</td>\n      <td>0.786666</td>\n      <td>0.940705</td>\n      <td>0.940278</td>\n      <td>0.391374</td>\n      <td>0.987060</td>\n      <td>0.986936</td>\n      <td>0.869544</td>\n      <td>0.949290</td>\n      <td>0.948966</td>\n      <td>0.081871</td>\n      <td>0.967807</td>\n      <td>0.967579</td>\n      <td>0.149651</td>\n      <td>XGBClassifier(base_score=0.5, booster='gbtree'...</td>\n    </tr>\n    <tr>\n      <th>3</th>\n      <td>em_acount</td>\n      <td>0.902959</td>\n      <td>2022-04-18 23:58:02.303149</td>\n      <td>False</td>\n      <td>0.911341</td>\n      <td>0.911024</td>\n      <td>0.786666</td>\n      <td>0.940705</td>\n      <td>0.940278</td>\n      <td>0.391374</td>\n      <td>0.987060</td>\n      <td>0.986936</td>\n      <td>0.869544</td>\n      <td>0.949290</td>\n      <td>0.948966</td>\n      <td>0.081871</td>\n      <td>0.967807</td>\n      <td>0.967579</td>\n      <td>0.149651</td>\n      <td>XGBClassifier(base_score=0.5, booster='gbtree'...</td>\n    </tr>\n    <tr>\n      <th>2</th>\n      <td>em_acount</td>\n      <td>0.902959</td>\n      <td>2022-04-18 23:53:05.782910</td>\n      <td>False</td>\n      <td>0.911341</td>\n      <td>0.911024</td>\n      <td>0.786666</td>\n      <td>0.940705</td>\n      <td>0.940278</td>\n      <td>0.391374</td>\n      <td>0.987060</td>\n      <td>0.986936</td>\n      <td>0.869544</td>\n      <td>0.949290</td>\n      <td>0.948966</td>\n      <td>0.081871</td>\n      <td>0.967807</td>\n      <td>0.967579</td>\n      <td>0.149651</td>\n      <td>XGBClassifier(base_score=0.5, booster='gbtree'...</td>\n    </tr>\n    <tr>\n      <th>1</th>\n      <td>em_acount</td>\n      <td>0.902959</td>\n      <td>2022-04-18 23:14:19.981752</td>\n      <td>False</td>\n      <td>0.911341</td>\n      <td>0.911024</td>\n      <td>0.786666</td>\n      <td>0.940705</td>\n      <td>0.940278</td>\n      <td>0.391374</td>\n      <td>0.987060</td>\n      <td>0.986936</td>\n      <td>0.869544</td>\n      <td>0.949290</td>\n      <td>0.948966</td>\n      <td>0.081871</td>\n      <td>0.967807</td>\n      <td>0.967579</td>\n      <td>0.149651</td>\n      <td>XGBClassifier(base_score=0.5, booster='gbtree'...</td>\n    </tr>\n    <tr>\n      <th>0</th>\n      <td>em_acount</td>\n      <td>0.902959</td>\n      <td>2022-04-18 23:13:01.398115</td>\n      <td>True</td>\n      <td>0.927557</td>\n      <td>0.918854</td>\n      <td>0.799408</td>\n      <td>0.943958</td>\n      <td>0.941804</td>\n      <td>0.402696</td>\n      <td>0.986897</td>\n      <td>0.986192</td>\n      <td>0.869246</td>\n      <td>0.952733</td>\n      <td>0.951156</td>\n      <td>0.083289</td>\n      <td>0.969514</td>\n      <td>0.968357</td>\n      <td>0.152012</td>\n      <td>XGBClassifier(base_score=0.5, booster='gbtree'...</td>\n    </tr>\n  </tbody>\n</table>\n</div>"
     },
     "execution_count": 151,
     "metadata": {},
     "output_type": "execute_result"
    }
   ],
   "source": [
    "report_df = reporter.record_evaluation(TARGET, model, X_train, y_train, X_test, y_test, X_val, y_val, train_df[TARGET].mean())\n",
    "report_df.sort_values(by=\"date\", ascending=False)"
   ],
   "metadata": {
    "collapsed": false,
    "pycharm": {
     "name": "#%%\n"
    }
   }
  },
  {
   "cell_type": "code",
   "execution_count": 152,
   "outputs": [
    {
     "data": {
      "text/plain": "Text(0, 0.5, 'TPR')"
     },
     "execution_count": 152,
     "metadata": {},
     "output_type": "execute_result"
    },
    {
     "data": {
      "text/plain": "<Figure size 360x360 with 1 Axes>",
      "image/png": "[encoded data removed]"
     },
     "metadata": {
      "needs_background": "light"
     },
     "output_type": "display_data"
    }
   ],
   "source": [
    "fpr, tpr, th = roc_curve(y_test, get_y_score(model, X_test, y_test))\n",
    "plt.figure(figsize=(5, 5))\n",
    "plt.plot(fpr, tpr)\n",
    "plt.plot([0, 1], [0, 1])\n",
    "plt.xlabel('FPR')\n",
    "plt.ylabel('TPR')"
   ],
   "metadata": {
    "collapsed": false,
    "pycharm": {
     "name": "#%%\n"
    }
   }
  },
  {
   "cell_type": "code",
   "execution_count": 153,
   "outputs": [
    {
     "data": {
      "text/plain": "<Figure size 432x288 with 2 Axes>",
      "image/png": "[encoded data removed]"
     },
     "metadata": {
      "needs_background": "light"
     },
     "output_type": "display_data"
    }
   ],
   "source": [
    "plot_confusion_matrix(model, X_test, y_test, values_format=\"d\", display_labels=[\"No compra\", \"Compra\"])\n",
    "plt.show()"
   ],
   "metadata": {
    "collapsed": false,
    "pycharm": {
     "name": "#%%\n"
    }
   }
  },
  {
   "cell_type": "code",
   "execution_count": 154,
   "outputs": [
    {
     "data": {
      "text/plain": "<AxesSubplot:>"
     },
     "execution_count": 154,
     "metadata": {},
     "output_type": "execute_result"
    },
    {
     "data": {
      "text/plain": "<Figure size 432x288 with 1 Axes>",
      "image/png": "[encoded data removed]"
     },
     "metadata": {
      "needs_background": "light"
     },
     "output_type": "display_data"
    }
   ],
   "source": [
    "feat_importances = pd.Series(model.feature_importances_, index=dev_X.columns)\n",
    "feat_importances.nlargest(20).plot(kind='barh')"
   ],
   "metadata": {
    "collapsed": false,
    "pycharm": {
     "name": "#%%\n"
    }
   }
  },
  {
   "cell_type": "markdown",
   "source": [
    "### Conclusions"
   ],
   "metadata": {
    "collapsed": false,
    "pycharm": {
     "name": "#%% md\n"
    }
   }
  },
  {
   "cell_type": "code",
   "execution_count": 155,
   "outputs": [
    {
     "data": {
      "text/plain": "                        4\ntarget          em_acount\ntarget_mean      0.902959\nroc_auc_test     0.911024\nroc_auc_val      0.786666\naccuracy_test    0.940278\naccuracy_val     0.391374\nrecall_test      0.986936\nrecall_val       0.869544\nprecision_test   0.948966\nprecision_val    0.081871\nf1_score_test    0.967579\nf1_score_val     0.149651",
      "text/html": "<div>\n<style scoped>\n    .dataframe tbody tr th:only-of-type {\n        vertical-align: middle;\n    }\n\n    .dataframe tbody tr th {\n        vertical-align: top;\n    }\n\n    .dataframe thead th {\n        text-align: right;\n    }\n</style>\n<table border=\"1\" class=\"dataframe\">\n  <thead>\n    <tr style=\"text-align: right;\">\n      <th></th>\n      <th>4</th>\n    </tr>\n  </thead>\n  <tbody>\n    <tr>\n      <th>target</th>\n      <td>em_acount</td>\n    </tr>\n    <tr>\n      <th>target_mean</th>\n      <td>0.902959</td>\n    </tr>\n    <tr>\n      <th>roc_auc_test</th>\n      <td>0.911024</td>\n    </tr>\n    <tr>\n      <th>roc_auc_val</th>\n      <td>0.786666</td>\n    </tr>\n    <tr>\n      <th>accuracy_test</th>\n      <td>0.940278</td>\n    </tr>\n    <tr>\n      <th>accuracy_val</th>\n      <td>0.391374</td>\n    </tr>\n    <tr>\n      <th>recall_test</th>\n      <td>0.986936</td>\n    </tr>\n    <tr>\n      <th>recall_val</th>\n      <td>0.869544</td>\n    </tr>\n    <tr>\n      <th>precision_test</th>\n      <td>0.948966</td>\n    </tr>\n    <tr>\n      <th>precision_val</th>\n      <td>0.081871</td>\n    </tr>\n    <tr>\n      <th>f1_score_test</th>\n      <td>0.967579</td>\n    </tr>\n    <tr>\n      <th>f1_score_val</th>\n      <td>0.149651</td>\n    </tr>\n  </tbody>\n</table>\n</div>"
     },
     "execution_count": 155,
     "metadata": {},
     "output_type": "execute_result"
    }
   ],
   "source": [
    "columns = [\n",
    "    \"target\",\n",
    "    \"target_mean\",\n",
    "    \"roc_auc_test\",\n",
    "    \"roc_auc_val\",\n",
    "    \"accuracy_test\",\n",
    "    \"accuracy_val\",\n",
    "    \"recall_test\",\n",
    "    \"recall_val\",\n",
    "    \"precision_test\",\n",
    "    \"precision_val\",\n",
    "    \"f1_score_test\",\n",
    "    \"f1_score_val\",\n",
    "]\n",
    "report_df.tail(1)[columns].T"
   ],
   "metadata": {
    "collapsed": false,
    "pycharm": {
     "name": "#%%\n"
    }
   }
  },
  {
   "cell_type": "code",
   "execution_count": 155,
   "outputs": [],
   "source": [],
   "metadata": {
    "collapsed": false,
    "pycharm": {
     "name": "#%%\n"
    }
   }
  }
 ],
 "metadata": {
  "kernelspec": {
   "display_name": "Python 3",
   "language": "python",
   "name": "python3"
  },
  "language_info": {
   "codemirror_mode": {
    "name": "ipython",
    "version": 2
   },
   "file_extension": ".py",
   "mimetype": "text/x-python",
   "name": "python",
   "nbconvert_exporter": "python",
   "pygments_lexer": "ipython2",
   "version": "2.7.6"
  }
 },
 "nbformat": 4,
 "nbformat_minor": 0
}