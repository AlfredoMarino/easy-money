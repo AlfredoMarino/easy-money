{
 "cells": [
  {
   "cell_type": "markdown",
   "source": [
    "# Easy Money - Classification"
   ],
   "metadata": {
    "collapsed": false,
    "pycharm": {
     "name": "#%% md\n"
    }
   }
  },
  {
   "cell_type": "code",
   "execution_count": 1,
   "metadata": {
    "collapsed": true
   },
   "outputs": [],
   "source": [
    "import pandas as pd\n",
    "import numpy as np\n",
    "import matplotlib.pyplot as plt\n",
    "import seaborn as sns\n",
    "\n",
    "from sklearn.metrics import accuracy_score, precision_score, recall_score, f1_score, confusion_matrix, roc_auc_score, \\\n",
    "    roc_curve, plot_confusion_matrix\n",
    "from sklearn.base import BaseEstimator, TransformerMixin\n",
    "from sklearn.model_selection import train_test_split\n",
    "\n",
    "from datetime import datetime\n",
    "from xgboost import XGBClassifier"
   ]
  },
  {
   "cell_type": "code",
   "execution_count": 2,
   "outputs": [],
   "source": [
    "TARGET = \"em_acount\"\n",
    "\n",
    "__DATA_PATH__ = \"../../data/processed\"\n",
    "__DATASET__ = f\"{__DATA_PATH__}/easy_money_classification.csv\"\n",
    "__MODEL_METRICS_REPORT_PATH__ = \"../../reports/model_evaluation_output.csv\"\n",
    "\n",
    "DEV_PARTITION_PERIOD = (\"2018-01-28\", \"2019-02-28\")\n",
    "VAL_PARTITION_PERIOD = (\"2019-03-28\", \"2019-05-28\")\n",
    "\n",
    "EXCLUDE_COLUMNS = [\"pk_cid\", \"pk_partition\"]"
   ],
   "metadata": {
    "collapsed": false,
    "pycharm": {
     "name": "#%%\n"
    }
   }
  },
  {
   "cell_type": "markdown",
   "source": [
    "## Import data"
   ],
   "metadata": {
    "collapsed": false,
    "pycharm": {
     "name": "#%% md\n"
    }
   }
  },
  {
   "cell_type": "code",
   "execution_count": 3,
   "outputs": [],
   "source": [
    "dtypes = {'pk_cid': 'int64', 'active_customer': 'int8',\n",
    "          'region_code': 'int8', 'gender': 'int8', 'age': 'int8', 'deceased': 'int8',\n",
    "          'short_term_deposit': 'int8', 'loans': 'int8', 'mortgage': 'int8',\n",
    "          'funds': 'int8', 'securities': 'int8', 'long_term_deposit': 'int8',\n",
    "          'em_account_pp': 'int8', 'credit_card': 'int8', 'payroll': 'int8',\n",
    "          'pension_plan': 'int8', 'payroll_account': 'int8', 'emc_account': 'int8',\n",
    "          'debit_card': 'int8', 'em_account_p': 'int8', 'em_acount': 'int8',\n",
    "          'entry_date_month': 'int8', 'entry_date_year': 'int8', 'entry_date_day': 'int8',\n",
    "          'entry_date_week': 'int8', 'entry_date_weekday': 'int8', 'entry_date_trim': 'int8',\n",
    "          'salary': 'float64', 'entry_channel_004': 'int8', 'entry_channel_007': 'int8',\n",
    "          'entry_channel_013': 'int8', 'entry_channel_KAA': 'int8', 'entry_channel_KAB': 'int8',\n",
    "          'entry_channel_KAD': 'int8', 'entry_channel_KAE': 'int8', 'entry_channel_KAF': 'int8',\n",
    "          'entry_channel_KAG': 'int8', 'entry_channel_KAH': 'int8', 'entry_channel_KAI': 'int8',\n",
    "          'entry_channel_KAJ': 'int8', 'entry_channel_KAK': 'int8', 'entry_channel_KAM': 'int8',\n",
    "          'entry_channel_KAQ': 'int8', 'entry_channel_KAR': 'int8', 'entry_channel_KAS': 'int8',\n",
    "          'entry_channel_KAT': 'int8', 'entry_channel_KAW': 'int8', 'entry_channel_KAY': 'int8',\n",
    "          'entry_channel_KAZ': 'int8', 'entry_channel_KBE': 'int8', 'entry_channel_KBG': 'int8',\n",
    "          'entry_channel_KBH': 'int8', 'entry_channel_KBO': 'int8', 'entry_channel_KBU': 'int8',\n",
    "          'entry_channel_KBW': 'int8', 'entry_channel_KBY': 'int8', 'entry_channel_KBZ': 'int8',\n",
    "          'entry_channel_KCB': 'int8', 'entry_channel_KCC': 'int8', 'entry_channel_KCH': 'int8',\n",
    "          'entry_channel_KCI': 'int8', 'entry_channel_KCK': 'int8', 'entry_channel_KCL': 'int8',\n",
    "          'entry_channel_KDA': 'int8', 'entry_channel_KDH': 'int8', 'entry_channel_KDR': 'int8',\n",
    "          'entry_channel_KDS': 'int8', 'entry_channel_KDT': 'int8', 'entry_channel_KEH': 'int8',\n",
    "          'entry_channel_KEJ': 'int8', 'entry_channel_KES': 'int8', 'entry_channel_KEY': 'int8',\n",
    "          'entry_channel_KFA': 'int8', 'entry_channel_KFC': 'int8', 'entry_channel_KFD': 'int8',\n",
    "          'entry_channel_KFF': 'int8', 'entry_channel_KFK': 'int8', 'entry_channel_KFL': 'int8',\n",
    "          'entry_channel_KFP': 'int8', 'entry_channel_KFS': 'int8', 'entry_channel_KGC': 'int8',\n",
    "          'entry_channel_KGN': 'int8', 'entry_channel_KGX': 'int8', 'entry_channel_KHC': 'int8',\n",
    "          'entry_channel_KHD': 'int8', 'entry_channel_KHE': 'int8', 'entry_channel_KHF': 'int8',\n",
    "          'entry_channel_KHK': 'int8', 'entry_channel_KHL': 'int8', 'entry_channel_KHM': 'int8',\n",
    "          'entry_channel_KHN': 'int8', 'entry_channel_KHO': 'int8', 'entry_channel_KHP': 'int8',\n",
    "          'entry_channel_KHQ': 'int8', 'entry_channel_KHS': 'int8', 'entry_channel_RED': 'int8',\n",
    "          'entry_channel_UNKNOWN': 'int8', 'segment_00 - OTROS': 'int8',\n",
    "          'segment_01 - TOP': 'int8', 'segment_02 - PARTICULARES': 'int8',\n",
    "          'segment_03 - UNIVERSITARIO': 'int8', 'country_id_AR': 'int8', 'country_id_AT': 'int8',\n",
    "          'country_id_BE': 'int8', 'country_id_BR': 'int8', 'country_id_CA': 'int8',\n",
    "          'country_id_CH': 'int8', 'country_id_CI': 'int8', 'country_id_CL': 'int8',\n",
    "          'country_id_CM': 'int8', 'country_id_CN': 'int8', 'country_id_CO': 'int8',\n",
    "          'country_id_DE': 'int8', 'country_id_DJ': 'int8', 'country_id_DO': 'int8',\n",
    "          'country_id_DZ': 'int8', 'country_id_ES': 'int8', 'country_id_ET': 'int8',\n",
    "          'country_id_FR': 'int8', 'country_id_GA': 'int8', 'country_id_GB': 'int8',\n",
    "          'country_id_GT': 'int8', 'country_id_HU': 'int8', 'country_id_IE': 'int8',\n",
    "          'country_id_IT': 'int8', 'country_id_JM': 'int8', 'country_id_LU': 'int8',\n",
    "          'country_id_MA': 'int8', 'country_id_MR': 'int8', 'country_id_MX': 'int8',\n",
    "          'country_id_NO': 'int8', 'country_id_PE': 'int8', 'country_id_PL': 'int8',\n",
    "          'country_id_PT': 'int8', 'country_id_QA': 'int8', 'country_id_RO': 'int8',\n",
    "          'country_id_RU': 'int8', 'country_id_SA': 'int8', 'country_id_SE': 'int8',\n",
    "          'country_id_SN': 'int8', 'country_id_US': 'int8', 'country_id_VE': 'int8'}\n",
    "\n",
    "parse_dates = ['pk_partition']"
   ],
   "metadata": {
    "collapsed": false,
    "pycharm": {
     "name": "#%%\n"
    }
   }
  },
  {
   "cell_type": "code",
   "execution_count": 4,
   "outputs": [
    {
     "name": "stdout",
     "output_type": "stream",
     "text": [
      "<class 'pandas.core.frame.DataFrame'>\n",
      "RangeIndex: 5962838 entries, 0 to 5962837\n",
      "Columns: 143 entries, pk_cid to country_id_VE\n",
      "dtypes: datetime64[ns](1), float64(1), int64(1), int8(140)\n",
      "memory usage: 932.6 MB\n",
      "Wall time: 51.2 s\n"
     ]
    }
   ],
   "source": [
    "%%time\n",
    "df = pd.read_csv(__DATASET__, dtype=dtypes, parse_dates=parse_dates)\n",
    "df.drop(\"Unnamed: 0\", axis=1, inplace=True)\n",
    "df.drop(\"entry_date\", axis=1, inplace=True)\n",
    "df[\"pk_partition\"] = pd.to_datetime(df[\"pk_partition\"])\n",
    "df.info(memory_usage=\"deep\")"
   ],
   "metadata": {
    "collapsed": false,
    "pycharm": {
     "name": "#%%\n"
    }
   }
  },
  {
   "cell_type": "code",
   "execution_count": 5,
   "outputs": [
    {
     "data": {
      "text/plain": "    pk_cid pk_partition  active_customer  region_code  gender  age  deceased  \\\n0    15891   2018-07-28                1           28       1   59         0   \n1    15891   2018-08-28                0           28       1   59         0   \n2    16063   2018-11-28                1           28       1   62         0   \n3    16063   2018-12-28                1           28       1   62         0   \n4    16063   2019-01-28                1           28       1   62         0   \n5    16063   2019-02-28                1           28       1   62         0   \n6    16063   2019-03-28                0           28       1   62         0   \n7    16063   2019-04-28                1           28       1   62         0   \n8    16063   2019-05-28                0           28       1   62         0   \n9    16203   2018-12-28                0            8       0   70         0   \n10   16203   2019-01-28                1            8       0   70         0   \n11   16203   2019-02-28                1            8       0   70         0   \n12   16203   2019-03-28                1            8       0   70         0   \n13   16203   2019-04-28                1            8       0   70         0   \n14   16203   2019-05-28                1            8       0   70         0   \n15   16502   2018-09-28                0           28       1   57         0   \n16   16502   2018-10-28                1           28       1   58         0   \n17   16502   2018-11-28                1           28       1   58         0   \n18   16502   2018-12-28                1           28       1   58         0   \n19   16502   2019-01-28                1           28       1   58         0   \n\n    short_term_deposit  loans  mortgage  ...  country_id_PL  country_id_PT  \\\n0                    0      0         0  ...              0              0   \n1                    0      0         0  ...              0              0   \n2                    0      0         0  ...              0              0   \n3                    0      0         0  ...              0              0   \n4                    0      0         0  ...              0              0   \n5                    0      0         0  ...              0              0   \n6                    0      0         0  ...              0              0   \n7                    0      0         0  ...              0              0   \n8                    0      0         0  ...              0              0   \n9                    0      0         0  ...              0              0   \n10                   0      0         0  ...              0              0   \n11                   0      0         0  ...              0              0   \n12                   0      0         0  ...              0              0   \n13                   0      0         0  ...              0              0   \n14                   0      0         0  ...              0              0   \n15                   0      0         0  ...              0              0   \n16                   0      0         0  ...              0              0   \n17                   0      0         0  ...              0              0   \n18                   0      0         0  ...              0              0   \n19                   0      0         0  ...              0              0   \n\n    country_id_QA  country_id_RO  country_id_RU  country_id_SA  country_id_SE  \\\n0               0              0              0              0              0   \n1               0              0              0              0              0   \n2               0              0              0              0              0   \n3               0              0              0              0              0   \n4               0              0              0              0              0   \n5               0              0              0              0              0   \n6               0              0              0              0              0   \n7               0              0              0              0              0   \n8               0              0              0              0              0   \n9               0              0              0              0              0   \n10              0              0              0              0              0   \n11              0              0              0              0              0   \n12              0              0              0              0              0   \n13              0              0              0              0              0   \n14              0              0              0              0              0   \n15              0              0              0              0              0   \n16              0              0              0              0              0   \n17              0              0              0              0              0   \n18              0              0              0              0              0   \n19              0              0              0              0              0   \n\n    country_id_SN  country_id_US  country_id_VE  \n0               0              0              0  \n1               0              0              0  \n2               0              0              0  \n3               0              0              0  \n4               0              0              0  \n5               0              0              0  \n6               0              0              0  \n7               0              0              0  \n8               0              0              0  \n9               0              0              0  \n10              0              0              0  \n11              0              0              0  \n12              0              0              0  \n13              0              0              0  \n14              0              0              0  \n15              0              0              0  \n16              0              0              0  \n17              0              0              0  \n18              0              0              0  \n19              0              0              0  \n\n[20 rows x 143 columns]",
      "text/html": "<div>\n<style scoped>\n    .dataframe tbody tr th:only-of-type {\n        vertical-align: middle;\n    }\n\n    .dataframe tbody tr th {\n        vertical-align: top;\n    }\n\n    .dataframe thead th {\n        text-align: right;\n    }\n</style>\n<table border=\"1\" class=\"dataframe\">\n  <thead>\n    <tr style=\"text-align: right;\">\n      <th></th>\n      <th>pk_cid</th>\n      <th>pk_partition</th>\n      <th>active_customer</th>\n      <th>region_code</th>\n      <th>gender</th>\n      <th>age</th>\n      <th>deceased</th>\n      <th>short_term_deposit</th>\n      <th>loans</th>\n      <th>mortgage</th>\n      <th>...</th>\n      <th>country_id_PL</th>\n      <th>country_id_PT</th>\n      <th>country_id_QA</th>\n      <th>country_id_RO</th>\n      <th>country_id_RU</th>\n      <th>country_id_SA</th>\n      <th>country_id_SE</th>\n      <th>country_id_SN</th>\n      <th>country_id_US</th>\n      <th>country_id_VE</th>\n    </tr>\n  </thead>\n  <tbody>\n    <tr>\n      <th>0</th>\n      <td>15891</td>\n      <td>2018-07-28</td>\n      <td>1</td>\n      <td>28</td>\n      <td>1</td>\n      <td>59</td>\n      <td>0</td>\n      <td>0</td>\n      <td>0</td>\n      <td>0</td>\n      <td>...</td>\n      <td>0</td>\n      <td>0</td>\n      <td>0</td>\n      <td>0</td>\n      <td>0</td>\n      <td>0</td>\n      <td>0</td>\n      <td>0</td>\n      <td>0</td>\n      <td>0</td>\n    </tr>\n    <tr>\n      <th>1</th>\n      <td>15891</td>\n      <td>2018-08-28</td>\n      <td>0</td>\n      <td>28</td>\n      <td>1</td>\n      <td>59</td>\n      <td>0</td>\n      <td>0</td>\n      <td>0</td>\n      <td>0</td>\n      <td>...</td>\n      <td>0</td>\n      <td>0</td>\n      <td>0</td>\n      <td>0</td>\n      <td>0</td>\n      <td>0</td>\n      <td>0</td>\n      <td>0</td>\n      <td>0</td>\n      <td>0</td>\n    </tr>\n    <tr>\n      <th>2</th>\n      <td>16063</td>\n      <td>2018-11-28</td>\n      <td>1</td>\n      <td>28</td>\n      <td>1</td>\n      <td>62</td>\n      <td>0</td>\n      <td>0</td>\n      <td>0</td>\n      <td>0</td>\n      <td>...</td>\n      <td>0</td>\n      <td>0</td>\n      <td>0</td>\n      <td>0</td>\n      <td>0</td>\n      <td>0</td>\n      <td>0</td>\n      <td>0</td>\n      <td>0</td>\n      <td>0</td>\n    </tr>\n    <tr>\n      <th>3</th>\n      <td>16063</td>\n      <td>2018-12-28</td>\n      <td>1</td>\n      <td>28</td>\n      <td>1</td>\n      <td>62</td>\n      <td>0</td>\n      <td>0</td>\n      <td>0</td>\n      <td>0</td>\n      <td>...</td>\n      <td>0</td>\n      <td>0</td>\n      <td>0</td>\n      <td>0</td>\n      <td>0</td>\n      <td>0</td>\n      <td>0</td>\n      <td>0</td>\n      <td>0</td>\n      <td>0</td>\n    </tr>\n    <tr>\n      <th>4</th>\n      <td>16063</td>\n      <td>2019-01-28</td>\n      <td>1</td>\n      <td>28</td>\n      <td>1</td>\n      <td>62</td>\n      <td>0</td>\n      <td>0</td>\n      <td>0</td>\n      <td>0</td>\n      <td>...</td>\n      <td>0</td>\n      <td>0</td>\n      <td>0</td>\n      <td>0</td>\n      <td>0</td>\n      <td>0</td>\n      <td>0</td>\n      <td>0</td>\n      <td>0</td>\n      <td>0</td>\n    </tr>\n    <tr>\n      <th>5</th>\n      <td>16063</td>\n      <td>2019-02-28</td>\n      <td>1</td>\n      <td>28</td>\n      <td>1</td>\n      <td>62</td>\n      <td>0</td>\n      <td>0</td>\n      <td>0</td>\n      <td>0</td>\n      <td>...</td>\n      <td>0</td>\n      <td>0</td>\n      <td>0</td>\n      <td>0</td>\n      <td>0</td>\n      <td>0</td>\n      <td>0</td>\n      <td>0</td>\n      <td>0</td>\n      <td>0</td>\n    </tr>\n    <tr>\n      <th>6</th>\n      <td>16063</td>\n      <td>2019-03-28</td>\n      <td>0</td>\n      <td>28</td>\n      <td>1</td>\n      <td>62</td>\n      <td>0</td>\n      <td>0</td>\n      <td>0</td>\n      <td>0</td>\n      <td>...</td>\n      <td>0</td>\n      <td>0</td>\n      <td>0</td>\n      <td>0</td>\n      <td>0</td>\n      <td>0</td>\n      <td>0</td>\n      <td>0</td>\n      <td>0</td>\n      <td>0</td>\n    </tr>\n    <tr>\n      <th>7</th>\n      <td>16063</td>\n      <td>2019-04-28</td>\n      <td>1</td>\n      <td>28</td>\n      <td>1</td>\n      <td>62</td>\n      <td>0</td>\n      <td>0</td>\n      <td>0</td>\n      <td>0</td>\n      <td>...</td>\n      <td>0</td>\n      <td>0</td>\n      <td>0</td>\n      <td>0</td>\n      <td>0</td>\n      <td>0</td>\n      <td>0</td>\n      <td>0</td>\n      <td>0</td>\n      <td>0</td>\n    </tr>\n    <tr>\n      <th>8</th>\n      <td>16063</td>\n      <td>2019-05-28</td>\n      <td>0</td>\n      <td>28</td>\n      <td>1</td>\n      <td>62</td>\n      <td>0</td>\n      <td>0</td>\n      <td>0</td>\n      <td>0</td>\n      <td>...</td>\n      <td>0</td>\n      <td>0</td>\n      <td>0</td>\n      <td>0</td>\n      <td>0</td>\n      <td>0</td>\n      <td>0</td>\n      <td>0</td>\n      <td>0</td>\n      <td>0</td>\n    </tr>\n    <tr>\n      <th>9</th>\n      <td>16203</td>\n      <td>2018-12-28</td>\n      <td>0</td>\n      <td>8</td>\n      <td>0</td>\n      <td>70</td>\n      <td>0</td>\n      <td>0</td>\n      <td>0</td>\n      <td>0</td>\n      <td>...</td>\n      <td>0</td>\n      <td>0</td>\n      <td>0</td>\n      <td>0</td>\n      <td>0</td>\n      <td>0</td>\n      <td>0</td>\n      <td>0</td>\n      <td>0</td>\n      <td>0</td>\n    </tr>\n    <tr>\n      <th>10</th>\n      <td>16203</td>\n      <td>2019-01-28</td>\n      <td>1</td>\n      <td>8</td>\n      <td>0</td>\n      <td>70</td>\n      <td>0</td>\n      <td>0</td>\n      <td>0</td>\n      <td>0</td>\n      <td>...</td>\n      <td>0</td>\n      <td>0</td>\n      <td>0</td>\n      <td>0</td>\n      <td>0</td>\n      <td>0</td>\n      <td>0</td>\n      <td>0</td>\n      <td>0</td>\n      <td>0</td>\n    </tr>\n    <tr>\n      <th>11</th>\n      <td>16203</td>\n      <td>2019-02-28</td>\n      <td>1</td>\n      <td>8</td>\n      <td>0</td>\n      <td>70</td>\n      <td>0</td>\n      <td>0</td>\n      <td>0</td>\n      <td>0</td>\n      <td>...</td>\n      <td>0</td>\n      <td>0</td>\n      <td>0</td>\n      <td>0</td>\n      <td>0</td>\n      <td>0</td>\n      <td>0</td>\n      <td>0</td>\n      <td>0</td>\n      <td>0</td>\n    </tr>\n    <tr>\n      <th>12</th>\n      <td>16203</td>\n      <td>2019-03-28</td>\n      <td>1</td>\n      <td>8</td>\n      <td>0</td>\n      <td>70</td>\n      <td>0</td>\n      <td>0</td>\n      <td>0</td>\n      <td>0</td>\n      <td>...</td>\n      <td>0</td>\n      <td>0</td>\n      <td>0</td>\n      <td>0</td>\n      <td>0</td>\n      <td>0</td>\n      <td>0</td>\n      <td>0</td>\n      <td>0</td>\n      <td>0</td>\n    </tr>\n    <tr>\n      <th>13</th>\n      <td>16203</td>\n      <td>2019-04-28</td>\n      <td>1</td>\n      <td>8</td>\n      <td>0</td>\n      <td>70</td>\n      <td>0</td>\n      <td>0</td>\n      <td>0</td>\n      <td>0</td>\n      <td>...</td>\n      <td>0</td>\n      <td>0</td>\n      <td>0</td>\n      <td>0</td>\n      <td>0</td>\n      <td>0</td>\n      <td>0</td>\n      <td>0</td>\n      <td>0</td>\n      <td>0</td>\n    </tr>\n    <tr>\n      <th>14</th>\n      <td>16203</td>\n      <td>2019-05-28</td>\n      <td>1</td>\n      <td>8</td>\n      <td>0</td>\n      <td>70</td>\n      <td>0</td>\n      <td>0</td>\n      <td>0</td>\n      <td>0</td>\n      <td>...</td>\n      <td>0</td>\n      <td>0</td>\n      <td>0</td>\n      <td>0</td>\n      <td>0</td>\n      <td>0</td>\n      <td>0</td>\n      <td>0</td>\n      <td>0</td>\n      <td>0</td>\n    </tr>\n    <tr>\n      <th>15</th>\n      <td>16502</td>\n      <td>2018-09-28</td>\n      <td>0</td>\n      <td>28</td>\n      <td>1</td>\n      <td>57</td>\n      <td>0</td>\n      <td>0</td>\n      <td>0</td>\n      <td>0</td>\n      <td>...</td>\n      <td>0</td>\n      <td>0</td>\n      <td>0</td>\n      <td>0</td>\n      <td>0</td>\n      <td>0</td>\n      <td>0</td>\n      <td>0</td>\n      <td>0</td>\n      <td>0</td>\n    </tr>\n    <tr>\n      <th>16</th>\n      <td>16502</td>\n      <td>2018-10-28</td>\n      <td>1</td>\n      <td>28</td>\n      <td>1</td>\n      <td>58</td>\n      <td>0</td>\n      <td>0</td>\n      <td>0</td>\n      <td>0</td>\n      <td>...</td>\n      <td>0</td>\n      <td>0</td>\n      <td>0</td>\n      <td>0</td>\n      <td>0</td>\n      <td>0</td>\n      <td>0</td>\n      <td>0</td>\n      <td>0</td>\n      <td>0</td>\n    </tr>\n    <tr>\n      <th>17</th>\n      <td>16502</td>\n      <td>2018-11-28</td>\n      <td>1</td>\n      <td>28</td>\n      <td>1</td>\n      <td>58</td>\n      <td>0</td>\n      <td>0</td>\n      <td>0</td>\n      <td>0</td>\n      <td>...</td>\n      <td>0</td>\n      <td>0</td>\n      <td>0</td>\n      <td>0</td>\n      <td>0</td>\n      <td>0</td>\n      <td>0</td>\n      <td>0</td>\n      <td>0</td>\n      <td>0</td>\n    </tr>\n    <tr>\n      <th>18</th>\n      <td>16502</td>\n      <td>2018-12-28</td>\n      <td>1</td>\n      <td>28</td>\n      <td>1</td>\n      <td>58</td>\n      <td>0</td>\n      <td>0</td>\n      <td>0</td>\n      <td>0</td>\n      <td>...</td>\n      <td>0</td>\n      <td>0</td>\n      <td>0</td>\n      <td>0</td>\n      <td>0</td>\n      <td>0</td>\n      <td>0</td>\n      <td>0</td>\n      <td>0</td>\n      <td>0</td>\n    </tr>\n    <tr>\n      <th>19</th>\n      <td>16502</td>\n      <td>2019-01-28</td>\n      <td>1</td>\n      <td>28</td>\n      <td>1</td>\n      <td>58</td>\n      <td>0</td>\n      <td>0</td>\n      <td>0</td>\n      <td>0</td>\n      <td>...</td>\n      <td>0</td>\n      <td>0</td>\n      <td>0</td>\n      <td>0</td>\n      <td>0</td>\n      <td>0</td>\n      <td>0</td>\n      <td>0</td>\n      <td>0</td>\n      <td>0</td>\n    </tr>\n  </tbody>\n</table>\n<p>20 rows × 143 columns</p>\n</div>"
     },
     "execution_count": 5,
     "metadata": {},
     "output_type": "execute_result"
    }
   ],
   "source": [
    "df.head(20)"
   ],
   "metadata": {
    "collapsed": false,
    "pycharm": {
     "name": "#%%\n"
    }
   }
  },
  {
   "cell_type": "code",
   "execution_count": 6,
   "outputs": [
    {
     "data": {
      "text/plain": "                     count          mean            std      min        25%  \\\npk_cid           5962838.0  1.234933e+06  162293.085772  15891.0  1112533.0   \nactive_customer  5962838.0  4.033799e-01       0.490576      0.0        0.0   \nregion_code      5962838.0  2.580417e+01      13.603136     -1.0       13.0   \ngender           5962838.0  5.177870e-01       0.499684      0.0        0.0   \nage              5962838.0  2.976015e+01      11.980074      2.0       22.0   \n...                    ...           ...            ...      ...        ...   \ncountry_id_SA    5962838.0  2.850991e-06       0.001688      0.0        0.0   \ncountry_id_SE    5962838.0  2.683286e-06       0.001638      0.0        0.0   \ncountry_id_SN    5962838.0  2.850991e-06       0.001688      0.0        0.0   \ncountry_id_US    5962838.0  3.270255e-05       0.005719      0.0        0.0   \ncountry_id_VE    5962838.0  1.324872e-05       0.003640      0.0        0.0   \n\n                       50%         75%        max  \npk_cid           1231097.0  1352339.75  1553689.0  \nactive_customer        0.0        1.00        1.0  \nregion_code           28.0       36.00       52.0  \ngender                 1.0        1.00        1.0  \nage                   25.0       34.00      105.0  \n...                    ...         ...        ...  \ncountry_id_SA          0.0        0.00        1.0  \ncountry_id_SE          0.0        0.00        1.0  \ncountry_id_SN          0.0        0.00        1.0  \ncountry_id_US          0.0        0.00        1.0  \ncountry_id_VE          0.0        0.00        1.0  \n\n[142 rows x 8 columns]",
      "text/html": "<div>\n<style scoped>\n    .dataframe tbody tr th:only-of-type {\n        vertical-align: middle;\n    }\n\n    .dataframe tbody tr th {\n        vertical-align: top;\n    }\n\n    .dataframe thead th {\n        text-align: right;\n    }\n</style>\n<table border=\"1\" class=\"dataframe\">\n  <thead>\n    <tr style=\"text-align: right;\">\n      <th></th>\n      <th>count</th>\n      <th>mean</th>\n      <th>std</th>\n      <th>min</th>\n      <th>25%</th>\n      <th>50%</th>\n      <th>75%</th>\n      <th>max</th>\n    </tr>\n  </thead>\n  <tbody>\n    <tr>\n      <th>pk_cid</th>\n      <td>5962838.0</td>\n      <td>1.234933e+06</td>\n      <td>162293.085772</td>\n      <td>15891.0</td>\n      <td>1112533.0</td>\n      <td>1231097.0</td>\n      <td>1352339.75</td>\n      <td>1553689.0</td>\n    </tr>\n    <tr>\n      <th>active_customer</th>\n      <td>5962838.0</td>\n      <td>4.033799e-01</td>\n      <td>0.490576</td>\n      <td>0.0</td>\n      <td>0.0</td>\n      <td>0.0</td>\n      <td>1.00</td>\n      <td>1.0</td>\n    </tr>\n    <tr>\n      <th>region_code</th>\n      <td>5962838.0</td>\n      <td>2.580417e+01</td>\n      <td>13.603136</td>\n      <td>-1.0</td>\n      <td>13.0</td>\n      <td>28.0</td>\n      <td>36.00</td>\n      <td>52.0</td>\n    </tr>\n    <tr>\n      <th>gender</th>\n      <td>5962838.0</td>\n      <td>5.177870e-01</td>\n      <td>0.499684</td>\n      <td>0.0</td>\n      <td>0.0</td>\n      <td>1.0</td>\n      <td>1.00</td>\n      <td>1.0</td>\n    </tr>\n    <tr>\n      <th>age</th>\n      <td>5962838.0</td>\n      <td>2.976015e+01</td>\n      <td>11.980074</td>\n      <td>2.0</td>\n      <td>22.0</td>\n      <td>25.0</td>\n      <td>34.00</td>\n      <td>105.0</td>\n    </tr>\n    <tr>\n      <th>...</th>\n      <td>...</td>\n      <td>...</td>\n      <td>...</td>\n      <td>...</td>\n      <td>...</td>\n      <td>...</td>\n      <td>...</td>\n      <td>...</td>\n    </tr>\n    <tr>\n      <th>country_id_SA</th>\n      <td>5962838.0</td>\n      <td>2.850991e-06</td>\n      <td>0.001688</td>\n      <td>0.0</td>\n      <td>0.0</td>\n      <td>0.0</td>\n      <td>0.00</td>\n      <td>1.0</td>\n    </tr>\n    <tr>\n      <th>country_id_SE</th>\n      <td>5962838.0</td>\n      <td>2.683286e-06</td>\n      <td>0.001638</td>\n      <td>0.0</td>\n      <td>0.0</td>\n      <td>0.0</td>\n      <td>0.00</td>\n      <td>1.0</td>\n    </tr>\n    <tr>\n      <th>country_id_SN</th>\n      <td>5962838.0</td>\n      <td>2.850991e-06</td>\n      <td>0.001688</td>\n      <td>0.0</td>\n      <td>0.0</td>\n      <td>0.0</td>\n      <td>0.00</td>\n      <td>1.0</td>\n    </tr>\n    <tr>\n      <th>country_id_US</th>\n      <td>5962838.0</td>\n      <td>3.270255e-05</td>\n      <td>0.005719</td>\n      <td>0.0</td>\n      <td>0.0</td>\n      <td>0.0</td>\n      <td>0.00</td>\n      <td>1.0</td>\n    </tr>\n    <tr>\n      <th>country_id_VE</th>\n      <td>5962838.0</td>\n      <td>1.324872e-05</td>\n      <td>0.003640</td>\n      <td>0.0</td>\n      <td>0.0</td>\n      <td>0.0</td>\n      <td>0.00</td>\n      <td>1.0</td>\n    </tr>\n  </tbody>\n</table>\n<p>142 rows × 8 columns</p>\n</div>"
     },
     "execution_count": 6,
     "metadata": {},
     "output_type": "execute_result"
    }
   ],
   "source": [
    "df.describe().T"
   ],
   "metadata": {
    "collapsed": false,
    "pycharm": {
     "name": "#%%\n"
    }
   }
  },
  {
   "cell_type": "markdown",
   "source": [
    "## Classes"
   ],
   "metadata": {
    "collapsed": false,
    "pycharm": {
     "name": "#%% md\n"
    }
   }
  },
  {
   "cell_type": "code",
   "execution_count": 7,
   "outputs": [],
   "source": [
    "class EasyMoneyFilter(BaseEstimator, TransformerMixin):\n",
    "    \"\"\"\n",
    "    Filtro que toma el registro de la primera compra del target\n",
    "    y un 0 al azar, en caso de que nunca hubo compra\n",
    "    se regresa un solo registro (aleatoriamente) y en caso\n",
    "    de que todos fueran compras, devuelve solo la primera\n",
    "    \"\"\"\n",
    "\n",
    "    def __init__(self, target: str, group_by=\"pk_cid\", sort_value=None):\n",
    "        if sort_value is None:\n",
    "            sort_value = [\"pk_cid\", \"pk_partition\"]\n",
    "        self.target = target\n",
    "        self.group_by = group_by\n",
    "        self.sort_values = sort_value\n",
    "\n",
    "    def fit(self, X, y=None):\n",
    "        return self\n",
    "\n",
    "    def transform(self, X, y=None):\n",
    "        return pd.concat([\n",
    "            self.get_fist_sales(X),\n",
    "            self.get_random_no_sales(X)\n",
    "        ]).sort_values(self.sort_values, ignore_index=True)\n",
    "\n",
    "    def get_fist_sales(self, X) -> pd.DataFrame:\n",
    "        first_sale = X.groupby([self.group_by, self.target]).first().reset_index()\n",
    "        return first_sale[first_sale[self.target] == 1]\n",
    "\n",
    "    def get_random_no_sales(self, X) -> pd.DataFrame:\n",
    "        return X[X[self.target] == 0].groupby(self.group_by).sample(n=1, random_state=42)\n",
    "\n",
    "    def get_last_no_sales(self, X) -> pd.DataFrame:\n",
    "        last_no_sale = X.groupby([self.group_by, self.target]).last().reset_index()\n",
    "        return last_no_sale[last_no_sale[self.target] == 0]\n",
    "\n",
    "\n",
    "class EasyMoneySplitter:\n",
    "    \"\"\"\n",
    "    Divide el dataset en la particion de desarrollo y la de validacion segun los rangos\n",
    "    de fechas indicadas en los parametros dev_partition_period y val_partition_period.\n",
    "    exclude_columns Si se indican campos a ser excluidos\n",
    "    \"\"\"\n",
    "    def __init__(self, dev_partition_period: tuple, val_partition_period: tuple, exclude_columns):\n",
    "        self.dev_partition_period = dev_partition_period\n",
    "        self.val_partition_period = val_partition_period\n",
    "        self.exclude_columns = exclude_columns\n",
    "\n",
    "    def get_train_partition(self, dataframe: pd.DataFrame) -> pd.DataFrame:\n",
    "        \"\"\"\n",
    "        Obtiene la particion de train\n",
    "        :param dataframe: dataframe que quiera particionar\n",
    "        :return: dataframe particion para train (ya excluidos los campos indicados)\n",
    "        \"\"\"\n",
    "        return self._get_partition(dataframe, self.dev_partition_period[0], self.dev_partition_period[1])\n",
    "\n",
    "    def get_validation_partition(self, dataframe: pd.DataFrame) -> pd.DataFrame:\n",
    "        \"\"\"\n",
    "        Obtiene particion de validacion\n",
    "        :param dataframe: dataframe que quiera particionar\n",
    "        :return: dataframe particion para validacion (ya excluidos los campos indicados)\n",
    "        \"\"\"\n",
    "        return self._get_partition(dataframe, self.val_partition_period[0], self.val_partition_period[1])\n",
    "\n",
    "    def _get_partition(self, dataframe: pd.DataFrame, from_date, to_date) -> pd.DataFrame:\n",
    "        partition = self._split(dataframe, from_date, to_date)\n",
    "        return partition.drop(self.exclude_columns, axis=1)\n",
    "\n",
    "    def _split(self, dataframe: pd.DataFrame, from_date, to_date) -> pd.DataFrame:\n",
    "        return dataframe[dataframe[\"pk_partition\"].between(from_date, to_date)].reset_index(drop=True)\n",
    "\n",
    "\n",
    "class Reporter:\n",
    "    \"\"\"\n",
    "    Clase para registrar resultados de la modelizacion\n",
    "    \"\"\"\n",
    "    def __init__(self, output_file):\n",
    "        self.output_file = output_file\n",
    "        try:\n",
    "            self.output_df = pd.read_csv(self.output_file, index_col=0)\n",
    "            self.output_df[\"date\"] = pd.to_datetime(self.output_df[\"date\"])\n",
    "        except FileNotFoundError:\n",
    "            self.output_df = pd.DataFrame(columns=[\n",
    "                \"target\",\n",
    "                \"target_mean\",\n",
    "                \"date\",\n",
    "                \"is_overfitted\",\n",
    "                \"roc_auc_train\",\n",
    "                \"roc_auc_test\",\n",
    "                \"roc_auc_val\",\n",
    "                \"accuracy_train\",\n",
    "                \"accuracy_test\",\n",
    "                \"accuracy_val\",\n",
    "                \"recall_train\",\n",
    "                \"recall_test\",\n",
    "                \"recall_val\",\n",
    "                \"precision_train\",\n",
    "                \"precision_test\",\n",
    "                \"precision_val\",\n",
    "                \"f1_score_train\",\n",
    "                \"f1_score_test\",\n",
    "                \"f1_score_val\",\n",
    "                \"model\"\n",
    "            ])\n",
    "\n",
    "    def append_new_evaluation(self, data: dict):\n",
    "        \"\"\"\n",
    "        Agrega un nuevo registro en memoria\n",
    "        :param data: metricas\n",
    "        \"\"\"\n",
    "        data[\"is_overfitted\"] = round(abs((data[\"roc_auc_train\"] - data[\"roc_auc_test\"])), 2) > 0\n",
    "        data[\"date\"] = datetime.now()\n",
    "        self.output_df = self.output_df.append(data, ignore_index=True)\n",
    "\n",
    "    def record_evaluation(self, target: str, model, X_train, y_train, X_test, y_test, X_val, y_val, target_mean):\n",
    "        \"\"\"\n",
    "        Registra las metricas de los resultados de una modelizacion\n",
    "        :param target: target\n",
    "        :param model: Modelo\n",
    "        :param X_train: dataset de train X\n",
    "        :param y_train: labels de train Y\n",
    "        :param X_test: dataset de test X\n",
    "        :param y_test: labels de test y\n",
    "        :param X_val: dataset de validacion X\n",
    "        :param y_val: labels de validacion y\n",
    "        :param target_mean: media global del target\n",
    "        :return: Todas las metricas guardadas\n",
    "        \"\"\"\n",
    "        train_metrics = get_metrics(model, X_train, y_train)\n",
    "        test_metrics = get_metrics(model, X_test, y_test)\n",
    "        val_metrics = get_metrics(model, X_val, y_val)\n",
    "        report_dict = {\n",
    "            \"target\": target,\n",
    "            \"roc_auc_train\": train_metrics[\"roc_auc\"],\n",
    "            \"roc_auc_test\": test_metrics[\"roc_auc\"],\n",
    "            \"roc_auc_val\": val_metrics[\"roc_auc\"],\n",
    "            \"accuracy_train\": train_metrics[\"accuracy\"],\n",
    "            \"accuracy_test\": test_metrics[\"accuracy\"],\n",
    "            \"accuracy_val\": val_metrics[\"accuracy\"],\n",
    "            \"recall_train\": train_metrics[\"recall\"],\n",
    "            \"recall_test\": test_metrics[\"recall\"],\n",
    "            \"recall_val\": val_metrics[\"recall\"],\n",
    "            \"precision_train\": train_metrics[\"precision\"],\n",
    "            \"precision_test\": test_metrics[\"precision\"],\n",
    "            \"precision_val\": val_metrics[\"precision\"],\n",
    "            \"f1_score_train\": train_metrics[\"f1_score\"],\n",
    "            \"f1_score_test\": test_metrics[\"f1_score\"],\n",
    "            \"f1_score_val\": val_metrics[\"f1_score\"],\n",
    "            \"target_mean\": target_mean,\n",
    "            \"model\": model\n",
    "        }\n",
    "        self.append_new_evaluation(report_dict)\n",
    "        return self.save_csv()\n",
    "\n",
    "    def save_csv(self):\n",
    "        \"\"\"\n",
    "        Guarda en csv los resultados de las evaluaciones\n",
    "        :return: Todas las metricas guardadas\n",
    "        \"\"\"\n",
    "        self.output_df.drop_duplicates(keep=\"last\", inplace=True)\n",
    "        self.output_df.to_csv(self.output_file)\n",
    "        return self.output_df\n",
    "\n",
    "reporter = Reporter(__MODEL_METRICS_REPORT_PATH__)"
   ],
   "metadata": {
    "collapsed": false,
    "pycharm": {
     "name": "#%%\n"
    }
   }
  },
  {
   "cell_type": "markdown",
   "source": [
    "## Functions"
   ],
   "metadata": {
    "collapsed": false,
    "pycharm": {
     "name": "#%% md\n"
    }
   }
  },
  {
   "cell_type": "code",
   "execution_count": 8,
   "outputs": [],
   "source": [
    "def hist_plot(dataframe: pd.DataFrame, target: str):\n",
    "    \"\"\"\n",
    "    Plotea un Histograma\n",
    "    :param dataframe: dataframe a mostrar\n",
    "    :param target: target\n",
    "    :return: value_counts del dataframe de entrada\n",
    "    \"\"\"\n",
    "    dataframe[target].hist()\n",
    "    plt.show()\n",
    "    print(target)\n",
    "    return dataframe[target].value_counts()\n",
    "\n",
    "\n",
    "def relation_with_target(dataframe: pd.DataFrame, field: str, target: str):\n",
    "    \"\"\"\n",
    "    Describe la relacion de una variable contra el target\n",
    "    usando un countplot y una pivot_table\n",
    "    :param dataframe: dataframe a evaluar\n",
    "    :param field: campo a contrastar con el target\n",
    "    :param target: target\n",
    "    :return: pivot table resumen\n",
    "    \"\"\"\n",
    "    plt.figure(figsize=(15, 5))\n",
    "    plt.xticks(rotation=90)\n",
    "    sns.countplot(data=dataframe, x=field, hue=target)\n",
    "    plt.show()\n",
    "    return dataframe.pivot_table(index=field, values=target, aggfunc=[len, sum, np.mean])\n",
    "\n",
    "\n",
    "def get_y_score(model, X, y) -> pd.DataFrame:\n",
    "    \"\"\"\n",
    "    Obtiene el predictproba\n",
    "    :param model: modelo\n",
    "    :param X: datos a evaluar\n",
    "    :param y: y para obtener los indices\n",
    "    :return: predict_proba dataframe\n",
    "    \"\"\"\n",
    "    return pd.DataFrame(model.predict_proba(X)[:, 1], index=y.index, columns=['score'])\n",
    "\n",
    "\n",
    "def get_metrics(model, X, y):\n",
    "    \"\"\"\n",
    "    Obtiene un diccionario con las metricas del modelo\n",
    "    :param model: modelo\n",
    "    :param X: datos a evaluar\n",
    "    :param y: y\n",
    "    :return: diccionario con metricas\n",
    "    \"\"\"\n",
    "    prediction = model.predict(X)\n",
    "    y_score = get_y_score(model, X, y)\n",
    "    return dict({\n",
    "        \"roc_auc\": roc_auc_score(y, y_score),\n",
    "        \"accuracy\": accuracy_score(y, prediction),\n",
    "        \"precision\": precision_score(y, prediction),\n",
    "        \"recall\": recall_score(y, prediction),\n",
    "        \"f1_score\": f1_score(y, prediction),\n",
    "    })"
   ],
   "metadata": {
    "collapsed": false,
    "pycharm": {
     "name": "#%%\n"
    }
   }
  },
  {
   "cell_type": "markdown",
   "source": [
    "## Filter data"
   ],
   "metadata": {
    "collapsed": false,
    "pycharm": {
     "name": "#%% md\n"
    }
   }
  },
  {
   "cell_type": "code",
   "execution_count": 9,
   "outputs": [
    {
     "data": {
      "text/plain": "         pk_cid  em_acount pk_partition  active_customer  region_code  gender  \\\n0         15891          1   2018-07-28                1           28       1   \n1         15891          0   2018-08-28                0           28       1   \n2         16063          0   2018-11-28                1           28       1   \n3         16203          0   2018-12-28                0            8       0   \n4         16203          1   2019-01-28                1            8       0   \n...         ...        ...          ...              ...          ...     ...   \n520979  1553685          0   2019-05-28                0           13       0   \n520980  1553686          0   2019-05-28                0           41       1   \n520981  1553687          0   2019-05-28                0           28       0   \n520982  1553688          0   2019-05-28                0           39       1   \n520983  1553689          0   2019-05-28                0           21       0   \n\n        age  deceased  short_term_deposit  loans  ...  country_id_PL  \\\n0        59         0                   0      0  ...              0   \n1        59         0                   0      0  ...              0   \n2        62         0                   0      0  ...              0   \n3        70         0                   0      0  ...              0   \n4        70         0                   0      0  ...              0   \n...     ...       ...                 ...    ...  ...            ...   \n520979   52         0                   0      0  ...              0   \n520980   30         0                   0      0  ...              0   \n520981   21         0                   0      0  ...              0   \n520982   43         0                   0      0  ...              0   \n520983   40         0                   0      0  ...              0   \n\n        country_id_PT  country_id_QA  country_id_RO  country_id_RU  \\\n0                   0              0              0              0   \n1                   0              0              0              0   \n2                   0              0              0              0   \n3                   0              0              0              0   \n4                   0              0              0              0   \n...               ...            ...            ...            ...   \n520979              0              0              0              0   \n520980              0              0              0              0   \n520981              0              0              0              0   \n520982              0              0              0              0   \n520983              0              0              0              0   \n\n        country_id_SA  country_id_SE  country_id_SN  country_id_US  \\\n0                   0              0              0              0   \n1                   0              0              0              0   \n2                   0              0              0              0   \n3                   0              0              0              0   \n4                   0              0              0              0   \n...               ...            ...            ...            ...   \n520979              0              0              0              0   \n520980              0              0              0              0   \n520981              0              0              0              0   \n520982              0              0              0              0   \n520983              0              0              0              0   \n\n        country_id_VE  \n0                   0  \n1                   0  \n2                   0  \n3                   0  \n4                   0  \n...               ...  \n520979              0  \n520980              0  \n520981              0  \n520982              0  \n520983              0  \n\n[520984 rows x 143 columns]",
      "text/html": "<div>\n<style scoped>\n    .dataframe tbody tr th:only-of-type {\n        vertical-align: middle;\n    }\n\n    .dataframe tbody tr th {\n        vertical-align: top;\n    }\n\n    .dataframe thead th {\n        text-align: right;\n    }\n</style>\n<table border=\"1\" class=\"dataframe\">\n  <thead>\n    <tr style=\"text-align: right;\">\n      <th></th>\n      <th>pk_cid</th>\n      <th>em_acount</th>\n      <th>pk_partition</th>\n      <th>active_customer</th>\n      <th>region_code</th>\n      <th>gender</th>\n      <th>age</th>\n      <th>deceased</th>\n      <th>short_term_deposit</th>\n      <th>loans</th>\n      <th>...</th>\n      <th>country_id_PL</th>\n      <th>country_id_PT</th>\n      <th>country_id_QA</th>\n      <th>country_id_RO</th>\n      <th>country_id_RU</th>\n      <th>country_id_SA</th>\n      <th>country_id_SE</th>\n      <th>country_id_SN</th>\n      <th>country_id_US</th>\n      <th>country_id_VE</th>\n    </tr>\n  </thead>\n  <tbody>\n    <tr>\n      <th>0</th>\n      <td>15891</td>\n      <td>1</td>\n      <td>2018-07-28</td>\n      <td>1</td>\n      <td>28</td>\n      <td>1</td>\n      <td>59</td>\n      <td>0</td>\n      <td>0</td>\n      <td>0</td>\n      <td>...</td>\n      <td>0</td>\n      <td>0</td>\n      <td>0</td>\n      <td>0</td>\n      <td>0</td>\n      <td>0</td>\n      <td>0</td>\n      <td>0</td>\n      <td>0</td>\n      <td>0</td>\n    </tr>\n    <tr>\n      <th>1</th>\n      <td>15891</td>\n      <td>0</td>\n      <td>2018-08-28</td>\n      <td>0</td>\n      <td>28</td>\n      <td>1</td>\n      <td>59</td>\n      <td>0</td>\n      <td>0</td>\n      <td>0</td>\n      <td>...</td>\n      <td>0</td>\n      <td>0</td>\n      <td>0</td>\n      <td>0</td>\n      <td>0</td>\n      <td>0</td>\n      <td>0</td>\n      <td>0</td>\n      <td>0</td>\n      <td>0</td>\n    </tr>\n    <tr>\n      <th>2</th>\n      <td>16063</td>\n      <td>0</td>\n      <td>2018-11-28</td>\n      <td>1</td>\n      <td>28</td>\n      <td>1</td>\n      <td>62</td>\n      <td>0</td>\n      <td>0</td>\n      <td>0</td>\n      <td>...</td>\n      <td>0</td>\n      <td>0</td>\n      <td>0</td>\n      <td>0</td>\n      <td>0</td>\n      <td>0</td>\n      <td>0</td>\n      <td>0</td>\n      <td>0</td>\n      <td>0</td>\n    </tr>\n    <tr>\n      <th>3</th>\n      <td>16203</td>\n      <td>0</td>\n      <td>2018-12-28</td>\n      <td>0</td>\n      <td>8</td>\n      <td>0</td>\n      <td>70</td>\n      <td>0</td>\n      <td>0</td>\n      <td>0</td>\n      <td>...</td>\n      <td>0</td>\n      <td>0</td>\n      <td>0</td>\n      <td>0</td>\n      <td>0</td>\n      <td>0</td>\n      <td>0</td>\n      <td>0</td>\n      <td>0</td>\n      <td>0</td>\n    </tr>\n    <tr>\n      <th>4</th>\n      <td>16203</td>\n      <td>1</td>\n      <td>2019-01-28</td>\n      <td>1</td>\n      <td>8</td>\n      <td>0</td>\n      <td>70</td>\n      <td>0</td>\n      <td>0</td>\n      <td>0</td>\n      <td>...</td>\n      <td>0</td>\n      <td>0</td>\n      <td>0</td>\n      <td>0</td>\n      <td>0</td>\n      <td>0</td>\n      <td>0</td>\n      <td>0</td>\n      <td>0</td>\n      <td>0</td>\n    </tr>\n    <tr>\n      <th>...</th>\n      <td>...</td>\n      <td>...</td>\n      <td>...</td>\n      <td>...</td>\n      <td>...</td>\n      <td>...</td>\n      <td>...</td>\n      <td>...</td>\n      <td>...</td>\n      <td>...</td>\n      <td>...</td>\n      <td>...</td>\n      <td>...</td>\n      <td>...</td>\n      <td>...</td>\n      <td>...</td>\n      <td>...</td>\n      <td>...</td>\n      <td>...</td>\n      <td>...</td>\n      <td>...</td>\n    </tr>\n    <tr>\n      <th>520979</th>\n      <td>1553685</td>\n      <td>0</td>\n      <td>2019-05-28</td>\n      <td>0</td>\n      <td>13</td>\n      <td>0</td>\n      <td>52</td>\n      <td>0</td>\n      <td>0</td>\n      <td>0</td>\n      <td>...</td>\n      <td>0</td>\n      <td>0</td>\n      <td>0</td>\n      <td>0</td>\n      <td>0</td>\n      <td>0</td>\n      <td>0</td>\n      <td>0</td>\n      <td>0</td>\n      <td>0</td>\n    </tr>\n    <tr>\n      <th>520980</th>\n      <td>1553686</td>\n      <td>0</td>\n      <td>2019-05-28</td>\n      <td>0</td>\n      <td>41</td>\n      <td>1</td>\n      <td>30</td>\n      <td>0</td>\n      <td>0</td>\n      <td>0</td>\n      <td>...</td>\n      <td>0</td>\n      <td>0</td>\n      <td>0</td>\n      <td>0</td>\n      <td>0</td>\n      <td>0</td>\n      <td>0</td>\n      <td>0</td>\n      <td>0</td>\n      <td>0</td>\n    </tr>\n    <tr>\n      <th>520981</th>\n      <td>1553687</td>\n      <td>0</td>\n      <td>2019-05-28</td>\n      <td>0</td>\n      <td>28</td>\n      <td>0</td>\n      <td>21</td>\n      <td>0</td>\n      <td>0</td>\n      <td>0</td>\n      <td>...</td>\n      <td>0</td>\n      <td>0</td>\n      <td>0</td>\n      <td>0</td>\n      <td>0</td>\n      <td>0</td>\n      <td>0</td>\n      <td>0</td>\n      <td>0</td>\n      <td>0</td>\n    </tr>\n    <tr>\n      <th>520982</th>\n      <td>1553688</td>\n      <td>0</td>\n      <td>2019-05-28</td>\n      <td>0</td>\n      <td>39</td>\n      <td>1</td>\n      <td>43</td>\n      <td>0</td>\n      <td>0</td>\n      <td>0</td>\n      <td>...</td>\n      <td>0</td>\n      <td>0</td>\n      <td>0</td>\n      <td>0</td>\n      <td>0</td>\n      <td>0</td>\n      <td>0</td>\n      <td>0</td>\n      <td>0</td>\n      <td>0</td>\n    </tr>\n    <tr>\n      <th>520983</th>\n      <td>1553689</td>\n      <td>0</td>\n      <td>2019-05-28</td>\n      <td>0</td>\n      <td>21</td>\n      <td>0</td>\n      <td>40</td>\n      <td>0</td>\n      <td>0</td>\n      <td>0</td>\n      <td>...</td>\n      <td>0</td>\n      <td>0</td>\n      <td>0</td>\n      <td>0</td>\n      <td>0</td>\n      <td>0</td>\n      <td>0</td>\n      <td>0</td>\n      <td>0</td>\n      <td>0</td>\n    </tr>\n  </tbody>\n</table>\n<p>520984 rows × 143 columns</p>\n</div>"
     },
     "execution_count": 9,
     "metadata": {},
     "output_type": "execute_result"
    }
   ],
   "source": [
    "filter = EasyMoneyFilter(TARGET)\n",
    "df_prep = filter.fit_transform(df)\n",
    "df_prep"
   ],
   "metadata": {
    "collapsed": false,
    "pycharm": {
     "name": "#%%\n"
    }
   }
  },
  {
   "cell_type": "markdown",
   "source": [
    "## Target distribution"
   ],
   "metadata": {
    "collapsed": false,
    "pycharm": {
     "name": "#%% md\n"
    }
   }
  },
  {
   "cell_type": "code",
   "execution_count": 10,
   "outputs": [
    {
     "data": {
      "text/plain": "                    count          mean            std      min         25%  \\\npk_cid           520984.0  1.281442e+06  179949.661207  15891.0  1149646.75   \nem_acount        520984.0  6.386511e-01       0.480392      0.0        0.00   \nactive_customer  520984.0  4.055288e-01       0.490995      0.0        0.00   \nregion_code      520984.0  2.593325e+01      13.529171     -1.0       13.00   \ngender           520984.0  5.051211e-01       0.499974      0.0        0.00   \n...                   ...           ...            ...      ...         ...   \ncountry_id_SA    520984.0  3.838889e-06       0.001959      0.0        0.00   \ncountry_id_SE    520984.0  5.758334e-06       0.002400      0.0        0.00   \ncountry_id_SN    520984.0  1.919445e-06       0.001385      0.0        0.00   \ncountry_id_US    520984.0  2.687223e-05       0.005184      0.0        0.00   \ncountry_id_VE    520984.0  9.597224e-06       0.003098      0.0        0.00   \n\n                       50%         75%        max  \npk_cid           1295741.0  1428945.25  1553689.0  \nem_acount              1.0        1.00        1.0  \nactive_customer        0.0        1.00        1.0  \nregion_code           28.0       36.00       52.0  \ngender                 1.0        1.00        1.0  \n...                    ...         ...        ...  \ncountry_id_SA          0.0        0.00        1.0  \ncountry_id_SE          0.0        0.00        1.0  \ncountry_id_SN          0.0        0.00        1.0  \ncountry_id_US          0.0        0.00        1.0  \ncountry_id_VE          0.0        0.00        1.0  \n\n[142 rows x 8 columns]",
      "text/html": "<div>\n<style scoped>\n    .dataframe tbody tr th:only-of-type {\n        vertical-align: middle;\n    }\n\n    .dataframe tbody tr th {\n        vertical-align: top;\n    }\n\n    .dataframe thead th {\n        text-align: right;\n    }\n</style>\n<table border=\"1\" class=\"dataframe\">\n  <thead>\n    <tr style=\"text-align: right;\">\n      <th></th>\n      <th>count</th>\n      <th>mean</th>\n      <th>std</th>\n      <th>min</th>\n      <th>25%</th>\n      <th>50%</th>\n      <th>75%</th>\n      <th>max</th>\n    </tr>\n  </thead>\n  <tbody>\n    <tr>\n      <th>pk_cid</th>\n      <td>520984.0</td>\n      <td>1.281442e+06</td>\n      <td>179949.661207</td>\n      <td>15891.0</td>\n      <td>1149646.75</td>\n      <td>1295741.0</td>\n      <td>1428945.25</td>\n      <td>1553689.0</td>\n    </tr>\n    <tr>\n      <th>em_acount</th>\n      <td>520984.0</td>\n      <td>6.386511e-01</td>\n      <td>0.480392</td>\n      <td>0.0</td>\n      <td>0.00</td>\n      <td>1.0</td>\n      <td>1.00</td>\n      <td>1.0</td>\n    </tr>\n    <tr>\n      <th>active_customer</th>\n      <td>520984.0</td>\n      <td>4.055288e-01</td>\n      <td>0.490995</td>\n      <td>0.0</td>\n      <td>0.00</td>\n      <td>0.0</td>\n      <td>1.00</td>\n      <td>1.0</td>\n    </tr>\n    <tr>\n      <th>region_code</th>\n      <td>520984.0</td>\n      <td>2.593325e+01</td>\n      <td>13.529171</td>\n      <td>-1.0</td>\n      <td>13.00</td>\n      <td>28.0</td>\n      <td>36.00</td>\n      <td>52.0</td>\n    </tr>\n    <tr>\n      <th>gender</th>\n      <td>520984.0</td>\n      <td>5.051211e-01</td>\n      <td>0.499974</td>\n      <td>0.0</td>\n      <td>0.00</td>\n      <td>1.0</td>\n      <td>1.00</td>\n      <td>1.0</td>\n    </tr>\n    <tr>\n      <th>...</th>\n      <td>...</td>\n      <td>...</td>\n      <td>...</td>\n      <td>...</td>\n      <td>...</td>\n      <td>...</td>\n      <td>...</td>\n      <td>...</td>\n    </tr>\n    <tr>\n      <th>country_id_SA</th>\n      <td>520984.0</td>\n      <td>3.838889e-06</td>\n      <td>0.001959</td>\n      <td>0.0</td>\n      <td>0.00</td>\n      <td>0.0</td>\n      <td>0.00</td>\n      <td>1.0</td>\n    </tr>\n    <tr>\n      <th>country_id_SE</th>\n      <td>520984.0</td>\n      <td>5.758334e-06</td>\n      <td>0.002400</td>\n      <td>0.0</td>\n      <td>0.00</td>\n      <td>0.0</td>\n      <td>0.00</td>\n      <td>1.0</td>\n    </tr>\n    <tr>\n      <th>country_id_SN</th>\n      <td>520984.0</td>\n      <td>1.919445e-06</td>\n      <td>0.001385</td>\n      <td>0.0</td>\n      <td>0.00</td>\n      <td>0.0</td>\n      <td>0.00</td>\n      <td>1.0</td>\n    </tr>\n    <tr>\n      <th>country_id_US</th>\n      <td>520984.0</td>\n      <td>2.687223e-05</td>\n      <td>0.005184</td>\n      <td>0.0</td>\n      <td>0.00</td>\n      <td>0.0</td>\n      <td>0.00</td>\n      <td>1.0</td>\n    </tr>\n    <tr>\n      <th>country_id_VE</th>\n      <td>520984.0</td>\n      <td>9.597224e-06</td>\n      <td>0.003098</td>\n      <td>0.0</td>\n      <td>0.00</td>\n      <td>0.0</td>\n      <td>0.00</td>\n      <td>1.0</td>\n    </tr>\n  </tbody>\n</table>\n<p>142 rows × 8 columns</p>\n</div>"
     },
     "execution_count": 10,
     "metadata": {},
     "output_type": "execute_result"
    }
   ],
   "source": [
    "df_prep.describe().T"
   ],
   "metadata": {
    "collapsed": false,
    "pycharm": {
     "name": "#%%\n"
    }
   }
  },
  {
   "cell_type": "code",
   "execution_count": 11,
   "outputs": [
    {
     "data": {
      "text/plain": "<Figure size 432x288 with 1 Axes>",
      "image/png": "[encoded data removed]"
     },
     "metadata": {
      "needs_background": "light"
     },
     "output_type": "display_data"
    },
    {
     "name": "stdout",
     "output_type": "stream",
     "text": [
      "em_acount\n"
     ]
    },
    {
     "data": {
      "text/plain": "1    332727\n0    188257\nName: em_acount, dtype: int64"
     },
     "execution_count": 11,
     "metadata": {},
     "output_type": "execute_result"
    }
   ],
   "source": [
    "hist_plot(df_prep, TARGET)"
   ],
   "metadata": {
    "collapsed": false,
    "pycharm": {
     "name": "#%%\n"
    }
   }
  },
  {
   "cell_type": "code",
   "execution_count": 12,
   "outputs": [
    {
     "data": {
      "text/plain": "<AxesSubplot:xlabel='em_acount', ylabel='age'>"
     },
     "execution_count": 12,
     "metadata": {},
     "output_type": "execute_result"
    },
    {
     "data": {
      "text/plain": "<Figure size 432x288 with 1 Axes>",
      "image/png": "[encoded data removed]"
     },
     "metadata": {
      "needs_background": "light"
     },
     "output_type": "display_data"
    }
   ],
   "source": [
    "sns.boxplot(data=df_prep, x=TARGET, y=\"age\")"
   ],
   "metadata": {
    "collapsed": false,
    "pycharm": {
     "name": "#%%\n"
    }
   }
  },
  {
   "cell_type": "code",
   "execution_count": 13,
   "outputs": [
    {
     "data": {
      "text/plain": "<AxesSubplot:xlabel='em_acount', ylabel='active_customer'>"
     },
     "execution_count": 13,
     "metadata": {},
     "output_type": "execute_result"
    },
    {
     "data": {
      "text/plain": "<Figure size 432x288 with 1 Axes>",
      "image/png": "[encoded data removed]"
     },
     "metadata": {
      "needs_background": "light"
     },
     "output_type": "display_data"
    }
   ],
   "source": [
    "sns.boxplot(data=df_prep, x=TARGET, y=\"active_customer\")"
   ],
   "metadata": {
    "collapsed": false,
    "pycharm": {
     "name": "#%%\n"
    }
   }
  },
  {
   "cell_type": "code",
   "execution_count": 14,
   "outputs": [
    {
     "data": {
      "text/plain": "<Figure size 1080x360 with 1 Axes>",
      "image/png": "[encoded data removed]"
     },
     "metadata": {
      "needs_background": "light"
     },
     "output_type": "display_data"
    },
    {
     "data": {
      "text/plain": "                   len       sum      mean\n             em_acount em_acount em_acount\npk_partition                              \n2018-01-28      217649    215293  0.989175\n2018-02-28        6589      4156  0.630748\n2018-03-28        5901      3520  0.596509\n2018-04-28        5504      3003  0.545603\n2018-05-28        5560      3066  0.551439\n2018-06-28        6958      4711  0.677062\n2018-07-28       25556     12439  0.486735\n2018-08-28       25714     14129  0.549467\n2018-09-28       30939     17513  0.566049\n2018-10-28       33450     18988  0.567653\n2018-11-28       25633     10517  0.410291\n2018-12-28       21485      6223  0.289644\n2019-01-28       20757      5137  0.247483\n2019-02-28       20720      3952  0.190734\n2019-03-28       21731      4210  0.193732\n2019-04-28       21721      3012  0.138668\n2019-05-28       25117      2858  0.113787",
      "text/html": "<div>\n<style scoped>\n    .dataframe tbody tr th:only-of-type {\n        vertical-align: middle;\n    }\n\n    .dataframe tbody tr th {\n        vertical-align: top;\n    }\n\n    .dataframe thead tr th {\n        text-align: left;\n    }\n\n    .dataframe thead tr:last-of-type th {\n        text-align: right;\n    }\n</style>\n<table border=\"1\" class=\"dataframe\">\n  <thead>\n    <tr>\n      <th></th>\n      <th>len</th>\n      <th>sum</th>\n      <th>mean</th>\n    </tr>\n    <tr>\n      <th></th>\n      <th>em_acount</th>\n      <th>em_acount</th>\n      <th>em_acount</th>\n    </tr>\n    <tr>\n      <th>pk_partition</th>\n      <th></th>\n      <th></th>\n      <th></th>\n    </tr>\n  </thead>\n  <tbody>\n    <tr>\n      <th>2018-01-28</th>\n      <td>217649</td>\n      <td>215293</td>\n      <td>0.989175</td>\n    </tr>\n    <tr>\n      <th>2018-02-28</th>\n      <td>6589</td>\n      <td>4156</td>\n      <td>0.630748</td>\n    </tr>\n    <tr>\n      <th>2018-03-28</th>\n      <td>5901</td>\n      <td>3520</td>\n      <td>0.596509</td>\n    </tr>\n    <tr>\n      <th>2018-04-28</th>\n      <td>5504</td>\n      <td>3003</td>\n      <td>0.545603</td>\n    </tr>\n    <tr>\n      <th>2018-05-28</th>\n      <td>5560</td>\n      <td>3066</td>\n      <td>0.551439</td>\n    </tr>\n    <tr>\n      <th>2018-06-28</th>\n      <td>6958</td>\n      <td>4711</td>\n      <td>0.677062</td>\n    </tr>\n    <tr>\n      <th>2018-07-28</th>\n      <td>25556</td>\n      <td>12439</td>\n      <td>0.486735</td>\n    </tr>\n    <tr>\n      <th>2018-08-28</th>\n      <td>25714</td>\n      <td>14129</td>\n      <td>0.549467</td>\n    </tr>\n    <tr>\n      <th>2018-09-28</th>\n      <td>30939</td>\n      <td>17513</td>\n      <td>0.566049</td>\n    </tr>\n    <tr>\n      <th>2018-10-28</th>\n      <td>33450</td>\n      <td>18988</td>\n      <td>0.567653</td>\n    </tr>\n    <tr>\n      <th>2018-11-28</th>\n      <td>25633</td>\n      <td>10517</td>\n      <td>0.410291</td>\n    </tr>\n    <tr>\n      <th>2018-12-28</th>\n      <td>21485</td>\n      <td>6223</td>\n      <td>0.289644</td>\n    </tr>\n    <tr>\n      <th>2019-01-28</th>\n      <td>20757</td>\n      <td>5137</td>\n      <td>0.247483</td>\n    </tr>\n    <tr>\n      <th>2019-02-28</th>\n      <td>20720</td>\n      <td>3952</td>\n      <td>0.190734</td>\n    </tr>\n    <tr>\n      <th>2019-03-28</th>\n      <td>21731</td>\n      <td>4210</td>\n      <td>0.193732</td>\n    </tr>\n    <tr>\n      <th>2019-04-28</th>\n      <td>21721</td>\n      <td>3012</td>\n      <td>0.138668</td>\n    </tr>\n    <tr>\n      <th>2019-05-28</th>\n      <td>25117</td>\n      <td>2858</td>\n      <td>0.113787</td>\n    </tr>\n  </tbody>\n</table>\n</div>"
     },
     "execution_count": 14,
     "metadata": {},
     "output_type": "execute_result"
    }
   ],
   "source": [
    "relation_with_target(df_prep, \"pk_partition\", TARGET)"
   ],
   "metadata": {
    "collapsed": false,
    "pycharm": {
     "name": "#%%\n"
    }
   }
  },
  {
   "cell_type": "code",
   "execution_count": 15,
   "outputs": [
    {
     "data": {
      "text/plain": "<Figure size 1080x360 with 1 Axes>",
      "image/png": "[encoded data removed]"
     },
     "metadata": {
      "needs_background": "light"
     },
     "output_type": "display_data"
    },
    {
     "data": {
      "text/plain": "                  len       sum      mean\n            em_acount em_acount em_acount\nregion_code                              \n-1                173       105  0.606936\n 1               1281       733  0.572209\n 2               5968      4462  0.747654\n 3              15853     10285  0.648773\n 4               3123      1770  0.566763\n 5               1785      1244  0.696919\n 6               9558      7205  0.753819\n 7               6063      3703  0.610754\n 8              51751     29934  0.578424\n 9               4120      2907  0.705583\n 10              6380      5030  0.788401\n 11             13164      9364  0.711334\n 12              5696      4013  0.704529\n 13              5782      4195  0.725527\n 14              6518      4615  0.708039\n 15             20208     15764  0.780087\n 16              2786      2200  0.789663\n 17              4234      2616  0.617855\n 18              8718      5508  0.631796\n 19              2667      1048  0.392951\n 20              1839      1037  0.563893\n 21              5646      4148  0.734679\n 22              1825      1311  0.718356\n 23              2912      1760  0.604396\n 24              3278      2120  0.646736\n 25              3752      2681  0.714552\n 26              3027      2158  0.712917\n 27              4142      3251  0.784887\n 28            114813     53830  0.468849\n 29             15520     10598  0.682861\n 30             24080     18261  0.758347\n 31              2704      1763  0.651997\n 32              4278      3359  0.785180\n 33             11286      8472  0.750665\n 34              2312      1669  0.721886\n 35             10912      7583  0.694923\n 36             14080     10972  0.779261\n 37              7507      5817  0.774877\n 38              3122      1538  0.492633\n 39              6414      4329  0.674930\n 40              1877      1182  0.629728\n 41             24433     16649  0.681414\n 42               812       580  0.714286\n 43              5364      3337  0.622110\n 44              1042       800  0.767754\n 45              8884      5858  0.659388\n 46             31628     21537  0.680947\n 47              9698      7001  0.721901\n 48              3577      1958  0.547386\n 49              2537      1921  0.757194\n 50             11327      8258  0.729054\n 51               289       150  0.519031\n 52               239       138  0.577406",
      "text/html": "<div>\n<style scoped>\n    .dataframe tbody tr th:only-of-type {\n        vertical-align: middle;\n    }\n\n    .dataframe tbody tr th {\n        vertical-align: top;\n    }\n\n    .dataframe thead tr th {\n        text-align: left;\n    }\n\n    .dataframe thead tr:last-of-type th {\n        text-align: right;\n    }\n</style>\n<table border=\"1\" class=\"dataframe\">\n  <thead>\n    <tr>\n      <th></th>\n      <th>len</th>\n      <th>sum</th>\n      <th>mean</th>\n    </tr>\n    <tr>\n      <th></th>\n      <th>em_acount</th>\n      <th>em_acount</th>\n      <th>em_acount</th>\n    </tr>\n    <tr>\n      <th>region_code</th>\n      <th></th>\n      <th></th>\n      <th></th>\n    </tr>\n  </thead>\n  <tbody>\n    <tr>\n      <th>-1</th>\n      <td>173</td>\n      <td>105</td>\n      <td>0.606936</td>\n    </tr>\n    <tr>\n      <th>1</th>\n      <td>1281</td>\n      <td>733</td>\n      <td>0.572209</td>\n    </tr>\n    <tr>\n      <th>2</th>\n      <td>5968</td>\n      <td>4462</td>\n      <td>0.747654</td>\n    </tr>\n    <tr>\n      <th>3</th>\n      <td>15853</td>\n      <td>10285</td>\n      <td>0.648773</td>\n    </tr>\n    <tr>\n      <th>4</th>\n      <td>3123</td>\n      <td>1770</td>\n      <td>0.566763</td>\n    </tr>\n    <tr>\n      <th>5</th>\n      <td>1785</td>\n      <td>1244</td>\n      <td>0.696919</td>\n    </tr>\n    <tr>\n      <th>6</th>\n      <td>9558</td>\n      <td>7205</td>\n      <td>0.753819</td>\n    </tr>\n    <tr>\n      <th>7</th>\n      <td>6063</td>\n      <td>3703</td>\n      <td>0.610754</td>\n    </tr>\n    <tr>\n      <th>8</th>\n      <td>51751</td>\n      <td>29934</td>\n      <td>0.578424</td>\n    </tr>\n    <tr>\n      <th>9</th>\n      <td>4120</td>\n      <td>2907</td>\n      <td>0.705583</td>\n    </tr>\n    <tr>\n      <th>10</th>\n      <td>6380</td>\n      <td>5030</td>\n      <td>0.788401</td>\n    </tr>\n    <tr>\n      <th>11</th>\n      <td>13164</td>\n      <td>9364</td>\n      <td>0.711334</td>\n    </tr>\n    <tr>\n      <th>12</th>\n      <td>5696</td>\n      <td>4013</td>\n      <td>0.704529</td>\n    </tr>\n    <tr>\n      <th>13</th>\n      <td>5782</td>\n      <td>4195</td>\n      <td>0.725527</td>\n    </tr>\n    <tr>\n      <th>14</th>\n      <td>6518</td>\n      <td>4615</td>\n      <td>0.708039</td>\n    </tr>\n    <tr>\n      <th>15</th>\n      <td>20208</td>\n      <td>15764</td>\n      <td>0.780087</td>\n    </tr>\n    <tr>\n      <th>16</th>\n      <td>2786</td>\n      <td>2200</td>\n      <td>0.789663</td>\n    </tr>\n    <tr>\n      <th>17</th>\n      <td>4234</td>\n      <td>2616</td>\n      <td>0.617855</td>\n    </tr>\n    <tr>\n      <th>18</th>\n      <td>8718</td>\n      <td>5508</td>\n      <td>0.631796</td>\n    </tr>\n    <tr>\n      <th>19</th>\n      <td>2667</td>\n      <td>1048</td>\n      <td>0.392951</td>\n    </tr>\n    <tr>\n      <th>20</th>\n      <td>1839</td>\n      <td>1037</td>\n      <td>0.563893</td>\n    </tr>\n    <tr>\n      <th>21</th>\n      <td>5646</td>\n      <td>4148</td>\n      <td>0.734679</td>\n    </tr>\n    <tr>\n      <th>22</th>\n      <td>1825</td>\n      <td>1311</td>\n      <td>0.718356</td>\n    </tr>\n    <tr>\n      <th>23</th>\n      <td>2912</td>\n      <td>1760</td>\n      <td>0.604396</td>\n    </tr>\n    <tr>\n      <th>24</th>\n      <td>3278</td>\n      <td>2120</td>\n      <td>0.646736</td>\n    </tr>\n    <tr>\n      <th>25</th>\n      <td>3752</td>\n      <td>2681</td>\n      <td>0.714552</td>\n    </tr>\n    <tr>\n      <th>26</th>\n      <td>3027</td>\n      <td>2158</td>\n      <td>0.712917</td>\n    </tr>\n    <tr>\n      <th>27</th>\n      <td>4142</td>\n      <td>3251</td>\n      <td>0.784887</td>\n    </tr>\n    <tr>\n      <th>28</th>\n      <td>114813</td>\n      <td>53830</td>\n      <td>0.468849</td>\n    </tr>\n    <tr>\n      <th>29</th>\n      <td>15520</td>\n      <td>10598</td>\n      <td>0.682861</td>\n    </tr>\n    <tr>\n      <th>30</th>\n      <td>24080</td>\n      <td>18261</td>\n      <td>0.758347</td>\n    </tr>\n    <tr>\n      <th>31</th>\n      <td>2704</td>\n      <td>1763</td>\n      <td>0.651997</td>\n    </tr>\n    <tr>\n      <th>32</th>\n      <td>4278</td>\n      <td>3359</td>\n      <td>0.785180</td>\n    </tr>\n    <tr>\n      <th>33</th>\n      <td>11286</td>\n      <td>8472</td>\n      <td>0.750665</td>\n    </tr>\n    <tr>\n      <th>34</th>\n      <td>2312</td>\n      <td>1669</td>\n      <td>0.721886</td>\n    </tr>\n    <tr>\n      <th>35</th>\n      <td>10912</td>\n      <td>7583</td>\n      <td>0.694923</td>\n    </tr>\n    <tr>\n      <th>36</th>\n      <td>14080</td>\n      <td>10972</td>\n      <td>0.779261</td>\n    </tr>\n    <tr>\n      <th>37</th>\n      <td>7507</td>\n      <td>5817</td>\n      <td>0.774877</td>\n    </tr>\n    <tr>\n      <th>38</th>\n      <td>3122</td>\n      <td>1538</td>\n      <td>0.492633</td>\n    </tr>\n    <tr>\n      <th>39</th>\n      <td>6414</td>\n      <td>4329</td>\n      <td>0.674930</td>\n    </tr>\n    <tr>\n      <th>40</th>\n      <td>1877</td>\n      <td>1182</td>\n      <td>0.629728</td>\n    </tr>\n    <tr>\n      <th>41</th>\n      <td>24433</td>\n      <td>16649</td>\n      <td>0.681414</td>\n    </tr>\n    <tr>\n      <th>42</th>\n      <td>812</td>\n      <td>580</td>\n      <td>0.714286</td>\n    </tr>\n    <tr>\n      <th>43</th>\n      <td>5364</td>\n      <td>3337</td>\n      <td>0.622110</td>\n    </tr>\n    <tr>\n      <th>44</th>\n      <td>1042</td>\n      <td>800</td>\n      <td>0.767754</td>\n    </tr>\n    <tr>\n      <th>45</th>\n      <td>8884</td>\n      <td>5858</td>\n      <td>0.659388</td>\n    </tr>\n    <tr>\n      <th>46</th>\n      <td>31628</td>\n      <td>21537</td>\n      <td>0.680947</td>\n    </tr>\n    <tr>\n      <th>47</th>\n      <td>9698</td>\n      <td>7001</td>\n      <td>0.721901</td>\n    </tr>\n    <tr>\n      <th>48</th>\n      <td>3577</td>\n      <td>1958</td>\n      <td>0.547386</td>\n    </tr>\n    <tr>\n      <th>49</th>\n      <td>2537</td>\n      <td>1921</td>\n      <td>0.757194</td>\n    </tr>\n    <tr>\n      <th>50</th>\n      <td>11327</td>\n      <td>8258</td>\n      <td>0.729054</td>\n    </tr>\n    <tr>\n      <th>51</th>\n      <td>289</td>\n      <td>150</td>\n      <td>0.519031</td>\n    </tr>\n    <tr>\n      <th>52</th>\n      <td>239</td>\n      <td>138</td>\n      <td>0.577406</td>\n    </tr>\n  </tbody>\n</table>\n</div>"
     },
     "execution_count": 15,
     "metadata": {},
     "output_type": "execute_result"
    }
   ],
   "source": [
    "relation_with_target(df_prep, \"region_code\", TARGET)"
   ],
   "metadata": {
    "collapsed": false,
    "pycharm": {
     "name": "#%%\n"
    }
   }
  },
  {
   "cell_type": "markdown",
   "source": [
    "## Split dataframes"
   ],
   "metadata": {
    "collapsed": false,
    "pycharm": {
     "name": "#%% md\n"
    }
   }
  },
  {
   "cell_type": "code",
   "execution_count": 16,
   "outputs": [],
   "source": [
    "splitter = EasyMoneySplitter(DEV_PARTITION_PERIOD, VAL_PARTITION_PERIOD, EXCLUDE_COLUMNS)"
   ],
   "metadata": {
    "collapsed": false,
    "pycharm": {
     "name": "#%%\n"
    }
   }
  },
  {
   "cell_type": "markdown",
   "source": [
    "### Train partition\n",
    "\n",
    "Distribucion del target en el set de partition"
   ],
   "metadata": {
    "collapsed": false,
    "pycharm": {
     "name": "#%% md\n"
    }
   }
  },
  {
   "cell_type": "code",
   "execution_count": 17,
   "outputs": [
    {
     "data": {
      "text/plain": "<Figure size 432x288 with 1 Axes>",
      "image/png": "[encoded data removed]"
     },
     "metadata": {
      "needs_background": "light"
     },
     "output_type": "display_data"
    },
    {
     "name": "stdout",
     "output_type": "stream",
     "text": [
      "em_acount\n"
     ]
    },
    {
     "data": {
      "text/plain": "1    322647\n0    129768\nName: em_acount, dtype: int64"
     },
     "execution_count": 17,
     "metadata": {},
     "output_type": "execute_result"
    }
   ],
   "source": [
    "train_df = splitter.get_train_partition(df_prep)\n",
    "train_size_df = hist_plot(train_df, TARGET)\n",
    "train_size_df"
   ],
   "metadata": {
    "collapsed": false,
    "pycharm": {
     "name": "#%%\n"
    }
   }
  },
  {
   "cell_type": "markdown",
   "source": [
    "### Validation partition\n",
    "\n",
    "Distribucion del target en el set de validacion"
   ],
   "metadata": {
    "collapsed": false,
    "pycharm": {
     "name": "#%% md\n"
    }
   }
  },
  {
   "cell_type": "code",
   "execution_count": 18,
   "outputs": [
    {
     "data": {
      "text/plain": "<Figure size 432x288 with 1 Axes>",
      "image/png": "[encoded data removed]"
     },
     "metadata": {
      "needs_background": "light"
     },
     "output_type": "display_data"
    },
    {
     "name": "stdout",
     "output_type": "stream",
     "text": [
      "em_acount\n"
     ]
    },
    {
     "data": {
      "text/plain": "0    58489\n1    10080\nName: em_acount, dtype: int64"
     },
     "execution_count": 18,
     "metadata": {},
     "output_type": "execute_result"
    }
   ],
   "source": [
    "validation_df = splitter.get_validation_partition(df_prep)\n",
    "hist_plot(validation_df, TARGET)"
   ],
   "metadata": {
    "collapsed": false,
    "pycharm": {
     "name": "#%%\n"
    }
   }
  },
  {
   "cell_type": "markdown",
   "source": [
    "#### Partitions\n",
    "\n",
    "Separacion de las particiones"
   ],
   "metadata": {
    "collapsed": false,
    "pycharm": {
     "name": "#%% md\n"
    }
   }
  },
  {
   "cell_type": "code",
   "execution_count": 19,
   "outputs": [
    {
     "name": "stdout",
     "output_type": "stream",
     "text": [
      "\n",
      "TRAIN:\n",
      "    X_train.shape: (361932, 140)\n",
      "    y_train.shape: (361932, 1)\n",
      "TEST:\n",
      "    X_test.shape: (90483, 140)\n",
      "    y_test.shape: (90483, 1)\n",
      "VALIDATION:\n",
      "    X_val.shape: (68569, 140)\n",
      "    y_val.shape: (68569, 1)\n",
      "\n"
     ]
    }
   ],
   "source": [
    "dev_X = train_df.drop(TARGET, axis=1)\n",
    "dev_y = train_df[[TARGET]]\n",
    "\n",
    "X_val = validation_df.drop(TARGET, axis=1)\n",
    "y_val = validation_df[[TARGET]]\n",
    "\n",
    "X_train, X_test, y_train, y_test = train_test_split(dev_X, dev_y, test_size=0.2, random_state=42, stratify=dev_y)\n",
    "\n",
    "print(f\"\"\"\n",
    "TRAIN:\n",
    "    X_train.shape: {X_train.shape}\n",
    "    y_train.shape: {y_train.shape}\n",
    "TEST:\n",
    "    X_test.shape: {X_test.shape}\n",
    "    y_test.shape: {y_test.shape}\n",
    "VALIDATION:\n",
    "    X_val.shape: {X_val.shape}\n",
    "    y_val.shape: {y_val.shape}\n",
    "\"\"\")"
   ],
   "metadata": {
    "collapsed": false,
    "pycharm": {
     "name": "#%%\n"
    }
   }
  },
  {
   "cell_type": "markdown",
   "source": [
    "## Modelling"
   ],
   "metadata": {
    "collapsed": false,
    "pycharm": {
     "name": "#%% md\n"
    }
   }
  },
  {
   "cell_type": "code",
   "execution_count": 20,
   "outputs": [
    {
     "name": "stdout",
     "output_type": "stream",
     "text": [
      "[0]\tvalidation_0-auc:0.84472\n",
      "[1]\tvalidation_0-auc:0.85865\n",
      "[2]\tvalidation_0-auc:0.86444\n",
      "[3]\tvalidation_0-auc:0.86769\n",
      "[4]\tvalidation_0-auc:0.87152\n",
      "[5]\tvalidation_0-auc:0.87667\n",
      "[6]\tvalidation_0-auc:0.87777\n",
      "[7]\tvalidation_0-auc:0.87840\n",
      "[8]\tvalidation_0-auc:0.88436\n",
      "[9]\tvalidation_0-auc:0.88542\n",
      "[10]\tvalidation_0-auc:0.88680\n",
      "[11]\tvalidation_0-auc:0.88648\n",
      "[12]\tvalidation_0-auc:0.89062\n",
      "[13]\tvalidation_0-auc:0.89255\n",
      "[14]\tvalidation_0-auc:0.89432\n",
      "[15]\tvalidation_0-auc:0.89583\n",
      "[16]\tvalidation_0-auc:0.89577\n",
      "[17]\tvalidation_0-auc:0.89644\n",
      "[18]\tvalidation_0-auc:0.89756\n",
      "[19]\tvalidation_0-auc:0.89902\n",
      "[20]\tvalidation_0-auc:0.89917\n",
      "[21]\tvalidation_0-auc:0.89927\n",
      "[22]\tvalidation_0-auc:0.89966\n",
      "[23]\tvalidation_0-auc:0.90048\n",
      "[24]\tvalidation_0-auc:0.90083\n",
      "[25]\tvalidation_0-auc:0.90161\n",
      "[26]\tvalidation_0-auc:0.90189\n",
      "[27]\tvalidation_0-auc:0.90203\n",
      "[28]\tvalidation_0-auc:0.90316\n",
      "[29]\tvalidation_0-auc:0.90414\n",
      "[30]\tvalidation_0-auc:0.90456\n",
      "[31]\tvalidation_0-auc:0.90465\n",
      "[32]\tvalidation_0-auc:0.90480\n",
      "[33]\tvalidation_0-auc:0.90530\n",
      "[34]\tvalidation_0-auc:0.90576\n",
      "[35]\tvalidation_0-auc:0.90610\n",
      "[36]\tvalidation_0-auc:0.90634\n",
      "[37]\tvalidation_0-auc:0.90638\n",
      "[38]\tvalidation_0-auc:0.90667\n",
      "[39]\tvalidation_0-auc:0.90684\n",
      "[40]\tvalidation_0-auc:0.90708\n",
      "[41]\tvalidation_0-auc:0.90743\n",
      "[42]\tvalidation_0-auc:0.90745\n",
      "[43]\tvalidation_0-auc:0.90753\n",
      "[44]\tvalidation_0-auc:0.90778\n",
      "[45]\tvalidation_0-auc:0.90798\n",
      "[46]\tvalidation_0-auc:0.90802\n",
      "[47]\tvalidation_0-auc:0.90808\n",
      "[48]\tvalidation_0-auc:0.90848\n",
      "[49]\tvalidation_0-auc:0.90863\n",
      "[50]\tvalidation_0-auc:0.90873\n",
      "[51]\tvalidation_0-auc:0.90883\n",
      "[52]\tvalidation_0-auc:0.90919\n",
      "[53]\tvalidation_0-auc:0.90935\n",
      "[54]\tvalidation_0-auc:0.90960\n",
      "[55]\tvalidation_0-auc:0.90964\n",
      "[56]\tvalidation_0-auc:0.91008\n",
      "[57]\tvalidation_0-auc:0.91014\n",
      "[58]\tvalidation_0-auc:0.91016\n",
      "[59]\tvalidation_0-auc:0.91017\n",
      "[60]\tvalidation_0-auc:0.91020\n",
      "[61]\tvalidation_0-auc:0.91024\n",
      "[62]\tvalidation_0-auc:0.91036\n",
      "[63]\tvalidation_0-auc:0.91051\n",
      "[64]\tvalidation_0-auc:0.91069\n",
      "[65]\tvalidation_0-auc:0.91078\n",
      "[66]\tvalidation_0-auc:0.91089\n",
      "[67]\tvalidation_0-auc:0.91099\n",
      "[68]\tvalidation_0-auc:0.91101\n",
      "[69]\tvalidation_0-auc:0.91111\n",
      "[70]\tvalidation_0-auc:0.91115\n",
      "[71]\tvalidation_0-auc:0.91119\n",
      "[72]\tvalidation_0-auc:0.91128\n",
      "[73]\tvalidation_0-auc:0.91136\n",
      "[74]\tvalidation_0-auc:0.91154\n",
      "[75]\tvalidation_0-auc:0.91166\n",
      "[76]\tvalidation_0-auc:0.91171\n",
      "[77]\tvalidation_0-auc:0.91178\n",
      "[78]\tvalidation_0-auc:0.91197\n",
      "[79]\tvalidation_0-auc:0.91215\n",
      "[80]\tvalidation_0-auc:0.91218\n",
      "[81]\tvalidation_0-auc:0.91229\n",
      "[82]\tvalidation_0-auc:0.91232\n",
      "[83]\tvalidation_0-auc:0.91252\n",
      "[84]\tvalidation_0-auc:0.91252\n",
      "[85]\tvalidation_0-auc:0.91259\n",
      "[86]\tvalidation_0-auc:0.91264\n",
      "[87]\tvalidation_0-auc:0.91277\n",
      "[88]\tvalidation_0-auc:0.91282\n",
      "[89]\tvalidation_0-auc:0.91286\n",
      "[90]\tvalidation_0-auc:0.91285\n",
      "[91]\tvalidation_0-auc:0.91291\n",
      "[92]\tvalidation_0-auc:0.91290\n",
      "[93]\tvalidation_0-auc:0.91293\n",
      "[94]\tvalidation_0-auc:0.91299\n",
      "[95]\tvalidation_0-auc:0.91303\n",
      "[96]\tvalidation_0-auc:0.91302\n",
      "[97]\tvalidation_0-auc:0.91304\n",
      "[98]\tvalidation_0-auc:0.91305\n",
      "[99]\tvalidation_0-auc:0.91309\n"
     ]
    },
    {
     "data": {
      "text/plain": "XGBClassifier(base_score=0.5, booster='gbtree', colsample_bylevel=1,\n              colsample_bynode=1, colsample_bytree=1, enable_categorical=False,\n              gamma=0, gpu_id=-1, importance_type=None,\n              interaction_constraints='', learning_rate=0.300000012,\n              max_delta_step=0, max_depth=5, min_child_weight=100, missing=nan,\n              monotone_constraints='()', n_estimators=100, n_jobs=12,\n              num_parallel_tree=1, predictor='auto', random_state=42,\n              reg_alpha=0, reg_lambda=1, scale_pos_weight=1, subsample=1,\n              tree_method='exact', use_label_encoder=False,\n              validate_parameters=1, verbosity=None)"
     },
     "execution_count": 20,
     "metadata": {},
     "output_type": "execute_result"
    }
   ],
   "source": [
    "model: XGBClassifier = XGBClassifier(\n",
    "    max_depth=5,\n",
    "    min_child_weight=100,\n",
    "    random_state=42,\n",
    "    use_label_encoder=False\n",
    ")\n",
    "\n",
    "eval_set = [(X_test, y_test.values.ravel())]\n",
    "model.fit(\n",
    "    X_train,\n",
    "    y_train.values.ravel(),\n",
    "    eval_set=eval_set,\n",
    "    verbose=True,\n",
    "    eval_metric=\"auc\",\n",
    "    early_stopping_rounds=10\n",
    ")"
   ],
   "metadata": {
    "collapsed": false,
    "pycharm": {
     "name": "#%%\n"
    }
   }
  },
  {
   "cell_type": "code",
   "execution_count": 21,
   "outputs": [
    {
     "data": {
      "text/plain": "             target  target_mean                       date  is_overfitted  \\\n33        em_acount     0.713166 2022-04-20 02:12:32.469531          False   \n32        em_acount     0.713166 2022-04-20 02:07:01.756063          False   \n31        em_acount     0.713166 2022-04-20 01:57:10.998195           True   \n30        em_acount     0.713166 2022-04-20 01:56:01.901725          False   \n29        em_acount     0.713166 2022-04-20 01:53:14.166940           True   \n28        em_acount     0.713166 2022-04-20 01:52:18.054503          False   \n27        em_acount     0.713166 2022-04-20 01:51:21.201376          False   \n26        em_acount     0.713166 2022-04-20 01:50:28.247576          False   \n25            loans     0.000117 2022-04-20 00:42:58.087485           True   \n24            loans     0.000117 2022-04-20 00:42:22.450407           True   \n23            loans     0.003535 2022-04-19 14:30:22.818615          False   \n22  payroll_account     0.527260 2022-04-19 14:23:21.434827          False   \n21  payroll_account     0.527260 2022-04-19 14:22:25.153429           True   \n20  payroll_account     0.527260 2022-04-19 14:18:41.533913          False   \n19        em_acount     0.902959 2022-04-19 13:53:38.620842          False   \n18      credit_card     0.372030 2022-04-18 22:47:26.637864          False   \n17      credit_card     0.372030 2022-04-18 22:45:31.752794          False   \n16      credit_card     0.372030 2022-04-18 22:43:48.283557          False   \n15      credit_card     0.372030 2022-04-18 22:39:07.069281           True   \n14      credit_card     0.372030 2022-04-18 22:38:38.014625           True   \n13      credit_card     0.372030 2022-04-18 22:38:15.482890           True   \n12      credit_card     0.372030 2022-04-18 22:36:28.349269           True   \n11      credit_card     0.372030 2022-04-18 22:30:52.693904           True   \n10      credit_card     0.372030 2022-04-18 22:28:49.000739           True   \n9       credit_card     0.372030 2022-04-18 22:25:16.441363           True   \n8         em_acount     0.902959 2022-04-18 21:37:34.200245           True   \n7         em_acount     0.902959 2022-04-18 21:36:57.529114           True   \n6         em_acount     0.902959 2022-04-18 21:05:19.893296           True   \n5         em_acount     0.902959 2022-04-18 20:38:26.636688           True   \n4         em_acount     0.902959 2022-04-18 20:23:43.724056           True   \n3         em_acount     0.902959 2022-04-18 19:48:39.551950           True   \n2         em_acount     0.902959 2022-04-18 19:42:19.484523           True   \n1         em_acount     0.902959 2022-04-18 19:28:11.646760           True   \n0         em_acount     0.902959 2022-04-18 19:21:05.434710           True   \n\n    roc_auc_train  roc_auc_test  roc_auc_val  accuracy_train  accuracy_test  \\\n33       0.917798      0.913066     0.890219        0.873628       0.869721   \n32       0.917798      0.913066     0.890219        0.873628       0.869721   \n31       0.922127      0.915973     0.889479        0.876002       0.872020   \n30       0.917798      0.913066     0.890219        0.873628       0.869721   \n29       0.920217      0.914594     0.884882        0.876203       0.872053   \n28       0.914872      0.910887     0.887902        0.872031       0.869390   \n27       0.906244      0.903469     0.886973        0.865033       0.863599   \n26       0.893350      0.890877     0.873656        0.856023       0.855177   \n25       0.972083      0.952703     0.909384        0.999884       0.999880   \n24       0.990420      0.940317     0.898547        0.999884       0.999880   \n23       0.996429      0.999062     0.786278        0.998073       0.997281   \n22       0.969723      0.967727     0.986638        0.938858       0.934025   \n21       0.975096      0.968884     0.988755        0.940961       0.933745   \n20       0.969723      0.967727     0.986638        0.938858       0.934025   \n19       0.911341      0.911024     0.786666        0.940705       0.940278   \n18       0.925318      0.928474     0.849117        0.868007       0.875239   \n17       0.925318      0.928474     0.849117        0.868007       0.875239   \n16       0.928810      0.929619     0.846679        0.876536       0.882634   \n15       0.928810      0.929619     0.846679        0.876536       0.882634   \n14       0.928810      0.929619     0.846679        0.876536       0.882634   \n13       0.928810      0.929619     0.846679        0.876536       0.882634   \n12       0.928810      0.929619     0.846679        0.876536       0.882634   \n11       0.928810      0.929619     0.846679        0.876536       0.882634   \n10       0.919372      0.922418     0.861859        0.863593       0.869990   \n9        0.929953      0.928669     0.838041        0.876595       0.883349   \n8        0.950644      0.917028     0.842160        0.951014       0.941496   \n7        0.950644      0.917028     0.842160        0.951014       0.941496   \n6        0.943407      0.917594     0.840527        0.948747       0.941930   \n5        0.957649      0.916784     0.839633        0.953442       0.941146   \n4        0.957649      0.916784     0.839633        0.953442       0.941146   \n3        0.934908      0.918900     0.821716        0.945861       0.942223   \n2        0.934908      0.918900     0.821716        0.945861       0.942223   \n1        0.937089      0.919856     0.826957        0.946239       0.942811   \n0        0.937089      0.919856     0.826957        0.946239       0.942811   \n\n    accuracy_val  recall_train  recall_test  recall_val  precision_train  \\\n33      0.804678      0.936804     0.934836    0.849802         0.891510   \n32      0.804678      0.936804     0.934836    0.849802         0.891510   \n31      0.809841      0.935952     0.933751    0.849405         0.894985   \n30      0.804678      0.936804     0.934836    0.849802         0.891510   \n29      0.807026      0.939683     0.937702    0.847222         0.892426   \n28      0.798262      0.940268     0.938787    0.851587         0.887068   \n27      0.775525      0.944204     0.943390    0.854563         0.876163   \n26      0.757777      0.946703     0.945637    0.856548         0.864340   \n25      0.999959      0.000000     0.000000    0.000000         0.000000   \n24      0.999959      0.000000     0.000000    0.000000         0.000000   \n23      0.957613      0.548387     0.500000    0.200000         0.850000   \n22      0.969673      0.950993     0.947182    0.965364         0.934227   \n21      0.973025      0.955335     0.949309    0.966252         0.934183   \n20      0.969673      0.950993     0.947182    0.965364         0.934227   \n19      0.391374      0.987060     0.986936    0.869544         0.949290   \n18      0.664174      0.974507     0.966667    0.985014         0.747418   \n17      0.664174      0.974507     0.966667    0.985014         0.747418   \n16      0.699799      0.965689     0.953846    0.929155         0.764437   \n15      0.699799      0.965689     0.953846    0.929155         0.764437   \n14      0.699799      0.965689     0.953846    0.929155         0.764437   \n13      0.699799      0.965689     0.953846    0.929155         0.764437   \n12      0.699799      0.965689     0.953846    0.929155         0.764437   \n11      0.699799      0.965689     0.953846    0.929155         0.764437   \n10      0.622773      0.973385     0.967949    0.990463         0.741089   \n9       0.673768      0.968735     0.958333    0.950954         0.763264   \n8       0.396085      0.989435     0.984534    0.877083         0.957715   \n7       0.396085      0.989435     0.984534    0.877083         0.957715   \n6       0.392663      0.988265     0.984581    0.877976         0.956425   \n5       0.395119      0.990388     0.984038    0.875298         0.959364   \n4       0.395119      0.990388     0.984038    0.875298         0.959364   \n3       0.403832      0.987192     0.985495    0.868750         0.954416   \n2       0.403832      0.987192     0.985495    0.868750         0.954416   \n1       0.396586      0.987455     0.986084    0.869147         0.954571   \n0       0.396586      0.987455     0.986084    0.869147         0.954571   \n\n    precision_test  precision_val  f1_score_train  f1_score_test  \\\n33        0.888333       0.418978        0.913596       0.910991   \n32        0.888333       0.418978        0.913596       0.910991   \n31        0.891872       0.426331        0.915010       0.912331   \n30        0.888333       0.418978        0.913596       0.910991   \n29        0.888975       0.422104        0.915445       0.912689   \n28        0.885050       0.410305        0.912893       0.911127   \n27        0.875095       0.382165        0.908912       0.907960   \n26        0.864112       0.362819        0.903648       0.903038   \n25        0.000000       0.000000        0.000000       0.000000   \n24        0.000000       0.000000        0.000000       0.000000   \n23        0.666667       0.000053        0.666667       0.571429   \n22        0.929068       0.203368        0.942535       0.938038   \n21        0.926804       0.223317        0.944640       0.937921   \n20        0.929068       0.203368        0.942535       0.938038   \n19        0.948966       0.081871        0.967807       0.967579   \n18        0.762001       0.004842        0.845988       0.852218   \n17        0.762001       0.004842        0.845988       0.852218   \n16        0.779874       0.005109        0.853358       0.858131   \n15        0.779874       0.005109        0.853358       0.858131   \n14        0.779874       0.005109        0.853358       0.858131   \n13        0.779874       0.005109        0.853358       0.858131   \n12        0.779874       0.005109        0.853358       0.858131   \n11        0.779874       0.005109        0.853358       0.858131   \n10        0.753117       0.004336        0.841500       0.847125   \n9         0.779052       0.004813        0.853812       0.859442   \n8         0.952290       0.083061        0.973317       0.968144   \n7         0.952290       0.083061        0.973317       0.968144   \n6         0.952692       0.082696        0.972084       0.968374   \n5         0.952367       0.082797        0.974629       0.967944   \n4         0.952367       0.082797        0.974629       0.967944   \n3         0.952191       0.083397        0.970527       0.968557   \n2         0.952191       0.083397        0.970527       0.968557   \n1         0.952275       0.082497        0.970735       0.968885   \n0         0.952275       0.082497        0.970735       0.968885   \n\n    f1_score_val                                              model  \n33      0.561245  XGBClassifier(base_score=0.5, booster='gbtree'...  \n32      0.561245  XGBClassifier(base_score=0.5, booster='gbtree'...  \n31      0.567715  XGBClassifier(base_score=0.5, booster='gbtree'...  \n30      0.561245  XGBClassifier(base_score=0.5, booster='gbtree'...  \n29      0.563473  XGBClassifier(base_score=0.5, booster='gbtree'...  \n28      0.553789  XGBClassifier(base_score=0.5, booster='gbtree'...  \n27      0.528142  XGBClassifier(base_score=0.5, booster='gbtree'...  \n26      0.509726  XGBClassifier(base_score=0.5, booster='gbtree'...  \n25      0.000000  XGBClassifier(base_score=0.5, booster='gbtree'...  \n24      0.000000  XGBClassifier(base_score=0.5, booster='gbtree'...  \n23      0.000106  XGBClassifier(base_score=0.5, booster='gbtree'...  \n22      0.335960  XGBClassifier(base_score=0.5, booster='gbtree'...  \n21      0.362788  XGBClassifier(base_score=0.5, booster='gbtree'...  \n20      0.335960  XGBClassifier(base_score=0.5, booster='gbtree'...  \n19      0.149651  XGBClassifier(base_score=0.5, booster='gbtree'...  \n18      0.009636  XGBClassifier(base_score=0.5, booster='gbtree'...  \n17      0.009636  XGBClassifier(base_score=0.5, booster='gbtree'...  \n16      0.010163  XGBClassifier(base_score=0.5, booster='gbtree'...  \n15      0.010163  XGBClassifier(base_score=0.5, booster='gbtree'...  \n14      0.010163  XGBClassifier(base_score=0.5, booster='gbtree'...  \n13      0.010163  XGBClassifier(base_score=0.5, booster='gbtree'...  \n12      0.010163  XGBClassifier(base_score=0.5, booster='gbtree'...  \n11      0.010163  XGBClassifier(base_score=0.5, booster='gbtree'...  \n10      0.008634  XGBClassifier(base_score=0.5, booster='gbtree'...  \n9       0.009577  XGBClassifier(base_score=0.5, booster='gbtree'...  \n8       0.151751  Pipeline(steps=[('model',\\n                 XG...  \n7       0.151751  Pipeline(steps=[('model',\\n                 XG...  \n6       0.151155  Pipeline(steps=[('transform', StandardScaler()...  \n5       0.151283  Pipeline(steps=[('transform', StandardScaler()...  \n4       0.151283  Pipeline(steps=[('transform', StandardScaler()...  \n3       0.152184  Pipeline(steps=[('model',\\n                 XG...  \n2       0.152184  Pipeline(steps=[('model',\\n                 XG...  \n1       0.150691  Pipeline(steps=[('transform', StandardScaler()...  \n0       0.150691  Pipeline(steps=[('transform', StandardScaler()...  ",
      "text/html": "<div>\n<style scoped>\n    .dataframe tbody tr th:only-of-type {\n        vertical-align: middle;\n    }\n\n    .dataframe tbody tr th {\n        vertical-align: top;\n    }\n\n    .dataframe thead th {\n        text-align: right;\n    }\n</style>\n<table border=\"1\" class=\"dataframe\">\n  <thead>\n    <tr style=\"text-align: right;\">\n      <th></th>\n      <th>target</th>\n      <th>target_mean</th>\n      <th>date</th>\n      <th>is_overfitted</th>\n      <th>roc_auc_train</th>\n      <th>roc_auc_test</th>\n      <th>roc_auc_val</th>\n      <th>accuracy_train</th>\n      <th>accuracy_test</th>\n      <th>accuracy_val</th>\n      <th>recall_train</th>\n      <th>recall_test</th>\n      <th>recall_val</th>\n      <th>precision_train</th>\n      <th>precision_test</th>\n      <th>precision_val</th>\n      <th>f1_score_train</th>\n      <th>f1_score_test</th>\n      <th>f1_score_val</th>\n      <th>model</th>\n    </tr>\n  </thead>\n  <tbody>\n    <tr>\n      <th>33</th>\n      <td>em_acount</td>\n      <td>0.713166</td>\n      <td>2022-04-20 02:12:32.469531</td>\n      <td>False</td>\n      <td>0.917798</td>\n      <td>0.913066</td>\n      <td>0.890219</td>\n      <td>0.873628</td>\n      <td>0.869721</td>\n      <td>0.804678</td>\n      <td>0.936804</td>\n      <td>0.934836</td>\n      <td>0.849802</td>\n      <td>0.891510</td>\n      <td>0.888333</td>\n      <td>0.418978</td>\n      <td>0.913596</td>\n      <td>0.910991</td>\n      <td>0.561245</td>\n      <td>XGBClassifier(base_score=0.5, booster='gbtree'...</td>\n    </tr>\n    <tr>\n      <th>32</th>\n      <td>em_acount</td>\n      <td>0.713166</td>\n      <td>2022-04-20 02:07:01.756063</td>\n      <td>False</td>\n      <td>0.917798</td>\n      <td>0.913066</td>\n      <td>0.890219</td>\n      <td>0.873628</td>\n      <td>0.869721</td>\n      <td>0.804678</td>\n      <td>0.936804</td>\n      <td>0.934836</td>\n      <td>0.849802</td>\n      <td>0.891510</td>\n      <td>0.888333</td>\n      <td>0.418978</td>\n      <td>0.913596</td>\n      <td>0.910991</td>\n      <td>0.561245</td>\n      <td>XGBClassifier(base_score=0.5, booster='gbtree'...</td>\n    </tr>\n    <tr>\n      <th>31</th>\n      <td>em_acount</td>\n      <td>0.713166</td>\n      <td>2022-04-20 01:57:10.998195</td>\n      <td>True</td>\n      <td>0.922127</td>\n      <td>0.915973</td>\n      <td>0.889479</td>\n      <td>0.876002</td>\n      <td>0.872020</td>\n      <td>0.809841</td>\n      <td>0.935952</td>\n      <td>0.933751</td>\n      <td>0.849405</td>\n      <td>0.894985</td>\n      <td>0.891872</td>\n      <td>0.426331</td>\n      <td>0.915010</td>\n      <td>0.912331</td>\n      <td>0.567715</td>\n      <td>XGBClassifier(base_score=0.5, booster='gbtree'...</td>\n    </tr>\n    <tr>\n      <th>30</th>\n      <td>em_acount</td>\n      <td>0.713166</td>\n      <td>2022-04-20 01:56:01.901725</td>\n      <td>False</td>\n      <td>0.917798</td>\n      <td>0.913066</td>\n      <td>0.890219</td>\n      <td>0.873628</td>\n      <td>0.869721</td>\n      <td>0.804678</td>\n      <td>0.936804</td>\n      <td>0.934836</td>\n      <td>0.849802</td>\n      <td>0.891510</td>\n      <td>0.888333</td>\n      <td>0.418978</td>\n      <td>0.913596</td>\n      <td>0.910991</td>\n      <td>0.561245</td>\n      <td>XGBClassifier(base_score=0.5, booster='gbtree'...</td>\n    </tr>\n    <tr>\n      <th>29</th>\n      <td>em_acount</td>\n      <td>0.713166</td>\n      <td>2022-04-20 01:53:14.166940</td>\n      <td>True</td>\n      <td>0.920217</td>\n      <td>0.914594</td>\n      <td>0.884882</td>\n      <td>0.876203</td>\n      <td>0.872053</td>\n      <td>0.807026</td>\n      <td>0.939683</td>\n      <td>0.937702</td>\n      <td>0.847222</td>\n      <td>0.892426</td>\n      <td>0.888975</td>\n      <td>0.422104</td>\n      <td>0.915445</td>\n      <td>0.912689</td>\n      <td>0.563473</td>\n      <td>XGBClassifier(base_score=0.5, booster='gbtree'...</td>\n    </tr>\n    <tr>\n      <th>28</th>\n      <td>em_acount</td>\n      <td>0.713166</td>\n      <td>2022-04-20 01:52:18.054503</td>\n      <td>False</td>\n      <td>0.914872</td>\n      <td>0.910887</td>\n      <td>0.887902</td>\n      <td>0.872031</td>\n      <td>0.869390</td>\n      <td>0.798262</td>\n      <td>0.940268</td>\n      <td>0.938787</td>\n      <td>0.851587</td>\n      <td>0.887068</td>\n      <td>0.885050</td>\n      <td>0.410305</td>\n      <td>0.912893</td>\n      <td>0.911127</td>\n      <td>0.553789</td>\n      <td>XGBClassifier(base_score=0.5, booster='gbtree'...</td>\n    </tr>\n    <tr>\n      <th>27</th>\n      <td>em_acount</td>\n      <td>0.713166</td>\n      <td>2022-04-20 01:51:21.201376</td>\n      <td>False</td>\n      <td>0.906244</td>\n      <td>0.903469</td>\n      <td>0.886973</td>\n      <td>0.865033</td>\n      <td>0.863599</td>\n      <td>0.775525</td>\n      <td>0.944204</td>\n      <td>0.943390</td>\n      <td>0.854563</td>\n      <td>0.876163</td>\n      <td>0.875095</td>\n      <td>0.382165</td>\n      <td>0.908912</td>\n      <td>0.907960</td>\n      <td>0.528142</td>\n      <td>XGBClassifier(base_score=0.5, booster='gbtree'...</td>\n    </tr>\n    <tr>\n      <th>26</th>\n      <td>em_acount</td>\n      <td>0.713166</td>\n      <td>2022-04-20 01:50:28.247576</td>\n      <td>False</td>\n      <td>0.893350</td>\n      <td>0.890877</td>\n      <td>0.873656</td>\n      <td>0.856023</td>\n      <td>0.855177</td>\n      <td>0.757777</td>\n      <td>0.946703</td>\n      <td>0.945637</td>\n      <td>0.856548</td>\n      <td>0.864340</td>\n      <td>0.864112</td>\n      <td>0.362819</td>\n      <td>0.903648</td>\n      <td>0.903038</td>\n      <td>0.509726</td>\n      <td>XGBClassifier(base_score=0.5, booster='gbtree'...</td>\n    </tr>\n    <tr>\n      <th>25</th>\n      <td>loans</td>\n      <td>0.000117</td>\n      <td>2022-04-20 00:42:58.087485</td>\n      <td>True</td>\n      <td>0.972083</td>\n      <td>0.952703</td>\n      <td>0.909384</td>\n      <td>0.999884</td>\n      <td>0.999880</td>\n      <td>0.999959</td>\n      <td>0.000000</td>\n      <td>0.000000</td>\n      <td>0.000000</td>\n      <td>0.000000</td>\n      <td>0.000000</td>\n      <td>0.000000</td>\n      <td>0.000000</td>\n      <td>0.000000</td>\n      <td>0.000000</td>\n      <td>XGBClassifier(base_score=0.5, booster='gbtree'...</td>\n    </tr>\n    <tr>\n      <th>24</th>\n      <td>loans</td>\n      <td>0.000117</td>\n      <td>2022-04-20 00:42:22.450407</td>\n      <td>True</td>\n      <td>0.990420</td>\n      <td>0.940317</td>\n      <td>0.898547</td>\n      <td>0.999884</td>\n      <td>0.999880</td>\n      <td>0.999959</td>\n      <td>0.000000</td>\n      <td>0.000000</td>\n      <td>0.000000</td>\n      <td>0.000000</td>\n      <td>0.000000</td>\n      <td>0.000000</td>\n      <td>0.000000</td>\n      <td>0.000000</td>\n      <td>0.000000</td>\n      <td>XGBClassifier(base_score=0.5, booster='gbtree'...</td>\n    </tr>\n    <tr>\n      <th>23</th>\n      <td>loans</td>\n      <td>0.003535</td>\n      <td>2022-04-19 14:30:22.818615</td>\n      <td>False</td>\n      <td>0.996429</td>\n      <td>0.999062</td>\n      <td>0.786278</td>\n      <td>0.998073</td>\n      <td>0.997281</td>\n      <td>0.957613</td>\n      <td>0.548387</td>\n      <td>0.500000</td>\n      <td>0.200000</td>\n      <td>0.850000</td>\n      <td>0.666667</td>\n      <td>0.000053</td>\n      <td>0.666667</td>\n      <td>0.571429</td>\n      <td>0.000106</td>\n      <td>XGBClassifier(base_score=0.5, booster='gbtree'...</td>\n    </tr>\n    <tr>\n      <th>22</th>\n      <td>payroll_account</td>\n      <td>0.527260</td>\n      <td>2022-04-19 14:23:21.434827</td>\n      <td>False</td>\n      <td>0.969723</td>\n      <td>0.967727</td>\n      <td>0.986638</td>\n      <td>0.938858</td>\n      <td>0.934025</td>\n      <td>0.969673</td>\n      <td>0.950993</td>\n      <td>0.947182</td>\n      <td>0.965364</td>\n      <td>0.934227</td>\n      <td>0.929068</td>\n      <td>0.203368</td>\n      <td>0.942535</td>\n      <td>0.938038</td>\n      <td>0.335960</td>\n      <td>XGBClassifier(base_score=0.5, booster='gbtree'...</td>\n    </tr>\n    <tr>\n      <th>21</th>\n      <td>payroll_account</td>\n      <td>0.527260</td>\n      <td>2022-04-19 14:22:25.153429</td>\n      <td>True</td>\n      <td>0.975096</td>\n      <td>0.968884</td>\n      <td>0.988755</td>\n      <td>0.940961</td>\n      <td>0.933745</td>\n      <td>0.973025</td>\n      <td>0.955335</td>\n      <td>0.949309</td>\n      <td>0.966252</td>\n      <td>0.934183</td>\n      <td>0.926804</td>\n      <td>0.223317</td>\n      <td>0.944640</td>\n      <td>0.937921</td>\n      <td>0.362788</td>\n      <td>XGBClassifier(base_score=0.5, booster='gbtree'...</td>\n    </tr>\n    <tr>\n      <th>20</th>\n      <td>payroll_account</td>\n      <td>0.527260</td>\n      <td>2022-04-19 14:18:41.533913</td>\n      <td>False</td>\n      <td>0.969723</td>\n      <td>0.967727</td>\n      <td>0.986638</td>\n      <td>0.938858</td>\n      <td>0.934025</td>\n      <td>0.969673</td>\n      <td>0.950993</td>\n      <td>0.947182</td>\n      <td>0.965364</td>\n      <td>0.934227</td>\n      <td>0.929068</td>\n      <td>0.203368</td>\n      <td>0.942535</td>\n      <td>0.938038</td>\n      <td>0.335960</td>\n      <td>XGBClassifier(base_score=0.5, booster='gbtree'...</td>\n    </tr>\n    <tr>\n      <th>19</th>\n      <td>em_acount</td>\n      <td>0.902959</td>\n      <td>2022-04-19 13:53:38.620842</td>\n      <td>False</td>\n      <td>0.911341</td>\n      <td>0.911024</td>\n      <td>0.786666</td>\n      <td>0.940705</td>\n      <td>0.940278</td>\n      <td>0.391374</td>\n      <td>0.987060</td>\n      <td>0.986936</td>\n      <td>0.869544</td>\n      <td>0.949290</td>\n      <td>0.948966</td>\n      <td>0.081871</td>\n      <td>0.967807</td>\n      <td>0.967579</td>\n      <td>0.149651</td>\n      <td>XGBClassifier(base_score=0.5, booster='gbtree'...</td>\n    </tr>\n    <tr>\n      <th>18</th>\n      <td>credit_card</td>\n      <td>0.372030</td>\n      <td>2022-04-18 22:47:26.637864</td>\n      <td>False</td>\n      <td>0.925318</td>\n      <td>0.928474</td>\n      <td>0.849117</td>\n      <td>0.868007</td>\n      <td>0.875239</td>\n      <td>0.664174</td>\n      <td>0.974507</td>\n      <td>0.966667</td>\n      <td>0.985014</td>\n      <td>0.747418</td>\n      <td>0.762001</td>\n      <td>0.004842</td>\n      <td>0.845988</td>\n      <td>0.852218</td>\n      <td>0.009636</td>\n      <td>XGBClassifier(base_score=0.5, booster='gbtree'...</td>\n    </tr>\n    <tr>\n      <th>17</th>\n      <td>credit_card</td>\n      <td>0.372030</td>\n      <td>2022-04-18 22:45:31.752794</td>\n      <td>False</td>\n      <td>0.925318</td>\n      <td>0.928474</td>\n      <td>0.849117</td>\n      <td>0.868007</td>\n      <td>0.875239</td>\n      <td>0.664174</td>\n      <td>0.974507</td>\n      <td>0.966667</td>\n      <td>0.985014</td>\n      <td>0.747418</td>\n      <td>0.762001</td>\n      <td>0.004842</td>\n      <td>0.845988</td>\n      <td>0.852218</td>\n      <td>0.009636</td>\n      <td>XGBClassifier(base_score=0.5, booster='gbtree'...</td>\n    </tr>\n    <tr>\n      <th>16</th>\n      <td>credit_card</td>\n      <td>0.372030</td>\n      <td>2022-04-18 22:43:48.283557</td>\n      <td>False</td>\n      <td>0.928810</td>\n      <td>0.929619</td>\n      <td>0.846679</td>\n      <td>0.876536</td>\n      <td>0.882634</td>\n      <td>0.699799</td>\n      <td>0.965689</td>\n      <td>0.953846</td>\n      <td>0.929155</td>\n      <td>0.764437</td>\n      <td>0.779874</td>\n      <td>0.005109</td>\n      <td>0.853358</td>\n      <td>0.858131</td>\n      <td>0.010163</td>\n      <td>XGBClassifier(base_score=0.5, booster='gbtree'...</td>\n    </tr>\n    <tr>\n      <th>15</th>\n      <td>credit_card</td>\n      <td>0.372030</td>\n      <td>2022-04-18 22:39:07.069281</td>\n      <td>True</td>\n      <td>0.928810</td>\n      <td>0.929619</td>\n      <td>0.846679</td>\n      <td>0.876536</td>\n      <td>0.882634</td>\n      <td>0.699799</td>\n      <td>0.965689</td>\n      <td>0.953846</td>\n      <td>0.929155</td>\n      <td>0.764437</td>\n      <td>0.779874</td>\n      <td>0.005109</td>\n      <td>0.853358</td>\n      <td>0.858131</td>\n      <td>0.010163</td>\n      <td>XGBClassifier(base_score=0.5, booster='gbtree'...</td>\n    </tr>\n    <tr>\n      <th>14</th>\n      <td>credit_card</td>\n      <td>0.372030</td>\n      <td>2022-04-18 22:38:38.014625</td>\n      <td>True</td>\n      <td>0.928810</td>\n      <td>0.929619</td>\n      <td>0.846679</td>\n      <td>0.876536</td>\n      <td>0.882634</td>\n      <td>0.699799</td>\n      <td>0.965689</td>\n      <td>0.953846</td>\n      <td>0.929155</td>\n      <td>0.764437</td>\n      <td>0.779874</td>\n      <td>0.005109</td>\n      <td>0.853358</td>\n      <td>0.858131</td>\n      <td>0.010163</td>\n      <td>XGBClassifier(base_score=0.5, booster='gbtree'...</td>\n    </tr>\n    <tr>\n      <th>13</th>\n      <td>credit_card</td>\n      <td>0.372030</td>\n      <td>2022-04-18 22:38:15.482890</td>\n      <td>True</td>\n      <td>0.928810</td>\n      <td>0.929619</td>\n      <td>0.846679</td>\n      <td>0.876536</td>\n      <td>0.882634</td>\n      <td>0.699799</td>\n      <td>0.965689</td>\n      <td>0.953846</td>\n      <td>0.929155</td>\n      <td>0.764437</td>\n      <td>0.779874</td>\n      <td>0.005109</td>\n      <td>0.853358</td>\n      <td>0.858131</td>\n      <td>0.010163</td>\n      <td>XGBClassifier(base_score=0.5, booster='gbtree'...</td>\n    </tr>\n    <tr>\n      <th>12</th>\n      <td>credit_card</td>\n      <td>0.372030</td>\n      <td>2022-04-18 22:36:28.349269</td>\n      <td>True</td>\n      <td>0.928810</td>\n      <td>0.929619</td>\n      <td>0.846679</td>\n      <td>0.876536</td>\n      <td>0.882634</td>\n      <td>0.699799</td>\n      <td>0.965689</td>\n      <td>0.953846</td>\n      <td>0.929155</td>\n      <td>0.764437</td>\n      <td>0.779874</td>\n      <td>0.005109</td>\n      <td>0.853358</td>\n      <td>0.858131</td>\n      <td>0.010163</td>\n      <td>XGBClassifier(base_score=0.5, booster='gbtree'...</td>\n    </tr>\n    <tr>\n      <th>11</th>\n      <td>credit_card</td>\n      <td>0.372030</td>\n      <td>2022-04-18 22:30:52.693904</td>\n      <td>True</td>\n      <td>0.928810</td>\n      <td>0.929619</td>\n      <td>0.846679</td>\n      <td>0.876536</td>\n      <td>0.882634</td>\n      <td>0.699799</td>\n      <td>0.965689</td>\n      <td>0.953846</td>\n      <td>0.929155</td>\n      <td>0.764437</td>\n      <td>0.779874</td>\n      <td>0.005109</td>\n      <td>0.853358</td>\n      <td>0.858131</td>\n      <td>0.010163</td>\n      <td>XGBClassifier(base_score=0.5, booster='gbtree'...</td>\n    </tr>\n    <tr>\n      <th>10</th>\n      <td>credit_card</td>\n      <td>0.372030</td>\n      <td>2022-04-18 22:28:49.000739</td>\n      <td>True</td>\n      <td>0.919372</td>\n      <td>0.922418</td>\n      <td>0.861859</td>\n      <td>0.863593</td>\n      <td>0.869990</td>\n      <td>0.622773</td>\n      <td>0.973385</td>\n      <td>0.967949</td>\n      <td>0.990463</td>\n      <td>0.741089</td>\n      <td>0.753117</td>\n      <td>0.004336</td>\n      <td>0.841500</td>\n      <td>0.847125</td>\n      <td>0.008634</td>\n      <td>XGBClassifier(base_score=0.5, booster='gbtree'...</td>\n    </tr>\n    <tr>\n      <th>9</th>\n      <td>credit_card</td>\n      <td>0.372030</td>\n      <td>2022-04-18 22:25:16.441363</td>\n      <td>True</td>\n      <td>0.929953</td>\n      <td>0.928669</td>\n      <td>0.838041</td>\n      <td>0.876595</td>\n      <td>0.883349</td>\n      <td>0.673768</td>\n      <td>0.968735</td>\n      <td>0.958333</td>\n      <td>0.950954</td>\n      <td>0.763264</td>\n      <td>0.779052</td>\n      <td>0.004813</td>\n      <td>0.853812</td>\n      <td>0.859442</td>\n      <td>0.009577</td>\n      <td>XGBClassifier(base_score=0.5, booster='gbtree'...</td>\n    </tr>\n    <tr>\n      <th>8</th>\n      <td>em_acount</td>\n      <td>0.902959</td>\n      <td>2022-04-18 21:37:34.200245</td>\n      <td>True</td>\n      <td>0.950644</td>\n      <td>0.917028</td>\n      <td>0.842160</td>\n      <td>0.951014</td>\n      <td>0.941496</td>\n      <td>0.396085</td>\n      <td>0.989435</td>\n      <td>0.984534</td>\n      <td>0.877083</td>\n      <td>0.957715</td>\n      <td>0.952290</td>\n      <td>0.083061</td>\n      <td>0.973317</td>\n      <td>0.968144</td>\n      <td>0.151751</td>\n      <td>Pipeline(steps=[('model',\\n                 XG...</td>\n    </tr>\n    <tr>\n      <th>7</th>\n      <td>em_acount</td>\n      <td>0.902959</td>\n      <td>2022-04-18 21:36:57.529114</td>\n      <td>True</td>\n      <td>0.950644</td>\n      <td>0.917028</td>\n      <td>0.842160</td>\n      <td>0.951014</td>\n      <td>0.941496</td>\n      <td>0.396085</td>\n      <td>0.989435</td>\n      <td>0.984534</td>\n      <td>0.877083</td>\n      <td>0.957715</td>\n      <td>0.952290</td>\n      <td>0.083061</td>\n      <td>0.973317</td>\n      <td>0.968144</td>\n      <td>0.151751</td>\n      <td>Pipeline(steps=[('model',\\n                 XG...</td>\n    </tr>\n    <tr>\n      <th>6</th>\n      <td>em_acount</td>\n      <td>0.902959</td>\n      <td>2022-04-18 21:05:19.893296</td>\n      <td>True</td>\n      <td>0.943407</td>\n      <td>0.917594</td>\n      <td>0.840527</td>\n      <td>0.948747</td>\n      <td>0.941930</td>\n      <td>0.392663</td>\n      <td>0.988265</td>\n      <td>0.984581</td>\n      <td>0.877976</td>\n      <td>0.956425</td>\n      <td>0.952692</td>\n      <td>0.082696</td>\n      <td>0.972084</td>\n      <td>0.968374</td>\n      <td>0.151155</td>\n      <td>Pipeline(steps=[('transform', StandardScaler()...</td>\n    </tr>\n    <tr>\n      <th>5</th>\n      <td>em_acount</td>\n      <td>0.902959</td>\n      <td>2022-04-18 20:38:26.636688</td>\n      <td>True</td>\n      <td>0.957649</td>\n      <td>0.916784</td>\n      <td>0.839633</td>\n      <td>0.953442</td>\n      <td>0.941146</td>\n      <td>0.395119</td>\n      <td>0.990388</td>\n      <td>0.984038</td>\n      <td>0.875298</td>\n      <td>0.959364</td>\n      <td>0.952367</td>\n      <td>0.082797</td>\n      <td>0.974629</td>\n      <td>0.967944</td>\n      <td>0.151283</td>\n      <td>Pipeline(steps=[('transform', StandardScaler()...</td>\n    </tr>\n    <tr>\n      <th>4</th>\n      <td>em_acount</td>\n      <td>0.902959</td>\n      <td>2022-04-18 20:23:43.724056</td>\n      <td>True</td>\n      <td>0.957649</td>\n      <td>0.916784</td>\n      <td>0.839633</td>\n      <td>0.953442</td>\n      <td>0.941146</td>\n      <td>0.395119</td>\n      <td>0.990388</td>\n      <td>0.984038</td>\n      <td>0.875298</td>\n      <td>0.959364</td>\n      <td>0.952367</td>\n      <td>0.082797</td>\n      <td>0.974629</td>\n      <td>0.967944</td>\n      <td>0.151283</td>\n      <td>Pipeline(steps=[('transform', StandardScaler()...</td>\n    </tr>\n    <tr>\n      <th>3</th>\n      <td>em_acount</td>\n      <td>0.902959</td>\n      <td>2022-04-18 19:48:39.551950</td>\n      <td>True</td>\n      <td>0.934908</td>\n      <td>0.918900</td>\n      <td>0.821716</td>\n      <td>0.945861</td>\n      <td>0.942223</td>\n      <td>0.403832</td>\n      <td>0.987192</td>\n      <td>0.985495</td>\n      <td>0.868750</td>\n      <td>0.954416</td>\n      <td>0.952191</td>\n      <td>0.083397</td>\n      <td>0.970527</td>\n      <td>0.968557</td>\n      <td>0.152184</td>\n      <td>Pipeline(steps=[('model',\\n                 XG...</td>\n    </tr>\n    <tr>\n      <th>2</th>\n      <td>em_acount</td>\n      <td>0.902959</td>\n      <td>2022-04-18 19:42:19.484523</td>\n      <td>True</td>\n      <td>0.934908</td>\n      <td>0.918900</td>\n      <td>0.821716</td>\n      <td>0.945861</td>\n      <td>0.942223</td>\n      <td>0.403832</td>\n      <td>0.987192</td>\n      <td>0.985495</td>\n      <td>0.868750</td>\n      <td>0.954416</td>\n      <td>0.952191</td>\n      <td>0.083397</td>\n      <td>0.970527</td>\n      <td>0.968557</td>\n      <td>0.152184</td>\n      <td>Pipeline(steps=[('model',\\n                 XG...</td>\n    </tr>\n    <tr>\n      <th>1</th>\n      <td>em_acount</td>\n      <td>0.902959</td>\n      <td>2022-04-18 19:28:11.646760</td>\n      <td>True</td>\n      <td>0.937089</td>\n      <td>0.919856</td>\n      <td>0.826957</td>\n      <td>0.946239</td>\n      <td>0.942811</td>\n      <td>0.396586</td>\n      <td>0.987455</td>\n      <td>0.986084</td>\n      <td>0.869147</td>\n      <td>0.954571</td>\n      <td>0.952275</td>\n      <td>0.082497</td>\n      <td>0.970735</td>\n      <td>0.968885</td>\n      <td>0.150691</td>\n      <td>Pipeline(steps=[('transform', StandardScaler()...</td>\n    </tr>\n    <tr>\n      <th>0</th>\n      <td>em_acount</td>\n      <td>0.902959</td>\n      <td>2022-04-18 19:21:05.434710</td>\n      <td>True</td>\n      <td>0.937089</td>\n      <td>0.919856</td>\n      <td>0.826957</td>\n      <td>0.946239</td>\n      <td>0.942811</td>\n      <td>0.396586</td>\n      <td>0.987455</td>\n      <td>0.986084</td>\n      <td>0.869147</td>\n      <td>0.954571</td>\n      <td>0.952275</td>\n      <td>0.082497</td>\n      <td>0.970735</td>\n      <td>0.968885</td>\n      <td>0.150691</td>\n      <td>Pipeline(steps=[('transform', StandardScaler()...</td>\n    </tr>\n  </tbody>\n</table>\n</div>"
     },
     "execution_count": 21,
     "metadata": {},
     "output_type": "execute_result"
    }
   ],
   "source": [
    "report_df = reporter.record_evaluation(TARGET, model, X_train, y_train, X_test, y_test, X_val, y_val, train_df[TARGET].mean())\n",
    "report_df.sort_values(by=\"date\", ascending=False)"
   ],
   "metadata": {
    "collapsed": false,
    "pycharm": {
     "name": "#%%\n"
    }
   }
  },
  {
   "cell_type": "code",
   "execution_count": 22,
   "outputs": [
    {
     "data": {
      "text/plain": "Text(0, 0.5, 'TPR')"
     },
     "execution_count": 22,
     "metadata": {},
     "output_type": "execute_result"
    },
    {
     "data": {
      "text/plain": "<Figure size 360x360 with 1 Axes>",
      "image/png": "[encoded data removed]"
     },
     "metadata": {
      "needs_background": "light"
     },
     "output_type": "display_data"
    }
   ],
   "source": [
    "fpr, tpr, th = roc_curve(y_test, get_y_score(model, X_test, y_test))\n",
    "plt.figure(figsize=(5, 5))\n",
    "plt.plot(fpr, tpr)\n",
    "plt.plot([0, 1], [0, 1])\n",
    "plt.xlabel('FPR')\n",
    "plt.ylabel('TPR')"
   ],
   "metadata": {
    "collapsed": false,
    "pycharm": {
     "name": "#%%\n"
    }
   }
  },
  {
   "cell_type": "code",
   "execution_count": 23,
   "outputs": [
    {
     "data": {
      "text/plain": "<Figure size 432x288 with 2 Axes>",
      "image/png": "[encoded data removed]"
     },
     "metadata": {
      "needs_background": "light"
     },
     "output_type": "display_data"
    }
   ],
   "source": [
    "plot_confusion_matrix(model, X_test, y_test, values_format=\"d\", display_labels=[\"No compra\", \"Compra\"])\n",
    "plt.show()"
   ],
   "metadata": {
    "collapsed": false,
    "pycharm": {
     "name": "#%%\n"
    }
   }
  },
  {
   "cell_type": "code",
   "execution_count": 24,
   "outputs": [
    {
     "data": {
      "text/plain": "<AxesSubplot:>"
     },
     "execution_count": 24,
     "metadata": {},
     "output_type": "execute_result"
    },
    {
     "data": {
      "text/plain": "<Figure size 432x288 with 1 Axes>",
      "image/png": "[encoded data removed]"
     },
     "metadata": {
      "needs_background": "light"
     },
     "output_type": "display_data"
    }
   ],
   "source": [
    "feat_importances = pd.Series(model.feature_importances_, index=dev_X.columns)\n",
    "feat_importances.nlargest(20).plot(kind='barh')"
   ],
   "metadata": {
    "collapsed": false,
    "pycharm": {
     "name": "#%%\n"
    }
   }
  },
  {
   "cell_type": "markdown",
   "source": [
    "### Conclusions"
   ],
   "metadata": {
    "collapsed": false,
    "pycharm": {
     "name": "#%% md\n"
    }
   }
  },
  {
   "cell_type": "code",
   "execution_count": 25,
   "outputs": [
    {
     "data": {
      "text/plain": "                       33\ntarget          em_acount\ntarget_mean      0.713166\nroc_auc_test     0.913066\nroc_auc_val      0.890219\naccuracy_test    0.869721\naccuracy_val     0.804678\nrecall_test      0.934836\nrecall_val       0.849802\nprecision_test   0.888333\nprecision_val    0.418978\nf1_score_test    0.910991\nf1_score_val     0.561245",
      "text/html": "<div>\n<style scoped>\n    .dataframe tbody tr th:only-of-type {\n        vertical-align: middle;\n    }\n\n    .dataframe tbody tr th {\n        vertical-align: top;\n    }\n\n    .dataframe thead th {\n        text-align: right;\n    }\n</style>\n<table border=\"1\" class=\"dataframe\">\n  <thead>\n    <tr style=\"text-align: right;\">\n      <th></th>\n      <th>33</th>\n    </tr>\n  </thead>\n  <tbody>\n    <tr>\n      <th>target</th>\n      <td>em_acount</td>\n    </tr>\n    <tr>\n      <th>target_mean</th>\n      <td>0.713166</td>\n    </tr>\n    <tr>\n      <th>roc_auc_test</th>\n      <td>0.913066</td>\n    </tr>\n    <tr>\n      <th>roc_auc_val</th>\n      <td>0.890219</td>\n    </tr>\n    <tr>\n      <th>accuracy_test</th>\n      <td>0.869721</td>\n    </tr>\n    <tr>\n      <th>accuracy_val</th>\n      <td>0.804678</td>\n    </tr>\n    <tr>\n      <th>recall_test</th>\n      <td>0.934836</td>\n    </tr>\n    <tr>\n      <th>recall_val</th>\n      <td>0.849802</td>\n    </tr>\n    <tr>\n      <th>precision_test</th>\n      <td>0.888333</td>\n    </tr>\n    <tr>\n      <th>precision_val</th>\n      <td>0.418978</td>\n    </tr>\n    <tr>\n      <th>f1_score_test</th>\n      <td>0.910991</td>\n    </tr>\n    <tr>\n      <th>f1_score_val</th>\n      <td>0.561245</td>\n    </tr>\n  </tbody>\n</table>\n</div>"
     },
     "execution_count": 25,
     "metadata": {},
     "output_type": "execute_result"
    }
   ],
   "source": [
    "columns = [\n",
    "    \"target\",\n",
    "    \"target_mean\",\n",
    "    \"roc_auc_test\",\n",
    "    \"roc_auc_val\",\n",
    "    \"accuracy_test\",\n",
    "    \"accuracy_val\",\n",
    "    \"recall_test\",\n",
    "    \"recall_val\",\n",
    "    \"precision_test\",\n",
    "    \"precision_val\",\n",
    "    \"f1_score_test\",\n",
    "    \"f1_score_val\",\n",
    "]\n",
    "report_df.tail(1)[columns].T"
   ],
   "metadata": {
    "collapsed": false,
    "pycharm": {
     "name": "#%%\n"
    }
   }
  },
  {
   "cell_type": "code",
   "execution_count": 25,
   "outputs": [],
   "source": [],
   "metadata": {
    "collapsed": false,
    "pycharm": {
     "name": "#%%\n"
    }
   }
  },
  {
   "cell_type": "code",
   "execution_count": 25,
   "outputs": [],
   "source": [],
   "metadata": {
    "collapsed": false,
    "pycharm": {
     "name": "#%%\n"
    }
   }
  }
 ],
 "metadata": {
  "kernelspec": {
   "display_name": "Python 3",
   "language": "python",
   "name": "python3"
  },
  "language_info": {
   "codemirror_mode": {
    "name": "ipython",
    "version": 2
   },
   "file_extension": ".py",
   "mimetype": "text/x-python",
   "name": "python",
   "nbconvert_exporter": "python",
   "pygments_lexer": "ipython2",
   "version": "2.7.6"
  }
 },
 "nbformat": 4,
 "nbformat_minor": 0
}