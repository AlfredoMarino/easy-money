{
 "cells": [
  {
   "cell_type": "markdown",
   "source": [
    "# Easy Money - Recomendation"
   ],
   "metadata": {
    "collapsed": false,
    "pycharm": {
     "name": "#%% md\n"
    }
   }
  },
  {
   "cell_type": "code",
   "execution_count": 1,
   "metadata": {
    "collapsed": true
   },
   "outputs": [],
   "source": [
    "import pandas as pd\n",
    "import numpy as np\n",
    "import matplotlib.pyplot as plt\n",
    "import os\n",
    "\n",
    "from sklearn.cluster import KMeans\n",
    "from sklearn.pipeline import Pipeline\n",
    "from sklearn.preprocessing import MinMaxScaler"
   ]
  },
  {
   "cell_type": "markdown",
   "source": [
    "## Configurations"
   ],
   "metadata": {
    "collapsed": false
   }
  },
  {
   "cell_type": "code",
   "execution_count": 2,
   "outputs": [],
   "source": [
    "__POTENTIAL_CLIENTS_PATH__ = \"../data/result/potential_clients\"\n",
    "__POTENTIAL_CLIENTS_SAMPLE__ = \"../data/result/potential_clients_sample.csv\"\n",
    "\n",
    "RANDOM_STATE = 123\n",
    "POTENTIAL_CLIENTS_TARGET_SIZE = 10000"
   ],
   "metadata": {
    "collapsed": false,
    "pycharm": {
     "name": "#%%\n"
    }
   }
  },
  {
   "cell_type": "markdown",
   "source": [
    "## Functions"
   ],
   "metadata": {
    "collapsed": false,
    "pycharm": {
     "name": "#%% md\n"
    }
   }
  },
  {
   "cell_type": "code",
   "execution_count": 3,
   "outputs": [],
   "source": [
    "def one_hot_encode(dataframe: pd.DataFrame, column_name: str) -> pd.DataFrame:\n",
    "    _dummy_dataset = pd.get_dummies(dataframe[column_name], prefix=column_name)\n",
    "    return pd.concat([dataframe, _dummy_dataset], axis=1).drop([column_name], axis=1)\n",
    "\n",
    "\n",
    "def encode_dataframe(dataframe: pd.DataFrame) -> pd.DataFrame:\n",
    "    cat_columns = [col for col in dataframe.select_dtypes(exclude=[np.number, \"datetime\"]).columns]\n",
    "    print(f\"columns to encode: {cat_columns}\")\n",
    "\n",
    "    print(f\"dataframe before one-hot encoding: {dataframe.shape}\")\n",
    "    for cat_col in cat_columns:\n",
    "        dataframe = one_hot_encode(dataframe, cat_col)\n",
    "\n",
    "    print(f\"dataframe after one-hot encoding:  {dataframe.shape}\")\n",
    "    return dataframe"
   ],
   "metadata": {
    "collapsed": false,
    "pycharm": {
     "name": "#%%\n"
    }
   }
  },
  {
   "cell_type": "markdown",
   "source": [
    "## Import data"
   ],
   "metadata": {
    "collapsed": false,
    "pycharm": {
     "name": "#%% md\n"
    }
   }
  },
  {
   "cell_type": "code",
   "execution_count": 4,
   "outputs": [],
   "source": [
    "dtypes = {'pk_cid': 'int64', 'active_customer': 'int8',\n",
    "          'region_code': 'int8', 'gender': 'int8', 'age': 'int8', 'deceased': 'int8',\n",
    "          'short_term_deposit': 'int8', 'loans': 'int8', 'mortgage': 'int8',\n",
    "          'funds': 'int8', 'securities': 'int8', 'long_term_deposit': 'int8',\n",
    "          'em_account_pp': 'int8', 'credit_card': 'int8', 'payroll': 'int8',\n",
    "          'pension_plan': 'int8', 'payroll_account': 'int8', 'emc_account': 'int8',\n",
    "          'debit_card': 'int8', 'em_account_p': 'int8', 'em_acount': 'int8',\n",
    "          'entry_date_month': 'int8', 'entry_date_year': 'int8', 'entry_date_day': 'int8',\n",
    "          'entry_date_week': 'int8', 'entry_date_weekday': 'int8', 'entry_date_trim': 'int8',\n",
    "          'salary': 'float64', 'entry_channel_004': 'int8', 'entry_channel_007': 'int8',\n",
    "          'entry_channel_013': 'int8', 'entry_channel_KAA': 'int8', 'entry_channel_KAB': 'int8',\n",
    "          'entry_channel_KAD': 'int8', 'entry_channel_KAE': 'int8', 'entry_channel_KAF': 'int8',\n",
    "          'entry_channel_KAG': 'int8', 'entry_channel_KAH': 'int8', 'entry_channel_KAI': 'int8',\n",
    "          'entry_channel_KAJ': 'int8', 'entry_channel_KAK': 'int8', 'entry_channel_KAM': 'int8',\n",
    "          'entry_channel_KAQ': 'int8', 'entry_channel_KAR': 'int8', 'entry_channel_KAS': 'int8',\n",
    "          'entry_channel_KAT': 'int8', 'entry_channel_KAW': 'int8', 'entry_channel_KAY': 'int8',\n",
    "          'entry_channel_KAZ': 'int8', 'entry_channel_KBE': 'int8', 'entry_channel_KBG': 'int8',\n",
    "          'entry_channel_KBH': 'int8', 'entry_channel_KBO': 'int8', 'entry_channel_KBU': 'int8',\n",
    "          'entry_channel_KBW': 'int8', 'entry_channel_KBY': 'int8', 'entry_channel_KBZ': 'int8',\n",
    "          'entry_channel_KCB': 'int8', 'entry_channel_KCC': 'int8', 'entry_channel_KCH': 'int8',\n",
    "          'entry_channel_KCI': 'int8', 'entry_channel_KCK': 'int8', 'entry_channel_KCL': 'int8',\n",
    "          'entry_channel_KDA': 'int8', 'entry_channel_KDH': 'int8', 'entry_channel_KDR': 'int8',\n",
    "          'entry_channel_KDS': 'int8', 'entry_channel_KDT': 'int8', 'entry_channel_KEH': 'int8',\n",
    "          'entry_channel_KEJ': 'int8', 'entry_channel_KES': 'int8', 'entry_channel_KEY': 'int8',\n",
    "          'entry_channel_KFA': 'int8', 'entry_channel_KFC': 'int8', 'entry_channel_KFD': 'int8',\n",
    "          'entry_channel_KFF': 'int8', 'entry_channel_KFK': 'int8', 'entry_channel_KFL': 'int8',\n",
    "          'entry_channel_KFP': 'int8', 'entry_channel_KFS': 'int8', 'entry_channel_KGC': 'int8',\n",
    "          'entry_channel_KGN': 'int8', 'entry_channel_KGX': 'int8', 'entry_channel_KHC': 'int8',\n",
    "          'entry_channel_KHD': 'int8', 'entry_channel_KHE': 'int8', 'entry_channel_KHF': 'int8',\n",
    "          'entry_channel_KHK': 'int8', 'entry_channel_KHL': 'int8', 'entry_channel_KHM': 'int8',\n",
    "          'entry_channel_KHN': 'int8', 'entry_channel_KHO': 'int8', 'entry_channel_KHP': 'int8',\n",
    "          'entry_channel_KHQ': 'int8', 'entry_channel_KHS': 'int8', 'entry_channel_RED': 'int8',\n",
    "          'entry_channel_UNKNOWN': 'int8', 'segment_00 - OTROS': 'int8',\n",
    "          'segment_01 - TOP': 'int8', 'segment_02 - PARTICULARES': 'int8',\n",
    "          'segment_03 - UNIVERSITARIO': 'int8', 'country_id_AR': 'int8', 'country_id_AT': 'int8',\n",
    "          'country_id_BE': 'int8', 'country_id_BR': 'int8', 'country_id_CA': 'int8',\n",
    "          'country_id_CH': 'int8', 'country_id_CI': 'int8', 'country_id_CL': 'int8',\n",
    "          'country_id_CM': 'int8', 'country_id_CN': 'int8', 'country_id_CO': 'int8',\n",
    "          'country_id_DE': 'int8', 'country_id_DJ': 'int8', 'country_id_DO': 'int8',\n",
    "          'country_id_DZ': 'int8', 'country_id_ES': 'int8', 'country_id_ET': 'int8',\n",
    "          'country_id_FR': 'int8', 'country_id_GA': 'int8', 'country_id_GB': 'int8',\n",
    "          'country_id_GT': 'int8', 'country_id_HU': 'int8', 'country_id_IE': 'int8',\n",
    "          'country_id_IT': 'int8', 'country_id_JM': 'int8', 'country_id_LU': 'int8',\n",
    "          'country_id_MA': 'int8', 'country_id_MR': 'int8', 'country_id_MX': 'int8',\n",
    "          'country_id_NO': 'int8', 'country_id_PE': 'int8', 'country_id_PL': 'int8',\n",
    "          'country_id_PT': 'int8', 'country_id_QA': 'int8', 'country_id_RO': 'int8',\n",
    "          'country_id_RU': 'int8', 'country_id_SA': 'int8', 'country_id_SE': 'int8',\n",
    "          'country_id_SN': 'int8', 'country_id_US': 'int8', 'country_id_VE': 'int8',\n",
    "          'prediction': 'int8', 'product_to_sale': 'str'}\n",
    "\n",
    "parse_dates = ['pk_partition']"
   ],
   "metadata": {
    "collapsed": false,
    "pycharm": {
     "name": "#%%\n"
    }
   }
  },
  {
   "cell_type": "code",
   "execution_count": 6,
   "outputs": [
    {
     "name": "stdout",
     "output_type": "stream",
     "text": [
      "Wall time: 415 ms\n"
     ]
    },
    {
     "data": {
      "text/plain": "em_acount             3984\nfunds                 3311\ndebit_card            2369\nlong_term_deposit     2033\ncredit_card           2000\nshort_term_deposit    1863\nemc_account           1316\nsecurities             867\npayroll_account        776\npayroll                103\npension_plan            45\nName: product_to_sale, dtype: int64"
     },
     "execution_count": 6,
     "metadata": {},
     "output_type": "execute_result"
    }
   ],
   "source": [
    "%%time\n",
    "potential_client_files = os.listdir(__POTENTIAL_CLIENTS_PATH__)\n",
    "\n",
    "df = None\n",
    "for potential_client_file in potential_client_files:\n",
    "\n",
    "    if not potential_client_file.endswith(\".csv\"):\n",
    "        continue\n",
    "\n",
    "    if df is None:\n",
    "        df = pd.read_csv(f\"{__POTENTIAL_CLIENTS_PATH__}/{potential_client_file}\", dtype=dtypes, parse_dates=parse_dates)\n",
    "    else:\n",
    "        df = df.append(\n",
    "            pd.read_csv(f\"{__POTENTIAL_CLIENTS_PATH__}/{potential_client_file}\", dtype=dtypes, parse_dates=parse_dates))\n",
    "\n",
    "df.drop(\"Unnamed: 0\", axis=1, inplace=True)\n",
    "df[\"pk_partition\"] = pd.to_datetime(df[\"pk_partition\"])\n",
    "df[\"product_to_sale\"].value_counts()"
   ],
   "metadata": {
    "collapsed": false,
    "pycharm": {
     "name": "#%%\n"
    }
   }
  },
  {
   "cell_type": "code",
   "execution_count": 7,
   "outputs": [
    {
     "data": {
      "text/plain": "<Figure size 1440x360 with 1 Axes>",
      "image/png": "[encoded data removed]"
     },
     "metadata": {
      "needs_background": "light"
     },
     "output_type": "display_data"
    },
    {
     "data": {
      "text/plain": "                    cantidad  score_mean\nproduct_to_sale                         \ncredit_card             2000    0.640841\ndebit_card              2369    0.583414\nem_acount               3984    0.772796\nemc_account             1316    0.661990\nfunds                   3311    0.575638\nlong_term_deposit       2033    0.675352\npayroll                  103    0.539006\npayroll_account          776    0.737084\npension_plan              45    0.694813\nsecurities               867    0.589437\nshort_term_deposit      1863    0.689750",
      "text/html": "<div>\n<style scoped>\n    .dataframe tbody tr th:only-of-type {\n        vertical-align: middle;\n    }\n\n    .dataframe tbody tr th {\n        vertical-align: top;\n    }\n\n    .dataframe thead th {\n        text-align: right;\n    }\n</style>\n<table border=\"1\" class=\"dataframe\">\n  <thead>\n    <tr style=\"text-align: right;\">\n      <th></th>\n      <th>cantidad</th>\n      <th>score_mean</th>\n    </tr>\n    <tr>\n      <th>product_to_sale</th>\n      <th></th>\n      <th></th>\n    </tr>\n  </thead>\n  <tbody>\n    <tr>\n      <th>credit_card</th>\n      <td>2000</td>\n      <td>0.640841</td>\n    </tr>\n    <tr>\n      <th>debit_card</th>\n      <td>2369</td>\n      <td>0.583414</td>\n    </tr>\n    <tr>\n      <th>em_acount</th>\n      <td>3984</td>\n      <td>0.772796</td>\n    </tr>\n    <tr>\n      <th>emc_account</th>\n      <td>1316</td>\n      <td>0.661990</td>\n    </tr>\n    <tr>\n      <th>funds</th>\n      <td>3311</td>\n      <td>0.575638</td>\n    </tr>\n    <tr>\n      <th>long_term_deposit</th>\n      <td>2033</td>\n      <td>0.675352</td>\n    </tr>\n    <tr>\n      <th>payroll</th>\n      <td>103</td>\n      <td>0.539006</td>\n    </tr>\n    <tr>\n      <th>payroll_account</th>\n      <td>776</td>\n      <td>0.737084</td>\n    </tr>\n    <tr>\n      <th>pension_plan</th>\n      <td>45</td>\n      <td>0.694813</td>\n    </tr>\n    <tr>\n      <th>securities</th>\n      <td>867</td>\n      <td>0.589437</td>\n    </tr>\n    <tr>\n      <th>short_term_deposit</th>\n      <td>1863</td>\n      <td>0.689750</td>\n    </tr>\n  </tbody>\n</table>\n</div>"
     },
     "execution_count": 7,
     "metadata": {},
     "output_type": "execute_result"
    }
   ],
   "source": [
    "plt.figure(figsize=(20, 5))\n",
    "df[\"product_to_sale\"].hist(bins=22, xlabelsize=13, ylabelsize=12)\n",
    "plt.show()\n",
    "df.groupby([\"product_to_sale\"]).agg(\n",
    "    cantidad = (\"pk_cid\", len),\n",
    "    score_mean = (\"score\", np.mean),\n",
    ")"
   ],
   "metadata": {
    "collapsed": false,
    "pycharm": {
     "name": "#%%\n"
    }
   }
  },
  {
   "cell_type": "markdown",
   "source": [
    "## Filter best potential clients"
   ],
   "metadata": {
    "collapsed": false,
    "pycharm": {
     "name": "#%% md\n"
    }
   }
  },
  {
   "cell_type": "code",
   "execution_count": 8,
   "outputs": [
    {
     "name": "stdout",
     "output_type": "stream",
     "text": [
      "Potenciales clientes que con mas de un 60% nos compraran un producto el proximo mes: 10349\n"
     ]
    },
    {
     "data": {
      "text/plain": "        pk_cid     score     product_to_sale\n0       100167  0.669042         credit_card\n1       117575  0.668268         credit_card\n2       124619  0.670978         credit_card\n3       131601  0.643220         credit_card\n4       135309  0.754430         credit_card\n...        ...       ...                 ...\n10344  1548342  0.605791  short_term_deposit\n10345  1549211  0.647179  short_term_deposit\n10346  1551116  0.618666  short_term_deposit\n10347  1551363  0.640164  short_term_deposit\n10348  1552488  0.605628  short_term_deposit\n\n[10349 rows x 3 columns]",
      "text/html": "<div>\n<style scoped>\n    .dataframe tbody tr th:only-of-type {\n        vertical-align: middle;\n    }\n\n    .dataframe tbody tr th {\n        vertical-align: top;\n    }\n\n    .dataframe thead th {\n        text-align: right;\n    }\n</style>\n<table border=\"1\" class=\"dataframe\">\n  <thead>\n    <tr style=\"text-align: right;\">\n      <th></th>\n      <th>pk_cid</th>\n      <th>score</th>\n      <th>product_to_sale</th>\n    </tr>\n  </thead>\n  <tbody>\n    <tr>\n      <th>0</th>\n      <td>100167</td>\n      <td>0.669042</td>\n      <td>credit_card</td>\n    </tr>\n    <tr>\n      <th>1</th>\n      <td>117575</td>\n      <td>0.668268</td>\n      <td>credit_card</td>\n    </tr>\n    <tr>\n      <th>2</th>\n      <td>124619</td>\n      <td>0.670978</td>\n      <td>credit_card</td>\n    </tr>\n    <tr>\n      <th>3</th>\n      <td>131601</td>\n      <td>0.643220</td>\n      <td>credit_card</td>\n    </tr>\n    <tr>\n      <th>4</th>\n      <td>135309</td>\n      <td>0.754430</td>\n      <td>credit_card</td>\n    </tr>\n    <tr>\n      <th>...</th>\n      <td>...</td>\n      <td>...</td>\n      <td>...</td>\n    </tr>\n    <tr>\n      <th>10344</th>\n      <td>1548342</td>\n      <td>0.605791</td>\n      <td>short_term_deposit</td>\n    </tr>\n    <tr>\n      <th>10345</th>\n      <td>1549211</td>\n      <td>0.647179</td>\n      <td>short_term_deposit</td>\n    </tr>\n    <tr>\n      <th>10346</th>\n      <td>1551116</td>\n      <td>0.618666</td>\n      <td>short_term_deposit</td>\n    </tr>\n    <tr>\n      <th>10347</th>\n      <td>1551363</td>\n      <td>0.640164</td>\n      <td>short_term_deposit</td>\n    </tr>\n    <tr>\n      <th>10348</th>\n      <td>1552488</td>\n      <td>0.605628</td>\n      <td>short_term_deposit</td>\n    </tr>\n  </tbody>\n</table>\n<p>10349 rows × 3 columns</p>\n</div>"
     },
     "execution_count": 8,
     "metadata": {},
     "output_type": "execute_result"
    }
   ],
   "source": [
    "df_filtered = df.copy(deep=True)\n",
    "df_filtered = df_filtered[df_filtered[\"score\"] > 0.60].reset_index(drop=True)\n",
    "potential_filter_size = len(df_filtered)\n",
    "print(f\"Potenciales clientes que con mas de un 60% nos compraran un producto el proximo mes: {potential_filter_size}\")\n",
    "df_filtered[[\"pk_cid\", \"score\", \"product_to_sale\"]]"
   ],
   "metadata": {
    "collapsed": false,
    "pycharm": {
     "name": "#%%\n"
    }
   }
  },
  {
   "cell_type": "code",
   "execution_count": 9,
   "outputs": [
    {
     "data": {
      "text/plain": "       pk_cid     score product_to_sale\n5021  1307561  0.706787       em_acount\n3536  1103259  0.724620       em_acount\n5840  1537488  0.608672       em_acount\n3401  1090353  0.708940       em_acount\n3317  1081870  0.741446       em_acount\n...       ...       ...             ...\n5312  1352757  0.655529       em_acount\n3622  1110937  0.714293       em_acount\n3822  1149553  0.706882       em_acount\n2802  1014549  0.748732       em_acount\n3329  1082743  0.680438       em_acount\n\n[349 rows x 3 columns]",
      "text/html": "<div>\n<style scoped>\n    .dataframe tbody tr th:only-of-type {\n        vertical-align: middle;\n    }\n\n    .dataframe tbody tr th {\n        vertical-align: top;\n    }\n\n    .dataframe thead th {\n        text-align: right;\n    }\n</style>\n<table border=\"1\" class=\"dataframe\">\n  <thead>\n    <tr style=\"text-align: right;\">\n      <th></th>\n      <th>pk_cid</th>\n      <th>score</th>\n      <th>product_to_sale</th>\n    </tr>\n  </thead>\n  <tbody>\n    <tr>\n      <th>5021</th>\n      <td>1307561</td>\n      <td>0.706787</td>\n      <td>em_acount</td>\n    </tr>\n    <tr>\n      <th>3536</th>\n      <td>1103259</td>\n      <td>0.724620</td>\n      <td>em_acount</td>\n    </tr>\n    <tr>\n      <th>5840</th>\n      <td>1537488</td>\n      <td>0.608672</td>\n      <td>em_acount</td>\n    </tr>\n    <tr>\n      <th>3401</th>\n      <td>1090353</td>\n      <td>0.708940</td>\n      <td>em_acount</td>\n    </tr>\n    <tr>\n      <th>3317</th>\n      <td>1081870</td>\n      <td>0.741446</td>\n      <td>em_acount</td>\n    </tr>\n    <tr>\n      <th>...</th>\n      <td>...</td>\n      <td>...</td>\n      <td>...</td>\n    </tr>\n    <tr>\n      <th>5312</th>\n      <td>1352757</td>\n      <td>0.655529</td>\n      <td>em_acount</td>\n    </tr>\n    <tr>\n      <th>3622</th>\n      <td>1110937</td>\n      <td>0.714293</td>\n      <td>em_acount</td>\n    </tr>\n    <tr>\n      <th>3822</th>\n      <td>1149553</td>\n      <td>0.706882</td>\n      <td>em_acount</td>\n    </tr>\n    <tr>\n      <th>2802</th>\n      <td>1014549</td>\n      <td>0.748732</td>\n      <td>em_acount</td>\n    </tr>\n    <tr>\n      <th>3329</th>\n      <td>1082743</td>\n      <td>0.680438</td>\n      <td>em_acount</td>\n    </tr>\n  </tbody>\n</table>\n<p>349 rows × 3 columns</p>\n</div>"
     },
     "execution_count": 9,
     "metadata": {},
     "output_type": "execute_result"
    }
   ],
   "source": [
    "to_delete = abs(POTENTIAL_CLIENTS_TARGET_SIZE - potential_filter_size)\n",
    "em_acount_to_delete = df_filtered[(df_filtered[\"score\"] < 0.75) & (df_filtered[\"product_to_sale\"] == \"em_acount\")]\n",
    "em_acount_to_delete = em_acount_to_delete.sample(to_delete, random_state=RANDOM_STATE)\n",
    "em_acount_to_delete[[\"pk_cid\", \"score\", \"product_to_sale\"]]"
   ],
   "metadata": {
    "collapsed": false,
    "pycharm": {
     "name": "#%%\n"
    }
   }
  },
  {
   "cell_type": "code",
   "execution_count": 10,
   "outputs": [
    {
     "data": {
      "text/plain": "        pk_cid  credit_card pk_partition  active_customer  region_code  \\\n0       100167            0   2019-05-28                1           28   \n1       117575            0   2019-05-28                1           28   \n2       124619            0   2019-05-28                1           28   \n3       131601            0   2019-05-28                1           28   \n4       135309            0   2019-05-28                1           28   \n...        ...          ...          ...              ...          ...   \n10344  1548342            0   2019-05-28                1           28   \n10345  1549211            0   2019-05-28                1           46   \n10346  1551116            0   2019-05-28                1            8   \n10347  1551363            0   2019-05-28                1           28   \n10348  1552488            0   2019-05-28                1           28   \n\n       gender  age  deceased  short_term_deposit  loans  ...  country_id_RO  \\\n0           1   49         0                   0      0  ...              0   \n1           1   85         0                   0      0  ...              0   \n2           0   47         0                   0      0  ...              0   \n3           1   64         0                   0      0  ...              0   \n4           1   46         0                   0      0  ...              0   \n...       ...  ...       ...                 ...    ...  ...            ...   \n10344       1   28         0                   0      0  ...              0   \n10345       0   30         0                   0      0  ...              0   \n10346       0   28         0                   0      0  ...              0   \n10347       1   29         0                   0      0  ...              0   \n10348       1   58         0                   0      0  ...              0   \n\n       country_id_RU  country_id_SA  country_id_SE  country_id_SN  \\\n0                  0              0              0              0   \n1                  0              0              0              0   \n2                  0              0              0              0   \n3                  0              0              0              0   \n4                  0              0              0              0   \n...              ...            ...            ...            ...   \n10344              0              0              0              0   \n10345              0              0              0              0   \n10346              0              0              0              0   \n10347              0              0              0              0   \n10348              0              0              0              0   \n\n       country_id_US  country_id_VE  prediction     score     product_to_sale  \n0                  0              0           1  0.669042         credit_card  \n1                  0              0           1  0.668268         credit_card  \n2                  0              0           1  0.670978         credit_card  \n3                  0              0           1  0.643220         credit_card  \n4                  0              0           1  0.754430         credit_card  \n...              ...            ...         ...       ...                 ...  \n10344              0              0           1  0.605791  short_term_deposit  \n10345              0              0           1  0.647179  short_term_deposit  \n10346              0              0           1  0.618666  short_term_deposit  \n10347              0              0           1  0.640164  short_term_deposit  \n10348              0              0           1  0.605628  short_term_deposit  \n\n[10000 rows x 146 columns]",
      "text/html": "<div>\n<style scoped>\n    .dataframe tbody tr th:only-of-type {\n        vertical-align: middle;\n    }\n\n    .dataframe tbody tr th {\n        vertical-align: top;\n    }\n\n    .dataframe thead th {\n        text-align: right;\n    }\n</style>\n<table border=\"1\" class=\"dataframe\">\n  <thead>\n    <tr style=\"text-align: right;\">\n      <th></th>\n      <th>pk_cid</th>\n      <th>credit_card</th>\n      <th>pk_partition</th>\n      <th>active_customer</th>\n      <th>region_code</th>\n      <th>gender</th>\n      <th>age</th>\n      <th>deceased</th>\n      <th>short_term_deposit</th>\n      <th>loans</th>\n      <th>...</th>\n      <th>country_id_RO</th>\n      <th>country_id_RU</th>\n      <th>country_id_SA</th>\n      <th>country_id_SE</th>\n      <th>country_id_SN</th>\n      <th>country_id_US</th>\n      <th>country_id_VE</th>\n      <th>prediction</th>\n      <th>score</th>\n      <th>product_to_sale</th>\n    </tr>\n  </thead>\n  <tbody>\n    <tr>\n      <th>0</th>\n      <td>100167</td>\n      <td>0</td>\n      <td>2019-05-28</td>\n      <td>1</td>\n      <td>28</td>\n      <td>1</td>\n      <td>49</td>\n      <td>0</td>\n      <td>0</td>\n      <td>0</td>\n      <td>...</td>\n      <td>0</td>\n      <td>0</td>\n      <td>0</td>\n      <td>0</td>\n      <td>0</td>\n      <td>0</td>\n      <td>0</td>\n      <td>1</td>\n      <td>0.669042</td>\n      <td>credit_card</td>\n    </tr>\n    <tr>\n      <th>1</th>\n      <td>117575</td>\n      <td>0</td>\n      <td>2019-05-28</td>\n      <td>1</td>\n      <td>28</td>\n      <td>1</td>\n      <td>85</td>\n      <td>0</td>\n      <td>0</td>\n      <td>0</td>\n      <td>...</td>\n      <td>0</td>\n      <td>0</td>\n      <td>0</td>\n      <td>0</td>\n      <td>0</td>\n      <td>0</td>\n      <td>0</td>\n      <td>1</td>\n      <td>0.668268</td>\n      <td>credit_card</td>\n    </tr>\n    <tr>\n      <th>2</th>\n      <td>124619</td>\n      <td>0</td>\n      <td>2019-05-28</td>\n      <td>1</td>\n      <td>28</td>\n      <td>0</td>\n      <td>47</td>\n      <td>0</td>\n      <td>0</td>\n      <td>0</td>\n      <td>...</td>\n      <td>0</td>\n      <td>0</td>\n      <td>0</td>\n      <td>0</td>\n      <td>0</td>\n      <td>0</td>\n      <td>0</td>\n      <td>1</td>\n      <td>0.670978</td>\n      <td>credit_card</td>\n    </tr>\n    <tr>\n      <th>3</th>\n      <td>131601</td>\n      <td>0</td>\n      <td>2019-05-28</td>\n      <td>1</td>\n      <td>28</td>\n      <td>1</td>\n      <td>64</td>\n      <td>0</td>\n      <td>0</td>\n      <td>0</td>\n      <td>...</td>\n      <td>0</td>\n      <td>0</td>\n      <td>0</td>\n      <td>0</td>\n      <td>0</td>\n      <td>0</td>\n      <td>0</td>\n      <td>1</td>\n      <td>0.643220</td>\n      <td>credit_card</td>\n    </tr>\n    <tr>\n      <th>4</th>\n      <td>135309</td>\n      <td>0</td>\n      <td>2019-05-28</td>\n      <td>1</td>\n      <td>28</td>\n      <td>1</td>\n      <td>46</td>\n      <td>0</td>\n      <td>0</td>\n      <td>0</td>\n      <td>...</td>\n      <td>0</td>\n      <td>0</td>\n      <td>0</td>\n      <td>0</td>\n      <td>0</td>\n      <td>0</td>\n      <td>0</td>\n      <td>1</td>\n      <td>0.754430</td>\n      <td>credit_card</td>\n    </tr>\n    <tr>\n      <th>...</th>\n      <td>...</td>\n      <td>...</td>\n      <td>...</td>\n      <td>...</td>\n      <td>...</td>\n      <td>...</td>\n      <td>...</td>\n      <td>...</td>\n      <td>...</td>\n      <td>...</td>\n      <td>...</td>\n      <td>...</td>\n      <td>...</td>\n      <td>...</td>\n      <td>...</td>\n      <td>...</td>\n      <td>...</td>\n      <td>...</td>\n      <td>...</td>\n      <td>...</td>\n      <td>...</td>\n    </tr>\n    <tr>\n      <th>10344</th>\n      <td>1548342</td>\n      <td>0</td>\n      <td>2019-05-28</td>\n      <td>1</td>\n      <td>28</td>\n      <td>1</td>\n      <td>28</td>\n      <td>0</td>\n      <td>0</td>\n      <td>0</td>\n      <td>...</td>\n      <td>0</td>\n      <td>0</td>\n      <td>0</td>\n      <td>0</td>\n      <td>0</td>\n      <td>0</td>\n      <td>0</td>\n      <td>1</td>\n      <td>0.605791</td>\n      <td>short_term_deposit</td>\n    </tr>\n    <tr>\n      <th>10345</th>\n      <td>1549211</td>\n      <td>0</td>\n      <td>2019-05-28</td>\n      <td>1</td>\n      <td>46</td>\n      <td>0</td>\n      <td>30</td>\n      <td>0</td>\n      <td>0</td>\n      <td>0</td>\n      <td>...</td>\n      <td>0</td>\n      <td>0</td>\n      <td>0</td>\n      <td>0</td>\n      <td>0</td>\n      <td>0</td>\n      <td>0</td>\n      <td>1</td>\n      <td>0.647179</td>\n      <td>short_term_deposit</td>\n    </tr>\n    <tr>\n      <th>10346</th>\n      <td>1551116</td>\n      <td>0</td>\n      <td>2019-05-28</td>\n      <td>1</td>\n      <td>8</td>\n      <td>0</td>\n      <td>28</td>\n      <td>0</td>\n      <td>0</td>\n      <td>0</td>\n      <td>...</td>\n      <td>0</td>\n      <td>0</td>\n      <td>0</td>\n      <td>0</td>\n      <td>0</td>\n      <td>0</td>\n      <td>0</td>\n      <td>1</td>\n      <td>0.618666</td>\n      <td>short_term_deposit</td>\n    </tr>\n    <tr>\n      <th>10347</th>\n      <td>1551363</td>\n      <td>0</td>\n      <td>2019-05-28</td>\n      <td>1</td>\n      <td>28</td>\n      <td>1</td>\n      <td>29</td>\n      <td>0</td>\n      <td>0</td>\n      <td>0</td>\n      <td>...</td>\n      <td>0</td>\n      <td>0</td>\n      <td>0</td>\n      <td>0</td>\n      <td>0</td>\n      <td>0</td>\n      <td>0</td>\n      <td>1</td>\n      <td>0.640164</td>\n      <td>short_term_deposit</td>\n    </tr>\n    <tr>\n      <th>10348</th>\n      <td>1552488</td>\n      <td>0</td>\n      <td>2019-05-28</td>\n      <td>1</td>\n      <td>28</td>\n      <td>1</td>\n      <td>58</td>\n      <td>0</td>\n      <td>0</td>\n      <td>0</td>\n      <td>...</td>\n      <td>0</td>\n      <td>0</td>\n      <td>0</td>\n      <td>0</td>\n      <td>0</td>\n      <td>0</td>\n      <td>0</td>\n      <td>1</td>\n      <td>0.605628</td>\n      <td>short_term_deposit</td>\n    </tr>\n  </tbody>\n</table>\n<p>10000 rows × 146 columns</p>\n</div>"
     },
     "execution_count": 10,
     "metadata": {},
     "output_type": "execute_result"
    }
   ],
   "source": [
    "df_filtered = df_filtered.drop(em_acount_to_delete.index)\n",
    "df_filtered"
   ],
   "metadata": {
    "collapsed": false,
    "pycharm": {
     "name": "#%%\n"
    }
   }
  },
  {
   "cell_type": "code",
   "execution_count": 11,
   "outputs": [
    {
     "data": {
      "text/plain": "<Figure size 1440x360 with 1 Axes>",
      "image/png": "[encoded data removed]"
     },
     "metadata": {
      "needs_background": "light"
     },
     "output_type": "display_data"
    },
    {
     "data": {
      "text/plain": "                    cantidad  score_mean\nproduct_to_sale                         \ncredit_card             1098    0.722669\ndebit_card               739    0.681305\nem_acount               3171    0.815483\nemc_account              814    0.737569\nfunds                    631    0.700593\nlong_term_deposit       1358    0.739027\npayroll_account          553    0.811714\npension_plan              34    0.739178\nsecurities               313    0.674642\nshort_term_deposit      1289    0.752127",
      "text/html": "<div>\n<style scoped>\n    .dataframe tbody tr th:only-of-type {\n        vertical-align: middle;\n    }\n\n    .dataframe tbody tr th {\n        vertical-align: top;\n    }\n\n    .dataframe thead th {\n        text-align: right;\n    }\n</style>\n<table border=\"1\" class=\"dataframe\">\n  <thead>\n    <tr style=\"text-align: right;\">\n      <th></th>\n      <th>cantidad</th>\n      <th>score_mean</th>\n    </tr>\n    <tr>\n      <th>product_to_sale</th>\n      <th></th>\n      <th></th>\n    </tr>\n  </thead>\n  <tbody>\n    <tr>\n      <th>credit_card</th>\n      <td>1098</td>\n      <td>0.722669</td>\n    </tr>\n    <tr>\n      <th>debit_card</th>\n      <td>739</td>\n      <td>0.681305</td>\n    </tr>\n    <tr>\n      <th>em_acount</th>\n      <td>3171</td>\n      <td>0.815483</td>\n    </tr>\n    <tr>\n      <th>emc_account</th>\n      <td>814</td>\n      <td>0.737569</td>\n    </tr>\n    <tr>\n      <th>funds</th>\n      <td>631</td>\n      <td>0.700593</td>\n    </tr>\n    <tr>\n      <th>long_term_deposit</th>\n      <td>1358</td>\n      <td>0.739027</td>\n    </tr>\n    <tr>\n      <th>payroll_account</th>\n      <td>553</td>\n      <td>0.811714</td>\n    </tr>\n    <tr>\n      <th>pension_plan</th>\n      <td>34</td>\n      <td>0.739178</td>\n    </tr>\n    <tr>\n      <th>securities</th>\n      <td>313</td>\n      <td>0.674642</td>\n    </tr>\n    <tr>\n      <th>short_term_deposit</th>\n      <td>1289</td>\n      <td>0.752127</td>\n    </tr>\n  </tbody>\n</table>\n</div>"
     },
     "execution_count": 11,
     "metadata": {},
     "output_type": "execute_result"
    }
   ],
   "source": [
    "plt.figure(figsize=(20, 5))\n",
    "df_filtered[\"product_to_sale\"].hist(bins=22, xlabelsize=13, ylabelsize=12)\n",
    "plt.show()\n",
    "df_filtered.groupby([\"product_to_sale\"]).agg(\n",
    "    cantidad = (\"pk_cid\", len),\n",
    "    score_mean = (\"score\", np.mean),\n",
    ")"
   ],
   "metadata": {
    "collapsed": false,
    "pycharm": {
     "name": "#%%\n"
    }
   }
  },
  {
   "cell_type": "markdown",
   "source": [
    "## Muestra de 1000 potenciales clientes"
   ],
   "metadata": {
    "collapsed": false,
    "pycharm": {
     "name": "#%% md\n"
    }
   }
  },
  {
   "cell_type": "code",
   "execution_count": 21,
   "outputs": [
    {
     "data": {
      "text/plain": "     id_user             segment\n0    1018744         credit_card\n1    1311491           em_acount\n2    1133347   long_term_deposit\n3    1048310           em_acount\n4    1539875           em_acount\n..       ...                 ...\n995  1111590   long_term_deposit\n996  1362643  short_term_deposit\n997  1010980     payroll_account\n998  1228480   long_term_deposit\n999  1374692  short_term_deposit\n\n[1000 rows x 2 columns]",
      "text/html": "<div>\n<style scoped>\n    .dataframe tbody tr th:only-of-type {\n        vertical-align: middle;\n    }\n\n    .dataframe tbody tr th {\n        vertical-align: top;\n    }\n\n    .dataframe thead th {\n        text-align: right;\n    }\n</style>\n<table border=\"1\" class=\"dataframe\">\n  <thead>\n    <tr style=\"text-align: right;\">\n      <th></th>\n      <th>id_user</th>\n      <th>segment</th>\n    </tr>\n  </thead>\n  <tbody>\n    <tr>\n      <th>0</th>\n      <td>1018744</td>\n      <td>credit_card</td>\n    </tr>\n    <tr>\n      <th>1</th>\n      <td>1311491</td>\n      <td>em_acount</td>\n    </tr>\n    <tr>\n      <th>2</th>\n      <td>1133347</td>\n      <td>long_term_deposit</td>\n    </tr>\n    <tr>\n      <th>3</th>\n      <td>1048310</td>\n      <td>em_acount</td>\n    </tr>\n    <tr>\n      <th>4</th>\n      <td>1539875</td>\n      <td>em_acount</td>\n    </tr>\n    <tr>\n      <th>...</th>\n      <td>...</td>\n      <td>...</td>\n    </tr>\n    <tr>\n      <th>995</th>\n      <td>1111590</td>\n      <td>long_term_deposit</td>\n    </tr>\n    <tr>\n      <th>996</th>\n      <td>1362643</td>\n      <td>short_term_deposit</td>\n    </tr>\n    <tr>\n      <th>997</th>\n      <td>1010980</td>\n      <td>payroll_account</td>\n    </tr>\n    <tr>\n      <th>998</th>\n      <td>1228480</td>\n      <td>long_term_deposit</td>\n    </tr>\n    <tr>\n      <th>999</th>\n      <td>1374692</td>\n      <td>short_term_deposit</td>\n    </tr>\n  </tbody>\n</table>\n<p>1000 rows × 2 columns</p>\n</div>"
     },
     "execution_count": 21,
     "metadata": {},
     "output_type": "execute_result"
    }
   ],
   "source": [
    "potential_client_sample = df_filtered[[\"pk_cid\", \"product_to_sale\"]].sample(1000).reset_index(drop=True)\n",
    "potential_client_sample.columns = [\"id_user\", \"segment\"]\n",
    "potential_client_sample.to_csv(__POTENTIAL_CLIENTS_SAMPLE__)\n",
    "potential_client_sample"
   ],
   "metadata": {
    "collapsed": false,
    "pycharm": {
     "name": "#%%\n"
    }
   }
  },
  {
   "cell_type": "markdown",
   "source": [
    "### Preparation for clustering"
   ],
   "metadata": {
    "collapsed": false,
    "pycharm": {
     "name": "#%% md\n"
    }
   }
  },
  {
   "cell_type": "code",
   "source": [
    "columns = [\"gender\", \"age\", \"salary\", \"product_to_sale\"]"
   ],
   "metadata": {
    "collapsed": false,
    "pycharm": {
     "name": "#%%\n"
    }
   },
   "execution_count": 13,
   "outputs": []
  },
  {
   "cell_type": "code",
   "execution_count": 14,
   "outputs": [
    {
     "data": {
      "text/plain": "       gender  age      salary     product_to_sale\n0           1   49  112364.220         credit_card\n1           1   85  109728.990         credit_card\n2           0   47  184387.770         credit_card\n3           1   64   77477.565         credit_card\n4           1   46   80876.880         credit_card\n...       ...  ...         ...                 ...\n10344       1   28   57496.395  short_term_deposit\n10345       0   30  119694.045  short_term_deposit\n10346       0   28   57496.395  short_term_deposit\n10347       1   29  146026.440  short_term_deposit\n10348       1   58  126428.730  short_term_deposit\n\n[10000 rows x 4 columns]",
      "text/html": "<div>\n<style scoped>\n    .dataframe tbody tr th:only-of-type {\n        vertical-align: middle;\n    }\n\n    .dataframe tbody tr th {\n        vertical-align: top;\n    }\n\n    .dataframe thead th {\n        text-align: right;\n    }\n</style>\n<table border=\"1\" class=\"dataframe\">\n  <thead>\n    <tr style=\"text-align: right;\">\n      <th></th>\n      <th>gender</th>\n      <th>age</th>\n      <th>salary</th>\n      <th>product_to_sale</th>\n    </tr>\n  </thead>\n  <tbody>\n    <tr>\n      <th>0</th>\n      <td>1</td>\n      <td>49</td>\n      <td>112364.220</td>\n      <td>credit_card</td>\n    </tr>\n    <tr>\n      <th>1</th>\n      <td>1</td>\n      <td>85</td>\n      <td>109728.990</td>\n      <td>credit_card</td>\n    </tr>\n    <tr>\n      <th>2</th>\n      <td>0</td>\n      <td>47</td>\n      <td>184387.770</td>\n      <td>credit_card</td>\n    </tr>\n    <tr>\n      <th>3</th>\n      <td>1</td>\n      <td>64</td>\n      <td>77477.565</td>\n      <td>credit_card</td>\n    </tr>\n    <tr>\n      <th>4</th>\n      <td>1</td>\n      <td>46</td>\n      <td>80876.880</td>\n      <td>credit_card</td>\n    </tr>\n    <tr>\n      <th>...</th>\n      <td>...</td>\n      <td>...</td>\n      <td>...</td>\n      <td>...</td>\n    </tr>\n    <tr>\n      <th>10344</th>\n      <td>1</td>\n      <td>28</td>\n      <td>57496.395</td>\n      <td>short_term_deposit</td>\n    </tr>\n    <tr>\n      <th>10345</th>\n      <td>0</td>\n      <td>30</td>\n      <td>119694.045</td>\n      <td>short_term_deposit</td>\n    </tr>\n    <tr>\n      <th>10346</th>\n      <td>0</td>\n      <td>28</td>\n      <td>57496.395</td>\n      <td>short_term_deposit</td>\n    </tr>\n    <tr>\n      <th>10347</th>\n      <td>1</td>\n      <td>29</td>\n      <td>146026.440</td>\n      <td>short_term_deposit</td>\n    </tr>\n    <tr>\n      <th>10348</th>\n      <td>1</td>\n      <td>58</td>\n      <td>126428.730</td>\n      <td>short_term_deposit</td>\n    </tr>\n  </tbody>\n</table>\n<p>10000 rows × 4 columns</p>\n</div>"
     },
     "execution_count": 14,
     "metadata": {},
     "output_type": "execute_result"
    }
   ],
   "source": [
    "df_prep = df_filtered.copy(deep=True)[columns]\n",
    "df_prep"
   ],
   "metadata": {
    "collapsed": false,
    "pycharm": {
     "name": "#%%\n"
    }
   }
  },
  {
   "cell_type": "code",
   "execution_count": 15,
   "outputs": [
    {
     "name": "stdout",
     "output_type": "stream",
     "text": [
      "columns to encode: ['product_to_sale']\n",
      "dataframe before one-hot encoding: (10000, 4)\n",
      "dataframe after one-hot encoding:  (10000, 13)\n",
      "\n",
      "columns = ['gender', 'age', 'salary', 'product_to_sale_credit_card', 'product_to_sale_debit_card', 'product_to_sale_em_acount', 'product_to_sale_emc_account', 'product_to_sale_funds', 'product_to_sale_long_term_deposit', 'product_to_sale_payroll_account', 'product_to_sale_pension_plan', 'product_to_sale_securities', 'product_to_sale_short_term_deposit']\n"
     ]
    }
   ],
   "source": [
    "df_prep = encode_dataframe(df_prep)\n",
    "print(f\"\"\"\n",
    "columns = {list(df_prep.columns)}\"\"\")"
   ],
   "metadata": {
    "collapsed": false,
    "pycharm": {
     "name": "#%%\n"
    }
   }
  },
  {
   "cell_type": "markdown",
   "source": [
    "## Clustering"
   ],
   "metadata": {
    "collapsed": false,
    "pycharm": {
     "name": "#%% md\n"
    }
   }
  },
  {
   "cell_type": "code",
   "execution_count": 16,
   "outputs": [],
   "source": [
    "processed_df = df_prep.copy(deep=True)"
   ],
   "metadata": {
    "collapsed": false,
    "pycharm": {
     "name": "#%%\n"
    }
   }
  },
  {
   "cell_type": "code",
   "execution_count": 17,
   "outputs": [
    {
     "name": "stdout",
     "output_type": "stream",
     "text": [
      "Wall time: 181 ms\n"
     ]
    },
    {
     "data": {
      "text/plain": "Pipeline(steps=[('Scale', MinMaxScaler()),\n                ('Clustering', KMeans(n_clusters=5, random_state=123))])"
     },
     "execution_count": 17,
     "metadata": {},
     "output_type": "execute_result"
    }
   ],
   "source": [
    "%%time\n",
    "pipeline = Pipeline(steps=[\n",
    "    (\"Scale\", MinMaxScaler()),\n",
    "    (\"Clustering\", KMeans(n_clusters=5, random_state=RANDOM_STATE))\n",
    "])\n",
    "\n",
    "pipeline.fit(processed_df)"
   ],
   "metadata": {
    "collapsed": false,
    "pycharm": {
     "name": "#%%\n"
    }
   }
  },
  {
   "cell_type": "code",
   "execution_count": 18,
   "outputs": [
    {
     "data": {
      "text/plain": "       gender  age      salary  product_to_sale_credit_card  \\\n0           1   49  112364.220                            1   \n1           1   85  109728.990                            1   \n2           0   47  184387.770                            1   \n3           1   64   77477.565                            1   \n4           1   46   80876.880                            1   \n...       ...  ...         ...                          ...   \n10344       1   28   57496.395                            0   \n10345       0   30  119694.045                            0   \n10346       0   28   57496.395                            0   \n10347       1   29  146026.440                            0   \n10348       1   58  126428.730                            0   \n\n       product_to_sale_debit_card  product_to_sale_em_acount  \\\n0                               0                          0   \n1                               0                          0   \n2                               0                          0   \n3                               0                          0   \n4                               0                          0   \n...                           ...                        ...   \n10344                           0                          0   \n10345                           0                          0   \n10346                           0                          0   \n10347                           0                          0   \n10348                           0                          0   \n\n       product_to_sale_emc_account  product_to_sale_funds  \\\n0                                0                      0   \n1                                0                      0   \n2                                0                      0   \n3                                0                      0   \n4                                0                      0   \n...                            ...                    ...   \n10344                            0                      0   \n10345                            0                      0   \n10346                            0                      0   \n10347                            0                      0   \n10348                            0                      0   \n\n       product_to_sale_long_term_deposit  product_to_sale_payroll_account  \\\n0                                      0                                0   \n1                                      0                                0   \n2                                      0                                0   \n3                                      0                                0   \n4                                      0                                0   \n...                                  ...                              ...   \n10344                                  0                                0   \n10345                                  0                                0   \n10346                                  0                                0   \n10347                                  0                                0   \n10348                                  0                                0   \n\n       product_to_sale_pension_plan  product_to_sale_securities  \\\n0                                 0                           0   \n1                                 0                           0   \n2                                 0                           0   \n3                                 0                           0   \n4                                 0                           0   \n...                             ...                         ...   \n10344                             0                           0   \n10345                             0                           0   \n10346                             0                           0   \n10347                             0                           0   \n10348                             0                           0   \n\n       product_to_sale_short_term_deposit  cluster  \n0                                       0        3  \n1                                       0        3  \n2                                       0        2  \n3                                       0        3  \n4                                       0        3  \n...                                   ...      ...  \n10344                                   1        1  \n10345                                   1        1  \n10346                                   1        1  \n10347                                   1        1  \n10348                                   1        1  \n\n[10000 rows x 14 columns]",
      "text/html": "<div>\n<style scoped>\n    .dataframe tbody tr th:only-of-type {\n        vertical-align: middle;\n    }\n\n    .dataframe tbody tr th {\n        vertical-align: top;\n    }\n\n    .dataframe thead th {\n        text-align: right;\n    }\n</style>\n<table border=\"1\" class=\"dataframe\">\n  <thead>\n    <tr style=\"text-align: right;\">\n      <th></th>\n      <th>gender</th>\n      <th>age</th>\n      <th>salary</th>\n      <th>product_to_sale_credit_card</th>\n      <th>product_to_sale_debit_card</th>\n      <th>product_to_sale_em_acount</th>\n      <th>product_to_sale_emc_account</th>\n      <th>product_to_sale_funds</th>\n      <th>product_to_sale_long_term_deposit</th>\n      <th>product_to_sale_payroll_account</th>\n      <th>product_to_sale_pension_plan</th>\n      <th>product_to_sale_securities</th>\n      <th>product_to_sale_short_term_deposit</th>\n      <th>cluster</th>\n    </tr>\n  </thead>\n  <tbody>\n    <tr>\n      <th>0</th>\n      <td>1</td>\n      <td>49</td>\n      <td>112364.220</td>\n      <td>1</td>\n      <td>0</td>\n      <td>0</td>\n      <td>0</td>\n      <td>0</td>\n      <td>0</td>\n      <td>0</td>\n      <td>0</td>\n      <td>0</td>\n      <td>0</td>\n      <td>3</td>\n    </tr>\n    <tr>\n      <th>1</th>\n      <td>1</td>\n      <td>85</td>\n      <td>109728.990</td>\n      <td>1</td>\n      <td>0</td>\n      <td>0</td>\n      <td>0</td>\n      <td>0</td>\n      <td>0</td>\n      <td>0</td>\n      <td>0</td>\n      <td>0</td>\n      <td>0</td>\n      <td>3</td>\n    </tr>\n    <tr>\n      <th>2</th>\n      <td>0</td>\n      <td>47</td>\n      <td>184387.770</td>\n      <td>1</td>\n      <td>0</td>\n      <td>0</td>\n      <td>0</td>\n      <td>0</td>\n      <td>0</td>\n      <td>0</td>\n      <td>0</td>\n      <td>0</td>\n      <td>0</td>\n      <td>2</td>\n    </tr>\n    <tr>\n      <th>3</th>\n      <td>1</td>\n      <td>64</td>\n      <td>77477.565</td>\n      <td>1</td>\n      <td>0</td>\n      <td>0</td>\n      <td>0</td>\n      <td>0</td>\n      <td>0</td>\n      <td>0</td>\n      <td>0</td>\n      <td>0</td>\n      <td>0</td>\n      <td>3</td>\n    </tr>\n    <tr>\n      <th>4</th>\n      <td>1</td>\n      <td>46</td>\n      <td>80876.880</td>\n      <td>1</td>\n      <td>0</td>\n      <td>0</td>\n      <td>0</td>\n      <td>0</td>\n      <td>0</td>\n      <td>0</td>\n      <td>0</td>\n      <td>0</td>\n      <td>0</td>\n      <td>3</td>\n    </tr>\n    <tr>\n      <th>...</th>\n      <td>...</td>\n      <td>...</td>\n      <td>...</td>\n      <td>...</td>\n      <td>...</td>\n      <td>...</td>\n      <td>...</td>\n      <td>...</td>\n      <td>...</td>\n      <td>...</td>\n      <td>...</td>\n      <td>...</td>\n      <td>...</td>\n      <td>...</td>\n    </tr>\n    <tr>\n      <th>10344</th>\n      <td>1</td>\n      <td>28</td>\n      <td>57496.395</td>\n      <td>0</td>\n      <td>0</td>\n      <td>0</td>\n      <td>0</td>\n      <td>0</td>\n      <td>0</td>\n      <td>0</td>\n      <td>0</td>\n      <td>0</td>\n      <td>1</td>\n      <td>1</td>\n    </tr>\n    <tr>\n      <th>10345</th>\n      <td>0</td>\n      <td>30</td>\n      <td>119694.045</td>\n      <td>0</td>\n      <td>0</td>\n      <td>0</td>\n      <td>0</td>\n      <td>0</td>\n      <td>0</td>\n      <td>0</td>\n      <td>0</td>\n      <td>0</td>\n      <td>1</td>\n      <td>1</td>\n    </tr>\n    <tr>\n      <th>10346</th>\n      <td>0</td>\n      <td>28</td>\n      <td>57496.395</td>\n      <td>0</td>\n      <td>0</td>\n      <td>0</td>\n      <td>0</td>\n      <td>0</td>\n      <td>0</td>\n      <td>0</td>\n      <td>0</td>\n      <td>0</td>\n      <td>1</td>\n      <td>1</td>\n    </tr>\n    <tr>\n      <th>10347</th>\n      <td>1</td>\n      <td>29</td>\n      <td>146026.440</td>\n      <td>0</td>\n      <td>0</td>\n      <td>0</td>\n      <td>0</td>\n      <td>0</td>\n      <td>0</td>\n      <td>0</td>\n      <td>0</td>\n      <td>0</td>\n      <td>1</td>\n      <td>1</td>\n    </tr>\n    <tr>\n      <th>10348</th>\n      <td>1</td>\n      <td>58</td>\n      <td>126428.730</td>\n      <td>0</td>\n      <td>0</td>\n      <td>0</td>\n      <td>0</td>\n      <td>0</td>\n      <td>0</td>\n      <td>0</td>\n      <td>0</td>\n      <td>0</td>\n      <td>1</td>\n      <td>1</td>\n    </tr>\n  </tbody>\n</table>\n<p>10000 rows × 14 columns</p>\n</div>"
     },
     "execution_count": 18,
     "metadata": {},
     "output_type": "execute_result"
    }
   ],
   "source": [
    "processed_df[\"cluster\"] = pipeline.predict(processed_df)\n",
    "processed_df"
   ],
   "metadata": {
    "collapsed": false,
    "pycharm": {
     "name": "#%%\n"
    }
   }
  },
  {
   "cell_type": "markdown",
   "source": [
    "## Observation of results"
   ],
   "metadata": {
    "collapsed": false,
    "pycharm": {
     "name": "#%% md\n"
    }
   }
  },
  {
   "cell_type": "code",
   "execution_count": 19,
   "outputs": [
    {
     "data": {
      "text/plain": "cluster                         0              1              2  \\\ncluster_size          3171.000000    1289.000000    2396.000000   \ngender                   0.506465       0.434445       0.000000   \nage_mean                31.672343      47.868891      43.492905   \nage_mode                22.000000      40.000000      33.000000   \nsalary_mean         116356.900719  122441.909825  121837.270555   \nfunds                    0.000000       0.000000       0.139816   \npension_plan             0.000000       0.000000       0.007095   \nsecurities               0.000000       0.000000       0.098915   \nlong_term_deposit        0.000000       0.000000       0.000000   \nshort_term_deposit       0.000000       1.000000       0.000000   \nem_acount                1.000000       0.000000       0.000000   \nemc_account              0.000000       0.000000       0.200751   \npayroll_account          0.000000       0.000000       0.129800   \ndebit_card               0.000000       0.000000       0.167362   \ncredit_card              0.000000       0.000000       0.256260   \n\ncluster                         3              4  \ncluster_size          1786.000000    1358.000000  \ngender                   1.000000       0.445508  \nage_mean                44.951848      54.887334  \nage_mode                33.000000      50.000000  \nsalary_mean         122164.574135  140513.094102  \nfunds                    0.165733       0.000000  \npension_plan             0.009518       0.000000  \nsecurities               0.042553       0.000000  \nlong_term_deposit        0.000000       1.000000  \nshort_term_deposit       0.000000       0.000000  \nem_acount                0.000000       0.000000  \nemc_account              0.186450       0.000000  \npayroll_account          0.135498       0.000000  \ndebit_card               0.189250       0.000000  \ncredit_card              0.270997       0.000000  ",
      "text/html": "<div>\n<style scoped>\n    .dataframe tbody tr th:only-of-type {\n        vertical-align: middle;\n    }\n\n    .dataframe tbody tr th {\n        vertical-align: top;\n    }\n\n    .dataframe thead th {\n        text-align: right;\n    }\n</style>\n<table border=\"1\" class=\"dataframe\">\n  <thead>\n    <tr style=\"text-align: right;\">\n      <th>cluster</th>\n      <th>0</th>\n      <th>1</th>\n      <th>2</th>\n      <th>3</th>\n      <th>4</th>\n    </tr>\n  </thead>\n  <tbody>\n    <tr>\n      <th>cluster_size</th>\n      <td>3171.000000</td>\n      <td>1289.000000</td>\n      <td>2396.000000</td>\n      <td>1786.000000</td>\n      <td>1358.000000</td>\n    </tr>\n    <tr>\n      <th>gender</th>\n      <td>0.506465</td>\n      <td>0.434445</td>\n      <td>0.000000</td>\n      <td>1.000000</td>\n      <td>0.445508</td>\n    </tr>\n    <tr>\n      <th>age_mean</th>\n      <td>31.672343</td>\n      <td>47.868891</td>\n      <td>43.492905</td>\n      <td>44.951848</td>\n      <td>54.887334</td>\n    </tr>\n    <tr>\n      <th>age_mode</th>\n      <td>22.000000</td>\n      <td>40.000000</td>\n      <td>33.000000</td>\n      <td>33.000000</td>\n      <td>50.000000</td>\n    </tr>\n    <tr>\n      <th>salary_mean</th>\n      <td>116356.900719</td>\n      <td>122441.909825</td>\n      <td>121837.270555</td>\n      <td>122164.574135</td>\n      <td>140513.094102</td>\n    </tr>\n    <tr>\n      <th>funds</th>\n      <td>0.000000</td>\n      <td>0.000000</td>\n      <td>0.139816</td>\n      <td>0.165733</td>\n      <td>0.000000</td>\n    </tr>\n    <tr>\n      <th>pension_plan</th>\n      <td>0.000000</td>\n      <td>0.000000</td>\n      <td>0.007095</td>\n      <td>0.009518</td>\n      <td>0.000000</td>\n    </tr>\n    <tr>\n      <th>securities</th>\n      <td>0.000000</td>\n      <td>0.000000</td>\n      <td>0.098915</td>\n      <td>0.042553</td>\n      <td>0.000000</td>\n    </tr>\n    <tr>\n      <th>long_term_deposit</th>\n      <td>0.000000</td>\n      <td>0.000000</td>\n      <td>0.000000</td>\n      <td>0.000000</td>\n      <td>1.000000</td>\n    </tr>\n    <tr>\n      <th>short_term_deposit</th>\n      <td>0.000000</td>\n      <td>1.000000</td>\n      <td>0.000000</td>\n      <td>0.000000</td>\n      <td>0.000000</td>\n    </tr>\n    <tr>\n      <th>em_acount</th>\n      <td>1.000000</td>\n      <td>0.000000</td>\n      <td>0.000000</td>\n      <td>0.000000</td>\n      <td>0.000000</td>\n    </tr>\n    <tr>\n      <th>emc_account</th>\n      <td>0.000000</td>\n      <td>0.000000</td>\n      <td>0.200751</td>\n      <td>0.186450</td>\n      <td>0.000000</td>\n    </tr>\n    <tr>\n      <th>payroll_account</th>\n      <td>0.000000</td>\n      <td>0.000000</td>\n      <td>0.129800</td>\n      <td>0.135498</td>\n      <td>0.000000</td>\n    </tr>\n    <tr>\n      <th>debit_card</th>\n      <td>0.000000</td>\n      <td>0.000000</td>\n      <td>0.167362</td>\n      <td>0.189250</td>\n      <td>0.000000</td>\n    </tr>\n    <tr>\n      <th>credit_card</th>\n      <td>0.000000</td>\n      <td>0.000000</td>\n      <td>0.256260</td>\n      <td>0.270997</td>\n      <td>0.000000</td>\n    </tr>\n  </tbody>\n</table>\n</div>"
     },
     "execution_count": 19,
     "metadata": {},
     "output_type": "execute_result"
    }
   ],
   "source": [
    "cluster_gb = processed_df.groupby(\"cluster\")\n",
    "\n",
    "cluster_size = cluster_gb.size().to_frame()\n",
    "cluster_size.columns = [\"cluster_size\"]\n",
    "\n",
    "cluster_report = cluster_gb.agg(\n",
    "    gender=(\"gender\", np.mean),\n",
    "    age_mean=(\"age\", np.mean),\n",
    "    age_mode=(\"age\", lambda serie: np.round(serie.mode().iat[0], 2)),\n",
    "    salary_mean=(\"salary\", np.mean),\n",
    "\n",
    "    # Inversion\n",
    "    funds=('product_to_sale_funds', np.mean),\n",
    "    pension_plan=('product_to_sale_pension_plan', np.mean),\n",
    "    securities=('product_to_sale_securities', np.mean),\n",
    "    long_term_deposit=('product_to_sale_long_term_deposit', np.mean),\n",
    "    short_term_deposit=('product_to_sale_short_term_deposit', np.mean),\n",
    "\n",
    "    # Cuentas\n",
    "    em_acount=('product_to_sale_em_acount', np.mean),\n",
    "    emc_account=('product_to_sale_emc_account', np.mean),\n",
    "    payroll_account=('product_to_sale_payroll_account', np.mean),\n",
    "\n",
    "    # Financiacion\n",
    "    debit_card=('product_to_sale_debit_card', np.mean),\n",
    "    credit_card=('product_to_sale_credit_card', np.mean)\n",
    ")\n",
    "\n",
    "cluster_report = cluster_size.T.append(cluster_report.T)\n",
    "cluster_report"
   ],
   "metadata": {
    "collapsed": false,
    "pycharm": {
     "name": "#%%\n"
    }
   }
  },
  {
   "cell_type": "code",
   "execution_count": 20,
   "outputs": [
    {
     "data": {
      "text/plain": "<pandas.io.formats.style.Styler at 0x25318051490>",
      "text/html": "<style type=\"text/css\">\n#T_5a753_row0_col0, #T_5a753_row1_col3, #T_5a753_row2_col4, #T_5a753_row3_col4, #T_5a753_row4_col4, #T_5a753_row5_col3, #T_5a753_row6_col3, #T_5a753_row7_col2, #T_5a753_row8_col4, #T_5a753_row9_col1, #T_5a753_row10_col0, #T_5a753_row11_col2, #T_5a753_row12_col3, #T_5a753_row13_col3, #T_5a753_row14_col3 {\n  background-color: #00441b;\n  color: #f1f1f1;\n}\n#T_5a753_row0_col1, #T_5a753_row1_col2, #T_5a753_row2_col0, #T_5a753_row3_col0, #T_5a753_row4_col0, #T_5a753_row5_col0, #T_5a753_row5_col1, #T_5a753_row5_col4, #T_5a753_row6_col0, #T_5a753_row6_col1, #T_5a753_row6_col4, #T_5a753_row7_col0, #T_5a753_row7_col1, #T_5a753_row7_col4, #T_5a753_row8_col0, #T_5a753_row8_col1, #T_5a753_row8_col2, #T_5a753_row8_col3, #T_5a753_row9_col0, #T_5a753_row9_col2, #T_5a753_row9_col3, #T_5a753_row9_col4, #T_5a753_row10_col1, #T_5a753_row10_col2, #T_5a753_row10_col3, #T_5a753_row10_col4, #T_5a753_row11_col0, #T_5a753_row11_col1, #T_5a753_row11_col4, #T_5a753_row12_col0, #T_5a753_row12_col1, #T_5a753_row12_col4, #T_5a753_row13_col0, #T_5a753_row13_col1, #T_5a753_row13_col4, #T_5a753_row14_col0, #T_5a753_row14_col1, #T_5a753_row14_col4 {\n  background-color: #f7fcfd;\n  color: #000000;\n}\n#T_5a753_row0_col2 {\n  background-color: #4cb484;\n  color: #f1f1f1;\n}\n#T_5a753_row0_col3 {\n  background-color: #c7eae3;\n  color: #000000;\n}\n#T_5a753_row0_col4 {\n  background-color: #f2fafc;\n  color: #000000;\n}\n#T_5a753_row1_col0 {\n  background-color: #64c1a2;\n  color: #000000;\n}\n#T_5a753_row1_col1 {\n  background-color: #80cdb7;\n  color: #000000;\n}\n#T_5a753_row1_col4 {\n  background-color: #7ccbb4;\n  color: #000000;\n}\n#T_5a753_row2_col1 {\n  background-color: #2f9a59;\n  color: #f1f1f1;\n}\n#T_5a753_row2_col2 {\n  background-color: #63c0a0;\n  color: #000000;\n}\n#T_5a753_row2_col3 {\n  background-color: #51b689;\n  color: #f1f1f1;\n}\n#T_5a753_row3_col1 {\n  background-color: #3da96f;\n  color: #f1f1f1;\n}\n#T_5a753_row3_col2, #T_5a753_row3_col3 {\n  background-color: #92d5c4;\n  color: #000000;\n}\n#T_5a753_row4_col1 {\n  background-color: #ccece6;\n  color: #000000;\n}\n#T_5a753_row4_col2 {\n  background-color: #d1eee9;\n  color: #000000;\n}\n#T_5a753_row4_col3 {\n  background-color: #ceede8;\n  color: #000000;\n}\n#T_5a753_row5_col2 {\n  background-color: #097532;\n  color: #f1f1f1;\n}\n#T_5a753_row6_col2 {\n  background-color: #248c47;\n  color: #f1f1f1;\n}\n#T_5a753_row7_col3 {\n  background-color: #82ceb8;\n  color: #000000;\n}\n#T_5a753_row11_col3 {\n  background-color: #005b25;\n  color: #f1f1f1;\n}\n#T_5a753_row12_col2 {\n  background-color: #005120;\n  color: #f1f1f1;\n}\n#T_5a753_row13_col2 {\n  background-color: #00692a;\n  color: #f1f1f1;\n}\n#T_5a753_row14_col2 {\n  background-color: #005522;\n  color: #f1f1f1;\n}\n</style>\n<table id=\"T_5a753_\">\n  <thead>\n    <tr>\n      <th class=\"index_name level0\" >cluster</th>\n      <th class=\"col_heading level0 col0\" >0</th>\n      <th class=\"col_heading level0 col1\" >1</th>\n      <th class=\"col_heading level0 col2\" >2</th>\n      <th class=\"col_heading level0 col3\" >3</th>\n      <th class=\"col_heading level0 col4\" >4</th>\n    </tr>\n  </thead>\n  <tbody>\n    <tr>\n      <th id=\"T_5a753_level0_row0\" class=\"row_heading level0 row0\" >cluster_size</th>\n      <td id=\"T_5a753_row0_col0\" class=\"data row0 col0\" >3171.000000</td>\n      <td id=\"T_5a753_row0_col1\" class=\"data row0 col1\" >1289.000000</td>\n      <td id=\"T_5a753_row0_col2\" class=\"data row0 col2\" >2396.000000</td>\n      <td id=\"T_5a753_row0_col3\" class=\"data row0 col3\" >1786.000000</td>\n      <td id=\"T_5a753_row0_col4\" class=\"data row0 col4\" >1358.000000</td>\n    </tr>\n    <tr>\n      <th id=\"T_5a753_level0_row1\" class=\"row_heading level0 row1\" >gender</th>\n      <td id=\"T_5a753_row1_col0\" class=\"data row1 col0\" >0.506465</td>\n      <td id=\"T_5a753_row1_col1\" class=\"data row1 col1\" >0.434445</td>\n      <td id=\"T_5a753_row1_col2\" class=\"data row1 col2\" >0.000000</td>\n      <td id=\"T_5a753_row1_col3\" class=\"data row1 col3\" >1.000000</td>\n      <td id=\"T_5a753_row1_col4\" class=\"data row1 col4\" >0.445508</td>\n    </tr>\n    <tr>\n      <th id=\"T_5a753_level0_row2\" class=\"row_heading level0 row2\" >age_mean</th>\n      <td id=\"T_5a753_row2_col0\" class=\"data row2 col0\" >31.672343</td>\n      <td id=\"T_5a753_row2_col1\" class=\"data row2 col1\" >47.868891</td>\n      <td id=\"T_5a753_row2_col2\" class=\"data row2 col2\" >43.492905</td>\n      <td id=\"T_5a753_row2_col3\" class=\"data row2 col3\" >44.951848</td>\n      <td id=\"T_5a753_row2_col4\" class=\"data row2 col4\" >54.887334</td>\n    </tr>\n    <tr>\n      <th id=\"T_5a753_level0_row3\" class=\"row_heading level0 row3\" >age_mode</th>\n      <td id=\"T_5a753_row3_col0\" class=\"data row3 col0\" >22.000000</td>\n      <td id=\"T_5a753_row3_col1\" class=\"data row3 col1\" >40.000000</td>\n      <td id=\"T_5a753_row3_col2\" class=\"data row3 col2\" >33.000000</td>\n      <td id=\"T_5a753_row3_col3\" class=\"data row3 col3\" >33.000000</td>\n      <td id=\"T_5a753_row3_col4\" class=\"data row3 col4\" >50.000000</td>\n    </tr>\n    <tr>\n      <th id=\"T_5a753_level0_row4\" class=\"row_heading level0 row4\" >salary_mean</th>\n      <td id=\"T_5a753_row4_col0\" class=\"data row4 col0\" >116356.900719</td>\n      <td id=\"T_5a753_row4_col1\" class=\"data row4 col1\" >122441.909825</td>\n      <td id=\"T_5a753_row4_col2\" class=\"data row4 col2\" >121837.270555</td>\n      <td id=\"T_5a753_row4_col3\" class=\"data row4 col3\" >122164.574135</td>\n      <td id=\"T_5a753_row4_col4\" class=\"data row4 col4\" >140513.094102</td>\n    </tr>\n    <tr>\n      <th id=\"T_5a753_level0_row5\" class=\"row_heading level0 row5\" >funds</th>\n      <td id=\"T_5a753_row5_col0\" class=\"data row5 col0\" >0.000000</td>\n      <td id=\"T_5a753_row5_col1\" class=\"data row5 col1\" >0.000000</td>\n      <td id=\"T_5a753_row5_col2\" class=\"data row5 col2\" >0.139816</td>\n      <td id=\"T_5a753_row5_col3\" class=\"data row5 col3\" >0.165733</td>\n      <td id=\"T_5a753_row5_col4\" class=\"data row5 col4\" >0.000000</td>\n    </tr>\n    <tr>\n      <th id=\"T_5a753_level0_row6\" class=\"row_heading level0 row6\" >pension_plan</th>\n      <td id=\"T_5a753_row6_col0\" class=\"data row6 col0\" >0.000000</td>\n      <td id=\"T_5a753_row6_col1\" class=\"data row6 col1\" >0.000000</td>\n      <td id=\"T_5a753_row6_col2\" class=\"data row6 col2\" >0.007095</td>\n      <td id=\"T_5a753_row6_col3\" class=\"data row6 col3\" >0.009518</td>\n      <td id=\"T_5a753_row6_col4\" class=\"data row6 col4\" >0.000000</td>\n    </tr>\n    <tr>\n      <th id=\"T_5a753_level0_row7\" class=\"row_heading level0 row7\" >securities</th>\n      <td id=\"T_5a753_row7_col0\" class=\"data row7 col0\" >0.000000</td>\n      <td id=\"T_5a753_row7_col1\" class=\"data row7 col1\" >0.000000</td>\n      <td id=\"T_5a753_row7_col2\" class=\"data row7 col2\" >0.098915</td>\n      <td id=\"T_5a753_row7_col3\" class=\"data row7 col3\" >0.042553</td>\n      <td id=\"T_5a753_row7_col4\" class=\"data row7 col4\" >0.000000</td>\n    </tr>\n    <tr>\n      <th id=\"T_5a753_level0_row8\" class=\"row_heading level0 row8\" >long_term_deposit</th>\n      <td id=\"T_5a753_row8_col0\" class=\"data row8 col0\" >0.000000</td>\n      <td id=\"T_5a753_row8_col1\" class=\"data row8 col1\" >0.000000</td>\n      <td id=\"T_5a753_row8_col2\" class=\"data row8 col2\" >0.000000</td>\n      <td id=\"T_5a753_row8_col3\" class=\"data row8 col3\" >0.000000</td>\n      <td id=\"T_5a753_row8_col4\" class=\"data row8 col4\" >1.000000</td>\n    </tr>\n    <tr>\n      <th id=\"T_5a753_level0_row9\" class=\"row_heading level0 row9\" >short_term_deposit</th>\n      <td id=\"T_5a753_row9_col0\" class=\"data row9 col0\" >0.000000</td>\n      <td id=\"T_5a753_row9_col1\" class=\"data row9 col1\" >1.000000</td>\n      <td id=\"T_5a753_row9_col2\" class=\"data row9 col2\" >0.000000</td>\n      <td id=\"T_5a753_row9_col3\" class=\"data row9 col3\" >0.000000</td>\n      <td id=\"T_5a753_row9_col4\" class=\"data row9 col4\" >0.000000</td>\n    </tr>\n    <tr>\n      <th id=\"T_5a753_level0_row10\" class=\"row_heading level0 row10\" >em_acount</th>\n      <td id=\"T_5a753_row10_col0\" class=\"data row10 col0\" >1.000000</td>\n      <td id=\"T_5a753_row10_col1\" class=\"data row10 col1\" >0.000000</td>\n      <td id=\"T_5a753_row10_col2\" class=\"data row10 col2\" >0.000000</td>\n      <td id=\"T_5a753_row10_col3\" class=\"data row10 col3\" >0.000000</td>\n      <td id=\"T_5a753_row10_col4\" class=\"data row10 col4\" >0.000000</td>\n    </tr>\n    <tr>\n      <th id=\"T_5a753_level0_row11\" class=\"row_heading level0 row11\" >emc_account</th>\n      <td id=\"T_5a753_row11_col0\" class=\"data row11 col0\" >0.000000</td>\n      <td id=\"T_5a753_row11_col1\" class=\"data row11 col1\" >0.000000</td>\n      <td id=\"T_5a753_row11_col2\" class=\"data row11 col2\" >0.200751</td>\n      <td id=\"T_5a753_row11_col3\" class=\"data row11 col3\" >0.186450</td>\n      <td id=\"T_5a753_row11_col4\" class=\"data row11 col4\" >0.000000</td>\n    </tr>\n    <tr>\n      <th id=\"T_5a753_level0_row12\" class=\"row_heading level0 row12\" >payroll_account</th>\n      <td id=\"T_5a753_row12_col0\" class=\"data row12 col0\" >0.000000</td>\n      <td id=\"T_5a753_row12_col1\" class=\"data row12 col1\" >0.000000</td>\n      <td id=\"T_5a753_row12_col2\" class=\"data row12 col2\" >0.129800</td>\n      <td id=\"T_5a753_row12_col3\" class=\"data row12 col3\" >0.135498</td>\n      <td id=\"T_5a753_row12_col4\" class=\"data row12 col4\" >0.000000</td>\n    </tr>\n    <tr>\n      <th id=\"T_5a753_level0_row13\" class=\"row_heading level0 row13\" >debit_card</th>\n      <td id=\"T_5a753_row13_col0\" class=\"data row13 col0\" >0.000000</td>\n      <td id=\"T_5a753_row13_col1\" class=\"data row13 col1\" >0.000000</td>\n      <td id=\"T_5a753_row13_col2\" class=\"data row13 col2\" >0.167362</td>\n      <td id=\"T_5a753_row13_col3\" class=\"data row13 col3\" >0.189250</td>\n      <td id=\"T_5a753_row13_col4\" class=\"data row13 col4\" >0.000000</td>\n    </tr>\n    <tr>\n      <th id=\"T_5a753_level0_row14\" class=\"row_heading level0 row14\" >credit_card</th>\n      <td id=\"T_5a753_row14_col0\" class=\"data row14 col0\" >0.000000</td>\n      <td id=\"T_5a753_row14_col1\" class=\"data row14 col1\" >0.000000</td>\n      <td id=\"T_5a753_row14_col2\" class=\"data row14 col2\" >0.256260</td>\n      <td id=\"T_5a753_row14_col3\" class=\"data row14 col3\" >0.270997</td>\n      <td id=\"T_5a753_row14_col4\" class=\"data row14 col4\" >0.000000</td>\n    </tr>\n  </tbody>\n</table>\n"
     },
     "execution_count": 20,
     "metadata": {},
     "output_type": "execute_result"
    }
   ],
   "source": [
    "cluster_report.style.background_gradient(cmap=\"BuGn\", axis=1)"
   ],
   "metadata": {
    "collapsed": false,
    "pycharm": {
     "name": "#%%\n"
    }
   }
  },
  {
   "cell_type": "code",
   "execution_count": null,
   "outputs": [],
   "source": [],
   "metadata": {
    "collapsed": false,
    "pycharm": {
     "name": "#%%\n"
    }
   }
  }
 ],
 "metadata": {
  "kernelspec": {
   "display_name": "Python 3",
   "language": "python",
   "name": "python3"
  },
  "language_info": {
   "codemirror_mode": {
    "name": "ipython",
    "version": 2
   },
   "file_extension": ".py",
   "mimetype": "text/x-python",
   "name": "python",
   "nbconvert_exporter": "python",
   "pygments_lexer": "ipython2",
   "version": "2.7.6"
  }
 },
 "nbformat": 4,
 "nbformat_minor": 0
}