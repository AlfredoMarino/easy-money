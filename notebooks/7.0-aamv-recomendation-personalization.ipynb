{
 "cells": [
  {
   "cell_type": "markdown",
   "source": [
    "# Easy Money - Recomendation"
   ],
   "metadata": {
    "collapsed": false,
    "pycharm": {
     "name": "#%% md\n"
    }
   }
  },
  {
   "cell_type": "code",
   "execution_count": 21,
   "metadata": {
    "collapsed": true
   },
   "outputs": [],
   "source": [
    "import pandas as pd\n",
    "import numpy as np\n",
    "import os\n",
    "\n",
    "from sklearn.cluster import KMeans\n",
    "from sklearn.pipeline import Pipeline\n",
    "from sklearn.preprocessing import MinMaxScaler"
   ]
  },
  {
   "cell_type": "markdown",
   "source": [
    "## Configurations"
   ],
   "metadata": {
    "collapsed": false
   }
  },
  {
   "cell_type": "code",
   "execution_count": 2,
   "outputs": [],
   "source": [
    "__POTENTIAL_CLIENTS_PATH__ = \"../reports/potential_clients\"\n",
    "__POTENTIAL_CLIENTS_SAMPLE__ = \"../reports/potential_clients_sample.csv\""
   ],
   "metadata": {
    "collapsed": false,
    "pycharm": {
     "name": "#%%\n"
    }
   }
  },
  {
   "cell_type": "markdown",
   "source": [
    "## Functions"
   ],
   "metadata": {
    "collapsed": false,
    "pycharm": {
     "name": "#%% md\n"
    }
   }
  },
  {
   "cell_type": "code",
   "execution_count": 3,
   "outputs": [],
   "source": [
    "def one_hot_encode(dataframe: pd.DataFrame, column_name: str) -> pd.DataFrame:\n",
    "    _dummy_dataset = pd.get_dummies(dataframe[column_name], prefix=column_name)\n",
    "    return pd.concat([dataframe, _dummy_dataset], axis=1).drop([column_name], axis=1)\n",
    "\n",
    "def encode_dataframe(dataframe: pd.DataFrame) -> pd.DataFrame:\n",
    "    cat_columns = [col for col in dataframe.select_dtypes(exclude=[np.number, \"datetime\"]).columns]\n",
    "    print(f\"columns to encode: {cat_columns}\")\n",
    "\n",
    "    print(f\"dataframe before one-hot encoding: {dataframe.shape}\")\n",
    "    for cat_col in cat_columns:\n",
    "        dataframe = one_hot_encode(dataframe, cat_col)\n",
    "\n",
    "    print(f\"dataframe after one-hot encoding:  {dataframe.shape}\")\n",
    "    return dataframe"
   ],
   "metadata": {
    "collapsed": false,
    "pycharm": {
     "name": "#%%\n"
    }
   }
  },
  {
   "cell_type": "markdown",
   "source": [
    "## Import data"
   ],
   "metadata": {
    "collapsed": false,
    "pycharm": {
     "name": "#%% md\n"
    }
   }
  },
  {
   "cell_type": "code",
   "execution_count": 4,
   "outputs": [],
   "source": [
    "dtypes = {'pk_cid': 'int64', 'active_customer': 'int8',\n",
    "          'region_code': 'int8', 'gender': 'int8', 'age': 'int8', 'deceased': 'int8',\n",
    "          'short_term_deposit': 'int8', 'loans': 'int8', 'mortgage': 'int8',\n",
    "          'funds': 'int8', 'securities': 'int8', 'long_term_deposit': 'int8',\n",
    "          'em_account_pp': 'int8', 'credit_card': 'int8', 'payroll': 'int8',\n",
    "          'pension_plan': 'int8', 'payroll_account': 'int8', 'emc_account': 'int8',\n",
    "          'debit_card': 'int8', 'em_account_p': 'int8', 'em_acount': 'int8',\n",
    "          'entry_date_month': 'int8', 'entry_date_year': 'int8', 'entry_date_day': 'int8',\n",
    "          'entry_date_week': 'int8', 'entry_date_weekday': 'int8', 'entry_date_trim': 'int8',\n",
    "          'salary': 'float64', 'entry_channel_004': 'int8', 'entry_channel_007': 'int8',\n",
    "          'entry_channel_013': 'int8', 'entry_channel_KAA': 'int8', 'entry_channel_KAB': 'int8',\n",
    "          'entry_channel_KAD': 'int8', 'entry_channel_KAE': 'int8', 'entry_channel_KAF': 'int8',\n",
    "          'entry_channel_KAG': 'int8', 'entry_channel_KAH': 'int8', 'entry_channel_KAI': 'int8',\n",
    "          'entry_channel_KAJ': 'int8', 'entry_channel_KAK': 'int8', 'entry_channel_KAM': 'int8',\n",
    "          'entry_channel_KAQ': 'int8', 'entry_channel_KAR': 'int8', 'entry_channel_KAS': 'int8',\n",
    "          'entry_channel_KAT': 'int8', 'entry_channel_KAW': 'int8', 'entry_channel_KAY': 'int8',\n",
    "          'entry_channel_KAZ': 'int8', 'entry_channel_KBE': 'int8', 'entry_channel_KBG': 'int8',\n",
    "          'entry_channel_KBH': 'int8', 'entry_channel_KBO': 'int8', 'entry_channel_KBU': 'int8',\n",
    "          'entry_channel_KBW': 'int8', 'entry_channel_KBY': 'int8', 'entry_channel_KBZ': 'int8',\n",
    "          'entry_channel_KCB': 'int8', 'entry_channel_KCC': 'int8', 'entry_channel_KCH': 'int8',\n",
    "          'entry_channel_KCI': 'int8', 'entry_channel_KCK': 'int8', 'entry_channel_KCL': 'int8',\n",
    "          'entry_channel_KDA': 'int8', 'entry_channel_KDH': 'int8', 'entry_channel_KDR': 'int8',\n",
    "          'entry_channel_KDS': 'int8', 'entry_channel_KDT': 'int8', 'entry_channel_KEH': 'int8',\n",
    "          'entry_channel_KEJ': 'int8', 'entry_channel_KES': 'int8', 'entry_channel_KEY': 'int8',\n",
    "          'entry_channel_KFA': 'int8', 'entry_channel_KFC': 'int8', 'entry_channel_KFD': 'int8',\n",
    "          'entry_channel_KFF': 'int8', 'entry_channel_KFK': 'int8', 'entry_channel_KFL': 'int8',\n",
    "          'entry_channel_KFP': 'int8', 'entry_channel_KFS': 'int8', 'entry_channel_KGC': 'int8',\n",
    "          'entry_channel_KGN': 'int8', 'entry_channel_KGX': 'int8', 'entry_channel_KHC': 'int8',\n",
    "          'entry_channel_KHD': 'int8', 'entry_channel_KHE': 'int8', 'entry_channel_KHF': 'int8',\n",
    "          'entry_channel_KHK': 'int8', 'entry_channel_KHL': 'int8', 'entry_channel_KHM': 'int8',\n",
    "          'entry_channel_KHN': 'int8', 'entry_channel_KHO': 'int8', 'entry_channel_KHP': 'int8',\n",
    "          'entry_channel_KHQ': 'int8', 'entry_channel_KHS': 'int8', 'entry_channel_RED': 'int8',\n",
    "          'entry_channel_UNKNOWN': 'int8', 'segment_00 - OTROS': 'int8',\n",
    "          'segment_01 - TOP': 'int8', 'segment_02 - PARTICULARES': 'int8',\n",
    "          'segment_03 - UNIVERSITARIO': 'int8', 'country_id_AR': 'int8', 'country_id_AT': 'int8',\n",
    "          'country_id_BE': 'int8', 'country_id_BR': 'int8', 'country_id_CA': 'int8',\n",
    "          'country_id_CH': 'int8', 'country_id_CI': 'int8', 'country_id_CL': 'int8',\n",
    "          'country_id_CM': 'int8', 'country_id_CN': 'int8', 'country_id_CO': 'int8',\n",
    "          'country_id_DE': 'int8', 'country_id_DJ': 'int8', 'country_id_DO': 'int8',\n",
    "          'country_id_DZ': 'int8', 'country_id_ES': 'int8', 'country_id_ET': 'int8',\n",
    "          'country_id_FR': 'int8', 'country_id_GA': 'int8', 'country_id_GB': 'int8',\n",
    "          'country_id_GT': 'int8', 'country_id_HU': 'int8', 'country_id_IE': 'int8',\n",
    "          'country_id_IT': 'int8', 'country_id_JM': 'int8', 'country_id_LU': 'int8',\n",
    "          'country_id_MA': 'int8', 'country_id_MR': 'int8', 'country_id_MX': 'int8',\n",
    "          'country_id_NO': 'int8', 'country_id_PE': 'int8', 'country_id_PL': 'int8',\n",
    "          'country_id_PT': 'int8', 'country_id_QA': 'int8', 'country_id_RO': 'int8',\n",
    "          'country_id_RU': 'int8', 'country_id_SA': 'int8', 'country_id_SE': 'int8',\n",
    "          'country_id_SN': 'int8', 'country_id_US': 'int8', 'country_id_VE': 'int8',\n",
    "          'prediction': 'int8', 'product_to_sale': 'str'}\n",
    "\n",
    "parse_dates = ['pk_partition']"
   ],
   "metadata": {
    "collapsed": false,
    "pycharm": {
     "name": "#%%\n"
    }
   }
  },
  {
   "cell_type": "code",
   "execution_count": 5,
   "outputs": [
    {
     "name": "stdout",
     "output_type": "stream",
     "text": [
      "Wall time: 85 ms\n"
     ]
    },
    {
     "data": {
      "text/plain": "em_acount          3984\ndebit_card          666\npayroll_account     342\nName: product_to_sale, dtype: int64"
     },
     "execution_count": 5,
     "metadata": {},
     "output_type": "execute_result"
    }
   ],
   "source": [
    "%%time\n",
    "potential_client_files = os.listdir(__POTENTIAL_CLIENTS_PATH__)\n",
    "\n",
    "df = None\n",
    "for potential_client_file in potential_client_files:\n",
    "    if df is None:\n",
    "        df = pd.read_csv(f\"{__POTENTIAL_CLIENTS_PATH__}/{potential_client_file}\", dtype=dtypes, parse_dates=parse_dates)\n",
    "    else:\n",
    "        df = df.append(pd.read_csv(f\"{__POTENTIAL_CLIENTS_PATH__}/{potential_client_file}\", dtype=dtypes, parse_dates=parse_dates))\n",
    "\n",
    "df.drop(\"Unnamed: 0\", axis=1, inplace=True)\n",
    "df[\"pk_partition\"] = pd.to_datetime(df[\"pk_partition\"])\n",
    "df[\"product_to_sale\"].value_counts()"
   ],
   "metadata": {
    "collapsed": false,
    "pycharm": {
     "name": "#%%\n"
    }
   }
  },
  {
   "cell_type": "code",
   "execution_count": 6,
   "outputs": [
    {
     "data": {
      "text/plain": "      pk_cid     score  product_to_sale\n0     142278  0.526777       debit_card\n1     204957  0.589198       debit_card\n2     281591  0.709943       debit_card\n3     288155  0.610640       debit_card\n4     471828  0.617580       debit_card\n..       ...       ...              ...\n337  1547078  0.531277  payroll_account\n338  1547115  0.578667  payroll_account\n339  1547286  0.528678  payroll_account\n340  1547549  0.979754  payroll_account\n341  1547660  0.979292  payroll_account\n\n[4992 rows x 3 columns]",
      "text/html": "<div>\n<style scoped>\n    .dataframe tbody tr th:only-of-type {\n        vertical-align: middle;\n    }\n\n    .dataframe tbody tr th {\n        vertical-align: top;\n    }\n\n    .dataframe thead th {\n        text-align: right;\n    }\n</style>\n<table border=\"1\" class=\"dataframe\">\n  <thead>\n    <tr style=\"text-align: right;\">\n      <th></th>\n      <th>pk_cid</th>\n      <th>score</th>\n      <th>product_to_sale</th>\n    </tr>\n  </thead>\n  <tbody>\n    <tr>\n      <th>0</th>\n      <td>142278</td>\n      <td>0.526777</td>\n      <td>debit_card</td>\n    </tr>\n    <tr>\n      <th>1</th>\n      <td>204957</td>\n      <td>0.589198</td>\n      <td>debit_card</td>\n    </tr>\n    <tr>\n      <th>2</th>\n      <td>281591</td>\n      <td>0.709943</td>\n      <td>debit_card</td>\n    </tr>\n    <tr>\n      <th>3</th>\n      <td>288155</td>\n      <td>0.610640</td>\n      <td>debit_card</td>\n    </tr>\n    <tr>\n      <th>4</th>\n      <td>471828</td>\n      <td>0.617580</td>\n      <td>debit_card</td>\n    </tr>\n    <tr>\n      <th>...</th>\n      <td>...</td>\n      <td>...</td>\n      <td>...</td>\n    </tr>\n    <tr>\n      <th>337</th>\n      <td>1547078</td>\n      <td>0.531277</td>\n      <td>payroll_account</td>\n    </tr>\n    <tr>\n      <th>338</th>\n      <td>1547115</td>\n      <td>0.578667</td>\n      <td>payroll_account</td>\n    </tr>\n    <tr>\n      <th>339</th>\n      <td>1547286</td>\n      <td>0.528678</td>\n      <td>payroll_account</td>\n    </tr>\n    <tr>\n      <th>340</th>\n      <td>1547549</td>\n      <td>0.979754</td>\n      <td>payroll_account</td>\n    </tr>\n    <tr>\n      <th>341</th>\n      <td>1547660</td>\n      <td>0.979292</td>\n      <td>payroll_account</td>\n    </tr>\n  </tbody>\n</table>\n<p>4992 rows × 3 columns</p>\n</div>"
     },
     "execution_count": 6,
     "metadata": {},
     "output_type": "execute_result"
    }
   ],
   "source": [
    "df[[\"pk_cid\", \"score\", \"product_to_sale\"]]"
   ],
   "metadata": {
    "collapsed": false,
    "pycharm": {
     "name": "#%%\n"
    }
   }
  },
  {
   "cell_type": "markdown",
   "source": [
    "## Muestra de 1000 potenciales clientes"
   ],
   "metadata": {
    "collapsed": false,
    "pycharm": {
     "name": "#%% md\n"
    }
   }
  },
  {
   "cell_type": "code",
   "execution_count": 7,
   "outputs": [
    {
     "data": {
      "text/plain": "     id_user          segment\n0    1060802        em_acount\n1     790318        em_acount\n2    1015384        em_acount\n3    1195514        em_acount\n4    1335030        em_acount\n..       ...              ...\n995  1386911        em_acount\n996  1351113        em_acount\n997  1547286  payroll_account\n998  1340168        em_acount\n999  1225910        em_acount\n\n[1000 rows x 2 columns]",
      "text/html": "<div>\n<style scoped>\n    .dataframe tbody tr th:only-of-type {\n        vertical-align: middle;\n    }\n\n    .dataframe tbody tr th {\n        vertical-align: top;\n    }\n\n    .dataframe thead th {\n        text-align: right;\n    }\n</style>\n<table border=\"1\" class=\"dataframe\">\n  <thead>\n    <tr style=\"text-align: right;\">\n      <th></th>\n      <th>id_user</th>\n      <th>segment</th>\n    </tr>\n  </thead>\n  <tbody>\n    <tr>\n      <th>0</th>\n      <td>1060802</td>\n      <td>em_acount</td>\n    </tr>\n    <tr>\n      <th>1</th>\n      <td>790318</td>\n      <td>em_acount</td>\n    </tr>\n    <tr>\n      <th>2</th>\n      <td>1015384</td>\n      <td>em_acount</td>\n    </tr>\n    <tr>\n      <th>3</th>\n      <td>1195514</td>\n      <td>em_acount</td>\n    </tr>\n    <tr>\n      <th>4</th>\n      <td>1335030</td>\n      <td>em_acount</td>\n    </tr>\n    <tr>\n      <th>...</th>\n      <td>...</td>\n      <td>...</td>\n    </tr>\n    <tr>\n      <th>995</th>\n      <td>1386911</td>\n      <td>em_acount</td>\n    </tr>\n    <tr>\n      <th>996</th>\n      <td>1351113</td>\n      <td>em_acount</td>\n    </tr>\n    <tr>\n      <th>997</th>\n      <td>1547286</td>\n      <td>payroll_account</td>\n    </tr>\n    <tr>\n      <th>998</th>\n      <td>1340168</td>\n      <td>em_acount</td>\n    </tr>\n    <tr>\n      <th>999</th>\n      <td>1225910</td>\n      <td>em_acount</td>\n    </tr>\n  </tbody>\n</table>\n<p>1000 rows × 2 columns</p>\n</div>"
     },
     "execution_count": 7,
     "metadata": {},
     "output_type": "execute_result"
    }
   ],
   "source": [
    "potential_client_sample = df[[\"pk_cid\", \"product_to_sale\"]].sample(1000).reset_index(drop=True)\n",
    "potential_client_sample.columns = [\"id_user\", \"segment\"]\n",
    "potential_client_sample.to_csv(__POTENTIAL_CLIENTS_SAMPLE__)\n",
    "potential_client_sample"
   ],
   "metadata": {
    "collapsed": false,
    "pycharm": {
     "name": "#%%\n"
    }
   }
  },
  {
   "cell_type": "code",
   "execution_count": 8,
   "outputs": [],
   "source": [
    "columns = [\"gender\", \"age\", \"salary\", \"product_to_sale\"]"
   ],
   "metadata": {
    "collapsed": false,
    "pycharm": {
     "name": "#%%\n"
    }
   }
  },
  {
   "cell_type": "code",
   "execution_count": 9,
   "outputs": [
    {
     "data": {
      "text/plain": "     gender  age      salary  product_to_sale\n0         1   53   98093.580       debit_card\n1         1   40  113508.195       debit_card\n2         1   44  106886.910       debit_card\n3         0   57   84147.960       debit_card\n4         1   35   83924.685       debit_card\n..      ...  ...         ...              ...\n337       0   23  143288.010  payroll_account\n338       1   21  101198.115  payroll_account\n339       1   27  112586.895  payroll_account\n340       0   34  115250.850  payroll_account\n341       0   32  176497.470  payroll_account\n\n[4992 rows x 4 columns]",
      "text/html": "<div>\n<style scoped>\n    .dataframe tbody tr th:only-of-type {\n        vertical-align: middle;\n    }\n\n    .dataframe tbody tr th {\n        vertical-align: top;\n    }\n\n    .dataframe thead th {\n        text-align: right;\n    }\n</style>\n<table border=\"1\" class=\"dataframe\">\n  <thead>\n    <tr style=\"text-align: right;\">\n      <th></th>\n      <th>gender</th>\n      <th>age</th>\n      <th>salary</th>\n      <th>product_to_sale</th>\n    </tr>\n  </thead>\n  <tbody>\n    <tr>\n      <th>0</th>\n      <td>1</td>\n      <td>53</td>\n      <td>98093.580</td>\n      <td>debit_card</td>\n    </tr>\n    <tr>\n      <th>1</th>\n      <td>1</td>\n      <td>40</td>\n      <td>113508.195</td>\n      <td>debit_card</td>\n    </tr>\n    <tr>\n      <th>2</th>\n      <td>1</td>\n      <td>44</td>\n      <td>106886.910</td>\n      <td>debit_card</td>\n    </tr>\n    <tr>\n      <th>3</th>\n      <td>0</td>\n      <td>57</td>\n      <td>84147.960</td>\n      <td>debit_card</td>\n    </tr>\n    <tr>\n      <th>4</th>\n      <td>1</td>\n      <td>35</td>\n      <td>83924.685</td>\n      <td>debit_card</td>\n    </tr>\n    <tr>\n      <th>...</th>\n      <td>...</td>\n      <td>...</td>\n      <td>...</td>\n      <td>...</td>\n    </tr>\n    <tr>\n      <th>337</th>\n      <td>0</td>\n      <td>23</td>\n      <td>143288.010</td>\n      <td>payroll_account</td>\n    </tr>\n    <tr>\n      <th>338</th>\n      <td>1</td>\n      <td>21</td>\n      <td>101198.115</td>\n      <td>payroll_account</td>\n    </tr>\n    <tr>\n      <th>339</th>\n      <td>1</td>\n      <td>27</td>\n      <td>112586.895</td>\n      <td>payroll_account</td>\n    </tr>\n    <tr>\n      <th>340</th>\n      <td>0</td>\n      <td>34</td>\n      <td>115250.850</td>\n      <td>payroll_account</td>\n    </tr>\n    <tr>\n      <th>341</th>\n      <td>0</td>\n      <td>32</td>\n      <td>176497.470</td>\n      <td>payroll_account</td>\n    </tr>\n  </tbody>\n</table>\n<p>4992 rows × 4 columns</p>\n</div>"
     },
     "execution_count": 9,
     "metadata": {},
     "output_type": "execute_result"
    }
   ],
   "source": [
    "df_prep = df.copy(deep=True)[columns]\n",
    "df_prep"
   ],
   "metadata": {
    "collapsed": false,
    "pycharm": {
     "name": "#%%\n"
    }
   }
  },
  {
   "cell_type": "code",
   "execution_count": 10,
   "outputs": [
    {
     "name": "stdout",
     "output_type": "stream",
     "text": [
      "columns to encode: ['product_to_sale']\n",
      "dataframe before one-hot encoding: (4992, 4)\n",
      "dataframe after one-hot encoding:  (4992, 6)\n",
      "\n",
      "columns = ['gender', 'age', 'salary', 'product_to_sale_debit_card', 'product_to_sale_em_acount', 'product_to_sale_payroll_account']\n"
     ]
    }
   ],
   "source": [
    "df_prep = encode_dataframe(df_prep)\n",
    "print(f\"\"\"\n",
    "columns = {list(df_prep.columns)}\"\"\")"
   ],
   "metadata": {
    "collapsed": false,
    "pycharm": {
     "name": "#%%\n"
    }
   }
  },
  {
   "cell_type": "code",
   "execution_count": 11,
   "outputs": [],
   "source": [
    "# Cuentas\n",
    "# account_types = [\"em_acount\"]\n",
    "# df_prep[\"is_account\"] = df_prep[\"product_to_sale\"].isin(account_types)\n",
    "# df_prep[\"is_account\"] = df_prep[\"is_account\"].astype(int)\n",
    "# Ahorros e inversion\n",
    "# savings_and_investment = [\"payroll_account\"]\n",
    "# df_prep[\"is_savings_and_investment\"] = df_prep[\"product_to_sale\"].isin(savings_and_investment)\n",
    "# df_prep[\"is_savings_and_investment\"] = df_prep[\"is_savings_and_investment\"].astype(int)\n",
    "# Ahorros e inversion\n",
    "# funding = [\"debit_card\"]\n",
    "# df_prep[\"is_funding\"] = df_prep[\"product_to_sale\"].isin(funding)\n",
    "# df_prep[\"is_funding\"] = df_prep[\"is_funding\"].astype(int)"
   ],
   "metadata": {
    "collapsed": false,
    "pycharm": {
     "name": "#%%\n"
    }
   }
  },
  {
   "cell_type": "markdown",
   "source": [
    "## Clustering"
   ],
   "metadata": {
    "collapsed": false,
    "pycharm": {
     "name": "#%% md\n"
    }
   }
  },
  {
   "cell_type": "code",
   "execution_count": 12,
   "outputs": [],
   "source": [
    "processed_df = df_prep.copy(deep=True)"
   ],
   "metadata": {
    "collapsed": false,
    "pycharm": {
     "name": "#%%\n"
    }
   }
  },
  {
   "cell_type": "code",
   "execution_count": 13,
   "outputs": [
    {
     "name": "stdout",
     "output_type": "stream",
     "text": [
      "Wall time: 168 ms\n"
     ]
    },
    {
     "data": {
      "text/plain": "Pipeline(steps=[('Scale', MinMaxScaler()),\n                ('Clustering', KMeans(n_clusters=5))])"
     },
     "execution_count": 13,
     "metadata": {},
     "output_type": "execute_result"
    }
   ],
   "source": [
    "%%time\n",
    "pipeline = Pipeline(steps=[\n",
    "    (\"Scale\", MinMaxScaler()),\n",
    "    (\"Clustering\", KMeans(n_clusters=5))\n",
    "])\n",
    "\n",
    "pipeline.fit(processed_df)"
   ],
   "metadata": {
    "collapsed": false,
    "pycharm": {
     "name": "#%%\n"
    }
   }
  },
  {
   "cell_type": "code",
   "execution_count": 14,
   "outputs": [
    {
     "data": {
      "text/plain": "     gender  age      salary  product_to_sale_debit_card  \\\n0         1   53   98093.580                           1   \n1         1   40  113508.195                           1   \n2         1   44  106886.910                           1   \n3         0   57   84147.960                           1   \n4         1   35   83924.685                           1   \n..      ...  ...         ...                         ...   \n337       0   23  143288.010                           0   \n338       1   21  101198.115                           0   \n339       1   27  112586.895                           0   \n340       0   34  115250.850                           0   \n341       0   32  176497.470                           0   \n\n     product_to_sale_em_acount  product_to_sale_payroll_account  cluster  \n0                            0                                0        2  \n1                            0                                0        2  \n2                            0                                0        2  \n3                            0                                0        4  \n4                            0                                0        2  \n..                         ...                              ...      ...  \n337                          0                                1        3  \n338                          0                                1        3  \n339                          0                                1        3  \n340                          0                                1        3  \n341                          0                                1        3  \n\n[4992 rows x 7 columns]",
      "text/html": "<div>\n<style scoped>\n    .dataframe tbody tr th:only-of-type {\n        vertical-align: middle;\n    }\n\n    .dataframe tbody tr th {\n        vertical-align: top;\n    }\n\n    .dataframe thead th {\n        text-align: right;\n    }\n</style>\n<table border=\"1\" class=\"dataframe\">\n  <thead>\n    <tr style=\"text-align: right;\">\n      <th></th>\n      <th>gender</th>\n      <th>age</th>\n      <th>salary</th>\n      <th>product_to_sale_debit_card</th>\n      <th>product_to_sale_em_acount</th>\n      <th>product_to_sale_payroll_account</th>\n      <th>cluster</th>\n    </tr>\n  </thead>\n  <tbody>\n    <tr>\n      <th>0</th>\n      <td>1</td>\n      <td>53</td>\n      <td>98093.580</td>\n      <td>1</td>\n      <td>0</td>\n      <td>0</td>\n      <td>2</td>\n    </tr>\n    <tr>\n      <th>1</th>\n      <td>1</td>\n      <td>40</td>\n      <td>113508.195</td>\n      <td>1</td>\n      <td>0</td>\n      <td>0</td>\n      <td>2</td>\n    </tr>\n    <tr>\n      <th>2</th>\n      <td>1</td>\n      <td>44</td>\n      <td>106886.910</td>\n      <td>1</td>\n      <td>0</td>\n      <td>0</td>\n      <td>2</td>\n    </tr>\n    <tr>\n      <th>3</th>\n      <td>0</td>\n      <td>57</td>\n      <td>84147.960</td>\n      <td>1</td>\n      <td>0</td>\n      <td>0</td>\n      <td>4</td>\n    </tr>\n    <tr>\n      <th>4</th>\n      <td>1</td>\n      <td>35</td>\n      <td>83924.685</td>\n      <td>1</td>\n      <td>0</td>\n      <td>0</td>\n      <td>2</td>\n    </tr>\n    <tr>\n      <th>...</th>\n      <td>...</td>\n      <td>...</td>\n      <td>...</td>\n      <td>...</td>\n      <td>...</td>\n      <td>...</td>\n      <td>...</td>\n    </tr>\n    <tr>\n      <th>337</th>\n      <td>0</td>\n      <td>23</td>\n      <td>143288.010</td>\n      <td>0</td>\n      <td>0</td>\n      <td>1</td>\n      <td>3</td>\n    </tr>\n    <tr>\n      <th>338</th>\n      <td>1</td>\n      <td>21</td>\n      <td>101198.115</td>\n      <td>0</td>\n      <td>0</td>\n      <td>1</td>\n      <td>3</td>\n    </tr>\n    <tr>\n      <th>339</th>\n      <td>1</td>\n      <td>27</td>\n      <td>112586.895</td>\n      <td>0</td>\n      <td>0</td>\n      <td>1</td>\n      <td>3</td>\n    </tr>\n    <tr>\n      <th>340</th>\n      <td>0</td>\n      <td>34</td>\n      <td>115250.850</td>\n      <td>0</td>\n      <td>0</td>\n      <td>1</td>\n      <td>3</td>\n    </tr>\n    <tr>\n      <th>341</th>\n      <td>0</td>\n      <td>32</td>\n      <td>176497.470</td>\n      <td>0</td>\n      <td>0</td>\n      <td>1</td>\n      <td>3</td>\n    </tr>\n  </tbody>\n</table>\n<p>4992 rows × 7 columns</p>\n</div>"
     },
     "execution_count": 14,
     "metadata": {},
     "output_type": "execute_result"
    }
   ],
   "source": [
    "processed_df[\"cluster\"] = pipeline.predict(processed_df)\n",
    "processed_df"
   ],
   "metadata": {
    "collapsed": false,
    "pycharm": {
     "name": "#%%\n"
    }
   }
  },
  {
   "cell_type": "markdown",
   "source": [
    "## Observation of results"
   ],
   "metadata": {
    "collapsed": false,
    "pycharm": {
     "name": "#%% md\n"
    }
   }
  },
  {
   "cell_type": "code",
   "execution_count": 19,
   "outputs": [
    {
     "data": {
      "text/plain": "cluster                      0              1              2              3  \\\ncluster_size       2011.000000    1973.000000     297.000000     342.000000   \ngender                1.000000       0.000000       1.000000       0.418129   \nage_mean             30.836897      32.526609      37.582492      35.058480   \nage_mode             23.000000      23.000000      33.000000      37.000000   \nsalary_mean      117289.517499  120370.090666  140225.718737  107473.476447   \ndebit_card            0.000000       0.000000       1.000000       0.000000   \nem_acount             1.000000       1.000000       0.000000       0.000000   \npayroll_account       0.000000       0.000000       0.000000       1.000000   \n\ncluster                      4  \ncluster_size        369.000000  \ngender                0.000000  \nage_mean             37.327913  \nage_mode             33.000000  \nsalary_mean      103257.321341  \ndebit_card            1.000000  \nem_acount             0.000000  \npayroll_account       0.000000  ",
      "text/html": "<div>\n<style scoped>\n    .dataframe tbody tr th:only-of-type {\n        vertical-align: middle;\n    }\n\n    .dataframe tbody tr th {\n        vertical-align: top;\n    }\n\n    .dataframe thead th {\n        text-align: right;\n    }\n</style>\n<table border=\"1\" class=\"dataframe\">\n  <thead>\n    <tr style=\"text-align: right;\">\n      <th>cluster</th>\n      <th>0</th>\n      <th>1</th>\n      <th>2</th>\n      <th>3</th>\n      <th>4</th>\n    </tr>\n  </thead>\n  <tbody>\n    <tr>\n      <th>cluster_size</th>\n      <td>2011.000000</td>\n      <td>1973.000000</td>\n      <td>297.000000</td>\n      <td>342.000000</td>\n      <td>369.000000</td>\n    </tr>\n    <tr>\n      <th>gender</th>\n      <td>1.000000</td>\n      <td>0.000000</td>\n      <td>1.000000</td>\n      <td>0.418129</td>\n      <td>0.000000</td>\n    </tr>\n    <tr>\n      <th>age_mean</th>\n      <td>30.836897</td>\n      <td>32.526609</td>\n      <td>37.582492</td>\n      <td>35.058480</td>\n      <td>37.327913</td>\n    </tr>\n    <tr>\n      <th>age_mode</th>\n      <td>23.000000</td>\n      <td>23.000000</td>\n      <td>33.000000</td>\n      <td>37.000000</td>\n      <td>33.000000</td>\n    </tr>\n    <tr>\n      <th>salary_mean</th>\n      <td>117289.517499</td>\n      <td>120370.090666</td>\n      <td>140225.718737</td>\n      <td>107473.476447</td>\n      <td>103257.321341</td>\n    </tr>\n    <tr>\n      <th>debit_card</th>\n      <td>0.000000</td>\n      <td>0.000000</td>\n      <td>1.000000</td>\n      <td>0.000000</td>\n      <td>1.000000</td>\n    </tr>\n    <tr>\n      <th>em_acount</th>\n      <td>1.000000</td>\n      <td>1.000000</td>\n      <td>0.000000</td>\n      <td>0.000000</td>\n      <td>0.000000</td>\n    </tr>\n    <tr>\n      <th>payroll_account</th>\n      <td>0.000000</td>\n      <td>0.000000</td>\n      <td>0.000000</td>\n      <td>1.000000</td>\n      <td>0.000000</td>\n    </tr>\n  </tbody>\n</table>\n</div>"
     },
     "execution_count": 19,
     "metadata": {},
     "output_type": "execute_result"
    }
   ],
   "source": [
    "cluster_gb = processed_df.groupby(\"cluster\")\n",
    "\n",
    "cluster_size = cluster_gb.size().to_frame()\n",
    "cluster_size.columns = [\"cluster_size\"]\n",
    "\n",
    "cluster_report = cluster_gb.agg(\n",
    "    gender = (\"gender\", np.mean),\n",
    "    age_mean = (\"age\", np.mean),\n",
    "    age_mode = (\"age\", lambda serie: np.round(serie.mode().iat[0], 2)),\n",
    "    salary_mean = (\"salary\", np.mean),\n",
    "    # is_account = ('is_account', np.mean),\n",
    "    # is_savings_and_investment = ('is_savings_and_investment', np.mean),\n",
    "    # is_funding = ('is_funding', np.mean)\n",
    "    debit_card = (\"product_to_sale_debit_card\", np.mean),\n",
    "    em_acount = (\"product_to_sale_em_acount\", np.mean),\n",
    "    payroll_account = (\"product_to_sale_payroll_account\", np.mean)\n",
    ")\n",
    "\n",
    "cluster_report = cluster_size.T.append(cluster_report.T)\n",
    "cluster_report"
   ],
   "metadata": {
    "collapsed": false,
    "pycharm": {
     "name": "#%%\n"
    }
   }
  },
  {
   "cell_type": "code",
   "execution_count": 20,
   "outputs": [
    {
     "data": {
      "text/plain": "<pandas.io.formats.style.Styler at 0x25968fa9070>",
      "text/html": "<style type=\"text/css\">\n#T_c97cc_row0_col0, #T_c97cc_row1_col0, #T_c97cc_row1_col2, #T_c97cc_row2_col2, #T_c97cc_row3_col3, #T_c97cc_row4_col2, #T_c97cc_row5_col2, #T_c97cc_row5_col4, #T_c97cc_row6_col0, #T_c97cc_row6_col1, #T_c97cc_row7_col3 {\n  background-color: #00441b;\n  color: #f1f1f1;\n}\n#T_c97cc_row0_col1 {\n  background-color: #004a1e;\n  color: #f1f1f1;\n}\n#T_c97cc_row0_col2, #T_c97cc_row1_col1, #T_c97cc_row1_col4, #T_c97cc_row2_col0, #T_c97cc_row3_col0, #T_c97cc_row3_col1, #T_c97cc_row4_col4, #T_c97cc_row5_col0, #T_c97cc_row5_col1, #T_c97cc_row5_col3, #T_c97cc_row6_col2, #T_c97cc_row6_col3, #T_c97cc_row6_col4, #T_c97cc_row7_col0, #T_c97cc_row7_col1, #T_c97cc_row7_col2, #T_c97cc_row7_col4 {\n  background-color: #f7fcfd;\n  color: #000000;\n}\n#T_c97cc_row0_col3 {\n  background-color: #f4fbfc;\n  color: #000000;\n}\n#T_c97cc_row0_col4 {\n  background-color: #f1fafc;\n  color: #000000;\n}\n#T_c97cc_row1_col3 {\n  background-color: #87d0bc;\n  color: #000000;\n}\n#T_c97cc_row2_col1 {\n  background-color: #ccece6;\n  color: #000000;\n}\n#T_c97cc_row2_col3 {\n  background-color: #40ad75;\n  color: #f1f1f1;\n}\n#T_c97cc_row2_col4 {\n  background-color: #005020;\n  color: #f1f1f1;\n}\n#T_c97cc_row3_col2, #T_c97cc_row3_col4 {\n  background-color: #2c9553;\n  color: #f1f1f1;\n}\n#T_c97cc_row4_col0 {\n  background-color: #97d7c7;\n  color: #000000;\n}\n#T_c97cc_row4_col1 {\n  background-color: #75c9af;\n  color: #000000;\n}\n#T_c97cc_row4_col3 {\n  background-color: #e7f6f9;\n  color: #000000;\n}\n</style>\n<table id=\"T_c97cc_\">\n  <thead>\n    <tr>\n      <th class=\"index_name level0\" >cluster</th>\n      <th class=\"col_heading level0 col0\" >0</th>\n      <th class=\"col_heading level0 col1\" >1</th>\n      <th class=\"col_heading level0 col2\" >2</th>\n      <th class=\"col_heading level0 col3\" >3</th>\n      <th class=\"col_heading level0 col4\" >4</th>\n    </tr>\n  </thead>\n  <tbody>\n    <tr>\n      <th id=\"T_c97cc_level0_row0\" class=\"row_heading level0 row0\" >cluster_size</th>\n      <td id=\"T_c97cc_row0_col0\" class=\"data row0 col0\" >2011.000000</td>\n      <td id=\"T_c97cc_row0_col1\" class=\"data row0 col1\" >1973.000000</td>\n      <td id=\"T_c97cc_row0_col2\" class=\"data row0 col2\" >297.000000</td>\n      <td id=\"T_c97cc_row0_col3\" class=\"data row0 col3\" >342.000000</td>\n      <td id=\"T_c97cc_row0_col4\" class=\"data row0 col4\" >369.000000</td>\n    </tr>\n    <tr>\n      <th id=\"T_c97cc_level0_row1\" class=\"row_heading level0 row1\" >gender</th>\n      <td id=\"T_c97cc_row1_col0\" class=\"data row1 col0\" >1.000000</td>\n      <td id=\"T_c97cc_row1_col1\" class=\"data row1 col1\" >0.000000</td>\n      <td id=\"T_c97cc_row1_col2\" class=\"data row1 col2\" >1.000000</td>\n      <td id=\"T_c97cc_row1_col3\" class=\"data row1 col3\" >0.418129</td>\n      <td id=\"T_c97cc_row1_col4\" class=\"data row1 col4\" >0.000000</td>\n    </tr>\n    <tr>\n      <th id=\"T_c97cc_level0_row2\" class=\"row_heading level0 row2\" >age_mean</th>\n      <td id=\"T_c97cc_row2_col0\" class=\"data row2 col0\" >30.836897</td>\n      <td id=\"T_c97cc_row2_col1\" class=\"data row2 col1\" >32.526609</td>\n      <td id=\"T_c97cc_row2_col2\" class=\"data row2 col2\" >37.582492</td>\n      <td id=\"T_c97cc_row2_col3\" class=\"data row2 col3\" >35.058480</td>\n      <td id=\"T_c97cc_row2_col4\" class=\"data row2 col4\" >37.327913</td>\n    </tr>\n    <tr>\n      <th id=\"T_c97cc_level0_row3\" class=\"row_heading level0 row3\" >age_mode</th>\n      <td id=\"T_c97cc_row3_col0\" class=\"data row3 col0\" >23.000000</td>\n      <td id=\"T_c97cc_row3_col1\" class=\"data row3 col1\" >23.000000</td>\n      <td id=\"T_c97cc_row3_col2\" class=\"data row3 col2\" >33.000000</td>\n      <td id=\"T_c97cc_row3_col3\" class=\"data row3 col3\" >37.000000</td>\n      <td id=\"T_c97cc_row3_col4\" class=\"data row3 col4\" >33.000000</td>\n    </tr>\n    <tr>\n      <th id=\"T_c97cc_level0_row4\" class=\"row_heading level0 row4\" >salary_mean</th>\n      <td id=\"T_c97cc_row4_col0\" class=\"data row4 col0\" >117289.517499</td>\n      <td id=\"T_c97cc_row4_col1\" class=\"data row4 col1\" >120370.090666</td>\n      <td id=\"T_c97cc_row4_col2\" class=\"data row4 col2\" >140225.718737</td>\n      <td id=\"T_c97cc_row4_col3\" class=\"data row4 col3\" >107473.476447</td>\n      <td id=\"T_c97cc_row4_col4\" class=\"data row4 col4\" >103257.321341</td>\n    </tr>\n    <tr>\n      <th id=\"T_c97cc_level0_row5\" class=\"row_heading level0 row5\" >debit_card</th>\n      <td id=\"T_c97cc_row5_col0\" class=\"data row5 col0\" >0.000000</td>\n      <td id=\"T_c97cc_row5_col1\" class=\"data row5 col1\" >0.000000</td>\n      <td id=\"T_c97cc_row5_col2\" class=\"data row5 col2\" >1.000000</td>\n      <td id=\"T_c97cc_row5_col3\" class=\"data row5 col3\" >0.000000</td>\n      <td id=\"T_c97cc_row5_col4\" class=\"data row5 col4\" >1.000000</td>\n    </tr>\n    <tr>\n      <th id=\"T_c97cc_level0_row6\" class=\"row_heading level0 row6\" >em_acount</th>\n      <td id=\"T_c97cc_row6_col0\" class=\"data row6 col0\" >1.000000</td>\n      <td id=\"T_c97cc_row6_col1\" class=\"data row6 col1\" >1.000000</td>\n      <td id=\"T_c97cc_row6_col2\" class=\"data row6 col2\" >0.000000</td>\n      <td id=\"T_c97cc_row6_col3\" class=\"data row6 col3\" >0.000000</td>\n      <td id=\"T_c97cc_row6_col4\" class=\"data row6 col4\" >0.000000</td>\n    </tr>\n    <tr>\n      <th id=\"T_c97cc_level0_row7\" class=\"row_heading level0 row7\" >payroll_account</th>\n      <td id=\"T_c97cc_row7_col0\" class=\"data row7 col0\" >0.000000</td>\n      <td id=\"T_c97cc_row7_col1\" class=\"data row7 col1\" >0.000000</td>\n      <td id=\"T_c97cc_row7_col2\" class=\"data row7 col2\" >0.000000</td>\n      <td id=\"T_c97cc_row7_col3\" class=\"data row7 col3\" >1.000000</td>\n      <td id=\"T_c97cc_row7_col4\" class=\"data row7 col4\" >0.000000</td>\n    </tr>\n  </tbody>\n</table>\n"
     },
     "execution_count": 20,
     "metadata": {},
     "output_type": "execute_result"
    }
   ],
   "source": [
    "cluster_report.style.background_gradient(cmap=\"BuGn\", axis=1)"
   ],
   "metadata": {
    "collapsed": false,
    "pycharm": {
     "name": "#%%\n"
    }
   }
  },
  {
   "cell_type": "code",
   "execution_count": 16,
   "outputs": [],
   "source": [],
   "metadata": {
    "collapsed": false,
    "pycharm": {
     "name": "#%%\n"
    }
   }
  }
 ],
 "metadata": {
  "kernelspec": {
   "display_name": "Python 3",
   "language": "python",
   "name": "python3"
  },
  "language_info": {
   "codemirror_mode": {
    "name": "ipython",
    "version": 2
   },
   "file_extension": ".py",
   "mimetype": "text/x-python",
   "name": "python",
   "nbconvert_exporter": "python",
   "pygments_lexer": "ipython2",
   "version": "2.7.6"
  }
 },
 "nbformat": 4,
 "nbformat_minor": 0
}