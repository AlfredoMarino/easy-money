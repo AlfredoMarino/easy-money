{
 "cells": [
  {
   "cell_type": "markdown",
   "source": [
    "# Easy Money - Classification"
   ],
   "metadata": {
    "collapsed": false,
    "pycharm": {
     "name": "#%% md\n",
     "is_executing": true
    }
   }
  },
  {
   "cell_type": "code",
   "execution_count": 199,
   "metadata": {
    "collapsed": true
   },
   "outputs": [],
   "source": [
    "import pandas as pd\n",
    "import numpy as np\n",
    "import matplotlib.pyplot as plt\n",
    "import seaborn as sns\n",
    "\n",
    "from sklearn import tree\n",
    "from sklearn.model_selection import train_test_split\n",
    "\n",
    "import xgboost as xgb"
   ]
  },
  {
   "cell_type": "code",
   "execution_count": 169,
   "outputs": [],
   "source": [
    "__DATA_PATH__ = \"../data\"\n",
    "__INTERIM_DATA_PATH__ = f\"{__DATA_PATH__}/interim\"\n",
    "\n",
    "\n",
    "TARGET = \"debit_card\"\n",
    "\n",
    "DEV_PARTITION_PERIOD = (\"2018-01-28\", \"2019-02-28\")\n",
    "VAL_PARTITION_PERIOD = (\"2019-03-28\", \"2019-05-28\")\n",
    "\n",
    "# TRAIN_PERIOD = (\"2018-01-28\", \"2018-12-28\")\n",
    "# TEST_PERIOD = (\"2019-01-28\", \"2019-03-28\")\n",
    "# VALIDATION_PERIOD = (\"2019-04-28\", \"2019-05-28\")\n",
    "\n",
    "exclude_columns = [\"pk_cid\", \"pk_partition\", \"index\"]"
   ],
   "metadata": {
    "collapsed": false,
    "pycharm": {
     "name": "#%%\n"
    }
   }
  },
  {
   "cell_type": "markdown",
   "source": [
    "## Import data"
   ],
   "metadata": {
    "collapsed": false,
    "pycharm": {
     "name": "#%% md\n"
    }
   }
  },
  {
   "cell_type": "code",
   "execution_count": 170,
   "outputs": [
    {
     "data": {
      "text/plain": "(5962838, 74)"
     },
     "execution_count": 170,
     "metadata": {},
     "output_type": "execute_result"
    }
   ],
   "source": [
    "df = pd.read_csv(f\"{__INTERIM_DATA_PATH__}/easy_money_prep_1.csv\")\n",
    "df.drop(\"Unnamed: 0\", axis=1, inplace=True)\n",
    "df.drop(\"entry_date\", axis=1, inplace=True)\n",
    "df[\"pk_partition\"] = pd.to_datetime(df[\"pk_partition\"])\n",
    "df.shape"
   ],
   "metadata": {
    "collapsed": false,
    "pycharm": {
     "name": "#%%\n"
    }
   }
  },
  {
   "cell_type": "markdown",
   "source": [
    "## Filter data"
   ],
   "metadata": {
    "collapsed": false,
    "pycharm": {
     "name": "#%% md\n"
    }
   }
  },
  {
   "cell_type": "code",
   "execution_count": 171,
   "outputs": [
    {
     "data": {
      "text/plain": "          pk_cid pk_partition  debit_card\n0          15891   2018-07-28           0\n1          15891   2018-08-28           0\n2          16063   2018-11-28           0\n3          16063   2018-12-28           0\n4          16063   2019-01-28           0\n...          ...          ...         ...\n5962833  1553685   2019-05-28           0\n5962834  1553686   2019-05-28           0\n5962835  1553687   2019-05-28           0\n5962836  1553688   2019-05-28           0\n5962837  1553689   2019-05-28           0\n\n[5962838 rows x 3 columns]",
      "text/html": "<div>\n<style scoped>\n    .dataframe tbody tr th:only-of-type {\n        vertical-align: middle;\n    }\n\n    .dataframe tbody tr th {\n        vertical-align: top;\n    }\n\n    .dataframe thead th {\n        text-align: right;\n    }\n</style>\n<table border=\"1\" class=\"dataframe\">\n  <thead>\n    <tr style=\"text-align: right;\">\n      <th></th>\n      <th>pk_cid</th>\n      <th>pk_partition</th>\n      <th>debit_card</th>\n    </tr>\n  </thead>\n  <tbody>\n    <tr>\n      <th>0</th>\n      <td>15891</td>\n      <td>2018-07-28</td>\n      <td>0</td>\n    </tr>\n    <tr>\n      <th>1</th>\n      <td>15891</td>\n      <td>2018-08-28</td>\n      <td>0</td>\n    </tr>\n    <tr>\n      <th>2</th>\n      <td>16063</td>\n      <td>2018-11-28</td>\n      <td>0</td>\n    </tr>\n    <tr>\n      <th>3</th>\n      <td>16063</td>\n      <td>2018-12-28</td>\n      <td>0</td>\n    </tr>\n    <tr>\n      <th>4</th>\n      <td>16063</td>\n      <td>2019-01-28</td>\n      <td>0</td>\n    </tr>\n    <tr>\n      <th>...</th>\n      <td>...</td>\n      <td>...</td>\n      <td>...</td>\n    </tr>\n    <tr>\n      <th>5962833</th>\n      <td>1553685</td>\n      <td>2019-05-28</td>\n      <td>0</td>\n    </tr>\n    <tr>\n      <th>5962834</th>\n      <td>1553686</td>\n      <td>2019-05-28</td>\n      <td>0</td>\n    </tr>\n    <tr>\n      <th>5962835</th>\n      <td>1553687</td>\n      <td>2019-05-28</td>\n      <td>0</td>\n    </tr>\n    <tr>\n      <th>5962836</th>\n      <td>1553688</td>\n      <td>2019-05-28</td>\n      <td>0</td>\n    </tr>\n    <tr>\n      <th>5962837</th>\n      <td>1553689</td>\n      <td>2019-05-28</td>\n      <td>0</td>\n    </tr>\n  </tbody>\n</table>\n<p>5962838 rows × 3 columns</p>\n</div>"
     },
     "execution_count": 171,
     "metadata": {},
     "output_type": "execute_result"
    }
   ],
   "source": [
    "df[[\"pk_cid\", \"pk_partition\", TARGET]]"
   ],
   "metadata": {
    "collapsed": false,
    "pycharm": {
     "name": "#%%\n"
    }
   }
  },
  {
   "cell_type": "code",
   "execution_count": 172,
   "outputs": [],
   "source": [
    "# gb_df = df.groupby(\"pk_cid\")\n",
    "#\n",
    "# gb_df.agg(\n",
    "#     em_acount_count=(\"em_acount\", sum),\n",
    "#     len=(\"em_acount\", len)\n",
    "# )"
   ],
   "metadata": {
    "collapsed": false,
    "pycharm": {
     "name": "#%%\n"
    }
   }
  },
  {
   "cell_type": "code",
   "execution_count": 173,
   "outputs": [
    {
     "data": {
      "text/plain": "      pk_cid pk_partition  debit_card\n1541   46327   2018-01-28           1\n1542   46327   2018-02-28           1\n1543   46327   2018-03-28           1\n1544   46327   2018-04-28           1\n1545   46327   2018-05-28           1\n1546   46327   2018-06-28           1\n1547   46327   2018-07-28           1\n1548   46327   2018-08-28           1\n1549   46327   2018-09-28           1\n1550   46327   2018-10-28           1\n1551   46327   2018-11-28           1\n1552   46327   2018-12-28           1\n1553   46327   2019-01-28           1\n1554   46327   2019-02-28           1\n1555   46327   2019-03-28           1\n1556   46327   2019-04-28           1\n1557   46327   2019-05-28           1",
      "text/html": "<div>\n<style scoped>\n    .dataframe tbody tr th:only-of-type {\n        vertical-align: middle;\n    }\n\n    .dataframe tbody tr th {\n        vertical-align: top;\n    }\n\n    .dataframe thead th {\n        text-align: right;\n    }\n</style>\n<table border=\"1\" class=\"dataframe\">\n  <thead>\n    <tr style=\"text-align: right;\">\n      <th></th>\n      <th>pk_cid</th>\n      <th>pk_partition</th>\n      <th>debit_card</th>\n    </tr>\n  </thead>\n  <tbody>\n    <tr>\n      <th>1541</th>\n      <td>46327</td>\n      <td>2018-01-28</td>\n      <td>1</td>\n    </tr>\n    <tr>\n      <th>1542</th>\n      <td>46327</td>\n      <td>2018-02-28</td>\n      <td>1</td>\n    </tr>\n    <tr>\n      <th>1543</th>\n      <td>46327</td>\n      <td>2018-03-28</td>\n      <td>1</td>\n    </tr>\n    <tr>\n      <th>1544</th>\n      <td>46327</td>\n      <td>2018-04-28</td>\n      <td>1</td>\n    </tr>\n    <tr>\n      <th>1545</th>\n      <td>46327</td>\n      <td>2018-05-28</td>\n      <td>1</td>\n    </tr>\n    <tr>\n      <th>1546</th>\n      <td>46327</td>\n      <td>2018-06-28</td>\n      <td>1</td>\n    </tr>\n    <tr>\n      <th>1547</th>\n      <td>46327</td>\n      <td>2018-07-28</td>\n      <td>1</td>\n    </tr>\n    <tr>\n      <th>1548</th>\n      <td>46327</td>\n      <td>2018-08-28</td>\n      <td>1</td>\n    </tr>\n    <tr>\n      <th>1549</th>\n      <td>46327</td>\n      <td>2018-09-28</td>\n      <td>1</td>\n    </tr>\n    <tr>\n      <th>1550</th>\n      <td>46327</td>\n      <td>2018-10-28</td>\n      <td>1</td>\n    </tr>\n    <tr>\n      <th>1551</th>\n      <td>46327</td>\n      <td>2018-11-28</td>\n      <td>1</td>\n    </tr>\n    <tr>\n      <th>1552</th>\n      <td>46327</td>\n      <td>2018-12-28</td>\n      <td>1</td>\n    </tr>\n    <tr>\n      <th>1553</th>\n      <td>46327</td>\n      <td>2019-01-28</td>\n      <td>1</td>\n    </tr>\n    <tr>\n      <th>1554</th>\n      <td>46327</td>\n      <td>2019-02-28</td>\n      <td>1</td>\n    </tr>\n    <tr>\n      <th>1555</th>\n      <td>46327</td>\n      <td>2019-03-28</td>\n      <td>1</td>\n    </tr>\n    <tr>\n      <th>1556</th>\n      <td>46327</td>\n      <td>2019-04-28</td>\n      <td>1</td>\n    </tr>\n    <tr>\n      <th>1557</th>\n      <td>46327</td>\n      <td>2019-05-28</td>\n      <td>1</td>\n    </tr>\n  </tbody>\n</table>\n</div>"
     },
     "execution_count": 173,
     "metadata": {},
     "output_type": "execute_result"
    }
   ],
   "source": [
    "dfilter = df[df[\"pk_cid\"] == 46327] #21719\n",
    "dfilter[[\"pk_cid\", \"pk_partition\", TARGET]]"
   ],
   "metadata": {
    "collapsed": false,
    "pycharm": {
     "name": "#%%\n"
    }
   }
  },
  {
   "cell_type": "code",
   "execution_count": 174,
   "outputs": [
    {
     "data": {
      "text/plain": "      pk_cid pk_partition  active_customer  segment  region_code  gender  age  \\\n1541   46327   2018-01-28                1        2           28       1   65   \n1542   46327   2018-02-28                1        2           28       1   65   \n1543   46327   2018-03-28                1        2           28       1   65   \n1544   46327   2018-04-28                1        2           28       1   65   \n1545   46327   2018-05-28                1        2           28       1   65   \n1546   46327   2018-06-28                1        2           28       1   65   \n1547   46327   2018-07-28                1        2           28       1   65   \n1548   46327   2018-08-28                1        2           28       1   66   \n1549   46327   2018-09-28                1        2           28       1   66   \n1550   46327   2018-10-28                1        2           28       1   66   \n1551   46327   2018-11-28                1        2           28       1   66   \n1552   46327   2018-12-28                1        2           28       1   66   \n1553   46327   2019-01-28                1        2           28       1   66   \n1554   46327   2019-02-28                1        2           28       1   66   \n1555   46327   2019-03-28                1        2           28       1   66   \n1556   46327   2019-04-28                1        2           28       1   66   \n1557   46327   2019-05-28                1        2           28       1   66   \n\n      deceased  short_term_deposit  loans  ...  country_id_PL  country_id_PT  \\\n1541         0                   0      0  ...              0              0   \n1542         0                   0      0  ...              0              0   \n1543         0                   0      0  ...              0              0   \n1544         0                   0      0  ...              0              0   \n1545         0                   0      0  ...              0              0   \n1546         0                   0      0  ...              0              0   \n1547         0                   0      0  ...              0              0   \n1548         0                   0      0  ...              0              0   \n1549         0                   0      0  ...              0              0   \n1550         0                   0      0  ...              0              0   \n1551         0                   0      0  ...              0              0   \n1552         0                   0      0  ...              0              0   \n1553         0                   0      0  ...              0              0   \n1554         0                   0      0  ...              0              0   \n1555         0                   0      0  ...              0              0   \n1556         0                   0      0  ...              0              0   \n1557         0                   0      0  ...              0              0   \n\n      country_id_QA  country_id_RO  country_id_RU  country_id_SA  \\\n1541              0              0              0              0   \n1542              0              0              0              0   \n1543              0              0              0              0   \n1544              0              0              0              0   \n1545              0              0              0              0   \n1546              0              0              0              0   \n1547              0              0              0              0   \n1548              0              0              0              0   \n1549              0              0              0              0   \n1550              0              0              0              0   \n1551              0              0              0              0   \n1552              0              0              0              0   \n1553              0              0              0              0   \n1554              0              0              0              0   \n1555              0              0              0              0   \n1556              0              0              0              0   \n1557              0              0              0              0   \n\n      country_id_SE  country_id_SN  country_id_US  country_id_VE  \n1541              0              0              0              0  \n1542              0              0              0              0  \n1543              0              0              0              0  \n1544              0              0              0              0  \n1545              0              0              0              0  \n1546              0              0              0              0  \n1547              0              0              0              0  \n1548              0              0              0              0  \n1549              0              0              0              0  \n1550              0              0              0              0  \n1551              0              0              0              0  \n1552              0              0              0              0  \n1553              0              0              0              0  \n1554              0              0              0              0  \n1555              0              0              0              0  \n1556              0              0              0              0  \n1557              0              0              0              0  \n\n[17 rows x 74 columns]",
      "text/html": "<div>\n<style scoped>\n    .dataframe tbody tr th:only-of-type {\n        vertical-align: middle;\n    }\n\n    .dataframe tbody tr th {\n        vertical-align: top;\n    }\n\n    .dataframe thead th {\n        text-align: right;\n    }\n</style>\n<table border=\"1\" class=\"dataframe\">\n  <thead>\n    <tr style=\"text-align: right;\">\n      <th></th>\n      <th>pk_cid</th>\n      <th>pk_partition</th>\n      <th>active_customer</th>\n      <th>segment</th>\n      <th>region_code</th>\n      <th>gender</th>\n      <th>age</th>\n      <th>deceased</th>\n      <th>short_term_deposit</th>\n      <th>loans</th>\n      <th>...</th>\n      <th>country_id_PL</th>\n      <th>country_id_PT</th>\n      <th>country_id_QA</th>\n      <th>country_id_RO</th>\n      <th>country_id_RU</th>\n      <th>country_id_SA</th>\n      <th>country_id_SE</th>\n      <th>country_id_SN</th>\n      <th>country_id_US</th>\n      <th>country_id_VE</th>\n    </tr>\n  </thead>\n  <tbody>\n    <tr>\n      <th>1541</th>\n      <td>46327</td>\n      <td>2018-01-28</td>\n      <td>1</td>\n      <td>2</td>\n      <td>28</td>\n      <td>1</td>\n      <td>65</td>\n      <td>0</td>\n      <td>0</td>\n      <td>0</td>\n      <td>...</td>\n      <td>0</td>\n      <td>0</td>\n      <td>0</td>\n      <td>0</td>\n      <td>0</td>\n      <td>0</td>\n      <td>0</td>\n      <td>0</td>\n      <td>0</td>\n      <td>0</td>\n    </tr>\n    <tr>\n      <th>1542</th>\n      <td>46327</td>\n      <td>2018-02-28</td>\n      <td>1</td>\n      <td>2</td>\n      <td>28</td>\n      <td>1</td>\n      <td>65</td>\n      <td>0</td>\n      <td>0</td>\n      <td>0</td>\n      <td>...</td>\n      <td>0</td>\n      <td>0</td>\n      <td>0</td>\n      <td>0</td>\n      <td>0</td>\n      <td>0</td>\n      <td>0</td>\n      <td>0</td>\n      <td>0</td>\n      <td>0</td>\n    </tr>\n    <tr>\n      <th>1543</th>\n      <td>46327</td>\n      <td>2018-03-28</td>\n      <td>1</td>\n      <td>2</td>\n      <td>28</td>\n      <td>1</td>\n      <td>65</td>\n      <td>0</td>\n      <td>0</td>\n      <td>0</td>\n      <td>...</td>\n      <td>0</td>\n      <td>0</td>\n      <td>0</td>\n      <td>0</td>\n      <td>0</td>\n      <td>0</td>\n      <td>0</td>\n      <td>0</td>\n      <td>0</td>\n      <td>0</td>\n    </tr>\n    <tr>\n      <th>1544</th>\n      <td>46327</td>\n      <td>2018-04-28</td>\n      <td>1</td>\n      <td>2</td>\n      <td>28</td>\n      <td>1</td>\n      <td>65</td>\n      <td>0</td>\n      <td>0</td>\n      <td>0</td>\n      <td>...</td>\n      <td>0</td>\n      <td>0</td>\n      <td>0</td>\n      <td>0</td>\n      <td>0</td>\n      <td>0</td>\n      <td>0</td>\n      <td>0</td>\n      <td>0</td>\n      <td>0</td>\n    </tr>\n    <tr>\n      <th>1545</th>\n      <td>46327</td>\n      <td>2018-05-28</td>\n      <td>1</td>\n      <td>2</td>\n      <td>28</td>\n      <td>1</td>\n      <td>65</td>\n      <td>0</td>\n      <td>0</td>\n      <td>0</td>\n      <td>...</td>\n      <td>0</td>\n      <td>0</td>\n      <td>0</td>\n      <td>0</td>\n      <td>0</td>\n      <td>0</td>\n      <td>0</td>\n      <td>0</td>\n      <td>0</td>\n      <td>0</td>\n    </tr>\n    <tr>\n      <th>1546</th>\n      <td>46327</td>\n      <td>2018-06-28</td>\n      <td>1</td>\n      <td>2</td>\n      <td>28</td>\n      <td>1</td>\n      <td>65</td>\n      <td>0</td>\n      <td>0</td>\n      <td>0</td>\n      <td>...</td>\n      <td>0</td>\n      <td>0</td>\n      <td>0</td>\n      <td>0</td>\n      <td>0</td>\n      <td>0</td>\n      <td>0</td>\n      <td>0</td>\n      <td>0</td>\n      <td>0</td>\n    </tr>\n    <tr>\n      <th>1547</th>\n      <td>46327</td>\n      <td>2018-07-28</td>\n      <td>1</td>\n      <td>2</td>\n      <td>28</td>\n      <td>1</td>\n      <td>65</td>\n      <td>0</td>\n      <td>0</td>\n      <td>0</td>\n      <td>...</td>\n      <td>0</td>\n      <td>0</td>\n      <td>0</td>\n      <td>0</td>\n      <td>0</td>\n      <td>0</td>\n      <td>0</td>\n      <td>0</td>\n      <td>0</td>\n      <td>0</td>\n    </tr>\n    <tr>\n      <th>1548</th>\n      <td>46327</td>\n      <td>2018-08-28</td>\n      <td>1</td>\n      <td>2</td>\n      <td>28</td>\n      <td>1</td>\n      <td>66</td>\n      <td>0</td>\n      <td>0</td>\n      <td>0</td>\n      <td>...</td>\n      <td>0</td>\n      <td>0</td>\n      <td>0</td>\n      <td>0</td>\n      <td>0</td>\n      <td>0</td>\n      <td>0</td>\n      <td>0</td>\n      <td>0</td>\n      <td>0</td>\n    </tr>\n    <tr>\n      <th>1549</th>\n      <td>46327</td>\n      <td>2018-09-28</td>\n      <td>1</td>\n      <td>2</td>\n      <td>28</td>\n      <td>1</td>\n      <td>66</td>\n      <td>0</td>\n      <td>0</td>\n      <td>0</td>\n      <td>...</td>\n      <td>0</td>\n      <td>0</td>\n      <td>0</td>\n      <td>0</td>\n      <td>0</td>\n      <td>0</td>\n      <td>0</td>\n      <td>0</td>\n      <td>0</td>\n      <td>0</td>\n    </tr>\n    <tr>\n      <th>1550</th>\n      <td>46327</td>\n      <td>2018-10-28</td>\n      <td>1</td>\n      <td>2</td>\n      <td>28</td>\n      <td>1</td>\n      <td>66</td>\n      <td>0</td>\n      <td>0</td>\n      <td>0</td>\n      <td>...</td>\n      <td>0</td>\n      <td>0</td>\n      <td>0</td>\n      <td>0</td>\n      <td>0</td>\n      <td>0</td>\n      <td>0</td>\n      <td>0</td>\n      <td>0</td>\n      <td>0</td>\n    </tr>\n    <tr>\n      <th>1551</th>\n      <td>46327</td>\n      <td>2018-11-28</td>\n      <td>1</td>\n      <td>2</td>\n      <td>28</td>\n      <td>1</td>\n      <td>66</td>\n      <td>0</td>\n      <td>0</td>\n      <td>0</td>\n      <td>...</td>\n      <td>0</td>\n      <td>0</td>\n      <td>0</td>\n      <td>0</td>\n      <td>0</td>\n      <td>0</td>\n      <td>0</td>\n      <td>0</td>\n      <td>0</td>\n      <td>0</td>\n    </tr>\n    <tr>\n      <th>1552</th>\n      <td>46327</td>\n      <td>2018-12-28</td>\n      <td>1</td>\n      <td>2</td>\n      <td>28</td>\n      <td>1</td>\n      <td>66</td>\n      <td>0</td>\n      <td>0</td>\n      <td>0</td>\n      <td>...</td>\n      <td>0</td>\n      <td>0</td>\n      <td>0</td>\n      <td>0</td>\n      <td>0</td>\n      <td>0</td>\n      <td>0</td>\n      <td>0</td>\n      <td>0</td>\n      <td>0</td>\n    </tr>\n    <tr>\n      <th>1553</th>\n      <td>46327</td>\n      <td>2019-01-28</td>\n      <td>1</td>\n      <td>2</td>\n      <td>28</td>\n      <td>1</td>\n      <td>66</td>\n      <td>0</td>\n      <td>0</td>\n      <td>0</td>\n      <td>...</td>\n      <td>0</td>\n      <td>0</td>\n      <td>0</td>\n      <td>0</td>\n      <td>0</td>\n      <td>0</td>\n      <td>0</td>\n      <td>0</td>\n      <td>0</td>\n      <td>0</td>\n    </tr>\n    <tr>\n      <th>1554</th>\n      <td>46327</td>\n      <td>2019-02-28</td>\n      <td>1</td>\n      <td>2</td>\n      <td>28</td>\n      <td>1</td>\n      <td>66</td>\n      <td>0</td>\n      <td>0</td>\n      <td>0</td>\n      <td>...</td>\n      <td>0</td>\n      <td>0</td>\n      <td>0</td>\n      <td>0</td>\n      <td>0</td>\n      <td>0</td>\n      <td>0</td>\n      <td>0</td>\n      <td>0</td>\n      <td>0</td>\n    </tr>\n    <tr>\n      <th>1555</th>\n      <td>46327</td>\n      <td>2019-03-28</td>\n      <td>1</td>\n      <td>2</td>\n      <td>28</td>\n      <td>1</td>\n      <td>66</td>\n      <td>0</td>\n      <td>0</td>\n      <td>0</td>\n      <td>...</td>\n      <td>0</td>\n      <td>0</td>\n      <td>0</td>\n      <td>0</td>\n      <td>0</td>\n      <td>0</td>\n      <td>0</td>\n      <td>0</td>\n      <td>0</td>\n      <td>0</td>\n    </tr>\n    <tr>\n      <th>1556</th>\n      <td>46327</td>\n      <td>2019-04-28</td>\n      <td>1</td>\n      <td>2</td>\n      <td>28</td>\n      <td>1</td>\n      <td>66</td>\n      <td>0</td>\n      <td>0</td>\n      <td>0</td>\n      <td>...</td>\n      <td>0</td>\n      <td>0</td>\n      <td>0</td>\n      <td>0</td>\n      <td>0</td>\n      <td>0</td>\n      <td>0</td>\n      <td>0</td>\n      <td>0</td>\n      <td>0</td>\n    </tr>\n    <tr>\n      <th>1557</th>\n      <td>46327</td>\n      <td>2019-05-28</td>\n      <td>1</td>\n      <td>2</td>\n      <td>28</td>\n      <td>1</td>\n      <td>66</td>\n      <td>0</td>\n      <td>0</td>\n      <td>0</td>\n      <td>...</td>\n      <td>0</td>\n      <td>0</td>\n      <td>0</td>\n      <td>0</td>\n      <td>0</td>\n      <td>0</td>\n      <td>0</td>\n      <td>0</td>\n      <td>0</td>\n      <td>0</td>\n    </tr>\n  </tbody>\n</table>\n<p>17 rows × 74 columns</p>\n</div>"
     },
     "execution_count": 174,
     "metadata": {},
     "output_type": "execute_result"
    }
   ],
   "source": [
    "dfilter"
   ],
   "metadata": {
    "collapsed": false,
    "pycharm": {
     "name": "#%%\n"
    }
   }
  },
  {
   "cell_type": "code",
   "execution_count": 175,
   "outputs": [
    {
     "data": {
      "text/plain": "         pk_cid  debit_card    index pk_partition  active_customer  segment  \\\n5         17457           1       32   2018-09-28                1        1   \n8         17970           1       69   2018-01-28                1        1   \n20        20333           1      225   2018-01-28                1        1   \n25        21719           1      294   2018-05-28                1        1   \n27        22212           1      322   2019-04-28                1        1   \n...         ...         ...      ...          ...              ...      ...   \n502895  1550901           1  5960690   2019-05-28                1        0   \n502984  1551017           1  5960779   2019-05-28                1        0   \n503304  1551424           1  5961099   2019-05-28                1        0   \n503437  1551599           1  5961232   2019-05-28                0        0   \n503788  1552055           1  5961583   2019-05-28                1        0   \n\n        region_code  gender  age  deceased  ...  country_id_PL  country_id_PT  \\\n5                28       1   53         0  ...              0              0   \n8                28       0   75         0  ...              0              0   \n20               28       1   48         0  ...              0              0   \n25               28       1   56         0  ...              0              0   \n27               24       0   53         0  ...              0              0   \n...             ...     ...  ...       ...  ...            ...            ...   \n502895           11       0   34         0  ...              0              0   \n502984            2       1   50         0  ...              0              0   \n503304           21       0   33         0  ...              0              0   \n503437           20       0   37         0  ...              0              0   \n503788           46       1   46         0  ...              0              0   \n\n        country_id_QA  country_id_RO  country_id_RU  country_id_SA  \\\n5                   0              0              0              0   \n8                   0              0              0              0   \n20                  0              0              0              0   \n25                  0              0              0              0   \n27                  0              0              0              0   \n...               ...            ...            ...            ...   \n502895              0              0              0              0   \n502984              0              0              0              0   \n503304              0              0              0              0   \n503437              0              0              0              0   \n503788              0              0              0              0   \n\n        country_id_SE  country_id_SN  country_id_US  country_id_VE  \n5                   0              0              0              0  \n8                   0              0              0              0  \n20                  0              0              0              0  \n25                  0              0              0              0  \n27                  0              0              0              0  \n...               ...            ...            ...            ...  \n502895              0              0              0              0  \n502984              0              0              0              0  \n503304              0              0              0              0  \n503437              0              0              0              0  \n503788              0              0              0              0  \n\n[63534 rows x 75 columns]",
      "text/html": "<div>\n<style scoped>\n    .dataframe tbody tr th:only-of-type {\n        vertical-align: middle;\n    }\n\n    .dataframe tbody tr th {\n        vertical-align: top;\n    }\n\n    .dataframe thead th {\n        text-align: right;\n    }\n</style>\n<table border=\"1\" class=\"dataframe\">\n  <thead>\n    <tr style=\"text-align: right;\">\n      <th></th>\n      <th>pk_cid</th>\n      <th>debit_card</th>\n      <th>index</th>\n      <th>pk_partition</th>\n      <th>active_customer</th>\n      <th>segment</th>\n      <th>region_code</th>\n      <th>gender</th>\n      <th>age</th>\n      <th>deceased</th>\n      <th>...</th>\n      <th>country_id_PL</th>\n      <th>country_id_PT</th>\n      <th>country_id_QA</th>\n      <th>country_id_RO</th>\n      <th>country_id_RU</th>\n      <th>country_id_SA</th>\n      <th>country_id_SE</th>\n      <th>country_id_SN</th>\n      <th>country_id_US</th>\n      <th>country_id_VE</th>\n    </tr>\n  </thead>\n  <tbody>\n    <tr>\n      <th>5</th>\n      <td>17457</td>\n      <td>1</td>\n      <td>32</td>\n      <td>2018-09-28</td>\n      <td>1</td>\n      <td>1</td>\n      <td>28</td>\n      <td>1</td>\n      <td>53</td>\n      <td>0</td>\n      <td>...</td>\n      <td>0</td>\n      <td>0</td>\n      <td>0</td>\n      <td>0</td>\n      <td>0</td>\n      <td>0</td>\n      <td>0</td>\n      <td>0</td>\n      <td>0</td>\n      <td>0</td>\n    </tr>\n    <tr>\n      <th>8</th>\n      <td>17970</td>\n      <td>1</td>\n      <td>69</td>\n      <td>2018-01-28</td>\n      <td>1</td>\n      <td>1</td>\n      <td>28</td>\n      <td>0</td>\n      <td>75</td>\n      <td>0</td>\n      <td>...</td>\n      <td>0</td>\n      <td>0</td>\n      <td>0</td>\n      <td>0</td>\n      <td>0</td>\n      <td>0</td>\n      <td>0</td>\n      <td>0</td>\n      <td>0</td>\n      <td>0</td>\n    </tr>\n    <tr>\n      <th>20</th>\n      <td>20333</td>\n      <td>1</td>\n      <td>225</td>\n      <td>2018-01-28</td>\n      <td>1</td>\n      <td>1</td>\n      <td>28</td>\n      <td>1</td>\n      <td>48</td>\n      <td>0</td>\n      <td>...</td>\n      <td>0</td>\n      <td>0</td>\n      <td>0</td>\n      <td>0</td>\n      <td>0</td>\n      <td>0</td>\n      <td>0</td>\n      <td>0</td>\n      <td>0</td>\n      <td>0</td>\n    </tr>\n    <tr>\n      <th>25</th>\n      <td>21719</td>\n      <td>1</td>\n      <td>294</td>\n      <td>2018-05-28</td>\n      <td>1</td>\n      <td>1</td>\n      <td>28</td>\n      <td>1</td>\n      <td>56</td>\n      <td>0</td>\n      <td>...</td>\n      <td>0</td>\n      <td>0</td>\n      <td>0</td>\n      <td>0</td>\n      <td>0</td>\n      <td>0</td>\n      <td>0</td>\n      <td>0</td>\n      <td>0</td>\n      <td>0</td>\n    </tr>\n    <tr>\n      <th>27</th>\n      <td>22212</td>\n      <td>1</td>\n      <td>322</td>\n      <td>2019-04-28</td>\n      <td>1</td>\n      <td>1</td>\n      <td>24</td>\n      <td>0</td>\n      <td>53</td>\n      <td>0</td>\n      <td>...</td>\n      <td>0</td>\n      <td>0</td>\n      <td>0</td>\n      <td>0</td>\n      <td>0</td>\n      <td>0</td>\n      <td>0</td>\n      <td>0</td>\n      <td>0</td>\n      <td>0</td>\n    </tr>\n    <tr>\n      <th>...</th>\n      <td>...</td>\n      <td>...</td>\n      <td>...</td>\n      <td>...</td>\n      <td>...</td>\n      <td>...</td>\n      <td>...</td>\n      <td>...</td>\n      <td>...</td>\n      <td>...</td>\n      <td>...</td>\n      <td>...</td>\n      <td>...</td>\n      <td>...</td>\n      <td>...</td>\n      <td>...</td>\n      <td>...</td>\n      <td>...</td>\n      <td>...</td>\n      <td>...</td>\n      <td>...</td>\n    </tr>\n    <tr>\n      <th>502895</th>\n      <td>1550901</td>\n      <td>1</td>\n      <td>5960690</td>\n      <td>2019-05-28</td>\n      <td>1</td>\n      <td>0</td>\n      <td>11</td>\n      <td>0</td>\n      <td>34</td>\n      <td>0</td>\n      <td>...</td>\n      <td>0</td>\n      <td>0</td>\n      <td>0</td>\n      <td>0</td>\n      <td>0</td>\n      <td>0</td>\n      <td>0</td>\n      <td>0</td>\n      <td>0</td>\n      <td>0</td>\n    </tr>\n    <tr>\n      <th>502984</th>\n      <td>1551017</td>\n      <td>1</td>\n      <td>5960779</td>\n      <td>2019-05-28</td>\n      <td>1</td>\n      <td>0</td>\n      <td>2</td>\n      <td>1</td>\n      <td>50</td>\n      <td>0</td>\n      <td>...</td>\n      <td>0</td>\n      <td>0</td>\n      <td>0</td>\n      <td>0</td>\n      <td>0</td>\n      <td>0</td>\n      <td>0</td>\n      <td>0</td>\n      <td>0</td>\n      <td>0</td>\n    </tr>\n    <tr>\n      <th>503304</th>\n      <td>1551424</td>\n      <td>1</td>\n      <td>5961099</td>\n      <td>2019-05-28</td>\n      <td>1</td>\n      <td>0</td>\n      <td>21</td>\n      <td>0</td>\n      <td>33</td>\n      <td>0</td>\n      <td>...</td>\n      <td>0</td>\n      <td>0</td>\n      <td>0</td>\n      <td>0</td>\n      <td>0</td>\n      <td>0</td>\n      <td>0</td>\n      <td>0</td>\n      <td>0</td>\n      <td>0</td>\n    </tr>\n    <tr>\n      <th>503437</th>\n      <td>1551599</td>\n      <td>1</td>\n      <td>5961232</td>\n      <td>2019-05-28</td>\n      <td>0</td>\n      <td>0</td>\n      <td>20</td>\n      <td>0</td>\n      <td>37</td>\n      <td>0</td>\n      <td>...</td>\n      <td>0</td>\n      <td>0</td>\n      <td>0</td>\n      <td>0</td>\n      <td>0</td>\n      <td>0</td>\n      <td>0</td>\n      <td>0</td>\n      <td>0</td>\n      <td>0</td>\n    </tr>\n    <tr>\n      <th>503788</th>\n      <td>1552055</td>\n      <td>1</td>\n      <td>5961583</td>\n      <td>2019-05-28</td>\n      <td>1</td>\n      <td>0</td>\n      <td>46</td>\n      <td>1</td>\n      <td>46</td>\n      <td>0</td>\n      <td>...</td>\n      <td>0</td>\n      <td>0</td>\n      <td>0</td>\n      <td>0</td>\n      <td>0</td>\n      <td>0</td>\n      <td>0</td>\n      <td>0</td>\n      <td>0</td>\n      <td>0</td>\n    </tr>\n  </tbody>\n</table>\n<p>63534 rows × 75 columns</p>\n</div>"
     },
     "execution_count": 175,
     "metadata": {},
     "output_type": "execute_result"
    }
   ],
   "source": [
    "first_sale = df.reset_index().groupby([\"pk_cid\", TARGET]).first().reset_index()\n",
    "first_sale = first_sale[first_sale[TARGET] == 1]\n",
    "first_sale"
   ],
   "metadata": {
    "collapsed": false,
    "pycharm": {
     "name": "#%%\n"
    }
   }
  },
  {
   "cell_type": "code",
   "execution_count": 176,
   "outputs": [
    {
     "data": {
      "text/plain": "         pk_cid  debit_card    index pk_partition  active_customer  segment  \\\n0         15891           0        1   2018-08-28                0        1   \n1         16063           0        8   2019-05-28                0        1   \n2         16203           0       14   2019-05-28                1        3   \n3         16502           0       23   2019-05-28                1        1   \n4         17457           0       39   2019-04-28                1        1   \n...         ...         ...      ...          ...              ...      ...   \n505038  1553685           0  5962833   2019-05-28                0        0   \n505039  1553686           0  5962834   2019-05-28                0        0   \n505040  1553687           0  5962835   2019-05-28                0        0   \n505041  1553688           0  5962836   2019-05-28                0        0   \n505042  1553689           0  5962837   2019-05-28                0        0   \n\n        region_code  gender  age  deceased  ...  country_id_PL  country_id_PT  \\\n0                28       1   59         0  ...              0              0   \n1                28       1   62         0  ...              0              0   \n2                 8       0   70         0  ...              0              0   \n3                28       1   58         0  ...              0              0   \n4                28       1   54         0  ...              0              0   \n...             ...     ...  ...       ...  ...            ...            ...   \n505038           13       0   52         0  ...              0              0   \n505039           41       1   30         0  ...              0              0   \n505040           28       0   21         0  ...              0              0   \n505041           39       1   43         0  ...              0              0   \n505042           21       0   40         0  ...              0              0   \n\n        country_id_QA  country_id_RO  country_id_RU  country_id_SA  \\\n0                   0              0              0              0   \n1                   0              0              0              0   \n2                   0              0              0              0   \n3                   0              0              0              0   \n4                   0              0              0              0   \n...               ...            ...            ...            ...   \n505038              0              0              0              0   \n505039              0              0              0              0   \n505040              0              0              0              0   \n505041              0              0              0              0   \n505042              0              0              0              0   \n\n        country_id_SE  country_id_SN  country_id_US  country_id_VE  \n0                   0              0              0              0  \n1                   0              0              0              0  \n2                   0              0              0              0  \n3                   0              0              0              0  \n4                   0              0              0              0  \n...               ...            ...            ...            ...  \n505038              0              0              0              0  \n505039              0              0              0              0  \n505040              0              0              0              0  \n505041              0              0              0              0  \n505042              0              0              0              0  \n\n[441509 rows x 75 columns]",
      "text/html": "<div>\n<style scoped>\n    .dataframe tbody tr th:only-of-type {\n        vertical-align: middle;\n    }\n\n    .dataframe tbody tr th {\n        vertical-align: top;\n    }\n\n    .dataframe thead th {\n        text-align: right;\n    }\n</style>\n<table border=\"1\" class=\"dataframe\">\n  <thead>\n    <tr style=\"text-align: right;\">\n      <th></th>\n      <th>pk_cid</th>\n      <th>debit_card</th>\n      <th>index</th>\n      <th>pk_partition</th>\n      <th>active_customer</th>\n      <th>segment</th>\n      <th>region_code</th>\n      <th>gender</th>\n      <th>age</th>\n      <th>deceased</th>\n      <th>...</th>\n      <th>country_id_PL</th>\n      <th>country_id_PT</th>\n      <th>country_id_QA</th>\n      <th>country_id_RO</th>\n      <th>country_id_RU</th>\n      <th>country_id_SA</th>\n      <th>country_id_SE</th>\n      <th>country_id_SN</th>\n      <th>country_id_US</th>\n      <th>country_id_VE</th>\n    </tr>\n  </thead>\n  <tbody>\n    <tr>\n      <th>0</th>\n      <td>15891</td>\n      <td>0</td>\n      <td>1</td>\n      <td>2018-08-28</td>\n      <td>0</td>\n      <td>1</td>\n      <td>28</td>\n      <td>1</td>\n      <td>59</td>\n      <td>0</td>\n      <td>...</td>\n      <td>0</td>\n      <td>0</td>\n      <td>0</td>\n      <td>0</td>\n      <td>0</td>\n      <td>0</td>\n      <td>0</td>\n      <td>0</td>\n      <td>0</td>\n      <td>0</td>\n    </tr>\n    <tr>\n      <th>1</th>\n      <td>16063</td>\n      <td>0</td>\n      <td>8</td>\n      <td>2019-05-28</td>\n      <td>0</td>\n      <td>1</td>\n      <td>28</td>\n      <td>1</td>\n      <td>62</td>\n      <td>0</td>\n      <td>...</td>\n      <td>0</td>\n      <td>0</td>\n      <td>0</td>\n      <td>0</td>\n      <td>0</td>\n      <td>0</td>\n      <td>0</td>\n      <td>0</td>\n      <td>0</td>\n      <td>0</td>\n    </tr>\n    <tr>\n      <th>2</th>\n      <td>16203</td>\n      <td>0</td>\n      <td>14</td>\n      <td>2019-05-28</td>\n      <td>1</td>\n      <td>3</td>\n      <td>8</td>\n      <td>0</td>\n      <td>70</td>\n      <td>0</td>\n      <td>...</td>\n      <td>0</td>\n      <td>0</td>\n      <td>0</td>\n      <td>0</td>\n      <td>0</td>\n      <td>0</td>\n      <td>0</td>\n      <td>0</td>\n      <td>0</td>\n      <td>0</td>\n    </tr>\n    <tr>\n      <th>3</th>\n      <td>16502</td>\n      <td>0</td>\n      <td>23</td>\n      <td>2019-05-28</td>\n      <td>1</td>\n      <td>1</td>\n      <td>28</td>\n      <td>1</td>\n      <td>58</td>\n      <td>0</td>\n      <td>...</td>\n      <td>0</td>\n      <td>0</td>\n      <td>0</td>\n      <td>0</td>\n      <td>0</td>\n      <td>0</td>\n      <td>0</td>\n      <td>0</td>\n      <td>0</td>\n      <td>0</td>\n    </tr>\n    <tr>\n      <th>4</th>\n      <td>17457</td>\n      <td>0</td>\n      <td>39</td>\n      <td>2019-04-28</td>\n      <td>1</td>\n      <td>1</td>\n      <td>28</td>\n      <td>1</td>\n      <td>54</td>\n      <td>0</td>\n      <td>...</td>\n      <td>0</td>\n      <td>0</td>\n      <td>0</td>\n      <td>0</td>\n      <td>0</td>\n      <td>0</td>\n      <td>0</td>\n      <td>0</td>\n      <td>0</td>\n      <td>0</td>\n    </tr>\n    <tr>\n      <th>...</th>\n      <td>...</td>\n      <td>...</td>\n      <td>...</td>\n      <td>...</td>\n      <td>...</td>\n      <td>...</td>\n      <td>...</td>\n      <td>...</td>\n      <td>...</td>\n      <td>...</td>\n      <td>...</td>\n      <td>...</td>\n      <td>...</td>\n      <td>...</td>\n      <td>...</td>\n      <td>...</td>\n      <td>...</td>\n      <td>...</td>\n      <td>...</td>\n      <td>...</td>\n      <td>...</td>\n    </tr>\n    <tr>\n      <th>505038</th>\n      <td>1553685</td>\n      <td>0</td>\n      <td>5962833</td>\n      <td>2019-05-28</td>\n      <td>0</td>\n      <td>0</td>\n      <td>13</td>\n      <td>0</td>\n      <td>52</td>\n      <td>0</td>\n      <td>...</td>\n      <td>0</td>\n      <td>0</td>\n      <td>0</td>\n      <td>0</td>\n      <td>0</td>\n      <td>0</td>\n      <td>0</td>\n      <td>0</td>\n      <td>0</td>\n      <td>0</td>\n    </tr>\n    <tr>\n      <th>505039</th>\n      <td>1553686</td>\n      <td>0</td>\n      <td>5962834</td>\n      <td>2019-05-28</td>\n      <td>0</td>\n      <td>0</td>\n      <td>41</td>\n      <td>1</td>\n      <td>30</td>\n      <td>0</td>\n      <td>...</td>\n      <td>0</td>\n      <td>0</td>\n      <td>0</td>\n      <td>0</td>\n      <td>0</td>\n      <td>0</td>\n      <td>0</td>\n      <td>0</td>\n      <td>0</td>\n      <td>0</td>\n    </tr>\n    <tr>\n      <th>505040</th>\n      <td>1553687</td>\n      <td>0</td>\n      <td>5962835</td>\n      <td>2019-05-28</td>\n      <td>0</td>\n      <td>0</td>\n      <td>28</td>\n      <td>0</td>\n      <td>21</td>\n      <td>0</td>\n      <td>...</td>\n      <td>0</td>\n      <td>0</td>\n      <td>0</td>\n      <td>0</td>\n      <td>0</td>\n      <td>0</td>\n      <td>0</td>\n      <td>0</td>\n      <td>0</td>\n      <td>0</td>\n    </tr>\n    <tr>\n      <th>505041</th>\n      <td>1553688</td>\n      <td>0</td>\n      <td>5962836</td>\n      <td>2019-05-28</td>\n      <td>0</td>\n      <td>0</td>\n      <td>39</td>\n      <td>1</td>\n      <td>43</td>\n      <td>0</td>\n      <td>...</td>\n      <td>0</td>\n      <td>0</td>\n      <td>0</td>\n      <td>0</td>\n      <td>0</td>\n      <td>0</td>\n      <td>0</td>\n      <td>0</td>\n      <td>0</td>\n      <td>0</td>\n    </tr>\n    <tr>\n      <th>505042</th>\n      <td>1553689</td>\n      <td>0</td>\n      <td>5962837</td>\n      <td>2019-05-28</td>\n      <td>0</td>\n      <td>0</td>\n      <td>21</td>\n      <td>0</td>\n      <td>40</td>\n      <td>0</td>\n      <td>...</td>\n      <td>0</td>\n      <td>0</td>\n      <td>0</td>\n      <td>0</td>\n      <td>0</td>\n      <td>0</td>\n      <td>0</td>\n      <td>0</td>\n      <td>0</td>\n      <td>0</td>\n    </tr>\n  </tbody>\n</table>\n<p>441509 rows × 75 columns</p>\n</div>"
     },
     "execution_count": 176,
     "metadata": {},
     "output_type": "execute_result"
    }
   ],
   "source": [
    "last_no_sale = df.reset_index().groupby([\"pk_cid\", TARGET]).last().reset_index()\n",
    "last_no_sale = last_no_sale[last_no_sale[TARGET] == 0]\n",
    "last_no_sale"
   ],
   "metadata": {
    "collapsed": false,
    "pycharm": {
     "name": "#%%\n"
    }
   }
  },
  {
   "cell_type": "code",
   "execution_count": 177,
   "outputs": [
    {
     "data": {
      "text/plain": "         pk_cid  debit_card    index pk_partition  active_customer  segment  \\\n0         15891           0        1   2018-08-28                0        1   \n1         16063           0        8   2019-05-28                0        1   \n2         16203           0       14   2019-05-28                1        3   \n3         16502           0       23   2019-05-28                1        1   \n4         17457           1       32   2018-09-28                1        1   \n...         ...         ...      ...          ...              ...      ...   \n505038  1553685           0  5962833   2019-05-28                0        0   \n505039  1553686           0  5962834   2019-05-28                0        0   \n505040  1553687           0  5962835   2019-05-28                0        0   \n505041  1553688           0  5962836   2019-05-28                0        0   \n505042  1553689           0  5962837   2019-05-28                0        0   \n\n        region_code  gender  age  deceased  ...  country_id_PL  country_id_PT  \\\n0                28       1   59         0  ...              0              0   \n1                28       1   62         0  ...              0              0   \n2                 8       0   70         0  ...              0              0   \n3                28       1   58         0  ...              0              0   \n4                28       1   53         0  ...              0              0   \n...             ...     ...  ...       ...  ...            ...            ...   \n505038           13       0   52         0  ...              0              0   \n505039           41       1   30         0  ...              0              0   \n505040           28       0   21         0  ...              0              0   \n505041           39       1   43         0  ...              0              0   \n505042           21       0   40         0  ...              0              0   \n\n        country_id_QA  country_id_RO  country_id_RU  country_id_SA  \\\n0                   0              0              0              0   \n1                   0              0              0              0   \n2                   0              0              0              0   \n3                   0              0              0              0   \n4                   0              0              0              0   \n...               ...            ...            ...            ...   \n505038              0              0              0              0   \n505039              0              0              0              0   \n505040              0              0              0              0   \n505041              0              0              0              0   \n505042              0              0              0              0   \n\n        country_id_SE  country_id_SN  country_id_US  country_id_VE  \n0                   0              0              0              0  \n1                   0              0              0              0  \n2                   0              0              0              0  \n3                   0              0              0              0  \n4                   0              0              0              0  \n...               ...            ...            ...            ...  \n505038              0              0              0              0  \n505039              0              0              0              0  \n505040              0              0              0              0  \n505041              0              0              0              0  \n505042              0              0              0              0  \n\n[505043 rows x 75 columns]",
      "text/html": "<div>\n<style scoped>\n    .dataframe tbody tr th:only-of-type {\n        vertical-align: middle;\n    }\n\n    .dataframe tbody tr th {\n        vertical-align: top;\n    }\n\n    .dataframe thead th {\n        text-align: right;\n    }\n</style>\n<table border=\"1\" class=\"dataframe\">\n  <thead>\n    <tr style=\"text-align: right;\">\n      <th></th>\n      <th>pk_cid</th>\n      <th>debit_card</th>\n      <th>index</th>\n      <th>pk_partition</th>\n      <th>active_customer</th>\n      <th>segment</th>\n      <th>region_code</th>\n      <th>gender</th>\n      <th>age</th>\n      <th>deceased</th>\n      <th>...</th>\n      <th>country_id_PL</th>\n      <th>country_id_PT</th>\n      <th>country_id_QA</th>\n      <th>country_id_RO</th>\n      <th>country_id_RU</th>\n      <th>country_id_SA</th>\n      <th>country_id_SE</th>\n      <th>country_id_SN</th>\n      <th>country_id_US</th>\n      <th>country_id_VE</th>\n    </tr>\n  </thead>\n  <tbody>\n    <tr>\n      <th>0</th>\n      <td>15891</td>\n      <td>0</td>\n      <td>1</td>\n      <td>2018-08-28</td>\n      <td>0</td>\n      <td>1</td>\n      <td>28</td>\n      <td>1</td>\n      <td>59</td>\n      <td>0</td>\n      <td>...</td>\n      <td>0</td>\n      <td>0</td>\n      <td>0</td>\n      <td>0</td>\n      <td>0</td>\n      <td>0</td>\n      <td>0</td>\n      <td>0</td>\n      <td>0</td>\n      <td>0</td>\n    </tr>\n    <tr>\n      <th>1</th>\n      <td>16063</td>\n      <td>0</td>\n      <td>8</td>\n      <td>2019-05-28</td>\n      <td>0</td>\n      <td>1</td>\n      <td>28</td>\n      <td>1</td>\n      <td>62</td>\n      <td>0</td>\n      <td>...</td>\n      <td>0</td>\n      <td>0</td>\n      <td>0</td>\n      <td>0</td>\n      <td>0</td>\n      <td>0</td>\n      <td>0</td>\n      <td>0</td>\n      <td>0</td>\n      <td>0</td>\n    </tr>\n    <tr>\n      <th>2</th>\n      <td>16203</td>\n      <td>0</td>\n      <td>14</td>\n      <td>2019-05-28</td>\n      <td>1</td>\n      <td>3</td>\n      <td>8</td>\n      <td>0</td>\n      <td>70</td>\n      <td>0</td>\n      <td>...</td>\n      <td>0</td>\n      <td>0</td>\n      <td>0</td>\n      <td>0</td>\n      <td>0</td>\n      <td>0</td>\n      <td>0</td>\n      <td>0</td>\n      <td>0</td>\n      <td>0</td>\n    </tr>\n    <tr>\n      <th>3</th>\n      <td>16502</td>\n      <td>0</td>\n      <td>23</td>\n      <td>2019-05-28</td>\n      <td>1</td>\n      <td>1</td>\n      <td>28</td>\n      <td>1</td>\n      <td>58</td>\n      <td>0</td>\n      <td>...</td>\n      <td>0</td>\n      <td>0</td>\n      <td>0</td>\n      <td>0</td>\n      <td>0</td>\n      <td>0</td>\n      <td>0</td>\n      <td>0</td>\n      <td>0</td>\n      <td>0</td>\n    </tr>\n    <tr>\n      <th>4</th>\n      <td>17457</td>\n      <td>1</td>\n      <td>32</td>\n      <td>2018-09-28</td>\n      <td>1</td>\n      <td>1</td>\n      <td>28</td>\n      <td>1</td>\n      <td>53</td>\n      <td>0</td>\n      <td>...</td>\n      <td>0</td>\n      <td>0</td>\n      <td>0</td>\n      <td>0</td>\n      <td>0</td>\n      <td>0</td>\n      <td>0</td>\n      <td>0</td>\n      <td>0</td>\n      <td>0</td>\n    </tr>\n    <tr>\n      <th>...</th>\n      <td>...</td>\n      <td>...</td>\n      <td>...</td>\n      <td>...</td>\n      <td>...</td>\n      <td>...</td>\n      <td>...</td>\n      <td>...</td>\n      <td>...</td>\n      <td>...</td>\n      <td>...</td>\n      <td>...</td>\n      <td>...</td>\n      <td>...</td>\n      <td>...</td>\n      <td>...</td>\n      <td>...</td>\n      <td>...</td>\n      <td>...</td>\n      <td>...</td>\n      <td>...</td>\n    </tr>\n    <tr>\n      <th>505038</th>\n      <td>1553685</td>\n      <td>0</td>\n      <td>5962833</td>\n      <td>2019-05-28</td>\n      <td>0</td>\n      <td>0</td>\n      <td>13</td>\n      <td>0</td>\n      <td>52</td>\n      <td>0</td>\n      <td>...</td>\n      <td>0</td>\n      <td>0</td>\n      <td>0</td>\n      <td>0</td>\n      <td>0</td>\n      <td>0</td>\n      <td>0</td>\n      <td>0</td>\n      <td>0</td>\n      <td>0</td>\n    </tr>\n    <tr>\n      <th>505039</th>\n      <td>1553686</td>\n      <td>0</td>\n      <td>5962834</td>\n      <td>2019-05-28</td>\n      <td>0</td>\n      <td>0</td>\n      <td>41</td>\n      <td>1</td>\n      <td>30</td>\n      <td>0</td>\n      <td>...</td>\n      <td>0</td>\n      <td>0</td>\n      <td>0</td>\n      <td>0</td>\n      <td>0</td>\n      <td>0</td>\n      <td>0</td>\n      <td>0</td>\n      <td>0</td>\n      <td>0</td>\n    </tr>\n    <tr>\n      <th>505040</th>\n      <td>1553687</td>\n      <td>0</td>\n      <td>5962835</td>\n      <td>2019-05-28</td>\n      <td>0</td>\n      <td>0</td>\n      <td>28</td>\n      <td>0</td>\n      <td>21</td>\n      <td>0</td>\n      <td>...</td>\n      <td>0</td>\n      <td>0</td>\n      <td>0</td>\n      <td>0</td>\n      <td>0</td>\n      <td>0</td>\n      <td>0</td>\n      <td>0</td>\n      <td>0</td>\n      <td>0</td>\n    </tr>\n    <tr>\n      <th>505041</th>\n      <td>1553688</td>\n      <td>0</td>\n      <td>5962836</td>\n      <td>2019-05-28</td>\n      <td>0</td>\n      <td>0</td>\n      <td>39</td>\n      <td>1</td>\n      <td>43</td>\n      <td>0</td>\n      <td>...</td>\n      <td>0</td>\n      <td>0</td>\n      <td>0</td>\n      <td>0</td>\n      <td>0</td>\n      <td>0</td>\n      <td>0</td>\n      <td>0</td>\n      <td>0</td>\n      <td>0</td>\n    </tr>\n    <tr>\n      <th>505042</th>\n      <td>1553689</td>\n      <td>0</td>\n      <td>5962837</td>\n      <td>2019-05-28</td>\n      <td>0</td>\n      <td>0</td>\n      <td>21</td>\n      <td>0</td>\n      <td>40</td>\n      <td>0</td>\n      <td>...</td>\n      <td>0</td>\n      <td>0</td>\n      <td>0</td>\n      <td>0</td>\n      <td>0</td>\n      <td>0</td>\n      <td>0</td>\n      <td>0</td>\n      <td>0</td>\n      <td>0</td>\n    </tr>\n  </tbody>\n</table>\n<p>505043 rows × 75 columns</p>\n</div>"
     },
     "execution_count": 177,
     "metadata": {},
     "output_type": "execute_result"
    }
   ],
   "source": [
    "df_prep = pd.concat([first_sale, last_no_sale]).sort_values([\"pk_cid\", \"pk_partition\"], ignore_index=True)\n",
    "df_prep"
   ],
   "metadata": {
    "collapsed": false,
    "pycharm": {
     "name": "#%%\n"
    }
   }
  },
  {
   "cell_type": "code",
   "execution_count": 178,
   "outputs": [],
   "source": [
    "def plot(dataframe: pd.DataFrame, target: str):\n",
    "    dataframe[target].hist()\n",
    "    plt.show()\n",
    "    print(target)\n",
    "    print(dataframe[target].value_counts())"
   ],
   "metadata": {
    "collapsed": false,
    "pycharm": {
     "name": "#%%\n"
    }
   }
  },
  {
   "cell_type": "markdown",
   "source": [
    "## Target distribution"
   ],
   "metadata": {
    "collapsed": false,
    "pycharm": {
     "name": "#%% md\n"
    }
   }
  },
  {
   "cell_type": "code",
   "execution_count": 179,
   "outputs": [
    {
     "data": {
      "text/plain": "count    505043.000000\nmean          0.125799\nstd           0.331623\nmin           0.000000\n25%           0.000000\n50%           0.000000\n75%           0.000000\nmax           1.000000\nName: debit_card, dtype: float64"
     },
     "execution_count": 179,
     "metadata": {},
     "output_type": "execute_result"
    }
   ],
   "source": [
    "df_prep[TARGET].describe()"
   ],
   "metadata": {
    "collapsed": false,
    "pycharm": {
     "name": "#%%\n"
    }
   }
  },
  {
   "cell_type": "code",
   "execution_count": 180,
   "outputs": [
    {
     "data": {
      "text/plain": "<Figure size 432x288 with 1 Axes>",
      "image/png": "[encoded data removed]"
     },
     "metadata": {
      "needs_background": "light"
     },
     "output_type": "display_data"
    },
    {
     "name": "stdout",
     "output_type": "stream",
     "text": [
      "debit_card\n",
      "0    441509\n",
      "1     63534\n",
      "Name: debit_card, dtype: int64\n"
     ]
    }
   ],
   "source": [
    "plot(df_prep, TARGET)"
   ],
   "metadata": {
    "collapsed": false,
    "pycharm": {
     "name": "#%%\n"
    }
   }
  },
  {
   "cell_type": "code",
   "execution_count": 208,
   "outputs": [
    {
     "data": {
      "text/plain": "<AxesSubplot:xlabel='region_code', ylabel='count'>"
     },
     "execution_count": 208,
     "metadata": {},
     "output_type": "execute_result"
    },
    {
     "data": {
      "text/plain": "<Figure size 1080x360 with 1 Axes>",
      "image/png": "[encoded data removed]"
     },
     "metadata": {
      "needs_background": "light"
     },
     "output_type": "display_data"
    }
   ],
   "source": [],
   "metadata": {
    "collapsed": false,
    "pycharm": {
     "name": "#%%\n"
    }
   }
  },
  {
   "cell_type": "code",
   "execution_count": 213,
   "outputs": [
    {
     "data": {
      "text/plain": "<Figure size 1080x360 with 1 Axes>",
      "image/png": "[encoded data removed]"
     },
     "metadata": {
      "needs_background": "light"
     },
     "output_type": "display_data"
    },
    {
     "data": {
      "text/plain": "                    len        sum       mean\n             debit_card debit_card debit_card\npk_partition                                 \n2018-01-28        25509      24696   0.968129\n2018-02-28         4641       3708   0.798966\n2018-03-28         3479       2691   0.773498\n2018-04-28         2856       2121   0.742647\n2018-05-28         2643       1803   0.682179\n2018-06-28         2706       1834   0.677753\n2018-07-28         3965       1942   0.489786\n2018-08-28         4479       1943   0.433802\n2018-09-28         5789       2514   0.434272\n2018-10-28         6818       3426   0.502493\n2018-11-28         5906       2908   0.492381\n2018-12-28         6574       2483   0.377700\n2019-01-28         6301       2160   0.342803\n2019-02-28         6728       2537   0.377081\n2019-03-28         6452       2590   0.401426\n2019-04-28         8415       2129   0.253001\n2019-05-28       401782       2049   0.005100",
      "text/html": "<div>\n<style scoped>\n    .dataframe tbody tr th:only-of-type {\n        vertical-align: middle;\n    }\n\n    .dataframe tbody tr th {\n        vertical-align: top;\n    }\n\n    .dataframe thead tr th {\n        text-align: left;\n    }\n\n    .dataframe thead tr:last-of-type th {\n        text-align: right;\n    }\n</style>\n<table border=\"1\" class=\"dataframe\">\n  <thead>\n    <tr>\n      <th></th>\n      <th>len</th>\n      <th>sum</th>\n      <th>mean</th>\n    </tr>\n    <tr>\n      <th></th>\n      <th>debit_card</th>\n      <th>debit_card</th>\n      <th>debit_card</th>\n    </tr>\n    <tr>\n      <th>pk_partition</th>\n      <th></th>\n      <th></th>\n      <th></th>\n    </tr>\n  </thead>\n  <tbody>\n    <tr>\n      <th>2018-01-28</th>\n      <td>25509</td>\n      <td>24696</td>\n      <td>0.968129</td>\n    </tr>\n    <tr>\n      <th>2018-02-28</th>\n      <td>4641</td>\n      <td>3708</td>\n      <td>0.798966</td>\n    </tr>\n    <tr>\n      <th>2018-03-28</th>\n      <td>3479</td>\n      <td>2691</td>\n      <td>0.773498</td>\n    </tr>\n    <tr>\n      <th>2018-04-28</th>\n      <td>2856</td>\n      <td>2121</td>\n      <td>0.742647</td>\n    </tr>\n    <tr>\n      <th>2018-05-28</th>\n      <td>2643</td>\n      <td>1803</td>\n      <td>0.682179</td>\n    </tr>\n    <tr>\n      <th>2018-06-28</th>\n      <td>2706</td>\n      <td>1834</td>\n      <td>0.677753</td>\n    </tr>\n    <tr>\n      <th>2018-07-28</th>\n      <td>3965</td>\n      <td>1942</td>\n      <td>0.489786</td>\n    </tr>\n    <tr>\n      <th>2018-08-28</th>\n      <td>4479</td>\n      <td>1943</td>\n      <td>0.433802</td>\n    </tr>\n    <tr>\n      <th>2018-09-28</th>\n      <td>5789</td>\n      <td>2514</td>\n      <td>0.434272</td>\n    </tr>\n    <tr>\n      <th>2018-10-28</th>\n      <td>6818</td>\n      <td>3426</td>\n      <td>0.502493</td>\n    </tr>\n    <tr>\n      <th>2018-11-28</th>\n      <td>5906</td>\n      <td>2908</td>\n      <td>0.492381</td>\n    </tr>\n    <tr>\n      <th>2018-12-28</th>\n      <td>6574</td>\n      <td>2483</td>\n      <td>0.377700</td>\n    </tr>\n    <tr>\n      <th>2019-01-28</th>\n      <td>6301</td>\n      <td>2160</td>\n      <td>0.342803</td>\n    </tr>\n    <tr>\n      <th>2019-02-28</th>\n      <td>6728</td>\n      <td>2537</td>\n      <td>0.377081</td>\n    </tr>\n    <tr>\n      <th>2019-03-28</th>\n      <td>6452</td>\n      <td>2590</td>\n      <td>0.401426</td>\n    </tr>\n    <tr>\n      <th>2019-04-28</th>\n      <td>8415</td>\n      <td>2129</td>\n      <td>0.253001</td>\n    </tr>\n    <tr>\n      <th>2019-05-28</th>\n      <td>401782</td>\n      <td>2049</td>\n      <td>0.005100</td>\n    </tr>\n  </tbody>\n</table>\n</div>"
     },
     "execution_count": 213,
     "metadata": {},
     "output_type": "execute_result"
    }
   ],
   "source": [
    "def relation_with_target(dataframe: pd.DataFrame, field: str, target: str):\n",
    "    plt.figure(figsize=(15,5))\n",
    "    plt.xticks(rotation=90)\n",
    "    sns.countplot(data=dataframe, x=field, hue=target)\n",
    "    plt.show()\n",
    "    return dataframe.pivot_table(index=field, values=target, aggfunc=[len, sum, np.mean])\n",
    "\n",
    "relation_with_target(df_prep, \"pk_partition\", TARGET)"
   ],
   "metadata": {
    "collapsed": false,
    "pycharm": {
     "name": "#%%\n"
    }
   }
  },
  {
   "cell_type": "markdown",
   "source": [
    "## split dataframes"
   ],
   "metadata": {
    "collapsed": false,
    "pycharm": {
     "name": "#%% md\n"
    }
   }
  },
  {
   "cell_type": "code",
   "execution_count": 181,
   "outputs": [
    {
     "data": {
      "text/plain": "<Figure size 432x288 with 1 Axes>",
      "image/png": "[encoded data removed]"
     },
     "metadata": {
      "needs_background": "light"
     },
     "output_type": "display_data"
    },
    {
     "name": "stdout",
     "output_type": "stream",
     "text": [
      "debit_card\n",
      "1    56766\n",
      "0    31628\n",
      "Name: debit_card, dtype: int64\n"
     ]
    }
   ],
   "source": [
    "train_df = df_prep[df_prep[\"pk_partition\"].between(DEV_PARTITION_PERIOD[0], DEV_PARTITION_PERIOD[1])].reset_index(drop=True)\n",
    "train_df = train_df.drop(exclude_columns, axis=1)\n",
    "plot(train_df, TARGET)"
   ],
   "metadata": {
    "collapsed": false,
    "pycharm": {
     "name": "#%%\n"
    }
   }
  },
  {
   "cell_type": "code",
   "execution_count": 182,
   "outputs": [
    {
     "data": {
      "text/plain": "       debit_card  active_customer  segment  region_code  gender  age  \\\n0               0                0        1           28       1   59   \n1               1                1        1           28       1   53   \n2               1                1        1           28       0   75   \n3               0                0        0           28       1   53   \n4               1                1        1           28       1   48   \n...           ...              ...      ...          ...     ...  ...   \n88389           0                0        0           21       0   79   \n88390           0                0        0            3       0   30   \n88391           0                0        0           28       0   30   \n88392           0                0        0           46       1   36   \n88393           0                0        0           46       0   45   \n\n       deceased  short_term_deposit  loans  mortgage  ...  country_id_PL  \\\n0             0                   0      0         0  ...              0   \n1             0                   0      0         0  ...              0   \n2             0                   0      0         0  ...              0   \n3             0                   0      0         0  ...              0   \n4             0                   0      0         0  ...              0   \n...         ...                 ...    ...       ...  ...            ...   \n88389         0                   0      0         0  ...              0   \n88390         0                   0      0         0  ...              0   \n88391         0                   0      0         0  ...              0   \n88392         0                   0      0         0  ...              0   \n88393         0                   0      0         0  ...              0   \n\n       country_id_PT  country_id_QA  country_id_RO  country_id_RU  \\\n0                  0              0              0              0   \n1                  0              0              0              0   \n2                  0              0              0              0   \n3                  0              0              0              0   \n4                  0              0              0              0   \n...              ...            ...            ...            ...   \n88389              0              0              0              0   \n88390              0              0              0              0   \n88391              0              0              0              0   \n88392              0              0              0              0   \n88393              0              0              0              0   \n\n       country_id_SA  country_id_SE  country_id_SN  country_id_US  \\\n0                  0              0              0              0   \n1                  0              0              0              0   \n2                  0              0              0              0   \n3                  0              0              0              0   \n4                  0              0              0              0   \n...              ...            ...            ...            ...   \n88389              0              0              0              0   \n88390              0              0              0              0   \n88391              0              0              0              0   \n88392              0              0              0              0   \n88393              0              0              0              0   \n\n       country_id_VE  \n0                  0  \n1                  0  \n2                  0  \n3                  0  \n4                  0  \n...              ...  \n88389              0  \n88390              0  \n88391              0  \n88392              0  \n88393              0  \n\n[88394 rows x 72 columns]",
      "text/html": "<div>\n<style scoped>\n    .dataframe tbody tr th:only-of-type {\n        vertical-align: middle;\n    }\n\n    .dataframe tbody tr th {\n        vertical-align: top;\n    }\n\n    .dataframe thead th {\n        text-align: right;\n    }\n</style>\n<table border=\"1\" class=\"dataframe\">\n  <thead>\n    <tr style=\"text-align: right;\">\n      <th></th>\n      <th>debit_card</th>\n      <th>active_customer</th>\n      <th>segment</th>\n      <th>region_code</th>\n      <th>gender</th>\n      <th>age</th>\n      <th>deceased</th>\n      <th>short_term_deposit</th>\n      <th>loans</th>\n      <th>mortgage</th>\n      <th>...</th>\n      <th>country_id_PL</th>\n      <th>country_id_PT</th>\n      <th>country_id_QA</th>\n      <th>country_id_RO</th>\n      <th>country_id_RU</th>\n      <th>country_id_SA</th>\n      <th>country_id_SE</th>\n      <th>country_id_SN</th>\n      <th>country_id_US</th>\n      <th>country_id_VE</th>\n    </tr>\n  </thead>\n  <tbody>\n    <tr>\n      <th>0</th>\n      <td>0</td>\n      <td>0</td>\n      <td>1</td>\n      <td>28</td>\n      <td>1</td>\n      <td>59</td>\n      <td>0</td>\n      <td>0</td>\n      <td>0</td>\n      <td>0</td>\n      <td>...</td>\n      <td>0</td>\n      <td>0</td>\n      <td>0</td>\n      <td>0</td>\n      <td>0</td>\n      <td>0</td>\n      <td>0</td>\n      <td>0</td>\n      <td>0</td>\n      <td>0</td>\n    </tr>\n    <tr>\n      <th>1</th>\n      <td>1</td>\n      <td>1</td>\n      <td>1</td>\n      <td>28</td>\n      <td>1</td>\n      <td>53</td>\n      <td>0</td>\n      <td>0</td>\n      <td>0</td>\n      <td>0</td>\n      <td>...</td>\n      <td>0</td>\n      <td>0</td>\n      <td>0</td>\n      <td>0</td>\n      <td>0</td>\n      <td>0</td>\n      <td>0</td>\n      <td>0</td>\n      <td>0</td>\n      <td>0</td>\n    </tr>\n    <tr>\n      <th>2</th>\n      <td>1</td>\n      <td>1</td>\n      <td>1</td>\n      <td>28</td>\n      <td>0</td>\n      <td>75</td>\n      <td>0</td>\n      <td>0</td>\n      <td>0</td>\n      <td>0</td>\n      <td>...</td>\n      <td>0</td>\n      <td>0</td>\n      <td>0</td>\n      <td>0</td>\n      <td>0</td>\n      <td>0</td>\n      <td>0</td>\n      <td>0</td>\n      <td>0</td>\n      <td>0</td>\n    </tr>\n    <tr>\n      <th>3</th>\n      <td>0</td>\n      <td>0</td>\n      <td>0</td>\n      <td>28</td>\n      <td>1</td>\n      <td>53</td>\n      <td>0</td>\n      <td>0</td>\n      <td>0</td>\n      <td>0</td>\n      <td>...</td>\n      <td>0</td>\n      <td>0</td>\n      <td>0</td>\n      <td>0</td>\n      <td>0</td>\n      <td>0</td>\n      <td>0</td>\n      <td>0</td>\n      <td>0</td>\n      <td>0</td>\n    </tr>\n    <tr>\n      <th>4</th>\n      <td>1</td>\n      <td>1</td>\n      <td>1</td>\n      <td>28</td>\n      <td>1</td>\n      <td>48</td>\n      <td>0</td>\n      <td>0</td>\n      <td>0</td>\n      <td>0</td>\n      <td>...</td>\n      <td>0</td>\n      <td>0</td>\n      <td>0</td>\n      <td>0</td>\n      <td>0</td>\n      <td>0</td>\n      <td>0</td>\n      <td>0</td>\n      <td>0</td>\n      <td>0</td>\n    </tr>\n    <tr>\n      <th>...</th>\n      <td>...</td>\n      <td>...</td>\n      <td>...</td>\n      <td>...</td>\n      <td>...</td>\n      <td>...</td>\n      <td>...</td>\n      <td>...</td>\n      <td>...</td>\n      <td>...</td>\n      <td>...</td>\n      <td>...</td>\n      <td>...</td>\n      <td>...</td>\n      <td>...</td>\n      <td>...</td>\n      <td>...</td>\n      <td>...</td>\n      <td>...</td>\n      <td>...</td>\n      <td>...</td>\n    </tr>\n    <tr>\n      <th>88389</th>\n      <td>0</td>\n      <td>0</td>\n      <td>0</td>\n      <td>21</td>\n      <td>0</td>\n      <td>79</td>\n      <td>0</td>\n      <td>0</td>\n      <td>0</td>\n      <td>0</td>\n      <td>...</td>\n      <td>0</td>\n      <td>0</td>\n      <td>0</td>\n      <td>0</td>\n      <td>0</td>\n      <td>0</td>\n      <td>0</td>\n      <td>0</td>\n      <td>0</td>\n      <td>0</td>\n    </tr>\n    <tr>\n      <th>88390</th>\n      <td>0</td>\n      <td>0</td>\n      <td>0</td>\n      <td>3</td>\n      <td>0</td>\n      <td>30</td>\n      <td>0</td>\n      <td>0</td>\n      <td>0</td>\n      <td>0</td>\n      <td>...</td>\n      <td>0</td>\n      <td>0</td>\n      <td>0</td>\n      <td>0</td>\n      <td>0</td>\n      <td>0</td>\n      <td>0</td>\n      <td>0</td>\n      <td>0</td>\n      <td>0</td>\n    </tr>\n    <tr>\n      <th>88391</th>\n      <td>0</td>\n      <td>0</td>\n      <td>0</td>\n      <td>28</td>\n      <td>0</td>\n      <td>30</td>\n      <td>0</td>\n      <td>0</td>\n      <td>0</td>\n      <td>0</td>\n      <td>...</td>\n      <td>0</td>\n      <td>0</td>\n      <td>0</td>\n      <td>0</td>\n      <td>0</td>\n      <td>0</td>\n      <td>0</td>\n      <td>0</td>\n      <td>0</td>\n      <td>0</td>\n    </tr>\n    <tr>\n      <th>88392</th>\n      <td>0</td>\n      <td>0</td>\n      <td>0</td>\n      <td>46</td>\n      <td>1</td>\n      <td>36</td>\n      <td>0</td>\n      <td>0</td>\n      <td>0</td>\n      <td>0</td>\n      <td>...</td>\n      <td>0</td>\n      <td>0</td>\n      <td>0</td>\n      <td>0</td>\n      <td>0</td>\n      <td>0</td>\n      <td>0</td>\n      <td>0</td>\n      <td>0</td>\n      <td>0</td>\n    </tr>\n    <tr>\n      <th>88393</th>\n      <td>0</td>\n      <td>0</td>\n      <td>0</td>\n      <td>46</td>\n      <td>0</td>\n      <td>45</td>\n      <td>0</td>\n      <td>0</td>\n      <td>0</td>\n      <td>0</td>\n      <td>...</td>\n      <td>0</td>\n      <td>0</td>\n      <td>0</td>\n      <td>0</td>\n      <td>0</td>\n      <td>0</td>\n      <td>0</td>\n      <td>0</td>\n      <td>0</td>\n      <td>0</td>\n    </tr>\n  </tbody>\n</table>\n<p>88394 rows × 72 columns</p>\n</div>"
     },
     "execution_count": 182,
     "metadata": {},
     "output_type": "execute_result"
    }
   ],
   "source": [
    "train_df"
   ],
   "metadata": {
    "collapsed": false,
    "pycharm": {
     "name": "#%%\n"
    }
   }
  },
  {
   "cell_type": "code",
   "execution_count": 183,
   "outputs": [],
   "source": [
    "# test_df = df_prep[df_prep[\"pk_partition\"].between(TEST_PERIOD[0], TEST_PERIOD[1])]\n",
    "# plot(test_df, TARGET)"
   ],
   "metadata": {
    "collapsed": false,
    "pycharm": {
     "name": "#%%\n"
    }
   }
  },
  {
   "cell_type": "code",
   "execution_count": 184,
   "outputs": [
    {
     "data": {
      "text/plain": "<Figure size 432x288 with 1 Axes>",
      "image/png": "[encoded data removed]"
     },
     "metadata": {
      "needs_background": "light"
     },
     "output_type": "display_data"
    },
    {
     "name": "stdout",
     "output_type": "stream",
     "text": [
      "debit_card\n",
      "0    409881\n",
      "1      6768\n",
      "Name: debit_card, dtype: int64\n"
     ]
    }
   ],
   "source": [
    "validation_df = df_prep[df_prep[\"pk_partition\"].between(VAL_PARTITION_PERIOD[0], VAL_PARTITION_PERIOD[1])].reset_index(drop=True)\n",
    "validation_df = validation_df.drop(exclude_columns, axis=1)\n",
    "plot(validation_df, TARGET)"
   ],
   "metadata": {
    "collapsed": false,
    "pycharm": {
     "name": "#%%\n"
    }
   }
  },
  {
   "cell_type": "code",
   "execution_count": 185,
   "outputs": [],
   "source": [
    "dev_X = train_df.drop(TARGET, axis=1)\n",
    "dev_y = train_df[[TARGET]]\n",
    "\n",
    "val_X = validation_df.drop(TARGET, axis=1)\n",
    "val_y = validation_df[[TARGET]]"
   ],
   "metadata": {
    "collapsed": false,
    "pycharm": {
     "name": "#%%\n"
    }
   }
  },
  {
   "cell_type": "code",
   "execution_count": 186,
   "outputs": [
    {
     "data": {
      "text/plain": "       active_customer  segment  region_code  gender  age  deceased  \\\n0                    0        1           28       1   59         0   \n1                    1        1           28       1   53         0   \n2                    1        1           28       0   75         0   \n3                    0        0           28       1   53         0   \n4                    1        1           28       1   48         0   \n...                ...      ...          ...     ...  ...       ...   \n88389                0        0           21       0   79         0   \n88390                0        0            3       0   30         0   \n88391                0        0           28       0   30         0   \n88392                0        0           46       1   36         0   \n88393                0        0           46       0   45         0   \n\n       short_term_deposit  loans  mortgage  funds  ...  country_id_PL  \\\n0                       0      0         0      0  ...              0   \n1                       0      0         0      0  ...              0   \n2                       0      0         0      0  ...              0   \n3                       0      0         0      0  ...              0   \n4                       0      0         0      0  ...              0   \n...                   ...    ...       ...    ...  ...            ...   \n88389                   0      0         0      0  ...              0   \n88390                   0      0         0      0  ...              0   \n88391                   0      0         0      0  ...              0   \n88392                   0      0         0      0  ...              0   \n88393                   0      0         0      0  ...              0   \n\n       country_id_PT  country_id_QA  country_id_RO  country_id_RU  \\\n0                  0              0              0              0   \n1                  0              0              0              0   \n2                  0              0              0              0   \n3                  0              0              0              0   \n4                  0              0              0              0   \n...              ...            ...            ...            ...   \n88389              0              0              0              0   \n88390              0              0              0              0   \n88391              0              0              0              0   \n88392              0              0              0              0   \n88393              0              0              0              0   \n\n       country_id_SA  country_id_SE  country_id_SN  country_id_US  \\\n0                  0              0              0              0   \n1                  0              0              0              0   \n2                  0              0              0              0   \n3                  0              0              0              0   \n4                  0              0              0              0   \n...              ...            ...            ...            ...   \n88389              0              0              0              0   \n88390              0              0              0              0   \n88391              0              0              0              0   \n88392              0              0              0              0   \n88393              0              0              0              0   \n\n       country_id_VE  \n0                  0  \n1                  0  \n2                  0  \n3                  0  \n4                  0  \n...              ...  \n88389              0  \n88390              0  \n88391              0  \n88392              0  \n88393              0  \n\n[88394 rows x 71 columns]",
      "text/html": "<div>\n<style scoped>\n    .dataframe tbody tr th:only-of-type {\n        vertical-align: middle;\n    }\n\n    .dataframe tbody tr th {\n        vertical-align: top;\n    }\n\n    .dataframe thead th {\n        text-align: right;\n    }\n</style>\n<table border=\"1\" class=\"dataframe\">\n  <thead>\n    <tr style=\"text-align: right;\">\n      <th></th>\n      <th>active_customer</th>\n      <th>segment</th>\n      <th>region_code</th>\n      <th>gender</th>\n      <th>age</th>\n      <th>deceased</th>\n      <th>short_term_deposit</th>\n      <th>loans</th>\n      <th>mortgage</th>\n      <th>funds</th>\n      <th>...</th>\n      <th>country_id_PL</th>\n      <th>country_id_PT</th>\n      <th>country_id_QA</th>\n      <th>country_id_RO</th>\n      <th>country_id_RU</th>\n      <th>country_id_SA</th>\n      <th>country_id_SE</th>\n      <th>country_id_SN</th>\n      <th>country_id_US</th>\n      <th>country_id_VE</th>\n    </tr>\n  </thead>\n  <tbody>\n    <tr>\n      <th>0</th>\n      <td>0</td>\n      <td>1</td>\n      <td>28</td>\n      <td>1</td>\n      <td>59</td>\n      <td>0</td>\n      <td>0</td>\n      <td>0</td>\n      <td>0</td>\n      <td>0</td>\n      <td>...</td>\n      <td>0</td>\n      <td>0</td>\n      <td>0</td>\n      <td>0</td>\n      <td>0</td>\n      <td>0</td>\n      <td>0</td>\n      <td>0</td>\n      <td>0</td>\n      <td>0</td>\n    </tr>\n    <tr>\n      <th>1</th>\n      <td>1</td>\n      <td>1</td>\n      <td>28</td>\n      <td>1</td>\n      <td>53</td>\n      <td>0</td>\n      <td>0</td>\n      <td>0</td>\n      <td>0</td>\n      <td>0</td>\n      <td>...</td>\n      <td>0</td>\n      <td>0</td>\n      <td>0</td>\n      <td>0</td>\n      <td>0</td>\n      <td>0</td>\n      <td>0</td>\n      <td>0</td>\n      <td>0</td>\n      <td>0</td>\n    </tr>\n    <tr>\n      <th>2</th>\n      <td>1</td>\n      <td>1</td>\n      <td>28</td>\n      <td>0</td>\n      <td>75</td>\n      <td>0</td>\n      <td>0</td>\n      <td>0</td>\n      <td>0</td>\n      <td>0</td>\n      <td>...</td>\n      <td>0</td>\n      <td>0</td>\n      <td>0</td>\n      <td>0</td>\n      <td>0</td>\n      <td>0</td>\n      <td>0</td>\n      <td>0</td>\n      <td>0</td>\n      <td>0</td>\n    </tr>\n    <tr>\n      <th>3</th>\n      <td>0</td>\n      <td>0</td>\n      <td>28</td>\n      <td>1</td>\n      <td>53</td>\n      <td>0</td>\n      <td>0</td>\n      <td>0</td>\n      <td>0</td>\n      <td>0</td>\n      <td>...</td>\n      <td>0</td>\n      <td>0</td>\n      <td>0</td>\n      <td>0</td>\n      <td>0</td>\n      <td>0</td>\n      <td>0</td>\n      <td>0</td>\n      <td>0</td>\n      <td>0</td>\n    </tr>\n    <tr>\n      <th>4</th>\n      <td>1</td>\n      <td>1</td>\n      <td>28</td>\n      <td>1</td>\n      <td>48</td>\n      <td>0</td>\n      <td>0</td>\n      <td>0</td>\n      <td>0</td>\n      <td>0</td>\n      <td>...</td>\n      <td>0</td>\n      <td>0</td>\n      <td>0</td>\n      <td>0</td>\n      <td>0</td>\n      <td>0</td>\n      <td>0</td>\n      <td>0</td>\n      <td>0</td>\n      <td>0</td>\n    </tr>\n    <tr>\n      <th>...</th>\n      <td>...</td>\n      <td>...</td>\n      <td>...</td>\n      <td>...</td>\n      <td>...</td>\n      <td>...</td>\n      <td>...</td>\n      <td>...</td>\n      <td>...</td>\n      <td>...</td>\n      <td>...</td>\n      <td>...</td>\n      <td>...</td>\n      <td>...</td>\n      <td>...</td>\n      <td>...</td>\n      <td>...</td>\n      <td>...</td>\n      <td>...</td>\n      <td>...</td>\n      <td>...</td>\n    </tr>\n    <tr>\n      <th>88389</th>\n      <td>0</td>\n      <td>0</td>\n      <td>21</td>\n      <td>0</td>\n      <td>79</td>\n      <td>0</td>\n      <td>0</td>\n      <td>0</td>\n      <td>0</td>\n      <td>0</td>\n      <td>...</td>\n      <td>0</td>\n      <td>0</td>\n      <td>0</td>\n      <td>0</td>\n      <td>0</td>\n      <td>0</td>\n      <td>0</td>\n      <td>0</td>\n      <td>0</td>\n      <td>0</td>\n    </tr>\n    <tr>\n      <th>88390</th>\n      <td>0</td>\n      <td>0</td>\n      <td>3</td>\n      <td>0</td>\n      <td>30</td>\n      <td>0</td>\n      <td>0</td>\n      <td>0</td>\n      <td>0</td>\n      <td>0</td>\n      <td>...</td>\n      <td>0</td>\n      <td>0</td>\n      <td>0</td>\n      <td>0</td>\n      <td>0</td>\n      <td>0</td>\n      <td>0</td>\n      <td>0</td>\n      <td>0</td>\n      <td>0</td>\n    </tr>\n    <tr>\n      <th>88391</th>\n      <td>0</td>\n      <td>0</td>\n      <td>28</td>\n      <td>0</td>\n      <td>30</td>\n      <td>0</td>\n      <td>0</td>\n      <td>0</td>\n      <td>0</td>\n      <td>0</td>\n      <td>...</td>\n      <td>0</td>\n      <td>0</td>\n      <td>0</td>\n      <td>0</td>\n      <td>0</td>\n      <td>0</td>\n      <td>0</td>\n      <td>0</td>\n      <td>0</td>\n      <td>0</td>\n    </tr>\n    <tr>\n      <th>88392</th>\n      <td>0</td>\n      <td>0</td>\n      <td>46</td>\n      <td>1</td>\n      <td>36</td>\n      <td>0</td>\n      <td>0</td>\n      <td>0</td>\n      <td>0</td>\n      <td>0</td>\n      <td>...</td>\n      <td>0</td>\n      <td>0</td>\n      <td>0</td>\n      <td>0</td>\n      <td>0</td>\n      <td>0</td>\n      <td>0</td>\n      <td>0</td>\n      <td>0</td>\n      <td>0</td>\n    </tr>\n    <tr>\n      <th>88393</th>\n      <td>0</td>\n      <td>0</td>\n      <td>46</td>\n      <td>0</td>\n      <td>45</td>\n      <td>0</td>\n      <td>0</td>\n      <td>0</td>\n      <td>0</td>\n      <td>0</td>\n      <td>...</td>\n      <td>0</td>\n      <td>0</td>\n      <td>0</td>\n      <td>0</td>\n      <td>0</td>\n      <td>0</td>\n      <td>0</td>\n      <td>0</td>\n      <td>0</td>\n      <td>0</td>\n    </tr>\n  </tbody>\n</table>\n<p>88394 rows × 71 columns</p>\n</div>"
     },
     "execution_count": 186,
     "metadata": {},
     "output_type": "execute_result"
    }
   ],
   "source": [
    "dev_X"
   ],
   "metadata": {
    "collapsed": false,
    "pycharm": {
     "name": "#%%\n"
    }
   }
  },
  {
   "cell_type": "code",
   "execution_count": 187,
   "outputs": [],
   "source": [
    "# def dev_val_split(dataframe: pd.DataFrame, split_condition, exclude_columns, target: str = TARGET):\n",
    "#     dev_df = dataframe[split_condition].drop(exclude_columns, axis=1)\n",
    "#     val_df = dataframe[~split_condition].drop(exclude_columns, axis=1)\n",
    "#\n",
    "#     dev_df_X = dev_df.drop(target, axis=1)\n",
    "#     dev_df_y = dev_df[[TARGET]]\n",
    "#\n",
    "#     val_df_X = val_df.drop(TARGET, axis=1)\n",
    "#     val_df_y = val_df[[TARGET]]\n",
    "#\n",
    "#     print(f\"\"\"\n",
    "#         dev_df_X.shape: {dev_df_X.shape}\n",
    "#         dev_df_y.shape: {dev_df_y.shape}\n",
    "#\n",
    "#         val_df_X.shape: {val_df_X.shape}\n",
    "#         val_df_y.shape: {val_df_y.shape}\n",
    "#     \"\"\")\n",
    "#\n",
    "#     return dev_df_X, dev_df_y, val_df_X, val_df_y\n",
    "#\n",
    "#\n",
    "# dev_df_X, dev_df_y, val_df_X, val_df_y = dev_val_split(\n",
    "#     dataframe=df,\n",
    "#     split_condition=(df[\"pk_partition\"] < \"2019-03-28\"),\n",
    "#     exclude_columns=[\"pk_cid\", \"pk_partition\", \"entry_date\"],\n",
    "#     target=TARGET\n",
    "# )"
   ],
   "metadata": {
    "collapsed": false,
    "pycharm": {
     "name": "#%%\n"
    }
   }
  },
  {
   "cell_type": "code",
   "execution_count": 188,
   "outputs": [
    {
     "name": "stdout",
     "output_type": "stream",
     "text": [
      "\n",
      "X_train.shape: (70715, 71)\n",
      "X_test.shape: (17679, 71)\n",
      "y_train.shape: (70715, 1)\n",
      "y_test.shape: (17679, 1)\n",
      "\n"
     ]
    }
   ],
   "source": [
    "X_train, X_test, y_train, y_test = train_test_split(\n",
    "    dev_X,\n",
    "    dev_y,\n",
    "    test_size=0.2,\n",
    "    random_state=13,\n",
    "    stratify=dev_y\n",
    ")\n",
    "print(f\"\"\"\n",
    "X_train.shape: {X_train.shape}\n",
    "X_test.shape: {X_test.shape}\n",
    "y_train.shape: {y_train.shape}\n",
    "y_test.shape: {y_test.shape}\n",
    "\"\"\")"
   ],
   "metadata": {
    "collapsed": false,
    "pycharm": {
     "name": "#%%\n"
    }
   }
  },
  {
   "cell_type": "markdown",
   "source": [
    "## Modelling"
   ],
   "metadata": {
    "collapsed": false,
    "pycharm": {
     "name": "#%% md\n"
    }
   }
  },
  {
   "cell_type": "code",
   "execution_count": 189,
   "outputs": [],
   "source": [
    "_MAX_DEPTH = 4\n",
    "_MIN_SAMPLES_LEAF = 100\n",
    "_RANDOM_STATE = 42\n",
    "\n",
    "\n",
    "_MIN_CHILD_WEIGHT = 100\n",
    "_N_ESTIMATORS = 50"
   ],
   "metadata": {
    "collapsed": false,
    "pycharm": {
     "name": "#%%\n"
    }
   }
  },
  {
   "cell_type": "code",
   "execution_count": 190,
   "outputs": [],
   "source": [
    "model = xgb.XGBClassifier(\n",
    "    max_depth=_MAX_DEPTH,\n",
    "    min_child_weight=_MIN_CHILD_WEIGHT,\n",
    "    n_estimators=_N_ESTIMATORS,\n",
    "    random_state=_RANDOM_STATE,\n",
    "    use_label_encoder=False\n",
    ")"
   ],
   "metadata": {
    "collapsed": false,
    "pycharm": {
     "name": "#%%\n"
    }
   }
  },
  {
   "cell_type": "code",
   "execution_count": 191,
   "outputs": [
    {
     "name": "stdout",
     "output_type": "stream",
     "text": [
      "[00:47:24] WARNING: D:\\bld\\xgboost-split_1637426510059\\work\\src\\learner.cc:1115: Starting in XGBoost 1.3.0, the default evaluation metric used with the objective 'binary:logistic' was changed from 'error' to 'logloss'. Explicitly set eval_metric if you'd like to restore the old behavior.\n"
     ]
    },
    {
     "data": {
      "text/plain": "XGBClassifier(base_score=0.5, booster='gbtree', colsample_bylevel=1,\n              colsample_bynode=1, colsample_bytree=1, enable_categorical=False,\n              gamma=0, gpu_id=-1, importance_type=None,\n              interaction_constraints='', learning_rate=0.300000012,\n              max_delta_step=0, max_depth=4, min_child_weight=100, missing=nan,\n              monotone_constraints='()', n_estimators=50, n_jobs=12,\n              num_parallel_tree=1, predictor='auto', random_state=42,\n              reg_alpha=0, reg_lambda=1, scale_pos_weight=1, subsample=1,\n              tree_method='exact', use_label_encoder=False,\n              validate_parameters=1, verbosity=None)"
     },
     "execution_count": 191,
     "metadata": {},
     "output_type": "execute_result"
    }
   ],
   "source": [
    "model.fit(X_train, y_train)"
   ],
   "metadata": {
    "collapsed": false,
    "pycharm": {
     "name": "#%%\n"
    }
   }
  },
  {
   "cell_type": "code",
   "execution_count": 192,
   "outputs": [
    {
     "name": "stdout",
     "output_type": "stream",
     "text": [
      "Accuracy: 0.3564\n"
     ]
    }
   ],
   "source": [
    "accuracy = round(model.score(val_X, val_y), 4)\n",
    "print('Accuracy: %0.4f' % (accuracy))"
   ],
   "metadata": {
    "collapsed": false,
    "pycharm": {
     "name": "#%%\n"
    }
   }
  },
  {
   "cell_type": "code",
   "execution_count": 193,
   "outputs": [
    {
     "data": {
      "text/plain": "<AxesSubplot:>"
     },
     "execution_count": 193,
     "metadata": {},
     "output_type": "execute_result"
    },
    {
     "data": {
      "text/plain": "<Figure size 432x288 with 1 Axes>",
      "image/png": "[encoded data removed]"
     },
     "metadata": {
      "needs_background": "light"
     },
     "output_type": "display_data"
    }
   ],
   "source": [
    "feat_importances = pd.Series(model.feature_importances_, index=dev_X.columns)\n",
    "feat_importances.nlargest(20).plot(kind='barh')"
   ],
   "metadata": {
    "collapsed": false,
    "pycharm": {
     "name": "#%%\n"
    }
   }
  }
 ],
 "metadata": {
  "kernelspec": {
   "display_name": "Python 3",
   "language": "python",
   "name": "python3"
  },
  "language_info": {
   "codemirror_mode": {
    "name": "ipython",
    "version": 2
   },
   "file_extension": ".py",
   "mimetype": "text/x-python",
   "name": "python",
   "nbconvert_exporter": "python",
   "pygments_lexer": "ipython2",
   "version": "2.7.6"
  }
 },
 "nbformat": 4,
 "nbformat_minor": 0
}