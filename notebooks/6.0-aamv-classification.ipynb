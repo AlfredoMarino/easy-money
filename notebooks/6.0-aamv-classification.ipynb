{
 "cells": [
  {
   "cell_type": "markdown",
   "source": [
    "# Easy Money - Classification"
   ],
   "metadata": {
    "collapsed": false,
    "pycharm": {
     "name": "#%% md\n",
     "is_executing": true
    }
   }
  },
  {
   "cell_type": "code",
   "execution_count": 196,
   "metadata": {
    "collapsed": true
   },
   "outputs": [],
   "source": [
    "import pandas as pd\n",
    "import numpy as np\n",
    "import matplotlib.pyplot as plt\n",
    "import seaborn as sns\n",
    "\n",
    "from sklearn import tree\n",
    "from sklearn.base import BaseEstimator, TransformerMixin\n",
    "from sklearn.model_selection import train_test_split\n",
    "from sklearn.pipeline import Pipeline\n",
    "from sklearn import metrics\n",
    "\n",
    "import xgboost as xgb"
   ]
  },
  {
   "cell_type": "code",
   "execution_count": 222,
   "outputs": [],
   "source": [
    "__DATA_PATH__ = \"../data\"\n",
    "__INTERIM_DATA_PATH__ = f\"{__DATA_PATH__}/interim\"\n",
    "\n",
    "TARGET = \"em_acount\"\n",
    "\n",
    "DEV_PARTITION_PERIOD = (\"2018-01-28\", \"2019-02-28\")\n",
    "VAL_PARTITION_PERIOD = (\"2019-03-28\", \"2019-05-28\")\n",
    "\n",
    "# TRAIN_PERIOD = (\"2018-01-28\", \"2018-12-28\")\n",
    "# TEST_PERIOD = (\"2019-01-28\", \"2019-03-28\")\n",
    "# VALIDATION_PERIOD = (\"2019-04-28\", \"2019-05-28\")\n",
    "\n",
    "exclude_columns = [\"pk_cid\", \"pk_partition\"]"
   ],
   "metadata": {
    "collapsed": false,
    "pycharm": {
     "name": "#%%\n"
    }
   }
  },
  {
   "cell_type": "markdown",
   "source": [
    "## Import data"
   ],
   "metadata": {
    "collapsed": false,
    "pycharm": {
     "name": "#%% md\n"
    }
   }
  },
  {
   "cell_type": "code",
   "execution_count": 144,
   "outputs": [],
   "source": [
    "dtypes = {\n",
    "    'pk_cid': 'int64',\n",
    "    'active_customer': 'int8',\n",
    "    'segment': 'int8',\n",
    "    'region_code': 'int8',\n",
    "    'gender': 'int8',\n",
    "    'age': 'int8',\n",
    "    'deceased': 'int8',\n",
    "    'short_term_deposit': 'int8',\n",
    "    'loans': 'int8',\n",
    "    'mortgage': 'int8',\n",
    "    'funds': 'int8',\n",
    "    'securities': 'int8',\n",
    "    'long_term_deposit': 'int8',\n",
    "    'em_account_pp': 'int8',\n",
    "    'credit_card': 'int8',\n",
    "    'payroll': 'int8',\n",
    "    'pension_plan': 'int8',\n",
    "    'payroll_account': 'int8',\n",
    "    'emc_account': 'int8',\n",
    "    'debit_card': 'int8',\n",
    "    'em_account_p': 'int8',\n",
    "    'em_acount': 'int8',\n",
    "    'entry_date_month': 'int8',\n",
    "    'entry_date_year': 'int8',\n",
    "    'entry_date_day': 'int8',\n",
    "    'entry_date_week': 'int8',\n",
    "    'entry_date_weekday': 'int8',\n",
    "    'entry_date_trim': 'int8',\n",
    "    'salary': 'float64',\n",
    "    'entry_channel_KHE': 'int8',\n",
    "    'entry_channel_KHQ': 'int8',\n",
    "    'entry_channel_OTHERS': 'int8',\n",
    "    'country_id_AR': 'int8', 'country_id_AT': 'int8', 'country_id_BE': 'int8', 'country_id_BR': 'int8',\n",
    "    'country_id_CA': 'int8', 'country_id_CH': 'int8', 'country_id_CI': 'int8', 'country_id_CL': 'int8',\n",
    "    'country_id_CM': 'int8', 'country_id_CN': 'int8', 'country_id_CO': 'int8', 'country_id_DE': 'int8',\n",
    "    'country_id_DJ': 'int8', 'country_id_DO': 'int8', 'country_id_DZ': 'int8', 'country_id_ES': 'int8',\n",
    "    'country_id_ET': 'int8', 'country_id_FR': 'int8', 'country_id_GA': 'int8', 'country_id_GB': 'int8',\n",
    "    'country_id_GT': 'int8', 'country_id_HU': 'int8', 'country_id_IE': 'int8', 'country_id_IT': 'int8',\n",
    "    'country_id_JM': 'int8', 'country_id_LU': 'int8', 'country_id_MA': 'int8', 'country_id_MR': 'int8',\n",
    "    'country_id_MX': 'int8', 'country_id_NO': 'int8', 'country_id_PE': 'int8', 'country_id_PL': 'int8',\n",
    "    'country_id_PT': 'int8', 'country_id_QA': 'int8', 'country_id_RO': 'int8', 'country_id_RU': 'int8',\n",
    "    'country_id_SA': 'int8', 'country_id_SE': 'int8', 'country_id_SN': 'int8', 'country_id_US': 'int8',\n",
    "    'country_id_VE': 'int8'\n",
    "}\n",
    "parse_dates = ['pk_partition']"
   ],
   "metadata": {
    "collapsed": false,
    "pycharm": {
     "name": "#%%\n"
    }
   }
  },
  {
   "cell_type": "code",
   "execution_count": 145,
   "outputs": [
    {
     "name": "stdout",
     "output_type": "stream",
     "text": [
      "<class 'pandas.core.frame.DataFrame'>\n",
      "RangeIndex: 5962838 entries, 0 to 5962837\n",
      "Data columns (total 74 columns):\n",
      " #   Column                Dtype         \n",
      "---  ------                -----         \n",
      " 0   pk_cid                int64         \n",
      " 1   pk_partition          datetime64[ns]\n",
      " 2   active_customer       int8          \n",
      " 3   segment               int8          \n",
      " 4   region_code           int8          \n",
      " 5   gender                int8          \n",
      " 6   age                   int8          \n",
      " 7   deceased              int8          \n",
      " 8   short_term_deposit    int8          \n",
      " 9   loans                 int8          \n",
      " 10  mortgage              int8          \n",
      " 11  funds                 int8          \n",
      " 12  securities            int8          \n",
      " 13  long_term_deposit     int8          \n",
      " 14  em_account_pp         int8          \n",
      " 15  credit_card           int8          \n",
      " 16  payroll               int8          \n",
      " 17  pension_plan          int8          \n",
      " 18  payroll_account       int8          \n",
      " 19  emc_account           int8          \n",
      " 20  debit_card            int8          \n",
      " 21  em_account_p          int8          \n",
      " 22  em_acount             int8          \n",
      " 23  entry_date_month      int8          \n",
      " 24  entry_date_year       int8          \n",
      " 25  entry_date_day        int8          \n",
      " 26  entry_date_week       int8          \n",
      " 27  entry_date_weekday    int8          \n",
      " 28  entry_date_trim       int8          \n",
      " 29  salary                float64       \n",
      " 30  entry_channel_KHE     int8          \n",
      " 31  entry_channel_KHQ     int8          \n",
      " 32  entry_channel_OTHERS  int8          \n",
      " 33  country_id_AR         int8          \n",
      " 34  country_id_AT         int8          \n",
      " 35  country_id_BE         int8          \n",
      " 36  country_id_BR         int8          \n",
      " 37  country_id_CA         int8          \n",
      " 38  country_id_CH         int8          \n",
      " 39  country_id_CI         int8          \n",
      " 40  country_id_CL         int8          \n",
      " 41  country_id_CM         int8          \n",
      " 42  country_id_CN         int8          \n",
      " 43  country_id_CO         int8          \n",
      " 44  country_id_DE         int8          \n",
      " 45  country_id_DJ         int8          \n",
      " 46  country_id_DO         int8          \n",
      " 47  country_id_DZ         int8          \n",
      " 48  country_id_ES         int8          \n",
      " 49  country_id_ET         int8          \n",
      " 50  country_id_FR         int8          \n",
      " 51  country_id_GA         int8          \n",
      " 52  country_id_GB         int8          \n",
      " 53  country_id_GT         int8          \n",
      " 54  country_id_HU         int8          \n",
      " 55  country_id_IE         int8          \n",
      " 56  country_id_IT         int8          \n",
      " 57  country_id_JM         int8          \n",
      " 58  country_id_LU         int8          \n",
      " 59  country_id_MA         int8          \n",
      " 60  country_id_MR         int8          \n",
      " 61  country_id_MX         int8          \n",
      " 62  country_id_NO         int8          \n",
      " 63  country_id_PE         int8          \n",
      " 64  country_id_PL         int8          \n",
      " 65  country_id_PT         int8          \n",
      " 66  country_id_QA         int8          \n",
      " 67  country_id_RO         int8          \n",
      " 68  country_id_RU         int8          \n",
      " 69  country_id_SA         int8          \n",
      " 70  country_id_SE         int8          \n",
      " 71  country_id_SN         int8          \n",
      " 72  country_id_US         int8          \n",
      " 73  country_id_VE         int8          \n",
      "dtypes: datetime64[ns](1), float64(1), int64(1), int8(71)\n",
      "memory usage: 540.2 MB\n"
     ]
    }
   ],
   "source": [
    "df = pd.read_csv(f\"{__INTERIM_DATA_PATH__}/easy_money_prep_1.csv\", dtype=dtypes, parse_dates=parse_dates)\n",
    "df.drop(\"Unnamed: 0\", axis=1, inplace=True)\n",
    "df.drop(\"entry_date\", axis=1, inplace=True)\n",
    "df[\"pk_partition\"] = pd.to_datetime(df[\"pk_partition\"])\n",
    "df.info(memory_usage=\"deep\")\n",
    "# df.shape"
   ],
   "metadata": {
    "collapsed": false,
    "pycharm": {
     "name": "#%%\n"
    }
   }
  },
  {
   "cell_type": "code",
   "execution_count": 146,
   "outputs": [
    {
     "data": {
      "text/plain": "             pk_cid  active_customer       segment   region_code  \\\ncount  5.962838e+06     5.962838e+06  5.962838e+06  5.962838e+06   \nmean   1.234933e+06     4.033799e-01  1.664466e+00  2.580417e+01   \nstd    1.622931e+05     4.905758e-01  5.483806e-01  1.360314e+01   \nmin    1.589100e+04     0.000000e+00  0.000000e+00 -1.000000e+00   \n25%    1.112533e+06     0.000000e+00  1.000000e+00  1.300000e+01   \n50%    1.231097e+06     0.000000e+00  2.000000e+00  2.800000e+01   \n75%    1.352340e+06     1.000000e+00  2.000000e+00  3.600000e+01   \nmax    1.553689e+06     1.000000e+00  3.000000e+00  5.200000e+01   \n\n             gender           age      deceased  short_term_deposit  \\\ncount  5.962838e+06  5.962838e+06  5.962838e+06        5.962838e+06   \nmean   5.177870e-01  2.976015e+01  1.802833e-04        2.581657e-03   \nstd    4.996836e-01  1.198007e+01  1.342575e-02        5.074438e-02   \nmin    0.000000e+00  2.000000e+00  0.000000e+00        0.000000e+00   \n25%    0.000000e+00  2.200000e+01  0.000000e+00        0.000000e+00   \n50%    1.000000e+00  2.500000e+01  0.000000e+00        0.000000e+00   \n75%    1.000000e+00  3.400000e+01  0.000000e+00        0.000000e+00   \nmax    1.000000e+00  1.050000e+02  1.000000e+00        1.000000e+00   \n\n              loans      mortgage  ...  country_id_PL  country_id_PT  \\\ncount  5.962838e+06  5.962838e+06  ...   5.962838e+06   5.962838e+06   \nmean   7.848612e-05  5.433654e-05  ...   8.217564e-06   1.844759e-06   \nstd    8.858892e-03  7.371133e-03  ...   2.866618e-03   1.358218e-03   \nmin    0.000000e+00  0.000000e+00  ...   0.000000e+00   0.000000e+00   \n25%    0.000000e+00  0.000000e+00  ...   0.000000e+00   0.000000e+00   \n50%    0.000000e+00  0.000000e+00  ...   0.000000e+00   0.000000e+00   \n75%    0.000000e+00  0.000000e+00  ...   0.000000e+00   0.000000e+00   \nmax    1.000000e+00  1.000000e+00  ...   1.000000e+00   1.000000e+00   \n\n       country_id_QA  country_id_RO  country_id_RU  country_id_SA  \\\ncount   5.962838e+06   5.962838e+06   5.962838e+06   5.962838e+06   \nmean    2.850991e-06   1.509348e-06   2.850991e-06   2.850991e-06   \nstd     1.688486e-03   1.228555e-03   1.688486e-03   1.688486e-03   \nmin     0.000000e+00   0.000000e+00   0.000000e+00   0.000000e+00   \n25%     0.000000e+00   0.000000e+00   0.000000e+00   0.000000e+00   \n50%     0.000000e+00   0.000000e+00   0.000000e+00   0.000000e+00   \n75%     0.000000e+00   0.000000e+00   0.000000e+00   0.000000e+00   \nmax     1.000000e+00   1.000000e+00   1.000000e+00   1.000000e+00   \n\n       country_id_SE  country_id_SN  country_id_US  country_id_VE  \ncount   5.962838e+06   5.962838e+06   5.962838e+06   5.962838e+06  \nmean    2.683286e-06   2.850991e-06   3.270255e-05   1.324872e-05  \nstd     1.638072e-03   1.688486e-03   5.718521e-03   3.639856e-03  \nmin     0.000000e+00   0.000000e+00   0.000000e+00   0.000000e+00  \n25%     0.000000e+00   0.000000e+00   0.000000e+00   0.000000e+00  \n50%     0.000000e+00   0.000000e+00   0.000000e+00   0.000000e+00  \n75%     0.000000e+00   0.000000e+00   0.000000e+00   0.000000e+00  \nmax     1.000000e+00   1.000000e+00   1.000000e+00   1.000000e+00  \n\n[8 rows x 73 columns]",
      "text/html": "<div>\n<style scoped>\n    .dataframe tbody tr th:only-of-type {\n        vertical-align: middle;\n    }\n\n    .dataframe tbody tr th {\n        vertical-align: top;\n    }\n\n    .dataframe thead th {\n        text-align: right;\n    }\n</style>\n<table border=\"1\" class=\"dataframe\">\n  <thead>\n    <tr style=\"text-align: right;\">\n      <th></th>\n      <th>pk_cid</th>\n      <th>active_customer</th>\n      <th>segment</th>\n      <th>region_code</th>\n      <th>gender</th>\n      <th>age</th>\n      <th>deceased</th>\n      <th>short_term_deposit</th>\n      <th>loans</th>\n      <th>mortgage</th>\n      <th>...</th>\n      <th>country_id_PL</th>\n      <th>country_id_PT</th>\n      <th>country_id_QA</th>\n      <th>country_id_RO</th>\n      <th>country_id_RU</th>\n      <th>country_id_SA</th>\n      <th>country_id_SE</th>\n      <th>country_id_SN</th>\n      <th>country_id_US</th>\n      <th>country_id_VE</th>\n    </tr>\n  </thead>\n  <tbody>\n    <tr>\n      <th>count</th>\n      <td>5.962838e+06</td>\n      <td>5.962838e+06</td>\n      <td>5.962838e+06</td>\n      <td>5.962838e+06</td>\n      <td>5.962838e+06</td>\n      <td>5.962838e+06</td>\n      <td>5.962838e+06</td>\n      <td>5.962838e+06</td>\n      <td>5.962838e+06</td>\n      <td>5.962838e+06</td>\n      <td>...</td>\n      <td>5.962838e+06</td>\n      <td>5.962838e+06</td>\n      <td>5.962838e+06</td>\n      <td>5.962838e+06</td>\n      <td>5.962838e+06</td>\n      <td>5.962838e+06</td>\n      <td>5.962838e+06</td>\n      <td>5.962838e+06</td>\n      <td>5.962838e+06</td>\n      <td>5.962838e+06</td>\n    </tr>\n    <tr>\n      <th>mean</th>\n      <td>1.234933e+06</td>\n      <td>4.033799e-01</td>\n      <td>1.664466e+00</td>\n      <td>2.580417e+01</td>\n      <td>5.177870e-01</td>\n      <td>2.976015e+01</td>\n      <td>1.802833e-04</td>\n      <td>2.581657e-03</td>\n      <td>7.848612e-05</td>\n      <td>5.433654e-05</td>\n      <td>...</td>\n      <td>8.217564e-06</td>\n      <td>1.844759e-06</td>\n      <td>2.850991e-06</td>\n      <td>1.509348e-06</td>\n      <td>2.850991e-06</td>\n      <td>2.850991e-06</td>\n      <td>2.683286e-06</td>\n      <td>2.850991e-06</td>\n      <td>3.270255e-05</td>\n      <td>1.324872e-05</td>\n    </tr>\n    <tr>\n      <th>std</th>\n      <td>1.622931e+05</td>\n      <td>4.905758e-01</td>\n      <td>5.483806e-01</td>\n      <td>1.360314e+01</td>\n      <td>4.996836e-01</td>\n      <td>1.198007e+01</td>\n      <td>1.342575e-02</td>\n      <td>5.074438e-02</td>\n      <td>8.858892e-03</td>\n      <td>7.371133e-03</td>\n      <td>...</td>\n      <td>2.866618e-03</td>\n      <td>1.358218e-03</td>\n      <td>1.688486e-03</td>\n      <td>1.228555e-03</td>\n      <td>1.688486e-03</td>\n      <td>1.688486e-03</td>\n      <td>1.638072e-03</td>\n      <td>1.688486e-03</td>\n      <td>5.718521e-03</td>\n      <td>3.639856e-03</td>\n    </tr>\n    <tr>\n      <th>min</th>\n      <td>1.589100e+04</td>\n      <td>0.000000e+00</td>\n      <td>0.000000e+00</td>\n      <td>-1.000000e+00</td>\n      <td>0.000000e+00</td>\n      <td>2.000000e+00</td>\n      <td>0.000000e+00</td>\n      <td>0.000000e+00</td>\n      <td>0.000000e+00</td>\n      <td>0.000000e+00</td>\n      <td>...</td>\n      <td>0.000000e+00</td>\n      <td>0.000000e+00</td>\n      <td>0.000000e+00</td>\n      <td>0.000000e+00</td>\n      <td>0.000000e+00</td>\n      <td>0.000000e+00</td>\n      <td>0.000000e+00</td>\n      <td>0.000000e+00</td>\n      <td>0.000000e+00</td>\n      <td>0.000000e+00</td>\n    </tr>\n    <tr>\n      <th>25%</th>\n      <td>1.112533e+06</td>\n      <td>0.000000e+00</td>\n      <td>1.000000e+00</td>\n      <td>1.300000e+01</td>\n      <td>0.000000e+00</td>\n      <td>2.200000e+01</td>\n      <td>0.000000e+00</td>\n      <td>0.000000e+00</td>\n      <td>0.000000e+00</td>\n      <td>0.000000e+00</td>\n      <td>...</td>\n      <td>0.000000e+00</td>\n      <td>0.000000e+00</td>\n      <td>0.000000e+00</td>\n      <td>0.000000e+00</td>\n      <td>0.000000e+00</td>\n      <td>0.000000e+00</td>\n      <td>0.000000e+00</td>\n      <td>0.000000e+00</td>\n      <td>0.000000e+00</td>\n      <td>0.000000e+00</td>\n    </tr>\n    <tr>\n      <th>50%</th>\n      <td>1.231097e+06</td>\n      <td>0.000000e+00</td>\n      <td>2.000000e+00</td>\n      <td>2.800000e+01</td>\n      <td>1.000000e+00</td>\n      <td>2.500000e+01</td>\n      <td>0.000000e+00</td>\n      <td>0.000000e+00</td>\n      <td>0.000000e+00</td>\n      <td>0.000000e+00</td>\n      <td>...</td>\n      <td>0.000000e+00</td>\n      <td>0.000000e+00</td>\n      <td>0.000000e+00</td>\n      <td>0.000000e+00</td>\n      <td>0.000000e+00</td>\n      <td>0.000000e+00</td>\n      <td>0.000000e+00</td>\n      <td>0.000000e+00</td>\n      <td>0.000000e+00</td>\n      <td>0.000000e+00</td>\n    </tr>\n    <tr>\n      <th>75%</th>\n      <td>1.352340e+06</td>\n      <td>1.000000e+00</td>\n      <td>2.000000e+00</td>\n      <td>3.600000e+01</td>\n      <td>1.000000e+00</td>\n      <td>3.400000e+01</td>\n      <td>0.000000e+00</td>\n      <td>0.000000e+00</td>\n      <td>0.000000e+00</td>\n      <td>0.000000e+00</td>\n      <td>...</td>\n      <td>0.000000e+00</td>\n      <td>0.000000e+00</td>\n      <td>0.000000e+00</td>\n      <td>0.000000e+00</td>\n      <td>0.000000e+00</td>\n      <td>0.000000e+00</td>\n      <td>0.000000e+00</td>\n      <td>0.000000e+00</td>\n      <td>0.000000e+00</td>\n      <td>0.000000e+00</td>\n    </tr>\n    <tr>\n      <th>max</th>\n      <td>1.553689e+06</td>\n      <td>1.000000e+00</td>\n      <td>3.000000e+00</td>\n      <td>5.200000e+01</td>\n      <td>1.000000e+00</td>\n      <td>1.050000e+02</td>\n      <td>1.000000e+00</td>\n      <td>1.000000e+00</td>\n      <td>1.000000e+00</td>\n      <td>1.000000e+00</td>\n      <td>...</td>\n      <td>1.000000e+00</td>\n      <td>1.000000e+00</td>\n      <td>1.000000e+00</td>\n      <td>1.000000e+00</td>\n      <td>1.000000e+00</td>\n      <td>1.000000e+00</td>\n      <td>1.000000e+00</td>\n      <td>1.000000e+00</td>\n      <td>1.000000e+00</td>\n      <td>1.000000e+00</td>\n    </tr>\n  </tbody>\n</table>\n<p>8 rows × 73 columns</p>\n</div>"
     },
     "execution_count": 146,
     "metadata": {},
     "output_type": "execute_result"
    }
   ],
   "source": [
    "df.describe()"
   ],
   "metadata": {
    "collapsed": false,
    "pycharm": {
     "name": "#%%\n"
    }
   }
  },
  {
   "cell_type": "code",
   "execution_count": 147,
   "outputs": [
    {
     "name": "stdout",
     "output_type": "stream",
     "text": [
      "<class 'pandas.core.frame.DataFrame'>\n",
      "RangeIndex: 5962838 entries, 0 to 5962837\n",
      "Data columns (total 74 columns):\n",
      " #   Column                Dtype         \n",
      "---  ------                -----         \n",
      " 0   pk_cid                int64         \n",
      " 1   pk_partition          datetime64[ns]\n",
      " 2   active_customer       int8          \n",
      " 3   segment               int8          \n",
      " 4   region_code           int8          \n",
      " 5   gender                int8          \n",
      " 6   age                   int8          \n",
      " 7   deceased              int8          \n",
      " 8   short_term_deposit    int8          \n",
      " 9   loans                 int8          \n",
      " 10  mortgage              int8          \n",
      " 11  funds                 int8          \n",
      " 12  securities            int8          \n",
      " 13  long_term_deposit     int8          \n",
      " 14  em_account_pp         int8          \n",
      " 15  credit_card           int8          \n",
      " 16  payroll               int8          \n",
      " 17  pension_plan          int8          \n",
      " 18  payroll_account       int8          \n",
      " 19  emc_account           int8          \n",
      " 20  debit_card            int8          \n",
      " 21  em_account_p          int8          \n",
      " 22  em_acount             int8          \n",
      " 23  entry_date_month      int8          \n",
      " 24  entry_date_year       int8          \n",
      " 25  entry_date_day        int8          \n",
      " 26  entry_date_week       int8          \n",
      " 27  entry_date_weekday    int8          \n",
      " 28  entry_date_trim       int8          \n",
      " 29  salary                float64       \n",
      " 30  entry_channel_KHE     int8          \n",
      " 31  entry_channel_KHQ     int8          \n",
      " 32  entry_channel_OTHERS  int8          \n",
      " 33  country_id_AR         int8          \n",
      " 34  country_id_AT         int8          \n",
      " 35  country_id_BE         int8          \n",
      " 36  country_id_BR         int8          \n",
      " 37  country_id_CA         int8          \n",
      " 38  country_id_CH         int8          \n",
      " 39  country_id_CI         int8          \n",
      " 40  country_id_CL         int8          \n",
      " 41  country_id_CM         int8          \n",
      " 42  country_id_CN         int8          \n",
      " 43  country_id_CO         int8          \n",
      " 44  country_id_DE         int8          \n",
      " 45  country_id_DJ         int8          \n",
      " 46  country_id_DO         int8          \n",
      " 47  country_id_DZ         int8          \n",
      " 48  country_id_ES         int8          \n",
      " 49  country_id_ET         int8          \n",
      " 50  country_id_FR         int8          \n",
      " 51  country_id_GA         int8          \n",
      " 52  country_id_GB         int8          \n",
      " 53  country_id_GT         int8          \n",
      " 54  country_id_HU         int8          \n",
      " 55  country_id_IE         int8          \n",
      " 56  country_id_IT         int8          \n",
      " 57  country_id_JM         int8          \n",
      " 58  country_id_LU         int8          \n",
      " 59  country_id_MA         int8          \n",
      " 60  country_id_MR         int8          \n",
      " 61  country_id_MX         int8          \n",
      " 62  country_id_NO         int8          \n",
      " 63  country_id_PE         int8          \n",
      " 64  country_id_PL         int8          \n",
      " 65  country_id_PT         int8          \n",
      " 66  country_id_QA         int8          \n",
      " 67  country_id_RO         int8          \n",
      " 68  country_id_RU         int8          \n",
      " 69  country_id_SA         int8          \n",
      " 70  country_id_SE         int8          \n",
      " 71  country_id_SN         int8          \n",
      " 72  country_id_US         int8          \n",
      " 73  country_id_VE         int8          \n",
      "dtypes: datetime64[ns](1), float64(1), int64(1), int8(71)\n",
      "memory usage: 540.2 MB\n"
     ]
    }
   ],
   "source": [
    "df.info()"
   ],
   "metadata": {
    "collapsed": false,
    "pycharm": {
     "name": "#%%\n"
    }
   }
  },
  {
   "cell_type": "code",
   "execution_count": 148,
   "outputs": [
    {
     "name": "stdout",
     "output_type": "stream",
     "text": [
      "{'pk_cid': dtype('int64'), 'pk_partition': dtype('<M8[ns]'), 'active_customer': dtype('int8'), 'segment': dtype('int8'), 'region_code': dtype('int8'), 'gender': dtype('int8'), 'age': dtype('int8'), 'deceased': dtype('int8'), 'short_term_deposit': dtype('int8'), 'loans': dtype('int8'), 'mortgage': dtype('int8'), 'funds': dtype('int8'), 'securities': dtype('int8'), 'long_term_deposit': dtype('int8'), 'em_account_pp': dtype('int8'), 'credit_card': dtype('int8'), 'payroll': dtype('int8'), 'pension_plan': dtype('int8'), 'payroll_account': dtype('int8'), 'emc_account': dtype('int8'), 'debit_card': dtype('int8'), 'em_account_p': dtype('int8'), 'em_acount': dtype('int8'), 'entry_date_month': dtype('int8'), 'entry_date_year': dtype('int8'), 'entry_date_day': dtype('int8'), 'entry_date_week': dtype('int8'), 'entry_date_weekday': dtype('int8'), 'entry_date_trim': dtype('int8'), 'salary': dtype('float64'), 'entry_channel_KHE': dtype('int8'), 'entry_channel_KHQ': dtype('int8'), 'entry_channel_OTHERS': dtype('int8'), 'country_id_AR': dtype('int8'), 'country_id_AT': dtype('int8'), 'country_id_BE': dtype('int8'), 'country_id_BR': dtype('int8'), 'country_id_CA': dtype('int8'), 'country_id_CH': dtype('int8'), 'country_id_CI': dtype('int8'), 'country_id_CL': dtype('int8'), 'country_id_CM': dtype('int8'), 'country_id_CN': dtype('int8'), 'country_id_CO': dtype('int8'), 'country_id_DE': dtype('int8'), 'country_id_DJ': dtype('int8'), 'country_id_DO': dtype('int8'), 'country_id_DZ': dtype('int8'), 'country_id_ES': dtype('int8'), 'country_id_ET': dtype('int8'), 'country_id_FR': dtype('int8'), 'country_id_GA': dtype('int8'), 'country_id_GB': dtype('int8'), 'country_id_GT': dtype('int8'), 'country_id_HU': dtype('int8'), 'country_id_IE': dtype('int8'), 'country_id_IT': dtype('int8'), 'country_id_JM': dtype('int8'), 'country_id_LU': dtype('int8'), 'country_id_MA': dtype('int8'), 'country_id_MR': dtype('int8'), 'country_id_MX': dtype('int8'), 'country_id_NO': dtype('int8'), 'country_id_PE': dtype('int8'), 'country_id_PL': dtype('int8'), 'country_id_PT': dtype('int8'), 'country_id_QA': dtype('int8'), 'country_id_RO': dtype('int8'), 'country_id_RU': dtype('int8'), 'country_id_SA': dtype('int8'), 'country_id_SE': dtype('int8'), 'country_id_SN': dtype('int8'), 'country_id_US': dtype('int8'), 'country_id_VE': dtype('int8')}\n"
     ]
    }
   ],
   "source": [
    "print(df.dtypes.to_dict())"
   ],
   "metadata": {
    "collapsed": false,
    "pycharm": {
     "name": "#%%\n"
    }
   }
  },
  {
   "cell_type": "markdown",
   "source": [
    "## Filter data"
   ],
   "metadata": {
    "collapsed": false,
    "pycharm": {
     "name": "#%% md\n"
    }
   }
  },
  {
   "cell_type": "code",
   "execution_count": 149,
   "outputs": [
    {
     "data": {
      "text/plain": "          pk_cid pk_partition  em_acount\n0          15891   2018-07-28          1\n1          15891   2018-08-28          0\n2          16063   2018-11-28          0\n3          16063   2018-12-28          0\n4          16063   2019-01-28          0\n...          ...          ...        ...\n5962833  1553685   2019-05-28          0\n5962834  1553686   2019-05-28          0\n5962835  1553687   2019-05-28          0\n5962836  1553688   2019-05-28          0\n5962837  1553689   2019-05-28          0\n\n[5962838 rows x 3 columns]",
      "text/html": "<div>\n<style scoped>\n    .dataframe tbody tr th:only-of-type {\n        vertical-align: middle;\n    }\n\n    .dataframe tbody tr th {\n        vertical-align: top;\n    }\n\n    .dataframe thead th {\n        text-align: right;\n    }\n</style>\n<table border=\"1\" class=\"dataframe\">\n  <thead>\n    <tr style=\"text-align: right;\">\n      <th></th>\n      <th>pk_cid</th>\n      <th>pk_partition</th>\n      <th>em_acount</th>\n    </tr>\n  </thead>\n  <tbody>\n    <tr>\n      <th>0</th>\n      <td>15891</td>\n      <td>2018-07-28</td>\n      <td>1</td>\n    </tr>\n    <tr>\n      <th>1</th>\n      <td>15891</td>\n      <td>2018-08-28</td>\n      <td>0</td>\n    </tr>\n    <tr>\n      <th>2</th>\n      <td>16063</td>\n      <td>2018-11-28</td>\n      <td>0</td>\n    </tr>\n    <tr>\n      <th>3</th>\n      <td>16063</td>\n      <td>2018-12-28</td>\n      <td>0</td>\n    </tr>\n    <tr>\n      <th>4</th>\n      <td>16063</td>\n      <td>2019-01-28</td>\n      <td>0</td>\n    </tr>\n    <tr>\n      <th>...</th>\n      <td>...</td>\n      <td>...</td>\n      <td>...</td>\n    </tr>\n    <tr>\n      <th>5962833</th>\n      <td>1553685</td>\n      <td>2019-05-28</td>\n      <td>0</td>\n    </tr>\n    <tr>\n      <th>5962834</th>\n      <td>1553686</td>\n      <td>2019-05-28</td>\n      <td>0</td>\n    </tr>\n    <tr>\n      <th>5962835</th>\n      <td>1553687</td>\n      <td>2019-05-28</td>\n      <td>0</td>\n    </tr>\n    <tr>\n      <th>5962836</th>\n      <td>1553688</td>\n      <td>2019-05-28</td>\n      <td>0</td>\n    </tr>\n    <tr>\n      <th>5962837</th>\n      <td>1553689</td>\n      <td>2019-05-28</td>\n      <td>0</td>\n    </tr>\n  </tbody>\n</table>\n<p>5962838 rows × 3 columns</p>\n</div>"
     },
     "execution_count": 149,
     "metadata": {},
     "output_type": "execute_result"
    }
   ],
   "source": [
    "df[[\"pk_cid\", \"pk_partition\", TARGET]]"
   ],
   "metadata": {
    "collapsed": false,
    "pycharm": {
     "name": "#%%\n"
    }
   }
  },
  {
   "cell_type": "code",
   "execution_count": 150,
   "outputs": [],
   "source": [
    "# gb_df = df.groupby(\"pk_cid\")\n",
    "#\n",
    "# gb_df.agg(\n",
    "#     em_acount_count=(\"em_acount\", sum),\n",
    "#     len=(\"em_acount\", len)\n",
    "# )"
   ],
   "metadata": {
    "collapsed": false,
    "pycharm": {
     "name": "#%%\n"
    }
   }
  },
  {
   "cell_type": "code",
   "execution_count": 151,
   "outputs": [
    {
     "data": {
      "text/plain": "      pk_cid pk_partition  em_acount\n1541   46327   2018-01-28          0\n1542   46327   2018-02-28          0\n1543   46327   2018-03-28          0\n1544   46327   2018-04-28          0\n1545   46327   2018-05-28          0\n1546   46327   2018-06-28          0\n1547   46327   2018-07-28          0\n1548   46327   2018-08-28          0\n1549   46327   2018-09-28          0\n1550   46327   2018-10-28          0\n1551   46327   2018-11-28          0\n1552   46327   2018-12-28          0\n1553   46327   2019-01-28          0\n1554   46327   2019-02-28          0\n1555   46327   2019-03-28          0\n1556   46327   2019-04-28          0\n1557   46327   2019-05-28          0",
      "text/html": "<div>\n<style scoped>\n    .dataframe tbody tr th:only-of-type {\n        vertical-align: middle;\n    }\n\n    .dataframe tbody tr th {\n        vertical-align: top;\n    }\n\n    .dataframe thead th {\n        text-align: right;\n    }\n</style>\n<table border=\"1\" class=\"dataframe\">\n  <thead>\n    <tr style=\"text-align: right;\">\n      <th></th>\n      <th>pk_cid</th>\n      <th>pk_partition</th>\n      <th>em_acount</th>\n    </tr>\n  </thead>\n  <tbody>\n    <tr>\n      <th>1541</th>\n      <td>46327</td>\n      <td>2018-01-28</td>\n      <td>0</td>\n    </tr>\n    <tr>\n      <th>1542</th>\n      <td>46327</td>\n      <td>2018-02-28</td>\n      <td>0</td>\n    </tr>\n    <tr>\n      <th>1543</th>\n      <td>46327</td>\n      <td>2018-03-28</td>\n      <td>0</td>\n    </tr>\n    <tr>\n      <th>1544</th>\n      <td>46327</td>\n      <td>2018-04-28</td>\n      <td>0</td>\n    </tr>\n    <tr>\n      <th>1545</th>\n      <td>46327</td>\n      <td>2018-05-28</td>\n      <td>0</td>\n    </tr>\n    <tr>\n      <th>1546</th>\n      <td>46327</td>\n      <td>2018-06-28</td>\n      <td>0</td>\n    </tr>\n    <tr>\n      <th>1547</th>\n      <td>46327</td>\n      <td>2018-07-28</td>\n      <td>0</td>\n    </tr>\n    <tr>\n      <th>1548</th>\n      <td>46327</td>\n      <td>2018-08-28</td>\n      <td>0</td>\n    </tr>\n    <tr>\n      <th>1549</th>\n      <td>46327</td>\n      <td>2018-09-28</td>\n      <td>0</td>\n    </tr>\n    <tr>\n      <th>1550</th>\n      <td>46327</td>\n      <td>2018-10-28</td>\n      <td>0</td>\n    </tr>\n    <tr>\n      <th>1551</th>\n      <td>46327</td>\n      <td>2018-11-28</td>\n      <td>0</td>\n    </tr>\n    <tr>\n      <th>1552</th>\n      <td>46327</td>\n      <td>2018-12-28</td>\n      <td>0</td>\n    </tr>\n    <tr>\n      <th>1553</th>\n      <td>46327</td>\n      <td>2019-01-28</td>\n      <td>0</td>\n    </tr>\n    <tr>\n      <th>1554</th>\n      <td>46327</td>\n      <td>2019-02-28</td>\n      <td>0</td>\n    </tr>\n    <tr>\n      <th>1555</th>\n      <td>46327</td>\n      <td>2019-03-28</td>\n      <td>0</td>\n    </tr>\n    <tr>\n      <th>1556</th>\n      <td>46327</td>\n      <td>2019-04-28</td>\n      <td>0</td>\n    </tr>\n    <tr>\n      <th>1557</th>\n      <td>46327</td>\n      <td>2019-05-28</td>\n      <td>0</td>\n    </tr>\n  </tbody>\n</table>\n</div>"
     },
     "execution_count": 151,
     "metadata": {},
     "output_type": "execute_result"
    }
   ],
   "source": [
    "dfilter = df[df[\"pk_cid\"] == 46327]  #21719\n",
    "dfilter[[\"pk_cid\", \"pk_partition\", TARGET]]"
   ],
   "metadata": {
    "collapsed": false,
    "pycharm": {
     "name": "#%%\n"
    }
   }
  },
  {
   "cell_type": "code",
   "execution_count": 152,
   "outputs": [
    {
     "data": {
      "text/plain": "      pk_cid pk_partition  active_customer  segment  region_code  gender  age  \\\n1541   46327   2018-01-28                1        2           28       1   65   \n1542   46327   2018-02-28                1        2           28       1   65   \n1543   46327   2018-03-28                1        2           28       1   65   \n1544   46327   2018-04-28                1        2           28       1   65   \n1545   46327   2018-05-28                1        2           28       1   65   \n1546   46327   2018-06-28                1        2           28       1   65   \n1547   46327   2018-07-28                1        2           28       1   65   \n1548   46327   2018-08-28                1        2           28       1   66   \n1549   46327   2018-09-28                1        2           28       1   66   \n1550   46327   2018-10-28                1        2           28       1   66   \n1551   46327   2018-11-28                1        2           28       1   66   \n1552   46327   2018-12-28                1        2           28       1   66   \n1553   46327   2019-01-28                1        2           28       1   66   \n1554   46327   2019-02-28                1        2           28       1   66   \n1555   46327   2019-03-28                1        2           28       1   66   \n1556   46327   2019-04-28                1        2           28       1   66   \n1557   46327   2019-05-28                1        2           28       1   66   \n\n      deceased  short_term_deposit  loans  ...  country_id_PL  country_id_PT  \\\n1541         0                   0      0  ...              0              0   \n1542         0                   0      0  ...              0              0   \n1543         0                   0      0  ...              0              0   \n1544         0                   0      0  ...              0              0   \n1545         0                   0      0  ...              0              0   \n1546         0                   0      0  ...              0              0   \n1547         0                   0      0  ...              0              0   \n1548         0                   0      0  ...              0              0   \n1549         0                   0      0  ...              0              0   \n1550         0                   0      0  ...              0              0   \n1551         0                   0      0  ...              0              0   \n1552         0                   0      0  ...              0              0   \n1553         0                   0      0  ...              0              0   \n1554         0                   0      0  ...              0              0   \n1555         0                   0      0  ...              0              0   \n1556         0                   0      0  ...              0              0   \n1557         0                   0      0  ...              0              0   \n\n      country_id_QA  country_id_RO  country_id_RU  country_id_SA  \\\n1541              0              0              0              0   \n1542              0              0              0              0   \n1543              0              0              0              0   \n1544              0              0              0              0   \n1545              0              0              0              0   \n1546              0              0              0              0   \n1547              0              0              0              0   \n1548              0              0              0              0   \n1549              0              0              0              0   \n1550              0              0              0              0   \n1551              0              0              0              0   \n1552              0              0              0              0   \n1553              0              0              0              0   \n1554              0              0              0              0   \n1555              0              0              0              0   \n1556              0              0              0              0   \n1557              0              0              0              0   \n\n      country_id_SE  country_id_SN  country_id_US  country_id_VE  \n1541              0              0              0              0  \n1542              0              0              0              0  \n1543              0              0              0              0  \n1544              0              0              0              0  \n1545              0              0              0              0  \n1546              0              0              0              0  \n1547              0              0              0              0  \n1548              0              0              0              0  \n1549              0              0              0              0  \n1550              0              0              0              0  \n1551              0              0              0              0  \n1552              0              0              0              0  \n1553              0              0              0              0  \n1554              0              0              0              0  \n1555              0              0              0              0  \n1556              0              0              0              0  \n1557              0              0              0              0  \n\n[17 rows x 74 columns]",
      "text/html": "<div>\n<style scoped>\n    .dataframe tbody tr th:only-of-type {\n        vertical-align: middle;\n    }\n\n    .dataframe tbody tr th {\n        vertical-align: top;\n    }\n\n    .dataframe thead th {\n        text-align: right;\n    }\n</style>\n<table border=\"1\" class=\"dataframe\">\n  <thead>\n    <tr style=\"text-align: right;\">\n      <th></th>\n      <th>pk_cid</th>\n      <th>pk_partition</th>\n      <th>active_customer</th>\n      <th>segment</th>\n      <th>region_code</th>\n      <th>gender</th>\n      <th>age</th>\n      <th>deceased</th>\n      <th>short_term_deposit</th>\n      <th>loans</th>\n      <th>...</th>\n      <th>country_id_PL</th>\n      <th>country_id_PT</th>\n      <th>country_id_QA</th>\n      <th>country_id_RO</th>\n      <th>country_id_RU</th>\n      <th>country_id_SA</th>\n      <th>country_id_SE</th>\n      <th>country_id_SN</th>\n      <th>country_id_US</th>\n      <th>country_id_VE</th>\n    </tr>\n  </thead>\n  <tbody>\n    <tr>\n      <th>1541</th>\n      <td>46327</td>\n      <td>2018-01-28</td>\n      <td>1</td>\n      <td>2</td>\n      <td>28</td>\n      <td>1</td>\n      <td>65</td>\n      <td>0</td>\n      <td>0</td>\n      <td>0</td>\n      <td>...</td>\n      <td>0</td>\n      <td>0</td>\n      <td>0</td>\n      <td>0</td>\n      <td>0</td>\n      <td>0</td>\n      <td>0</td>\n      <td>0</td>\n      <td>0</td>\n      <td>0</td>\n    </tr>\n    <tr>\n      <th>1542</th>\n      <td>46327</td>\n      <td>2018-02-28</td>\n      <td>1</td>\n      <td>2</td>\n      <td>28</td>\n      <td>1</td>\n      <td>65</td>\n      <td>0</td>\n      <td>0</td>\n      <td>0</td>\n      <td>...</td>\n      <td>0</td>\n      <td>0</td>\n      <td>0</td>\n      <td>0</td>\n      <td>0</td>\n      <td>0</td>\n      <td>0</td>\n      <td>0</td>\n      <td>0</td>\n      <td>0</td>\n    </tr>\n    <tr>\n      <th>1543</th>\n      <td>46327</td>\n      <td>2018-03-28</td>\n      <td>1</td>\n      <td>2</td>\n      <td>28</td>\n      <td>1</td>\n      <td>65</td>\n      <td>0</td>\n      <td>0</td>\n      <td>0</td>\n      <td>...</td>\n      <td>0</td>\n      <td>0</td>\n      <td>0</td>\n      <td>0</td>\n      <td>0</td>\n      <td>0</td>\n      <td>0</td>\n      <td>0</td>\n      <td>0</td>\n      <td>0</td>\n    </tr>\n    <tr>\n      <th>1544</th>\n      <td>46327</td>\n      <td>2018-04-28</td>\n      <td>1</td>\n      <td>2</td>\n      <td>28</td>\n      <td>1</td>\n      <td>65</td>\n      <td>0</td>\n      <td>0</td>\n      <td>0</td>\n      <td>...</td>\n      <td>0</td>\n      <td>0</td>\n      <td>0</td>\n      <td>0</td>\n      <td>0</td>\n      <td>0</td>\n      <td>0</td>\n      <td>0</td>\n      <td>0</td>\n      <td>0</td>\n    </tr>\n    <tr>\n      <th>1545</th>\n      <td>46327</td>\n      <td>2018-05-28</td>\n      <td>1</td>\n      <td>2</td>\n      <td>28</td>\n      <td>1</td>\n      <td>65</td>\n      <td>0</td>\n      <td>0</td>\n      <td>0</td>\n      <td>...</td>\n      <td>0</td>\n      <td>0</td>\n      <td>0</td>\n      <td>0</td>\n      <td>0</td>\n      <td>0</td>\n      <td>0</td>\n      <td>0</td>\n      <td>0</td>\n      <td>0</td>\n    </tr>\n    <tr>\n      <th>1546</th>\n      <td>46327</td>\n      <td>2018-06-28</td>\n      <td>1</td>\n      <td>2</td>\n      <td>28</td>\n      <td>1</td>\n      <td>65</td>\n      <td>0</td>\n      <td>0</td>\n      <td>0</td>\n      <td>...</td>\n      <td>0</td>\n      <td>0</td>\n      <td>0</td>\n      <td>0</td>\n      <td>0</td>\n      <td>0</td>\n      <td>0</td>\n      <td>0</td>\n      <td>0</td>\n      <td>0</td>\n    </tr>\n    <tr>\n      <th>1547</th>\n      <td>46327</td>\n      <td>2018-07-28</td>\n      <td>1</td>\n      <td>2</td>\n      <td>28</td>\n      <td>1</td>\n      <td>65</td>\n      <td>0</td>\n      <td>0</td>\n      <td>0</td>\n      <td>...</td>\n      <td>0</td>\n      <td>0</td>\n      <td>0</td>\n      <td>0</td>\n      <td>0</td>\n      <td>0</td>\n      <td>0</td>\n      <td>0</td>\n      <td>0</td>\n      <td>0</td>\n    </tr>\n    <tr>\n      <th>1548</th>\n      <td>46327</td>\n      <td>2018-08-28</td>\n      <td>1</td>\n      <td>2</td>\n      <td>28</td>\n      <td>1</td>\n      <td>66</td>\n      <td>0</td>\n      <td>0</td>\n      <td>0</td>\n      <td>...</td>\n      <td>0</td>\n      <td>0</td>\n      <td>0</td>\n      <td>0</td>\n      <td>0</td>\n      <td>0</td>\n      <td>0</td>\n      <td>0</td>\n      <td>0</td>\n      <td>0</td>\n    </tr>\n    <tr>\n      <th>1549</th>\n      <td>46327</td>\n      <td>2018-09-28</td>\n      <td>1</td>\n      <td>2</td>\n      <td>28</td>\n      <td>1</td>\n      <td>66</td>\n      <td>0</td>\n      <td>0</td>\n      <td>0</td>\n      <td>...</td>\n      <td>0</td>\n      <td>0</td>\n      <td>0</td>\n      <td>0</td>\n      <td>0</td>\n      <td>0</td>\n      <td>0</td>\n      <td>0</td>\n      <td>0</td>\n      <td>0</td>\n    </tr>\n    <tr>\n      <th>1550</th>\n      <td>46327</td>\n      <td>2018-10-28</td>\n      <td>1</td>\n      <td>2</td>\n      <td>28</td>\n      <td>1</td>\n      <td>66</td>\n      <td>0</td>\n      <td>0</td>\n      <td>0</td>\n      <td>...</td>\n      <td>0</td>\n      <td>0</td>\n      <td>0</td>\n      <td>0</td>\n      <td>0</td>\n      <td>0</td>\n      <td>0</td>\n      <td>0</td>\n      <td>0</td>\n      <td>0</td>\n    </tr>\n    <tr>\n      <th>1551</th>\n      <td>46327</td>\n      <td>2018-11-28</td>\n      <td>1</td>\n      <td>2</td>\n      <td>28</td>\n      <td>1</td>\n      <td>66</td>\n      <td>0</td>\n      <td>0</td>\n      <td>0</td>\n      <td>...</td>\n      <td>0</td>\n      <td>0</td>\n      <td>0</td>\n      <td>0</td>\n      <td>0</td>\n      <td>0</td>\n      <td>0</td>\n      <td>0</td>\n      <td>0</td>\n      <td>0</td>\n    </tr>\n    <tr>\n      <th>1552</th>\n      <td>46327</td>\n      <td>2018-12-28</td>\n      <td>1</td>\n      <td>2</td>\n      <td>28</td>\n      <td>1</td>\n      <td>66</td>\n      <td>0</td>\n      <td>0</td>\n      <td>0</td>\n      <td>...</td>\n      <td>0</td>\n      <td>0</td>\n      <td>0</td>\n      <td>0</td>\n      <td>0</td>\n      <td>0</td>\n      <td>0</td>\n      <td>0</td>\n      <td>0</td>\n      <td>0</td>\n    </tr>\n    <tr>\n      <th>1553</th>\n      <td>46327</td>\n      <td>2019-01-28</td>\n      <td>1</td>\n      <td>2</td>\n      <td>28</td>\n      <td>1</td>\n      <td>66</td>\n      <td>0</td>\n      <td>0</td>\n      <td>0</td>\n      <td>...</td>\n      <td>0</td>\n      <td>0</td>\n      <td>0</td>\n      <td>0</td>\n      <td>0</td>\n      <td>0</td>\n      <td>0</td>\n      <td>0</td>\n      <td>0</td>\n      <td>0</td>\n    </tr>\n    <tr>\n      <th>1554</th>\n      <td>46327</td>\n      <td>2019-02-28</td>\n      <td>1</td>\n      <td>2</td>\n      <td>28</td>\n      <td>1</td>\n      <td>66</td>\n      <td>0</td>\n      <td>0</td>\n      <td>0</td>\n      <td>...</td>\n      <td>0</td>\n      <td>0</td>\n      <td>0</td>\n      <td>0</td>\n      <td>0</td>\n      <td>0</td>\n      <td>0</td>\n      <td>0</td>\n      <td>0</td>\n      <td>0</td>\n    </tr>\n    <tr>\n      <th>1555</th>\n      <td>46327</td>\n      <td>2019-03-28</td>\n      <td>1</td>\n      <td>2</td>\n      <td>28</td>\n      <td>1</td>\n      <td>66</td>\n      <td>0</td>\n      <td>0</td>\n      <td>0</td>\n      <td>...</td>\n      <td>0</td>\n      <td>0</td>\n      <td>0</td>\n      <td>0</td>\n      <td>0</td>\n      <td>0</td>\n      <td>0</td>\n      <td>0</td>\n      <td>0</td>\n      <td>0</td>\n    </tr>\n    <tr>\n      <th>1556</th>\n      <td>46327</td>\n      <td>2019-04-28</td>\n      <td>1</td>\n      <td>2</td>\n      <td>28</td>\n      <td>1</td>\n      <td>66</td>\n      <td>0</td>\n      <td>0</td>\n      <td>0</td>\n      <td>...</td>\n      <td>0</td>\n      <td>0</td>\n      <td>0</td>\n      <td>0</td>\n      <td>0</td>\n      <td>0</td>\n      <td>0</td>\n      <td>0</td>\n      <td>0</td>\n      <td>0</td>\n    </tr>\n    <tr>\n      <th>1557</th>\n      <td>46327</td>\n      <td>2019-05-28</td>\n      <td>1</td>\n      <td>2</td>\n      <td>28</td>\n      <td>1</td>\n      <td>66</td>\n      <td>0</td>\n      <td>0</td>\n      <td>0</td>\n      <td>...</td>\n      <td>0</td>\n      <td>0</td>\n      <td>0</td>\n      <td>0</td>\n      <td>0</td>\n      <td>0</td>\n      <td>0</td>\n      <td>0</td>\n      <td>0</td>\n      <td>0</td>\n    </tr>\n  </tbody>\n</table>\n<p>17 rows × 74 columns</p>\n</div>"
     },
     "execution_count": 152,
     "metadata": {},
     "output_type": "execute_result"
    }
   ],
   "source": [
    "dfilter"
   ],
   "metadata": {
    "collapsed": false,
    "pycharm": {
     "name": "#%%\n"
    }
   }
  },
  {
   "cell_type": "code",
   "execution_count": 210,
   "outputs": [],
   "source": [
    "class EasyMoneyFilter(BaseEstimator, TransformerMixin):\n",
    "\n",
    "    def __init__(self, target: str, group_by=\"pk_cid\", sort_value=None):\n",
    "        if sort_value is None:\n",
    "            sort_value = [\"pk_cid\", \"pk_partition\"]\n",
    "        self.target = target\n",
    "        self.group_by = group_by\n",
    "        self.sort_values = sort_value\n",
    "\n",
    "    def fit(self, X, y=None):\n",
    "        return self\n",
    "\n",
    "    def transform(self, X, y=None):\n",
    "        return pd.concat([\n",
    "            self.get_fist_sales(X),\n",
    "            self.get_last_no_sales(X)\n",
    "        ]).sort_values(self.sort_values, ignore_index=True)\n",
    "\n",
    "    def get_fist_sales(self, X) -> pd.DataFrame:\n",
    "        first_sale = X.groupby([self.group_by, self.target]).first().reset_index()\n",
    "        return first_sale[first_sale[self.target] == 1]\n",
    "\n",
    "    def get_last_no_sales(self, X) -> pd.DataFrame:\n",
    "        last_no_sale = X.groupby([self.group_by, self.target]).last().reset_index()\n",
    "        return last_no_sale[last_no_sale[self.target] == 0]"
   ],
   "metadata": {
    "collapsed": false,
    "pycharm": {
     "name": "#%%\n"
    }
   }
  },
  {
   "cell_type": "code",
   "execution_count": 211,
   "outputs": [
    {
     "data": {
      "text/plain": "   pk_cid  em_acount pk_partition  active_customer  segment  region_code  \\\n0   15891          1   2018-07-28                1        0           28   \n1   15891          0   2018-08-28                0        1           28   \n2   16063          0   2019-05-28                0        1           28   \n3   16203          0   2018-12-28                0        0            8   \n4   16203          1   2019-01-28                1        1            8   \n5   16502          0   2018-09-28                0        0           28   \n6   16502          1   2018-10-28                1        1           28   \n7   17457          1   2018-01-28                1        1           28   \n8   17590          0   2019-05-28                1        1           28   \n9   17799          1   2018-01-28                1        1           28   \n\n   gender  age  deceased  short_term_deposit  ...  country_id_PL  \\\n0       1   59         0                   0  ...              0   \n1       1   59         0                   0  ...              0   \n2       1   62         0                   0  ...              0   \n3       0   70         0                   0  ...              0   \n4       0   70         0                   0  ...              0   \n5       1   57         0                   0  ...              0   \n6       1   58         0                   0  ...              0   \n7       1   53         0                   0  ...              0   \n8       0   55         0                   0  ...              0   \n9       1   46         0                   0  ...              0   \n\n   country_id_PT  country_id_QA  country_id_RO  country_id_RU  country_id_SA  \\\n0              0              0              0              0              0   \n1              0              0              0              0              0   \n2              0              0              0              0              0   \n3              0              0              0              0              0   \n4              0              0              0              0              0   \n5              0              0              0              0              0   \n6              0              0              0              0              0   \n7              0              0              0              0              0   \n8              0              0              0              0              0   \n9              0              0              0              0              0   \n\n   country_id_SE  country_id_SN  country_id_US  country_id_VE  \n0              0              0              0              0  \n1              0              0              0              0  \n2              0              0              0              0  \n3              0              0              0              0  \n4              0              0              0              0  \n5              0              0              0              0  \n6              0              0              0              0  \n7              0              0              0              0  \n8              0              0              0              0  \n9              0              0              0              0  \n\n[10 rows x 74 columns]",
      "text/html": "<div>\n<style scoped>\n    .dataframe tbody tr th:only-of-type {\n        vertical-align: middle;\n    }\n\n    .dataframe tbody tr th {\n        vertical-align: top;\n    }\n\n    .dataframe thead th {\n        text-align: right;\n    }\n</style>\n<table border=\"1\" class=\"dataframe\">\n  <thead>\n    <tr style=\"text-align: right;\">\n      <th></th>\n      <th>pk_cid</th>\n      <th>em_acount</th>\n      <th>pk_partition</th>\n      <th>active_customer</th>\n      <th>segment</th>\n      <th>region_code</th>\n      <th>gender</th>\n      <th>age</th>\n      <th>deceased</th>\n      <th>short_term_deposit</th>\n      <th>...</th>\n      <th>country_id_PL</th>\n      <th>country_id_PT</th>\n      <th>country_id_QA</th>\n      <th>country_id_RO</th>\n      <th>country_id_RU</th>\n      <th>country_id_SA</th>\n      <th>country_id_SE</th>\n      <th>country_id_SN</th>\n      <th>country_id_US</th>\n      <th>country_id_VE</th>\n    </tr>\n  </thead>\n  <tbody>\n    <tr>\n      <th>0</th>\n      <td>15891</td>\n      <td>1</td>\n      <td>2018-07-28</td>\n      <td>1</td>\n      <td>0</td>\n      <td>28</td>\n      <td>1</td>\n      <td>59</td>\n      <td>0</td>\n      <td>0</td>\n      <td>...</td>\n      <td>0</td>\n      <td>0</td>\n      <td>0</td>\n      <td>0</td>\n      <td>0</td>\n      <td>0</td>\n      <td>0</td>\n      <td>0</td>\n      <td>0</td>\n      <td>0</td>\n    </tr>\n    <tr>\n      <th>1</th>\n      <td>15891</td>\n      <td>0</td>\n      <td>2018-08-28</td>\n      <td>0</td>\n      <td>1</td>\n      <td>28</td>\n      <td>1</td>\n      <td>59</td>\n      <td>0</td>\n      <td>0</td>\n      <td>...</td>\n      <td>0</td>\n      <td>0</td>\n      <td>0</td>\n      <td>0</td>\n      <td>0</td>\n      <td>0</td>\n      <td>0</td>\n      <td>0</td>\n      <td>0</td>\n      <td>0</td>\n    </tr>\n    <tr>\n      <th>2</th>\n      <td>16063</td>\n      <td>0</td>\n      <td>2019-05-28</td>\n      <td>0</td>\n      <td>1</td>\n      <td>28</td>\n      <td>1</td>\n      <td>62</td>\n      <td>0</td>\n      <td>0</td>\n      <td>...</td>\n      <td>0</td>\n      <td>0</td>\n      <td>0</td>\n      <td>0</td>\n      <td>0</td>\n      <td>0</td>\n      <td>0</td>\n      <td>0</td>\n      <td>0</td>\n      <td>0</td>\n    </tr>\n    <tr>\n      <th>3</th>\n      <td>16203</td>\n      <td>0</td>\n      <td>2018-12-28</td>\n      <td>0</td>\n      <td>0</td>\n      <td>8</td>\n      <td>0</td>\n      <td>70</td>\n      <td>0</td>\n      <td>0</td>\n      <td>...</td>\n      <td>0</td>\n      <td>0</td>\n      <td>0</td>\n      <td>0</td>\n      <td>0</td>\n      <td>0</td>\n      <td>0</td>\n      <td>0</td>\n      <td>0</td>\n      <td>0</td>\n    </tr>\n    <tr>\n      <th>4</th>\n      <td>16203</td>\n      <td>1</td>\n      <td>2019-01-28</td>\n      <td>1</td>\n      <td>1</td>\n      <td>8</td>\n      <td>0</td>\n      <td>70</td>\n      <td>0</td>\n      <td>0</td>\n      <td>...</td>\n      <td>0</td>\n      <td>0</td>\n      <td>0</td>\n      <td>0</td>\n      <td>0</td>\n      <td>0</td>\n      <td>0</td>\n      <td>0</td>\n      <td>0</td>\n      <td>0</td>\n    </tr>\n    <tr>\n      <th>5</th>\n      <td>16502</td>\n      <td>0</td>\n      <td>2018-09-28</td>\n      <td>0</td>\n      <td>0</td>\n      <td>28</td>\n      <td>1</td>\n      <td>57</td>\n      <td>0</td>\n      <td>0</td>\n      <td>...</td>\n      <td>0</td>\n      <td>0</td>\n      <td>0</td>\n      <td>0</td>\n      <td>0</td>\n      <td>0</td>\n      <td>0</td>\n      <td>0</td>\n      <td>0</td>\n      <td>0</td>\n    </tr>\n    <tr>\n      <th>6</th>\n      <td>16502</td>\n      <td>1</td>\n      <td>2018-10-28</td>\n      <td>1</td>\n      <td>1</td>\n      <td>28</td>\n      <td>1</td>\n      <td>58</td>\n      <td>0</td>\n      <td>0</td>\n      <td>...</td>\n      <td>0</td>\n      <td>0</td>\n      <td>0</td>\n      <td>0</td>\n      <td>0</td>\n      <td>0</td>\n      <td>0</td>\n      <td>0</td>\n      <td>0</td>\n      <td>0</td>\n    </tr>\n    <tr>\n      <th>7</th>\n      <td>17457</td>\n      <td>1</td>\n      <td>2018-01-28</td>\n      <td>1</td>\n      <td>1</td>\n      <td>28</td>\n      <td>1</td>\n      <td>53</td>\n      <td>0</td>\n      <td>0</td>\n      <td>...</td>\n      <td>0</td>\n      <td>0</td>\n      <td>0</td>\n      <td>0</td>\n      <td>0</td>\n      <td>0</td>\n      <td>0</td>\n      <td>0</td>\n      <td>0</td>\n      <td>0</td>\n    </tr>\n    <tr>\n      <th>8</th>\n      <td>17590</td>\n      <td>0</td>\n      <td>2019-05-28</td>\n      <td>1</td>\n      <td>1</td>\n      <td>28</td>\n      <td>0</td>\n      <td>55</td>\n      <td>0</td>\n      <td>0</td>\n      <td>...</td>\n      <td>0</td>\n      <td>0</td>\n      <td>0</td>\n      <td>0</td>\n      <td>0</td>\n      <td>0</td>\n      <td>0</td>\n      <td>0</td>\n      <td>0</td>\n      <td>0</td>\n    </tr>\n    <tr>\n      <th>9</th>\n      <td>17799</td>\n      <td>1</td>\n      <td>2018-01-28</td>\n      <td>1</td>\n      <td>1</td>\n      <td>28</td>\n      <td>1</td>\n      <td>46</td>\n      <td>0</td>\n      <td>0</td>\n      <td>...</td>\n      <td>0</td>\n      <td>0</td>\n      <td>0</td>\n      <td>0</td>\n      <td>0</td>\n      <td>0</td>\n      <td>0</td>\n      <td>0</td>\n      <td>0</td>\n      <td>0</td>\n    </tr>\n  </tbody>\n</table>\n<p>10 rows × 74 columns</p>\n</div>"
     },
     "execution_count": 211,
     "metadata": {},
     "output_type": "execute_result"
    }
   ],
   "source": [
    "pipe = Pipeline(steps=[\n",
    "    (\"filter\", EasyMoneyFilter(TARGET)),\n",
    "])\n",
    "\n",
    "df_prep = pipe.fit_transform(df)\n",
    "df_prep.head(10)"
   ],
   "metadata": {
    "collapsed": false,
    "pycharm": {
     "name": "#%%\n"
    }
   }
  },
  {
   "cell_type": "code",
   "execution_count": 212,
   "outputs": [],
   "source": [
    "# first_sale = df.reset_index().groupby([\"pk_cid\", TARGET]).first().reset_index()\n",
    "# first_sale = first_sale[first_sale[TARGET] == 1]\n",
    "# first_sale"
   ],
   "metadata": {
    "collapsed": false,
    "pycharm": {
     "name": "#%%\n"
    }
   }
  },
  {
   "cell_type": "code",
   "execution_count": 213,
   "outputs": [],
   "source": [
    "# last_no_sale = df.reset_index().groupby([\"pk_cid\", TARGET]).last().reset_index()\n",
    "# last_no_sale = last_no_sale[last_no_sale[TARGET] == 0]\n",
    "# last_no_sale"
   ],
   "metadata": {
    "collapsed": false,
    "pycharm": {
     "name": "#%%\n"
    }
   }
  },
  {
   "cell_type": "code",
   "execution_count": 214,
   "outputs": [],
   "source": [
    "# df_prep = pd.concat([first_sale, last_no_sale]).sort_values([\"pk_cid\", \"pk_partition\"], ignore_index=True)\n",
    "# df_prep"
   ],
   "metadata": {
    "collapsed": false,
    "pycharm": {
     "name": "#%%\n"
    }
   }
  },
  {
   "cell_type": "code",
   "execution_count": 215,
   "outputs": [],
   "source": [
    "def plot(dataframe: pd.DataFrame, target: str):\n",
    "    dataframe[target].hist()\n",
    "    plt.show()\n",
    "    print(target)\n",
    "    print(dataframe[target].value_counts())"
   ],
   "metadata": {
    "collapsed": false,
    "pycharm": {
     "name": "#%%\n"
    }
   }
  },
  {
   "cell_type": "markdown",
   "source": [
    "## Target distribution"
   ],
   "metadata": {
    "collapsed": false,
    "pycharm": {
     "name": "#%% md\n"
    }
   }
  },
  {
   "cell_type": "code",
   "execution_count": 226,
   "outputs": [
    {
     "data": {
      "text/plain": "                    count          mean            std      min         25%  \\\npk_cid           520984.0  1.281442e+06  179949.661207  15891.0  1149646.75   \nem_acount        520984.0  6.386511e-01       0.480392      0.0        0.00   \nactive_customer  520984.0  4.031774e-01       0.490536      0.0        0.00   \nsegment          520984.0  1.343218e+00       0.790100      0.0        1.00   \nregion_code      520984.0  2.593268e+01      13.529693     -1.0       13.00   \n...                   ...           ...            ...      ...         ...   \ncountry_id_SA    520984.0  3.838889e-06       0.001959      0.0        0.00   \ncountry_id_SE    520984.0  5.758334e-06       0.002400      0.0        0.00   \ncountry_id_SN    520984.0  1.919445e-06       0.001385      0.0        0.00   \ncountry_id_US    520984.0  2.687223e-05       0.005184      0.0        0.00   \ncountry_id_VE    520984.0  9.597224e-06       0.003098      0.0        0.00   \n\n                       50%         75%        max  \npk_cid           1295741.0  1428945.25  1553689.0  \nem_acount              1.0        1.00        1.0  \nactive_customer        0.0        1.00        1.0  \nsegment                2.0        2.00        3.0  \nregion_code           28.0       36.00       52.0  \n...                    ...         ...        ...  \ncountry_id_SA          0.0        0.00        1.0  \ncountry_id_SE          0.0        0.00        1.0  \ncountry_id_SN          0.0        0.00        1.0  \ncountry_id_US          0.0        0.00        1.0  \ncountry_id_VE          0.0        0.00        1.0  \n\n[73 rows x 8 columns]",
      "text/html": "<div>\n<style scoped>\n    .dataframe tbody tr th:only-of-type {\n        vertical-align: middle;\n    }\n\n    .dataframe tbody tr th {\n        vertical-align: top;\n    }\n\n    .dataframe thead th {\n        text-align: right;\n    }\n</style>\n<table border=\"1\" class=\"dataframe\">\n  <thead>\n    <tr style=\"text-align: right;\">\n      <th></th>\n      <th>count</th>\n      <th>mean</th>\n      <th>std</th>\n      <th>min</th>\n      <th>25%</th>\n      <th>50%</th>\n      <th>75%</th>\n      <th>max</th>\n    </tr>\n  </thead>\n  <tbody>\n    <tr>\n      <th>pk_cid</th>\n      <td>520984.0</td>\n      <td>1.281442e+06</td>\n      <td>179949.661207</td>\n      <td>15891.0</td>\n      <td>1149646.75</td>\n      <td>1295741.0</td>\n      <td>1428945.25</td>\n      <td>1553689.0</td>\n    </tr>\n    <tr>\n      <th>em_acount</th>\n      <td>520984.0</td>\n      <td>6.386511e-01</td>\n      <td>0.480392</td>\n      <td>0.0</td>\n      <td>0.00</td>\n      <td>1.0</td>\n      <td>1.00</td>\n      <td>1.0</td>\n    </tr>\n    <tr>\n      <th>active_customer</th>\n      <td>520984.0</td>\n      <td>4.031774e-01</td>\n      <td>0.490536</td>\n      <td>0.0</td>\n      <td>0.00</td>\n      <td>0.0</td>\n      <td>1.00</td>\n      <td>1.0</td>\n    </tr>\n    <tr>\n      <th>segment</th>\n      <td>520984.0</td>\n      <td>1.343218e+00</td>\n      <td>0.790100</td>\n      <td>0.0</td>\n      <td>1.00</td>\n      <td>2.0</td>\n      <td>2.00</td>\n      <td>3.0</td>\n    </tr>\n    <tr>\n      <th>region_code</th>\n      <td>520984.0</td>\n      <td>2.593268e+01</td>\n      <td>13.529693</td>\n      <td>-1.0</td>\n      <td>13.00</td>\n      <td>28.0</td>\n      <td>36.00</td>\n      <td>52.0</td>\n    </tr>\n    <tr>\n      <th>...</th>\n      <td>...</td>\n      <td>...</td>\n      <td>...</td>\n      <td>...</td>\n      <td>...</td>\n      <td>...</td>\n      <td>...</td>\n      <td>...</td>\n    </tr>\n    <tr>\n      <th>country_id_SA</th>\n      <td>520984.0</td>\n      <td>3.838889e-06</td>\n      <td>0.001959</td>\n      <td>0.0</td>\n      <td>0.00</td>\n      <td>0.0</td>\n      <td>0.00</td>\n      <td>1.0</td>\n    </tr>\n    <tr>\n      <th>country_id_SE</th>\n      <td>520984.0</td>\n      <td>5.758334e-06</td>\n      <td>0.002400</td>\n      <td>0.0</td>\n      <td>0.00</td>\n      <td>0.0</td>\n      <td>0.00</td>\n      <td>1.0</td>\n    </tr>\n    <tr>\n      <th>country_id_SN</th>\n      <td>520984.0</td>\n      <td>1.919445e-06</td>\n      <td>0.001385</td>\n      <td>0.0</td>\n      <td>0.00</td>\n      <td>0.0</td>\n      <td>0.00</td>\n      <td>1.0</td>\n    </tr>\n    <tr>\n      <th>country_id_US</th>\n      <td>520984.0</td>\n      <td>2.687223e-05</td>\n      <td>0.005184</td>\n      <td>0.0</td>\n      <td>0.00</td>\n      <td>0.0</td>\n      <td>0.00</td>\n      <td>1.0</td>\n    </tr>\n    <tr>\n      <th>country_id_VE</th>\n      <td>520984.0</td>\n      <td>9.597224e-06</td>\n      <td>0.003098</td>\n      <td>0.0</td>\n      <td>0.00</td>\n      <td>0.0</td>\n      <td>0.00</td>\n      <td>1.0</td>\n    </tr>\n  </tbody>\n</table>\n<p>73 rows × 8 columns</p>\n</div>"
     },
     "execution_count": 226,
     "metadata": {},
     "output_type": "execute_result"
    }
   ],
   "source": [
    "df_prep.describe().T"
   ],
   "metadata": {
    "collapsed": false,
    "pycharm": {
     "name": "#%%\n"
    }
   }
  },
  {
   "cell_type": "code",
   "execution_count": 217,
   "outputs": [
    {
     "data": {
      "text/plain": "<Figure size 432x288 with 1 Axes>",
      "image/png": "[encoded data removed]"
     },
     "metadata": {
      "needs_background": "light"
     },
     "output_type": "display_data"
    },
    {
     "name": "stdout",
     "output_type": "stream",
     "text": [
      "em_acount\n",
      "1    332727\n",
      "0    188257\n",
      "Name: em_acount, dtype: int64\n"
     ]
    }
   ],
   "source": [
    "plot(df_prep, TARGET)"
   ],
   "metadata": {
    "collapsed": false,
    "pycharm": {
     "name": "#%%\n"
    }
   }
  },
  {
   "cell_type": "code",
   "execution_count": 227,
   "outputs": [
    {
     "data": {
      "text/plain": "<AxesSubplot:xlabel='em_acount', ylabel='active_customer'>"
     },
     "execution_count": 227,
     "metadata": {},
     "output_type": "execute_result"
    },
    {
     "data": {
      "text/plain": "<Figure size 432x288 with 1 Axes>",
      "image/png": "[encoded data removed]"
     },
     "metadata": {
      "needs_background": "light"
     },
     "output_type": "display_data"
    }
   ],
   "source": [
    "sns.boxplot(data=df_prep, x=TARGET, y=\"active_customer\")"
   ],
   "metadata": {
    "collapsed": false,
    "pycharm": {
     "name": "#%%\n"
    }
   }
  },
  {
   "cell_type": "code",
   "execution_count": 219,
   "outputs": [
    {
     "data": {
      "text/plain": "<Figure size 1080x360 with 1 Axes>",
      "image/png": "[encoded data removed]"
     },
     "metadata": {
      "needs_background": "light"
     },
     "output_type": "display_data"
    },
    {
     "data": {
      "text/plain": "                   len       sum      mean\n             em_acount em_acount em_acount\npk_partition                              \n2018-01-28      215638    215293  0.998400\n2018-02-28        4596      4156  0.904265\n2018-03-28        3904      3520  0.901639\n2018-04-28        3430      3003  0.875510\n2018-05-28        4668      3066  0.656812\n2018-06-28        5186      4711  0.908407\n2018-07-28       16574     12439  0.750513\n2018-08-28       16811     14129  0.840462\n2018-09-28       21760     17513  0.804825\n2018-10-28       22626     18988  0.839212\n2018-11-28       15587     10517  0.674729\n2018-12-28       10574      6223  0.588519\n2019-01-28        8379      5137  0.613080\n2019-02-28        7589      3952  0.520754\n2019-03-28        7523      4210  0.559617\n2019-04-28        6667      3012  0.451777\n2019-05-28      149472      2858  0.019121",
      "text/html": "<div>\n<style scoped>\n    .dataframe tbody tr th:only-of-type {\n        vertical-align: middle;\n    }\n\n    .dataframe tbody tr th {\n        vertical-align: top;\n    }\n\n    .dataframe thead tr th {\n        text-align: left;\n    }\n\n    .dataframe thead tr:last-of-type th {\n        text-align: right;\n    }\n</style>\n<table border=\"1\" class=\"dataframe\">\n  <thead>\n    <tr>\n      <th></th>\n      <th>len</th>\n      <th>sum</th>\n      <th>mean</th>\n    </tr>\n    <tr>\n      <th></th>\n      <th>em_acount</th>\n      <th>em_acount</th>\n      <th>em_acount</th>\n    </tr>\n    <tr>\n      <th>pk_partition</th>\n      <th></th>\n      <th></th>\n      <th></th>\n    </tr>\n  </thead>\n  <tbody>\n    <tr>\n      <th>2018-01-28</th>\n      <td>215638</td>\n      <td>215293</td>\n      <td>0.998400</td>\n    </tr>\n    <tr>\n      <th>2018-02-28</th>\n      <td>4596</td>\n      <td>4156</td>\n      <td>0.904265</td>\n    </tr>\n    <tr>\n      <th>2018-03-28</th>\n      <td>3904</td>\n      <td>3520</td>\n      <td>0.901639</td>\n    </tr>\n    <tr>\n      <th>2018-04-28</th>\n      <td>3430</td>\n      <td>3003</td>\n      <td>0.875510</td>\n    </tr>\n    <tr>\n      <th>2018-05-28</th>\n      <td>4668</td>\n      <td>3066</td>\n      <td>0.656812</td>\n    </tr>\n    <tr>\n      <th>2018-06-28</th>\n      <td>5186</td>\n      <td>4711</td>\n      <td>0.908407</td>\n    </tr>\n    <tr>\n      <th>2018-07-28</th>\n      <td>16574</td>\n      <td>12439</td>\n      <td>0.750513</td>\n    </tr>\n    <tr>\n      <th>2018-08-28</th>\n      <td>16811</td>\n      <td>14129</td>\n      <td>0.840462</td>\n    </tr>\n    <tr>\n      <th>2018-09-28</th>\n      <td>21760</td>\n      <td>17513</td>\n      <td>0.804825</td>\n    </tr>\n    <tr>\n      <th>2018-10-28</th>\n      <td>22626</td>\n      <td>18988</td>\n      <td>0.839212</td>\n    </tr>\n    <tr>\n      <th>2018-11-28</th>\n      <td>15587</td>\n      <td>10517</td>\n      <td>0.674729</td>\n    </tr>\n    <tr>\n      <th>2018-12-28</th>\n      <td>10574</td>\n      <td>6223</td>\n      <td>0.588519</td>\n    </tr>\n    <tr>\n      <th>2019-01-28</th>\n      <td>8379</td>\n      <td>5137</td>\n      <td>0.613080</td>\n    </tr>\n    <tr>\n      <th>2019-02-28</th>\n      <td>7589</td>\n      <td>3952</td>\n      <td>0.520754</td>\n    </tr>\n    <tr>\n      <th>2019-03-28</th>\n      <td>7523</td>\n      <td>4210</td>\n      <td>0.559617</td>\n    </tr>\n    <tr>\n      <th>2019-04-28</th>\n      <td>6667</td>\n      <td>3012</td>\n      <td>0.451777</td>\n    </tr>\n    <tr>\n      <th>2019-05-28</th>\n      <td>149472</td>\n      <td>2858</td>\n      <td>0.019121</td>\n    </tr>\n  </tbody>\n</table>\n</div>"
     },
     "execution_count": 219,
     "metadata": {},
     "output_type": "execute_result"
    }
   ],
   "source": [
    "def relation_with_target(dataframe: pd.DataFrame, field: str, target: str):\n",
    "    plt.figure(figsize=(15, 5))\n",
    "    plt.xticks(rotation=90)\n",
    "    sns.countplot(data=dataframe, x=field, hue=target)\n",
    "    plt.show()\n",
    "    return dataframe.pivot_table(index=field, values=target, aggfunc=[len, sum, np.mean])\n",
    "\n",
    "\n",
    "relation_with_target(df_prep, \"pk_partition\", TARGET)"
   ],
   "metadata": {
    "collapsed": false,
    "pycharm": {
     "name": "#%%\n"
    }
   }
  },
  {
   "cell_type": "markdown",
   "source": [
    "## split dataframes"
   ],
   "metadata": {
    "collapsed": false,
    "pycharm": {
     "name": "#%% md\n"
    }
   }
  },
  {
   "cell_type": "code",
   "execution_count": 223,
   "outputs": [
    {
     "data": {
      "text/plain": "<Figure size 432x288 with 1 Axes>",
      "image/png": "[encoded data removed]"
     },
     "metadata": {
      "needs_background": "light"
     },
     "output_type": "display_data"
    },
    {
     "name": "stdout",
     "output_type": "stream",
     "text": [
      "em_acount\n",
      "1    322647\n",
      "0     34675\n",
      "Name: em_acount, dtype: int64\n"
     ]
    }
   ],
   "source": [
    "train_df = df_prep[df_prep[\"pk_partition\"].between(DEV_PARTITION_PERIOD[0], DEV_PARTITION_PERIOD[1])].reset_index(\n",
    "    drop=True)\n",
    "train_df = train_df.drop(exclude_columns, axis=1)\n",
    "plot(train_df, TARGET)"
   ],
   "metadata": {
    "collapsed": false,
    "pycharm": {
     "name": "#%%\n"
    }
   }
  },
  {
   "cell_type": "code",
   "execution_count": 164,
   "outputs": [
    {
     "data": {
      "text/plain": "<Figure size 432x288 with 1 Axes>",
      "image/png": "[encoded data removed]"
     },
     "metadata": {
      "needs_background": "light"
     },
     "output_type": "display_data"
    },
    {
     "name": "stdout",
     "output_type": "stream",
     "text": [
      "em_acount\n",
      "0    153582\n",
      "1     10080\n",
      "Name: em_acount, dtype: int64\n"
     ]
    }
   ],
   "source": [
    "validation_df = df_prep[df_prep[\"pk_partition\"].between(VAL_PARTITION_PERIOD[0], VAL_PARTITION_PERIOD[1])].reset_index(\n",
    "    drop=True)\n",
    "validation_df = validation_df.drop(exclude_columns, axis=1)\n",
    "plot(validation_df, TARGET)"
   ],
   "metadata": {
    "collapsed": false,
    "pycharm": {
     "name": "#%%\n"
    }
   }
  },
  {
   "cell_type": "code",
   "execution_count": 165,
   "outputs": [],
   "source": [
    "dev_X = train_df.drop(TARGET, axis=1)\n",
    "dev_y = train_df[[TARGET]]\n",
    "\n",
    "val_X = validation_df.drop(TARGET, axis=1)\n",
    "val_y = validation_df[[TARGET]]"
   ],
   "metadata": {
    "collapsed": false,
    "pycharm": {
     "name": "#%%\n"
    }
   }
  },
  {
   "cell_type": "code",
   "execution_count": 91,
   "outputs": [
    {
     "data": {
      "text/plain": "        active_customer  segment  region_code  gender  age  deceased  \\\n0                     1        0           28       1   59         0   \n1                     0        1           28       1   59         0   \n2                     0        0            8       0   70         0   \n3                     1        1            8       0   70         0   \n4                     0        0           28       1   57         0   \n...                 ...      ...          ...     ...  ...       ...   \n357317                0        0            6       1   40         0   \n357318                0        0           46       0   34         0   \n357319                0        0           50       0   27         0   \n357320                0        0           29       0   31         0   \n357321                0        0            8       0   26         0   \n\n        short_term_deposit  loans  mortgage  funds  ...  country_id_PL  \\\n0                        0      0         0      0  ...              0   \n1                        0      0         0      0  ...              0   \n2                        0      0         0      0  ...              0   \n3                        0      0         0      0  ...              0   \n4                        0      0         0      0  ...              0   \n...                    ...    ...       ...    ...  ...            ...   \n357317                   0      0         0      0  ...              0   \n357318                   0      0         0      0  ...              0   \n357319                   0      0         0      0  ...              0   \n357320                   0      0         0      0  ...              0   \n357321                   0      0         0      0  ...              0   \n\n        country_id_PT  country_id_QA  country_id_RO  country_id_RU  \\\n0                   0              0              0              0   \n1                   0              0              0              0   \n2                   0              0              0              0   \n3                   0              0              0              0   \n4                   0              0              0              0   \n...               ...            ...            ...            ...   \n357317              0              0              0              0   \n357318              0              0              0              0   \n357319              0              0              0              0   \n357320              0              0              0              0   \n357321              0              0              0              0   \n\n        country_id_SA  country_id_SE  country_id_SN  country_id_US  \\\n0                   0              0              0              0   \n1                   0              0              0              0   \n2                   0              0              0              0   \n3                   0              0              0              0   \n4                   0              0              0              0   \n...               ...            ...            ...            ...   \n357317              0              0              0              0   \n357318              0              0              0              0   \n357319              0              0              0              0   \n357320              0              0              0              0   \n357321              0              0              0              0   \n\n        country_id_VE  \n0                   0  \n1                   0  \n2                   0  \n3                   0  \n4                   0  \n...               ...  \n357317              0  \n357318              0  \n357319              0  \n357320              0  \n357321              0  \n\n[357322 rows x 71 columns]",
      "text/html": "<div>\n<style scoped>\n    .dataframe tbody tr th:only-of-type {\n        vertical-align: middle;\n    }\n\n    .dataframe tbody tr th {\n        vertical-align: top;\n    }\n\n    .dataframe thead th {\n        text-align: right;\n    }\n</style>\n<table border=\"1\" class=\"dataframe\">\n  <thead>\n    <tr style=\"text-align: right;\">\n      <th></th>\n      <th>active_customer</th>\n      <th>segment</th>\n      <th>region_code</th>\n      <th>gender</th>\n      <th>age</th>\n      <th>deceased</th>\n      <th>short_term_deposit</th>\n      <th>loans</th>\n      <th>mortgage</th>\n      <th>funds</th>\n      <th>...</th>\n      <th>country_id_PL</th>\n      <th>country_id_PT</th>\n      <th>country_id_QA</th>\n      <th>country_id_RO</th>\n      <th>country_id_RU</th>\n      <th>country_id_SA</th>\n      <th>country_id_SE</th>\n      <th>country_id_SN</th>\n      <th>country_id_US</th>\n      <th>country_id_VE</th>\n    </tr>\n  </thead>\n  <tbody>\n    <tr>\n      <th>0</th>\n      <td>1</td>\n      <td>0</td>\n      <td>28</td>\n      <td>1</td>\n      <td>59</td>\n      <td>0</td>\n      <td>0</td>\n      <td>0</td>\n      <td>0</td>\n      <td>0</td>\n      <td>...</td>\n      <td>0</td>\n      <td>0</td>\n      <td>0</td>\n      <td>0</td>\n      <td>0</td>\n      <td>0</td>\n      <td>0</td>\n      <td>0</td>\n      <td>0</td>\n      <td>0</td>\n    </tr>\n    <tr>\n      <th>1</th>\n      <td>0</td>\n      <td>1</td>\n      <td>28</td>\n      <td>1</td>\n      <td>59</td>\n      <td>0</td>\n      <td>0</td>\n      <td>0</td>\n      <td>0</td>\n      <td>0</td>\n      <td>...</td>\n      <td>0</td>\n      <td>0</td>\n      <td>0</td>\n      <td>0</td>\n      <td>0</td>\n      <td>0</td>\n      <td>0</td>\n      <td>0</td>\n      <td>0</td>\n      <td>0</td>\n    </tr>\n    <tr>\n      <th>2</th>\n      <td>0</td>\n      <td>0</td>\n      <td>8</td>\n      <td>0</td>\n      <td>70</td>\n      <td>0</td>\n      <td>0</td>\n      <td>0</td>\n      <td>0</td>\n      <td>0</td>\n      <td>...</td>\n      <td>0</td>\n      <td>0</td>\n      <td>0</td>\n      <td>0</td>\n      <td>0</td>\n      <td>0</td>\n      <td>0</td>\n      <td>0</td>\n      <td>0</td>\n      <td>0</td>\n    </tr>\n    <tr>\n      <th>3</th>\n      <td>1</td>\n      <td>1</td>\n      <td>8</td>\n      <td>0</td>\n      <td>70</td>\n      <td>0</td>\n      <td>0</td>\n      <td>0</td>\n      <td>0</td>\n      <td>0</td>\n      <td>...</td>\n      <td>0</td>\n      <td>0</td>\n      <td>0</td>\n      <td>0</td>\n      <td>0</td>\n      <td>0</td>\n      <td>0</td>\n      <td>0</td>\n      <td>0</td>\n      <td>0</td>\n    </tr>\n    <tr>\n      <th>4</th>\n      <td>0</td>\n      <td>0</td>\n      <td>28</td>\n      <td>1</td>\n      <td>57</td>\n      <td>0</td>\n      <td>0</td>\n      <td>0</td>\n      <td>0</td>\n      <td>0</td>\n      <td>...</td>\n      <td>0</td>\n      <td>0</td>\n      <td>0</td>\n      <td>0</td>\n      <td>0</td>\n      <td>0</td>\n      <td>0</td>\n      <td>0</td>\n      <td>0</td>\n      <td>0</td>\n    </tr>\n    <tr>\n      <th>...</th>\n      <td>...</td>\n      <td>...</td>\n      <td>...</td>\n      <td>...</td>\n      <td>...</td>\n      <td>...</td>\n      <td>...</td>\n      <td>...</td>\n      <td>...</td>\n      <td>...</td>\n      <td>...</td>\n      <td>...</td>\n      <td>...</td>\n      <td>...</td>\n      <td>...</td>\n      <td>...</td>\n      <td>...</td>\n      <td>...</td>\n      <td>...</td>\n      <td>...</td>\n      <td>...</td>\n    </tr>\n    <tr>\n      <th>357317</th>\n      <td>0</td>\n      <td>0</td>\n      <td>6</td>\n      <td>1</td>\n      <td>40</td>\n      <td>0</td>\n      <td>0</td>\n      <td>0</td>\n      <td>0</td>\n      <td>0</td>\n      <td>...</td>\n      <td>0</td>\n      <td>0</td>\n      <td>0</td>\n      <td>0</td>\n      <td>0</td>\n      <td>0</td>\n      <td>0</td>\n      <td>0</td>\n      <td>0</td>\n      <td>0</td>\n    </tr>\n    <tr>\n      <th>357318</th>\n      <td>0</td>\n      <td>0</td>\n      <td>46</td>\n      <td>0</td>\n      <td>34</td>\n      <td>0</td>\n      <td>0</td>\n      <td>0</td>\n      <td>0</td>\n      <td>0</td>\n      <td>...</td>\n      <td>0</td>\n      <td>0</td>\n      <td>0</td>\n      <td>0</td>\n      <td>0</td>\n      <td>0</td>\n      <td>0</td>\n      <td>0</td>\n      <td>0</td>\n      <td>0</td>\n    </tr>\n    <tr>\n      <th>357319</th>\n      <td>0</td>\n      <td>0</td>\n      <td>50</td>\n      <td>0</td>\n      <td>27</td>\n      <td>0</td>\n      <td>0</td>\n      <td>0</td>\n      <td>0</td>\n      <td>0</td>\n      <td>...</td>\n      <td>0</td>\n      <td>0</td>\n      <td>0</td>\n      <td>0</td>\n      <td>0</td>\n      <td>0</td>\n      <td>0</td>\n      <td>0</td>\n      <td>0</td>\n      <td>0</td>\n    </tr>\n    <tr>\n      <th>357320</th>\n      <td>0</td>\n      <td>0</td>\n      <td>29</td>\n      <td>0</td>\n      <td>31</td>\n      <td>0</td>\n      <td>0</td>\n      <td>0</td>\n      <td>0</td>\n      <td>0</td>\n      <td>...</td>\n      <td>0</td>\n      <td>0</td>\n      <td>0</td>\n      <td>0</td>\n      <td>0</td>\n      <td>0</td>\n      <td>0</td>\n      <td>0</td>\n      <td>0</td>\n      <td>0</td>\n    </tr>\n    <tr>\n      <th>357321</th>\n      <td>0</td>\n      <td>0</td>\n      <td>8</td>\n      <td>0</td>\n      <td>26</td>\n      <td>0</td>\n      <td>0</td>\n      <td>0</td>\n      <td>0</td>\n      <td>0</td>\n      <td>...</td>\n      <td>0</td>\n      <td>0</td>\n      <td>0</td>\n      <td>0</td>\n      <td>0</td>\n      <td>0</td>\n      <td>0</td>\n      <td>0</td>\n      <td>0</td>\n      <td>0</td>\n    </tr>\n  </tbody>\n</table>\n<p>357322 rows × 71 columns</p>\n</div>"
     },
     "execution_count": 91,
     "metadata": {},
     "output_type": "execute_result"
    }
   ],
   "source": [
    "dev_X"
   ],
   "metadata": {
    "collapsed": false,
    "pycharm": {
     "name": "#%%\n"
    }
   }
  },
  {
   "cell_type": "code",
   "execution_count": 92,
   "outputs": [
    {
     "name": "stdout",
     "output_type": "stream",
     "text": [
      "\n",
      "X_train.shape: (285857, 71)\n",
      "X_test.shape: (71465, 71)\n",
      "y_train.shape: (285857, 1)\n",
      "y_test.shape: (71465, 1)\n",
      "\n"
     ]
    }
   ],
   "source": [
    "X_train, X_test, y_train, y_test = train_test_split(\n",
    "    dev_X,\n",
    "    dev_y,\n",
    "    test_size=0.2,\n",
    "    random_state=13,\n",
    "    stratify=dev_y\n",
    ")\n",
    "print(f\"\"\"\n",
    "X_train.shape: {X_train.shape}\n",
    "X_test.shape: {X_test.shape}\n",
    "y_train.shape: {y_train.shape}\n",
    "y_test.shape: {y_test.shape}\n",
    "\"\"\")"
   ],
   "metadata": {
    "collapsed": false,
    "pycharm": {
     "name": "#%%\n"
    }
   }
  },
  {
   "cell_type": "markdown",
   "source": [
    "## Modelling experimentation"
   ],
   "metadata": {
    "collapsed": false,
    "pycharm": {
     "name": "#%% md\n"
    }
   }
  },
  {
   "cell_type": "code",
   "execution_count": 127,
   "outputs": [
    {
     "name": "stdout",
     "output_type": "stream",
     "text": [
      "TEST\n",
      "Accuracy Score : 0.8940460365213742\n",
      "Precision Score : 0.948756736314645\n",
      "Recall Score : 0.9330543933054394\n",
      "F1 Score : 0.9408400525032815\n",
      "VALIDATION\n",
      "Accuracy Score : 0.44284562085273305\n",
      "Precision Score : 0.09013452461568006\n",
      "Recall Score : 0.8847222222222222\n",
      "F1 Score : 0.16360150796635511\n"
     ]
    },
    {
     "data": {
      "text/plain": "array([[ 3683,  3252],\n       [ 4320, 60210]], dtype=int64)"
     },
     "execution_count": 127,
     "metadata": {},
     "output_type": "execute_result"
    }
   ],
   "source": [
    "from sklearn.metrics import accuracy_score, precision_score, recall_score, f1_score, confusion_matrix\n",
    "from sklearn.model_selection import GridSearchCV\n",
    "\n",
    "# clf = xgb.XGBClassifier()\n",
    "\n",
    "from sklearn.tree import DecisionTreeClassifier as dt\n",
    "\n",
    "clf = dt()\n",
    "\n",
    "# grid_values = {'penalty': ['l1', 'l2'], 'C': [0.001, .009, 0.01, .09, 1, 5, 10, 25]}\n",
    "# grid_clf_acc = GridSearchCV(xgb.XGBClassifier(), param_grid=grid_values, scoring='recall')\n",
    "clf.fit(X_train, y_train)\n",
    "#\n",
    "# #Predict values based on new parameters\n",
    "y_pred_acc = clf.predict(X_test)\n",
    "#\n",
    "# New Model Evaluation metrics\n",
    "print(\"TEST\")\n",
    "print('Accuracy Score : ' + str(accuracy_score(y_test, y_pred_acc)))\n",
    "print('Precision Score : ' + str(precision_score(y_test, y_pred_acc)))\n",
    "print('Recall Score : ' + str(recall_score(y_test, y_pred_acc)))\n",
    "print('F1 Score : ' + str(f1_score(y_test, y_pred_acc)))\n",
    "\n",
    "y_pred_acc_val = clf.predict(val_X)\n",
    "print(\"VALIDATION\")\n",
    "print('Accuracy Score : ' + str(accuracy_score(val_y, y_pred_acc_val)))\n",
    "print('Precision Score : ' + str(precision_score(val_y, y_pred_acc_val)))\n",
    "print('Recall Score : ' + str(recall_score(val_y, y_pred_acc_val)))\n",
    "print('F1 Score : ' + str(f1_score(val_y, y_pred_acc_val)))\n",
    "\n",
    "#\n",
    "# #Logistic Regression (Grid Search) Confusion matrix\n",
    "confusion_matrix(y_test, y_pred_acc)"
   ],
   "metadata": {
    "collapsed": false,
    "pycharm": {
     "name": "#%%\n"
    }
   }
  },
  {
   "cell_type": "code",
   "execution_count": 107,
   "outputs": [],
   "source": [
    "from sklearn.model_selection import RandomizedSearchCV\n",
    "\n",
    "\n",
    "def generate_clf_from_search(grid_or_random, clf, parameters, scorer, X, y):\n",
    "    if grid_or_random == \"Grid\":\n",
    "        search_obj = GridSearchCV(clf, parameters, scoring=scorer)\n",
    "    elif grid_or_random == \"Random\":\n",
    "        search_obj = RandomizedSearchCV(clf, parameters, scoring=scorer)\n",
    "    fit_obj = search_obj.fit(X, y)\n",
    "    best_clf = fit_obj.best_estimator_\n",
    "    return best_clf"
   ],
   "metadata": {
    "collapsed": false,
    "pycharm": {
     "name": "#%%\n"
    }
   }
  },
  {
   "cell_type": "code",
   "execution_count": 118,
   "outputs": [],
   "source": [
    "from sklearn.metrics import make_scorer\n",
    "\n",
    "parameters = {'max_depth': [3, 4, 5, 6],\n",
    "              'min_samples_leaf': [50, 100],\n",
    "              # 'min_samples_split':[2,3,4,5],\n",
    "              'criterion': ['gini', 'entropy']}\n",
    "scorer = make_scorer(f1_score)"
   ],
   "metadata": {
    "collapsed": false,
    "pycharm": {
     "name": "#%%\n"
    }
   }
  },
  {
   "cell_type": "code",
   "execution_count": 119,
   "outputs": [],
   "source": [
    "best_clf_random = generate_clf_from_search(\n",
    "    \"Random\",\n",
    "    clf,\n",
    "    parameters,\n",
    "    scorer,\n",
    "    X_train,\n",
    "    y_train\n",
    ")"
   ],
   "metadata": {
    "collapsed": false,
    "pycharm": {
     "name": "#%%\n"
    }
   }
  },
  {
   "cell_type": "code",
   "execution_count": 120,
   "outputs": [
    {
     "data": {
      "text/plain": "0.7896005095670462"
     },
     "execution_count": 120,
     "metadata": {},
     "output_type": "execute_result"
    }
   ],
   "source": [
    "from sklearn.model_selection import cross_val_score\n",
    "\n",
    "scores = cross_val_score(best_clf_random, X_train, y_train, cv=5, scoring='f1_macro')\n",
    "scores.mean()"
   ],
   "metadata": {
    "collapsed": false,
    "pycharm": {
     "name": "#%%\n"
    }
   }
  },
  {
   "cell_type": "code",
   "execution_count": 125,
   "outputs": [
    {
     "name": "stdout",
     "output_type": "stream",
     "text": [
      "TEST\n",
      "Accuracy Score : 0.935366962848947\n",
      "Precision Score : 0.949546034366324\n",
      "Recall Score : 0.9805206880520688\n",
      "F1 Score : 0.9647848130217664\n",
      "VALIDATION\n",
      "Accuracy Score : 0.3549693881291931\n",
      "Precision Score : 0.07948950562371739\n",
      "Recall Score : 0.8953373015873016\n",
      "F1 Score : 0.14601551566532114\n"
     ]
    }
   ],
   "source": [
    "best_clf_random.fit(X_train, y_train)\n",
    "# Make predictions using the new model.\n",
    "best_train_predictions = best_clf_random.predict(X_train)\n",
    "best_test_predictions = best_clf_random.predict(X_test)\n",
    "best_validation_predictions = best_clf_random.predict(val_X)\n",
    "\n",
    "# Calculate the f1_score of the new model.\n",
    "print(\"TEST\")\n",
    "print('Accuracy Score : ' + str(accuracy_score(y_test, best_test_predictions)))\n",
    "print('Precision Score : ' + str(precision_score(y_test, best_test_predictions)))\n",
    "print('Recall Score : ' + str(recall_score(y_test, best_test_predictions)))\n",
    "print('F1 Score : ' + str(f1_score(y_test, best_test_predictions)))\n",
    "\n",
    "print(\"VALIDATION\")\n",
    "print('Accuracy Score : ' + str(accuracy_score(val_y, best_validation_predictions)))\n",
    "print('Precision Score : ' + str(precision_score(val_y, best_validation_predictions)))\n",
    "print('Recall Score : ' + str(recall_score(val_y, best_validation_predictions)))\n",
    "print('F1 Score : ' + str(f1_score(val_y, best_validation_predictions)))"
   ],
   "metadata": {
    "collapsed": false,
    "pycharm": {
     "name": "#%%\n"
    }
   }
  },
  {
   "cell_type": "markdown",
   "source": [
    "## Modelling"
   ],
   "metadata": {
    "collapsed": false,
    "pycharm": {
     "name": "#%% md\n"
    }
   }
  },
  {
   "cell_type": "code",
   "execution_count": 93,
   "outputs": [],
   "source": [
    "_MAX_DEPTH = 4\n",
    "_MIN_SAMPLES_LEAF = 100\n",
    "_RANDOM_STATE = 42\n",
    "\n",
    "_MIN_CHILD_WEIGHT = 100\n",
    "_N_ESTIMATORS = 50"
   ],
   "metadata": {
    "collapsed": false,
    "pycharm": {
     "name": "#%%\n"
    }
   }
  },
  {
   "cell_type": "code",
   "execution_count": 94,
   "outputs": [],
   "source": [
    "model = xgb.XGBClassifier(\n",
    "    max_depth=_MAX_DEPTH,\n",
    "    min_child_weight=_MIN_CHILD_WEIGHT,\n",
    "    n_estimators=_N_ESTIMATORS,\n",
    "    random_state=_RANDOM_STATE,\n",
    "    use_label_encoder=False\n",
    ")"
   ],
   "metadata": {
    "collapsed": false,
    "pycharm": {
     "name": "#%%\n"
    }
   }
  },
  {
   "cell_type": "code",
   "execution_count": 95,
   "outputs": [
    {
     "name": "stdout",
     "output_type": "stream",
     "text": [
      "[17:09:52] WARNING: D:\\bld\\xgboost-split_1637426510059\\work\\src\\learner.cc:1115: Starting in XGBoost 1.3.0, the default evaluation metric used with the objective 'binary:logistic' was changed from 'error' to 'logloss'. Explicitly set eval_metric if you'd like to restore the old behavior.\n"
     ]
    },
    {
     "data": {
      "text/plain": "XGBClassifier(base_score=0.5, booster='gbtree', colsample_bylevel=1,\n              colsample_bynode=1, colsample_bytree=1, enable_categorical=False,\n              gamma=0, gpu_id=-1, importance_type=None,\n              interaction_constraints='', learning_rate=0.300000012,\n              max_delta_step=0, max_depth=4, min_child_weight=100, missing=nan,\n              monotone_constraints='()', n_estimators=50, n_jobs=12,\n              num_parallel_tree=1, predictor='auto', random_state=42,\n              reg_alpha=0, reg_lambda=1, scale_pos_weight=1, subsample=1,\n              tree_method='exact', use_label_encoder=False,\n              validate_parameters=1, verbosity=None)"
     },
     "execution_count": 95,
     "metadata": {},
     "output_type": "execute_result"
    }
   ],
   "source": [
    "model.fit(X_train, y_train)"
   ],
   "metadata": {
    "collapsed": false,
    "pycharm": {
     "name": "#%%\n"
    }
   }
  },
  {
   "cell_type": "code",
   "execution_count": 96,
   "outputs": [
    {
     "name": "stdout",
     "output_type": "stream",
     "text": [
      "Accuracy: 0.3837\n"
     ]
    }
   ],
   "source": [
    "accuracy = round(model.score(val_X, val_y), 4)\n",
    "print('Accuracy: %0.4f' % (accuracy))"
   ],
   "metadata": {
    "collapsed": false,
    "pycharm": {
     "name": "#%%\n"
    }
   }
  },
  {
   "cell_type": "code",
   "execution_count": 97,
   "outputs": [
    {
     "data": {
      "text/plain": "0.9093961315981087"
     },
     "execution_count": 97,
     "metadata": {},
     "output_type": "execute_result"
    }
   ],
   "source": [
    "y_score = pd.DataFrame(model.predict_proba(X_test)[:, 1], index=y_test.index, columns=['score'])\n",
    "metrics.roc_auc_score(y_test, y_score)"
   ],
   "metadata": {
    "collapsed": false,
    "pycharm": {
     "name": "#%%\n"
    }
   }
  },
  {
   "cell_type": "code",
   "execution_count": 98,
   "outputs": [
    {
     "data": {
      "text/plain": "Text(0, 0.5, 'TPR')"
     },
     "execution_count": 98,
     "metadata": {},
     "output_type": "execute_result"
    },
    {
     "data": {
      "text/plain": "<Figure size 1080x720 with 1 Axes>",
      "image/png": "[encoded data removed]"
     },
     "metadata": {
      "needs_background": "light"
     },
     "output_type": "display_data"
    }
   ],
   "source": [
    "fpr, tpr, th = metrics.roc_curve(y_test, y_score)\n",
    "plt.figure(figsize=(15, 10))\n",
    "plt.plot(fpr, tpr)\n",
    "plt.plot([0, 1], [0, 1])\n",
    "plt.xlabel('FPR')\n",
    "plt.ylabel('TPR')"
   ],
   "metadata": {
    "collapsed": false,
    "pycharm": {
     "name": "#%%\n"
    }
   }
  },
  {
   "cell_type": "code",
   "execution_count": 99,
   "outputs": [
    {
     "data": {
      "text/plain": "<AxesSubplot:>"
     },
     "execution_count": 99,
     "metadata": {},
     "output_type": "execute_result"
    },
    {
     "data": {
      "text/plain": "<Figure size 432x288 with 1 Axes>",
      "image/png": "[encoded data removed]"
     },
     "metadata": {
      "needs_background": "light"
     },
     "output_type": "display_data"
    }
   ],
   "source": [
    "feat_importances = pd.Series(model.feature_importances_, index=dev_X.columns)\n",
    "feat_importances.nlargest(20).plot(kind='barh')"
   ],
   "metadata": {
    "collapsed": false,
    "pycharm": {
     "name": "#%%\n"
    }
   }
  },
  {
   "cell_type": "code",
   "execution_count": 99,
   "outputs": [],
   "source": [],
   "metadata": {
    "collapsed": false,
    "pycharm": {
     "name": "#%%\n"
    }
   }
  }
 ],
 "metadata": {
  "kernelspec": {
   "display_name": "Python 3",
   "language": "python",
   "name": "python3"
  },
  "language_info": {
   "codemirror_mode": {
    "name": "ipython",
    "version": 2
   },
   "file_extension": ".py",
   "mimetype": "text/x-python",
   "name": "python",
   "nbconvert_exporter": "python",
   "pygments_lexer": "ipython2",
   "version": "2.7.6"
  }
 },
 "nbformat": 4,
 "nbformat_minor": 0
}