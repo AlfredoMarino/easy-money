{
 "cells": [
  {
   "cell_type": "markdown",
   "source": [
    "# EASY MONEY"
   ],
   "metadata": {
    "collapsed": false,
    "pycharm": {
     "name": "#%% md\n"
    }
   }
  },
  {
   "cell_type": "markdown",
   "source": [
    "## Import libraries"
   ],
   "metadata": {
    "collapsed": false,
    "pycharm": {
     "name": "#%% md\n"
    }
   }
  },
  {
   "cell_type": "code",
   "execution_count": 71,
   "metadata": {
    "collapsed": true
   },
   "outputs": [],
   "source": [
    "import pandas as pd\n",
    "import numpy as np\n",
    "\n",
    "import matplotlib.pyplot as plt\n",
    "import seaborn as sns"
   ]
  },
  {
   "cell_type": "markdown",
   "source": [
    "## Import data"
   ],
   "metadata": {
    "collapsed": false,
    "pycharm": {
     "name": "#%% md\n"
    }
   }
  },
  {
   "cell_type": "code",
   "execution_count": 2,
   "outputs": [],
   "source": [
    "__DATA_PATH__ = \"../data/raw/\""
   ],
   "metadata": {
    "collapsed": false,
    "pycharm": {
     "name": "#%%\n"
    }
   }
  },
  {
   "cell_type": "markdown",
   "source": [
    "### Products"
   ],
   "metadata": {
    "collapsed": false,
    "pycharm": {
     "name": "#%% md\n"
    }
   }
  },
  {
   "cell_type": "code",
   "execution_count": 3,
   "outputs": [],
   "source": [
    "products_df = pd.read_csv(f\"{__DATA_PATH__}products_df.csv\")\n",
    "del (products_df[\"Unnamed: 0\"])"
   ],
   "metadata": {
    "collapsed": false,
    "pycharm": {
     "name": "#%%\n"
    }
   }
  },
  {
   "cell_type": "code",
   "execution_count": 4,
   "outputs": [
    {
     "name": "stdout",
     "output_type": "stream",
     "text": [
      "<class 'pandas.core.frame.DataFrame'>\n",
      "RangeIndex: 5962924 entries, 0 to 5962923\n",
      "Data columns (total 17 columns):\n",
      " #   Column              Dtype  \n",
      "---  ------              -----  \n",
      " 0   pk_cid              int64  \n",
      " 1   pk_partition        object \n",
      " 2   short_term_deposit  int64  \n",
      " 3   loans               int64  \n",
      " 4   mortgage            int64  \n",
      " 5   funds               int64  \n",
      " 6   securities          int64  \n",
      " 7   long_term_deposit   int64  \n",
      " 8   em_account_pp       int64  \n",
      " 9   credit_card         int64  \n",
      " 10  payroll             float64\n",
      " 11  pension_plan        float64\n",
      " 12  payroll_account     int64  \n",
      " 13  emc_account         int64  \n",
      " 14  debit_card          int64  \n",
      " 15  em_account_p        int64  \n",
      " 16  em_acount           int64  \n",
      "dtypes: float64(2), int64(14), object(1)\n",
      "memory usage: 773.4+ MB\n"
     ]
    }
   ],
   "source": [
    "products_df.info()"
   ],
   "metadata": {
    "collapsed": false,
    "pycharm": {
     "name": "#%%\n"
    }
   }
  },
  {
   "cell_type": "code",
   "execution_count": 5,
   "outputs": [
    {
     "data": {
      "text/plain": "    pk_cid pk_partition  short_term_deposit  loans  mortgage  funds  \\\n0  1375586   2018-01-28                   0      0         0      0   \n1  1050611   2018-01-28                   0      0         0      0   \n2  1050612   2018-01-28                   0      0         0      0   \n3  1050613   2018-01-28                   1      0         0      0   \n4  1050614   2018-01-28                   0      0         0      0   \n\n   securities  long_term_deposit  em_account_pp  credit_card  payroll  \\\n0           0                  0              0            0      0.0   \n1           0                  0              0            0      0.0   \n2           0                  0              0            0      0.0   \n3           0                  0              0            0      0.0   \n4           0                  0              0            0      0.0   \n\n   pension_plan  payroll_account  emc_account  debit_card  em_account_p  \\\n0           0.0                0            0           0             0   \n1           0.0                0            0           0             0   \n2           0.0                0            0           0             0   \n3           0.0                0            0           0             0   \n4           0.0                0            0           0             0   \n\n   em_acount  \n0          1  \n1          1  \n2          1  \n3          0  \n4          1  ",
      "text/html": "<div>\n<style scoped>\n    .dataframe tbody tr th:only-of-type {\n        vertical-align: middle;\n    }\n\n    .dataframe tbody tr th {\n        vertical-align: top;\n    }\n\n    .dataframe thead th {\n        text-align: right;\n    }\n</style>\n<table border=\"1\" class=\"dataframe\">\n  <thead>\n    <tr style=\"text-align: right;\">\n      <th></th>\n      <th>pk_cid</th>\n      <th>pk_partition</th>\n      <th>short_term_deposit</th>\n      <th>loans</th>\n      <th>mortgage</th>\n      <th>funds</th>\n      <th>securities</th>\n      <th>long_term_deposit</th>\n      <th>em_account_pp</th>\n      <th>credit_card</th>\n      <th>payroll</th>\n      <th>pension_plan</th>\n      <th>payroll_account</th>\n      <th>emc_account</th>\n      <th>debit_card</th>\n      <th>em_account_p</th>\n      <th>em_acount</th>\n    </tr>\n  </thead>\n  <tbody>\n    <tr>\n      <th>0</th>\n      <td>1375586</td>\n      <td>2018-01-28</td>\n      <td>0</td>\n      <td>0</td>\n      <td>0</td>\n      <td>0</td>\n      <td>0</td>\n      <td>0</td>\n      <td>0</td>\n      <td>0</td>\n      <td>0.0</td>\n      <td>0.0</td>\n      <td>0</td>\n      <td>0</td>\n      <td>0</td>\n      <td>0</td>\n      <td>1</td>\n    </tr>\n    <tr>\n      <th>1</th>\n      <td>1050611</td>\n      <td>2018-01-28</td>\n      <td>0</td>\n      <td>0</td>\n      <td>0</td>\n      <td>0</td>\n      <td>0</td>\n      <td>0</td>\n      <td>0</td>\n      <td>0</td>\n      <td>0.0</td>\n      <td>0.0</td>\n      <td>0</td>\n      <td>0</td>\n      <td>0</td>\n      <td>0</td>\n      <td>1</td>\n    </tr>\n    <tr>\n      <th>2</th>\n      <td>1050612</td>\n      <td>2018-01-28</td>\n      <td>0</td>\n      <td>0</td>\n      <td>0</td>\n      <td>0</td>\n      <td>0</td>\n      <td>0</td>\n      <td>0</td>\n      <td>0</td>\n      <td>0.0</td>\n      <td>0.0</td>\n      <td>0</td>\n      <td>0</td>\n      <td>0</td>\n      <td>0</td>\n      <td>1</td>\n    </tr>\n    <tr>\n      <th>3</th>\n      <td>1050613</td>\n      <td>2018-01-28</td>\n      <td>1</td>\n      <td>0</td>\n      <td>0</td>\n      <td>0</td>\n      <td>0</td>\n      <td>0</td>\n      <td>0</td>\n      <td>0</td>\n      <td>0.0</td>\n      <td>0.0</td>\n      <td>0</td>\n      <td>0</td>\n      <td>0</td>\n      <td>0</td>\n      <td>0</td>\n    </tr>\n    <tr>\n      <th>4</th>\n      <td>1050614</td>\n      <td>2018-01-28</td>\n      <td>0</td>\n      <td>0</td>\n      <td>0</td>\n      <td>0</td>\n      <td>0</td>\n      <td>0</td>\n      <td>0</td>\n      <td>0</td>\n      <td>0.0</td>\n      <td>0.0</td>\n      <td>0</td>\n      <td>0</td>\n      <td>0</td>\n      <td>0</td>\n      <td>1</td>\n    </tr>\n  </tbody>\n</table>\n</div>"
     },
     "execution_count": 5,
     "metadata": {},
     "output_type": "execute_result"
    }
   ],
   "source": [
    "products_df.head()"
   ],
   "metadata": {
    "collapsed": false,
    "pycharm": {
     "name": "#%%\n"
    }
   }
  },
  {
   "cell_type": "code",
   "execution_count": 6,
   "outputs": [
    {
     "data": {
      "text/plain": "17"
     },
     "execution_count": 6,
     "metadata": {},
     "output_type": "execute_result"
    }
   ],
   "source": [
    "products_df[\"pk_cid\"].value_counts().max()"
   ],
   "metadata": {
    "collapsed": false,
    "pycharm": {
     "name": "#%%\n"
    }
   }
  },
  {
   "cell_type": "code",
   "execution_count": 7,
   "outputs": [
    {
     "data": {
      "text/plain": "          pk_cid pk_partition  short_term_deposit  loans  mortgage  funds  \\\n2168122    15891   2018-08-28                   0      0         0      0   \n1479563    15891   2018-07-28                   0      0         0      0   \n4876040    16063   2019-03-28                   0      0         0      0   \n4480637    16063   2019-02-28                   0      0         0      0   \n4028169    16063   2019-01-28                   0      0         0      0   \n...          ...          ...                 ...    ...       ...    ...   \n5682990  1548204   2019-05-28                   0      0         0      0   \n5100677  1548206   2019-04-28                   0      0         0      0   \n5682989  1548206   2019-05-28                   0      0         0      0   \n5100678  1548207   2019-04-28                   0      0         0      0   \n5682988  1548207   2019-05-28                   0      0         0      0   \n\n         securities  long_term_deposit  em_account_pp  credit_card  payroll  \\\n2168122           0                  0              0            0      0.0   \n1479563           0                  0              0            0      0.0   \n4876040           0                  0              0            0      0.0   \n4480637           0                  0              0            0      0.0   \n4028169           0                  0              0            0      0.0   \n...             ...                ...            ...          ...      ...   \n5682990           0                  0              0            0      0.0   \n5100677           0                  0              0            0      0.0   \n5682989           0                  0              0            0      0.0   \n5100678           0                  0              0            0      0.0   \n5682988           0                  0              0            0      0.0   \n\n         pension_plan  payroll_account  emc_account  debit_card  em_account_p  \\\n2168122           0.0                0            0           0             0   \n1479563           0.0                0            0           0             0   \n4876040           0.0                0            0           0             0   \n4480637           0.0                0            0           0             0   \n4028169           0.0                0            0           0             0   \n...               ...              ...          ...         ...           ...   \n5682990           0.0                0            0           0             0   \n5100677           0.0                0            0           0             0   \n5682989           0.0                0            0           0             0   \n5100678           0.0                0            0           0             0   \n5682988           0.0                0            0           0             0   \n\n         em_acount  \n2168122          0  \n1479563          1  \n4876040          0  \n4480637          0  \n4028169          0  \n...            ...  \n5682990          0  \n5100677          0  \n5682989          0  \n5100678          0  \n5682988          0  \n\n[5954110 rows x 17 columns]",
      "text/html": "<div>\n<style scoped>\n    .dataframe tbody tr th:only-of-type {\n        vertical-align: middle;\n    }\n\n    .dataframe tbody tr th {\n        vertical-align: top;\n    }\n\n    .dataframe thead th {\n        text-align: right;\n    }\n</style>\n<table border=\"1\" class=\"dataframe\">\n  <thead>\n    <tr style=\"text-align: right;\">\n      <th></th>\n      <th>pk_cid</th>\n      <th>pk_partition</th>\n      <th>short_term_deposit</th>\n      <th>loans</th>\n      <th>mortgage</th>\n      <th>funds</th>\n      <th>securities</th>\n      <th>long_term_deposit</th>\n      <th>em_account_pp</th>\n      <th>credit_card</th>\n      <th>payroll</th>\n      <th>pension_plan</th>\n      <th>payroll_account</th>\n      <th>emc_account</th>\n      <th>debit_card</th>\n      <th>em_account_p</th>\n      <th>em_acount</th>\n    </tr>\n  </thead>\n  <tbody>\n    <tr>\n      <th>2168122</th>\n      <td>15891</td>\n      <td>2018-08-28</td>\n      <td>0</td>\n      <td>0</td>\n      <td>0</td>\n      <td>0</td>\n      <td>0</td>\n      <td>0</td>\n      <td>0</td>\n      <td>0</td>\n      <td>0.0</td>\n      <td>0.0</td>\n      <td>0</td>\n      <td>0</td>\n      <td>0</td>\n      <td>0</td>\n      <td>0</td>\n    </tr>\n    <tr>\n      <th>1479563</th>\n      <td>15891</td>\n      <td>2018-07-28</td>\n      <td>0</td>\n      <td>0</td>\n      <td>0</td>\n      <td>0</td>\n      <td>0</td>\n      <td>0</td>\n      <td>0</td>\n      <td>0</td>\n      <td>0.0</td>\n      <td>0.0</td>\n      <td>0</td>\n      <td>0</td>\n      <td>0</td>\n      <td>0</td>\n      <td>1</td>\n    </tr>\n    <tr>\n      <th>4876040</th>\n      <td>16063</td>\n      <td>2019-03-28</td>\n      <td>0</td>\n      <td>0</td>\n      <td>0</td>\n      <td>0</td>\n      <td>0</td>\n      <td>0</td>\n      <td>0</td>\n      <td>0</td>\n      <td>0.0</td>\n      <td>0.0</td>\n      <td>0</td>\n      <td>0</td>\n      <td>0</td>\n      <td>0</td>\n      <td>0</td>\n    </tr>\n    <tr>\n      <th>4480637</th>\n      <td>16063</td>\n      <td>2019-02-28</td>\n      <td>0</td>\n      <td>0</td>\n      <td>0</td>\n      <td>0</td>\n      <td>0</td>\n      <td>0</td>\n      <td>0</td>\n      <td>0</td>\n      <td>0.0</td>\n      <td>0.0</td>\n      <td>0</td>\n      <td>0</td>\n      <td>0</td>\n      <td>0</td>\n      <td>0</td>\n    </tr>\n    <tr>\n      <th>4028169</th>\n      <td>16063</td>\n      <td>2019-01-28</td>\n      <td>0</td>\n      <td>0</td>\n      <td>0</td>\n      <td>0</td>\n      <td>0</td>\n      <td>0</td>\n      <td>0</td>\n      <td>0</td>\n      <td>0.0</td>\n      <td>0.0</td>\n      <td>0</td>\n      <td>0</td>\n      <td>0</td>\n      <td>0</td>\n      <td>0</td>\n    </tr>\n    <tr>\n      <th>...</th>\n      <td>...</td>\n      <td>...</td>\n      <td>...</td>\n      <td>...</td>\n      <td>...</td>\n      <td>...</td>\n      <td>...</td>\n      <td>...</td>\n      <td>...</td>\n      <td>...</td>\n      <td>...</td>\n      <td>...</td>\n      <td>...</td>\n      <td>...</td>\n      <td>...</td>\n      <td>...</td>\n      <td>...</td>\n    </tr>\n    <tr>\n      <th>5682990</th>\n      <td>1548204</td>\n      <td>2019-05-28</td>\n      <td>0</td>\n      <td>0</td>\n      <td>0</td>\n      <td>0</td>\n      <td>0</td>\n      <td>0</td>\n      <td>0</td>\n      <td>0</td>\n      <td>0.0</td>\n      <td>0.0</td>\n      <td>0</td>\n      <td>0</td>\n      <td>0</td>\n      <td>0</td>\n      <td>0</td>\n    </tr>\n    <tr>\n      <th>5100677</th>\n      <td>1548206</td>\n      <td>2019-04-28</td>\n      <td>0</td>\n      <td>0</td>\n      <td>0</td>\n      <td>0</td>\n      <td>0</td>\n      <td>0</td>\n      <td>0</td>\n      <td>0</td>\n      <td>0.0</td>\n      <td>0.0</td>\n      <td>0</td>\n      <td>0</td>\n      <td>0</td>\n      <td>0</td>\n      <td>0</td>\n    </tr>\n    <tr>\n      <th>5682989</th>\n      <td>1548206</td>\n      <td>2019-05-28</td>\n      <td>0</td>\n      <td>0</td>\n      <td>0</td>\n      <td>0</td>\n      <td>0</td>\n      <td>0</td>\n      <td>0</td>\n      <td>0</td>\n      <td>0.0</td>\n      <td>0.0</td>\n      <td>0</td>\n      <td>0</td>\n      <td>0</td>\n      <td>0</td>\n      <td>0</td>\n    </tr>\n    <tr>\n      <th>5100678</th>\n      <td>1548207</td>\n      <td>2019-04-28</td>\n      <td>0</td>\n      <td>0</td>\n      <td>0</td>\n      <td>0</td>\n      <td>0</td>\n      <td>0</td>\n      <td>0</td>\n      <td>0</td>\n      <td>0.0</td>\n      <td>0.0</td>\n      <td>0</td>\n      <td>0</td>\n      <td>0</td>\n      <td>0</td>\n      <td>0</td>\n    </tr>\n    <tr>\n      <th>5682988</th>\n      <td>1548207</td>\n      <td>2019-05-28</td>\n      <td>0</td>\n      <td>0</td>\n      <td>0</td>\n      <td>0</td>\n      <td>0</td>\n      <td>0</td>\n      <td>0</td>\n      <td>0</td>\n      <td>0.0</td>\n      <td>0.0</td>\n      <td>0</td>\n      <td>0</td>\n      <td>0</td>\n      <td>0</td>\n      <td>0</td>\n    </tr>\n  </tbody>\n</table>\n<p>5954110 rows × 17 columns</p>\n</div>"
     },
     "execution_count": 7,
     "metadata": {},
     "output_type": "execute_result"
    }
   ],
   "source": [
    "products_df[products_df[\"pk_cid\"].duplicated(keep=False)].sort_values(\"pk_cid\")"
   ],
   "metadata": {
    "collapsed": false,
    "pycharm": {
     "name": "#%%\n"
    }
   }
  },
  {
   "cell_type": "code",
   "execution_count": 8,
   "outputs": [
    {
     "data": {
      "text/plain": "          pk_cid pk_partition  short_term_deposit  loans  mortgage  funds  \\\n72       1050659   2018-01-28                   0      0         0      0   \n121      1050565   2018-01-28                   0      0         0      0   \n141      1050537   2018-01-28                   0      0         0      0   \n187      1050869   2018-01-28                   0      0         0      0   \n223      1050920   2018-01-28                   0      0         0      0   \n...          ...          ...                 ...    ...       ...    ...   \n5962686  1167089   2019-05-28                   0      0         0      0   \n5962687  1167088   2019-05-28                   0      0         0      0   \n5962719  1166671   2019-05-28                   0      0         0      0   \n5962753  1166666   2019-05-28                   0      0         0      0   \n5962872  1166753   2019-05-28                   0      0         0      0   \n\n         securities  long_term_deposit  em_account_pp  credit_card  payroll  \\\n72                0                  0              0            1      1.0   \n121               0                  0              0            0      1.0   \n141               0                  0              0            0      1.0   \n187               0                  0              0            0      1.0   \n223               0                  0              0            0      1.0   \n...             ...                ...            ...          ...      ...   \n5962686           0                  0              0            0      1.0   \n5962687           0                  0              0            1      1.0   \n5962719           0                  0              0            0      1.0   \n5962753           0                  0              0            0      1.0   \n5962872           0                  0              0            0      1.0   \n\n         pension_plan  payroll_account  emc_account  debit_card  em_account_p  \\\n72                1.0                1            1           1             0   \n121               1.0                1            0           1             0   \n141               1.0                1            0           0             0   \n187               1.0                1            1           1             0   \n223               1.0                1            1           0             0   \n...               ...              ...          ...         ...           ...   \n5962686           1.0                1            0           1             0   \n5962687           1.0                1            0           1             0   \n5962719           1.0                1            0           1             0   \n5962753           1.0                1            0           1             0   \n5962872           1.0                1            0           1             0   \n\n         em_acount  \n72               0  \n121              0  \n141              0  \n187              0  \n223              0  \n...            ...  \n5962686          0  \n5962687          0  \n5962719          0  \n5962753          0  \n5962872          0  \n\n[193190 rows x 17 columns]",
      "text/html": "<div>\n<style scoped>\n    .dataframe tbody tr th:only-of-type {\n        vertical-align: middle;\n    }\n\n    .dataframe tbody tr th {\n        vertical-align: top;\n    }\n\n    .dataframe thead th {\n        text-align: right;\n    }\n</style>\n<table border=\"1\" class=\"dataframe\">\n  <thead>\n    <tr style=\"text-align: right;\">\n      <th></th>\n      <th>pk_cid</th>\n      <th>pk_partition</th>\n      <th>short_term_deposit</th>\n      <th>loans</th>\n      <th>mortgage</th>\n      <th>funds</th>\n      <th>securities</th>\n      <th>long_term_deposit</th>\n      <th>em_account_pp</th>\n      <th>credit_card</th>\n      <th>payroll</th>\n      <th>pension_plan</th>\n      <th>payroll_account</th>\n      <th>emc_account</th>\n      <th>debit_card</th>\n      <th>em_account_p</th>\n      <th>em_acount</th>\n    </tr>\n  </thead>\n  <tbody>\n    <tr>\n      <th>72</th>\n      <td>1050659</td>\n      <td>2018-01-28</td>\n      <td>0</td>\n      <td>0</td>\n      <td>0</td>\n      <td>0</td>\n      <td>0</td>\n      <td>0</td>\n      <td>0</td>\n      <td>1</td>\n      <td>1.0</td>\n      <td>1.0</td>\n      <td>1</td>\n      <td>1</td>\n      <td>1</td>\n      <td>0</td>\n      <td>0</td>\n    </tr>\n    <tr>\n      <th>121</th>\n      <td>1050565</td>\n      <td>2018-01-28</td>\n      <td>0</td>\n      <td>0</td>\n      <td>0</td>\n      <td>0</td>\n      <td>0</td>\n      <td>0</td>\n      <td>0</td>\n      <td>0</td>\n      <td>1.0</td>\n      <td>1.0</td>\n      <td>1</td>\n      <td>0</td>\n      <td>1</td>\n      <td>0</td>\n      <td>0</td>\n    </tr>\n    <tr>\n      <th>141</th>\n      <td>1050537</td>\n      <td>2018-01-28</td>\n      <td>0</td>\n      <td>0</td>\n      <td>0</td>\n      <td>0</td>\n      <td>0</td>\n      <td>0</td>\n      <td>0</td>\n      <td>0</td>\n      <td>1.0</td>\n      <td>1.0</td>\n      <td>1</td>\n      <td>0</td>\n      <td>0</td>\n      <td>0</td>\n      <td>0</td>\n    </tr>\n    <tr>\n      <th>187</th>\n      <td>1050869</td>\n      <td>2018-01-28</td>\n      <td>0</td>\n      <td>0</td>\n      <td>0</td>\n      <td>0</td>\n      <td>0</td>\n      <td>0</td>\n      <td>0</td>\n      <td>0</td>\n      <td>1.0</td>\n      <td>1.0</td>\n      <td>1</td>\n      <td>1</td>\n      <td>1</td>\n      <td>0</td>\n      <td>0</td>\n    </tr>\n    <tr>\n      <th>223</th>\n      <td>1050920</td>\n      <td>2018-01-28</td>\n      <td>0</td>\n      <td>0</td>\n      <td>0</td>\n      <td>0</td>\n      <td>0</td>\n      <td>0</td>\n      <td>0</td>\n      <td>0</td>\n      <td>1.0</td>\n      <td>1.0</td>\n      <td>1</td>\n      <td>1</td>\n      <td>0</td>\n      <td>0</td>\n      <td>0</td>\n    </tr>\n    <tr>\n      <th>...</th>\n      <td>...</td>\n      <td>...</td>\n      <td>...</td>\n      <td>...</td>\n      <td>...</td>\n      <td>...</td>\n      <td>...</td>\n      <td>...</td>\n      <td>...</td>\n      <td>...</td>\n      <td>...</td>\n      <td>...</td>\n      <td>...</td>\n      <td>...</td>\n      <td>...</td>\n      <td>...</td>\n      <td>...</td>\n    </tr>\n    <tr>\n      <th>5962686</th>\n      <td>1167089</td>\n      <td>2019-05-28</td>\n      <td>0</td>\n      <td>0</td>\n      <td>0</td>\n      <td>0</td>\n      <td>0</td>\n      <td>0</td>\n      <td>0</td>\n      <td>0</td>\n      <td>1.0</td>\n      <td>1.0</td>\n      <td>1</td>\n      <td>0</td>\n      <td>1</td>\n      <td>0</td>\n      <td>0</td>\n    </tr>\n    <tr>\n      <th>5962687</th>\n      <td>1167088</td>\n      <td>2019-05-28</td>\n      <td>0</td>\n      <td>0</td>\n      <td>0</td>\n      <td>0</td>\n      <td>0</td>\n      <td>0</td>\n      <td>0</td>\n      <td>1</td>\n      <td>1.0</td>\n      <td>1.0</td>\n      <td>1</td>\n      <td>0</td>\n      <td>1</td>\n      <td>0</td>\n      <td>0</td>\n    </tr>\n    <tr>\n      <th>5962719</th>\n      <td>1166671</td>\n      <td>2019-05-28</td>\n      <td>0</td>\n      <td>0</td>\n      <td>0</td>\n      <td>0</td>\n      <td>0</td>\n      <td>0</td>\n      <td>0</td>\n      <td>0</td>\n      <td>1.0</td>\n      <td>1.0</td>\n      <td>1</td>\n      <td>0</td>\n      <td>1</td>\n      <td>0</td>\n      <td>0</td>\n    </tr>\n    <tr>\n      <th>5962753</th>\n      <td>1166666</td>\n      <td>2019-05-28</td>\n      <td>0</td>\n      <td>0</td>\n      <td>0</td>\n      <td>0</td>\n      <td>0</td>\n      <td>0</td>\n      <td>0</td>\n      <td>0</td>\n      <td>1.0</td>\n      <td>1.0</td>\n      <td>1</td>\n      <td>0</td>\n      <td>1</td>\n      <td>0</td>\n      <td>0</td>\n    </tr>\n    <tr>\n      <th>5962872</th>\n      <td>1166753</td>\n      <td>2019-05-28</td>\n      <td>0</td>\n      <td>0</td>\n      <td>0</td>\n      <td>0</td>\n      <td>0</td>\n      <td>0</td>\n      <td>0</td>\n      <td>0</td>\n      <td>1.0</td>\n      <td>1.0</td>\n      <td>1</td>\n      <td>0</td>\n      <td>1</td>\n      <td>0</td>\n      <td>0</td>\n    </tr>\n  </tbody>\n</table>\n<p>193190 rows × 17 columns</p>\n</div>"
     },
     "execution_count": 8,
     "metadata": {},
     "output_type": "execute_result"
    }
   ],
   "source": [
    "products_df[(products_df[\"payroll\"] == 1) & (products_df[\"payroll_account\"] == 1)]"
   ],
   "metadata": {
    "collapsed": false,
    "pycharm": {
     "name": "#%%\n"
    }
   }
  },
  {
   "cell_type": "code",
   "execution_count": 9,
   "outputs": [],
   "source": [
    "payments = products_df[\n",
    "    [\"pk_cid\", \"pk_partition\", \"payroll\", \"payroll_account\", \"emc_account\", \"em_account_p\", \"em_account_pp\",\n",
    "     \"em_acount\"]][products_df[\"pk_partition\"] == \"2018-01-28\"]"
   ],
   "metadata": {
    "collapsed": false,
    "pycharm": {
     "name": "#%%\n"
    }
   }
  },
  {
   "cell_type": "code",
   "execution_count": 10,
   "outputs": [],
   "source": [
    "# corr = payments.corr()\n",
    "# corr.style.background_gradient(cmap=\"coolwarm\")"
   ],
   "metadata": {
    "collapsed": false,
    "pycharm": {
     "name": "#%%\n"
    }
   }
  },
  {
   "cell_type": "code",
   "execution_count": 11,
   "outputs": [
    {
     "data": {
      "text/plain": "205787.0"
     },
     "execution_count": 11,
     "metadata": {},
     "output_type": "execute_result"
    }
   ],
   "source": [
    "products_df[\"payroll\"].sum()"
   ],
   "metadata": {
    "collapsed": false,
    "pycharm": {
     "name": "#%%\n"
    }
   }
  },
  {
   "cell_type": "markdown",
   "source": [
    "## Commercial Activity"
   ],
   "metadata": {
    "collapsed": false,
    "pycharm": {
     "name": "#%% md\n"
    }
   }
  },
  {
   "cell_type": "code",
   "execution_count": 12,
   "outputs": [],
   "source": [
    "commercial_activity_df = pd.read_csv(f\"{__DATA_PATH__}commercial_activity_df.csv\")\n",
    "del (commercial_activity_df[\"Unnamed: 0\"])"
   ],
   "metadata": {
    "collapsed": false,
    "pycharm": {
     "name": "#%%\n"
    }
   }
  },
  {
   "cell_type": "code",
   "source": [
    "commercial_activity_df.info()"
   ],
   "metadata": {
    "collapsed": false,
    "pycharm": {
     "name": "#%%\n"
    }
   },
   "execution_count": 13,
   "outputs": [
    {
     "name": "stdout",
     "output_type": "stream",
     "text": [
      "<class 'pandas.core.frame.DataFrame'>\n",
      "RangeIndex: 5962924 entries, 0 to 5962923\n",
      "Data columns (total 6 columns):\n",
      " #   Column           Dtype  \n",
      "---  ------           -----  \n",
      " 0   pk_cid           int64  \n",
      " 1   pk_partition     object \n",
      " 2   entry_date       object \n",
      " 3   entry_channel    object \n",
      " 4   active_customer  float64\n",
      " 5   segment          object \n",
      "dtypes: float64(1), int64(1), object(4)\n",
      "memory usage: 273.0+ MB\n"
     ]
    }
   ]
  },
  {
   "cell_type": "code",
   "source": [
    "commercial_activity_df[\"pk_cid\"].value_counts()"
   ],
   "metadata": {
    "collapsed": false,
    "pycharm": {
     "name": "#%%\n"
    }
   },
   "execution_count": 14,
   "outputs": [
    {
     "data": {
      "text/plain": "1375586    17\n1328781    17\n1328783    17\n1328784    17\n1328786    17\n           ..\n1521045     1\n1545224     1\n1470941     1\n1521049     1\n1550586     1\nName: pk_cid, Length: 456373, dtype: int64"
     },
     "execution_count": 14,
     "metadata": {},
     "output_type": "execute_result"
    }
   ]
  },
  {
   "cell_type": "code",
   "source": [
    "len(commercial_activity_df)"
   ],
   "metadata": {
    "collapsed": false,
    "pycharm": {
     "name": "#%%\n"
    }
   },
   "execution_count": 15,
   "outputs": [
    {
     "data": {
      "text/plain": "5962924"
     },
     "execution_count": 15,
     "metadata": {},
     "output_type": "execute_result"
    }
   ]
  },
  {
   "cell_type": "code",
   "execution_count": 16,
   "outputs": [
    {
     "data": {
      "text/plain": "          pk_cid pk_partition  entry_date entry_channel  active_customer  \\\n5134317    16063   2019-04-28  2018-11-19           KAT              1.0   \n4480637    16063   2019-02-28  2018-11-19           KAT              1.0   \n4028169    16063   2019-01-28  2018-11-19           KAT              1.0   \n3628236    16063   2018-12-28  2018-11-19           KAT              1.0   \n4876040    16063   2019-03-28  2018-11-19           KAT              0.0   \n...          ...          ...         ...           ...              ...   \n5672274  1542729   2019-05-28  2019-03-31           KHM              0.0   \n5672408  1542940   2019-05-28  2019-04-01           NaN              0.0   \n5096138  1542940   2019-04-28  2019-04-01           NaN              0.0   \n5101033  1545155   2019-04-28  2019-04-13           NaN              0.0   \n5682615  1545155   2019-05-28  2019-04-13           NaN              0.0   \n\n                   segment  \n5134317  02 - PARTICULARES  \n4480637  02 - PARTICULARES  \n4028169  02 - PARTICULARES  \n3628236  02 - PARTICULARES  \n4876040  02 - PARTICULARES  \n...                    ...  \n5672274  02 - PARTICULARES  \n5672408                NaN  \n5096138                NaN  \n5101033                NaN  \n5682615                NaN  \n\n[5804084 rows x 6 columns]",
      "text/html": "<div>\n<style scoped>\n    .dataframe tbody tr th:only-of-type {\n        vertical-align: middle;\n    }\n\n    .dataframe tbody tr th {\n        vertical-align: top;\n    }\n\n    .dataframe thead th {\n        text-align: right;\n    }\n</style>\n<table border=\"1\" class=\"dataframe\">\n  <thead>\n    <tr style=\"text-align: right;\">\n      <th></th>\n      <th>pk_cid</th>\n      <th>pk_partition</th>\n      <th>entry_date</th>\n      <th>entry_channel</th>\n      <th>active_customer</th>\n      <th>segment</th>\n    </tr>\n  </thead>\n  <tbody>\n    <tr>\n      <th>5134317</th>\n      <td>16063</td>\n      <td>2019-04-28</td>\n      <td>2018-11-19</td>\n      <td>KAT</td>\n      <td>1.0</td>\n      <td>02 - PARTICULARES</td>\n    </tr>\n    <tr>\n      <th>4480637</th>\n      <td>16063</td>\n      <td>2019-02-28</td>\n      <td>2018-11-19</td>\n      <td>KAT</td>\n      <td>1.0</td>\n      <td>02 - PARTICULARES</td>\n    </tr>\n    <tr>\n      <th>4028169</th>\n      <td>16063</td>\n      <td>2019-01-28</td>\n      <td>2018-11-19</td>\n      <td>KAT</td>\n      <td>1.0</td>\n      <td>02 - PARTICULARES</td>\n    </tr>\n    <tr>\n      <th>3628236</th>\n      <td>16063</td>\n      <td>2018-12-28</td>\n      <td>2018-11-19</td>\n      <td>KAT</td>\n      <td>1.0</td>\n      <td>02 - PARTICULARES</td>\n    </tr>\n    <tr>\n      <th>4876040</th>\n      <td>16063</td>\n      <td>2019-03-28</td>\n      <td>2018-11-19</td>\n      <td>KAT</td>\n      <td>0.0</td>\n      <td>02 - PARTICULARES</td>\n    </tr>\n    <tr>\n      <th>...</th>\n      <td>...</td>\n      <td>...</td>\n      <td>...</td>\n      <td>...</td>\n      <td>...</td>\n      <td>...</td>\n    </tr>\n    <tr>\n      <th>5672274</th>\n      <td>1542729</td>\n      <td>2019-05-28</td>\n      <td>2019-03-31</td>\n      <td>KHM</td>\n      <td>0.0</td>\n      <td>02 - PARTICULARES</td>\n    </tr>\n    <tr>\n      <th>5672408</th>\n      <td>1542940</td>\n      <td>2019-05-28</td>\n      <td>2019-04-01</td>\n      <td>NaN</td>\n      <td>0.0</td>\n      <td>NaN</td>\n    </tr>\n    <tr>\n      <th>5096138</th>\n      <td>1542940</td>\n      <td>2019-04-28</td>\n      <td>2019-04-01</td>\n      <td>NaN</td>\n      <td>0.0</td>\n      <td>NaN</td>\n    </tr>\n    <tr>\n      <th>5101033</th>\n      <td>1545155</td>\n      <td>2019-04-28</td>\n      <td>2019-04-13</td>\n      <td>NaN</td>\n      <td>0.0</td>\n      <td>NaN</td>\n    </tr>\n    <tr>\n      <th>5682615</th>\n      <td>1545155</td>\n      <td>2019-05-28</td>\n      <td>2019-04-13</td>\n      <td>NaN</td>\n      <td>0.0</td>\n      <td>NaN</td>\n    </tr>\n  </tbody>\n</table>\n<p>5804084 rows × 6 columns</p>\n</div>"
     },
     "execution_count": 16,
     "metadata": {},
     "output_type": "execute_result"
    }
   ],
   "source": [
    "commercial_activity_df[\n",
    "    commercial_activity_df[[\"pk_cid\", \"entry_date\", \"entry_channel\", \"active_customer\", \"segment\"]].duplicated(\n",
    "        keep=False)].sort_values(\"pk_cid\")"
   ],
   "metadata": {
    "collapsed": false,
    "pycharm": {
     "name": "#%%\n"
    }
   }
  },
  {
   "cell_type": "code",
   "source": [
    "commercial_activity_df.sort_values([\"pk_cid\", \"pk_partition\"])"
   ],
   "metadata": {
    "collapsed": false,
    "pycharm": {
     "name": "#%%\n"
    }
   },
   "execution_count": 17,
   "outputs": [
    {
     "data": {
      "text/plain": "          pk_cid pk_partition  entry_date entry_channel  active_customer  \\\n1479563    15891   2018-07-28  2018-07-28           KAT              1.0   \n2168122    15891   2018-08-28  2018-07-28           KAT              0.0   \n2962973    16063   2018-11-28  2018-11-19           KAT              1.0   \n3628236    16063   2018-12-28  2018-11-19           KAT              1.0   \n4028169    16063   2019-01-28  2018-11-19           KAT              1.0   \n...          ...          ...         ...           ...              ...   \n5679916  1553685   2019-05-28  2019-05-31           NaN              0.0   \n5679915  1553686   2019-05-28  2019-05-31           NaN              0.0   \n5679914  1553687   2019-05-28  2019-05-31           NaN              0.0   \n5679913  1553688   2019-05-28  2019-05-31           NaN              0.0   \n5679912  1553689   2019-05-28  2019-05-31           NaN              0.0   \n\n                   segment  \n1479563                NaN  \n2168122  02 - PARTICULARES  \n2962973                NaN  \n3628236  02 - PARTICULARES  \n4028169  02 - PARTICULARES  \n...                    ...  \n5679916                NaN  \n5679915                NaN  \n5679914                NaN  \n5679913                NaN  \n5679912                NaN  \n\n[5962924 rows x 6 columns]",
      "text/html": "<div>\n<style scoped>\n    .dataframe tbody tr th:only-of-type {\n        vertical-align: middle;\n    }\n\n    .dataframe tbody tr th {\n        vertical-align: top;\n    }\n\n    .dataframe thead th {\n        text-align: right;\n    }\n</style>\n<table border=\"1\" class=\"dataframe\">\n  <thead>\n    <tr style=\"text-align: right;\">\n      <th></th>\n      <th>pk_cid</th>\n      <th>pk_partition</th>\n      <th>entry_date</th>\n      <th>entry_channel</th>\n      <th>active_customer</th>\n      <th>segment</th>\n    </tr>\n  </thead>\n  <tbody>\n    <tr>\n      <th>1479563</th>\n      <td>15891</td>\n      <td>2018-07-28</td>\n      <td>2018-07-28</td>\n      <td>KAT</td>\n      <td>1.0</td>\n      <td>NaN</td>\n    </tr>\n    <tr>\n      <th>2168122</th>\n      <td>15891</td>\n      <td>2018-08-28</td>\n      <td>2018-07-28</td>\n      <td>KAT</td>\n      <td>0.0</td>\n      <td>02 - PARTICULARES</td>\n    </tr>\n    <tr>\n      <th>2962973</th>\n      <td>16063</td>\n      <td>2018-11-28</td>\n      <td>2018-11-19</td>\n      <td>KAT</td>\n      <td>1.0</td>\n      <td>NaN</td>\n    </tr>\n    <tr>\n      <th>3628236</th>\n      <td>16063</td>\n      <td>2018-12-28</td>\n      <td>2018-11-19</td>\n      <td>KAT</td>\n      <td>1.0</td>\n      <td>02 - PARTICULARES</td>\n    </tr>\n    <tr>\n      <th>4028169</th>\n      <td>16063</td>\n      <td>2019-01-28</td>\n      <td>2018-11-19</td>\n      <td>KAT</td>\n      <td>1.0</td>\n      <td>02 - PARTICULARES</td>\n    </tr>\n    <tr>\n      <th>...</th>\n      <td>...</td>\n      <td>...</td>\n      <td>...</td>\n      <td>...</td>\n      <td>...</td>\n      <td>...</td>\n    </tr>\n    <tr>\n      <th>5679916</th>\n      <td>1553685</td>\n      <td>2019-05-28</td>\n      <td>2019-05-31</td>\n      <td>NaN</td>\n      <td>0.0</td>\n      <td>NaN</td>\n    </tr>\n    <tr>\n      <th>5679915</th>\n      <td>1553686</td>\n      <td>2019-05-28</td>\n      <td>2019-05-31</td>\n      <td>NaN</td>\n      <td>0.0</td>\n      <td>NaN</td>\n    </tr>\n    <tr>\n      <th>5679914</th>\n      <td>1553687</td>\n      <td>2019-05-28</td>\n      <td>2019-05-31</td>\n      <td>NaN</td>\n      <td>0.0</td>\n      <td>NaN</td>\n    </tr>\n    <tr>\n      <th>5679913</th>\n      <td>1553688</td>\n      <td>2019-05-28</td>\n      <td>2019-05-31</td>\n      <td>NaN</td>\n      <td>0.0</td>\n      <td>NaN</td>\n    </tr>\n    <tr>\n      <th>5679912</th>\n      <td>1553689</td>\n      <td>2019-05-28</td>\n      <td>2019-05-31</td>\n      <td>NaN</td>\n      <td>0.0</td>\n      <td>NaN</td>\n    </tr>\n  </tbody>\n</table>\n<p>5962924 rows × 6 columns</p>\n</div>"
     },
     "execution_count": 17,
     "metadata": {},
     "output_type": "execute_result"
    }
   ]
  },
  {
   "cell_type": "code",
   "execution_count": 18,
   "outputs": [
    {
     "data": {
      "text/plain": "5804084"
     },
     "execution_count": 18,
     "metadata": {},
     "output_type": "execute_result"
    }
   ],
   "source": [
    "len(commercial_activity_df[\n",
    "        commercial_activity_df[[\"pk_cid\", \"entry_date\", \"entry_channel\", \"active_customer\", \"segment\"]].duplicated(\n",
    "            keep=False)])"
   ],
   "metadata": {
    "collapsed": false,
    "pycharm": {
     "name": "#%%\n"
    }
   }
  },
  {
   "cell_type": "markdown",
   "source": [
    "## Socio demographic"
   ],
   "metadata": {
    "collapsed": false
   }
  },
  {
   "cell_type": "code",
   "execution_count": 19,
   "outputs": [],
   "source": [
    "socio_demographic_df = pd.read_csv(f\"{__DATA_PATH__}sociodemographic_df.csv\")\n",
    "del (socio_demographic_df[\"Unnamed: 0\"])"
   ],
   "metadata": {
    "collapsed": false,
    "pycharm": {
     "name": "#%%\n"
    }
   }
  },
  {
   "cell_type": "code",
   "execution_count": 20,
   "outputs": [
    {
     "name": "stdout",
     "output_type": "stream",
     "text": [
      "<class 'pandas.core.frame.DataFrame'>\n",
      "RangeIndex: 5962924 entries, 0 to 5962923\n",
      "Data columns (total 8 columns):\n",
      " #   Column        Dtype  \n",
      "---  ------        -----  \n",
      " 0   pk_cid        int64  \n",
      " 1   pk_partition  object \n",
      " 2   country_id    object \n",
      " 3   region_code   float64\n",
      " 4   gender        object \n",
      " 5   age           int64  \n",
      " 6   deceased      object \n",
      " 7   salary        float64\n",
      "dtypes: float64(2), int64(2), object(4)\n",
      "memory usage: 363.9+ MB\n"
     ]
    }
   ],
   "source": [
    "socio_demographic_df.info()"
   ],
   "metadata": {
    "collapsed": false,
    "pycharm": {
     "name": "#%%\n"
    }
   }
  },
  {
   "cell_type": "code",
   "execution_count": 21,
   "outputs": [
    {
     "data": {
      "text/plain": "(5962924, 8)"
     },
     "execution_count": 21,
     "metadata": {},
     "output_type": "execute_result"
    }
   ],
   "source": [
    "socio_demographic_df.shape"
   ],
   "metadata": {
    "collapsed": false,
    "pycharm": {
     "name": "#%%\n"
    }
   }
  },
  {
   "cell_type": "code",
   "execution_count": 22,
   "outputs": [
    {
     "data": {
      "text/plain": "(5962924, 17)"
     },
     "execution_count": 22,
     "metadata": {},
     "output_type": "execute_result"
    }
   ],
   "source": [
    "products_df.shape"
   ],
   "metadata": {
    "collapsed": false,
    "pycharm": {
     "name": "#%%\n"
    }
   }
  },
  {
   "cell_type": "code",
   "source": [
    "commercial_activity_df.shape"
   ],
   "metadata": {
    "collapsed": false,
    "pycharm": {
     "name": "#%%\n"
    }
   },
   "execution_count": 23,
   "outputs": [
    {
     "data": {
      "text/plain": "(5962924, 6)"
     },
     "execution_count": 23,
     "metadata": {},
     "output_type": "execute_result"
    }
   ]
  },
  {
   "cell_type": "code",
   "execution_count": 24,
   "outputs": [
    {
     "data": {
      "text/plain": "<Figure size 432x432 with 1 Axes>",
      "image/png": "[encoded data removed]"
     },
     "metadata": {},
     "output_type": "display_data"
    }
   ],
   "source": [
    "my_labels = [\"Hombres\", \"Mujeres\"]\n",
    "my_explode = (0, 0.04)\n",
    "ax = socio_demographic_df[socio_demographic_df[\"pk_partition\"] == \"2018-01-28\"].groupby('gender').size().plot(\n",
    "    kind='pie', startangle=15, labels=my_labels, autopct='%1.0f%%', figsize=(6, 6), shadow=True,\n",
    "    colors=['#FF7AA2', \"#20c8b3\"], explode=my_explode)\n",
    "ax.set_title(\"Distribución de clientes por género\", fontsize=14)\n",
    "plt.ylabel(\"\")\n",
    "plt.show()"
   ],
   "metadata": {
    "collapsed": false,
    "pycharm": {
     "name": "#%%\n"
    }
   }
  },
  {
   "cell_type": "code",
   "execution_count": 25,
   "outputs": [
    {
     "data": {
      "text/plain": "         pk_cid pk_partition country_id  region_code gender  age deceased  \\\n0       1375586   2018-01-28         ES         29.0      H   35        N   \n1       1050611   2018-01-28         ES         13.0      V   23        N   \n2       1050612   2018-01-28         ES         13.0      V   23        N   \n3       1050613   2018-01-28         ES         50.0      H   22        N   \n4       1050614   2018-01-28         ES         50.0      V   23        N   \n...         ...          ...        ...          ...    ...  ...      ...   \n239488   538545   2018-01-28         ES         28.0      H   38        N   \n239489   538902   2018-01-28         ES         28.0      H   78        N   \n239490   539016   2018-01-28         FR          NaN      H   84        N   \n239491   538736   2018-01-28         ES         38.0      V   64        N   \n239492   538227   2018-01-28         ES         23.0      V   30        N   \n\n           salary  \n0        87218.10  \n1        35548.74  \n2       122179.11  \n3       119775.54  \n4             NaN  \n...           ...  \n239488  206068.47  \n239489  143256.09  \n239490        NaN  \n239491   71786.61  \n239492   70121.34  \n\n[239493 rows x 8 columns]",
      "text/html": "<div>\n<style scoped>\n    .dataframe tbody tr th:only-of-type {\n        vertical-align: middle;\n    }\n\n    .dataframe tbody tr th {\n        vertical-align: top;\n    }\n\n    .dataframe thead th {\n        text-align: right;\n    }\n</style>\n<table border=\"1\" class=\"dataframe\">\n  <thead>\n    <tr style=\"text-align: right;\">\n      <th></th>\n      <th>pk_cid</th>\n      <th>pk_partition</th>\n      <th>country_id</th>\n      <th>region_code</th>\n      <th>gender</th>\n      <th>age</th>\n      <th>deceased</th>\n      <th>salary</th>\n    </tr>\n  </thead>\n  <tbody>\n    <tr>\n      <th>0</th>\n      <td>1375586</td>\n      <td>2018-01-28</td>\n      <td>ES</td>\n      <td>29.0</td>\n      <td>H</td>\n      <td>35</td>\n      <td>N</td>\n      <td>87218.10</td>\n    </tr>\n    <tr>\n      <th>1</th>\n      <td>1050611</td>\n      <td>2018-01-28</td>\n      <td>ES</td>\n      <td>13.0</td>\n      <td>V</td>\n      <td>23</td>\n      <td>N</td>\n      <td>35548.74</td>\n    </tr>\n    <tr>\n      <th>2</th>\n      <td>1050612</td>\n      <td>2018-01-28</td>\n      <td>ES</td>\n      <td>13.0</td>\n      <td>V</td>\n      <td>23</td>\n      <td>N</td>\n      <td>122179.11</td>\n    </tr>\n    <tr>\n      <th>3</th>\n      <td>1050613</td>\n      <td>2018-01-28</td>\n      <td>ES</td>\n      <td>50.0</td>\n      <td>H</td>\n      <td>22</td>\n      <td>N</td>\n      <td>119775.54</td>\n    </tr>\n    <tr>\n      <th>4</th>\n      <td>1050614</td>\n      <td>2018-01-28</td>\n      <td>ES</td>\n      <td>50.0</td>\n      <td>V</td>\n      <td>23</td>\n      <td>N</td>\n      <td>NaN</td>\n    </tr>\n    <tr>\n      <th>...</th>\n      <td>...</td>\n      <td>...</td>\n      <td>...</td>\n      <td>...</td>\n      <td>...</td>\n      <td>...</td>\n      <td>...</td>\n      <td>...</td>\n    </tr>\n    <tr>\n      <th>239488</th>\n      <td>538545</td>\n      <td>2018-01-28</td>\n      <td>ES</td>\n      <td>28.0</td>\n      <td>H</td>\n      <td>38</td>\n      <td>N</td>\n      <td>206068.47</td>\n    </tr>\n    <tr>\n      <th>239489</th>\n      <td>538902</td>\n      <td>2018-01-28</td>\n      <td>ES</td>\n      <td>28.0</td>\n      <td>H</td>\n      <td>78</td>\n      <td>N</td>\n      <td>143256.09</td>\n    </tr>\n    <tr>\n      <th>239490</th>\n      <td>539016</td>\n      <td>2018-01-28</td>\n      <td>FR</td>\n      <td>NaN</td>\n      <td>H</td>\n      <td>84</td>\n      <td>N</td>\n      <td>NaN</td>\n    </tr>\n    <tr>\n      <th>239491</th>\n      <td>538736</td>\n      <td>2018-01-28</td>\n      <td>ES</td>\n      <td>38.0</td>\n      <td>V</td>\n      <td>64</td>\n      <td>N</td>\n      <td>71786.61</td>\n    </tr>\n    <tr>\n      <th>239492</th>\n      <td>538227</td>\n      <td>2018-01-28</td>\n      <td>ES</td>\n      <td>23.0</td>\n      <td>V</td>\n      <td>30</td>\n      <td>N</td>\n      <td>70121.34</td>\n    </tr>\n  </tbody>\n</table>\n<p>239493 rows × 8 columns</p>\n</div>"
     },
     "execution_count": 25,
     "metadata": {},
     "output_type": "execute_result"
    }
   ],
   "source": [
    "socio_demographic_df[socio_demographic_df[\"pk_partition\"] == \"2018-01-28\"]"
   ],
   "metadata": {
    "collapsed": false,
    "pycharm": {
     "name": "#%%\n"
    }
   }
  },
  {
   "cell_type": "code",
   "execution_count": 26,
   "outputs": [
    {
     "data": {
      "text/plain": "array(['2018-01-28', '2018-02-28', '2018-03-28'], dtype=object)"
     },
     "execution_count": 26,
     "metadata": {},
     "output_type": "execute_result"
    }
   ],
   "source": [
    "partitions = socio_demographic_df[\"pk_partition\"].unique()\n",
    "partitions[0:3]"
   ],
   "metadata": {
    "collapsed": false,
    "pycharm": {
     "name": "#%%\n"
    }
   }
  },
  {
   "cell_type": "code",
   "execution_count": 27,
   "outputs": [
    {
     "data": {
      "text/plain": "array(['2018-04-28'], dtype=object)"
     },
     "execution_count": 27,
     "metadata": {},
     "output_type": "execute_result"
    }
   ],
   "source": [
    "partitions[3:4]"
   ],
   "metadata": {
    "collapsed": false,
    "pycharm": {
     "name": "#%%\n"
    }
   }
  },
  {
   "cell_type": "code",
   "execution_count": 28,
   "outputs": [
    {
     "data": {
      "text/plain": "0          True\n1          True\n2          True\n3          True\n4          True\n           ... \n5962919    True\n5962920    True\n5962921    True\n5962922    True\n5962923    True\nName: pk_partition, Length: 5962924, dtype: bool"
     },
     "execution_count": 28,
     "metadata": {},
     "output_type": "execute_result"
    }
   ],
   "source": [
    "products_df[\"pk_partition\"].isin(partitions)"
   ],
   "metadata": {
    "collapsed": false,
    "pycharm": {
     "name": "#%%\n"
    }
   }
  },
  {
   "cell_type": "code",
   "execution_count": 29,
   "outputs": [],
   "source": [
    "def select_partition(dataframe: pd.DataFrame, from_partition: int, size: int = 1) -> pd.DataFrame:\n",
    "    \"\"\"\n",
    "    Selecciona particiones del dataframe\n",
    "    :param dataframe: dataframe a evaluar\n",
    "    :param from_partition: mes de inicio a evaluar desde 1 a 17\n",
    "    :param size: (optional, default=1) cantidad de particiones a mostrar\n",
    "    :return: dataframe particionado\n",
    "    \"\"\"\n",
    "    partitions = dataframe[\"pk_partition\"].unique()\n",
    "    from_partition = from_partition - 1\n",
    "    to_partition = from_partition + size\n",
    "    return dataframe[dataframe[\"pk_partition\"].isin(partitions[from_partition: to_partition])]"
   ],
   "metadata": {
    "collapsed": false,
    "pycharm": {
     "name": "#%%\n"
    }
   }
  },
  {
   "cell_type": "code",
   "execution_count": 30,
   "outputs": [
    {
     "data": {
      "text/plain": "2018-06-28    252104\n2018-05-28    249926\n2018-04-28    247463\nName: pk_partition, dtype: int64"
     },
     "execution_count": 30,
     "metadata": {},
     "output_type": "execute_result"
    }
   ],
   "source": [
    "\n",
    "\n",
    "\n",
    "\n",
    "select_partition(socio_demographic_df, 4, 3)[\"pk_partition\"].value_counts()"
   ],
   "metadata": {
    "collapsed": false,
    "pycharm": {
     "name": "#%%\n"
    }
   }
  },
  {
   "cell_type": "code",
   "execution_count": 31,
   "outputs": [
    {
     "data": {
      "text/plain": "N    252059\nS        45\nName: deceased, dtype: int64"
     },
     "execution_count": 31,
     "metadata": {},
     "output_type": "execute_result"
    }
   ],
   "source": [
    "select_partition(socio_demographic_df, 6)[\"deceased\"].value_counts()"
   ],
   "metadata": {
    "collapsed": false,
    "pycharm": {
     "name": "#%%\n"
    }
   }
  },
  {
   "cell_type": "code",
   "execution_count": 32,
   "outputs": [
    {
     "data": {
      "text/plain": "1"
     },
     "execution_count": 32,
     "metadata": {},
     "output_type": "execute_result"
    }
   ],
   "source": [
    "select_partition(products_df, 6)[\"pk_cid\"].value_counts().max()"
   ],
   "metadata": {
    "collapsed": false,
    "pycharm": {
     "name": "#%%\n"
    }
   }
  },
  {
   "cell_type": "code",
   "execution_count": 33,
   "outputs": [],
   "source": [
    "part1 = select_partition(socio_demographic_df, 1)"
   ],
   "metadata": {
    "collapsed": false,
    "pycharm": {
     "name": "#%%\n"
    }
   }
  },
  {
   "cell_type": "code",
   "execution_count": 34,
   "outputs": [
    {
     "data": {
      "text/plain": "GB    17\nFR    11\nDE    10\nCH     9\nUS     5\nIE     4\nVE     4\nAT     3\nBR     3\nMX     2\nIT     2\nMA     2\nPL     2\nCN     2\nAR     2\nBE     2\nCL     2\nET     1\nQA     1\nCI     1\nLU     1\nSA     1\nCM     1\nCA     1\nGT     1\nMR     1\nSN     1\nNO     1\nRU     1\nCO     1\nGA     1\nDO     1\nES     1\nName: country_id, dtype: int64"
     },
     "execution_count": 34,
     "metadata": {},
     "output_type": "execute_result"
    }
   ],
   "source": [
    "part1[part1[\"region_code\"].isnull()][\"country_id\"].value_counts()"
   ],
   "metadata": {
    "collapsed": false,
    "pycharm": {
     "name": "#%%\n"
    }
   }
  },
  {
   "cell_type": "code",
   "execution_count": 35,
   "outputs": [
    {
     "data": {
      "text/plain": "          pk_cid pk_partition  short_term_deposit  loans  mortgage  funds  \\\n1479563    15891   2018-07-28                   0      0         0      0   \n2168122    15891   2018-08-28                   0      0         0      0   \n2962973    16063   2018-11-28                   0      0         0      0   \n3628236    16063   2018-12-28                   0      0         0      0   \n4028169    16063   2019-01-28                   0      0         0      0   \n...          ...          ...                 ...    ...       ...    ...   \n5679916  1553685   2019-05-28                   0      0         0      0   \n5679915  1553686   2019-05-28                   0      0         0      0   \n5679914  1553687   2019-05-28                   0      0         0      0   \n5679913  1553688   2019-05-28                   0      0         0      0   \n5679912  1553689   2019-05-28                   0      0         0      0   \n\n         securities  long_term_deposit  em_account_pp  credit_card  payroll  \\\n1479563           0                  0              0            0      0.0   \n2168122           0                  0              0            0      0.0   \n2962973           0                  0              0            0      0.0   \n3628236           0                  0              0            0      0.0   \n4028169           0                  0              0            0      0.0   \n...             ...                ...            ...          ...      ...   \n5679916           0                  0              0            0      0.0   \n5679915           0                  0              0            0      0.0   \n5679914           0                  0              0            0      0.0   \n5679913           0                  0              0            0      0.0   \n5679912           0                  0              0            0      0.0   \n\n         pension_plan  payroll_account  emc_account  debit_card  em_account_p  \\\n1479563           0.0                0            0           0             0   \n2168122           0.0                0            0           0             0   \n2962973           0.0                0            0           0             0   \n3628236           0.0                0            0           0             0   \n4028169           0.0                0            0           0             0   \n...               ...              ...          ...         ...           ...   \n5679916           0.0                0            0           0             0   \n5679915           0.0                0            0           0             0   \n5679914           0.0                0            0           0             0   \n5679913           0.0                0            0           0             0   \n5679912           0.0                0            0           0             0   \n\n         em_acount  \n1479563          1  \n2168122          0  \n2962973          0  \n3628236          0  \n4028169          0  \n...            ...  \n5679916          0  \n5679915          0  \n5679914          0  \n5679913          0  \n5679912          0  \n\n[5962924 rows x 17 columns]",
      "text/html": "<div>\n<style scoped>\n    .dataframe tbody tr th:only-of-type {\n        vertical-align: middle;\n    }\n\n    .dataframe tbody tr th {\n        vertical-align: top;\n    }\n\n    .dataframe thead th {\n        text-align: right;\n    }\n</style>\n<table border=\"1\" class=\"dataframe\">\n  <thead>\n    <tr style=\"text-align: right;\">\n      <th></th>\n      <th>pk_cid</th>\n      <th>pk_partition</th>\n      <th>short_term_deposit</th>\n      <th>loans</th>\n      <th>mortgage</th>\n      <th>funds</th>\n      <th>securities</th>\n      <th>long_term_deposit</th>\n      <th>em_account_pp</th>\n      <th>credit_card</th>\n      <th>payroll</th>\n      <th>pension_plan</th>\n      <th>payroll_account</th>\n      <th>emc_account</th>\n      <th>debit_card</th>\n      <th>em_account_p</th>\n      <th>em_acount</th>\n    </tr>\n  </thead>\n  <tbody>\n    <tr>\n      <th>1479563</th>\n      <td>15891</td>\n      <td>2018-07-28</td>\n      <td>0</td>\n      <td>0</td>\n      <td>0</td>\n      <td>0</td>\n      <td>0</td>\n      <td>0</td>\n      <td>0</td>\n      <td>0</td>\n      <td>0.0</td>\n      <td>0.0</td>\n      <td>0</td>\n      <td>0</td>\n      <td>0</td>\n      <td>0</td>\n      <td>1</td>\n    </tr>\n    <tr>\n      <th>2168122</th>\n      <td>15891</td>\n      <td>2018-08-28</td>\n      <td>0</td>\n      <td>0</td>\n      <td>0</td>\n      <td>0</td>\n      <td>0</td>\n      <td>0</td>\n      <td>0</td>\n      <td>0</td>\n      <td>0.0</td>\n      <td>0.0</td>\n      <td>0</td>\n      <td>0</td>\n      <td>0</td>\n      <td>0</td>\n      <td>0</td>\n    </tr>\n    <tr>\n      <th>2962973</th>\n      <td>16063</td>\n      <td>2018-11-28</td>\n      <td>0</td>\n      <td>0</td>\n      <td>0</td>\n      <td>0</td>\n      <td>0</td>\n      <td>0</td>\n      <td>0</td>\n      <td>0</td>\n      <td>0.0</td>\n      <td>0.0</td>\n      <td>0</td>\n      <td>0</td>\n      <td>0</td>\n      <td>0</td>\n      <td>0</td>\n    </tr>\n    <tr>\n      <th>3628236</th>\n      <td>16063</td>\n      <td>2018-12-28</td>\n      <td>0</td>\n      <td>0</td>\n      <td>0</td>\n      <td>0</td>\n      <td>0</td>\n      <td>0</td>\n      <td>0</td>\n      <td>0</td>\n      <td>0.0</td>\n      <td>0.0</td>\n      <td>0</td>\n      <td>0</td>\n      <td>0</td>\n      <td>0</td>\n      <td>0</td>\n    </tr>\n    <tr>\n      <th>4028169</th>\n      <td>16063</td>\n      <td>2019-01-28</td>\n      <td>0</td>\n      <td>0</td>\n      <td>0</td>\n      <td>0</td>\n      <td>0</td>\n      <td>0</td>\n      <td>0</td>\n      <td>0</td>\n      <td>0.0</td>\n      <td>0.0</td>\n      <td>0</td>\n      <td>0</td>\n      <td>0</td>\n      <td>0</td>\n      <td>0</td>\n    </tr>\n    <tr>\n      <th>...</th>\n      <td>...</td>\n      <td>...</td>\n      <td>...</td>\n      <td>...</td>\n      <td>...</td>\n      <td>...</td>\n      <td>...</td>\n      <td>...</td>\n      <td>...</td>\n      <td>...</td>\n      <td>...</td>\n      <td>...</td>\n      <td>...</td>\n      <td>...</td>\n      <td>...</td>\n      <td>...</td>\n      <td>...</td>\n    </tr>\n    <tr>\n      <th>5679916</th>\n      <td>1553685</td>\n      <td>2019-05-28</td>\n      <td>0</td>\n      <td>0</td>\n      <td>0</td>\n      <td>0</td>\n      <td>0</td>\n      <td>0</td>\n      <td>0</td>\n      <td>0</td>\n      <td>0.0</td>\n      <td>0.0</td>\n      <td>0</td>\n      <td>0</td>\n      <td>0</td>\n      <td>0</td>\n      <td>0</td>\n    </tr>\n    <tr>\n      <th>5679915</th>\n      <td>1553686</td>\n      <td>2019-05-28</td>\n      <td>0</td>\n      <td>0</td>\n      <td>0</td>\n      <td>0</td>\n      <td>0</td>\n      <td>0</td>\n      <td>0</td>\n      <td>0</td>\n      <td>0.0</td>\n      <td>0.0</td>\n      <td>0</td>\n      <td>0</td>\n      <td>0</td>\n      <td>0</td>\n      <td>0</td>\n    </tr>\n    <tr>\n      <th>5679914</th>\n      <td>1553687</td>\n      <td>2019-05-28</td>\n      <td>0</td>\n      <td>0</td>\n      <td>0</td>\n      <td>0</td>\n      <td>0</td>\n      <td>0</td>\n      <td>0</td>\n      <td>0</td>\n      <td>0.0</td>\n      <td>0.0</td>\n      <td>0</td>\n      <td>0</td>\n      <td>0</td>\n      <td>0</td>\n      <td>0</td>\n    </tr>\n    <tr>\n      <th>5679913</th>\n      <td>1553688</td>\n      <td>2019-05-28</td>\n      <td>0</td>\n      <td>0</td>\n      <td>0</td>\n      <td>0</td>\n      <td>0</td>\n      <td>0</td>\n      <td>0</td>\n      <td>0</td>\n      <td>0.0</td>\n      <td>0.0</td>\n      <td>0</td>\n      <td>0</td>\n      <td>0</td>\n      <td>0</td>\n      <td>0</td>\n    </tr>\n    <tr>\n      <th>5679912</th>\n      <td>1553689</td>\n      <td>2019-05-28</td>\n      <td>0</td>\n      <td>0</td>\n      <td>0</td>\n      <td>0</td>\n      <td>0</td>\n      <td>0</td>\n      <td>0</td>\n      <td>0</td>\n      <td>0.0</td>\n      <td>0.0</td>\n      <td>0</td>\n      <td>0</td>\n      <td>0</td>\n      <td>0</td>\n      <td>0</td>\n    </tr>\n  </tbody>\n</table>\n<p>5962924 rows × 17 columns</p>\n</div>"
     },
     "execution_count": 35,
     "metadata": {},
     "output_type": "execute_result"
    }
   ],
   "source": [
    "products_df.sort_values([\"pk_cid\", \"pk_partition\"])"
   ],
   "metadata": {
    "collapsed": false,
    "pycharm": {
     "name": "#%%\n"
    }
   }
  },
  {
   "cell_type": "code",
   "execution_count": 36,
   "outputs": [
    {
     "data": {
      "text/plain": "          pk_cid pk_partition country_id  region_code gender  age deceased  \\\n1479563    15891   2018-07-28         ES         28.0      H   59        N   \n2168122    15891   2018-08-28         ES         28.0      H   59        N   \n2962973    16063   2018-11-28         ES         28.0      H   62        N   \n3628236    16063   2018-12-28         ES         28.0      H   62        N   \n4028169    16063   2019-01-28         ES         28.0      H   62        N   \n...          ...          ...        ...          ...    ...  ...      ...   \n5679916  1553685   2019-05-28         ES         13.0      V   52        N   \n5679915  1553686   2019-05-28         ES         41.0      H   30        N   \n5679914  1553687   2019-05-28         ES         28.0      V   21        N   \n5679913  1553688   2019-05-28         ES         39.0      H   43        N   \n5679912  1553689   2019-05-28         ES         21.0      V   40        N   \n\n         salary  \n1479563     NaN  \n2168122     NaN  \n2962973     NaN  \n3628236     NaN  \n4028169     NaN  \n...         ...  \n5679916     NaN  \n5679915     NaN  \n5679914     NaN  \n5679913     NaN  \n5679912     NaN  \n\n[5962924 rows x 8 columns]",
      "text/html": "<div>\n<style scoped>\n    .dataframe tbody tr th:only-of-type {\n        vertical-align: middle;\n    }\n\n    .dataframe tbody tr th {\n        vertical-align: top;\n    }\n\n    .dataframe thead th {\n        text-align: right;\n    }\n</style>\n<table border=\"1\" class=\"dataframe\">\n  <thead>\n    <tr style=\"text-align: right;\">\n      <th></th>\n      <th>pk_cid</th>\n      <th>pk_partition</th>\n      <th>country_id</th>\n      <th>region_code</th>\n      <th>gender</th>\n      <th>age</th>\n      <th>deceased</th>\n      <th>salary</th>\n    </tr>\n  </thead>\n  <tbody>\n    <tr>\n      <th>1479563</th>\n      <td>15891</td>\n      <td>2018-07-28</td>\n      <td>ES</td>\n      <td>28.0</td>\n      <td>H</td>\n      <td>59</td>\n      <td>N</td>\n      <td>NaN</td>\n    </tr>\n    <tr>\n      <th>2168122</th>\n      <td>15891</td>\n      <td>2018-08-28</td>\n      <td>ES</td>\n      <td>28.0</td>\n      <td>H</td>\n      <td>59</td>\n      <td>N</td>\n      <td>NaN</td>\n    </tr>\n    <tr>\n      <th>2962973</th>\n      <td>16063</td>\n      <td>2018-11-28</td>\n      <td>ES</td>\n      <td>28.0</td>\n      <td>H</td>\n      <td>62</td>\n      <td>N</td>\n      <td>NaN</td>\n    </tr>\n    <tr>\n      <th>3628236</th>\n      <td>16063</td>\n      <td>2018-12-28</td>\n      <td>ES</td>\n      <td>28.0</td>\n      <td>H</td>\n      <td>62</td>\n      <td>N</td>\n      <td>NaN</td>\n    </tr>\n    <tr>\n      <th>4028169</th>\n      <td>16063</td>\n      <td>2019-01-28</td>\n      <td>ES</td>\n      <td>28.0</td>\n      <td>H</td>\n      <td>62</td>\n      <td>N</td>\n      <td>NaN</td>\n    </tr>\n    <tr>\n      <th>...</th>\n      <td>...</td>\n      <td>...</td>\n      <td>...</td>\n      <td>...</td>\n      <td>...</td>\n      <td>...</td>\n      <td>...</td>\n      <td>...</td>\n    </tr>\n    <tr>\n      <th>5679916</th>\n      <td>1553685</td>\n      <td>2019-05-28</td>\n      <td>ES</td>\n      <td>13.0</td>\n      <td>V</td>\n      <td>52</td>\n      <td>N</td>\n      <td>NaN</td>\n    </tr>\n    <tr>\n      <th>5679915</th>\n      <td>1553686</td>\n      <td>2019-05-28</td>\n      <td>ES</td>\n      <td>41.0</td>\n      <td>H</td>\n      <td>30</td>\n      <td>N</td>\n      <td>NaN</td>\n    </tr>\n    <tr>\n      <th>5679914</th>\n      <td>1553687</td>\n      <td>2019-05-28</td>\n      <td>ES</td>\n      <td>28.0</td>\n      <td>V</td>\n      <td>21</td>\n      <td>N</td>\n      <td>NaN</td>\n    </tr>\n    <tr>\n      <th>5679913</th>\n      <td>1553688</td>\n      <td>2019-05-28</td>\n      <td>ES</td>\n      <td>39.0</td>\n      <td>H</td>\n      <td>43</td>\n      <td>N</td>\n      <td>NaN</td>\n    </tr>\n    <tr>\n      <th>5679912</th>\n      <td>1553689</td>\n      <td>2019-05-28</td>\n      <td>ES</td>\n      <td>21.0</td>\n      <td>V</td>\n      <td>40</td>\n      <td>N</td>\n      <td>NaN</td>\n    </tr>\n  </tbody>\n</table>\n<p>5962924 rows × 8 columns</p>\n</div>"
     },
     "execution_count": 36,
     "metadata": {},
     "output_type": "execute_result"
    }
   ],
   "source": [
    "socio_demographic_df.sort_values([\"pk_cid\", \"pk_partition\"])"
   ],
   "metadata": {
    "collapsed": false,
    "pycharm": {
     "name": "#%%\n"
    }
   }
  },
  {
   "cell_type": "code",
   "execution_count": 37,
   "outputs": [
    {
     "data": {
      "text/plain": "2618008    True\n3519480    True\n3849679    True\n1987838    True\n3301553    True\nName: pk_cid, dtype: bool"
     },
     "execution_count": 37,
     "metadata": {},
     "output_type": "execute_result"
    }
   ],
   "source": [
    "socio_demographic_df[socio_demographic_df[\"country_id\"] == \"ES\"][\"pk_cid\"].isin(\n",
    "    socio_demographic_df[socio_demographic_df[\"country_id\"] != \"ES\"][\"pk_cid\"]).sort_values().tail()"
   ],
   "metadata": {
    "collapsed": false,
    "pycharm": {
     "name": "#%%\n"
    }
   }
  },
  {
   "cell_type": "code",
   "execution_count": 38,
   "outputs": [
    {
     "data": {
      "text/plain": "          pk_cid pk_partition country_id  region_code gender  age deceased  \\\n2618008  1127288   2018-10-28         ES          1.0      H   41        N   \n\n         salary  \n2618008     NaN  ",
      "text/html": "<div>\n<style scoped>\n    .dataframe tbody tr th:only-of-type {\n        vertical-align: middle;\n    }\n\n    .dataframe tbody tr th {\n        vertical-align: top;\n    }\n\n    .dataframe thead th {\n        text-align: right;\n    }\n</style>\n<table border=\"1\" class=\"dataframe\">\n  <thead>\n    <tr style=\"text-align: right;\">\n      <th></th>\n      <th>pk_cid</th>\n      <th>pk_partition</th>\n      <th>country_id</th>\n      <th>region_code</th>\n      <th>gender</th>\n      <th>age</th>\n      <th>deceased</th>\n      <th>salary</th>\n    </tr>\n  </thead>\n  <tbody>\n    <tr>\n      <th>2618008</th>\n      <td>1127288</td>\n      <td>2018-10-28</td>\n      <td>ES</td>\n      <td>1.0</td>\n      <td>H</td>\n      <td>41</td>\n      <td>N</td>\n      <td>NaN</td>\n    </tr>\n  </tbody>\n</table>\n</div>"
     },
     "execution_count": 38,
     "metadata": {},
     "output_type": "execute_result"
    }
   ],
   "source": [
    "socio_demographic_df.iloc[[2618008]]"
   ],
   "metadata": {
    "collapsed": false,
    "pycharm": {
     "name": "#%%\n"
    }
   }
  },
  {
   "cell_type": "code",
   "execution_count": 39,
   "outputs": [
    {
     "data": {
      "text/plain": "          pk_cid pk_partition country_id  region_code gender  age deceased  \\\n52770    1127288   2018-01-28         ES          1.0      H   41        N   \n431915   1127288   2018-02-28         ES          1.0      H   41        N   \n684471   1127288   2018-03-28         ES          1.0      H   41        N   \n916949   1127288   2018-04-28         ES          1.0      H   41        N   \n1030942  1127288   2018-05-28         ES          1.0      H   41        N   \n1267287  1127288   2018-06-28         ES          1.0      H   41        N   \n1495844  1127288   2018-07-28         ES          1.0      H   41        N   \n2026134  1127288   2018-08-28         ES          1.0      H   41        N   \n2364509  1127288   2018-09-28         ES          1.0      H   41        N   \n2618008  1127288   2018-10-28         ES          1.0      H   41        N   \n3301553  1127288   2018-11-28         ES          1.0      H   42        N   \n3541103  1127288   2018-12-28         ES          1.0      H   42        N   \n4115313  1127288   2019-01-28         ES          1.0      H   42        N   \n4608870  1127288   2019-02-28         ES          1.0      H   42        N   \n4933461  1127288   2019-03-28         DE          NaN      H   42        N   \n5229701  1127288   2019-04-28         DE          NaN      H   42        N   \n5933618  1127288   2019-05-28         DE          NaN      H   42        N   \n\n         salary  \n52770       NaN  \n431915      NaN  \n684471      NaN  \n916949      NaN  \n1030942     NaN  \n1267287     NaN  \n1495844     NaN  \n2026134     NaN  \n2364509     NaN  \n2618008     NaN  \n3301553     NaN  \n3541103     NaN  \n4115313     NaN  \n4608870     NaN  \n4933461     NaN  \n5229701     NaN  \n5933618     NaN  ",
      "text/html": "<div>\n<style scoped>\n    .dataframe tbody tr th:only-of-type {\n        vertical-align: middle;\n    }\n\n    .dataframe tbody tr th {\n        vertical-align: top;\n    }\n\n    .dataframe thead th {\n        text-align: right;\n    }\n</style>\n<table border=\"1\" class=\"dataframe\">\n  <thead>\n    <tr style=\"text-align: right;\">\n      <th></th>\n      <th>pk_cid</th>\n      <th>pk_partition</th>\n      <th>country_id</th>\n      <th>region_code</th>\n      <th>gender</th>\n      <th>age</th>\n      <th>deceased</th>\n      <th>salary</th>\n    </tr>\n  </thead>\n  <tbody>\n    <tr>\n      <th>52770</th>\n      <td>1127288</td>\n      <td>2018-01-28</td>\n      <td>ES</td>\n      <td>1.0</td>\n      <td>H</td>\n      <td>41</td>\n      <td>N</td>\n      <td>NaN</td>\n    </tr>\n    <tr>\n      <th>431915</th>\n      <td>1127288</td>\n      <td>2018-02-28</td>\n      <td>ES</td>\n      <td>1.0</td>\n      <td>H</td>\n      <td>41</td>\n      <td>N</td>\n      <td>NaN</td>\n    </tr>\n    <tr>\n      <th>684471</th>\n      <td>1127288</td>\n      <td>2018-03-28</td>\n      <td>ES</td>\n      <td>1.0</td>\n      <td>H</td>\n      <td>41</td>\n      <td>N</td>\n      <td>NaN</td>\n    </tr>\n    <tr>\n      <th>916949</th>\n      <td>1127288</td>\n      <td>2018-04-28</td>\n      <td>ES</td>\n      <td>1.0</td>\n      <td>H</td>\n      <td>41</td>\n      <td>N</td>\n      <td>NaN</td>\n    </tr>\n    <tr>\n      <th>1030942</th>\n      <td>1127288</td>\n      <td>2018-05-28</td>\n      <td>ES</td>\n      <td>1.0</td>\n      <td>H</td>\n      <td>41</td>\n      <td>N</td>\n      <td>NaN</td>\n    </tr>\n    <tr>\n      <th>1267287</th>\n      <td>1127288</td>\n      <td>2018-06-28</td>\n      <td>ES</td>\n      <td>1.0</td>\n      <td>H</td>\n      <td>41</td>\n      <td>N</td>\n      <td>NaN</td>\n    </tr>\n    <tr>\n      <th>1495844</th>\n      <td>1127288</td>\n      <td>2018-07-28</td>\n      <td>ES</td>\n      <td>1.0</td>\n      <td>H</td>\n      <td>41</td>\n      <td>N</td>\n      <td>NaN</td>\n    </tr>\n    <tr>\n      <th>2026134</th>\n      <td>1127288</td>\n      <td>2018-08-28</td>\n      <td>ES</td>\n      <td>1.0</td>\n      <td>H</td>\n      <td>41</td>\n      <td>N</td>\n      <td>NaN</td>\n    </tr>\n    <tr>\n      <th>2364509</th>\n      <td>1127288</td>\n      <td>2018-09-28</td>\n      <td>ES</td>\n      <td>1.0</td>\n      <td>H</td>\n      <td>41</td>\n      <td>N</td>\n      <td>NaN</td>\n    </tr>\n    <tr>\n      <th>2618008</th>\n      <td>1127288</td>\n      <td>2018-10-28</td>\n      <td>ES</td>\n      <td>1.0</td>\n      <td>H</td>\n      <td>41</td>\n      <td>N</td>\n      <td>NaN</td>\n    </tr>\n    <tr>\n      <th>3301553</th>\n      <td>1127288</td>\n      <td>2018-11-28</td>\n      <td>ES</td>\n      <td>1.0</td>\n      <td>H</td>\n      <td>42</td>\n      <td>N</td>\n      <td>NaN</td>\n    </tr>\n    <tr>\n      <th>3541103</th>\n      <td>1127288</td>\n      <td>2018-12-28</td>\n      <td>ES</td>\n      <td>1.0</td>\n      <td>H</td>\n      <td>42</td>\n      <td>N</td>\n      <td>NaN</td>\n    </tr>\n    <tr>\n      <th>4115313</th>\n      <td>1127288</td>\n      <td>2019-01-28</td>\n      <td>ES</td>\n      <td>1.0</td>\n      <td>H</td>\n      <td>42</td>\n      <td>N</td>\n      <td>NaN</td>\n    </tr>\n    <tr>\n      <th>4608870</th>\n      <td>1127288</td>\n      <td>2019-02-28</td>\n      <td>ES</td>\n      <td>1.0</td>\n      <td>H</td>\n      <td>42</td>\n      <td>N</td>\n      <td>NaN</td>\n    </tr>\n    <tr>\n      <th>4933461</th>\n      <td>1127288</td>\n      <td>2019-03-28</td>\n      <td>DE</td>\n      <td>NaN</td>\n      <td>H</td>\n      <td>42</td>\n      <td>N</td>\n      <td>NaN</td>\n    </tr>\n    <tr>\n      <th>5229701</th>\n      <td>1127288</td>\n      <td>2019-04-28</td>\n      <td>DE</td>\n      <td>NaN</td>\n      <td>H</td>\n      <td>42</td>\n      <td>N</td>\n      <td>NaN</td>\n    </tr>\n    <tr>\n      <th>5933618</th>\n      <td>1127288</td>\n      <td>2019-05-28</td>\n      <td>DE</td>\n      <td>NaN</td>\n      <td>H</td>\n      <td>42</td>\n      <td>N</td>\n      <td>NaN</td>\n    </tr>\n  </tbody>\n</table>\n</div>"
     },
     "execution_count": 39,
     "metadata": {},
     "output_type": "execute_result"
    }
   ],
   "source": [
    "socio_demographic_df[socio_demographic_df[\"pk_cid\"] == 1127288]"
   ],
   "metadata": {
    "collapsed": false,
    "pycharm": {
     "name": "#%%\n"
    }
   }
  },
  {
   "cell_type": "code",
   "execution_count": 40,
   "outputs": [
    {
     "data": {
      "text/plain": "(5962924, 6)"
     },
     "execution_count": 40,
     "metadata": {},
     "output_type": "execute_result"
    }
   ],
   "source": [
    "commercial_activity_df.shape"
   ],
   "metadata": {
    "collapsed": false,
    "pycharm": {
     "name": "#%%\n"
    }
   }
  },
  {
   "cell_type": "code",
   "execution_count": 41,
   "outputs": [
    {
     "data": {
      "text/plain": "(5962924, 8)"
     },
     "execution_count": 41,
     "metadata": {},
     "output_type": "execute_result"
    }
   ],
   "source": [
    "socio_demographic_df.shape"
   ],
   "metadata": {
    "collapsed": false,
    "pycharm": {
     "name": "#%%\n"
    }
   }
  },
  {
   "cell_type": "code",
   "execution_count": 42,
   "outputs": [
    {
     "data": {
      "text/plain": "(5962924, 17)"
     },
     "execution_count": 42,
     "metadata": {},
     "output_type": "execute_result"
    }
   ],
   "source": [
    "products_df.shape"
   ],
   "metadata": {
    "collapsed": false,
    "pycharm": {
     "name": "#%%\n"
    }
   }
  },
  {
   "cell_type": "code",
   "execution_count": 43,
   "outputs": [],
   "source": [
    "df_1 = pd.merge(left=commercial_activity_df, right=socio_demographic_df, how=\"inner\", on=[\"pk_cid\", \"pk_partition\"])"
   ],
   "metadata": {
    "collapsed": false,
    "pycharm": {
     "name": "#%%\n"
    }
   }
  },
  {
   "cell_type": "code",
   "execution_count": 44,
   "outputs": [
    {
     "data": {
      "text/plain": "(5962924, 12)"
     },
     "execution_count": 44,
     "metadata": {},
     "output_type": "execute_result"
    }
   ],
   "source": [
    "df_1.shape"
   ],
   "metadata": {
    "collapsed": false,
    "pycharm": {
     "name": "#%%\n"
    }
   }
  },
  {
   "cell_type": "code",
   "execution_count": 45,
   "outputs": [
    {
     "data": {
      "text/plain": "          pk_cid pk_partition  entry_date entry_channel  active_customer  \\\n0        1375586   2018-01-28  2018-01-12           KHL              1.0   \n1        1050611   2018-01-28  2015-08-10           KHE              0.0   \n2        1050612   2018-01-28  2015-08-10           KHE              0.0   \n3        1050613   2018-01-28  2015-08-10           KHD              0.0   \n4        1050614   2018-01-28  2015-08-10           KHE              1.0   \n...          ...          ...         ...           ...              ...   \n5962919  1166765   2019-05-28  2016-08-14           KHE              0.0   \n5962920  1166764   2019-05-28  2016-08-14           KHE              0.0   \n5962921  1166763   2019-05-28  2016-08-14           KHE              1.0   \n5962922  1166789   2019-05-28  2016-08-14           KHE              0.0   \n5962923  1550586   2019-05-28  2019-05-13           NaN              1.0   \n\n                    segment country_id  region_code gender  age deceased  \\\n0         02 - PARTICULARES         ES         29.0      H   35        N   \n1        03 - UNIVERSITARIO         ES         13.0      V   23        N   \n2        03 - UNIVERSITARIO         ES         13.0      V   23        N   \n3        03 - UNIVERSITARIO         ES         50.0      H   22        N   \n4        03 - UNIVERSITARIO         ES         50.0      V   23        N   \n...                     ...        ...          ...    ...  ...      ...   \n5962919  03 - UNIVERSITARIO         ES         50.0      V   22        N   \n5962920  03 - UNIVERSITARIO         ES         26.0      V   23        N   \n5962921   02 - PARTICULARES         ES         50.0      H   47        N   \n5962922  03 - UNIVERSITARIO         ES         50.0      H   22        N   \n5962923                 NaN         ES         28.0      H   37        N   \n\n            salary  \n0         87218.10  \n1         35548.74  \n2        122179.11  \n3        119775.54  \n4              NaN  \n...            ...  \n5962919   43912.17  \n5962920   23334.99  \n5962921        NaN  \n5962922  199592.82  \n5962923        NaN  \n\n[5962924 rows x 12 columns]",
      "text/html": "<div>\n<style scoped>\n    .dataframe tbody tr th:only-of-type {\n        vertical-align: middle;\n    }\n\n    .dataframe tbody tr th {\n        vertical-align: top;\n    }\n\n    .dataframe thead th {\n        text-align: right;\n    }\n</style>\n<table border=\"1\" class=\"dataframe\">\n  <thead>\n    <tr style=\"text-align: right;\">\n      <th></th>\n      <th>pk_cid</th>\n      <th>pk_partition</th>\n      <th>entry_date</th>\n      <th>entry_channel</th>\n      <th>active_customer</th>\n      <th>segment</th>\n      <th>country_id</th>\n      <th>region_code</th>\n      <th>gender</th>\n      <th>age</th>\n      <th>deceased</th>\n      <th>salary</th>\n    </tr>\n  </thead>\n  <tbody>\n    <tr>\n      <th>0</th>\n      <td>1375586</td>\n      <td>2018-01-28</td>\n      <td>2018-01-12</td>\n      <td>KHL</td>\n      <td>1.0</td>\n      <td>02 - PARTICULARES</td>\n      <td>ES</td>\n      <td>29.0</td>\n      <td>H</td>\n      <td>35</td>\n      <td>N</td>\n      <td>87218.10</td>\n    </tr>\n    <tr>\n      <th>1</th>\n      <td>1050611</td>\n      <td>2018-01-28</td>\n      <td>2015-08-10</td>\n      <td>KHE</td>\n      <td>0.0</td>\n      <td>03 - UNIVERSITARIO</td>\n      <td>ES</td>\n      <td>13.0</td>\n      <td>V</td>\n      <td>23</td>\n      <td>N</td>\n      <td>35548.74</td>\n    </tr>\n    <tr>\n      <th>2</th>\n      <td>1050612</td>\n      <td>2018-01-28</td>\n      <td>2015-08-10</td>\n      <td>KHE</td>\n      <td>0.0</td>\n      <td>03 - UNIVERSITARIO</td>\n      <td>ES</td>\n      <td>13.0</td>\n      <td>V</td>\n      <td>23</td>\n      <td>N</td>\n      <td>122179.11</td>\n    </tr>\n    <tr>\n      <th>3</th>\n      <td>1050613</td>\n      <td>2018-01-28</td>\n      <td>2015-08-10</td>\n      <td>KHD</td>\n      <td>0.0</td>\n      <td>03 - UNIVERSITARIO</td>\n      <td>ES</td>\n      <td>50.0</td>\n      <td>H</td>\n      <td>22</td>\n      <td>N</td>\n      <td>119775.54</td>\n    </tr>\n    <tr>\n      <th>4</th>\n      <td>1050614</td>\n      <td>2018-01-28</td>\n      <td>2015-08-10</td>\n      <td>KHE</td>\n      <td>1.0</td>\n      <td>03 - UNIVERSITARIO</td>\n      <td>ES</td>\n      <td>50.0</td>\n      <td>V</td>\n      <td>23</td>\n      <td>N</td>\n      <td>NaN</td>\n    </tr>\n    <tr>\n      <th>...</th>\n      <td>...</td>\n      <td>...</td>\n      <td>...</td>\n      <td>...</td>\n      <td>...</td>\n      <td>...</td>\n      <td>...</td>\n      <td>...</td>\n      <td>...</td>\n      <td>...</td>\n      <td>...</td>\n      <td>...</td>\n    </tr>\n    <tr>\n      <th>5962919</th>\n      <td>1166765</td>\n      <td>2019-05-28</td>\n      <td>2016-08-14</td>\n      <td>KHE</td>\n      <td>0.0</td>\n      <td>03 - UNIVERSITARIO</td>\n      <td>ES</td>\n      <td>50.0</td>\n      <td>V</td>\n      <td>22</td>\n      <td>N</td>\n      <td>43912.17</td>\n    </tr>\n    <tr>\n      <th>5962920</th>\n      <td>1166764</td>\n      <td>2019-05-28</td>\n      <td>2016-08-14</td>\n      <td>KHE</td>\n      <td>0.0</td>\n      <td>03 - UNIVERSITARIO</td>\n      <td>ES</td>\n      <td>26.0</td>\n      <td>V</td>\n      <td>23</td>\n      <td>N</td>\n      <td>23334.99</td>\n    </tr>\n    <tr>\n      <th>5962921</th>\n      <td>1166763</td>\n      <td>2019-05-28</td>\n      <td>2016-08-14</td>\n      <td>KHE</td>\n      <td>1.0</td>\n      <td>02 - PARTICULARES</td>\n      <td>ES</td>\n      <td>50.0</td>\n      <td>H</td>\n      <td>47</td>\n      <td>N</td>\n      <td>NaN</td>\n    </tr>\n    <tr>\n      <th>5962922</th>\n      <td>1166789</td>\n      <td>2019-05-28</td>\n      <td>2016-08-14</td>\n      <td>KHE</td>\n      <td>0.0</td>\n      <td>03 - UNIVERSITARIO</td>\n      <td>ES</td>\n      <td>50.0</td>\n      <td>H</td>\n      <td>22</td>\n      <td>N</td>\n      <td>199592.82</td>\n    </tr>\n    <tr>\n      <th>5962923</th>\n      <td>1550586</td>\n      <td>2019-05-28</td>\n      <td>2019-05-13</td>\n      <td>NaN</td>\n      <td>1.0</td>\n      <td>NaN</td>\n      <td>ES</td>\n      <td>28.0</td>\n      <td>H</td>\n      <td>37</td>\n      <td>N</td>\n      <td>NaN</td>\n    </tr>\n  </tbody>\n</table>\n<p>5962924 rows × 12 columns</p>\n</div>"
     },
     "execution_count": 45,
     "metadata": {},
     "output_type": "execute_result"
    }
   ],
   "source": [
    "df_1"
   ],
   "metadata": {
    "collapsed": false,
    "pycharm": {
     "name": "#%%\n"
    }
   }
  },
  {
   "cell_type": "code",
   "execution_count": 46,
   "outputs": [],
   "source": [
    "df = pd.merge(left=df_1, right=products_df, how=\"inner\", on=[\"pk_cid\", \"pk_partition\"])"
   ],
   "metadata": {
    "collapsed": false,
    "pycharm": {
     "name": "#%%\n"
    }
   }
  },
  {
   "cell_type": "code",
   "execution_count": 47,
   "outputs": [
    {
     "data": {
      "text/plain": "(5962924, 27)"
     },
     "execution_count": 47,
     "metadata": {},
     "output_type": "execute_result"
    }
   ],
   "source": [
    "df.shape"
   ],
   "metadata": {
    "collapsed": false,
    "pycharm": {
     "name": "#%%\n"
    }
   }
  },
  {
   "cell_type": "code",
   "execution_count": 48,
   "outputs": [
    {
     "data": {
      "text/plain": "          pk_cid pk_partition  entry_date entry_channel  active_customer  \\\n1479563    15891   2018-07-28  2018-07-28           KAT              1.0   \n2168122    15891   2018-08-28  2018-07-28           KAT              0.0   \n2962973    16063   2018-11-28  2018-11-19           KAT              1.0   \n3628236    16063   2018-12-28  2018-11-19           KAT              1.0   \n4028169    16063   2019-01-28  2018-11-19           KAT              1.0   \n...          ...          ...         ...           ...              ...   \n5679916  1553685   2019-05-28  2019-05-31           NaN              0.0   \n5679915  1553686   2019-05-28  2019-05-31           NaN              0.0   \n5679914  1553687   2019-05-28  2019-05-31           NaN              0.0   \n5679913  1553688   2019-05-28  2019-05-31           NaN              0.0   \n5679912  1553689   2019-05-28  2019-05-31           NaN              0.0   \n\n                   segment country_id  region_code gender  age  ...  \\\n1479563                NaN         ES         28.0      H   59  ...   \n2168122  02 - PARTICULARES         ES         28.0      H   59  ...   \n2962973                NaN         ES         28.0      H   62  ...   \n3628236  02 - PARTICULARES         ES         28.0      H   62  ...   \n4028169  02 - PARTICULARES         ES         28.0      H   62  ...   \n...                    ...        ...          ...    ...  ...  ...   \n5679916                NaN         ES         13.0      V   52  ...   \n5679915                NaN         ES         41.0      H   30  ...   \n5679914                NaN         ES         28.0      V   21  ...   \n5679913                NaN         ES         39.0      H   43  ...   \n5679912                NaN         ES         21.0      V   40  ...   \n\n        long_term_deposit  em_account_pp  credit_card  payroll  pension_plan  \\\n1479563                 0              0            0      0.0           0.0   \n2168122                 0              0            0      0.0           0.0   \n2962973                 0              0            0      0.0           0.0   \n3628236                 0              0            0      0.0           0.0   \n4028169                 0              0            0      0.0           0.0   \n...                   ...            ...          ...      ...           ...   \n5679916                 0              0            0      0.0           0.0   \n5679915                 0              0            0      0.0           0.0   \n5679914                 0              0            0      0.0           0.0   \n5679913                 0              0            0      0.0           0.0   \n5679912                 0              0            0      0.0           0.0   \n\n         payroll_account  emc_account  debit_card  em_account_p  em_acount  \n1479563                0            0           0             0          1  \n2168122                0            0           0             0          0  \n2962973                0            0           0             0          0  \n3628236                0            0           0             0          0  \n4028169                0            0           0             0          0  \n...                  ...          ...         ...           ...        ...  \n5679916                0            0           0             0          0  \n5679915                0            0           0             0          0  \n5679914                0            0           0             0          0  \n5679913                0            0           0             0          0  \n5679912                0            0           0             0          0  \n\n[5962924 rows x 27 columns]",
      "text/html": "<div>\n<style scoped>\n    .dataframe tbody tr th:only-of-type {\n        vertical-align: middle;\n    }\n\n    .dataframe tbody tr th {\n        vertical-align: top;\n    }\n\n    .dataframe thead th {\n        text-align: right;\n    }\n</style>\n<table border=\"1\" class=\"dataframe\">\n  <thead>\n    <tr style=\"text-align: right;\">\n      <th></th>\n      <th>pk_cid</th>\n      <th>pk_partition</th>\n      <th>entry_date</th>\n      <th>entry_channel</th>\n      <th>active_customer</th>\n      <th>segment</th>\n      <th>country_id</th>\n      <th>region_code</th>\n      <th>gender</th>\n      <th>age</th>\n      <th>...</th>\n      <th>long_term_deposit</th>\n      <th>em_account_pp</th>\n      <th>credit_card</th>\n      <th>payroll</th>\n      <th>pension_plan</th>\n      <th>payroll_account</th>\n      <th>emc_account</th>\n      <th>debit_card</th>\n      <th>em_account_p</th>\n      <th>em_acount</th>\n    </tr>\n  </thead>\n  <tbody>\n    <tr>\n      <th>1479563</th>\n      <td>15891</td>\n      <td>2018-07-28</td>\n      <td>2018-07-28</td>\n      <td>KAT</td>\n      <td>1.0</td>\n      <td>NaN</td>\n      <td>ES</td>\n      <td>28.0</td>\n      <td>H</td>\n      <td>59</td>\n      <td>...</td>\n      <td>0</td>\n      <td>0</td>\n      <td>0</td>\n      <td>0.0</td>\n      <td>0.0</td>\n      <td>0</td>\n      <td>0</td>\n      <td>0</td>\n      <td>0</td>\n      <td>1</td>\n    </tr>\n    <tr>\n      <th>2168122</th>\n      <td>15891</td>\n      <td>2018-08-28</td>\n      <td>2018-07-28</td>\n      <td>KAT</td>\n      <td>0.0</td>\n      <td>02 - PARTICULARES</td>\n      <td>ES</td>\n      <td>28.0</td>\n      <td>H</td>\n      <td>59</td>\n      <td>...</td>\n      <td>0</td>\n      <td>0</td>\n      <td>0</td>\n      <td>0.0</td>\n      <td>0.0</td>\n      <td>0</td>\n      <td>0</td>\n      <td>0</td>\n      <td>0</td>\n      <td>0</td>\n    </tr>\n    <tr>\n      <th>2962973</th>\n      <td>16063</td>\n      <td>2018-11-28</td>\n      <td>2018-11-19</td>\n      <td>KAT</td>\n      <td>1.0</td>\n      <td>NaN</td>\n      <td>ES</td>\n      <td>28.0</td>\n      <td>H</td>\n      <td>62</td>\n      <td>...</td>\n      <td>0</td>\n      <td>0</td>\n      <td>0</td>\n      <td>0.0</td>\n      <td>0.0</td>\n      <td>0</td>\n      <td>0</td>\n      <td>0</td>\n      <td>0</td>\n      <td>0</td>\n    </tr>\n    <tr>\n      <th>3628236</th>\n      <td>16063</td>\n      <td>2018-12-28</td>\n      <td>2018-11-19</td>\n      <td>KAT</td>\n      <td>1.0</td>\n      <td>02 - PARTICULARES</td>\n      <td>ES</td>\n      <td>28.0</td>\n      <td>H</td>\n      <td>62</td>\n      <td>...</td>\n      <td>0</td>\n      <td>0</td>\n      <td>0</td>\n      <td>0.0</td>\n      <td>0.0</td>\n      <td>0</td>\n      <td>0</td>\n      <td>0</td>\n      <td>0</td>\n      <td>0</td>\n    </tr>\n    <tr>\n      <th>4028169</th>\n      <td>16063</td>\n      <td>2019-01-28</td>\n      <td>2018-11-19</td>\n      <td>KAT</td>\n      <td>1.0</td>\n      <td>02 - PARTICULARES</td>\n      <td>ES</td>\n      <td>28.0</td>\n      <td>H</td>\n      <td>62</td>\n      <td>...</td>\n      <td>0</td>\n      <td>0</td>\n      <td>0</td>\n      <td>0.0</td>\n      <td>0.0</td>\n      <td>0</td>\n      <td>0</td>\n      <td>0</td>\n      <td>0</td>\n      <td>0</td>\n    </tr>\n    <tr>\n      <th>...</th>\n      <td>...</td>\n      <td>...</td>\n      <td>...</td>\n      <td>...</td>\n      <td>...</td>\n      <td>...</td>\n      <td>...</td>\n      <td>...</td>\n      <td>...</td>\n      <td>...</td>\n      <td>...</td>\n      <td>...</td>\n      <td>...</td>\n      <td>...</td>\n      <td>...</td>\n      <td>...</td>\n      <td>...</td>\n      <td>...</td>\n      <td>...</td>\n      <td>...</td>\n      <td>...</td>\n    </tr>\n    <tr>\n      <th>5679916</th>\n      <td>1553685</td>\n      <td>2019-05-28</td>\n      <td>2019-05-31</td>\n      <td>NaN</td>\n      <td>0.0</td>\n      <td>NaN</td>\n      <td>ES</td>\n      <td>13.0</td>\n      <td>V</td>\n      <td>52</td>\n      <td>...</td>\n      <td>0</td>\n      <td>0</td>\n      <td>0</td>\n      <td>0.0</td>\n      <td>0.0</td>\n      <td>0</td>\n      <td>0</td>\n      <td>0</td>\n      <td>0</td>\n      <td>0</td>\n    </tr>\n    <tr>\n      <th>5679915</th>\n      <td>1553686</td>\n      <td>2019-05-28</td>\n      <td>2019-05-31</td>\n      <td>NaN</td>\n      <td>0.0</td>\n      <td>NaN</td>\n      <td>ES</td>\n      <td>41.0</td>\n      <td>H</td>\n      <td>30</td>\n      <td>...</td>\n      <td>0</td>\n      <td>0</td>\n      <td>0</td>\n      <td>0.0</td>\n      <td>0.0</td>\n      <td>0</td>\n      <td>0</td>\n      <td>0</td>\n      <td>0</td>\n      <td>0</td>\n    </tr>\n    <tr>\n      <th>5679914</th>\n      <td>1553687</td>\n      <td>2019-05-28</td>\n      <td>2019-05-31</td>\n      <td>NaN</td>\n      <td>0.0</td>\n      <td>NaN</td>\n      <td>ES</td>\n      <td>28.0</td>\n      <td>V</td>\n      <td>21</td>\n      <td>...</td>\n      <td>0</td>\n      <td>0</td>\n      <td>0</td>\n      <td>0.0</td>\n      <td>0.0</td>\n      <td>0</td>\n      <td>0</td>\n      <td>0</td>\n      <td>0</td>\n      <td>0</td>\n    </tr>\n    <tr>\n      <th>5679913</th>\n      <td>1553688</td>\n      <td>2019-05-28</td>\n      <td>2019-05-31</td>\n      <td>NaN</td>\n      <td>0.0</td>\n      <td>NaN</td>\n      <td>ES</td>\n      <td>39.0</td>\n      <td>H</td>\n      <td>43</td>\n      <td>...</td>\n      <td>0</td>\n      <td>0</td>\n      <td>0</td>\n      <td>0.0</td>\n      <td>0.0</td>\n      <td>0</td>\n      <td>0</td>\n      <td>0</td>\n      <td>0</td>\n      <td>0</td>\n    </tr>\n    <tr>\n      <th>5679912</th>\n      <td>1553689</td>\n      <td>2019-05-28</td>\n      <td>2019-05-31</td>\n      <td>NaN</td>\n      <td>0.0</td>\n      <td>NaN</td>\n      <td>ES</td>\n      <td>21.0</td>\n      <td>V</td>\n      <td>40</td>\n      <td>...</td>\n      <td>0</td>\n      <td>0</td>\n      <td>0</td>\n      <td>0.0</td>\n      <td>0.0</td>\n      <td>0</td>\n      <td>0</td>\n      <td>0</td>\n      <td>0</td>\n      <td>0</td>\n    </tr>\n  </tbody>\n</table>\n<p>5962924 rows × 27 columns</p>\n</div>"
     },
     "execution_count": 48,
     "metadata": {},
     "output_type": "execute_result"
    }
   ],
   "source": [
    "df.sort_values([\"pk_cid\", \"pk_partition\"])"
   ],
   "metadata": {
    "collapsed": false,
    "pycharm": {
     "name": "#%%\n"
    }
   }
  },
  {
   "cell_type": "code",
   "execution_count": 49,
   "outputs": [],
   "source": [
    "gb_df = df.groupby(\"pk_cid\")"
   ],
   "metadata": {
    "collapsed": false,
    "pycharm": {
     "name": "#%%\n"
    }
   }
  },
  {
   "cell_type": "code",
   "execution_count": 50,
   "outputs": [
    {
     "data": {
      "text/plain": "         active_customer  region_code        age     salary  \\\npk_cid                                                        \n15891           0.500000         28.0  59.000000        NaN   \n16063           0.714286         28.0  62.000000        NaN   \n16203           0.833333          8.0  70.000000        NaN   \n16502           0.888889         28.0  57.888889        NaN   \n17457           1.000000         28.0  53.117647  102405.75   \n...                  ...          ...        ...        ...   \n1553685         0.000000         13.0  52.000000        NaN   \n1553686         0.000000         41.0  30.000000        NaN   \n1553687         0.000000         28.0  21.000000        NaN   \n1553688         0.000000         39.0  43.000000        NaN   \n1553689         0.000000         21.0  40.000000        NaN   \n\n         short_term_deposit  loans  mortgage  funds  securities  \\\npk_cid                                                            \n15891                   0.0    0.0       0.0    0.0         0.0   \n16063                   0.0    0.0       0.0    0.0         0.0   \n16203                   0.0    0.0       0.0    0.0         0.0   \n16502                   0.0    0.0       0.0    0.0         0.0   \n17457                   0.0    0.0       0.0    0.0         0.0   \n...                     ...    ...       ...    ...         ...   \n1553685                 0.0    0.0       0.0    0.0         0.0   \n1553686                 0.0    0.0       0.0    0.0         0.0   \n1553687                 0.0    0.0       0.0    0.0         0.0   \n1553688                 0.0    0.0       0.0    0.0         0.0   \n1553689                 0.0    0.0       0.0    0.0         0.0   \n\n         long_term_deposit  em_account_pp  credit_card  payroll  pension_plan  \\\npk_cid                                                                          \n15891             0.000000            0.0          0.0      0.0           0.0   \n16063             0.000000            0.0          0.0      0.0           0.0   \n16203             0.000000            0.0          0.0      0.0           0.0   \n16502             0.000000            0.0          0.0      0.0           0.0   \n17457             0.941176            0.0          0.0      0.0           0.0   \n...                    ...            ...          ...      ...           ...   \n1553685           0.000000            0.0          0.0      0.0           0.0   \n1553686           0.000000            0.0          0.0      0.0           0.0   \n1553687           0.000000            0.0          0.0      0.0           0.0   \n1553688           0.000000            0.0          0.0      0.0           0.0   \n1553689           0.000000            0.0          0.0      0.0           0.0   \n\n         payroll_account  emc_account  debit_card  em_account_p  em_acount  \npk_cid                                                                      \n15891                0.0     0.000000    0.000000           0.0   0.500000  \n16063                0.0     0.000000    0.000000           0.0   0.000000  \n16203                0.0     0.000000    0.000000           0.0   0.833333  \n16502                0.0     0.555556    0.000000           0.0   0.888889  \n17457                0.0     0.000000    0.294118           0.0   1.000000  \n...                  ...          ...         ...           ...        ...  \n1553685              0.0     0.000000    0.000000           0.0   0.000000  \n1553686              0.0     0.000000    0.000000           0.0   0.000000  \n1553687              0.0     0.000000    0.000000           0.0   0.000000  \n1553688              0.0     0.000000    0.000000           0.0   0.000000  \n1553689              0.0     0.000000    0.000000           0.0   0.000000  \n\n[456373 rows x 19 columns]",
      "text/html": "<div>\n<style scoped>\n    .dataframe tbody tr th:only-of-type {\n        vertical-align: middle;\n    }\n\n    .dataframe tbody tr th {\n        vertical-align: top;\n    }\n\n    .dataframe thead th {\n        text-align: right;\n    }\n</style>\n<table border=\"1\" class=\"dataframe\">\n  <thead>\n    <tr style=\"text-align: right;\">\n      <th></th>\n      <th>active_customer</th>\n      <th>region_code</th>\n      <th>age</th>\n      <th>salary</th>\n      <th>short_term_deposit</th>\n      <th>loans</th>\n      <th>mortgage</th>\n      <th>funds</th>\n      <th>securities</th>\n      <th>long_term_deposit</th>\n      <th>em_account_pp</th>\n      <th>credit_card</th>\n      <th>payroll</th>\n      <th>pension_plan</th>\n      <th>payroll_account</th>\n      <th>emc_account</th>\n      <th>debit_card</th>\n      <th>em_account_p</th>\n      <th>em_acount</th>\n    </tr>\n    <tr>\n      <th>pk_cid</th>\n      <th></th>\n      <th></th>\n      <th></th>\n      <th></th>\n      <th></th>\n      <th></th>\n      <th></th>\n      <th></th>\n      <th></th>\n      <th></th>\n      <th></th>\n      <th></th>\n      <th></th>\n      <th></th>\n      <th></th>\n      <th></th>\n      <th></th>\n      <th></th>\n      <th></th>\n    </tr>\n  </thead>\n  <tbody>\n    <tr>\n      <th>15891</th>\n      <td>0.500000</td>\n      <td>28.0</td>\n      <td>59.000000</td>\n      <td>NaN</td>\n      <td>0.0</td>\n      <td>0.0</td>\n      <td>0.0</td>\n      <td>0.0</td>\n      <td>0.0</td>\n      <td>0.000000</td>\n      <td>0.0</td>\n      <td>0.0</td>\n      <td>0.0</td>\n      <td>0.0</td>\n      <td>0.0</td>\n      <td>0.000000</td>\n      <td>0.000000</td>\n      <td>0.0</td>\n      <td>0.500000</td>\n    </tr>\n    <tr>\n      <th>16063</th>\n      <td>0.714286</td>\n      <td>28.0</td>\n      <td>62.000000</td>\n      <td>NaN</td>\n      <td>0.0</td>\n      <td>0.0</td>\n      <td>0.0</td>\n      <td>0.0</td>\n      <td>0.0</td>\n      <td>0.000000</td>\n      <td>0.0</td>\n      <td>0.0</td>\n      <td>0.0</td>\n      <td>0.0</td>\n      <td>0.0</td>\n      <td>0.000000</td>\n      <td>0.000000</td>\n      <td>0.0</td>\n      <td>0.000000</td>\n    </tr>\n    <tr>\n      <th>16203</th>\n      <td>0.833333</td>\n      <td>8.0</td>\n      <td>70.000000</td>\n      <td>NaN</td>\n      <td>0.0</td>\n      <td>0.0</td>\n      <td>0.0</td>\n      <td>0.0</td>\n      <td>0.0</td>\n      <td>0.000000</td>\n      <td>0.0</td>\n      <td>0.0</td>\n      <td>0.0</td>\n      <td>0.0</td>\n      <td>0.0</td>\n      <td>0.000000</td>\n      <td>0.000000</td>\n      <td>0.0</td>\n      <td>0.833333</td>\n    </tr>\n    <tr>\n      <th>16502</th>\n      <td>0.888889</td>\n      <td>28.0</td>\n      <td>57.888889</td>\n      <td>NaN</td>\n      <td>0.0</td>\n      <td>0.0</td>\n      <td>0.0</td>\n      <td>0.0</td>\n      <td>0.0</td>\n      <td>0.000000</td>\n      <td>0.0</td>\n      <td>0.0</td>\n      <td>0.0</td>\n      <td>0.0</td>\n      <td>0.0</td>\n      <td>0.555556</td>\n      <td>0.000000</td>\n      <td>0.0</td>\n      <td>0.888889</td>\n    </tr>\n    <tr>\n      <th>17457</th>\n      <td>1.000000</td>\n      <td>28.0</td>\n      <td>53.117647</td>\n      <td>102405.75</td>\n      <td>0.0</td>\n      <td>0.0</td>\n      <td>0.0</td>\n      <td>0.0</td>\n      <td>0.0</td>\n      <td>0.941176</td>\n      <td>0.0</td>\n      <td>0.0</td>\n      <td>0.0</td>\n      <td>0.0</td>\n      <td>0.0</td>\n      <td>0.000000</td>\n      <td>0.294118</td>\n      <td>0.0</td>\n      <td>1.000000</td>\n    </tr>\n    <tr>\n      <th>...</th>\n      <td>...</td>\n      <td>...</td>\n      <td>...</td>\n      <td>...</td>\n      <td>...</td>\n      <td>...</td>\n      <td>...</td>\n      <td>...</td>\n      <td>...</td>\n      <td>...</td>\n      <td>...</td>\n      <td>...</td>\n      <td>...</td>\n      <td>...</td>\n      <td>...</td>\n      <td>...</td>\n      <td>...</td>\n      <td>...</td>\n      <td>...</td>\n    </tr>\n    <tr>\n      <th>1553685</th>\n      <td>0.000000</td>\n      <td>13.0</td>\n      <td>52.000000</td>\n      <td>NaN</td>\n      <td>0.0</td>\n      <td>0.0</td>\n      <td>0.0</td>\n      <td>0.0</td>\n      <td>0.0</td>\n      <td>0.000000</td>\n      <td>0.0</td>\n      <td>0.0</td>\n      <td>0.0</td>\n      <td>0.0</td>\n      <td>0.0</td>\n      <td>0.000000</td>\n      <td>0.000000</td>\n      <td>0.0</td>\n      <td>0.000000</td>\n    </tr>\n    <tr>\n      <th>1553686</th>\n      <td>0.000000</td>\n      <td>41.0</td>\n      <td>30.000000</td>\n      <td>NaN</td>\n      <td>0.0</td>\n      <td>0.0</td>\n      <td>0.0</td>\n      <td>0.0</td>\n      <td>0.0</td>\n      <td>0.000000</td>\n      <td>0.0</td>\n      <td>0.0</td>\n      <td>0.0</td>\n      <td>0.0</td>\n      <td>0.0</td>\n      <td>0.000000</td>\n      <td>0.000000</td>\n      <td>0.0</td>\n      <td>0.000000</td>\n    </tr>\n    <tr>\n      <th>1553687</th>\n      <td>0.000000</td>\n      <td>28.0</td>\n      <td>21.000000</td>\n      <td>NaN</td>\n      <td>0.0</td>\n      <td>0.0</td>\n      <td>0.0</td>\n      <td>0.0</td>\n      <td>0.0</td>\n      <td>0.000000</td>\n      <td>0.0</td>\n      <td>0.0</td>\n      <td>0.0</td>\n      <td>0.0</td>\n      <td>0.0</td>\n      <td>0.000000</td>\n      <td>0.000000</td>\n      <td>0.0</td>\n      <td>0.000000</td>\n    </tr>\n    <tr>\n      <th>1553688</th>\n      <td>0.000000</td>\n      <td>39.0</td>\n      <td>43.000000</td>\n      <td>NaN</td>\n      <td>0.0</td>\n      <td>0.0</td>\n      <td>0.0</td>\n      <td>0.0</td>\n      <td>0.0</td>\n      <td>0.000000</td>\n      <td>0.0</td>\n      <td>0.0</td>\n      <td>0.0</td>\n      <td>0.0</td>\n      <td>0.0</td>\n      <td>0.000000</td>\n      <td>0.000000</td>\n      <td>0.0</td>\n      <td>0.000000</td>\n    </tr>\n    <tr>\n      <th>1553689</th>\n      <td>0.000000</td>\n      <td>21.0</td>\n      <td>40.000000</td>\n      <td>NaN</td>\n      <td>0.0</td>\n      <td>0.0</td>\n      <td>0.0</td>\n      <td>0.0</td>\n      <td>0.0</td>\n      <td>0.000000</td>\n      <td>0.0</td>\n      <td>0.0</td>\n      <td>0.0</td>\n      <td>0.0</td>\n      <td>0.0</td>\n      <td>0.000000</td>\n      <td>0.000000</td>\n      <td>0.0</td>\n      <td>0.000000</td>\n    </tr>\n  </tbody>\n</table>\n<p>456373 rows × 19 columns</p>\n</div>"
     },
     "execution_count": 50,
     "metadata": {},
     "output_type": "execute_result"
    }
   ],
   "source": [
    "gb_df.mean()"
   ],
   "metadata": {
    "collapsed": false,
    "pycharm": {
     "name": "#%%\n"
    }
   }
  },
  {
   "cell_type": "code",
   "execution_count": 51,
   "outputs": [
    {
     "data": {
      "text/plain": "         pk_cid pk_partition  entry_date entry_channel  active_customer  \\\n4480640   19812   2019-02-28  2019-02-17           KAT              0.0   \n4876049   19812   2019-03-28  2019-02-17           KAT              0.0   \n5134257   19812   2019-04-28  2019-02-17           KAT              0.0   \n5523406   19812   2019-05-28  2019-02-17           KAT              0.0   \n\n                   segment  \n4480640                NaN  \n4876049  02 - PARTICULARES  \n5134257  02 - PARTICULARES  \n5523406  02 - PARTICULARES  ",
      "text/html": "<div>\n<style scoped>\n    .dataframe tbody tr th:only-of-type {\n        vertical-align: middle;\n    }\n\n    .dataframe tbody tr th {\n        vertical-align: top;\n    }\n\n    .dataframe thead th {\n        text-align: right;\n    }\n</style>\n<table border=\"1\" class=\"dataframe\">\n  <thead>\n    <tr style=\"text-align: right;\">\n      <th></th>\n      <th>pk_cid</th>\n      <th>pk_partition</th>\n      <th>entry_date</th>\n      <th>entry_channel</th>\n      <th>active_customer</th>\n      <th>segment</th>\n    </tr>\n  </thead>\n  <tbody>\n    <tr>\n      <th>4480640</th>\n      <td>19812</td>\n      <td>2019-02-28</td>\n      <td>2019-02-17</td>\n      <td>KAT</td>\n      <td>0.0</td>\n      <td>NaN</td>\n    </tr>\n    <tr>\n      <th>4876049</th>\n      <td>19812</td>\n      <td>2019-03-28</td>\n      <td>2019-02-17</td>\n      <td>KAT</td>\n      <td>0.0</td>\n      <td>02 - PARTICULARES</td>\n    </tr>\n    <tr>\n      <th>5134257</th>\n      <td>19812</td>\n      <td>2019-04-28</td>\n      <td>2019-02-17</td>\n      <td>KAT</td>\n      <td>0.0</td>\n      <td>02 - PARTICULARES</td>\n    </tr>\n    <tr>\n      <th>5523406</th>\n      <td>19812</td>\n      <td>2019-05-28</td>\n      <td>2019-02-17</td>\n      <td>KAT</td>\n      <td>0.0</td>\n      <td>02 - PARTICULARES</td>\n    </tr>\n  </tbody>\n</table>\n</div>"
     },
     "execution_count": 51,
     "metadata": {},
     "output_type": "execute_result"
    }
   ],
   "source": [
    "commercial_activity_df[commercial_activity_df[\"pk_cid\"] == 19812]"
   ],
   "metadata": {
    "collapsed": false,
    "pycharm": {
     "name": "#%%\n"
    }
   }
  },
  {
   "cell_type": "code",
   "execution_count": 52,
   "outputs": [
    {
     "data": {
      "text/plain": "         pk_cid pk_partition  short_term_deposit  loans  mortgage  funds  \\\n4480640   19812   2019-02-28                   0      0         0      0   \n4876049   19812   2019-03-28                   0      0         0      0   \n5134257   19812   2019-04-28                   0      0         0      0   \n5523406   19812   2019-05-28                   0      0         0      0   \n\n         securities  long_term_deposit  em_account_pp  credit_card  payroll  \\\n4480640           0                  0              0            0      0.0   \n4876049           0                  0              0            0      0.0   \n5134257           0                  0              0            0      0.0   \n5523406           0                  0              0            0      0.0   \n\n         pension_plan  payroll_account  emc_account  debit_card  em_account_p  \\\n4480640           0.0                0            0           0             0   \n4876049           0.0                0            0           0             0   \n5134257           0.0                0            0           0             0   \n5523406           0.0                0            0           0             0   \n\n         em_acount  \n4480640          0  \n4876049          0  \n5134257          0  \n5523406          0  ",
      "text/html": "<div>\n<style scoped>\n    .dataframe tbody tr th:only-of-type {\n        vertical-align: middle;\n    }\n\n    .dataframe tbody tr th {\n        vertical-align: top;\n    }\n\n    .dataframe thead th {\n        text-align: right;\n    }\n</style>\n<table border=\"1\" class=\"dataframe\">\n  <thead>\n    <tr style=\"text-align: right;\">\n      <th></th>\n      <th>pk_cid</th>\n      <th>pk_partition</th>\n      <th>short_term_deposit</th>\n      <th>loans</th>\n      <th>mortgage</th>\n      <th>funds</th>\n      <th>securities</th>\n      <th>long_term_deposit</th>\n      <th>em_account_pp</th>\n      <th>credit_card</th>\n      <th>payroll</th>\n      <th>pension_plan</th>\n      <th>payroll_account</th>\n      <th>emc_account</th>\n      <th>debit_card</th>\n      <th>em_account_p</th>\n      <th>em_acount</th>\n    </tr>\n  </thead>\n  <tbody>\n    <tr>\n      <th>4480640</th>\n      <td>19812</td>\n      <td>2019-02-28</td>\n      <td>0</td>\n      <td>0</td>\n      <td>0</td>\n      <td>0</td>\n      <td>0</td>\n      <td>0</td>\n      <td>0</td>\n      <td>0</td>\n      <td>0.0</td>\n      <td>0.0</td>\n      <td>0</td>\n      <td>0</td>\n      <td>0</td>\n      <td>0</td>\n      <td>0</td>\n    </tr>\n    <tr>\n      <th>4876049</th>\n      <td>19812</td>\n      <td>2019-03-28</td>\n      <td>0</td>\n      <td>0</td>\n      <td>0</td>\n      <td>0</td>\n      <td>0</td>\n      <td>0</td>\n      <td>0</td>\n      <td>0</td>\n      <td>0.0</td>\n      <td>0.0</td>\n      <td>0</td>\n      <td>0</td>\n      <td>0</td>\n      <td>0</td>\n      <td>0</td>\n    </tr>\n    <tr>\n      <th>5134257</th>\n      <td>19812</td>\n      <td>2019-04-28</td>\n      <td>0</td>\n      <td>0</td>\n      <td>0</td>\n      <td>0</td>\n      <td>0</td>\n      <td>0</td>\n      <td>0</td>\n      <td>0</td>\n      <td>0.0</td>\n      <td>0.0</td>\n      <td>0</td>\n      <td>0</td>\n      <td>0</td>\n      <td>0</td>\n      <td>0</td>\n    </tr>\n    <tr>\n      <th>5523406</th>\n      <td>19812</td>\n      <td>2019-05-28</td>\n      <td>0</td>\n      <td>0</td>\n      <td>0</td>\n      <td>0</td>\n      <td>0</td>\n      <td>0</td>\n      <td>0</td>\n      <td>0</td>\n      <td>0.0</td>\n      <td>0.0</td>\n      <td>0</td>\n      <td>0</td>\n      <td>0</td>\n      <td>0</td>\n      <td>0</td>\n    </tr>\n  </tbody>\n</table>\n</div>"
     },
     "execution_count": 52,
     "metadata": {},
     "output_type": "execute_result"
    }
   ],
   "source": [
    "products_df[products_df[\"pk_cid\"] == 19812]"
   ],
   "metadata": {
    "collapsed": false,
    "pycharm": {
     "name": "#%%\n"
    }
   }
  },
  {
   "cell_type": "code",
   "execution_count": 53,
   "outputs": [
    {
     "data": {
      "text/plain": "         pk_cid pk_partition country_id  region_code gender  age deceased  \\\n4480640   19812   2019-02-28         ES         28.0      H   53        N   \n4876049   19812   2019-03-28         ES         28.0      H   54        N   \n5134257   19812   2019-04-28         ES         28.0      H   54        N   \n5523406   19812   2019-05-28         ES         28.0      H   54        N   \n\n         salary  \n4480640     NaN  \n4876049     NaN  \n5134257     NaN  \n5523406     NaN  ",
      "text/html": "<div>\n<style scoped>\n    .dataframe tbody tr th:only-of-type {\n        vertical-align: middle;\n    }\n\n    .dataframe tbody tr th {\n        vertical-align: top;\n    }\n\n    .dataframe thead th {\n        text-align: right;\n    }\n</style>\n<table border=\"1\" class=\"dataframe\">\n  <thead>\n    <tr style=\"text-align: right;\">\n      <th></th>\n      <th>pk_cid</th>\n      <th>pk_partition</th>\n      <th>country_id</th>\n      <th>region_code</th>\n      <th>gender</th>\n      <th>age</th>\n      <th>deceased</th>\n      <th>salary</th>\n    </tr>\n  </thead>\n  <tbody>\n    <tr>\n      <th>4480640</th>\n      <td>19812</td>\n      <td>2019-02-28</td>\n      <td>ES</td>\n      <td>28.0</td>\n      <td>H</td>\n      <td>53</td>\n      <td>N</td>\n      <td>NaN</td>\n    </tr>\n    <tr>\n      <th>4876049</th>\n      <td>19812</td>\n      <td>2019-03-28</td>\n      <td>ES</td>\n      <td>28.0</td>\n      <td>H</td>\n      <td>54</td>\n      <td>N</td>\n      <td>NaN</td>\n    </tr>\n    <tr>\n      <th>5134257</th>\n      <td>19812</td>\n      <td>2019-04-28</td>\n      <td>ES</td>\n      <td>28.0</td>\n      <td>H</td>\n      <td>54</td>\n      <td>N</td>\n      <td>NaN</td>\n    </tr>\n    <tr>\n      <th>5523406</th>\n      <td>19812</td>\n      <td>2019-05-28</td>\n      <td>ES</td>\n      <td>28.0</td>\n      <td>H</td>\n      <td>54</td>\n      <td>N</td>\n      <td>NaN</td>\n    </tr>\n  </tbody>\n</table>\n</div>"
     },
     "execution_count": 53,
     "metadata": {},
     "output_type": "execute_result"
    }
   ],
   "source": [
    "socio_demographic_df[socio_demographic_df[\"pk_cid\"] == 19812]"
   ],
   "metadata": {
    "collapsed": false,
    "pycharm": {
     "name": "#%%\n"
    }
   }
  },
  {
   "cell_type": "code",
   "execution_count": 54,
   "outputs": [
    {
     "data": {
      "text/plain": "         pk_cid pk_partition  entry_date entry_channel  active_customer  \\\n1479574   20303   2018-07-28  2015-08-03           KAT              0.0   \n2168133   20303   2018-08-28  2015-08-03           KAT              0.0   \n2171495   20303   2018-09-28  2015-08-03           KAT              0.0   \n2943623   20303   2018-10-28  2015-08-03           KAT              0.0   \n2962977   20303   2018-11-28  2015-08-03           KAT              0.0   \n3628235   20303   2018-12-28  2015-08-03           KAT              0.0   \n4029231   20303   2019-01-28  2015-08-03           KAT              0.0   \n4480641   20303   2019-02-28  2015-08-03           KAT              0.0   \n4876054   20303   2019-03-28  2015-08-03           KAT              0.0   \n5134241   20303   2019-04-28  2015-08-03           KAT              0.0   \n5523411   20303   2019-05-28  2015-08-03           KAT              0.0   \n\n                   segment country_id  region_code gender  age  ...  \\\n1479574  02 - PARTICULARES         ES         28.0      H   52  ...   \n2168133  02 - PARTICULARES         ES         28.0      H   52  ...   \n2171495  02 - PARTICULARES         ES         28.0      H   52  ...   \n2943623  02 - PARTICULARES         ES         28.0      H   52  ...   \n2962977  02 - PARTICULARES         ES         28.0      H   52  ...   \n3628235  02 - PARTICULARES         ES         28.0      H   52  ...   \n4029231  02 - PARTICULARES         ES         28.0      H   52  ...   \n4480641  02 - PARTICULARES         ES         28.0      H   52  ...   \n4876054  02 - PARTICULARES         ES         28.0      H   52  ...   \n5134241  02 - PARTICULARES         ES         28.0      H   52  ...   \n5523411  02 - PARTICULARES         ES         28.0      H   52  ...   \n\n        long_term_deposit  em_account_pp  credit_card  payroll  pension_plan  \\\n1479574                 0              0            0      0.0           0.0   \n2168133                 0              0            0      0.0           0.0   \n2171495                 0              0            0      0.0           0.0   \n2943623                 0              0            0      0.0           0.0   \n2962977                 0              0            0      0.0           0.0   \n3628235                 0              0            0      0.0           0.0   \n4029231                 0              0            0      0.0           0.0   \n4480641                 0              0            0      0.0           0.0   \n4876054                 0              0            0      0.0           0.0   \n5134241                 0              0            0      0.0           0.0   \n5523411                 0              0            0      0.0           0.0   \n\n         payroll_account  emc_account  debit_card  em_account_p  em_acount  \n1479574                0            0           0             0          0  \n2168133                0            0           0             0          0  \n2171495                0            0           0             0          0  \n2943623                0            0           0             0          0  \n2962977                0            0           0             0          0  \n3628235                0            0           0             0          0  \n4029231                0            0           0             0          0  \n4480641                0            0           0             0          0  \n4876054                0            0           0             0          0  \n5134241                0            0           0             0          0  \n5523411                0            0           0             0          0  \n\n[11 rows x 27 columns]",
      "text/html": "<div>\n<style scoped>\n    .dataframe tbody tr th:only-of-type {\n        vertical-align: middle;\n    }\n\n    .dataframe tbody tr th {\n        vertical-align: top;\n    }\n\n    .dataframe thead th {\n        text-align: right;\n    }\n</style>\n<table border=\"1\" class=\"dataframe\">\n  <thead>\n    <tr style=\"text-align: right;\">\n      <th></th>\n      <th>pk_cid</th>\n      <th>pk_partition</th>\n      <th>entry_date</th>\n      <th>entry_channel</th>\n      <th>active_customer</th>\n      <th>segment</th>\n      <th>country_id</th>\n      <th>region_code</th>\n      <th>gender</th>\n      <th>age</th>\n      <th>...</th>\n      <th>long_term_deposit</th>\n      <th>em_account_pp</th>\n      <th>credit_card</th>\n      <th>payroll</th>\n      <th>pension_plan</th>\n      <th>payroll_account</th>\n      <th>emc_account</th>\n      <th>debit_card</th>\n      <th>em_account_p</th>\n      <th>em_acount</th>\n    </tr>\n  </thead>\n  <tbody>\n    <tr>\n      <th>1479574</th>\n      <td>20303</td>\n      <td>2018-07-28</td>\n      <td>2015-08-03</td>\n      <td>KAT</td>\n      <td>0.0</td>\n      <td>02 - PARTICULARES</td>\n      <td>ES</td>\n      <td>28.0</td>\n      <td>H</td>\n      <td>52</td>\n      <td>...</td>\n      <td>0</td>\n      <td>0</td>\n      <td>0</td>\n      <td>0.0</td>\n      <td>0.0</td>\n      <td>0</td>\n      <td>0</td>\n      <td>0</td>\n      <td>0</td>\n      <td>0</td>\n    </tr>\n    <tr>\n      <th>2168133</th>\n      <td>20303</td>\n      <td>2018-08-28</td>\n      <td>2015-08-03</td>\n      <td>KAT</td>\n      <td>0.0</td>\n      <td>02 - PARTICULARES</td>\n      <td>ES</td>\n      <td>28.0</td>\n      <td>H</td>\n      <td>52</td>\n      <td>...</td>\n      <td>0</td>\n      <td>0</td>\n      <td>0</td>\n      <td>0.0</td>\n      <td>0.0</td>\n      <td>0</td>\n      <td>0</td>\n      <td>0</td>\n      <td>0</td>\n      <td>0</td>\n    </tr>\n    <tr>\n      <th>2171495</th>\n      <td>20303</td>\n      <td>2018-09-28</td>\n      <td>2015-08-03</td>\n      <td>KAT</td>\n      <td>0.0</td>\n      <td>02 - PARTICULARES</td>\n      <td>ES</td>\n      <td>28.0</td>\n      <td>H</td>\n      <td>52</td>\n      <td>...</td>\n      <td>0</td>\n      <td>0</td>\n      <td>0</td>\n      <td>0.0</td>\n      <td>0.0</td>\n      <td>0</td>\n      <td>0</td>\n      <td>0</td>\n      <td>0</td>\n      <td>0</td>\n    </tr>\n    <tr>\n      <th>2943623</th>\n      <td>20303</td>\n      <td>2018-10-28</td>\n      <td>2015-08-03</td>\n      <td>KAT</td>\n      <td>0.0</td>\n      <td>02 - PARTICULARES</td>\n      <td>ES</td>\n      <td>28.0</td>\n      <td>H</td>\n      <td>52</td>\n      <td>...</td>\n      <td>0</td>\n      <td>0</td>\n      <td>0</td>\n      <td>0.0</td>\n      <td>0.0</td>\n      <td>0</td>\n      <td>0</td>\n      <td>0</td>\n      <td>0</td>\n      <td>0</td>\n    </tr>\n    <tr>\n      <th>2962977</th>\n      <td>20303</td>\n      <td>2018-11-28</td>\n      <td>2015-08-03</td>\n      <td>KAT</td>\n      <td>0.0</td>\n      <td>02 - PARTICULARES</td>\n      <td>ES</td>\n      <td>28.0</td>\n      <td>H</td>\n      <td>52</td>\n      <td>...</td>\n      <td>0</td>\n      <td>0</td>\n      <td>0</td>\n      <td>0.0</td>\n      <td>0.0</td>\n      <td>0</td>\n      <td>0</td>\n      <td>0</td>\n      <td>0</td>\n      <td>0</td>\n    </tr>\n    <tr>\n      <th>3628235</th>\n      <td>20303</td>\n      <td>2018-12-28</td>\n      <td>2015-08-03</td>\n      <td>KAT</td>\n      <td>0.0</td>\n      <td>02 - PARTICULARES</td>\n      <td>ES</td>\n      <td>28.0</td>\n      <td>H</td>\n      <td>52</td>\n      <td>...</td>\n      <td>0</td>\n      <td>0</td>\n      <td>0</td>\n      <td>0.0</td>\n      <td>0.0</td>\n      <td>0</td>\n      <td>0</td>\n      <td>0</td>\n      <td>0</td>\n      <td>0</td>\n    </tr>\n    <tr>\n      <th>4029231</th>\n      <td>20303</td>\n      <td>2019-01-28</td>\n      <td>2015-08-03</td>\n      <td>KAT</td>\n      <td>0.0</td>\n      <td>02 - PARTICULARES</td>\n      <td>ES</td>\n      <td>28.0</td>\n      <td>H</td>\n      <td>52</td>\n      <td>...</td>\n      <td>0</td>\n      <td>0</td>\n      <td>0</td>\n      <td>0.0</td>\n      <td>0.0</td>\n      <td>0</td>\n      <td>0</td>\n      <td>0</td>\n      <td>0</td>\n      <td>0</td>\n    </tr>\n    <tr>\n      <th>4480641</th>\n      <td>20303</td>\n      <td>2019-02-28</td>\n      <td>2015-08-03</td>\n      <td>KAT</td>\n      <td>0.0</td>\n      <td>02 - PARTICULARES</td>\n      <td>ES</td>\n      <td>28.0</td>\n      <td>H</td>\n      <td>52</td>\n      <td>...</td>\n      <td>0</td>\n      <td>0</td>\n      <td>0</td>\n      <td>0.0</td>\n      <td>0.0</td>\n      <td>0</td>\n      <td>0</td>\n      <td>0</td>\n      <td>0</td>\n      <td>0</td>\n    </tr>\n    <tr>\n      <th>4876054</th>\n      <td>20303</td>\n      <td>2019-03-28</td>\n      <td>2015-08-03</td>\n      <td>KAT</td>\n      <td>0.0</td>\n      <td>02 - PARTICULARES</td>\n      <td>ES</td>\n      <td>28.0</td>\n      <td>H</td>\n      <td>52</td>\n      <td>...</td>\n      <td>0</td>\n      <td>0</td>\n      <td>0</td>\n      <td>0.0</td>\n      <td>0.0</td>\n      <td>0</td>\n      <td>0</td>\n      <td>0</td>\n      <td>0</td>\n      <td>0</td>\n    </tr>\n    <tr>\n      <th>5134241</th>\n      <td>20303</td>\n      <td>2019-04-28</td>\n      <td>2015-08-03</td>\n      <td>KAT</td>\n      <td>0.0</td>\n      <td>02 - PARTICULARES</td>\n      <td>ES</td>\n      <td>28.0</td>\n      <td>H</td>\n      <td>52</td>\n      <td>...</td>\n      <td>0</td>\n      <td>0</td>\n      <td>0</td>\n      <td>0.0</td>\n      <td>0.0</td>\n      <td>0</td>\n      <td>0</td>\n      <td>0</td>\n      <td>0</td>\n      <td>0</td>\n    </tr>\n    <tr>\n      <th>5523411</th>\n      <td>20303</td>\n      <td>2019-05-28</td>\n      <td>2015-08-03</td>\n      <td>KAT</td>\n      <td>0.0</td>\n      <td>02 - PARTICULARES</td>\n      <td>ES</td>\n      <td>28.0</td>\n      <td>H</td>\n      <td>52</td>\n      <td>...</td>\n      <td>0</td>\n      <td>0</td>\n      <td>0</td>\n      <td>0.0</td>\n      <td>0.0</td>\n      <td>0</td>\n      <td>0</td>\n      <td>0</td>\n      <td>0</td>\n      <td>0</td>\n    </tr>\n  </tbody>\n</table>\n<p>11 rows × 27 columns</p>\n</div>"
     },
     "execution_count": 54,
     "metadata": {},
     "output_type": "execute_result"
    }
   ],
   "source": [
    "gb_df.get_group(20303)"
   ],
   "metadata": {
    "collapsed": false,
    "pycharm": {
     "name": "#%%\n"
    }
   }
  },
  {
   "cell_type": "code",
   "execution_count": 55,
   "outputs": [],
   "source": [
    "def get_max_consecutive(serie: pd.Series) -> int:\n",
    "    \"\"\"\n",
    "    Obtiene el maximo de meses consecutivos\n",
    "    :param serie: serie de booleanos que determinan si ese mes estuvo activo\n",
    "    :return: maximo de meses consecutivos\n",
    "    \"\"\"\n",
    "\n",
    "    counter = 0\n",
    "    segments = [0]\n",
    "    for i in serie:\n",
    "        if i == 1:\n",
    "            counter += 1\n",
    "        elif counter > 0:\n",
    "            segments.append(counter)\n",
    "            counter = 0\n",
    "\n",
    "    if counter > 0:\n",
    "        segments.append(counter)\n",
    "\n",
    "    return np.array(segments).max()\n",
    "\n",
    "\n",
    "def get_month_active(dataframe: pd.DataFrame) -> pd.Series:\n",
    "    \"\"\"\n",
    "    Obtiene la cantidad de meses consecutivos que un cliente estuvo activo y su clasificacion en los 17 meses del dataset\n",
    "    :param dataframe: dataframe a evaluar\n",
    "    :return: pd.Series con la cantidad de meses consecutivos y su clasificacion\n",
    "    \"\"\"\n",
    "\n",
    "    result = { \"month_active\": get_max_consecutive(dataframe['active_customer']) }\n",
    "\n",
    "    return pd.Series(result, index=[\"month_active\"])\n"
   ],
   "metadata": {
    "collapsed": false,
    "pycharm": {
     "name": "#%%\n"
    }
   }
  },
  {
   "cell_type": "code",
   "execution_count": 56,
   "outputs": [
    {
     "name": "stdout",
     "output_type": "stream",
     "text": [
      "<class 'pandas.core.frame.DataFrame'>\n",
      "RangeIndex: 456373 entries, 0 to 456372\n",
      "Data columns (total 2 columns):\n",
      " #   Column        Non-Null Count   Dtype\n",
      "---  ------        --------------   -----\n",
      " 0   pk_cid        456373 non-null  int64\n",
      " 1   month_active  456373 non-null  int64\n",
      "dtypes: int64(2)\n",
      "memory usage: 7.0 MB\n",
      "Wall time: 89.7 ms\n"
     ]
    }
   ],
   "source": [
    "%%time\n",
    "GENERATE_MONTH_ACTIVE_DF = False\n",
    "\n",
    "if GENERATE_MONTH_ACTIVE_DF:\n",
    "    month_active_df = df.groupby(\"pk_cid\").apply(get_month_active)\n",
    "    month_active_df.to_csv(\"../data/interim/month_active_df.csv\")\n",
    "else:\n",
    "    month_active_df = pd.read_csv(\"../data/interim/month_active_df.csv\")\n",
    "\n",
    "month_active_df.info()"
   ],
   "metadata": {
    "collapsed": false,
    "pycharm": {
     "name": "#%%\n"
    }
   }
  },
  {
   "cell_type": "code",
   "execution_count": 57,
   "outputs": [
    {
     "data": {
      "text/plain": "<AxesSubplot:>"
     },
     "execution_count": 57,
     "metadata": {},
     "output_type": "execute_result"
    },
    {
     "data": {
      "text/plain": "<Figure size 1440x360 with 1 Axes>",
      "image/png": "[encoded data removed]"
     },
     "metadata": {
      "needs_background": "light"
     },
     "output_type": "display_data"
    }
   ],
   "source": [
    "month_active_df[\"month_active\"].hist(figsize=(20, 5), bins=18)"
   ],
   "metadata": {
    "collapsed": false,
    "pycharm": {
     "name": "#%%\n"
    }
   }
  },
  {
   "cell_type": "code",
   "execution_count": 58,
   "outputs": [
    {
     "name": "stdout",
     "output_type": "stream",
     "text": [
      "Cantidad de clientes que tienen estado activo por 17 meses: 91896\n"
     ]
    }
   ],
   "source": [
    "print(f\"Cantidad de clientes que tienen estado activo por 17 meses: {len(month_active_df[month_active_df['month_active'] == 17])}\")"
   ],
   "metadata": {
    "collapsed": false,
    "pycharm": {
     "name": "#%%\n"
    }
   }
  },
  {
   "cell_type": "markdown",
   "source": [
    "Media de clientes activos por mes"
   ],
   "metadata": {
    "collapsed": false,
    "pycharm": {
     "name": "#%% md\n"
    }
   }
  },
  {
   "cell_type": "code",
   "execution_count": 59,
   "outputs": [
    {
     "data": {
      "text/plain": "             active_customer                  \n                         sum      mean     len\npk_partition                                  \n2018-01-28            108211  0.451834  239493\n2018-02-28            111085  0.458043  242521\n2018-03-28            113806  0.464026  245258\n2018-04-28            116318  0.470042  247463\n2018-05-28            119066  0.476405  249926\n2018-06-28            121560  0.482182  252104\n2018-07-28            129287  0.380997  339339\n2018-08-28            136350  0.386346  352922\n2018-09-28            144787  0.385766  375323\n2018-10-28            151962  0.377733  402300\n2018-11-28            156321  0.375422  416387\n2018-12-28            159235  0.376905  422481\n2019-01-28            162545  0.380779  426875\n2019-02-28            165067  0.382341  431727\n2019-03-28            168185  0.385584  436183\n2019-04-28            169998  0.386687  439627\n2019-05-28            171568  0.387291  442995",
      "text/html": "<div>\n<style scoped>\n    .dataframe tbody tr th:only-of-type {\n        vertical-align: middle;\n    }\n\n    .dataframe tbody tr th {\n        vertical-align: top;\n    }\n\n    .dataframe thead tr th {\n        text-align: left;\n    }\n\n    .dataframe thead tr:last-of-type th {\n        text-align: right;\n    }\n</style>\n<table border=\"1\" class=\"dataframe\">\n  <thead>\n    <tr>\n      <th></th>\n      <th colspan=\"3\" halign=\"left\">active_customer</th>\n    </tr>\n    <tr>\n      <th></th>\n      <th>sum</th>\n      <th>mean</th>\n      <th>len</th>\n    </tr>\n    <tr>\n      <th>pk_partition</th>\n      <th></th>\n      <th></th>\n      <th></th>\n    </tr>\n  </thead>\n  <tbody>\n    <tr>\n      <th>2018-01-28</th>\n      <td>108211</td>\n      <td>0.451834</td>\n      <td>239493</td>\n    </tr>\n    <tr>\n      <th>2018-02-28</th>\n      <td>111085</td>\n      <td>0.458043</td>\n      <td>242521</td>\n    </tr>\n    <tr>\n      <th>2018-03-28</th>\n      <td>113806</td>\n      <td>0.464026</td>\n      <td>245258</td>\n    </tr>\n    <tr>\n      <th>2018-04-28</th>\n      <td>116318</td>\n      <td>0.470042</td>\n      <td>247463</td>\n    </tr>\n    <tr>\n      <th>2018-05-28</th>\n      <td>119066</td>\n      <td>0.476405</td>\n      <td>249926</td>\n    </tr>\n    <tr>\n      <th>2018-06-28</th>\n      <td>121560</td>\n      <td>0.482182</td>\n      <td>252104</td>\n    </tr>\n    <tr>\n      <th>2018-07-28</th>\n      <td>129287</td>\n      <td>0.380997</td>\n      <td>339339</td>\n    </tr>\n    <tr>\n      <th>2018-08-28</th>\n      <td>136350</td>\n      <td>0.386346</td>\n      <td>352922</td>\n    </tr>\n    <tr>\n      <th>2018-09-28</th>\n      <td>144787</td>\n      <td>0.385766</td>\n      <td>375323</td>\n    </tr>\n    <tr>\n      <th>2018-10-28</th>\n      <td>151962</td>\n      <td>0.377733</td>\n      <td>402300</td>\n    </tr>\n    <tr>\n      <th>2018-11-28</th>\n      <td>156321</td>\n      <td>0.375422</td>\n      <td>416387</td>\n    </tr>\n    <tr>\n      <th>2018-12-28</th>\n      <td>159235</td>\n      <td>0.376905</td>\n      <td>422481</td>\n    </tr>\n    <tr>\n      <th>2019-01-28</th>\n      <td>162545</td>\n      <td>0.380779</td>\n      <td>426875</td>\n    </tr>\n    <tr>\n      <th>2019-02-28</th>\n      <td>165067</td>\n      <td>0.382341</td>\n      <td>431727</td>\n    </tr>\n    <tr>\n      <th>2019-03-28</th>\n      <td>168185</td>\n      <td>0.385584</td>\n      <td>436183</td>\n    </tr>\n    <tr>\n      <th>2019-04-28</th>\n      <td>169998</td>\n      <td>0.386687</td>\n      <td>439627</td>\n    </tr>\n    <tr>\n      <th>2019-05-28</th>\n      <td>171568</td>\n      <td>0.387291</td>\n      <td>442995</td>\n    </tr>\n  </tbody>\n</table>\n</div>"
     },
     "execution_count": 59,
     "metadata": {},
     "output_type": "execute_result"
    }
   ],
   "source": [
    "df[\"active_customer\"] = df[\"active_customer\"].astype(int)\n",
    "partition_df = df[[\"pk_partition\", \"active_customer\"]].groupby(\"pk_partition\")\n",
    "partition_df.agg([sum, np.mean, len])"
   ],
   "metadata": {
    "collapsed": false,
    "pycharm": {
     "name": "#%%\n"
    }
   }
  },
  {
   "cell_type": "markdown",
   "source": [
    "## Salary"
   ],
   "metadata": {
    "collapsed": false,
    "pycharm": {
     "name": "#%% md\n"
    }
   }
  },
  {
   "cell_type": "code",
   "source": [
    "salary_describe = df[[\"salary\"]].describe()\n",
    "salary_describe.T"
   ],
   "metadata": {
    "collapsed": false,
    "pycharm": {
     "name": "#%%\n"
    }
   },
   "execution_count": 121,
   "outputs": [
    {
     "data": {
      "text/plain": "            count           mean            std      min       25%       50%  \\\nsalary  4450821.0  115816.723704  199551.889046  1202.73  61500.63  88654.65   \n\n              75%          max  \nsalary  131669.91  28894395.51  ",
      "text/html": "<div>\n<style scoped>\n    .dataframe tbody tr th:only-of-type {\n        vertical-align: middle;\n    }\n\n    .dataframe tbody tr th {\n        vertical-align: top;\n    }\n\n    .dataframe thead th {\n        text-align: right;\n    }\n</style>\n<table border=\"1\" class=\"dataframe\">\n  <thead>\n    <tr style=\"text-align: right;\">\n      <th></th>\n      <th>count</th>\n      <th>mean</th>\n      <th>std</th>\n      <th>min</th>\n      <th>25%</th>\n      <th>50%</th>\n      <th>75%</th>\n      <th>max</th>\n    </tr>\n  </thead>\n  <tbody>\n    <tr>\n      <th>salary</th>\n      <td>4450821.0</td>\n      <td>115816.723704</td>\n      <td>199551.889046</td>\n      <td>1202.73</td>\n      <td>61500.63</td>\n      <td>88654.65</td>\n      <td>131669.91</td>\n      <td>28894395.51</td>\n    </tr>\n  </tbody>\n</table>\n</div>"
     },
     "execution_count": 121,
     "metadata": {},
     "output_type": "execute_result"
    }
   ]
  },
  {
   "cell_type": "code",
   "execution_count": 122,
   "outputs": [
    {
     "data": {
      "text/plain": "<Figure size 360x360 with 1 Axes>",
      "image/png": "[encoded data removed]"
     },
     "metadata": {
      "needs_background": "light"
     },
     "output_type": "display_data"
    }
   ],
   "source": [
    "salary_describe.reset_index(inplace=True)\n",
    "salary_describe = salary_describe[salary_describe[\"index\"] != \"count\"]\n",
    "\n",
    "sns.catplot(x=\"index\", y=\"salary\", data=salary_describe, kind=\"point\")\n",
    "plt.show()"
   ],
   "metadata": {
    "collapsed": false,
    "pycharm": {
     "name": "#%%\n"
    }
   }
  },
  {
   "cell_type": "code",
   "execution_count": 60,
   "outputs": [],
   "source": [],
   "metadata": {
    "collapsed": false,
    "pycharm": {
     "name": "#%%\n"
    }
   }
  }
 ],
 "metadata": {
  "kernelspec": {
   "display_name": "Python 3",
   "language": "python",
   "name": "python3"
  },
  "language_info": {
   "codemirror_mode": {
    "name": "ipython",
    "version": 2
   },
   "file_extension": ".py",
   "mimetype": "text/x-python",
   "name": "python",
   "nbconvert_exporter": "python",
   "pygments_lexer": "ipython2",
   "version": "2.7.6"
  }
 },
 "nbformat": 4,
 "nbformat_minor": 0
}