{
 "cells": [
  {
   "cell_type": "markdown",
   "metadata": {
    "id": "view-in-github",
    "colab_type": "text"
   },
   "source": [
    "<a href=\"https://colab.research.google.com/github/AlfredoMarino/easy-money/blob/main/notebooks/3.0-aamv-preprocessing.ipynb\" target=\"_parent\"><img src=\"https://colab.research.google.com/assets/colab-badge.svg\" alt=\"Open In Colab\"/></a>"
   ]
  },
  {
   "cell_type": "markdown",
   "metadata": {
    "collapsed": true,
    "pycharm": {
     "name": "#%% md\n"
    },
    "id": "w4qlEys8g90g"
   },
   "source": [
    "# Preprocesado de datos"
   ]
  },
  {
   "cell_type": "code",
   "execution_count": 1,
   "outputs": [],
   "source": [
    "import pandas as pd\n",
    "import numpy as np\n",
    "\n",
    "from sklearn.impute import KNNImputer"
   ],
   "metadata": {
    "pycharm": {
     "name": "#%%\n"
    },
    "id": "2XnI2QuGg90i"
   }
  },
  {
   "cell_type": "code",
   "execution_count": 2,
   "outputs": [],
   "source": [
    "__DATA_PATH__ = \"../data\"\n",
    "__RAW_DATA_PATH__ = f\"{__DATA_PATH__}/raw\"\n",
    "__INTERIM_DATA_PATH__ = f\"{__DATA_PATH__}/interim\"\n",
    "__PROCESSED_DATA_PATH__ = f\"{__DATA_PATH__}/processed\"\n",
    "\n",
    "__OUTPUT_DF_NAME__ = \"easy_money_classification_prep\"\n",
    "\n",
    "__PREDICT_SALARY__ = False\n",
    "__DO_ONE_HOT_ENCODE__ = True\n"
   ],
   "metadata": {
    "collapsed": false,
    "pycharm": {
     "name": "#%%\n"
    }
   }
  },
  {
   "cell_type": "markdown",
   "source": [
    "### FUNCTIONS"
   ],
   "metadata": {
    "collapsed": false,
    "id": "CVbfcLc0g90l"
   }
  },
  {
   "cell_type": "code",
   "execution_count": 22,
   "outputs": [],
   "source": [
    "def one_hot_encode(dataframe: pd.DataFrame, column_name: str) -> pd.DataFrame:\n",
    "    _dummy_dataset = pd.get_dummies(dataframe[column_name], prefix=column_name)\n",
    "    return pd.concat([dataframe, _dummy_dataset], axis=1).drop([column_name], axis=1)\n",
    "\n",
    "\n",
    "def encode_dataframe(dataframe: pd.DataFrame) -> pd.DataFrame:\n",
    "    cat_columns = [col for col in dataframe.select_dtypes(exclude=[np.number, \"datetime\"]).columns]\n",
    "    print(f\"columns to encode: {cat_columns}\")\n",
    "\n",
    "    print(f\"dataframe before one-hot encoding: {dataframe.shape}\")\n",
    "    for cat_col in cat_columns:\n",
    "        dataframe = one_hot_encode(dataframe, cat_col)\n",
    "\n",
    "    print(f\"dataframe after one-hot encoding:  {dataframe.shape}\")\n",
    "    return dataframe\n",
    "\n",
    "\n",
    "def export_to_csv(dataframe: pd.DataFrame, filename: str, path: str = __PROCESSED_DATA_PATH__):\n",
    "    exported_path = f\"{path}/{filename}.csv\"\n",
    "    dataframe.to_csv(exported_path)\n",
    "    print(f\"Dataframe exported to {exported_path}\")\n",
    "\n",
    "\n",
    "def predict_salaries(dataframe: pd.DataFrame) -> pd.DataFrame:\n",
    "    \"\"\"\n",
    "    predict the salary of clients who have NAN salaries using KNNImputer,\n",
    "    based on the closest values as a function of age\n",
    "    :param dataframe: dataframe to used\n",
    "    :return: salary_df\n",
    "    \"\"\"\n",
    "    _salary = dataframe.copy(deep=True).groupby(\"pk_cid\").agg(\n",
    "        age=(\"age\", np.max),\n",
    "        salary=(\"salary\", np.mean),\n",
    "    ).sort_values(\"age\")\n",
    "    _salary.reset_index(inplace=True)\n",
    "\n",
    "    columns_to_evaluate = [\"age\", \"salary\"]\n",
    "\n",
    "    is_null_condition = _salary[\"salary\"].isnull()\n",
    "    is_outlier_condition = _salary[\"salary\"] <= np.quantile(_salary[_salary[\"salary\"].notnull()][\"salary\"], q=0.99)\n",
    "    salary_train_df = _salary[is_null_condition | is_outlier_condition]\n",
    "\n",
    "    print(\"Predicting salary...\")\n",
    "    imputer = KNNImputer(n_neighbors=2)\n",
    "    imputer.fit(salary_train_df[columns_to_evaluate])\n",
    "    prediction = imputer.transform(_salary[columns_to_evaluate])\n",
    "    salary_predict = pd.DataFrame(prediction, columns=[\"age\", \"salary_prediction\"])\n",
    "\n",
    "    _salary[\"knn_salary\"] = salary_predict[\"salary_prediction\"]\n",
    "    return _salary\n",
    "\n",
    "\n",
    "def input_salaries(dataframe: pd.DataFrame, salary_df: pd.DataFrame) -> pd.DataFrame:\n",
    "    salaries_reshaped = pd.merge(\n",
    "        left=dataframe,\n",
    "        right=salary_df[[\"pk_cid\", \"knn_salary\"]],\n",
    "        on=\"pk_cid\",\n",
    "        how=\"left\"\n",
    "    )\n",
    "    print(f\"salary_df.shape: {salary_df.shape}\")\n",
    "    print(f\"dataframe.shape: {dataframe.shape}\")\n",
    "    print(f\"salaries_reshaped.shape: {salaries_reshaped.shape}\")\n",
    "\n",
    "    salaries_reshaped.drop(\"salary\", axis=1, inplace=True)\n",
    "    salaries_reshaped.rename(columns={\"knn_salary\": \"salary\"}, inplace=True)\n",
    "    return salaries_reshaped\n",
    "\n",
    "\n",
    "def set_other(dataframe, column, num_values):\n",
    "    top_values = dataframe[column].value_counts().head(num_values)\n",
    "    top_values_list = top_values.index.to_list()\n",
    "    return set_other_by_top_values(dataframe, column, top_values_list)\n",
    "\n",
    "\n",
    "def set_other_by_top_values(dataframe, column, top_values_list):\n",
    "    top_values_list.append('OTHERS')\n",
    "    _df = dataframe.copy(deep=True)\n",
    "    _df[column] = pd.Categorical(dataframe[column], categories=top_values_list)\n",
    "    return _df[column].fillna('OTHERS')"
   ],
   "metadata": {
    "pycharm": {
     "name": "#%%\n"
    },
    "id": "JFscEAFfg90l"
   }
  },
  {
   "cell_type": "markdown",
   "source": [
    "## Import data"
   ],
   "metadata": {
    "collapsed": false,
    "pycharm": {
     "name": "#%% md\n"
    },
    "id": "rQdtb51Kg90m"
   }
  },
  {
   "cell_type": "code",
   "execution_count": 4,
   "outputs": [
    {
     "name": "stdout",
     "output_type": "stream",
     "text": [
      "* products_df loaded           *  shape: (5962924, 17)\n",
      "* commercial_activity_dfloaded *  shape: (5962924, 6)\n",
      "* sociodemographic_df loaded   *  shape: (5962924, 8)\n"
     ]
    }
   ],
   "source": [
    "# Load products_df\n",
    "products_df = pd.read_csv(f\"{__RAW_DATA_PATH__}/products_df.csv\")\n",
    "del (products_df[\"Unnamed: 0\"])\n",
    "print(f\"* products_df loaded           *  shape: {products_df.shape}\")\n",
    "\n",
    "# Load commercial_activity_df\n",
    "commercial_activity_df = pd.read_csv(f\"{__RAW_DATA_PATH__}/commercial_activity_df.csv\")\n",
    "del (commercial_activity_df[\"Unnamed: 0\"])\n",
    "print(f\"* commercial_activity_dfloaded *  shape: {commercial_activity_df.shape}\")\n",
    "\n",
    "# Load sociodemographic_df\n",
    "sociodemographic_df = pd.read_csv(f\"{__RAW_DATA_PATH__}/sociodemographic_df.csv\")\n",
    "del (sociodemographic_df[\"Unnamed: 0\"])\n",
    "print(f\"* sociodemographic_df loaded   *  shape: {sociodemographic_df.shape}\")"
   ],
   "metadata": {
    "pycharm": {
     "name": "#%%\n"
    },
    "id": "q0f3JAJ2g90m",
    "outputId": "70ab947b-032c-430f-abd8-32b1e553ae26",
    "colab": {
     "base_uri": "https://localhost:8080/"
    }
   }
  },
  {
   "cell_type": "markdown",
   "source": [
    "## Merge Dataframes"
   ],
   "metadata": {
    "collapsed": false,
    "pycharm": {
     "name": "#%% md\n"
    },
    "id": "nxmuSZ3Qg90n"
   }
  },
  {
   "cell_type": "code",
   "execution_count": 5,
   "outputs": [
    {
     "name": "stdout",
     "output_type": "stream",
     "text": [
      "* Dataframes merged *  shape: (5962924, 27)\n"
     ]
    }
   ],
   "source": [
    "_df = pd.merge(left=commercial_activity_df, right=sociodemographic_df, how=\"inner\", on=[\"pk_cid\", \"pk_partition\"])\n",
    "df = pd.merge(left=_df, right=products_df, how=\"inner\", on=[\"pk_cid\", \"pk_partition\"])\n",
    "print(f\"* Dataframes merged *  shape: {df.shape}\")"
   ],
   "metadata": {
    "pycharm": {
     "name": "#%%\n"
    },
    "id": "ll_tkjMWg90n",
    "outputId": "d15edef1-e7fe-4a78-a474-d1a4dd48b4f8",
    "colab": {
     "base_uri": "https://localhost:8080/"
    }
   }
  },
  {
   "cell_type": "markdown",
   "source": [
    "## Data Preprocessing"
   ],
   "metadata": {
    "collapsed": false,
    "pycharm": {
     "name": "#%% md\n"
    },
    "id": "2SXYQAUOg90o"
   }
  },
  {
   "cell_type": "code",
   "execution_count": 6,
   "outputs": [],
   "source": [
    "df_prep = df.copy(deep=True)"
   ],
   "metadata": {
    "pycharm": {
     "name": "#%%\n"
    },
    "id": "Jv9w3_USg90o"
   }
  },
  {
   "cell_type": "markdown",
   "source": [
    "##### pk_partition"
   ],
   "metadata": {
    "collapsed": false,
    "id": "ZAcabYIZg90o"
   }
  },
  {
   "cell_type": "code",
   "execution_count": 7,
   "outputs": [],
   "source": [
    "df_prep[\"pk_partition\"] = pd.to_datetime(df_prep[\"pk_partition\"])"
   ],
   "metadata": {
    "pycharm": {
     "name": "#%%\n"
    },
    "id": "S7flnmf3g90p"
   }
  },
  {
   "cell_type": "markdown",
   "source": [
    "##### entry_date"
   ],
   "metadata": {
    "collapsed": false,
    "id": "rDCTgr4fg90p"
   }
  },
  {
   "cell_type": "code",
   "execution_count": 8,
   "outputs": [],
   "source": [
    "# Obteníamos un error al convertir nuestra variable a fecha debido a las fechas correspondientes\n",
    "# al 29 de Febrero de los años 2015 y 2019 puesto que no existen.\n",
    "# Por este motivo, decidimos reemplazar estos valores por la fecha más cercana (día anterior)\n",
    "df_prep[\"entry_date\"] = df_prep[\"entry_date\"].replace(\"2015-02-29\", \"2015-02-28\")\n",
    "df_prep[\"entry_date\"] = df_prep[\"entry_date\"].replace(\"2019-02-29\", \"2019-02-28\")\n",
    "\n",
    "df_prep[\"entry_date\"] = pd.to_datetime(df_prep[\"entry_date\"])\n",
    "\n",
    "#Generamos atributos extras a partir de entry_date\n",
    "df_prep[\"entry_date_month\"] = df_prep[\"entry_date\"].dt.month.astype(int)\n",
    "df_prep[\"entry_date_year\"] = df_prep[\"entry_date\"].dt.year.astype(int)\n",
    "df_prep[\"entry_date_day\"] = df_prep[\"entry_date\"].dt.day.astype(int)\n",
    "df_prep[\"entry_date_week\"] = df_prep[\"entry_date\"].dt.isocalendar().week.astype(int)\n",
    "df_prep[\"entry_date_weekday\"] = df_prep[\"entry_date\"].dt.weekday.astype(int)\n",
    "df_prep[\"entry_date_trim\"] = df_prep[\"entry_date\"].dt.quarter.astype(int)"
   ],
   "metadata": {
    "pycharm": {
     "name": "#%%\n"
    },
    "id": "MbDPqPcDg90p"
   }
  },
  {
   "cell_type": "markdown",
   "source": [
    "##### entry_channel"
   ],
   "metadata": {
    "collapsed": false,
    "id": "msLClqHrg90p"
   }
  },
  {
   "cell_type": "code",
   "execution_count": 9,
   "outputs": [
    {
     "data": {
      "text/plain": "KHE    3113947\nKFC     890620\nKHQ     590280\nKAT     416084\nKHK     230197\n        ...   \nKEJ          8\nKHS          5\nKDA          2\nKFP          2\nKDS          1\nName: entry_channel, Length: 69, dtype: int64"
     },
     "execution_count": 9,
     "metadata": {},
     "output_type": "execute_result"
    }
   ],
   "source": [
    "df_prep[\"entry_channel\"].fillna(\"UNKNOWN\", inplace=True)\n",
    "df_prep[\"entry_channel\"].value_counts(dropna=False)"
   ],
   "metadata": {
    "pycharm": {
     "name": "#%%\n"
    },
    "id": "LQxepgRrg90q"
   }
  },
  {
   "cell_type": "markdown",
   "source": [
    "##### active_customer"
   ],
   "metadata": {
    "collapsed": false,
    "id": "cLTX-hZyg90r"
   }
  },
  {
   "cell_type": "code",
   "execution_count": 10,
   "outputs": [],
   "source": [
    "df_prep[\"active_customer\"] = df_prep[\"active_customer\"].astype(int)"
   ],
   "metadata": {
    "pycharm": {
     "name": "#%%\n"
    },
    "id": "oS2a7aR-g90r"
   }
  },
  {
   "cell_type": "markdown",
   "source": [
    "##### region_code"
   ],
   "metadata": {
    "collapsed": false,
    "pycharm": {
     "name": "#%% md\n"
    },
    "id": "k-ZXuoy3g90r"
   }
  },
  {
   "cell_type": "code",
   "execution_count": 11,
   "outputs": [
    {
     "data": {
      "text/plain": " 28    1185757\n 8      600362\n 46     358142\n 30     296856\n 41     290447\n 15     254891\n 29     187911\n 36     175850\n 3      171358\n 11     160894\n 33     134562\n 50     132983\n 6      122587\n 35     121982\n 47     116948\n 18     102789\n 45     102328\n 37      92538\n 10      83283\n 14      75405\n 2       72071\n 21      72037\n 13      70092\n 39      69589\n 12      68709\n 7       62436\n 32      54639\n 27      52783\n 43      51782\n 17      50749\n 9       47746\n 25      46887\n 16      36094\n 24      35426\n 48      35256\n 26      34790\n 4       32680\n 31      31241\n 49      30965\n 23      30955\n 38      29001\n 34      27545\n 19      26762\n 40      21658\n 5       21300\n 22      21112\n 20      18833\n 1       12999\n 44      12616\n 42       8500\n 51       2896\n 52       2638\n-1        2264\nName: region_code, dtype: int64"
     },
     "execution_count": 11,
     "metadata": {},
     "output_type": "execute_result"
    }
   ],
   "source": [
    "df_prep[\"region_code\"] = df_prep[\"region_code\"].fillna(-1).astype(int)\n",
    "df_prep[\"region_code\"].value_counts(dropna=False)"
   ],
   "metadata": {
    "pycharm": {
     "name": "#%%\n"
    },
    "id": "2BHnqaStg90s",
    "outputId": "9d687eef-ad70-4471-c09f-747902452fea",
    "colab": {
     "base_uri": "https://localhost:8080/"
    }
   }
  },
  {
   "cell_type": "markdown",
   "source": [
    "##### gender"
   ],
   "metadata": {
    "collapsed": false,
    "pycharm": {
     "name": "#%% md\n"
    },
    "id": "fO81IH2vg90s"
   }
  },
  {
   "cell_type": "code",
   "execution_count": 12,
   "outputs": [
    {
     "data": {
      "text/plain": "1    3087502\n0    2875397\nName: gender, dtype: int64"
     },
     "execution_count": 12,
     "metadata": {},
     "output_type": "execute_result"
    }
   ],
   "source": [
    "df_prep.dropna(subset=[\"gender\"], inplace=True)\n",
    "df_prep[\"gender\"].replace(\"H\", 1, inplace=True)\n",
    "df_prep[\"gender\"].replace(\"V\", 0, inplace=True)\n",
    "df_prep[\"gender\"].value_counts(dropna=False)"
   ],
   "metadata": {
    "pycharm": {
     "name": "#%%\n"
    },
    "id": "j768Vha2g90s",
    "outputId": "0700488f-a227-455f-c506-75cb6688b65b",
    "colab": {
     "base_uri": "https://localhost:8080/"
    }
   }
  },
  {
   "cell_type": "markdown",
   "source": [
    "##### deceased"
   ],
   "metadata": {
    "collapsed": false,
    "pycharm": {
     "name": "#%% md\n"
    },
    "id": "8r614DRug90s"
   }
  },
  {
   "cell_type": "code",
   "execution_count": 13,
   "outputs": [
    {
     "data": {
      "text/plain": "0    5961824\n1       1075\nName: deceased, dtype: int64"
     },
     "execution_count": 13,
     "metadata": {},
     "output_type": "execute_result"
    }
   ],
   "source": [
    "df_prep[\"deceased\"].replace(\"N\", 0, inplace=True)\n",
    "df_prep[\"deceased\"].replace(\"S\", 1, inplace=True)\n",
    "df_prep[\"deceased\"].value_counts()"
   ],
   "metadata": {
    "pycharm": {
     "name": "#%%\n"
    },
    "id": "hvQ4YFK5g90s",
    "outputId": "d0b56ee5-74ad-434b-ad96-b6abc6d37aa6",
    "colab": {
     "base_uri": "https://localhost:8080/"
    }
   }
  },
  {
   "cell_type": "markdown",
   "source": [
    "##### payroll and payroll_account"
   ],
   "metadata": {
    "collapsed": false,
    "id": "NlAqenM6g90t"
   }
  },
  {
   "cell_type": "code",
   "execution_count": 14,
   "outputs": [
    {
     "data": {
      "text/plain": "0    5757051\n1     205787\nName: payroll, dtype: int64"
     },
     "execution_count": 14,
     "metadata": {},
     "output_type": "execute_result"
    }
   ],
   "source": [
    "df_prep.dropna(subset=[\"payroll\", \"payroll_account\"], inplace=True)\n",
    "df_prep[\"payroll\"] = df_prep[\"payroll\"].astype(int)\n",
    "df_prep[\"payroll\"].value_counts(dropna=False)"
   ],
   "metadata": {
    "pycharm": {
     "name": "#%%\n"
    },
    "id": "TVH8BJngg90t",
    "outputId": "1e3ad914-8634-4557-c2b8-f89d213e69f7",
    "colab": {
     "base_uri": "https://localhost:8080/"
    }
   }
  },
  {
   "cell_type": "markdown",
   "source": [
    "##### pension_plan"
   ],
   "metadata": {
    "collapsed": false,
    "id": "MCxV5Eihg90t"
   }
  },
  {
   "cell_type": "code",
   "execution_count": 15,
   "outputs": [],
   "source": [
    "df_prep[\"pension_plan\"] = df_prep[\"pension_plan\"].astype(int)"
   ],
   "metadata": {
    "pycharm": {
     "name": "#%%\n"
    },
    "id": "-RhpA730g90t"
   }
  },
  {
   "cell_type": "markdown",
   "source": [
    "##### salary"
   ],
   "metadata": {
    "collapsed": false,
    "pycharm": {
     "name": "#%% md\n"
    },
    "id": "HCTHn33Rg90t"
   }
  },
  {
   "cell_type": "code",
   "execution_count": 16,
   "outputs": [
    {
     "name": "stdout",
     "output_type": "stream",
     "text": [
      "salary_df.shape: (456371, 4)\n",
      "Wall time: 318 ms\n"
     ]
    },
    {
     "data": {
      "text/plain": "      pk_cid  age     salary  knn_salary\n0     491473    2   99455.91    99455.91\n1    1542717    2   99455.91    99455.91\n2    1552035    2   99455.91    99455.91\n3    1519335    2   99455.91    99455.91\n4    1448310    2   99455.91    99455.91\n..       ...  ...        ...         ...\n295  1497653    4  202547.94   202547.94\n296  1393429    4  202547.94   202547.94\n297  1518188    4  202547.94   202547.94\n298  1239881    4  105436.08   105436.08\n299  1230130    4  221090.49   221090.49\n\n[300 rows x 4 columns]",
      "text/html": "<div>\n<style scoped>\n    .dataframe tbody tr th:only-of-type {\n        vertical-align: middle;\n    }\n\n    .dataframe tbody tr th {\n        vertical-align: top;\n    }\n\n    .dataframe thead th {\n        text-align: right;\n    }\n</style>\n<table border=\"1\" class=\"dataframe\">\n  <thead>\n    <tr style=\"text-align: right;\">\n      <th></th>\n      <th>pk_cid</th>\n      <th>age</th>\n      <th>salary</th>\n      <th>knn_salary</th>\n    </tr>\n  </thead>\n  <tbody>\n    <tr>\n      <th>0</th>\n      <td>491473</td>\n      <td>2</td>\n      <td>99455.91</td>\n      <td>99455.91</td>\n    </tr>\n    <tr>\n      <th>1</th>\n      <td>1542717</td>\n      <td>2</td>\n      <td>99455.91</td>\n      <td>99455.91</td>\n    </tr>\n    <tr>\n      <th>2</th>\n      <td>1552035</td>\n      <td>2</td>\n      <td>99455.91</td>\n      <td>99455.91</td>\n    </tr>\n    <tr>\n      <th>3</th>\n      <td>1519335</td>\n      <td>2</td>\n      <td>99455.91</td>\n      <td>99455.91</td>\n    </tr>\n    <tr>\n      <th>4</th>\n      <td>1448310</td>\n      <td>2</td>\n      <td>99455.91</td>\n      <td>99455.91</td>\n    </tr>\n    <tr>\n      <th>...</th>\n      <td>...</td>\n      <td>...</td>\n      <td>...</td>\n      <td>...</td>\n    </tr>\n    <tr>\n      <th>295</th>\n      <td>1497653</td>\n      <td>4</td>\n      <td>202547.94</td>\n      <td>202547.94</td>\n    </tr>\n    <tr>\n      <th>296</th>\n      <td>1393429</td>\n      <td>4</td>\n      <td>202547.94</td>\n      <td>202547.94</td>\n    </tr>\n    <tr>\n      <th>297</th>\n      <td>1518188</td>\n      <td>4</td>\n      <td>202547.94</td>\n      <td>202547.94</td>\n    </tr>\n    <tr>\n      <th>298</th>\n      <td>1239881</td>\n      <td>4</td>\n      <td>105436.08</td>\n      <td>105436.08</td>\n    </tr>\n    <tr>\n      <th>299</th>\n      <td>1230130</td>\n      <td>4</td>\n      <td>221090.49</td>\n      <td>221090.49</td>\n    </tr>\n  </tbody>\n</table>\n<p>300 rows × 4 columns</p>\n</div>"
     },
     "execution_count": 16,
     "metadata": {},
     "output_type": "execute_result"
    }
   ],
   "source": [
    "%%time\n",
    "if __PREDICT_SALARY__:\n",
    "    salary_df = predict_salaries(df_prep)\n",
    "    salary_df.to_csv(f\"{__INTERIM_DATA_PATH__}/salary_df.csv\")\n",
    "else:\n",
    "    salary_df = pd.read_csv(f\"{__INTERIM_DATA_PATH__}/salary_df.csv\", index_col=0)\n",
    "\n",
    "print(f\"salary_df.shape: {salary_df.shape}\")\n",
    "salary_df.head(300)"
   ],
   "metadata": {
    "pycharm": {
     "name": "#%%\n"
    },
    "id": "2JfcjC-Ng90u",
    "outputId": "c8f9016a-d2c3-469a-f0b8-e9385efe72d2",
    "colab": {
     "base_uri": "https://localhost:8080/"
    }
   }
  },
  {
   "cell_type": "code",
   "execution_count": 17,
   "outputs": [
    {
     "name": "stdout",
     "output_type": "stream",
     "text": [
      "salary_df.shape: (456371, 4)\n",
      "dataframe.shape: (5962838, 33)\n",
      "salaries_reshaped.shape: (5962838, 34)\n"
     ]
    }
   ],
   "source": [
    "df_prep = input_salaries(df_prep, salary_df)"
   ],
   "metadata": {
    "pycharm": {
     "name": "#%%\n"
    },
    "id": "r93lsUZPg90u",
    "outputId": "2048317f-5c76-4a1a-8f34-fa60f5e7c5e2",
    "colab": {
     "base_uri": "https://localhost:8080/"
    }
   }
  },
  {
   "cell_type": "markdown",
   "source": [
    "##### segment"
   ],
   "metadata": {
    "collapsed": false,
    "id": "lhUg4JS8g90u"
   }
  },
  {
   "cell_type": "code",
   "execution_count": 18,
   "outputs": [
    {
     "data": {
      "text/plain": "                           salary    count\nsegment                                   \n00 - OTROS          113472.225547   133928\n02 - PARTICULARES   114974.497771  1830815\n03 - UNIVERSITARIO  119872.217280  3900157\n01 - TOP            139847.212802    97938",
      "text/html": "<div>\n<style scoped>\n    .dataframe tbody tr th:only-of-type {\n        vertical-align: middle;\n    }\n\n    .dataframe tbody tr th {\n        vertical-align: top;\n    }\n\n    .dataframe thead th {\n        text-align: right;\n    }\n</style>\n<table border=\"1\" class=\"dataframe\">\n  <thead>\n    <tr style=\"text-align: right;\">\n      <th></th>\n      <th>salary</th>\n      <th>count</th>\n    </tr>\n    <tr>\n      <th>segment</th>\n      <th></th>\n      <th></th>\n    </tr>\n  </thead>\n  <tbody>\n    <tr>\n      <th>00 - OTROS</th>\n      <td>113472.225547</td>\n      <td>133928</td>\n    </tr>\n    <tr>\n      <th>02 - PARTICULARES</th>\n      <td>114974.497771</td>\n      <td>1830815</td>\n    </tr>\n    <tr>\n      <th>03 - UNIVERSITARIO</th>\n      <td>119872.217280</td>\n      <td>3900157</td>\n    </tr>\n    <tr>\n      <th>01 - TOP</th>\n      <td>139847.212802</td>\n      <td>97938</td>\n    </tr>\n  </tbody>\n</table>\n</div>"
     },
     "execution_count": 18,
     "metadata": {},
     "output_type": "execute_result"
    }
   ],
   "source": [
    "df_prep[\"segment\"].fillna(\"00 - OTROS\", inplace=True)\n",
    "df_prep.groupby(\"segment\").agg(\n",
    "    salary=(\"salary\", np.mean),\n",
    "    count=(\"pk_cid\", len)\n",
    ").sort_values(\"salary\")"
   ],
   "metadata": {
    "pycharm": {
     "name": "#%%\n"
    },
    "id": "VA07KJrHg90u",
    "outputId": "d9c50189-ad02-4b13-d317-7b0b49036933",
    "colab": {
     "base_uri": "https://localhost:8080/",
     "height": 206
    }
   }
  },
  {
   "cell_type": "code",
   "execution_count": 19,
   "outputs": [
    {
     "data": {
      "text/plain": "03 - UNIVERSITARIO    3900157\n02 - PARTICULARES     1830815\n00 - OTROS             133928\n01 - TOP                97938\nName: segment, dtype: int64"
     },
     "execution_count": 19,
     "metadata": {},
     "output_type": "execute_result"
    }
   ],
   "source": [
    "df_prep[\"segment\"].value_counts()"
   ],
   "metadata": {
    "pycharm": {
     "name": "#%%\n"
    },
    "id": "eY8yLyAIg90v",
    "outputId": "40772d46-82be-4345-bf28-fe3549318fbc",
    "colab": {
     "base_uri": "https://localhost:8080/"
    }
   }
  },
  {
   "cell_type": "code",
   "execution_count": 23,
   "outputs": [
    {
     "data": {
      "text/plain": "pk_cid                0\npk_partition          0\nentry_date            0\nentry_channel         0\nactive_customer       0\nsegment               0\ncountry_id            0\nregion_code           0\ngender                0\nage                   0\ndeceased              0\nshort_term_deposit    0\nloans                 0\nmortgage              0\nfunds                 0\nsecurities            0\nlong_term_deposit     0\nem_account_pp         0\ncredit_card           0\npayroll               0\npension_plan          0\npayroll_account       0\nemc_account           0\ndebit_card            0\nem_account_p          0\nem_acount             0\nentry_date_month      0\nentry_date_year       0\nentry_date_day        0\nentry_date_week       0\nentry_date_weekday    0\nentry_date_trim       0\nsalary                0\ndtype: int64"
     },
     "execution_count": 23,
     "metadata": {},
     "output_type": "execute_result"
    }
   ],
   "source": [
    "df_prep.isnull().sum()"
   ],
   "metadata": {
    "pycharm": {
     "name": "#%%\n"
    },
    "id": "a-PTz9iHg90v",
    "outputId": "68a6d315-ec20-453b-d186-83dc1e67da3c",
    "colab": {
     "base_uri": "https://localhost:8080/"
    }
   }
  },
  {
   "cell_type": "markdown",
   "source": [
    "## Export Dataframe"
   ],
   "metadata": {
    "collapsed": false,
    "id": "Qtf67OnHg90v"
   }
  },
  {
   "cell_type": "code",
   "execution_count": 24,
   "outputs": [],
   "source": [
    "df_prep_not_null = df_prep.copy(deep=True).sort_values([\"pk_cid\", \"pk_partition\"]).reset_index(drop=True)"
   ],
   "metadata": {
    "pycharm": {
     "name": "#%%\n"
    },
    "id": "VykGj-_Wg90v"
   }
  },
  {
   "cell_type": "code",
   "execution_count": 25,
   "outputs": [
    {
     "name": "stdout",
     "output_type": "stream",
     "text": [
      "columns to encode: ['entry_channel', 'segment', 'country_id']\n",
      "dataframe before one-hot encoding: (5962838, 33)\n",
      "dataframe after one-hot encoding:  (5962838, 144)\n",
      "Dataframe exported to ../data/processed/easy_money_classification_prep.csv\n",
      "Wall time: 3min 41s\n"
     ]
    }
   ],
   "source": [
    "%%time\n",
    "if __DO_ONE_HOT_ENCODE__:\n",
    "    df_prep_one_hot = encode_dataframe(df_prep_not_null)\n",
    "    export_to_csv(df_prep_one_hot, __OUTPUT_DF_NAME__, __PROCESSED_DATA_PATH__)\n",
    "else:\n",
    "    export_to_csv(df_prep_not_null, __OUTPUT_DF_NAME__, __PROCESSED_DATA_PATH__)"
   ],
   "metadata": {
    "pycharm": {
     "name": "#%%\n"
    },
    "id": "EG3Ij-X8g90w",
    "outputId": "6e265cd1-9020-48ab-b072-286869147116"
   }
  },
  {
   "cell_type": "code",
   "execution_count": 53,
   "outputs": [],
   "source": [
    ""
   ],
   "metadata": {
    "pycharm": {
     "name": "#%%\n"
    },
    "id": "RqYEUoSAg90w"
   }
  }
 ],
 "metadata": {
  "kernelspec": {
   "display_name": "Python 3",
   "language": "python",
   "name": "python3"
  },
  "language_info": {
   "codemirror_mode": {
    "name": "ipython",
    "version": 2
   },
   "file_extension": ".py",
   "mimetype": "text/x-python",
   "name": "python",
   "nbconvert_exporter": "python",
   "pygments_lexer": "ipython2",
   "version": "2.7.6"
  },
  "colab": {
   "name": "3.0-aamv-preprocessing.ipynb",
   "provenance": [],
   "include_colab_link": true
  }
 },
 "nbformat": 4,
 "nbformat_minor": 0
}