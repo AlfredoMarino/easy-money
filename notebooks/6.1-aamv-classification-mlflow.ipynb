{
 "cells": [
  {
   "cell_type": "code",
   "execution_count": 10,
   "metadata": {
    "collapsed": true
   },
   "outputs": [],
   "source": [
    "import pandas as pd\n",
    "import numpy as np\n",
    "\n",
    "from sklearn import tree\n",
    "from sklearn.model_selection import train_test_split"
   ]
  },
  {
   "cell_type": "code",
   "execution_count": 3,
   "outputs": [],
   "source": [
    "__DATA_PATH__ = \"../data\"\n",
    "__INTERIM_DATA_PATH__ = f\"{__DATA_PATH__}/interim\""
   ],
   "metadata": {
    "collapsed": false,
    "pycharm": {
     "name": "#%%\n"
    }
   }
  },
  {
   "cell_type": "code",
   "execution_count": 12,
   "outputs": [
    {
     "data": {
      "text/plain": "(5962838, 75)"
     },
     "execution_count": 12,
     "metadata": {},
     "output_type": "execute_result"
    }
   ],
   "source": [
    "df = pd.read_csv(f\"{__INTERIM_DATA_PATH__}/easy_money_prep_1.csv\")\n",
    "df.drop(\"Unnamed: 0\", axis=1, inplace=True)\n",
    "df[\"pk_partition\"] = pd.to_datetime(df[\"pk_partition\"])\n",
    "df.shape"
   ],
   "metadata": {
    "collapsed": false,
    "pycharm": {
     "name": "#%%\n"
    }
   }
  },
  {
   "cell_type": "code",
   "execution_count": 13,
   "outputs": [
    {
     "name": "stdout",
     "output_type": "stream",
     "text": [
      "<class 'pandas.core.frame.DataFrame'>\n",
      "RangeIndex: 5962838 entries, 0 to 5962837\n",
      "Data columns (total 75 columns):\n",
      " #   Column                Dtype         \n",
      "---  ------                -----         \n",
      " 0   pk_cid                int64         \n",
      " 1   pk_partition          datetime64[ns]\n",
      " 2   entry_date            object        \n",
      " 3   active_customer       int64         \n",
      " 4   segment               int64         \n",
      " 5   region_code           int64         \n",
      " 6   gender                int64         \n",
      " 7   age                   int64         \n",
      " 8   deceased              int64         \n",
      " 9   short_term_deposit    int64         \n",
      " 10  loans                 int64         \n",
      " 11  mortgage              int64         \n",
      " 12  funds                 int64         \n",
      " 13  securities            int64         \n",
      " 14  long_term_deposit     int64         \n",
      " 15  em_account_pp         int64         \n",
      " 16  credit_card           int64         \n",
      " 17  payroll               int64         \n",
      " 18  pension_plan          int64         \n",
      " 19  payroll_account       int64         \n",
      " 20  emc_account           int64         \n",
      " 21  debit_card            int64         \n",
      " 22  em_account_p          int64         \n",
      " 23  em_acount             int64         \n",
      " 24  entry_date_month      int64         \n",
      " 25  entry_date_year       int64         \n",
      " 26  entry_date_day        int64         \n",
      " 27  entry_date_week       int64         \n",
      " 28  entry_date_weekday    int64         \n",
      " 29  entry_date_trim       int64         \n",
      " 30  salary                float64       \n",
      " 31  entry_channel_KHE     int64         \n",
      " 32  entry_channel_KHQ     int64         \n",
      " 33  entry_channel_OTHERS  int64         \n",
      " 34  country_id_AR         int64         \n",
      " 35  country_id_AT         int64         \n",
      " 36  country_id_BE         int64         \n",
      " 37  country_id_BR         int64         \n",
      " 38  country_id_CA         int64         \n",
      " 39  country_id_CH         int64         \n",
      " 40  country_id_CI         int64         \n",
      " 41  country_id_CL         int64         \n",
      " 42  country_id_CM         int64         \n",
      " 43  country_id_CN         int64         \n",
      " 44  country_id_CO         int64         \n",
      " 45  country_id_DE         int64         \n",
      " 46  country_id_DJ         int64         \n",
      " 47  country_id_DO         int64         \n",
      " 48  country_id_DZ         int64         \n",
      " 49  country_id_ES         int64         \n",
      " 50  country_id_ET         int64         \n",
      " 51  country_id_FR         int64         \n",
      " 52  country_id_GA         int64         \n",
      " 53  country_id_GB         int64         \n",
      " 54  country_id_GT         int64         \n",
      " 55  country_id_HU         int64         \n",
      " 56  country_id_IE         int64         \n",
      " 57  country_id_IT         int64         \n",
      " 58  country_id_JM         int64         \n",
      " 59  country_id_LU         int64         \n",
      " 60  country_id_MA         int64         \n",
      " 61  country_id_MR         int64         \n",
      " 62  country_id_MX         int64         \n",
      " 63  country_id_NO         int64         \n",
      " 64  country_id_PE         int64         \n",
      " 65  country_id_PL         int64         \n",
      " 66  country_id_PT         int64         \n",
      " 67  country_id_QA         int64         \n",
      " 68  country_id_RO         int64         \n",
      " 69  country_id_RU         int64         \n",
      " 70  country_id_SA         int64         \n",
      " 71  country_id_SE         int64         \n",
      " 72  country_id_SN         int64         \n",
      " 73  country_id_US         int64         \n",
      " 74  country_id_VE         int64         \n",
      "dtypes: datetime64[ns](1), float64(1), int64(72), object(1)\n",
      "memory usage: 3.3+ GB\n"
     ]
    }
   ],
   "source": [
    "df.info()"
   ],
   "metadata": {
    "collapsed": false,
    "pycharm": {
     "name": "#%%\n"
    }
   }
  },
  {
   "cell_type": "code",
   "execution_count": 14,
   "outputs": [
    {
     "data": {
      "text/plain": "          pk_cid pk_partition  entry_date  active_customer  segment  \\\n0          15891   2018-07-28  2018-07-28                1        0   \n1          15891   2018-08-28  2018-07-28                0        1   \n2          16063   2018-11-28  2018-11-19                1        0   \n3          16063   2018-12-28  2018-11-19                1        1   \n4          16063   2019-01-28  2018-11-19                1        1   \n...          ...          ...         ...              ...      ...   \n5962833  1553685   2019-05-28  2019-05-31                0        0   \n5962834  1553686   2019-05-28  2019-05-31                0        0   \n5962835  1553687   2019-05-28  2019-05-31                0        0   \n5962836  1553688   2019-05-28  2019-05-31                0        0   \n5962837  1553689   2019-05-28  2019-05-31                0        0   \n\n         region_code  gender  age  deceased  short_term_deposit  ...  \\\n0                 28       1   59         0                   0  ...   \n1                 28       1   59         0                   0  ...   \n2                 28       1   62         0                   0  ...   \n3                 28       1   62         0                   0  ...   \n4                 28       1   62         0                   0  ...   \n...              ...     ...  ...       ...                 ...  ...   \n5962833           13       0   52         0                   0  ...   \n5962834           41       1   30         0                   0  ...   \n5962835           28       0   21         0                   0  ...   \n5962836           39       1   43         0                   0  ...   \n5962837           21       0   40         0                   0  ...   \n\n         country_id_PL  country_id_PT  country_id_QA  country_id_RO  \\\n0                    0              0              0              0   \n1                    0              0              0              0   \n2                    0              0              0              0   \n3                    0              0              0              0   \n4                    0              0              0              0   \n...                ...            ...            ...            ...   \n5962833              0              0              0              0   \n5962834              0              0              0              0   \n5962835              0              0              0              0   \n5962836              0              0              0              0   \n5962837              0              0              0              0   \n\n         country_id_RU  country_id_SA  country_id_SE  country_id_SN  \\\n0                    0              0              0              0   \n1                    0              0              0              0   \n2                    0              0              0              0   \n3                    0              0              0              0   \n4                    0              0              0              0   \n...                ...            ...            ...            ...   \n5962833              0              0              0              0   \n5962834              0              0              0              0   \n5962835              0              0              0              0   \n5962836              0              0              0              0   \n5962837              0              0              0              0   \n\n         country_id_US  country_id_VE  \n0                    0              0  \n1                    0              0  \n2                    0              0  \n3                    0              0  \n4                    0              0  \n...                ...            ...  \n5962833              0              0  \n5962834              0              0  \n5962835              0              0  \n5962836              0              0  \n5962837              0              0  \n\n[5962838 rows x 75 columns]",
      "text/html": "<div>\n<style scoped>\n    .dataframe tbody tr th:only-of-type {\n        vertical-align: middle;\n    }\n\n    .dataframe tbody tr th {\n        vertical-align: top;\n    }\n\n    .dataframe thead th {\n        text-align: right;\n    }\n</style>\n<table border=\"1\" class=\"dataframe\">\n  <thead>\n    <tr style=\"text-align: right;\">\n      <th></th>\n      <th>pk_cid</th>\n      <th>pk_partition</th>\n      <th>entry_date</th>\n      <th>active_customer</th>\n      <th>segment</th>\n      <th>region_code</th>\n      <th>gender</th>\n      <th>age</th>\n      <th>deceased</th>\n      <th>short_term_deposit</th>\n      <th>...</th>\n      <th>country_id_PL</th>\n      <th>country_id_PT</th>\n      <th>country_id_QA</th>\n      <th>country_id_RO</th>\n      <th>country_id_RU</th>\n      <th>country_id_SA</th>\n      <th>country_id_SE</th>\n      <th>country_id_SN</th>\n      <th>country_id_US</th>\n      <th>country_id_VE</th>\n    </tr>\n  </thead>\n  <tbody>\n    <tr>\n      <th>0</th>\n      <td>15891</td>\n      <td>2018-07-28</td>\n      <td>2018-07-28</td>\n      <td>1</td>\n      <td>0</td>\n      <td>28</td>\n      <td>1</td>\n      <td>59</td>\n      <td>0</td>\n      <td>0</td>\n      <td>...</td>\n      <td>0</td>\n      <td>0</td>\n      <td>0</td>\n      <td>0</td>\n      <td>0</td>\n      <td>0</td>\n      <td>0</td>\n      <td>0</td>\n      <td>0</td>\n      <td>0</td>\n    </tr>\n    <tr>\n      <th>1</th>\n      <td>15891</td>\n      <td>2018-08-28</td>\n      <td>2018-07-28</td>\n      <td>0</td>\n      <td>1</td>\n      <td>28</td>\n      <td>1</td>\n      <td>59</td>\n      <td>0</td>\n      <td>0</td>\n      <td>...</td>\n      <td>0</td>\n      <td>0</td>\n      <td>0</td>\n      <td>0</td>\n      <td>0</td>\n      <td>0</td>\n      <td>0</td>\n      <td>0</td>\n      <td>0</td>\n      <td>0</td>\n    </tr>\n    <tr>\n      <th>2</th>\n      <td>16063</td>\n      <td>2018-11-28</td>\n      <td>2018-11-19</td>\n      <td>1</td>\n      <td>0</td>\n      <td>28</td>\n      <td>1</td>\n      <td>62</td>\n      <td>0</td>\n      <td>0</td>\n      <td>...</td>\n      <td>0</td>\n      <td>0</td>\n      <td>0</td>\n      <td>0</td>\n      <td>0</td>\n      <td>0</td>\n      <td>0</td>\n      <td>0</td>\n      <td>0</td>\n      <td>0</td>\n    </tr>\n    <tr>\n      <th>3</th>\n      <td>16063</td>\n      <td>2018-12-28</td>\n      <td>2018-11-19</td>\n      <td>1</td>\n      <td>1</td>\n      <td>28</td>\n      <td>1</td>\n      <td>62</td>\n      <td>0</td>\n      <td>0</td>\n      <td>...</td>\n      <td>0</td>\n      <td>0</td>\n      <td>0</td>\n      <td>0</td>\n      <td>0</td>\n      <td>0</td>\n      <td>0</td>\n      <td>0</td>\n      <td>0</td>\n      <td>0</td>\n    </tr>\n    <tr>\n      <th>4</th>\n      <td>16063</td>\n      <td>2019-01-28</td>\n      <td>2018-11-19</td>\n      <td>1</td>\n      <td>1</td>\n      <td>28</td>\n      <td>1</td>\n      <td>62</td>\n      <td>0</td>\n      <td>0</td>\n      <td>...</td>\n      <td>0</td>\n      <td>0</td>\n      <td>0</td>\n      <td>0</td>\n      <td>0</td>\n      <td>0</td>\n      <td>0</td>\n      <td>0</td>\n      <td>0</td>\n      <td>0</td>\n    </tr>\n    <tr>\n      <th>...</th>\n      <td>...</td>\n      <td>...</td>\n      <td>...</td>\n      <td>...</td>\n      <td>...</td>\n      <td>...</td>\n      <td>...</td>\n      <td>...</td>\n      <td>...</td>\n      <td>...</td>\n      <td>...</td>\n      <td>...</td>\n      <td>...</td>\n      <td>...</td>\n      <td>...</td>\n      <td>...</td>\n      <td>...</td>\n      <td>...</td>\n      <td>...</td>\n      <td>...</td>\n      <td>...</td>\n    </tr>\n    <tr>\n      <th>5962833</th>\n      <td>1553685</td>\n      <td>2019-05-28</td>\n      <td>2019-05-31</td>\n      <td>0</td>\n      <td>0</td>\n      <td>13</td>\n      <td>0</td>\n      <td>52</td>\n      <td>0</td>\n      <td>0</td>\n      <td>...</td>\n      <td>0</td>\n      <td>0</td>\n      <td>0</td>\n      <td>0</td>\n      <td>0</td>\n      <td>0</td>\n      <td>0</td>\n      <td>0</td>\n      <td>0</td>\n      <td>0</td>\n    </tr>\n    <tr>\n      <th>5962834</th>\n      <td>1553686</td>\n      <td>2019-05-28</td>\n      <td>2019-05-31</td>\n      <td>0</td>\n      <td>0</td>\n      <td>41</td>\n      <td>1</td>\n      <td>30</td>\n      <td>0</td>\n      <td>0</td>\n      <td>...</td>\n      <td>0</td>\n      <td>0</td>\n      <td>0</td>\n      <td>0</td>\n      <td>0</td>\n      <td>0</td>\n      <td>0</td>\n      <td>0</td>\n      <td>0</td>\n      <td>0</td>\n    </tr>\n    <tr>\n      <th>5962835</th>\n      <td>1553687</td>\n      <td>2019-05-28</td>\n      <td>2019-05-31</td>\n      <td>0</td>\n      <td>0</td>\n      <td>28</td>\n      <td>0</td>\n      <td>21</td>\n      <td>0</td>\n      <td>0</td>\n      <td>...</td>\n      <td>0</td>\n      <td>0</td>\n      <td>0</td>\n      <td>0</td>\n      <td>0</td>\n      <td>0</td>\n      <td>0</td>\n      <td>0</td>\n      <td>0</td>\n      <td>0</td>\n    </tr>\n    <tr>\n      <th>5962836</th>\n      <td>1553688</td>\n      <td>2019-05-28</td>\n      <td>2019-05-31</td>\n      <td>0</td>\n      <td>0</td>\n      <td>39</td>\n      <td>1</td>\n      <td>43</td>\n      <td>0</td>\n      <td>0</td>\n      <td>...</td>\n      <td>0</td>\n      <td>0</td>\n      <td>0</td>\n      <td>0</td>\n      <td>0</td>\n      <td>0</td>\n      <td>0</td>\n      <td>0</td>\n      <td>0</td>\n      <td>0</td>\n    </tr>\n    <tr>\n      <th>5962837</th>\n      <td>1553689</td>\n      <td>2019-05-28</td>\n      <td>2019-05-31</td>\n      <td>0</td>\n      <td>0</td>\n      <td>21</td>\n      <td>0</td>\n      <td>40</td>\n      <td>0</td>\n      <td>0</td>\n      <td>...</td>\n      <td>0</td>\n      <td>0</td>\n      <td>0</td>\n      <td>0</td>\n      <td>0</td>\n      <td>0</td>\n      <td>0</td>\n      <td>0</td>\n      <td>0</td>\n      <td>0</td>\n    </tr>\n  </tbody>\n</table>\n<p>5962838 rows × 75 columns</p>\n</div>"
     },
     "execution_count": 14,
     "metadata": {},
     "output_type": "execute_result"
    }
   ],
   "source": [
    "df"
   ],
   "metadata": {
    "collapsed": false,
    "pycharm": {
     "name": "#%%\n"
    }
   }
  },
  {
   "cell_type": "code",
   "execution_count": 16,
   "outputs": [],
   "source": [
    "TARGET = \"em_acount\""
   ],
   "metadata": {
    "collapsed": false,
    "pycharm": {
     "name": "#%%\n"
    }
   }
  },
  {
   "cell_type": "code",
   "execution_count": 17,
   "outputs": [
    {
     "data": {
      "text/plain": "1    4381586\n0    1581252\nName: em_acount, dtype: int64"
     },
     "execution_count": 17,
     "metadata": {},
     "output_type": "execute_result"
    }
   ],
   "source": [
    "df[TARGET].value_counts()"
   ],
   "metadata": {
    "collapsed": false,
    "pycharm": {
     "name": "#%%\n"
    }
   }
  },
  {
   "cell_type": "code",
   "execution_count": 21,
   "outputs": [
    {
     "data": {
      "text/plain": "2019-05-28    442993\n2019-04-28    439625\n2019-03-28    436181\n2019-02-28    431725\n2019-01-28    426873\n2018-12-28    422479\n2018-11-28    416385\n2018-10-28    402298\n2018-09-28    375321\n2018-08-28    352920\n2018-07-28    339338\n2018-06-28    252103\n2018-05-28    249915\n2018-04-28    247452\n2018-03-28    245247\n2018-02-28    242507\n2018-01-28    239476\nName: pk_partition, dtype: int64"
     },
     "execution_count": 21,
     "metadata": {},
     "output_type": "execute_result"
    }
   ],
   "source": [
    "df[\"pk_partition\"].value_counts()"
   ],
   "metadata": {
    "collapsed": false,
    "pycharm": {
     "name": "#%%\n"
    }
   }
  },
  {
   "cell_type": "code",
   "execution_count": 24,
   "outputs": [
    {
     "name": "stdout",
     "output_type": "stream",
     "text": [
      "dev_df.shape: 4644039,72\n",
      "val_df.shape: 1318799,72\n",
      "\n",
      "    dev_df_X.shape: (4644039, 71)\n",
      "    dev_df_y.shape: (4644039, 1)\n",
      "\n",
      "    val_df_X.shape: (1318799, 71)\n",
      "    val_df_y.shape: (1318799, 1)\n",
      "    \n"
     ]
    }
   ],
   "source": [
    "train = df.drop([TARGET, \"pk_cid\", \"pk_partition\", \"entry_date\"], axis=1)\n",
    "def split_dataframe(dataframe: pd.DataFrame, split_point_condition, exclude_columns, target: str = TARGET):\n",
    "\n",
    "    dev_df = dataframe[split_point_condition].drop(exclude_columns, axis=1)\n",
    "    print(f\"dev_df.shape: \" + \",\".join(map(str, dev_df.shape)))\n",
    "\n",
    "    val_df = dataframe[~split_point_condition].drop(exclude_columns, axis=1)\n",
    "    print(f\"val_df.shape: \" + \",\".join(map(str, val_df.shape)))\n",
    "\n",
    "    dev_df_X = dev_df.drop(target, axis=1)\n",
    "    dev_df_y = dev_df[[TARGET]]\n",
    "\n",
    "    val_df_X = val_df.drop(TARGET, axis=1)\n",
    "    val_df_y = val_df[[TARGET]]\n",
    "\n",
    "    print(f\"\"\"\n",
    "    dev_df_X.shape: {dev_df_X.shape}\n",
    "    dev_df_y.shape: {dev_df_y.shape}\n",
    "\n",
    "    val_df_X.shape: {val_df_X.shape}\n",
    "    val_df_y.shape: {val_df_y.shape}\n",
    "    \"\"\")\n",
    "\n",
    "    return dev_df_X, dev_df_y, val_df_X, val_df_y\n",
    "\n",
    "\n",
    "dev_df_X, dev_df_y, val_df_X, val_df_y = split_dataframe(\n",
    "    dataframe=df,\n",
    "    split_point_condition=(df[\"pk_partition\"] < \"2019-03-28\"),\n",
    "    exclude_columns=[\"pk_cid\", \"pk_partition\", \"entry_date\"],\n",
    "    target=TARGET\n",
    ")"
   ],
   "metadata": {
    "collapsed": false,
    "pycharm": {
     "name": "#%%\n"
    }
   }
  },
  {
   "cell_type": "code",
   "execution_count": 26,
   "outputs": [
    {
     "data": {
      "text/plain": "         active_customer  segment  region_code  gender  age  deceased  \\\n0                      1        0           28       1   59         0   \n1                      0        1           28       1   59         0   \n2                      1        0           28       1   62         0   \n3                      1        1           28       1   62         0   \n4                      1        1           28       1   62         0   \n...                  ...      ...          ...     ...  ...       ...   \n5935183                0        0           29       0   31         0   \n5935187                0        0            8       0   26         0   \n5935191                0        0           35       0   59         0   \n5935195                0        0           46       0   45         0   \n5935198                0        0           13       1   63         0   \n\n         short_term_deposit  loans  mortgage  funds  ...  country_id_PL  \\\n0                         0      0         0      0  ...              0   \n1                         0      0         0      0  ...              0   \n2                         0      0         0      0  ...              0   \n3                         0      0         0      0  ...              0   \n4                         0      0         0      0  ...              0   \n...                     ...    ...       ...    ...  ...            ...   \n5935183                   0      0         0      0  ...              0   \n5935187                   0      0         0      0  ...              0   \n5935191                   0      0         0      0  ...              0   \n5935195                   0      0         0      0  ...              0   \n5935198                   0      0         0      0  ...              0   \n\n         country_id_PT  country_id_QA  country_id_RO  country_id_RU  \\\n0                    0              0              0              0   \n1                    0              0              0              0   \n2                    0              0              0              0   \n3                    0              0              0              0   \n4                    0              0              0              0   \n...                ...            ...            ...            ...   \n5935183              0              0              0              0   \n5935187              0              0              0              0   \n5935191              0              0              0              0   \n5935195              0              0              0              0   \n5935198              0              0              0              0   \n\n         country_id_SA  country_id_SE  country_id_SN  country_id_US  \\\n0                    0              0              0              0   \n1                    0              0              0              0   \n2                    0              0              0              0   \n3                    0              0              0              0   \n4                    0              0              0              0   \n...                ...            ...            ...            ...   \n5935183              0              0              0              0   \n5935187              0              0              0              0   \n5935191              0              0              0              0   \n5935195              0              0              0              0   \n5935198              0              0              0              0   \n\n         country_id_VE  \n0                    0  \n1                    0  \n2                    0  \n3                    0  \n4                    0  \n...                ...  \n5935183              0  \n5935187              0  \n5935191              0  \n5935195              0  \n5935198              0  \n\n[4644039 rows x 71 columns]",
      "text/html": "<div>\n<style scoped>\n    .dataframe tbody tr th:only-of-type {\n        vertical-align: middle;\n    }\n\n    .dataframe tbody tr th {\n        vertical-align: top;\n    }\n\n    .dataframe thead th {\n        text-align: right;\n    }\n</style>\n<table border=\"1\" class=\"dataframe\">\n  <thead>\n    <tr style=\"text-align: right;\">\n      <th></th>\n      <th>active_customer</th>\n      <th>segment</th>\n      <th>region_code</th>\n      <th>gender</th>\n      <th>age</th>\n      <th>deceased</th>\n      <th>short_term_deposit</th>\n      <th>loans</th>\n      <th>mortgage</th>\n      <th>funds</th>\n      <th>...</th>\n      <th>country_id_PL</th>\n      <th>country_id_PT</th>\n      <th>country_id_QA</th>\n      <th>country_id_RO</th>\n      <th>country_id_RU</th>\n      <th>country_id_SA</th>\n      <th>country_id_SE</th>\n      <th>country_id_SN</th>\n      <th>country_id_US</th>\n      <th>country_id_VE</th>\n    </tr>\n  </thead>\n  <tbody>\n    <tr>\n      <th>0</th>\n      <td>1</td>\n      <td>0</td>\n      <td>28</td>\n      <td>1</td>\n      <td>59</td>\n      <td>0</td>\n      <td>0</td>\n      <td>0</td>\n      <td>0</td>\n      <td>0</td>\n      <td>...</td>\n      <td>0</td>\n      <td>0</td>\n      <td>0</td>\n      <td>0</td>\n      <td>0</td>\n      <td>0</td>\n      <td>0</td>\n      <td>0</td>\n      <td>0</td>\n      <td>0</td>\n    </tr>\n    <tr>\n      <th>1</th>\n      <td>0</td>\n      <td>1</td>\n      <td>28</td>\n      <td>1</td>\n      <td>59</td>\n      <td>0</td>\n      <td>0</td>\n      <td>0</td>\n      <td>0</td>\n      <td>0</td>\n      <td>...</td>\n      <td>0</td>\n      <td>0</td>\n      <td>0</td>\n      <td>0</td>\n      <td>0</td>\n      <td>0</td>\n      <td>0</td>\n      <td>0</td>\n      <td>0</td>\n      <td>0</td>\n    </tr>\n    <tr>\n      <th>2</th>\n      <td>1</td>\n      <td>0</td>\n      <td>28</td>\n      <td>1</td>\n      <td>62</td>\n      <td>0</td>\n      <td>0</td>\n      <td>0</td>\n      <td>0</td>\n      <td>0</td>\n      <td>...</td>\n      <td>0</td>\n      <td>0</td>\n      <td>0</td>\n      <td>0</td>\n      <td>0</td>\n      <td>0</td>\n      <td>0</td>\n      <td>0</td>\n      <td>0</td>\n      <td>0</td>\n    </tr>\n    <tr>\n      <th>3</th>\n      <td>1</td>\n      <td>1</td>\n      <td>28</td>\n      <td>1</td>\n      <td>62</td>\n      <td>0</td>\n      <td>0</td>\n      <td>0</td>\n      <td>0</td>\n      <td>0</td>\n      <td>...</td>\n      <td>0</td>\n      <td>0</td>\n      <td>0</td>\n      <td>0</td>\n      <td>0</td>\n      <td>0</td>\n      <td>0</td>\n      <td>0</td>\n      <td>0</td>\n      <td>0</td>\n    </tr>\n    <tr>\n      <th>4</th>\n      <td>1</td>\n      <td>1</td>\n      <td>28</td>\n      <td>1</td>\n      <td>62</td>\n      <td>0</td>\n      <td>0</td>\n      <td>0</td>\n      <td>0</td>\n      <td>0</td>\n      <td>...</td>\n      <td>0</td>\n      <td>0</td>\n      <td>0</td>\n      <td>0</td>\n      <td>0</td>\n      <td>0</td>\n      <td>0</td>\n      <td>0</td>\n      <td>0</td>\n      <td>0</td>\n    </tr>\n    <tr>\n      <th>...</th>\n      <td>...</td>\n      <td>...</td>\n      <td>...</td>\n      <td>...</td>\n      <td>...</td>\n      <td>...</td>\n      <td>...</td>\n      <td>...</td>\n      <td>...</td>\n      <td>...</td>\n      <td>...</td>\n      <td>...</td>\n      <td>...</td>\n      <td>...</td>\n      <td>...</td>\n      <td>...</td>\n      <td>...</td>\n      <td>...</td>\n      <td>...</td>\n      <td>...</td>\n      <td>...</td>\n    </tr>\n    <tr>\n      <th>5935183</th>\n      <td>0</td>\n      <td>0</td>\n      <td>29</td>\n      <td>0</td>\n      <td>31</td>\n      <td>0</td>\n      <td>0</td>\n      <td>0</td>\n      <td>0</td>\n      <td>0</td>\n      <td>...</td>\n      <td>0</td>\n      <td>0</td>\n      <td>0</td>\n      <td>0</td>\n      <td>0</td>\n      <td>0</td>\n      <td>0</td>\n      <td>0</td>\n      <td>0</td>\n      <td>0</td>\n    </tr>\n    <tr>\n      <th>5935187</th>\n      <td>0</td>\n      <td>0</td>\n      <td>8</td>\n      <td>0</td>\n      <td>26</td>\n      <td>0</td>\n      <td>0</td>\n      <td>0</td>\n      <td>0</td>\n      <td>0</td>\n      <td>...</td>\n      <td>0</td>\n      <td>0</td>\n      <td>0</td>\n      <td>0</td>\n      <td>0</td>\n      <td>0</td>\n      <td>0</td>\n      <td>0</td>\n      <td>0</td>\n      <td>0</td>\n    </tr>\n    <tr>\n      <th>5935191</th>\n      <td>0</td>\n      <td>0</td>\n      <td>35</td>\n      <td>0</td>\n      <td>59</td>\n      <td>0</td>\n      <td>0</td>\n      <td>0</td>\n      <td>0</td>\n      <td>0</td>\n      <td>...</td>\n      <td>0</td>\n      <td>0</td>\n      <td>0</td>\n      <td>0</td>\n      <td>0</td>\n      <td>0</td>\n      <td>0</td>\n      <td>0</td>\n      <td>0</td>\n      <td>0</td>\n    </tr>\n    <tr>\n      <th>5935195</th>\n      <td>0</td>\n      <td>0</td>\n      <td>46</td>\n      <td>0</td>\n      <td>45</td>\n      <td>0</td>\n      <td>0</td>\n      <td>0</td>\n      <td>0</td>\n      <td>0</td>\n      <td>...</td>\n      <td>0</td>\n      <td>0</td>\n      <td>0</td>\n      <td>0</td>\n      <td>0</td>\n      <td>0</td>\n      <td>0</td>\n      <td>0</td>\n      <td>0</td>\n      <td>0</td>\n    </tr>\n    <tr>\n      <th>5935198</th>\n      <td>0</td>\n      <td>0</td>\n      <td>13</td>\n      <td>1</td>\n      <td>63</td>\n      <td>0</td>\n      <td>0</td>\n      <td>0</td>\n      <td>0</td>\n      <td>0</td>\n      <td>...</td>\n      <td>0</td>\n      <td>0</td>\n      <td>0</td>\n      <td>0</td>\n      <td>0</td>\n      <td>0</td>\n      <td>0</td>\n      <td>0</td>\n      <td>0</td>\n      <td>0</td>\n    </tr>\n  </tbody>\n</table>\n<p>4644039 rows × 71 columns</p>\n</div>"
     },
     "execution_count": 26,
     "metadata": {},
     "output_type": "execute_result"
    }
   ],
   "source": [
    "dev_df_X"
   ],
   "metadata": {
    "collapsed": false,
    "pycharm": {
     "name": "#%%\n"
    }
   }
  },
  {
   "cell_type": "code",
   "execution_count": 27,
   "outputs": [
    {
     "name": "stdout",
     "output_type": "stream",
     "text": [
      "\n",
      "X_train.shape: (3715231, 71)\n",
      "X_test.shape: (928808, 71)\n",
      "y_train.shape: (3715231, 1)\n",
      "y_test.shape: (928808, 1)\n",
      "\n"
     ]
    }
   ],
   "source": [
    "X_train, X_test, y_train, y_test = train_test_split(\n",
    "    dev_df_X,\n",
    "    dev_df_y,\n",
    "    test_size=0.2,\n",
    "    random_state=13,\n",
    "    stratify=dev_df_y\n",
    ")\n",
    "print(f\"\"\"\n",
    "X_train.shape: {X_train.shape}\n",
    "X_test.shape: {X_test.shape}\n",
    "y_train.shape: {y_train.shape}\n",
    "y_test.shape: {y_test.shape}\n",
    "\"\"\")"
   ],
   "metadata": {
    "collapsed": false,
    "pycharm": {
     "name": "#%%\n"
    }
   }
  },
  {
   "cell_type": "code",
   "execution_count": 28,
   "outputs": [],
   "source": [
    "tree_one = tree.DecisionTreeClassifier()\n",
    "tree_one = tree_one.fit(X_train, y_train)"
   ],
   "metadata": {
    "collapsed": false,
    "pycharm": {
     "name": "#%%\n"
    }
   }
  },
  {
   "cell_type": "code",
   "execution_count": null,
   "outputs": [],
   "source": [],
   "metadata": {
    "collapsed": false,
    "pycharm": {
     "name": "#%%\n"
    }
   }
  },
  {
   "cell_type": "code",
   "execution_count": 31,
   "outputs": [
    {
     "name": "stdout",
     "output_type": "stream",
     "text": [
      "Accuracy: 0.9539\n"
     ]
    }
   ],
   "source": [
    "tree_one_accuracy = round(tree_one.score(val_df_X, val_df_y), 4)\n",
    "print('Accuracy: %0.4f' % (tree_one_accuracy))"
   ],
   "metadata": {
    "collapsed": false,
    "pycharm": {
     "name": "#%%\n"
    }
   }
  },
  {
   "cell_type": "code",
   "execution_count": null,
   "outputs": [],
   "source": [
    "from io import StringIO\n",
    "from IPython.display import Image, display\n",
    "import pydotplus\n",
    "\n",
    "out = StringIO()\n",
    "tree.export_graphviz(tree_one, out_file = out)\n",
    "\n",
    "graph = pydotplus.graph_from_dot_data(out.getvalue())\n",
    "graph.write_png('classification_easy_money.png')"
   ],
   "metadata": {
    "collapsed": false,
    "pycharm": {
     "name": "#%%\n",
     "is_executing": true
    }
   }
  },
  {
   "cell_type": "code",
   "execution_count": null,
   "outputs": [],
   "source": [],
   "metadata": {
    "collapsed": false,
    "pycharm": {
     "name": "#%%\n"
    }
   }
  }
 ],
 "metadata": {
  "kernelspec": {
   "display_name": "Python 3",
   "language": "python",
   "name": "python3"
  },
  "language_info": {
   "codemirror_mode": {
    "name": "ipython",
    "version": 2
   },
   "file_extension": ".py",
   "mimetype": "text/x-python",
   "name": "python",
   "nbconvert_exporter": "python",
   "pygments_lexer": "ipython2",
   "version": "2.7.6"
  }
 },
 "nbformat": 4,
 "nbformat_minor": 0
}