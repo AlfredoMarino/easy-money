{
 "cells": [
  {
   "cell_type": "code",
   "execution_count": 10,
   "metadata": {
    "collapsed": true
   },
   "outputs": [],
   "source": [
    "import pandas as pd\n",
    "import numpy as np\n",
    "\n",
    "from sklearn import tree\n",
    "from sklearn.model_selection import train_test_split"
   ]
  },
  {
   "cell_type": "code",
   "execution_count": 3,
   "outputs": [],
   "source": [
    "__DATA_PATH__ = \"../data\"\n",
    "__INTERIM_DATA_PATH__ = f\"{__DATA_PATH__}/interim\""
   ],
   "metadata": {
    "collapsed": false,
    "pycharm": {
     "name": "#%%\n"
    }
   }
  },
  {
   "cell_type": "code",
   "execution_count": 12,
   "outputs": [
    {
     "data": {
      "text/plain": "(5962838, 75)"
     },
     "execution_count": 12,
     "metadata": {},
     "output_type": "execute_result"
    }
   ],
   "source": [
    "df = pd.read_csv(f\"{__INTERIM_DATA_PATH__}/easy_money_prep_1.csv\")\n",
    "df.drop(\"Unnamed: 0\", axis=1, inplace=True)\n",
    "df[\"pk_partition\"] = pd.to_datetime(df[\"pk_partition\"])\n",
    "df.shape"
   ],
   "metadata": {
    "collapsed": false,
    "pycharm": {
     "name": "#%%\n"
    }
   }
  },
  {
   "cell_type": "code",
   "execution_count": 16,
   "outputs": [],
   "source": [
    "TARGET = \"em_acount\""
   ],
   "metadata": {
    "collapsed": false,
    "pycharm": {
     "name": "#%%\n"
    }
   }
  },
  {
   "cell_type": "code",
   "execution_count": 24,
   "outputs": [
    {
     "name": "stdout",
     "output_type": "stream",
     "text": [
      "dev_df.shape: 4644039,72\n",
      "val_df.shape: 1318799,72\n",
      "\n",
      "    dev_df_X.shape: (4644039, 71)\n",
      "    dev_df_y.shape: (4644039, 1)\n",
      "\n",
      "    val_df_X.shape: (1318799, 71)\n",
      "    val_df_y.shape: (1318799, 1)\n",
      "    \n"
     ]
    }
   ],
   "source": [
    "def dev_val_split(dataframe: pd.DataFrame, split_condition, exclude_columns, target: str = TARGET):\n",
    "    dev_df = dataframe[split_condition].drop(exclude_columns, axis=1)\n",
    "    val_df = dataframe[~split_condition].drop(exclude_columns, axis=1)\n",
    "\n",
    "    dev_df_X = dev_df.drop(target, axis=1)\n",
    "    dev_df_y = dev_df[[TARGET]]\n",
    "\n",
    "    val_df_X = val_df.drop(TARGET, axis=1)\n",
    "    val_df_y = val_df[[TARGET]]\n",
    "\n",
    "    print(f\"\"\"\n",
    "    dev_df_X.shape: {dev_df_X.shape}\n",
    "    dev_df_y.shape: {dev_df_y.shape}\n",
    "\n",
    "    val_df_X.shape: {val_df_X.shape}\n",
    "    val_df_y.shape: {val_df_y.shape}\n",
    "    \"\"\")\n",
    "\n",
    "    return dev_df_X, dev_df_y, val_df_X, val_df_y\n",
    "\n",
    "\n",
    "dev_df_X, dev_df_y, val_df_X, val_df_y = dev_val_split(\n",
    "    dataframe=df,\n",
    "    split_condition=(df[\"pk_partition\"] < \"2019-03-28\"),\n",
    "    exclude_columns=[\"pk_cid\", \"pk_partition\", \"entry_date\"],\n",
    "    target=TARGET\n",
    ")"
   ],
   "metadata": {
    "collapsed": false,
    "pycharm": {
     "name": "#%%\n"
    }
   }
  },
  {
   "cell_type": "code",
   "execution_count": 27,
   "outputs": [
    {
     "name": "stdout",
     "output_type": "stream",
     "text": [
      "\n",
      "X_train.shape: (3715231, 71)\n",
      "X_test.shape: (928808, 71)\n",
      "y_train.shape: (3715231, 1)\n",
      "y_test.shape: (928808, 1)\n",
      "\n"
     ]
    }
   ],
   "source": [
    "X_train, X_test, y_train, y_test = train_test_split(\n",
    "    dev_df_X,\n",
    "    dev_df_y,\n",
    "    test_size=0.2,\n",
    "    random_state=13,\n",
    "    stratify=dev_df_y\n",
    ")\n",
    "print(f\"\"\"\n",
    "X_train.shape: {X_train.shape}\n",
    "X_test.shape: {X_test.shape}\n",
    "y_train.shape: {y_train.shape}\n",
    "y_test.shape: {y_test.shape}\n",
    "\"\"\")"
   ],
   "metadata": {
    "collapsed": false,
    "pycharm": {
     "name": "#%%\n"
    }
   }
  },
  {
   "cell_type": "code",
   "execution_count": 28,
   "outputs": [],
   "source": [
    "import mlflow\n",
    "from sklearn.linear_model import LogisticRegression\n",
    "\n",
    "mlflow.set_tracking_uri('http://3.249.188.239:5000')\n",
    "\n",
    "# Si no existe, creo el experimento\n",
    "experiment_name = \"malware-windows-prediction-aamv\"\n",
    "\n",
    "if not mlflow.get_experiment_by_name(experiment_name):\n",
    "    mlflow.create_experiment(name=experiment_name)\n",
    "\n",
    "experiment = mlflow.get_experiment_by_name(experiment_name)\n",
    "\n",
    "# autologging tracking\n",
    "mlflow.sklearn.autolog()\n",
    "\n",
    "# start run and track\n",
    "with mlflow.start_run(experiment_id = experiment.experiment_id):\n",
    "    tree_one = tree.DecisionTreeClassifier()\n",
    "    tree_one = tree_one.fit(X_train, y_train)\n",
    "    tree_one_accuracy = round(tree_one.score(val_df_X, val_df_y), 4)\n",
    "    print('Accuracy: %0.4f' % (tree_one_accuracy))"
   ],
   "metadata": {
    "collapsed": false,
    "pycharm": {
     "name": "#%%\n"
    }
   }
  },
  {
   "cell_type": "code",
   "execution_count": null,
   "outputs": [],
   "source": [],
   "metadata": {
    "collapsed": false,
    "pycharm": {
     "name": "#%%\n"
    }
   }
  },
  {
   "cell_type": "code",
   "execution_count": 31,
   "outputs": [
    {
     "name": "stdout",
     "output_type": "stream",
     "text": [
      "Accuracy: 0.9539\n"
     ]
    }
   ],
   "source": [],
   "metadata": {
    "collapsed": false,
    "pycharm": {
     "name": "#%%\n"
    }
   }
  },
  {
   "cell_type": "code",
   "execution_count": null,
   "outputs": [],
   "source": [],
   "metadata": {
    "collapsed": false,
    "pycharm": {
     "name": "#%%\n",
     "is_executing": true
    }
   }
  },
  {
   "cell_type": "code",
   "execution_count": null,
   "outputs": [],
   "source": [],
   "metadata": {
    "collapsed": false,
    "pycharm": {
     "name": "#%%\n"
    }
   }
  }
 ],
 "metadata": {
  "kernelspec": {
   "display_name": "Python 3",
   "language": "python",
   "name": "python3"
  },
  "language_info": {
   "codemirror_mode": {
    "name": "ipython",
    "version": 2
   },
   "file_extension": ".py",
   "mimetype": "text/x-python",
   "name": "python",
   "nbconvert_exporter": "python",
   "pygments_lexer": "ipython2",
   "version": "2.7.6"
  }
 },
 "nbformat": 4,
 "nbformat_minor": 0
}