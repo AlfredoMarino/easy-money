{
 "cells": [
  {
   "cell_type": "markdown",
   "source": [
    "# Preprocesado de datos para clustering"
   ],
   "metadata": {
    "collapsed": false
   }
  },
  {
   "cell_type": "code",
   "execution_count": 1,
   "outputs": [],
   "source": [
    "import pandas as pd\n",
    "import numpy as np"
   ],
   "metadata": {
    "collapsed": false,
    "pycharm": {
     "name": "#%%\n"
    }
   }
  },
  {
   "cell_type": "code",
   "execution_count": 2,
   "outputs": [],
   "source": [
    "__INTERIM_DATA_PATH__ = \"../data/interim\"\n",
    "__PREPROCESSED_DATA_PATH__ = \"../data/preprocessed\""
   ],
   "metadata": {
    "collapsed": false,
    "pycharm": {
     "name": "#%%\n"
    }
   }
  },
  {
   "cell_type": "markdown",
   "source": [
    "## Import data"
   ],
   "metadata": {
    "collapsed": false
   }
  },
  {
   "cell_type": "code",
   "execution_count": 3,
   "outputs": [
    {
     "data": {
      "text/plain": "(5962863, 33)"
     },
     "execution_count": 3,
     "metadata": {},
     "output_type": "execute_result"
    }
   ],
   "source": [
    "df = pd.read_csv(f\"{__INTERIM_DATA_PATH__}/easy_money_prep_1.csv\")\n",
    "df.drop(\"Unnamed: 0\", axis=1, inplace=True)\n",
    "df.shape"
   ],
   "metadata": {
    "collapsed": false,
    "pycharm": {
     "name": "#%%\n"
    }
   }
  },
  {
   "cell_type": "code",
   "execution_count": 4,
   "outputs": [
    {
     "data": {
      "text/plain": "   pk_cid pk_partition  entry_date entry_channel  active_customer  \\\n0   15891   2018-07-28  2018-07-28           KAT                1   \n1   15891   2018-08-28  2018-07-28           KAT                0   \n2   16063   2018-11-28  2018-11-19           KAT                1   \n3   16063   2018-12-28  2018-11-19           KAT                1   \n4   16063   2019-01-28  2018-11-19           KAT                1   \n\n             segment country_id  region_code  gender  age  ...  emc_account  \\\n0         00 - OTROS         ES           28  female   59  ...            0   \n1  02 - PARTICULARES         ES           28  female   59  ...            0   \n2         00 - OTROS         ES           28  female   62  ...            0   \n3  02 - PARTICULARES         ES           28  female   62  ...            0   \n4  02 - PARTICULARES         ES           28  female   62  ...            0   \n\n   debit_card  em_account_p  em_acount  entry_date_month  entry_date_year  \\\n0           0             0          1                 7             2018   \n1           0             0          0                 7             2018   \n2           0             0          0                11             2018   \n3           0             0          0                11             2018   \n4           0             0          0                11             2018   \n\n   entry_date_day  entry_date_week  entry_date_weekday  entry_date_trim  \n0              28               30                   5                3  \n1              28               30                   5                3  \n2              19               47                   0                4  \n3              19               47                   0                4  \n4              19               47                   0                4  \n\n[5 rows x 33 columns]",
      "text/html": "<div>\n<style scoped>\n    .dataframe tbody tr th:only-of-type {\n        vertical-align: middle;\n    }\n\n    .dataframe tbody tr th {\n        vertical-align: top;\n    }\n\n    .dataframe thead th {\n        text-align: right;\n    }\n</style>\n<table border=\"1\" class=\"dataframe\">\n  <thead>\n    <tr style=\"text-align: right;\">\n      <th></th>\n      <th>pk_cid</th>\n      <th>pk_partition</th>\n      <th>entry_date</th>\n      <th>entry_channel</th>\n      <th>active_customer</th>\n      <th>segment</th>\n      <th>country_id</th>\n      <th>region_code</th>\n      <th>gender</th>\n      <th>age</th>\n      <th>...</th>\n      <th>emc_account</th>\n      <th>debit_card</th>\n      <th>em_account_p</th>\n      <th>em_acount</th>\n      <th>entry_date_month</th>\n      <th>entry_date_year</th>\n      <th>entry_date_day</th>\n      <th>entry_date_week</th>\n      <th>entry_date_weekday</th>\n      <th>entry_date_trim</th>\n    </tr>\n  </thead>\n  <tbody>\n    <tr>\n      <th>0</th>\n      <td>15891</td>\n      <td>2018-07-28</td>\n      <td>2018-07-28</td>\n      <td>KAT</td>\n      <td>1</td>\n      <td>00 - OTROS</td>\n      <td>ES</td>\n      <td>28</td>\n      <td>female</td>\n      <td>59</td>\n      <td>...</td>\n      <td>0</td>\n      <td>0</td>\n      <td>0</td>\n      <td>1</td>\n      <td>7</td>\n      <td>2018</td>\n      <td>28</td>\n      <td>30</td>\n      <td>5</td>\n      <td>3</td>\n    </tr>\n    <tr>\n      <th>1</th>\n      <td>15891</td>\n      <td>2018-08-28</td>\n      <td>2018-07-28</td>\n      <td>KAT</td>\n      <td>0</td>\n      <td>02 - PARTICULARES</td>\n      <td>ES</td>\n      <td>28</td>\n      <td>female</td>\n      <td>59</td>\n      <td>...</td>\n      <td>0</td>\n      <td>0</td>\n      <td>0</td>\n      <td>0</td>\n      <td>7</td>\n      <td>2018</td>\n      <td>28</td>\n      <td>30</td>\n      <td>5</td>\n      <td>3</td>\n    </tr>\n    <tr>\n      <th>2</th>\n      <td>16063</td>\n      <td>2018-11-28</td>\n      <td>2018-11-19</td>\n      <td>KAT</td>\n      <td>1</td>\n      <td>00 - OTROS</td>\n      <td>ES</td>\n      <td>28</td>\n      <td>female</td>\n      <td>62</td>\n      <td>...</td>\n      <td>0</td>\n      <td>0</td>\n      <td>0</td>\n      <td>0</td>\n      <td>11</td>\n      <td>2018</td>\n      <td>19</td>\n      <td>47</td>\n      <td>0</td>\n      <td>4</td>\n    </tr>\n    <tr>\n      <th>3</th>\n      <td>16063</td>\n      <td>2018-12-28</td>\n      <td>2018-11-19</td>\n      <td>KAT</td>\n      <td>1</td>\n      <td>02 - PARTICULARES</td>\n      <td>ES</td>\n      <td>28</td>\n      <td>female</td>\n      <td>62</td>\n      <td>...</td>\n      <td>0</td>\n      <td>0</td>\n      <td>0</td>\n      <td>0</td>\n      <td>11</td>\n      <td>2018</td>\n      <td>19</td>\n      <td>47</td>\n      <td>0</td>\n      <td>4</td>\n    </tr>\n    <tr>\n      <th>4</th>\n      <td>16063</td>\n      <td>2019-01-28</td>\n      <td>2018-11-19</td>\n      <td>KAT</td>\n      <td>1</td>\n      <td>02 - PARTICULARES</td>\n      <td>ES</td>\n      <td>28</td>\n      <td>female</td>\n      <td>62</td>\n      <td>...</td>\n      <td>0</td>\n      <td>0</td>\n      <td>0</td>\n      <td>0</td>\n      <td>11</td>\n      <td>2018</td>\n      <td>19</td>\n      <td>47</td>\n      <td>0</td>\n      <td>4</td>\n    </tr>\n  </tbody>\n</table>\n<p>5 rows × 33 columns</p>\n</div>"
     },
     "execution_count": 4,
     "metadata": {},
     "output_type": "execute_result"
    }
   ],
   "source": [
    "df[\"pk_partition\"] = pd.to_datetime(df[\"pk_partition\"])\n",
    "df.sort_values([\"pk_cid\", \"pk_partition\"], inplace=True)\n",
    "df.reset_index(drop=True, inplace=True)\n",
    "df.head()"
   ],
   "metadata": {
    "collapsed": false,
    "pycharm": {
     "name": "#%%\n"
    }
   }
  },
  {
   "cell_type": "code",
   "execution_count": 5,
   "outputs": [
    {
     "data": {
      "text/plain": "          pk_cid pk_partition  entry_date entry_channel  active_customer  \\\n5929828  1534231   2019-02-28  2019-02-23         OTROS                1   \n5929829  1534231   2019-03-28  2019-02-23           KHM                1   \n5929830  1534231   2019-04-28  2019-02-22           KHM                1   \n5929831  1534231   2019-05-28  2019-02-22           KHM                1   \n\n                   segment country_id  region_code gender  age  ...  \\\n5929828         00 - OTROS         ES           14   male   33  ...   \n5929829  02 - PARTICULARES         ES           14   male   33  ...   \n5929830  02 - PARTICULARES         ES           14   male   33  ...   \n5929831  02 - PARTICULARES         ES           14   male   33  ...   \n\n         emc_account  debit_card  em_account_p  em_acount  entry_date_month  \\\n5929828            0           0             0          1                 2   \n5929829            0           0             0          1                 2   \n5929830            0           0             0          1                 2   \n5929831            0           0             0          1                 2   \n\n         entry_date_year  entry_date_day  entry_date_week  entry_date_weekday  \\\n5929828             2019              23                8                   5   \n5929829             2019              23                8                   5   \n5929830             2019              22                8                   4   \n5929831             2019              22                8                   4   \n\n         entry_date_trim  \n5929828                1  \n5929829                1  \n5929830                1  \n5929831                1  \n\n[4 rows x 33 columns]",
      "text/html": "<div>\n<style scoped>\n    .dataframe tbody tr th:only-of-type {\n        vertical-align: middle;\n    }\n\n    .dataframe tbody tr th {\n        vertical-align: top;\n    }\n\n    .dataframe thead th {\n        text-align: right;\n    }\n</style>\n<table border=\"1\" class=\"dataframe\">\n  <thead>\n    <tr style=\"text-align: right;\">\n      <th></th>\n      <th>pk_cid</th>\n      <th>pk_partition</th>\n      <th>entry_date</th>\n      <th>entry_channel</th>\n      <th>active_customer</th>\n      <th>segment</th>\n      <th>country_id</th>\n      <th>region_code</th>\n      <th>gender</th>\n      <th>age</th>\n      <th>...</th>\n      <th>emc_account</th>\n      <th>debit_card</th>\n      <th>em_account_p</th>\n      <th>em_acount</th>\n      <th>entry_date_month</th>\n      <th>entry_date_year</th>\n      <th>entry_date_day</th>\n      <th>entry_date_week</th>\n      <th>entry_date_weekday</th>\n      <th>entry_date_trim</th>\n    </tr>\n  </thead>\n  <tbody>\n    <tr>\n      <th>5929828</th>\n      <td>1534231</td>\n      <td>2019-02-28</td>\n      <td>2019-02-23</td>\n      <td>OTROS</td>\n      <td>1</td>\n      <td>00 - OTROS</td>\n      <td>ES</td>\n      <td>14</td>\n      <td>male</td>\n      <td>33</td>\n      <td>...</td>\n      <td>0</td>\n      <td>0</td>\n      <td>0</td>\n      <td>1</td>\n      <td>2</td>\n      <td>2019</td>\n      <td>23</td>\n      <td>8</td>\n      <td>5</td>\n      <td>1</td>\n    </tr>\n    <tr>\n      <th>5929829</th>\n      <td>1534231</td>\n      <td>2019-03-28</td>\n      <td>2019-02-23</td>\n      <td>KHM</td>\n      <td>1</td>\n      <td>02 - PARTICULARES</td>\n      <td>ES</td>\n      <td>14</td>\n      <td>male</td>\n      <td>33</td>\n      <td>...</td>\n      <td>0</td>\n      <td>0</td>\n      <td>0</td>\n      <td>1</td>\n      <td>2</td>\n      <td>2019</td>\n      <td>23</td>\n      <td>8</td>\n      <td>5</td>\n      <td>1</td>\n    </tr>\n    <tr>\n      <th>5929830</th>\n      <td>1534231</td>\n      <td>2019-04-28</td>\n      <td>2019-02-22</td>\n      <td>KHM</td>\n      <td>1</td>\n      <td>02 - PARTICULARES</td>\n      <td>ES</td>\n      <td>14</td>\n      <td>male</td>\n      <td>33</td>\n      <td>...</td>\n      <td>0</td>\n      <td>0</td>\n      <td>0</td>\n      <td>1</td>\n      <td>2</td>\n      <td>2019</td>\n      <td>22</td>\n      <td>8</td>\n      <td>4</td>\n      <td>1</td>\n    </tr>\n    <tr>\n      <th>5929831</th>\n      <td>1534231</td>\n      <td>2019-05-28</td>\n      <td>2019-02-22</td>\n      <td>KHM</td>\n      <td>1</td>\n      <td>02 - PARTICULARES</td>\n      <td>ES</td>\n      <td>14</td>\n      <td>male</td>\n      <td>33</td>\n      <td>...</td>\n      <td>0</td>\n      <td>0</td>\n      <td>0</td>\n      <td>1</td>\n      <td>2</td>\n      <td>2019</td>\n      <td>22</td>\n      <td>8</td>\n      <td>4</td>\n      <td>1</td>\n    </tr>\n  </tbody>\n</table>\n<p>4 rows × 33 columns</p>\n</div>"
     },
     "execution_count": 5,
     "metadata": {},
     "output_type": "execute_result"
    }
   ],
   "source": [
    "df[df[\"pk_cid\"] == 1534231]"
   ],
   "metadata": {
    "collapsed": false,
    "pycharm": {
     "name": "#%%\n"
    }
   }
  },
  {
   "cell_type": "code",
   "execution_count": 6,
   "outputs": [
    {
     "name": "stderr",
     "output_type": "stream",
     "text": [
      "C:\\Users\\alfre\\AppData\\Local\\Temp/ipykernel_8160/1757877825.py:1: FutureWarning: Treating datetime data as categorical rather than numeric in `.describe` is deprecated and will be removed in a future version of pandas. Specify `datetime_is_numeric=True` to silence this warning and adopt the future behavior now.\n",
      "  df.describe(include=\"all\").T\n"
     ]
    },
    {
     "data": {
      "text/plain": "                        count unique                  top     freq      first  \\\npk_cid              5962863.0    NaN                  NaN      NaN        NaT   \npk_partition          5962863     17  2019-05-28 00:00:00   442995 2018-01-28   \nentry_date            5962863   1497           2017-07-28    57389        NaT   \nentry_channel         5962863     69                  KHE  3113947        NaT   \nactive_customer     5962863.0    NaN                  NaN      NaN        NaT   \nsegment               5962863      4   03 - UNIVERSITARIO  3900157        NaT   \ncountry_id            5962863     41                   ES  5960611        NaT   \nregion_code         5962863.0    NaN                  NaN      NaN        NaT   \ngender                5962863      3               female  3087480        NaT   \nage                 5962863.0    NaN                  NaN      NaN        NaT   \ndeceased            5962863.0    NaN                  NaN      NaN        NaT   \nsalary              5962863.0    NaN                  NaN      NaN        NaT   \nshort_term_deposit  5962863.0    NaN                  NaN      NaN        NaT   \nloans               5962863.0    NaN                  NaN      NaN        NaT   \nmortgage            5962863.0    NaN                  NaN      NaN        NaT   \nfunds               5962863.0    NaN                  NaN      NaN        NaT   \nsecurities          5962863.0    NaN                  NaN      NaN        NaT   \nlong_term_deposit   5962863.0    NaN                  NaN      NaN        NaT   \nem_account_pp       5962863.0    NaN                  NaN      NaN        NaT   \ncredit_card         5962863.0    NaN                  NaN      NaN        NaT   \npayroll             5962863.0    NaN                  NaN      NaN        NaT   \npension_plan        5962863.0    NaN                  NaN      NaN        NaT   \npayroll_account     5962863.0    NaN                  NaN      NaN        NaT   \nemc_account         5962863.0    NaN                  NaN      NaN        NaT   \ndebit_card          5962863.0    NaN                  NaN      NaN        NaT   \nem_account_p        5962863.0    NaN                  NaN      NaN        NaT   \nem_acount           5962863.0    NaN                  NaN      NaN        NaT   \nentry_date_month    5962863.0    NaN                  NaN      NaN        NaT   \nentry_date_year     5962863.0    NaN                  NaN      NaN        NaT   \nentry_date_day      5962863.0    NaN                  NaN      NaN        NaT   \nentry_date_week     5962863.0    NaN                  NaN      NaN        NaT   \nentry_date_weekday  5962863.0    NaN                  NaN      NaN        NaT   \nentry_date_trim     5962863.0    NaN                  NaN      NaN        NaT   \n\n                         last            mean            std      min  \\\npk_cid                    NaT  1234929.714088  162302.567746  15891.0   \npk_partition       2019-05-28             NaN            NaN      NaN   \nentry_date                NaT             NaN            NaN      NaN   \nentry_channel             NaT             NaN            NaN      NaN   \nactive_customer           NaT        0.403382       0.490576      0.0   \nsegment                   NaT             NaN            NaN      NaN   \ncountry_id                NaT             NaN            NaN      NaN   \nregion_code               NaT        25.80418      13.603108     -1.0   \ngender                    NaT             NaN            NaN      NaN   \nage                       NaT       29.760324      11.980339      2.0   \ndeceased                  NaT         0.00018       0.013426      0.0   \nsalary                    NaT    86447.308602  179616.890876     -1.0   \nshort_term_deposit        NaT        0.002582       0.050744      0.0   \nloans                     NaT        0.000078       0.008859      0.0   \nmortgage                  NaT        0.000054       0.007371      0.0   \nfunds                     NaT        0.003371        0.05796      0.0   \nsecurities                NaT        0.003712       0.060811      0.0   \nlong_term_deposit         NaT        0.016881       0.128826      0.0   \nem_account_pp             NaT             0.0            0.0      0.0   \ncredit_card               NaT        0.011885       0.108367      0.0   \npayroll                   NaT        0.034511       0.182539      0.0   \npension_plan              NaT        0.036526       0.187596      0.0   \npayroll_account           NaT        0.055245       0.228458      0.0   \nemc_account               NaT        0.054833       0.227654      0.0   \ndebit_card                NaT        0.094412       0.292401      0.0   \nem_account_p              NaT        0.000006       0.002388      0.0   \nem_acount                 NaT        0.734815       0.441432      0.0   \nentry_date_month          NaT        8.141653       2.794156      1.0   \nentry_date_year           NaT     2016.478471       1.103929   2015.0   \nentry_date_day            NaT        15.91632       8.993567      1.0   \nentry_date_week           NaT       33.603013      12.142804      1.0   \nentry_date_weekday        NaT        3.380366       2.162171      0.0   \nentry_date_trim           NaT        3.098962       0.932933      1.0   \n\n                          25%        50%        75%          max  \npk_cid              1112532.0  1231096.0  1352339.0    1553689.0  \npk_partition              NaN        NaN        NaN          NaN  \nentry_date                NaN        NaN        NaN          NaN  \nentry_channel             NaN        NaN        NaN          NaN  \nactive_customer           0.0        0.0        1.0          1.0  \nsegment                   NaN        NaN        NaN          NaN  \ncountry_id                NaN        NaN        NaN          NaN  \nregion_code              13.0       28.0       36.0         52.0  \ngender                    NaN        NaN        NaN          NaN  \nage                      22.0       25.0       34.0        105.0  \ndeceased                  0.0        0.0        0.0          1.0  \nsalary                   -1.0   69696.21  113462.19  28894395.51  \nshort_term_deposit        0.0        0.0        0.0          1.0  \nloans                     0.0        0.0        0.0          1.0  \nmortgage                  0.0        0.0        0.0          1.0  \nfunds                     0.0        0.0        0.0          1.0  \nsecurities                0.0        0.0        0.0          1.0  \nlong_term_deposit         0.0        0.0        0.0          1.0  \nem_account_pp             0.0        0.0        0.0          0.0  \ncredit_card               0.0        0.0        0.0          1.0  \npayroll                   0.0        0.0        0.0          1.0  \npension_plan              0.0        0.0        0.0          1.0  \npayroll_account           0.0        0.0        0.0          1.0  \nemc_account               0.0        0.0        0.0          1.0  \ndebit_card                0.0        0.0        0.0          1.0  \nem_account_p              0.0        0.0        0.0          1.0  \nem_acount                 0.0        1.0        1.0          1.0  \nentry_date_month          7.0        9.0       10.0         12.0  \nentry_date_year        2016.0     2016.0     2017.0       2019.0  \nentry_date_day            8.0       16.0       24.0         31.0  \nentry_date_week          30.0       37.0       42.0         53.0  \nentry_date_weekday        1.0        4.0        5.0          6.0  \nentry_date_trim           3.0        3.0        4.0          4.0  ",
      "text/html": "<div>\n<style scoped>\n    .dataframe tbody tr th:only-of-type {\n        vertical-align: middle;\n    }\n\n    .dataframe tbody tr th {\n        vertical-align: top;\n    }\n\n    .dataframe thead th {\n        text-align: right;\n    }\n</style>\n<table border=\"1\" class=\"dataframe\">\n  <thead>\n    <tr style=\"text-align: right;\">\n      <th></th>\n      <th>count</th>\n      <th>unique</th>\n      <th>top</th>\n      <th>freq</th>\n      <th>first</th>\n      <th>last</th>\n      <th>mean</th>\n      <th>std</th>\n      <th>min</th>\n      <th>25%</th>\n      <th>50%</th>\n      <th>75%</th>\n      <th>max</th>\n    </tr>\n  </thead>\n  <tbody>\n    <tr>\n      <th>pk_cid</th>\n      <td>5962863.0</td>\n      <td>NaN</td>\n      <td>NaN</td>\n      <td>NaN</td>\n      <td>NaT</td>\n      <td>NaT</td>\n      <td>1234929.714088</td>\n      <td>162302.567746</td>\n      <td>15891.0</td>\n      <td>1112532.0</td>\n      <td>1231096.0</td>\n      <td>1352339.0</td>\n      <td>1553689.0</td>\n    </tr>\n    <tr>\n      <th>pk_partition</th>\n      <td>5962863</td>\n      <td>17</td>\n      <td>2019-05-28 00:00:00</td>\n      <td>442995</td>\n      <td>2018-01-28</td>\n      <td>2019-05-28</td>\n      <td>NaN</td>\n      <td>NaN</td>\n      <td>NaN</td>\n      <td>NaN</td>\n      <td>NaN</td>\n      <td>NaN</td>\n      <td>NaN</td>\n    </tr>\n    <tr>\n      <th>entry_date</th>\n      <td>5962863</td>\n      <td>1497</td>\n      <td>2017-07-28</td>\n      <td>57389</td>\n      <td>NaT</td>\n      <td>NaT</td>\n      <td>NaN</td>\n      <td>NaN</td>\n      <td>NaN</td>\n      <td>NaN</td>\n      <td>NaN</td>\n      <td>NaN</td>\n      <td>NaN</td>\n    </tr>\n    <tr>\n      <th>entry_channel</th>\n      <td>5962863</td>\n      <td>69</td>\n      <td>KHE</td>\n      <td>3113947</td>\n      <td>NaT</td>\n      <td>NaT</td>\n      <td>NaN</td>\n      <td>NaN</td>\n      <td>NaN</td>\n      <td>NaN</td>\n      <td>NaN</td>\n      <td>NaN</td>\n      <td>NaN</td>\n    </tr>\n    <tr>\n      <th>active_customer</th>\n      <td>5962863.0</td>\n      <td>NaN</td>\n      <td>NaN</td>\n      <td>NaN</td>\n      <td>NaT</td>\n      <td>NaT</td>\n      <td>0.403382</td>\n      <td>0.490576</td>\n      <td>0.0</td>\n      <td>0.0</td>\n      <td>0.0</td>\n      <td>1.0</td>\n      <td>1.0</td>\n    </tr>\n    <tr>\n      <th>segment</th>\n      <td>5962863</td>\n      <td>4</td>\n      <td>03 - UNIVERSITARIO</td>\n      <td>3900157</td>\n      <td>NaT</td>\n      <td>NaT</td>\n      <td>NaN</td>\n      <td>NaN</td>\n      <td>NaN</td>\n      <td>NaN</td>\n      <td>NaN</td>\n      <td>NaN</td>\n      <td>NaN</td>\n    </tr>\n    <tr>\n      <th>country_id</th>\n      <td>5962863</td>\n      <td>41</td>\n      <td>ES</td>\n      <td>5960611</td>\n      <td>NaT</td>\n      <td>NaT</td>\n      <td>NaN</td>\n      <td>NaN</td>\n      <td>NaN</td>\n      <td>NaN</td>\n      <td>NaN</td>\n      <td>NaN</td>\n      <td>NaN</td>\n    </tr>\n    <tr>\n      <th>region_code</th>\n      <td>5962863.0</td>\n      <td>NaN</td>\n      <td>NaN</td>\n      <td>NaN</td>\n      <td>NaT</td>\n      <td>NaT</td>\n      <td>25.80418</td>\n      <td>13.603108</td>\n      <td>-1.0</td>\n      <td>13.0</td>\n      <td>28.0</td>\n      <td>36.0</td>\n      <td>52.0</td>\n    </tr>\n    <tr>\n      <th>gender</th>\n      <td>5962863</td>\n      <td>3</td>\n      <td>female</td>\n      <td>3087480</td>\n      <td>NaT</td>\n      <td>NaT</td>\n      <td>NaN</td>\n      <td>NaN</td>\n      <td>NaN</td>\n      <td>NaN</td>\n      <td>NaN</td>\n      <td>NaN</td>\n      <td>NaN</td>\n    </tr>\n    <tr>\n      <th>age</th>\n      <td>5962863.0</td>\n      <td>NaN</td>\n      <td>NaN</td>\n      <td>NaN</td>\n      <td>NaT</td>\n      <td>NaT</td>\n      <td>29.760324</td>\n      <td>11.980339</td>\n      <td>2.0</td>\n      <td>22.0</td>\n      <td>25.0</td>\n      <td>34.0</td>\n      <td>105.0</td>\n    </tr>\n    <tr>\n      <th>deceased</th>\n      <td>5962863.0</td>\n      <td>NaN</td>\n      <td>NaN</td>\n      <td>NaN</td>\n      <td>NaT</td>\n      <td>NaT</td>\n      <td>0.00018</td>\n      <td>0.013426</td>\n      <td>0.0</td>\n      <td>0.0</td>\n      <td>0.0</td>\n      <td>0.0</td>\n      <td>1.0</td>\n    </tr>\n    <tr>\n      <th>salary</th>\n      <td>5962863.0</td>\n      <td>NaN</td>\n      <td>NaN</td>\n      <td>NaN</td>\n      <td>NaT</td>\n      <td>NaT</td>\n      <td>86447.308602</td>\n      <td>179616.890876</td>\n      <td>-1.0</td>\n      <td>-1.0</td>\n      <td>69696.21</td>\n      <td>113462.19</td>\n      <td>28894395.51</td>\n    </tr>\n    <tr>\n      <th>short_term_deposit</th>\n      <td>5962863.0</td>\n      <td>NaN</td>\n      <td>NaN</td>\n      <td>NaN</td>\n      <td>NaT</td>\n      <td>NaT</td>\n      <td>0.002582</td>\n      <td>0.050744</td>\n      <td>0.0</td>\n      <td>0.0</td>\n      <td>0.0</td>\n      <td>0.0</td>\n      <td>1.0</td>\n    </tr>\n    <tr>\n      <th>loans</th>\n      <td>5962863.0</td>\n      <td>NaN</td>\n      <td>NaN</td>\n      <td>NaN</td>\n      <td>NaT</td>\n      <td>NaT</td>\n      <td>0.000078</td>\n      <td>0.008859</td>\n      <td>0.0</td>\n      <td>0.0</td>\n      <td>0.0</td>\n      <td>0.0</td>\n      <td>1.0</td>\n    </tr>\n    <tr>\n      <th>mortgage</th>\n      <td>5962863.0</td>\n      <td>NaN</td>\n      <td>NaN</td>\n      <td>NaN</td>\n      <td>NaT</td>\n      <td>NaT</td>\n      <td>0.000054</td>\n      <td>0.007371</td>\n      <td>0.0</td>\n      <td>0.0</td>\n      <td>0.0</td>\n      <td>0.0</td>\n      <td>1.0</td>\n    </tr>\n    <tr>\n      <th>funds</th>\n      <td>5962863.0</td>\n      <td>NaN</td>\n      <td>NaN</td>\n      <td>NaN</td>\n      <td>NaT</td>\n      <td>NaT</td>\n      <td>0.003371</td>\n      <td>0.05796</td>\n      <td>0.0</td>\n      <td>0.0</td>\n      <td>0.0</td>\n      <td>0.0</td>\n      <td>1.0</td>\n    </tr>\n    <tr>\n      <th>securities</th>\n      <td>5962863.0</td>\n      <td>NaN</td>\n      <td>NaN</td>\n      <td>NaN</td>\n      <td>NaT</td>\n      <td>NaT</td>\n      <td>0.003712</td>\n      <td>0.060811</td>\n      <td>0.0</td>\n      <td>0.0</td>\n      <td>0.0</td>\n      <td>0.0</td>\n      <td>1.0</td>\n    </tr>\n    <tr>\n      <th>long_term_deposit</th>\n      <td>5962863.0</td>\n      <td>NaN</td>\n      <td>NaN</td>\n      <td>NaN</td>\n      <td>NaT</td>\n      <td>NaT</td>\n      <td>0.016881</td>\n      <td>0.128826</td>\n      <td>0.0</td>\n      <td>0.0</td>\n      <td>0.0</td>\n      <td>0.0</td>\n      <td>1.0</td>\n    </tr>\n    <tr>\n      <th>em_account_pp</th>\n      <td>5962863.0</td>\n      <td>NaN</td>\n      <td>NaN</td>\n      <td>NaN</td>\n      <td>NaT</td>\n      <td>NaT</td>\n      <td>0.0</td>\n      <td>0.0</td>\n      <td>0.0</td>\n      <td>0.0</td>\n      <td>0.0</td>\n      <td>0.0</td>\n      <td>0.0</td>\n    </tr>\n    <tr>\n      <th>credit_card</th>\n      <td>5962863.0</td>\n      <td>NaN</td>\n      <td>NaN</td>\n      <td>NaN</td>\n      <td>NaT</td>\n      <td>NaT</td>\n      <td>0.011885</td>\n      <td>0.108367</td>\n      <td>0.0</td>\n      <td>0.0</td>\n      <td>0.0</td>\n      <td>0.0</td>\n      <td>1.0</td>\n    </tr>\n    <tr>\n      <th>payroll</th>\n      <td>5962863.0</td>\n      <td>NaN</td>\n      <td>NaN</td>\n      <td>NaN</td>\n      <td>NaT</td>\n      <td>NaT</td>\n      <td>0.034511</td>\n      <td>0.182539</td>\n      <td>0.0</td>\n      <td>0.0</td>\n      <td>0.0</td>\n      <td>0.0</td>\n      <td>1.0</td>\n    </tr>\n    <tr>\n      <th>pension_plan</th>\n      <td>5962863.0</td>\n      <td>NaN</td>\n      <td>NaN</td>\n      <td>NaN</td>\n      <td>NaT</td>\n      <td>NaT</td>\n      <td>0.036526</td>\n      <td>0.187596</td>\n      <td>0.0</td>\n      <td>0.0</td>\n      <td>0.0</td>\n      <td>0.0</td>\n      <td>1.0</td>\n    </tr>\n    <tr>\n      <th>payroll_account</th>\n      <td>5962863.0</td>\n      <td>NaN</td>\n      <td>NaN</td>\n      <td>NaN</td>\n      <td>NaT</td>\n      <td>NaT</td>\n      <td>0.055245</td>\n      <td>0.228458</td>\n      <td>0.0</td>\n      <td>0.0</td>\n      <td>0.0</td>\n      <td>0.0</td>\n      <td>1.0</td>\n    </tr>\n    <tr>\n      <th>emc_account</th>\n      <td>5962863.0</td>\n      <td>NaN</td>\n      <td>NaN</td>\n      <td>NaN</td>\n      <td>NaT</td>\n      <td>NaT</td>\n      <td>0.054833</td>\n      <td>0.227654</td>\n      <td>0.0</td>\n      <td>0.0</td>\n      <td>0.0</td>\n      <td>0.0</td>\n      <td>1.0</td>\n    </tr>\n    <tr>\n      <th>debit_card</th>\n      <td>5962863.0</td>\n      <td>NaN</td>\n      <td>NaN</td>\n      <td>NaN</td>\n      <td>NaT</td>\n      <td>NaT</td>\n      <td>0.094412</td>\n      <td>0.292401</td>\n      <td>0.0</td>\n      <td>0.0</td>\n      <td>0.0</td>\n      <td>0.0</td>\n      <td>1.0</td>\n    </tr>\n    <tr>\n      <th>em_account_p</th>\n      <td>5962863.0</td>\n      <td>NaN</td>\n      <td>NaN</td>\n      <td>NaN</td>\n      <td>NaT</td>\n      <td>NaT</td>\n      <td>0.000006</td>\n      <td>0.002388</td>\n      <td>0.0</td>\n      <td>0.0</td>\n      <td>0.0</td>\n      <td>0.0</td>\n      <td>1.0</td>\n    </tr>\n    <tr>\n      <th>em_acount</th>\n      <td>5962863.0</td>\n      <td>NaN</td>\n      <td>NaN</td>\n      <td>NaN</td>\n      <td>NaT</td>\n      <td>NaT</td>\n      <td>0.734815</td>\n      <td>0.441432</td>\n      <td>0.0</td>\n      <td>0.0</td>\n      <td>1.0</td>\n      <td>1.0</td>\n      <td>1.0</td>\n    </tr>\n    <tr>\n      <th>entry_date_month</th>\n      <td>5962863.0</td>\n      <td>NaN</td>\n      <td>NaN</td>\n      <td>NaN</td>\n      <td>NaT</td>\n      <td>NaT</td>\n      <td>8.141653</td>\n      <td>2.794156</td>\n      <td>1.0</td>\n      <td>7.0</td>\n      <td>9.0</td>\n      <td>10.0</td>\n      <td>12.0</td>\n    </tr>\n    <tr>\n      <th>entry_date_year</th>\n      <td>5962863.0</td>\n      <td>NaN</td>\n      <td>NaN</td>\n      <td>NaN</td>\n      <td>NaT</td>\n      <td>NaT</td>\n      <td>2016.478471</td>\n      <td>1.103929</td>\n      <td>2015.0</td>\n      <td>2016.0</td>\n      <td>2016.0</td>\n      <td>2017.0</td>\n      <td>2019.0</td>\n    </tr>\n    <tr>\n      <th>entry_date_day</th>\n      <td>5962863.0</td>\n      <td>NaN</td>\n      <td>NaN</td>\n      <td>NaN</td>\n      <td>NaT</td>\n      <td>NaT</td>\n      <td>15.91632</td>\n      <td>8.993567</td>\n      <td>1.0</td>\n      <td>8.0</td>\n      <td>16.0</td>\n      <td>24.0</td>\n      <td>31.0</td>\n    </tr>\n    <tr>\n      <th>entry_date_week</th>\n      <td>5962863.0</td>\n      <td>NaN</td>\n      <td>NaN</td>\n      <td>NaN</td>\n      <td>NaT</td>\n      <td>NaT</td>\n      <td>33.603013</td>\n      <td>12.142804</td>\n      <td>1.0</td>\n      <td>30.0</td>\n      <td>37.0</td>\n      <td>42.0</td>\n      <td>53.0</td>\n    </tr>\n    <tr>\n      <th>entry_date_weekday</th>\n      <td>5962863.0</td>\n      <td>NaN</td>\n      <td>NaN</td>\n      <td>NaN</td>\n      <td>NaT</td>\n      <td>NaT</td>\n      <td>3.380366</td>\n      <td>2.162171</td>\n      <td>0.0</td>\n      <td>1.0</td>\n      <td>4.0</td>\n      <td>5.0</td>\n      <td>6.0</td>\n    </tr>\n    <tr>\n      <th>entry_date_trim</th>\n      <td>5962863.0</td>\n      <td>NaN</td>\n      <td>NaN</td>\n      <td>NaN</td>\n      <td>NaT</td>\n      <td>NaT</td>\n      <td>3.098962</td>\n      <td>0.932933</td>\n      <td>1.0</td>\n      <td>3.0</td>\n      <td>3.0</td>\n      <td>4.0</td>\n      <td>4.0</td>\n    </tr>\n  </tbody>\n</table>\n</div>"
     },
     "execution_count": 6,
     "metadata": {},
     "output_type": "execute_result"
    }
   ],
   "source": [
    "df.describe(include=\"all\").T"
   ],
   "metadata": {
    "collapsed": false,
    "pycharm": {
     "name": "#%%\n"
    }
   }
  },
  {
   "cell_type": "code",
   "execution_count": 7,
   "outputs": [],
   "source": [
    "gb_df = df.groupby(\"pk_cid\")"
   ],
   "metadata": {
    "collapsed": false,
    "pycharm": {
     "name": "#%%\n"
    }
   }
  },
  {
   "cell_type": "code",
   "execution_count": 8,
   "outputs": [
    {
     "data": {
      "text/plain": "pk_cid\n1250752    2\n383905     2\n1083881    2\n1534231    2\n1542479    2\n          ..\n1188532    1\n1188531    1\n1188530    1\n1188529    1\n1553689    1\nName: entry_date, Length: 456373, dtype: int64"
     },
     "execution_count": 8,
     "metadata": {},
     "output_type": "execute_result"
    }
   ],
   "source": [
    "gb_df[\"entry_date\"].nunique().sort_values(ascending=False)\n",
    "\n",
    "# df[df[\"pk_cid\"] == 23434][\"entry_date\"]"
   ],
   "metadata": {
    "collapsed": false,
    "pycharm": {
     "name": "#%%\n"
    }
   }
  },
  {
   "cell_type": "code",
   "execution_count": 8,
   "outputs": [],
   "source": [],
   "metadata": {
    "collapsed": false,
    "pycharm": {
     "name": "#%%\n"
    }
   }
  },
  {
   "cell_type": "code",
   "execution_count": 9,
   "outputs": [],
   "source": [
    "def last_value(serie: pd.Series):\n",
    "    return serie.iloc[-1]"
   ],
   "metadata": {
    "collapsed": false,
    "pycharm": {
     "name": "#%%\n"
    }
   }
  },
  {
   "cell_type": "code",
   "execution_count": 10,
   "outputs": [
    {
     "name": "stdout",
     "output_type": "stream",
     "text": [
      "(456373, 6)\n"
     ]
    },
    {
     "data": {
      "text/plain": "         active_customer_mean  active_customer_last  salary_mean  salary_last  \\\npk_cid                                                                          \n15891                0.500000                     0        -1.00        -1.00   \n16063                0.714286                     0        -1.00        -1.00   \n16203                0.833333                     1        -1.00        -1.00   \n16502                0.888889                     1        -1.00        -1.00   \n17457                1.000000                     1    102405.75    102405.75   \n...                       ...                   ...          ...          ...   \n1553685              0.000000                     0        -1.00        -1.00   \n1553686              0.000000                     0        -1.00        -1.00   \n1553687              0.000000                     0        -1.00        -1.00   \n1553688              0.000000                     0        -1.00        -1.00   \n1553689              0.000000                     0        -1.00        -1.00   \n\n          age_mean  age_last  \npk_cid                        \n15891    59.000000        59  \n16063    62.000000        62  \n16203    70.000000        70  \n16502    57.888889        58  \n17457    53.117647        54  \n...            ...       ...  \n1553685  52.000000        52  \n1553686  30.000000        30  \n1553687  21.000000        21  \n1553688  43.000000        43  \n1553689  40.000000        40  \n\n[456373 rows x 6 columns]",
      "text/html": "<div>\n<style scoped>\n    .dataframe tbody tr th:only-of-type {\n        vertical-align: middle;\n    }\n\n    .dataframe tbody tr th {\n        vertical-align: top;\n    }\n\n    .dataframe thead th {\n        text-align: right;\n    }\n</style>\n<table border=\"1\" class=\"dataframe\">\n  <thead>\n    <tr style=\"text-align: right;\">\n      <th></th>\n      <th>active_customer_mean</th>\n      <th>active_customer_last</th>\n      <th>salary_mean</th>\n      <th>salary_last</th>\n      <th>age_mean</th>\n      <th>age_last</th>\n    </tr>\n    <tr>\n      <th>pk_cid</th>\n      <th></th>\n      <th></th>\n      <th></th>\n      <th></th>\n      <th></th>\n      <th></th>\n    </tr>\n  </thead>\n  <tbody>\n    <tr>\n      <th>15891</th>\n      <td>0.500000</td>\n      <td>0</td>\n      <td>-1.00</td>\n      <td>-1.00</td>\n      <td>59.000000</td>\n      <td>59</td>\n    </tr>\n    <tr>\n      <th>16063</th>\n      <td>0.714286</td>\n      <td>0</td>\n      <td>-1.00</td>\n      <td>-1.00</td>\n      <td>62.000000</td>\n      <td>62</td>\n    </tr>\n    <tr>\n      <th>16203</th>\n      <td>0.833333</td>\n      <td>1</td>\n      <td>-1.00</td>\n      <td>-1.00</td>\n      <td>70.000000</td>\n      <td>70</td>\n    </tr>\n    <tr>\n      <th>16502</th>\n      <td>0.888889</td>\n      <td>1</td>\n      <td>-1.00</td>\n      <td>-1.00</td>\n      <td>57.888889</td>\n      <td>58</td>\n    </tr>\n    <tr>\n      <th>17457</th>\n      <td>1.000000</td>\n      <td>1</td>\n      <td>102405.75</td>\n      <td>102405.75</td>\n      <td>53.117647</td>\n      <td>54</td>\n    </tr>\n    <tr>\n      <th>...</th>\n      <td>...</td>\n      <td>...</td>\n      <td>...</td>\n      <td>...</td>\n      <td>...</td>\n      <td>...</td>\n    </tr>\n    <tr>\n      <th>1553685</th>\n      <td>0.000000</td>\n      <td>0</td>\n      <td>-1.00</td>\n      <td>-1.00</td>\n      <td>52.000000</td>\n      <td>52</td>\n    </tr>\n    <tr>\n      <th>1553686</th>\n      <td>0.000000</td>\n      <td>0</td>\n      <td>-1.00</td>\n      <td>-1.00</td>\n      <td>30.000000</td>\n      <td>30</td>\n    </tr>\n    <tr>\n      <th>1553687</th>\n      <td>0.000000</td>\n      <td>0</td>\n      <td>-1.00</td>\n      <td>-1.00</td>\n      <td>21.000000</td>\n      <td>21</td>\n    </tr>\n    <tr>\n      <th>1553688</th>\n      <td>0.000000</td>\n      <td>0</td>\n      <td>-1.00</td>\n      <td>-1.00</td>\n      <td>43.000000</td>\n      <td>43</td>\n    </tr>\n    <tr>\n      <th>1553689</th>\n      <td>0.000000</td>\n      <td>0</td>\n      <td>-1.00</td>\n      <td>-1.00</td>\n      <td>40.000000</td>\n      <td>40</td>\n    </tr>\n  </tbody>\n</table>\n<p>456373 rows × 6 columns</p>\n</div>"
     },
     "execution_count": 10,
     "metadata": {},
     "output_type": "execute_result"
    }
   ],
   "source": [
    "clients_df = gb_df.agg(\n",
    "    # active_customer\n",
    "    active_customer_mean=(\"active_customer\", np.mean),\n",
    "    active_customer_last=(\"active_customer\", last_value),\n",
    "\n",
    "    # salary\n",
    "    salary_mean=(\"salary\", np.mean),\n",
    "    salary_last=(\"salary\", last_value),\n",
    "\n",
    "    # age\n",
    "    age_mean=(\"age\", np.mean),\n",
    "    age_last=(\"age\", last_value)\n",
    ")\n",
    "\n",
    "print(clients_df.shape)\n",
    "clients_df"
   ],
   "metadata": {
    "collapsed": false,
    "pycharm": {
     "name": "#%%\n"
    }
   }
  },
  {
   "cell_type": "code",
   "execution_count": 11,
   "outputs": [
    {
     "name": "stdout",
     "output_type": "stream",
     "text": [
      "Hay 25 clientes que estan en mas de un pais\n"
     ]
    }
   ],
   "source": [
    "_gb_unique_country_id = gb_df[\"country_id\"].nunique()\n",
    "print(f\"Hay {len(_gb_unique_country_id[_gb_unique_country_id > 1])} clientes que estan en mas de un pais\")"
   ],
   "metadata": {
    "collapsed": false,
    "pycharm": {
     "name": "#%%\n"
    }
   }
  },
  {
   "cell_type": "code",
   "execution_count": 12,
   "outputs": [],
   "source": [
    "clients_df.to_csv(f\"{__PREPROCESSED_DATA_PATH__}/clients_df.csv\")"
   ],
   "metadata": {
    "collapsed": false,
    "pycharm": {
     "name": "#%%\n"
    }
   }
  },
  {
   "cell_type": "code",
   "execution_count": 12,
   "outputs": [],
   "source": [],
   "metadata": {
    "collapsed": false,
    "pycharm": {
     "name": "#%%\n"
    }
   }
  }
 ],
 "metadata": {
  "kernelspec": {
   "display_name": "Python 3",
   "language": "python",
   "name": "python3"
  },
  "language_info": {
   "codemirror_mode": {
    "name": "ipython",
    "version": 2
   },
   "file_extension": ".py",
   "mimetype": "text/x-python",
   "name": "python",
   "nbconvert_exporter": "python",
   "pygments_lexer": "ipython2",
   "version": "2.7.6"
  }
 },
 "nbformat": 4,
 "nbformat_minor": 0
}