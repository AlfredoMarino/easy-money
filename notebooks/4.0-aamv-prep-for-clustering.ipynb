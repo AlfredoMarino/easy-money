{
 "cells": [
  {
   "cell_type": "markdown",
   "source": [
    "# Preprocesado de datos para clustering"
   ],
   "metadata": {
    "collapsed": false
   }
  },
  {
   "cell_type": "code",
   "execution_count": 50,
   "outputs": [],
   "source": [
    "import pandas as pd\n",
    "import numpy as np"
   ],
   "metadata": {
    "collapsed": false,
    "pycharm": {
     "name": "#%%\n"
    }
   }
  },
  {
   "cell_type": "code",
   "execution_count": 51,
   "outputs": [],
   "source": [
    "__INTERIM_DATA_PATH__ = \"../data/interim\"\n",
    "__PREPROCESSED_DATA_PATH__ = \"../data/preprocessed\""
   ],
   "metadata": {
    "collapsed": false,
    "pycharm": {
     "name": "#%%\n"
    }
   }
  },
  {
   "cell_type": "markdown",
   "source": [
    "## Import data"
   ],
   "metadata": {
    "collapsed": false
   }
  },
  {
   "cell_type": "code",
   "execution_count": 52,
   "outputs": [
    {
     "data": {
      "text/plain": "(5962863, 27)"
     },
     "execution_count": 52,
     "metadata": {},
     "output_type": "execute_result"
    }
   ],
   "source": [
    "df = pd.read_csv(f\"{__INTERIM_DATA_PATH__}/easy_money_no_null_df.csv\")\n",
    "df.drop(\"Unnamed: 0\", axis=1, inplace=True)\n",
    "df.shape"
   ],
   "metadata": {
    "collapsed": false,
    "pycharm": {
     "name": "#%%\n"
    }
   }
  },
  {
   "cell_type": "code",
   "execution_count": 53,
   "outputs": [
    {
     "name": "stderr",
     "output_type": "stream",
     "text": [
      "C:\\Users\\alfre\\AppData\\Local\\Temp/ipykernel_14404/1602397549.py:1: UserWarning: Boolean Series key will be reindexed to match DataFrame index.\n",
      "  df.sort_values([\"pk_cid\", \"pk_partition\"])[df[\"pk_cid\"] == 23434]\n"
     ]
    },
    {
     "data": {
      "text/plain": "         pk_cid pk_partition  entry_date entry_channel  active_customer  \\\n237919    23434   2018-01-28  2017-11-26           007                1   \n241142    23434   2018-02-28  2017-11-26           007                1   \n586764    23434   2018-03-28  2017-11-26           007                1   \n728949    23434   2018-04-28  2017-11-26           007                1   \n1222814   23434   2018-05-28  2017-11-26           007                1   \n1474866   23434   2018-06-28  2017-11-26           007                1   \n1479485   23434   2018-07-28  2017-11-26           007                1   \n2168042   23434   2018-08-28  2017-11-26           007                1   \n2171410   23434   2018-09-28  2017-11-26           007                1   \n2943589   23434   2018-10-28  2017-11-26           007                1   \n2962492   23434   2018-11-28  2017-11-26           007                1   \n3628196   23434   2018-12-28  2017-11-26           007                0   \n4028091   23434   2019-01-28  2017-11-26           007                0   \n4480565   23434   2019-02-28  2017-11-26           007                0   \n4875958   23434   2019-03-28  2017-11-26           007                0   \n5134183   23434   2019-04-28  2017-11-26           007                0   \n5523314   23434   2019-05-28  2017-11-26           007                0   \n\n                   segment country_id  region_code  gender  age  ...  \\\n237919            01 - TOP         ES           28  female   71  ...   \n241142            01 - TOP         ES           28  female   71  ...   \n586764            01 - TOP         ES           28  female   71  ...   \n728949            01 - TOP         ES           28  female   71  ...   \n1222814           01 - TOP         ES           28  female   71  ...   \n1474866           01 - TOP         ES           28  female   71  ...   \n1479485           01 - TOP         ES           28  female   71  ...   \n2168042           01 - TOP         ES           28  female   71  ...   \n2171410           01 - TOP         ES           28  female   71  ...   \n2943589           01 - TOP         ES           28  female   71  ...   \n2962492           01 - TOP         ES           28  female   71  ...   \n3628196           01 - TOP         ES           28  female   71  ...   \n4028091           01 - TOP         ES           28  female   71  ...   \n4480565           01 - TOP         ES           28  female   71  ...   \n4875958  02 - PARTICULARES         ES           28  female   72  ...   \n5134183  02 - PARTICULARES         ES           28  female   72  ...   \n5523314         00 - OTROS         ES           28  female   72  ...   \n\n         long_term_deposit  em_account_pp  credit_card  payroll  pension_plan  \\\n237919                   1              0            0        0             0   \n241142                   1              0            0        0             0   \n586764                   1              0            0        0             0   \n728949                   1              0            0        0             0   \n1222814                  1              0            0        0             0   \n1474866                  1              0            0        0             0   \n1479485                  1              0            0        0             0   \n2168042                  1              0            0        0             0   \n2171410                  1              0            0        0             0   \n2943589                  1              0            0        0             0   \n2962492                  1              0            0        0             0   \n3628196                  0              0            0        0             0   \n4028091                  0              0            0        0             0   \n4480565                  0              0            0        0             0   \n4875958                  0              0            0        0             0   \n5134183                  0              0            0        0             0   \n5523314                  0              0            0        0             0   \n\n         payroll_account  emc_account  debit_card  em_account_p  em_acount  \n237919                 0            0           0             0          0  \n241142                 0            0           0             0          0  \n586764                 0            0           0             0          0  \n728949                 0            0           0             0          0  \n1222814                0            0           0             0          0  \n1474866                0            0           0             0          0  \n1479485                0            0           0             0          0  \n2168042                0            0           0             0          0  \n2171410                0            0           0             0          0  \n2943589                0            0           0             0          0  \n2962492                0            0           0             0          0  \n3628196                0            0           0             0          0  \n4028091                0            0           0             0          0  \n4480565                0            0           0             0          0  \n4875958                0            0           0             0          0  \n5134183                0            0           0             0          0  \n5523314                0            0           0             0          0  \n\n[17 rows x 27 columns]",
      "text/html": "<div>\n<style scoped>\n    .dataframe tbody tr th:only-of-type {\n        vertical-align: middle;\n    }\n\n    .dataframe tbody tr th {\n        vertical-align: top;\n    }\n\n    .dataframe thead th {\n        text-align: right;\n    }\n</style>\n<table border=\"1\" class=\"dataframe\">\n  <thead>\n    <tr style=\"text-align: right;\">\n      <th></th>\n      <th>pk_cid</th>\n      <th>pk_partition</th>\n      <th>entry_date</th>\n      <th>entry_channel</th>\n      <th>active_customer</th>\n      <th>segment</th>\n      <th>country_id</th>\n      <th>region_code</th>\n      <th>gender</th>\n      <th>age</th>\n      <th>...</th>\n      <th>long_term_deposit</th>\n      <th>em_account_pp</th>\n      <th>credit_card</th>\n      <th>payroll</th>\n      <th>pension_plan</th>\n      <th>payroll_account</th>\n      <th>emc_account</th>\n      <th>debit_card</th>\n      <th>em_account_p</th>\n      <th>em_acount</th>\n    </tr>\n  </thead>\n  <tbody>\n    <tr>\n      <th>237919</th>\n      <td>23434</td>\n      <td>2018-01-28</td>\n      <td>2017-11-26</td>\n      <td>007</td>\n      <td>1</td>\n      <td>01 - TOP</td>\n      <td>ES</td>\n      <td>28</td>\n      <td>female</td>\n      <td>71</td>\n      <td>...</td>\n      <td>1</td>\n      <td>0</td>\n      <td>0</td>\n      <td>0</td>\n      <td>0</td>\n      <td>0</td>\n      <td>0</td>\n      <td>0</td>\n      <td>0</td>\n      <td>0</td>\n    </tr>\n    <tr>\n      <th>241142</th>\n      <td>23434</td>\n      <td>2018-02-28</td>\n      <td>2017-11-26</td>\n      <td>007</td>\n      <td>1</td>\n      <td>01 - TOP</td>\n      <td>ES</td>\n      <td>28</td>\n      <td>female</td>\n      <td>71</td>\n      <td>...</td>\n      <td>1</td>\n      <td>0</td>\n      <td>0</td>\n      <td>0</td>\n      <td>0</td>\n      <td>0</td>\n      <td>0</td>\n      <td>0</td>\n      <td>0</td>\n      <td>0</td>\n    </tr>\n    <tr>\n      <th>586764</th>\n      <td>23434</td>\n      <td>2018-03-28</td>\n      <td>2017-11-26</td>\n      <td>007</td>\n      <td>1</td>\n      <td>01 - TOP</td>\n      <td>ES</td>\n      <td>28</td>\n      <td>female</td>\n      <td>71</td>\n      <td>...</td>\n      <td>1</td>\n      <td>0</td>\n      <td>0</td>\n      <td>0</td>\n      <td>0</td>\n      <td>0</td>\n      <td>0</td>\n      <td>0</td>\n      <td>0</td>\n      <td>0</td>\n    </tr>\n    <tr>\n      <th>728949</th>\n      <td>23434</td>\n      <td>2018-04-28</td>\n      <td>2017-11-26</td>\n      <td>007</td>\n      <td>1</td>\n      <td>01 - TOP</td>\n      <td>ES</td>\n      <td>28</td>\n      <td>female</td>\n      <td>71</td>\n      <td>...</td>\n      <td>1</td>\n      <td>0</td>\n      <td>0</td>\n      <td>0</td>\n      <td>0</td>\n      <td>0</td>\n      <td>0</td>\n      <td>0</td>\n      <td>0</td>\n      <td>0</td>\n    </tr>\n    <tr>\n      <th>1222814</th>\n      <td>23434</td>\n      <td>2018-05-28</td>\n      <td>2017-11-26</td>\n      <td>007</td>\n      <td>1</td>\n      <td>01 - TOP</td>\n      <td>ES</td>\n      <td>28</td>\n      <td>female</td>\n      <td>71</td>\n      <td>...</td>\n      <td>1</td>\n      <td>0</td>\n      <td>0</td>\n      <td>0</td>\n      <td>0</td>\n      <td>0</td>\n      <td>0</td>\n      <td>0</td>\n      <td>0</td>\n      <td>0</td>\n    </tr>\n    <tr>\n      <th>1474866</th>\n      <td>23434</td>\n      <td>2018-06-28</td>\n      <td>2017-11-26</td>\n      <td>007</td>\n      <td>1</td>\n      <td>01 - TOP</td>\n      <td>ES</td>\n      <td>28</td>\n      <td>female</td>\n      <td>71</td>\n      <td>...</td>\n      <td>1</td>\n      <td>0</td>\n      <td>0</td>\n      <td>0</td>\n      <td>0</td>\n      <td>0</td>\n      <td>0</td>\n      <td>0</td>\n      <td>0</td>\n      <td>0</td>\n    </tr>\n    <tr>\n      <th>1479485</th>\n      <td>23434</td>\n      <td>2018-07-28</td>\n      <td>2017-11-26</td>\n      <td>007</td>\n      <td>1</td>\n      <td>01 - TOP</td>\n      <td>ES</td>\n      <td>28</td>\n      <td>female</td>\n      <td>71</td>\n      <td>...</td>\n      <td>1</td>\n      <td>0</td>\n      <td>0</td>\n      <td>0</td>\n      <td>0</td>\n      <td>0</td>\n      <td>0</td>\n      <td>0</td>\n      <td>0</td>\n      <td>0</td>\n    </tr>\n    <tr>\n      <th>2168042</th>\n      <td>23434</td>\n      <td>2018-08-28</td>\n      <td>2017-11-26</td>\n      <td>007</td>\n      <td>1</td>\n      <td>01 - TOP</td>\n      <td>ES</td>\n      <td>28</td>\n      <td>female</td>\n      <td>71</td>\n      <td>...</td>\n      <td>1</td>\n      <td>0</td>\n      <td>0</td>\n      <td>0</td>\n      <td>0</td>\n      <td>0</td>\n      <td>0</td>\n      <td>0</td>\n      <td>0</td>\n      <td>0</td>\n    </tr>\n    <tr>\n      <th>2171410</th>\n      <td>23434</td>\n      <td>2018-09-28</td>\n      <td>2017-11-26</td>\n      <td>007</td>\n      <td>1</td>\n      <td>01 - TOP</td>\n      <td>ES</td>\n      <td>28</td>\n      <td>female</td>\n      <td>71</td>\n      <td>...</td>\n      <td>1</td>\n      <td>0</td>\n      <td>0</td>\n      <td>0</td>\n      <td>0</td>\n      <td>0</td>\n      <td>0</td>\n      <td>0</td>\n      <td>0</td>\n      <td>0</td>\n    </tr>\n    <tr>\n      <th>2943589</th>\n      <td>23434</td>\n      <td>2018-10-28</td>\n      <td>2017-11-26</td>\n      <td>007</td>\n      <td>1</td>\n      <td>01 - TOP</td>\n      <td>ES</td>\n      <td>28</td>\n      <td>female</td>\n      <td>71</td>\n      <td>...</td>\n      <td>1</td>\n      <td>0</td>\n      <td>0</td>\n      <td>0</td>\n      <td>0</td>\n      <td>0</td>\n      <td>0</td>\n      <td>0</td>\n      <td>0</td>\n      <td>0</td>\n    </tr>\n    <tr>\n      <th>2962492</th>\n      <td>23434</td>\n      <td>2018-11-28</td>\n      <td>2017-11-26</td>\n      <td>007</td>\n      <td>1</td>\n      <td>01 - TOP</td>\n      <td>ES</td>\n      <td>28</td>\n      <td>female</td>\n      <td>71</td>\n      <td>...</td>\n      <td>1</td>\n      <td>0</td>\n      <td>0</td>\n      <td>0</td>\n      <td>0</td>\n      <td>0</td>\n      <td>0</td>\n      <td>0</td>\n      <td>0</td>\n      <td>0</td>\n    </tr>\n    <tr>\n      <th>3628196</th>\n      <td>23434</td>\n      <td>2018-12-28</td>\n      <td>2017-11-26</td>\n      <td>007</td>\n      <td>0</td>\n      <td>01 - TOP</td>\n      <td>ES</td>\n      <td>28</td>\n      <td>female</td>\n      <td>71</td>\n      <td>...</td>\n      <td>0</td>\n      <td>0</td>\n      <td>0</td>\n      <td>0</td>\n      <td>0</td>\n      <td>0</td>\n      <td>0</td>\n      <td>0</td>\n      <td>0</td>\n      <td>0</td>\n    </tr>\n    <tr>\n      <th>4028091</th>\n      <td>23434</td>\n      <td>2019-01-28</td>\n      <td>2017-11-26</td>\n      <td>007</td>\n      <td>0</td>\n      <td>01 - TOP</td>\n      <td>ES</td>\n      <td>28</td>\n      <td>female</td>\n      <td>71</td>\n      <td>...</td>\n      <td>0</td>\n      <td>0</td>\n      <td>0</td>\n      <td>0</td>\n      <td>0</td>\n      <td>0</td>\n      <td>0</td>\n      <td>0</td>\n      <td>0</td>\n      <td>0</td>\n    </tr>\n    <tr>\n      <th>4480565</th>\n      <td>23434</td>\n      <td>2019-02-28</td>\n      <td>2017-11-26</td>\n      <td>007</td>\n      <td>0</td>\n      <td>01 - TOP</td>\n      <td>ES</td>\n      <td>28</td>\n      <td>female</td>\n      <td>71</td>\n      <td>...</td>\n      <td>0</td>\n      <td>0</td>\n      <td>0</td>\n      <td>0</td>\n      <td>0</td>\n      <td>0</td>\n      <td>0</td>\n      <td>0</td>\n      <td>0</td>\n      <td>0</td>\n    </tr>\n    <tr>\n      <th>4875958</th>\n      <td>23434</td>\n      <td>2019-03-28</td>\n      <td>2017-11-26</td>\n      <td>007</td>\n      <td>0</td>\n      <td>02 - PARTICULARES</td>\n      <td>ES</td>\n      <td>28</td>\n      <td>female</td>\n      <td>72</td>\n      <td>...</td>\n      <td>0</td>\n      <td>0</td>\n      <td>0</td>\n      <td>0</td>\n      <td>0</td>\n      <td>0</td>\n      <td>0</td>\n      <td>0</td>\n      <td>0</td>\n      <td>0</td>\n    </tr>\n    <tr>\n      <th>5134183</th>\n      <td>23434</td>\n      <td>2019-04-28</td>\n      <td>2017-11-26</td>\n      <td>007</td>\n      <td>0</td>\n      <td>02 - PARTICULARES</td>\n      <td>ES</td>\n      <td>28</td>\n      <td>female</td>\n      <td>72</td>\n      <td>...</td>\n      <td>0</td>\n      <td>0</td>\n      <td>0</td>\n      <td>0</td>\n      <td>0</td>\n      <td>0</td>\n      <td>0</td>\n      <td>0</td>\n      <td>0</td>\n      <td>0</td>\n    </tr>\n    <tr>\n      <th>5523314</th>\n      <td>23434</td>\n      <td>2019-05-28</td>\n      <td>2017-11-26</td>\n      <td>007</td>\n      <td>0</td>\n      <td>00 - OTROS</td>\n      <td>ES</td>\n      <td>28</td>\n      <td>female</td>\n      <td>72</td>\n      <td>...</td>\n      <td>0</td>\n      <td>0</td>\n      <td>0</td>\n      <td>0</td>\n      <td>0</td>\n      <td>0</td>\n      <td>0</td>\n      <td>0</td>\n      <td>0</td>\n      <td>0</td>\n    </tr>\n  </tbody>\n</table>\n<p>17 rows × 27 columns</p>\n</div>"
     },
     "execution_count": 53,
     "metadata": {},
     "output_type": "execute_result"
    }
   ],
   "source": [
    "df.sort_values([\"pk_cid\", \"pk_partition\"])[df[\"pk_cid\"] == 23434]"
   ],
   "metadata": {
    "collapsed": false,
    "pycharm": {
     "name": "#%%\n"
    }
   }
  },
  {
   "cell_type": "code",
   "execution_count": 54,
   "outputs": [
    {
     "data": {
      "text/plain": "                        count unique                 top     freq  \\\npk_cid              5962863.0    NaN                 NaN      NaN   \npk_partition          5962863     17          2019-05-28   442995   \nentry_date            5962863   1497          2017-07-28    57389   \nentry_channel         5962863     69                 KHE  3113947   \nactive_customer     5962863.0    NaN                 NaN      NaN   \nsegment               5962863      4  03 - UNIVERSITARIO  3900157   \ncountry_id            5962863     41                  ES  5960611   \nregion_code         5962863.0    NaN                 NaN      NaN   \ngender                5962863      3              female  3087480   \nage                 5962863.0    NaN                 NaN      NaN   \ndeceased            5962863.0    NaN                 NaN      NaN   \nsalary              5962863.0    NaN                 NaN      NaN   \nshort_term_deposit  5962863.0    NaN                 NaN      NaN   \nloans               5962863.0    NaN                 NaN      NaN   \nmortgage            5962863.0    NaN                 NaN      NaN   \nfunds               5962863.0    NaN                 NaN      NaN   \nsecurities          5962863.0    NaN                 NaN      NaN   \nlong_term_deposit   5962863.0    NaN                 NaN      NaN   \nem_account_pp       5962863.0    NaN                 NaN      NaN   \ncredit_card         5962863.0    NaN                 NaN      NaN   \npayroll             5962863.0    NaN                 NaN      NaN   \npension_plan        5962863.0    NaN                 NaN      NaN   \npayroll_account     5962863.0    NaN                 NaN      NaN   \nemc_account         5962863.0    NaN                 NaN      NaN   \ndebit_card          5962863.0    NaN                 NaN      NaN   \nem_account_p        5962863.0    NaN                 NaN      NaN   \nem_acount           5962863.0    NaN                 NaN      NaN   \n\n                              mean            std      min        25%  \\\npk_cid              1234929.714088  162302.567746  15891.0  1112532.0   \npk_partition                   NaN            NaN      NaN        NaN   \nentry_date                     NaN            NaN      NaN        NaN   \nentry_channel                  NaN            NaN      NaN        NaN   \nactive_customer           0.403382       0.490576      0.0        0.0   \nsegment                        NaN            NaN      NaN        NaN   \ncountry_id                     NaN            NaN      NaN        NaN   \nregion_code               25.80418      13.603108     -1.0       13.0   \ngender                         NaN            NaN      NaN        NaN   \nage                      29.760324      11.980339      2.0       22.0   \ndeceased                   0.00018       0.013426      0.0        0.0   \nsalary                86447.308602  179616.890878     -1.0       -1.0   \nshort_term_deposit        0.002582       0.050744      0.0        0.0   \nloans                     0.000078       0.008859      0.0        0.0   \nmortgage                  0.000054       0.007371      0.0        0.0   \nfunds                     0.003371        0.05796      0.0        0.0   \nsecurities                0.003712       0.060811      0.0        0.0   \nlong_term_deposit         0.016881       0.128826      0.0        0.0   \nem_account_pp                  0.0            0.0      0.0        0.0   \ncredit_card               0.011885       0.108367      0.0        0.0   \npayroll                   0.034511       0.182539      0.0        0.0   \npension_plan              0.036526       0.187596      0.0        0.0   \npayroll_account           0.055245       0.228458      0.0        0.0   \nemc_account               0.054833       0.227654      0.0        0.0   \ndebit_card                0.094412       0.292401      0.0        0.0   \nem_account_p              0.000006       0.002388      0.0        0.0   \nem_acount                 0.734815       0.441432      0.0        0.0   \n\n                          50%        75%          max  \npk_cid              1231096.0  1352339.0    1553689.0  \npk_partition              NaN        NaN          NaN  \nentry_date                NaN        NaN          NaN  \nentry_channel             NaN        NaN          NaN  \nactive_customer           0.0        1.0          1.0  \nsegment                   NaN        NaN          NaN  \ncountry_id                NaN        NaN          NaN  \nregion_code              28.0       36.0         52.0  \ngender                    NaN        NaN          NaN  \nage                      25.0       34.0        105.0  \ndeceased                  0.0        0.0          1.0  \nsalary               69696.21  113462.19  28894395.51  \nshort_term_deposit        0.0        0.0          1.0  \nloans                     0.0        0.0          1.0  \nmortgage                  0.0        0.0          1.0  \nfunds                     0.0        0.0          1.0  \nsecurities                0.0        0.0          1.0  \nlong_term_deposit         0.0        0.0          1.0  \nem_account_pp             0.0        0.0          0.0  \ncredit_card               0.0        0.0          1.0  \npayroll                   0.0        0.0          1.0  \npension_plan              0.0        0.0          1.0  \npayroll_account           0.0        0.0          1.0  \nemc_account               0.0        0.0          1.0  \ndebit_card                0.0        0.0          1.0  \nem_account_p              0.0        0.0          1.0  \nem_acount                 1.0        1.0          1.0  ",
      "text/html": "<div>\n<style scoped>\n    .dataframe tbody tr th:only-of-type {\n        vertical-align: middle;\n    }\n\n    .dataframe tbody tr th {\n        vertical-align: top;\n    }\n\n    .dataframe thead th {\n        text-align: right;\n    }\n</style>\n<table border=\"1\" class=\"dataframe\">\n  <thead>\n    <tr style=\"text-align: right;\">\n      <th></th>\n      <th>count</th>\n      <th>unique</th>\n      <th>top</th>\n      <th>freq</th>\n      <th>mean</th>\n      <th>std</th>\n      <th>min</th>\n      <th>25%</th>\n      <th>50%</th>\n      <th>75%</th>\n      <th>max</th>\n    </tr>\n  </thead>\n  <tbody>\n    <tr>\n      <th>pk_cid</th>\n      <td>5962863.0</td>\n      <td>NaN</td>\n      <td>NaN</td>\n      <td>NaN</td>\n      <td>1234929.714088</td>\n      <td>162302.567746</td>\n      <td>15891.0</td>\n      <td>1112532.0</td>\n      <td>1231096.0</td>\n      <td>1352339.0</td>\n      <td>1553689.0</td>\n    </tr>\n    <tr>\n      <th>pk_partition</th>\n      <td>5962863</td>\n      <td>17</td>\n      <td>2019-05-28</td>\n      <td>442995</td>\n      <td>NaN</td>\n      <td>NaN</td>\n      <td>NaN</td>\n      <td>NaN</td>\n      <td>NaN</td>\n      <td>NaN</td>\n      <td>NaN</td>\n    </tr>\n    <tr>\n      <th>entry_date</th>\n      <td>5962863</td>\n      <td>1497</td>\n      <td>2017-07-28</td>\n      <td>57389</td>\n      <td>NaN</td>\n      <td>NaN</td>\n      <td>NaN</td>\n      <td>NaN</td>\n      <td>NaN</td>\n      <td>NaN</td>\n      <td>NaN</td>\n    </tr>\n    <tr>\n      <th>entry_channel</th>\n      <td>5962863</td>\n      <td>69</td>\n      <td>KHE</td>\n      <td>3113947</td>\n      <td>NaN</td>\n      <td>NaN</td>\n      <td>NaN</td>\n      <td>NaN</td>\n      <td>NaN</td>\n      <td>NaN</td>\n      <td>NaN</td>\n    </tr>\n    <tr>\n      <th>active_customer</th>\n      <td>5962863.0</td>\n      <td>NaN</td>\n      <td>NaN</td>\n      <td>NaN</td>\n      <td>0.403382</td>\n      <td>0.490576</td>\n      <td>0.0</td>\n      <td>0.0</td>\n      <td>0.0</td>\n      <td>1.0</td>\n      <td>1.0</td>\n    </tr>\n    <tr>\n      <th>segment</th>\n      <td>5962863</td>\n      <td>4</td>\n      <td>03 - UNIVERSITARIO</td>\n      <td>3900157</td>\n      <td>NaN</td>\n      <td>NaN</td>\n      <td>NaN</td>\n      <td>NaN</td>\n      <td>NaN</td>\n      <td>NaN</td>\n      <td>NaN</td>\n    </tr>\n    <tr>\n      <th>country_id</th>\n      <td>5962863</td>\n      <td>41</td>\n      <td>ES</td>\n      <td>5960611</td>\n      <td>NaN</td>\n      <td>NaN</td>\n      <td>NaN</td>\n      <td>NaN</td>\n      <td>NaN</td>\n      <td>NaN</td>\n      <td>NaN</td>\n    </tr>\n    <tr>\n      <th>region_code</th>\n      <td>5962863.0</td>\n      <td>NaN</td>\n      <td>NaN</td>\n      <td>NaN</td>\n      <td>25.80418</td>\n      <td>13.603108</td>\n      <td>-1.0</td>\n      <td>13.0</td>\n      <td>28.0</td>\n      <td>36.0</td>\n      <td>52.0</td>\n    </tr>\n    <tr>\n      <th>gender</th>\n      <td>5962863</td>\n      <td>3</td>\n      <td>female</td>\n      <td>3087480</td>\n      <td>NaN</td>\n      <td>NaN</td>\n      <td>NaN</td>\n      <td>NaN</td>\n      <td>NaN</td>\n      <td>NaN</td>\n      <td>NaN</td>\n    </tr>\n    <tr>\n      <th>age</th>\n      <td>5962863.0</td>\n      <td>NaN</td>\n      <td>NaN</td>\n      <td>NaN</td>\n      <td>29.760324</td>\n      <td>11.980339</td>\n      <td>2.0</td>\n      <td>22.0</td>\n      <td>25.0</td>\n      <td>34.0</td>\n      <td>105.0</td>\n    </tr>\n    <tr>\n      <th>deceased</th>\n      <td>5962863.0</td>\n      <td>NaN</td>\n      <td>NaN</td>\n      <td>NaN</td>\n      <td>0.00018</td>\n      <td>0.013426</td>\n      <td>0.0</td>\n      <td>0.0</td>\n      <td>0.0</td>\n      <td>0.0</td>\n      <td>1.0</td>\n    </tr>\n    <tr>\n      <th>salary</th>\n      <td>5962863.0</td>\n      <td>NaN</td>\n      <td>NaN</td>\n      <td>NaN</td>\n      <td>86447.308602</td>\n      <td>179616.890878</td>\n      <td>-1.0</td>\n      <td>-1.0</td>\n      <td>69696.21</td>\n      <td>113462.19</td>\n      <td>28894395.51</td>\n    </tr>\n    <tr>\n      <th>short_term_deposit</th>\n      <td>5962863.0</td>\n      <td>NaN</td>\n      <td>NaN</td>\n      <td>NaN</td>\n      <td>0.002582</td>\n      <td>0.050744</td>\n      <td>0.0</td>\n      <td>0.0</td>\n      <td>0.0</td>\n      <td>0.0</td>\n      <td>1.0</td>\n    </tr>\n    <tr>\n      <th>loans</th>\n      <td>5962863.0</td>\n      <td>NaN</td>\n      <td>NaN</td>\n      <td>NaN</td>\n      <td>0.000078</td>\n      <td>0.008859</td>\n      <td>0.0</td>\n      <td>0.0</td>\n      <td>0.0</td>\n      <td>0.0</td>\n      <td>1.0</td>\n    </tr>\n    <tr>\n      <th>mortgage</th>\n      <td>5962863.0</td>\n      <td>NaN</td>\n      <td>NaN</td>\n      <td>NaN</td>\n      <td>0.000054</td>\n      <td>0.007371</td>\n      <td>0.0</td>\n      <td>0.0</td>\n      <td>0.0</td>\n      <td>0.0</td>\n      <td>1.0</td>\n    </tr>\n    <tr>\n      <th>funds</th>\n      <td>5962863.0</td>\n      <td>NaN</td>\n      <td>NaN</td>\n      <td>NaN</td>\n      <td>0.003371</td>\n      <td>0.05796</td>\n      <td>0.0</td>\n      <td>0.0</td>\n      <td>0.0</td>\n      <td>0.0</td>\n      <td>1.0</td>\n    </tr>\n    <tr>\n      <th>securities</th>\n      <td>5962863.0</td>\n      <td>NaN</td>\n      <td>NaN</td>\n      <td>NaN</td>\n      <td>0.003712</td>\n      <td>0.060811</td>\n      <td>0.0</td>\n      <td>0.0</td>\n      <td>0.0</td>\n      <td>0.0</td>\n      <td>1.0</td>\n    </tr>\n    <tr>\n      <th>long_term_deposit</th>\n      <td>5962863.0</td>\n      <td>NaN</td>\n      <td>NaN</td>\n      <td>NaN</td>\n      <td>0.016881</td>\n      <td>0.128826</td>\n      <td>0.0</td>\n      <td>0.0</td>\n      <td>0.0</td>\n      <td>0.0</td>\n      <td>1.0</td>\n    </tr>\n    <tr>\n      <th>em_account_pp</th>\n      <td>5962863.0</td>\n      <td>NaN</td>\n      <td>NaN</td>\n      <td>NaN</td>\n      <td>0.0</td>\n      <td>0.0</td>\n      <td>0.0</td>\n      <td>0.0</td>\n      <td>0.0</td>\n      <td>0.0</td>\n      <td>0.0</td>\n    </tr>\n    <tr>\n      <th>credit_card</th>\n      <td>5962863.0</td>\n      <td>NaN</td>\n      <td>NaN</td>\n      <td>NaN</td>\n      <td>0.011885</td>\n      <td>0.108367</td>\n      <td>0.0</td>\n      <td>0.0</td>\n      <td>0.0</td>\n      <td>0.0</td>\n      <td>1.0</td>\n    </tr>\n    <tr>\n      <th>payroll</th>\n      <td>5962863.0</td>\n      <td>NaN</td>\n      <td>NaN</td>\n      <td>NaN</td>\n      <td>0.034511</td>\n      <td>0.182539</td>\n      <td>0.0</td>\n      <td>0.0</td>\n      <td>0.0</td>\n      <td>0.0</td>\n      <td>1.0</td>\n    </tr>\n    <tr>\n      <th>pension_plan</th>\n      <td>5962863.0</td>\n      <td>NaN</td>\n      <td>NaN</td>\n      <td>NaN</td>\n      <td>0.036526</td>\n      <td>0.187596</td>\n      <td>0.0</td>\n      <td>0.0</td>\n      <td>0.0</td>\n      <td>0.0</td>\n      <td>1.0</td>\n    </tr>\n    <tr>\n      <th>payroll_account</th>\n      <td>5962863.0</td>\n      <td>NaN</td>\n      <td>NaN</td>\n      <td>NaN</td>\n      <td>0.055245</td>\n      <td>0.228458</td>\n      <td>0.0</td>\n      <td>0.0</td>\n      <td>0.0</td>\n      <td>0.0</td>\n      <td>1.0</td>\n    </tr>\n    <tr>\n      <th>emc_account</th>\n      <td>5962863.0</td>\n      <td>NaN</td>\n      <td>NaN</td>\n      <td>NaN</td>\n      <td>0.054833</td>\n      <td>0.227654</td>\n      <td>0.0</td>\n      <td>0.0</td>\n      <td>0.0</td>\n      <td>0.0</td>\n      <td>1.0</td>\n    </tr>\n    <tr>\n      <th>debit_card</th>\n      <td>5962863.0</td>\n      <td>NaN</td>\n      <td>NaN</td>\n      <td>NaN</td>\n      <td>0.094412</td>\n      <td>0.292401</td>\n      <td>0.0</td>\n      <td>0.0</td>\n      <td>0.0</td>\n      <td>0.0</td>\n      <td>1.0</td>\n    </tr>\n    <tr>\n      <th>em_account_p</th>\n      <td>5962863.0</td>\n      <td>NaN</td>\n      <td>NaN</td>\n      <td>NaN</td>\n      <td>0.000006</td>\n      <td>0.002388</td>\n      <td>0.0</td>\n      <td>0.0</td>\n      <td>0.0</td>\n      <td>0.0</td>\n      <td>1.0</td>\n    </tr>\n    <tr>\n      <th>em_acount</th>\n      <td>5962863.0</td>\n      <td>NaN</td>\n      <td>NaN</td>\n      <td>NaN</td>\n      <td>0.734815</td>\n      <td>0.441432</td>\n      <td>0.0</td>\n      <td>0.0</td>\n      <td>1.0</td>\n      <td>1.0</td>\n      <td>1.0</td>\n    </tr>\n  </tbody>\n</table>\n</div>"
     },
     "execution_count": 54,
     "metadata": {},
     "output_type": "execute_result"
    }
   ],
   "source": [
    "df.describe(include=\"all\").T"
   ],
   "metadata": {
    "collapsed": false,
    "pycharm": {
     "name": "#%%\n"
    }
   }
  },
  {
   "cell_type": "code",
   "execution_count": 55,
   "outputs": [],
   "source": [
    "gb_df = df.groupby(\"pk_cid\")"
   ],
   "metadata": {
    "collapsed": false,
    "pycharm": {
     "name": "#%%\n"
    }
   }
  },
  {
   "cell_type": "code",
   "execution_count": 56,
   "outputs": [],
   "source": [
    "def last_value(serie: pd.Series):\n",
    "    return serie.iloc[-1]"
   ],
   "metadata": {
    "collapsed": false,
    "pycharm": {
     "name": "#%%\n"
    }
   }
  },
  {
   "cell_type": "code",
   "execution_count": 57,
   "outputs": [
    {
     "name": "stdout",
     "output_type": "stream",
     "text": [
      "(456373, 6)\n"
     ]
    },
    {
     "data": {
      "text/plain": "         active_customer_mean  active_customer_last  salary_mean  salary_last  \\\npk_cid                                                                          \n15891                0.500000                     0        -1.00        -1.00   \n16063                0.714286                     0        -1.00        -1.00   \n16203                0.833333                     1        -1.00        -1.00   \n16502                0.888889                     1        -1.00        -1.00   \n17457                1.000000                     1    102405.75    102405.75   \n...                       ...                   ...          ...          ...   \n1553685              0.000000                     0        -1.00        -1.00   \n1553686              0.000000                     0        -1.00        -1.00   \n1553687              0.000000                     0        -1.00        -1.00   \n1553688              0.000000                     0        -1.00        -1.00   \n1553689              0.000000                     0        -1.00        -1.00   \n\n          age_mean  age_last  \npk_cid                        \n15891    59.000000        59  \n16063    62.000000        62  \n16203    70.000000        70  \n16502    57.888889        58  \n17457    53.117647        54  \n...            ...       ...  \n1553685  52.000000        52  \n1553686  30.000000        30  \n1553687  21.000000        21  \n1553688  43.000000        43  \n1553689  40.000000        40  \n\n[456373 rows x 6 columns]",
      "text/html": "<div>\n<style scoped>\n    .dataframe tbody tr th:only-of-type {\n        vertical-align: middle;\n    }\n\n    .dataframe tbody tr th {\n        vertical-align: top;\n    }\n\n    .dataframe thead th {\n        text-align: right;\n    }\n</style>\n<table border=\"1\" class=\"dataframe\">\n  <thead>\n    <tr style=\"text-align: right;\">\n      <th></th>\n      <th>active_customer_mean</th>\n      <th>active_customer_last</th>\n      <th>salary_mean</th>\n      <th>salary_last</th>\n      <th>age_mean</th>\n      <th>age_last</th>\n    </tr>\n    <tr>\n      <th>pk_cid</th>\n      <th></th>\n      <th></th>\n      <th></th>\n      <th></th>\n      <th></th>\n      <th></th>\n    </tr>\n  </thead>\n  <tbody>\n    <tr>\n      <th>15891</th>\n      <td>0.500000</td>\n      <td>0</td>\n      <td>-1.00</td>\n      <td>-1.00</td>\n      <td>59.000000</td>\n      <td>59</td>\n    </tr>\n    <tr>\n      <th>16063</th>\n      <td>0.714286</td>\n      <td>0</td>\n      <td>-1.00</td>\n      <td>-1.00</td>\n      <td>62.000000</td>\n      <td>62</td>\n    </tr>\n    <tr>\n      <th>16203</th>\n      <td>0.833333</td>\n      <td>1</td>\n      <td>-1.00</td>\n      <td>-1.00</td>\n      <td>70.000000</td>\n      <td>70</td>\n    </tr>\n    <tr>\n      <th>16502</th>\n      <td>0.888889</td>\n      <td>1</td>\n      <td>-1.00</td>\n      <td>-1.00</td>\n      <td>57.888889</td>\n      <td>58</td>\n    </tr>\n    <tr>\n      <th>17457</th>\n      <td>1.000000</td>\n      <td>1</td>\n      <td>102405.75</td>\n      <td>102405.75</td>\n      <td>53.117647</td>\n      <td>54</td>\n    </tr>\n    <tr>\n      <th>...</th>\n      <td>...</td>\n      <td>...</td>\n      <td>...</td>\n      <td>...</td>\n      <td>...</td>\n      <td>...</td>\n    </tr>\n    <tr>\n      <th>1553685</th>\n      <td>0.000000</td>\n      <td>0</td>\n      <td>-1.00</td>\n      <td>-1.00</td>\n      <td>52.000000</td>\n      <td>52</td>\n    </tr>\n    <tr>\n      <th>1553686</th>\n      <td>0.000000</td>\n      <td>0</td>\n      <td>-1.00</td>\n      <td>-1.00</td>\n      <td>30.000000</td>\n      <td>30</td>\n    </tr>\n    <tr>\n      <th>1553687</th>\n      <td>0.000000</td>\n      <td>0</td>\n      <td>-1.00</td>\n      <td>-1.00</td>\n      <td>21.000000</td>\n      <td>21</td>\n    </tr>\n    <tr>\n      <th>1553688</th>\n      <td>0.000000</td>\n      <td>0</td>\n      <td>-1.00</td>\n      <td>-1.00</td>\n      <td>43.000000</td>\n      <td>43</td>\n    </tr>\n    <tr>\n      <th>1553689</th>\n      <td>0.000000</td>\n      <td>0</td>\n      <td>-1.00</td>\n      <td>-1.00</td>\n      <td>40.000000</td>\n      <td>40</td>\n    </tr>\n  </tbody>\n</table>\n<p>456373 rows × 6 columns</p>\n</div>"
     },
     "execution_count": 57,
     "metadata": {},
     "output_type": "execute_result"
    }
   ],
   "source": [
    "clients_df = gb_df.agg(\n",
    "    # active_customer\n",
    "    active_customer_mean=(\"active_customer\", np.mean),\n",
    "    active_customer_last=(\"active_customer\", last_value),\n",
    "\n",
    "    # salary\n",
    "    salary_mean=(\"salary\", np.mean),\n",
    "    salary_last=(\"salary\", last_value),\n",
    "\n",
    "    # age\n",
    "    age_mean=(\"age\", np.mean),\n",
    "    age_last=(\"age\", last_value)\n",
    ")\n",
    "\n",
    "print(clients_df.shape)\n",
    "clients_df"
   ],
   "metadata": {
    "collapsed": false,
    "pycharm": {
     "name": "#%%\n"
    }
   }
  },
  {
   "cell_type": "code",
   "execution_count": 60,
   "outputs": [],
   "source": [
    "_gb_unique_country_id = gb_df[\"country_id\"].nunique()\n",
    "print(f\"Hay {len(_gb_unique_country_id[_gb_unique_country_id > 1])} clientes que estan en mas de un pais\")"
   ],
   "metadata": {
    "collapsed": false,
    "pycharm": {
     "name": "#%%\n"
    }
   }
  },
  {
   "cell_type": "code",
   "execution_count": 59,
   "outputs": [],
   "source": [
    "clients_df.to_csv(f\"{__PREPROCESSED_DATA_PATH__}/clients_df.csv\")"
   ],
   "metadata": {
    "collapsed": false,
    "pycharm": {
     "name": "#%%\n"
    }
   }
  },
  {
   "cell_type": "code",
   "execution_count": 59,
   "outputs": [],
   "source": [],
   "metadata": {
    "collapsed": false,
    "pycharm": {
     "name": "#%%\n"
    }
   }
  }
 ],
 "metadata": {
  "kernelspec": {
   "display_name": "Python 3",
   "language": "python",
   "name": "python3"
  },
  "language_info": {
   "codemirror_mode": {
    "name": "ipython",
    "version": 2
   },
   "file_extension": ".py",
   "mimetype": "text/x-python",
   "name": "python",
   "nbconvert_exporter": "python",
   "pygments_lexer": "ipython2",
   "version": "2.7.6"
  }
 },
 "nbformat": 4,
 "nbformat_minor": 0
}