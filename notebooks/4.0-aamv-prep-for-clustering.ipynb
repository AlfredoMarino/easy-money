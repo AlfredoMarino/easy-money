{
 "cells": [
  {
   "cell_type": "markdown",
   "source": [
    "# Preprocesado de datos para clustering"
   ],
   "metadata": {
    "collapsed": false
   }
  },
  {
   "cell_type": "code",
   "execution_count": 18,
   "outputs": [],
   "source": [
    "import pandas as pd\n",
    "import numpy as np\n",
    "\n",
    "import matplotlib.pyplot as plt\n",
    "import seaborn as sns\n",
    "\n",
    "import time\n",
    "\n",
    "from sklearn.cluster import KMeans\n",
    "from sklearn.pipeline import Pipeline\n",
    "from sklearn.preprocessing import StandardScaler, MinMaxScaler\n",
    "from sklearn.base import BaseEstimator, TransformerMixin"
   ],
   "metadata": {
    "collapsed": false,
    "pycharm": {
     "name": "#%%\n"
    }
   }
  },
  {
   "cell_type": "code",
   "execution_count": 19,
   "outputs": [],
   "source": [
    "__INTERIM_DATA_PATH__ = \"../data/interim\"\n",
    "__PROCESSED_DATA_PATH__ = \"../data/processed\"\n",
    "\n",
    "__OUTPUT_DF_NAME__ = \"easy_money_processed\""
   ],
   "metadata": {
    "collapsed": false,
    "pycharm": {
     "name": "#%%\n"
    }
   }
  },
  {
   "cell_type": "markdown",
   "source": [
    "## Classes"
   ],
   "metadata": {
    "collapsed": false,
    "pycharm": {
     "name": "#%% md\n"
    }
   }
  },
  {
   "cell_type": "code",
   "execution_count": 38,
   "outputs": [],
   "source": [
    "class ArrayToDataFrame(BaseEstimator, TransformerMixin):\n",
    "    '''\n",
    "    Clase que transforma un array en un DataFrame.\n",
    "    Necesita como parámetros el nombre de las columnas y el índice.\n",
    "    '''\n",
    "\n",
    "    def __init__(self, columns, index=None):\n",
    "        self.columns = columns\n",
    "        self.index = index\n",
    "\n",
    "    def fit(self, X, y=None):\n",
    "        return self\n",
    "\n",
    "    def transform(self, X, y=None):\n",
    "        if self.index is not None:\n",
    "            df = pd.DataFrame(X, columns=self.columns, index=self.index)\n",
    "        else:\n",
    "            df = pd.DataFrame(X, columns=self.columns)\n",
    "        return df\n",
    "\n",
    "\n",
    "class FeatureGenerator(BaseEstimator, TransformerMixin):\n",
    "    \"\"\"\n",
    "    Clase que realiza unas transformaciones en el Pipeline.\n",
    "    El dataset que le pasas debe ser un DataFrame válido.\n",
    "    \"\"\"\n",
    "\n",
    "    def __init__(self, index: str):\n",
    "        self.index = index\n",
    "\n",
    "    def fit(self, X, y=None):\n",
    "        return self\n",
    "\n",
    "    def transform(self, X, y=None):\n",
    "        index = self.index if self.index else X.index\n",
    "        return X.groupby(index).agg(\n",
    "            # active_customer\n",
    "            active_customer_mean=(\"active_customer\", self.get_mean),\n",
    "            active_customer_last=(\"active_customer\", self.get_last_value),\n",
    "            month_active=(\"active_customer\", self.get_max_consecutive),\n",
    "\n",
    "            # salary\n",
    "            salary_mean=(\"salary\", self.get_mean),\n",
    "            salary_last=(\"salary\", self.get_last_value),\n",
    "\n",
    "            # age\n",
    "            age_mean=(\"age\", self.get_mean),\n",
    "            age_last=(\"age\", self.get_last_value),\n",
    "\n",
    "            # short_term_deposit\n",
    "            short_term_deposit=(\"short_term_deposit\", self.get_mean),\n",
    "\n",
    "            # em accounts\n",
    "            emc_account=(\"emc_account\", self.get_mean),\n",
    "            em_account_p=(\"em_account_p\", self.get_mean),\n",
    "            em_acount=(\"em_acount\", self.get_mean),\n",
    "\n",
    "            # gender\n",
    "            gender=(\"gender\", self.get_mode),\n",
    "\n",
    "            # segment\n",
    "            segment=(\"segment\", self.get_mode),\n",
    "\n",
    "            # entry_channel\n",
    "            ec_khe=(\"entry_channel_KHE\", self.get_mode),\n",
    "            ec_khq=(\"entry_channel_KHQ\", self.get_mode),\n",
    "            ec_others=(\"entry_channel_OTHERS\", self.get_mode),\n",
    "\n",
    "            # loans\n",
    "            loans=(\"loans\", self.get_last_value),\n",
    "\n",
    "            #mortgage\n",
    "            mortgage=(\"mortgage\", self.get_last_value),\n",
    "\n",
    "            #funds\n",
    "            funds=('funds', self.get_mean),\n",
    "            funds_last=('funds', self.get_last_value),\n",
    "\n",
    "            #securities\n",
    "            securities=('securities', self.get_mean),\n",
    "\n",
    "            #long_term_deposit\n",
    "            long_term_deposit=('long_term_deposit', self.get_mean),\n",
    "\n",
    "            #credit/debit card\n",
    "            credit_card=('credit_card', self.get_mean),\n",
    "            credit_card_last=('credit_card', self.get_last_value),\n",
    "            debit_card=('debit_card', self.get_mean),\n",
    "            debit_card_last=('debit_card', self.get_last_value),\n",
    "\n",
    "            #payroll\n",
    "            payroll=('payroll', self.get_mean),\n",
    "            payroll_last=('payroll', self.get_last_value),\n",
    "            payroll_account=('payroll_account', self.get_mean),\n",
    "            payroll_account_last=('payroll_account', self.get_last_value),\n",
    "\n",
    "            #pension_plan\n",
    "            pension_plan=('pension_plan', self.get_mean),\n",
    "            pension_plan_last=('pension_plan', self.get_last_value)\n",
    "        )\n",
    "\n",
    "    @staticmethod\n",
    "    def get_mean(serie: pd.Series):\n",
    "        return np.round(serie.mean(), 2)\n",
    "\n",
    "    @staticmethod\n",
    "    def get_last_value(serie: pd.Series):\n",
    "        return np.round(serie.iloc[-1], 2)\n",
    "\n",
    "    @staticmethod\n",
    "    def get_mode(serie: pd.Series):\n",
    "        return np.round(serie.mode().iat[0], 2)\n",
    "\n",
    "    @staticmethod\n",
    "    def get_max_consecutive(serie: pd.Series) -> int:\n",
    "        \"\"\"\n",
    "        Obtiene el maximo de meses consecutivos\n",
    "        :param serie: serie de booleanos que determinan si ese mes estuvo activo\n",
    "        :return: maximo de meses consecutivos\n",
    "        \"\"\"\n",
    "        counter = 0\n",
    "        segments = [0]\n",
    "        for i in serie:\n",
    "            if i == 1:\n",
    "                counter += 1\n",
    "            elif counter > 0:\n",
    "                segments.append(counter)\n",
    "                counter = 0\n",
    "\n",
    "        if counter > 0:\n",
    "            segments.append(counter)\n",
    "        return np.array(segments).max()\n",
    "\n",
    "\n",
    "class OutlierFilter(BaseEstimator, TransformerMixin):\n",
    "    '''\n",
    "    Clase que filtra los outliers utilizando np.quantile()\n",
    "    Los cuantiles a filtrar así como las columnas a filtrar son los parámetros de la clase.\n",
    "    '''\n",
    "\n",
    "    def __init__(self, q, col_to_filter):\n",
    "        self.q = q\n",
    "        self.col_to_filter = col_to_filter\n",
    "\n",
    "    def fit(self, X, y=None):\n",
    "        return self\n",
    "\n",
    "    def transform(self, X, y=None):\n",
    "        '''\n",
    "        El método considera outlier a aquel cliente que es outlier en todas las columnas que le pasas.\n",
    "        Es decir: si tiene que filtrar importe y número de pedidos, sólo va a eliminar aquellos clientes\n",
    "        que son outlier tanto en importe como número de pedidos. Si eres outlier en importe pero no en pedido\n",
    "        no se te va a filtrar del dataset.\n",
    "        '''\n",
    "\n",
    "        # lista vacía\n",
    "        criteria_list = []\n",
    "\n",
    "        # agregamos a la lista los clientes que son outliers\n",
    "        for col in self.col_to_filter:\n",
    "            criteria = X[col] < np.quantile(X[col], q=self.q)\n",
    "            criteria_list.append(criteria)\n",
    "\n",
    "        # si hay más de 1 columna\n",
    "        if len(self.col_to_filter) > 1:\n",
    "\n",
    "            # creamos el criterio global: es decir outlier en todas las columnas\n",
    "            global_criteria = criteria_list[0]\n",
    "\n",
    "            for criteria in criteria_list[1:]:\n",
    "                global_criteria = global_criteria & criteria\n",
    "\n",
    "        else:\n",
    "            global_criteria = criteria_list[0]\n",
    "\n",
    "        # filtramos nuestra dataframe\n",
    "        X = X[global_criteria]\n",
    "\n",
    "        # guardamos el índice como parámetro de la clase porque en caso contrario lo perderíamos.\n",
    "        self.index = X.index\n",
    "\n",
    "        return X"
   ],
   "metadata": {
    "collapsed": false,
    "pycharm": {
     "name": "#%%\n"
    }
   }
  },
  {
   "cell_type": "code",
   "execution_count": 21,
   "outputs": [],
   "source": [
    "def generate_clusters(dataframe: pd.DataFrame, min_cluster: int = 2, max_cluster: int = 10):\n",
    "    st = time.time()\n",
    "    sse = {}\n",
    "    for k in range(min_cluster, max_cluster):\n",
    "        print(f\"Fitting pipe with {k} clusters\")\n",
    "        _clustering_model = KMeans(n_clusters=k)\n",
    "        _clustering_model.fit(dataframe)\n",
    "        sse[k] = _clustering_model.inertia_\n",
    "\n",
    "    et = time.time()\n",
    "    print(\"Elbow curve took {} minutes.\".format(round((et - st) / 60), 2))\n",
    "\n",
    "    return sse\n",
    "\n",
    "\n",
    "def plot_elbow(sse):\n",
    "    fig = plt.figure(figsize=(7, 5))\n",
    "    ax = fig.add_subplot()\n",
    "\n",
    "    x_values = list(sse.keys())\n",
    "    y_values = list(sse.values())\n",
    "\n",
    "    ax.plot(x_values, y_values, label=\"Inertia/dispersión de los clústers\")\n",
    "    fig.suptitle(\"Variación de la dispersión de los clústers en función de la k\", fontsize=16)"
   ],
   "metadata": {
    "collapsed": false,
    "pycharm": {
     "name": "#%%\n"
    }
   }
  },
  {
   "cell_type": "markdown",
   "source": [
    "## Import data"
   ],
   "metadata": {
    "collapsed": false
   }
  },
  {
   "cell_type": "code",
   "execution_count": 22,
   "outputs": [
    {
     "data": {
      "text/plain": "(5962838, 75)"
     },
     "execution_count": 22,
     "metadata": {},
     "output_type": "execute_result"
    }
   ],
   "source": [
    "df = pd.read_csv(f\"{__INTERIM_DATA_PATH__}/easy_money_prep_1.csv\")\n",
    "df.drop(\"Unnamed: 0\", axis=1, inplace=True)\n",
    "df[\"pk_partition\"] = pd.to_datetime(df[\"pk_partition\"])\n",
    "df.shape"
   ],
   "metadata": {
    "collapsed": false,
    "pycharm": {
     "name": "#%%\n"
    }
   }
  },
  {
   "cell_type": "code",
   "execution_count": 23,
   "outputs": [
    {
     "data": {
      "text/plain": "                     count          mean            std      min        25%  \\\npk_cid           5962838.0  1.234933e+06  162293.085772  15891.0  1112533.0   \nactive_customer  5962838.0  4.033799e-01       0.490576      0.0        0.0   \nsegment          5962838.0  1.664466e+00       0.548381      0.0        1.0   \nregion_code      5962838.0  2.580417e+01      13.603136     -1.0       13.0   \ngender           5962838.0  5.177870e-01       0.499684      0.0        0.0   \n...                    ...           ...            ...      ...        ...   \ncountry_id_SA    5962838.0  2.850991e-06       0.001688      0.0        0.0   \ncountry_id_SE    5962838.0  2.683286e-06       0.001638      0.0        0.0   \ncountry_id_SN    5962838.0  2.850991e-06       0.001688      0.0        0.0   \ncountry_id_US    5962838.0  3.270255e-05       0.005719      0.0        0.0   \ncountry_id_VE    5962838.0  1.324872e-05       0.003640      0.0        0.0   \n\n                       50%         75%        max  \npk_cid           1231097.0  1352339.75  1553689.0  \nactive_customer        0.0        1.00        1.0  \nsegment                2.0        2.00        3.0  \nregion_code           28.0       36.00       52.0  \ngender                 1.0        1.00        1.0  \n...                    ...         ...        ...  \ncountry_id_SA          0.0        0.00        1.0  \ncountry_id_SE          0.0        0.00        1.0  \ncountry_id_SN          0.0        0.00        1.0  \ncountry_id_US          0.0        0.00        1.0  \ncountry_id_VE          0.0        0.00        1.0  \n\n[73 rows x 8 columns]",
      "text/html": "<div>\n<style scoped>\n    .dataframe tbody tr th:only-of-type {\n        vertical-align: middle;\n    }\n\n    .dataframe tbody tr th {\n        vertical-align: top;\n    }\n\n    .dataframe thead th {\n        text-align: right;\n    }\n</style>\n<table border=\"1\" class=\"dataframe\">\n  <thead>\n    <tr style=\"text-align: right;\">\n      <th></th>\n      <th>count</th>\n      <th>mean</th>\n      <th>std</th>\n      <th>min</th>\n      <th>25%</th>\n      <th>50%</th>\n      <th>75%</th>\n      <th>max</th>\n    </tr>\n  </thead>\n  <tbody>\n    <tr>\n      <th>pk_cid</th>\n      <td>5962838.0</td>\n      <td>1.234933e+06</td>\n      <td>162293.085772</td>\n      <td>15891.0</td>\n      <td>1112533.0</td>\n      <td>1231097.0</td>\n      <td>1352339.75</td>\n      <td>1553689.0</td>\n    </tr>\n    <tr>\n      <th>active_customer</th>\n      <td>5962838.0</td>\n      <td>4.033799e-01</td>\n      <td>0.490576</td>\n      <td>0.0</td>\n      <td>0.0</td>\n      <td>0.0</td>\n      <td>1.00</td>\n      <td>1.0</td>\n    </tr>\n    <tr>\n      <th>segment</th>\n      <td>5962838.0</td>\n      <td>1.664466e+00</td>\n      <td>0.548381</td>\n      <td>0.0</td>\n      <td>1.0</td>\n      <td>2.0</td>\n      <td>2.00</td>\n      <td>3.0</td>\n    </tr>\n    <tr>\n      <th>region_code</th>\n      <td>5962838.0</td>\n      <td>2.580417e+01</td>\n      <td>13.603136</td>\n      <td>-1.0</td>\n      <td>13.0</td>\n      <td>28.0</td>\n      <td>36.00</td>\n      <td>52.0</td>\n    </tr>\n    <tr>\n      <th>gender</th>\n      <td>5962838.0</td>\n      <td>5.177870e-01</td>\n      <td>0.499684</td>\n      <td>0.0</td>\n      <td>0.0</td>\n      <td>1.0</td>\n      <td>1.00</td>\n      <td>1.0</td>\n    </tr>\n    <tr>\n      <th>...</th>\n      <td>...</td>\n      <td>...</td>\n      <td>...</td>\n      <td>...</td>\n      <td>...</td>\n      <td>...</td>\n      <td>...</td>\n      <td>...</td>\n    </tr>\n    <tr>\n      <th>country_id_SA</th>\n      <td>5962838.0</td>\n      <td>2.850991e-06</td>\n      <td>0.001688</td>\n      <td>0.0</td>\n      <td>0.0</td>\n      <td>0.0</td>\n      <td>0.00</td>\n      <td>1.0</td>\n    </tr>\n    <tr>\n      <th>country_id_SE</th>\n      <td>5962838.0</td>\n      <td>2.683286e-06</td>\n      <td>0.001638</td>\n      <td>0.0</td>\n      <td>0.0</td>\n      <td>0.0</td>\n      <td>0.00</td>\n      <td>1.0</td>\n    </tr>\n    <tr>\n      <th>country_id_SN</th>\n      <td>5962838.0</td>\n      <td>2.850991e-06</td>\n      <td>0.001688</td>\n      <td>0.0</td>\n      <td>0.0</td>\n      <td>0.0</td>\n      <td>0.00</td>\n      <td>1.0</td>\n    </tr>\n    <tr>\n      <th>country_id_US</th>\n      <td>5962838.0</td>\n      <td>3.270255e-05</td>\n      <td>0.005719</td>\n      <td>0.0</td>\n      <td>0.0</td>\n      <td>0.0</td>\n      <td>0.00</td>\n      <td>1.0</td>\n    </tr>\n    <tr>\n      <th>country_id_VE</th>\n      <td>5962838.0</td>\n      <td>1.324872e-05</td>\n      <td>0.003640</td>\n      <td>0.0</td>\n      <td>0.0</td>\n      <td>0.0</td>\n      <td>0.00</td>\n      <td>1.0</td>\n    </tr>\n  </tbody>\n</table>\n<p>73 rows × 8 columns</p>\n</div>"
     },
     "execution_count": 23,
     "metadata": {},
     "output_type": "execute_result"
    }
   ],
   "source": [
    "df.describe().T"
   ],
   "metadata": {
    "collapsed": false,
    "pycharm": {
     "name": "#%%\n"
    }
   }
  },
  {
   "cell_type": "markdown",
   "source": [
    "## Experimentation"
   ],
   "metadata": {
    "collapsed": false,
    "pycharm": {
     "name": "#%% md\n"
    }
   }
  },
  {
   "cell_type": "code",
   "execution_count": 39,
   "outputs": [],
   "source": [
    "pipe = Pipeline(steps=[\n",
    "    (\"FeatureGenerator\", FeatureGenerator(\"pk_cid\")),\n",
    "    # (\"OutlierFilter\", OutlierFilter(q = 0.99, col_to_filter = [\"salary_mean\", \"salary_last\"])),\n",
    "])"
   ],
   "metadata": {
    "collapsed": false,
    "pycharm": {
     "name": "#%%\n"
    }
   }
  },
  {
   "cell_type": "code",
   "execution_count": 40,
   "outputs": [
    {
     "name": "stdout",
     "output_type": "stream",
     "text": [
      "Wall time: 10min 1s\n"
     ]
    },
    {
     "data": {
      "text/plain": "         active_customer_mean  active_customer_last  month_active  \\\npk_cid                                                              \n15891                    0.50                     0             1   \n16063                    0.71                     0             4   \n16203                    0.83                     1             5   \n16502                    0.89                     1             8   \n17457                    1.00                     1            17   \n...                       ...                   ...           ...   \n1553685                  0.00                     0             0   \n1553686                  0.00                     0             0   \n1553687                  0.00                     0             0   \n1553688                  0.00                     0             0   \n1553689                  0.00                     0             0   \n\n         salary_mean  salary_last  age_mean  age_last  short_term_deposit  \\\npk_cid                                                                      \n15891       73136.48     73136.48     59.00        59                 0.0   \n16063      117492.51    117492.51     62.00        62                 0.0   \n16203       83697.15     83697.15     70.00        70                 0.0   \n16502      126428.73    126428.73     57.89        58                 0.0   \n17457      102405.75    102405.75     53.12        54                 0.0   \n...              ...          ...       ...       ...                 ...   \n1553685    115653.19    115653.19     52.00        52                 0.0   \n1553686    119694.04    119694.04     30.00        30                 0.0   \n1553687    101198.12    101198.12     21.00        21                 0.0   \n1553688    130995.58    130995.58     43.00        43                 0.0   \n1553689    113508.20    113508.20     40.00        40                 0.0   \n\n         emc_account  em_account_p  ...  credit_card  credit_card_last  \\\npk_cid                              ...                                  \n15891           0.00           0.0  ...          0.0                 0   \n16063           0.00           0.0  ...          0.0                 0   \n16203           0.00           0.0  ...          0.0                 0   \n16502           0.56           0.0  ...          0.0                 0   \n17457           0.00           0.0  ...          0.0                 0   \n...              ...           ...  ...          ...               ...   \n1553685         0.00           0.0  ...          0.0                 0   \n1553686         0.00           0.0  ...          0.0                 0   \n1553687         0.00           0.0  ...          0.0                 0   \n1553688         0.00           0.0  ...          0.0                 0   \n1553689         0.00           0.0  ...          0.0                 0   \n\n         debit_card  debit_card_last  payroll  payroll_last  payroll_account  \\\npk_cid                                                                         \n15891          0.00                0      0.0             0              0.0   \n16063          0.00                0      0.0             0              0.0   \n16203          0.00                0      0.0             0              0.0   \n16502          0.00                0      0.0             0              0.0   \n17457          0.29                1      0.0             0              0.0   \n...             ...              ...      ...           ...              ...   \n1553685        0.00                0      0.0             0              0.0   \n1553686        0.00                0      0.0             0              0.0   \n1553687        0.00                0      0.0             0              0.0   \n1553688        0.00                0      0.0             0              0.0   \n1553689        0.00                0      0.0             0              0.0   \n\n         payroll_account_last  pension_plan  pension_plan_last  \npk_cid                                                          \n15891                       0           0.0                  0  \n16063                       0           0.0                  0  \n16203                       0           0.0                  0  \n16502                       0           0.0                  0  \n17457                       0           0.0                  0  \n...                       ...           ...                ...  \n1553685                     0           0.0                  0  \n1553686                     0           0.0                  0  \n1553687                     0           0.0                  0  \n1553688                     0           0.0                  0  \n1553689                     0           0.0                  0  \n\n[456371 rows x 32 columns]",
      "text/html": "<div>\n<style scoped>\n    .dataframe tbody tr th:only-of-type {\n        vertical-align: middle;\n    }\n\n    .dataframe tbody tr th {\n        vertical-align: top;\n    }\n\n    .dataframe thead th {\n        text-align: right;\n    }\n</style>\n<table border=\"1\" class=\"dataframe\">\n  <thead>\n    <tr style=\"text-align: right;\">\n      <th></th>\n      <th>active_customer_mean</th>\n      <th>active_customer_last</th>\n      <th>month_active</th>\n      <th>salary_mean</th>\n      <th>salary_last</th>\n      <th>age_mean</th>\n      <th>age_last</th>\n      <th>short_term_deposit</th>\n      <th>emc_account</th>\n      <th>em_account_p</th>\n      <th>...</th>\n      <th>credit_card</th>\n      <th>credit_card_last</th>\n      <th>debit_card</th>\n      <th>debit_card_last</th>\n      <th>payroll</th>\n      <th>payroll_last</th>\n      <th>payroll_account</th>\n      <th>payroll_account_last</th>\n      <th>pension_plan</th>\n      <th>pension_plan_last</th>\n    </tr>\n    <tr>\n      <th>pk_cid</th>\n      <th></th>\n      <th></th>\n      <th></th>\n      <th></th>\n      <th></th>\n      <th></th>\n      <th></th>\n      <th></th>\n      <th></th>\n      <th></th>\n      <th></th>\n      <th></th>\n      <th></th>\n      <th></th>\n      <th></th>\n      <th></th>\n      <th></th>\n      <th></th>\n      <th></th>\n      <th></th>\n      <th></th>\n    </tr>\n  </thead>\n  <tbody>\n    <tr>\n      <th>15891</th>\n      <td>0.50</td>\n      <td>0</td>\n      <td>1</td>\n      <td>73136.48</td>\n      <td>73136.48</td>\n      <td>59.00</td>\n      <td>59</td>\n      <td>0.0</td>\n      <td>0.00</td>\n      <td>0.0</td>\n      <td>...</td>\n      <td>0.0</td>\n      <td>0</td>\n      <td>0.00</td>\n      <td>0</td>\n      <td>0.0</td>\n      <td>0</td>\n      <td>0.0</td>\n      <td>0</td>\n      <td>0.0</td>\n      <td>0</td>\n    </tr>\n    <tr>\n      <th>16063</th>\n      <td>0.71</td>\n      <td>0</td>\n      <td>4</td>\n      <td>117492.51</td>\n      <td>117492.51</td>\n      <td>62.00</td>\n      <td>62</td>\n      <td>0.0</td>\n      <td>0.00</td>\n      <td>0.0</td>\n      <td>...</td>\n      <td>0.0</td>\n      <td>0</td>\n      <td>0.00</td>\n      <td>0</td>\n      <td>0.0</td>\n      <td>0</td>\n      <td>0.0</td>\n      <td>0</td>\n      <td>0.0</td>\n      <td>0</td>\n    </tr>\n    <tr>\n      <th>16203</th>\n      <td>0.83</td>\n      <td>1</td>\n      <td>5</td>\n      <td>83697.15</td>\n      <td>83697.15</td>\n      <td>70.00</td>\n      <td>70</td>\n      <td>0.0</td>\n      <td>0.00</td>\n      <td>0.0</td>\n      <td>...</td>\n      <td>0.0</td>\n      <td>0</td>\n      <td>0.00</td>\n      <td>0</td>\n      <td>0.0</td>\n      <td>0</td>\n      <td>0.0</td>\n      <td>0</td>\n      <td>0.0</td>\n      <td>0</td>\n    </tr>\n    <tr>\n      <th>16502</th>\n      <td>0.89</td>\n      <td>1</td>\n      <td>8</td>\n      <td>126428.73</td>\n      <td>126428.73</td>\n      <td>57.89</td>\n      <td>58</td>\n      <td>0.0</td>\n      <td>0.56</td>\n      <td>0.0</td>\n      <td>...</td>\n      <td>0.0</td>\n      <td>0</td>\n      <td>0.00</td>\n      <td>0</td>\n      <td>0.0</td>\n      <td>0</td>\n      <td>0.0</td>\n      <td>0</td>\n      <td>0.0</td>\n      <td>0</td>\n    </tr>\n    <tr>\n      <th>17457</th>\n      <td>1.00</td>\n      <td>1</td>\n      <td>17</td>\n      <td>102405.75</td>\n      <td>102405.75</td>\n      <td>53.12</td>\n      <td>54</td>\n      <td>0.0</td>\n      <td>0.00</td>\n      <td>0.0</td>\n      <td>...</td>\n      <td>0.0</td>\n      <td>0</td>\n      <td>0.29</td>\n      <td>1</td>\n      <td>0.0</td>\n      <td>0</td>\n      <td>0.0</td>\n      <td>0</td>\n      <td>0.0</td>\n      <td>0</td>\n    </tr>\n    <tr>\n      <th>...</th>\n      <td>...</td>\n      <td>...</td>\n      <td>...</td>\n      <td>...</td>\n      <td>...</td>\n      <td>...</td>\n      <td>...</td>\n      <td>...</td>\n      <td>...</td>\n      <td>...</td>\n      <td>...</td>\n      <td>...</td>\n      <td>...</td>\n      <td>...</td>\n      <td>...</td>\n      <td>...</td>\n      <td>...</td>\n      <td>...</td>\n      <td>...</td>\n      <td>...</td>\n      <td>...</td>\n    </tr>\n    <tr>\n      <th>1553685</th>\n      <td>0.00</td>\n      <td>0</td>\n      <td>0</td>\n      <td>115653.19</td>\n      <td>115653.19</td>\n      <td>52.00</td>\n      <td>52</td>\n      <td>0.0</td>\n      <td>0.00</td>\n      <td>0.0</td>\n      <td>...</td>\n      <td>0.0</td>\n      <td>0</td>\n      <td>0.00</td>\n      <td>0</td>\n      <td>0.0</td>\n      <td>0</td>\n      <td>0.0</td>\n      <td>0</td>\n      <td>0.0</td>\n      <td>0</td>\n    </tr>\n    <tr>\n      <th>1553686</th>\n      <td>0.00</td>\n      <td>0</td>\n      <td>0</td>\n      <td>119694.04</td>\n      <td>119694.04</td>\n      <td>30.00</td>\n      <td>30</td>\n      <td>0.0</td>\n      <td>0.00</td>\n      <td>0.0</td>\n      <td>...</td>\n      <td>0.0</td>\n      <td>0</td>\n      <td>0.00</td>\n      <td>0</td>\n      <td>0.0</td>\n      <td>0</td>\n      <td>0.0</td>\n      <td>0</td>\n      <td>0.0</td>\n      <td>0</td>\n    </tr>\n    <tr>\n      <th>1553687</th>\n      <td>0.00</td>\n      <td>0</td>\n      <td>0</td>\n      <td>101198.12</td>\n      <td>101198.12</td>\n      <td>21.00</td>\n      <td>21</td>\n      <td>0.0</td>\n      <td>0.00</td>\n      <td>0.0</td>\n      <td>...</td>\n      <td>0.0</td>\n      <td>0</td>\n      <td>0.00</td>\n      <td>0</td>\n      <td>0.0</td>\n      <td>0</td>\n      <td>0.0</td>\n      <td>0</td>\n      <td>0.0</td>\n      <td>0</td>\n    </tr>\n    <tr>\n      <th>1553688</th>\n      <td>0.00</td>\n      <td>0</td>\n      <td>0</td>\n      <td>130995.58</td>\n      <td>130995.58</td>\n      <td>43.00</td>\n      <td>43</td>\n      <td>0.0</td>\n      <td>0.00</td>\n      <td>0.0</td>\n      <td>...</td>\n      <td>0.0</td>\n      <td>0</td>\n      <td>0.00</td>\n      <td>0</td>\n      <td>0.0</td>\n      <td>0</td>\n      <td>0.0</td>\n      <td>0</td>\n      <td>0.0</td>\n      <td>0</td>\n    </tr>\n    <tr>\n      <th>1553689</th>\n      <td>0.00</td>\n      <td>0</td>\n      <td>0</td>\n      <td>113508.20</td>\n      <td>113508.20</td>\n      <td>40.00</td>\n      <td>40</td>\n      <td>0.0</td>\n      <td>0.00</td>\n      <td>0.0</td>\n      <td>...</td>\n      <td>0.0</td>\n      <td>0</td>\n      <td>0.00</td>\n      <td>0</td>\n      <td>0.0</td>\n      <td>0</td>\n      <td>0.0</td>\n      <td>0</td>\n      <td>0.0</td>\n      <td>0</td>\n    </tr>\n  </tbody>\n</table>\n<p>456371 rows × 32 columns</p>\n</div>"
     },
     "execution_count": 40,
     "metadata": {},
     "output_type": "execute_result"
    }
   ],
   "source": [
    "%%time\n",
    "result_pipe1_df = pipe.fit_transform(df)\n",
    "result_pipe1_df"
   ],
   "metadata": {
    "collapsed": false,
    "pycharm": {
     "name": "#%%\n"
    }
   }
  },
  {
   "cell_type": "code",
   "execution_count": 41,
   "outputs": [],
   "source": [
    "pipe2 = Pipeline(steps=[\n",
    "    (\"Scale\", MinMaxScaler()),\n",
    "    (\"array_to_dataframe\", ArrayToDataFrame(index=result_pipe1_df.index, columns=result_pipe1_df.columns))\n",
    "])"
   ],
   "metadata": {
    "collapsed": false,
    "pycharm": {
     "name": "#%%\n"
    }
   }
  },
  {
   "cell_type": "code",
   "execution_count": 42,
   "outputs": [
    {
     "data": {
      "text/plain": "        active_customer_mean  active_customer_last  month_active  salary_mean  \\\npk_cid                                                                          \n15891                   0.50                   0.0      0.058824     0.002490   \n16063                   0.71                   0.0      0.235294     0.004025   \n16203                   0.83                   1.0      0.294118     0.002855   \n16502                   0.89                   1.0      0.470588     0.004334   \n17457                   1.00                   1.0      1.000000     0.003503   \n17590                   1.00                   1.0      0.647059     0.014054   \n17799                   1.00                   1.0      1.000000     0.002883   \n17970                   1.00                   1.0      1.000000     0.003250   \n17980                   1.00                   1.0      0.764706     0.009734   \n18146                   1.00                   1.0      0.235294     0.002423   \n\n        salary_last  age_mean  age_last  short_term_deposit  emc_account  \\\npk_cid                                                                     \n15891      0.002490  0.556260  0.553398                 0.0         0.00   \n16063      0.004025  0.585537  0.582524                 0.0         0.00   \n16203      0.002855  0.663609  0.660194                 0.0         0.00   \n16502      0.004334  0.545428  0.543689                 0.0         0.56   \n17457      0.003503  0.498878  0.504854                 0.0         0.00   \n17590      0.014054  0.514590  0.514563                 0.0         0.00   \n17799      0.002883  0.432224  0.436893                 0.0         0.00   \n17970      0.003250  0.714160  0.718447                 0.0         1.00   \n17980      0.009734  0.734166  0.737864                 0.0         0.00   \n18146      0.002423  0.614814  0.611650                 0.0         0.25   \n\n        em_account_p  ...  credit_card  credit_card_last  debit_card  \\\npk_cid                ...                                              \n15891            0.0  ...          0.0               0.0        0.00   \n16063            0.0  ...          0.0               0.0        0.00   \n16203            0.0  ...          0.0               0.0        0.00   \n16502            0.0  ...          0.0               0.0        0.00   \n17457            0.0  ...          0.0               0.0        0.29   \n17590            0.0  ...          0.0               0.0        0.00   \n17799            0.0  ...          0.0               0.0        0.00   \n17970            0.0  ...          0.0               0.0        1.00   \n17980            0.0  ...          0.0               0.0        0.00   \n18146            0.0  ...          0.0               0.0        0.00   \n\n        debit_card_last  payroll  payroll_last  payroll_account  \\\npk_cid                                                            \n15891               0.0     0.00           0.0              0.0   \n16063               0.0     0.00           0.0              0.0   \n16203               0.0     0.00           0.0              0.0   \n16502               0.0     0.00           0.0              0.0   \n17457               1.0     0.00           0.0              0.0   \n17590               0.0     0.00           0.0              0.0   \n17799               0.0     0.00           0.0              0.0   \n17970               1.0     0.06           0.0              1.0   \n17980               0.0     0.00           0.0              0.0   \n18146               0.0     0.00           0.0              0.0   \n\n        payroll_account_last  pension_plan  pension_plan_last  \npk_cid                                                         \n15891                    0.0           0.0                0.0  \n16063                    0.0           0.0                0.0  \n16203                    0.0           0.0                0.0  \n16502                    0.0           0.0                0.0  \n17457                    0.0           0.0                0.0  \n17590                    0.0           0.0                0.0  \n17799                    0.0           0.0                0.0  \n17970                    1.0           1.0                1.0  \n17980                    0.0           0.0                0.0  \n18146                    0.0           0.0                0.0  \n\n[10 rows x 32 columns]",
      "text/html": "<div>\n<style scoped>\n    .dataframe tbody tr th:only-of-type {\n        vertical-align: middle;\n    }\n\n    .dataframe tbody tr th {\n        vertical-align: top;\n    }\n\n    .dataframe thead th {\n        text-align: right;\n    }\n</style>\n<table border=\"1\" class=\"dataframe\">\n  <thead>\n    <tr style=\"text-align: right;\">\n      <th></th>\n      <th>active_customer_mean</th>\n      <th>active_customer_last</th>\n      <th>month_active</th>\n      <th>salary_mean</th>\n      <th>salary_last</th>\n      <th>age_mean</th>\n      <th>age_last</th>\n      <th>short_term_deposit</th>\n      <th>emc_account</th>\n      <th>em_account_p</th>\n      <th>...</th>\n      <th>credit_card</th>\n      <th>credit_card_last</th>\n      <th>debit_card</th>\n      <th>debit_card_last</th>\n      <th>payroll</th>\n      <th>payroll_last</th>\n      <th>payroll_account</th>\n      <th>payroll_account_last</th>\n      <th>pension_plan</th>\n      <th>pension_plan_last</th>\n    </tr>\n    <tr>\n      <th>pk_cid</th>\n      <th></th>\n      <th></th>\n      <th></th>\n      <th></th>\n      <th></th>\n      <th></th>\n      <th></th>\n      <th></th>\n      <th></th>\n      <th></th>\n      <th></th>\n      <th></th>\n      <th></th>\n      <th></th>\n      <th></th>\n      <th></th>\n      <th></th>\n      <th></th>\n      <th></th>\n      <th></th>\n      <th></th>\n    </tr>\n  </thead>\n  <tbody>\n    <tr>\n      <th>15891</th>\n      <td>0.50</td>\n      <td>0.0</td>\n      <td>0.058824</td>\n      <td>0.002490</td>\n      <td>0.002490</td>\n      <td>0.556260</td>\n      <td>0.553398</td>\n      <td>0.0</td>\n      <td>0.00</td>\n      <td>0.0</td>\n      <td>...</td>\n      <td>0.0</td>\n      <td>0.0</td>\n      <td>0.00</td>\n      <td>0.0</td>\n      <td>0.00</td>\n      <td>0.0</td>\n      <td>0.0</td>\n      <td>0.0</td>\n      <td>0.0</td>\n      <td>0.0</td>\n    </tr>\n    <tr>\n      <th>16063</th>\n      <td>0.71</td>\n      <td>0.0</td>\n      <td>0.235294</td>\n      <td>0.004025</td>\n      <td>0.004025</td>\n      <td>0.585537</td>\n      <td>0.582524</td>\n      <td>0.0</td>\n      <td>0.00</td>\n      <td>0.0</td>\n      <td>...</td>\n      <td>0.0</td>\n      <td>0.0</td>\n      <td>0.00</td>\n      <td>0.0</td>\n      <td>0.00</td>\n      <td>0.0</td>\n      <td>0.0</td>\n      <td>0.0</td>\n      <td>0.0</td>\n      <td>0.0</td>\n    </tr>\n    <tr>\n      <th>16203</th>\n      <td>0.83</td>\n      <td>1.0</td>\n      <td>0.294118</td>\n      <td>0.002855</td>\n      <td>0.002855</td>\n      <td>0.663609</td>\n      <td>0.660194</td>\n      <td>0.0</td>\n      <td>0.00</td>\n      <td>0.0</td>\n      <td>...</td>\n      <td>0.0</td>\n      <td>0.0</td>\n      <td>0.00</td>\n      <td>0.0</td>\n      <td>0.00</td>\n      <td>0.0</td>\n      <td>0.0</td>\n      <td>0.0</td>\n      <td>0.0</td>\n      <td>0.0</td>\n    </tr>\n    <tr>\n      <th>16502</th>\n      <td>0.89</td>\n      <td>1.0</td>\n      <td>0.470588</td>\n      <td>0.004334</td>\n      <td>0.004334</td>\n      <td>0.545428</td>\n      <td>0.543689</td>\n      <td>0.0</td>\n      <td>0.56</td>\n      <td>0.0</td>\n      <td>...</td>\n      <td>0.0</td>\n      <td>0.0</td>\n      <td>0.00</td>\n      <td>0.0</td>\n      <td>0.00</td>\n      <td>0.0</td>\n      <td>0.0</td>\n      <td>0.0</td>\n      <td>0.0</td>\n      <td>0.0</td>\n    </tr>\n    <tr>\n      <th>17457</th>\n      <td>1.00</td>\n      <td>1.0</td>\n      <td>1.000000</td>\n      <td>0.003503</td>\n      <td>0.003503</td>\n      <td>0.498878</td>\n      <td>0.504854</td>\n      <td>0.0</td>\n      <td>0.00</td>\n      <td>0.0</td>\n      <td>...</td>\n      <td>0.0</td>\n      <td>0.0</td>\n      <td>0.29</td>\n      <td>1.0</td>\n      <td>0.00</td>\n      <td>0.0</td>\n      <td>0.0</td>\n      <td>0.0</td>\n      <td>0.0</td>\n      <td>0.0</td>\n    </tr>\n    <tr>\n      <th>17590</th>\n      <td>1.00</td>\n      <td>1.0</td>\n      <td>0.647059</td>\n      <td>0.014054</td>\n      <td>0.014054</td>\n      <td>0.514590</td>\n      <td>0.514563</td>\n      <td>0.0</td>\n      <td>0.00</td>\n      <td>0.0</td>\n      <td>...</td>\n      <td>0.0</td>\n      <td>0.0</td>\n      <td>0.00</td>\n      <td>0.0</td>\n      <td>0.00</td>\n      <td>0.0</td>\n      <td>0.0</td>\n      <td>0.0</td>\n      <td>0.0</td>\n      <td>0.0</td>\n    </tr>\n    <tr>\n      <th>17799</th>\n      <td>1.00</td>\n      <td>1.0</td>\n      <td>1.000000</td>\n      <td>0.002883</td>\n      <td>0.002883</td>\n      <td>0.432224</td>\n      <td>0.436893</td>\n      <td>0.0</td>\n      <td>0.00</td>\n      <td>0.0</td>\n      <td>...</td>\n      <td>0.0</td>\n      <td>0.0</td>\n      <td>0.00</td>\n      <td>0.0</td>\n      <td>0.00</td>\n      <td>0.0</td>\n      <td>0.0</td>\n      <td>0.0</td>\n      <td>0.0</td>\n      <td>0.0</td>\n    </tr>\n    <tr>\n      <th>17970</th>\n      <td>1.00</td>\n      <td>1.0</td>\n      <td>1.000000</td>\n      <td>0.003250</td>\n      <td>0.003250</td>\n      <td>0.714160</td>\n      <td>0.718447</td>\n      <td>0.0</td>\n      <td>1.00</td>\n      <td>0.0</td>\n      <td>...</td>\n      <td>0.0</td>\n      <td>0.0</td>\n      <td>1.00</td>\n      <td>1.0</td>\n      <td>0.06</td>\n      <td>0.0</td>\n      <td>1.0</td>\n      <td>1.0</td>\n      <td>1.0</td>\n      <td>1.0</td>\n    </tr>\n    <tr>\n      <th>17980</th>\n      <td>1.00</td>\n      <td>1.0</td>\n      <td>0.764706</td>\n      <td>0.009734</td>\n      <td>0.009734</td>\n      <td>0.734166</td>\n      <td>0.737864</td>\n      <td>0.0</td>\n      <td>0.00</td>\n      <td>0.0</td>\n      <td>...</td>\n      <td>0.0</td>\n      <td>0.0</td>\n      <td>0.00</td>\n      <td>0.0</td>\n      <td>0.00</td>\n      <td>0.0</td>\n      <td>0.0</td>\n      <td>0.0</td>\n      <td>0.0</td>\n      <td>0.0</td>\n    </tr>\n    <tr>\n      <th>18146</th>\n      <td>1.00</td>\n      <td>1.0</td>\n      <td>0.235294</td>\n      <td>0.002423</td>\n      <td>0.002423</td>\n      <td>0.614814</td>\n      <td>0.611650</td>\n      <td>0.0</td>\n      <td>0.25</td>\n      <td>0.0</td>\n      <td>...</td>\n      <td>0.0</td>\n      <td>0.0</td>\n      <td>0.00</td>\n      <td>0.0</td>\n      <td>0.00</td>\n      <td>0.0</td>\n      <td>0.0</td>\n      <td>0.0</td>\n      <td>0.0</td>\n      <td>0.0</td>\n    </tr>\n  </tbody>\n</table>\n<p>10 rows × 32 columns</p>\n</div>"
     },
     "execution_count": 42,
     "metadata": {},
     "output_type": "execute_result"
    }
   ],
   "source": [
    "processed_df = pipe2.fit_transform(result_pipe1_df)\n",
    "processed_df.head(10)"
   ],
   "metadata": {
    "collapsed": false,
    "pycharm": {
     "name": "#%%\n"
    }
   }
  },
  {
   "cell_type": "code",
   "execution_count": 43,
   "outputs": [
    {
     "name": "stdout",
     "output_type": "stream",
     "text": [
      "Fitting pipe with 2 clusters\n",
      "Fitting pipe with 3 clusters\n",
      "Fitting pipe with 4 clusters\n",
      "Fitting pipe with 5 clusters\n",
      "Fitting pipe with 6 clusters\n",
      "Fitting pipe with 7 clusters\n",
      "Fitting pipe with 8 clusters\n",
      "Fitting pipe with 9 clusters\n",
      "Fitting pipe with 10 clusters\n",
      "Fitting pipe with 11 clusters\n",
      "Elbow curve took 1 minutes.\n"
     ]
    }
   ],
   "source": [
    "sse = generate_clusters(processed_df, 2, 12)"
   ],
   "metadata": {
    "collapsed": false,
    "pycharm": {
     "name": "#%%\n"
    }
   }
  },
  {
   "cell_type": "code",
   "execution_count": 44,
   "outputs": [
    {
     "data": {
      "text/plain": "<Figure size 504x360 with 1 Axes>",
      "image/png": "[encoded data removed]"
     },
     "metadata": {
      "needs_background": "light"
     },
     "output_type": "display_data"
    }
   ],
   "source": [
    "plot_elbow(sse)"
   ],
   "metadata": {
    "collapsed": false,
    "pycharm": {
     "name": "#%%\n"
    }
   }
  },
  {
   "cell_type": "markdown",
   "source": [
    "## Processing"
   ],
   "metadata": {
    "collapsed": false,
    "pycharm": {
     "name": "#%% md\n"
    }
   }
  },
  {
   "cell_type": "code",
   "execution_count": 45,
   "outputs": [
    {
     "name": "stdout",
     "output_type": "stream",
     "text": [
      "Wall time: 10min 25s\n"
     ]
    }
   ],
   "source": [
    "%%time\n",
    "pipeline = Pipeline(steps=[\n",
    "    (\"FeatureGenerator\", FeatureGenerator(\"pk_cid\")),\n",
    "    (\"OutlierFilter\", OutlierFilter(q=0.90, col_to_filter=[\"salary_mean\", \"salary_last\"])),\n",
    "    (\"Scale\", MinMaxScaler()),\n",
    "    (\"Clustering\", KMeans(n_clusters=8))\n",
    "])\n",
    "\n",
    "processed_df = pipeline.fit(df)"
   ],
   "metadata": {
    "collapsed": false,
    "pycharm": {
     "name": "#%%\n"
    }
   }
  },
  {
   "cell_type": "code",
   "execution_count": null,
   "outputs": [],
   "source": [
    "%%time\n",
    "X_processed = pipeline[\"FeatureGenerator\"].transform(df)\n",
    "X_scaled = pipeline[\"Scale\"].transform(X_processed)\n",
    "\n",
    "print(f\"\"\"\n",
    "X_scaled.shape:    {X_scaled.shape}\n",
    "X_processed.shape: {X_processed.shape}\n",
    "\"\"\")\n",
    "\n",
    "labels = pipeline[\"Clustering\"].predict(X_scaled)\n",
    "X_processed[\"cluster\"] = labels"
   ],
   "metadata": {
    "collapsed": false,
    "pycharm": {
     "name": "#%%\n",
     "is_executing": true
    }
   }
  },
  {
   "cell_type": "markdown",
   "source": [
    "## Results observation"
   ],
   "metadata": {
    "collapsed": false,
    "pycharm": {
     "name": "#%% md\n"
    }
   }
  },
  {
   "cell_type": "code",
   "execution_count": null,
   "outputs": [],
   "source": [
    "clustering_result = X_processed.copy(deep=True)\n",
    "clustering_result.to_csv(f\"{__PROCESSED_DATA_PATH__}/clustering_result.csv\")\n",
    "clustering_result"
   ],
   "metadata": {
    "collapsed": false,
    "pycharm": {
     "name": "#%%\n",
     "is_executing": true
    }
   }
  },
  {
   "cell_type": "code",
   "execution_count": null,
   "outputs": [],
   "source": [
    "sns.pairplot(\n",
    "    clustering_result,\n",
    "    vars=[\"salary_mean\", \"age_mean\", \"active_customer_mean\"],\n",
    "    hue=\"cluster\",\n",
    "    height=5,\n",
    "    palette=\"deep\"\n",
    ")"
   ],
   "metadata": {
    "collapsed": false,
    "pycharm": {
     "name": "#%%\n",
     "is_executing": true
    }
   }
  },
  {
   "cell_type": "code",
   "execution_count": null,
   "outputs": [],
   "source": [
    "sns.scatterplot(data=clustering_result, x=\"age_mean\", y=\"salary_mean\", hue=\"cluster\", palette=\"deep\")"
   ],
   "metadata": {
    "collapsed": false,
    "pycharm": {
     "name": "#%%\n",
     "is_executing": true
    }
   }
  },
  {
   "cell_type": "code",
   "execution_count": null,
   "outputs": [],
   "source": [
    "cluster_gb = clustering_result.groupby(\"cluster\")\n",
    "\n",
    "cluster_report = cluster_gb.agg(\n",
    "    # active_customer\n",
    "    active_customer_mean=(\"active_customer_mean\", FeatureGenerator.get_mean),\n",
    "\n",
    "    # salary\n",
    "    # salary_min=(\"salary_mean\", np.min),\n",
    "    salary_mean=(\"salary_mean\", FeatureGenerator.get_mean),\n",
    "    # salary_max=(\"salary_mean\", np.max),\n",
    "\n",
    "    # age\n",
    "    age_mean=(\"age_mean\", FeatureGenerator.get_mean),\n",
    "\n",
    "    # short_term_deposit\n",
    "    short_term_deposit=(\"short_term_deposit\", FeatureGenerator.get_mean),\n",
    "\n",
    "    # em accounts\n",
    "    emc_account=(\"emc_account\", FeatureGenerator.get_mean),\n",
    "    em_account_p=(\"em_account_p\", FeatureGenerator.get_mean),\n",
    "    em_acount=(\"em_acount\", FeatureGenerator.get_mean),\n",
    "\n",
    "    # gender\n",
    "    gender=(\"gender\", FeatureGenerator.get_mean),\n",
    "\n",
    "    # segment\n",
    "    segment=(\"segment\", FeatureGenerator.get_mode),\n",
    "    segment_otros=(\"segment\", lambda s: np.sum(s == 0)),\n",
    "    segment_particulares=(\"segment\", lambda s: np.sum(s == 1)),\n",
    "    segment_universitarios=(\"segment\", lambda s: np.sum(s == 2)),\n",
    "    segment_top=(\"segment\", lambda s: np.sum(s == 3)),\n",
    "\n",
    "    # entry_channel\n",
    "    ec_khe=(\"ec_khe\", FeatureGenerator.get_mean),\n",
    "    ec_khq=(\"ec_khq\", FeatureGenerator.get_mean),\n",
    "    ec_others=(\"ec_others\", FeatureGenerator.get_mean),\n",
    "\n",
    "    # loans\n",
    "    loans=(\"loans\", FeatureGenerator.get_mean),\n",
    "\n",
    "    #mortgage\n",
    "    mortgage=(\"mortgage\", FeatureGenerator.get_mean),\n",
    "\n",
    "    #funds\n",
    "    funds=('funds', FeatureGenerator.get_mean),\n",
    "\n",
    "    #securities\n",
    "    securities=('securities', FeatureGenerator.get_mean),\n",
    "\n",
    "    #long_term_deposit\n",
    "    long_term_deposit=('long_term_deposit', FeatureGenerator.get_mean),\n",
    "\n",
    "    #credit/debit card\n",
    "    credit_card=('credit_card', FeatureGenerator.get_mean),\n",
    "    debit_card=('debit_card', FeatureGenerator.get_mean),\n",
    "\n",
    "    #payroll\n",
    "    payroll=('payroll', FeatureGenerator.get_mean),\n",
    "    payroll_account=('payroll_account', FeatureGenerator.get_mean),\n",
    "\n",
    "    #pension_plan\n",
    "    pension_plan=('pension_plan', FeatureGenerator.get_mean)\n",
    ")\n",
    "cluster_report.to_csv(f\"{__PROCESSED_DATA_PATH__}/cluster_df.csv\")\n",
    "\n",
    "cluster_size = cluster_gb.size().to_frame()\n",
    "cluster_size.columns = [\"cluster_size\"]\n",
    "\n",
    "cluster_report = cluster_size.T.append(cluster_report.T)\n",
    "cluster_report"
   ],
   "metadata": {
    "collapsed": false,
    "pycharm": {
     "name": "#%%\n",
     "is_executing": true
    }
   }
  },
  {
   "cell_type": "code",
   "execution_count": null,
   "outputs": [],
   "source": [
    "cluster_report.style.background_gradient(cmap='BuGn', axis=1)"
   ],
   "metadata": {
    "collapsed": false,
    "pycharm": {
     "name": "#%%\n",
     "is_executing": true
    }
   }
  }
 ],
 "metadata": {
  "kernelspec": {
   "display_name": "Python 3",
   "language": "python",
   "name": "python3"
  },
  "language_info": {
   "codemirror_mode": {
    "name": "ipython",
    "version": 2
   },
   "file_extension": ".py",
   "mimetype": "text/x-python",
   "name": "python",
   "nbconvert_exporter": "python",
   "pygments_lexer": "ipython2",
   "version": "2.7.6"
  }
 },
 "nbformat": 4,
 "nbformat_minor": 0
}