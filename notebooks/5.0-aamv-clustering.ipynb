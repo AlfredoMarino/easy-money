{
 "cells": [
  {
   "cell_type": "markdown",
   "metadata": {
    "collapsed": true,
    "pycharm": {
     "name": "#%% md\n"
    }
   },
   "source": [
    "# Clustering"
   ]
  },
  {
   "cell_type": "code",
   "execution_count": 8,
   "outputs": [],
   "source": [
    "import pandas as pd\n",
    "import numpy as np\n",
    "\n",
    "# time calculation to track some processes\n",
    "import time\n",
    "\n",
    "from sklearn.cluster import KMeans\n",
    "\n",
    "import matplotlib.pyplot as plt"
   ],
   "metadata": {
    "collapsed": false,
    "pycharm": {
     "name": "#%%\n"
    }
   }
  },
  {
   "cell_type": "code",
   "execution_count": 9,
   "outputs": [],
   "source": [
    "__PROCESSED_DATA_PATH__ = \"../data/processed\""
   ],
   "metadata": {
    "collapsed": false,
    "pycharm": {
     "name": "#%%\n"
    }
   }
  },
  {
   "cell_type": "markdown",
   "source": [
    "## Import data"
   ],
   "metadata": {
    "collapsed": false
   }
  },
  {
   "cell_type": "code",
   "execution_count": 10,
   "outputs": [
    {
     "data": {
      "text/plain": "(451809, 6)"
     },
     "execution_count": 10,
     "metadata": {},
     "output_type": "execute_result"
    }
   ],
   "source": [
    "df = pd.read_csv(f\"{__PROCESSED_DATA_PATH__}/easy_money_processed.csv\", index_col=\"pk_cid\")\n",
    "df.shape"
   ],
   "metadata": {
    "collapsed": false,
    "pycharm": {
     "name": "#%%\n"
    }
   }
  },
  {
   "cell_type": "code",
   "execution_count": 11,
   "outputs": [
    {
     "data": {
      "text/plain": "        active_customer_mean  active_customer_last    salary_mean  \\\npk_cid                                                              \n15891               0.500000                     0  115816.723704   \n16063               0.714286                     0  115816.723704   \n16203               0.833333                     1  115816.723704   \n16502               0.888889                     1  115816.723704   \n17457               1.000000                     1  102405.750000   \n\n          salary_last   age_mean  age_last  \npk_cid                                      \n15891   115816.723704  59.000000        59  \n16063   115816.723704  62.000000        62  \n16203   115816.723704  70.000000        70  \n16502   115816.723704  57.888889        58  \n17457   102405.750000  53.117647        54  ",
      "text/html": "<div>\n<style scoped>\n    .dataframe tbody tr th:only-of-type {\n        vertical-align: middle;\n    }\n\n    .dataframe tbody tr th {\n        vertical-align: top;\n    }\n\n    .dataframe thead th {\n        text-align: right;\n    }\n</style>\n<table border=\"1\" class=\"dataframe\">\n  <thead>\n    <tr style=\"text-align: right;\">\n      <th></th>\n      <th>active_customer_mean</th>\n      <th>active_customer_last</th>\n      <th>salary_mean</th>\n      <th>salary_last</th>\n      <th>age_mean</th>\n      <th>age_last</th>\n    </tr>\n    <tr>\n      <th>pk_cid</th>\n      <th></th>\n      <th></th>\n      <th></th>\n      <th></th>\n      <th></th>\n      <th></th>\n    </tr>\n  </thead>\n  <tbody>\n    <tr>\n      <th>15891</th>\n      <td>0.500000</td>\n      <td>0</td>\n      <td>115816.723704</td>\n      <td>115816.723704</td>\n      <td>59.000000</td>\n      <td>59</td>\n    </tr>\n    <tr>\n      <th>16063</th>\n      <td>0.714286</td>\n      <td>0</td>\n      <td>115816.723704</td>\n      <td>115816.723704</td>\n      <td>62.000000</td>\n      <td>62</td>\n    </tr>\n    <tr>\n      <th>16203</th>\n      <td>0.833333</td>\n      <td>1</td>\n      <td>115816.723704</td>\n      <td>115816.723704</td>\n      <td>70.000000</td>\n      <td>70</td>\n    </tr>\n    <tr>\n      <th>16502</th>\n      <td>0.888889</td>\n      <td>1</td>\n      <td>115816.723704</td>\n      <td>115816.723704</td>\n      <td>57.888889</td>\n      <td>58</td>\n    </tr>\n    <tr>\n      <th>17457</th>\n      <td>1.000000</td>\n      <td>1</td>\n      <td>102405.750000</td>\n      <td>102405.750000</td>\n      <td>53.117647</td>\n      <td>54</td>\n    </tr>\n  </tbody>\n</table>\n</div>"
     },
     "execution_count": 11,
     "metadata": {},
     "output_type": "execute_result"
    }
   ],
   "source": [
    "df.head()"
   ],
   "metadata": {
    "collapsed": false,
    "pycharm": {
     "name": "#%%\n"
    }
   }
  },
  {
   "cell_type": "code",
   "execution_count": 11,
   "outputs": [],
   "source": [],
   "metadata": {
    "collapsed": false,
    "pycharm": {
     "name": "#%%\n"
    }
   }
  },
  {
   "cell_type": "code",
   "execution_count": 11,
   "outputs": [],
   "source": [],
   "metadata": {
    "collapsed": false,
    "pycharm": {
     "name": "#%%\n"
    }
   }
  },
  {
   "cell_type": "code",
   "execution_count": 11,
   "outputs": [],
   "source": [],
   "metadata": {
    "collapsed": false,
    "pycharm": {
     "name": "#%%\n"
    }
   }
  },
  {
   "cell_type": "code",
   "execution_count": 12,
   "outputs": [],
   "source": [
    "def generate_clusters(min_cluster: int = 2, max_cluster: int = 10):\n",
    "    st = time.time()\n",
    "    sse = {}\n",
    "    for k in range(min_cluster, max_cluster):\n",
    "        print(f\"Fitting pipe with {k} clusters\")\n",
    "        _clustering_model = KMeans(n_clusters=k)\n",
    "        _clustering_model.fit(df)\n",
    "        sse[k] = _clustering_model.inertia_\n",
    "\n",
    "    et = time.time()\n",
    "    print(\"Elbow curve took {} minutes.\".format(round((et - st) / 60), 2))\n",
    "\n",
    "    return sse"
   ],
   "metadata": {
    "collapsed": false,
    "pycharm": {
     "name": "#%%\n"
    }
   }
  },
  {
   "cell_type": "code",
   "execution_count": 13,
   "outputs": [
    {
     "name": "stdout",
     "output_type": "stream",
     "text": [
      "Fitting pipe with 2 clusters\n",
      "Fitting pipe with 3 clusters\n",
      "Fitting pipe with 4 clusters\n",
      "Fitting pipe with 5 clusters\n",
      "Fitting pipe with 6 clusters\n",
      "Fitting pipe with 7 clusters\n",
      "Fitting pipe with 8 clusters\n",
      "Fitting pipe with 9 clusters\n",
      "Elbow curve took 1 minutes.\n"
     ]
    }
   ],
   "source": [
    "\n",
    "sse = generate_clusters(2, 10)\n",
    "\n"
   ],
   "metadata": {
    "collapsed": false,
    "pycharm": {
     "name": "#%%\n"
    }
   }
  },
  {
   "cell_type": "code",
   "execution_count": 14,
   "outputs": [
    {
     "data": {
      "text/plain": "<Figure size 1152x576 with 1 Axes>",
      "image/png": "[encoded data removed]"
     },
     "metadata": {
      "needs_background": "light"
     },
     "output_type": "display_data"
    }
   ],
   "source": [
    "def plot_elbow(sse):\n",
    "    fig = plt.figure(figsize=(16, 8))\n",
    "    ax = fig.add_subplot()\n",
    "\n",
    "    x_values = list(sse.keys())\n",
    "    y_values = list(sse.values())\n",
    "\n",
    "    ax.plot(x_values, y_values, label=\"Inertia/dispersión de los clústers\")\n",
    "    fig.suptitle(\"Variación de la dispersión de los clústers en función de la k\", fontsize=16)\n",
    "\n",
    "\n",
    "plot_elbow(sse)"
   ],
   "metadata": {
    "collapsed": false,
    "pycharm": {
     "name": "#%%\n"
    }
   }
  },
  {
   "cell_type": "code",
   "execution_count": 22,
   "outputs": [],
   "source": [
    "# creamos un dataframe escalado con los pasos 1 - 3 y 5\n",
    "# X_processed = pipe[:3].transform(df_final)\n",
    "# X_scaled = pipe[\"StandardScaler\"].transform(X_processed)\n",
    "\n",
    "# perdemos clientes por el paso 3: clientes con más de 1 pedido o pago, se acaba agrupando en 1 único registro.\n",
    "# X_scaled.shape"
   ],
   "metadata": {
    "collapsed": false,
    "pycharm": {
     "name": "#%%\n"
    }
   }
  },
  {
   "cell_type": "code",
   "execution_count": 23,
   "outputs": [
    {
     "ename": "TypeError",
     "evalue": "predict() missing 1 required positional argument: 'X'",
     "output_type": "error",
     "traceback": [
      "\u001B[1;31m---------------------------------------------------------------------------\u001B[0m",
      "\u001B[1;31mTypeError\u001B[0m                                 Traceback (most recent call last)",
      "\u001B[1;32m~\\AppData\\Local\\Temp/ipykernel_16304/1595671613.py\u001B[0m in \u001B[0;36m<module>\u001B[1;34m\u001B[0m\n\u001B[0;32m      5\u001B[0m \u001B[0mclustering_model\u001B[0m\u001B[1;33m.\u001B[0m\u001B[0mfit\u001B[0m\u001B[1;33m(\u001B[0m\u001B[0mdf\u001B[0m\u001B[1;33m)\u001B[0m\u001B[1;33m\u001B[0m\u001B[1;33m\u001B[0m\u001B[0m\n\u001B[0;32m      6\u001B[0m \u001B[1;33m\u001B[0m\u001B[0m\n\u001B[1;32m----> 7\u001B[1;33m \u001B[0mlabels\u001B[0m \u001B[1;33m=\u001B[0m \u001B[0mclustering_model\u001B[0m\u001B[1;33m.\u001B[0m\u001B[0mpredict\u001B[0m\u001B[1;33m(\u001B[0m\u001B[1;33m)\u001B[0m\u001B[1;33m\u001B[0m\u001B[1;33m\u001B[0m\u001B[0m\n\u001B[0m",
      "\u001B[1;31mTypeError\u001B[0m: predict() missing 1 required positional argument: 'X'"
     ]
    }
   ],
   "source": [
    "# hacemos el predict, en este caso tendremos para cada cliente su centroide/clúster.\n",
    "\n",
    "clustering_model = KMeans(n_clusters=4)\n",
    "\n",
    "clustering_model.fit(df)\n",
    "\n",
    "labels = clustering_model.predict()"
   ],
   "metadata": {
    "collapsed": false,
    "pycharm": {
     "name": "#%%\n"
    }
   }
  },
  {
   "cell_type": "code",
   "execution_count": null,
   "outputs": [],
   "source": [
    "# pipe[\"Clustering\"]"
   ],
   "metadata": {
    "collapsed": false,
    "pycharm": {
     "name": "#%%\n"
    }
   }
  },
  {
   "cell_type": "code",
   "execution_count": null,
   "outputs": [],
   "source": [
    "# le asignamos al DataFrame procesado los centroides.\n",
    "# SI LO HACEMOS AL ESCALADO LOS NÚMEROS PERDERAN SU SIGNIFICADO ESCALA Y SERÁN MÁS DÍFICILES DE INTERPRETAR.\n",
    "# X_processed[\"cluster\"] = labels"
   ],
   "metadata": {
    "collapsed": false,
    "pycharm": {
     "name": "#%%\n"
    }
   }
  },
  {
   "cell_type": "code",
   "execution_count": null,
   "outputs": [],
   "source": [
    "# X_processed.shape"
   ],
   "metadata": {
    "collapsed": false,
    "pycharm": {
     "name": "#%%\n"
    }
   }
  },
  {
   "cell_type": "code",
   "execution_count": null,
   "outputs": [],
   "source": [
    "# visualizamos nuestros grupos en base a las variables del modelo RFM, para ver que tal han quedado.\n",
    "# selected_columns = ['n_orders', 'amount', 'last_purchase']\n",
    "#\n",
    "# sns.pairplot(X_processed, vars=selected_columns, hue='cluster');"
   ],
   "metadata": {
    "collapsed": false,
    "pycharm": {
     "name": "#%%\n"
    }
   }
  },
  {
   "cell_type": "code",
   "execution_count": null,
   "outputs": [],
   "source": [],
   "metadata": {
    "collapsed": false,
    "pycharm": {
     "name": "#%%\n"
    }
   }
  }
 ],
 "metadata": {
  "kernelspec": {
   "display_name": "Python 3",
   "language": "python",
   "name": "python3"
  },
  "language_info": {
   "codemirror_mode": {
    "name": "ipython",
    "version": 2
   },
   "file_extension": ".py",
   "mimetype": "text/x-python",
   "name": "python",
   "nbconvert_exporter": "python",
   "pygments_lexer": "ipython2",
   "version": "2.7.6"
  }
 },
 "nbformat": 4,
 "nbformat_minor": 0
}