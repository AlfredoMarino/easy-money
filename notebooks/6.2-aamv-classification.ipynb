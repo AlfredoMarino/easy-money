{
 "cells": [
  {
   "cell_type": "markdown",
   "source": [
    "# Easy Money - Classification"
   ],
   "metadata": {
    "collapsed": false,
    "pycharm": {
     "name": "#%% md\n"
    }
   }
  },
  {
   "cell_type": "code",
   "execution_count": 1,
   "metadata": {
    "collapsed": true
   },
   "outputs": [],
   "source": [
    "import pandas as pd\n",
    "import numpy as np\n",
    "import matplotlib.pyplot as plt\n",
    "import seaborn as sns\n",
    "from datetime import datetime\n",
    "\n",
    "from sklearn.metrics import accuracy_score, precision_score, recall_score, f1_score, confusion_matrix, roc_auc_score, roc_curve\n",
    "from sklearn.base import BaseEstimator, TransformerMixin\n",
    "from sklearn.model_selection import train_test_split, GridSearchCV, RandomizedSearchCV\n",
    "from sklearn.pipeline import Pipeline\n",
    "from sklearn.preprocessing import StandardScaler\n",
    "\n",
    "# import xgboost as xgb\n",
    "from xgboost import XGBClassifier"
   ]
  },
  {
   "cell_type": "code",
   "execution_count": 2,
   "outputs": [],
   "source": [
    "__DATA_PATH__ = \"../data/processed\"\n",
    "__MODEL_METRICS_REPORT_PATH__ = \"../reports/model_evaluation_output.csv\"\n",
    "\n",
    "TARGET = \"credit_card\"\n",
    "\n",
    "DEV_PARTITION_PERIOD = (\"2018-01-28\", \"2019-02-28\")\n",
    "VAL_PARTITION_PERIOD = (\"2019-03-28\", \"2019-05-28\")\n",
    "\n",
    "EXCLUDE_COLUMNS = [\"pk_cid\", \"pk_partition\"]"
   ],
   "metadata": {
    "collapsed": false,
    "pycharm": {
     "name": "#%%\n"
    }
   }
  },
  {
   "cell_type": "markdown",
   "source": [
    "## Import data"
   ],
   "metadata": {
    "collapsed": false,
    "pycharm": {
     "name": "#%% md\n"
    }
   }
  },
  {
   "cell_type": "code",
   "execution_count": 3,
   "outputs": [],
   "source": [
    "dtypes = {'pk_cid': 'int64', 'active_customer': 'int8',\n",
    "          'region_code': 'int8', 'gender': 'int8', 'age': 'int8', 'deceased': 'int8',\n",
    "          'short_term_deposit': 'int8', 'loans': 'int8', 'mortgage': 'int8',\n",
    "          'funds': 'int8', 'securities': 'int8', 'long_term_deposit': 'int8',\n",
    "          'em_account_pp': 'int8', 'credit_card': 'int8', 'payroll': 'int8',\n",
    "          'pension_plan': 'int8', 'payroll_account': 'int8', 'emc_account': 'int8',\n",
    "          'debit_card': 'int8', 'em_account_p': 'int8', 'em_acount': 'int8',\n",
    "          'entry_date_month': 'int8', 'entry_date_year': 'int8', 'entry_date_day': 'int8',\n",
    "          'entry_date_week': 'int8', 'entry_date_weekday': 'int8', 'entry_date_trim': 'int8',\n",
    "          'salary': 'float64', 'entry_channel_004': 'int8', 'entry_channel_007': 'int8',\n",
    "          'entry_channel_013': 'int8', 'entry_channel_KAA': 'int8', 'entry_channel_KAB': 'int8',\n",
    "          'entry_channel_KAD': 'int8', 'entry_channel_KAE': 'int8', 'entry_channel_KAF': 'int8',\n",
    "          'entry_channel_KAG': 'int8', 'entry_channel_KAH': 'int8', 'entry_channel_KAI': 'int8',\n",
    "          'entry_channel_KAJ': 'int8', 'entry_channel_KAK': 'int8', 'entry_channel_KAM': 'int8',\n",
    "          'entry_channel_KAQ': 'int8', 'entry_channel_KAR': 'int8', 'entry_channel_KAS': 'int8',\n",
    "          'entry_channel_KAT': 'int8', 'entry_channel_KAW': 'int8', 'entry_channel_KAY': 'int8',\n",
    "          'entry_channel_KAZ': 'int8', 'entry_channel_KBE': 'int8', 'entry_channel_KBG': 'int8',\n",
    "          'entry_channel_KBH': 'int8', 'entry_channel_KBO': 'int8', 'entry_channel_KBU': 'int8',\n",
    "          'entry_channel_KBW': 'int8', 'entry_channel_KBY': 'int8', 'entry_channel_KBZ': 'int8',\n",
    "          'entry_channel_KCB': 'int8', 'entry_channel_KCC': 'int8', 'entry_channel_KCH': 'int8',\n",
    "          'entry_channel_KCI': 'int8', 'entry_channel_KCK': 'int8', 'entry_channel_KCL': 'int8',\n",
    "          'entry_channel_KDA': 'int8', 'entry_channel_KDH': 'int8', 'entry_channel_KDR': 'int8',\n",
    "          'entry_channel_KDS': 'int8', 'entry_channel_KDT': 'int8', 'entry_channel_KEH': 'int8',\n",
    "          'entry_channel_KEJ': 'int8', 'entry_channel_KES': 'int8', 'entry_channel_KEY': 'int8',\n",
    "          'entry_channel_KFA': 'int8', 'entry_channel_KFC': 'int8', 'entry_channel_KFD': 'int8',\n",
    "          'entry_channel_KFF': 'int8', 'entry_channel_KFK': 'int8', 'entry_channel_KFL': 'int8',\n",
    "          'entry_channel_KFP': 'int8', 'entry_channel_KFS': 'int8', 'entry_channel_KGC': 'int8',\n",
    "          'entry_channel_KGN': 'int8', 'entry_channel_KGX': 'int8', 'entry_channel_KHC': 'int8',\n",
    "          'entry_channel_KHD': 'int8', 'entry_channel_KHE': 'int8', 'entry_channel_KHF': 'int8',\n",
    "          'entry_channel_KHK': 'int8', 'entry_channel_KHL': 'int8', 'entry_channel_KHM': 'int8',\n",
    "          'entry_channel_KHN': 'int8', 'entry_channel_KHO': 'int8', 'entry_channel_KHP': 'int8',\n",
    "          'entry_channel_KHQ': 'int8', 'entry_channel_KHS': 'int8', 'entry_channel_RED': 'int8',\n",
    "          'entry_channel_UNKNOWN': 'int8', 'segment_00 - OTROS': 'int8',\n",
    "          'segment_01 - TOP': 'int8', 'segment_02 - PARTICULARES': 'int8',\n",
    "          'segment_03 - UNIVERSITARIO': 'int8', 'country_id_AR': 'int8', 'country_id_AT': 'int8',\n",
    "          'country_id_BE': 'int8', 'country_id_BR': 'int8', 'country_id_CA': 'int8',\n",
    "          'country_id_CH': 'int8', 'country_id_CI': 'int8', 'country_id_CL': 'int8',\n",
    "          'country_id_CM': 'int8', 'country_id_CN': 'int8', 'country_id_CO': 'int8',\n",
    "          'country_id_DE': 'int8', 'country_id_DJ': 'int8', 'country_id_DO': 'int8',\n",
    "          'country_id_DZ': 'int8', 'country_id_ES': 'int8', 'country_id_ET': 'int8',\n",
    "          'country_id_FR': 'int8', 'country_id_GA': 'int8', 'country_id_GB': 'int8',\n",
    "          'country_id_GT': 'int8', 'country_id_HU': 'int8', 'country_id_IE': 'int8',\n",
    "          'country_id_IT': 'int8', 'country_id_JM': 'int8', 'country_id_LU': 'int8',\n",
    "          'country_id_MA': 'int8', 'country_id_MR': 'int8', 'country_id_MX': 'int8',\n",
    "          'country_id_NO': 'int8', 'country_id_PE': 'int8', 'country_id_PL': 'int8',\n",
    "          'country_id_PT': 'int8', 'country_id_QA': 'int8', 'country_id_RO': 'int8',\n",
    "          'country_id_RU': 'int8', 'country_id_SA': 'int8', 'country_id_SE': 'int8',\n",
    "          'country_id_SN': 'int8', 'country_id_US': 'int8', 'country_id_VE': 'int8'}\n",
    "\n",
    "parse_dates = ['pk_partition']"
   ],
   "metadata": {
    "collapsed": false,
    "pycharm": {
     "name": "#%%\n"
    }
   }
  },
  {
   "cell_type": "code",
   "execution_count": 4,
   "outputs": [
    {
     "name": "stdout",
     "output_type": "stream",
     "text": [
      "<class 'pandas.core.frame.DataFrame'>\n",
      "RangeIndex: 5962838 entries, 0 to 5962837\n",
      "Columns: 143 entries, pk_cid to country_id_VE\n",
      "dtypes: datetime64[ns](1), float64(1), int64(1), int8(140)\n",
      "memory usage: 932.6 MB\n",
      "Wall time: 40.5 s\n"
     ]
    }
   ],
   "source": [
    "%%time\n",
    "df = pd.read_csv(f\"{__DATA_PATH__}/easy_money_classification.csv\", dtype=dtypes, parse_dates=parse_dates)\n",
    "df.drop(\"Unnamed: 0\", axis=1, inplace=True)\n",
    "df.drop(\"entry_date\", axis=1, inplace=True)\n",
    "df[\"pk_partition\"] = pd.to_datetime(df[\"pk_partition\"])\n",
    "df.info(memory_usage=\"deep\")"
   ],
   "metadata": {
    "collapsed": false,
    "pycharm": {
     "name": "#%%\n"
    }
   }
  },
  {
   "cell_type": "code",
   "execution_count": 5,
   "outputs": [
    {
     "data": {
      "text/plain": "    pk_cid pk_partition  active_customer  region_code  gender  age  deceased  \\\n0    15891   2018-07-28                1           28       1   59         0   \n1    15891   2018-08-28                0           28       1   59         0   \n2    16063   2018-11-28                1           28       1   62         0   \n3    16063   2018-12-28                1           28       1   62         0   \n4    16063   2019-01-28                1           28       1   62         0   \n5    16063   2019-02-28                1           28       1   62         0   \n6    16063   2019-03-28                0           28       1   62         0   \n7    16063   2019-04-28                1           28       1   62         0   \n8    16063   2019-05-28                0           28       1   62         0   \n9    16203   2018-12-28                0            8       0   70         0   \n10   16203   2019-01-28                1            8       0   70         0   \n11   16203   2019-02-28                1            8       0   70         0   \n12   16203   2019-03-28                1            8       0   70         0   \n13   16203   2019-04-28                1            8       0   70         0   \n14   16203   2019-05-28                1            8       0   70         0   \n15   16502   2018-09-28                0           28       1   57         0   \n16   16502   2018-10-28                1           28       1   58         0   \n17   16502   2018-11-28                1           28       1   58         0   \n18   16502   2018-12-28                1           28       1   58         0   \n19   16502   2019-01-28                1           28       1   58         0   \n\n    short_term_deposit  loans  mortgage  ...  country_id_PL  country_id_PT  \\\n0                    0      0         0  ...              0              0   \n1                    0      0         0  ...              0              0   \n2                    0      0         0  ...              0              0   \n3                    0      0         0  ...              0              0   \n4                    0      0         0  ...              0              0   \n5                    0      0         0  ...              0              0   \n6                    0      0         0  ...              0              0   \n7                    0      0         0  ...              0              0   \n8                    0      0         0  ...              0              0   \n9                    0      0         0  ...              0              0   \n10                   0      0         0  ...              0              0   \n11                   0      0         0  ...              0              0   \n12                   0      0         0  ...              0              0   \n13                   0      0         0  ...              0              0   \n14                   0      0         0  ...              0              0   \n15                   0      0         0  ...              0              0   \n16                   0      0         0  ...              0              0   \n17                   0      0         0  ...              0              0   \n18                   0      0         0  ...              0              0   \n19                   0      0         0  ...              0              0   \n\n    country_id_QA  country_id_RO  country_id_RU  country_id_SA  country_id_SE  \\\n0               0              0              0              0              0   \n1               0              0              0              0              0   \n2               0              0              0              0              0   \n3               0              0              0              0              0   \n4               0              0              0              0              0   \n5               0              0              0              0              0   \n6               0              0              0              0              0   \n7               0              0              0              0              0   \n8               0              0              0              0              0   \n9               0              0              0              0              0   \n10              0              0              0              0              0   \n11              0              0              0              0              0   \n12              0              0              0              0              0   \n13              0              0              0              0              0   \n14              0              0              0              0              0   \n15              0              0              0              0              0   \n16              0              0              0              0              0   \n17              0              0              0              0              0   \n18              0              0              0              0              0   \n19              0              0              0              0              0   \n\n    country_id_SN  country_id_US  country_id_VE  \n0               0              0              0  \n1               0              0              0  \n2               0              0              0  \n3               0              0              0  \n4               0              0              0  \n5               0              0              0  \n6               0              0              0  \n7               0              0              0  \n8               0              0              0  \n9               0              0              0  \n10              0              0              0  \n11              0              0              0  \n12              0              0              0  \n13              0              0              0  \n14              0              0              0  \n15              0              0              0  \n16              0              0              0  \n17              0              0              0  \n18              0              0              0  \n19              0              0              0  \n\n[20 rows x 143 columns]",
      "text/html": "<div>\n<style scoped>\n    .dataframe tbody tr th:only-of-type {\n        vertical-align: middle;\n    }\n\n    .dataframe tbody tr th {\n        vertical-align: top;\n    }\n\n    .dataframe thead th {\n        text-align: right;\n    }\n</style>\n<table border=\"1\" class=\"dataframe\">\n  <thead>\n    <tr style=\"text-align: right;\">\n      <th></th>\n      <th>pk_cid</th>\n      <th>pk_partition</th>\n      <th>active_customer</th>\n      <th>region_code</th>\n      <th>gender</th>\n      <th>age</th>\n      <th>deceased</th>\n      <th>short_term_deposit</th>\n      <th>loans</th>\n      <th>mortgage</th>\n      <th>...</th>\n      <th>country_id_PL</th>\n      <th>country_id_PT</th>\n      <th>country_id_QA</th>\n      <th>country_id_RO</th>\n      <th>country_id_RU</th>\n      <th>country_id_SA</th>\n      <th>country_id_SE</th>\n      <th>country_id_SN</th>\n      <th>country_id_US</th>\n      <th>country_id_VE</th>\n    </tr>\n  </thead>\n  <tbody>\n    <tr>\n      <th>0</th>\n      <td>15891</td>\n      <td>2018-07-28</td>\n      <td>1</td>\n      <td>28</td>\n      <td>1</td>\n      <td>59</td>\n      <td>0</td>\n      <td>0</td>\n      <td>0</td>\n      <td>0</td>\n      <td>...</td>\n      <td>0</td>\n      <td>0</td>\n      <td>0</td>\n      <td>0</td>\n      <td>0</td>\n      <td>0</td>\n      <td>0</td>\n      <td>0</td>\n      <td>0</td>\n      <td>0</td>\n    </tr>\n    <tr>\n      <th>1</th>\n      <td>15891</td>\n      <td>2018-08-28</td>\n      <td>0</td>\n      <td>28</td>\n      <td>1</td>\n      <td>59</td>\n      <td>0</td>\n      <td>0</td>\n      <td>0</td>\n      <td>0</td>\n      <td>...</td>\n      <td>0</td>\n      <td>0</td>\n      <td>0</td>\n      <td>0</td>\n      <td>0</td>\n      <td>0</td>\n      <td>0</td>\n      <td>0</td>\n      <td>0</td>\n      <td>0</td>\n    </tr>\n    <tr>\n      <th>2</th>\n      <td>16063</td>\n      <td>2018-11-28</td>\n      <td>1</td>\n      <td>28</td>\n      <td>1</td>\n      <td>62</td>\n      <td>0</td>\n      <td>0</td>\n      <td>0</td>\n      <td>0</td>\n      <td>...</td>\n      <td>0</td>\n      <td>0</td>\n      <td>0</td>\n      <td>0</td>\n      <td>0</td>\n      <td>0</td>\n      <td>0</td>\n      <td>0</td>\n      <td>0</td>\n      <td>0</td>\n    </tr>\n    <tr>\n      <th>3</th>\n      <td>16063</td>\n      <td>2018-12-28</td>\n      <td>1</td>\n      <td>28</td>\n      <td>1</td>\n      <td>62</td>\n      <td>0</td>\n      <td>0</td>\n      <td>0</td>\n      <td>0</td>\n      <td>...</td>\n      <td>0</td>\n      <td>0</td>\n      <td>0</td>\n      <td>0</td>\n      <td>0</td>\n      <td>0</td>\n      <td>0</td>\n      <td>0</td>\n      <td>0</td>\n      <td>0</td>\n    </tr>\n    <tr>\n      <th>4</th>\n      <td>16063</td>\n      <td>2019-01-28</td>\n      <td>1</td>\n      <td>28</td>\n      <td>1</td>\n      <td>62</td>\n      <td>0</td>\n      <td>0</td>\n      <td>0</td>\n      <td>0</td>\n      <td>...</td>\n      <td>0</td>\n      <td>0</td>\n      <td>0</td>\n      <td>0</td>\n      <td>0</td>\n      <td>0</td>\n      <td>0</td>\n      <td>0</td>\n      <td>0</td>\n      <td>0</td>\n    </tr>\n    <tr>\n      <th>5</th>\n      <td>16063</td>\n      <td>2019-02-28</td>\n      <td>1</td>\n      <td>28</td>\n      <td>1</td>\n      <td>62</td>\n      <td>0</td>\n      <td>0</td>\n      <td>0</td>\n      <td>0</td>\n      <td>...</td>\n      <td>0</td>\n      <td>0</td>\n      <td>0</td>\n      <td>0</td>\n      <td>0</td>\n      <td>0</td>\n      <td>0</td>\n      <td>0</td>\n      <td>0</td>\n      <td>0</td>\n    </tr>\n    <tr>\n      <th>6</th>\n      <td>16063</td>\n      <td>2019-03-28</td>\n      <td>0</td>\n      <td>28</td>\n      <td>1</td>\n      <td>62</td>\n      <td>0</td>\n      <td>0</td>\n      <td>0</td>\n      <td>0</td>\n      <td>...</td>\n      <td>0</td>\n      <td>0</td>\n      <td>0</td>\n      <td>0</td>\n      <td>0</td>\n      <td>0</td>\n      <td>0</td>\n      <td>0</td>\n      <td>0</td>\n      <td>0</td>\n    </tr>\n    <tr>\n      <th>7</th>\n      <td>16063</td>\n      <td>2019-04-28</td>\n      <td>1</td>\n      <td>28</td>\n      <td>1</td>\n      <td>62</td>\n      <td>0</td>\n      <td>0</td>\n      <td>0</td>\n      <td>0</td>\n      <td>...</td>\n      <td>0</td>\n      <td>0</td>\n      <td>0</td>\n      <td>0</td>\n      <td>0</td>\n      <td>0</td>\n      <td>0</td>\n      <td>0</td>\n      <td>0</td>\n      <td>0</td>\n    </tr>\n    <tr>\n      <th>8</th>\n      <td>16063</td>\n      <td>2019-05-28</td>\n      <td>0</td>\n      <td>28</td>\n      <td>1</td>\n      <td>62</td>\n      <td>0</td>\n      <td>0</td>\n      <td>0</td>\n      <td>0</td>\n      <td>...</td>\n      <td>0</td>\n      <td>0</td>\n      <td>0</td>\n      <td>0</td>\n      <td>0</td>\n      <td>0</td>\n      <td>0</td>\n      <td>0</td>\n      <td>0</td>\n      <td>0</td>\n    </tr>\n    <tr>\n      <th>9</th>\n      <td>16203</td>\n      <td>2018-12-28</td>\n      <td>0</td>\n      <td>8</td>\n      <td>0</td>\n      <td>70</td>\n      <td>0</td>\n      <td>0</td>\n      <td>0</td>\n      <td>0</td>\n      <td>...</td>\n      <td>0</td>\n      <td>0</td>\n      <td>0</td>\n      <td>0</td>\n      <td>0</td>\n      <td>0</td>\n      <td>0</td>\n      <td>0</td>\n      <td>0</td>\n      <td>0</td>\n    </tr>\n    <tr>\n      <th>10</th>\n      <td>16203</td>\n      <td>2019-01-28</td>\n      <td>1</td>\n      <td>8</td>\n      <td>0</td>\n      <td>70</td>\n      <td>0</td>\n      <td>0</td>\n      <td>0</td>\n      <td>0</td>\n      <td>...</td>\n      <td>0</td>\n      <td>0</td>\n      <td>0</td>\n      <td>0</td>\n      <td>0</td>\n      <td>0</td>\n      <td>0</td>\n      <td>0</td>\n      <td>0</td>\n      <td>0</td>\n    </tr>\n    <tr>\n      <th>11</th>\n      <td>16203</td>\n      <td>2019-02-28</td>\n      <td>1</td>\n      <td>8</td>\n      <td>0</td>\n      <td>70</td>\n      <td>0</td>\n      <td>0</td>\n      <td>0</td>\n      <td>0</td>\n      <td>...</td>\n      <td>0</td>\n      <td>0</td>\n      <td>0</td>\n      <td>0</td>\n      <td>0</td>\n      <td>0</td>\n      <td>0</td>\n      <td>0</td>\n      <td>0</td>\n      <td>0</td>\n    </tr>\n    <tr>\n      <th>12</th>\n      <td>16203</td>\n      <td>2019-03-28</td>\n      <td>1</td>\n      <td>8</td>\n      <td>0</td>\n      <td>70</td>\n      <td>0</td>\n      <td>0</td>\n      <td>0</td>\n      <td>0</td>\n      <td>...</td>\n      <td>0</td>\n      <td>0</td>\n      <td>0</td>\n      <td>0</td>\n      <td>0</td>\n      <td>0</td>\n      <td>0</td>\n      <td>0</td>\n      <td>0</td>\n      <td>0</td>\n    </tr>\n    <tr>\n      <th>13</th>\n      <td>16203</td>\n      <td>2019-04-28</td>\n      <td>1</td>\n      <td>8</td>\n      <td>0</td>\n      <td>70</td>\n      <td>0</td>\n      <td>0</td>\n      <td>0</td>\n      <td>0</td>\n      <td>...</td>\n      <td>0</td>\n      <td>0</td>\n      <td>0</td>\n      <td>0</td>\n      <td>0</td>\n      <td>0</td>\n      <td>0</td>\n      <td>0</td>\n      <td>0</td>\n      <td>0</td>\n    </tr>\n    <tr>\n      <th>14</th>\n      <td>16203</td>\n      <td>2019-05-28</td>\n      <td>1</td>\n      <td>8</td>\n      <td>0</td>\n      <td>70</td>\n      <td>0</td>\n      <td>0</td>\n      <td>0</td>\n      <td>0</td>\n      <td>...</td>\n      <td>0</td>\n      <td>0</td>\n      <td>0</td>\n      <td>0</td>\n      <td>0</td>\n      <td>0</td>\n      <td>0</td>\n      <td>0</td>\n      <td>0</td>\n      <td>0</td>\n    </tr>\n    <tr>\n      <th>15</th>\n      <td>16502</td>\n      <td>2018-09-28</td>\n      <td>0</td>\n      <td>28</td>\n      <td>1</td>\n      <td>57</td>\n      <td>0</td>\n      <td>0</td>\n      <td>0</td>\n      <td>0</td>\n      <td>...</td>\n      <td>0</td>\n      <td>0</td>\n      <td>0</td>\n      <td>0</td>\n      <td>0</td>\n      <td>0</td>\n      <td>0</td>\n      <td>0</td>\n      <td>0</td>\n      <td>0</td>\n    </tr>\n    <tr>\n      <th>16</th>\n      <td>16502</td>\n      <td>2018-10-28</td>\n      <td>1</td>\n      <td>28</td>\n      <td>1</td>\n      <td>58</td>\n      <td>0</td>\n      <td>0</td>\n      <td>0</td>\n      <td>0</td>\n      <td>...</td>\n      <td>0</td>\n      <td>0</td>\n      <td>0</td>\n      <td>0</td>\n      <td>0</td>\n      <td>0</td>\n      <td>0</td>\n      <td>0</td>\n      <td>0</td>\n      <td>0</td>\n    </tr>\n    <tr>\n      <th>17</th>\n      <td>16502</td>\n      <td>2018-11-28</td>\n      <td>1</td>\n      <td>28</td>\n      <td>1</td>\n      <td>58</td>\n      <td>0</td>\n      <td>0</td>\n      <td>0</td>\n      <td>0</td>\n      <td>...</td>\n      <td>0</td>\n      <td>0</td>\n      <td>0</td>\n      <td>0</td>\n      <td>0</td>\n      <td>0</td>\n      <td>0</td>\n      <td>0</td>\n      <td>0</td>\n      <td>0</td>\n    </tr>\n    <tr>\n      <th>18</th>\n      <td>16502</td>\n      <td>2018-12-28</td>\n      <td>1</td>\n      <td>28</td>\n      <td>1</td>\n      <td>58</td>\n      <td>0</td>\n      <td>0</td>\n      <td>0</td>\n      <td>0</td>\n      <td>...</td>\n      <td>0</td>\n      <td>0</td>\n      <td>0</td>\n      <td>0</td>\n      <td>0</td>\n      <td>0</td>\n      <td>0</td>\n      <td>0</td>\n      <td>0</td>\n      <td>0</td>\n    </tr>\n    <tr>\n      <th>19</th>\n      <td>16502</td>\n      <td>2019-01-28</td>\n      <td>1</td>\n      <td>28</td>\n      <td>1</td>\n      <td>58</td>\n      <td>0</td>\n      <td>0</td>\n      <td>0</td>\n      <td>0</td>\n      <td>...</td>\n      <td>0</td>\n      <td>0</td>\n      <td>0</td>\n      <td>0</td>\n      <td>0</td>\n      <td>0</td>\n      <td>0</td>\n      <td>0</td>\n      <td>0</td>\n      <td>0</td>\n    </tr>\n  </tbody>\n</table>\n<p>20 rows × 143 columns</p>\n</div>"
     },
     "execution_count": 5,
     "metadata": {},
     "output_type": "execute_result"
    }
   ],
   "source": [
    "df.head(20)"
   ],
   "metadata": {
    "collapsed": false,
    "pycharm": {
     "name": "#%%\n"
    }
   }
  },
  {
   "cell_type": "code",
   "execution_count": 6,
   "outputs": [
    {
     "data": {
      "text/plain": "                     count          mean            std      min        25%  \\\npk_cid           5962838.0  1.234933e+06  162293.085772  15891.0  1112533.0   \nactive_customer  5962838.0  4.033799e-01       0.490576      0.0        0.0   \nregion_code      5962838.0  2.580417e+01      13.603136     -1.0       13.0   \ngender           5962838.0  5.177870e-01       0.499684      0.0        0.0   \nage              5962838.0  2.976015e+01      11.980074      2.0       22.0   \n...                    ...           ...            ...      ...        ...   \ncountry_id_SA    5962838.0  2.850991e-06       0.001688      0.0        0.0   \ncountry_id_SE    5962838.0  2.683286e-06       0.001638      0.0        0.0   \ncountry_id_SN    5962838.0  2.850991e-06       0.001688      0.0        0.0   \ncountry_id_US    5962838.0  3.270255e-05       0.005719      0.0        0.0   \ncountry_id_VE    5962838.0  1.324872e-05       0.003640      0.0        0.0   \n\n                       50%         75%        max  \npk_cid           1231097.0  1352339.75  1553689.0  \nactive_customer        0.0        1.00        1.0  \nregion_code           28.0       36.00       52.0  \ngender                 1.0        1.00        1.0  \nage                   25.0       34.00      105.0  \n...                    ...         ...        ...  \ncountry_id_SA          0.0        0.00        1.0  \ncountry_id_SE          0.0        0.00        1.0  \ncountry_id_SN          0.0        0.00        1.0  \ncountry_id_US          0.0        0.00        1.0  \ncountry_id_VE          0.0        0.00        1.0  \n\n[142 rows x 8 columns]",
      "text/html": "<div>\n<style scoped>\n    .dataframe tbody tr th:only-of-type {\n        vertical-align: middle;\n    }\n\n    .dataframe tbody tr th {\n        vertical-align: top;\n    }\n\n    .dataframe thead th {\n        text-align: right;\n    }\n</style>\n<table border=\"1\" class=\"dataframe\">\n  <thead>\n    <tr style=\"text-align: right;\">\n      <th></th>\n      <th>count</th>\n      <th>mean</th>\n      <th>std</th>\n      <th>min</th>\n      <th>25%</th>\n      <th>50%</th>\n      <th>75%</th>\n      <th>max</th>\n    </tr>\n  </thead>\n  <tbody>\n    <tr>\n      <th>pk_cid</th>\n      <td>5962838.0</td>\n      <td>1.234933e+06</td>\n      <td>162293.085772</td>\n      <td>15891.0</td>\n      <td>1112533.0</td>\n      <td>1231097.0</td>\n      <td>1352339.75</td>\n      <td>1553689.0</td>\n    </tr>\n    <tr>\n      <th>active_customer</th>\n      <td>5962838.0</td>\n      <td>4.033799e-01</td>\n      <td>0.490576</td>\n      <td>0.0</td>\n      <td>0.0</td>\n      <td>0.0</td>\n      <td>1.00</td>\n      <td>1.0</td>\n    </tr>\n    <tr>\n      <th>region_code</th>\n      <td>5962838.0</td>\n      <td>2.580417e+01</td>\n      <td>13.603136</td>\n      <td>-1.0</td>\n      <td>13.0</td>\n      <td>28.0</td>\n      <td>36.00</td>\n      <td>52.0</td>\n    </tr>\n    <tr>\n      <th>gender</th>\n      <td>5962838.0</td>\n      <td>5.177870e-01</td>\n      <td>0.499684</td>\n      <td>0.0</td>\n      <td>0.0</td>\n      <td>1.0</td>\n      <td>1.00</td>\n      <td>1.0</td>\n    </tr>\n    <tr>\n      <th>age</th>\n      <td>5962838.0</td>\n      <td>2.976015e+01</td>\n      <td>11.980074</td>\n      <td>2.0</td>\n      <td>22.0</td>\n      <td>25.0</td>\n      <td>34.00</td>\n      <td>105.0</td>\n    </tr>\n    <tr>\n      <th>...</th>\n      <td>...</td>\n      <td>...</td>\n      <td>...</td>\n      <td>...</td>\n      <td>...</td>\n      <td>...</td>\n      <td>...</td>\n      <td>...</td>\n    </tr>\n    <tr>\n      <th>country_id_SA</th>\n      <td>5962838.0</td>\n      <td>2.850991e-06</td>\n      <td>0.001688</td>\n      <td>0.0</td>\n      <td>0.0</td>\n      <td>0.0</td>\n      <td>0.00</td>\n      <td>1.0</td>\n    </tr>\n    <tr>\n      <th>country_id_SE</th>\n      <td>5962838.0</td>\n      <td>2.683286e-06</td>\n      <td>0.001638</td>\n      <td>0.0</td>\n      <td>0.0</td>\n      <td>0.0</td>\n      <td>0.00</td>\n      <td>1.0</td>\n    </tr>\n    <tr>\n      <th>country_id_SN</th>\n      <td>5962838.0</td>\n      <td>2.850991e-06</td>\n      <td>0.001688</td>\n      <td>0.0</td>\n      <td>0.0</td>\n      <td>0.0</td>\n      <td>0.00</td>\n      <td>1.0</td>\n    </tr>\n    <tr>\n      <th>country_id_US</th>\n      <td>5962838.0</td>\n      <td>3.270255e-05</td>\n      <td>0.005719</td>\n      <td>0.0</td>\n      <td>0.0</td>\n      <td>0.0</td>\n      <td>0.00</td>\n      <td>1.0</td>\n    </tr>\n    <tr>\n      <th>country_id_VE</th>\n      <td>5962838.0</td>\n      <td>1.324872e-05</td>\n      <td>0.003640</td>\n      <td>0.0</td>\n      <td>0.0</td>\n      <td>0.0</td>\n      <td>0.00</td>\n      <td>1.0</td>\n    </tr>\n  </tbody>\n</table>\n<p>142 rows × 8 columns</p>\n</div>"
     },
     "execution_count": 6,
     "metadata": {},
     "output_type": "execute_result"
    }
   ],
   "source": [
    "df.describe().T"
   ],
   "metadata": {
    "collapsed": false,
    "pycharm": {
     "name": "#%%\n"
    }
   }
  },
  {
   "cell_type": "markdown",
   "source": [
    "## Classes"
   ],
   "metadata": {
    "collapsed": false,
    "pycharm": {
     "name": "#%% md\n"
    }
   }
  },
  {
   "cell_type": "code",
   "execution_count": 78,
   "outputs": [],
   "source": [
    "class EasyMoneyFilter(BaseEstimator, TransformerMixin):\n",
    "\n",
    "    def __init__(self, target: str, group_by=\"pk_cid\", sort_value=None):\n",
    "        if sort_value is None:\n",
    "            sort_value = [\"pk_cid\", \"pk_partition\"]\n",
    "        self.target = target\n",
    "        self.group_by = group_by\n",
    "        self.sort_values = sort_value\n",
    "\n",
    "    def fit(self, X, y=None):\n",
    "        return self\n",
    "\n",
    "    def transform(self, X, y=None):\n",
    "        return pd.concat([\n",
    "            self.get_fist_sales(X),\n",
    "            self.get_last_no_sales(X)\n",
    "        ]).sort_values(self.sort_values, ignore_index=True)\n",
    "\n",
    "    def get_fist_sales(self, X) -> pd.DataFrame:\n",
    "        first_sale = X.groupby([self.group_by, self.target]).first().reset_index()\n",
    "        return first_sale[first_sale[self.target] == 1]\n",
    "\n",
    "    def get_last_no_sales(self, X) -> pd.DataFrame:\n",
    "        last_no_sale = X.groupby([self.group_by, self.target]).last().reset_index()\n",
    "        return last_no_sale[last_no_sale[self.target] == 0]\n",
    "\n",
    "\n",
    "class EasyMoneySplitter:\n",
    "\n",
    "    def __init__(self, dev_partition_period: tuple, val_partition_period: tuple, exclude_columns):\n",
    "        self.dev_partition_period = dev_partition_period\n",
    "        self.val_partition_period = val_partition_period\n",
    "        self.exclude_columns = exclude_columns\n",
    "\n",
    "    def get_train_partition(self, dataframe: pd.DataFrame) -> pd.DataFrame:\n",
    "        return self._get_partition(dataframe, self.dev_partition_period[0], self.dev_partition_period[1])\n",
    "\n",
    "    def get_validation_partition(self, dataframe: pd.DataFrame) -> pd.DataFrame:\n",
    "        return self._get_partition(dataframe, self.val_partition_period[0], self.val_partition_period[1])\n",
    "\n",
    "    def _get_partition(self, dataframe: pd.DataFrame, from_date, to_date) -> pd.DataFrame:\n",
    "        partition = self._split(dataframe, from_date, to_date)\n",
    "        return partition.drop(self.exclude_columns, axis=1)\n",
    "\n",
    "    def _split(self, dataframe: pd.DataFrame, from_date, to_date) -> pd.DataFrame:\n",
    "        return dataframe[dataframe[\"pk_partition\"].between(from_date, to_date)].reset_index(drop=True)\n",
    "\n",
    "\n",
    "class Reporter:\n",
    "\n",
    "    def __init__(self, output_file):\n",
    "        self.output_file = output_file\n",
    "        try:\n",
    "            self.output_df = pd.read_csv(self.output_file, index_col=0)\n",
    "            self.output_df[\"date\"] = pd.to_datetime(self.output_df[\"date\"])\n",
    "        except FileNotFoundError:\n",
    "            self.output_df = pd.DataFrame(columns=[\n",
    "                \"target\",\n",
    "                \"target_mean\",\n",
    "                \"date\",\n",
    "                \"is_overfitted\",\n",
    "                \"roc_auc_train\",\n",
    "                \"roc_auc_test\",\n",
    "                \"roc_auc_val\",\n",
    "                \"accuracy_train\",\n",
    "                \"accuracy_test\",\n",
    "                \"accuracy_val\",\n",
    "                \"recall_train\",\n",
    "                \"recall_test\",\n",
    "                \"recall_val\",\n",
    "                \"precision_train\",\n",
    "                \"precision_test\",\n",
    "                \"precision_val\",\n",
    "                \"f1_score_train\",\n",
    "                \"f1_score_test\",\n",
    "                \"f1_score_val\",\n",
    "                \"model\"\n",
    "            ])\n",
    "\n",
    "    def append_new_evaluation(self, data):\n",
    "        data[\"is_overfitted\"] = round(abs((data[\"roc_auc_train\"] - data[\"roc_auc_test\"])), 2) > 0\n",
    "        data[\"date\"] = datetime.now()\n",
    "        self.output_df = self.output_df.append(data, ignore_index=True)\n",
    "\n",
    "    def record_evaluation(self, target, model, X_train, y_train, X_test, y_test, X_val, y_val, target_mean):\n",
    "        train_metrics = get_metrics(model, X_train, y_train)\n",
    "        test_metrics = get_metrics(model, X_test, y_test)\n",
    "        val_metrics = get_metrics(model, X_val, y_val)\n",
    "        report_dict = {\n",
    "            \"target\": target,\n",
    "            \"roc_auc_train\": train_metrics[\"roc_auc\"],\n",
    "            \"roc_auc_test\": test_metrics[\"roc_auc\"],\n",
    "            \"roc_auc_val\": val_metrics[\"roc_auc\"],\n",
    "            \"accuracy_train\": train_metrics[\"accuracy\"],\n",
    "            \"accuracy_test\": test_metrics[\"accuracy\"],\n",
    "            \"accuracy_val\": val_metrics[\"accuracy\"],\n",
    "            \"recall_train\": train_metrics[\"recall\"],\n",
    "            \"recall_test\": test_metrics[\"recall\"],\n",
    "            \"recall_val\": val_metrics[\"recall\"],\n",
    "            \"precision_train\": train_metrics[\"precision\"],\n",
    "            \"precision_test\": test_metrics[\"precision\"],\n",
    "            \"precision_val\": val_metrics[\"precision\"],\n",
    "            \"f1_score_train\": train_metrics[\"f1_score\"],\n",
    "            \"f1_score_test\": test_metrics[\"f1_score\"],\n",
    "            \"f1_score_val\": val_metrics[\"f1_score\"],\n",
    "            \"target_mean\": target_mean,\n",
    "            \"model\": best_model\n",
    "        }\n",
    "        self.append_new_evaluation(report_dict)\n",
    "        return self.save_csv()\n",
    "\n",
    "    def save_csv(self):\n",
    "        self.output_df.drop_duplicates(keep=\"last\", inplace=True)\n",
    "        self.output_df.to_csv(self.output_file)\n",
    "        return self.output_df\n",
    "\n",
    "reporter = Reporter(__MODEL_METRICS_REPORT_PATH__)"
   ],
   "metadata": {
    "collapsed": false,
    "pycharm": {
     "name": "#%%\n"
    }
   }
  },
  {
   "cell_type": "markdown",
   "source": [
    "## Functions"
   ],
   "metadata": {
    "collapsed": false,
    "pycharm": {
     "name": "#%% md\n"
    }
   }
  },
  {
   "cell_type": "code",
   "execution_count": 8,
   "outputs": [],
   "source": [
    "def hist_plot(dataframe: pd.DataFrame, target: str):\n",
    "    dataframe[target].hist()\n",
    "    plt.show()\n",
    "    print(target)\n",
    "    print(dataframe[target].value_counts())\n",
    "\n",
    "\n",
    "def relation_with_target(dataframe: pd.DataFrame, field: str, target: str):\n",
    "    plt.figure(figsize=(15, 5))\n",
    "    plt.xticks(rotation=90)\n",
    "    sns.countplot(data=dataframe, x=field, hue=target)\n",
    "    plt.show()\n",
    "    return dataframe.pivot_table(index=field, values=target, aggfunc=[len, sum, np.mean])\n",
    "\n",
    "\n",
    "def print_metrics(model, X, y):\n",
    "    prediction = model.predict(X)\n",
    "    y_score = get_y_score(model, X, y)\n",
    "    print('AUC Score : ' + str(roc_auc_score(y, y_score)))\n",
    "    print('Accuracy Score : ' + str(accuracy_score(y, prediction)))\n",
    "    print('Precision Score : ' + str(precision_score(y, prediction)))\n",
    "    print('Recall Score : ' + str(recall_score(y, prediction)))\n",
    "    print('F1 Score : ' + str(f1_score(y, prediction)))\n",
    "    return confusion_matrix(y, prediction)\n",
    "\n",
    "\n",
    "def get_y_score(model, X, y) -> pd.DataFrame:\n",
    "    return pd.DataFrame(model.predict_proba(X)[:, 1], index=y.index, columns=['score'])\n",
    "\n",
    "\n",
    "def get_metrics(model, X, y):\n",
    "    prediction = model.predict(X)\n",
    "    y_score = get_y_score(model, X, y)\n",
    "    return dict({\n",
    "        \"roc_auc\": roc_auc_score(y, y_score),\n",
    "        \"accuracy\": accuracy_score(y, prediction),\n",
    "        \"precision\": precision_score(y, prediction),\n",
    "        \"recall\": recall_score(y, prediction),\n",
    "        \"f1_score\": f1_score(y, prediction),\n",
    "    })"
   ],
   "metadata": {
    "collapsed": false,
    "pycharm": {
     "name": "#%%\n"
    }
   }
  },
  {
   "cell_type": "markdown",
   "source": [
    "## Filter data"
   ],
   "metadata": {
    "collapsed": false,
    "pycharm": {
     "name": "#%% md\n"
    }
   }
  },
  {
   "cell_type": "code",
   "execution_count": 9,
   "outputs": [
    {
     "data": {
      "text/plain": "         pk_cid  credit_card pk_partition  active_customer  region_code  \\\n0         15891            0   2018-08-28                0           28   \n1         16063            0   2019-05-28                0           28   \n2         16203            0   2019-05-28                1            8   \n3         16502            0   2019-05-28                1           28   \n4         17457            0   2019-05-28                1           28   \n...         ...          ...          ...              ...          ...   \n463503  1553685            0   2019-05-28                0           13   \n463504  1553686            0   2019-05-28                0           41   \n463505  1553687            0   2019-05-28                0           28   \n463506  1553688            0   2019-05-28                0           39   \n463507  1553689            0   2019-05-28                0           21   \n\n        gender  age  deceased  short_term_deposit  loans  ...  country_id_PL  \\\n0            1   59         0                   0      0  ...              0   \n1            1   62         0                   0      0  ...              0   \n2            0   70         0                   0      0  ...              0   \n3            1   58         0                   0      0  ...              0   \n4            1   54         0                   0      0  ...              0   \n...        ...  ...       ...                 ...    ...  ...            ...   \n463503       0   52         0                   0      0  ...              0   \n463504       1   30         0                   0      0  ...              0   \n463505       0   21         0                   0      0  ...              0   \n463506       1   43         0                   0      0  ...              0   \n463507       0   40         0                   0      0  ...              0   \n\n        country_id_PT  country_id_QA  country_id_RO  country_id_RU  \\\n0                   0              0              0              0   \n1                   0              0              0              0   \n2                   0              0              0              0   \n3                   0              0              0              0   \n4                   0              0              0              0   \n...               ...            ...            ...            ...   \n463503              0              0              0              0   \n463504              0              0              0              0   \n463505              0              0              0              0   \n463506              0              0              0              0   \n463507              0              0              0              0   \n\n        country_id_SA  country_id_SE  country_id_SN  country_id_US  \\\n0                   0              0              0              0   \n1                   0              0              0              0   \n2                   0              0              0              0   \n3                   0              0              0              0   \n4                   0              0              0              0   \n...               ...            ...            ...            ...   \n463503              0              0              0              0   \n463504              0              0              0              0   \n463505              0              0              0              0   \n463506              0              0              0              0   \n463507              0              0              0              0   \n\n        country_id_VE  \n0                   0  \n1                   0  \n2                   0  \n3                   0  \n4                   0  \n...               ...  \n463503              0  \n463504              0  \n463505              0  \n463506              0  \n463507              0  \n\n[463508 rows x 143 columns]",
      "text/html": "<div>\n<style scoped>\n    .dataframe tbody tr th:only-of-type {\n        vertical-align: middle;\n    }\n\n    .dataframe tbody tr th {\n        vertical-align: top;\n    }\n\n    .dataframe thead th {\n        text-align: right;\n    }\n</style>\n<table border=\"1\" class=\"dataframe\">\n  <thead>\n    <tr style=\"text-align: right;\">\n      <th></th>\n      <th>pk_cid</th>\n      <th>credit_card</th>\n      <th>pk_partition</th>\n      <th>active_customer</th>\n      <th>region_code</th>\n      <th>gender</th>\n      <th>age</th>\n      <th>deceased</th>\n      <th>short_term_deposit</th>\n      <th>loans</th>\n      <th>...</th>\n      <th>country_id_PL</th>\n      <th>country_id_PT</th>\n      <th>country_id_QA</th>\n      <th>country_id_RO</th>\n      <th>country_id_RU</th>\n      <th>country_id_SA</th>\n      <th>country_id_SE</th>\n      <th>country_id_SN</th>\n      <th>country_id_US</th>\n      <th>country_id_VE</th>\n    </tr>\n  </thead>\n  <tbody>\n    <tr>\n      <th>0</th>\n      <td>15891</td>\n      <td>0</td>\n      <td>2018-08-28</td>\n      <td>0</td>\n      <td>28</td>\n      <td>1</td>\n      <td>59</td>\n      <td>0</td>\n      <td>0</td>\n      <td>0</td>\n      <td>...</td>\n      <td>0</td>\n      <td>0</td>\n      <td>0</td>\n      <td>0</td>\n      <td>0</td>\n      <td>0</td>\n      <td>0</td>\n      <td>0</td>\n      <td>0</td>\n      <td>0</td>\n    </tr>\n    <tr>\n      <th>1</th>\n      <td>16063</td>\n      <td>0</td>\n      <td>2019-05-28</td>\n      <td>0</td>\n      <td>28</td>\n      <td>1</td>\n      <td>62</td>\n      <td>0</td>\n      <td>0</td>\n      <td>0</td>\n      <td>...</td>\n      <td>0</td>\n      <td>0</td>\n      <td>0</td>\n      <td>0</td>\n      <td>0</td>\n      <td>0</td>\n      <td>0</td>\n      <td>0</td>\n      <td>0</td>\n      <td>0</td>\n    </tr>\n    <tr>\n      <th>2</th>\n      <td>16203</td>\n      <td>0</td>\n      <td>2019-05-28</td>\n      <td>1</td>\n      <td>8</td>\n      <td>0</td>\n      <td>70</td>\n      <td>0</td>\n      <td>0</td>\n      <td>0</td>\n      <td>...</td>\n      <td>0</td>\n      <td>0</td>\n      <td>0</td>\n      <td>0</td>\n      <td>0</td>\n      <td>0</td>\n      <td>0</td>\n      <td>0</td>\n      <td>0</td>\n      <td>0</td>\n    </tr>\n    <tr>\n      <th>3</th>\n      <td>16502</td>\n      <td>0</td>\n      <td>2019-05-28</td>\n      <td>1</td>\n      <td>28</td>\n      <td>1</td>\n      <td>58</td>\n      <td>0</td>\n      <td>0</td>\n      <td>0</td>\n      <td>...</td>\n      <td>0</td>\n      <td>0</td>\n      <td>0</td>\n      <td>0</td>\n      <td>0</td>\n      <td>0</td>\n      <td>0</td>\n      <td>0</td>\n      <td>0</td>\n      <td>0</td>\n    </tr>\n    <tr>\n      <th>4</th>\n      <td>17457</td>\n      <td>0</td>\n      <td>2019-05-28</td>\n      <td>1</td>\n      <td>28</td>\n      <td>1</td>\n      <td>54</td>\n      <td>0</td>\n      <td>0</td>\n      <td>0</td>\n      <td>...</td>\n      <td>0</td>\n      <td>0</td>\n      <td>0</td>\n      <td>0</td>\n      <td>0</td>\n      <td>0</td>\n      <td>0</td>\n      <td>0</td>\n      <td>0</td>\n      <td>0</td>\n    </tr>\n    <tr>\n      <th>...</th>\n      <td>...</td>\n      <td>...</td>\n      <td>...</td>\n      <td>...</td>\n      <td>...</td>\n      <td>...</td>\n      <td>...</td>\n      <td>...</td>\n      <td>...</td>\n      <td>...</td>\n      <td>...</td>\n      <td>...</td>\n      <td>...</td>\n      <td>...</td>\n      <td>...</td>\n      <td>...</td>\n      <td>...</td>\n      <td>...</td>\n      <td>...</td>\n      <td>...</td>\n      <td>...</td>\n    </tr>\n    <tr>\n      <th>463503</th>\n      <td>1553685</td>\n      <td>0</td>\n      <td>2019-05-28</td>\n      <td>0</td>\n      <td>13</td>\n      <td>0</td>\n      <td>52</td>\n      <td>0</td>\n      <td>0</td>\n      <td>0</td>\n      <td>...</td>\n      <td>0</td>\n      <td>0</td>\n      <td>0</td>\n      <td>0</td>\n      <td>0</td>\n      <td>0</td>\n      <td>0</td>\n      <td>0</td>\n      <td>0</td>\n      <td>0</td>\n    </tr>\n    <tr>\n      <th>463504</th>\n      <td>1553686</td>\n      <td>0</td>\n      <td>2019-05-28</td>\n      <td>0</td>\n      <td>41</td>\n      <td>1</td>\n      <td>30</td>\n      <td>0</td>\n      <td>0</td>\n      <td>0</td>\n      <td>...</td>\n      <td>0</td>\n      <td>0</td>\n      <td>0</td>\n      <td>0</td>\n      <td>0</td>\n      <td>0</td>\n      <td>0</td>\n      <td>0</td>\n      <td>0</td>\n      <td>0</td>\n    </tr>\n    <tr>\n      <th>463505</th>\n      <td>1553687</td>\n      <td>0</td>\n      <td>2019-05-28</td>\n      <td>0</td>\n      <td>28</td>\n      <td>0</td>\n      <td>21</td>\n      <td>0</td>\n      <td>0</td>\n      <td>0</td>\n      <td>...</td>\n      <td>0</td>\n      <td>0</td>\n      <td>0</td>\n      <td>0</td>\n      <td>0</td>\n      <td>0</td>\n      <td>0</td>\n      <td>0</td>\n      <td>0</td>\n      <td>0</td>\n    </tr>\n    <tr>\n      <th>463506</th>\n      <td>1553688</td>\n      <td>0</td>\n      <td>2019-05-28</td>\n      <td>0</td>\n      <td>39</td>\n      <td>1</td>\n      <td>43</td>\n      <td>0</td>\n      <td>0</td>\n      <td>0</td>\n      <td>...</td>\n      <td>0</td>\n      <td>0</td>\n      <td>0</td>\n      <td>0</td>\n      <td>0</td>\n      <td>0</td>\n      <td>0</td>\n      <td>0</td>\n      <td>0</td>\n      <td>0</td>\n    </tr>\n    <tr>\n      <th>463507</th>\n      <td>1553689</td>\n      <td>0</td>\n      <td>2019-05-28</td>\n      <td>0</td>\n      <td>21</td>\n      <td>0</td>\n      <td>40</td>\n      <td>0</td>\n      <td>0</td>\n      <td>0</td>\n      <td>...</td>\n      <td>0</td>\n      <td>0</td>\n      <td>0</td>\n      <td>0</td>\n      <td>0</td>\n      <td>0</td>\n      <td>0</td>\n      <td>0</td>\n      <td>0</td>\n      <td>0</td>\n    </tr>\n  </tbody>\n</table>\n<p>463508 rows × 143 columns</p>\n</div>"
     },
     "execution_count": 9,
     "metadata": {},
     "output_type": "execute_result"
    }
   ],
   "source": [
    "filter = EasyMoneyFilter(TARGET)\n",
    "df_prep = filter.fit_transform(df)\n",
    "df_prep"
   ],
   "metadata": {
    "collapsed": false,
    "pycharm": {
     "name": "#%%\n"
    }
   }
  },
  {
   "cell_type": "markdown",
   "source": [
    "## Target distribution"
   ],
   "metadata": {
    "collapsed": false,
    "pycharm": {
     "name": "#%% md\n"
    }
   }
  },
  {
   "cell_type": "code",
   "execution_count": 10,
   "outputs": [
    {
     "data": {
      "text/plain": "                    count          mean            std      min         25%  \\\npk_cid           463508.0  1.273129e+06  180362.924979  15891.0  1141746.75   \ncredit_card      463508.0  1.840529e-02       0.134412      0.0        0.00   \nactive_customer  463508.0  3.862695e-01       0.486894      0.0        0.00   \nregion_code      463508.0  2.587621e+01      13.521672     -1.0       13.00   \ngender           463508.0  5.102717e-01       0.499895      0.0        0.00   \n...                   ...           ...            ...      ...         ...   \ncountry_id_SA    463508.0  2.157460e-06       0.001469      0.0        0.00   \ncountry_id_SE    463508.0  4.314920e-06       0.002077      0.0        0.00   \ncountry_id_SN    463508.0  2.157460e-06       0.001469      0.0        0.00   \ncountry_id_US    463508.0  4.099174e-05       0.006402      0.0        0.00   \ncountry_id_VE    463508.0  1.078730e-05       0.003284      0.0        0.00   \n\n                       50%         75%        max  \npk_cid           1282439.5  1421938.25  1553689.0  \ncredit_card            0.0        0.00        1.0  \nactive_customer        0.0        1.00        1.0  \nregion_code           28.0       36.00       52.0  \ngender                 1.0        1.00        1.0  \n...                    ...         ...        ...  \ncountry_id_SA          0.0        0.00        1.0  \ncountry_id_SE          0.0        0.00        1.0  \ncountry_id_SN          0.0        0.00        1.0  \ncountry_id_US          0.0        0.00        1.0  \ncountry_id_VE          0.0        0.00        1.0  \n\n[142 rows x 8 columns]",
      "text/html": "<div>\n<style scoped>\n    .dataframe tbody tr th:only-of-type {\n        vertical-align: middle;\n    }\n\n    .dataframe tbody tr th {\n        vertical-align: top;\n    }\n\n    .dataframe thead th {\n        text-align: right;\n    }\n</style>\n<table border=\"1\" class=\"dataframe\">\n  <thead>\n    <tr style=\"text-align: right;\">\n      <th></th>\n      <th>count</th>\n      <th>mean</th>\n      <th>std</th>\n      <th>min</th>\n      <th>25%</th>\n      <th>50%</th>\n      <th>75%</th>\n      <th>max</th>\n    </tr>\n  </thead>\n  <tbody>\n    <tr>\n      <th>pk_cid</th>\n      <td>463508.0</td>\n      <td>1.273129e+06</td>\n      <td>180362.924979</td>\n      <td>15891.0</td>\n      <td>1141746.75</td>\n      <td>1282439.5</td>\n      <td>1421938.25</td>\n      <td>1553689.0</td>\n    </tr>\n    <tr>\n      <th>credit_card</th>\n      <td>463508.0</td>\n      <td>1.840529e-02</td>\n      <td>0.134412</td>\n      <td>0.0</td>\n      <td>0.00</td>\n      <td>0.0</td>\n      <td>0.00</td>\n      <td>1.0</td>\n    </tr>\n    <tr>\n      <th>active_customer</th>\n      <td>463508.0</td>\n      <td>3.862695e-01</td>\n      <td>0.486894</td>\n      <td>0.0</td>\n      <td>0.00</td>\n      <td>0.0</td>\n      <td>1.00</td>\n      <td>1.0</td>\n    </tr>\n    <tr>\n      <th>region_code</th>\n      <td>463508.0</td>\n      <td>2.587621e+01</td>\n      <td>13.521672</td>\n      <td>-1.0</td>\n      <td>13.00</td>\n      <td>28.0</td>\n      <td>36.00</td>\n      <td>52.0</td>\n    </tr>\n    <tr>\n      <th>gender</th>\n      <td>463508.0</td>\n      <td>5.102717e-01</td>\n      <td>0.499895</td>\n      <td>0.0</td>\n      <td>0.00</td>\n      <td>1.0</td>\n      <td>1.00</td>\n      <td>1.0</td>\n    </tr>\n    <tr>\n      <th>...</th>\n      <td>...</td>\n      <td>...</td>\n      <td>...</td>\n      <td>...</td>\n      <td>...</td>\n      <td>...</td>\n      <td>...</td>\n      <td>...</td>\n    </tr>\n    <tr>\n      <th>country_id_SA</th>\n      <td>463508.0</td>\n      <td>2.157460e-06</td>\n      <td>0.001469</td>\n      <td>0.0</td>\n      <td>0.00</td>\n      <td>0.0</td>\n      <td>0.00</td>\n      <td>1.0</td>\n    </tr>\n    <tr>\n      <th>country_id_SE</th>\n      <td>463508.0</td>\n      <td>4.314920e-06</td>\n      <td>0.002077</td>\n      <td>0.0</td>\n      <td>0.00</td>\n      <td>0.0</td>\n      <td>0.00</td>\n      <td>1.0</td>\n    </tr>\n    <tr>\n      <th>country_id_SN</th>\n      <td>463508.0</td>\n      <td>2.157460e-06</td>\n      <td>0.001469</td>\n      <td>0.0</td>\n      <td>0.00</td>\n      <td>0.0</td>\n      <td>0.00</td>\n      <td>1.0</td>\n    </tr>\n    <tr>\n      <th>country_id_US</th>\n      <td>463508.0</td>\n      <td>4.099174e-05</td>\n      <td>0.006402</td>\n      <td>0.0</td>\n      <td>0.00</td>\n      <td>0.0</td>\n      <td>0.00</td>\n      <td>1.0</td>\n    </tr>\n    <tr>\n      <th>country_id_VE</th>\n      <td>463508.0</td>\n      <td>1.078730e-05</td>\n      <td>0.003284</td>\n      <td>0.0</td>\n      <td>0.00</td>\n      <td>0.0</td>\n      <td>0.00</td>\n      <td>1.0</td>\n    </tr>\n  </tbody>\n</table>\n<p>142 rows × 8 columns</p>\n</div>"
     },
     "execution_count": 10,
     "metadata": {},
     "output_type": "execute_result"
    }
   ],
   "source": [
    "df_prep.describe().T"
   ],
   "metadata": {
    "collapsed": false,
    "pycharm": {
     "name": "#%%\n"
    }
   }
  },
  {
   "cell_type": "code",
   "execution_count": 11,
   "outputs": [
    {
     "data": {
      "text/plain": "<Figure size 432x288 with 1 Axes>",
      "image/png": "[encoded data removed]"
     },
     "metadata": {
      "needs_background": "light"
     },
     "output_type": "display_data"
    },
    {
     "name": "stdout",
     "output_type": "stream",
     "text": [
      "credit_card\n",
      "0    454977\n",
      "1      8531\n",
      "Name: credit_card, dtype: int64\n"
     ]
    }
   ],
   "source": [
    "hist_plot(df_prep, TARGET)"
   ],
   "metadata": {
    "collapsed": false,
    "pycharm": {
     "name": "#%%\n"
    }
   }
  },
  {
   "cell_type": "code",
   "execution_count": 12,
   "outputs": [
    {
     "data": {
      "text/plain": "<AxesSubplot:xlabel='credit_card', ylabel='age'>"
     },
     "execution_count": 12,
     "metadata": {},
     "output_type": "execute_result"
    },
    {
     "data": {
      "text/plain": "<Figure size 432x288 with 1 Axes>",
      "image/png": "[encoded data removed]"
     },
     "metadata": {
      "needs_background": "light"
     },
     "output_type": "display_data"
    }
   ],
   "source": [
    "sns.boxplot(data=df_prep, x=TARGET, y=\"age\")"
   ],
   "metadata": {
    "collapsed": false,
    "pycharm": {
     "name": "#%%\n"
    }
   }
  },
  {
   "cell_type": "code",
   "execution_count": 13,
   "outputs": [
    {
     "data": {
      "text/plain": "<AxesSubplot:xlabel='credit_card', ylabel='active_customer'>"
     },
     "execution_count": 13,
     "metadata": {},
     "output_type": "execute_result"
    },
    {
     "data": {
      "text/plain": "<Figure size 432x288 with 1 Axes>",
      "image/png": "[encoded data removed]"
     },
     "metadata": {
      "needs_background": "light"
     },
     "output_type": "display_data"
    }
   ],
   "source": [
    "sns.boxplot(data=df_prep, x=TARGET, y=\"active_customer\")"
   ],
   "metadata": {
    "collapsed": false,
    "pycharm": {
     "name": "#%%\n"
    }
   }
  },
  {
   "cell_type": "code",
   "execution_count": 14,
   "outputs": [
    {
     "data": {
      "text/plain": "<Figure size 1080x360 with 1 Axes>",
      "image/png": "[encoded data removed]"
     },
     "metadata": {
      "needs_background": "light"
     },
     "output_type": "display_data"
    },
    {
     "data": {
      "text/plain": "                     len         sum        mean\n             credit_card credit_card credit_card\npk_partition                                    \n2018-01-28          3397        3325    0.978805\n2018-02-28           624         510    0.817308\n2018-03-28           662         551    0.832326\n2018-04-28           490         400    0.816327\n2018-05-28           483         373    0.772257\n2018-06-28           531         406    0.764595\n2018-07-28          1476         390    0.264228\n2018-08-28          1386         331    0.238817\n2018-09-28          1644         281    0.170925\n2018-10-28          1921         287    0.149401\n2018-11-28          1704         259    0.151995\n2018-12-28          2915         221    0.075815\n2019-01-28          1860         215    0.115591\n2019-02-28          1865         248    0.132976\n2019-03-28          1895         249    0.131398\n2019-04-28          2214         236    0.106594\n2019-05-28        438441         249    0.000568",
      "text/html": "<div>\n<style scoped>\n    .dataframe tbody tr th:only-of-type {\n        vertical-align: middle;\n    }\n\n    .dataframe tbody tr th {\n        vertical-align: top;\n    }\n\n    .dataframe thead tr th {\n        text-align: left;\n    }\n\n    .dataframe thead tr:last-of-type th {\n        text-align: right;\n    }\n</style>\n<table border=\"1\" class=\"dataframe\">\n  <thead>\n    <tr>\n      <th></th>\n      <th>len</th>\n      <th>sum</th>\n      <th>mean</th>\n    </tr>\n    <tr>\n      <th></th>\n      <th>credit_card</th>\n      <th>credit_card</th>\n      <th>credit_card</th>\n    </tr>\n    <tr>\n      <th>pk_partition</th>\n      <th></th>\n      <th></th>\n      <th></th>\n    </tr>\n  </thead>\n  <tbody>\n    <tr>\n      <th>2018-01-28</th>\n      <td>3397</td>\n      <td>3325</td>\n      <td>0.978805</td>\n    </tr>\n    <tr>\n      <th>2018-02-28</th>\n      <td>624</td>\n      <td>510</td>\n      <td>0.817308</td>\n    </tr>\n    <tr>\n      <th>2018-03-28</th>\n      <td>662</td>\n      <td>551</td>\n      <td>0.832326</td>\n    </tr>\n    <tr>\n      <th>2018-04-28</th>\n      <td>490</td>\n      <td>400</td>\n      <td>0.816327</td>\n    </tr>\n    <tr>\n      <th>2018-05-28</th>\n      <td>483</td>\n      <td>373</td>\n      <td>0.772257</td>\n    </tr>\n    <tr>\n      <th>2018-06-28</th>\n      <td>531</td>\n      <td>406</td>\n      <td>0.764595</td>\n    </tr>\n    <tr>\n      <th>2018-07-28</th>\n      <td>1476</td>\n      <td>390</td>\n      <td>0.264228</td>\n    </tr>\n    <tr>\n      <th>2018-08-28</th>\n      <td>1386</td>\n      <td>331</td>\n      <td>0.238817</td>\n    </tr>\n    <tr>\n      <th>2018-09-28</th>\n      <td>1644</td>\n      <td>281</td>\n      <td>0.170925</td>\n    </tr>\n    <tr>\n      <th>2018-10-28</th>\n      <td>1921</td>\n      <td>287</td>\n      <td>0.149401</td>\n    </tr>\n    <tr>\n      <th>2018-11-28</th>\n      <td>1704</td>\n      <td>259</td>\n      <td>0.151995</td>\n    </tr>\n    <tr>\n      <th>2018-12-28</th>\n      <td>2915</td>\n      <td>221</td>\n      <td>0.075815</td>\n    </tr>\n    <tr>\n      <th>2019-01-28</th>\n      <td>1860</td>\n      <td>215</td>\n      <td>0.115591</td>\n    </tr>\n    <tr>\n      <th>2019-02-28</th>\n      <td>1865</td>\n      <td>248</td>\n      <td>0.132976</td>\n    </tr>\n    <tr>\n      <th>2019-03-28</th>\n      <td>1895</td>\n      <td>249</td>\n      <td>0.131398</td>\n    </tr>\n    <tr>\n      <th>2019-04-28</th>\n      <td>2214</td>\n      <td>236</td>\n      <td>0.106594</td>\n    </tr>\n    <tr>\n      <th>2019-05-28</th>\n      <td>438441</td>\n      <td>249</td>\n      <td>0.000568</td>\n    </tr>\n  </tbody>\n</table>\n</div>"
     },
     "execution_count": 14,
     "metadata": {},
     "output_type": "execute_result"
    }
   ],
   "source": [
    "relation_with_target(df_prep, \"pk_partition\", TARGET)"
   ],
   "metadata": {
    "collapsed": false,
    "pycharm": {
     "name": "#%%\n"
    }
   }
  },
  {
   "cell_type": "code",
   "execution_count": 15,
   "outputs": [
    {
     "data": {
      "text/plain": "<Figure size 1080x360 with 1 Axes>",
      "image/png": "[encoded data removed]"
     },
     "metadata": {
      "needs_background": "light"
     },
     "output_type": "display_data"
    },
    {
     "data": {
      "text/plain": "                    len         sum        mean\n            credit_card credit_card credit_card\nregion_code                                    \n-1                  177          15    0.084746\n 1                 1086          32    0.029466\n 2                 5280          51    0.009659\n 3                13682         255    0.018638\n 4                 2698          60    0.022239\n 5                 1567          16    0.010211\n 6                 8773          53    0.006041\n 7                 5397         146    0.027052\n 8                46812         788    0.016833\n 9                 3616          64    0.017699\n 10                5846          47    0.008040\n 11               11849         129    0.010887\n 12                5063          95    0.018764\n 13                5127          50    0.009752\n 14                5740          69    0.012021\n 15               18281         170    0.009299\n 16                2533          17    0.006711\n 17                3887          60    0.015436\n 18                7809         115    0.014727\n 19                2391          60    0.025094\n 20                1595          68    0.042633\n 21                5086          47    0.009241\n 22                1640          18    0.010976\n 23                2510          62    0.024701\n 24                2803          54    0.019265\n 25                3434          29    0.008445\n 26                2637          40    0.015169\n 27                3762          36    0.009569\n 28              101051        3361    0.033260\n 29               13772         222    0.016120\n 30               21873         151    0.006903\n 31                2392          46    0.019231\n 32                3896          32    0.008214\n 33               10242         132    0.012888\n 34                2017          28    0.013882\n 35                9627         173    0.017970\n 36               12769         130    0.010181\n 37                6750          62    0.009185\n 38                2666          91    0.034134\n 39                5560         111    0.019964\n 40                1628          27    0.016585\n 41               21570         302    0.014001\n 42                 703           9    0.012802\n 43                4702          65    0.013824\n 44                 949           9    0.009484\n 45                7901         122    0.015441\n 46               28064         427    0.015215\n 47                8499         107    0.012590\n 48                3013          87    0.028875\n 49                2217          18    0.008119\n 50               10090         156    0.015461\n 51                 253           8    0.031621\n 52                 223           9    0.040359",
      "text/html": "<div>\n<style scoped>\n    .dataframe tbody tr th:only-of-type {\n        vertical-align: middle;\n    }\n\n    .dataframe tbody tr th {\n        vertical-align: top;\n    }\n\n    .dataframe thead tr th {\n        text-align: left;\n    }\n\n    .dataframe thead tr:last-of-type th {\n        text-align: right;\n    }\n</style>\n<table border=\"1\" class=\"dataframe\">\n  <thead>\n    <tr>\n      <th></th>\n      <th>len</th>\n      <th>sum</th>\n      <th>mean</th>\n    </tr>\n    <tr>\n      <th></th>\n      <th>credit_card</th>\n      <th>credit_card</th>\n      <th>credit_card</th>\n    </tr>\n    <tr>\n      <th>region_code</th>\n      <th></th>\n      <th></th>\n      <th></th>\n    </tr>\n  </thead>\n  <tbody>\n    <tr>\n      <th>-1</th>\n      <td>177</td>\n      <td>15</td>\n      <td>0.084746</td>\n    </tr>\n    <tr>\n      <th>1</th>\n      <td>1086</td>\n      <td>32</td>\n      <td>0.029466</td>\n    </tr>\n    <tr>\n      <th>2</th>\n      <td>5280</td>\n      <td>51</td>\n      <td>0.009659</td>\n    </tr>\n    <tr>\n      <th>3</th>\n      <td>13682</td>\n      <td>255</td>\n      <td>0.018638</td>\n    </tr>\n    <tr>\n      <th>4</th>\n      <td>2698</td>\n      <td>60</td>\n      <td>0.022239</td>\n    </tr>\n    <tr>\n      <th>5</th>\n      <td>1567</td>\n      <td>16</td>\n      <td>0.010211</td>\n    </tr>\n    <tr>\n      <th>6</th>\n      <td>8773</td>\n      <td>53</td>\n      <td>0.006041</td>\n    </tr>\n    <tr>\n      <th>7</th>\n      <td>5397</td>\n      <td>146</td>\n      <td>0.027052</td>\n    </tr>\n    <tr>\n      <th>8</th>\n      <td>46812</td>\n      <td>788</td>\n      <td>0.016833</td>\n    </tr>\n    <tr>\n      <th>9</th>\n      <td>3616</td>\n      <td>64</td>\n      <td>0.017699</td>\n    </tr>\n    <tr>\n      <th>10</th>\n      <td>5846</td>\n      <td>47</td>\n      <td>0.008040</td>\n    </tr>\n    <tr>\n      <th>11</th>\n      <td>11849</td>\n      <td>129</td>\n      <td>0.010887</td>\n    </tr>\n    <tr>\n      <th>12</th>\n      <td>5063</td>\n      <td>95</td>\n      <td>0.018764</td>\n    </tr>\n    <tr>\n      <th>13</th>\n      <td>5127</td>\n      <td>50</td>\n      <td>0.009752</td>\n    </tr>\n    <tr>\n      <th>14</th>\n      <td>5740</td>\n      <td>69</td>\n      <td>0.012021</td>\n    </tr>\n    <tr>\n      <th>15</th>\n      <td>18281</td>\n      <td>170</td>\n      <td>0.009299</td>\n    </tr>\n    <tr>\n      <th>16</th>\n      <td>2533</td>\n      <td>17</td>\n      <td>0.006711</td>\n    </tr>\n    <tr>\n      <th>17</th>\n      <td>3887</td>\n      <td>60</td>\n      <td>0.015436</td>\n    </tr>\n    <tr>\n      <th>18</th>\n      <td>7809</td>\n      <td>115</td>\n      <td>0.014727</td>\n    </tr>\n    <tr>\n      <th>19</th>\n      <td>2391</td>\n      <td>60</td>\n      <td>0.025094</td>\n    </tr>\n    <tr>\n      <th>20</th>\n      <td>1595</td>\n      <td>68</td>\n      <td>0.042633</td>\n    </tr>\n    <tr>\n      <th>21</th>\n      <td>5086</td>\n      <td>47</td>\n      <td>0.009241</td>\n    </tr>\n    <tr>\n      <th>22</th>\n      <td>1640</td>\n      <td>18</td>\n      <td>0.010976</td>\n    </tr>\n    <tr>\n      <th>23</th>\n      <td>2510</td>\n      <td>62</td>\n      <td>0.024701</td>\n    </tr>\n    <tr>\n      <th>24</th>\n      <td>2803</td>\n      <td>54</td>\n      <td>0.019265</td>\n    </tr>\n    <tr>\n      <th>25</th>\n      <td>3434</td>\n      <td>29</td>\n      <td>0.008445</td>\n    </tr>\n    <tr>\n      <th>26</th>\n      <td>2637</td>\n      <td>40</td>\n      <td>0.015169</td>\n    </tr>\n    <tr>\n      <th>27</th>\n      <td>3762</td>\n      <td>36</td>\n      <td>0.009569</td>\n    </tr>\n    <tr>\n      <th>28</th>\n      <td>101051</td>\n      <td>3361</td>\n      <td>0.033260</td>\n    </tr>\n    <tr>\n      <th>29</th>\n      <td>13772</td>\n      <td>222</td>\n      <td>0.016120</td>\n    </tr>\n    <tr>\n      <th>30</th>\n      <td>21873</td>\n      <td>151</td>\n      <td>0.006903</td>\n    </tr>\n    <tr>\n      <th>31</th>\n      <td>2392</td>\n      <td>46</td>\n      <td>0.019231</td>\n    </tr>\n    <tr>\n      <th>32</th>\n      <td>3896</td>\n      <td>32</td>\n      <td>0.008214</td>\n    </tr>\n    <tr>\n      <th>33</th>\n      <td>10242</td>\n      <td>132</td>\n      <td>0.012888</td>\n    </tr>\n    <tr>\n      <th>34</th>\n      <td>2017</td>\n      <td>28</td>\n      <td>0.013882</td>\n    </tr>\n    <tr>\n      <th>35</th>\n      <td>9627</td>\n      <td>173</td>\n      <td>0.017970</td>\n    </tr>\n    <tr>\n      <th>36</th>\n      <td>12769</td>\n      <td>130</td>\n      <td>0.010181</td>\n    </tr>\n    <tr>\n      <th>37</th>\n      <td>6750</td>\n      <td>62</td>\n      <td>0.009185</td>\n    </tr>\n    <tr>\n      <th>38</th>\n      <td>2666</td>\n      <td>91</td>\n      <td>0.034134</td>\n    </tr>\n    <tr>\n      <th>39</th>\n      <td>5560</td>\n      <td>111</td>\n      <td>0.019964</td>\n    </tr>\n    <tr>\n      <th>40</th>\n      <td>1628</td>\n      <td>27</td>\n      <td>0.016585</td>\n    </tr>\n    <tr>\n      <th>41</th>\n      <td>21570</td>\n      <td>302</td>\n      <td>0.014001</td>\n    </tr>\n    <tr>\n      <th>42</th>\n      <td>703</td>\n      <td>9</td>\n      <td>0.012802</td>\n    </tr>\n    <tr>\n      <th>43</th>\n      <td>4702</td>\n      <td>65</td>\n      <td>0.013824</td>\n    </tr>\n    <tr>\n      <th>44</th>\n      <td>949</td>\n      <td>9</td>\n      <td>0.009484</td>\n    </tr>\n    <tr>\n      <th>45</th>\n      <td>7901</td>\n      <td>122</td>\n      <td>0.015441</td>\n    </tr>\n    <tr>\n      <th>46</th>\n      <td>28064</td>\n      <td>427</td>\n      <td>0.015215</td>\n    </tr>\n    <tr>\n      <th>47</th>\n      <td>8499</td>\n      <td>107</td>\n      <td>0.012590</td>\n    </tr>\n    <tr>\n      <th>48</th>\n      <td>3013</td>\n      <td>87</td>\n      <td>0.028875</td>\n    </tr>\n    <tr>\n      <th>49</th>\n      <td>2217</td>\n      <td>18</td>\n      <td>0.008119</td>\n    </tr>\n    <tr>\n      <th>50</th>\n      <td>10090</td>\n      <td>156</td>\n      <td>0.015461</td>\n    </tr>\n    <tr>\n      <th>51</th>\n      <td>253</td>\n      <td>8</td>\n      <td>0.031621</td>\n    </tr>\n    <tr>\n      <th>52</th>\n      <td>223</td>\n      <td>9</td>\n      <td>0.040359</td>\n    </tr>\n  </tbody>\n</table>\n</div>"
     },
     "execution_count": 15,
     "metadata": {},
     "output_type": "execute_result"
    }
   ],
   "source": [
    "relation_with_target(df_prep, \"region_code\", TARGET)"
   ],
   "metadata": {
    "collapsed": false,
    "pycharm": {
     "name": "#%%\n"
    }
   }
  },
  {
   "cell_type": "markdown",
   "source": [
    "## Split dataframes"
   ],
   "metadata": {
    "collapsed": false,
    "pycharm": {
     "name": "#%% md\n"
    }
   }
  },
  {
   "cell_type": "code",
   "execution_count": 16,
   "outputs": [],
   "source": [
    "splitter = EasyMoneySplitter(DEV_PARTITION_PERIOD, VAL_PARTITION_PERIOD, EXCLUDE_COLUMNS)"
   ],
   "metadata": {
    "collapsed": false,
    "pycharm": {
     "name": "#%%\n"
    }
   }
  },
  {
   "cell_type": "markdown",
   "source": [
    "### Train partition"
   ],
   "metadata": {
    "collapsed": false,
    "pycharm": {
     "name": "#%% md\n"
    }
   }
  },
  {
   "cell_type": "code",
   "execution_count": 17,
   "outputs": [
    {
     "data": {
      "text/plain": "<Figure size 432x288 with 1 Axes>",
      "image/png": "[encoded data removed]"
     },
     "metadata": {
      "needs_background": "light"
     },
     "output_type": "display_data"
    },
    {
     "name": "stdout",
     "output_type": "stream",
     "text": [
      "credit_card\n",
      "0    13161\n",
      "1     7797\n",
      "Name: credit_card, dtype: int64\n"
     ]
    }
   ],
   "source": [
    "train_df = splitter.get_train_partition(df_prep)\n",
    "hist_plot(train_df, TARGET)"
   ],
   "metadata": {
    "collapsed": false,
    "pycharm": {
     "name": "#%%\n"
    }
   }
  },
  {
   "cell_type": "markdown",
   "source": [
    "### Validation partition"
   ],
   "metadata": {
    "collapsed": false,
    "pycharm": {
     "name": "#%% md\n"
    }
   }
  },
  {
   "cell_type": "code",
   "execution_count": 18,
   "outputs": [
    {
     "data": {
      "text/plain": "<Figure size 432x288 with 1 Axes>",
      "image/png": "[encoded data removed]"
     },
     "metadata": {
      "needs_background": "light"
     },
     "output_type": "display_data"
    },
    {
     "name": "stdout",
     "output_type": "stream",
     "text": [
      "credit_card\n",
      "0    441816\n",
      "1       734\n",
      "Name: credit_card, dtype: int64\n"
     ]
    }
   ],
   "source": [
    "validation_df = splitter.get_validation_partition(df_prep)\n",
    "hist_plot(validation_df, TARGET)"
   ],
   "metadata": {
    "collapsed": false,
    "pycharm": {
     "name": "#%%\n"
    }
   }
  },
  {
   "cell_type": "markdown",
   "source": [
    "#### Partitions"
   ],
   "metadata": {
    "collapsed": false,
    "pycharm": {
     "name": "#%% md\n"
    }
   }
  },
  {
   "cell_type": "code",
   "execution_count": 19,
   "outputs": [],
   "source": [
    "dev_X = train_df.drop(TARGET, axis=1)\n",
    "dev_y = train_df[[TARGET]]\n",
    "\n",
    "X_val = validation_df.drop(TARGET, axis=1)\n",
    "y_val = validation_df[[TARGET]]\n",
    "\n",
    "X_train, X_test, y_train, y_test = train_test_split(dev_X, dev_y, test_size=0.2, random_state=13, stratify=dev_y)"
   ],
   "metadata": {
    "collapsed": false,
    "pycharm": {
     "name": "#%%\n"
    }
   }
  },
  {
   "cell_type": "code",
   "execution_count": 20,
   "outputs": [
    {
     "name": "stdout",
     "output_type": "stream",
     "text": [
      "\n",
      "TRAIN:\n",
      "    X_train.shape: (16766, 140)\n",
      "    y_train.shape: (16766, 1)\n",
      "TEST:\n",
      "    X_test.shape: (4192, 140)\n",
      "    y_test.shape: (4192, 1)\n",
      "VALIDATION:\n",
      "    X_val.shape: (442550, 140)\n",
      "    y_val.shape: (442550, 1)\n",
      "\n"
     ]
    }
   ],
   "source": [
    "print(f\"\"\"\n",
    "TRAIN:\n",
    "    X_train.shape: {X_train.shape}\n",
    "    y_train.shape: {y_train.shape}\n",
    "TEST:\n",
    "    X_test.shape: {X_test.shape}\n",
    "    y_test.shape: {y_test.shape}\n",
    "VALIDATION:\n",
    "    X_val.shape: {X_val.shape}\n",
    "    y_val.shape: {y_val.shape}\n",
    "\"\"\")"
   ],
   "metadata": {
    "collapsed": false,
    "pycharm": {
     "name": "#%%\n"
    }
   }
  },
  {
   "cell_type": "markdown",
   "source": [
    "## Modelling experimentation"
   ],
   "metadata": {
    "collapsed": false,
    "pycharm": {
     "name": "#%% md\n"
    }
   }
  },
  {
   "cell_type": "code",
   "execution_count": 94,
   "outputs": [
    {
     "name": "stdout",
     "output_type": "stream",
     "text": [
      "[0]\tvalidation_0-aucpr:0.77007\tvalidation_1-aucpr:0.78160\n",
      "[1]\tvalidation_0-aucpr:0.78984\tvalidation_1-aucpr:0.80173\n",
      "[2]\tvalidation_0-aucpr:0.80446\tvalidation_1-aucpr:0.80895\n",
      "[3]\tvalidation_0-aucpr:0.80683\tvalidation_1-aucpr:0.81562\n",
      "[4]\tvalidation_0-aucpr:0.80680\tvalidation_1-aucpr:0.81618\n",
      "[5]\tvalidation_0-aucpr:0.81051\tvalidation_1-aucpr:0.81531\n",
      "[6]\tvalidation_0-aucpr:0.81375\tvalidation_1-aucpr:0.81880\n",
      "[7]\tvalidation_0-aucpr:0.81344\tvalidation_1-aucpr:0.81903\n",
      "[8]\tvalidation_0-aucpr:0.81697\tvalidation_1-aucpr:0.82544\n",
      "[9]\tvalidation_0-aucpr:0.81750\tvalidation_1-aucpr:0.82157\n",
      "[10]\tvalidation_0-aucpr:0.81786\tvalidation_1-aucpr:0.82106\n",
      "[11]\tvalidation_0-aucpr:0.81788\tvalidation_1-aucpr:0.82132\n",
      "[12]\tvalidation_0-aucpr:0.81767\tvalidation_1-aucpr:0.82100\n",
      "[13]\tvalidation_0-aucpr:0.81746\tvalidation_1-aucpr:0.82120\n",
      "[14]\tvalidation_0-aucpr:0.81762\tvalidation_1-aucpr:0.82063\n",
      "[15]\tvalidation_0-aucpr:0.81761\tvalidation_1-aucpr:0.82072\n",
      "[16]\tvalidation_0-aucpr:0.81962\tvalidation_1-aucpr:0.82192\n",
      "[17]\tvalidation_0-aucpr:0.82031\tvalidation_1-aucpr:0.82236\n"
     ]
    },
    {
     "data": {
      "text/plain": "XGBClassifier(base_score=0.5, booster='gbtree', colsample_bylevel=1,\n              colsample_bynode=1, colsample_bytree=1, enable_categorical=False,\n              gamma=0, gpu_id=-1, importance_type=None,\n              interaction_constraints='', learning_rate=0.300000012,\n              max_delta_step=0, max_depth=3, min_child_weight=1, missing=nan,\n              monotone_constraints='()', n_estimators=100, n_jobs=12,\n              num_parallel_tree=1, predictor='auto', random_state=42,\n              reg_alpha=0, reg_lambda=1, scale_pos_weight=1, subsample=1,\n              tree_method='exact', use_label_encoder=False,\n              validate_parameters=1, verbosity=None)"
     },
     "execution_count": 94,
     "metadata": {},
     "output_type": "execute_result"
    }
   ],
   "source": [
    "best_model: XGBClassifier = XGBClassifier(\n",
    "    # learning_rate=0.1,\n",
    "    max_depth=3,\n",
    "    # min_samples_leaf=200,\n",
    "    # missing=None,\n",
    "    random_state=42,\n",
    "    use_label_encoder=False\n",
    ")\n",
    "\n",
    "eval_set = [(X_train, y_train.values.ravel()), (X_test, y_test.values.ravel())]\n",
    "best_model.fit(\n",
    "    X_train,\n",
    "    y_train.values.ravel(),\n",
    "    eval_set=eval_set,\n",
    "    verbose=True,\n",
    "    eval_metric=\"aucpr\",\n",
    "    early_stopping_rounds=10\n",
    ")"
   ],
   "metadata": {
    "collapsed": false,
    "pycharm": {
     "name": "#%%\n"
    }
   }
  },
  {
   "cell_type": "code",
   "execution_count": 83,
   "outputs": [],
   "source": [
    "\n",
    "# pipe = Pipeline(steps=[\n",
    "#     # (\"transform\", StandardScaler()),\n",
    "#     (\"model\", XGBClassifier(random_state=42, use_label_encoder=False))\n",
    "# ])"
   ],
   "metadata": {
    "collapsed": false,
    "pycharm": {
     "name": "#%%\n"
    }
   }
  },
  {
   "cell_type": "code",
   "execution_count": 84,
   "outputs": [],
   "source": [
    "# params = {\n",
    "#     \"model__learning_rate\": [0.05, 0.10, 0.15, 0.20, 0.25, 0.30],\n",
    "#     \"model__max_depth\": np.arange(3, 15),\n",
    "#     'model__min_samples_leaf': [50, 100, 150]\n",
    "#     # \"model__min_child_weight\": [1, 3, 5, 7],\n",
    "#     # \"model__gamma\": [0.0, 0.1, 0.2, 0.3, 0.4],\n",
    "#     # \"model__colsample_bytree\": [0.3, 0.4, 0.5, 0.7]\n",
    "# }"
   ],
   "metadata": {
    "collapsed": false,
    "pycharm": {
     "name": "#%%\n"
    }
   }
  },
  {
   "cell_type": "code",
   "execution_count": 85,
   "outputs": [],
   "source": [
    "# best_model: RandomizedSearchCV = RandomizedSearchCV(\n",
    "#     pipe,\n",
    "#     param_distributions=params,\n",
    "#     n_iter=2,\n",
    "#     scoring='roc_auc',\n",
    "#     n_jobs=-1,\n",
    "#     cv=5,\n",
    "#     verbose=3\n",
    "# )"
   ],
   "metadata": {
    "collapsed": false,
    "pycharm": {
     "name": "#%%\n"
    }
   }
  },
  {
   "cell_type": "code",
   "execution_count": 86,
   "outputs": [],
   "source": [
    "# eval_set = [(X_test, y_test.values.ravel())]\n",
    "# best_model.fit(\n",
    "#     X_train,\n",
    "#     y_train.values.ravel(),\n",
    "#     model__eval_set=eval_set,\n",
    "#     model__verbose=True,\n",
    "#     model__eval_metric=\"auc\",\n",
    "#     model__early_stopping_rounds=10\n",
    "# )"
   ],
   "metadata": {
    "collapsed": false,
    "pycharm": {
     "name": "#%%\n"
    }
   }
  },
  {
   "cell_type": "code",
   "execution_count": 87,
   "outputs": [],
   "source": [
    "# best_model.best_estimator_[\"model\"]"
   ],
   "metadata": {
    "collapsed": false,
    "pycharm": {
     "name": "#%%\n"
    }
   }
  },
  {
   "cell_type": "code",
   "execution_count": 88,
   "outputs": [],
   "source": [
    "# best_model.best_params_"
   ],
   "metadata": {
    "collapsed": false,
    "pycharm": {
     "name": "#%%\n"
    }
   }
  },
  {
   "cell_type": "code",
   "execution_count": 89,
   "outputs": [],
   "source": [
    "# best_model.best_score_"
   ],
   "metadata": {
    "collapsed": false,
    "pycharm": {
     "name": "#%%\n"
    }
   }
  },
  {
   "cell_type": "code",
   "execution_count": 90,
   "outputs": [],
   "source": [
    "# pipe2 = best_model.best_estimator_\n",
    "#\n",
    "# pipe2.fit(X_train, y_train, model__verbose=True)"
   ],
   "metadata": {
    "collapsed": false,
    "pycharm": {
     "name": "#%%\n"
    }
   }
  },
  {
   "cell_type": "code",
   "execution_count": 95,
   "outputs": [
    {
     "data": {
      "text/plain": "         target  target_mean                       date  is_overfitted  \\\n18  credit_card     0.372030 2022-04-18 22:47:26.637864          False   \n17  credit_card     0.372030 2022-04-18 22:45:31.752794          False   \n16  credit_card     0.372030 2022-04-18 22:43:48.283557          False   \n15  credit_card     0.372030 2022-04-18 22:39:07.069281           True   \n14  credit_card     0.372030 2022-04-18 22:38:38.014625           True   \n13  credit_card     0.372030 2022-04-18 22:38:15.482890           True   \n12  credit_card     0.372030 2022-04-18 22:36:28.349269           True   \n11  credit_card     0.372030 2022-04-18 22:30:52.693904           True   \n10  credit_card     0.372030 2022-04-18 22:28:49.000739           True   \n9   credit_card     0.372030 2022-04-18 22:25:16.441363           True   \n8     em_acount     0.902959 2022-04-18 21:37:34.200245           True   \n7     em_acount     0.902959 2022-04-18 21:36:57.529114           True   \n6     em_acount     0.902959 2022-04-18 21:05:19.893296           True   \n5     em_acount     0.902959 2022-04-18 20:38:26.636688           True   \n4     em_acount     0.902959 2022-04-18 20:23:43.724056           True   \n3     em_acount     0.902959 2022-04-18 19:48:39.551950           True   \n2     em_acount     0.902959 2022-04-18 19:42:19.484523           True   \n1     em_acount     0.902959 2022-04-18 19:28:11.646760           True   \n0     em_acount     0.902959 2022-04-18 19:21:05.434710           True   \n\n    roc_auc_train  roc_auc_test  roc_auc_val  accuracy_train  accuracy_test  \\\n18       0.925318      0.928474     0.849117        0.868007       0.875239   \n17       0.925318      0.928474     0.849117        0.868007       0.875239   \n16       0.928810      0.929619     0.846679        0.876536       0.882634   \n15       0.928810      0.929619     0.846679        0.876536       0.882634   \n14       0.928810      0.929619     0.846679        0.876536       0.882634   \n13       0.928810      0.929619     0.846679        0.876536       0.882634   \n12       0.928810      0.929619     0.846679        0.876536       0.882634   \n11       0.928810      0.929619     0.846679        0.876536       0.882634   \n10       0.919372      0.922418     0.861859        0.863593       0.869990   \n9        0.929953      0.928669     0.838041        0.876595       0.883349   \n8        0.950644      0.917028     0.842160        0.951014       0.941496   \n7        0.950644      0.917028     0.842160        0.951014       0.941496   \n6        0.943407      0.917594     0.840527        0.948747       0.941930   \n5        0.957649      0.916784     0.839633        0.953442       0.941146   \n4        0.957649      0.916784     0.839633        0.953442       0.941146   \n3        0.934908      0.918900     0.821716        0.945861       0.942223   \n2        0.934908      0.918900     0.821716        0.945861       0.942223   \n1        0.937089      0.919856     0.826957        0.946239       0.942811   \n0        0.937089      0.919856     0.826957        0.946239       0.942811   \n\n    accuracy_val  recall_train  recall_test  recall_val  precision_train  \\\n18      0.664174      0.974507     0.966667    0.985014         0.747418   \n17      0.664174      0.974507     0.966667    0.985014         0.747418   \n16      0.699799      0.965689     0.953846    0.929155         0.764437   \n15      0.699799      0.965689     0.953846    0.929155         0.764437   \n14      0.699799      0.965689     0.953846    0.929155         0.764437   \n13      0.699799      0.965689     0.953846    0.929155         0.764437   \n12      0.699799      0.965689     0.953846    0.929155         0.764437   \n11      0.699799      0.965689     0.953846    0.929155         0.764437   \n10      0.622773      0.973385     0.967949    0.990463         0.741089   \n9       0.673768      0.968735     0.958333    0.950954         0.763264   \n8       0.396085      0.989435     0.984534    0.877083         0.957715   \n7       0.396085      0.989435     0.984534    0.877083         0.957715   \n6       0.392663      0.988265     0.984581    0.877976         0.956425   \n5       0.395119      0.990388     0.984038    0.875298         0.959364   \n4       0.395119      0.990388     0.984038    0.875298         0.959364   \n3       0.403832      0.987192     0.985495    0.868750         0.954416   \n2       0.403832      0.987192     0.985495    0.868750         0.954416   \n1       0.396586      0.987455     0.986084    0.869147         0.954571   \n0       0.396586      0.987455     0.986084    0.869147         0.954571   \n\n    precision_test  precision_val  f1_score_train  f1_score_test  \\\n18        0.762001       0.004842        0.845988       0.852218   \n17        0.762001       0.004842        0.845988       0.852218   \n16        0.779874       0.005109        0.853358       0.858131   \n15        0.779874       0.005109        0.853358       0.858131   \n14        0.779874       0.005109        0.853358       0.858131   \n13        0.779874       0.005109        0.853358       0.858131   \n12        0.779874       0.005109        0.853358       0.858131   \n11        0.779874       0.005109        0.853358       0.858131   \n10        0.753117       0.004336        0.841500       0.847125   \n9         0.779052       0.004813        0.853812       0.859442   \n8         0.952290       0.083061        0.973317       0.968144   \n7         0.952290       0.083061        0.973317       0.968144   \n6         0.952692       0.082696        0.972084       0.968374   \n5         0.952367       0.082797        0.974629       0.967944   \n4         0.952367       0.082797        0.974629       0.967944   \n3         0.952191       0.083397        0.970527       0.968557   \n2         0.952191       0.083397        0.970527       0.968557   \n1         0.952275       0.082497        0.970735       0.968885   \n0         0.952275       0.082497        0.970735       0.968885   \n\n    f1_score_val                                              model  \n18      0.009636  XGBClassifier(base_score=0.5, booster='gbtree'...  \n17      0.009636  XGBClassifier(base_score=0.5, booster='gbtree'...  \n16      0.010163  XGBClassifier(base_score=0.5, booster='gbtree'...  \n15      0.010163  XGBClassifier(base_score=0.5, booster='gbtree'...  \n14      0.010163  XGBClassifier(base_score=0.5, booster='gbtree'...  \n13      0.010163  XGBClassifier(base_score=0.5, booster='gbtree'...  \n12      0.010163  XGBClassifier(base_score=0.5, booster='gbtree'...  \n11      0.010163  XGBClassifier(base_score=0.5, booster='gbtree'...  \n10      0.008634  XGBClassifier(base_score=0.5, booster='gbtree'...  \n9       0.009577  XGBClassifier(base_score=0.5, booster='gbtree'...  \n8       0.151751  Pipeline(steps=[('model',\\n                 XG...  \n7       0.151751  Pipeline(steps=[('model',\\n                 XG...  \n6       0.151155  Pipeline(steps=[('transform', StandardScaler()...  \n5       0.151283  Pipeline(steps=[('transform', StandardScaler()...  \n4       0.151283  Pipeline(steps=[('transform', StandardScaler()...  \n3       0.152184  Pipeline(steps=[('model',\\n                 XG...  \n2       0.152184  Pipeline(steps=[('model',\\n                 XG...  \n1       0.150691  Pipeline(steps=[('transform', StandardScaler()...  \n0       0.150691  Pipeline(steps=[('transform', StandardScaler()...  ",
      "text/html": "<div>\n<style scoped>\n    .dataframe tbody tr th:only-of-type {\n        vertical-align: middle;\n    }\n\n    .dataframe tbody tr th {\n        vertical-align: top;\n    }\n\n    .dataframe thead th {\n        text-align: right;\n    }\n</style>\n<table border=\"1\" class=\"dataframe\">\n  <thead>\n    <tr style=\"text-align: right;\">\n      <th></th>\n      <th>target</th>\n      <th>target_mean</th>\n      <th>date</th>\n      <th>is_overfitted</th>\n      <th>roc_auc_train</th>\n      <th>roc_auc_test</th>\n      <th>roc_auc_val</th>\n      <th>accuracy_train</th>\n      <th>accuracy_test</th>\n      <th>accuracy_val</th>\n      <th>recall_train</th>\n      <th>recall_test</th>\n      <th>recall_val</th>\n      <th>precision_train</th>\n      <th>precision_test</th>\n      <th>precision_val</th>\n      <th>f1_score_train</th>\n      <th>f1_score_test</th>\n      <th>f1_score_val</th>\n      <th>model</th>\n    </tr>\n  </thead>\n  <tbody>\n    <tr>\n      <th>18</th>\n      <td>credit_card</td>\n      <td>0.372030</td>\n      <td>2022-04-18 22:47:26.637864</td>\n      <td>False</td>\n      <td>0.925318</td>\n      <td>0.928474</td>\n      <td>0.849117</td>\n      <td>0.868007</td>\n      <td>0.875239</td>\n      <td>0.664174</td>\n      <td>0.974507</td>\n      <td>0.966667</td>\n      <td>0.985014</td>\n      <td>0.747418</td>\n      <td>0.762001</td>\n      <td>0.004842</td>\n      <td>0.845988</td>\n      <td>0.852218</td>\n      <td>0.009636</td>\n      <td>XGBClassifier(base_score=0.5, booster='gbtree'...</td>\n    </tr>\n    <tr>\n      <th>17</th>\n      <td>credit_card</td>\n      <td>0.372030</td>\n      <td>2022-04-18 22:45:31.752794</td>\n      <td>False</td>\n      <td>0.925318</td>\n      <td>0.928474</td>\n      <td>0.849117</td>\n      <td>0.868007</td>\n      <td>0.875239</td>\n      <td>0.664174</td>\n      <td>0.974507</td>\n      <td>0.966667</td>\n      <td>0.985014</td>\n      <td>0.747418</td>\n      <td>0.762001</td>\n      <td>0.004842</td>\n      <td>0.845988</td>\n      <td>0.852218</td>\n      <td>0.009636</td>\n      <td>XGBClassifier(base_score=0.5, booster='gbtree'...</td>\n    </tr>\n    <tr>\n      <th>16</th>\n      <td>credit_card</td>\n      <td>0.372030</td>\n      <td>2022-04-18 22:43:48.283557</td>\n      <td>False</td>\n      <td>0.928810</td>\n      <td>0.929619</td>\n      <td>0.846679</td>\n      <td>0.876536</td>\n      <td>0.882634</td>\n      <td>0.699799</td>\n      <td>0.965689</td>\n      <td>0.953846</td>\n      <td>0.929155</td>\n      <td>0.764437</td>\n      <td>0.779874</td>\n      <td>0.005109</td>\n      <td>0.853358</td>\n      <td>0.858131</td>\n      <td>0.010163</td>\n      <td>XGBClassifier(base_score=0.5, booster='gbtree'...</td>\n    </tr>\n    <tr>\n      <th>15</th>\n      <td>credit_card</td>\n      <td>0.372030</td>\n      <td>2022-04-18 22:39:07.069281</td>\n      <td>True</td>\n      <td>0.928810</td>\n      <td>0.929619</td>\n      <td>0.846679</td>\n      <td>0.876536</td>\n      <td>0.882634</td>\n      <td>0.699799</td>\n      <td>0.965689</td>\n      <td>0.953846</td>\n      <td>0.929155</td>\n      <td>0.764437</td>\n      <td>0.779874</td>\n      <td>0.005109</td>\n      <td>0.853358</td>\n      <td>0.858131</td>\n      <td>0.010163</td>\n      <td>XGBClassifier(base_score=0.5, booster='gbtree'...</td>\n    </tr>\n    <tr>\n      <th>14</th>\n      <td>credit_card</td>\n      <td>0.372030</td>\n      <td>2022-04-18 22:38:38.014625</td>\n      <td>True</td>\n      <td>0.928810</td>\n      <td>0.929619</td>\n      <td>0.846679</td>\n      <td>0.876536</td>\n      <td>0.882634</td>\n      <td>0.699799</td>\n      <td>0.965689</td>\n      <td>0.953846</td>\n      <td>0.929155</td>\n      <td>0.764437</td>\n      <td>0.779874</td>\n      <td>0.005109</td>\n      <td>0.853358</td>\n      <td>0.858131</td>\n      <td>0.010163</td>\n      <td>XGBClassifier(base_score=0.5, booster='gbtree'...</td>\n    </tr>\n    <tr>\n      <th>13</th>\n      <td>credit_card</td>\n      <td>0.372030</td>\n      <td>2022-04-18 22:38:15.482890</td>\n      <td>True</td>\n      <td>0.928810</td>\n      <td>0.929619</td>\n      <td>0.846679</td>\n      <td>0.876536</td>\n      <td>0.882634</td>\n      <td>0.699799</td>\n      <td>0.965689</td>\n      <td>0.953846</td>\n      <td>0.929155</td>\n      <td>0.764437</td>\n      <td>0.779874</td>\n      <td>0.005109</td>\n      <td>0.853358</td>\n      <td>0.858131</td>\n      <td>0.010163</td>\n      <td>XGBClassifier(base_score=0.5, booster='gbtree'...</td>\n    </tr>\n    <tr>\n      <th>12</th>\n      <td>credit_card</td>\n      <td>0.372030</td>\n      <td>2022-04-18 22:36:28.349269</td>\n      <td>True</td>\n      <td>0.928810</td>\n      <td>0.929619</td>\n      <td>0.846679</td>\n      <td>0.876536</td>\n      <td>0.882634</td>\n      <td>0.699799</td>\n      <td>0.965689</td>\n      <td>0.953846</td>\n      <td>0.929155</td>\n      <td>0.764437</td>\n      <td>0.779874</td>\n      <td>0.005109</td>\n      <td>0.853358</td>\n      <td>0.858131</td>\n      <td>0.010163</td>\n      <td>XGBClassifier(base_score=0.5, booster='gbtree'...</td>\n    </tr>\n    <tr>\n      <th>11</th>\n      <td>credit_card</td>\n      <td>0.372030</td>\n      <td>2022-04-18 22:30:52.693904</td>\n      <td>True</td>\n      <td>0.928810</td>\n      <td>0.929619</td>\n      <td>0.846679</td>\n      <td>0.876536</td>\n      <td>0.882634</td>\n      <td>0.699799</td>\n      <td>0.965689</td>\n      <td>0.953846</td>\n      <td>0.929155</td>\n      <td>0.764437</td>\n      <td>0.779874</td>\n      <td>0.005109</td>\n      <td>0.853358</td>\n      <td>0.858131</td>\n      <td>0.010163</td>\n      <td>XGBClassifier(base_score=0.5, booster='gbtree'...</td>\n    </tr>\n    <tr>\n      <th>10</th>\n      <td>credit_card</td>\n      <td>0.372030</td>\n      <td>2022-04-18 22:28:49.000739</td>\n      <td>True</td>\n      <td>0.919372</td>\n      <td>0.922418</td>\n      <td>0.861859</td>\n      <td>0.863593</td>\n      <td>0.869990</td>\n      <td>0.622773</td>\n      <td>0.973385</td>\n      <td>0.967949</td>\n      <td>0.990463</td>\n      <td>0.741089</td>\n      <td>0.753117</td>\n      <td>0.004336</td>\n      <td>0.841500</td>\n      <td>0.847125</td>\n      <td>0.008634</td>\n      <td>XGBClassifier(base_score=0.5, booster='gbtree'...</td>\n    </tr>\n    <tr>\n      <th>9</th>\n      <td>credit_card</td>\n      <td>0.372030</td>\n      <td>2022-04-18 22:25:16.441363</td>\n      <td>True</td>\n      <td>0.929953</td>\n      <td>0.928669</td>\n      <td>0.838041</td>\n      <td>0.876595</td>\n      <td>0.883349</td>\n      <td>0.673768</td>\n      <td>0.968735</td>\n      <td>0.958333</td>\n      <td>0.950954</td>\n      <td>0.763264</td>\n      <td>0.779052</td>\n      <td>0.004813</td>\n      <td>0.853812</td>\n      <td>0.859442</td>\n      <td>0.009577</td>\n      <td>XGBClassifier(base_score=0.5, booster='gbtree'...</td>\n    </tr>\n    <tr>\n      <th>8</th>\n      <td>em_acount</td>\n      <td>0.902959</td>\n      <td>2022-04-18 21:37:34.200245</td>\n      <td>True</td>\n      <td>0.950644</td>\n      <td>0.917028</td>\n      <td>0.842160</td>\n      <td>0.951014</td>\n      <td>0.941496</td>\n      <td>0.396085</td>\n      <td>0.989435</td>\n      <td>0.984534</td>\n      <td>0.877083</td>\n      <td>0.957715</td>\n      <td>0.952290</td>\n      <td>0.083061</td>\n      <td>0.973317</td>\n      <td>0.968144</td>\n      <td>0.151751</td>\n      <td>Pipeline(steps=[('model',\\n                 XG...</td>\n    </tr>\n    <tr>\n      <th>7</th>\n      <td>em_acount</td>\n      <td>0.902959</td>\n      <td>2022-04-18 21:36:57.529114</td>\n      <td>True</td>\n      <td>0.950644</td>\n      <td>0.917028</td>\n      <td>0.842160</td>\n      <td>0.951014</td>\n      <td>0.941496</td>\n      <td>0.396085</td>\n      <td>0.989435</td>\n      <td>0.984534</td>\n      <td>0.877083</td>\n      <td>0.957715</td>\n      <td>0.952290</td>\n      <td>0.083061</td>\n      <td>0.973317</td>\n      <td>0.968144</td>\n      <td>0.151751</td>\n      <td>Pipeline(steps=[('model',\\n                 XG...</td>\n    </tr>\n    <tr>\n      <th>6</th>\n      <td>em_acount</td>\n      <td>0.902959</td>\n      <td>2022-04-18 21:05:19.893296</td>\n      <td>True</td>\n      <td>0.943407</td>\n      <td>0.917594</td>\n      <td>0.840527</td>\n      <td>0.948747</td>\n      <td>0.941930</td>\n      <td>0.392663</td>\n      <td>0.988265</td>\n      <td>0.984581</td>\n      <td>0.877976</td>\n      <td>0.956425</td>\n      <td>0.952692</td>\n      <td>0.082696</td>\n      <td>0.972084</td>\n      <td>0.968374</td>\n      <td>0.151155</td>\n      <td>Pipeline(steps=[('transform', StandardScaler()...</td>\n    </tr>\n    <tr>\n      <th>5</th>\n      <td>em_acount</td>\n      <td>0.902959</td>\n      <td>2022-04-18 20:38:26.636688</td>\n      <td>True</td>\n      <td>0.957649</td>\n      <td>0.916784</td>\n      <td>0.839633</td>\n      <td>0.953442</td>\n      <td>0.941146</td>\n      <td>0.395119</td>\n      <td>0.990388</td>\n      <td>0.984038</td>\n      <td>0.875298</td>\n      <td>0.959364</td>\n      <td>0.952367</td>\n      <td>0.082797</td>\n      <td>0.974629</td>\n      <td>0.967944</td>\n      <td>0.151283</td>\n      <td>Pipeline(steps=[('transform', StandardScaler()...</td>\n    </tr>\n    <tr>\n      <th>4</th>\n      <td>em_acount</td>\n      <td>0.902959</td>\n      <td>2022-04-18 20:23:43.724056</td>\n      <td>True</td>\n      <td>0.957649</td>\n      <td>0.916784</td>\n      <td>0.839633</td>\n      <td>0.953442</td>\n      <td>0.941146</td>\n      <td>0.395119</td>\n      <td>0.990388</td>\n      <td>0.984038</td>\n      <td>0.875298</td>\n      <td>0.959364</td>\n      <td>0.952367</td>\n      <td>0.082797</td>\n      <td>0.974629</td>\n      <td>0.967944</td>\n      <td>0.151283</td>\n      <td>Pipeline(steps=[('transform', StandardScaler()...</td>\n    </tr>\n    <tr>\n      <th>3</th>\n      <td>em_acount</td>\n      <td>0.902959</td>\n      <td>2022-04-18 19:48:39.551950</td>\n      <td>True</td>\n      <td>0.934908</td>\n      <td>0.918900</td>\n      <td>0.821716</td>\n      <td>0.945861</td>\n      <td>0.942223</td>\n      <td>0.403832</td>\n      <td>0.987192</td>\n      <td>0.985495</td>\n      <td>0.868750</td>\n      <td>0.954416</td>\n      <td>0.952191</td>\n      <td>0.083397</td>\n      <td>0.970527</td>\n      <td>0.968557</td>\n      <td>0.152184</td>\n      <td>Pipeline(steps=[('model',\\n                 XG...</td>\n    </tr>\n    <tr>\n      <th>2</th>\n      <td>em_acount</td>\n      <td>0.902959</td>\n      <td>2022-04-18 19:42:19.484523</td>\n      <td>True</td>\n      <td>0.934908</td>\n      <td>0.918900</td>\n      <td>0.821716</td>\n      <td>0.945861</td>\n      <td>0.942223</td>\n      <td>0.403832</td>\n      <td>0.987192</td>\n      <td>0.985495</td>\n      <td>0.868750</td>\n      <td>0.954416</td>\n      <td>0.952191</td>\n      <td>0.083397</td>\n      <td>0.970527</td>\n      <td>0.968557</td>\n      <td>0.152184</td>\n      <td>Pipeline(steps=[('model',\\n                 XG...</td>\n    </tr>\n    <tr>\n      <th>1</th>\n      <td>em_acount</td>\n      <td>0.902959</td>\n      <td>2022-04-18 19:28:11.646760</td>\n      <td>True</td>\n      <td>0.937089</td>\n      <td>0.919856</td>\n      <td>0.826957</td>\n      <td>0.946239</td>\n      <td>0.942811</td>\n      <td>0.396586</td>\n      <td>0.987455</td>\n      <td>0.986084</td>\n      <td>0.869147</td>\n      <td>0.954571</td>\n      <td>0.952275</td>\n      <td>0.082497</td>\n      <td>0.970735</td>\n      <td>0.968885</td>\n      <td>0.150691</td>\n      <td>Pipeline(steps=[('transform', StandardScaler()...</td>\n    </tr>\n    <tr>\n      <th>0</th>\n      <td>em_acount</td>\n      <td>0.902959</td>\n      <td>2022-04-18 19:21:05.434710</td>\n      <td>True</td>\n      <td>0.937089</td>\n      <td>0.919856</td>\n      <td>0.826957</td>\n      <td>0.946239</td>\n      <td>0.942811</td>\n      <td>0.396586</td>\n      <td>0.987455</td>\n      <td>0.986084</td>\n      <td>0.869147</td>\n      <td>0.954571</td>\n      <td>0.952275</td>\n      <td>0.082497</td>\n      <td>0.970735</td>\n      <td>0.968885</td>\n      <td>0.150691</td>\n      <td>Pipeline(steps=[('transform', StandardScaler()...</td>\n    </tr>\n  </tbody>\n</table>\n</div>"
     },
     "execution_count": 95,
     "metadata": {},
     "output_type": "execute_result"
    }
   ],
   "source": [
    "report_df = reporter.record_evaluation(TARGET, best_model, X_train, y_train, X_test, y_test, X_val, y_val, train_df[TARGET].mean())\n",
    "report_df.sort_values(by=\"date\", ascending=False)"
   ],
   "metadata": {
    "collapsed": false,
    "pycharm": {
     "name": "#%%\n"
    }
   }
  },
  {
   "cell_type": "code",
   "execution_count": 96,
   "outputs": [
    {
     "data": {
      "text/plain": "Text(0, 0.5, 'TPR')"
     },
     "execution_count": 96,
     "metadata": {},
     "output_type": "execute_result"
    },
    {
     "data": {
      "text/plain": "<Figure size 1080x720 with 1 Axes>",
      "image/png": "[encoded data removed]"
     },
     "metadata": {
      "needs_background": "light"
     },
     "output_type": "display_data"
    }
   ],
   "source": [
    "fpr, tpr, th = roc_curve(y_test, get_y_score(best_model, X_test, y_test))\n",
    "plt.figure(figsize=(15, 10))\n",
    "plt.plot(fpr, tpr)\n",
    "plt.plot([0, 1], [0, 1])\n",
    "plt.xlabel('FPR')\n",
    "plt.ylabel('TPR')"
   ],
   "metadata": {
    "collapsed": false,
    "pycharm": {
     "name": "#%%\n"
    }
   }
  },
  {
   "cell_type": "code",
   "execution_count": 97,
   "outputs": [
    {
     "data": {
      "text/plain": "<AxesSubplot:>"
     },
     "execution_count": 97,
     "metadata": {},
     "output_type": "execute_result"
    },
    {
     "data": {
      "text/plain": "<Figure size 432x288 with 1 Axes>",
      "image/png": "[encoded data removed]"
     },
     "metadata": {
      "needs_background": "light"
     },
     "output_type": "display_data"
    }
   ],
   "source": [
    "feat_importances = pd.Series(best_model.feature_importances_, index=dev_X.columns)\n",
    "feat_importances.nlargest(20).plot(kind='barh')"
   ],
   "metadata": {
    "collapsed": false,
    "pycharm": {
     "name": "#%%\n"
    }
   }
  },
  {
   "cell_type": "code",
   "execution_count": null,
   "outputs": [],
   "source": [],
   "metadata": {
    "collapsed": false,
    "pycharm": {
     "name": "#%%\n"
    }
   }
  },
  {
   "cell_type": "code",
   "execution_count": null,
   "outputs": [],
   "source": [],
   "metadata": {
    "collapsed": false,
    "pycharm": {
     "name": "#%%\n"
    }
   }
  },
  {
   "cell_type": "code",
   "execution_count": null,
   "outputs": [],
   "source": [],
   "metadata": {
    "collapsed": false,
    "pycharm": {
     "name": "#%%\n"
    }
   }
  },
  {
   "cell_type": "code",
   "execution_count": null,
   "outputs": [],
   "source": [
    "# from sklearn.model_selection import cross_val_score\n",
    "#\n",
    "# score = cross_val_score(best_model, X_train, y_train.values.ravel(), cv=10, scoring='roc_auc')\n",
    "# print(score)"
   ],
   "metadata": {
    "collapsed": false,
    "pycharm": {
     "name": "#%%\n"
    }
   }
  },
  {
   "cell_type": "markdown",
   "source": [
    "## Modelling"
   ],
   "metadata": {
    "collapsed": false,
    "pycharm": {
     "name": "#%% md\n"
    }
   }
  },
  {
   "cell_type": "code",
   "execution_count": 43,
   "outputs": [
    {
     "name": "stderr",
     "output_type": "stream",
     "text": [
      "C:\\Users\\alfre\\anaconda3\\lib\\site-packages\\xgboost\\sklearn.py:1224: UserWarning: The use of label encoder in XGBClassifier is deprecated and will be removed in a future release. To remove this warning, do the following: 1) Pass option use_label_encoder=False when constructing XGBClassifier object; and 2) Encode your labels (y) as integers starting with 0, i.e. 0, 1, 2, ..., [num_class - 1].\n",
      "  warnings.warn(label_encoder_deprecation_msg, UserWarning)\n",
      "C:\\Users\\alfre\\anaconda3\\lib\\site-packages\\sklearn\\utils\\validation.py:63: DataConversionWarning: A column-vector y was passed when a 1d array was expected. Please change the shape of y to (n_samples, ), for example using ravel().\n",
      "  return f(*args, **kwargs)\n"
     ]
    },
    {
     "name": "stdout",
     "output_type": "stream",
     "text": [
      "[14:38:30] WARNING: D:\\bld\\xgboost-split_1637426510059\\work\\src\\learner.cc:1115: Starting in XGBoost 1.3.0, the default evaluation metric used with the objective 'binary:logistic' was changed from 'error' to 'logloss'. Explicitly set eval_metric if you'd like to restore the old behavior.\n"
     ]
    },
    {
     "data": {
      "text/plain": "XGBClassifier(base_score=0.5, booster='gbtree', colsample_bylevel=1,\n              colsample_bynode=1, colsample_bytree=1, enable_categorical=False,\n              gamma=0, gpu_id=-1, importance_type=None,\n              interaction_constraints='', learning_rate=0.300000012,\n              max_delta_step=0, max_depth=6, min_child_weight=1, missing=nan,\n              monotone_constraints='()', n_estimators=100, n_jobs=12,\n              num_parallel_tree=1, predictor='auto', random_state=0,\n              reg_alpha=0, reg_lambda=1, scale_pos_weight=1, subsample=1,\n              tree_method='exact', validate_parameters=1, verbosity=None)"
     },
     "execution_count": 43,
     "metadata": {},
     "output_type": "execute_result"
    }
   ],
   "source": [
    "model: XGBClassifier = XGBClassifier()\n",
    "model.fit(X_train, y_train)"
   ],
   "metadata": {
    "collapsed": false,
    "pycharm": {
     "name": "#%%\n"
    }
   }
  },
  {
   "cell_type": "code",
   "execution_count": 46,
   "outputs": [
    {
     "name": "stdout",
     "output_type": "stream",
     "text": [
      "TEST\n",
      "AUC Score : 0.6917481104394017\n",
      "Score : 0.7675773516601617\n",
      "Accuracy Score : 0.7675773516601617\n",
      "Precision Score : 0.749483399917344\n",
      "Recall Score : 0.958425085880384\n",
      "F1 Score : 0.841173514746241\n"
     ]
    },
    {
     "data": {
      "text/plain": "array([[ 2689,  3637],\n       [  472, 10881]], dtype=int64)"
     },
     "execution_count": 46,
     "metadata": {},
     "output_type": "execute_result"
    }
   ],
   "source": [
    "test_prediction = model.predict(X_test)\n",
    "\n",
    "print(\"TEST\")\n",
    "print('AUC Score : ' + str(roc_auc_score(y_test, test_prediction)))\n",
    "print('Accuracy Score : ' + str(accuracy_score(y_test, test_prediction)))\n",
    "print('Precision Score : ' + str(precision_score(y_test, test_prediction)))\n",
    "print('Recall Score : ' + str(recall_score(y_test, test_prediction)))\n",
    "print('F1 Score : ' + str(f1_score(y_test, test_prediction)))\n",
    "\n",
    "confusion_matrix(y_test, test_prediction)"
   ],
   "metadata": {
    "collapsed": false,
    "pycharm": {
     "name": "#%%\n"
    }
   }
  },
  {
   "cell_type": "code",
   "execution_count": 45,
   "outputs": [
    {
     "name": "stdout",
     "output_type": "stream",
     "text": [
      "VALIDATION\n",
      "AUC Score : 0.5390969259396357\n",
      "Accuracy Score : 0.33290131501575665\n",
      "Precision Score : 0.018094256468581177\n",
      "Recall Score : 0.7522163120567376\n",
      "F1 Score : 0.03533846068414038\n"
     ]
    },
    {
     "data": {
      "text/plain": "array([[ 2689,  3637],\n       [  472, 10881]], dtype=int64)"
     },
     "execution_count": 45,
     "metadata": {},
     "output_type": "execute_result"
    }
   ],
   "source": [
    "validation_prediction = model.predict(X_val)\n",
    "\n",
    "print(\"VALIDATION\")\n",
    "print('AUC Score : ' + str(roc_auc_score(y_val, validation_prediction)))\n",
    "print('Accuracy Score : ' + str(accuracy_score(y_val, validation_prediction)))\n",
    "print('Precision Score : ' + str(precision_score(y_val, validation_prediction)))\n",
    "print('Recall Score : ' + str(recall_score(y_val, validation_prediction)))\n",
    "print('F1 Score : ' + str(f1_score(y_val, validation_prediction)))\n",
    "\n",
    "confusion_matrix(y_test, test_prediction)"
   ],
   "metadata": {
    "collapsed": false,
    "pycharm": {
     "name": "#%%\n"
    }
   }
  },
  {
   "cell_type": "code",
   "execution_count": null,
   "outputs": [],
   "source": [],
   "metadata": {
    "collapsed": false,
    "pycharm": {
     "name": "#%%\n"
    }
   }
  },
  {
   "cell_type": "code",
   "execution_count": null,
   "outputs": [],
   "source": [],
   "metadata": {
    "collapsed": false,
    "pycharm": {
     "name": "#%%\n"
    }
   }
  },
  {
   "cell_type": "code",
   "execution_count": null,
   "outputs": [],
   "source": [],
   "metadata": {
    "collapsed": false,
    "pycharm": {
     "name": "#%%\n"
    }
   }
  },
  {
   "cell_type": "code",
   "execution_count": null,
   "outputs": [],
   "source": [],
   "metadata": {
    "collapsed": false,
    "pycharm": {
     "name": "#%%\n"
    }
   }
  },
  {
   "cell_type": "code",
   "execution_count": null,
   "outputs": [],
   "source": [],
   "metadata": {
    "collapsed": false,
    "pycharm": {
     "name": "#%%\n"
    }
   }
  },
  {
   "cell_type": "code",
   "execution_count": 48,
   "outputs": [],
   "source": [
    "def generate_clf_from_search(grid_or_random, clf, parameters, scorer, X, y):\n",
    "    if grid_or_random == \"Grid\":\n",
    "        search_obj = GridSearchCV(clf, parameters, scoring=scorer)\n",
    "    elif grid_or_random == \"Random\":\n",
    "        search_obj = RandomizedSearchCV(clf, parameters, scoring=scorer)\n",
    "    fit_obj = search_obj.fit(X, y)\n",
    "    best_clf = fit_obj.best_estimator_\n",
    "    return best_clf"
   ],
   "metadata": {
    "collapsed": false,
    "pycharm": {
     "name": "#%%\n"
    }
   }
  },
  {
   "cell_type": "code",
   "execution_count": 49,
   "outputs": [],
   "source": [
    "from sklearn.metrics import make_scorer\n",
    "\n",
    "parameters = {\n",
    "    'max_depth': [3, 4, 5, 6],\n",
    "    'min_samples_leaf': [50, 100, 150],\n",
    "    # 'min_samples_split':[2,3,4,5],\n",
    "    # 'criterion': ['gini', 'entropy']\n",
    "}\n",
    "scorer = make_scorer(roc_auc_score)"
   ],
   "metadata": {
    "collapsed": false,
    "pycharm": {
     "name": "#%%\n"
    }
   }
  },
  {
   "cell_type": "code",
   "execution_count": null,
   "outputs": [],
   "source": [
    "best_clf_random = generate_clf_from_search(\n",
    "    \"Random\",\n",
    "    model,\n",
    "    parameters,\n",
    "    scorer,\n",
    "    X_train,\n",
    "    y_train\n",
    ")"
   ],
   "metadata": {
    "collapsed": false,
    "pycharm": {
     "name": "#%%\n"
    }
   }
  },
  {
   "cell_type": "code",
   "execution_count": null,
   "outputs": [],
   "source": [
    "best_clf_random.best_estimator_"
   ],
   "metadata": {
    "collapsed": false,
    "pycharm": {
     "name": "#%%\n"
    }
   }
  },
  {
   "cell_type": "code",
   "execution_count": 59,
   "outputs": [
    {
     "ename": "AttributeError",
     "evalue": "'DecisionTreeClassifier' object has no attribute 'best_params_'",
     "output_type": "error",
     "traceback": [
      "\u001B[1;31m---------------------------------------------------------------------------\u001B[0m",
      "\u001B[1;31mAttributeError\u001B[0m                            Traceback (most recent call last)",
      "\u001B[1;32m~\\AppData\\Local\\Temp/ipykernel_3588/3448780846.py\u001B[0m in \u001B[0;36m<module>\u001B[1;34m\u001B[0m\n\u001B[1;32m----> 1\u001B[1;33m \u001B[0mclf\u001B[0m\u001B[1;33m.\u001B[0m\u001B[0mbest_params_\u001B[0m\u001B[1;33m\u001B[0m\u001B[1;33m\u001B[0m\u001B[0m\n\u001B[0m",
      "\u001B[1;31mAttributeError\u001B[0m: 'DecisionTreeClassifier' object has no attribute 'best_params_'"
     ]
    }
   ],
   "source": [
    "best_clf_random.best_params_"
   ],
   "metadata": {
    "collapsed": false,
    "pycharm": {
     "name": "#%%\n"
    }
   }
  },
  {
   "cell_type": "code",
   "execution_count": 58,
   "outputs": [
    {
     "ename": "AttributeError",
     "evalue": "'DecisionTreeClassifier' object has no attribute 'best_score_'",
     "output_type": "error",
     "traceback": [
      "\u001B[1;31m---------------------------------------------------------------------------\u001B[0m",
      "\u001B[1;31mAttributeError\u001B[0m                            Traceback (most recent call last)",
      "\u001B[1;32m~\\AppData\\Local\\Temp/ipykernel_3588/3320998667.py\u001B[0m in \u001B[0;36m<module>\u001B[1;34m\u001B[0m\n\u001B[1;32m----> 1\u001B[1;33m \u001B[0mclf\u001B[0m\u001B[1;33m.\u001B[0m\u001B[0mbest_score_\u001B[0m\u001B[1;33m\u001B[0m\u001B[1;33m\u001B[0m\u001B[0m\n\u001B[0m",
      "\u001B[1;31mAttributeError\u001B[0m: 'DecisionTreeClassifier' object has no attribute 'best_score_'"
     ]
    }
   ],
   "source": [
    "best_clf_random.best_score_"
   ],
   "metadata": {
    "collapsed": false,
    "pycharm": {
     "name": "#%%\n"
    }
   }
  },
  {
   "cell_type": "code",
   "execution_count": 45,
   "outputs": [
    {
     "data": {
      "text/plain": "['accuracy',\n 'adjusted_mutual_info_score',\n 'adjusted_rand_score',\n 'average_precision',\n 'balanced_accuracy',\n 'completeness_score',\n 'explained_variance',\n 'f1',\n 'f1_macro',\n 'f1_micro',\n 'f1_samples',\n 'f1_weighted',\n 'fowlkes_mallows_score',\n 'homogeneity_score',\n 'jaccard',\n 'jaccard_macro',\n 'jaccard_micro',\n 'jaccard_samples',\n 'jaccard_weighted',\n 'max_error',\n 'mutual_info_score',\n 'neg_brier_score',\n 'neg_log_loss',\n 'neg_mean_absolute_error',\n 'neg_mean_absolute_percentage_error',\n 'neg_mean_gamma_deviance',\n 'neg_mean_poisson_deviance',\n 'neg_mean_squared_error',\n 'neg_mean_squared_log_error',\n 'neg_median_absolute_error',\n 'neg_root_mean_squared_error',\n 'normalized_mutual_info_score',\n 'precision',\n 'precision_macro',\n 'precision_micro',\n 'precision_samples',\n 'precision_weighted',\n 'r2',\n 'rand_score',\n 'recall',\n 'recall_macro',\n 'recall_micro',\n 'recall_samples',\n 'recall_weighted',\n 'roc_auc',\n 'roc_auc_ovo',\n 'roc_auc_ovo_weighted',\n 'roc_auc_ovr',\n 'roc_auc_ovr_weighted',\n 'top_k_accuracy',\n 'v_measure_score']"
     },
     "execution_count": 45,
     "metadata": {},
     "output_type": "execute_result"
    }
   ],
   "source": [
    "from sklearn import metrics\n",
    "\n",
    "sorted(metrics.SCORERS.keys())"
   ],
   "metadata": {
    "collapsed": false,
    "pycharm": {
     "name": "#%%\n"
    }
   }
  },
  {
   "cell_type": "code",
   "execution_count": 48,
   "outputs": [
    {
     "data": {
      "text/plain": "0.8875681079685387"
     },
     "execution_count": 48,
     "metadata": {},
     "output_type": "execute_result"
    }
   ],
   "source": [
    "from sklearn.model_selection import cross_val_score\n",
    "\n",
    "scores = cross_val_score(best_clf_random, X_test, y_test, cv=5, scoring='roc_auc')\n",
    "scores.mean()"
   ],
   "metadata": {
    "collapsed": false,
    "pycharm": {
     "name": "#%%\n"
    }
   }
  },
  {
   "cell_type": "code",
   "execution_count": 39,
   "outputs": [
    {
     "name": "stdout",
     "output_type": "stream",
     "text": [
      "TEST\n",
      "AUC Score : 0.7662356481244059\n",
      "Accuracy Score : 0.9358846988036101\n",
      "Precision Score : 0.9533958553925276\n",
      "Recall Score : 0.9767395010072835\n",
      "F1 Score : 0.9649265156154317\n",
      "VALIDATION\n",
      "AUC Score : 0.604942960128016\n",
      "Accuracy Score : 0.35988806198140066\n",
      "Precision Score : 0.07923599260523322\n",
      "Recall Score : 0.8844246031746031\n",
      "F1 Score : 0.1454417906551814\n"
     ]
    }
   ],
   "source": [
    "best_clf_random.fit(X_train, y_train)\n",
    "# Make predictions using the new model.\n",
    "best_train_predictions = best_clf_random.predict(X_train)\n",
    "best_test_predictions = best_clf_random.predict(X_test)\n",
    "best_validation_predictions = best_clf_random.predict(X_val)\n",
    "\n",
    "# Calculate the f1_score of the new model.\n",
    "print(\"TEST\")\n",
    "print('AUC Score : ' + str(roc_auc_score(y_test, best_test_predictions)))\n",
    "print('Accuracy Score : ' + str(accuracy_score(y_test, best_test_predictions)))\n",
    "print('Precision Score : ' + str(precision_score(y_test, best_test_predictions)))\n",
    "print('Recall Score : ' + str(recall_score(y_test, best_test_predictions)))\n",
    "print('F1 Score : ' + str(f1_score(y_test, best_test_predictions)))\n",
    "\n",
    "print(\"VALIDATION\")\n",
    "print('AUC Score : ' + str(roc_auc_score(y_val, best_validation_predictions)))\n",
    "print('Accuracy Score : ' + str(accuracy_score(y_val, best_validation_predictions)))\n",
    "print('Precision Score : ' + str(precision_score(y_val, best_validation_predictions)))\n",
    "print('Recall Score : ' + str(recall_score(y_val, best_validation_predictions)))\n",
    "print('F1 Score : ' + str(f1_score(y_val, best_validation_predictions)))"
   ],
   "metadata": {
    "collapsed": false,
    "pycharm": {
     "name": "#%%\n"
    }
   }
  },
  {
   "cell_type": "code",
   "execution_count": 49,
   "outputs": [],
   "source": [
    "model = best_clf_random"
   ],
   "metadata": {
    "collapsed": false,
    "pycharm": {
     "name": "#%%\n"
    }
   }
  },
  {
   "cell_type": "markdown",
   "source": [
    "## Modelling"
   ],
   "metadata": {
    "collapsed": false,
    "pycharm": {
     "name": "#%% md\n"
    }
   }
  },
  {
   "cell_type": "code",
   "execution_count": 50,
   "outputs": [],
   "source": [
    "_MAX_DEPTH = 4\n",
    "_MIN_SAMPLES_LEAF = 100\n",
    "_RANDOM_STATE = 42\n",
    "\n",
    "_MIN_CHILD_WEIGHT = 100\n",
    "_N_ESTIMATORS = 50"
   ],
   "metadata": {
    "collapsed": false,
    "pycharm": {
     "name": "#%%\n"
    }
   }
  },
  {
   "cell_type": "code",
   "execution_count": 51,
   "outputs": [],
   "source": [
    "# model = xgb.XGBClassifier(\n",
    "#     max_depth=_MAX_DEPTH,\n",
    "#     min_child_weight=_MIN_CHILD_WEIGHT,\n",
    "#     n_estimators=_N_ESTIMATORS,\n",
    "#     random_state=_RANDOM_STATE,\n",
    "#     use_label_encoder=False\n",
    "# )"
   ],
   "metadata": {
    "collapsed": false,
    "pycharm": {
     "name": "#%%\n"
    }
   }
  },
  {
   "cell_type": "code",
   "execution_count": 52,
   "outputs": [],
   "source": [
    "# model.fit(X_train, y_train)"
   ],
   "metadata": {
    "collapsed": false,
    "pycharm": {
     "name": "#%%\n"
    }
   }
  },
  {
   "cell_type": "code",
   "execution_count": 96,
   "outputs": [
    {
     "name": "stdout",
     "output_type": "stream",
     "text": [
      "Accuracy: 0.3837\n"
     ]
    }
   ],
   "source": [
    "# accuracy = round(model.score(X_val, y_val), 4)\n",
    "# print('Accuracy: %0.4f' % (accuracy))"
   ],
   "metadata": {
    "collapsed": false,
    "pycharm": {
     "name": "#%%\n"
    }
   }
  },
  {
   "cell_type": "code",
   "execution_count": 53,
   "outputs": [
    {
     "data": {
      "text/plain": "0.8867158336732655"
     },
     "execution_count": 53,
     "metadata": {},
     "output_type": "execute_result"
    }
   ],
   "source": [
    "y_score = pd.DataFrame(model.predict_proba(X_test)[:, 1], index=y_test.index, columns=['score'])\n",
    "roc_auc_score(y_test, y_score)"
   ],
   "metadata": {
    "collapsed": false,
    "pycharm": {
     "name": "#%%\n"
    }
   }
  },
  {
   "cell_type": "code",
   "execution_count": 54,
   "outputs": [
    {
     "data": {
      "text/plain": "Text(0, 0.5, 'TPR')"
     },
     "execution_count": 54,
     "metadata": {},
     "output_type": "execute_result"
    },
    {
     "data": {
      "text/plain": "<Figure size 1080x720 with 1 Axes>",
      "image/png": "[encoded data removed]"
     },
     "metadata": {
      "needs_background": "light"
     },
     "output_type": "display_data"
    }
   ],
   "source": [
    "fpr, tpr, th = roc_curve(y_test, y_score)\n",
    "plt.figure(figsize=(15, 10))\n",
    "plt.plot(fpr, tpr)\n",
    "plt.plot([0, 1], [0, 1])\n",
    "plt.xlabel('FPR')\n",
    "plt.ylabel('TPR')"
   ],
   "metadata": {
    "collapsed": false,
    "pycharm": {
     "name": "#%%\n"
    }
   }
  },
  {
   "cell_type": "code",
   "execution_count": 55,
   "outputs": [
    {
     "data": {
      "text/plain": "<AxesSubplot:>"
     },
     "execution_count": 55,
     "metadata": {},
     "output_type": "execute_result"
    },
    {
     "data": {
      "text/plain": "<Figure size 432x288 with 1 Axes>",
      "image/png": "[encoded data removed]"
     },
     "metadata": {
      "needs_background": "light"
     },
     "output_type": "display_data"
    }
   ],
   "source": [
    "feat_importances = pd.Series(model.feature_importances_, index=dev_X.columns)\n",
    "feat_importances.nlargest(20).plot(kind='barh')"
   ],
   "metadata": {
    "collapsed": false,
    "pycharm": {
     "name": "#%%\n"
    }
   }
  },
  {
   "cell_type": "code",
   "execution_count": 99,
   "outputs": [],
   "source": [],
   "metadata": {
    "collapsed": false,
    "pycharm": {
     "name": "#%%\n"
    }
   }
  }
 ],
 "metadata": {
  "kernelspec": {
   "display_name": "Python 3",
   "language": "python",
   "name": "python3"
  },
  "language_info": {
   "codemirror_mode": {
    "name": "ipython",
    "version": 2
   },
   "file_extension": ".py",
   "mimetype": "text/x-python",
   "name": "python",
   "nbconvert_exporter": "python",
   "pygments_lexer": "ipython2",
   "version": "2.7.6"
  }
 },
 "nbformat": 4,
 "nbformat_minor": 0
}