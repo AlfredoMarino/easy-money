{
 "cells": [
  {
   "cell_type": "markdown",
   "source": [
    "# Easy Money - Classification"
   ],
   "metadata": {
    "collapsed": false,
    "pycharm": {
     "name": "#%% md\n",
     "is_executing": true
    }
   }
  },
  {
   "cell_type": "code",
   "execution_count": 2,
   "metadata": {
    "collapsed": true
   },
   "outputs": [],
   "source": [
    "import pandas as pd\n",
    "import numpy as np\n",
    "import matplotlib.pyplot as plt\n",
    "import seaborn as sns\n",
    "\n",
    "from sklearn.tree import DecisionTreeClassifier as dt\n",
    "from sklearn.metrics import accuracy_score, precision_score, recall_score, f1_score, confusion_matrix, roc_auc_score, \\\n",
    "    roc_curve\n",
    "from sklearn.base import BaseEstimator, TransformerMixin\n",
    "from sklearn.model_selection import train_test_split, GridSearchCV, RandomizedSearchCV\n",
    "from sklearn.pipeline import Pipeline\n",
    "\n",
    "import xgboost as xgb"
   ]
  },
  {
   "cell_type": "code",
   "execution_count": 25,
   "outputs": [],
   "source": [
    "__DATA_PATH__ = \"../data/processed\"\n",
    "\n",
    "TARGET = \"debit_card\"\n",
    "\n",
    "DEV_PARTITION_PERIOD = (\"2018-01-28\", \"2019-02-28\")\n",
    "VAL_PARTITION_PERIOD = (\"2019-03-28\", \"2019-05-28\")\n",
    "\n",
    "EXCLUDE_COLUMNS = [\"pk_cid\", \"pk_partition\"]"
   ],
   "metadata": {
    "collapsed": false,
    "pycharm": {
     "name": "#%%\n"
    }
   }
  },
  {
   "cell_type": "markdown",
   "source": [
    "## Import data"
   ],
   "metadata": {
    "collapsed": false,
    "pycharm": {
     "name": "#%% md\n"
    }
   }
  },
  {
   "cell_type": "code",
   "execution_count": 4,
   "outputs": [],
   "source": [
    "dtypes = {'pk_cid': 'int64', 'active_customer': 'int8',\n",
    "          'region_code': 'int8', 'gender': 'int8', 'age': 'int8', 'deceased': 'int8',\n",
    "          'short_term_deposit': 'int8', 'loans': 'int8', 'mortgage': 'int8',\n",
    "          'funds': 'int8', 'securities': 'int8', 'long_term_deposit': 'int8',\n",
    "          'em_account_pp': 'int8', 'credit_card': 'int8', 'payroll': 'int8',\n",
    "          'pension_plan': 'int8', 'payroll_account': 'int8', 'emc_account': 'int8',\n",
    "          'debit_card': 'int8', 'em_account_p': 'int8', 'em_acount': 'int8',\n",
    "          'entry_date_month': 'int8', 'entry_date_year': 'int8', 'entry_date_day': 'int8',\n",
    "          'entry_date_week': 'int8', 'entry_date_weekday': 'int8', 'entry_date_trim': 'int8',\n",
    "          'salary': 'float64', 'entry_channel_004': 'int8', 'entry_channel_007': 'int8',\n",
    "          'entry_channel_013': 'int8', 'entry_channel_KAA': 'int8', 'entry_channel_KAB': 'int8',\n",
    "          'entry_channel_KAD': 'int8', 'entry_channel_KAE': 'int8', 'entry_channel_KAF': 'int8',\n",
    "          'entry_channel_KAG': 'int8', 'entry_channel_KAH': 'int8', 'entry_channel_KAI': 'int8',\n",
    "          'entry_channel_KAJ': 'int8', 'entry_channel_KAK': 'int8', 'entry_channel_KAM': 'int8',\n",
    "          'entry_channel_KAQ': 'int8', 'entry_channel_KAR': 'int8', 'entry_channel_KAS': 'int8',\n",
    "          'entry_channel_KAT': 'int8', 'entry_channel_KAW': 'int8', 'entry_channel_KAY': 'int8',\n",
    "          'entry_channel_KAZ': 'int8', 'entry_channel_KBE': 'int8', 'entry_channel_KBG': 'int8',\n",
    "          'entry_channel_KBH': 'int8', 'entry_channel_KBO': 'int8', 'entry_channel_KBU': 'int8',\n",
    "          'entry_channel_KBW': 'int8', 'entry_channel_KBY': 'int8', 'entry_channel_KBZ': 'int8',\n",
    "          'entry_channel_KCB': 'int8', 'entry_channel_KCC': 'int8', 'entry_channel_KCH': 'int8',\n",
    "          'entry_channel_KCI': 'int8', 'entry_channel_KCK': 'int8', 'entry_channel_KCL': 'int8',\n",
    "          'entry_channel_KDA': 'int8', 'entry_channel_KDH': 'int8', 'entry_channel_KDR': 'int8',\n",
    "          'entry_channel_KDS': 'int8', 'entry_channel_KDT': 'int8', 'entry_channel_KEH': 'int8',\n",
    "          'entry_channel_KEJ': 'int8', 'entry_channel_KES': 'int8', 'entry_channel_KEY': 'int8',\n",
    "          'entry_channel_KFA': 'int8', 'entry_channel_KFC': 'int8', 'entry_channel_KFD': 'int8',\n",
    "          'entry_channel_KFF': 'int8', 'entry_channel_KFK': 'int8', 'entry_channel_KFL': 'int8',\n",
    "          'entry_channel_KFP': 'int8', 'entry_channel_KFS': 'int8', 'entry_channel_KGC': 'int8',\n",
    "          'entry_channel_KGN': 'int8', 'entry_channel_KGX': 'int8', 'entry_channel_KHC': 'int8',\n",
    "          'entry_channel_KHD': 'int8', 'entry_channel_KHE': 'int8', 'entry_channel_KHF': 'int8',\n",
    "          'entry_channel_KHK': 'int8', 'entry_channel_KHL': 'int8', 'entry_channel_KHM': 'int8',\n",
    "          'entry_channel_KHN': 'int8', 'entry_channel_KHO': 'int8', 'entry_channel_KHP': 'int8',\n",
    "          'entry_channel_KHQ': 'int8', 'entry_channel_KHS': 'int8', 'entry_channel_RED': 'int8',\n",
    "          'entry_channel_UNKNOWN': 'int8', 'segment_00 - OTROS': 'int8',\n",
    "          'segment_01 - TOP': 'int8', 'segment_02 - PARTICULARES': 'int8',\n",
    "          'segment_03 - UNIVERSITARIO': 'int8', 'country_id_AR': 'int8', 'country_id_AT': 'int8',\n",
    "          'country_id_BE': 'int8', 'country_id_BR': 'int8', 'country_id_CA': 'int8',\n",
    "          'country_id_CH': 'int8', 'country_id_CI': 'int8', 'country_id_CL': 'int8',\n",
    "          'country_id_CM': 'int8', 'country_id_CN': 'int8', 'country_id_CO': 'int8',\n",
    "          'country_id_DE': 'int8', 'country_id_DJ': 'int8', 'country_id_DO': 'int8',\n",
    "          'country_id_DZ': 'int8', 'country_id_ES': 'int8', 'country_id_ET': 'int8',\n",
    "          'country_id_FR': 'int8', 'country_id_GA': 'int8', 'country_id_GB': 'int8',\n",
    "          'country_id_GT': 'int8', 'country_id_HU': 'int8', 'country_id_IE': 'int8',\n",
    "          'country_id_IT': 'int8', 'country_id_JM': 'int8', 'country_id_LU': 'int8',\n",
    "          'country_id_MA': 'int8', 'country_id_MR': 'int8', 'country_id_MX': 'int8',\n",
    "          'country_id_NO': 'int8', 'country_id_PE': 'int8', 'country_id_PL': 'int8',\n",
    "          'country_id_PT': 'int8', 'country_id_QA': 'int8', 'country_id_RO': 'int8',\n",
    "          'country_id_RU': 'int8', 'country_id_SA': 'int8', 'country_id_SE': 'int8',\n",
    "          'country_id_SN': 'int8', 'country_id_US': 'int8', 'country_id_VE': 'int8'}\n",
    "\n",
    "parse_dates = ['pk_partition']"
   ],
   "metadata": {
    "collapsed": false,
    "pycharm": {
     "name": "#%%\n"
    }
   }
  },
  {
   "cell_type": "code",
   "execution_count": 6,
   "outputs": [
    {
     "name": "stdout",
     "output_type": "stream",
     "text": [
      "<class 'pandas.core.frame.DataFrame'>\n",
      "RangeIndex: 5962838 entries, 0 to 5962837\n",
      "Columns: 143 entries, pk_cid to country_id_VE\n",
      "dtypes: datetime64[ns](1), float64(1), int64(1), int8(140)\n",
      "memory usage: 932.6 MB\n",
      "Wall time: 50.9 s\n"
     ]
    }
   ],
   "source": [
    "%%time\n",
    "df = pd.read_csv(f\"{__DATA_PATH__}/easy_money_classification.csv\", dtype=dtypes, parse_dates=parse_dates)\n",
    "df.drop(\"Unnamed: 0\", axis=1, inplace=True)\n",
    "df.drop(\"entry_date\", axis=1, inplace=True)\n",
    "df[\"pk_partition\"] = pd.to_datetime(df[\"pk_partition\"])\n",
    "df.info(memory_usage=\"deep\")"
   ],
   "metadata": {
    "collapsed": false,
    "pycharm": {
     "name": "#%%\n"
    }
   }
  },
  {
   "cell_type": "code",
   "execution_count": 26,
   "outputs": [
    {
     "data": {
      "text/plain": "                     count          mean            std      min        25%  \\\npk_cid           5962838.0  1.234933e+06  162293.085772  15891.0  1112533.0   \nactive_customer  5962838.0  4.033799e-01       0.490576      0.0        0.0   \nregion_code      5962838.0  2.580417e+01      13.603136     -1.0       13.0   \ngender           5962838.0  5.177870e-01       0.499684      0.0        0.0   \nage              5962838.0  2.976015e+01      11.980074      2.0       22.0   \n...                    ...           ...            ...      ...        ...   \ncountry_id_SA    5962838.0  2.850991e-06       0.001688      0.0        0.0   \ncountry_id_SE    5962838.0  2.683286e-06       0.001638      0.0        0.0   \ncountry_id_SN    5962838.0  2.850991e-06       0.001688      0.0        0.0   \ncountry_id_US    5962838.0  3.270255e-05       0.005719      0.0        0.0   \ncountry_id_VE    5962838.0  1.324872e-05       0.003640      0.0        0.0   \n\n                       50%         75%        max  \npk_cid           1231097.0  1352339.75  1553689.0  \nactive_customer        0.0        1.00        1.0  \nregion_code           28.0       36.00       52.0  \ngender                 1.0        1.00        1.0  \nage                   25.0       34.00      105.0  \n...                    ...         ...        ...  \ncountry_id_SA          0.0        0.00        1.0  \ncountry_id_SE          0.0        0.00        1.0  \ncountry_id_SN          0.0        0.00        1.0  \ncountry_id_US          0.0        0.00        1.0  \ncountry_id_VE          0.0        0.00        1.0  \n\n[142 rows x 8 columns]",
      "text/html": "<div>\n<style scoped>\n    .dataframe tbody tr th:only-of-type {\n        vertical-align: middle;\n    }\n\n    .dataframe tbody tr th {\n        vertical-align: top;\n    }\n\n    .dataframe thead th {\n        text-align: right;\n    }\n</style>\n<table border=\"1\" class=\"dataframe\">\n  <thead>\n    <tr style=\"text-align: right;\">\n      <th></th>\n      <th>count</th>\n      <th>mean</th>\n      <th>std</th>\n      <th>min</th>\n      <th>25%</th>\n      <th>50%</th>\n      <th>75%</th>\n      <th>max</th>\n    </tr>\n  </thead>\n  <tbody>\n    <tr>\n      <th>pk_cid</th>\n      <td>5962838.0</td>\n      <td>1.234933e+06</td>\n      <td>162293.085772</td>\n      <td>15891.0</td>\n      <td>1112533.0</td>\n      <td>1231097.0</td>\n      <td>1352339.75</td>\n      <td>1553689.0</td>\n    </tr>\n    <tr>\n      <th>active_customer</th>\n      <td>5962838.0</td>\n      <td>4.033799e-01</td>\n      <td>0.490576</td>\n      <td>0.0</td>\n      <td>0.0</td>\n      <td>0.0</td>\n      <td>1.00</td>\n      <td>1.0</td>\n    </tr>\n    <tr>\n      <th>region_code</th>\n      <td>5962838.0</td>\n      <td>2.580417e+01</td>\n      <td>13.603136</td>\n      <td>-1.0</td>\n      <td>13.0</td>\n      <td>28.0</td>\n      <td>36.00</td>\n      <td>52.0</td>\n    </tr>\n    <tr>\n      <th>gender</th>\n      <td>5962838.0</td>\n      <td>5.177870e-01</td>\n      <td>0.499684</td>\n      <td>0.0</td>\n      <td>0.0</td>\n      <td>1.0</td>\n      <td>1.00</td>\n      <td>1.0</td>\n    </tr>\n    <tr>\n      <th>age</th>\n      <td>5962838.0</td>\n      <td>2.976015e+01</td>\n      <td>11.980074</td>\n      <td>2.0</td>\n      <td>22.0</td>\n      <td>25.0</td>\n      <td>34.00</td>\n      <td>105.0</td>\n    </tr>\n    <tr>\n      <th>...</th>\n      <td>...</td>\n      <td>...</td>\n      <td>...</td>\n      <td>...</td>\n      <td>...</td>\n      <td>...</td>\n      <td>...</td>\n      <td>...</td>\n    </tr>\n    <tr>\n      <th>country_id_SA</th>\n      <td>5962838.0</td>\n      <td>2.850991e-06</td>\n      <td>0.001688</td>\n      <td>0.0</td>\n      <td>0.0</td>\n      <td>0.0</td>\n      <td>0.00</td>\n      <td>1.0</td>\n    </tr>\n    <tr>\n      <th>country_id_SE</th>\n      <td>5962838.0</td>\n      <td>2.683286e-06</td>\n      <td>0.001638</td>\n      <td>0.0</td>\n      <td>0.0</td>\n      <td>0.0</td>\n      <td>0.00</td>\n      <td>1.0</td>\n    </tr>\n    <tr>\n      <th>country_id_SN</th>\n      <td>5962838.0</td>\n      <td>2.850991e-06</td>\n      <td>0.001688</td>\n      <td>0.0</td>\n      <td>0.0</td>\n      <td>0.0</td>\n      <td>0.00</td>\n      <td>1.0</td>\n    </tr>\n    <tr>\n      <th>country_id_US</th>\n      <td>5962838.0</td>\n      <td>3.270255e-05</td>\n      <td>0.005719</td>\n      <td>0.0</td>\n      <td>0.0</td>\n      <td>0.0</td>\n      <td>0.00</td>\n      <td>1.0</td>\n    </tr>\n    <tr>\n      <th>country_id_VE</th>\n      <td>5962838.0</td>\n      <td>1.324872e-05</td>\n      <td>0.003640</td>\n      <td>0.0</td>\n      <td>0.0</td>\n      <td>0.0</td>\n      <td>0.00</td>\n      <td>1.0</td>\n    </tr>\n  </tbody>\n</table>\n<p>142 rows × 8 columns</p>\n</div>"
     },
     "execution_count": 26,
     "metadata": {},
     "output_type": "execute_result"
    }
   ],
   "source": [
    "df.describe().T"
   ],
   "metadata": {
    "collapsed": false,
    "pycharm": {
     "name": "#%%\n"
    }
   }
  },
  {
   "cell_type": "markdown",
   "source": [
    "## Classes"
   ],
   "metadata": {
    "collapsed": false,
    "pycharm": {
     "name": "#%% md\n"
    }
   }
  },
  {
   "cell_type": "code",
   "execution_count": 27,
   "outputs": [],
   "source": [
    "class EasyMoneyFilter(BaseEstimator, TransformerMixin):\n",
    "\n",
    "    def __init__(self, target: str, group_by=\"pk_cid\", sort_value=None):\n",
    "        if sort_value is None:\n",
    "            sort_value = [\"pk_cid\", \"pk_partition\"]\n",
    "        self.target = target\n",
    "        self.group_by = group_by\n",
    "        self.sort_values = sort_value\n",
    "\n",
    "    def fit(self, X, y=None):\n",
    "        return self\n",
    "\n",
    "    def transform(self, X, y=None):\n",
    "        return pd.concat([\n",
    "            self.get_fist_sales(X),\n",
    "            self.get_last_no_sales(X)\n",
    "        ]).sort_values(self.sort_values, ignore_index=True)\n",
    "\n",
    "    def get_fist_sales(self, X) -> pd.DataFrame:\n",
    "        first_sale = X.groupby([self.group_by, self.target]).first().reset_index()\n",
    "        return first_sale[first_sale[self.target] == 1]\n",
    "\n",
    "    def get_last_no_sales(self, X) -> pd.DataFrame:\n",
    "        last_no_sale = X.groupby([self.group_by, self.target]).last().reset_index()\n",
    "        return last_no_sale[last_no_sale[self.target] == 0]\n",
    "\n",
    "\n",
    "class EasyMoneySplitter:\n",
    "\n",
    "    def __init__(self, dev_partition_period: tuple, val_partition_period: tuple, exclude_columns):\n",
    "        self.dev_partition_period = dev_partition_period\n",
    "        self.val_partition_period = val_partition_period\n",
    "        self.exclude_columns = exclude_columns\n",
    "\n",
    "    def get_train_partition(self, dataframe: pd.DataFrame) -> pd.DataFrame:\n",
    "        return self._get_partition(dataframe, self.dev_partition_period[0], self.dev_partition_period[1])\n",
    "\n",
    "    def get_validation_partition(self, dataframe: pd.DataFrame) -> pd.DataFrame:\n",
    "        return self._get_partition(dataframe, self.val_partition_period[0], self.val_partition_period[1])\n",
    "\n",
    "    def _get_partition(self, dataframe: pd.DataFrame, from_date, to_date) -> pd.DataFrame:\n",
    "        partition = self._split(dataframe, from_date, to_date)\n",
    "        return partition.drop(self.exclude_columns, axis=1)\n",
    "\n",
    "    def _split(self, dataframe: pd.DataFrame, from_date, to_date) -> pd.DataFrame:\n",
    "        return dataframe[dataframe[\"pk_partition\"].between(from_date, to_date)].reset_index(drop=True)"
   ],
   "metadata": {
    "collapsed": false,
    "pycharm": {
     "name": "#%%\n"
    }
   }
  },
  {
   "cell_type": "markdown",
   "source": [
    "## Functions"
   ],
   "metadata": {
    "collapsed": false,
    "pycharm": {
     "name": "#%% md\n"
    }
   }
  },
  {
   "cell_type": "code",
   "execution_count": 28,
   "outputs": [],
   "source": [
    "def hist_plot(dataframe: pd.DataFrame, target: str):\n",
    "    dataframe[target].hist()\n",
    "    plt.show()\n",
    "    print(target)\n",
    "    print(dataframe[target].value_counts())\n",
    "\n",
    "\n",
    "def relation_with_target(dataframe: pd.DataFrame, field: str, target: str):\n",
    "    plt.figure(figsize=(15, 5))\n",
    "    plt.xticks(rotation=90)\n",
    "    sns.countplot(data=dataframe, x=field, hue=target)\n",
    "    plt.show()\n",
    "    return dataframe.pivot_table(index=field, values=target, aggfunc=[len, sum, np.mean])"
   ],
   "metadata": {
    "collapsed": false,
    "pycharm": {
     "name": "#%%\n"
    }
   }
  },
  {
   "cell_type": "markdown",
   "source": [
    "## Filter data"
   ],
   "metadata": {
    "collapsed": false,
    "pycharm": {
     "name": "#%% md\n"
    }
   }
  },
  {
   "cell_type": "code",
   "execution_count": 29,
   "outputs": [
    {
     "data": {
      "text/plain": "         pk_cid  debit_card pk_partition  active_customer  region_code  \\\n0         15891           0   2018-08-28                0           28   \n1         16063           0   2019-05-28                0           28   \n2         16203           0   2019-05-28                1            8   \n3         16502           0   2019-05-28                1           28   \n4         17457           1   2018-09-28                1           28   \n...         ...         ...          ...              ...          ...   \n505038  1553685           0   2019-05-28                0           13   \n505039  1553686           0   2019-05-28                0           41   \n505040  1553687           0   2019-05-28                0           28   \n505041  1553688           0   2019-05-28                0           39   \n505042  1553689           0   2019-05-28                0           21   \n\n        gender  age  deceased  short_term_deposit  loans  ...  country_id_PL  \\\n0            1   59         0                   0      0  ...              0   \n1            1   62         0                   0      0  ...              0   \n2            0   70         0                   0      0  ...              0   \n3            1   58         0                   0      0  ...              0   \n4            1   53         0                   0      0  ...              0   \n...        ...  ...       ...                 ...    ...  ...            ...   \n505038       0   52         0                   0      0  ...              0   \n505039       1   30         0                   0      0  ...              0   \n505040       0   21         0                   0      0  ...              0   \n505041       1   43         0                   0      0  ...              0   \n505042       0   40         0                   0      0  ...              0   \n\n        country_id_PT  country_id_QA  country_id_RO  country_id_RU  \\\n0                   0              0              0              0   \n1                   0              0              0              0   \n2                   0              0              0              0   \n3                   0              0              0              0   \n4                   0              0              0              0   \n...               ...            ...            ...            ...   \n505038              0              0              0              0   \n505039              0              0              0              0   \n505040              0              0              0              0   \n505041              0              0              0              0   \n505042              0              0              0              0   \n\n        country_id_SA  country_id_SE  country_id_SN  country_id_US  \\\n0                   0              0              0              0   \n1                   0              0              0              0   \n2                   0              0              0              0   \n3                   0              0              0              0   \n4                   0              0              0              0   \n...               ...            ...            ...            ...   \n505038              0              0              0              0   \n505039              0              0              0              0   \n505040              0              0              0              0   \n505041              0              0              0              0   \n505042              0              0              0              0   \n\n        country_id_VE  \n0                   0  \n1                   0  \n2                   0  \n3                   0  \n4                   0  \n...               ...  \n505038              0  \n505039              0  \n505040              0  \n505041              0  \n505042              0  \n\n[505043 rows x 143 columns]",
      "text/html": "<div>\n<style scoped>\n    .dataframe tbody tr th:only-of-type {\n        vertical-align: middle;\n    }\n\n    .dataframe tbody tr th {\n        vertical-align: top;\n    }\n\n    .dataframe thead th {\n        text-align: right;\n    }\n</style>\n<table border=\"1\" class=\"dataframe\">\n  <thead>\n    <tr style=\"text-align: right;\">\n      <th></th>\n      <th>pk_cid</th>\n      <th>debit_card</th>\n      <th>pk_partition</th>\n      <th>active_customer</th>\n      <th>region_code</th>\n      <th>gender</th>\n      <th>age</th>\n      <th>deceased</th>\n      <th>short_term_deposit</th>\n      <th>loans</th>\n      <th>...</th>\n      <th>country_id_PL</th>\n      <th>country_id_PT</th>\n      <th>country_id_QA</th>\n      <th>country_id_RO</th>\n      <th>country_id_RU</th>\n      <th>country_id_SA</th>\n      <th>country_id_SE</th>\n      <th>country_id_SN</th>\n      <th>country_id_US</th>\n      <th>country_id_VE</th>\n    </tr>\n  </thead>\n  <tbody>\n    <tr>\n      <th>0</th>\n      <td>15891</td>\n      <td>0</td>\n      <td>2018-08-28</td>\n      <td>0</td>\n      <td>28</td>\n      <td>1</td>\n      <td>59</td>\n      <td>0</td>\n      <td>0</td>\n      <td>0</td>\n      <td>...</td>\n      <td>0</td>\n      <td>0</td>\n      <td>0</td>\n      <td>0</td>\n      <td>0</td>\n      <td>0</td>\n      <td>0</td>\n      <td>0</td>\n      <td>0</td>\n      <td>0</td>\n    </tr>\n    <tr>\n      <th>1</th>\n      <td>16063</td>\n      <td>0</td>\n      <td>2019-05-28</td>\n      <td>0</td>\n      <td>28</td>\n      <td>1</td>\n      <td>62</td>\n      <td>0</td>\n      <td>0</td>\n      <td>0</td>\n      <td>...</td>\n      <td>0</td>\n      <td>0</td>\n      <td>0</td>\n      <td>0</td>\n      <td>0</td>\n      <td>0</td>\n      <td>0</td>\n      <td>0</td>\n      <td>0</td>\n      <td>0</td>\n    </tr>\n    <tr>\n      <th>2</th>\n      <td>16203</td>\n      <td>0</td>\n      <td>2019-05-28</td>\n      <td>1</td>\n      <td>8</td>\n      <td>0</td>\n      <td>70</td>\n      <td>0</td>\n      <td>0</td>\n      <td>0</td>\n      <td>...</td>\n      <td>0</td>\n      <td>0</td>\n      <td>0</td>\n      <td>0</td>\n      <td>0</td>\n      <td>0</td>\n      <td>0</td>\n      <td>0</td>\n      <td>0</td>\n      <td>0</td>\n    </tr>\n    <tr>\n      <th>3</th>\n      <td>16502</td>\n      <td>0</td>\n      <td>2019-05-28</td>\n      <td>1</td>\n      <td>28</td>\n      <td>1</td>\n      <td>58</td>\n      <td>0</td>\n      <td>0</td>\n      <td>0</td>\n      <td>...</td>\n      <td>0</td>\n      <td>0</td>\n      <td>0</td>\n      <td>0</td>\n      <td>0</td>\n      <td>0</td>\n      <td>0</td>\n      <td>0</td>\n      <td>0</td>\n      <td>0</td>\n    </tr>\n    <tr>\n      <th>4</th>\n      <td>17457</td>\n      <td>1</td>\n      <td>2018-09-28</td>\n      <td>1</td>\n      <td>28</td>\n      <td>1</td>\n      <td>53</td>\n      <td>0</td>\n      <td>0</td>\n      <td>0</td>\n      <td>...</td>\n      <td>0</td>\n      <td>0</td>\n      <td>0</td>\n      <td>0</td>\n      <td>0</td>\n      <td>0</td>\n      <td>0</td>\n      <td>0</td>\n      <td>0</td>\n      <td>0</td>\n    </tr>\n    <tr>\n      <th>...</th>\n      <td>...</td>\n      <td>...</td>\n      <td>...</td>\n      <td>...</td>\n      <td>...</td>\n      <td>...</td>\n      <td>...</td>\n      <td>...</td>\n      <td>...</td>\n      <td>...</td>\n      <td>...</td>\n      <td>...</td>\n      <td>...</td>\n      <td>...</td>\n      <td>...</td>\n      <td>...</td>\n      <td>...</td>\n      <td>...</td>\n      <td>...</td>\n      <td>...</td>\n      <td>...</td>\n    </tr>\n    <tr>\n      <th>505038</th>\n      <td>1553685</td>\n      <td>0</td>\n      <td>2019-05-28</td>\n      <td>0</td>\n      <td>13</td>\n      <td>0</td>\n      <td>52</td>\n      <td>0</td>\n      <td>0</td>\n      <td>0</td>\n      <td>...</td>\n      <td>0</td>\n      <td>0</td>\n      <td>0</td>\n      <td>0</td>\n      <td>0</td>\n      <td>0</td>\n      <td>0</td>\n      <td>0</td>\n      <td>0</td>\n      <td>0</td>\n    </tr>\n    <tr>\n      <th>505039</th>\n      <td>1553686</td>\n      <td>0</td>\n      <td>2019-05-28</td>\n      <td>0</td>\n      <td>41</td>\n      <td>1</td>\n      <td>30</td>\n      <td>0</td>\n      <td>0</td>\n      <td>0</td>\n      <td>...</td>\n      <td>0</td>\n      <td>0</td>\n      <td>0</td>\n      <td>0</td>\n      <td>0</td>\n      <td>0</td>\n      <td>0</td>\n      <td>0</td>\n      <td>0</td>\n      <td>0</td>\n    </tr>\n    <tr>\n      <th>505040</th>\n      <td>1553687</td>\n      <td>0</td>\n      <td>2019-05-28</td>\n      <td>0</td>\n      <td>28</td>\n      <td>0</td>\n      <td>21</td>\n      <td>0</td>\n      <td>0</td>\n      <td>0</td>\n      <td>...</td>\n      <td>0</td>\n      <td>0</td>\n      <td>0</td>\n      <td>0</td>\n      <td>0</td>\n      <td>0</td>\n      <td>0</td>\n      <td>0</td>\n      <td>0</td>\n      <td>0</td>\n    </tr>\n    <tr>\n      <th>505041</th>\n      <td>1553688</td>\n      <td>0</td>\n      <td>2019-05-28</td>\n      <td>0</td>\n      <td>39</td>\n      <td>1</td>\n      <td>43</td>\n      <td>0</td>\n      <td>0</td>\n      <td>0</td>\n      <td>...</td>\n      <td>0</td>\n      <td>0</td>\n      <td>0</td>\n      <td>0</td>\n      <td>0</td>\n      <td>0</td>\n      <td>0</td>\n      <td>0</td>\n      <td>0</td>\n      <td>0</td>\n    </tr>\n    <tr>\n      <th>505042</th>\n      <td>1553689</td>\n      <td>0</td>\n      <td>2019-05-28</td>\n      <td>0</td>\n      <td>21</td>\n      <td>0</td>\n      <td>40</td>\n      <td>0</td>\n      <td>0</td>\n      <td>0</td>\n      <td>...</td>\n      <td>0</td>\n      <td>0</td>\n      <td>0</td>\n      <td>0</td>\n      <td>0</td>\n      <td>0</td>\n      <td>0</td>\n      <td>0</td>\n      <td>0</td>\n      <td>0</td>\n    </tr>\n  </tbody>\n</table>\n<p>505043 rows × 143 columns</p>\n</div>"
     },
     "execution_count": 29,
     "metadata": {},
     "output_type": "execute_result"
    }
   ],
   "source": [
    "pipe = Pipeline(steps=[\n",
    "    (\"filter\", EasyMoneyFilter(TARGET)),\n",
    "])\n",
    "\n",
    "df_prep = pipe.fit_transform(df)\n",
    "df_prep"
   ],
   "metadata": {
    "collapsed": false,
    "pycharm": {
     "name": "#%%\n"
    }
   }
  },
  {
   "cell_type": "markdown",
   "source": [
    "## Target distribution"
   ],
   "metadata": {
    "collapsed": false,
    "pycharm": {
     "name": "#%% md\n"
    }
   }
  },
  {
   "cell_type": "code",
   "execution_count": 30,
   "outputs": [
    {
     "data": {
      "text/plain": "                    count          mean            std      min        25%  \\\npk_cid           505043.0  1.275410e+06  178848.145497  15891.0  1144669.5   \ndebit_card       505043.0  1.257992e-01       0.331623      0.0        0.0   \nactive_customer  505043.0  4.282487e-01       0.494825      0.0        0.0   \nregion_code      505043.0  2.591608e+01      13.504364     -1.0       13.0   \ngender           505043.0  5.051213e-01       0.499974      0.0        0.0   \n...                   ...           ...            ...      ...        ...   \ncountry_id_SA    505043.0  1.980029e-06       0.001407      0.0        0.0   \ncountry_id_SE    505043.0  3.960059e-06       0.001990      0.0        0.0   \ncountry_id_SN    505043.0  1.980029e-06       0.001407      0.0        0.0   \ncountry_id_US    505043.0  3.366050e-05       0.005802      0.0        0.0   \ncountry_id_VE    505043.0  9.900147e-06       0.003146      0.0        0.0   \n\n                       50%        75%        max  \npk_cid           1285803.0  1421230.5  1553689.0  \ndebit_card             0.0        0.0        1.0  \nactive_customer        0.0        1.0        1.0  \nregion_code           28.0       36.0       52.0  \ngender                 1.0        1.0        1.0  \n...                    ...        ...        ...  \ncountry_id_SA          0.0        0.0        1.0  \ncountry_id_SE          0.0        0.0        1.0  \ncountry_id_SN          0.0        0.0        1.0  \ncountry_id_US          0.0        0.0        1.0  \ncountry_id_VE          0.0        0.0        1.0  \n\n[142 rows x 8 columns]",
      "text/html": "<div>\n<style scoped>\n    .dataframe tbody tr th:only-of-type {\n        vertical-align: middle;\n    }\n\n    .dataframe tbody tr th {\n        vertical-align: top;\n    }\n\n    .dataframe thead th {\n        text-align: right;\n    }\n</style>\n<table border=\"1\" class=\"dataframe\">\n  <thead>\n    <tr style=\"text-align: right;\">\n      <th></th>\n      <th>count</th>\n      <th>mean</th>\n      <th>std</th>\n      <th>min</th>\n      <th>25%</th>\n      <th>50%</th>\n      <th>75%</th>\n      <th>max</th>\n    </tr>\n  </thead>\n  <tbody>\n    <tr>\n      <th>pk_cid</th>\n      <td>505043.0</td>\n      <td>1.275410e+06</td>\n      <td>178848.145497</td>\n      <td>15891.0</td>\n      <td>1144669.5</td>\n      <td>1285803.0</td>\n      <td>1421230.5</td>\n      <td>1553689.0</td>\n    </tr>\n    <tr>\n      <th>debit_card</th>\n      <td>505043.0</td>\n      <td>1.257992e-01</td>\n      <td>0.331623</td>\n      <td>0.0</td>\n      <td>0.0</td>\n      <td>0.0</td>\n      <td>0.0</td>\n      <td>1.0</td>\n    </tr>\n    <tr>\n      <th>active_customer</th>\n      <td>505043.0</td>\n      <td>4.282487e-01</td>\n      <td>0.494825</td>\n      <td>0.0</td>\n      <td>0.0</td>\n      <td>0.0</td>\n      <td>1.0</td>\n      <td>1.0</td>\n    </tr>\n    <tr>\n      <th>region_code</th>\n      <td>505043.0</td>\n      <td>2.591608e+01</td>\n      <td>13.504364</td>\n      <td>-1.0</td>\n      <td>13.0</td>\n      <td>28.0</td>\n      <td>36.0</td>\n      <td>52.0</td>\n    </tr>\n    <tr>\n      <th>gender</th>\n      <td>505043.0</td>\n      <td>5.051213e-01</td>\n      <td>0.499974</td>\n      <td>0.0</td>\n      <td>0.0</td>\n      <td>1.0</td>\n      <td>1.0</td>\n      <td>1.0</td>\n    </tr>\n    <tr>\n      <th>...</th>\n      <td>...</td>\n      <td>...</td>\n      <td>...</td>\n      <td>...</td>\n      <td>...</td>\n      <td>...</td>\n      <td>...</td>\n      <td>...</td>\n    </tr>\n    <tr>\n      <th>country_id_SA</th>\n      <td>505043.0</td>\n      <td>1.980029e-06</td>\n      <td>0.001407</td>\n      <td>0.0</td>\n      <td>0.0</td>\n      <td>0.0</td>\n      <td>0.0</td>\n      <td>1.0</td>\n    </tr>\n    <tr>\n      <th>country_id_SE</th>\n      <td>505043.0</td>\n      <td>3.960059e-06</td>\n      <td>0.001990</td>\n      <td>0.0</td>\n      <td>0.0</td>\n      <td>0.0</td>\n      <td>0.0</td>\n      <td>1.0</td>\n    </tr>\n    <tr>\n      <th>country_id_SN</th>\n      <td>505043.0</td>\n      <td>1.980029e-06</td>\n      <td>0.001407</td>\n      <td>0.0</td>\n      <td>0.0</td>\n      <td>0.0</td>\n      <td>0.0</td>\n      <td>1.0</td>\n    </tr>\n    <tr>\n      <th>country_id_US</th>\n      <td>505043.0</td>\n      <td>3.366050e-05</td>\n      <td>0.005802</td>\n      <td>0.0</td>\n      <td>0.0</td>\n      <td>0.0</td>\n      <td>0.0</td>\n      <td>1.0</td>\n    </tr>\n    <tr>\n      <th>country_id_VE</th>\n      <td>505043.0</td>\n      <td>9.900147e-06</td>\n      <td>0.003146</td>\n      <td>0.0</td>\n      <td>0.0</td>\n      <td>0.0</td>\n      <td>0.0</td>\n      <td>1.0</td>\n    </tr>\n  </tbody>\n</table>\n<p>142 rows × 8 columns</p>\n</div>"
     },
     "execution_count": 30,
     "metadata": {},
     "output_type": "execute_result"
    }
   ],
   "source": [
    "df_prep.describe().T"
   ],
   "metadata": {
    "collapsed": false,
    "pycharm": {
     "name": "#%%\n"
    }
   }
  },
  {
   "cell_type": "code",
   "execution_count": 31,
   "outputs": [
    {
     "data": {
      "text/plain": "<Figure size 432x288 with 1 Axes>",
      "image/png": "[encoded data removed]"
     },
     "metadata": {
      "needs_background": "light"
     },
     "output_type": "display_data"
    },
    {
     "name": "stdout",
     "output_type": "stream",
     "text": [
      "debit_card\n",
      "0    441509\n",
      "1     63534\n",
      "Name: debit_card, dtype: int64\n"
     ]
    }
   ],
   "source": [
    "hist_plot(df_prep, TARGET)"
   ],
   "metadata": {
    "collapsed": false,
    "pycharm": {
     "name": "#%%\n"
    }
   }
  },
  {
   "cell_type": "code",
   "execution_count": 34,
   "outputs": [
    {
     "data": {
      "text/plain": "<AxesSubplot:xlabel='debit_card', ylabel='age'>"
     },
     "execution_count": 34,
     "metadata": {},
     "output_type": "execute_result"
    },
    {
     "data": {
      "text/plain": "<Figure size 432x288 with 1 Axes>",
      "image/png": "[encoded data removed]"
     },
     "metadata": {
      "needs_background": "light"
     },
     "output_type": "display_data"
    }
   ],
   "source": [
    "sns.boxplot(data=df_prep, x=TARGET, y=\"age\")"
   ],
   "metadata": {
    "collapsed": false,
    "pycharm": {
     "name": "#%%\n"
    }
   }
  },
  {
   "cell_type": "code",
   "execution_count": null,
   "outputs": [],
   "source": [],
   "metadata": {
    "collapsed": false,
    "pycharm": {
     "name": "#%%\n"
    }
   }
  },
  {
   "cell_type": "code",
   "execution_count": 42,
   "outputs": [
    {
     "data": {
      "text/plain": "<AxesSubplot:xlabel='debit_card', ylabel='active_customer'>"
     },
     "execution_count": 42,
     "metadata": {},
     "output_type": "execute_result"
    },
    {
     "data": {
      "text/plain": "<Figure size 432x288 with 1 Axes>",
      "image/png": "[encoded data removed]"
     },
     "metadata": {
      "needs_background": "light"
     },
     "output_type": "display_data"
    }
   ],
   "source": [
    "sns.boxplot(data=df_prep, x=TARGET, y=\"active_customer\")"
   ],
   "metadata": {
    "collapsed": false,
    "pycharm": {
     "name": "#%%\n"
    }
   }
  },
  {
   "cell_type": "code",
   "execution_count": 35,
   "outputs": [
    {
     "data": {
      "text/plain": "<Figure size 1080x360 with 1 Axes>",
      "image/png": "[encoded data removed]"
     },
     "metadata": {
      "needs_background": "light"
     },
     "output_type": "display_data"
    },
    {
     "data": {
      "text/plain": "                    len        sum       mean\n             debit_card debit_card debit_card\npk_partition                                 \n2018-01-28        25509      24696   0.968129\n2018-02-28         4641       3708   0.798966\n2018-03-28         3479       2691   0.773498\n2018-04-28         2856       2121   0.742647\n2018-05-28         2643       1803   0.682179\n2018-06-28         2706       1834   0.677753\n2018-07-28         3965       1942   0.489786\n2018-08-28         4479       1943   0.433802\n2018-09-28         5789       2514   0.434272\n2018-10-28         6818       3426   0.502493\n2018-11-28         5906       2908   0.492381\n2018-12-28         6574       2483   0.377700\n2019-01-28         6301       2160   0.342803\n2019-02-28         6728       2537   0.377081\n2019-03-28         6452       2590   0.401426\n2019-04-28         8415       2129   0.253001\n2019-05-28       401782       2049   0.005100",
      "text/html": "<div>\n<style scoped>\n    .dataframe tbody tr th:only-of-type {\n        vertical-align: middle;\n    }\n\n    .dataframe tbody tr th {\n        vertical-align: top;\n    }\n\n    .dataframe thead tr th {\n        text-align: left;\n    }\n\n    .dataframe thead tr:last-of-type th {\n        text-align: right;\n    }\n</style>\n<table border=\"1\" class=\"dataframe\">\n  <thead>\n    <tr>\n      <th></th>\n      <th>len</th>\n      <th>sum</th>\n      <th>mean</th>\n    </tr>\n    <tr>\n      <th></th>\n      <th>debit_card</th>\n      <th>debit_card</th>\n      <th>debit_card</th>\n    </tr>\n    <tr>\n      <th>pk_partition</th>\n      <th></th>\n      <th></th>\n      <th></th>\n    </tr>\n  </thead>\n  <tbody>\n    <tr>\n      <th>2018-01-28</th>\n      <td>25509</td>\n      <td>24696</td>\n      <td>0.968129</td>\n    </tr>\n    <tr>\n      <th>2018-02-28</th>\n      <td>4641</td>\n      <td>3708</td>\n      <td>0.798966</td>\n    </tr>\n    <tr>\n      <th>2018-03-28</th>\n      <td>3479</td>\n      <td>2691</td>\n      <td>0.773498</td>\n    </tr>\n    <tr>\n      <th>2018-04-28</th>\n      <td>2856</td>\n      <td>2121</td>\n      <td>0.742647</td>\n    </tr>\n    <tr>\n      <th>2018-05-28</th>\n      <td>2643</td>\n      <td>1803</td>\n      <td>0.682179</td>\n    </tr>\n    <tr>\n      <th>2018-06-28</th>\n      <td>2706</td>\n      <td>1834</td>\n      <td>0.677753</td>\n    </tr>\n    <tr>\n      <th>2018-07-28</th>\n      <td>3965</td>\n      <td>1942</td>\n      <td>0.489786</td>\n    </tr>\n    <tr>\n      <th>2018-08-28</th>\n      <td>4479</td>\n      <td>1943</td>\n      <td>0.433802</td>\n    </tr>\n    <tr>\n      <th>2018-09-28</th>\n      <td>5789</td>\n      <td>2514</td>\n      <td>0.434272</td>\n    </tr>\n    <tr>\n      <th>2018-10-28</th>\n      <td>6818</td>\n      <td>3426</td>\n      <td>0.502493</td>\n    </tr>\n    <tr>\n      <th>2018-11-28</th>\n      <td>5906</td>\n      <td>2908</td>\n      <td>0.492381</td>\n    </tr>\n    <tr>\n      <th>2018-12-28</th>\n      <td>6574</td>\n      <td>2483</td>\n      <td>0.377700</td>\n    </tr>\n    <tr>\n      <th>2019-01-28</th>\n      <td>6301</td>\n      <td>2160</td>\n      <td>0.342803</td>\n    </tr>\n    <tr>\n      <th>2019-02-28</th>\n      <td>6728</td>\n      <td>2537</td>\n      <td>0.377081</td>\n    </tr>\n    <tr>\n      <th>2019-03-28</th>\n      <td>6452</td>\n      <td>2590</td>\n      <td>0.401426</td>\n    </tr>\n    <tr>\n      <th>2019-04-28</th>\n      <td>8415</td>\n      <td>2129</td>\n      <td>0.253001</td>\n    </tr>\n    <tr>\n      <th>2019-05-28</th>\n      <td>401782</td>\n      <td>2049</td>\n      <td>0.005100</td>\n    </tr>\n  </tbody>\n</table>\n</div>"
     },
     "execution_count": 35,
     "metadata": {},
     "output_type": "execute_result"
    }
   ],
   "source": [
    "relation_with_target(df_prep, \"pk_partition\", TARGET)"
   ],
   "metadata": {
    "collapsed": false,
    "pycharm": {
     "name": "#%%\n"
    }
   }
  },
  {
   "cell_type": "code",
   "execution_count": null,
   "outputs": [],
   "source": [],
   "metadata": {
    "collapsed": false,
    "pycharm": {
     "name": "#%%\n"
    }
   }
  },
  {
   "cell_type": "code",
   "execution_count": 43,
   "outputs": [
    {
     "data": {
      "text/plain": "<Figure size 1080x360 with 1 Axes>",
      "image/png": "[encoded data removed]"
     },
     "metadata": {
      "needs_background": "light"
     },
     "output_type": "display_data"
    },
    {
     "data": {
      "text/plain": "                   len        sum       mean\n            debit_card debit_card debit_card\nregion_code                                 \n-1                 190         35   0.184211\n 1                1174        149   0.126917\n 2                5758        623   0.108197\n 3               15439       2528   0.163741\n 4                3063        569   0.185766\n 5                1772        262   0.147856\n 6                9329        723   0.077500\n 7                5843        781   0.133664\n 8               49634       4543   0.091530\n 9                3943        474   0.120213\n 10               6206        502   0.080889\n 11              13039       1651   0.126620\n 12               5533        714   0.129044\n 13               5627        637   0.113204\n 14               6271        752   0.119917\n 15              19622       1858   0.094690\n 16               2725        237   0.086972\n 17               4123        365   0.088528\n 18               8668       1230   0.141901\n 19               2607        348   0.133487\n 20               1760        282   0.160227\n 21               5549        613   0.110470\n 22               1737        135   0.077720\n 23               2868        538   0.187587\n 24               3186        546   0.171375\n 25               3596        226   0.062848\n 26               2828        276   0.097595\n 27               4054        384   0.094721\n 28             111119      17862   0.160747\n 29              15156       2117   0.139681\n 30              23537       2209   0.093852\n 31               2586        294   0.113689\n 32               4239        452   0.106629\n 33              11100       1233   0.111081\n 34               2213        265   0.119747\n 35              10493       1432   0.136472\n 36              13852       1455   0.105039\n 37               7416        833   0.112325\n 38               3021        576   0.190665\n 39               6192        937   0.151324\n 40               1789        224   0.125210\n 41              23926       3361   0.140475\n 42                752         72   0.095745\n 43               5000        439   0.087800\n 44                986         60   0.060852\n 45               8672       1068   0.123155\n 46              30505       3705   0.121455\n 47               9331       1128   0.120887\n 48               3364        523   0.155470\n 49               2459        303   0.123221\n 50              10677        931   0.087197\n 51                281         44   0.156584\n 52                233         30   0.128755",
      "text/html": "<div>\n<style scoped>\n    .dataframe tbody tr th:only-of-type {\n        vertical-align: middle;\n    }\n\n    .dataframe tbody tr th {\n        vertical-align: top;\n    }\n\n    .dataframe thead tr th {\n        text-align: left;\n    }\n\n    .dataframe thead tr:last-of-type th {\n        text-align: right;\n    }\n</style>\n<table border=\"1\" class=\"dataframe\">\n  <thead>\n    <tr>\n      <th></th>\n      <th>len</th>\n      <th>sum</th>\n      <th>mean</th>\n    </tr>\n    <tr>\n      <th></th>\n      <th>debit_card</th>\n      <th>debit_card</th>\n      <th>debit_card</th>\n    </tr>\n    <tr>\n      <th>region_code</th>\n      <th></th>\n      <th></th>\n      <th></th>\n    </tr>\n  </thead>\n  <tbody>\n    <tr>\n      <th>-1</th>\n      <td>190</td>\n      <td>35</td>\n      <td>0.184211</td>\n    </tr>\n    <tr>\n      <th>1</th>\n      <td>1174</td>\n      <td>149</td>\n      <td>0.126917</td>\n    </tr>\n    <tr>\n      <th>2</th>\n      <td>5758</td>\n      <td>623</td>\n      <td>0.108197</td>\n    </tr>\n    <tr>\n      <th>3</th>\n      <td>15439</td>\n      <td>2528</td>\n      <td>0.163741</td>\n    </tr>\n    <tr>\n      <th>4</th>\n      <td>3063</td>\n      <td>569</td>\n      <td>0.185766</td>\n    </tr>\n    <tr>\n      <th>5</th>\n      <td>1772</td>\n      <td>262</td>\n      <td>0.147856</td>\n    </tr>\n    <tr>\n      <th>6</th>\n      <td>9329</td>\n      <td>723</td>\n      <td>0.077500</td>\n    </tr>\n    <tr>\n      <th>7</th>\n      <td>5843</td>\n      <td>781</td>\n      <td>0.133664</td>\n    </tr>\n    <tr>\n      <th>8</th>\n      <td>49634</td>\n      <td>4543</td>\n      <td>0.091530</td>\n    </tr>\n    <tr>\n      <th>9</th>\n      <td>3943</td>\n      <td>474</td>\n      <td>0.120213</td>\n    </tr>\n    <tr>\n      <th>10</th>\n      <td>6206</td>\n      <td>502</td>\n      <td>0.080889</td>\n    </tr>\n    <tr>\n      <th>11</th>\n      <td>13039</td>\n      <td>1651</td>\n      <td>0.126620</td>\n    </tr>\n    <tr>\n      <th>12</th>\n      <td>5533</td>\n      <td>714</td>\n      <td>0.129044</td>\n    </tr>\n    <tr>\n      <th>13</th>\n      <td>5627</td>\n      <td>637</td>\n      <td>0.113204</td>\n    </tr>\n    <tr>\n      <th>14</th>\n      <td>6271</td>\n      <td>752</td>\n      <td>0.119917</td>\n    </tr>\n    <tr>\n      <th>15</th>\n      <td>19622</td>\n      <td>1858</td>\n      <td>0.094690</td>\n    </tr>\n    <tr>\n      <th>16</th>\n      <td>2725</td>\n      <td>237</td>\n      <td>0.086972</td>\n    </tr>\n    <tr>\n      <th>17</th>\n      <td>4123</td>\n      <td>365</td>\n      <td>0.088528</td>\n    </tr>\n    <tr>\n      <th>18</th>\n      <td>8668</td>\n      <td>1230</td>\n      <td>0.141901</td>\n    </tr>\n    <tr>\n      <th>19</th>\n      <td>2607</td>\n      <td>348</td>\n      <td>0.133487</td>\n    </tr>\n    <tr>\n      <th>20</th>\n      <td>1760</td>\n      <td>282</td>\n      <td>0.160227</td>\n    </tr>\n    <tr>\n      <th>21</th>\n      <td>5549</td>\n      <td>613</td>\n      <td>0.110470</td>\n    </tr>\n    <tr>\n      <th>22</th>\n      <td>1737</td>\n      <td>135</td>\n      <td>0.077720</td>\n    </tr>\n    <tr>\n      <th>23</th>\n      <td>2868</td>\n      <td>538</td>\n      <td>0.187587</td>\n    </tr>\n    <tr>\n      <th>24</th>\n      <td>3186</td>\n      <td>546</td>\n      <td>0.171375</td>\n    </tr>\n    <tr>\n      <th>25</th>\n      <td>3596</td>\n      <td>226</td>\n      <td>0.062848</td>\n    </tr>\n    <tr>\n      <th>26</th>\n      <td>2828</td>\n      <td>276</td>\n      <td>0.097595</td>\n    </tr>\n    <tr>\n      <th>27</th>\n      <td>4054</td>\n      <td>384</td>\n      <td>0.094721</td>\n    </tr>\n    <tr>\n      <th>28</th>\n      <td>111119</td>\n      <td>17862</td>\n      <td>0.160747</td>\n    </tr>\n    <tr>\n      <th>29</th>\n      <td>15156</td>\n      <td>2117</td>\n      <td>0.139681</td>\n    </tr>\n    <tr>\n      <th>30</th>\n      <td>23537</td>\n      <td>2209</td>\n      <td>0.093852</td>\n    </tr>\n    <tr>\n      <th>31</th>\n      <td>2586</td>\n      <td>294</td>\n      <td>0.113689</td>\n    </tr>\n    <tr>\n      <th>32</th>\n      <td>4239</td>\n      <td>452</td>\n      <td>0.106629</td>\n    </tr>\n    <tr>\n      <th>33</th>\n      <td>11100</td>\n      <td>1233</td>\n      <td>0.111081</td>\n    </tr>\n    <tr>\n      <th>34</th>\n      <td>2213</td>\n      <td>265</td>\n      <td>0.119747</td>\n    </tr>\n    <tr>\n      <th>35</th>\n      <td>10493</td>\n      <td>1432</td>\n      <td>0.136472</td>\n    </tr>\n    <tr>\n      <th>36</th>\n      <td>13852</td>\n      <td>1455</td>\n      <td>0.105039</td>\n    </tr>\n    <tr>\n      <th>37</th>\n      <td>7416</td>\n      <td>833</td>\n      <td>0.112325</td>\n    </tr>\n    <tr>\n      <th>38</th>\n      <td>3021</td>\n      <td>576</td>\n      <td>0.190665</td>\n    </tr>\n    <tr>\n      <th>39</th>\n      <td>6192</td>\n      <td>937</td>\n      <td>0.151324</td>\n    </tr>\n    <tr>\n      <th>40</th>\n      <td>1789</td>\n      <td>224</td>\n      <td>0.125210</td>\n    </tr>\n    <tr>\n      <th>41</th>\n      <td>23926</td>\n      <td>3361</td>\n      <td>0.140475</td>\n    </tr>\n    <tr>\n      <th>42</th>\n      <td>752</td>\n      <td>72</td>\n      <td>0.095745</td>\n    </tr>\n    <tr>\n      <th>43</th>\n      <td>5000</td>\n      <td>439</td>\n      <td>0.087800</td>\n    </tr>\n    <tr>\n      <th>44</th>\n      <td>986</td>\n      <td>60</td>\n      <td>0.060852</td>\n    </tr>\n    <tr>\n      <th>45</th>\n      <td>8672</td>\n      <td>1068</td>\n      <td>0.123155</td>\n    </tr>\n    <tr>\n      <th>46</th>\n      <td>30505</td>\n      <td>3705</td>\n      <td>0.121455</td>\n    </tr>\n    <tr>\n      <th>47</th>\n      <td>9331</td>\n      <td>1128</td>\n      <td>0.120887</td>\n    </tr>\n    <tr>\n      <th>48</th>\n      <td>3364</td>\n      <td>523</td>\n      <td>0.155470</td>\n    </tr>\n    <tr>\n      <th>49</th>\n      <td>2459</td>\n      <td>303</td>\n      <td>0.123221</td>\n    </tr>\n    <tr>\n      <th>50</th>\n      <td>10677</td>\n      <td>931</td>\n      <td>0.087197</td>\n    </tr>\n    <tr>\n      <th>51</th>\n      <td>281</td>\n      <td>44</td>\n      <td>0.156584</td>\n    </tr>\n    <tr>\n      <th>52</th>\n      <td>233</td>\n      <td>30</td>\n      <td>0.128755</td>\n    </tr>\n  </tbody>\n</table>\n</div>"
     },
     "execution_count": 43,
     "metadata": {},
     "output_type": "execute_result"
    }
   ],
   "source": [
    "relation_with_target(df_prep, \"region_code\", TARGET)"
   ],
   "metadata": {
    "collapsed": false,
    "pycharm": {
     "name": "#%%\n"
    }
   }
  },
  {
   "cell_type": "markdown",
   "source": [
    "## Split dataframes"
   ],
   "metadata": {
    "collapsed": false,
    "pycharm": {
     "name": "#%% md\n"
    }
   }
  },
  {
   "cell_type": "code",
   "execution_count": 36,
   "outputs": [],
   "source": [
    "splitter = EasyMoneySplitter(DEV_PARTITION_PERIOD, VAL_PARTITION_PERIOD, EXCLUDE_COLUMNS)"
   ],
   "metadata": {
    "collapsed": false,
    "pycharm": {
     "name": "#%%\n"
    }
   }
  },
  {
   "cell_type": "markdown",
   "source": [
    "### Train partition"
   ],
   "metadata": {
    "collapsed": false,
    "pycharm": {
     "name": "#%% md\n"
    }
   }
  },
  {
   "cell_type": "code",
   "execution_count": 37,
   "outputs": [
    {
     "data": {
      "text/plain": "<Figure size 432x288 with 1 Axes>",
      "image/png": "[encoded data removed]"
     },
     "metadata": {
      "needs_background": "light"
     },
     "output_type": "display_data"
    },
    {
     "name": "stdout",
     "output_type": "stream",
     "text": [
      "debit_card\n",
      "1    56766\n",
      "0    31628\n",
      "Name: debit_card, dtype: int64\n"
     ]
    }
   ],
   "source": [
    "train_df = splitter.get_train_partition(df_prep)\n",
    "hist_plot(train_df, TARGET)"
   ],
   "metadata": {
    "collapsed": false,
    "pycharm": {
     "name": "#%%\n"
    }
   }
  },
  {
   "cell_type": "markdown",
   "source": [
    "### Validation partition"
   ],
   "metadata": {
    "collapsed": false,
    "pycharm": {
     "name": "#%% md\n"
    }
   }
  },
  {
   "cell_type": "code",
   "execution_count": 38,
   "outputs": [
    {
     "data": {
      "text/plain": "<Figure size 432x288 with 1 Axes>",
      "image/png": "[encoded data removed]"
     },
     "metadata": {
      "needs_background": "light"
     },
     "output_type": "display_data"
    },
    {
     "name": "stdout",
     "output_type": "stream",
     "text": [
      "debit_card\n",
      "0    409881\n",
      "1      6768\n",
      "Name: debit_card, dtype: int64\n"
     ]
    }
   ],
   "source": [
    "validation_df = splitter.get_validation_partition(df_prep)\n",
    "hist_plot(validation_df, TARGET)"
   ],
   "metadata": {
    "collapsed": false,
    "pycharm": {
     "name": "#%%\n"
    }
   }
  },
  {
   "cell_type": "markdown",
   "source": [
    "#### Partitions"
   ],
   "metadata": {
    "collapsed": false,
    "pycharm": {
     "name": "#%% md\n"
    }
   }
  },
  {
   "cell_type": "code",
   "execution_count": 39,
   "outputs": [],
   "source": [
    "dev_X = train_df.drop(TARGET, axis=1)\n",
    "dev_y = train_df[[TARGET]]\n",
    "\n",
    "X_val = validation_df.drop(TARGET, axis=1)\n",
    "y_val = validation_df[[TARGET]]\n",
    "\n",
    "X_train, X_test, y_train, y_test = train_test_split(dev_X, dev_y, test_size=0.2, random_state=13, stratify=dev_y)"
   ],
   "metadata": {
    "collapsed": false,
    "pycharm": {
     "name": "#%%\n"
    }
   }
  },
  {
   "cell_type": "code",
   "execution_count": 40,
   "outputs": [
    {
     "name": "stdout",
     "output_type": "stream",
     "text": [
      "\n",
      "TRAIN:\n",
      "    X_train.shape: (70715, 140)\n",
      "    y_train.shape: (70715, 1)\n",
      "TEST:\n",
      "    X_test.shape: (17679, 140)\n",
      "    y_test.shape: (17679, 1)\n",
      "VALIDATION:\n",
      "    X_val.shape: (416649, 140)\n",
      "    y_val.shape: (416649, 1)\n",
      "\n"
     ]
    }
   ],
   "source": [
    "print(f\"\"\"\n",
    "TRAIN:\n",
    "    X_train.shape: {X_train.shape}\n",
    "    y_train.shape: {y_train.shape}\n",
    "TEST:\n",
    "    X_test.shape: {X_test.shape}\n",
    "    y_test.shape: {y_test.shape}\n",
    "VALIDATION:\n",
    "    X_val.shape: {X_val.shape}\n",
    "    y_val.shape: {y_val.shape}\n",
    "\"\"\")"
   ],
   "metadata": {
    "collapsed": false,
    "pycharm": {
     "name": "#%%\n"
    }
   }
  },
  {
   "cell_type": "markdown",
   "source": [
    "## Modelling experimentation"
   ],
   "metadata": {
    "collapsed": false,
    "pycharm": {
     "name": "#%% md\n"
    }
   }
  },
  {
   "cell_type": "code",
   "execution_count": 41,
   "outputs": [
    {
     "name": "stderr",
     "output_type": "stream",
     "text": [
      "C:\\Users\\alfre\\anaconda3\\lib\\site-packages\\xgboost\\sklearn.py:1224: UserWarning: The use of label encoder in XGBClassifier is deprecated and will be removed in a future release. To remove this warning, do the following: 1) Pass option use_label_encoder=False when constructing XGBClassifier object; and 2) Encode your labels (y) as integers starting with 0, i.e. 0, 1, 2, ..., [num_class - 1].\n",
      "  warnings.warn(label_encoder_deprecation_msg, UserWarning)\n",
      "C:\\Users\\alfre\\anaconda3\\lib\\site-packages\\sklearn\\utils\\validation.py:63: DataConversionWarning: A column-vector y was passed when a 1d array was expected. Please change the shape of y to (n_samples, ), for example using ravel().\n",
      "  return f(*args, **kwargs)\n"
     ]
    },
    {
     "name": "stdout",
     "output_type": "stream",
     "text": [
      "[14:08:47] WARNING: D:\\bld\\xgboost-split_1637426510059\\work\\src\\learner.cc:1115: Starting in XGBoost 1.3.0, the default evaluation metric used with the objective 'binary:logistic' was changed from 'error' to 'logloss'. Explicitly set eval_metric if you'd like to restore the old behavior.\n",
      "TEST\n",
      "AUC Score : 0.6917481104394017\n",
      "Accuracy Score : 0.7675773516601617\n",
      "Precision Score : 0.749483399917344\n",
      "Recall Score : 0.958425085880384\n",
      "F1 Score : 0.841173514746241\n",
      "VALIDATION\n",
      "AUC Score : 0.5390969259396357\n",
      "Accuracy Score : 0.33290131501575665\n",
      "Precision Score : 0.018094256468581177\n",
      "Recall Score : 0.7522163120567376\n",
      "F1 Score : 0.03533846068414038\n"
     ]
    },
    {
     "data": {
      "text/plain": "array([[ 2689,  3637],\n       [  472, 10881]], dtype=int64)"
     },
     "execution_count": 41,
     "metadata": {},
     "output_type": "execute_result"
    }
   ],
   "source": [
    "clf = xgb.XGBClassifier()\n",
    "# clf = dt()\n",
    "\n",
    "clf.fit(X_train, y_train)\n",
    "\n",
    "y_pred_acc = clf.predict(X_test)\n",
    "\n",
    "print(\"TEST\")\n",
    "print('AUC Score : ' + str(roc_auc_score(y_test, y_pred_acc)))\n",
    "print('Accuracy Score : ' + str(accuracy_score(y_test, y_pred_acc)))\n",
    "print('Precision Score : ' + str(precision_score(y_test, y_pred_acc)))\n",
    "print('Recall Score : ' + str(recall_score(y_test, y_pred_acc)))\n",
    "print('F1 Score : ' + str(f1_score(y_test, y_pred_acc)))\n",
    "\n",
    "y_pred_acc_val = clf.predict(X_val)\n",
    "print(\"VALIDATION\")\n",
    "print('AUC Score : ' + str(roc_auc_score(y_val, y_pred_acc_val)))\n",
    "print('Accuracy Score : ' + str(accuracy_score(y_val, y_pred_acc_val)))\n",
    "print('Precision Score : ' + str(precision_score(y_val, y_pred_acc_val)))\n",
    "print('Recall Score : ' + str(recall_score(y_val, y_pred_acc_val)))\n",
    "print('F1 Score : ' + str(f1_score(y_val, y_pred_acc_val)))\n",
    "\n",
    "confusion_matrix(y_test, y_pred_acc)"
   ],
   "metadata": {
    "collapsed": false,
    "pycharm": {
     "name": "#%%\n"
    }
   }
  },
  {
   "cell_type": "code",
   "execution_count": 61,
   "outputs": [],
   "source": [
    "def generate_clf_from_search(grid_or_random, clf, parameters, scorer, X, y):\n",
    "    if grid_or_random == \"Grid\":\n",
    "        search_obj = GridSearchCV(clf, parameters, scoring=scorer)\n",
    "    elif grid_or_random == \"Random\":\n",
    "        search_obj = RandomizedSearchCV(clf, parameters, scoring=scorer)\n",
    "    fit_obj = search_obj.fit(X, y)\n",
    "    best_clf = fit_obj.best_estimator_\n",
    "    return best_clf"
   ],
   "metadata": {
    "collapsed": false,
    "pycharm": {
     "name": "#%%\n"
    }
   }
  },
  {
   "cell_type": "code",
   "execution_count": 62,
   "outputs": [],
   "source": [
    "from sklearn.metrics import make_scorer\n",
    "\n",
    "parameters = {\n",
    "    'max_depth': [3, 4, 5, 6],\n",
    "    'min_samples_leaf': [50, 100, 150],\n",
    "    # 'min_samples_split':[2,3,4,5],\n",
    "    # 'criterion': ['gini', 'entropy']\n",
    "}\n",
    "scorer = make_scorer(roc_auc_score)"
   ],
   "metadata": {
    "collapsed": false,
    "pycharm": {
     "name": "#%%\n"
    }
   }
  },
  {
   "cell_type": "code",
   "execution_count": 63,
   "outputs": [
    {
     "name": "stderr",
     "output_type": "stream",
     "text": [
      "C:\\Users\\alfre\\anaconda3\\lib\\site-packages\\xgboost\\sklearn.py:1224: UserWarning: The use of label encoder in XGBClassifier is deprecated and will be removed in a future release. To remove this warning, do the following: 1) Pass option use_label_encoder=False when constructing XGBClassifier object; and 2) Encode your labels (y) as integers starting with 0, i.e. 0, 1, 2, ..., [num_class - 1].\n",
      "  warnings.warn(label_encoder_deprecation_msg, UserWarning)\n",
      "C:\\Users\\alfre\\anaconda3\\lib\\site-packages\\sklearn\\utils\\validation.py:63: DataConversionWarning: A column-vector y was passed when a 1d array was expected. Please change the shape of y to (n_samples, ), for example using ravel().\n",
      "  return f(*args, **kwargs)\n"
     ]
    },
    {
     "name": "stdout",
     "output_type": "stream",
     "text": [
      "[01:59:21] WARNING: D:\\bld\\xgboost-split_1637426510059\\work\\src\\learner.cc:576: \n",
      "Parameters: { \"min_samples_leaf\" } might not be used.\n",
      "\n",
      "  This could be a false alarm, with some parameters getting used by language bindings but\n",
      "  then being mistakenly passed down to XGBoost core, or some parameter actually being used\n",
      "  but getting flagged wrongly here. Please open an issue if you find any such cases.\n",
      "\n",
      "\n",
      "[01:59:21] WARNING: D:\\bld\\xgboost-split_1637426510059\\work\\src\\learner.cc:1115: Starting in XGBoost 1.3.0, the default evaluation metric used with the objective 'binary:logistic' was changed from 'error' to 'logloss'. Explicitly set eval_metric if you'd like to restore the old behavior.\n"
     ]
    },
    {
     "ename": "KeyboardInterrupt",
     "evalue": "",
     "output_type": "error",
     "traceback": [
      "\u001B[1;31m---------------------------------------------------------------------------\u001B[0m",
      "\u001B[1;31mKeyboardInterrupt\u001B[0m                         Traceback (most recent call last)",
      "\u001B[1;32m~\\AppData\\Local\\Temp/ipykernel_3588/932295473.py\u001B[0m in \u001B[0;36m<module>\u001B[1;34m\u001B[0m\n\u001B[1;32m----> 1\u001B[1;33m best_clf_random = generate_clf_from_search(\n\u001B[0m\u001B[0;32m      2\u001B[0m     \u001B[1;34m\"Random\"\u001B[0m\u001B[1;33m,\u001B[0m\u001B[1;33m\u001B[0m\u001B[1;33m\u001B[0m\u001B[0m\n\u001B[0;32m      3\u001B[0m     \u001B[0mclf\u001B[0m\u001B[1;33m,\u001B[0m\u001B[1;33m\u001B[0m\u001B[1;33m\u001B[0m\u001B[0m\n\u001B[0;32m      4\u001B[0m     \u001B[0mparameters\u001B[0m\u001B[1;33m,\u001B[0m\u001B[1;33m\u001B[0m\u001B[1;33m\u001B[0m\u001B[0m\n\u001B[0;32m      5\u001B[0m     \u001B[0mscorer\u001B[0m\u001B[1;33m,\u001B[0m\u001B[1;33m\u001B[0m\u001B[1;33m\u001B[0m\u001B[0m\n",
      "\u001B[1;32m~\\AppData\\Local\\Temp/ipykernel_3588/2744543379.py\u001B[0m in \u001B[0;36mgenerate_clf_from_search\u001B[1;34m(grid_or_random, clf, parameters, scorer, X, y)\u001B[0m\n\u001B[0;32m      4\u001B[0m     \u001B[1;32melif\u001B[0m \u001B[0mgrid_or_random\u001B[0m \u001B[1;33m==\u001B[0m \u001B[1;34m\"Random\"\u001B[0m\u001B[1;33m:\u001B[0m\u001B[1;33m\u001B[0m\u001B[1;33m\u001B[0m\u001B[0m\n\u001B[0;32m      5\u001B[0m         \u001B[0msearch_obj\u001B[0m \u001B[1;33m=\u001B[0m \u001B[0mRandomizedSearchCV\u001B[0m\u001B[1;33m(\u001B[0m\u001B[0mclf\u001B[0m\u001B[1;33m,\u001B[0m \u001B[0mparameters\u001B[0m\u001B[1;33m,\u001B[0m \u001B[0mscoring\u001B[0m\u001B[1;33m=\u001B[0m\u001B[0mscorer\u001B[0m\u001B[1;33m)\u001B[0m\u001B[1;33m\u001B[0m\u001B[1;33m\u001B[0m\u001B[0m\n\u001B[1;32m----> 6\u001B[1;33m     \u001B[0mfit_obj\u001B[0m \u001B[1;33m=\u001B[0m \u001B[0msearch_obj\u001B[0m\u001B[1;33m.\u001B[0m\u001B[0mfit\u001B[0m\u001B[1;33m(\u001B[0m\u001B[0mX\u001B[0m\u001B[1;33m,\u001B[0m \u001B[0my\u001B[0m\u001B[1;33m)\u001B[0m\u001B[1;33m\u001B[0m\u001B[1;33m\u001B[0m\u001B[0m\n\u001B[0m\u001B[0;32m      7\u001B[0m     \u001B[0mbest_clf\u001B[0m \u001B[1;33m=\u001B[0m \u001B[0mfit_obj\u001B[0m\u001B[1;33m.\u001B[0m\u001B[0mbest_estimator_\u001B[0m\u001B[1;33m\u001B[0m\u001B[1;33m\u001B[0m\u001B[0m\n\u001B[0;32m      8\u001B[0m     \u001B[1;32mreturn\u001B[0m \u001B[0mbest_clf\u001B[0m\u001B[1;33m\u001B[0m\u001B[1;33m\u001B[0m\u001B[0m\n",
      "\u001B[1;32m~\\anaconda3\\lib\\site-packages\\sklearn\\utils\\validation.py\u001B[0m in \u001B[0;36minner_f\u001B[1;34m(*args, **kwargs)\u001B[0m\n\u001B[0;32m     61\u001B[0m             \u001B[0mextra_args\u001B[0m \u001B[1;33m=\u001B[0m \u001B[0mlen\u001B[0m\u001B[1;33m(\u001B[0m\u001B[0margs\u001B[0m\u001B[1;33m)\u001B[0m \u001B[1;33m-\u001B[0m \u001B[0mlen\u001B[0m\u001B[1;33m(\u001B[0m\u001B[0mall_args\u001B[0m\u001B[1;33m)\u001B[0m\u001B[1;33m\u001B[0m\u001B[1;33m\u001B[0m\u001B[0m\n\u001B[0;32m     62\u001B[0m             \u001B[1;32mif\u001B[0m \u001B[0mextra_args\u001B[0m \u001B[1;33m<=\u001B[0m \u001B[1;36m0\u001B[0m\u001B[1;33m:\u001B[0m\u001B[1;33m\u001B[0m\u001B[1;33m\u001B[0m\u001B[0m\n\u001B[1;32m---> 63\u001B[1;33m                 \u001B[1;32mreturn\u001B[0m \u001B[0mf\u001B[0m\u001B[1;33m(\u001B[0m\u001B[1;33m*\u001B[0m\u001B[0margs\u001B[0m\u001B[1;33m,\u001B[0m \u001B[1;33m**\u001B[0m\u001B[0mkwargs\u001B[0m\u001B[1;33m)\u001B[0m\u001B[1;33m\u001B[0m\u001B[1;33m\u001B[0m\u001B[0m\n\u001B[0m\u001B[0;32m     64\u001B[0m \u001B[1;33m\u001B[0m\u001B[0m\n\u001B[0;32m     65\u001B[0m             \u001B[1;31m# extra_args > 0\u001B[0m\u001B[1;33m\u001B[0m\u001B[1;33m\u001B[0m\u001B[0m\n",
      "\u001B[1;32m~\\anaconda3\\lib\\site-packages\\sklearn\\model_selection\\_search.py\u001B[0m in \u001B[0;36mfit\u001B[1;34m(self, X, y, groups, **fit_params)\u001B[0m\n\u001B[0;32m    839\u001B[0m                 \u001B[1;32mreturn\u001B[0m \u001B[0mresults\u001B[0m\u001B[1;33m\u001B[0m\u001B[1;33m\u001B[0m\u001B[0m\n\u001B[0;32m    840\u001B[0m \u001B[1;33m\u001B[0m\u001B[0m\n\u001B[1;32m--> 841\u001B[1;33m             \u001B[0mself\u001B[0m\u001B[1;33m.\u001B[0m\u001B[0m_run_search\u001B[0m\u001B[1;33m(\u001B[0m\u001B[0mevaluate_candidates\u001B[0m\u001B[1;33m)\u001B[0m\u001B[1;33m\u001B[0m\u001B[1;33m\u001B[0m\u001B[0m\n\u001B[0m\u001B[0;32m    842\u001B[0m \u001B[1;33m\u001B[0m\u001B[0m\n\u001B[0;32m    843\u001B[0m             \u001B[1;31m# multimetric is determined here because in the case of a callable\u001B[0m\u001B[1;33m\u001B[0m\u001B[1;33m\u001B[0m\u001B[0m\n",
      "\u001B[1;32m~\\anaconda3\\lib\\site-packages\\sklearn\\model_selection\\_search.py\u001B[0m in \u001B[0;36m_run_search\u001B[1;34m(self, evaluate_candidates)\u001B[0m\n\u001B[0;32m   1631\u001B[0m     \u001B[1;32mdef\u001B[0m \u001B[0m_run_search\u001B[0m\u001B[1;33m(\u001B[0m\u001B[0mself\u001B[0m\u001B[1;33m,\u001B[0m \u001B[0mevaluate_candidates\u001B[0m\u001B[1;33m)\u001B[0m\u001B[1;33m:\u001B[0m\u001B[1;33m\u001B[0m\u001B[1;33m\u001B[0m\u001B[0m\n\u001B[0;32m   1632\u001B[0m         \u001B[1;34m\"\"\"Search n_iter candidates from param_distributions\"\"\"\u001B[0m\u001B[1;33m\u001B[0m\u001B[1;33m\u001B[0m\u001B[0m\n\u001B[1;32m-> 1633\u001B[1;33m         evaluate_candidates(ParameterSampler(\n\u001B[0m\u001B[0;32m   1634\u001B[0m             \u001B[0mself\u001B[0m\u001B[1;33m.\u001B[0m\u001B[0mparam_distributions\u001B[0m\u001B[1;33m,\u001B[0m \u001B[0mself\u001B[0m\u001B[1;33m.\u001B[0m\u001B[0mn_iter\u001B[0m\u001B[1;33m,\u001B[0m\u001B[1;33m\u001B[0m\u001B[1;33m\u001B[0m\u001B[0m\n\u001B[0;32m   1635\u001B[0m             random_state=self.random_state))\n",
      "\u001B[1;32m~\\anaconda3\\lib\\site-packages\\sklearn\\model_selection\\_search.py\u001B[0m in \u001B[0;36mevaluate_candidates\u001B[1;34m(candidate_params, cv, more_results)\u001B[0m\n\u001B[0;32m    793\u001B[0m                               n_splits, n_candidates, n_candidates * n_splits))\n\u001B[0;32m    794\u001B[0m \u001B[1;33m\u001B[0m\u001B[0m\n\u001B[1;32m--> 795\u001B[1;33m                 out = parallel(delayed(_fit_and_score)(clone(base_estimator),\n\u001B[0m\u001B[0;32m    796\u001B[0m                                                        \u001B[0mX\u001B[0m\u001B[1;33m,\u001B[0m \u001B[0my\u001B[0m\u001B[1;33m,\u001B[0m\u001B[1;33m\u001B[0m\u001B[1;33m\u001B[0m\u001B[0m\n\u001B[0;32m    797\u001B[0m                                                        \u001B[0mtrain\u001B[0m\u001B[1;33m=\u001B[0m\u001B[0mtrain\u001B[0m\u001B[1;33m,\u001B[0m \u001B[0mtest\u001B[0m\u001B[1;33m=\u001B[0m\u001B[0mtest\u001B[0m\u001B[1;33m,\u001B[0m\u001B[1;33m\u001B[0m\u001B[1;33m\u001B[0m\u001B[0m\n",
      "\u001B[1;32m~\\anaconda3\\lib\\site-packages\\joblib\\parallel.py\u001B[0m in \u001B[0;36m__call__\u001B[1;34m(self, iterable)\u001B[0m\n\u001B[0;32m   1041\u001B[0m             \u001B[1;31m# remaining jobs.\u001B[0m\u001B[1;33m\u001B[0m\u001B[1;33m\u001B[0m\u001B[0m\n\u001B[0;32m   1042\u001B[0m             \u001B[0mself\u001B[0m\u001B[1;33m.\u001B[0m\u001B[0m_iterating\u001B[0m \u001B[1;33m=\u001B[0m \u001B[1;32mFalse\u001B[0m\u001B[1;33m\u001B[0m\u001B[1;33m\u001B[0m\u001B[0m\n\u001B[1;32m-> 1043\u001B[1;33m             \u001B[1;32mif\u001B[0m \u001B[0mself\u001B[0m\u001B[1;33m.\u001B[0m\u001B[0mdispatch_one_batch\u001B[0m\u001B[1;33m(\u001B[0m\u001B[0miterator\u001B[0m\u001B[1;33m)\u001B[0m\u001B[1;33m:\u001B[0m\u001B[1;33m\u001B[0m\u001B[1;33m\u001B[0m\u001B[0m\n\u001B[0m\u001B[0;32m   1044\u001B[0m                 \u001B[0mself\u001B[0m\u001B[1;33m.\u001B[0m\u001B[0m_iterating\u001B[0m \u001B[1;33m=\u001B[0m \u001B[0mself\u001B[0m\u001B[1;33m.\u001B[0m\u001B[0m_original_iterator\u001B[0m \u001B[1;32mis\u001B[0m \u001B[1;32mnot\u001B[0m \u001B[1;32mNone\u001B[0m\u001B[1;33m\u001B[0m\u001B[1;33m\u001B[0m\u001B[0m\n\u001B[0;32m   1045\u001B[0m \u001B[1;33m\u001B[0m\u001B[0m\n",
      "\u001B[1;32m~\\anaconda3\\lib\\site-packages\\joblib\\parallel.py\u001B[0m in \u001B[0;36mdispatch_one_batch\u001B[1;34m(self, iterator)\u001B[0m\n\u001B[0;32m    859\u001B[0m                 \u001B[1;32mreturn\u001B[0m \u001B[1;32mFalse\u001B[0m\u001B[1;33m\u001B[0m\u001B[1;33m\u001B[0m\u001B[0m\n\u001B[0;32m    860\u001B[0m             \u001B[1;32melse\u001B[0m\u001B[1;33m:\u001B[0m\u001B[1;33m\u001B[0m\u001B[1;33m\u001B[0m\u001B[0m\n\u001B[1;32m--> 861\u001B[1;33m                 \u001B[0mself\u001B[0m\u001B[1;33m.\u001B[0m\u001B[0m_dispatch\u001B[0m\u001B[1;33m(\u001B[0m\u001B[0mtasks\u001B[0m\u001B[1;33m)\u001B[0m\u001B[1;33m\u001B[0m\u001B[1;33m\u001B[0m\u001B[0m\n\u001B[0m\u001B[0;32m    862\u001B[0m                 \u001B[1;32mreturn\u001B[0m \u001B[1;32mTrue\u001B[0m\u001B[1;33m\u001B[0m\u001B[1;33m\u001B[0m\u001B[0m\n\u001B[0;32m    863\u001B[0m \u001B[1;33m\u001B[0m\u001B[0m\n",
      "\u001B[1;32m~\\anaconda3\\lib\\site-packages\\joblib\\parallel.py\u001B[0m in \u001B[0;36m_dispatch\u001B[1;34m(self, batch)\u001B[0m\n\u001B[0;32m    777\u001B[0m         \u001B[1;32mwith\u001B[0m \u001B[0mself\u001B[0m\u001B[1;33m.\u001B[0m\u001B[0m_lock\u001B[0m\u001B[1;33m:\u001B[0m\u001B[1;33m\u001B[0m\u001B[1;33m\u001B[0m\u001B[0m\n\u001B[0;32m    778\u001B[0m             \u001B[0mjob_idx\u001B[0m \u001B[1;33m=\u001B[0m \u001B[0mlen\u001B[0m\u001B[1;33m(\u001B[0m\u001B[0mself\u001B[0m\u001B[1;33m.\u001B[0m\u001B[0m_jobs\u001B[0m\u001B[1;33m)\u001B[0m\u001B[1;33m\u001B[0m\u001B[1;33m\u001B[0m\u001B[0m\n\u001B[1;32m--> 779\u001B[1;33m             \u001B[0mjob\u001B[0m \u001B[1;33m=\u001B[0m \u001B[0mself\u001B[0m\u001B[1;33m.\u001B[0m\u001B[0m_backend\u001B[0m\u001B[1;33m.\u001B[0m\u001B[0mapply_async\u001B[0m\u001B[1;33m(\u001B[0m\u001B[0mbatch\u001B[0m\u001B[1;33m,\u001B[0m \u001B[0mcallback\u001B[0m\u001B[1;33m=\u001B[0m\u001B[0mcb\u001B[0m\u001B[1;33m)\u001B[0m\u001B[1;33m\u001B[0m\u001B[1;33m\u001B[0m\u001B[0m\n\u001B[0m\u001B[0;32m    780\u001B[0m             \u001B[1;31m# A job can complete so quickly than its callback is\u001B[0m\u001B[1;33m\u001B[0m\u001B[1;33m\u001B[0m\u001B[0m\n\u001B[0;32m    781\u001B[0m             \u001B[1;31m# called before we get here, causing self._jobs to\u001B[0m\u001B[1;33m\u001B[0m\u001B[1;33m\u001B[0m\u001B[0m\n",
      "\u001B[1;32m~\\anaconda3\\lib\\site-packages\\joblib\\_parallel_backends.py\u001B[0m in \u001B[0;36mapply_async\u001B[1;34m(self, func, callback)\u001B[0m\n\u001B[0;32m    206\u001B[0m     \u001B[1;32mdef\u001B[0m \u001B[0mapply_async\u001B[0m\u001B[1;33m(\u001B[0m\u001B[0mself\u001B[0m\u001B[1;33m,\u001B[0m \u001B[0mfunc\u001B[0m\u001B[1;33m,\u001B[0m \u001B[0mcallback\u001B[0m\u001B[1;33m=\u001B[0m\u001B[1;32mNone\u001B[0m\u001B[1;33m)\u001B[0m\u001B[1;33m:\u001B[0m\u001B[1;33m\u001B[0m\u001B[1;33m\u001B[0m\u001B[0m\n\u001B[0;32m    207\u001B[0m         \u001B[1;34m\"\"\"Schedule a func to be run\"\"\"\u001B[0m\u001B[1;33m\u001B[0m\u001B[1;33m\u001B[0m\u001B[0m\n\u001B[1;32m--> 208\u001B[1;33m         \u001B[0mresult\u001B[0m \u001B[1;33m=\u001B[0m \u001B[0mImmediateResult\u001B[0m\u001B[1;33m(\u001B[0m\u001B[0mfunc\u001B[0m\u001B[1;33m)\u001B[0m\u001B[1;33m\u001B[0m\u001B[1;33m\u001B[0m\u001B[0m\n\u001B[0m\u001B[0;32m    209\u001B[0m         \u001B[1;32mif\u001B[0m \u001B[0mcallback\u001B[0m\u001B[1;33m:\u001B[0m\u001B[1;33m\u001B[0m\u001B[1;33m\u001B[0m\u001B[0m\n\u001B[0;32m    210\u001B[0m             \u001B[0mcallback\u001B[0m\u001B[1;33m(\u001B[0m\u001B[0mresult\u001B[0m\u001B[1;33m)\u001B[0m\u001B[1;33m\u001B[0m\u001B[1;33m\u001B[0m\u001B[0m\n",
      "\u001B[1;32m~\\anaconda3\\lib\\site-packages\\joblib\\_parallel_backends.py\u001B[0m in \u001B[0;36m__init__\u001B[1;34m(self, batch)\u001B[0m\n\u001B[0;32m    570\u001B[0m         \u001B[1;31m# Don't delay the application, to avoid keeping the input\u001B[0m\u001B[1;33m\u001B[0m\u001B[1;33m\u001B[0m\u001B[0m\n\u001B[0;32m    571\u001B[0m         \u001B[1;31m# arguments in memory\u001B[0m\u001B[1;33m\u001B[0m\u001B[1;33m\u001B[0m\u001B[0m\n\u001B[1;32m--> 572\u001B[1;33m         \u001B[0mself\u001B[0m\u001B[1;33m.\u001B[0m\u001B[0mresults\u001B[0m \u001B[1;33m=\u001B[0m \u001B[0mbatch\u001B[0m\u001B[1;33m(\u001B[0m\u001B[1;33m)\u001B[0m\u001B[1;33m\u001B[0m\u001B[1;33m\u001B[0m\u001B[0m\n\u001B[0m\u001B[0;32m    573\u001B[0m \u001B[1;33m\u001B[0m\u001B[0m\n\u001B[0;32m    574\u001B[0m     \u001B[1;32mdef\u001B[0m \u001B[0mget\u001B[0m\u001B[1;33m(\u001B[0m\u001B[0mself\u001B[0m\u001B[1;33m)\u001B[0m\u001B[1;33m:\u001B[0m\u001B[1;33m\u001B[0m\u001B[1;33m\u001B[0m\u001B[0m\n",
      "\u001B[1;32m~\\anaconda3\\lib\\site-packages\\joblib\\parallel.py\u001B[0m in \u001B[0;36m__call__\u001B[1;34m(self)\u001B[0m\n\u001B[0;32m    260\u001B[0m         \u001B[1;31m# change the default number of processes to -1\u001B[0m\u001B[1;33m\u001B[0m\u001B[1;33m\u001B[0m\u001B[0m\n\u001B[0;32m    261\u001B[0m         \u001B[1;32mwith\u001B[0m \u001B[0mparallel_backend\u001B[0m\u001B[1;33m(\u001B[0m\u001B[0mself\u001B[0m\u001B[1;33m.\u001B[0m\u001B[0m_backend\u001B[0m\u001B[1;33m,\u001B[0m \u001B[0mn_jobs\u001B[0m\u001B[1;33m=\u001B[0m\u001B[0mself\u001B[0m\u001B[1;33m.\u001B[0m\u001B[0m_n_jobs\u001B[0m\u001B[1;33m)\u001B[0m\u001B[1;33m:\u001B[0m\u001B[1;33m\u001B[0m\u001B[1;33m\u001B[0m\u001B[0m\n\u001B[1;32m--> 262\u001B[1;33m             return [func(*args, **kwargs)\n\u001B[0m\u001B[0;32m    263\u001B[0m                     for func, args, kwargs in self.items]\n\u001B[0;32m    264\u001B[0m \u001B[1;33m\u001B[0m\u001B[0m\n",
      "\u001B[1;32m~\\anaconda3\\lib\\site-packages\\joblib\\parallel.py\u001B[0m in \u001B[0;36m<listcomp>\u001B[1;34m(.0)\u001B[0m\n\u001B[0;32m    260\u001B[0m         \u001B[1;31m# change the default number of processes to -1\u001B[0m\u001B[1;33m\u001B[0m\u001B[1;33m\u001B[0m\u001B[0m\n\u001B[0;32m    261\u001B[0m         \u001B[1;32mwith\u001B[0m \u001B[0mparallel_backend\u001B[0m\u001B[1;33m(\u001B[0m\u001B[0mself\u001B[0m\u001B[1;33m.\u001B[0m\u001B[0m_backend\u001B[0m\u001B[1;33m,\u001B[0m \u001B[0mn_jobs\u001B[0m\u001B[1;33m=\u001B[0m\u001B[0mself\u001B[0m\u001B[1;33m.\u001B[0m\u001B[0m_n_jobs\u001B[0m\u001B[1;33m)\u001B[0m\u001B[1;33m:\u001B[0m\u001B[1;33m\u001B[0m\u001B[1;33m\u001B[0m\u001B[0m\n\u001B[1;32m--> 262\u001B[1;33m             return [func(*args, **kwargs)\n\u001B[0m\u001B[0;32m    263\u001B[0m                     for func, args, kwargs in self.items]\n\u001B[0;32m    264\u001B[0m \u001B[1;33m\u001B[0m\u001B[0m\n",
      "\u001B[1;32m~\\anaconda3\\lib\\site-packages\\sklearn\\utils\\fixes.py\u001B[0m in \u001B[0;36m__call__\u001B[1;34m(self, *args, **kwargs)\u001B[0m\n\u001B[0;32m    220\u001B[0m     \u001B[1;32mdef\u001B[0m \u001B[0m__call__\u001B[0m\u001B[1;33m(\u001B[0m\u001B[0mself\u001B[0m\u001B[1;33m,\u001B[0m \u001B[1;33m*\u001B[0m\u001B[0margs\u001B[0m\u001B[1;33m,\u001B[0m \u001B[1;33m**\u001B[0m\u001B[0mkwargs\u001B[0m\u001B[1;33m)\u001B[0m\u001B[1;33m:\u001B[0m\u001B[1;33m\u001B[0m\u001B[1;33m\u001B[0m\u001B[0m\n\u001B[0;32m    221\u001B[0m         \u001B[1;32mwith\u001B[0m \u001B[0mconfig_context\u001B[0m\u001B[1;33m(\u001B[0m\u001B[1;33m**\u001B[0m\u001B[0mself\u001B[0m\u001B[1;33m.\u001B[0m\u001B[0mconfig\u001B[0m\u001B[1;33m)\u001B[0m\u001B[1;33m:\u001B[0m\u001B[1;33m\u001B[0m\u001B[1;33m\u001B[0m\u001B[0m\n\u001B[1;32m--> 222\u001B[1;33m             \u001B[1;32mreturn\u001B[0m \u001B[0mself\u001B[0m\u001B[1;33m.\u001B[0m\u001B[0mfunction\u001B[0m\u001B[1;33m(\u001B[0m\u001B[1;33m*\u001B[0m\u001B[0margs\u001B[0m\u001B[1;33m,\u001B[0m \u001B[1;33m**\u001B[0m\u001B[0mkwargs\u001B[0m\u001B[1;33m)\u001B[0m\u001B[1;33m\u001B[0m\u001B[1;33m\u001B[0m\u001B[0m\n\u001B[0m",
      "\u001B[1;32m~\\anaconda3\\lib\\site-packages\\sklearn\\model_selection\\_validation.py\u001B[0m in \u001B[0;36m_fit_and_score\u001B[1;34m(estimator, X, y, scorer, train, test, verbose, parameters, fit_params, return_train_score, return_parameters, return_n_test_samples, return_times, return_estimator, split_progress, candidate_progress, error_score)\u001B[0m\n\u001B[0;32m    596\u001B[0m             \u001B[0mestimator\u001B[0m\u001B[1;33m.\u001B[0m\u001B[0mfit\u001B[0m\u001B[1;33m(\u001B[0m\u001B[0mX_train\u001B[0m\u001B[1;33m,\u001B[0m \u001B[1;33m**\u001B[0m\u001B[0mfit_params\u001B[0m\u001B[1;33m)\u001B[0m\u001B[1;33m\u001B[0m\u001B[1;33m\u001B[0m\u001B[0m\n\u001B[0;32m    597\u001B[0m         \u001B[1;32melse\u001B[0m\u001B[1;33m:\u001B[0m\u001B[1;33m\u001B[0m\u001B[1;33m\u001B[0m\u001B[0m\n\u001B[1;32m--> 598\u001B[1;33m             \u001B[0mestimator\u001B[0m\u001B[1;33m.\u001B[0m\u001B[0mfit\u001B[0m\u001B[1;33m(\u001B[0m\u001B[0mX_train\u001B[0m\u001B[1;33m,\u001B[0m \u001B[0my_train\u001B[0m\u001B[1;33m,\u001B[0m \u001B[1;33m**\u001B[0m\u001B[0mfit_params\u001B[0m\u001B[1;33m)\u001B[0m\u001B[1;33m\u001B[0m\u001B[1;33m\u001B[0m\u001B[0m\n\u001B[0m\u001B[0;32m    599\u001B[0m \u001B[1;33m\u001B[0m\u001B[0m\n\u001B[0;32m    600\u001B[0m     \u001B[1;32mexcept\u001B[0m \u001B[0mException\u001B[0m \u001B[1;32mas\u001B[0m \u001B[0me\u001B[0m\u001B[1;33m:\u001B[0m\u001B[1;33m\u001B[0m\u001B[1;33m\u001B[0m\u001B[0m\n",
      "\u001B[1;32m~\\anaconda3\\lib\\site-packages\\xgboost\\core.py\u001B[0m in \u001B[0;36minner_f\u001B[1;34m(*args, **kwargs)\u001B[0m\n\u001B[0;32m    504\u001B[0m         \u001B[1;32mfor\u001B[0m \u001B[0mk\u001B[0m\u001B[1;33m,\u001B[0m \u001B[0marg\u001B[0m \u001B[1;32min\u001B[0m \u001B[0mzip\u001B[0m\u001B[1;33m(\u001B[0m\u001B[0msig\u001B[0m\u001B[1;33m.\u001B[0m\u001B[0mparameters\u001B[0m\u001B[1;33m,\u001B[0m \u001B[0margs\u001B[0m\u001B[1;33m)\u001B[0m\u001B[1;33m:\u001B[0m\u001B[1;33m\u001B[0m\u001B[1;33m\u001B[0m\u001B[0m\n\u001B[0;32m    505\u001B[0m             \u001B[0mkwargs\u001B[0m\u001B[1;33m[\u001B[0m\u001B[0mk\u001B[0m\u001B[1;33m]\u001B[0m \u001B[1;33m=\u001B[0m \u001B[0marg\u001B[0m\u001B[1;33m\u001B[0m\u001B[1;33m\u001B[0m\u001B[0m\n\u001B[1;32m--> 506\u001B[1;33m         \u001B[1;32mreturn\u001B[0m \u001B[0mf\u001B[0m\u001B[1;33m(\u001B[0m\u001B[1;33m**\u001B[0m\u001B[0mkwargs\u001B[0m\u001B[1;33m)\u001B[0m\u001B[1;33m\u001B[0m\u001B[1;33m\u001B[0m\u001B[0m\n\u001B[0m\u001B[0;32m    507\u001B[0m \u001B[1;33m\u001B[0m\u001B[0m\n\u001B[0;32m    508\u001B[0m     \u001B[1;32mreturn\u001B[0m \u001B[0minner_f\u001B[0m\u001B[1;33m\u001B[0m\u001B[1;33m\u001B[0m\u001B[0m\n",
      "\u001B[1;32m~\\anaconda3\\lib\\site-packages\\xgboost\\sklearn.py\u001B[0m in \u001B[0;36mfit\u001B[1;34m(self, X, y, sample_weight, base_margin, eval_set, eval_metric, early_stopping_rounds, verbose, xgb_model, sample_weight_eval_set, base_margin_eval_set, feature_weights, callbacks)\u001B[0m\n\u001B[0;32m   1248\u001B[0m         )\n\u001B[0;32m   1249\u001B[0m \u001B[1;33m\u001B[0m\u001B[0m\n\u001B[1;32m-> 1250\u001B[1;33m         self._Booster = train(\n\u001B[0m\u001B[0;32m   1251\u001B[0m             \u001B[0mparams\u001B[0m\u001B[1;33m,\u001B[0m\u001B[1;33m\u001B[0m\u001B[1;33m\u001B[0m\u001B[0m\n\u001B[0;32m   1252\u001B[0m             \u001B[0mtrain_dmatrix\u001B[0m\u001B[1;33m,\u001B[0m\u001B[1;33m\u001B[0m\u001B[1;33m\u001B[0m\u001B[0m\n",
      "\u001B[1;32m~\\anaconda3\\lib\\site-packages\\xgboost\\training.py\u001B[0m in \u001B[0;36mtrain\u001B[1;34m(params, dtrain, num_boost_round, evals, obj, feval, maximize, early_stopping_rounds, evals_result, verbose_eval, xgb_model, callbacks)\u001B[0m\n\u001B[0;32m    186\u001B[0m     \u001B[0mBooster\u001B[0m \u001B[1;33m:\u001B[0m \u001B[0ma\u001B[0m \u001B[0mtrained\u001B[0m \u001B[0mbooster\u001B[0m \u001B[0mmodel\u001B[0m\u001B[1;33m\u001B[0m\u001B[1;33m\u001B[0m\u001B[0m\n\u001B[0;32m    187\u001B[0m     \"\"\"\n\u001B[1;32m--> 188\u001B[1;33m     bst = _train_internal(params, dtrain,\n\u001B[0m\u001B[0;32m    189\u001B[0m                           \u001B[0mnum_boost_round\u001B[0m\u001B[1;33m=\u001B[0m\u001B[0mnum_boost_round\u001B[0m\u001B[1;33m,\u001B[0m\u001B[1;33m\u001B[0m\u001B[1;33m\u001B[0m\u001B[0m\n\u001B[0;32m    190\u001B[0m                           \u001B[0mevals\u001B[0m\u001B[1;33m=\u001B[0m\u001B[0mevals\u001B[0m\u001B[1;33m,\u001B[0m\u001B[1;33m\u001B[0m\u001B[1;33m\u001B[0m\u001B[0m\n",
      "\u001B[1;32m~\\anaconda3\\lib\\site-packages\\xgboost\\training.py\u001B[0m in \u001B[0;36m_train_internal\u001B[1;34m(params, dtrain, num_boost_round, evals, obj, feval, xgb_model, callbacks, evals_result, maximize, verbose_eval, early_stopping_rounds)\u001B[0m\n\u001B[0;32m     79\u001B[0m         \u001B[1;32mif\u001B[0m \u001B[0mcallbacks\u001B[0m\u001B[1;33m.\u001B[0m\u001B[0mbefore_iteration\u001B[0m\u001B[1;33m(\u001B[0m\u001B[0mbst\u001B[0m\u001B[1;33m,\u001B[0m \u001B[0mi\u001B[0m\u001B[1;33m,\u001B[0m \u001B[0mdtrain\u001B[0m\u001B[1;33m,\u001B[0m \u001B[0mevals\u001B[0m\u001B[1;33m)\u001B[0m\u001B[1;33m:\u001B[0m\u001B[1;33m\u001B[0m\u001B[1;33m\u001B[0m\u001B[0m\n\u001B[0;32m     80\u001B[0m             \u001B[1;32mbreak\u001B[0m\u001B[1;33m\u001B[0m\u001B[1;33m\u001B[0m\u001B[0m\n\u001B[1;32m---> 81\u001B[1;33m         \u001B[0mbst\u001B[0m\u001B[1;33m.\u001B[0m\u001B[0mupdate\u001B[0m\u001B[1;33m(\u001B[0m\u001B[0mdtrain\u001B[0m\u001B[1;33m,\u001B[0m \u001B[0mi\u001B[0m\u001B[1;33m,\u001B[0m \u001B[0mobj\u001B[0m\u001B[1;33m)\u001B[0m\u001B[1;33m\u001B[0m\u001B[1;33m\u001B[0m\u001B[0m\n\u001B[0m\u001B[0;32m     82\u001B[0m         \u001B[1;32mif\u001B[0m \u001B[0mcallbacks\u001B[0m\u001B[1;33m.\u001B[0m\u001B[0mafter_iteration\u001B[0m\u001B[1;33m(\u001B[0m\u001B[0mbst\u001B[0m\u001B[1;33m,\u001B[0m \u001B[0mi\u001B[0m\u001B[1;33m,\u001B[0m \u001B[0mdtrain\u001B[0m\u001B[1;33m,\u001B[0m \u001B[0mevals\u001B[0m\u001B[1;33m)\u001B[0m\u001B[1;33m:\u001B[0m\u001B[1;33m\u001B[0m\u001B[1;33m\u001B[0m\u001B[0m\n\u001B[0;32m     83\u001B[0m             \u001B[1;32mbreak\u001B[0m\u001B[1;33m\u001B[0m\u001B[1;33m\u001B[0m\u001B[0m\n",
      "\u001B[1;32m~\\anaconda3\\lib\\site-packages\\xgboost\\core.py\u001B[0m in \u001B[0;36mupdate\u001B[1;34m(self, dtrain, iteration, fobj)\u001B[0m\n\u001B[0;32m   1678\u001B[0m \u001B[1;33m\u001B[0m\u001B[0m\n\u001B[0;32m   1679\u001B[0m         \u001B[1;32mif\u001B[0m \u001B[0mfobj\u001B[0m \u001B[1;32mis\u001B[0m \u001B[1;32mNone\u001B[0m\u001B[1;33m:\u001B[0m\u001B[1;33m\u001B[0m\u001B[1;33m\u001B[0m\u001B[0m\n\u001B[1;32m-> 1680\u001B[1;33m             _check_call(_LIB.XGBoosterUpdateOneIter(self.handle,\n\u001B[0m\u001B[0;32m   1681\u001B[0m                                                     \u001B[0mctypes\u001B[0m\u001B[1;33m.\u001B[0m\u001B[0mc_int\u001B[0m\u001B[1;33m(\u001B[0m\u001B[0miteration\u001B[0m\u001B[1;33m)\u001B[0m\u001B[1;33m,\u001B[0m\u001B[1;33m\u001B[0m\u001B[1;33m\u001B[0m\u001B[0m\n\u001B[0;32m   1682\u001B[0m                                                     dtrain.handle))\n",
      "\u001B[1;31mKeyboardInterrupt\u001B[0m: "
     ]
    }
   ],
   "source": [
    "best_clf_random = generate_clf_from_search(\n",
    "    \"Random\",\n",
    "    clf,\n",
    "    parameters,\n",
    "    scorer,\n",
    "    X_train,\n",
    "    y_train\n",
    ")"
   ],
   "metadata": {
    "collapsed": false,
    "pycharm": {
     "name": "#%%\n"
    }
   }
  },
  {
   "cell_type": "code",
   "execution_count": 57,
   "outputs": [
    {
     "ename": "AttributeError",
     "evalue": "'DecisionTreeClassifier' object has no attribute 'best_estimator_'",
     "output_type": "error",
     "traceback": [
      "\u001B[1;31m---------------------------------------------------------------------------\u001B[0m",
      "\u001B[1;31mAttributeError\u001B[0m                            Traceback (most recent call last)",
      "\u001B[1;32m~\\AppData\\Local\\Temp/ipykernel_3588/3377397367.py\u001B[0m in \u001B[0;36m<module>\u001B[1;34m\u001B[0m\n\u001B[1;32m----> 1\u001B[1;33m \u001B[0mbest_clf_random\u001B[0m\u001B[1;33m.\u001B[0m\u001B[0mbest_estimator_\u001B[0m\u001B[1;33m\u001B[0m\u001B[1;33m\u001B[0m\u001B[0m\n\u001B[0m",
      "\u001B[1;31mAttributeError\u001B[0m: 'DecisionTreeClassifier' object has no attribute 'best_estimator_'"
     ]
    }
   ],
   "source": [
    "best_clf_random.best_estimator_"
   ],
   "metadata": {
    "collapsed": false,
    "pycharm": {
     "name": "#%%\n"
    }
   }
  },
  {
   "cell_type": "code",
   "execution_count": 59,
   "outputs": [
    {
     "ename": "AttributeError",
     "evalue": "'DecisionTreeClassifier' object has no attribute 'best_params_'",
     "output_type": "error",
     "traceback": [
      "\u001B[1;31m---------------------------------------------------------------------------\u001B[0m",
      "\u001B[1;31mAttributeError\u001B[0m                            Traceback (most recent call last)",
      "\u001B[1;32m~\\AppData\\Local\\Temp/ipykernel_3588/3448780846.py\u001B[0m in \u001B[0;36m<module>\u001B[1;34m\u001B[0m\n\u001B[1;32m----> 1\u001B[1;33m \u001B[0mclf\u001B[0m\u001B[1;33m.\u001B[0m\u001B[0mbest_params_\u001B[0m\u001B[1;33m\u001B[0m\u001B[1;33m\u001B[0m\u001B[0m\n\u001B[0m",
      "\u001B[1;31mAttributeError\u001B[0m: 'DecisionTreeClassifier' object has no attribute 'best_params_'"
     ]
    }
   ],
   "source": [
    "clf.best_params_"
   ],
   "metadata": {
    "collapsed": false,
    "pycharm": {
     "name": "#%%\n"
    }
   }
  },
  {
   "cell_type": "code",
   "execution_count": 58,
   "outputs": [
    {
     "ename": "AttributeError",
     "evalue": "'DecisionTreeClassifier' object has no attribute 'best_score_'",
     "output_type": "error",
     "traceback": [
      "\u001B[1;31m---------------------------------------------------------------------------\u001B[0m",
      "\u001B[1;31mAttributeError\u001B[0m                            Traceback (most recent call last)",
      "\u001B[1;32m~\\AppData\\Local\\Temp/ipykernel_3588/3320998667.py\u001B[0m in \u001B[0;36m<module>\u001B[1;34m\u001B[0m\n\u001B[1;32m----> 1\u001B[1;33m \u001B[0mclf\u001B[0m\u001B[1;33m.\u001B[0m\u001B[0mbest_score_\u001B[0m\u001B[1;33m\u001B[0m\u001B[1;33m\u001B[0m\u001B[0m\n\u001B[0m",
      "\u001B[1;31mAttributeError\u001B[0m: 'DecisionTreeClassifier' object has no attribute 'best_score_'"
     ]
    }
   ],
   "source": [
    "clf.best_score_"
   ],
   "metadata": {
    "collapsed": false,
    "pycharm": {
     "name": "#%%\n"
    }
   }
  },
  {
   "cell_type": "code",
   "execution_count": 45,
   "outputs": [
    {
     "data": {
      "text/plain": "['accuracy',\n 'adjusted_mutual_info_score',\n 'adjusted_rand_score',\n 'average_precision',\n 'balanced_accuracy',\n 'completeness_score',\n 'explained_variance',\n 'f1',\n 'f1_macro',\n 'f1_micro',\n 'f1_samples',\n 'f1_weighted',\n 'fowlkes_mallows_score',\n 'homogeneity_score',\n 'jaccard',\n 'jaccard_macro',\n 'jaccard_micro',\n 'jaccard_samples',\n 'jaccard_weighted',\n 'max_error',\n 'mutual_info_score',\n 'neg_brier_score',\n 'neg_log_loss',\n 'neg_mean_absolute_error',\n 'neg_mean_absolute_percentage_error',\n 'neg_mean_gamma_deviance',\n 'neg_mean_poisson_deviance',\n 'neg_mean_squared_error',\n 'neg_mean_squared_log_error',\n 'neg_median_absolute_error',\n 'neg_root_mean_squared_error',\n 'normalized_mutual_info_score',\n 'precision',\n 'precision_macro',\n 'precision_micro',\n 'precision_samples',\n 'precision_weighted',\n 'r2',\n 'rand_score',\n 'recall',\n 'recall_macro',\n 'recall_micro',\n 'recall_samples',\n 'recall_weighted',\n 'roc_auc',\n 'roc_auc_ovo',\n 'roc_auc_ovo_weighted',\n 'roc_auc_ovr',\n 'roc_auc_ovr_weighted',\n 'top_k_accuracy',\n 'v_measure_score']"
     },
     "execution_count": 45,
     "metadata": {},
     "output_type": "execute_result"
    }
   ],
   "source": [
    "from sklearn import metrics\n",
    "\n",
    "sorted(metrics.SCORERS.keys())"
   ],
   "metadata": {
    "collapsed": false,
    "pycharm": {
     "name": "#%%\n"
    }
   }
  },
  {
   "cell_type": "code",
   "execution_count": 48,
   "outputs": [
    {
     "data": {
      "text/plain": "0.8875681079685387"
     },
     "execution_count": 48,
     "metadata": {},
     "output_type": "execute_result"
    }
   ],
   "source": [
    "from sklearn.model_selection import cross_val_score\n",
    "\n",
    "scores = cross_val_score(best_clf_random, X_test, y_test, cv=5, scoring='roc_auc')\n",
    "scores.mean()"
   ],
   "metadata": {
    "collapsed": false,
    "pycharm": {
     "name": "#%%\n"
    }
   }
  },
  {
   "cell_type": "code",
   "execution_count": 39,
   "outputs": [
    {
     "name": "stdout",
     "output_type": "stream",
     "text": [
      "TEST\n",
      "AUC Score : 0.7662356481244059\n",
      "Accuracy Score : 0.9358846988036101\n",
      "Precision Score : 0.9533958553925276\n",
      "Recall Score : 0.9767395010072835\n",
      "F1 Score : 0.9649265156154317\n",
      "VALIDATION\n",
      "AUC Score : 0.604942960128016\n",
      "Accuracy Score : 0.35988806198140066\n",
      "Precision Score : 0.07923599260523322\n",
      "Recall Score : 0.8844246031746031\n",
      "F1 Score : 0.1454417906551814\n"
     ]
    }
   ],
   "source": [
    "best_clf_random.fit(X_train, y_train)\n",
    "# Make predictions using the new model.\n",
    "best_train_predictions = best_clf_random.predict(X_train)\n",
    "best_test_predictions = best_clf_random.predict(X_test)\n",
    "best_validation_predictions = best_clf_random.predict(X_val)\n",
    "\n",
    "# Calculate the f1_score of the new model.\n",
    "print(\"TEST\")\n",
    "print('AUC Score : ' + str(roc_auc_score(y_test, best_test_predictions)))\n",
    "print('Accuracy Score : ' + str(accuracy_score(y_test, best_test_predictions)))\n",
    "print('Precision Score : ' + str(precision_score(y_test, best_test_predictions)))\n",
    "print('Recall Score : ' + str(recall_score(y_test, best_test_predictions)))\n",
    "print('F1 Score : ' + str(f1_score(y_test, best_test_predictions)))\n",
    "\n",
    "print(\"VALIDATION\")\n",
    "print('AUC Score : ' + str(roc_auc_score(y_val, best_validation_predictions)))\n",
    "print('Accuracy Score : ' + str(accuracy_score(y_val, best_validation_predictions)))\n",
    "print('Precision Score : ' + str(precision_score(y_val, best_validation_predictions)))\n",
    "print('Recall Score : ' + str(recall_score(y_val, best_validation_predictions)))\n",
    "print('F1 Score : ' + str(f1_score(y_val, best_validation_predictions)))"
   ],
   "metadata": {
    "collapsed": false,
    "pycharm": {
     "name": "#%%\n"
    }
   }
  },
  {
   "cell_type": "code",
   "execution_count": 49,
   "outputs": [],
   "source": [
    "model = best_clf_random"
   ],
   "metadata": {
    "collapsed": false,
    "pycharm": {
     "name": "#%%\n"
    }
   }
  },
  {
   "cell_type": "markdown",
   "source": [
    "## Modelling"
   ],
   "metadata": {
    "collapsed": false,
    "pycharm": {
     "name": "#%% md\n"
    }
   }
  },
  {
   "cell_type": "code",
   "execution_count": 50,
   "outputs": [],
   "source": [
    "_MAX_DEPTH = 4\n",
    "_MIN_SAMPLES_LEAF = 100\n",
    "_RANDOM_STATE = 42\n",
    "\n",
    "_MIN_CHILD_WEIGHT = 100\n",
    "_N_ESTIMATORS = 50"
   ],
   "metadata": {
    "collapsed": false,
    "pycharm": {
     "name": "#%%\n"
    }
   }
  },
  {
   "cell_type": "code",
   "execution_count": 51,
   "outputs": [],
   "source": [
    "# model = xgb.XGBClassifier(\n",
    "#     max_depth=_MAX_DEPTH,\n",
    "#     min_child_weight=_MIN_CHILD_WEIGHT,\n",
    "#     n_estimators=_N_ESTIMATORS,\n",
    "#     random_state=_RANDOM_STATE,\n",
    "#     use_label_encoder=False\n",
    "# )"
   ],
   "metadata": {
    "collapsed": false,
    "pycharm": {
     "name": "#%%\n"
    }
   }
  },
  {
   "cell_type": "code",
   "execution_count": 52,
   "outputs": [],
   "source": [
    "# model.fit(X_train, y_train)"
   ],
   "metadata": {
    "collapsed": false,
    "pycharm": {
     "name": "#%%\n"
    }
   }
  },
  {
   "cell_type": "code",
   "execution_count": 96,
   "outputs": [
    {
     "name": "stdout",
     "output_type": "stream",
     "text": [
      "Accuracy: 0.3837\n"
     ]
    }
   ],
   "source": [
    "# accuracy = round(model.score(X_val, y_val), 4)\n",
    "# print('Accuracy: %0.4f' % (accuracy))"
   ],
   "metadata": {
    "collapsed": false,
    "pycharm": {
     "name": "#%%\n"
    }
   }
  },
  {
   "cell_type": "code",
   "execution_count": 53,
   "outputs": [
    {
     "data": {
      "text/plain": "0.8867158336732655"
     },
     "execution_count": 53,
     "metadata": {},
     "output_type": "execute_result"
    }
   ],
   "source": [
    "y_score = pd.DataFrame(model.predict_proba(X_test)[:, 1], index=y_test.index, columns=['score'])\n",
    "roc_auc_score(y_test, y_score)"
   ],
   "metadata": {
    "collapsed": false,
    "pycharm": {
     "name": "#%%\n"
    }
   }
  },
  {
   "cell_type": "code",
   "execution_count": 54,
   "outputs": [
    {
     "data": {
      "text/plain": "Text(0, 0.5, 'TPR')"
     },
     "execution_count": 54,
     "metadata": {},
     "output_type": "execute_result"
    },
    {
     "data": {
      "text/plain": "<Figure size 1080x720 with 1 Axes>",
      "image/png": "[encoded data removed]"
     },
     "metadata": {
      "needs_background": "light"
     },
     "output_type": "display_data"
    }
   ],
   "source": [
    "fpr, tpr, th = roc_curve(y_test, y_score)\n",
    "plt.figure(figsize=(15, 10))\n",
    "plt.plot(fpr, tpr)\n",
    "plt.plot([0, 1], [0, 1])\n",
    "plt.xlabel('FPR')\n",
    "plt.ylabel('TPR')"
   ],
   "metadata": {
    "collapsed": false,
    "pycharm": {
     "name": "#%%\n"
    }
   }
  },
  {
   "cell_type": "code",
   "execution_count": 55,
   "outputs": [
    {
     "data": {
      "text/plain": "<AxesSubplot:>"
     },
     "execution_count": 55,
     "metadata": {},
     "output_type": "execute_result"
    },
    {
     "data": {
      "text/plain": "<Figure size 432x288 with 1 Axes>",
      "image/png": "[encoded data removed]"
     },
     "metadata": {
      "needs_background": "light"
     },
     "output_type": "display_data"
    }
   ],
   "source": [
    "feat_importances = pd.Series(model.feature_importances_, index=dev_X.columns)\n",
    "feat_importances.nlargest(20).plot(kind='barh')"
   ],
   "metadata": {
    "collapsed": false,
    "pycharm": {
     "name": "#%%\n"
    }
   }
  },
  {
   "cell_type": "code",
   "execution_count": 99,
   "outputs": [],
   "source": [],
   "metadata": {
    "collapsed": false,
    "pycharm": {
     "name": "#%%\n"
    }
   }
  }
 ],
 "metadata": {
  "kernelspec": {
   "display_name": "Python 3",
   "language": "python",
   "name": "python3"
  },
  "language_info": {
   "codemirror_mode": {
    "name": "ipython",
    "version": 2
   },
   "file_extension": ".py",
   "mimetype": "text/x-python",
   "name": "python",
   "nbconvert_exporter": "python",
   "pygments_lexer": "ipython2",
   "version": "2.7.6"
  }
 },
 "nbformat": 4,
 "nbformat_minor": 0
}