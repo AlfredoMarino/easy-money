{
 "nbformat": 4,
 "nbformat_minor": 0,
 "metadata": {
  "colab": {
   "name": "Copia de EasyMoney_Análisis.ipynb",
   "provenance": [],
   "collapsed_sections": [
    "C3lfMPhLS7da",
    "qaqO8Z7E10jS",
    "Jd_bowEr-Qtr",
    "gfBSIT0RDYFi",
    "wzR72ZxmcSg7",
    "KbyL2eLF-c46"
   ]
  },
  "kernelspec": {
   "name": "python3",
   "display_name": "Python 3"
  },
  "language_info": {
   "name": "python"
  }
 },
 "cells": [
  {
   "cell_type": "markdown",
   "source": [
    "# EasyMoney: haz realidad tus sueños sin complicaciones"
   ],
   "metadata": {
    "id": "UxC8RU7w8FPR"
   }
  },
  {
   "cell_type": "markdown",
   "source": [
    "# 1"
   ],
   "metadata": {
    "id": "xH5fQVnq8Ma7"
   }
  },
  {
   "cell_type": "markdown",
   "source": [
    "## Import libraries"
   ],
   "metadata": {
    "id": "ebDDekn-8cLF"
   }
  },
  {
   "cell_type": "code",
   "source": [
    "import pandas as pd\n",
    "import numpy as np\n",
    "import matplotlib.pyplot as plt\n",
    "import seaborn as sns\n",
    "import plotly as plotly\n",
    "\n",
    "from plotly.subplots import make_subplots\n",
    "\n",
    "plt.style.use(\"seaborn-pastel\")\n",
    "\n",
    "from datetime import datetime"
   ],
   "metadata": {
    "id": "aOYw2ikG8rSB"
   },
   "execution_count": 1,
   "outputs": []
  },
  {
   "cell_type": "code",
   "source": [
    "# from google.colab import drive\n",
    "# drive.mount('/content/drive')\n",
    "# import os"
   ],
   "metadata": {
    "colab": {
     "base_uri": "https://localhost:8080/"
    },
    "id": "QXAjiFbo9SJj",
    "outputId": "07293a72-68b9-44b9-9e75-a7447f8de37b"
   },
   "execution_count": 2,
   "outputs": []
  },
  {
   "cell_type": "markdown",
   "source": [
    "## Import data"
   ],
   "metadata": {
    "id": "9gg1KzmJ8tS3"
   }
  },
  {
   "cell_type": "code",
   "source": [
    "commercial_df = pd.read_csv(\"../data/raw/commercial_activity_df.csv\", sep=\",\")\n",
    "products_df = pd.read_csv(\"../data/raw/products_df.csv\", sep=\",\")\n",
    "sociodemographic_df = pd.read_csv(\"../data/raw/sociodemographic_df.csv\", sep=\",\")"
   ],
   "metadata": {
    "id": "E67-mhK18zXC"
   },
   "execution_count": 3,
   "outputs": []
  },
  {
   "cell_type": "markdown",
   "source": [
    "## Unificar data"
   ],
   "metadata": {
    "id": "9aQlHeoqA1Yb"
   }
  },
  {
   "cell_type": "code",
   "source": [
    "df_1 = pd.merge(left=commercial_df, right=sociodemographic_df, how=\"inner\", on=[\"pk_cid\", \"pk_partition\"])\n",
    "df = pd.merge(left=df_1, right=products_df, how=\"inner\", on=[\"pk_cid\", \"pk_partition\"])"
   ],
   "metadata": {
    "id": "DAMtHPYV_fR2"
   },
   "execution_count": 4,
   "outputs": []
  },
  {
   "cell_type": "code",
   "source": [
    "df.head()"
   ],
   "metadata": {
    "colab": {
     "base_uri": "https://localhost:8080/",
     "height": 404
    },
    "id": "cLZy7f4lAaFr",
    "outputId": "4dccab3b-8902-4368-e07a-4c64eb5c88f9"
   },
   "execution_count": 5,
   "outputs": [
    {
     "data": {
      "text/plain": "   Unnamed: 0_x   pk_cid pk_partition  entry_date entry_channel  \\\n0             0  1375586   2018-01-28  2018-01-12           KHL   \n1             1  1050611   2018-01-28  2015-08-10           KHE   \n2             2  1050612   2018-01-28  2015-08-10           KHE   \n3             3  1050613   2018-01-28  2015-08-10           KHD   \n4             4  1050614   2018-01-28  2015-08-10           KHE   \n\n   active_customer             segment  Unnamed: 0_y country_id  region_code  \\\n0              1.0   02 - PARTICULARES             0         ES         29.0   \n1              0.0  03 - UNIVERSITARIO             1         ES         13.0   \n2              0.0  03 - UNIVERSITARIO             2         ES         13.0   \n3              0.0  03 - UNIVERSITARIO             3         ES         50.0   \n4              1.0  03 - UNIVERSITARIO             4         ES         50.0   \n\n   ... long_term_deposit  em_account_pp credit_card  payroll  pension_plan  \\\n0  ...                 0              0           0      0.0           0.0   \n1  ...                 0              0           0      0.0           0.0   \n2  ...                 0              0           0      0.0           0.0   \n3  ...                 0              0           0      0.0           0.0   \n4  ...                 0              0           0      0.0           0.0   \n\n   payroll_account  emc_account  debit_card  em_account_p  em_acount  \n0                0            0           0             0          1  \n1                0            0           0             0          1  \n2                0            0           0             0          1  \n3                0            0           0             0          0  \n4                0            0           0             0          1  \n\n[5 rows x 30 columns]",
      "text/html": "<div>\n<style scoped>\n    .dataframe tbody tr th:only-of-type {\n        vertical-align: middle;\n    }\n\n    .dataframe tbody tr th {\n        vertical-align: top;\n    }\n\n    .dataframe thead th {\n        text-align: right;\n    }\n</style>\n<table border=\"1\" class=\"dataframe\">\n  <thead>\n    <tr style=\"text-align: right;\">\n      <th></th>\n      <th>Unnamed: 0_x</th>\n      <th>pk_cid</th>\n      <th>pk_partition</th>\n      <th>entry_date</th>\n      <th>entry_channel</th>\n      <th>active_customer</th>\n      <th>segment</th>\n      <th>Unnamed: 0_y</th>\n      <th>country_id</th>\n      <th>region_code</th>\n      <th>...</th>\n      <th>long_term_deposit</th>\n      <th>em_account_pp</th>\n      <th>credit_card</th>\n      <th>payroll</th>\n      <th>pension_plan</th>\n      <th>payroll_account</th>\n      <th>emc_account</th>\n      <th>debit_card</th>\n      <th>em_account_p</th>\n      <th>em_acount</th>\n    </tr>\n  </thead>\n  <tbody>\n    <tr>\n      <th>0</th>\n      <td>0</td>\n      <td>1375586</td>\n      <td>2018-01-28</td>\n      <td>2018-01-12</td>\n      <td>KHL</td>\n      <td>1.0</td>\n      <td>02 - PARTICULARES</td>\n      <td>0</td>\n      <td>ES</td>\n      <td>29.0</td>\n      <td>...</td>\n      <td>0</td>\n      <td>0</td>\n      <td>0</td>\n      <td>0.0</td>\n      <td>0.0</td>\n      <td>0</td>\n      <td>0</td>\n      <td>0</td>\n      <td>0</td>\n      <td>1</td>\n    </tr>\n    <tr>\n      <th>1</th>\n      <td>1</td>\n      <td>1050611</td>\n      <td>2018-01-28</td>\n      <td>2015-08-10</td>\n      <td>KHE</td>\n      <td>0.0</td>\n      <td>03 - UNIVERSITARIO</td>\n      <td>1</td>\n      <td>ES</td>\n      <td>13.0</td>\n      <td>...</td>\n      <td>0</td>\n      <td>0</td>\n      <td>0</td>\n      <td>0.0</td>\n      <td>0.0</td>\n      <td>0</td>\n      <td>0</td>\n      <td>0</td>\n      <td>0</td>\n      <td>1</td>\n    </tr>\n    <tr>\n      <th>2</th>\n      <td>2</td>\n      <td>1050612</td>\n      <td>2018-01-28</td>\n      <td>2015-08-10</td>\n      <td>KHE</td>\n      <td>0.0</td>\n      <td>03 - UNIVERSITARIO</td>\n      <td>2</td>\n      <td>ES</td>\n      <td>13.0</td>\n      <td>...</td>\n      <td>0</td>\n      <td>0</td>\n      <td>0</td>\n      <td>0.0</td>\n      <td>0.0</td>\n      <td>0</td>\n      <td>0</td>\n      <td>0</td>\n      <td>0</td>\n      <td>1</td>\n    </tr>\n    <tr>\n      <th>3</th>\n      <td>3</td>\n      <td>1050613</td>\n      <td>2018-01-28</td>\n      <td>2015-08-10</td>\n      <td>KHD</td>\n      <td>0.0</td>\n      <td>03 - UNIVERSITARIO</td>\n      <td>3</td>\n      <td>ES</td>\n      <td>50.0</td>\n      <td>...</td>\n      <td>0</td>\n      <td>0</td>\n      <td>0</td>\n      <td>0.0</td>\n      <td>0.0</td>\n      <td>0</td>\n      <td>0</td>\n      <td>0</td>\n      <td>0</td>\n      <td>0</td>\n    </tr>\n    <tr>\n      <th>4</th>\n      <td>4</td>\n      <td>1050614</td>\n      <td>2018-01-28</td>\n      <td>2015-08-10</td>\n      <td>KHE</td>\n      <td>1.0</td>\n      <td>03 - UNIVERSITARIO</td>\n      <td>4</td>\n      <td>ES</td>\n      <td>50.0</td>\n      <td>...</td>\n      <td>0</td>\n      <td>0</td>\n      <td>0</td>\n      <td>0.0</td>\n      <td>0.0</td>\n      <td>0</td>\n      <td>0</td>\n      <td>0</td>\n      <td>0</td>\n      <td>1</td>\n    </tr>\n  </tbody>\n</table>\n<p>5 rows × 30 columns</p>\n</div>"
     },
     "execution_count": 5,
     "metadata": {},
     "output_type": "execute_result"
    }
   ]
  },
  {
   "cell_type": "markdown",
   "source": [
    "## Transformar fechas"
   ],
   "metadata": {
    "id": "dJmF-O1hA6jf"
   }
  },
  {
   "cell_type": "code",
   "source": [
    "#Obteníamos un error al convertir nuestra variable a fecha debido a las fechas correspondientes al 29 de Febrero de los años 2015 y 2019 puesto que no existen.Por este motivo, decidimos reemplazar estos valores por la fecha más cercana (día anterior)\n",
    "df[\"entry_date\"] = df[\"entry_date\"].replace(\"2015-02-29\", \"2015-02-28\")\n",
    "df[\"entry_date\"] = df[\"entry_date\"].replace(\"2019-02-29\", \"2019-02-28\")"
   ],
   "metadata": {
    "id": "E_hHeOg2As5B"
   },
   "execution_count": 6,
   "outputs": []
  },
  {
   "cell_type": "code",
   "source": [
    "#Convertimos nuestra variable a \"fecha\" mediante el pd.to_datetime\n",
    "df[\"entry_date\"] = pd.to_datetime(df[\"entry_date\"])"
   ],
   "metadata": {
    "id": "CQqXGR7aAxS9"
   },
   "execution_count": 7,
   "outputs": []
  },
  {
   "cell_type": "code",
   "source": [
    "#Generamos atributos extras a partir de pk_partition\n",
    "df['entry_date_Month'] = df['entry_date'].dt.month.astype(int)\n",
    "df['entry_date_Year'] = df['entry_date'].dt.year.astype(int)\n",
    "df['entry_date_Week'] = df['entry_date'].dt.week.astype(int)\n",
    "df['entry_date_Weekday'] = df['entry_date'].dt.weekday.astype(int)\n",
    "df['entry_date_Trim'] = df['entry_date'].dt.quarter.astype(int)"
   ],
   "metadata": {
    "colab": {
     "base_uri": "https://localhost:8080/"
    },
    "id": "52rS0CnaA_Hf",
    "outputId": "e64c1fb0-1ec9-43a0-fd89-a284ae186cbf"
   },
   "execution_count": 8,
   "outputs": [
    {
     "name": "stderr",
     "output_type": "stream",
     "text": [
      "C:\\Users\\alfre\\AppData\\Local\\Temp/ipykernel_3396/3362508110.py:4: FutureWarning: Series.dt.weekofyear and Series.dt.week have been deprecated.  Please use Series.dt.isocalendar().week instead.\n",
      "  df['entry_date_Week'] = df['entry_date'].dt.week.astype(int)\n"
     ]
    }
   ]
  },
  {
   "cell_type": "code",
   "source": [
    "#Convertimos nuestra variable a \"fecha\" mediante el pd.to_datetime\n",
    "df[\"pk_partition\"] = pd.to_datetime(df[\"pk_partition\"])"
   ],
   "metadata": {
    "id": "dzQkl-nMBH75"
   },
   "execution_count": 9,
   "outputs": []
  },
  {
   "cell_type": "code",
   "source": [
    "#Generamos atributos extras a partir de pk_partition\n",
    "df['pk_partition_Month'] = df['pk_partition'].dt.month.astype(int)\n",
    "df['pk_partition_Year'] = df['pk_partition'].dt.year.astype(int)\n",
    "df['pk_partition_Week'] = df['pk_partition'].dt.week.astype(int)\n",
    "df['pk_partition_Weekday'] = df['pk_partition'].dt.weekday.astype(int)\n",
    "df['pk_partition_Trim'] = df['pk_partition'].dt.quarter.astype(int)"
   ],
   "metadata": {
    "colab": {
     "base_uri": "https://localhost:8080/"
    },
    "id": "poPY3tG-BME2",
    "outputId": "d894aa3b-9259-443a-bcc0-e3bada5c6686"
   },
   "execution_count": 10,
   "outputs": [
    {
     "name": "stderr",
     "output_type": "stream",
     "text": [
      "C:\\Users\\alfre\\AppData\\Local\\Temp/ipykernel_3396/1501619623.py:4: FutureWarning: Series.dt.weekofyear and Series.dt.week have been deprecated.  Please use Series.dt.isocalendar().week instead.\n",
      "  df['pk_partition_Week'] = df['pk_partition'].dt.week.astype(int)\n"
     ]
    }
   ]
  },
  {
   "cell_type": "markdown",
   "source": [
    "## Exploratory Data Analysis\n",
    "\n",
    "Para facilitar el análisis exploratorio univariantes de los datos, a pesar de tener un dataset unificado llamado df, analizaremos los datos dividiéndolos por:\n",
    "\n",
    "*   Commercial_df\n",
    "*   Products_df\n",
    "*   Sociodemographic_df\n",
    "\n",
    "De esta manera, podremos facilitar el entendimiento del notebook dotándolo de una mejor estructura.\n"
   ],
   "metadata": {
    "id": "-SsAU_-f-Oij"
   }
  },
  {
   "cell_type": "markdown",
   "source": [
    "### Definición de funciones"
   ],
   "metadata": {
    "id": "wWKFU9qffanb"
   }
  },
  {
   "cell_type": "markdown",
   "source": [
    "#### Función para graficar los nulos"
   ],
   "metadata": {
    "id": "Hgv5UISIo1Ai"
   }
  },
  {
   "cell_type": "code",
   "source": [
    "def graficar(dataframe):\n",
    "    #creamos un dataframe para los nulos\n",
    "    df_nulos = dataframe.isnull().sum().reset_index(name=\"Num_Nulos\")\n",
    "    df_nulos = df_nulos[df_nulos[\"Num_Nulos\"] > 0].sort_values(by=\"Num_Nulos\", ascending=False)\n",
    "    df_nulos[\"Porcentaje\"] = (df_nulos[\"Num_Nulos\"] / dataframe.shape[0]) * 100\n",
    "\n",
    "    plt.figure(figsize=[10, 8])\n",
    "    ax = df_nulos.plot.bar(x=\"index\", y=\"Num_Nulos\", rot=10)\n",
    "    plt.title(\"Cantidad de Nulos\")\n",
    "    plt.show()\n",
    "\n",
    "    return df_nulos\n"
   ],
   "metadata": {
    "id": "7hobjS69o5CH"
   },
   "execution_count": 11,
   "outputs": []
  },
  {
   "cell_type": "markdown",
   "source": [
    "#### Función de detección de atributos con baja variabilidad"
   ],
   "metadata": {
    "id": "eOKpvDgFghHQ"
   }
  },
  {
   "cell_type": "markdown",
   "source": [
    "Vamos a crear una función que nos permita analizar los atributos con baja variabilidad. Es decir, aquellos dónde existe un valor único que representa el 99% de las instancias y por tanto dispone de una distribución sesgada y no resulta útil para el modelo."
   ],
   "metadata": {
    "id": "9qhnd588qXS1"
   }
  },
  {
   "cell_type": "code",
   "source": [
    "def skewness(dataframe):\n",
    "    skewness_df = pd.DataFrame([{'Atributos': c, 'val_únicos': dataframe[c].nunique(),\n",
    "                                 'Skewness': dataframe[c].value_counts(normalize=True).values[0] * 100} for c in\n",
    "                                dataframe.columns])\n",
    "    skewness_df = skewness_df.sort_values('Skewness', ascending=False)\n",
    "    new_skewness = skewness_df[skewness_df[\"Skewness\"] >= 90]\n",
    "    print(new_skewness)\n",
    "    return new_skewness"
   ],
   "metadata": {
    "id": "0xBIrhWpo6pN"
   },
   "execution_count": 12,
   "outputs": []
  },
  {
   "cell_type": "markdown",
   "source": [
    "#### Función para seleccionar las particiones"
   ],
   "metadata": {
    "id": "3xsVH6tNS5rw"
   }
  },
  {
   "cell_type": "code",
   "source": [
    "def select_partition(dataframe: pd.DataFrame, from_partition: int, size: int = 1) -> pd.DataFrame:\n",
    "    \"\"\"\n",
    "    Selecciona particiones del dataframe\n",
    "    :param dataframe: dataframe a evaluar\n",
    "    :param from_partition: mes de inicio a evaluar desde 1 a 17\n",
    "    :param size: (optional, default=1) cantidad de particiones a mostrar\n",
    "    :return: dataframe particionado\n",
    "    \"\"\"\n",
    "    partitions = dataframe[\"pk_partition\"].unique()\n",
    "    from_partition = from_partition - 1\n",
    "    to_partition = from_partition + size\n",
    "    return dataframe[dataframe[\"pk_partition\"].isin(partitions[from_partition: to_partition])]"
   ],
   "metadata": {
    "id": "PsM7YFWCS3Cv"
   },
   "execution_count": 13,
   "outputs": []
  },
  {
   "cell_type": "markdown",
   "source": [
    "#### Funciones de visualización "
   ],
   "metadata": {
    "id": "cMRoi6ClgLbs"
   }
  },
  {
   "cell_type": "markdown",
   "source": [
    "##### Visualización de booleanas"
   ],
   "metadata": {
    "id": "C3lfMPhLS7da"
   }
  },
  {
   "cell_type": "code",
   "source": [
    "def plot_bool(dataframe, column):\n",
    "    plt.title(column, fontsize=14, pad=30)\n",
    "    sns.countplot(data=dataframe, x=column, palette=['#FF7AA2', \"#C82065\"])\n",
    "    plt.xlabel('')\n",
    "    plt.show()"
   ],
   "metadata": {
    "id": "3Uzh1z-XTAuh"
   },
   "execution_count": 14,
   "outputs": []
  },
  {
   "cell_type": "markdown",
   "source": [
    "#### Funciones de exploración"
   ],
   "metadata": {
    "id": "Tz7MIKmmgBrF"
   }
  },
  {
   "cell_type": "markdown",
   "source": [
    "##### Función de exploración de variables categóricas"
   ],
   "metadata": {
    "id": "bOpQ2dFgfn7i"
   }
  },
  {
   "cell_type": "markdown",
   "source": [
    "##### Función de exploración de variables numéricas"
   ],
   "metadata": {
    "id": "3gM1BtIsf07Q"
   }
  },
  {
   "cell_type": "markdown",
   "source": [
    "##### Función de exploración de variables booleans\n"
   ],
   "metadata": {
    "id": "JYCVSPE6f3LE"
   }
  },
  {
   "cell_type": "markdown",
   "source": [
    "##### Función de exploración de variables de tipo fecha\n"
   ],
   "metadata": {
    "id": "No4REBqNf5Op"
   }
  },
  {
   "cell_type": "markdown",
   "source": [
    "#### Funciones para seleccionar \"Others\""
   ],
   "metadata": {
    "id": "qaqO8Z7E10jS"
   }
  },
  {
   "cell_type": "code",
   "source": [
    "def other_selection(dataframe, column, num_values):\n",
    "    top_browsers = dataframe[column].value_counts().head(num_values)\n",
    "    top_browsers_list = top_browsers.index.to_list()\n",
    "    top_browsers_list.append('Others')\n",
    "    dataframe[column] = pd.Categorical(dataframe[column], categories=top_browsers_list)\n",
    "    return dataframe[column].fillna('Others')"
   ],
   "metadata": {
    "id": "on-GqA1m1zH2"
   },
   "execution_count": 15,
   "outputs": []
  },
  {
   "cell_type": "markdown",
   "source": [
    "### Exploración del df"
   ],
   "metadata": {
    "id": "0dNk2MPi5QJB"
   }
  },
  {
   "cell_type": "code",
   "source": [
    "graficar(df)"
   ],
   "metadata": {
    "colab": {
     "base_uri": "https://localhost:8080/",
     "height": 577
    },
    "id": "HRGIX7Ri5M9B",
    "outputId": "ef8fc393-dbf4-4dc5-86bd-36b73fbc27b5"
   },
   "execution_count": 16,
   "outputs": [
    {
     "data": {
      "text/plain": "<Figure size 720x576 with 0 Axes>"
     },
     "metadata": {},
     "output_type": "display_data"
    },
    {
     "data": {
      "text/plain": "<Figure size 432x288 with 1 Axes>",
      "image/png": "[encoded data removed]"
     },
     "metadata": {
      "needs_background": "light"
     },
     "output_type": "display_data"
    },
    {
     "data": {
      "text/plain": "            index  Num_Nulos  Porcentaje\n13         salary    1512103   25.358415\n6         segment     133944    2.246281\n4   entry_channel     133033    2.231003\n9     region_code       2264    0.037968\n23        payroll         61    0.001023\n24   pension_plan         61    0.001023\n10         gender         25    0.000419",
      "text/html": "<div>\n<style scoped>\n    .dataframe tbody tr th:only-of-type {\n        vertical-align: middle;\n    }\n\n    .dataframe tbody tr th {\n        vertical-align: top;\n    }\n\n    .dataframe thead th {\n        text-align: right;\n    }\n</style>\n<table border=\"1\" class=\"dataframe\">\n  <thead>\n    <tr style=\"text-align: right;\">\n      <th></th>\n      <th>index</th>\n      <th>Num_Nulos</th>\n      <th>Porcentaje</th>\n    </tr>\n  </thead>\n  <tbody>\n    <tr>\n      <th>13</th>\n      <td>salary</td>\n      <td>1512103</td>\n      <td>25.358415</td>\n    </tr>\n    <tr>\n      <th>6</th>\n      <td>segment</td>\n      <td>133944</td>\n      <td>2.246281</td>\n    </tr>\n    <tr>\n      <th>4</th>\n      <td>entry_channel</td>\n      <td>133033</td>\n      <td>2.231003</td>\n    </tr>\n    <tr>\n      <th>9</th>\n      <td>region_code</td>\n      <td>2264</td>\n      <td>0.037968</td>\n    </tr>\n    <tr>\n      <th>23</th>\n      <td>payroll</td>\n      <td>61</td>\n      <td>0.001023</td>\n    </tr>\n    <tr>\n      <th>24</th>\n      <td>pension_plan</td>\n      <td>61</td>\n      <td>0.001023</td>\n    </tr>\n    <tr>\n      <th>10</th>\n      <td>gender</td>\n      <td>25</td>\n      <td>0.000419</td>\n    </tr>\n  </tbody>\n</table>\n</div>"
     },
     "execution_count": 16,
     "metadata": {},
     "output_type": "execute_result"
    }
   ]
  },
  {
   "cell_type": "markdown",
   "source": [
    "### Exploración del dataset \"Commercial_df\"\n",
    "\n",
    "---\n",
    "\n"
   ],
   "metadata": {
    "id": "Jd_bowEr-Qtr"
   }
  },
  {
   "cell_type": "code",
   "source": [
    "#El dataset no contiene atributos con baja variabilidad\n",
    "skewness(commercial_df)"
   ],
   "metadata": {
    "colab": {
     "base_uri": "https://localhost:8080/"
    },
    "id": "sPfG2_kXpbsc",
    "outputId": "13be4a39-d8c9-4483-c21b-56fe355f22ac"
   },
   "execution_count": 17,
   "outputs": [
    {
     "name": "stdout",
     "output_type": "stream",
     "text": [
      "Empty DataFrame\n",
      "Columns: [Atributos, val_únicos, Skewness]\n",
      "Index: []\n"
     ]
    },
    {
     "data": {
      "text/plain": "Empty DataFrame\nColumns: [Atributos, val_únicos, Skewness]\nIndex: []",
      "text/html": "<div>\n<style scoped>\n    .dataframe tbody tr th:only-of-type {\n        vertical-align: middle;\n    }\n\n    .dataframe tbody tr th {\n        vertical-align: top;\n    }\n\n    .dataframe thead th {\n        text-align: right;\n    }\n</style>\n<table border=\"1\" class=\"dataframe\">\n  <thead>\n    <tr style=\"text-align: right;\">\n      <th></th>\n      <th>Atributos</th>\n      <th>val_únicos</th>\n      <th>Skewness</th>\n    </tr>\n  </thead>\n  <tbody>\n  </tbody>\n</table>\n</div>"
     },
     "execution_count": 17,
     "metadata": {},
     "output_type": "execute_result"
    }
   ]
  },
  {
   "cell_type": "code",
   "source": [
    "commercial_df.head()"
   ],
   "metadata": {
    "colab": {
     "base_uri": "https://localhost:8080/"
    },
    "id": "PNUzFM7M9j9M",
    "outputId": "7fa9ac23-8159-451d-e67b-d396eb160ad4"
   },
   "execution_count": 18,
   "outputs": [
    {
     "data": {
      "text/plain": "   Unnamed: 0   pk_cid pk_partition  entry_date entry_channel  \\\n0           0  1375586   2018-01-28  2018-01-12           KHL   \n1           1  1050611   2018-01-28  2015-08-10           KHE   \n2           2  1050612   2018-01-28  2015-08-10           KHE   \n3           3  1050613   2018-01-28  2015-08-10           KHD   \n4           4  1050614   2018-01-28  2015-08-10           KHE   \n\n   active_customer             segment  \n0              1.0   02 - PARTICULARES  \n1              0.0  03 - UNIVERSITARIO  \n2              0.0  03 - UNIVERSITARIO  \n3              0.0  03 - UNIVERSITARIO  \n4              1.0  03 - UNIVERSITARIO  ",
      "text/html": "<div>\n<style scoped>\n    .dataframe tbody tr th:only-of-type {\n        vertical-align: middle;\n    }\n\n    .dataframe tbody tr th {\n        vertical-align: top;\n    }\n\n    .dataframe thead th {\n        text-align: right;\n    }\n</style>\n<table border=\"1\" class=\"dataframe\">\n  <thead>\n    <tr style=\"text-align: right;\">\n      <th></th>\n      <th>Unnamed: 0</th>\n      <th>pk_cid</th>\n      <th>pk_partition</th>\n      <th>entry_date</th>\n      <th>entry_channel</th>\n      <th>active_customer</th>\n      <th>segment</th>\n    </tr>\n  </thead>\n  <tbody>\n    <tr>\n      <th>0</th>\n      <td>0</td>\n      <td>1375586</td>\n      <td>2018-01-28</td>\n      <td>2018-01-12</td>\n      <td>KHL</td>\n      <td>1.0</td>\n      <td>02 - PARTICULARES</td>\n    </tr>\n    <tr>\n      <th>1</th>\n      <td>1</td>\n      <td>1050611</td>\n      <td>2018-01-28</td>\n      <td>2015-08-10</td>\n      <td>KHE</td>\n      <td>0.0</td>\n      <td>03 - UNIVERSITARIO</td>\n    </tr>\n    <tr>\n      <th>2</th>\n      <td>2</td>\n      <td>1050612</td>\n      <td>2018-01-28</td>\n      <td>2015-08-10</td>\n      <td>KHE</td>\n      <td>0.0</td>\n      <td>03 - UNIVERSITARIO</td>\n    </tr>\n    <tr>\n      <th>3</th>\n      <td>3</td>\n      <td>1050613</td>\n      <td>2018-01-28</td>\n      <td>2015-08-10</td>\n      <td>KHD</td>\n      <td>0.0</td>\n      <td>03 - UNIVERSITARIO</td>\n    </tr>\n    <tr>\n      <th>4</th>\n      <td>4</td>\n      <td>1050614</td>\n      <td>2018-01-28</td>\n      <td>2015-08-10</td>\n      <td>KHE</td>\n      <td>1.0</td>\n      <td>03 - UNIVERSITARIO</td>\n    </tr>\n  </tbody>\n</table>\n</div>"
     },
     "execution_count": 18,
     "metadata": {},
     "output_type": "execute_result"
    }
   ]
  },
  {
   "cell_type": "code",
   "source": [
    "commercial_df.info(verbose=False)"
   ],
   "metadata": {
    "colab": {
     "base_uri": "https://localhost:8080/"
    },
    "id": "hQTuceZY-nFJ",
    "outputId": "d5f9afca-fd98-43a9-f5c3-cf069d74c8b3"
   },
   "execution_count": 19,
   "outputs": [
    {
     "name": "stdout",
     "output_type": "stream",
     "text": [
      "<class 'pandas.core.frame.DataFrame'>\n",
      "RangeIndex: 5962924 entries, 0 to 5962923\n",
      "Columns: 7 entries, Unnamed: 0 to segment\n",
      "dtypes: float64(1), int64(2), object(4)\n",
      "memory usage: 318.5+ MB\n"
     ]
    }
   ]
  },
  {
   "cell_type": "code",
   "source": [
    "commercial_df.describe()"
   ],
   "metadata": {
    "colab": {
     "base_uri": "https://localhost:8080/"
    },
    "id": "C6bZWvsNBjpK",
    "outputId": "2a49d0f1-0f5a-4fba-8f4f-0a7f136ba16b"
   },
   "execution_count": 20,
   "outputs": [
    {
     "data": {
      "text/plain": "         Unnamed: 0        pk_cid  active_customer\ncount  5.962924e+06  5.962924e+06     5.962924e+06\nmean   7.155425e+06  1.234930e+06     4.033845e-01\nstd    3.920784e+06  1.623020e+05     4.905767e-01\nmin    0.000000e+00  1.589100e+04     0.000000e+00\n25%    4.240386e+06  1.112532e+06     0.000000e+00\n50%    7.499346e+06  1.231097e+06     0.000000e+00\n75%    1.020142e+07  1.352339e+06     1.000000e+00\nmax    1.364731e+07  1.553689e+06     1.000000e+00",
      "text/html": "<div>\n<style scoped>\n    .dataframe tbody tr th:only-of-type {\n        vertical-align: middle;\n    }\n\n    .dataframe tbody tr th {\n        vertical-align: top;\n    }\n\n    .dataframe thead th {\n        text-align: right;\n    }\n</style>\n<table border=\"1\" class=\"dataframe\">\n  <thead>\n    <tr style=\"text-align: right;\">\n      <th></th>\n      <th>Unnamed: 0</th>\n      <th>pk_cid</th>\n      <th>active_customer</th>\n    </tr>\n  </thead>\n  <tbody>\n    <tr>\n      <th>count</th>\n      <td>5.962924e+06</td>\n      <td>5.962924e+06</td>\n      <td>5.962924e+06</td>\n    </tr>\n    <tr>\n      <th>mean</th>\n      <td>7.155425e+06</td>\n      <td>1.234930e+06</td>\n      <td>4.033845e-01</td>\n    </tr>\n    <tr>\n      <th>std</th>\n      <td>3.920784e+06</td>\n      <td>1.623020e+05</td>\n      <td>4.905767e-01</td>\n    </tr>\n    <tr>\n      <th>min</th>\n      <td>0.000000e+00</td>\n      <td>1.589100e+04</td>\n      <td>0.000000e+00</td>\n    </tr>\n    <tr>\n      <th>25%</th>\n      <td>4.240386e+06</td>\n      <td>1.112532e+06</td>\n      <td>0.000000e+00</td>\n    </tr>\n    <tr>\n      <th>50%</th>\n      <td>7.499346e+06</td>\n      <td>1.231097e+06</td>\n      <td>0.000000e+00</td>\n    </tr>\n    <tr>\n      <th>75%</th>\n      <td>1.020142e+07</td>\n      <td>1.352339e+06</td>\n      <td>1.000000e+00</td>\n    </tr>\n    <tr>\n      <th>max</th>\n      <td>1.364731e+07</td>\n      <td>1.553689e+06</td>\n      <td>1.000000e+00</td>\n    </tr>\n  </tbody>\n</table>\n</div>"
     },
     "execution_count": 20,
     "metadata": {},
     "output_type": "execute_result"
    }
   ]
  },
  {
   "cell_type": "code",
   "source": [
    "#Hacemos un drop del atributo \"Unnamed: 0\" ya que no aporta ninguna información.\n",
    "commercial_df.drop('Unnamed: 0', axis=1, inplace=True)"
   ],
   "metadata": {
    "id": "UxcmO_07_nHe"
   },
   "execution_count": 21,
   "outputs": []
  },
  {
   "cell_type": "code",
   "source": [
    "#El dataset contiene 5962924 observaciones y 6 atributos diferentes\n",
    "commercial_df.shape"
   ],
   "metadata": {
    "colab": {
     "base_uri": "https://localhost:8080/"
    },
    "id": "pKFFqVpUB4dp",
    "outputId": "5ea9ecf3-2d9e-442f-b91e-4790f0805137"
   },
   "execution_count": 22,
   "outputs": [
    {
     "data": {
      "text/plain": "(5962924, 6)"
     },
     "execution_count": 22,
     "metadata": {},
     "output_type": "execute_result"
    }
   ]
  },
  {
   "cell_type": "code",
   "source": [
    "#Buscamos cuáles son los campus que contienen nulos.\n",
    "commercial_df.isnull().sum()"
   ],
   "metadata": {
    "colab": {
     "base_uri": "https://localhost:8080/"
    },
    "id": "QQrKqeBxBFPK",
    "outputId": "b34f61ec-226a-41f2-c946-7027fb39d5bd"
   },
   "execution_count": 23,
   "outputs": [
    {
     "data": {
      "text/plain": "pk_cid                  0\npk_partition            0\nentry_date              0\nentry_channel      133033\nactive_customer         0\nsegment            133944\ndtype: int64"
     },
     "execution_count": 23,
     "metadata": {},
     "output_type": "execute_result"
    }
   ]
  },
  {
   "cell_type": "code",
   "source": [
    "nulos = [\"entry_channel\", \"segment\"]"
   ],
   "metadata": {
    "id": "huG2iRAyQCCv"
   },
   "execution_count": 24,
   "outputs": []
  },
  {
   "cell_type": "code",
   "source": [
    "#Comprovamos si el dataframe contiene registros duplicados\n",
    "commercial_df[commercial_df.duplicated(keep=False)]"
   ],
   "metadata": {
    "colab": {
     "base_uri": "https://localhost:8080/"
    },
    "id": "stZCPsVECOYa",
    "outputId": "67e4c568-f8e5-4a78-e603-0db4d42a6da1"
   },
   "execution_count": 25,
   "outputs": [
    {
     "data": {
      "text/plain": "Empty DataFrame\nColumns: [pk_cid, pk_partition, entry_date, entry_channel, active_customer, segment]\nIndex: []",
      "text/html": "<div>\n<style scoped>\n    .dataframe tbody tr th:only-of-type {\n        vertical-align: middle;\n    }\n\n    .dataframe tbody tr th {\n        vertical-align: top;\n    }\n\n    .dataframe thead th {\n        text-align: right;\n    }\n</style>\n<table border=\"1\" class=\"dataframe\">\n  <thead>\n    <tr style=\"text-align: right;\">\n      <th></th>\n      <th>pk_cid</th>\n      <th>pk_partition</th>\n      <th>entry_date</th>\n      <th>entry_channel</th>\n      <th>active_customer</th>\n      <th>segment</th>\n    </tr>\n  </thead>\n  <tbody>\n  </tbody>\n</table>\n</div>"
     },
     "execution_count": 25,
     "metadata": {},
     "output_type": "execute_result"
    }
   ]
  },
  {
   "cell_type": "code",
   "source": [
    "#Observamos el tipo de datos que contiene el data set\n",
    "commercial_df.dtypes"
   ],
   "metadata": {
    "colab": {
     "base_uri": "https://localhost:8080/"
    },
    "id": "xJLZBiwLCxad",
    "outputId": "ac104a53-50bb-4e1a-f984-ae3ffd9e536d"
   },
   "execution_count": 26,
   "outputs": [
    {
     "data": {
      "text/plain": "pk_cid               int64\npk_partition        object\nentry_date          object\nentry_channel       object\nactive_customer    float64\nsegment             object\ndtype: object"
     },
     "execution_count": 26,
     "metadata": {},
     "output_type": "execute_result"
    }
   ]
  },
  {
   "cell_type": "markdown",
   "source": [
    "#### Fechas\n",
    "\n",
    "\n",
    "\n",
    "*   Entry_date\n",
    "*   Pk_partition\n"
   ],
   "metadata": {
    "id": "frKU6OZrDOhm"
   }
  },
  {
   "cell_type": "markdown",
   "source": [
    "##### Entry_date"
   ],
   "metadata": {
    "id": "PvJBnzmqVXV2"
   }
  },
  {
   "cell_type": "code",
   "source": [
    "commercial_df[\"entry_date\"].value_counts()"
   ],
   "metadata": {
    "colab": {
     "base_uri": "https://localhost:8080/"
    },
    "id": "82RaFIS-0hFe",
    "outputId": "52016f9f-831f-49e9-fc4a-868fcea0a3ff"
   },
   "execution_count": 27,
   "outputs": [
    {
     "data": {
      "text/plain": "2017-07-28    57389\n2017-10-03    54287\n2017-08-04    45746\n2016-10-14    40804\n2016-08-03    33414\n              ...  \n2015-04-29       11\n2016-06-15       11\n2015-08-19       11\n2018-05-31        9\n2017-05-01        7\nName: entry_date, Length: 1499, dtype: int64"
     },
     "execution_count": 27,
     "metadata": {},
     "output_type": "execute_result"
    }
   ]
  },
  {
   "cell_type": "code",
   "source": [
    "commercial_df[\"entry_date\"].isnull().value_counts()"
   ],
   "metadata": {
    "colab": {
     "base_uri": "https://localhost:8080/"
    },
    "id": "0kMbNvLgW3Xv",
    "outputId": "86a3581e-4150-40e5-9281-b142b98fda95"
   },
   "execution_count": 28,
   "outputs": [
    {
     "data": {
      "text/plain": "False    5962924\nName: entry_date, dtype: int64"
     },
     "execution_count": 28,
     "metadata": {},
     "output_type": "execute_result"
    }
   ]
  },
  {
   "cell_type": "markdown",
   "source": [
    "##### Pk_partition"
   ],
   "metadata": {
    "id": "A3YJ1mLaVGmy"
   }
  },
  {
   "cell_type": "code",
   "source": [
    "commercial_df[\"pk_partition\"].value_counts()"
   ],
   "metadata": {
    "colab": {
     "base_uri": "https://localhost:8080/"
    },
    "id": "ICdi2mBYvx6G",
    "outputId": "9affaee8-6fa9-4eea-ef4e-b7d702750bea"
   },
   "execution_count": 29,
   "outputs": [
    {
     "data": {
      "text/plain": "2019-05-28    442995\n2019-04-28    439627\n2019-03-28    436183\n2019-02-28    431727\n2019-01-28    426875\n2018-12-28    422481\n2018-11-28    416387\n2018-10-28    402300\n2018-09-28    375323\n2018-08-28    352922\n2018-07-28    339339\n2018-06-28    252104\n2018-05-28    249926\n2018-04-28    247463\n2018-03-28    245258\n2018-02-28    242521\n2018-01-28    239493\nName: pk_partition, dtype: int64"
     },
     "execution_count": 29,
     "metadata": {},
     "output_type": "execute_result"
    }
   ]
  },
  {
   "cell_type": "code",
   "source": [
    "commercial_df[\"pk_cid\"].value_counts().head(10)"
   ],
   "metadata": {
    "colab": {
     "base_uri": "https://localhost:8080/"
    },
    "id": "5mkYfbYowl7b",
    "outputId": "754f3a66-36b0-483f-efc4-0849f918bff7"
   },
   "execution_count": 30,
   "outputs": [
    {
     "data": {
      "text/plain": "1375586    17\n1328781    17\n1328783    17\n1328784    17\n1328786    17\n1328787    17\n1328788    17\n1328790    17\n1328791    17\n1328792    17\nName: pk_cid, dtype: int64"
     },
     "execution_count": 30,
     "metadata": {},
     "output_type": "execute_result"
    }
   ]
  },
  {
   "cell_type": "code",
   "source": [
    "commercial_df.dtypes"
   ],
   "metadata": {
    "colab": {
     "base_uri": "https://localhost:8080/"
    },
    "id": "0NvnHyT0ragx",
    "outputId": "b5055c63-ad2a-49a5-eab3-85ee226f7d61"
   },
   "execution_count": 31,
   "outputs": [
    {
     "data": {
      "text/plain": "pk_cid               int64\npk_partition        object\nentry_date          object\nentry_channel       object\nactive_customer    float64\nsegment             object\ndtype: object"
     },
     "execution_count": 31,
     "metadata": {},
     "output_type": "execute_result"
    }
   ]
  },
  {
   "cell_type": "markdown",
   "source": [
    "#### Numéricas\n"
   ],
   "metadata": {
    "id": "gfBSIT0RDYFi"
   }
  },
  {
   "cell_type": "markdown",
   "source": [
    "#### Boleanas\n",
    "\n",
    "\n",
    "*   Active_customer\n",
    "\n",
    "\n",
    "\n"
   ],
   "metadata": {
    "id": "cfx4eYe7sQ4G"
   }
  },
  {
   "cell_type": "markdown",
   "source": [
    "##### Active_customer:\n",
    "Indicador de actividad del cliente en nuestra aplicación."
   ],
   "metadata": {
    "id": "RW6kQ0t4oGxp"
   }
  },
  {
   "cell_type": "markdown",
   "source": [
    "En el siguiente pie chart, podemos ver la distribución de nuestros clientes en función de si son activos o inactivos. Vemos que el 60% de nuestros clientes son activos, mientras que los inactivos representan un 40%. "
   ],
   "metadata": {
    "id": "RDMFj0u3ogCr"
   }
  },
  {
   "cell_type": "code",
   "source": [
    "my_labels = 'Clientes activos', 'Clientes inactivos'\n",
    "my_explode = (0, 0.04)\n",
    "ax = commercial_df[commercial_df[\"pk_partition\"] == \"2019-05-28\"].groupby('active_customer').size().plot(kind='pie',\n",
    "                                                                                                         labels=my_labels,\n",
    "                                                                                                         startangle=15,\n",
    "                                                                                                         autopct='%1.0f%%',\n",
    "                                                                                                         figsize=(6, 6),\n",
    "                                                                                                         shadow=True,\n",
    "                                                                                                         colors=[\n",
    "                                                                                                             '#76d2a6',\n",
    "                                                                                                             \"#8276d2\"],\n",
    "                                                                                                         explode=my_explode)\n",
    "ax.set_title(\"Distribución de clientes activos vs. inactivos\", fontsize=14)\n",
    "plt.ylabel(\"\")\n",
    "plt.show()"
   ],
   "metadata": {
    "colab": {
     "base_uri": "https://localhost:8080/"
    },
    "id": "4v_hGdk7eaZV",
    "outputId": "d88a0189-566a-406f-8a95-1274609853bf"
   },
   "execution_count": 32,
   "outputs": [
    {
     "data": {
      "text/plain": "<Figure size 432x432 with 1 Axes>",
      "image/png": "[encoded data removed]"
     },
     "metadata": {},
     "output_type": "display_data"
    }
   ]
  },
  {
   "cell_type": "markdown",
   "source": [
    "#### Categóricas\n",
    "*   Pk_cid\n",
    "*   Entry_channel\n",
    "*   Segment\n",
    "\n"
   ],
   "metadata": {
    "id": "6omfJ3l1DZ9R"
   }
  },
  {
   "cell_type": "markdown",
   "source": [
    "##### Entry_channel\n"
   ],
   "metadata": {
    "id": "1cT93VBemZMx"
   }
  },
  {
   "cell_type": "code",
   "source": [
    "commercial_df[\"entry_channel\"].value_counts().tail(20)"
   ],
   "metadata": {
    "colab": {
     "base_uri": "https://localhost:8080/"
    },
    "id": "pFEPD_-qmbqL",
    "outputId": "37189186-4eec-4530-b572-ef269e642f0d"
   },
   "execution_count": 33,
   "outputs": [
    {
     "data": {
      "text/plain": "KCL    17\nKBE    17\nKBH    17\nKFK    17\nKGN    17\nKCI    17\nKGX    17\nKDR    16\nKFL    13\nKBW    12\nKBU    11\nKAI    11\nKCK    11\nKBY    11\nKES    11\nKEJ     8\nKHS     5\nKDA     2\nKFP     2\nKDS     1\nName: entry_channel, dtype: int64"
     },
     "execution_count": 33,
     "metadata": {},
     "output_type": "execute_result"
    }
   ]
  },
  {
   "cell_type": "code",
   "source": [
    "##### Tratamiento de nulos de la variable Entry_channel"
   ],
   "metadata": {
    "id": "K6fLI9ax46fG"
   },
   "execution_count": 34,
   "outputs": []
  },
  {
   "cell_type": "code",
   "source": [
    "df[\"entry_channel\"].fillna(-1, inplace=True)"
   ],
   "metadata": {
    "id": "PD7Q7Jsq4yq5"
   },
   "execution_count": 35,
   "outputs": []
  },
  {
   "cell_type": "code",
   "source": [
    "commercial_df[\"entry_channel\"].fillna(-1, inplace=True)"
   ],
   "metadata": {
    "id": "tJJV5FjY410t"
   },
   "execution_count": 36,
   "outputs": []
  },
  {
   "cell_type": "code",
   "source": [
    "commercial_df[\"entry_channel\"].isnull().sum()"
   ],
   "metadata": {
    "colab": {
     "base_uri": "https://localhost:8080/"
    },
    "id": "9_iawlqL49no",
    "outputId": "cf355f60-0f00-4bb5-fd86-559e7f602ebc"
   },
   "execution_count": 37,
   "outputs": [
    {
     "data": {
      "text/plain": "0"
     },
     "execution_count": 37,
     "metadata": {},
     "output_type": "execute_result"
    }
   ]
  },
  {
   "cell_type": "markdown",
   "source": [
    "##### Segment\n",
    "Segmento comercial del cliente"
   ],
   "metadata": {
    "id": "BMRjxmD_mqiF"
   }
  },
  {
   "cell_type": "markdown",
   "source": [
    "###### Tratamiento de nulos de la variable Segment"
   ],
   "metadata": {
    "id": "kJ2tcGkR5qfr"
   }
  },
  {
   "cell_type": "code",
   "source": [
    "commercial_df[\"segment\"].fillna(-1, inplace=True)"
   ],
   "metadata": {
    "id": "VI7Jzw3H5pLO"
   },
   "execution_count": 38,
   "outputs": []
  },
  {
   "cell_type": "code",
   "source": [
    "df[\"segment\"].fillna(-1, inplace=True)"
   ],
   "metadata": {
    "id": "z6CPwEzK5wXL"
   },
   "execution_count": 39,
   "outputs": []
  },
  {
   "cell_type": "code",
   "source": [
    "my_labels = [\"Nulos\", \"Universitario\", \"Particulares\", \"Top\"]\n",
    "ax = commercial_df[commercial_df[\"pk_partition\"] == \"2019-05-28\"].groupby('segment').size().plot(kind='pie',\n",
    "                                                                                                 startangle=15,\n",
    "                                                                                                 labels=my_labels,\n",
    "                                                                                                 autopct='%1.0f%%',\n",
    "                                                                                                 figsize=(6, 6),\n",
    "                                                                                                 shadow=True,\n",
    "                                                                                                 colors=[\"#de4c8a\",\n",
    "                                                                                                         '#f5d3e9',\n",
    "                                                                                                         \"#A17FC0\",\n",
    "                                                                                                         \"#BD70C2\"])\n",
    "ax.set_title(\"Distribución de clientes por segmento comercial\", fontsize=14, loc='center', pad=20)\n",
    "ax.legend(loc='lower right')\n",
    "plt.ylabel(\"\")\n",
    "plt.show()"
   ],
   "metadata": {
    "colab": {
     "base_uri": "https://localhost:8080/"
    },
    "id": "YQXb0T7uwUlc",
    "outputId": "e2372da6-13ad-4531-e9d4-9621d785634c"
   },
   "execution_count": 40,
   "outputs": [
    {
     "data": {
      "text/plain": "<Figure size 432x432 with 1 Axes>",
      "image/png": "[encoded data removed]"
     },
     "metadata": {},
     "output_type": "display_data"
    }
   ]
  },
  {
   "cell_type": "markdown",
   "source": [
    "### Exploración del dataset \"Products_df\""
   ],
   "metadata": {
    "id": "7vOZ5GXO90B2"
   }
  },
  {
   "cell_type": "code",
   "source": [
    "skewness(products_df)"
   ],
   "metadata": {
    "colab": {
     "base_uri": "https://localhost:8080/",
     "height": 748
    },
    "id": "KbZRkN4ApmGU",
    "outputId": "a6813751-3bc0-49e4-fe60-568114b586f0"
   },
   "execution_count": 41,
   "outputs": [
    {
     "name": "stdout",
     "output_type": "stream",
     "text": [
      "             Atributos  val_únicos    Skewness\n",
      "9        em_account_pp           1  100.000000\n",
      "16        em_account_p           2   99.999430\n",
      "5             mortgage           2   99.994566\n",
      "4                loans           2   99.992152\n",
      "3   short_term_deposit           2   99.741838\n",
      "6                funds           2   99.662934\n",
      "7           securities           2   99.628823\n",
      "10         credit_card           2   98.811556\n",
      "8    long_term_deposit           2   98.311902\n",
      "11             payroll           2   96.548856\n",
      "12        pension_plan           2   96.347359\n",
      "14         emc_account           2   94.516767\n",
      "13     payroll_account           2   94.475529\n",
      "15          debit_card           2   90.558860\n"
     ]
    },
    {
     "data": {
      "text/plain": "             Atributos  val_únicos    Skewness\n9        em_account_pp           1  100.000000\n16        em_account_p           2   99.999430\n5             mortgage           2   99.994566\n4                loans           2   99.992152\n3   short_term_deposit           2   99.741838\n6                funds           2   99.662934\n7           securities           2   99.628823\n10         credit_card           2   98.811556\n8    long_term_deposit           2   98.311902\n11             payroll           2   96.548856\n12        pension_plan           2   96.347359\n14         emc_account           2   94.516767\n13     payroll_account           2   94.475529\n15          debit_card           2   90.558860",
      "text/html": "<div>\n<style scoped>\n    .dataframe tbody tr th:only-of-type {\n        vertical-align: middle;\n    }\n\n    .dataframe tbody tr th {\n        vertical-align: top;\n    }\n\n    .dataframe thead th {\n        text-align: right;\n    }\n</style>\n<table border=\"1\" class=\"dataframe\">\n  <thead>\n    <tr style=\"text-align: right;\">\n      <th></th>\n      <th>Atributos</th>\n      <th>val_únicos</th>\n      <th>Skewness</th>\n    </tr>\n  </thead>\n  <tbody>\n    <tr>\n      <th>9</th>\n      <td>em_account_pp</td>\n      <td>1</td>\n      <td>100.000000</td>\n    </tr>\n    <tr>\n      <th>16</th>\n      <td>em_account_p</td>\n      <td>2</td>\n      <td>99.999430</td>\n    </tr>\n    <tr>\n      <th>5</th>\n      <td>mortgage</td>\n      <td>2</td>\n      <td>99.994566</td>\n    </tr>\n    <tr>\n      <th>4</th>\n      <td>loans</td>\n      <td>2</td>\n      <td>99.992152</td>\n    </tr>\n    <tr>\n      <th>3</th>\n      <td>short_term_deposit</td>\n      <td>2</td>\n      <td>99.741838</td>\n    </tr>\n    <tr>\n      <th>6</th>\n      <td>funds</td>\n      <td>2</td>\n      <td>99.662934</td>\n    </tr>\n    <tr>\n      <th>7</th>\n      <td>securities</td>\n      <td>2</td>\n      <td>99.628823</td>\n    </tr>\n    <tr>\n      <th>10</th>\n      <td>credit_card</td>\n      <td>2</td>\n      <td>98.811556</td>\n    </tr>\n    <tr>\n      <th>8</th>\n      <td>long_term_deposit</td>\n      <td>2</td>\n      <td>98.311902</td>\n    </tr>\n    <tr>\n      <th>11</th>\n      <td>payroll</td>\n      <td>2</td>\n      <td>96.548856</td>\n    </tr>\n    <tr>\n      <th>12</th>\n      <td>pension_plan</td>\n      <td>2</td>\n      <td>96.347359</td>\n    </tr>\n    <tr>\n      <th>14</th>\n      <td>emc_account</td>\n      <td>2</td>\n      <td>94.516767</td>\n    </tr>\n    <tr>\n      <th>13</th>\n      <td>payroll_account</td>\n      <td>2</td>\n      <td>94.475529</td>\n    </tr>\n    <tr>\n      <th>15</th>\n      <td>debit_card</td>\n      <td>2</td>\n      <td>90.558860</td>\n    </tr>\n  </tbody>\n</table>\n</div>"
     },
     "execution_count": 41,
     "metadata": {},
     "output_type": "execute_result"
    }
   ]
  },
  {
   "cell_type": "code",
   "source": [
    "products_df.head()"
   ],
   "metadata": {
    "colab": {
     "base_uri": "https://localhost:8080/",
     "height": 287
    },
    "id": "GBMs-D5T-s1H",
    "outputId": "878f6669-6976-4eed-ffd2-c6a9bf1f4281"
   },
   "execution_count": 42,
   "outputs": [
    {
     "data": {
      "text/plain": "   Unnamed: 0   pk_cid pk_partition  short_term_deposit  loans  mortgage  \\\n0           0  1375586   2018-01-28                   0      0         0   \n1           1  1050611   2018-01-28                   0      0         0   \n2           2  1050612   2018-01-28                   0      0         0   \n3           3  1050613   2018-01-28                   1      0         0   \n4           4  1050614   2018-01-28                   0      0         0   \n\n   funds  securities  long_term_deposit  em_account_pp  credit_card  payroll  \\\n0      0           0                  0              0            0      0.0   \n1      0           0                  0              0            0      0.0   \n2      0           0                  0              0            0      0.0   \n3      0           0                  0              0            0      0.0   \n4      0           0                  0              0            0      0.0   \n\n   pension_plan  payroll_account  emc_account  debit_card  em_account_p  \\\n0           0.0                0            0           0             0   \n1           0.0                0            0           0             0   \n2           0.0                0            0           0             0   \n3           0.0                0            0           0             0   \n4           0.0                0            0           0             0   \n\n   em_acount  \n0          1  \n1          1  \n2          1  \n3          0  \n4          1  ",
      "text/html": "<div>\n<style scoped>\n    .dataframe tbody tr th:only-of-type {\n        vertical-align: middle;\n    }\n\n    .dataframe tbody tr th {\n        vertical-align: top;\n    }\n\n    .dataframe thead th {\n        text-align: right;\n    }\n</style>\n<table border=\"1\" class=\"dataframe\">\n  <thead>\n    <tr style=\"text-align: right;\">\n      <th></th>\n      <th>Unnamed: 0</th>\n      <th>pk_cid</th>\n      <th>pk_partition</th>\n      <th>short_term_deposit</th>\n      <th>loans</th>\n      <th>mortgage</th>\n      <th>funds</th>\n      <th>securities</th>\n      <th>long_term_deposit</th>\n      <th>em_account_pp</th>\n      <th>credit_card</th>\n      <th>payroll</th>\n      <th>pension_plan</th>\n      <th>payroll_account</th>\n      <th>emc_account</th>\n      <th>debit_card</th>\n      <th>em_account_p</th>\n      <th>em_acount</th>\n    </tr>\n  </thead>\n  <tbody>\n    <tr>\n      <th>0</th>\n      <td>0</td>\n      <td>1375586</td>\n      <td>2018-01-28</td>\n      <td>0</td>\n      <td>0</td>\n      <td>0</td>\n      <td>0</td>\n      <td>0</td>\n      <td>0</td>\n      <td>0</td>\n      <td>0</td>\n      <td>0.0</td>\n      <td>0.0</td>\n      <td>0</td>\n      <td>0</td>\n      <td>0</td>\n      <td>0</td>\n      <td>1</td>\n    </tr>\n    <tr>\n      <th>1</th>\n      <td>1</td>\n      <td>1050611</td>\n      <td>2018-01-28</td>\n      <td>0</td>\n      <td>0</td>\n      <td>0</td>\n      <td>0</td>\n      <td>0</td>\n      <td>0</td>\n      <td>0</td>\n      <td>0</td>\n      <td>0.0</td>\n      <td>0.0</td>\n      <td>0</td>\n      <td>0</td>\n      <td>0</td>\n      <td>0</td>\n      <td>1</td>\n    </tr>\n    <tr>\n      <th>2</th>\n      <td>2</td>\n      <td>1050612</td>\n      <td>2018-01-28</td>\n      <td>0</td>\n      <td>0</td>\n      <td>0</td>\n      <td>0</td>\n      <td>0</td>\n      <td>0</td>\n      <td>0</td>\n      <td>0</td>\n      <td>0.0</td>\n      <td>0.0</td>\n      <td>0</td>\n      <td>0</td>\n      <td>0</td>\n      <td>0</td>\n      <td>1</td>\n    </tr>\n    <tr>\n      <th>3</th>\n      <td>3</td>\n      <td>1050613</td>\n      <td>2018-01-28</td>\n      <td>1</td>\n      <td>0</td>\n      <td>0</td>\n      <td>0</td>\n      <td>0</td>\n      <td>0</td>\n      <td>0</td>\n      <td>0</td>\n      <td>0.0</td>\n      <td>0.0</td>\n      <td>0</td>\n      <td>0</td>\n      <td>0</td>\n      <td>0</td>\n      <td>0</td>\n    </tr>\n    <tr>\n      <th>4</th>\n      <td>4</td>\n      <td>1050614</td>\n      <td>2018-01-28</td>\n      <td>0</td>\n      <td>0</td>\n      <td>0</td>\n      <td>0</td>\n      <td>0</td>\n      <td>0</td>\n      <td>0</td>\n      <td>0</td>\n      <td>0.0</td>\n      <td>0.0</td>\n      <td>0</td>\n      <td>0</td>\n      <td>0</td>\n      <td>0</td>\n      <td>1</td>\n    </tr>\n  </tbody>\n</table>\n</div>"
     },
     "execution_count": 42,
     "metadata": {},
     "output_type": "execute_result"
    }
   ]
  },
  {
   "cell_type": "code",
   "source": [
    "products_df.info(verbose=False)"
   ],
   "metadata": {
    "colab": {
     "base_uri": "https://localhost:8080/"
    },
    "id": "x3x_cPe1-xFh",
    "outputId": "5c072200-e739-4081-9fe3-526e851fbd3d"
   },
   "execution_count": 43,
   "outputs": [
    {
     "name": "stdout",
     "output_type": "stream",
     "text": [
      "<class 'pandas.core.frame.DataFrame'>\n",
      "RangeIndex: 5962924 entries, 0 to 5962923\n",
      "Columns: 18 entries, Unnamed: 0 to em_acount\n",
      "dtypes: float64(2), int64(15), object(1)\n",
      "memory usage: 818.9+ MB\n"
     ]
    }
   ]
  },
  {
   "cell_type": "code",
   "source": [
    "#Hacemos un drop del atributo \"Unnamed: 0\" ya que no aporta ninguna información.\n",
    "products_df.drop('Unnamed: 0', axis=1, inplace=True)"
   ],
   "metadata": {
    "id": "Jx9rtD1S_3eX"
   },
   "execution_count": 44,
   "outputs": []
  },
  {
   "cell_type": "code",
   "source": [
    "len(products_df.columns)"
   ],
   "metadata": {
    "colab": {
     "base_uri": "https://localhost:8080/"
    },
    "id": "eowyigCiB9It",
    "outputId": "fae90afe-dd48-458b-d85e-6c95b5172302"
   },
   "execution_count": 45,
   "outputs": [
    {
     "data": {
      "text/plain": "17"
     },
     "execution_count": 45,
     "metadata": {},
     "output_type": "execute_result"
    }
   ]
  },
  {
   "cell_type": "code",
   "source": [
    "#Buscamos cuáles son los campus que contienen nulos.\n",
    "products_df.isnull().sum()"
   ],
   "metadata": {
    "colab": {
     "base_uri": "https://localhost:8080/"
    },
    "id": "3V7PLBwUBPZg",
    "outputId": "7dc6cb8a-0b57-466a-fc67-043b77282ed1"
   },
   "execution_count": 46,
   "outputs": [
    {
     "data": {
      "text/plain": "pk_cid                 0\npk_partition           0\nshort_term_deposit     0\nloans                  0\nmortgage               0\nfunds                  0\nsecurities             0\nlong_term_deposit      0\nem_account_pp          0\ncredit_card            0\npayroll               61\npension_plan          61\npayroll_account        0\nemc_account            0\ndebit_card             0\nem_account_p           0\nem_acount              0\ndtype: int64"
     },
     "execution_count": 46,
     "metadata": {},
     "output_type": "execute_result"
    }
   ]
  },
  {
   "cell_type": "code",
   "source": [
    "nulos = [\"entry_channel\", \"segment\", \"payroll\", \"payroll\"]"
   ],
   "metadata": {
    "id": "keL1OIK-eBU9"
   },
   "execution_count": 47,
   "outputs": []
  },
  {
   "cell_type": "code",
   "source": [
    "products_df.describe()"
   ],
   "metadata": {
    "colab": {
     "base_uri": "https://localhost:8080/",
     "height": 364
    },
    "id": "b9wa5Eg1Bpdd",
    "outputId": "0446c4a5-eaea-409b-9e31-64534e0c41a3"
   },
   "execution_count": 48,
   "outputs": [
    {
     "data": {
      "text/plain": "             pk_cid  short_term_deposit         loans      mortgage  \\\ncount  5.962924e+06        5.962924e+06  5.962924e+06  5.962924e+06   \nmean   1.234930e+06        2.581619e-03  7.848498e-05  5.433576e-05   \nstd    1.623020e+05        5.074401e-02  8.858828e-03  7.371080e-03   \nmin    1.589100e+04        0.000000e+00  0.000000e+00  0.000000e+00   \n25%    1.112532e+06        0.000000e+00  0.000000e+00  0.000000e+00   \n50%    1.231097e+06        0.000000e+00  0.000000e+00  0.000000e+00   \n75%    1.352339e+06        0.000000e+00  0.000000e+00  0.000000e+00   \nmax    1.553689e+06        1.000000e+00  1.000000e+00  1.000000e+00   \n\n              funds    securities  long_term_deposit  em_account_pp  \\\ncount  5.962924e+06  5.962924e+06       5.962924e+06      5962924.0   \nmean   3.370662e-03  3.711770e-03       1.688098e-02            0.0   \nstd    5.795948e-02  6.081113e-02       1.288255e-01            0.0   \nmin    0.000000e+00  0.000000e+00       0.000000e+00            0.0   \n25%    0.000000e+00  0.000000e+00       0.000000e+00            0.0   \n50%    0.000000e+00  0.000000e+00       0.000000e+00            0.0   \n75%    0.000000e+00  0.000000e+00       0.000000e+00            0.0   \nmax    1.000000e+00  1.000000e+00       1.000000e+00            0.0   \n\n        credit_card       payroll  pension_plan  payroll_account  \\\ncount  5.962924e+06  5.962863e+06  5.962863e+06     5.962924e+06   \nmean   1.188444e-02  3.451144e-02  3.652641e-02     5.524471e-02   \nstd    1.083660e-01  1.825388e-01  1.875960e-01     2.284573e-01   \nmin    0.000000e+00  0.000000e+00  0.000000e+00     0.000000e+00   \n25%    0.000000e+00  0.000000e+00  0.000000e+00     0.000000e+00   \n50%    0.000000e+00  0.000000e+00  0.000000e+00     0.000000e+00   \n75%    0.000000e+00  0.000000e+00  0.000000e+00     0.000000e+00   \nmax    1.000000e+00  1.000000e+00  1.000000e+00     1.000000e+00   \n\n        emc_account    debit_card  em_account_p     em_acount  \ncount  5.962924e+06  5.962924e+06  5.962924e+06  5.962924e+06  \nmean   5.483233e-02  9.441140e-02  5.701901e-06  7.348076e-01  \nstd    2.276527e-01  2.924002e-01  2.387859e-03  4.414356e-01  \nmin    0.000000e+00  0.000000e+00  0.000000e+00  0.000000e+00  \n25%    0.000000e+00  0.000000e+00  0.000000e+00  0.000000e+00  \n50%    0.000000e+00  0.000000e+00  0.000000e+00  1.000000e+00  \n75%    0.000000e+00  0.000000e+00  0.000000e+00  1.000000e+00  \nmax    1.000000e+00  1.000000e+00  1.000000e+00  1.000000e+00  ",
      "text/html": "<div>\n<style scoped>\n    .dataframe tbody tr th:only-of-type {\n        vertical-align: middle;\n    }\n\n    .dataframe tbody tr th {\n        vertical-align: top;\n    }\n\n    .dataframe thead th {\n        text-align: right;\n    }\n</style>\n<table border=\"1\" class=\"dataframe\">\n  <thead>\n    <tr style=\"text-align: right;\">\n      <th></th>\n      <th>pk_cid</th>\n      <th>short_term_deposit</th>\n      <th>loans</th>\n      <th>mortgage</th>\n      <th>funds</th>\n      <th>securities</th>\n      <th>long_term_deposit</th>\n      <th>em_account_pp</th>\n      <th>credit_card</th>\n      <th>payroll</th>\n      <th>pension_plan</th>\n      <th>payroll_account</th>\n      <th>emc_account</th>\n      <th>debit_card</th>\n      <th>em_account_p</th>\n      <th>em_acount</th>\n    </tr>\n  </thead>\n  <tbody>\n    <tr>\n      <th>count</th>\n      <td>5.962924e+06</td>\n      <td>5.962924e+06</td>\n      <td>5.962924e+06</td>\n      <td>5.962924e+06</td>\n      <td>5.962924e+06</td>\n      <td>5.962924e+06</td>\n      <td>5.962924e+06</td>\n      <td>5962924.0</td>\n      <td>5.962924e+06</td>\n      <td>5.962863e+06</td>\n      <td>5.962863e+06</td>\n      <td>5.962924e+06</td>\n      <td>5.962924e+06</td>\n      <td>5.962924e+06</td>\n      <td>5.962924e+06</td>\n      <td>5.962924e+06</td>\n    </tr>\n    <tr>\n      <th>mean</th>\n      <td>1.234930e+06</td>\n      <td>2.581619e-03</td>\n      <td>7.848498e-05</td>\n      <td>5.433576e-05</td>\n      <td>3.370662e-03</td>\n      <td>3.711770e-03</td>\n      <td>1.688098e-02</td>\n      <td>0.0</td>\n      <td>1.188444e-02</td>\n      <td>3.451144e-02</td>\n      <td>3.652641e-02</td>\n      <td>5.524471e-02</td>\n      <td>5.483233e-02</td>\n      <td>9.441140e-02</td>\n      <td>5.701901e-06</td>\n      <td>7.348076e-01</td>\n    </tr>\n    <tr>\n      <th>std</th>\n      <td>1.623020e+05</td>\n      <td>5.074401e-02</td>\n      <td>8.858828e-03</td>\n      <td>7.371080e-03</td>\n      <td>5.795948e-02</td>\n      <td>6.081113e-02</td>\n      <td>1.288255e-01</td>\n      <td>0.0</td>\n      <td>1.083660e-01</td>\n      <td>1.825388e-01</td>\n      <td>1.875960e-01</td>\n      <td>2.284573e-01</td>\n      <td>2.276527e-01</td>\n      <td>2.924002e-01</td>\n      <td>2.387859e-03</td>\n      <td>4.414356e-01</td>\n    </tr>\n    <tr>\n      <th>min</th>\n      <td>1.589100e+04</td>\n      <td>0.000000e+00</td>\n      <td>0.000000e+00</td>\n      <td>0.000000e+00</td>\n      <td>0.000000e+00</td>\n      <td>0.000000e+00</td>\n      <td>0.000000e+00</td>\n      <td>0.0</td>\n      <td>0.000000e+00</td>\n      <td>0.000000e+00</td>\n      <td>0.000000e+00</td>\n      <td>0.000000e+00</td>\n      <td>0.000000e+00</td>\n      <td>0.000000e+00</td>\n      <td>0.000000e+00</td>\n      <td>0.000000e+00</td>\n    </tr>\n    <tr>\n      <th>25%</th>\n      <td>1.112532e+06</td>\n      <td>0.000000e+00</td>\n      <td>0.000000e+00</td>\n      <td>0.000000e+00</td>\n      <td>0.000000e+00</td>\n      <td>0.000000e+00</td>\n      <td>0.000000e+00</td>\n      <td>0.0</td>\n      <td>0.000000e+00</td>\n      <td>0.000000e+00</td>\n      <td>0.000000e+00</td>\n      <td>0.000000e+00</td>\n      <td>0.000000e+00</td>\n      <td>0.000000e+00</td>\n      <td>0.000000e+00</td>\n      <td>0.000000e+00</td>\n    </tr>\n    <tr>\n      <th>50%</th>\n      <td>1.231097e+06</td>\n      <td>0.000000e+00</td>\n      <td>0.000000e+00</td>\n      <td>0.000000e+00</td>\n      <td>0.000000e+00</td>\n      <td>0.000000e+00</td>\n      <td>0.000000e+00</td>\n      <td>0.0</td>\n      <td>0.000000e+00</td>\n      <td>0.000000e+00</td>\n      <td>0.000000e+00</td>\n      <td>0.000000e+00</td>\n      <td>0.000000e+00</td>\n      <td>0.000000e+00</td>\n      <td>0.000000e+00</td>\n      <td>1.000000e+00</td>\n    </tr>\n    <tr>\n      <th>75%</th>\n      <td>1.352339e+06</td>\n      <td>0.000000e+00</td>\n      <td>0.000000e+00</td>\n      <td>0.000000e+00</td>\n      <td>0.000000e+00</td>\n      <td>0.000000e+00</td>\n      <td>0.000000e+00</td>\n      <td>0.0</td>\n      <td>0.000000e+00</td>\n      <td>0.000000e+00</td>\n      <td>0.000000e+00</td>\n      <td>0.000000e+00</td>\n      <td>0.000000e+00</td>\n      <td>0.000000e+00</td>\n      <td>0.000000e+00</td>\n      <td>1.000000e+00</td>\n    </tr>\n    <tr>\n      <th>max</th>\n      <td>1.553689e+06</td>\n      <td>1.000000e+00</td>\n      <td>1.000000e+00</td>\n      <td>1.000000e+00</td>\n      <td>1.000000e+00</td>\n      <td>1.000000e+00</td>\n      <td>1.000000e+00</td>\n      <td>0.0</td>\n      <td>1.000000e+00</td>\n      <td>1.000000e+00</td>\n      <td>1.000000e+00</td>\n      <td>1.000000e+00</td>\n      <td>1.000000e+00</td>\n      <td>1.000000e+00</td>\n      <td>1.000000e+00</td>\n      <td>1.000000e+00</td>\n    </tr>\n  </tbody>\n</table>\n</div>"
     },
     "execution_count": 48,
     "metadata": {},
     "output_type": "execute_result"
    }
   ]
  },
  {
   "cell_type": "code",
   "source": [
    "products_df.shape"
   ],
   "metadata": {
    "colab": {
     "base_uri": "https://localhost:8080/"
    },
    "id": "yUm-3u8xB_0U",
    "outputId": "161410da-a78e-4b26-8d07-647074ae6e99"
   },
   "execution_count": 49,
   "outputs": [
    {
     "data": {
      "text/plain": "(5962924, 17)"
     },
     "execution_count": 49,
     "metadata": {},
     "output_type": "execute_result"
    }
   ]
  },
  {
   "cell_type": "code",
   "source": [
    "#Comprovamos si el dataframe contiene registros duplicados\n",
    "products_df[products_df.duplicated(keep=False)]"
   ],
   "metadata": {
    "colab": {
     "base_uri": "https://localhost:8080/",
     "height": 114
    },
    "id": "oht_jTfTCZLF",
    "outputId": "b74c659d-7faf-42d6-daae-471051ae952d"
   },
   "execution_count": 50,
   "outputs": [
    {
     "data": {
      "text/plain": "Empty DataFrame\nColumns: [pk_cid, pk_partition, short_term_deposit, loans, mortgage, funds, securities, long_term_deposit, em_account_pp, credit_card, payroll, pension_plan, payroll_account, emc_account, debit_card, em_account_p, em_acount]\nIndex: []",
      "text/html": "<div>\n<style scoped>\n    .dataframe tbody tr th:only-of-type {\n        vertical-align: middle;\n    }\n\n    .dataframe tbody tr th {\n        vertical-align: top;\n    }\n\n    .dataframe thead th {\n        text-align: right;\n    }\n</style>\n<table border=\"1\" class=\"dataframe\">\n  <thead>\n    <tr style=\"text-align: right;\">\n      <th></th>\n      <th>pk_cid</th>\n      <th>pk_partition</th>\n      <th>short_term_deposit</th>\n      <th>loans</th>\n      <th>mortgage</th>\n      <th>funds</th>\n      <th>securities</th>\n      <th>long_term_deposit</th>\n      <th>em_account_pp</th>\n      <th>credit_card</th>\n      <th>payroll</th>\n      <th>pension_plan</th>\n      <th>payroll_account</th>\n      <th>emc_account</th>\n      <th>debit_card</th>\n      <th>em_account_p</th>\n      <th>em_acount</th>\n    </tr>\n  </thead>\n  <tbody>\n  </tbody>\n</table>\n</div>"
     },
     "execution_count": 50,
     "metadata": {},
     "output_type": "execute_result"
    }
   ]
  },
  {
   "cell_type": "code",
   "source": [
    "#Observamos el tipo de datos que contiene el data set\n",
    "products_df.dtypes"
   ],
   "metadata": {
    "colab": {
     "base_uri": "https://localhost:8080/"
    },
    "id": "jBzrDDGOC8s3",
    "outputId": "afff18dc-c057-45f8-fcb5-4a9a87cdaacd"
   },
   "execution_count": 51,
   "outputs": [
    {
     "data": {
      "text/plain": "pk_cid                  int64\npk_partition           object\nshort_term_deposit      int64\nloans                   int64\nmortgage                int64\nfunds                   int64\nsecurities              int64\nlong_term_deposit       int64\nem_account_pp           int64\ncredit_card             int64\npayroll               float64\npension_plan          float64\npayroll_account         int64\nemc_account             int64\ndebit_card              int64\nem_account_p            int64\nem_acount               int64\ndtype: object"
     },
     "execution_count": 51,
     "metadata": {},
     "output_type": "execute_result"
    }
   ]
  },
  {
   "cell_type": "markdown",
   "source": [
    "#### Fechas \n",
    "\n",
    "\n",
    "*   pk_partition\n",
    "\n"
   ],
   "metadata": {
    "id": "C2mmwQ4icQvT"
   }
  },
  {
   "cell_type": "markdown",
   "source": [
    "#### Categóricas\n",
    "\n",
    "*   pk_cid\n",
    "\n"
   ],
   "metadata": {
    "id": "wzR72ZxmcSg7"
   }
  },
  {
   "cell_type": "markdown",
   "source": [
    "#### Booleanas\n",
    "\n",
    "\n",
    "\n",
    "*   credit_card\n",
    "*   debit_card\n",
    "*   em_account_p\n",
    "*   em_account_pp\n",
    "*   em_acount \n",
    "*   emc_account\n",
    "*   funds\n",
    "*   loans\n",
    "*   long_term_deposit\n",
    "*   mortgage\n",
    "*   payroll\n",
    "*   payroll_account\n",
    "*   pension_plan\n",
    "*   securities\n",
    "*   short_term_deposit \n",
    "\n",
    "\n",
    "\n",
    "\n",
    "\n",
    "\n",
    "\n",
    "\n",
    "\n",
    "\n",
    "\n",
    "\n",
    "\n",
    "\n",
    "\n"
   ],
   "metadata": {
    "id": "WNseTxoWPQEK"
   }
  },
  {
   "cell_type": "markdown",
   "source": [
    "Productos de ahorro e inversión\n",
    "- Pension_plan\n",
    "- Securities\n",
    "- Funds\n",
    "- Long_term_deposit\n",
    "- Short_term_deposit\n",
    "\n",
    "\n",
    "Productos de financiación\n",
    "- Mortgage\n",
    "- Loans\n",
    "- Credit_card\n",
    "\n",
    "\n"
   ],
   "metadata": {
    "id": "cljy61blCwWI"
   }
  },
  {
   "cell_type": "code",
   "source": [
    "#Creamos una nueva columna que agrupe los productos de ahorra e inversión\n",
    "df[\"InvestmentProducts\"] = df[\"pension_plan\"] + df[\"securities\"] + df[\"funds\"] + df[\"long_term_deposit\"] + df[\n",
    "    \"short_term_deposit\"]"
   ],
   "metadata": {
    "id": "mNgvyEnwq_C5"
   },
   "execution_count": 52,
   "outputs": []
  },
  {
   "cell_type": "code",
   "source": [
    "df[\"InvestmentProducts\"].value_counts()"
   ],
   "metadata": {
    "colab": {
     "base_uri": "https://localhost:8080/"
    },
    "id": "uQj-l8ZerS-L",
    "outputId": "87ff53f0-2fcc-4ed4-999b-9c7dee9fc4f7"
   },
   "execution_count": 53,
   "outputs": [
    {
     "data": {
      "text/plain": "0.0    5608840\n1.0     333841\n2.0      18450\n3.0       1581\n4.0        151\nName: InvestmentProducts, dtype: int64"
     },
     "execution_count": 53,
     "metadata": {},
     "output_type": "execute_result"
    }
   ]
  },
  {
   "cell_type": "code",
   "source": [
    "df[\"InvestmentProducts\"].replace([2, 3, 4, 5], 1, inplace=True)"
   ],
   "metadata": {
    "id": "2u-wNx0hrWUZ"
   },
   "execution_count": 54,
   "outputs": []
  },
  {
   "cell_type": "code",
   "source": [
    "#De todos los registros de clientes que tenemos, solamente un 0.06% han adquirido un producto de inversión.\n",
    "df[\"InvestmentProducts\"].value_counts(normalize=True)"
   ],
   "metadata": {
    "colab": {
     "base_uri": "https://localhost:8080/"
    },
    "id": "YJHoFoKGrq4x",
    "outputId": "2e9f9f7f-7fed-45bd-d171-f50abde53e21"
   },
   "execution_count": 55,
   "outputs": [
    {
     "data": {
      "text/plain": "0.0    0.940629\n1.0    0.059371\nName: InvestmentProducts, dtype: float64"
     },
     "execution_count": 55,
     "metadata": {},
     "output_type": "execute_result"
    }
   ]
  },
  {
   "cell_type": "code",
   "source": [
    "# Creamos una nueva columna que incluya los productos de financiacón\n",
    "df[\"FinancialProducts\"] = df[\"mortgage\"] + df[\"loans\"] + df[\"credit_card\"]"
   ],
   "metadata": {
    "id": "3brzbUJxsHAG"
   },
   "execution_count": 56,
   "outputs": []
  },
  {
   "cell_type": "code",
   "source": [
    "df[\"FinancialProducts\"].value_counts()"
   ],
   "metadata": {
    "colab": {
     "base_uri": "https://localhost:8080/"
    },
    "id": "E_aQ0rJxsVq4",
    "outputId": "12fd90ce-a910-4619-b299-0e9ab9f219f9"
   },
   "execution_count": 57,
   "outputs": [
    {
     "data": {
      "text/plain": "0    5891611\n1      70968\n2        345\nName: FinancialProducts, dtype: int64"
     },
     "execution_count": 57,
     "metadata": {},
     "output_type": "execute_result"
    }
   ]
  },
  {
   "cell_type": "code",
   "source": [
    "df[\"FinancialProducts\"].replace([2, 3], 1, inplace=True)"
   ],
   "metadata": {
    "id": "TQQI06fFsamJ"
   },
   "execution_count": 58,
   "outputs": []
  },
  {
   "cell_type": "code",
   "source": [
    "# Un 0.01% de nuestros registros de clientes, ha adquirido algún tipo de producto de financiación\n",
    "df[\"FinancialProducts\"].value_counts(normalize=True)"
   ],
   "metadata": {
    "colab": {
     "base_uri": "https://localhost:8080/"
    },
    "id": "mTta2fhNskmj",
    "outputId": "ae111c6a-f0dc-4bb3-8d89-e4435aae7b6a"
   },
   "execution_count": 59,
   "outputs": [
    {
     "data": {
      "text/plain": "0    0.988041\n1    0.011959\nName: FinancialProducts, dtype: float64"
     },
     "execution_count": 59,
     "metadata": {},
     "output_type": "execute_result"
    }
   ]
  },
  {
   "cell_type": "markdown",
   "source": [
    "##### Credit_card\n",
    "Tarjetas de crédito"
   ],
   "metadata": {
    "id": "0K5_P5DKO7cU"
   }
  },
  {
   "cell_type": "code",
   "source": [
    "#Seleccionamos el dataset que contienen los valores \"True\" para visualizarlos posteriormente\n",
    "credit_card_1 = df[df[\"credit_card\"] == 1 & (df[\"pk_partition\"] == \"2019-05-28\")]"
   ],
   "metadata": {
    "id": "RIAHMq5w6ICv"
   },
   "execution_count": 60,
   "outputs": []
  },
  {
   "cell_type": "markdown",
   "source": [
    "##### Creación de una pivot table para ver la cantidad de tarjetas de crédito a nivel mensual"
   ],
   "metadata": {
    "id": "hRFUwrwbH4Dh"
   }
  },
  {
   "cell_type": "code",
   "source": [
    "credit_card_table = pd.pivot_table(data=df, index=[\"pk_partition_Year\", \"pk_partition_Month\"], values=[\"credit_card\"],\n",
    "                                   aggfunc=[sum, np.mean])"
   ],
   "metadata": {
    "id": "KTtNu6zQIFTC"
   },
   "execution_count": 61,
   "outputs": []
  },
  {
   "cell_type": "code",
   "source": [
    "credit_card_table"
   ],
   "metadata": {
    "colab": {
     "base_uri": "https://localhost:8080/",
     "height": 645
    },
    "id": "UkddbGK8INNz",
    "outputId": "10416c55-67bf-4e38-e935-d978f659b0d7"
   },
   "execution_count": 62,
   "outputs": [
    {
     "data": {
      "text/plain": "                                             sum        mean\n                                     credit_card credit_card\npk_partition_Year pk_partition_Month                        \n2018              1                         3325    0.013883\n                  2                         3282    0.013533\n                  3                         3511    0.014316\n                  4                         3725    0.015053\n                  5                         3797    0.015192\n                  6                         4002    0.015874\n                  7                         4137    0.012191\n                  8                         4206    0.011918\n                  9                         4289    0.011427\n                  10                        4385    0.010900\n                  11                        4512    0.010836\n                  12                        4536    0.010737\n2019              1                         4493    0.010525\n                  2                         4542    0.010521\n                  3                         4576    0.010491\n                  4                         4747    0.010798\n                  5                         4801    0.010838",
      "text/html": "<div>\n<style scoped>\n    .dataframe tbody tr th:only-of-type {\n        vertical-align: middle;\n    }\n\n    .dataframe tbody tr th {\n        vertical-align: top;\n    }\n\n    .dataframe thead tr th {\n        text-align: left;\n    }\n\n    .dataframe thead tr:last-of-type th {\n        text-align: right;\n    }\n</style>\n<table border=\"1\" class=\"dataframe\">\n  <thead>\n    <tr>\n      <th></th>\n      <th></th>\n      <th>sum</th>\n      <th>mean</th>\n    </tr>\n    <tr>\n      <th></th>\n      <th></th>\n      <th>credit_card</th>\n      <th>credit_card</th>\n    </tr>\n    <tr>\n      <th>pk_partition_Year</th>\n      <th>pk_partition_Month</th>\n      <th></th>\n      <th></th>\n    </tr>\n  </thead>\n  <tbody>\n    <tr>\n      <th rowspan=\"12\" valign=\"top\">2018</th>\n      <th>1</th>\n      <td>3325</td>\n      <td>0.013883</td>\n    </tr>\n    <tr>\n      <th>2</th>\n      <td>3282</td>\n      <td>0.013533</td>\n    </tr>\n    <tr>\n      <th>3</th>\n      <td>3511</td>\n      <td>0.014316</td>\n    </tr>\n    <tr>\n      <th>4</th>\n      <td>3725</td>\n      <td>0.015053</td>\n    </tr>\n    <tr>\n      <th>5</th>\n      <td>3797</td>\n      <td>0.015192</td>\n    </tr>\n    <tr>\n      <th>6</th>\n      <td>4002</td>\n      <td>0.015874</td>\n    </tr>\n    <tr>\n      <th>7</th>\n      <td>4137</td>\n      <td>0.012191</td>\n    </tr>\n    <tr>\n      <th>8</th>\n      <td>4206</td>\n      <td>0.011918</td>\n    </tr>\n    <tr>\n      <th>9</th>\n      <td>4289</td>\n      <td>0.011427</td>\n    </tr>\n    <tr>\n      <th>10</th>\n      <td>4385</td>\n      <td>0.010900</td>\n    </tr>\n    <tr>\n      <th>11</th>\n      <td>4512</td>\n      <td>0.010836</td>\n    </tr>\n    <tr>\n      <th>12</th>\n      <td>4536</td>\n      <td>0.010737</td>\n    </tr>\n    <tr>\n      <th rowspan=\"5\" valign=\"top\">2019</th>\n      <th>1</th>\n      <td>4493</td>\n      <td>0.010525</td>\n    </tr>\n    <tr>\n      <th>2</th>\n      <td>4542</td>\n      <td>0.010521</td>\n    </tr>\n    <tr>\n      <th>3</th>\n      <td>4576</td>\n      <td>0.010491</td>\n    </tr>\n    <tr>\n      <th>4</th>\n      <td>4747</td>\n      <td>0.010798</td>\n    </tr>\n    <tr>\n      <th>5</th>\n      <td>4801</td>\n      <td>0.010838</td>\n    </tr>\n  </tbody>\n</table>\n</div>"
     },
     "execution_count": 62,
     "metadata": {},
     "output_type": "execute_result"
    }
   ]
  },
  {
   "cell_type": "markdown",
   "source": [
    "##### Debit_card\n",
    "Tarjetas de débito"
   ],
   "metadata": {
    "id": "-_gl-4xEO_RG"
   }
  },
  {
   "cell_type": "code",
   "source": [
    "#Seleccionamos el dataset que contienen los valores \"True\" para visualizarlos posteriormente\n",
    "debit_card_1 = df[(df[\"debit_card\"] == 1) & (df[\"pk_partition\"] == \"2019-05-28\")]"
   ],
   "metadata": {
    "id": "I5UxVeLB8-np"
   },
   "execution_count": 63,
   "outputs": []
  },
  {
   "cell_type": "code",
   "source": [
    "#Existen 46116 clientes que tienen una tarjeta de crédito y de débito \n",
    "len(df[(df[\"debit_card\"] == 1) & (df[\"credit_card\"] == 1)])"
   ],
   "metadata": {
    "colab": {
     "base_uri": "https://localhost:8080/"
    },
    "id": "bfGW4zA3QiT1",
    "outputId": "e238a952-a17c-478e-a274-eb35b235c73a"
   },
   "execution_count": 64,
   "outputs": [
    {
     "data": {
      "text/plain": "46116"
     },
     "execution_count": 64,
     "metadata": {},
     "output_type": "execute_result"
    }
   ]
  },
  {
   "cell_type": "code",
   "source": [
    "#Existen 5375206 clientes que no tienen ni una tarjeta de crédito ni una tarjeta de débito, corresponde al 90% de los clientes.\n",
    "len(df[(df[\"debit_card\"] == 0) & (df[\"credit_card\"] == 0)])"
   ],
   "metadata": {
    "colab": {
     "base_uri": "https://localhost:8080/"
    },
    "id": "EAnEjdYASWt2",
    "outputId": "8bd89644-8697-442a-f1ed-a7fe46f55e38"
   },
   "execution_count": 65,
   "outputs": [
    {
     "data": {
      "text/plain": "5375206"
     },
     "execution_count": 65,
     "metadata": {},
     "output_type": "execute_result"
    }
   ]
  },
  {
   "cell_type": "markdown",
   "source": [
    "##### Creación de una pivot table para ver la cantidad de tarjetas de débito a nivel mensual"
   ],
   "metadata": {
    "id": "r5txOBOcG_dh"
   }
  },
  {
   "cell_type": "code",
   "source": [
    "debit_card_table = pd.pivot_table(data=df, index=[\"pk_partition_Year\", \"pk_partition_Month\"], values=[\"debit_card\"],\n",
    "                                  aggfunc=[sum, np.mean])"
   ],
   "metadata": {
    "id": "wVy52JiHGckp"
   },
   "execution_count": 66,
   "outputs": []
  },
  {
   "cell_type": "code",
   "source": [
    "debit_card_table"
   ],
   "metadata": {
    "colab": {
     "base_uri": "https://localhost:8080/",
     "height": 645
    },
    "id": "J6gWnWy_GrdB",
    "outputId": "529ad945-7def-4314-edb0-28f7dd65a471"
   },
   "execution_count": 67,
   "outputs": [
    {
     "data": {
      "text/plain": "                                            sum       mean\n                                     debit_card debit_card\npk_partition_Year pk_partition_Month                      \n2018              1                       24696   0.103118\n                  2                       25448   0.104931\n                  3                       27046   0.110276\n                  4                       27764   0.112195\n                  5                       27911   0.111677\n                  6                       28828   0.114350\n                  7                       29578   0.087164\n                  8                       29205   0.082752\n                  9                       31684   0.084418\n                  10                      34372   0.085439\n                  11                      35466   0.085176\n                  12                      37430   0.088596\n2019              1                       37350   0.087496\n                  2                       39399   0.091259\n                  3                       41390   0.094891\n                  4                       42140   0.095854\n                  5                       43261   0.097656",
      "text/html": "<div>\n<style scoped>\n    .dataframe tbody tr th:only-of-type {\n        vertical-align: middle;\n    }\n\n    .dataframe tbody tr th {\n        vertical-align: top;\n    }\n\n    .dataframe thead tr th {\n        text-align: left;\n    }\n\n    .dataframe thead tr:last-of-type th {\n        text-align: right;\n    }\n</style>\n<table border=\"1\" class=\"dataframe\">\n  <thead>\n    <tr>\n      <th></th>\n      <th></th>\n      <th>sum</th>\n      <th>mean</th>\n    </tr>\n    <tr>\n      <th></th>\n      <th></th>\n      <th>debit_card</th>\n      <th>debit_card</th>\n    </tr>\n    <tr>\n      <th>pk_partition_Year</th>\n      <th>pk_partition_Month</th>\n      <th></th>\n      <th></th>\n    </tr>\n  </thead>\n  <tbody>\n    <tr>\n      <th rowspan=\"12\" valign=\"top\">2018</th>\n      <th>1</th>\n      <td>24696</td>\n      <td>0.103118</td>\n    </tr>\n    <tr>\n      <th>2</th>\n      <td>25448</td>\n      <td>0.104931</td>\n    </tr>\n    <tr>\n      <th>3</th>\n      <td>27046</td>\n      <td>0.110276</td>\n    </tr>\n    <tr>\n      <th>4</th>\n      <td>27764</td>\n      <td>0.112195</td>\n    </tr>\n    <tr>\n      <th>5</th>\n      <td>27911</td>\n      <td>0.111677</td>\n    </tr>\n    <tr>\n      <th>6</th>\n      <td>28828</td>\n      <td>0.114350</td>\n    </tr>\n    <tr>\n      <th>7</th>\n      <td>29578</td>\n      <td>0.087164</td>\n    </tr>\n    <tr>\n      <th>8</th>\n      <td>29205</td>\n      <td>0.082752</td>\n    </tr>\n    <tr>\n      <th>9</th>\n      <td>31684</td>\n      <td>0.084418</td>\n    </tr>\n    <tr>\n      <th>10</th>\n      <td>34372</td>\n      <td>0.085439</td>\n    </tr>\n    <tr>\n      <th>11</th>\n      <td>35466</td>\n      <td>0.085176</td>\n    </tr>\n    <tr>\n      <th>12</th>\n      <td>37430</td>\n      <td>0.088596</td>\n    </tr>\n    <tr>\n      <th rowspan=\"5\" valign=\"top\">2019</th>\n      <th>1</th>\n      <td>37350</td>\n      <td>0.087496</td>\n    </tr>\n    <tr>\n      <th>2</th>\n      <td>39399</td>\n      <td>0.091259</td>\n    </tr>\n    <tr>\n      <th>3</th>\n      <td>41390</td>\n      <td>0.094891</td>\n    </tr>\n    <tr>\n      <th>4</th>\n      <td>42140</td>\n      <td>0.095854</td>\n    </tr>\n    <tr>\n      <th>5</th>\n      <td>43261</td>\n      <td>0.097656</td>\n    </tr>\n  </tbody>\n</table>\n</div>"
     },
     "execution_count": 67,
     "metadata": {},
     "output_type": "execute_result"
    }
   ]
  },
  {
   "cell_type": "markdown",
   "source": [
    "##### Visualización del número de tarjetas de crédito vs. tarjetas de débito"
   ],
   "metadata": {
    "id": "kiiSHQANPXpZ"
   }
  },
  {
   "cell_type": "markdown",
   "source": [
    "Observamos que solamente el 11% de los clientes disponen de una tarjeta de crédito. Sin embargo, debemos considerar que un cliente puede tener una tarjeta de crédito y una tarjeta de débito. En este caso, nos encontramos que 46116 clientes disponen de ambas. Es decir, el 65% de los clientes que tienen una tarjeta de crédito, disponen también de una tarjeta de débito."
   ],
   "metadata": {
    "id": "tI7XPY2sPh12"
   }
  },
  {
   "cell_type": "code",
   "source": [
    "type_df = [['Tarjetas de crédito', len(credit_card_1)], ['Tarjetas de débito', len(debit_card_1)]]\n",
    "type_df = pd.DataFrame(type_df, columns=['Tipo de tarjeta', 'Column count']).sort_values('Column count', ascending=True)"
   ],
   "metadata": {
    "id": "vtp6MpIv8qE_"
   },
   "execution_count": 68,
   "outputs": []
  },
  {
   "cell_type": "code",
   "source": [
    "f, ax = plt.subplots(figsize=(7, 7))\n",
    "sns.barplot(x=\"Tipo de tarjeta\", y=\"Column count\", data=type_df, label=\"Missing\", palette='Spectral')\n",
    "ax.set_ylabel('Número de tarjetas', fontsize=10, color='k')\n",
    "ax.set_title('Tarjetas de crédito vs. tarjetas de débito', fontsize=15, color='k', pad=20)\n",
    "\n",
    "for rect in ax.patches:\n",
    "    y_value = rect.get_height()\n",
    "    x_value = rect.get_x() + rect.get_width() / 2\n",
    "    space = 1\n",
    "    label = \"{:.0f}\".format(y_value)\n",
    "    ax.annotate(label, (x_value, y_value), xytext=(0, space), textcoords=\"offset points\", ha='center', va='bottom',\n",
    "                fontsize=11)\n",
    "plt.show\n",
    "\n",
    "plt.show()"
   ],
   "metadata": {
    "colab": {
     "base_uri": "https://localhost:8080/",
     "height": 476
    },
    "id": "EzKcRDty6uSL",
    "outputId": "fbd75c95-4583-4665-f151-dc89a9e0af6d"
   },
   "execution_count": 69,
   "outputs": [
    {
     "data": {
      "text/plain": "<Figure size 504x504 with 1 Axes>",
      "image/png": "[encoded data removed]"
     },
     "metadata": {
      "needs_background": "light"
     },
     "output_type": "display_data"
    }
   ]
  },
  {
   "cell_type": "markdown",
   "source": [
    "##### Em_account_p"
   ],
   "metadata": {
    "id": "zJXUApkXpwIG"
   }
  },
  {
   "cell_type": "code",
   "source": [
    "#Seleccionamos el dataset que contienen los valores \"True\" para visualizarlos posteriormente\n",
    "em_account_p_1 = products_df[products_df[\"em_account_p\"] == 1]"
   ],
   "metadata": {
    "id": "CfvbHIluqVVc"
   },
   "execution_count": 70,
   "outputs": []
  },
  {
   "cell_type": "markdown",
   "source": [
    "##### Em_account_pp"
   ],
   "metadata": {
    "id": "HpDsHH4iqA75"
   }
  },
  {
   "cell_type": "code",
   "source": [
    "#Seleccionamos el dataset que contienen los valores \"True\" para visualizarlos posteriormente\n",
    "em_account_pp_1 = products_df[products_df[\"em_account_pp\"] == 1]"
   ],
   "metadata": {
    "id": "JnGsyfitqbpH"
   },
   "execution_count": 71,
   "outputs": []
  },
  {
   "cell_type": "markdown",
   "source": [
    "##### Em_acount"
   ],
   "metadata": {
    "id": "TV_ex5b6qD9A"
   }
  },
  {
   "cell_type": "code",
   "source": [
    "#Seleccionamos el dataset que contienen los valores \"True\" para visualizarlos posteriormente\n",
    "em_acount_1 = products_df[products_df[\"em_acount\"] == 1]"
   ],
   "metadata": {
    "id": "lF5w1hx_qdwj"
   },
   "execution_count": 72,
   "outputs": []
  },
  {
   "cell_type": "markdown",
   "source": [
    "##### Emc_account"
   ],
   "metadata": {
    "id": "uSu-Fb8mqIQ8"
   }
  },
  {
   "cell_type": "code",
   "source": [
    "#Seleccionamos el dataset que contienen los valores \"True\" para visualizarlos posteriormente\n",
    "emc_account_1 = products_df[products_df[\"emc_account\"] == 1]"
   ],
   "metadata": {
    "id": "imHpEv66qsh6"
   },
   "execution_count": 73,
   "outputs": []
  },
  {
   "cell_type": "markdown",
   "source": [
    "##### Payroll_account"
   ],
   "metadata": {
    "id": "EMJExNxdtELe"
   }
  },
  {
   "cell_type": "code",
   "source": [
    "#Seleccionamos el dataset que contienen los valores \"True\" para visualizarlos posteriormente\n",
    "payroll_account_1 = products_df[products_df[\"payroll_account\"] == 1]"
   ],
   "metadata": {
    "id": "hz4wysGNtJls"
   },
   "execution_count": 74,
   "outputs": []
  },
  {
   "cell_type": "markdown",
   "source": [
    "##### Creación nueva columna que indique si el registro tiene una cuenta "
   ],
   "metadata": {
    "id": "Pw_1zXxHzsIQ"
   }
  },
  {
   "cell_type": "code",
   "source": [
    "#Creamos una nueva columna, sumando el resultado de todas las columnas del clientes\n",
    "df[\"HasAccount\"] = df[\"em_account_p\"] + df[\"em_account_pp\"] + df[\"em_acount\"] + df[\"emc_account\"] + df[\n",
    "    \"payroll_account\"]"
   ],
   "metadata": {
    "id": "-7OWEb02zo63"
   },
   "execution_count": 75,
   "outputs": []
  },
  {
   "cell_type": "code",
   "source": [
    "#Observamos que existen personas que tenga 0,1,2 o hasta 3 cuentas diferentes.\n",
    "df[\"HasAccount\"].value_counts(normalize=True)"
   ],
   "metadata": {
    "colab": {
     "base_uri": "https://localhost:8080/"
    },
    "id": "0_VF79JVt8qz",
    "outputId": "1610ab13-131e-4029-96fd-a96fd0635ca2"
   },
   "execution_count": 76,
   "outputs": [
    {
     "data": {
      "text/plain": "1    0.762255\n0    0.196789\n2    0.040233\n3    0.000723\nName: HasAccount, dtype: float64"
     },
     "execution_count": 76,
     "metadata": {},
     "output_type": "execute_result"
    }
   ]
  },
  {
   "cell_type": "code",
   "source": [
    "df[\"HasAccount\"].replace([2, 3], 1, inplace=True)"
   ],
   "metadata": {
    "id": "5HHwDwmNuNLB"
   },
   "execution_count": 77,
   "outputs": []
  },
  {
   "cell_type": "code",
   "source": [
    "#Existe un 19.6% de los registros que no tiene una cuenta. \n",
    "df[\"HasAccount\"].value_counts(normalize=True)"
   ],
   "metadata": {
    "colab": {
     "base_uri": "https://localhost:8080/"
    },
    "id": "xr9KSBoSuVX3",
    "outputId": "64ad8f6d-b2c8-43dc-d9f8-bb57c2221f64"
   },
   "execution_count": 78,
   "outputs": [
    {
     "data": {
      "text/plain": "1    0.803211\n0    0.196789\nName: HasAccount, dtype: float64"
     },
     "execution_count": 78,
     "metadata": {},
     "output_type": "execute_result"
    }
   ]
  },
  {
   "cell_type": "markdown",
   "source": [
    "##### Creación nueva columna que indique si el registro ha realizado alguna compra (producto de financiación, producto de inversión o cuenta bancária."
   ],
   "metadata": {
    "id": "d9OJbo_yu3LV"
   }
  },
  {
   "cell_type": "code",
   "source": [
    "df[\"HasBought\"] = df[\"HasAccount\"] + df[\"InvestmentProducts\"] + df[\"FinancialProducts\"]"
   ],
   "metadata": {
    "id": "cdc0Hl4PvSy8"
   },
   "execution_count": 79,
   "outputs": []
  },
  {
   "cell_type": "code",
   "source": [
    "#Un registro puede tener hasta un máximo de 3 ventas que significaría que ha comprado un producto de inversión, un producto de financiación y además tiene una cuenta bancária (como mínimo).\n",
    "df[\"HasBought\"].value_counts(normalize=False)"
   ],
   "metadata": {
    "colab": {
     "base_uri": "https://localhost:8080/"
    },
    "id": "X5XuoOx9vdcS",
    "outputId": "1dbb29d0-f610-4738-d0af-35f1ada3e2fb"
   },
   "execution_count": 80,
   "outputs": [
    {
     "data": {
      "text/plain": "1.0    4472815\n0.0    1136109\n2.0     319809\n3.0      34130\nName: HasBought, dtype: int64"
     },
     "execution_count": 80,
     "metadata": {},
     "output_type": "execute_result"
    }
   ]
  },
  {
   "cell_type": "code",
   "source": [
    "df[\"HasBought\"].replace([2, 3], 1, inplace=True)"
   ],
   "metadata": {
    "id": "Hxi8-_RJvtw7"
   },
   "execution_count": 81,
   "outputs": []
  },
  {
   "cell_type": "code",
   "source": [
    "#El 80,9% de los clientes ha comprado \n",
    "df[\"HasBought\"].value_counts(normalize=True)"
   ],
   "metadata": {
    "colab": {
     "base_uri": "https://localhost:8080/"
    },
    "id": "Q60IRvdpv1m9",
    "outputId": "407ff298-4a6f-4ff9-9143-a45017654294"
   },
   "execution_count": 82,
   "outputs": [
    {
     "data": {
      "text/plain": "1.0    0.809469\n0.0    0.190531\nName: HasBought, dtype: float64"
     },
     "execution_count": 82,
     "metadata": {},
     "output_type": "execute_result"
    }
   ]
  },
  {
   "cell_type": "markdown",
   "source": [
    "##### Visualización de los tipos de cuenta"
   ],
   "metadata": {
    "id": "lxA4bG3vqOvZ"
   }
  },
  {
   "cell_type": "code",
   "source": [
    "cuentas_df = [['Cuenta easyMoney+', len(em_account_p_1)], ['Cuenta easyMoney', len(em_acount_1)],\n",
    "              ['Cuenta easyMoney Crypto', len(emc_account_1)], [\"Cuenta Payroll\", len(payroll_account_1)]]\n",
    "cuentas_df = pd.DataFrame(cuentas_df, columns=['Tipos de cuenta', 'Column count']).sort_values('Column count',\n",
    "                                                                                               ascending=True)"
   ],
   "metadata": {
    "id": "FBAKgPe0qy1z"
   },
   "execution_count": 83,
   "outputs": []
  },
  {
   "cell_type": "code",
   "source": [
    "f, ax = plt.subplots(figsize=(7, 7))\n",
    "sns.barplot(x=\"Tipos de cuenta\", y=\"Column count\", data=cuentas_df, label=\"Missing\", palette='Spectral')\n",
    "ax.set_ylabel('Número de clientes', fontsize=10, color='k')\n",
    "ax.set_xlabel('')\n",
    "ax.set_title('Tipos de cuenta', fontsize=15, color='k', pad=20)\n",
    "\n",
    "for rect in ax.patches:\n",
    "    y_value = rect.get_height()\n",
    "    x_value = rect.get_x() + rect.get_width() / 2\n",
    "    space = 1\n",
    "    label = \"{:.0f}\".format(y_value)\n",
    "    ax.annotate(label, (x_value, y_value), xytext=(0, space), textcoords=\"offset points\", ha='center', va='bottom',\n",
    "                fontsize=11)\n",
    "plt.show()"
   ],
   "metadata": {
    "colab": {
     "base_uri": "https://localhost:8080/",
     "height": 460
    },
    "id": "3lwg3BlTr5Xj",
    "outputId": "04b99b96-6e60-4100-9ac2-d959e715aef9"
   },
   "execution_count": 84,
   "outputs": [
    {
     "data": {
      "text/plain": "<Figure size 504x504 with 1 Axes>",
      "image/png": "[encoded data removed]"
     },
     "metadata": {
      "needs_background": "light"
     },
     "output_type": "display_data"
    }
   ]
  },
  {
   "cell_type": "markdown",
   "source": [
    "##### Estadísticos por tipo de cuentas"
   ],
   "metadata": {
    "id": "-DH-WKTs8er9"
   }
  },
  {
   "cell_type": "markdown",
   "source": [
    "##### Long_term_deposit"
   ],
   "metadata": {
    "id": "7P6yI6IFpQw6"
   }
  },
  {
   "cell_type": "code",
   "source": [
    "#Seleccionamos el dataset que contienen los valores \"True\" para visualizarlos posteriormente\n",
    "long_term_deposit_1 = products_df[products_df[\"long_term_deposit\"] == 1]"
   ],
   "metadata": {
    "id": "jGN4QycPp1c0"
   },
   "execution_count": 85,
   "outputs": []
  },
  {
   "cell_type": "markdown",
   "source": [
    "##### Short_term_deposit"
   ],
   "metadata": {
    "id": "nCAJUNz5pbEb"
   }
  },
  {
   "cell_type": "code",
   "source": [
    "#Seleccionamos el dataset que contienen los valores \"True\" para visualizarlos posteriormente\n",
    "short_term_deposit_1 = products_df[products_df[\"short_term_deposit\"] == 1]"
   ],
   "metadata": {
    "id": "UdJZCn_rp7qT"
   },
   "execution_count": 86,
   "outputs": []
  },
  {
   "cell_type": "markdown",
   "source": [
    "###### Visualización del número de long_term_deposit versus el número de short_term_deposit"
   ],
   "metadata": {
    "id": "oWSlslzXpg9Y"
   }
  },
  {
   "cell_type": "code",
   "source": [
    "deposit_df = [['Long-term deposit', len(long_term_deposit_1)], ['Short-term deposit', len(short_term_deposit_1)]]\n",
    "deposit_df = pd.DataFrame(deposit_df, columns=['Tipo de depósito', 'Column count']).sort_values('Column count',\n",
    "                                                                                                ascending=True)"
   ],
   "metadata": {
    "id": "tYPYxUCXpqUh"
   },
   "execution_count": 87,
   "outputs": []
  },
  {
   "cell_type": "code",
   "source": [
    "f, ax = plt.subplots(figsize=(7, 7))\n",
    "sns.barplot(x=\"Tipo de depósito\", y=\"Column count\", data=deposit_df, label=\"Missing\", palette='pastel')\n",
    "ax.set_ylabel('Número de depósitos', fontsize=10, color='k')\n",
    "ax.set_title('Long-term deposit vs. Short-term deposit', fontsize=15, color='k', pad=20)\n",
    "\n",
    "for rect in ax.patches:\n",
    "    y_value = rect.get_height()\n",
    "    x_value = rect.get_x() + rect.get_width() / 2\n",
    "    space = 1\n",
    "    label = \"{:.0f}\".format(y_value)\n",
    "    ax.annotate(label, (x_value, y_value), xytext=(0, space), textcoords=\"offset points\", ha='center', va='bottom',\n",
    "                fontsize=11)\n",
    "plt.show\n",
    "\n",
    "plt.show()"
   ],
   "metadata": {
    "colab": {
     "base_uri": "https://localhost:8080/",
     "height": 475
    },
    "id": "FJm2DhEdqKLb",
    "outputId": "3a84d8b1-26a4-4315-80aa-bce3fa6500f1"
   },
   "execution_count": 88,
   "outputs": [
    {
     "data": {
      "text/plain": "<Figure size 504x504 with 1 Axes>",
      "image/png": "[encoded data removed]"
     },
     "metadata": {
      "needs_background": "light"
     },
     "output_type": "display_data"
    }
   ]
  },
  {
   "cell_type": "markdown",
   "source": [
    "##### Payroll"
   ],
   "metadata": {
    "id": "4sEvSOtkwXVp"
   }
  },
  {
   "cell_type": "code",
   "source": [
    "products_df[\"payroll\"].value_counts()"
   ],
   "metadata": {
    "colab": {
     "base_uri": "https://localhost:8080/"
    },
    "id": "Tix59ddow2OI",
    "outputId": "74ec4402-b23f-45fa-db05-374e516ef6eb"
   },
   "execution_count": 89,
   "outputs": [
    {
     "data": {
      "text/plain": "0.0    5757076\n1.0     205787\nName: payroll, dtype: int64"
     },
     "execution_count": 89,
     "metadata": {},
     "output_type": "execute_result"
    }
   ]
  },
  {
   "cell_type": "markdown",
   "source": [
    "###### Tratamiento de nulos de la variable \"Payroll\""
   ],
   "metadata": {
    "id": "2712Urjywq5R"
   }
  },
  {
   "cell_type": "code",
   "source": [
    "df[\"payroll\"].isnull().sum()"
   ],
   "metadata": {
    "colab": {
     "base_uri": "https://localhost:8080/"
    },
    "id": "J-pAu8GxwZF6",
    "outputId": "8d2ccdb6-e3cb-423c-a1eb-598a362de7af"
   },
   "execution_count": 90,
   "outputs": [
    {
     "data": {
      "text/plain": "61"
     },
     "execution_count": 90,
     "metadata": {},
     "output_type": "execute_result"
    }
   ]
  },
  {
   "cell_type": "code",
   "source": [
    "df.dropna(subset=['payroll'], inplace=True)"
   ],
   "metadata": {
    "id": "_DkW0rAOxLK0"
   },
   "execution_count": 91,
   "outputs": []
  },
  {
   "cell_type": "code",
   "source": [
    "products_df.dropna(subset=['payroll'], inplace=True)"
   ],
   "metadata": {
    "id": "eK0QaALR1nYp"
   },
   "execution_count": 92,
   "outputs": []
  },
  {
   "cell_type": "code",
   "source": [
    "products_df[\"payroll\"].isnull().sum()"
   ],
   "metadata": {
    "id": "tT2-LpxP1lMR"
   },
   "execution_count": 93,
   "outputs": [
    {
     "data": {
      "text/plain": "0"
     },
     "execution_count": 93,
     "metadata": {},
     "output_type": "execute_result"
    }
   ]
  },
  {
   "cell_type": "code",
   "source": [
    "df[\"payroll\"].isnull().sum()"
   ],
   "metadata": {
    "id": "sgVRHs601xBy"
   },
   "execution_count": 94,
   "outputs": [
    {
     "data": {
      "text/plain": "0"
     },
     "execution_count": 94,
     "metadata": {},
     "output_type": "execute_result"
    }
   ]
  },
  {
   "cell_type": "markdown",
   "source": [
    "##### Pension_plan"
   ],
   "metadata": {
    "id": "yhmUCZZd1sS4"
   }
  },
  {
   "cell_type": "code",
   "source": [
    "df[\"pension_plan\"].value_counts()"
   ],
   "metadata": {
    "id": "sh-Tay29Eenx"
   },
   "execution_count": 95,
   "outputs": [
    {
     "data": {
      "text/plain": "0.0    5745061\n1.0     217802\nName: pension_plan, dtype: int64"
     },
     "execution_count": 95,
     "metadata": {},
     "output_type": "execute_result"
    }
   ]
  },
  {
   "cell_type": "markdown",
   "source": [
    "### Exploración del dataset \"Sociodemographic_df\"\n"
   ],
   "metadata": {
    "id": "KbyL2eLF-c46"
   }
  },
  {
   "cell_type": "code",
   "source": [
    "sociodemographic_df[\"pk_partition\"].unique()"
   ],
   "metadata": {
    "id": "vMsBGLxzlka2"
   },
   "execution_count": 96,
   "outputs": [
    {
     "data": {
      "text/plain": "array(['2018-01-28', '2018-02-28', '2018-03-28', '2018-04-28',\n       '2018-05-28', '2018-06-28', '2018-07-28', '2018-08-28',\n       '2018-09-28', '2018-10-28', '2018-11-28', '2018-12-28',\n       '2019-01-28', '2019-02-28', '2019-03-28', '2019-04-28',\n       '2019-05-28'], dtype=object)"
     },
     "execution_count": 96,
     "metadata": {},
     "output_type": "execute_result"
    }
   ]
  },
  {
   "cell_type": "code",
   "source": [
    "skewness(sociodemographic_df)"
   ],
   "metadata": {
    "id": "bWI2mPONpvG9"
   },
   "execution_count": 97,
   "outputs": [
    {
     "name": "stdout",
     "output_type": "stream",
     "text": [
      "    Atributos  val_únicos   Skewness\n",
      "7    deceased           2  99.981972\n",
      "3  country_id          41  99.962233\n"
     ]
    },
    {
     "data": {
      "text/plain": "    Atributos  val_únicos   Skewness\n7    deceased           2  99.981972\n3  country_id          41  99.962233",
      "text/html": "<div>\n<style scoped>\n    .dataframe tbody tr th:only-of-type {\n        vertical-align: middle;\n    }\n\n    .dataframe tbody tr th {\n        vertical-align: top;\n    }\n\n    .dataframe thead th {\n        text-align: right;\n    }\n</style>\n<table border=\"1\" class=\"dataframe\">\n  <thead>\n    <tr style=\"text-align: right;\">\n      <th></th>\n      <th>Atributos</th>\n      <th>val_únicos</th>\n      <th>Skewness</th>\n    </tr>\n  </thead>\n  <tbody>\n    <tr>\n      <th>7</th>\n      <td>deceased</td>\n      <td>2</td>\n      <td>99.981972</td>\n    </tr>\n    <tr>\n      <th>3</th>\n      <td>country_id</td>\n      <td>41</td>\n      <td>99.962233</td>\n    </tr>\n  </tbody>\n</table>\n</div>"
     },
     "execution_count": 97,
     "metadata": {},
     "output_type": "execute_result"
    }
   ]
  },
  {
   "cell_type": "code",
   "source": [
    "sociodemographic_df.head()"
   ],
   "metadata": {
    "id": "_QD-yBHp-hIv"
   },
   "execution_count": 98,
   "outputs": [
    {
     "data": {
      "text/plain": "   Unnamed: 0   pk_cid pk_partition country_id  region_code gender  age  \\\n0           0  1375586   2018-01-28         ES         29.0      H   35   \n1           1  1050611   2018-01-28         ES         13.0      V   23   \n2           2  1050612   2018-01-28         ES         13.0      V   23   \n3           3  1050613   2018-01-28         ES         50.0      H   22   \n4           4  1050614   2018-01-28         ES         50.0      V   23   \n\n  deceased     salary  \n0        N   87218.10  \n1        N   35548.74  \n2        N  122179.11  \n3        N  119775.54  \n4        N        NaN  ",
      "text/html": "<div>\n<style scoped>\n    .dataframe tbody tr th:only-of-type {\n        vertical-align: middle;\n    }\n\n    .dataframe tbody tr th {\n        vertical-align: top;\n    }\n\n    .dataframe thead th {\n        text-align: right;\n    }\n</style>\n<table border=\"1\" class=\"dataframe\">\n  <thead>\n    <tr style=\"text-align: right;\">\n      <th></th>\n      <th>Unnamed: 0</th>\n      <th>pk_cid</th>\n      <th>pk_partition</th>\n      <th>country_id</th>\n      <th>region_code</th>\n      <th>gender</th>\n      <th>age</th>\n      <th>deceased</th>\n      <th>salary</th>\n    </tr>\n  </thead>\n  <tbody>\n    <tr>\n      <th>0</th>\n      <td>0</td>\n      <td>1375586</td>\n      <td>2018-01-28</td>\n      <td>ES</td>\n      <td>29.0</td>\n      <td>H</td>\n      <td>35</td>\n      <td>N</td>\n      <td>87218.10</td>\n    </tr>\n    <tr>\n      <th>1</th>\n      <td>1</td>\n      <td>1050611</td>\n      <td>2018-01-28</td>\n      <td>ES</td>\n      <td>13.0</td>\n      <td>V</td>\n      <td>23</td>\n      <td>N</td>\n      <td>35548.74</td>\n    </tr>\n    <tr>\n      <th>2</th>\n      <td>2</td>\n      <td>1050612</td>\n      <td>2018-01-28</td>\n      <td>ES</td>\n      <td>13.0</td>\n      <td>V</td>\n      <td>23</td>\n      <td>N</td>\n      <td>122179.11</td>\n    </tr>\n    <tr>\n      <th>3</th>\n      <td>3</td>\n      <td>1050613</td>\n      <td>2018-01-28</td>\n      <td>ES</td>\n      <td>50.0</td>\n      <td>H</td>\n      <td>22</td>\n      <td>N</td>\n      <td>119775.54</td>\n    </tr>\n    <tr>\n      <th>4</th>\n      <td>4</td>\n      <td>1050614</td>\n      <td>2018-01-28</td>\n      <td>ES</td>\n      <td>50.0</td>\n      <td>V</td>\n      <td>23</td>\n      <td>N</td>\n      <td>NaN</td>\n    </tr>\n  </tbody>\n</table>\n</div>"
     },
     "execution_count": 98,
     "metadata": {},
     "output_type": "execute_result"
    }
   ]
  },
  {
   "cell_type": "code",
   "source": [
    "sociodemographic_df.info(verbose=False)"
   ],
   "metadata": {
    "id": "Awi-7VER-18X"
   },
   "execution_count": 99,
   "outputs": [
    {
     "name": "stdout",
     "output_type": "stream",
     "text": [
      "<class 'pandas.core.frame.DataFrame'>\n",
      "RangeIndex: 5962924 entries, 0 to 5962923\n",
      "Columns: 9 entries, Unnamed: 0 to salary\n",
      "dtypes: float64(2), int64(3), object(4)\n",
      "memory usage: 409.4+ MB\n"
     ]
    }
   ]
  },
  {
   "cell_type": "code",
   "source": [
    "#Hacemos un drop del atributo \"Unnamed: 0\" ya que no aporta ninguna información.\n",
    "sociodemographic_df.drop('Unnamed: 0', axis=1, inplace=True)"
   ],
   "metadata": {
    "id": "aUIgY1K7--D2"
   },
   "execution_count": 100,
   "outputs": []
  },
  {
   "cell_type": "code",
   "source": [
    "#Buscamos cuáles son los campus que contienen nulos.\n",
    "sociodemographic_df.isnull().sum()"
   ],
   "metadata": {
    "id": "OgTfBwUT_-Cu"
   },
   "execution_count": 101,
   "outputs": [
    {
     "data": {
      "text/plain": "pk_cid                0\npk_partition          0\ncountry_id            0\nregion_code        2264\ngender               25\nage                   0\ndeceased              0\nsalary          1512103\ndtype: int64"
     },
     "execution_count": 101,
     "metadata": {},
     "output_type": "execute_result"
    }
   ]
  },
  {
   "cell_type": "code",
   "source": [
    "#Añadimos las variables que contienen nulos \n",
    "nulos = [\"entry_channel\", \"segment\", \"payroll\", \"pension_plan\", \"region_code\", \"gender\", \"salary\"]"
   ],
   "metadata": {
    "id": "l5FBAJUWeIGC"
   },
   "execution_count": 102,
   "outputs": []
  },
  {
   "cell_type": "code",
   "source": [
    "sociodemographic_df.describe()"
   ],
   "metadata": {
    "id": "ppLvVeH-BUgq"
   },
   "execution_count": 103,
   "outputs": [
    {
     "data": {
      "text/plain": "             pk_cid   region_code           age        salary\ncount  5.962924e+06  5.960660e+06  5.962924e+06  4.450821e+06\nmean   1.234930e+06  2.581440e+01  2.976042e+01  1.158167e+05\nstd    1.623020e+05  1.359566e+01  1.198038e+01  1.995519e+05\nmin    1.589100e+04  1.000000e+00  2.000000e+00  1.202730e+03\n25%    1.112532e+06  1.300000e+01  2.200000e+01  6.150063e+04\n50%    1.231097e+06  2.800000e+01  2.500000e+01  8.865465e+04\n75%    1.352339e+06  3.600000e+01  3.400000e+01  1.316699e+05\nmax    1.553689e+06  5.200000e+01  1.050000e+02  2.889440e+07",
      "text/html": "<div>\n<style scoped>\n    .dataframe tbody tr th:only-of-type {\n        vertical-align: middle;\n    }\n\n    .dataframe tbody tr th {\n        vertical-align: top;\n    }\n\n    .dataframe thead th {\n        text-align: right;\n    }\n</style>\n<table border=\"1\" class=\"dataframe\">\n  <thead>\n    <tr style=\"text-align: right;\">\n      <th></th>\n      <th>pk_cid</th>\n      <th>region_code</th>\n      <th>age</th>\n      <th>salary</th>\n    </tr>\n  </thead>\n  <tbody>\n    <tr>\n      <th>count</th>\n      <td>5.962924e+06</td>\n      <td>5.960660e+06</td>\n      <td>5.962924e+06</td>\n      <td>4.450821e+06</td>\n    </tr>\n    <tr>\n      <th>mean</th>\n      <td>1.234930e+06</td>\n      <td>2.581440e+01</td>\n      <td>2.976042e+01</td>\n      <td>1.158167e+05</td>\n    </tr>\n    <tr>\n      <th>std</th>\n      <td>1.623020e+05</td>\n      <td>1.359566e+01</td>\n      <td>1.198038e+01</td>\n      <td>1.995519e+05</td>\n    </tr>\n    <tr>\n      <th>min</th>\n      <td>1.589100e+04</td>\n      <td>1.000000e+00</td>\n      <td>2.000000e+00</td>\n      <td>1.202730e+03</td>\n    </tr>\n    <tr>\n      <th>25%</th>\n      <td>1.112532e+06</td>\n      <td>1.300000e+01</td>\n      <td>2.200000e+01</td>\n      <td>6.150063e+04</td>\n    </tr>\n    <tr>\n      <th>50%</th>\n      <td>1.231097e+06</td>\n      <td>2.800000e+01</td>\n      <td>2.500000e+01</td>\n      <td>8.865465e+04</td>\n    </tr>\n    <tr>\n      <th>75%</th>\n      <td>1.352339e+06</td>\n      <td>3.600000e+01</td>\n      <td>3.400000e+01</td>\n      <td>1.316699e+05</td>\n    </tr>\n    <tr>\n      <th>max</th>\n      <td>1.553689e+06</td>\n      <td>5.200000e+01</td>\n      <td>1.050000e+02</td>\n      <td>2.889440e+07</td>\n    </tr>\n  </tbody>\n</table>\n</div>"
     },
     "execution_count": 103,
     "metadata": {},
     "output_type": "execute_result"
    }
   ]
  },
  {
   "cell_type": "code",
   "source": [
    "len(sociodemographic_df.columns)"
   ],
   "metadata": {
    "id": "JiqrNb9rBuf4"
   },
   "execution_count": 104,
   "outputs": [
    {
     "data": {
      "text/plain": "8"
     },
     "execution_count": 104,
     "metadata": {},
     "output_type": "execute_result"
    }
   ]
  },
  {
   "cell_type": "code",
   "source": [
    "sociodemographic_df.shape"
   ],
   "metadata": {
    "id": "_6S-l4PxCFnN"
   },
   "execution_count": 105,
   "outputs": [
    {
     "data": {
      "text/plain": "(5962924, 8)"
     },
     "execution_count": 105,
     "metadata": {},
     "output_type": "execute_result"
    }
   ]
  },
  {
   "cell_type": "code",
   "source": [
    "#Verficiamos que no existen entradas duplicadas\n",
    "sociodemographic_df[sociodemographic_df.duplicated(keep=False)]"
   ],
   "metadata": {
    "id": "1vm5P2WzCH4E"
   },
   "execution_count": 106,
   "outputs": [
    {
     "data": {
      "text/plain": "Empty DataFrame\nColumns: [pk_cid, pk_partition, country_id, region_code, gender, age, deceased, salary]\nIndex: []",
      "text/html": "<div>\n<style scoped>\n    .dataframe tbody tr th:only-of-type {\n        vertical-align: middle;\n    }\n\n    .dataframe tbody tr th {\n        vertical-align: top;\n    }\n\n    .dataframe thead th {\n        text-align: right;\n    }\n</style>\n<table border=\"1\" class=\"dataframe\">\n  <thead>\n    <tr style=\"text-align: right;\">\n      <th></th>\n      <th>pk_cid</th>\n      <th>pk_partition</th>\n      <th>country_id</th>\n      <th>region_code</th>\n      <th>gender</th>\n      <th>age</th>\n      <th>deceased</th>\n      <th>salary</th>\n    </tr>\n  </thead>\n  <tbody>\n  </tbody>\n</table>\n</div>"
     },
     "execution_count": 106,
     "metadata": {},
     "output_type": "execute_result"
    }
   ]
  },
  {
   "cell_type": "code",
   "source": [
    "#Observamos el tipo de datos que contiene el data set\n",
    "sociodemographic_df.dtypes"
   ],
   "metadata": {
    "id": "lohTSy44Cedh"
   },
   "execution_count": 107,
   "outputs": [
    {
     "data": {
      "text/plain": "pk_cid            int64\npk_partition     object\ncountry_id       object\nregion_code     float64\ngender           object\nage               int64\ndeceased         object\nsalary          float64\ndtype: object"
     },
     "execution_count": 107,
     "metadata": {},
     "output_type": "execute_result"
    }
   ]
  },
  {
   "cell_type": "markdown",
   "source": [
    "#### Fechas \n",
    "\n",
    "\n",
    "*   Pk_partition\n",
    "\n"
   ],
   "metadata": {
    "id": "S1SNszmJDEhG"
   }
  },
  {
   "cell_type": "markdown",
   "source": [
    "#### Categóricas \n",
    "*   pk_cid\n",
    "*   country_id\n",
    "*   region_code\n",
    "\n",
    "\n",
    "\n"
   ],
   "metadata": {
    "id": "-YyvRQJmdS0Q"
   }
  },
  {
   "cell_type": "markdown",
   "source": [
    "##### Country_id"
   ],
   "metadata": {
    "id": "dcNo0uPn01_-"
   }
  },
  {
   "cell_type": "code",
   "source": [
    "sociodemographic_df[\"country_id\"].value_counts()"
   ],
   "metadata": {
    "id": "Kceu1IKY07I9"
   },
   "execution_count": 108,
   "outputs": [
    {
     "data": {
      "text/plain": "ES    5960672\nGB        441\nFR        225\nDE        199\nUS        195\nCH        194\nBR         87\nBE         81\nVE         79\nIE         68\nMX         58\nAT         51\nAR         51\nPL         49\nIT         45\nMA         34\nCL         30\nCN         28\nCA         22\nLU         17\nET         17\nQA         17\nCI         17\nSA         17\nCM         17\nSN         17\nMR         17\nNO         17\nRU         17\nCO         17\nGA         17\nGT         17\nDO         17\nSE         16\nDJ         11\nPT         11\nJM         11\nRO          9\nHU          8\nDZ          7\nPE          4\nName: country_id, dtype: int64"
     },
     "execution_count": 108,
     "metadata": {},
     "output_type": "execute_result"
    }
   ]
  },
  {
   "cell_type": "code",
   "source": [
    "df[\"country_id\"] = other_selection(df, \"country_id\", 1)\n",
    "sociodemographic_df[\"country_id\"] = other_selection(df, \"country_id\", 1)"
   ],
   "metadata": {
    "id": "g-xS3AX8MAcH"
   },
   "execution_count": 109,
   "outputs": []
  },
  {
   "cell_type": "code",
   "source": [
    "df[\"country_id\"].value_counts()"
   ],
   "metadata": {
    "id": "RnzeEgW4MPfO"
   },
   "execution_count": 110,
   "outputs": [
    {
     "data": {
      "text/plain": "ES        5960611\nOthers       2252\nName: country_id, dtype: int64"
     },
     "execution_count": 110,
     "metadata": {},
     "output_type": "execute_result"
    }
   ]
  },
  {
   "cell_type": "markdown",
   "source": [
    "##### Region_code"
   ],
   "metadata": {
    "id": "aInwZSxsNYqv"
   }
  },
  {
   "cell_type": "code",
   "source": [
    "df[\"region_code\"].value_counts()"
   ],
   "metadata": {
    "id": "tjLHBG_7Nj8a"
   },
   "execution_count": 111,
   "outputs": [
    {
     "data": {
      "text/plain": "28.0    1185744\n8.0      600359\n46.0     358137\n30.0     296855\n41.0     290442\n15.0     254890\n29.0     187909\n36.0     175850\n3.0      171357\n11.0     160893\n33.0     134561\n50.0     132982\n6.0      122587\n35.0     121981\n47.0     116948\n18.0     102787\n45.0     102326\n37.0      92537\n10.0      83283\n14.0      75404\n2.0       72071\n21.0      72037\n13.0      70091\n39.0      69588\n12.0      68708\n7.0       62436\n32.0      54639\n27.0      52783\n43.0      51780\n17.0      50748\n9.0       47744\n25.0      46885\n16.0      36094\n24.0      35424\n48.0      35256\n26.0      34789\n4.0       32680\n31.0      31241\n49.0      30965\n23.0      30954\n38.0      29001\n34.0      27545\n19.0      26762\n40.0      21658\n5.0       21300\n22.0      21112\n20.0      18833\n1.0       12998\n44.0      12616\n42.0       8500\n51.0       2896\n52.0       2633\nName: region_code, dtype: int64"
     },
     "execution_count": 111,
     "metadata": {},
     "output_type": "execute_result"
    }
   ]
  },
  {
   "cell_type": "markdown",
   "source": [
    "#### Numéricas\n",
    "\n",
    "*   Age\n",
    "*   Salary\n",
    "\n",
    "\n"
   ],
   "metadata": {
    "id": "gSqoHa3jdUqz"
   }
  },
  {
   "cell_type": "markdown",
   "source": [
    "##### Age\n",
    "Edad del cliente"
   ],
   "metadata": {
    "id": "uAUXnkUBrrYg"
   }
  },
  {
   "cell_type": "code",
   "source": [
    "sns.set_style(\"white\")\n",
    "sns.boxplot(x='age', data=sociodemographic_df, width=0.3, palette=\"Set2\", linewidth=1.5, ).set(\n",
    "    title='Distribución de la edad de los clientes')\n",
    "plt.show()"
   ],
   "metadata": {
    "id": "Gu_YIYRdvaoz"
   },
   "execution_count": 112,
   "outputs": [
    {
     "data": {
      "text/plain": "<Figure size 432x288 with 1 Axes>",
      "image/png": "[encoded data removed]"
     },
     "metadata": {},
     "output_type": "display_data"
    }
   ]
  },
  {
   "cell_type": "code",
   "source": [
    "ax = sociodemographic_df.hist(column='age', bins=25, grid=False, figsize=(8, 8), color='#86bf91', zorder=2, rwidth=1.5)\n",
    "plt.title('Distribución de la edad de los clientes', fontsize=14, pad=20)\n",
    "plt.show()"
   ],
   "metadata": {
    "id": "SMOdQMF5jlZ3"
   },
   "execution_count": 113,
   "outputs": [
    {
     "data": {
      "text/plain": "<Figure size 576x576 with 1 Axes>",
      "image/png": "[encoded data removed]"
     },
     "metadata": {},
     "output_type": "display_data"
    }
   ]
  },
  {
   "cell_type": "markdown",
   "source": [
    "##### Salary\n",
    "Ingresos brutos de la unidad familiar "
   ],
   "metadata": {
    "id": "AR1VDBVqi6jW"
   }
  },
  {
   "cell_type": "code",
   "source": [
    "sociodemographic_df[\"salary\"].value_counts().head()"
   ],
   "metadata": {
    "id": "L3nwB3uQjNAU"
   },
   "execution_count": 114,
   "outputs": [
    {
     "data": {
      "text/plain": "451931.22    760\n288997.44    546\n135522.15    466\n128318.52    458\n104563.80    436\nName: salary, dtype: int64"
     },
     "execution_count": 114,
     "metadata": {},
     "output_type": "execute_result"
    }
   ]
  },
  {
   "cell_type": "markdown",
   "source": [
    "###### Tratamiento de nulos de la variable Salary"
   ],
   "metadata": {
    "id": "0eEfliUU4Kz7"
   }
  },
  {
   "cell_type": "code",
   "source": [
    "#Substituímos los valores por un salario extremo como puede ser -1.\n",
    "sociodemographic_df[\"salary\"].fillna(-1, inplace=True)"
   ],
   "metadata": {
    "id": "hFpw9l8a4DM-"
   },
   "execution_count": 115,
   "outputs": []
  },
  {
   "cell_type": "code",
   "source": [
    "df[\"salary\"].fillna(-1, inplace=True)"
   ],
   "metadata": {
    "id": "USqO5RXR4IAg"
   },
   "execution_count": 116,
   "outputs": []
  },
  {
   "cell_type": "code",
   "source": [
    "df[\"salary\"].isnull().sum()"
   ],
   "metadata": {
    "id": "W0dUzozo4Pxd"
   },
   "execution_count": 117,
   "outputs": [
    {
     "data": {
      "text/plain": "0"
     },
     "execution_count": 117,
     "metadata": {},
     "output_type": "execute_result"
    }
   ]
  },
  {
   "cell_type": "markdown",
   "source": [
    "#### Booleanas\n",
    "*   deceased\n",
    "*   gender\n",
    "\n"
   ],
   "metadata": {
    "id": "vyhWOgRDSGPE"
   }
  },
  {
   "cell_type": "markdown",
   "source": [
    "##### Gender\n",
    "Género del cliente"
   ],
   "metadata": {
    "id": "bEmvv42BWBzW"
   }
  },
  {
   "cell_type": "markdown",
   "source": [
    "La distribución del género de nuestra base de clientes es prácticamente equitativa con un 52% de hombres y un 48% de mujeres."
   ],
   "metadata": {
    "id": "1JKs7YSaoQ7G"
   }
  },
  {
   "cell_type": "code",
   "source": [
    "my_labels = [\"Hombres\", \"Mujeres\"]\n",
    "my_explode = (0, 0.04)\n",
    "ax = sociodemographic_df.groupby('gender').size().plot(kind='pie', startangle=15, labels=my_labels, autopct='%1.0f%%',\n",
    "                                                       figsize=(6, 6), shadow=True, colors=['#FF7AA2', \"#20c8b3\"],\n",
    "                                                       explode=my_explode)\n",
    "ax.set_title(\"Distribución de clientes por género\", fontsize=14)\n",
    "plt.ylabel(\"\")\n",
    "plt.show()"
   ],
   "metadata": {
    "id": "i0-VdI_kUrmY"
   },
   "execution_count": 118,
   "outputs": [
    {
     "data": {
      "text/plain": "<Figure size 432x432 with 1 Axes>",
      "image/png": "[encoded data removed]"
     },
     "metadata": {},
     "output_type": "display_data"
    }
   ]
  },
  {
   "cell_type": "code",
   "source": [
    "sociodemographic_df.dropna(subset=['gender'], inplace=True)"
   ],
   "metadata": {
    "id": "oAjuj1pn3Uax"
   },
   "execution_count": 119,
   "outputs": []
  },
  {
   "cell_type": "code",
   "source": [
    "df.dropna(subset=['gender'], inplace=True)"
   ],
   "metadata": {
    "id": "67_-dogd3kv3"
   },
   "execution_count": 120,
   "outputs": []
  },
  {
   "cell_type": "code",
   "source": [
    "df[\"gender\"].isnull().sum()"
   ],
   "metadata": {
    "id": "3UPZccTz3rrF"
   },
   "execution_count": 121,
   "outputs": [
    {
     "data": {
      "text/plain": "0"
     },
     "execution_count": 121,
     "metadata": {},
     "output_type": "execute_result"
    }
   ]
  },
  {
   "cell_type": "markdown",
   "source": [
    "##### Deceased"
   ],
   "metadata": {
    "id": "_7dsAs9PT4Tt"
   }
  },
  {
   "cell_type": "code",
   "source": [
    "sociodemographic_df[\"deceased\"].value_counts()"
   ],
   "metadata": {
    "id": "k9v9n6sCT-xr"
   },
   "execution_count": 122,
   "outputs": [
    {
     "data": {
      "text/plain": "N    5961824\nS       1075\nName: deceased, dtype: int64"
     },
     "execution_count": 122,
     "metadata": {},
     "output_type": "execute_result"
    }
   ]
  },
  {
   "cell_type": "markdown",
   "source": [
    "### Visualizaciones y análisis multivariante"
   ],
   "metadata": {
    "id": "0IBWiPS9WKsu"
   }
  },
  {
   "cell_type": "markdown",
   "source": [
    "#### Distribución de las edades según el género "
   ],
   "metadata": {
    "id": "q75-G4roiM7q"
   }
  },
  {
   "cell_type": "code",
   "source": [
    "ax = sns.violinplot(data=df, x='gender', y='age', figsize=(6, 6))\n",
    "ax.set_title(\"Distribución de las edades según el género\", fontsize=14, pad=20)\n",
    "plt.show()"
   ],
   "metadata": {
    "id": "6SdZbN5hyT5G"
   },
   "execution_count": 123,
   "outputs": [
    {
     "data": {
      "text/plain": "<Figure size 432x288 with 1 Axes>",
      "image/png": "[encoded data removed]"
     },
     "metadata": {},
     "output_type": "display_data"
    }
   ]
  },
  {
   "cell_type": "markdown",
   "source": [
    "#### Visualización de las edades de los cientes que tienen un plan de pensión. "
   ],
   "metadata": {
    "id": "qqNyncmDEwC6"
   }
  },
  {
   "cell_type": "code",
   "source": [
    "df.loc[df[\"pension_plan\"] == 1, \"age\"].hist(bins=30)"
   ],
   "metadata": {
    "id": "4T4IX15PE0Cp"
   },
   "execution_count": 124,
   "outputs": [
    {
     "data": {
      "text/plain": "<AxesSubplot:>"
     },
     "execution_count": 124,
     "metadata": {},
     "output_type": "execute_result"
    },
    {
     "data": {
      "text/plain": "<Figure size 432x288 with 1 Axes>",
      "image/png": "[encoded data removed]"
     },
     "metadata": {},
     "output_type": "display_data"
    }
   ]
  },
  {
   "cell_type": "markdown",
   "source": [
    "#### Visualización de las edades de los cientes que tienen hipotecas. "
   ],
   "metadata": {
    "id": "1h9pHxDIEnp9"
   }
  },
  {
   "cell_type": "code",
   "source": [
    "df.loc[df[\"mortgage\"] == 1, \"age\"].hist(bins=30)"
   ],
   "metadata": {
    "id": "RxyreITXEqcZ"
   },
   "execution_count": 125,
   "outputs": [
    {
     "data": {
      "text/plain": "<AxesSubplot:>"
     },
     "execution_count": 125,
     "metadata": {},
     "output_type": "execute_result"
    },
    {
     "data": {
      "text/plain": "<Figure size 432x288 with 1 Axes>",
      "image/png": "[encoded data removed]"
     },
     "metadata": {},
     "output_type": "display_data"
    }
   ]
  },
  {
   "cell_type": "markdown",
   "source": [
    "#### Visualización de las edades de los cientes que tienen productos de inversión. "
   ],
   "metadata": {
    "id": "K01sCarY7yAQ"
   }
  },
  {
   "cell_type": "code",
   "source": [
    "df.loc[df[\"InvestmentProducts\"] == 1, \"age\"].hist(bins=30)"
   ],
   "metadata": {
    "id": "qEX6ZOCM70aN"
   },
   "execution_count": 126,
   "outputs": [
    {
     "data": {
      "text/plain": "<AxesSubplot:>"
     },
     "execution_count": 126,
     "metadata": {},
     "output_type": "execute_result"
    },
    {
     "data": {
      "text/plain": "<Figure size 432x288 with 1 Axes>",
      "image/png": "[encoded data removed]"
     },
     "metadata": {},
     "output_type": "display_data"
    }
   ]
  },
  {
   "cell_type": "markdown",
   "source": [
    "#### Ventas de productos de financiación"
   ],
   "metadata": {
    "id": "RUJHw9ax_RSb"
   }
  },
  {
   "cell_type": "code",
   "source": [
    "Ventas_FinancialProducts = pd.pivot_table(data=df, index=[\"pk_partition_Year\", \"pk_partition_Month\"],\n",
    "                                          values=[\"credit_card\", \"mortgage\", \"loans\", \"FinancialProducts\"],\n",
    "                                          aggfunc=[sum, len, np.median])"
   ],
   "metadata": {
    "id": "q3xJEqrkBkdP"
   },
   "execution_count": 127,
   "outputs": []
  },
  {
   "cell_type": "code",
   "source": [
    "Ventas_FinancialProducts"
   ],
   "metadata": {
    "id": "PufmPDv5C6bE"
   },
   "execution_count": 128,
   "outputs": [
    {
     "data": {
      "text/plain": "                                                   sum                    \\\n                                     FinancialProducts credit_card loans   \npk_partition_Year pk_partition_Month                                       \n2018              1                               3342        3325    19   \n                  2                               3301        3282    19   \n                  3                               3536        3511    23   \n                  4                               3751        3725    24   \n                  5                               3825        3797    27   \n                  6                               4030        4002    27   \n                  7                               4168        4137    28   \n                  8                               4234        4206    29   \n                  9                               4316        4289    31   \n                  10                              4415        4385    33   \n                  11                              4540        4512    32   \n                  12                              4561        4536    30   \n2019              1                               4518        4493    28   \n                  2                               4566        4542    29   \n                  3                               4601        4576    29   \n                  4                               4778        4747    30   \n                  5                               4831        4801    30   \n\n                                                            len              \\\n                                     mortgage FinancialProducts credit_card   \npk_partition_Year pk_partition_Month                                          \n2018              1                        15            239476      239476   \n                  2                        15            242507      242507   \n                  3                        17            245247      245247   \n                  4                        17            247452      247452   \n                  5                        18            249915      249915   \n                  6                        19            252103      252103   \n                  7                        20            339338      339338   \n                  8                        20            352920      352920   \n                  9                        20            375321      375321   \n                  10                       19            402298      402298   \n                  11                       19            416385      416385   \n                  12                       19            422479      422479   \n2019              1                        20            426873      426873   \n                  2                        20            431725      431725   \n                  3                        20            436181      436181   \n                  4                        23            439625      439625   \n                  5                        23            442993      442993   \n\n                                                                 median  \\\n                                       loans mortgage FinancialProducts   \npk_partition_Year pk_partition_Month                                      \n2018              1                   239476   239476                 0   \n                  2                   242507   242507                 0   \n                  3                   245247   245247                 0   \n                  4                   247452   247452                 0   \n                  5                   249915   249915                 0   \n                  6                   252103   252103                 0   \n                  7                   339338   339338                 0   \n                  8                   352920   352920                 0   \n                  9                   375321   375321                 0   \n                  10                  402298   402298                 0   \n                  11                  416385   416385                 0   \n                  12                  422479   422479                 0   \n2019              1                   426873   426873                 0   \n                  2                   431725   431725                 0   \n                  3                   436181   436181                 0   \n                  4                   439625   439625                 0   \n                  5                   442993   442993                 0   \n\n                                                                 \n                                     credit_card loans mortgage  \npk_partition_Year pk_partition_Month                             \n2018              1                            0     0        0  \n                  2                            0     0        0  \n                  3                            0     0        0  \n                  4                            0     0        0  \n                  5                            0     0        0  \n                  6                            0     0        0  \n                  7                            0     0        0  \n                  8                            0     0        0  \n                  9                            0     0        0  \n                  10                           0     0        0  \n                  11                           0     0        0  \n                  12                           0     0        0  \n2019              1                            0     0        0  \n                  2                            0     0        0  \n                  3                            0     0        0  \n                  4                            0     0        0  \n                  5                            0     0        0  ",
      "text/html": "<div>\n<style scoped>\n    .dataframe tbody tr th:only-of-type {\n        vertical-align: middle;\n    }\n\n    .dataframe tbody tr th {\n        vertical-align: top;\n    }\n\n    .dataframe thead tr th {\n        text-align: left;\n    }\n\n    .dataframe thead tr:last-of-type th {\n        text-align: right;\n    }\n</style>\n<table border=\"1\" class=\"dataframe\">\n  <thead>\n    <tr>\n      <th></th>\n      <th></th>\n      <th colspan=\"4\" halign=\"left\">sum</th>\n      <th colspan=\"4\" halign=\"left\">len</th>\n      <th colspan=\"4\" halign=\"left\">median</th>\n    </tr>\n    <tr>\n      <th></th>\n      <th></th>\n      <th>FinancialProducts</th>\n      <th>credit_card</th>\n      <th>loans</th>\n      <th>mortgage</th>\n      <th>FinancialProducts</th>\n      <th>credit_card</th>\n      <th>loans</th>\n      <th>mortgage</th>\n      <th>FinancialProducts</th>\n      <th>credit_card</th>\n      <th>loans</th>\n      <th>mortgage</th>\n    </tr>\n    <tr>\n      <th>pk_partition_Year</th>\n      <th>pk_partition_Month</th>\n      <th></th>\n      <th></th>\n      <th></th>\n      <th></th>\n      <th></th>\n      <th></th>\n      <th></th>\n      <th></th>\n      <th></th>\n      <th></th>\n      <th></th>\n      <th></th>\n    </tr>\n  </thead>\n  <tbody>\n    <tr>\n      <th rowspan=\"12\" valign=\"top\">2018</th>\n      <th>1</th>\n      <td>3342</td>\n      <td>3325</td>\n      <td>19</td>\n      <td>15</td>\n      <td>239476</td>\n      <td>239476</td>\n      <td>239476</td>\n      <td>239476</td>\n      <td>0</td>\n      <td>0</td>\n      <td>0</td>\n      <td>0</td>\n    </tr>\n    <tr>\n      <th>2</th>\n      <td>3301</td>\n      <td>3282</td>\n      <td>19</td>\n      <td>15</td>\n      <td>242507</td>\n      <td>242507</td>\n      <td>242507</td>\n      <td>242507</td>\n      <td>0</td>\n      <td>0</td>\n      <td>0</td>\n      <td>0</td>\n    </tr>\n    <tr>\n      <th>3</th>\n      <td>3536</td>\n      <td>3511</td>\n      <td>23</td>\n      <td>17</td>\n      <td>245247</td>\n      <td>245247</td>\n      <td>245247</td>\n      <td>245247</td>\n      <td>0</td>\n      <td>0</td>\n      <td>0</td>\n      <td>0</td>\n    </tr>\n    <tr>\n      <th>4</th>\n      <td>3751</td>\n      <td>3725</td>\n      <td>24</td>\n      <td>17</td>\n      <td>247452</td>\n      <td>247452</td>\n      <td>247452</td>\n      <td>247452</td>\n      <td>0</td>\n      <td>0</td>\n      <td>0</td>\n      <td>0</td>\n    </tr>\n    <tr>\n      <th>5</th>\n      <td>3825</td>\n      <td>3797</td>\n      <td>27</td>\n      <td>18</td>\n      <td>249915</td>\n      <td>249915</td>\n      <td>249915</td>\n      <td>249915</td>\n      <td>0</td>\n      <td>0</td>\n      <td>0</td>\n      <td>0</td>\n    </tr>\n    <tr>\n      <th>6</th>\n      <td>4030</td>\n      <td>4002</td>\n      <td>27</td>\n      <td>19</td>\n      <td>252103</td>\n      <td>252103</td>\n      <td>252103</td>\n      <td>252103</td>\n      <td>0</td>\n      <td>0</td>\n      <td>0</td>\n      <td>0</td>\n    </tr>\n    <tr>\n      <th>7</th>\n      <td>4168</td>\n      <td>4137</td>\n      <td>28</td>\n      <td>20</td>\n      <td>339338</td>\n      <td>339338</td>\n      <td>339338</td>\n      <td>339338</td>\n      <td>0</td>\n      <td>0</td>\n      <td>0</td>\n      <td>0</td>\n    </tr>\n    <tr>\n      <th>8</th>\n      <td>4234</td>\n      <td>4206</td>\n      <td>29</td>\n      <td>20</td>\n      <td>352920</td>\n      <td>352920</td>\n      <td>352920</td>\n      <td>352920</td>\n      <td>0</td>\n      <td>0</td>\n      <td>0</td>\n      <td>0</td>\n    </tr>\n    <tr>\n      <th>9</th>\n      <td>4316</td>\n      <td>4289</td>\n      <td>31</td>\n      <td>20</td>\n      <td>375321</td>\n      <td>375321</td>\n      <td>375321</td>\n      <td>375321</td>\n      <td>0</td>\n      <td>0</td>\n      <td>0</td>\n      <td>0</td>\n    </tr>\n    <tr>\n      <th>10</th>\n      <td>4415</td>\n      <td>4385</td>\n      <td>33</td>\n      <td>19</td>\n      <td>402298</td>\n      <td>402298</td>\n      <td>402298</td>\n      <td>402298</td>\n      <td>0</td>\n      <td>0</td>\n      <td>0</td>\n      <td>0</td>\n    </tr>\n    <tr>\n      <th>11</th>\n      <td>4540</td>\n      <td>4512</td>\n      <td>32</td>\n      <td>19</td>\n      <td>416385</td>\n      <td>416385</td>\n      <td>416385</td>\n      <td>416385</td>\n      <td>0</td>\n      <td>0</td>\n      <td>0</td>\n      <td>0</td>\n    </tr>\n    <tr>\n      <th>12</th>\n      <td>4561</td>\n      <td>4536</td>\n      <td>30</td>\n      <td>19</td>\n      <td>422479</td>\n      <td>422479</td>\n      <td>422479</td>\n      <td>422479</td>\n      <td>0</td>\n      <td>0</td>\n      <td>0</td>\n      <td>0</td>\n    </tr>\n    <tr>\n      <th rowspan=\"5\" valign=\"top\">2019</th>\n      <th>1</th>\n      <td>4518</td>\n      <td>4493</td>\n      <td>28</td>\n      <td>20</td>\n      <td>426873</td>\n      <td>426873</td>\n      <td>426873</td>\n      <td>426873</td>\n      <td>0</td>\n      <td>0</td>\n      <td>0</td>\n      <td>0</td>\n    </tr>\n    <tr>\n      <th>2</th>\n      <td>4566</td>\n      <td>4542</td>\n      <td>29</td>\n      <td>20</td>\n      <td>431725</td>\n      <td>431725</td>\n      <td>431725</td>\n      <td>431725</td>\n      <td>0</td>\n      <td>0</td>\n      <td>0</td>\n      <td>0</td>\n    </tr>\n    <tr>\n      <th>3</th>\n      <td>4601</td>\n      <td>4576</td>\n      <td>29</td>\n      <td>20</td>\n      <td>436181</td>\n      <td>436181</td>\n      <td>436181</td>\n      <td>436181</td>\n      <td>0</td>\n      <td>0</td>\n      <td>0</td>\n      <td>0</td>\n    </tr>\n    <tr>\n      <th>4</th>\n      <td>4778</td>\n      <td>4747</td>\n      <td>30</td>\n      <td>23</td>\n      <td>439625</td>\n      <td>439625</td>\n      <td>439625</td>\n      <td>439625</td>\n      <td>0</td>\n      <td>0</td>\n      <td>0</td>\n      <td>0</td>\n    </tr>\n    <tr>\n      <th>5</th>\n      <td>4831</td>\n      <td>4801</td>\n      <td>30</td>\n      <td>23</td>\n      <td>442993</td>\n      <td>442993</td>\n      <td>442993</td>\n      <td>442993</td>\n      <td>0</td>\n      <td>0</td>\n      <td>0</td>\n      <td>0</td>\n    </tr>\n  </tbody>\n</table>\n</div>"
     },
     "execution_count": 128,
     "metadata": {},
     "output_type": "execute_result"
    }
   ]
  },
  {
   "cell_type": "code",
   "source": [
    "plt.figure(figsize=[14, 7])\n",
    "plt.title(\"Ventas de productos de financiación\", fontsize=18, pad=20)\n",
    "plt.xlabel(\"Fecha de la venta\", fontsize=15)\n",
    "plt.ylabel(\"Número de vetas totales\", fontsize=15)\n",
    "Ventas_FinancialProducts[(\"sum\", \"FinancialProducts\")].plot(kind=\"line\", label=\"Productos de financiación\")\n",
    "Ventas_FinancialProducts[(\"sum\", \"credit_card\")].plot(kind=\"line\", label=\"Tarjetas de crédito\")\n",
    "Ventas_FinancialProducts[(\"sum\", \"loans\")].plot(kind=\"line\", label=\"Préstamos\")\n",
    "Ventas_FinancialProducts[(\"sum\", \"mortgage\")].plot(kind=\"line\", label=\"Hipotecas\")\n",
    "plt.legend()\n",
    "plt.show()"
   ],
   "metadata": {
    "id": "Wje6BoZFDgp9"
   },
   "execution_count": 129,
   "outputs": [
    {
     "data": {
      "text/plain": "<Figure size 1008x504 with 1 Axes>",
      "image/png": "[encoded data removed]"
     },
     "metadata": {},
     "output_type": "display_data"
    }
   ]
  },
  {
   "cell_type": "markdown",
   "source": [
    "#### Ventas de productos de inversión"
   ],
   "metadata": {
    "id": "3gSiZGof0ZVh"
   }
  },
  {
   "cell_type": "code",
   "source": [
    "Ventas_InvestmentProducts = pd.pivot_table(data=df, index=[\"pk_partition_Year\", \"pk_partition_Month\"],\n",
    "                                           values=[\"funds\", \"long_term_deposit\", \"short_term_deposit\", \"securities\",\n",
    "                                                   \"InvestmentProducts\", \"pension_plan\"], aggfunc=[sum, len, np.median])"
   ],
   "metadata": {
    "id": "O1P59Jx28AiK"
   },
   "execution_count": 130,
   "outputs": []
  },
  {
   "cell_type": "code",
   "source": [
    "Ventas_InvestmentProducts"
   ],
   "metadata": {
    "id": "Vuq_l_yq8kG1"
   },
   "execution_count": 131,
   "outputs": [
    {
     "data": {
      "text/plain": "                                                    sum        \\\n                                     InvestmentProducts funds   \npk_partition_Year pk_partition_Month                            \n2018              1                             15371.0   786   \n                  2                             16596.0   872   \n                  3                             17364.0   969   \n                  4                             18275.0  1084   \n                  5                             17947.0  1145   \n                  6                             19417.0  1159   \n                  7                             20820.0  1172   \n                  8                             20473.0  1219   \n                  9                             21256.0  1237   \n                  10                            22140.0  1249   \n                  11                            22483.0  1282   \n                  12                            23806.0  1322   \n2019              1                             20942.0  1330   \n                  2                             23516.0  1316   \n                  3                             24150.0  1322   \n                  4                             24270.0  1320   \n                  5                             25197.0  1315   \n\n                                                                     \\\n                                     long_term_deposit pension_plan   \npk_partition_Year pk_partition_Month                                  \n2018              1                               4884       8835.0   \n                  2                               4956       9496.0   \n                  3                               4965       9882.0   \n                  4                               5107      10560.0   \n                  5                               5356      10148.0   \n                  6                               5588      11635.0   \n                  7                               5796      12779.0   \n                  8                               5923      12126.0   \n                  9                               6158      12624.0   \n                  10                              6380      13223.0   \n                  11                              6447      13818.0   \n                  12                              6749      15324.0   \n2019              1                               6659      12538.0   \n                  2                               6658      15265.0   \n                  3                               6537      15976.0   \n                  4                               6368      16220.0   \n                  5                               6129      17353.0   \n\n                                                                    \\\n                                     securities short_term_deposit   \npk_partition_Year pk_partition_Month                                 \n2018              1                         932                883   \n                  2                         965               1343   \n                  3                         965               1664   \n                  4                         983               1740   \n                  5                        1012               1455   \n                  6                        1019               1244   \n                  7                        1053               1282   \n                  8                        1133               1335   \n                  9                        1201               1386   \n                  10                       1348               1374   \n                  11                       1360               1018   \n                  12                       1420                528   \n2019              1                        1655                125   \n                  2                        1747                 11   \n                  3                        1769                  2   \n                  4                        1782                  2   \n                  5                        1789                  2   \n\n                                                    len          \\\n                                     InvestmentProducts   funds   \npk_partition_Year pk_partition_Month                              \n2018              1                              239476  239476   \n                  2                              242507  242507   \n                  3                              245247  245247   \n                  4                              247452  247452   \n                  5                              249915  249915   \n                  6                              252103  252103   \n                  7                              339338  339338   \n                  8                              352920  352920   \n                  9                              375321  375321   \n                  10                             402298  402298   \n                  11                             416385  416385   \n                  12                             422479  422479   \n2019              1                              426873  426873   \n                  2                              431725  431725   \n                  3                              436181  436181   \n                  4                              439625  439625   \n                  5                              442993  442993   \n\n                                                                     \\\n                                     long_term_deposit pension_plan   \npk_partition_Year pk_partition_Month                                  \n2018              1                             239476       239476   \n                  2                             242507       242507   \n                  3                             245247       245247   \n                  4                             247452       247452   \n                  5                             249915       249915   \n                  6                             252103       252103   \n                  7                             339338       339338   \n                  8                             352920       352920   \n                  9                             375321       375321   \n                  10                            402298       402298   \n                  11                            416385       416385   \n                  12                            422479       422479   \n2019              1                             426873       426873   \n                  2                             431725       431725   \n                  3                             436181       436181   \n                  4                             439625       439625   \n                  5                             442993       442993   \n\n                                                                    \\\n                                     securities short_term_deposit   \npk_partition_Year pk_partition_Month                                 \n2018              1                      239476             239476   \n                  2                      242507             242507   \n                  3                      245247             245247   \n                  4                      247452             247452   \n                  5                      249915             249915   \n                  6                      252103             252103   \n                  7                      339338             339338   \n                  8                      352920             352920   \n                  9                      375321             375321   \n                  10                     402298             402298   \n                  11                     416385             416385   \n                  12                     422479             422479   \n2019              1                      426873             426873   \n                  2                      431725             431725   \n                  3                      436181             436181   \n                  4                      439625             439625   \n                  5                      442993             442993   \n\n                                                 median        \\\n                                     InvestmentProducts funds   \npk_partition_Year pk_partition_Month                            \n2018              1                                 0.0     0   \n                  2                                 0.0     0   \n                  3                                 0.0     0   \n                  4                                 0.0     0   \n                  5                                 0.0     0   \n                  6                                 0.0     0   \n                  7                                 0.0     0   \n                  8                                 0.0     0   \n                  9                                 0.0     0   \n                  10                                0.0     0   \n                  11                                0.0     0   \n                  12                                0.0     0   \n2019              1                                 0.0     0   \n                  2                                 0.0     0   \n                  3                                 0.0     0   \n                  4                                 0.0     0   \n                  5                                 0.0     0   \n\n                                                                     \\\n                                     long_term_deposit pension_plan   \npk_partition_Year pk_partition_Month                                  \n2018              1                                  0          0.0   \n                  2                                  0          0.0   \n                  3                                  0          0.0   \n                  4                                  0          0.0   \n                  5                                  0          0.0   \n                  6                                  0          0.0   \n                  7                                  0          0.0   \n                  8                                  0          0.0   \n                  9                                  0          0.0   \n                  10                                 0          0.0   \n                  11                                 0          0.0   \n                  12                                 0          0.0   \n2019              1                                  0          0.0   \n                  2                                  0          0.0   \n                  3                                  0          0.0   \n                  4                                  0          0.0   \n                  5                                  0          0.0   \n\n                                                                    \n                                     securities short_term_deposit  \npk_partition_Year pk_partition_Month                                \n2018              1                           0                  0  \n                  2                           0                  0  \n                  3                           0                  0  \n                  4                           0                  0  \n                  5                           0                  0  \n                  6                           0                  0  \n                  7                           0                  0  \n                  8                           0                  0  \n                  9                           0                  0  \n                  10                          0                  0  \n                  11                          0                  0  \n                  12                          0                  0  \n2019              1                           0                  0  \n                  2                           0                  0  \n                  3                           0                  0  \n                  4                           0                  0  \n                  5                           0                  0  ",
      "text/html": "<div>\n<style scoped>\n    .dataframe tbody tr th:only-of-type {\n        vertical-align: middle;\n    }\n\n    .dataframe tbody tr th {\n        vertical-align: top;\n    }\n\n    .dataframe thead tr th {\n        text-align: left;\n    }\n\n    .dataframe thead tr:last-of-type th {\n        text-align: right;\n    }\n</style>\n<table border=\"1\" class=\"dataframe\">\n  <thead>\n    <tr>\n      <th></th>\n      <th></th>\n      <th colspan=\"6\" halign=\"left\">sum</th>\n      <th colspan=\"6\" halign=\"left\">len</th>\n      <th colspan=\"6\" halign=\"left\">median</th>\n    </tr>\n    <tr>\n      <th></th>\n      <th></th>\n      <th>InvestmentProducts</th>\n      <th>funds</th>\n      <th>long_term_deposit</th>\n      <th>pension_plan</th>\n      <th>securities</th>\n      <th>short_term_deposit</th>\n      <th>InvestmentProducts</th>\n      <th>funds</th>\n      <th>long_term_deposit</th>\n      <th>pension_plan</th>\n      <th>securities</th>\n      <th>short_term_deposit</th>\n      <th>InvestmentProducts</th>\n      <th>funds</th>\n      <th>long_term_deposit</th>\n      <th>pension_plan</th>\n      <th>securities</th>\n      <th>short_term_deposit</th>\n    </tr>\n    <tr>\n      <th>pk_partition_Year</th>\n      <th>pk_partition_Month</th>\n      <th></th>\n      <th></th>\n      <th></th>\n      <th></th>\n      <th></th>\n      <th></th>\n      <th></th>\n      <th></th>\n      <th></th>\n      <th></th>\n      <th></th>\n      <th></th>\n      <th></th>\n      <th></th>\n      <th></th>\n      <th></th>\n      <th></th>\n      <th></th>\n    </tr>\n  </thead>\n  <tbody>\n    <tr>\n      <th rowspan=\"12\" valign=\"top\">2018</th>\n      <th>1</th>\n      <td>15371.0</td>\n      <td>786</td>\n      <td>4884</td>\n      <td>8835.0</td>\n      <td>932</td>\n      <td>883</td>\n      <td>239476</td>\n      <td>239476</td>\n      <td>239476</td>\n      <td>239476</td>\n      <td>239476</td>\n      <td>239476</td>\n      <td>0.0</td>\n      <td>0</td>\n      <td>0</td>\n      <td>0.0</td>\n      <td>0</td>\n      <td>0</td>\n    </tr>\n    <tr>\n      <th>2</th>\n      <td>16596.0</td>\n      <td>872</td>\n      <td>4956</td>\n      <td>9496.0</td>\n      <td>965</td>\n      <td>1343</td>\n      <td>242507</td>\n      <td>242507</td>\n      <td>242507</td>\n      <td>242507</td>\n      <td>242507</td>\n      <td>242507</td>\n      <td>0.0</td>\n      <td>0</td>\n      <td>0</td>\n      <td>0.0</td>\n      <td>0</td>\n      <td>0</td>\n    </tr>\n    <tr>\n      <th>3</th>\n      <td>17364.0</td>\n      <td>969</td>\n      <td>4965</td>\n      <td>9882.0</td>\n      <td>965</td>\n      <td>1664</td>\n      <td>245247</td>\n      <td>245247</td>\n      <td>245247</td>\n      <td>245247</td>\n      <td>245247</td>\n      <td>245247</td>\n      <td>0.0</td>\n      <td>0</td>\n      <td>0</td>\n      <td>0.0</td>\n      <td>0</td>\n      <td>0</td>\n    </tr>\n    <tr>\n      <th>4</th>\n      <td>18275.0</td>\n      <td>1084</td>\n      <td>5107</td>\n      <td>10560.0</td>\n      <td>983</td>\n      <td>1740</td>\n      <td>247452</td>\n      <td>247452</td>\n      <td>247452</td>\n      <td>247452</td>\n      <td>247452</td>\n      <td>247452</td>\n      <td>0.0</td>\n      <td>0</td>\n      <td>0</td>\n      <td>0.0</td>\n      <td>0</td>\n      <td>0</td>\n    </tr>\n    <tr>\n      <th>5</th>\n      <td>17947.0</td>\n      <td>1145</td>\n      <td>5356</td>\n      <td>10148.0</td>\n      <td>1012</td>\n      <td>1455</td>\n      <td>249915</td>\n      <td>249915</td>\n      <td>249915</td>\n      <td>249915</td>\n      <td>249915</td>\n      <td>249915</td>\n      <td>0.0</td>\n      <td>0</td>\n      <td>0</td>\n      <td>0.0</td>\n      <td>0</td>\n      <td>0</td>\n    </tr>\n    <tr>\n      <th>6</th>\n      <td>19417.0</td>\n      <td>1159</td>\n      <td>5588</td>\n      <td>11635.0</td>\n      <td>1019</td>\n      <td>1244</td>\n      <td>252103</td>\n      <td>252103</td>\n      <td>252103</td>\n      <td>252103</td>\n      <td>252103</td>\n      <td>252103</td>\n      <td>0.0</td>\n      <td>0</td>\n      <td>0</td>\n      <td>0.0</td>\n      <td>0</td>\n      <td>0</td>\n    </tr>\n    <tr>\n      <th>7</th>\n      <td>20820.0</td>\n      <td>1172</td>\n      <td>5796</td>\n      <td>12779.0</td>\n      <td>1053</td>\n      <td>1282</td>\n      <td>339338</td>\n      <td>339338</td>\n      <td>339338</td>\n      <td>339338</td>\n      <td>339338</td>\n      <td>339338</td>\n      <td>0.0</td>\n      <td>0</td>\n      <td>0</td>\n      <td>0.0</td>\n      <td>0</td>\n      <td>0</td>\n    </tr>\n    <tr>\n      <th>8</th>\n      <td>20473.0</td>\n      <td>1219</td>\n      <td>5923</td>\n      <td>12126.0</td>\n      <td>1133</td>\n      <td>1335</td>\n      <td>352920</td>\n      <td>352920</td>\n      <td>352920</td>\n      <td>352920</td>\n      <td>352920</td>\n      <td>352920</td>\n      <td>0.0</td>\n      <td>0</td>\n      <td>0</td>\n      <td>0.0</td>\n      <td>0</td>\n      <td>0</td>\n    </tr>\n    <tr>\n      <th>9</th>\n      <td>21256.0</td>\n      <td>1237</td>\n      <td>6158</td>\n      <td>12624.0</td>\n      <td>1201</td>\n      <td>1386</td>\n      <td>375321</td>\n      <td>375321</td>\n      <td>375321</td>\n      <td>375321</td>\n      <td>375321</td>\n      <td>375321</td>\n      <td>0.0</td>\n      <td>0</td>\n      <td>0</td>\n      <td>0.0</td>\n      <td>0</td>\n      <td>0</td>\n    </tr>\n    <tr>\n      <th>10</th>\n      <td>22140.0</td>\n      <td>1249</td>\n      <td>6380</td>\n      <td>13223.0</td>\n      <td>1348</td>\n      <td>1374</td>\n      <td>402298</td>\n      <td>402298</td>\n      <td>402298</td>\n      <td>402298</td>\n      <td>402298</td>\n      <td>402298</td>\n      <td>0.0</td>\n      <td>0</td>\n      <td>0</td>\n      <td>0.0</td>\n      <td>0</td>\n      <td>0</td>\n    </tr>\n    <tr>\n      <th>11</th>\n      <td>22483.0</td>\n      <td>1282</td>\n      <td>6447</td>\n      <td>13818.0</td>\n      <td>1360</td>\n      <td>1018</td>\n      <td>416385</td>\n      <td>416385</td>\n      <td>416385</td>\n      <td>416385</td>\n      <td>416385</td>\n      <td>416385</td>\n      <td>0.0</td>\n      <td>0</td>\n      <td>0</td>\n      <td>0.0</td>\n      <td>0</td>\n      <td>0</td>\n    </tr>\n    <tr>\n      <th>12</th>\n      <td>23806.0</td>\n      <td>1322</td>\n      <td>6749</td>\n      <td>15324.0</td>\n      <td>1420</td>\n      <td>528</td>\n      <td>422479</td>\n      <td>422479</td>\n      <td>422479</td>\n      <td>422479</td>\n      <td>422479</td>\n      <td>422479</td>\n      <td>0.0</td>\n      <td>0</td>\n      <td>0</td>\n      <td>0.0</td>\n      <td>0</td>\n      <td>0</td>\n    </tr>\n    <tr>\n      <th rowspan=\"5\" valign=\"top\">2019</th>\n      <th>1</th>\n      <td>20942.0</td>\n      <td>1330</td>\n      <td>6659</td>\n      <td>12538.0</td>\n      <td>1655</td>\n      <td>125</td>\n      <td>426873</td>\n      <td>426873</td>\n      <td>426873</td>\n      <td>426873</td>\n      <td>426873</td>\n      <td>426873</td>\n      <td>0.0</td>\n      <td>0</td>\n      <td>0</td>\n      <td>0.0</td>\n      <td>0</td>\n      <td>0</td>\n    </tr>\n    <tr>\n      <th>2</th>\n      <td>23516.0</td>\n      <td>1316</td>\n      <td>6658</td>\n      <td>15265.0</td>\n      <td>1747</td>\n      <td>11</td>\n      <td>431725</td>\n      <td>431725</td>\n      <td>431725</td>\n      <td>431725</td>\n      <td>431725</td>\n      <td>431725</td>\n      <td>0.0</td>\n      <td>0</td>\n      <td>0</td>\n      <td>0.0</td>\n      <td>0</td>\n      <td>0</td>\n    </tr>\n    <tr>\n      <th>3</th>\n      <td>24150.0</td>\n      <td>1322</td>\n      <td>6537</td>\n      <td>15976.0</td>\n      <td>1769</td>\n      <td>2</td>\n      <td>436181</td>\n      <td>436181</td>\n      <td>436181</td>\n      <td>436181</td>\n      <td>436181</td>\n      <td>436181</td>\n      <td>0.0</td>\n      <td>0</td>\n      <td>0</td>\n      <td>0.0</td>\n      <td>0</td>\n      <td>0</td>\n    </tr>\n    <tr>\n      <th>4</th>\n      <td>24270.0</td>\n      <td>1320</td>\n      <td>6368</td>\n      <td>16220.0</td>\n      <td>1782</td>\n      <td>2</td>\n      <td>439625</td>\n      <td>439625</td>\n      <td>439625</td>\n      <td>439625</td>\n      <td>439625</td>\n      <td>439625</td>\n      <td>0.0</td>\n      <td>0</td>\n      <td>0</td>\n      <td>0.0</td>\n      <td>0</td>\n      <td>0</td>\n    </tr>\n    <tr>\n      <th>5</th>\n      <td>25197.0</td>\n      <td>1315</td>\n      <td>6129</td>\n      <td>17353.0</td>\n      <td>1789</td>\n      <td>2</td>\n      <td>442993</td>\n      <td>442993</td>\n      <td>442993</td>\n      <td>442993</td>\n      <td>442993</td>\n      <td>442993</td>\n      <td>0.0</td>\n      <td>0</td>\n      <td>0</td>\n      <td>0.0</td>\n      <td>0</td>\n      <td>0</td>\n    </tr>\n  </tbody>\n</table>\n</div>"
     },
     "execution_count": 131,
     "metadata": {},
     "output_type": "execute_result"
    }
   ]
  },
  {
   "cell_type": "code",
   "source": [
    "plt.figure(figsize=[14, 7])\n",
    "plt.title(\"Ventas de productos de inversión\", fontsize=18, pad=20)\n",
    "plt.xlabel(\"Fecha de la venta\", fontsize=15)\n",
    "plt.ylabel(\"Número de vetas totales\", fontsize=15)\n",
    "Ventas_InvestmentProducts[(\"sum\", \"InvestmentProducts\")].plot(kind=\"line\", label=\"Productos de inversión\")\n",
    "Ventas_InvestmentProducts[(\"sum\", \"funds\")].plot(kind=\"line\", label=\"Fondos de Inversión\")\n",
    "Ventas_InvestmentProducts[(\"sum\", \"long_term_deposit\")].plot(kind=\"line\", label=\"Depósitos a largo plazo\")\n",
    "Ventas_InvestmentProducts[(\"sum\", \"short_term_deposit\")].plot(kind=\"line\", label=\"Depósitos a corto plazo\")\n",
    "Ventas_InvestmentProducts[(\"sum\", \"securities\")].plot(kind=\"line\", label=\"Valores\")\n",
    "Ventas_InvestmentProducts[(\"sum\", \"pension_plan\")].plot(kind=\"line\", label=\"Planes de pensiones\")\n",
    "plt.legend()\n",
    "plt.show()"
   ],
   "metadata": {
    "id": "1QvgboH77lwT"
   },
   "execution_count": 132,
   "outputs": [
    {
     "data": {
      "text/plain": "<Figure size 1008x504 with 1 Axes>",
      "image/png": "[encoded data removed]"
     },
     "metadata": {},
     "output_type": "display_data"
    }
   ]
  },
  {
   "cell_type": "code",
   "source": [],
   "metadata": {
    "id": "CgCulcS99WDB"
   },
   "execution_count": 132,
   "outputs": []
  },
  {
   "cell_type": "markdown",
   "source": [
    "## ALFREDO"
   ],
   "metadata": {
    "collapsed": false,
    "pycharm": {
     "name": "#%% md\n"
    }
   }
  },
  {
   "cell_type": "code",
   "execution_count": 166,
   "outputs": [],
   "source": [
    "#### Borrar esta linea, es solo para no tomar en cuenta las columnas Unnamed: 0_...\n",
    "df_1 = pd.merge(left=commercial_df, right=sociodemographic_df, how=\"inner\", on=[\"pk_cid\", \"pk_partition\"])\n",
    "df = pd.merge(left=df_1, right=products_df, how=\"inner\", on=[\"pk_cid\", \"pk_partition\"])"
   ],
   "metadata": {
    "collapsed": false,
    "pycharm": {
     "name": "#%%\n"
    }
   }
  },
  {
   "cell_type": "markdown",
   "source": [
    "#### Months active"
   ],
   "metadata": {
    "collapsed": false,
    "pycharm": {
     "name": "#%% md\n"
    }
   }
  },
  {
   "cell_type": "code",
   "execution_count": 178,
   "outputs": [],
   "source": [
    "def get_max_consecutive(serie: pd.Series) -> int:\n",
    "    \"\"\"\n",
    "    Obtiene el maximo de meses consecutivos\n",
    "    :param serie: serie de booleanos que determinan si ese mes estuvo activo\n",
    "    :return: maximo de meses consecutivos\n",
    "    \"\"\"\n",
    "\n",
    "    counter = 0\n",
    "    segments = [0]\n",
    "    for i in serie:\n",
    "        if i == 1:\n",
    "            counter += 1\n",
    "        elif counter > 0:\n",
    "            segments.append(counter)\n",
    "            counter = 0\n",
    "\n",
    "    if counter > 0:\n",
    "        segments.append(counter)\n",
    "\n",
    "    return np.array(segments).max()"
   ],
   "metadata": {
    "collapsed": false,
    "pycharm": {
     "name": "#%%\n"
    }
   }
  },
  {
   "cell_type": "code",
   "execution_count": 187,
   "outputs": [],
   "source": [
    "month_active_df = df.groupby(\"pk_cid\").agg(\n",
    "    month_active=(\"active_customer\", get_max_consecutive)\n",
    ")"
   ],
   "metadata": {
    "collapsed": false,
    "pycharm": {
     "name": "#%%\n"
    }
   }
  },
  {
   "cell_type": "code",
   "execution_count": 189,
   "outputs": [
    {
     "name": "stdout",
     "output_type": "stream",
     "text": [
      "Cantidad de clientes que tienen estado activo por 17 meses: 91891\n"
     ]
    },
    {
     "data": {
      "text/plain": "<AxesSubplot:>"
     },
     "execution_count": 189,
     "metadata": {},
     "output_type": "execute_result"
    },
    {
     "data": {
      "text/plain": "<Figure size 1440x360 with 1 Axes>",
      "image/png": "[encoded data removed]"
     },
     "metadata": {},
     "output_type": "display_data"
    }
   ],
   "source": [
    "print(f\"Cantidad de clientes que tienen estado activo por 17 meses: {len(month_active_df[month_active_df['month_active'] == 17])}\")\n",
    "month_active_df[\"month_active\"].hist(figsize=(20, 5), bins=18)"
   ],
   "metadata": {
    "collapsed": false,
    "pycharm": {
     "name": "#%%\n"
    }
   }
  },
  {
   "cell_type": "markdown",
   "source": [
    "## Salary"
   ],
   "metadata": {
    "collapsed": false
   }
  },
  {
   "cell_type": "code",
   "execution_count": 147,
   "outputs": [
    {
     "data": {
      "text/plain": "            count          mean            std  min  25%       50%        75%  \\\nsalary  5962838.0  86447.269752  179617.265834 -1.0 -1.0  69695.82  113462.88   \n\n                max  \nsalary  28894395.51  ",
      "text/html": "<div>\n<style scoped>\n    .dataframe tbody tr th:only-of-type {\n        vertical-align: middle;\n    }\n\n    .dataframe tbody tr th {\n        vertical-align: top;\n    }\n\n    .dataframe thead th {\n        text-align: right;\n    }\n</style>\n<table border=\"1\" class=\"dataframe\">\n  <thead>\n    <tr style=\"text-align: right;\">\n      <th></th>\n      <th>count</th>\n      <th>mean</th>\n      <th>std</th>\n      <th>min</th>\n      <th>25%</th>\n      <th>50%</th>\n      <th>75%</th>\n      <th>max</th>\n    </tr>\n  </thead>\n  <tbody>\n    <tr>\n      <th>salary</th>\n      <td>5962838.0</td>\n      <td>86447.269752</td>\n      <td>179617.265834</td>\n      <td>-1.0</td>\n      <td>-1.0</td>\n      <td>69695.82</td>\n      <td>113462.88</td>\n      <td>28894395.51</td>\n    </tr>\n  </tbody>\n</table>\n</div>"
     },
     "execution_count": 147,
     "metadata": {},
     "output_type": "execute_result"
    }
   ],
   "source": [
    "salary_describe = df[[\"salary\"]].describe()\n",
    "salary_describe.T"
   ],
   "metadata": {
    "collapsed": false,
    "pycharm": {
     "name": "#%%\n"
    }
   }
  },
  {
   "cell_type": "code",
   "execution_count": 148,
   "outputs": [
    {
     "data": {
      "text/plain": "<Figure size 360x360 with 1 Axes>",
      "image/png": "[encoded data removed]"
     },
     "metadata": {},
     "output_type": "display_data"
    }
   ],
   "source": [
    "salary_describe.reset_index(inplace=True)\n",
    "salary_describe = salary_describe[salary_describe[\"index\"] != \"count\"]\n",
    "\n",
    "sns.catplot(x=\"index\", y=\"salary\", data=salary_describe, kind=\"point\")\n",
    "plt.show()"
   ],
   "metadata": {
    "collapsed": false,
    "pycharm": {
     "name": "#%%\n"
    }
   }
  },
  {
   "cell_type": "code",
   "execution_count": 157,
   "outputs": [
    {
     "data": {
      "text/plain": "(456371, 1)"
     },
     "execution_count": 157,
     "metadata": {},
     "output_type": "execute_result"
    }
   ],
   "source": [
    "max_salary_df = df.groupby(\"pk_cid\").agg(\n",
    "    salary_max=(\"salary\", np.max)\n",
    ").sort_values(\"salary_max\", ascending=False)\n",
    "max_salary_df.shape"
   ],
   "metadata": {
    "collapsed": false,
    "pycharm": {
     "name": "#%%\n"
    }
   }
  },
  {
   "cell_type": "code",
   "execution_count": 160,
   "outputs": [
    {
     "data": {
      "text/plain": "          salary_max\npk_cid              \n1396113  28894395.51\n1371668  28894395.51\n1069783  24253236.93\n1350392  23720066.55\n1247603  22034738.76\n...              ...\n1073597   5297386.50\n1065913   5297386.50\n264494    5166764.91\n1200521   5166764.91\n1182191   5046790.47\n\n[71 rows x 1 columns]",
      "text/html": "<div>\n<style scoped>\n    .dataframe tbody tr th:only-of-type {\n        vertical-align: middle;\n    }\n\n    .dataframe tbody tr th {\n        vertical-align: top;\n    }\n\n    .dataframe thead th {\n        text-align: right;\n    }\n</style>\n<table border=\"1\" class=\"dataframe\">\n  <thead>\n    <tr style=\"text-align: right;\">\n      <th></th>\n      <th>salary_max</th>\n    </tr>\n    <tr>\n      <th>pk_cid</th>\n      <th></th>\n    </tr>\n  </thead>\n  <tbody>\n    <tr>\n      <th>1396113</th>\n      <td>28894395.51</td>\n    </tr>\n    <tr>\n      <th>1371668</th>\n      <td>28894395.51</td>\n    </tr>\n    <tr>\n      <th>1069783</th>\n      <td>24253236.93</td>\n    </tr>\n    <tr>\n      <th>1350392</th>\n      <td>23720066.55</td>\n    </tr>\n    <tr>\n      <th>1247603</th>\n      <td>22034738.76</td>\n    </tr>\n    <tr>\n      <th>...</th>\n      <td>...</td>\n    </tr>\n    <tr>\n      <th>1073597</th>\n      <td>5297386.50</td>\n    </tr>\n    <tr>\n      <th>1065913</th>\n      <td>5297386.50</td>\n    </tr>\n    <tr>\n      <th>264494</th>\n      <td>5166764.91</td>\n    </tr>\n    <tr>\n      <th>1200521</th>\n      <td>5166764.91</td>\n    </tr>\n    <tr>\n      <th>1182191</th>\n      <td>5046790.47</td>\n    </tr>\n  </tbody>\n</table>\n<p>71 rows × 1 columns</p>\n</div>"
     },
     "execution_count": 160,
     "metadata": {},
     "output_type": "execute_result"
    }
   ],
   "source": [
    "max_salary_df[max_salary_df[\"salary_max\"] > 5_000_000]"
   ],
   "metadata": {
    "collapsed": false,
    "pycharm": {
     "name": "#%%\n"
    }
   }
  }
 ]
}