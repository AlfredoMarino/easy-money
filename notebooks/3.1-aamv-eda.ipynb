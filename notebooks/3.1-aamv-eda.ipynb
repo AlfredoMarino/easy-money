{
 "cells": [
  {
   "cell_type": "code",
   "execution_count": 1,
   "metadata": {
    "collapsed": true
   },
   "outputs": [],
   "source": [
    "import pandas as pd\n",
    "import numpy as np\n",
    "\n",
    "import matplotlib.pyplot as plt\n",
    "import seaborn as sns"
   ]
  },
  {
   "cell_type": "code",
   "execution_count": 2,
   "outputs": [],
   "source": [
    "__INTERIM_DATA_PATH__ = \"../data/interim\""
   ],
   "metadata": {
    "collapsed": false,
    "pycharm": {
     "name": "#%%\n"
    }
   }
  },
  {
   "cell_type": "markdown",
   "source": [
    "## Salary"
   ],
   "metadata": {
    "collapsed": false,
    "pycharm": {
     "name": "#%% md\n"
    }
   }
  },
  {
   "cell_type": "code",
   "execution_count": 31,
   "outputs": [
    {
     "name": "stdout",
     "output_type": "stream",
     "text": [
      "(456373, 4)\n"
     ]
    },
    {
     "data": {
      "text/plain": "      pk_cid  age     salary  knn_salary\n0    1550397    2        NaN  177539.280\n1    1526522    2        NaN  177539.280\n2    1419718    2  178055.85  178055.850\n3    1513456    2        NaN  177539.280\n4    1539094    2        NaN  177539.280\n..       ...  ...        ...         ...\n295  1388204    4   69443.88   69443.880\n296  1522563    4        NaN  124853.175\n297  1404880    4  304666.92  304666.920\n298  1388226    4   48415.65   48415.650\n299  1377848    4   80720.01   80720.010\n\n[300 rows x 4 columns]",
      "text/html": "<div>\n<style scoped>\n    .dataframe tbody tr th:only-of-type {\n        vertical-align: middle;\n    }\n\n    .dataframe tbody tr th {\n        vertical-align: top;\n    }\n\n    .dataframe thead th {\n        text-align: right;\n    }\n</style>\n<table border=\"1\" class=\"dataframe\">\n  <thead>\n    <tr style=\"text-align: right;\">\n      <th></th>\n      <th>pk_cid</th>\n      <th>age</th>\n      <th>salary</th>\n      <th>knn_salary</th>\n    </tr>\n  </thead>\n  <tbody>\n    <tr>\n      <th>0</th>\n      <td>1550397</td>\n      <td>2</td>\n      <td>NaN</td>\n      <td>177539.280</td>\n    </tr>\n    <tr>\n      <th>1</th>\n      <td>1526522</td>\n      <td>2</td>\n      <td>NaN</td>\n      <td>177539.280</td>\n    </tr>\n    <tr>\n      <th>2</th>\n      <td>1419718</td>\n      <td>2</td>\n      <td>178055.85</td>\n      <td>178055.850</td>\n    </tr>\n    <tr>\n      <th>3</th>\n      <td>1513456</td>\n      <td>2</td>\n      <td>NaN</td>\n      <td>177539.280</td>\n    </tr>\n    <tr>\n      <th>4</th>\n      <td>1539094</td>\n      <td>2</td>\n      <td>NaN</td>\n      <td>177539.280</td>\n    </tr>\n    <tr>\n      <th>...</th>\n      <td>...</td>\n      <td>...</td>\n      <td>...</td>\n      <td>...</td>\n    </tr>\n    <tr>\n      <th>295</th>\n      <td>1388204</td>\n      <td>4</td>\n      <td>69443.88</td>\n      <td>69443.880</td>\n    </tr>\n    <tr>\n      <th>296</th>\n      <td>1522563</td>\n      <td>4</td>\n      <td>NaN</td>\n      <td>124853.175</td>\n    </tr>\n    <tr>\n      <th>297</th>\n      <td>1404880</td>\n      <td>4</td>\n      <td>304666.92</td>\n      <td>304666.920</td>\n    </tr>\n    <tr>\n      <th>298</th>\n      <td>1388226</td>\n      <td>4</td>\n      <td>48415.65</td>\n      <td>48415.650</td>\n    </tr>\n    <tr>\n      <th>299</th>\n      <td>1377848</td>\n      <td>4</td>\n      <td>80720.01</td>\n      <td>80720.010</td>\n    </tr>\n  </tbody>\n</table>\n<p>300 rows × 4 columns</p>\n</div>"
     },
     "execution_count": 31,
     "metadata": {},
     "output_type": "execute_result"
    }
   ],
   "source": [
    "salary_df = pd.read_csv(f\"{__INTERIM_DATA_PATH__}/salary_df.csv\", index_col=0)\n",
    "print(salary_df.shape)\n",
    "salary_df.head(300)"
   ],
   "metadata": {
    "collapsed": false,
    "pycharm": {
     "name": "#%%\n"
    }
   }
  },
  {
   "cell_type": "code",
   "execution_count": 28,
   "outputs": [],
   "source": [
    "def describe_graph(dataframe: pd.DataFrame, column: str):\n",
    "    dataframe_describe = dataframe[[column]].describe()\n",
    "    dataframe_describe.reset_index(inplace=True)\n",
    "    dataframe_describe = dataframe_describe[dataframe_describe[\"index\"] != \"count\"]\n",
    "\n",
    "    sns.catplot(x=\"index\", y=column, data=dataframe_describe, kind=\"point\")\n",
    "    plt.show()\n",
    "\n",
    "    return dataframe_describe"
   ],
   "metadata": {
    "collapsed": false,
    "pycharm": {
     "name": "#%%\n"
    }
   }
  },
  {
   "cell_type": "code",
   "execution_count": 30,
   "outputs": [
    {
     "data": {
      "text/plain": "<Figure size 360x360 with 1 Axes>",
      "image/png": "[encoded data removed]"
     },
     "metadata": {
      "needs_background": "light"
     },
     "output_type": "display_data"
    },
    {
     "data": {
      "text/plain": "                        1              2        3          4          5  \\\nindex                mean            std      min        25%        50%   \nknn_salary  113732.277922  170356.494546  1202.73  65474.205  93403.875   \n\n                    6            7  \nindex             75%          max  \nknn_salary  131398.17  28894395.51  ",
      "text/html": "<div>\n<style scoped>\n    .dataframe tbody tr th:only-of-type {\n        vertical-align: middle;\n    }\n\n    .dataframe tbody tr th {\n        vertical-align: top;\n    }\n\n    .dataframe thead th {\n        text-align: right;\n    }\n</style>\n<table border=\"1\" class=\"dataframe\">\n  <thead>\n    <tr style=\"text-align: right;\">\n      <th></th>\n      <th>1</th>\n      <th>2</th>\n      <th>3</th>\n      <th>4</th>\n      <th>5</th>\n      <th>6</th>\n      <th>7</th>\n    </tr>\n  </thead>\n  <tbody>\n    <tr>\n      <th>index</th>\n      <td>mean</td>\n      <td>std</td>\n      <td>min</td>\n      <td>25%</td>\n      <td>50%</td>\n      <td>75%</td>\n      <td>max</td>\n    </tr>\n    <tr>\n      <th>knn_salary</th>\n      <td>113732.277922</td>\n      <td>170356.494546</td>\n      <td>1202.73</td>\n      <td>65474.205</td>\n      <td>93403.875</td>\n      <td>131398.17</td>\n      <td>28894395.51</td>\n    </tr>\n  </tbody>\n</table>\n</div>"
     },
     "execution_count": 30,
     "metadata": {},
     "output_type": "execute_result"
    }
   ],
   "source": [
    "describe_graph(salary_df, \"knn_salary\").T"
   ],
   "metadata": {
    "collapsed": false,
    "pycharm": {
     "name": "#%%\n"
    }
   }
  },
  {
   "cell_type": "code",
   "execution_count": 33,
   "outputs": [
    {
     "name": "stdout",
     "output_type": "stream",
     "text": [
      "Grafico sin el quantile 99\n"
     ]
    },
    {
     "data": {
      "text/plain": "<Figure size 360x360 with 1 Axes>",
      "image/png": "[encoded data removed]"
     },
     "metadata": {
      "needs_background": "light"
     },
     "output_type": "display_data"
    },
    {
     "data": {
      "text/plain": "                        1             2        3         4         5  \\\nindex                mean           std      min       25%       50%   \nknn_salary  106386.736407  60734.606049  1202.73  65344.08  92580.84   \n\n                    6          7  \nindex             75%        max  \nknn_salary  128593.05  422304.75  ",
      "text/html": "<div>\n<style scoped>\n    .dataframe tbody tr th:only-of-type {\n        vertical-align: middle;\n    }\n\n    .dataframe tbody tr th {\n        vertical-align: top;\n    }\n\n    .dataframe thead th {\n        text-align: right;\n    }\n</style>\n<table border=\"1\" class=\"dataframe\">\n  <thead>\n    <tr style=\"text-align: right;\">\n      <th></th>\n      <th>1</th>\n      <th>2</th>\n      <th>3</th>\n      <th>4</th>\n      <th>5</th>\n      <th>6</th>\n      <th>7</th>\n    </tr>\n  </thead>\n  <tbody>\n    <tr>\n      <th>index</th>\n      <td>mean</td>\n      <td>std</td>\n      <td>min</td>\n      <td>25%</td>\n      <td>50%</td>\n      <td>75%</td>\n      <td>max</td>\n    </tr>\n    <tr>\n      <th>knn_salary</th>\n      <td>106386.736407</td>\n      <td>60734.606049</td>\n      <td>1202.73</td>\n      <td>65344.08</td>\n      <td>92580.84</td>\n      <td>128593.05</td>\n      <td>422304.75</td>\n    </tr>\n  </tbody>\n</table>\n</div>"
     },
     "execution_count": 33,
     "metadata": {},
     "output_type": "execute_result"
    }
   ],
   "source": [
    "print(\"Grafico sin el quantile 99\")\n",
    "salary_to_describe = salary_df[salary_df[\"knn_salary\"] <= np.quantile(salary_df[\"knn_salary\"], q=0.99)]\n",
    "describe_graph(salary_to_describe, \"knn_salary\").T"
   ],
   "metadata": {
    "collapsed": false,
    "pycharm": {
     "name": "#%%\n"
    }
   }
  },
  {
   "cell_type": "code",
   "execution_count": null,
   "outputs": [],
   "source": [],
   "metadata": {
    "collapsed": false,
    "pycharm": {
     "name": "#%%\n"
    }
   }
  }
 ],
 "metadata": {
  "kernelspec": {
   "display_name": "Python 3",
   "language": "python",
   "name": "python3"
  },
  "language_info": {
   "codemirror_mode": {
    "name": "ipython",
    "version": 2
   },
   "file_extension": ".py",
   "mimetype": "text/x-python",
   "name": "python",
   "nbconvert_exporter": "python",
   "pygments_lexer": "ipython2",
   "version": "2.7.6"
  }
 },
 "nbformat": 4,
 "nbformat_minor": 0
}