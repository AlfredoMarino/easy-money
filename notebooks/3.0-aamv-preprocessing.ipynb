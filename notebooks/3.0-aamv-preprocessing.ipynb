{
 "cells": [
  {
   "cell_type": "markdown",
   "metadata": {
    "collapsed": true,
    "pycharm": {
     "name": "#%% md\n"
    }
   },
   "source": [
    "# Preprocesado de datos"
   ]
  },
  {
   "cell_type": "code",
   "execution_count": 1,
   "outputs": [],
   "source": [
    "import pandas as pd\n",
    "import numpy as np"
   ],
   "metadata": {
    "collapsed": false,
    "pycharm": {
     "name": "#%%\n"
    }
   }
  },
  {
   "cell_type": "code",
   "execution_count": 2,
   "outputs": [],
   "source": [
    "__RAW_DATA_PATH__ = \"../data/raw\"\n",
    "__INTERIM_DATA_PATH__ = \"../data/interim\"\n",
    "\n",
    "__OUTPUT_DF_NAME__ = \"easy_money_prep_1\"\n",
    "\n",
    "__DO_ONE_HOT_ENCODE__ = False"
   ],
   "metadata": {
    "collapsed": false,
    "pycharm": {
     "name": "#%%\n"
    }
   }
  },
  {
   "cell_type": "markdown",
   "source": [
    "## Import data"
   ],
   "metadata": {
    "collapsed": false,
    "pycharm": {
     "name": "#%% md\n"
    }
   }
  },
  {
   "cell_type": "code",
   "execution_count": 3,
   "outputs": [
    {
     "name": "stdout",
     "output_type": "stream",
     "text": [
      "* products_df loaded           *  shape: (5962924, 17)\n",
      "* commercial_activity_dfloaded *  shape: (5962924, 6)\n",
      "* sociodemographic_df loaded   *  shape: (5962924, 8)\n"
     ]
    }
   ],
   "source": [
    "# Load products_df\n",
    "products_df = pd.read_csv(f\"{__RAW_DATA_PATH__}/products_df.csv\")\n",
    "del (products_df[\"Unnamed: 0\"])\n",
    "print(f\"* products_df loaded           *  shape: {products_df.shape}\")\n",
    "\n",
    "# Load commercial_activity_df\n",
    "commercial_activity_df = pd.read_csv(f\"{__RAW_DATA_PATH__}/commercial_activity_df.csv\")\n",
    "del (commercial_activity_df[\"Unnamed: 0\"])\n",
    "print(f\"* commercial_activity_dfloaded *  shape: {commercial_activity_df.shape}\")\n",
    "\n",
    "# Load sociodemographic_df\n",
    "sociodemographic_df = pd.read_csv(f\"{__RAW_DATA_PATH__}/sociodemographic_df.csv\")\n",
    "del (sociodemographic_df[\"Unnamed: 0\"])\n",
    "print(f\"* sociodemographic_df loaded   *  shape: {sociodemographic_df.shape}\")"
   ],
   "metadata": {
    "collapsed": false,
    "pycharm": {
     "name": "#%%\n"
    }
   }
  },
  {
   "cell_type": "markdown",
   "source": [
    "## Merge Dataframes"
   ],
   "metadata": {
    "collapsed": false,
    "pycharm": {
     "name": "#%% md\n"
    }
   }
  },
  {
   "cell_type": "code",
   "execution_count": 4,
   "outputs": [
    {
     "name": "stdout",
     "output_type": "stream",
     "text": [
      "* Dataframes merged *  shape: (5962924, 27)\n"
     ]
    }
   ],
   "source": [
    "_df = pd.merge(left=commercial_activity_df, right=sociodemographic_df, how=\"inner\", on=[\"pk_cid\", \"pk_partition\"])\n",
    "df = pd.merge(left=_df, right=products_df, how=\"inner\", on=[\"pk_cid\", \"pk_partition\"])\n",
    "print(f\"* Dataframes merged *  shape: {df.shape}\")"
   ],
   "metadata": {
    "collapsed": false,
    "pycharm": {
     "name": "#%%\n"
    }
   }
  },
  {
   "cell_type": "markdown",
   "source": [
    "## Data Preprocessing"
   ],
   "metadata": {
    "collapsed": false,
    "pycharm": {
     "name": "#%% md\n"
    }
   }
  },
  {
   "cell_type": "code",
   "execution_count": 5,
   "outputs": [],
   "source": [
    "df_prep = df.copy(deep=True)"
   ],
   "metadata": {
    "collapsed": false,
    "pycharm": {
     "name": "#%%\n"
    }
   }
  },
  {
   "cell_type": "markdown",
   "source": [
    "##### pk_partition"
   ],
   "metadata": {
    "collapsed": false
   }
  },
  {
   "cell_type": "code",
   "execution_count": 6,
   "outputs": [],
   "source": [
    "df_prep[\"pk_partition\"] = pd.to_datetime(df_prep[\"pk_partition\"])"
   ],
   "metadata": {
    "collapsed": false,
    "pycharm": {
     "name": "#%%\n"
    }
   }
  },
  {
   "cell_type": "markdown",
   "source": [
    "##### entry_date"
   ],
   "metadata": {
    "collapsed": false
   }
  },
  {
   "cell_type": "code",
   "execution_count": 7,
   "outputs": [],
   "source": [
    "# Obteníamos un error al convertir nuestra variable a fecha debido a las fechas correspondientes\n",
    "# al 29 de Febrero de los años 2015 y 2019 puesto que no existen.\n",
    "# Por este motivo, decidimos reemplazar estos valores por la fecha más cercana (día anterior)\n",
    "df_prep[\"entry_date\"] = df_prep[\"entry_date\"].replace(\"2015-02-29\", \"2015-02-28\")\n",
    "df_prep[\"entry_date\"] = df_prep[\"entry_date\"].replace(\"2019-02-29\", \"2019-02-28\")\n",
    "\n",
    "df_prep[\"entry_date\"] = pd.to_datetime(df_prep[\"entry_date\"])\n",
    "\n",
    "#Generamos atributos extras a partir de entry_date\n",
    "df_prep[\"entry_date_month\"] = df_prep[\"entry_date\"].dt.month.astype(int)\n",
    "df_prep[\"entry_date_year\"] = df_prep[\"entry_date\"].dt.year.astype(int)\n",
    "df_prep[\"entry_date_day\"] = df_prep[\"entry_date\"].dt.day.astype(int)\n",
    "df_prep[\"entry_date_week\"] = df_prep[\"entry_date\"].dt.isocalendar().week.astype(int)\n",
    "df_prep[\"entry_date_weekday\"] = df_prep[\"entry_date\"].dt.weekday.astype(int)\n",
    "df_prep[\"entry_date_trim\"] = df_prep[\"entry_date\"].dt.quarter.astype(int)"
   ],
   "metadata": {
    "collapsed": false,
    "pycharm": {
     "name": "#%%\n"
    }
   }
  },
  {
   "cell_type": "markdown",
   "source": [
    "##### entry_channel"
   ],
   "metadata": {
    "collapsed": false
   }
  },
  {
   "cell_type": "code",
   "execution_count": 8,
   "outputs": [
    {
     "data": {
      "text/plain": "KHE    3113947\nKFC     890620\nKHQ     590280\nKAT     416084\nKHK     230197\n        ...   \nKEJ          8\nKHS          5\nKDA          2\nKFP          2\nKDS          1\nName: entry_channel, Length: 69, dtype: int64"
     },
     "execution_count": 8,
     "metadata": {},
     "output_type": "execute_result"
    }
   ],
   "source": [
    "df_prep[\"entry_channel\"].fillna(\"OTROS\", inplace=True)\n",
    "df_prep[\"entry_channel\"].value_counts(dropna=False)"
   ],
   "metadata": {
    "collapsed": false,
    "pycharm": {
     "name": "#%%\n"
    }
   }
  },
  {
   "cell_type": "markdown",
   "source": [
    "##### active_customer"
   ],
   "metadata": {
    "collapsed": false
   }
  },
  {
   "cell_type": "code",
   "execution_count": 9,
   "outputs": [],
   "source": [
    "df_prep[\"active_customer\"] = df_prep[\"active_customer\"].astype(int)"
   ],
   "metadata": {
    "collapsed": false,
    "pycharm": {
     "name": "#%%\n"
    }
   }
  },
  {
   "cell_type": "markdown",
   "source": [
    "##### segment"
   ],
   "metadata": {
    "collapsed": false,
    "pycharm": {
     "name": "#%% md\n"
    }
   }
  },
  {
   "cell_type": "code",
   "execution_count": 10,
   "outputs": [
    {
     "data": {
      "text/plain": "03 - UNIVERSITARIO    3900166\n02 - PARTICULARES     1830875\n00 - OTROS             133944\n01 - TOP                97939\nName: segment, dtype: int64"
     },
     "execution_count": 10,
     "metadata": {},
     "output_type": "execute_result"
    }
   ],
   "source": [
    "df_prep[\"segment\"].fillna(\"00 - OTROS\", inplace=True)\n",
    "df_prep[\"segment\"].value_counts(dropna=False)"
   ],
   "metadata": {
    "collapsed": false,
    "pycharm": {
     "name": "#%%\n"
    }
   }
  },
  {
   "cell_type": "markdown",
   "source": [
    "##### region_code"
   ],
   "metadata": {
    "collapsed": false,
    "pycharm": {
     "name": "#%% md\n"
    }
   }
  },
  {
   "cell_type": "code",
   "execution_count": 11,
   "outputs": [
    {
     "data": {
      "text/plain": " 28    1185757\n 8      600362\n 46     358142\n 30     296856\n 41     290447\n 15     254891\n 29     187911\n 36     175850\n 3      171358\n 11     160894\n 33     134562\n 50     132983\n 6      122587\n 35     121982\n 47     116948\n 18     102789\n 45     102328\n 37      92538\n 10      83283\n 14      75405\n 2       72071\n 21      72037\n 13      70092\n 39      69589\n 12      68709\n 7       62436\n 32      54639\n 27      52783\n 43      51782\n 17      50749\n 9       47746\n 25      46887\n 16      36094\n 24      35426\n 48      35256\n 26      34790\n 4       32680\n 31      31241\n 49      30965\n 23      30955\n 38      29001\n 34      27545\n 19      26762\n 40      21658\n 5       21300\n 22      21112\n 20      18833\n 1       12999\n 44      12616\n 42       8500\n 51       2896\n 52       2638\n-1        2264\nName: region_code, dtype: int64"
     },
     "execution_count": 11,
     "metadata": {},
     "output_type": "execute_result"
    }
   ],
   "source": [
    "df_prep[\"region_code\"] = df_prep[\"region_code\"].fillna(-1).astype(int)\n",
    "df_prep[\"region_code\"].value_counts(dropna=False)"
   ],
   "metadata": {
    "collapsed": false,
    "pycharm": {
     "name": "#%%\n"
    }
   }
  },
  {
   "cell_type": "markdown",
   "source": [
    "##### gender"
   ],
   "metadata": {
    "collapsed": false,
    "pycharm": {
     "name": "#%% md\n"
    }
   }
  },
  {
   "cell_type": "code",
   "execution_count": 12,
   "outputs": [
    {
     "data": {
      "text/plain": "female        3087502\nmale          2875397\nnon-binary         25\nName: gender, dtype: int64"
     },
     "execution_count": 12,
     "metadata": {},
     "output_type": "execute_result"
    }
   ],
   "source": [
    "df_prep[\"gender\"].fillna(\"non-binary\", inplace=True)\n",
    "df_prep[\"gender\"].replace(\"H\", \"female\", inplace=True)\n",
    "df_prep[\"gender\"].replace(\"V\", \"male\", inplace=True)\n",
    "df_prep[\"gender\"].value_counts(dropna=False)"
   ],
   "metadata": {
    "collapsed": false,
    "pycharm": {
     "name": "#%%\n"
    }
   }
  },
  {
   "cell_type": "markdown",
   "source": [
    "##### deceased"
   ],
   "metadata": {
    "collapsed": false,
    "pycharm": {
     "name": "#%% md\n"
    }
   }
  },
  {
   "cell_type": "code",
   "execution_count": 13,
   "outputs": [
    {
     "data": {
      "text/plain": "0    5961849\n1       1075\nName: deceased, dtype: int64"
     },
     "execution_count": 13,
     "metadata": {},
     "output_type": "execute_result"
    }
   ],
   "source": [
    "df_prep[\"deceased\"].replace(\"N\", 0, inplace=True)\n",
    "df_prep[\"deceased\"].replace(\"S\", 1, inplace=True)\n",
    "df_prep[\"deceased\"].value_counts()"
   ],
   "metadata": {
    "collapsed": false,
    "pycharm": {
     "name": "#%%\n"
    }
   }
  },
  {
   "cell_type": "markdown",
   "source": [
    "##### salary"
   ],
   "metadata": {
    "collapsed": false,
    "pycharm": {
     "name": "#%% md\n"
    }
   }
  },
  {
   "cell_type": "code",
   "execution_count": 14,
   "outputs": [
    {
     "data": {
      "text/plain": "-1.00         1512103\n 451931.22        760\n 288997.44        546\n 135522.15        466\n 128318.52        458\n               ...   \n 188185.68          1\n 37292.10           1\n 59427.63           1\n 179561.43          1\n 71905.29           1\nName: salary, Length: 258630, dtype: int64"
     },
     "execution_count": 14,
     "metadata": {},
     "output_type": "execute_result"
    }
   ],
   "source": [
    "df_prep[\"salary\"].fillna(-1, inplace=True)\n",
    "df_prep[\"salary\"].value_counts(dropna=False)"
   ],
   "metadata": {
    "collapsed": false,
    "pycharm": {
     "name": "#%%\n"
    }
   }
  },
  {
   "cell_type": "markdown",
   "source": [
    "##### payroll and payroll_account"
   ],
   "metadata": {
    "collapsed": false,
    "pycharm": {
     "name": "#%% md\n"
    }
   }
  },
  {
   "cell_type": "code",
   "execution_count": 15,
   "outputs": [
    {
     "data": {
      "text/plain": "0    5757076\n1     205787\nName: payroll, dtype: int64"
     },
     "execution_count": 15,
     "metadata": {},
     "output_type": "execute_result"
    }
   ],
   "source": [
    "df_prep.dropna(subset=[\"payroll\", \"payroll_account\"], inplace=True)\n",
    "df_prep[\"payroll\"] = df_prep[\"payroll\"].astype(int)\n",
    "df_prep[\"payroll\"].value_counts(dropna=False)"
   ],
   "metadata": {
    "collapsed": false,
    "pycharm": {
     "name": "#%%\n"
    }
   }
  },
  {
   "cell_type": "markdown",
   "source": [
    "##### pension_plan"
   ],
   "metadata": {
    "collapsed": false,
    "pycharm": {
     "name": "#%% md\n"
    }
   }
  },
  {
   "cell_type": "code",
   "execution_count": 16,
   "outputs": [],
   "source": [
    "df_prep[\"pension_plan\"] = df_prep[\"pension_plan\"].astype(int)"
   ],
   "metadata": {
    "collapsed": false,
    "pycharm": {
     "name": "#%%\n"
    }
   }
  },
  {
   "cell_type": "markdown",
   "source": [
    "### ONE HOT ENCODING"
   ],
   "metadata": {
    "collapsed": false,
    "pycharm": {
     "name": "#%% md\n"
    }
   }
  },
  {
   "cell_type": "code",
   "execution_count": 17,
   "outputs": [],
   "source": [
    "def one_hot_encode(dataframe: pd.DataFrame, column_name: str) -> pd.DataFrame:\n",
    "    _dummy_dataset = pd.get_dummies(dataframe[column_name], prefix=column_name)\n",
    "    return pd.concat([dataframe, _dummy_dataset], axis=1).drop([column_name], axis=1)\n",
    "\n",
    "\n",
    "def encode_dataframe(dataframe: pd.DataFrame) -> pd.DataFrame:\n",
    "    cat_columns = [col for col in dataframe.select_dtypes(exclude=[np.number, \"datetime\"]).columns]\n",
    "    print(f\"columns to encode: {cat_columns}\")\n",
    "\n",
    "    print(f\"dataframe before one-hot encoding: {dataframe.shape}\")\n",
    "    for cat_col in cat_columns:\n",
    "        dataframe = one_hot_encode(dataframe, cat_col)\n",
    "\n",
    "    print(f\"dataframe after one-hot encoding:  {dataframe.shape}\")\n",
    "    return dataframe"
   ],
   "metadata": {
    "collapsed": false,
    "pycharm": {
     "name": "#%%\n"
    }
   }
  },
  {
   "cell_type": "markdown",
   "source": [
    "## Export Dataframe"
   ],
   "metadata": {
    "collapsed": false,
    "pycharm": {
     "name": "#%% md\n"
    }
   }
  },
  {
   "cell_type": "code",
   "execution_count": 18,
   "outputs": [],
   "source": [
    "def export_to_csv(dataframe: pd.DataFrame, filename: str, path: str = __INTERIM_DATA_PATH__):\n",
    "    exported_path = f\"{path}/{filename}.csv\"\n",
    "    dataframe.to_csv(exported_path)\n",
    "    print(f\"Dataframe exported to {exported_path}\")"
   ],
   "metadata": {
    "collapsed": false,
    "pycharm": {
     "name": "#%%\n"
    }
   }
  },
  {
   "cell_type": "code",
   "execution_count": 19,
   "outputs": [
    {
     "data": {
      "text/plain": "          pk_cid pk_partition entry_date entry_channel  active_customer  \\\n0          15891   2018-07-28 2018-07-28           KAT                1   \n1          15891   2018-08-28 2018-07-28           KAT                0   \n2          16063   2018-11-28 2018-11-19           KAT                1   \n3          16063   2018-12-28 2018-11-19           KAT                1   \n4          16063   2019-01-28 2018-11-19           KAT                1   \n...          ...          ...        ...           ...              ...   \n5962858  1553685   2019-05-28 2019-05-31         OTROS                0   \n5962859  1553686   2019-05-28 2019-05-31         OTROS                0   \n5962860  1553687   2019-05-28 2019-05-31         OTROS                0   \n5962861  1553688   2019-05-28 2019-05-31         OTROS                0   \n5962862  1553689   2019-05-28 2019-05-31         OTROS                0   \n\n                   segment country_id  region_code  gender  age  ...  \\\n0               00 - OTROS         ES           28  female   59  ...   \n1        02 - PARTICULARES         ES           28  female   59  ...   \n2               00 - OTROS         ES           28  female   62  ...   \n3        02 - PARTICULARES         ES           28  female   62  ...   \n4        02 - PARTICULARES         ES           28  female   62  ...   \n...                    ...        ...          ...     ...  ...  ...   \n5962858         00 - OTROS         ES           13    male   52  ...   \n5962859         00 - OTROS         ES           41  female   30  ...   \n5962860         00 - OTROS         ES           28    male   21  ...   \n5962861         00 - OTROS         ES           39  female   43  ...   \n5962862         00 - OTROS         ES           21    male   40  ...   \n\n         emc_account  debit_card  em_account_p  em_acount  entry_date_month  \\\n0                  0           0             0          1                 7   \n1                  0           0             0          0                 7   \n2                  0           0             0          0                11   \n3                  0           0             0          0                11   \n4                  0           0             0          0                11   \n...              ...         ...           ...        ...               ...   \n5962858            0           0             0          0                 5   \n5962859            0           0             0          0                 5   \n5962860            0           0             0          0                 5   \n5962861            0           0             0          0                 5   \n5962862            0           0             0          0                 5   \n\n         entry_date_year  entry_date_day  entry_date_week  entry_date_weekday  \\\n0                   2018              28               30                   5   \n1                   2018              28               30                   5   \n2                   2018              19               47                   0   \n3                   2018              19               47                   0   \n4                   2018              19               47                   0   \n...                  ...             ...              ...                 ...   \n5962858             2019              31               22                   4   \n5962859             2019              31               22                   4   \n5962860             2019              31               22                   4   \n5962861             2019              31               22                   4   \n5962862             2019              31               22                   4   \n\n         entry_date_trim  \n0                      3  \n1                      3  \n2                      4  \n3                      4  \n4                      4  \n...                  ...  \n5962858                2  \n5962859                2  \n5962860                2  \n5962861                2  \n5962862                2  \n\n[5962863 rows x 33 columns]",
      "text/html": "<div>\n<style scoped>\n    .dataframe tbody tr th:only-of-type {\n        vertical-align: middle;\n    }\n\n    .dataframe tbody tr th {\n        vertical-align: top;\n    }\n\n    .dataframe thead th {\n        text-align: right;\n    }\n</style>\n<table border=\"1\" class=\"dataframe\">\n  <thead>\n    <tr style=\"text-align: right;\">\n      <th></th>\n      <th>pk_cid</th>\n      <th>pk_partition</th>\n      <th>entry_date</th>\n      <th>entry_channel</th>\n      <th>active_customer</th>\n      <th>segment</th>\n      <th>country_id</th>\n      <th>region_code</th>\n      <th>gender</th>\n      <th>age</th>\n      <th>...</th>\n      <th>emc_account</th>\n      <th>debit_card</th>\n      <th>em_account_p</th>\n      <th>em_acount</th>\n      <th>entry_date_month</th>\n      <th>entry_date_year</th>\n      <th>entry_date_day</th>\n      <th>entry_date_week</th>\n      <th>entry_date_weekday</th>\n      <th>entry_date_trim</th>\n    </tr>\n  </thead>\n  <tbody>\n    <tr>\n      <th>0</th>\n      <td>15891</td>\n      <td>2018-07-28</td>\n      <td>2018-07-28</td>\n      <td>KAT</td>\n      <td>1</td>\n      <td>00 - OTROS</td>\n      <td>ES</td>\n      <td>28</td>\n      <td>female</td>\n      <td>59</td>\n      <td>...</td>\n      <td>0</td>\n      <td>0</td>\n      <td>0</td>\n      <td>1</td>\n      <td>7</td>\n      <td>2018</td>\n      <td>28</td>\n      <td>30</td>\n      <td>5</td>\n      <td>3</td>\n    </tr>\n    <tr>\n      <th>1</th>\n      <td>15891</td>\n      <td>2018-08-28</td>\n      <td>2018-07-28</td>\n      <td>KAT</td>\n      <td>0</td>\n      <td>02 - PARTICULARES</td>\n      <td>ES</td>\n      <td>28</td>\n      <td>female</td>\n      <td>59</td>\n      <td>...</td>\n      <td>0</td>\n      <td>0</td>\n      <td>0</td>\n      <td>0</td>\n      <td>7</td>\n      <td>2018</td>\n      <td>28</td>\n      <td>30</td>\n      <td>5</td>\n      <td>3</td>\n    </tr>\n    <tr>\n      <th>2</th>\n      <td>16063</td>\n      <td>2018-11-28</td>\n      <td>2018-11-19</td>\n      <td>KAT</td>\n      <td>1</td>\n      <td>00 - OTROS</td>\n      <td>ES</td>\n      <td>28</td>\n      <td>female</td>\n      <td>62</td>\n      <td>...</td>\n      <td>0</td>\n      <td>0</td>\n      <td>0</td>\n      <td>0</td>\n      <td>11</td>\n      <td>2018</td>\n      <td>19</td>\n      <td>47</td>\n      <td>0</td>\n      <td>4</td>\n    </tr>\n    <tr>\n      <th>3</th>\n      <td>16063</td>\n      <td>2018-12-28</td>\n      <td>2018-11-19</td>\n      <td>KAT</td>\n      <td>1</td>\n      <td>02 - PARTICULARES</td>\n      <td>ES</td>\n      <td>28</td>\n      <td>female</td>\n      <td>62</td>\n      <td>...</td>\n      <td>0</td>\n      <td>0</td>\n      <td>0</td>\n      <td>0</td>\n      <td>11</td>\n      <td>2018</td>\n      <td>19</td>\n      <td>47</td>\n      <td>0</td>\n      <td>4</td>\n    </tr>\n    <tr>\n      <th>4</th>\n      <td>16063</td>\n      <td>2019-01-28</td>\n      <td>2018-11-19</td>\n      <td>KAT</td>\n      <td>1</td>\n      <td>02 - PARTICULARES</td>\n      <td>ES</td>\n      <td>28</td>\n      <td>female</td>\n      <td>62</td>\n      <td>...</td>\n      <td>0</td>\n      <td>0</td>\n      <td>0</td>\n      <td>0</td>\n      <td>11</td>\n      <td>2018</td>\n      <td>19</td>\n      <td>47</td>\n      <td>0</td>\n      <td>4</td>\n    </tr>\n    <tr>\n      <th>...</th>\n      <td>...</td>\n      <td>...</td>\n      <td>...</td>\n      <td>...</td>\n      <td>...</td>\n      <td>...</td>\n      <td>...</td>\n      <td>...</td>\n      <td>...</td>\n      <td>...</td>\n      <td>...</td>\n      <td>...</td>\n      <td>...</td>\n      <td>...</td>\n      <td>...</td>\n      <td>...</td>\n      <td>...</td>\n      <td>...</td>\n      <td>...</td>\n      <td>...</td>\n      <td>...</td>\n    </tr>\n    <tr>\n      <th>5962858</th>\n      <td>1553685</td>\n      <td>2019-05-28</td>\n      <td>2019-05-31</td>\n      <td>OTROS</td>\n      <td>0</td>\n      <td>00 - OTROS</td>\n      <td>ES</td>\n      <td>13</td>\n      <td>male</td>\n      <td>52</td>\n      <td>...</td>\n      <td>0</td>\n      <td>0</td>\n      <td>0</td>\n      <td>0</td>\n      <td>5</td>\n      <td>2019</td>\n      <td>31</td>\n      <td>22</td>\n      <td>4</td>\n      <td>2</td>\n    </tr>\n    <tr>\n      <th>5962859</th>\n      <td>1553686</td>\n      <td>2019-05-28</td>\n      <td>2019-05-31</td>\n      <td>OTROS</td>\n      <td>0</td>\n      <td>00 - OTROS</td>\n      <td>ES</td>\n      <td>41</td>\n      <td>female</td>\n      <td>30</td>\n      <td>...</td>\n      <td>0</td>\n      <td>0</td>\n      <td>0</td>\n      <td>0</td>\n      <td>5</td>\n      <td>2019</td>\n      <td>31</td>\n      <td>22</td>\n      <td>4</td>\n      <td>2</td>\n    </tr>\n    <tr>\n      <th>5962860</th>\n      <td>1553687</td>\n      <td>2019-05-28</td>\n      <td>2019-05-31</td>\n      <td>OTROS</td>\n      <td>0</td>\n      <td>00 - OTROS</td>\n      <td>ES</td>\n      <td>28</td>\n      <td>male</td>\n      <td>21</td>\n      <td>...</td>\n      <td>0</td>\n      <td>0</td>\n      <td>0</td>\n      <td>0</td>\n      <td>5</td>\n      <td>2019</td>\n      <td>31</td>\n      <td>22</td>\n      <td>4</td>\n      <td>2</td>\n    </tr>\n    <tr>\n      <th>5962861</th>\n      <td>1553688</td>\n      <td>2019-05-28</td>\n      <td>2019-05-31</td>\n      <td>OTROS</td>\n      <td>0</td>\n      <td>00 - OTROS</td>\n      <td>ES</td>\n      <td>39</td>\n      <td>female</td>\n      <td>43</td>\n      <td>...</td>\n      <td>0</td>\n      <td>0</td>\n      <td>0</td>\n      <td>0</td>\n      <td>5</td>\n      <td>2019</td>\n      <td>31</td>\n      <td>22</td>\n      <td>4</td>\n      <td>2</td>\n    </tr>\n    <tr>\n      <th>5962862</th>\n      <td>1553689</td>\n      <td>2019-05-28</td>\n      <td>2019-05-31</td>\n      <td>OTROS</td>\n      <td>0</td>\n      <td>00 - OTROS</td>\n      <td>ES</td>\n      <td>21</td>\n      <td>male</td>\n      <td>40</td>\n      <td>...</td>\n      <td>0</td>\n      <td>0</td>\n      <td>0</td>\n      <td>0</td>\n      <td>5</td>\n      <td>2019</td>\n      <td>31</td>\n      <td>22</td>\n      <td>4</td>\n      <td>2</td>\n    </tr>\n  </tbody>\n</table>\n<p>5962863 rows × 33 columns</p>\n</div>"
     },
     "execution_count": 19,
     "metadata": {},
     "output_type": "execute_result"
    }
   ],
   "source": [
    "df_prep_not_null = df_prep.copy(deep=True).sort_values([\"pk_cid\", \"pk_partition\"]).reset_index(drop=True)\n",
    "df_prep_not_null"
   ],
   "metadata": {
    "collapsed": false,
    "pycharm": {
     "name": "#%%\n"
    }
   }
  },
  {
   "cell_type": "code",
   "execution_count": 20,
   "outputs": [
    {
     "name": "stdout",
     "output_type": "stream",
     "text": [
      "Dataframe exported to ../data/interim/easy_money_prep_1.csv\n"
     ]
    }
   ],
   "source": [
    "if __DO_ONE_HOT_ENCODE__:\n",
    "    df_prep_one_hot = encode_dataframe(df_prep_not_null)\n",
    "    export_to_csv(df_prep_one_hot, __OUTPUT_DF_NAME__)\n",
    "else:\n",
    "    export_to_csv(df_prep_not_null, __OUTPUT_DF_NAME__)"
   ],
   "metadata": {
    "collapsed": false,
    "pycharm": {
     "name": "#%%\n"
    }
   }
  }
 ],
 "metadata": {
  "kernelspec": {
   "display_name": "Python 3",
   "language": "python",
   "name": "python3"
  },
  "language_info": {
   "codemirror_mode": {
    "name": "ipython",
    "version": 2
   },
   "file_extension": ".py",
   "mimetype": "text/x-python",
   "name": "python",
   "nbconvert_exporter": "python",
   "pygments_lexer": "ipython2",
   "version": "2.7.6"
  }
 },
 "nbformat": 4,
 "nbformat_minor": 0
}