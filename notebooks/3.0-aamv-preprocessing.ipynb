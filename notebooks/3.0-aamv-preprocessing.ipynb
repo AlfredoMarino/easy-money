{
 "cells": [
  {
   "cell_type": "markdown",
   "metadata": {
    "collapsed": true,
    "pycharm": {
     "name": "#%% md\n"
    }
   },
   "source": [
    "# Preprocesado de datos"
   ]
  },
  {
   "cell_type": "code",
   "execution_count": 1,
   "outputs": [],
   "source": [
    "import pandas as pd\n",
    "import numpy as np\n",
    "\n",
    "from sklearn.impute import KNNImputer"
   ],
   "metadata": {
    "collapsed": false,
    "pycharm": {
     "name": "#%%\n"
    }
   }
  },
  {
   "cell_type": "code",
   "execution_count": 2,
   "outputs": [],
   "source": [
    "__RAW_DATA_PATH__ = \"../data/raw\"\n",
    "__INTERIM_DATA_PATH__ = \"../data/interim\"\n",
    "\n",
    "__OUTPUT_DF_NAME__ = \"easy_money_prep_1\"\n",
    "\n",
    "__PREDICT_SALARY__ = False\n",
    "__DO_ONE_HOT_ENCODE__ = False\n",
    "\n",
    "# CONFIG\n",
    "# pd.options.display.float_format = '${:,.2f}'.format"
   ],
   "metadata": {
    "collapsed": false,
    "pycharm": {
     "name": "#%%\n"
    }
   }
  },
  {
   "cell_type": "markdown",
   "source": [
    "### FUNCTIONS"
   ],
   "metadata": {
    "collapsed": false
   }
  },
  {
   "cell_type": "code",
   "execution_count": 3,
   "outputs": [],
   "source": [
    "def one_hot_encode(dataframe: pd.DataFrame, column_name: str) -> pd.DataFrame:\n",
    "    _dummy_dataset = pd.get_dummies(dataframe[column_name], prefix=column_name)\n",
    "    return pd.concat([dataframe, _dummy_dataset], axis=1).drop([column_name], axis=1)\n",
    "\n",
    "\n",
    "def encode_dataframe(dataframe: pd.DataFrame) -> pd.DataFrame:\n",
    "    cat_columns = [col for col in dataframe.select_dtypes(exclude=[np.number, \"datetime\"]).columns]\n",
    "    print(f\"columns to encode: {cat_columns}\")\n",
    "\n",
    "    print(f\"dataframe before one-hot encoding: {dataframe.shape}\")\n",
    "    for cat_col in cat_columns:\n",
    "        dataframe = one_hot_encode(dataframe, cat_col)\n",
    "\n",
    "    print(f\"dataframe after one-hot encoding:  {dataframe.shape}\")\n",
    "    return dataframe\n",
    "\n",
    "\n",
    "def export_to_csv(dataframe: pd.DataFrame, filename: str, path: str = __INTERIM_DATA_PATH__):\n",
    "    exported_path = f\"{path}/{filename}.csv\"\n",
    "    dataframe.to_csv(exported_path)\n",
    "    print(f\"Dataframe exported to {exported_path}\")\n",
    "\n",
    "\n",
    "def predict_salaries(dataframe: pd.DataFrame) -> pd.DataFrame:\n",
    "    \"\"\"\n",
    "    predict the salary of clients who have NAN salaries using KNNImputer,\n",
    "    based on the closest values as a function of age\n",
    "    :param dataframe: dataframe to used\n",
    "    :return: salary_df\n",
    "    \"\"\"\n",
    "    _salary = dataframe.copy(deep=True).groupby(\"pk_cid\").agg(\n",
    "        age=(\"age\", np.max),\n",
    "        salary=(\"salary\", np.mean),\n",
    "    ).sort_values(\"age\")\n",
    "    _salary.reset_index(inplace=True)\n",
    "\n",
    "    columns_to_evaluate = [\"age\", \"salary\"]\n",
    "\n",
    "    is_null_condition = _salary[\"salary\"].isnull()\n",
    "    is_outlier_condition = _salary[\"salary\"] <= np.quantile(_salary[_salary[\"salary\"].notnull()][\"salary\"], q=0.99)\n",
    "    salary_train_df = _salary[is_null_condition | is_outlier_condition]\n",
    "\n",
    "    print(\"Predicting salary...\")\n",
    "    imputer = KNNImputer(n_neighbors=2)\n",
    "    imputer.fit(salary_train_df[columns_to_evaluate])\n",
    "    prediction = imputer.transform(_salary[columns_to_evaluate])\n",
    "    salary_predict = pd.DataFrame(prediction, columns=[\"age\", \"salary_prediction\"])\n",
    "\n",
    "    _salary[\"knn_salary\"] = salary_predict[\"salary_prediction\"]\n",
    "    return _salary"
   ],
   "metadata": {
    "collapsed": false,
    "pycharm": {
     "name": "#%%\n"
    }
   }
  },
  {
   "cell_type": "markdown",
   "source": [
    "## Import data"
   ],
   "metadata": {
    "collapsed": false,
    "pycharm": {
     "name": "#%% md\n"
    }
   }
  },
  {
   "cell_type": "code",
   "execution_count": 4,
   "outputs": [
    {
     "name": "stdout",
     "output_type": "stream",
     "text": [
      "* products_df loaded           *  shape: (5962924, 17)\n",
      "* commercial_activity_dfloaded *  shape: (5962924, 6)\n",
      "* sociodemographic_df loaded   *  shape: (5962924, 8)\n"
     ]
    }
   ],
   "source": [
    "# Load products_df\n",
    "products_df = pd.read_csv(f\"{__RAW_DATA_PATH__}/products_df.csv\")\n",
    "del (products_df[\"Unnamed: 0\"])\n",
    "print(f\"* products_df loaded           *  shape: {products_df.shape}\")\n",
    "\n",
    "# Load commercial_activity_df\n",
    "commercial_activity_df = pd.read_csv(f\"{__RAW_DATA_PATH__}/commercial_activity_df.csv\")\n",
    "del (commercial_activity_df[\"Unnamed: 0\"])\n",
    "print(f\"* commercial_activity_dfloaded *  shape: {commercial_activity_df.shape}\")\n",
    "\n",
    "# Load sociodemographic_df\n",
    "sociodemographic_df = pd.read_csv(f\"{__RAW_DATA_PATH__}/sociodemographic_df.csv\")\n",
    "del (sociodemographic_df[\"Unnamed: 0\"])\n",
    "print(f\"* sociodemographic_df loaded   *  shape: {sociodemographic_df.shape}\")"
   ],
   "metadata": {
    "collapsed": false,
    "pycharm": {
     "name": "#%%\n"
    }
   }
  },
  {
   "cell_type": "markdown",
   "source": [
    "## Merge Dataframes"
   ],
   "metadata": {
    "collapsed": false,
    "pycharm": {
     "name": "#%% md\n"
    }
   }
  },
  {
   "cell_type": "code",
   "execution_count": 5,
   "outputs": [
    {
     "name": "stdout",
     "output_type": "stream",
     "text": [
      "* Dataframes merged *  shape: (5962924, 27)\n"
     ]
    }
   ],
   "source": [
    "_df = pd.merge(left=commercial_activity_df, right=sociodemographic_df, how=\"inner\", on=[\"pk_cid\", \"pk_partition\"])\n",
    "df = pd.merge(left=_df, right=products_df, how=\"inner\", on=[\"pk_cid\", \"pk_partition\"])\n",
    "print(f\"* Dataframes merged *  shape: {df.shape}\")"
   ],
   "metadata": {
    "collapsed": false,
    "pycharm": {
     "name": "#%%\n"
    }
   }
  },
  {
   "cell_type": "markdown",
   "source": [
    "## Data Preprocessing"
   ],
   "metadata": {
    "collapsed": false,
    "pycharm": {
     "name": "#%% md\n"
    }
   }
  },
  {
   "cell_type": "code",
   "execution_count": 6,
   "outputs": [],
   "source": [
    "df_prep = df.copy(deep=True)"
   ],
   "metadata": {
    "collapsed": false,
    "pycharm": {
     "name": "#%%\n"
    }
   }
  },
  {
   "cell_type": "markdown",
   "source": [
    "##### pk_partition"
   ],
   "metadata": {
    "collapsed": false
   }
  },
  {
   "cell_type": "code",
   "execution_count": 7,
   "outputs": [],
   "source": [
    "df_prep[\"pk_partition\"] = pd.to_datetime(df_prep[\"pk_partition\"])"
   ],
   "metadata": {
    "collapsed": false,
    "pycharm": {
     "name": "#%%\n"
    }
   }
  },
  {
   "cell_type": "markdown",
   "source": [
    "##### entry_date"
   ],
   "metadata": {
    "collapsed": false
   }
  },
  {
   "cell_type": "code",
   "execution_count": 8,
   "outputs": [],
   "source": [
    "# Obteníamos un error al convertir nuestra variable a fecha debido a las fechas correspondientes\n",
    "# al 29 de Febrero de los años 2015 y 2019 puesto que no existen.\n",
    "# Por este motivo, decidimos reemplazar estos valores por la fecha más cercana (día anterior)\n",
    "df_prep[\"entry_date\"] = df_prep[\"entry_date\"].replace(\"2015-02-29\", \"2015-02-28\")\n",
    "df_prep[\"entry_date\"] = df_prep[\"entry_date\"].replace(\"2019-02-29\", \"2019-02-28\")\n",
    "\n",
    "df_prep[\"entry_date\"] = pd.to_datetime(df_prep[\"entry_date\"])\n",
    "\n",
    "#Generamos atributos extras a partir de entry_date\n",
    "df_prep[\"entry_date_month\"] = df_prep[\"entry_date\"].dt.month.astype(int)\n",
    "df_prep[\"entry_date_year\"] = df_prep[\"entry_date\"].dt.year.astype(int)\n",
    "df_prep[\"entry_date_day\"] = df_prep[\"entry_date\"].dt.day.astype(int)\n",
    "df_prep[\"entry_date_week\"] = df_prep[\"entry_date\"].dt.isocalendar().week.astype(int)\n",
    "df_prep[\"entry_date_weekday\"] = df_prep[\"entry_date\"].dt.weekday.astype(int)\n",
    "df_prep[\"entry_date_trim\"] = df_prep[\"entry_date\"].dt.quarter.astype(int)"
   ],
   "metadata": {
    "collapsed": false,
    "pycharm": {
     "name": "#%%\n"
    }
   }
  },
  {
   "cell_type": "markdown",
   "source": [
    "##### entry_channel"
   ],
   "metadata": {
    "collapsed": false
   }
  },
  {
   "cell_type": "code",
   "execution_count": 9,
   "outputs": [
    {
     "data": {
      "text/plain": "KHE    3113947\nKFC     890620\nKHQ     590280\nKAT     416084\nKHK     230197\n        ...   \nKEJ          8\nKHS          5\nKDA          2\nKFP          2\nKDS          1\nName: entry_channel, Length: 69, dtype: int64"
     },
     "execution_count": 9,
     "metadata": {},
     "output_type": "execute_result"
    }
   ],
   "source": [
    "df_prep[\"entry_channel\"].fillna(\"OTROS\", inplace=True)\n",
    "df_prep[\"entry_channel\"].value_counts(dropna=False)"
   ],
   "metadata": {
    "collapsed": false,
    "pycharm": {
     "name": "#%%\n"
    }
   }
  },
  {
   "cell_type": "markdown",
   "source": [
    "##### active_customer"
   ],
   "metadata": {
    "collapsed": false
   }
  },
  {
   "cell_type": "code",
   "execution_count": 10,
   "outputs": [],
   "source": [
    "df_prep[\"active_customer\"] = df_prep[\"active_customer\"].astype(int)"
   ],
   "metadata": {
    "collapsed": false,
    "pycharm": {
     "name": "#%%\n"
    }
   }
  },
  {
   "cell_type": "markdown",
   "source": [
    "##### segment"
   ],
   "metadata": {
    "collapsed": false,
    "pycharm": {
     "name": "#%% md\n"
    }
   }
  },
  {
   "cell_type": "code",
   "execution_count": 11,
   "outputs": [
    {
     "data": {
      "text/plain": "03 - UNIVERSITARIO    3900166\n02 - PARTICULARES     1830875\n00 - OTROS             133944\n01 - TOP                97939\nName: segment, dtype: int64"
     },
     "execution_count": 11,
     "metadata": {},
     "output_type": "execute_result"
    }
   ],
   "source": [
    "df_prep[\"segment\"].fillna(\"00 - OTROS\", inplace=True)\n",
    "df_prep[\"segment\"].value_counts(dropna=False)"
   ],
   "metadata": {
    "collapsed": false,
    "pycharm": {
     "name": "#%%\n"
    }
   }
  },
  {
   "cell_type": "markdown",
   "source": [
    "##### region_code"
   ],
   "metadata": {
    "collapsed": false,
    "pycharm": {
     "name": "#%% md\n"
    }
   }
  },
  {
   "cell_type": "code",
   "execution_count": 12,
   "outputs": [
    {
     "data": {
      "text/plain": " 28    1185757\n 8      600362\n 46     358142\n 30     296856\n 41     290447\n 15     254891\n 29     187911\n 36     175850\n 3      171358\n 11     160894\n 33     134562\n 50     132983\n 6      122587\n 35     121982\n 47     116948\n 18     102789\n 45     102328\n 37      92538\n 10      83283\n 14      75405\n 2       72071\n 21      72037\n 13      70092\n 39      69589\n 12      68709\n 7       62436\n 32      54639\n 27      52783\n 43      51782\n 17      50749\n 9       47746\n 25      46887\n 16      36094\n 24      35426\n 48      35256\n 26      34790\n 4       32680\n 31      31241\n 49      30965\n 23      30955\n 38      29001\n 34      27545\n 19      26762\n 40      21658\n 5       21300\n 22      21112\n 20      18833\n 1       12999\n 44      12616\n 42       8500\n 51       2896\n 52       2638\n-1        2264\nName: region_code, dtype: int64"
     },
     "execution_count": 12,
     "metadata": {},
     "output_type": "execute_result"
    }
   ],
   "source": [
    "df_prep[\"region_code\"] = df_prep[\"region_code\"].fillna(-1).astype(int)\n",
    "df_prep[\"region_code\"].value_counts(dropna=False)"
   ],
   "metadata": {
    "collapsed": false,
    "pycharm": {
     "name": "#%%\n"
    }
   }
  },
  {
   "cell_type": "markdown",
   "source": [
    "##### gender"
   ],
   "metadata": {
    "collapsed": false,
    "pycharm": {
     "name": "#%% md\n"
    }
   }
  },
  {
   "cell_type": "code",
   "execution_count": 13,
   "outputs": [
    {
     "data": {
      "text/plain": "female        3087502\nmale          2875397\nnon-binary         25\nName: gender, dtype: int64"
     },
     "execution_count": 13,
     "metadata": {},
     "output_type": "execute_result"
    }
   ],
   "source": [
    "df_prep[\"gender\"].fillna(\"non-binary\", inplace=True)\n",
    "df_prep[\"gender\"].replace(\"H\", \"female\", inplace=True)\n",
    "df_prep[\"gender\"].replace(\"V\", \"male\", inplace=True)\n",
    "df_prep[\"gender\"].value_counts(dropna=False)"
   ],
   "metadata": {
    "collapsed": false,
    "pycharm": {
     "name": "#%%\n"
    }
   }
  },
  {
   "cell_type": "markdown",
   "source": [
    "##### deceased"
   ],
   "metadata": {
    "collapsed": false,
    "pycharm": {
     "name": "#%% md\n"
    }
   }
  },
  {
   "cell_type": "code",
   "execution_count": 14,
   "outputs": [
    {
     "data": {
      "text/plain": "0    5961849\n1       1075\nName: deceased, dtype: int64"
     },
     "execution_count": 14,
     "metadata": {},
     "output_type": "execute_result"
    }
   ],
   "source": [
    "df_prep[\"deceased\"].replace(\"N\", 0, inplace=True)\n",
    "df_prep[\"deceased\"].replace(\"S\", 1, inplace=True)\n",
    "df_prep[\"deceased\"].value_counts()"
   ],
   "metadata": {
    "collapsed": false,
    "pycharm": {
     "name": "#%%\n"
    }
   }
  },
  {
   "cell_type": "markdown",
   "source": [
    "##### salary"
   ],
   "metadata": {
    "collapsed": false,
    "pycharm": {
     "name": "#%% md\n"
    }
   }
  },
  {
   "cell_type": "code",
   "execution_count": 15,
   "outputs": [
    {
     "name": "stdout",
     "output_type": "stream",
     "text": [
      "Predicting salary...\n",
      "salary_df.shape: (456373, 4)\n",
      "Wall time: 59min 37s\n"
     ]
    },
    {
     "data": {
      "text/plain": "      pk_cid  age     salary  knn_salary\n0    1550397    2        NaN   177539.28\n1    1526522    2        NaN   177539.28\n2    1419718    2  178055.85   178055.85\n3    1513456    2        NaN   177539.28\n4    1539094    2        NaN   177539.28\n..       ...  ...        ...         ...\n495  1114054    5  555357.33   555357.33\n496  1519470    5        NaN    93842.22\n497  1548937    5        NaN    93842.22\n498  1298232    5   31383.93    31383.93\n499  1107481    5  138910.02   138910.02\n\n[500 rows x 4 columns]",
      "text/html": "<div>\n<style scoped>\n    .dataframe tbody tr th:only-of-type {\n        vertical-align: middle;\n    }\n\n    .dataframe tbody tr th {\n        vertical-align: top;\n    }\n\n    .dataframe thead th {\n        text-align: right;\n    }\n</style>\n<table border=\"1\" class=\"dataframe\">\n  <thead>\n    <tr style=\"text-align: right;\">\n      <th></th>\n      <th>pk_cid</th>\n      <th>age</th>\n      <th>salary</th>\n      <th>knn_salary</th>\n    </tr>\n  </thead>\n  <tbody>\n    <tr>\n      <th>0</th>\n      <td>1550397</td>\n      <td>2</td>\n      <td>NaN</td>\n      <td>177539.28</td>\n    </tr>\n    <tr>\n      <th>1</th>\n      <td>1526522</td>\n      <td>2</td>\n      <td>NaN</td>\n      <td>177539.28</td>\n    </tr>\n    <tr>\n      <th>2</th>\n      <td>1419718</td>\n      <td>2</td>\n      <td>178055.85</td>\n      <td>178055.85</td>\n    </tr>\n    <tr>\n      <th>3</th>\n      <td>1513456</td>\n      <td>2</td>\n      <td>NaN</td>\n      <td>177539.28</td>\n    </tr>\n    <tr>\n      <th>4</th>\n      <td>1539094</td>\n      <td>2</td>\n      <td>NaN</td>\n      <td>177539.28</td>\n    </tr>\n    <tr>\n      <th>...</th>\n      <td>...</td>\n      <td>...</td>\n      <td>...</td>\n      <td>...</td>\n    </tr>\n    <tr>\n      <th>495</th>\n      <td>1114054</td>\n      <td>5</td>\n      <td>555357.33</td>\n      <td>555357.33</td>\n    </tr>\n    <tr>\n      <th>496</th>\n      <td>1519470</td>\n      <td>5</td>\n      <td>NaN</td>\n      <td>93842.22</td>\n    </tr>\n    <tr>\n      <th>497</th>\n      <td>1548937</td>\n      <td>5</td>\n      <td>NaN</td>\n      <td>93842.22</td>\n    </tr>\n    <tr>\n      <th>498</th>\n      <td>1298232</td>\n      <td>5</td>\n      <td>31383.93</td>\n      <td>31383.93</td>\n    </tr>\n    <tr>\n      <th>499</th>\n      <td>1107481</td>\n      <td>5</td>\n      <td>138910.02</td>\n      <td>138910.02</td>\n    </tr>\n  </tbody>\n</table>\n<p>500 rows × 4 columns</p>\n</div>"
     },
     "execution_count": 15,
     "metadata": {},
     "output_type": "execute_result"
    }
   ],
   "source": [
    "%%time\n",
    "if __PREDICT_SALARY__:\n",
    "    salary_df = predict_salaries(df_prep)\n",
    "    salary_df.to_csv(f\"{__INTERIM_DATA_PATH__}/salary_df.csv\")\n",
    "else:\n",
    "    salary_df = pd.read_csv(f\"{__INTERIM_DATA_PATH__}/salary_df.csv\", index_col=0)\n",
    "\n",
    "print(f\"salary_df.shape: {salary_df.shape}\")\n",
    "salary_df.head(500)"
   ],
   "metadata": {
    "collapsed": false,
    "pycharm": {
     "name": "#%%\n"
    }
   }
  },
  {
   "cell_type": "code",
   "execution_count": 16,
   "outputs": [],
   "source": [
    "salaries_reshaped = pd.merge(\n",
    "    left=df_prep[[\"pk_cid\", \"salary\"]],\n",
    "    right=salary_df[[\"pk_cid\", \"knn_salary\"]],\n",
    "    on=\"pk_cid\",\n",
    "    how=\"left\"\n",
    ")\n",
    "df_prep[\"salary\"] = df_prep[\"salary\"].fillna(salaries_reshaped[\"knn_salary\"])"
   ],
   "metadata": {
    "collapsed": false,
    "pycharm": {
     "name": "#%%\n"
    }
   }
  },
  {
   "cell_type": "markdown",
   "source": [
    "##### payroll and payroll_account"
   ],
   "metadata": {
    "collapsed": false,
    "pycharm": {
     "name": "#%% md\n"
    }
   }
  },
  {
   "cell_type": "code",
   "execution_count": 17,
   "outputs": [
    {
     "data": {
      "text/plain": "0    5757076\n1     205787\nName: payroll, dtype: int64"
     },
     "execution_count": 17,
     "metadata": {},
     "output_type": "execute_result"
    }
   ],
   "source": [
    "df_prep.dropna(subset=[\"payroll\", \"payroll_account\"], inplace=True)\n",
    "df_prep[\"payroll\"] = df_prep[\"payroll\"].astype(int)\n",
    "df_prep[\"payroll\"].value_counts(dropna=False)"
   ],
   "metadata": {
    "collapsed": false,
    "pycharm": {
     "name": "#%%\n"
    }
   }
  },
  {
   "cell_type": "markdown",
   "source": [
    "##### pension_plan"
   ],
   "metadata": {
    "collapsed": false,
    "pycharm": {
     "name": "#%% md\n"
    }
   }
  },
  {
   "cell_type": "code",
   "execution_count": 18,
   "outputs": [],
   "source": [
    "df_prep[\"pension_plan\"] = df_prep[\"pension_plan\"].astype(int)"
   ],
   "metadata": {
    "collapsed": false,
    "pycharm": {
     "name": "#%%\n"
    }
   }
  },
  {
   "cell_type": "markdown",
   "source": [
    "## Export Dataframe"
   ],
   "metadata": {
    "collapsed": false
   }
  },
  {
   "cell_type": "code",
   "execution_count": 19,
   "outputs": [],
   "source": [
    "df_prep_not_null = df_prep.copy(deep=True).sort_values([\"pk_cid\", \"pk_partition\"]).reset_index(drop=True)"
   ],
   "metadata": {
    "collapsed": false,
    "pycharm": {
     "name": "#%%\n"
    }
   }
  },
  {
   "cell_type": "code",
   "execution_count": 20,
   "outputs": [
    {
     "name": "stdout",
     "output_type": "stream",
     "text": [
      "columns to encode: ['entry_channel', 'segment', 'country_id', 'gender']\n",
      "dataframe before one-hot encoding: (5962863, 33)\n",
      "dataframe after one-hot encoding:  (5962863, 146)\n",
      "Dataframe exported to ../data/interim/easy_money_prep_1.csv\n",
      "Wall time: 3min 37s\n"
     ]
    }
   ],
   "source": [
    "%%time\n",
    "if __DO_ONE_HOT_ENCODE__:\n",
    "    df_prep_one_hot = encode_dataframe(df_prep_not_null)\n",
    "    export_to_csv(df_prep_one_hot, __OUTPUT_DF_NAME__)\n",
    "else:\n",
    "    export_to_csv(df_prep_not_null, __OUTPUT_DF_NAME__)"
   ],
   "metadata": {
    "collapsed": false,
    "pycharm": {
     "name": "#%%\n"
    }
   }
  }
 ],
 "metadata": {
  "kernelspec": {
   "display_name": "Python 3",
   "language": "python",
   "name": "python3"
  },
  "language_info": {
   "codemirror_mode": {
    "name": "ipython",
    "version": 2
   },
   "file_extension": ".py",
   "mimetype": "text/x-python",
   "name": "python",
   "nbconvert_exporter": "python",
   "pygments_lexer": "ipython2",
   "version": "2.7.6"
  }
 },
 "nbformat": 4,
 "nbformat_minor": 0
}