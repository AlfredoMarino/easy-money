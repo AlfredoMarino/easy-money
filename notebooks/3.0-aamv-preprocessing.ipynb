{
 "cells": [
  {
   "cell_type": "markdown",
   "metadata": {
    "collapsed": true,
    "pycharm": {
     "name": "#%% md\n"
    }
   },
   "source": [
    "# Preprocesado de datos"
   ]
  },
  {
   "cell_type": "code",
   "execution_count": 85,
   "outputs": [],
   "source": [
    "import pandas as pd\n",
    "import numpy as np"
   ],
   "metadata": {
    "collapsed": false,
    "pycharm": {
     "name": "#%%\n"
    }
   }
  },
  {
   "cell_type": "code",
   "execution_count": 86,
   "outputs": [],
   "source": [
    "__RAW_DATA_PATH__ = \"../data/raw\"\n",
    "__INTERIM_DATA_PATH__ = \"../data/interim\""
   ],
   "metadata": {
    "collapsed": false,
    "pycharm": {
     "name": "#%%\n"
    }
   }
  },
  {
   "cell_type": "markdown",
   "source": [
    "## Import data"
   ],
   "metadata": {
    "collapsed": false,
    "pycharm": {
     "name": "#%% md\n"
    }
   }
  },
  {
   "cell_type": "code",
   "execution_count": 87,
   "outputs": [
    {
     "name": "stdout",
     "output_type": "stream",
     "text": [
      "* products_df loaded           *  shape: (5962924, 17)\n",
      "* commercial_activity_dfloaded *  shape: (5962924, 6)\n",
      "* sociodemographic_df loaded   *  shape: (5962924, 8)\n"
     ]
    }
   ],
   "source": [
    "# Load products_df\n",
    "products_df = pd.read_csv(f\"{__RAW_DATA_PATH__}/products_df.csv\")\n",
    "del (products_df[\"Unnamed: 0\"])\n",
    "print(f\"* products_df loaded           *  shape: {products_df.shape}\")\n",
    "\n",
    "# Load commercial_activity_df\n",
    "commercial_activity_df = pd.read_csv(f\"{__RAW_DATA_PATH__}/commercial_activity_df.csv\")\n",
    "del (commercial_activity_df[\"Unnamed: 0\"])\n",
    "print(f\"* commercial_activity_dfloaded *  shape: {commercial_activity_df.shape}\")\n",
    "\n",
    "# Load sociodemographic_df\n",
    "sociodemographic_df = pd.read_csv(f\"{__RAW_DATA_PATH__}/sociodemographic_df.csv\")\n",
    "del (sociodemographic_df[\"Unnamed: 0\"])\n",
    "print(f\"* sociodemographic_df loaded   *  shape: {sociodemographic_df.shape}\")"
   ],
   "metadata": {
    "collapsed": false,
    "pycharm": {
     "name": "#%%\n"
    }
   }
  },
  {
   "cell_type": "markdown",
   "source": [
    "## Merge Dataframes"
   ],
   "metadata": {
    "collapsed": false,
    "pycharm": {
     "name": "#%% md\n"
    }
   }
  },
  {
   "cell_type": "code",
   "execution_count": 88,
   "outputs": [
    {
     "name": "stdout",
     "output_type": "stream",
     "text": [
      "* Dataframes merged *  shape: (5962924, 27)\n"
     ]
    }
   ],
   "source": [
    "_df = pd.merge(left=commercial_activity_df, right=sociodemographic_df, how=\"inner\", on=[\"pk_cid\", \"pk_partition\"])\n",
    "df = pd.merge(left=_df, right=products_df, how=\"inner\", on=[\"pk_cid\", \"pk_partition\"])\n",
    "print(f\"* Dataframes merged *  shape: {df.shape}\")"
   ],
   "metadata": {
    "collapsed": false,
    "pycharm": {
     "name": "#%%\n"
    }
   }
  },
  {
   "cell_type": "markdown",
   "source": [
    "## Data Preprocessing"
   ],
   "metadata": {
    "collapsed": false,
    "pycharm": {
     "name": "#%% md\n"
    }
   }
  },
  {
   "cell_type": "code",
   "execution_count": 89,
   "outputs": [],
   "source": [
    "df_prep = df.copy(deep=True)"
   ],
   "metadata": {
    "collapsed": false,
    "pycharm": {
     "name": "#%%\n"
    }
   }
  },
  {
   "cell_type": "markdown",
   "source": [
    "##### pk_partition"
   ],
   "metadata": {
    "collapsed": false,
    "pycharm": {
     "name": "#%% md\n"
    }
   }
  },
  {
   "cell_type": "code",
   "execution_count": 90,
   "outputs": [],
   "source": [
    "df_prep[\"pk_partition\"] = pd.to_datetime(df_prep[\"pk_partition\"])"
   ],
   "metadata": {
    "collapsed": false,
    "pycharm": {
     "name": "#%%\n"
    }
   }
  },
  {
   "cell_type": "markdown",
   "source": [
    "##### entry_date"
   ],
   "metadata": {
    "collapsed": false,
    "pycharm": {
     "name": "#%% md\n"
    }
   }
  },
  {
   "cell_type": "code",
   "execution_count": 91,
   "outputs": [],
   "source": [
    "# Obteníamos un error al convertir nuestra variable a fecha debido a las fechas correspondientes\n",
    "# al 29 de Febrero de los años 2015 y 2019 puesto que no existen.\n",
    "# Por este motivo, decidimos reemplazar estos valores por la fecha más cercana (día anterior)\n",
    "df_prep[\"entry_date\"] = df_prep[\"entry_date\"].replace(\"2015-02-29\", \"2015-02-28\")\n",
    "df_prep[\"entry_date\"] = df_prep[\"entry_date\"].replace(\"2019-02-29\", \"2019-02-28\")\n",
    "\n",
    "df_prep[\"entry_date\"] = pd.to_datetime(df_prep[\"entry_date\"])"
   ],
   "metadata": {
    "collapsed": false,
    "pycharm": {
     "name": "#%%\n"
    }
   }
  },
  {
   "cell_type": "markdown",
   "source": [
    "##### entry_channel"
   ],
   "metadata": {
    "collapsed": false,
    "pycharm": {
     "name": "#%% md\n"
    }
   }
  },
  {
   "cell_type": "code",
   "execution_count": 92,
   "outputs": [
    {
     "data": {
      "text/plain": "KHE    3113947\nKFC     890620\nKHQ     590280\nKAT     416084\nKHK     230197\n        ...   \nKEJ          8\nKHS          5\nKDA          2\nKFP          2\nKDS          1\nName: entry_channel, Length: 69, dtype: int64"
     },
     "execution_count": 92,
     "metadata": {},
     "output_type": "execute_result"
    }
   ],
   "source": [
    "df_prep[\"entry_channel\"].fillna(\"OTROS\", inplace=True)\n",
    "df_prep[\"entry_channel\"].value_counts(dropna=False)"
   ],
   "metadata": {
    "collapsed": false,
    "pycharm": {
     "name": "#%%\n"
    }
   }
  },
  {
   "cell_type": "markdown",
   "source": [
    "##### active_customer"
   ],
   "metadata": {
    "collapsed": false
   }
  },
  {
   "cell_type": "code",
   "execution_count": 93,
   "outputs": [],
   "source": [
    "df_prep[\"active_customer\"] = df_prep[\"active_customer\"].astype(int)"
   ],
   "metadata": {
    "collapsed": false,
    "pycharm": {
     "name": "#%%\n"
    }
   }
  },
  {
   "cell_type": "markdown",
   "source": [
    "##### segment"
   ],
   "metadata": {
    "collapsed": false,
    "pycharm": {
     "name": "#%% md\n"
    }
   }
  },
  {
   "cell_type": "code",
   "execution_count": 94,
   "outputs": [
    {
     "data": {
      "text/plain": "03 - UNIVERSITARIO    3900166\n02 - PARTICULARES     1830875\n00 - OTROS             133944\n01 - TOP                97939\nName: segment, dtype: int64"
     },
     "execution_count": 94,
     "metadata": {},
     "output_type": "execute_result"
    }
   ],
   "source": [
    "df_prep[\"segment\"].fillna(\"00 - OTROS\", inplace=True)\n",
    "df_prep[\"segment\"].value_counts(dropna=False)"
   ],
   "metadata": {
    "collapsed": false,
    "pycharm": {
     "name": "#%%\n"
    }
   }
  },
  {
   "cell_type": "markdown",
   "source": [
    "##### region_code"
   ],
   "metadata": {
    "collapsed": false,
    "pycharm": {
     "name": "#%% md\n"
    }
   }
  },
  {
   "cell_type": "code",
   "execution_count": 95,
   "outputs": [
    {
     "data": {
      "text/plain": " 28    1185757\n 8      600362\n 46     358142\n 30     296856\n 41     290447\n 15     254891\n 29     187911\n 36     175850\n 3      171358\n 11     160894\n 33     134562\n 50     132983\n 6      122587\n 35     121982\n 47     116948\n 18     102789\n 45     102328\n 37      92538\n 10      83283\n 14      75405\n 2       72071\n 21      72037\n 13      70092\n 39      69589\n 12      68709\n 7       62436\n 32      54639\n 27      52783\n 43      51782\n 17      50749\n 9       47746\n 25      46887\n 16      36094\n 24      35426\n 48      35256\n 26      34790\n 4       32680\n 31      31241\n 49      30965\n 23      30955\n 38      29001\n 34      27545\n 19      26762\n 40      21658\n 5       21300\n 22      21112\n 20      18833\n 1       12999\n 44      12616\n 42       8500\n 51       2896\n 52       2638\n-1        2264\nName: region_code, dtype: int64"
     },
     "execution_count": 95,
     "metadata": {},
     "output_type": "execute_result"
    }
   ],
   "source": [
    "df_prep[\"region_code\"] = df_prep[\"region_code\"].fillna(-1).astype(int)\n",
    "df_prep[\"region_code\"].value_counts(dropna=False)"
   ],
   "metadata": {
    "collapsed": false,
    "pycharm": {
     "name": "#%%\n"
    }
   }
  },
  {
   "cell_type": "markdown",
   "source": [
    "##### gender"
   ],
   "metadata": {
    "collapsed": false,
    "pycharm": {
     "name": "#%% md\n"
    }
   }
  },
  {
   "cell_type": "code",
   "execution_count": 96,
   "outputs": [
    {
     "data": {
      "text/plain": "female        3087502\nmale          2875397\nnon-binary         25\nName: gender, dtype: int64"
     },
     "execution_count": 96,
     "metadata": {},
     "output_type": "execute_result"
    }
   ],
   "source": [
    "df_prep[\"gender\"].fillna(\"non-binary\", inplace=True)\n",
    "df_prep[\"gender\"].replace(\"H\", \"female\", inplace=True)\n",
    "df_prep[\"gender\"].replace(\"V\", \"male\", inplace=True)\n",
    "df_prep[\"gender\"].value_counts(dropna=False)"
   ],
   "metadata": {
    "collapsed": false,
    "pycharm": {
     "name": "#%%\n"
    }
   }
  },
  {
   "cell_type": "markdown",
   "source": [
    "##### deceased"
   ],
   "metadata": {
    "collapsed": false,
    "pycharm": {
     "name": "#%% md\n"
    }
   }
  },
  {
   "cell_type": "code",
   "execution_count": 97,
   "outputs": [
    {
     "data": {
      "text/plain": "0    5961849\n1       1075\nName: deceased, dtype: int64"
     },
     "execution_count": 97,
     "metadata": {},
     "output_type": "execute_result"
    }
   ],
   "source": [
    "df_prep[\"deceased\"].replace(\"N\", 0, inplace=True)\n",
    "df_prep[\"deceased\"].replace(\"S\", 1, inplace=True)\n",
    "df_prep[\"deceased\"].value_counts()"
   ],
   "metadata": {
    "collapsed": false,
    "pycharm": {
     "name": "#%%\n"
    }
   }
  },
  {
   "cell_type": "markdown",
   "source": [
    "##### salary"
   ],
   "metadata": {
    "collapsed": false,
    "pycharm": {
     "name": "#%% md\n"
    }
   }
  },
  {
   "cell_type": "code",
   "execution_count": 98,
   "outputs": [
    {
     "data": {
      "text/plain": "-1.00         1512103\n 451931.22        760\n 288997.44        546\n 135522.15        466\n 128318.52        458\n               ...   \n 188185.68          1\n 37292.10           1\n 59427.63           1\n 179561.43          1\n 71905.29           1\nName: salary, Length: 258630, dtype: int64"
     },
     "execution_count": 98,
     "metadata": {},
     "output_type": "execute_result"
    }
   ],
   "source": [
    "df_prep[\"salary\"].fillna(-1, inplace=True)\n",
    "df_prep[\"salary\"].value_counts(dropna=False)"
   ],
   "metadata": {
    "collapsed": false,
    "pycharm": {
     "name": "#%%\n"
    }
   }
  },
  {
   "cell_type": "markdown",
   "source": [
    "##### payroll and payroll_account"
   ],
   "metadata": {
    "collapsed": false,
    "pycharm": {
     "name": "#%% md\n"
    }
   }
  },
  {
   "cell_type": "code",
   "execution_count": 99,
   "outputs": [
    {
     "data": {
      "text/plain": "0    5757076\n1     205787\nName: payroll, dtype: int64"
     },
     "execution_count": 99,
     "metadata": {},
     "output_type": "execute_result"
    }
   ],
   "source": [
    "df_prep.dropna(subset=[\"payroll\", \"payroll_account\"], inplace=True)\n",
    "df_prep[\"payroll\"] = df_prep[\"payroll\"].astype(int)\n",
    "df_prep[\"payroll\"].value_counts(dropna=False)"
   ],
   "metadata": {
    "collapsed": false,
    "pycharm": {
     "name": "#%%\n"
    }
   }
  },
  {
   "cell_type": "markdown",
   "source": [
    "##### pension_plan"
   ],
   "metadata": {
    "collapsed": false,
    "pycharm": {
     "name": "#%% md\n"
    }
   }
  },
  {
   "cell_type": "code",
   "execution_count": 100,
   "outputs": [],
   "source": [
    "df_prep[\"pension_plan\"] = df_prep[\"pension_plan\"].astype(int)"
   ],
   "metadata": {
    "collapsed": false,
    "pycharm": {
     "name": "#%%\n"
    }
   }
  },
  {
   "cell_type": "markdown",
   "source": [
    "### ONE HOT ENCODING"
   ],
   "metadata": {
    "collapsed": false,
    "pycharm": {
     "name": "#%% md\n"
    }
   }
  },
  {
   "cell_type": "code",
   "execution_count": 102,
   "outputs": [],
   "source": [
    "df_prep_not_null = df_prep.copy(deep=True)"
   ],
   "metadata": {
    "collapsed": false,
    "pycharm": {
     "name": "#%%\n"
    }
   }
  },
  {
   "cell_type": "code",
   "execution_count": 103,
   "outputs": [],
   "source": [
    "def one_hot_encode(dataframe: pd.DataFrame, column_name: str) -> pd.DataFrame:\n",
    "    _dummy_dataset = pd.get_dummies(dataframe[column_name], prefix=column_name)\n",
    "    return pd.concat([dataframe, _dummy_dataset], axis=1).drop([column_name], axis=1)"
   ],
   "metadata": {
    "collapsed": false,
    "pycharm": {
     "name": "#%%\n"
    }
   }
  },
  {
   "cell_type": "code",
   "execution_count": 104,
   "outputs": [
    {
     "name": "stdout",
     "output_type": "stream",
     "text": [
      "columns to encode: ['entry_channel', 'segment', 'country_id', 'gender']\n",
      "df_prep_not_null before one-hot encoding: (5962863, 27)\n",
      "df_prep_not_null after one-hot encoding:  (5962863, 140)\n"
     ]
    }
   ],
   "source": [
    "cat_columns = [col for col in df_prep_not_null.select_dtypes(exclude=[np.number, \"datetime\"]).columns]\n",
    "print(f\"columns to encode: {cat_columns}\")\n",
    "\n",
    "print(f\"df_prep_not_null before one-hot encoding: {df_prep_not_null.shape}\")\n",
    "for cat_col in cat_columns:\n",
    "    df_prep_not_null = one_hot_encode(df_prep_not_null, cat_col)\n",
    "\n",
    "print(f\"df_prep_not_null after one-hot encoding:  {df_prep_not_null.shape}\")"
   ],
   "metadata": {
    "collapsed": false,
    "pycharm": {
     "name": "#%%\n"
    }
   }
  },
  {
   "cell_type": "markdown",
   "source": [
    "## Export Dataframe"
   ],
   "metadata": {
    "collapsed": false,
    "pycharm": {
     "name": "#%% md\n"
    }
   }
  },
  {
   "cell_type": "code",
   "execution_count": 107,
   "outputs": [],
   "source": [
    "def export_to_csv(dataframe: pd.DataFrame, filename: str, path: str = __INTERIM_DATA_PATH__):\n",
    "    exported_path = f\"{path}/{filename}.csv\"\n",
    "    dataframe.to_csv(exported_path)\n",
    "    print(f\"Dataframe exported to {exported_path}\")"
   ],
   "metadata": {
    "collapsed": false,
    "pycharm": {
     "name": "#%%\n"
    }
   }
  },
  {
   "cell_type": "code",
   "execution_count": 108,
   "outputs": [
    {
     "name": "stdout",
     "output_type": "stream",
     "text": [
      "Dataframe exported to ../data/interim/easy_money_preprocessed_df.csv\n"
     ]
    }
   ],
   "source": [
    "export_to_csv(df_prep_not_null, \"easy_money_preprocessed_df\")"
   ],
   "metadata": {
    "collapsed": false,
    "pycharm": {
     "name": "#%%\n"
    }
   }
  }
 ],
 "metadata": {
  "kernelspec": {
   "display_name": "Python 3",
   "language": "python",
   "name": "python3"
  },
  "language_info": {
   "codemirror_mode": {
    "name": "ipython",
    "version": 2
   },
   "file_extension": ".py",
   "mimetype": "text/x-python",
   "name": "python",
   "nbconvert_exporter": "python",
   "pygments_lexer": "ipython2",
   "version": "2.7.6"
  }
 },
 "nbformat": 4,
 "nbformat_minor": 0
}