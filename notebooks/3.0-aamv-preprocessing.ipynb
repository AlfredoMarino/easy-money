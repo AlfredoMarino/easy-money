{
 "cells": [
  {
   "cell_type": "markdown",
   "metadata": {
    "collapsed": true,
    "pycharm": {
     "name": "#%% md\n"
    }
   },
   "source": [
    "# Preprocesado de datos"
   ]
  },
  {
   "cell_type": "code",
   "execution_count": 1,
   "outputs": [],
   "source": [
    "import pandas as pd\n",
    "import numpy as np"
   ],
   "metadata": {
    "collapsed": false,
    "pycharm": {
     "name": "#%%\n"
    }
   }
  },
  {
   "cell_type": "code",
   "execution_count": 16,
   "outputs": [],
   "source": [
    "__RAW_DATA_PATH__ = \"../data/raw\"\n",
    "__INTERIM_DATA_PATH__ = \"../data/interim\""
   ],
   "metadata": {
    "collapsed": false,
    "pycharm": {
     "name": "#%%\n"
    }
   }
  },
  {
   "cell_type": "markdown",
   "source": [
    "## Import data"
   ],
   "metadata": {
    "collapsed": false,
    "pycharm": {
     "name": "#%% md\n"
    }
   }
  },
  {
   "cell_type": "code",
   "execution_count": 17,
   "outputs": [
    {
     "name": "stdout",
     "output_type": "stream",
     "text": [
      "* products_df loaded           *  shape: (5962924, 17)\n",
      "* commercial_activity_dfloaded *  shape: (5962924, 6)\n",
      "* sociodemographic_df loaded   *  shape: (5962924, 8)\n"
     ]
    }
   ],
   "source": [
    "# Load products_df\n",
    "products_df = pd.read_csv(f\"{__RAW_DATA_PATH__}/products_df.csv\")\n",
    "del (products_df[\"Unnamed: 0\"])\n",
    "print(f\"* products_df loaded           *  shape: {products_df.shape}\")\n",
    "\n",
    "# Load commercial_activity_df\n",
    "commercial_activity_df = pd.read_csv(f\"{__RAW_DATA_PATH__}/commercial_activity_df.csv\")\n",
    "del (commercial_activity_df[\"Unnamed: 0\"])\n",
    "print(f\"* commercial_activity_dfloaded *  shape: {commercial_activity_df.shape}\")\n",
    "\n",
    "# Load sociodemographic_df\n",
    "sociodemographic_df = pd.read_csv(f\"{__RAW_DATA_PATH__}/sociodemographic_df.csv\")\n",
    "del (sociodemographic_df[\"Unnamed: 0\"])\n",
    "print(f\"* sociodemographic_df loaded   *  shape: {sociodemographic_df.shape}\")"
   ],
   "metadata": {
    "collapsed": false,
    "pycharm": {
     "name": "#%%\n"
    }
   }
  },
  {
   "cell_type": "markdown",
   "source": [
    "## Merge Dataframes"
   ],
   "metadata": {
    "collapsed": false,
    "pycharm": {
     "name": "#%% md\n"
    }
   }
  },
  {
   "cell_type": "code",
   "execution_count": 18,
   "outputs": [
    {
     "name": "stdout",
     "output_type": "stream",
     "text": [
      "* Dataframes merged *  shape: (5962924, 27)\n"
     ]
    }
   ],
   "source": [
    "_df = pd.merge(left=commercial_activity_df, right=sociodemographic_df, how=\"inner\", on=[\"pk_cid\", \"pk_partition\"])\n",
    "df = pd.merge(left=_df, right=products_df, how=\"inner\", on=[\"pk_cid\", \"pk_partition\"])\n",
    "print(f\"* Dataframes merged *  shape: {df.shape}\")"
   ],
   "metadata": {
    "collapsed": false,
    "pycharm": {
     "name": "#%%\n"
    }
   }
  },
  {
   "cell_type": "markdown",
   "source": [
    "## Export Dataframe"
   ],
   "metadata": {
    "collapsed": false,
    "pycharm": {
     "name": "#%% md\n"
    }
   }
  },
  {
   "cell_type": "code",
   "execution_count": 19,
   "outputs": [
    {
     "name": "stdout",
     "output_type": "stream",
     "text": [
      "Dataframe exported to ../data/interim/easy_money_preprocessed_df.csv\n"
     ]
    }
   ],
   "source": [
    "exported_path = f\"{__INTERIM_DATA_PATH__}/easy_money_preprocessed_df.csv\"\n",
    "df.to_csv(exported_path)\n",
    "print(f\"Dataframe exported to {exported_path}\")"
   ],
   "metadata": {
    "collapsed": false,
    "pycharm": {
     "name": "#%%\n"
    }
   }
  },
  {
   "cell_type": "code",
   "execution_count": null,
   "outputs": [],
   "source": [],
   "metadata": {
    "collapsed": false,
    "pycharm": {
     "name": "#%%\n"
    }
   }
  }
 ],
 "metadata": {
  "kernelspec": {
   "display_name": "Python 3",
   "language": "python",
   "name": "python3"
  },
  "language_info": {
   "codemirror_mode": {
    "name": "ipython",
    "version": 2
   },
   "file_extension": ".py",
   "mimetype": "text/x-python",
   "name": "python",
   "nbconvert_exporter": "python",
   "pygments_lexer": "ipython2",
   "version": "2.7.6"
  }
 },
 "nbformat": 4,
 "nbformat_minor": 0
}